{
 "cells": [
  {
   "cell_type": "code",
   "execution_count": 8,
   "metadata": {},
   "outputs": [],
   "source": [
    "import glob\n",
    "import plotly.express as px\n",
    "import pandas as pd\n"
   ]
  },
  {
   "cell_type": "code",
   "execution_count": 9,
   "metadata": {},
   "outputs": [],
   "source": [
    "max_depth = 32\n",
    "run_trimmed = True\n",
    "\n",
    "kraken_data = {}\n",
    "\n",
    "files = glob.glob(\"outputs/*/kraken2/*.kreport\")\n",
    "files.sort()\n",
    "\n",
    "# work through all of the kraken stuff\n",
    "for fname in files:\n",
    "    with open(fname, 'r') as f:\n",
    "        data = f.read().split(\"\\n\") # split data into separate rows\n",
    "        parsed_data = {}\n",
    "        \n",
    "        curr_tag = ['-' for i in range(0, max_depth)]\n",
    "        for i in data:\n",
    "            curr_row = i.split(\"\\t\") # the data within rows is tab-delimited\n",
    "\n",
    "            # create a tag structure\n",
    "            curr_n = curr_row[-1].split(\"  \")\n",
    "    \n",
    "            if curr_n[-1] != '': # skip rows w-out taxon names (mostly to deal w empty entries)\n",
    "                try:\n",
    "                    curr_tag[len(curr_n)-1] = curr_n[-1]\n",
    "                except:\n",
    "                    print(curr_n) # just a contingency to see when we end up deeper than expected\n",
    "                    \n",
    "                for j in range(len(curr_n), max_depth):\n",
    "                    curr_tag[j] = '-'\n",
    "                    \n",
    "                # extract the percentage of aligned reads\n",
    "                #parsed_data['\\t'.join(curr_tag)] = curr_row[0].replace(\" \", \"\")\n",
    "                parsed_data['\\t'.join(curr_tag)] = curr_row[1].replace(\" \", \"\")\n",
    "                #parsed_data['\\t'.join(curr_tag)] = curr_row[2].replace(\" \", \"\")\n",
    "                \n",
    "        kraken_data[fname.split(\"/\")[-3]] = dict(parsed_data)\n",
    " "
   ]
  },
  {
   "cell_type": "code",
   "execution_count": 10,
   "metadata": {},
   "outputs": [],
   "source": [
    "# trim down to a specific level for visualization purposes\n",
    "if run_trimmed:\n",
    "    target_level = 5\n",
    "\n",
    "    kraken_tmp = {}\n",
    "\n",
    "    for s, sv in kraken_data.items():\n",
    "        if \"_dm\" in s:\n",
    "            kraken_tmp[s] = kraken_data[s]\n",
    "        else:\n",
    "            kraken_tmp[s] = {}\n",
    "\n",
    "            for k, v in sv.items():\n",
    "                tmp_k = k.split(\"\\t\")\n",
    "\n",
    "                if tmp_k[target_level] != \"-\" and tmp_k[target_level+1] == \"-\":\n",
    "                    kraken_tmp[s][tmp_k[target_level]] = v\n",
    "\n",
    "    kraken_data = kraken_tmp\n",
    "    "
   ]
  },
  {
   "cell_type": "code",
   "execution_count": 11,
   "metadata": {},
   "outputs": [],
   "source": [
    "# now to organize in a way that keeps a logical order intact\n",
    "keylist = []\n",
    "\n",
    "for k, e in kraken_data.items():\n",
    "    for s, l in e.items():\n",
    "        keylist.append(s) # just joining it up to make filtering duplicates out easier\n",
    "        \n",
    "keylist = [x.split('\\t') for x in list(set(keylist))]\n",
    "     \n",
    "if not run_trimmed:\n",
    "    for i in range(1, max_depth+1):\n",
    "        keylist = sorted(keylist, key=lambda x: x[-i]) # need to sort it starting from the right col to keep it from re-sorting everything\n",
    "    "
   ]
  },
  {
   "cell_type": "code",
   "execution_count": 12,
   "metadata": {},
   "outputs": [],
   "source": [
    "with open('kraken2.csv', 'w') as f:\n",
    "    kraken_keys = list(kraken_data.keys())\n",
    "    f.write(\",\".join(['' for i in range(0, max_depth)]+kraken_keys)+\"\\n\")\n",
    "\n",
    "    for kl in keylist: # work through all of sorted rows \n",
    "        tmp_row = list(kl)\n",
    "        tmp_key = '\\t'.join(kl)\n",
    "        \n",
    "        for s in kraken_keys:\n",
    "            if tmp_key in kraken_data[s]:\n",
    "                tmp_row.append(kraken_data[s][tmp_key])\n",
    "            else:\n",
    "                tmp_row.append('NaN')\n",
    "    \n",
    "        f.write(\",\".join([str(s) for s in tmp_row])+\"\\n\")\n",
    "        "
   ]
  },
  {
   "cell_type": "code",
   "execution_count": 13,
   "metadata": {},
   "outputs": [],
   "source": [
    "# data as stacked bar charts\n",
    "data = {\n",
    "    \"Organism\": [],\n",
    "    \"Read Count\": [],\n",
    "    \"Sample\": []\n",
    "}\n",
    "samples = []\n",
    "min_reads = 0\n",
    "total_others = []\n",
    "\n",
    "with open('kraken2.csv', 'r') as f:\n",
    "    raw_data = f.read().split(\"\\n\")\n",
    "    \n",
    "    samples = [\"Sample \"+x for x in raw_data[0].split(\",\") if x != \"\"]\n",
    "    for s in samples:\n",
    "        total_others.append(0)\n",
    "    \n",
    "    for r in raw_data[1:]:\n",
    "        do_add = False\n",
    "        tmp_new = [0 for s in samples]\n",
    "        \n",
    "        tmp_r = r.split(\",\")\n",
    "        if len(tmp_r) > 1: # dealing with the last row\n",
    "            org = \"|\".join([x for x in tmp_r[:-len(samples)] if x != \"-\"])\n",
    "\n",
    "            for i in range(0, len(samples)):\n",
    "                tmp_new[i] = tmp_r[-len(samples)+i]\n",
    "                \n",
    "                if tmp_new[i] != \"NaN\" and int(tmp_new[i]) >= min_reads:\n",
    "                    do_add = True\n",
    "                \n",
    "            if do_add:\n",
    "                for i in range(0, len(samples)):\n",
    "                    data[\"Organism\"].append(org)\n",
    "                    data[\"Read Count\"].append(tmp_new[i])\n",
    "                    data[\"Sample\"].append(samples[i])\n",
    "            else:\n",
    "                for i in range(0, len(samples)):\n",
    "                    if tmp_new[i] != \"NaN\":\n",
    "                        total_others[i] += int(tmp_new[i])\n",
    "    \n",
    "for i in range(0, len(samples)):\n",
    "    data[\"Organism\"].append(\"other\")\n",
    "    data[\"Read Count\"].append(total_others[i])\n",
    "    data[\"Sample\"].append(samples[i])\n",
    "    \n",
    "df = pd.DataFrame.from_dict(data)\n",
    "df[\"Read Count\"] = df[\"Read Count\"].astype(float)\n"
   ]
  },
  {
   "cell_type": "code",
   "execution_count": 14,
   "metadata": {},
   "outputs": [
    {
     "data": {
      "application/vnd.plotly.v1+json": {
       "config": {
        "plotlyServerURL": "https://plot.ly"
       },
       "data": [
        {
         "alignmentgroup": "True",
         "hovertemplate": "Organism=Negativicutes<br>Sample=%{x}<br>Read Count=%{y}<extra></extra>",
         "legendgroup": "Negativicutes",
         "marker": {
          "color": "#636efa"
         },
         "name": "Negativicutes",
         "offsetgroup": "Negativicutes",
         "orientation": "v",
         "showlegend": true,
         "textposition": "auto",
         "type": "bar",
         "x": [
          "Sample output_dir_100_202007021745",
          "Sample output_dir_100_202007022135",
          "Sample output_dir_100_202007030228",
          "Sample output_dir_100_202007030703",
          "Sample output_dir_101_202007021418",
          "Sample output_dir_101_202007021758",
          "Sample output_dir_101_202007022148",
          "Sample output_dir_101_202007030247",
          "Sample output_dir_101_202007030722",
          "Sample output_dir_103_202007021816",
          "Sample output_dir_103_202007022206",
          "Sample output_dir_103_202007030305",
          "Sample output_dir_103_202007030740",
          "Sample output_dir_104_202007021431",
          "Sample output_dir_104_202007021833",
          "Sample output_dir_104_202007022222",
          "Sample output_dir_104_202007030321",
          "Sample output_dir_104_202007030756",
          "Sample output_dir_13_202007021841",
          "Sample output_dir_13_202007022245",
          "Sample output_dir_13_202007030343",
          "Sample output_dir_13_202007030819",
          "Sample output_dir_14_202007021458",
          "Sample output_dir_14_202007021903",
          "Sample output_dir_14_202007022307",
          "Sample output_dir_14_202007030405",
          "Sample output_dir_14_202007030840",
          "Sample output_dir_15_202007021516",
          "Sample output_dir_15_202007021922",
          "Sample output_dir_15_202007022325",
          "Sample output_dir_15_202007030423",
          "Sample output_dir_16_202007021536",
          "Sample output_dir_16_202007021926",
          "Sample output_dir_16_202007022345",
          "Sample output_dir_16_202007030443",
          "Sample output_dir_16_202007030905",
          "Sample output_dir_1_202007021355",
          "Sample output_dir_1_202007021727",
          "Sample output_dir_1_202007022117",
          "Sample output_dir_1_202007030210",
          "Sample output_dir_1_202007030645",
          "Sample output_dir_2_202007021557",
          "Sample output_dir_2_202007030006",
          "Sample output_dir_2_202007030449",
          "Sample output_dir_2_202007030927",
          "Sample output_dir_3_202007021613",
          "Sample output_dir_3_202007030022",
          "Sample output_dir_3_202007030504",
          "Sample output_dir_3_202007030942",
          "Sample output_dir_4_202007021617",
          "Sample output_dir_4_202007021955",
          "Sample output_dir_4_202007030042",
          "Sample output_dir_4_202007030525",
          "Sample output_dir_4_202007031003",
          "Sample output_dir_97_202007021638",
          "Sample output_dir_97_202007022016",
          "Sample output_dir_97_202007030103",
          "Sample output_dir_97_202007030546",
          "Sample output_dir_97_202007031024",
          "Sample output_dir_98_202007021659",
          "Sample output_dir_98_202007022038",
          "Sample output_dir_98_202007030125",
          "Sample output_dir_98_202007030600",
          "Sample output_dir_98_202007031045",
          "Sample output_dir_99_202007021702",
          "Sample output_dir_99_202007022052",
          "Sample output_dir_99_202007030145",
          "Sample output_dir_99_202007030621",
          "Sample output_dir_99_202007031106"
         ],
         "xaxis": "x",
         "y": [
          32185,
          32185,
          32185,
          32185,
          18723,
          18723,
          18723,
          18723,
          18723,
          8221,
          8221,
          8221,
          8221,
          3129,
          3129,
          3129,
          3129,
          3129,
          413,
          1253,
          1253,
          1253,
          21018,
          21018,
          21018,
          21018,
          21018,
          1733,
          1733,
          1733,
          1733,
          890,
          159,
          890,
          890,
          890,
          15208,
          15208,
          15208,
          15208,
          15208,
          1059,
          1059,
          265,
          1059,
          41679,
          41679,
          41679,
          41679,
          131,
          744,
          744,
          744,
          744,
          35970,
          35970,
          35970,
          35970,
          35970,
          964,
          964,
          964,
          964,
          964,
          6011,
          48085,
          48085,
          48085,
          48085
         ],
         "yaxis": "y"
        },
        {
         "alignmentgroup": "True",
         "hovertemplate": "Organism=Bacteroidetes<br>Sample=%{x}<br>Read Count=%{y}<extra></extra>",
         "legendgroup": "Bacteroidetes",
         "marker": {
          "color": "#EF553B"
         },
         "name": "Bacteroidetes",
         "offsetgroup": "Bacteroidetes",
         "orientation": "v",
         "showlegend": true,
         "textposition": "auto",
         "type": "bar",
         "x": [
          "Sample output_dir_100_202007021745",
          "Sample output_dir_100_202007022135",
          "Sample output_dir_100_202007030228",
          "Sample output_dir_100_202007030703",
          "Sample output_dir_101_202007021418",
          "Sample output_dir_101_202007021758",
          "Sample output_dir_101_202007022148",
          "Sample output_dir_101_202007030247",
          "Sample output_dir_101_202007030722",
          "Sample output_dir_103_202007021816",
          "Sample output_dir_103_202007022206",
          "Sample output_dir_103_202007030305",
          "Sample output_dir_103_202007030740",
          "Sample output_dir_104_202007021431",
          "Sample output_dir_104_202007021833",
          "Sample output_dir_104_202007022222",
          "Sample output_dir_104_202007030321",
          "Sample output_dir_104_202007030756",
          "Sample output_dir_13_202007021841",
          "Sample output_dir_13_202007022245",
          "Sample output_dir_13_202007030343",
          "Sample output_dir_13_202007030819",
          "Sample output_dir_14_202007021458",
          "Sample output_dir_14_202007021903",
          "Sample output_dir_14_202007022307",
          "Sample output_dir_14_202007030405",
          "Sample output_dir_14_202007030840",
          "Sample output_dir_15_202007021516",
          "Sample output_dir_15_202007021922",
          "Sample output_dir_15_202007022325",
          "Sample output_dir_15_202007030423",
          "Sample output_dir_16_202007021536",
          "Sample output_dir_16_202007021926",
          "Sample output_dir_16_202007022345",
          "Sample output_dir_16_202007030443",
          "Sample output_dir_16_202007030905",
          "Sample output_dir_1_202007021355",
          "Sample output_dir_1_202007021727",
          "Sample output_dir_1_202007022117",
          "Sample output_dir_1_202007030210",
          "Sample output_dir_1_202007030645",
          "Sample output_dir_2_202007021557",
          "Sample output_dir_2_202007030006",
          "Sample output_dir_2_202007030449",
          "Sample output_dir_2_202007030927",
          "Sample output_dir_3_202007021613",
          "Sample output_dir_3_202007030022",
          "Sample output_dir_3_202007030504",
          "Sample output_dir_3_202007030942",
          "Sample output_dir_4_202007021617",
          "Sample output_dir_4_202007021955",
          "Sample output_dir_4_202007030042",
          "Sample output_dir_4_202007030525",
          "Sample output_dir_4_202007031003",
          "Sample output_dir_97_202007021638",
          "Sample output_dir_97_202007022016",
          "Sample output_dir_97_202007030103",
          "Sample output_dir_97_202007030546",
          "Sample output_dir_97_202007031024",
          "Sample output_dir_98_202007021659",
          "Sample output_dir_98_202007022038",
          "Sample output_dir_98_202007030125",
          "Sample output_dir_98_202007030600",
          "Sample output_dir_98_202007031045",
          "Sample output_dir_99_202007021702",
          "Sample output_dir_99_202007022052",
          "Sample output_dir_99_202007030145",
          "Sample output_dir_99_202007030621",
          "Sample output_dir_99_202007031106"
         ],
         "xaxis": "x",
         "y": [
          1221212,
          1221212,
          1221212,
          1221212,
          3945823,
          3945823,
          3945823,
          3945823,
          3945823,
          5305148,
          5305148,
          5305148,
          5305148,
          8272283,
          8272283,
          8272283,
          8272283,
          8272283,
          1520152,
          4229241,
          4229241,
          4229241,
          2757040,
          2757040,
          2757040,
          2757040,
          2757040,
          2833771,
          2833771,
          2833771,
          2833771,
          9400837,
          1909975,
          9400837,
          9400837,
          9400837,
          4350812,
          4350812,
          4350812,
          4350812,
          4350812,
          2399982,
          2399982,
          602830,
          2399982,
          3529677,
          3529677,
          3529677,
          3529677,
          1212665,
          6834287,
          6834287,
          6834287,
          6834287,
          4243557,
          4243557,
          4243557,
          4243557,
          4243557,
          5912855,
          5912855,
          5912855,
          5912855,
          5912855,
          343750,
          2582614,
          2582614,
          2582614,
          2582614
         ],
         "yaxis": "y"
        },
        {
         "alignmentgroup": "True",
         "hovertemplate": "Organism=Erysipelotrichia<br>Sample=%{x}<br>Read Count=%{y}<extra></extra>",
         "legendgroup": "Erysipelotrichia",
         "marker": {
          "color": "#00cc96"
         },
         "name": "Erysipelotrichia",
         "offsetgroup": "Erysipelotrichia",
         "orientation": "v",
         "showlegend": true,
         "textposition": "auto",
         "type": "bar",
         "x": [
          "Sample output_dir_100_202007021745",
          "Sample output_dir_100_202007022135",
          "Sample output_dir_100_202007030228",
          "Sample output_dir_100_202007030703",
          "Sample output_dir_101_202007021418",
          "Sample output_dir_101_202007021758",
          "Sample output_dir_101_202007022148",
          "Sample output_dir_101_202007030247",
          "Sample output_dir_101_202007030722",
          "Sample output_dir_103_202007021816",
          "Sample output_dir_103_202007022206",
          "Sample output_dir_103_202007030305",
          "Sample output_dir_103_202007030740",
          "Sample output_dir_104_202007021431",
          "Sample output_dir_104_202007021833",
          "Sample output_dir_104_202007022222",
          "Sample output_dir_104_202007030321",
          "Sample output_dir_104_202007030756",
          "Sample output_dir_13_202007021841",
          "Sample output_dir_13_202007022245",
          "Sample output_dir_13_202007030343",
          "Sample output_dir_13_202007030819",
          "Sample output_dir_14_202007021458",
          "Sample output_dir_14_202007021903",
          "Sample output_dir_14_202007022307",
          "Sample output_dir_14_202007030405",
          "Sample output_dir_14_202007030840",
          "Sample output_dir_15_202007021516",
          "Sample output_dir_15_202007021922",
          "Sample output_dir_15_202007022325",
          "Sample output_dir_15_202007030423",
          "Sample output_dir_16_202007021536",
          "Sample output_dir_16_202007021926",
          "Sample output_dir_16_202007022345",
          "Sample output_dir_16_202007030443",
          "Sample output_dir_16_202007030905",
          "Sample output_dir_1_202007021355",
          "Sample output_dir_1_202007021727",
          "Sample output_dir_1_202007022117",
          "Sample output_dir_1_202007030210",
          "Sample output_dir_1_202007030645",
          "Sample output_dir_2_202007021557",
          "Sample output_dir_2_202007030006",
          "Sample output_dir_2_202007030449",
          "Sample output_dir_2_202007030927",
          "Sample output_dir_3_202007021613",
          "Sample output_dir_3_202007030022",
          "Sample output_dir_3_202007030504",
          "Sample output_dir_3_202007030942",
          "Sample output_dir_4_202007021617",
          "Sample output_dir_4_202007021955",
          "Sample output_dir_4_202007030042",
          "Sample output_dir_4_202007030525",
          "Sample output_dir_4_202007031003",
          "Sample output_dir_97_202007021638",
          "Sample output_dir_97_202007022016",
          "Sample output_dir_97_202007030103",
          "Sample output_dir_97_202007030546",
          "Sample output_dir_97_202007031024",
          "Sample output_dir_98_202007021659",
          "Sample output_dir_98_202007022038",
          "Sample output_dir_98_202007030125",
          "Sample output_dir_98_202007030600",
          "Sample output_dir_98_202007031045",
          "Sample output_dir_99_202007021702",
          "Sample output_dir_99_202007022052",
          "Sample output_dir_99_202007030145",
          "Sample output_dir_99_202007030621",
          "Sample output_dir_99_202007031106"
         ],
         "xaxis": "x",
         "y": [
          7816,
          7816,
          7816,
          7816,
          4848,
          4848,
          4848,
          4848,
          4848,
          8553,
          8553,
          8553,
          8553,
          3203,
          3203,
          3203,
          3203,
          3203,
          5095,
          14404,
          14404,
          14404,
          11094,
          11094,
          11094,
          11094,
          11094,
          30410,
          30410,
          30410,
          30410,
          7937,
          1533,
          7937,
          7937,
          7937,
          12871,
          12871,
          12871,
          12871,
          12871,
          13668,
          13668,
          3486,
          13668,
          6364,
          6364,
          6364,
          6364,
          3854,
          22508,
          22508,
          22508,
          22508,
          14725,
          14725,
          14725,
          14725,
          14725,
          19079,
          19079,
          19079,
          19079,
          19079,
          2319,
          17438,
          17438,
          17438,
          17438
         ],
         "yaxis": "y"
        },
        {
         "alignmentgroup": "True",
         "hovertemplate": "Organism=Actinobacteria<br>Sample=%{x}<br>Read Count=%{y}<extra></extra>",
         "legendgroup": "Actinobacteria",
         "marker": {
          "color": "#ab63fa"
         },
         "name": "Actinobacteria",
         "offsetgroup": "Actinobacteria",
         "orientation": "v",
         "showlegend": true,
         "textposition": "auto",
         "type": "bar",
         "x": [
          "Sample output_dir_100_202007021745",
          "Sample output_dir_100_202007022135",
          "Sample output_dir_100_202007030228",
          "Sample output_dir_100_202007030703",
          "Sample output_dir_101_202007021418",
          "Sample output_dir_101_202007021758",
          "Sample output_dir_101_202007022148",
          "Sample output_dir_101_202007030247",
          "Sample output_dir_101_202007030722",
          "Sample output_dir_103_202007021816",
          "Sample output_dir_103_202007022206",
          "Sample output_dir_103_202007030305",
          "Sample output_dir_103_202007030740",
          "Sample output_dir_104_202007021431",
          "Sample output_dir_104_202007021833",
          "Sample output_dir_104_202007022222",
          "Sample output_dir_104_202007030321",
          "Sample output_dir_104_202007030756",
          "Sample output_dir_13_202007021841",
          "Sample output_dir_13_202007022245",
          "Sample output_dir_13_202007030343",
          "Sample output_dir_13_202007030819",
          "Sample output_dir_14_202007021458",
          "Sample output_dir_14_202007021903",
          "Sample output_dir_14_202007022307",
          "Sample output_dir_14_202007030405",
          "Sample output_dir_14_202007030840",
          "Sample output_dir_15_202007021516",
          "Sample output_dir_15_202007021922",
          "Sample output_dir_15_202007022325",
          "Sample output_dir_15_202007030423",
          "Sample output_dir_16_202007021536",
          "Sample output_dir_16_202007021926",
          "Sample output_dir_16_202007022345",
          "Sample output_dir_16_202007030443",
          "Sample output_dir_16_202007030905",
          "Sample output_dir_1_202007021355",
          "Sample output_dir_1_202007021727",
          "Sample output_dir_1_202007022117",
          "Sample output_dir_1_202007030210",
          "Sample output_dir_1_202007030645",
          "Sample output_dir_2_202007021557",
          "Sample output_dir_2_202007030006",
          "Sample output_dir_2_202007030449",
          "Sample output_dir_2_202007030927",
          "Sample output_dir_3_202007021613",
          "Sample output_dir_3_202007030022",
          "Sample output_dir_3_202007030504",
          "Sample output_dir_3_202007030942",
          "Sample output_dir_4_202007021617",
          "Sample output_dir_4_202007021955",
          "Sample output_dir_4_202007030042",
          "Sample output_dir_4_202007030525",
          "Sample output_dir_4_202007031003",
          "Sample output_dir_97_202007021638",
          "Sample output_dir_97_202007022016",
          "Sample output_dir_97_202007030103",
          "Sample output_dir_97_202007030546",
          "Sample output_dir_97_202007031024",
          "Sample output_dir_98_202007021659",
          "Sample output_dir_98_202007022038",
          "Sample output_dir_98_202007030125",
          "Sample output_dir_98_202007030600",
          "Sample output_dir_98_202007031045",
          "Sample output_dir_99_202007021702",
          "Sample output_dir_99_202007022052",
          "Sample output_dir_99_202007030145",
          "Sample output_dir_99_202007030621",
          "Sample output_dir_99_202007031106"
         ],
         "xaxis": "x",
         "y": [
          422264,
          422264,
          422264,
          422264,
          419853,
          419853,
          419853,
          419853,
          419853,
          554487,
          554487,
          554487,
          554487,
          225349,
          225349,
          225349,
          225349,
          225349,
          22839,
          64719,
          64719,
          64719,
          663328,
          663328,
          663328,
          663328,
          663328,
          155238,
          155238,
          155238,
          155238,
          25875,
          5202,
          25875,
          25875,
          25875,
          715170,
          715170,
          715170,
          715170,
          715170,
          1275416,
          1275416,
          312929,
          1275416,
          34965,
          34965,
          34965,
          34965,
          113985,
          668023,
          668023,
          668023,
          668023,
          90095,
          90095,
          90095,
          90095,
          90095,
          224414,
          224414,
          224414,
          224414,
          224414,
          17797,
          138429,
          138429,
          138429,
          138429
         ],
         "yaxis": "y"
        },
        {
         "alignmentgroup": "True",
         "hovertemplate": "Organism=Enterobacterales<br>Sample=%{x}<br>Read Count=%{y}<extra></extra>",
         "legendgroup": "Enterobacterales",
         "marker": {
          "color": "#FFA15A"
         },
         "name": "Enterobacterales",
         "offsetgroup": "Enterobacterales",
         "orientation": "v",
         "showlegend": true,
         "textposition": "auto",
         "type": "bar",
         "x": [
          "Sample output_dir_100_202007021745",
          "Sample output_dir_100_202007022135",
          "Sample output_dir_100_202007030228",
          "Sample output_dir_100_202007030703",
          "Sample output_dir_101_202007021418",
          "Sample output_dir_101_202007021758",
          "Sample output_dir_101_202007022148",
          "Sample output_dir_101_202007030247",
          "Sample output_dir_101_202007030722",
          "Sample output_dir_103_202007021816",
          "Sample output_dir_103_202007022206",
          "Sample output_dir_103_202007030305",
          "Sample output_dir_103_202007030740",
          "Sample output_dir_104_202007021431",
          "Sample output_dir_104_202007021833",
          "Sample output_dir_104_202007022222",
          "Sample output_dir_104_202007030321",
          "Sample output_dir_104_202007030756",
          "Sample output_dir_13_202007021841",
          "Sample output_dir_13_202007022245",
          "Sample output_dir_13_202007030343",
          "Sample output_dir_13_202007030819",
          "Sample output_dir_14_202007021458",
          "Sample output_dir_14_202007021903",
          "Sample output_dir_14_202007022307",
          "Sample output_dir_14_202007030405",
          "Sample output_dir_14_202007030840",
          "Sample output_dir_15_202007021516",
          "Sample output_dir_15_202007021922",
          "Sample output_dir_15_202007022325",
          "Sample output_dir_15_202007030423",
          "Sample output_dir_16_202007021536",
          "Sample output_dir_16_202007021926",
          "Sample output_dir_16_202007022345",
          "Sample output_dir_16_202007030443",
          "Sample output_dir_16_202007030905",
          "Sample output_dir_1_202007021355",
          "Sample output_dir_1_202007021727",
          "Sample output_dir_1_202007022117",
          "Sample output_dir_1_202007030210",
          "Sample output_dir_1_202007030645",
          "Sample output_dir_2_202007021557",
          "Sample output_dir_2_202007030006",
          "Sample output_dir_2_202007030449",
          "Sample output_dir_2_202007030927",
          "Sample output_dir_3_202007021613",
          "Sample output_dir_3_202007030022",
          "Sample output_dir_3_202007030504",
          "Sample output_dir_3_202007030942",
          "Sample output_dir_4_202007021617",
          "Sample output_dir_4_202007021955",
          "Sample output_dir_4_202007030042",
          "Sample output_dir_4_202007030525",
          "Sample output_dir_4_202007031003",
          "Sample output_dir_97_202007021638",
          "Sample output_dir_97_202007022016",
          "Sample output_dir_97_202007030103",
          "Sample output_dir_97_202007030546",
          "Sample output_dir_97_202007031024",
          "Sample output_dir_98_202007021659",
          "Sample output_dir_98_202007022038",
          "Sample output_dir_98_202007030125",
          "Sample output_dir_98_202007030600",
          "Sample output_dir_98_202007031045",
          "Sample output_dir_99_202007021702",
          "Sample output_dir_99_202007022052",
          "Sample output_dir_99_202007030145",
          "Sample output_dir_99_202007030621",
          "Sample output_dir_99_202007031106"
         ],
         "xaxis": "x",
         "y": [
          9408,
          9408,
          9408,
          9408,
          5027596,
          5027596,
          5027596,
          5027596,
          5027596,
          11954,
          11954,
          11954,
          11954,
          9307,
          9307,
          9307,
          9307,
          9307,
          443295,
          1234768,
          1234768,
          1234768,
          61131,
          61131,
          61131,
          61131,
          61131,
          54388,
          54388,
          54388,
          54388,
          3745,
          807,
          3745,
          3745,
          3745,
          30382,
          30382,
          30382,
          30382,
          30382,
          9029,
          9029,
          2304,
          9029,
          2453,
          2453,
          2453,
          2453,
          840,
          4800,
          4800,
          4800,
          4800,
          51217,
          51217,
          51217,
          51217,
          51217,
          11030,
          11030,
          11030,
          11030,
          11030,
          5140,
          40102,
          40102,
          40102,
          40102
         ],
         "yaxis": "y"
        },
        {
         "alignmentgroup": "True",
         "hovertemplate": "Organism=Clostridia<br>Sample=%{x}<br>Read Count=%{y}<extra></extra>",
         "legendgroup": "Clostridia",
         "marker": {
          "color": "#19d3f3"
         },
         "name": "Clostridia",
         "offsetgroup": "Clostridia",
         "orientation": "v",
         "showlegend": true,
         "textposition": "auto",
         "type": "bar",
         "x": [
          "Sample output_dir_100_202007021745",
          "Sample output_dir_100_202007022135",
          "Sample output_dir_100_202007030228",
          "Sample output_dir_100_202007030703",
          "Sample output_dir_101_202007021418",
          "Sample output_dir_101_202007021758",
          "Sample output_dir_101_202007022148",
          "Sample output_dir_101_202007030247",
          "Sample output_dir_101_202007030722",
          "Sample output_dir_103_202007021816",
          "Sample output_dir_103_202007022206",
          "Sample output_dir_103_202007030305",
          "Sample output_dir_103_202007030740",
          "Sample output_dir_104_202007021431",
          "Sample output_dir_104_202007021833",
          "Sample output_dir_104_202007022222",
          "Sample output_dir_104_202007030321",
          "Sample output_dir_104_202007030756",
          "Sample output_dir_13_202007021841",
          "Sample output_dir_13_202007022245",
          "Sample output_dir_13_202007030343",
          "Sample output_dir_13_202007030819",
          "Sample output_dir_14_202007021458",
          "Sample output_dir_14_202007021903",
          "Sample output_dir_14_202007022307",
          "Sample output_dir_14_202007030405",
          "Sample output_dir_14_202007030840",
          "Sample output_dir_15_202007021516",
          "Sample output_dir_15_202007021922",
          "Sample output_dir_15_202007022325",
          "Sample output_dir_15_202007030423",
          "Sample output_dir_16_202007021536",
          "Sample output_dir_16_202007021926",
          "Sample output_dir_16_202007022345",
          "Sample output_dir_16_202007030443",
          "Sample output_dir_16_202007030905",
          "Sample output_dir_1_202007021355",
          "Sample output_dir_1_202007021727",
          "Sample output_dir_1_202007022117",
          "Sample output_dir_1_202007030210",
          "Sample output_dir_1_202007030645",
          "Sample output_dir_2_202007021557",
          "Sample output_dir_2_202007030006",
          "Sample output_dir_2_202007030449",
          "Sample output_dir_2_202007030927",
          "Sample output_dir_3_202007021613",
          "Sample output_dir_3_202007030022",
          "Sample output_dir_3_202007030504",
          "Sample output_dir_3_202007030942",
          "Sample output_dir_4_202007021617",
          "Sample output_dir_4_202007021955",
          "Sample output_dir_4_202007030042",
          "Sample output_dir_4_202007030525",
          "Sample output_dir_4_202007031003",
          "Sample output_dir_97_202007021638",
          "Sample output_dir_97_202007022016",
          "Sample output_dir_97_202007030103",
          "Sample output_dir_97_202007030546",
          "Sample output_dir_97_202007031024",
          "Sample output_dir_98_202007021659",
          "Sample output_dir_98_202007022038",
          "Sample output_dir_98_202007030125",
          "Sample output_dir_98_202007030600",
          "Sample output_dir_98_202007031045",
          "Sample output_dir_99_202007021702",
          "Sample output_dir_99_202007022052",
          "Sample output_dir_99_202007030145",
          "Sample output_dir_99_202007030621",
          "Sample output_dir_99_202007031106"
         ],
         "xaxis": "x",
         "y": [
          1226607,
          1226607,
          1226607,
          1226607,
          2162353,
          2162353,
          2162353,
          2162353,
          2162353,
          1740507,
          1740507,
          1740507,
          1740507,
          1247320,
          1247320,
          1247320,
          1247320,
          1247320,
          985289,
          2755605,
          2755605,
          2755605,
          724344,
          724344,
          724344,
          724344,
          724344,
          1601688,
          1601688,
          1601688,
          1601688,
          904621,
          180843,
          904621,
          904621,
          904621,
          3071747,
          3071747,
          3071747,
          3071747,
          3071747,
          2639482,
          2639482,
          655700,
          2639482,
          791279,
          791279,
          791279,
          791279,
          197928,
          1131667,
          1131667,
          1131667,
          1131667,
          2160851,
          2160851,
          2160851,
          2160851,
          2160851,
          2396133,
          2396133,
          2396133,
          2396133,
          2396133,
          293116,
          2251294,
          2251294,
          2251294,
          2251294
         ],
         "yaxis": "y"
        },
        {
         "alignmentgroup": "True",
         "hovertemplate": "Organism=Coriobacteriia<br>Sample=%{x}<br>Read Count=%{y}<extra></extra>",
         "legendgroup": "Coriobacteriia",
         "marker": {
          "color": "#FF6692"
         },
         "name": "Coriobacteriia",
         "offsetgroup": "Coriobacteriia",
         "orientation": "v",
         "showlegend": true,
         "textposition": "auto",
         "type": "bar",
         "x": [
          "Sample output_dir_100_202007021745",
          "Sample output_dir_100_202007022135",
          "Sample output_dir_100_202007030228",
          "Sample output_dir_100_202007030703",
          "Sample output_dir_101_202007021418",
          "Sample output_dir_101_202007021758",
          "Sample output_dir_101_202007022148",
          "Sample output_dir_101_202007030247",
          "Sample output_dir_101_202007030722",
          "Sample output_dir_103_202007021816",
          "Sample output_dir_103_202007022206",
          "Sample output_dir_103_202007030305",
          "Sample output_dir_103_202007030740",
          "Sample output_dir_104_202007021431",
          "Sample output_dir_104_202007021833",
          "Sample output_dir_104_202007022222",
          "Sample output_dir_104_202007030321",
          "Sample output_dir_104_202007030756",
          "Sample output_dir_13_202007021841",
          "Sample output_dir_13_202007022245",
          "Sample output_dir_13_202007030343",
          "Sample output_dir_13_202007030819",
          "Sample output_dir_14_202007021458",
          "Sample output_dir_14_202007021903",
          "Sample output_dir_14_202007022307",
          "Sample output_dir_14_202007030405",
          "Sample output_dir_14_202007030840",
          "Sample output_dir_15_202007021516",
          "Sample output_dir_15_202007021922",
          "Sample output_dir_15_202007022325",
          "Sample output_dir_15_202007030423",
          "Sample output_dir_16_202007021536",
          "Sample output_dir_16_202007021926",
          "Sample output_dir_16_202007022345",
          "Sample output_dir_16_202007030443",
          "Sample output_dir_16_202007030905",
          "Sample output_dir_1_202007021355",
          "Sample output_dir_1_202007021727",
          "Sample output_dir_1_202007022117",
          "Sample output_dir_1_202007030210",
          "Sample output_dir_1_202007030645",
          "Sample output_dir_2_202007021557",
          "Sample output_dir_2_202007030006",
          "Sample output_dir_2_202007030449",
          "Sample output_dir_2_202007030927",
          "Sample output_dir_3_202007021613",
          "Sample output_dir_3_202007030022",
          "Sample output_dir_3_202007030504",
          "Sample output_dir_3_202007030942",
          "Sample output_dir_4_202007021617",
          "Sample output_dir_4_202007021955",
          "Sample output_dir_4_202007030042",
          "Sample output_dir_4_202007030525",
          "Sample output_dir_4_202007031003",
          "Sample output_dir_97_202007021638",
          "Sample output_dir_97_202007022016",
          "Sample output_dir_97_202007030103",
          "Sample output_dir_97_202007030546",
          "Sample output_dir_97_202007031024",
          "Sample output_dir_98_202007021659",
          "Sample output_dir_98_202007022038",
          "Sample output_dir_98_202007030125",
          "Sample output_dir_98_202007030600",
          "Sample output_dir_98_202007031045",
          "Sample output_dir_99_202007021702",
          "Sample output_dir_99_202007022052",
          "Sample output_dir_99_202007030145",
          "Sample output_dir_99_202007030621",
          "Sample output_dir_99_202007031106"
         ],
         "xaxis": "x",
         "y": [
          3679,
          3679,
          3679,
          3679,
          5615,
          5615,
          5615,
          5615,
          5615,
          3389,
          3389,
          3389,
          3389,
          3177,
          3177,
          3177,
          3177,
          3177,
          4406,
          12349,
          12349,
          12349,
          3718,
          3718,
          3718,
          3718,
          3718,
          5235,
          5235,
          5235,
          5235,
          4259,
          808,
          4259,
          4259,
          4259,
          67319,
          67319,
          67319,
          67319,
          67319,
          8355,
          8355,
          2019,
          8355,
          5624,
          5624,
          5624,
          5624,
          1491,
          9423,
          9423,
          9423,
          9423,
          5414,
          5414,
          5414,
          5414,
          5414,
          9640,
          9640,
          9640,
          9640,
          9640,
          1442,
          11513,
          11513,
          11513,
          11513
         ],
         "yaxis": "y"
        },
        {
         "alignmentgroup": "True",
         "hovertemplate": "Organism=Bacilli<br>Sample=%{x}<br>Read Count=%{y}<extra></extra>",
         "legendgroup": "Bacilli",
         "marker": {
          "color": "#B6E880"
         },
         "name": "Bacilli",
         "offsetgroup": "Bacilli",
         "orientation": "v",
         "showlegend": true,
         "textposition": "auto",
         "type": "bar",
         "x": [
          "Sample output_dir_100_202007021745",
          "Sample output_dir_100_202007022135",
          "Sample output_dir_100_202007030228",
          "Sample output_dir_100_202007030703",
          "Sample output_dir_101_202007021418",
          "Sample output_dir_101_202007021758",
          "Sample output_dir_101_202007022148",
          "Sample output_dir_101_202007030247",
          "Sample output_dir_101_202007030722",
          "Sample output_dir_103_202007021816",
          "Sample output_dir_103_202007022206",
          "Sample output_dir_103_202007030305",
          "Sample output_dir_103_202007030740",
          "Sample output_dir_104_202007021431",
          "Sample output_dir_104_202007021833",
          "Sample output_dir_104_202007022222",
          "Sample output_dir_104_202007030321",
          "Sample output_dir_104_202007030756",
          "Sample output_dir_13_202007021841",
          "Sample output_dir_13_202007022245",
          "Sample output_dir_13_202007030343",
          "Sample output_dir_13_202007030819",
          "Sample output_dir_14_202007021458",
          "Sample output_dir_14_202007021903",
          "Sample output_dir_14_202007022307",
          "Sample output_dir_14_202007030405",
          "Sample output_dir_14_202007030840",
          "Sample output_dir_15_202007021516",
          "Sample output_dir_15_202007021922",
          "Sample output_dir_15_202007022325",
          "Sample output_dir_15_202007030423",
          "Sample output_dir_16_202007021536",
          "Sample output_dir_16_202007021926",
          "Sample output_dir_16_202007022345",
          "Sample output_dir_16_202007030443",
          "Sample output_dir_16_202007030905",
          "Sample output_dir_1_202007021355",
          "Sample output_dir_1_202007021727",
          "Sample output_dir_1_202007022117",
          "Sample output_dir_1_202007030210",
          "Sample output_dir_1_202007030645",
          "Sample output_dir_2_202007021557",
          "Sample output_dir_2_202007030006",
          "Sample output_dir_2_202007030449",
          "Sample output_dir_2_202007030927",
          "Sample output_dir_3_202007021613",
          "Sample output_dir_3_202007030022",
          "Sample output_dir_3_202007030504",
          "Sample output_dir_3_202007030942",
          "Sample output_dir_4_202007021617",
          "Sample output_dir_4_202007021955",
          "Sample output_dir_4_202007030042",
          "Sample output_dir_4_202007030525",
          "Sample output_dir_4_202007031003",
          "Sample output_dir_97_202007021638",
          "Sample output_dir_97_202007022016",
          "Sample output_dir_97_202007030103",
          "Sample output_dir_97_202007030546",
          "Sample output_dir_97_202007031024",
          "Sample output_dir_98_202007021659",
          "Sample output_dir_98_202007022038",
          "Sample output_dir_98_202007030125",
          "Sample output_dir_98_202007030600",
          "Sample output_dir_98_202007031045",
          "Sample output_dir_99_202007021702",
          "Sample output_dir_99_202007022052",
          "Sample output_dir_99_202007030145",
          "Sample output_dir_99_202007030621",
          "Sample output_dir_99_202007031106"
         ],
         "xaxis": "x",
         "y": [
          31061,
          31061,
          31061,
          31061,
          624177,
          624177,
          624177,
          624177,
          624177,
          136160,
          136160,
          136160,
          136160,
          22513,
          22513,
          22513,
          22513,
          22513,
          14501,
          40225,
          40225,
          40225,
          47640,
          47640,
          47640,
          47640,
          47640,
          125411,
          125411,
          125411,
          125411,
          34367,
          7079,
          34367,
          34367,
          34367,
          41473,
          41473,
          41473,
          41473,
          41473,
          58100,
          58100,
          14757,
          58100,
          18470,
          18470,
          18470,
          18470,
          4153,
          24036,
          24036,
          24036,
          24036,
          111178,
          111178,
          111178,
          111178,
          111178,
          83770,
          83770,
          83770,
          83770,
          83770,
          9587,
          71171,
          71171,
          71171,
          71171
         ],
         "yaxis": "y"
        },
        {
         "alignmentgroup": "True",
         "hovertemplate": "Organism=other<br>Sample=%{x}<br>Read Count=%{y}<extra></extra>",
         "legendgroup": "other",
         "marker": {
          "color": "#FF97FF"
         },
         "name": "other",
         "offsetgroup": "other",
         "orientation": "v",
         "showlegend": true,
         "textposition": "auto",
         "type": "bar",
         "x": [
          "Sample output_dir_100_202007021745",
          "Sample output_dir_100_202007022135",
          "Sample output_dir_100_202007030228",
          "Sample output_dir_100_202007030703",
          "Sample output_dir_101_202007021418",
          "Sample output_dir_101_202007021758",
          "Sample output_dir_101_202007022148",
          "Sample output_dir_101_202007030247",
          "Sample output_dir_101_202007030722",
          "Sample output_dir_103_202007021816",
          "Sample output_dir_103_202007022206",
          "Sample output_dir_103_202007030305",
          "Sample output_dir_103_202007030740",
          "Sample output_dir_104_202007021431",
          "Sample output_dir_104_202007021833",
          "Sample output_dir_104_202007022222",
          "Sample output_dir_104_202007030321",
          "Sample output_dir_104_202007030756",
          "Sample output_dir_13_202007021841",
          "Sample output_dir_13_202007022245",
          "Sample output_dir_13_202007030343",
          "Sample output_dir_13_202007030819",
          "Sample output_dir_14_202007021458",
          "Sample output_dir_14_202007021903",
          "Sample output_dir_14_202007022307",
          "Sample output_dir_14_202007030405",
          "Sample output_dir_14_202007030840",
          "Sample output_dir_15_202007021516",
          "Sample output_dir_15_202007021922",
          "Sample output_dir_15_202007022325",
          "Sample output_dir_15_202007030423",
          "Sample output_dir_16_202007021536",
          "Sample output_dir_16_202007021926",
          "Sample output_dir_16_202007022345",
          "Sample output_dir_16_202007030443",
          "Sample output_dir_16_202007030905",
          "Sample output_dir_1_202007021355",
          "Sample output_dir_1_202007021727",
          "Sample output_dir_1_202007022117",
          "Sample output_dir_1_202007030210",
          "Sample output_dir_1_202007030645",
          "Sample output_dir_2_202007021557",
          "Sample output_dir_2_202007030006",
          "Sample output_dir_2_202007030449",
          "Sample output_dir_2_202007030927",
          "Sample output_dir_3_202007021613",
          "Sample output_dir_3_202007030022",
          "Sample output_dir_3_202007030504",
          "Sample output_dir_3_202007030942",
          "Sample output_dir_4_202007021617",
          "Sample output_dir_4_202007021955",
          "Sample output_dir_4_202007030042",
          "Sample output_dir_4_202007030525",
          "Sample output_dir_4_202007031003",
          "Sample output_dir_97_202007021638",
          "Sample output_dir_97_202007022016",
          "Sample output_dir_97_202007030103",
          "Sample output_dir_97_202007030546",
          "Sample output_dir_97_202007031024",
          "Sample output_dir_98_202007021659",
          "Sample output_dir_98_202007022038",
          "Sample output_dir_98_202007030125",
          "Sample output_dir_98_202007030600",
          "Sample output_dir_98_202007031045",
          "Sample output_dir_99_202007021702",
          "Sample output_dir_99_202007022052",
          "Sample output_dir_99_202007030145",
          "Sample output_dir_99_202007030621",
          "Sample output_dir_99_202007031106"
         ],
         "xaxis": "x",
         "y": [
          0,
          0,
          0,
          0,
          0,
          0,
          0,
          0,
          0,
          0,
          0,
          0,
          0,
          0,
          0,
          0,
          0,
          0,
          0,
          0,
          0,
          0,
          0,
          0,
          0,
          0,
          0,
          0,
          0,
          0,
          0,
          0,
          0,
          0,
          0,
          0,
          0,
          0,
          0,
          0,
          0,
          0,
          0,
          0,
          0,
          0,
          0,
          0,
          0,
          0,
          0,
          0,
          0,
          0,
          0,
          0,
          0,
          0,
          0,
          0,
          0,
          0,
          0,
          0,
          0,
          0,
          0,
          0,
          0
         ],
         "yaxis": "y"
        }
       ],
       "layout": {
        "barmode": "relative",
        "legend": {
         "title": {
          "text": "Organism"
         },
         "tracegroupgap": 0
        },
        "margin": {
         "t": 60
        },
        "showlegend": false,
        "template": {
         "data": {
          "bar": [
           {
            "error_x": {
             "color": "#2a3f5f"
            },
            "error_y": {
             "color": "#2a3f5f"
            },
            "marker": {
             "line": {
              "color": "#E5ECF6",
              "width": 0.5
             }
            },
            "type": "bar"
           }
          ],
          "barpolar": [
           {
            "marker": {
             "line": {
              "color": "#E5ECF6",
              "width": 0.5
             }
            },
            "type": "barpolar"
           }
          ],
          "carpet": [
           {
            "aaxis": {
             "endlinecolor": "#2a3f5f",
             "gridcolor": "white",
             "linecolor": "white",
             "minorgridcolor": "white",
             "startlinecolor": "#2a3f5f"
            },
            "baxis": {
             "endlinecolor": "#2a3f5f",
             "gridcolor": "white",
             "linecolor": "white",
             "minorgridcolor": "white",
             "startlinecolor": "#2a3f5f"
            },
            "type": "carpet"
           }
          ],
          "choropleth": [
           {
            "colorbar": {
             "outlinewidth": 0,
             "ticks": ""
            },
            "type": "choropleth"
           }
          ],
          "contour": [
           {
            "colorbar": {
             "outlinewidth": 0,
             "ticks": ""
            },
            "colorscale": [
             [
              0,
              "#0d0887"
             ],
             [
              0.1111111111111111,
              "#46039f"
             ],
             [
              0.2222222222222222,
              "#7201a8"
             ],
             [
              0.3333333333333333,
              "#9c179e"
             ],
             [
              0.4444444444444444,
              "#bd3786"
             ],
             [
              0.5555555555555556,
              "#d8576b"
             ],
             [
              0.6666666666666666,
              "#ed7953"
             ],
             [
              0.7777777777777778,
              "#fb9f3a"
             ],
             [
              0.8888888888888888,
              "#fdca26"
             ],
             [
              1,
              "#f0f921"
             ]
            ],
            "type": "contour"
           }
          ],
          "contourcarpet": [
           {
            "colorbar": {
             "outlinewidth": 0,
             "ticks": ""
            },
            "type": "contourcarpet"
           }
          ],
          "heatmap": [
           {
            "colorbar": {
             "outlinewidth": 0,
             "ticks": ""
            },
            "colorscale": [
             [
              0,
              "#0d0887"
             ],
             [
              0.1111111111111111,
              "#46039f"
             ],
             [
              0.2222222222222222,
              "#7201a8"
             ],
             [
              0.3333333333333333,
              "#9c179e"
             ],
             [
              0.4444444444444444,
              "#bd3786"
             ],
             [
              0.5555555555555556,
              "#d8576b"
             ],
             [
              0.6666666666666666,
              "#ed7953"
             ],
             [
              0.7777777777777778,
              "#fb9f3a"
             ],
             [
              0.8888888888888888,
              "#fdca26"
             ],
             [
              1,
              "#f0f921"
             ]
            ],
            "type": "heatmap"
           }
          ],
          "heatmapgl": [
           {
            "colorbar": {
             "outlinewidth": 0,
             "ticks": ""
            },
            "colorscale": [
             [
              0,
              "#0d0887"
             ],
             [
              0.1111111111111111,
              "#46039f"
             ],
             [
              0.2222222222222222,
              "#7201a8"
             ],
             [
              0.3333333333333333,
              "#9c179e"
             ],
             [
              0.4444444444444444,
              "#bd3786"
             ],
             [
              0.5555555555555556,
              "#d8576b"
             ],
             [
              0.6666666666666666,
              "#ed7953"
             ],
             [
              0.7777777777777778,
              "#fb9f3a"
             ],
             [
              0.8888888888888888,
              "#fdca26"
             ],
             [
              1,
              "#f0f921"
             ]
            ],
            "type": "heatmapgl"
           }
          ],
          "histogram": [
           {
            "marker": {
             "colorbar": {
              "outlinewidth": 0,
              "ticks": ""
             }
            },
            "type": "histogram"
           }
          ],
          "histogram2d": [
           {
            "colorbar": {
             "outlinewidth": 0,
             "ticks": ""
            },
            "colorscale": [
             [
              0,
              "#0d0887"
             ],
             [
              0.1111111111111111,
              "#46039f"
             ],
             [
              0.2222222222222222,
              "#7201a8"
             ],
             [
              0.3333333333333333,
              "#9c179e"
             ],
             [
              0.4444444444444444,
              "#bd3786"
             ],
             [
              0.5555555555555556,
              "#d8576b"
             ],
             [
              0.6666666666666666,
              "#ed7953"
             ],
             [
              0.7777777777777778,
              "#fb9f3a"
             ],
             [
              0.8888888888888888,
              "#fdca26"
             ],
             [
              1,
              "#f0f921"
             ]
            ],
            "type": "histogram2d"
           }
          ],
          "histogram2dcontour": [
           {
            "colorbar": {
             "outlinewidth": 0,
             "ticks": ""
            },
            "colorscale": [
             [
              0,
              "#0d0887"
             ],
             [
              0.1111111111111111,
              "#46039f"
             ],
             [
              0.2222222222222222,
              "#7201a8"
             ],
             [
              0.3333333333333333,
              "#9c179e"
             ],
             [
              0.4444444444444444,
              "#bd3786"
             ],
             [
              0.5555555555555556,
              "#d8576b"
             ],
             [
              0.6666666666666666,
              "#ed7953"
             ],
             [
              0.7777777777777778,
              "#fb9f3a"
             ],
             [
              0.8888888888888888,
              "#fdca26"
             ],
             [
              1,
              "#f0f921"
             ]
            ],
            "type": "histogram2dcontour"
           }
          ],
          "mesh3d": [
           {
            "colorbar": {
             "outlinewidth": 0,
             "ticks": ""
            },
            "type": "mesh3d"
           }
          ],
          "parcoords": [
           {
            "line": {
             "colorbar": {
              "outlinewidth": 0,
              "ticks": ""
             }
            },
            "type": "parcoords"
           }
          ],
          "pie": [
           {
            "automargin": true,
            "type": "pie"
           }
          ],
          "scatter": [
           {
            "marker": {
             "colorbar": {
              "outlinewidth": 0,
              "ticks": ""
             }
            },
            "type": "scatter"
           }
          ],
          "scatter3d": [
           {
            "line": {
             "colorbar": {
              "outlinewidth": 0,
              "ticks": ""
             }
            },
            "marker": {
             "colorbar": {
              "outlinewidth": 0,
              "ticks": ""
             }
            },
            "type": "scatter3d"
           }
          ],
          "scattercarpet": [
           {
            "marker": {
             "colorbar": {
              "outlinewidth": 0,
              "ticks": ""
             }
            },
            "type": "scattercarpet"
           }
          ],
          "scattergeo": [
           {
            "marker": {
             "colorbar": {
              "outlinewidth": 0,
              "ticks": ""
             }
            },
            "type": "scattergeo"
           }
          ],
          "scattergl": [
           {
            "marker": {
             "colorbar": {
              "outlinewidth": 0,
              "ticks": ""
             }
            },
            "type": "scattergl"
           }
          ],
          "scattermapbox": [
           {
            "marker": {
             "colorbar": {
              "outlinewidth": 0,
              "ticks": ""
             }
            },
            "type": "scattermapbox"
           }
          ],
          "scatterpolar": [
           {
            "marker": {
             "colorbar": {
              "outlinewidth": 0,
              "ticks": ""
             }
            },
            "type": "scatterpolar"
           }
          ],
          "scatterpolargl": [
           {
            "marker": {
             "colorbar": {
              "outlinewidth": 0,
              "ticks": ""
             }
            },
            "type": "scatterpolargl"
           }
          ],
          "scatterternary": [
           {
            "marker": {
             "colorbar": {
              "outlinewidth": 0,
              "ticks": ""
             }
            },
            "type": "scatterternary"
           }
          ],
          "surface": [
           {
            "colorbar": {
             "outlinewidth": 0,
             "ticks": ""
            },
            "colorscale": [
             [
              0,
              "#0d0887"
             ],
             [
              0.1111111111111111,
              "#46039f"
             ],
             [
              0.2222222222222222,
              "#7201a8"
             ],
             [
              0.3333333333333333,
              "#9c179e"
             ],
             [
              0.4444444444444444,
              "#bd3786"
             ],
             [
              0.5555555555555556,
              "#d8576b"
             ],
             [
              0.6666666666666666,
              "#ed7953"
             ],
             [
              0.7777777777777778,
              "#fb9f3a"
             ],
             [
              0.8888888888888888,
              "#fdca26"
             ],
             [
              1,
              "#f0f921"
             ]
            ],
            "type": "surface"
           }
          ],
          "table": [
           {
            "cells": {
             "fill": {
              "color": "#EBF0F8"
             },
             "line": {
              "color": "white"
             }
            },
            "header": {
             "fill": {
              "color": "#C8D4E3"
             },
             "line": {
              "color": "white"
             }
            },
            "type": "table"
           }
          ]
         },
         "layout": {
          "annotationdefaults": {
           "arrowcolor": "#2a3f5f",
           "arrowhead": 0,
           "arrowwidth": 1
          },
          "coloraxis": {
           "colorbar": {
            "outlinewidth": 0,
            "ticks": ""
           }
          },
          "colorscale": {
           "diverging": [
            [
             0,
             "#8e0152"
            ],
            [
             0.1,
             "#c51b7d"
            ],
            [
             0.2,
             "#de77ae"
            ],
            [
             0.3,
             "#f1b6da"
            ],
            [
             0.4,
             "#fde0ef"
            ],
            [
             0.5,
             "#f7f7f7"
            ],
            [
             0.6,
             "#e6f5d0"
            ],
            [
             0.7,
             "#b8e186"
            ],
            [
             0.8,
             "#7fbc41"
            ],
            [
             0.9,
             "#4d9221"
            ],
            [
             1,
             "#276419"
            ]
           ],
           "sequential": [
            [
             0,
             "#0d0887"
            ],
            [
             0.1111111111111111,
             "#46039f"
            ],
            [
             0.2222222222222222,
             "#7201a8"
            ],
            [
             0.3333333333333333,
             "#9c179e"
            ],
            [
             0.4444444444444444,
             "#bd3786"
            ],
            [
             0.5555555555555556,
             "#d8576b"
            ],
            [
             0.6666666666666666,
             "#ed7953"
            ],
            [
             0.7777777777777778,
             "#fb9f3a"
            ],
            [
             0.8888888888888888,
             "#fdca26"
            ],
            [
             1,
             "#f0f921"
            ]
           ],
           "sequentialminus": [
            [
             0,
             "#0d0887"
            ],
            [
             0.1111111111111111,
             "#46039f"
            ],
            [
             0.2222222222222222,
             "#7201a8"
            ],
            [
             0.3333333333333333,
             "#9c179e"
            ],
            [
             0.4444444444444444,
             "#bd3786"
            ],
            [
             0.5555555555555556,
             "#d8576b"
            ],
            [
             0.6666666666666666,
             "#ed7953"
            ],
            [
             0.7777777777777778,
             "#fb9f3a"
            ],
            [
             0.8888888888888888,
             "#fdca26"
            ],
            [
             1,
             "#f0f921"
            ]
           ]
          },
          "colorway": [
           "#636efa",
           "#EF553B",
           "#00cc96",
           "#ab63fa",
           "#FFA15A",
           "#19d3f3",
           "#FF6692",
           "#B6E880",
           "#FF97FF",
           "#FECB52"
          ],
          "font": {
           "color": "#2a3f5f"
          },
          "geo": {
           "bgcolor": "white",
           "lakecolor": "white",
           "landcolor": "#E5ECF6",
           "showlakes": true,
           "showland": true,
           "subunitcolor": "white"
          },
          "hoverlabel": {
           "align": "left"
          },
          "hovermode": "closest",
          "mapbox": {
           "style": "light"
          },
          "paper_bgcolor": "white",
          "plot_bgcolor": "#E5ECF6",
          "polar": {
           "angularaxis": {
            "gridcolor": "white",
            "linecolor": "white",
            "ticks": ""
           },
           "bgcolor": "#E5ECF6",
           "radialaxis": {
            "gridcolor": "white",
            "linecolor": "white",
            "ticks": ""
           }
          },
          "scene": {
           "xaxis": {
            "backgroundcolor": "#E5ECF6",
            "gridcolor": "white",
            "gridwidth": 2,
            "linecolor": "white",
            "showbackground": true,
            "ticks": "",
            "zerolinecolor": "white"
           },
           "yaxis": {
            "backgroundcolor": "#E5ECF6",
            "gridcolor": "white",
            "gridwidth": 2,
            "linecolor": "white",
            "showbackground": true,
            "ticks": "",
            "zerolinecolor": "white"
           },
           "zaxis": {
            "backgroundcolor": "#E5ECF6",
            "gridcolor": "white",
            "gridwidth": 2,
            "linecolor": "white",
            "showbackground": true,
            "ticks": "",
            "zerolinecolor": "white"
           }
          },
          "shapedefaults": {
           "line": {
            "color": "#2a3f5f"
           }
          },
          "ternary": {
           "aaxis": {
            "gridcolor": "white",
            "linecolor": "white",
            "ticks": ""
           },
           "baxis": {
            "gridcolor": "white",
            "linecolor": "white",
            "ticks": ""
           },
           "bgcolor": "#E5ECF6",
           "caxis": {
            "gridcolor": "white",
            "linecolor": "white",
            "ticks": ""
           }
          },
          "title": {
           "x": 0.05
          },
          "xaxis": {
           "automargin": true,
           "gridcolor": "white",
           "linecolor": "white",
           "ticks": "",
           "title": {
            "standoff": 15
           },
           "zerolinecolor": "white",
           "zerolinewidth": 2
          },
          "yaxis": {
           "automargin": true,
           "gridcolor": "white",
           "linecolor": "white",
           "ticks": "",
           "title": {
            "standoff": 15
           },
           "zerolinecolor": "white",
           "zerolinewidth": 2
          }
         }
        },
        "xaxis": {
         "anchor": "y",
         "domain": [
          0,
          1
         ],
         "title": {
          "text": "Sample"
         }
        },
        "yaxis": {
         "anchor": "x",
         "domain": [
          0,
          1
         ],
         "title": {
          "text": "Read Count"
         }
        }
       }
      },
      "text/html": [
       "<div>\n",
       "        \n",
       "        \n",
       "            <div id=\"227d2a2d-c4fc-45ec-8a09-6941080f3460\" class=\"plotly-graph-div\" style=\"height:525px; width:100%;\"></div>\n",
       "            <script type=\"text/javascript\">\n",
       "                require([\"plotly\"], function(Plotly) {\n",
       "                    window.PLOTLYENV=window.PLOTLYENV || {};\n",
       "                    \n",
       "                if (document.getElementById(\"227d2a2d-c4fc-45ec-8a09-6941080f3460\")) {\n",
       "                    Plotly.newPlot(\n",
       "                        '227d2a2d-c4fc-45ec-8a09-6941080f3460',\n",
       "                        [{\"alignmentgroup\": \"True\", \"hovertemplate\": \"Organism=Negativicutes<br>Sample=%{x}<br>Read Count=%{y}<extra></extra>\", \"legendgroup\": \"Negativicutes\", \"marker\": {\"color\": \"#636efa\"}, \"name\": \"Negativicutes\", \"offsetgroup\": \"Negativicutes\", \"orientation\": \"v\", \"showlegend\": true, \"textposition\": \"auto\", \"type\": \"bar\", \"x\": [\"Sample output_dir_100_202007021745\", \"Sample output_dir_100_202007022135\", \"Sample output_dir_100_202007030228\", \"Sample output_dir_100_202007030703\", \"Sample output_dir_101_202007021418\", \"Sample output_dir_101_202007021758\", \"Sample output_dir_101_202007022148\", \"Sample output_dir_101_202007030247\", \"Sample output_dir_101_202007030722\", \"Sample output_dir_103_202007021816\", \"Sample output_dir_103_202007022206\", \"Sample output_dir_103_202007030305\", \"Sample output_dir_103_202007030740\", \"Sample output_dir_104_202007021431\", \"Sample output_dir_104_202007021833\", \"Sample output_dir_104_202007022222\", \"Sample output_dir_104_202007030321\", \"Sample output_dir_104_202007030756\", \"Sample output_dir_13_202007021841\", \"Sample output_dir_13_202007022245\", \"Sample output_dir_13_202007030343\", \"Sample output_dir_13_202007030819\", \"Sample output_dir_14_202007021458\", \"Sample output_dir_14_202007021903\", \"Sample output_dir_14_202007022307\", \"Sample output_dir_14_202007030405\", \"Sample output_dir_14_202007030840\", \"Sample output_dir_15_202007021516\", \"Sample output_dir_15_202007021922\", \"Sample output_dir_15_202007022325\", \"Sample output_dir_15_202007030423\", \"Sample output_dir_16_202007021536\", \"Sample output_dir_16_202007021926\", \"Sample output_dir_16_202007022345\", \"Sample output_dir_16_202007030443\", \"Sample output_dir_16_202007030905\", \"Sample output_dir_1_202007021355\", \"Sample output_dir_1_202007021727\", \"Sample output_dir_1_202007022117\", \"Sample output_dir_1_202007030210\", \"Sample output_dir_1_202007030645\", \"Sample output_dir_2_202007021557\", \"Sample output_dir_2_202007030006\", \"Sample output_dir_2_202007030449\", \"Sample output_dir_2_202007030927\", \"Sample output_dir_3_202007021613\", \"Sample output_dir_3_202007030022\", \"Sample output_dir_3_202007030504\", \"Sample output_dir_3_202007030942\", \"Sample output_dir_4_202007021617\", \"Sample output_dir_4_202007021955\", \"Sample output_dir_4_202007030042\", \"Sample output_dir_4_202007030525\", \"Sample output_dir_4_202007031003\", \"Sample output_dir_97_202007021638\", \"Sample output_dir_97_202007022016\", \"Sample output_dir_97_202007030103\", \"Sample output_dir_97_202007030546\", \"Sample output_dir_97_202007031024\", \"Sample output_dir_98_202007021659\", \"Sample output_dir_98_202007022038\", \"Sample output_dir_98_202007030125\", \"Sample output_dir_98_202007030600\", \"Sample output_dir_98_202007031045\", \"Sample output_dir_99_202007021702\", \"Sample output_dir_99_202007022052\", \"Sample output_dir_99_202007030145\", \"Sample output_dir_99_202007030621\", \"Sample output_dir_99_202007031106\"], \"xaxis\": \"x\", \"y\": [32185.0, 32185.0, 32185.0, 32185.0, 18723.0, 18723.0, 18723.0, 18723.0, 18723.0, 8221.0, 8221.0, 8221.0, 8221.0, 3129.0, 3129.0, 3129.0, 3129.0, 3129.0, 413.0, 1253.0, 1253.0, 1253.0, 21018.0, 21018.0, 21018.0, 21018.0, 21018.0, 1733.0, 1733.0, 1733.0, 1733.0, 890.0, 159.0, 890.0, 890.0, 890.0, 15208.0, 15208.0, 15208.0, 15208.0, 15208.0, 1059.0, 1059.0, 265.0, 1059.0, 41679.0, 41679.0, 41679.0, 41679.0, 131.0, 744.0, 744.0, 744.0, 744.0, 35970.0, 35970.0, 35970.0, 35970.0, 35970.0, 964.0, 964.0, 964.0, 964.0, 964.0, 6011.0, 48085.0, 48085.0, 48085.0, 48085.0], \"yaxis\": \"y\"}, {\"alignmentgroup\": \"True\", \"hovertemplate\": \"Organism=Bacteroidetes<br>Sample=%{x}<br>Read Count=%{y}<extra></extra>\", \"legendgroup\": \"Bacteroidetes\", \"marker\": {\"color\": \"#EF553B\"}, \"name\": \"Bacteroidetes\", \"offsetgroup\": \"Bacteroidetes\", \"orientation\": \"v\", \"showlegend\": true, \"textposition\": \"auto\", \"type\": \"bar\", \"x\": [\"Sample output_dir_100_202007021745\", \"Sample output_dir_100_202007022135\", \"Sample output_dir_100_202007030228\", \"Sample output_dir_100_202007030703\", \"Sample output_dir_101_202007021418\", \"Sample output_dir_101_202007021758\", \"Sample output_dir_101_202007022148\", \"Sample output_dir_101_202007030247\", \"Sample output_dir_101_202007030722\", \"Sample output_dir_103_202007021816\", \"Sample output_dir_103_202007022206\", \"Sample output_dir_103_202007030305\", \"Sample output_dir_103_202007030740\", \"Sample output_dir_104_202007021431\", \"Sample output_dir_104_202007021833\", \"Sample output_dir_104_202007022222\", \"Sample output_dir_104_202007030321\", \"Sample output_dir_104_202007030756\", \"Sample output_dir_13_202007021841\", \"Sample output_dir_13_202007022245\", \"Sample output_dir_13_202007030343\", \"Sample output_dir_13_202007030819\", \"Sample output_dir_14_202007021458\", \"Sample output_dir_14_202007021903\", \"Sample output_dir_14_202007022307\", \"Sample output_dir_14_202007030405\", \"Sample output_dir_14_202007030840\", \"Sample output_dir_15_202007021516\", \"Sample output_dir_15_202007021922\", \"Sample output_dir_15_202007022325\", \"Sample output_dir_15_202007030423\", \"Sample output_dir_16_202007021536\", \"Sample output_dir_16_202007021926\", \"Sample output_dir_16_202007022345\", \"Sample output_dir_16_202007030443\", \"Sample output_dir_16_202007030905\", \"Sample output_dir_1_202007021355\", \"Sample output_dir_1_202007021727\", \"Sample output_dir_1_202007022117\", \"Sample output_dir_1_202007030210\", \"Sample output_dir_1_202007030645\", \"Sample output_dir_2_202007021557\", \"Sample output_dir_2_202007030006\", \"Sample output_dir_2_202007030449\", \"Sample output_dir_2_202007030927\", \"Sample output_dir_3_202007021613\", \"Sample output_dir_3_202007030022\", \"Sample output_dir_3_202007030504\", \"Sample output_dir_3_202007030942\", \"Sample output_dir_4_202007021617\", \"Sample output_dir_4_202007021955\", \"Sample output_dir_4_202007030042\", \"Sample output_dir_4_202007030525\", \"Sample output_dir_4_202007031003\", \"Sample output_dir_97_202007021638\", \"Sample output_dir_97_202007022016\", \"Sample output_dir_97_202007030103\", \"Sample output_dir_97_202007030546\", \"Sample output_dir_97_202007031024\", \"Sample output_dir_98_202007021659\", \"Sample output_dir_98_202007022038\", \"Sample output_dir_98_202007030125\", \"Sample output_dir_98_202007030600\", \"Sample output_dir_98_202007031045\", \"Sample output_dir_99_202007021702\", \"Sample output_dir_99_202007022052\", \"Sample output_dir_99_202007030145\", \"Sample output_dir_99_202007030621\", \"Sample output_dir_99_202007031106\"], \"xaxis\": \"x\", \"y\": [1221212.0, 1221212.0, 1221212.0, 1221212.0, 3945823.0, 3945823.0, 3945823.0, 3945823.0, 3945823.0, 5305148.0, 5305148.0, 5305148.0, 5305148.0, 8272283.0, 8272283.0, 8272283.0, 8272283.0, 8272283.0, 1520152.0, 4229241.0, 4229241.0, 4229241.0, 2757040.0, 2757040.0, 2757040.0, 2757040.0, 2757040.0, 2833771.0, 2833771.0, 2833771.0, 2833771.0, 9400837.0, 1909975.0, 9400837.0, 9400837.0, 9400837.0, 4350812.0, 4350812.0, 4350812.0, 4350812.0, 4350812.0, 2399982.0, 2399982.0, 602830.0, 2399982.0, 3529677.0, 3529677.0, 3529677.0, 3529677.0, 1212665.0, 6834287.0, 6834287.0, 6834287.0, 6834287.0, 4243557.0, 4243557.0, 4243557.0, 4243557.0, 4243557.0, 5912855.0, 5912855.0, 5912855.0, 5912855.0, 5912855.0, 343750.0, 2582614.0, 2582614.0, 2582614.0, 2582614.0], \"yaxis\": \"y\"}, {\"alignmentgroup\": \"True\", \"hovertemplate\": \"Organism=Erysipelotrichia<br>Sample=%{x}<br>Read Count=%{y}<extra></extra>\", \"legendgroup\": \"Erysipelotrichia\", \"marker\": {\"color\": \"#00cc96\"}, \"name\": \"Erysipelotrichia\", \"offsetgroup\": \"Erysipelotrichia\", \"orientation\": \"v\", \"showlegend\": true, \"textposition\": \"auto\", \"type\": \"bar\", \"x\": [\"Sample output_dir_100_202007021745\", \"Sample output_dir_100_202007022135\", \"Sample output_dir_100_202007030228\", \"Sample output_dir_100_202007030703\", \"Sample output_dir_101_202007021418\", \"Sample output_dir_101_202007021758\", \"Sample output_dir_101_202007022148\", \"Sample output_dir_101_202007030247\", \"Sample output_dir_101_202007030722\", \"Sample output_dir_103_202007021816\", \"Sample output_dir_103_202007022206\", \"Sample output_dir_103_202007030305\", \"Sample output_dir_103_202007030740\", \"Sample output_dir_104_202007021431\", \"Sample output_dir_104_202007021833\", \"Sample output_dir_104_202007022222\", \"Sample output_dir_104_202007030321\", \"Sample output_dir_104_202007030756\", \"Sample output_dir_13_202007021841\", \"Sample output_dir_13_202007022245\", \"Sample output_dir_13_202007030343\", \"Sample output_dir_13_202007030819\", \"Sample output_dir_14_202007021458\", \"Sample output_dir_14_202007021903\", \"Sample output_dir_14_202007022307\", \"Sample output_dir_14_202007030405\", \"Sample output_dir_14_202007030840\", \"Sample output_dir_15_202007021516\", \"Sample output_dir_15_202007021922\", \"Sample output_dir_15_202007022325\", \"Sample output_dir_15_202007030423\", \"Sample output_dir_16_202007021536\", \"Sample output_dir_16_202007021926\", \"Sample output_dir_16_202007022345\", \"Sample output_dir_16_202007030443\", \"Sample output_dir_16_202007030905\", \"Sample output_dir_1_202007021355\", \"Sample output_dir_1_202007021727\", \"Sample output_dir_1_202007022117\", \"Sample output_dir_1_202007030210\", \"Sample output_dir_1_202007030645\", \"Sample output_dir_2_202007021557\", \"Sample output_dir_2_202007030006\", \"Sample output_dir_2_202007030449\", \"Sample output_dir_2_202007030927\", \"Sample output_dir_3_202007021613\", \"Sample output_dir_3_202007030022\", \"Sample output_dir_3_202007030504\", \"Sample output_dir_3_202007030942\", \"Sample output_dir_4_202007021617\", \"Sample output_dir_4_202007021955\", \"Sample output_dir_4_202007030042\", \"Sample output_dir_4_202007030525\", \"Sample output_dir_4_202007031003\", \"Sample output_dir_97_202007021638\", \"Sample output_dir_97_202007022016\", \"Sample output_dir_97_202007030103\", \"Sample output_dir_97_202007030546\", \"Sample output_dir_97_202007031024\", \"Sample output_dir_98_202007021659\", \"Sample output_dir_98_202007022038\", \"Sample output_dir_98_202007030125\", \"Sample output_dir_98_202007030600\", \"Sample output_dir_98_202007031045\", \"Sample output_dir_99_202007021702\", \"Sample output_dir_99_202007022052\", \"Sample output_dir_99_202007030145\", \"Sample output_dir_99_202007030621\", \"Sample output_dir_99_202007031106\"], \"xaxis\": \"x\", \"y\": [7816.0, 7816.0, 7816.0, 7816.0, 4848.0, 4848.0, 4848.0, 4848.0, 4848.0, 8553.0, 8553.0, 8553.0, 8553.0, 3203.0, 3203.0, 3203.0, 3203.0, 3203.0, 5095.0, 14404.0, 14404.0, 14404.0, 11094.0, 11094.0, 11094.0, 11094.0, 11094.0, 30410.0, 30410.0, 30410.0, 30410.0, 7937.0, 1533.0, 7937.0, 7937.0, 7937.0, 12871.0, 12871.0, 12871.0, 12871.0, 12871.0, 13668.0, 13668.0, 3486.0, 13668.0, 6364.0, 6364.0, 6364.0, 6364.0, 3854.0, 22508.0, 22508.0, 22508.0, 22508.0, 14725.0, 14725.0, 14725.0, 14725.0, 14725.0, 19079.0, 19079.0, 19079.0, 19079.0, 19079.0, 2319.0, 17438.0, 17438.0, 17438.0, 17438.0], \"yaxis\": \"y\"}, {\"alignmentgroup\": \"True\", \"hovertemplate\": \"Organism=Actinobacteria<br>Sample=%{x}<br>Read Count=%{y}<extra></extra>\", \"legendgroup\": \"Actinobacteria\", \"marker\": {\"color\": \"#ab63fa\"}, \"name\": \"Actinobacteria\", \"offsetgroup\": \"Actinobacteria\", \"orientation\": \"v\", \"showlegend\": true, \"textposition\": \"auto\", \"type\": \"bar\", \"x\": [\"Sample output_dir_100_202007021745\", \"Sample output_dir_100_202007022135\", \"Sample output_dir_100_202007030228\", \"Sample output_dir_100_202007030703\", \"Sample output_dir_101_202007021418\", \"Sample output_dir_101_202007021758\", \"Sample output_dir_101_202007022148\", \"Sample output_dir_101_202007030247\", \"Sample output_dir_101_202007030722\", \"Sample output_dir_103_202007021816\", \"Sample output_dir_103_202007022206\", \"Sample output_dir_103_202007030305\", \"Sample output_dir_103_202007030740\", \"Sample output_dir_104_202007021431\", \"Sample output_dir_104_202007021833\", \"Sample output_dir_104_202007022222\", \"Sample output_dir_104_202007030321\", \"Sample output_dir_104_202007030756\", \"Sample output_dir_13_202007021841\", \"Sample output_dir_13_202007022245\", \"Sample output_dir_13_202007030343\", \"Sample output_dir_13_202007030819\", \"Sample output_dir_14_202007021458\", \"Sample output_dir_14_202007021903\", \"Sample output_dir_14_202007022307\", \"Sample output_dir_14_202007030405\", \"Sample output_dir_14_202007030840\", \"Sample output_dir_15_202007021516\", \"Sample output_dir_15_202007021922\", \"Sample output_dir_15_202007022325\", \"Sample output_dir_15_202007030423\", \"Sample output_dir_16_202007021536\", \"Sample output_dir_16_202007021926\", \"Sample output_dir_16_202007022345\", \"Sample output_dir_16_202007030443\", \"Sample output_dir_16_202007030905\", \"Sample output_dir_1_202007021355\", \"Sample output_dir_1_202007021727\", \"Sample output_dir_1_202007022117\", \"Sample output_dir_1_202007030210\", \"Sample output_dir_1_202007030645\", \"Sample output_dir_2_202007021557\", \"Sample output_dir_2_202007030006\", \"Sample output_dir_2_202007030449\", \"Sample output_dir_2_202007030927\", \"Sample output_dir_3_202007021613\", \"Sample output_dir_3_202007030022\", \"Sample output_dir_3_202007030504\", \"Sample output_dir_3_202007030942\", \"Sample output_dir_4_202007021617\", \"Sample output_dir_4_202007021955\", \"Sample output_dir_4_202007030042\", \"Sample output_dir_4_202007030525\", \"Sample output_dir_4_202007031003\", \"Sample output_dir_97_202007021638\", \"Sample output_dir_97_202007022016\", \"Sample output_dir_97_202007030103\", \"Sample output_dir_97_202007030546\", \"Sample output_dir_97_202007031024\", \"Sample output_dir_98_202007021659\", \"Sample output_dir_98_202007022038\", \"Sample output_dir_98_202007030125\", \"Sample output_dir_98_202007030600\", \"Sample output_dir_98_202007031045\", \"Sample output_dir_99_202007021702\", \"Sample output_dir_99_202007022052\", \"Sample output_dir_99_202007030145\", \"Sample output_dir_99_202007030621\", \"Sample output_dir_99_202007031106\"], \"xaxis\": \"x\", \"y\": [422264.0, 422264.0, 422264.0, 422264.0, 419853.0, 419853.0, 419853.0, 419853.0, 419853.0, 554487.0, 554487.0, 554487.0, 554487.0, 225349.0, 225349.0, 225349.0, 225349.0, 225349.0, 22839.0, 64719.0, 64719.0, 64719.0, 663328.0, 663328.0, 663328.0, 663328.0, 663328.0, 155238.0, 155238.0, 155238.0, 155238.0, 25875.0, 5202.0, 25875.0, 25875.0, 25875.0, 715170.0, 715170.0, 715170.0, 715170.0, 715170.0, 1275416.0, 1275416.0, 312929.0, 1275416.0, 34965.0, 34965.0, 34965.0, 34965.0, 113985.0, 668023.0, 668023.0, 668023.0, 668023.0, 90095.0, 90095.0, 90095.0, 90095.0, 90095.0, 224414.0, 224414.0, 224414.0, 224414.0, 224414.0, 17797.0, 138429.0, 138429.0, 138429.0, 138429.0], \"yaxis\": \"y\"}, {\"alignmentgroup\": \"True\", \"hovertemplate\": \"Organism=Enterobacterales<br>Sample=%{x}<br>Read Count=%{y}<extra></extra>\", \"legendgroup\": \"Enterobacterales\", \"marker\": {\"color\": \"#FFA15A\"}, \"name\": \"Enterobacterales\", \"offsetgroup\": \"Enterobacterales\", \"orientation\": \"v\", \"showlegend\": true, \"textposition\": \"auto\", \"type\": \"bar\", \"x\": [\"Sample output_dir_100_202007021745\", \"Sample output_dir_100_202007022135\", \"Sample output_dir_100_202007030228\", \"Sample output_dir_100_202007030703\", \"Sample output_dir_101_202007021418\", \"Sample output_dir_101_202007021758\", \"Sample output_dir_101_202007022148\", \"Sample output_dir_101_202007030247\", \"Sample output_dir_101_202007030722\", \"Sample output_dir_103_202007021816\", \"Sample output_dir_103_202007022206\", \"Sample output_dir_103_202007030305\", \"Sample output_dir_103_202007030740\", \"Sample output_dir_104_202007021431\", \"Sample output_dir_104_202007021833\", \"Sample output_dir_104_202007022222\", \"Sample output_dir_104_202007030321\", \"Sample output_dir_104_202007030756\", \"Sample output_dir_13_202007021841\", \"Sample output_dir_13_202007022245\", \"Sample output_dir_13_202007030343\", \"Sample output_dir_13_202007030819\", \"Sample output_dir_14_202007021458\", \"Sample output_dir_14_202007021903\", \"Sample output_dir_14_202007022307\", \"Sample output_dir_14_202007030405\", \"Sample output_dir_14_202007030840\", \"Sample output_dir_15_202007021516\", \"Sample output_dir_15_202007021922\", \"Sample output_dir_15_202007022325\", \"Sample output_dir_15_202007030423\", \"Sample output_dir_16_202007021536\", \"Sample output_dir_16_202007021926\", \"Sample output_dir_16_202007022345\", \"Sample output_dir_16_202007030443\", \"Sample output_dir_16_202007030905\", \"Sample output_dir_1_202007021355\", \"Sample output_dir_1_202007021727\", \"Sample output_dir_1_202007022117\", \"Sample output_dir_1_202007030210\", \"Sample output_dir_1_202007030645\", \"Sample output_dir_2_202007021557\", \"Sample output_dir_2_202007030006\", \"Sample output_dir_2_202007030449\", \"Sample output_dir_2_202007030927\", \"Sample output_dir_3_202007021613\", \"Sample output_dir_3_202007030022\", \"Sample output_dir_3_202007030504\", \"Sample output_dir_3_202007030942\", \"Sample output_dir_4_202007021617\", \"Sample output_dir_4_202007021955\", \"Sample output_dir_4_202007030042\", \"Sample output_dir_4_202007030525\", \"Sample output_dir_4_202007031003\", \"Sample output_dir_97_202007021638\", \"Sample output_dir_97_202007022016\", \"Sample output_dir_97_202007030103\", \"Sample output_dir_97_202007030546\", \"Sample output_dir_97_202007031024\", \"Sample output_dir_98_202007021659\", \"Sample output_dir_98_202007022038\", \"Sample output_dir_98_202007030125\", \"Sample output_dir_98_202007030600\", \"Sample output_dir_98_202007031045\", \"Sample output_dir_99_202007021702\", \"Sample output_dir_99_202007022052\", \"Sample output_dir_99_202007030145\", \"Sample output_dir_99_202007030621\", \"Sample output_dir_99_202007031106\"], \"xaxis\": \"x\", \"y\": [9408.0, 9408.0, 9408.0, 9408.0, 5027596.0, 5027596.0, 5027596.0, 5027596.0, 5027596.0, 11954.0, 11954.0, 11954.0, 11954.0, 9307.0, 9307.0, 9307.0, 9307.0, 9307.0, 443295.0, 1234768.0, 1234768.0, 1234768.0, 61131.0, 61131.0, 61131.0, 61131.0, 61131.0, 54388.0, 54388.0, 54388.0, 54388.0, 3745.0, 807.0, 3745.0, 3745.0, 3745.0, 30382.0, 30382.0, 30382.0, 30382.0, 30382.0, 9029.0, 9029.0, 2304.0, 9029.0, 2453.0, 2453.0, 2453.0, 2453.0, 840.0, 4800.0, 4800.0, 4800.0, 4800.0, 51217.0, 51217.0, 51217.0, 51217.0, 51217.0, 11030.0, 11030.0, 11030.0, 11030.0, 11030.0, 5140.0, 40102.0, 40102.0, 40102.0, 40102.0], \"yaxis\": \"y\"}, {\"alignmentgroup\": \"True\", \"hovertemplate\": \"Organism=Clostridia<br>Sample=%{x}<br>Read Count=%{y}<extra></extra>\", \"legendgroup\": \"Clostridia\", \"marker\": {\"color\": \"#19d3f3\"}, \"name\": \"Clostridia\", \"offsetgroup\": \"Clostridia\", \"orientation\": \"v\", \"showlegend\": true, \"textposition\": \"auto\", \"type\": \"bar\", \"x\": [\"Sample output_dir_100_202007021745\", \"Sample output_dir_100_202007022135\", \"Sample output_dir_100_202007030228\", \"Sample output_dir_100_202007030703\", \"Sample output_dir_101_202007021418\", \"Sample output_dir_101_202007021758\", \"Sample output_dir_101_202007022148\", \"Sample output_dir_101_202007030247\", \"Sample output_dir_101_202007030722\", \"Sample output_dir_103_202007021816\", \"Sample output_dir_103_202007022206\", \"Sample output_dir_103_202007030305\", \"Sample output_dir_103_202007030740\", \"Sample output_dir_104_202007021431\", \"Sample output_dir_104_202007021833\", \"Sample output_dir_104_202007022222\", \"Sample output_dir_104_202007030321\", \"Sample output_dir_104_202007030756\", \"Sample output_dir_13_202007021841\", \"Sample output_dir_13_202007022245\", \"Sample output_dir_13_202007030343\", \"Sample output_dir_13_202007030819\", \"Sample output_dir_14_202007021458\", \"Sample output_dir_14_202007021903\", \"Sample output_dir_14_202007022307\", \"Sample output_dir_14_202007030405\", \"Sample output_dir_14_202007030840\", \"Sample output_dir_15_202007021516\", \"Sample output_dir_15_202007021922\", \"Sample output_dir_15_202007022325\", \"Sample output_dir_15_202007030423\", \"Sample output_dir_16_202007021536\", \"Sample output_dir_16_202007021926\", \"Sample output_dir_16_202007022345\", \"Sample output_dir_16_202007030443\", \"Sample output_dir_16_202007030905\", \"Sample output_dir_1_202007021355\", \"Sample output_dir_1_202007021727\", \"Sample output_dir_1_202007022117\", \"Sample output_dir_1_202007030210\", \"Sample output_dir_1_202007030645\", \"Sample output_dir_2_202007021557\", \"Sample output_dir_2_202007030006\", \"Sample output_dir_2_202007030449\", \"Sample output_dir_2_202007030927\", \"Sample output_dir_3_202007021613\", \"Sample output_dir_3_202007030022\", \"Sample output_dir_3_202007030504\", \"Sample output_dir_3_202007030942\", \"Sample output_dir_4_202007021617\", \"Sample output_dir_4_202007021955\", \"Sample output_dir_4_202007030042\", \"Sample output_dir_4_202007030525\", \"Sample output_dir_4_202007031003\", \"Sample output_dir_97_202007021638\", \"Sample output_dir_97_202007022016\", \"Sample output_dir_97_202007030103\", \"Sample output_dir_97_202007030546\", \"Sample output_dir_97_202007031024\", \"Sample output_dir_98_202007021659\", \"Sample output_dir_98_202007022038\", \"Sample output_dir_98_202007030125\", \"Sample output_dir_98_202007030600\", \"Sample output_dir_98_202007031045\", \"Sample output_dir_99_202007021702\", \"Sample output_dir_99_202007022052\", \"Sample output_dir_99_202007030145\", \"Sample output_dir_99_202007030621\", \"Sample output_dir_99_202007031106\"], \"xaxis\": \"x\", \"y\": [1226607.0, 1226607.0, 1226607.0, 1226607.0, 2162353.0, 2162353.0, 2162353.0, 2162353.0, 2162353.0, 1740507.0, 1740507.0, 1740507.0, 1740507.0, 1247320.0, 1247320.0, 1247320.0, 1247320.0, 1247320.0, 985289.0, 2755605.0, 2755605.0, 2755605.0, 724344.0, 724344.0, 724344.0, 724344.0, 724344.0, 1601688.0, 1601688.0, 1601688.0, 1601688.0, 904621.0, 180843.0, 904621.0, 904621.0, 904621.0, 3071747.0, 3071747.0, 3071747.0, 3071747.0, 3071747.0, 2639482.0, 2639482.0, 655700.0, 2639482.0, 791279.0, 791279.0, 791279.0, 791279.0, 197928.0, 1131667.0, 1131667.0, 1131667.0, 1131667.0, 2160851.0, 2160851.0, 2160851.0, 2160851.0, 2160851.0, 2396133.0, 2396133.0, 2396133.0, 2396133.0, 2396133.0, 293116.0, 2251294.0, 2251294.0, 2251294.0, 2251294.0], \"yaxis\": \"y\"}, {\"alignmentgroup\": \"True\", \"hovertemplate\": \"Organism=Coriobacteriia<br>Sample=%{x}<br>Read Count=%{y}<extra></extra>\", \"legendgroup\": \"Coriobacteriia\", \"marker\": {\"color\": \"#FF6692\"}, \"name\": \"Coriobacteriia\", \"offsetgroup\": \"Coriobacteriia\", \"orientation\": \"v\", \"showlegend\": true, \"textposition\": \"auto\", \"type\": \"bar\", \"x\": [\"Sample output_dir_100_202007021745\", \"Sample output_dir_100_202007022135\", \"Sample output_dir_100_202007030228\", \"Sample output_dir_100_202007030703\", \"Sample output_dir_101_202007021418\", \"Sample output_dir_101_202007021758\", \"Sample output_dir_101_202007022148\", \"Sample output_dir_101_202007030247\", \"Sample output_dir_101_202007030722\", \"Sample output_dir_103_202007021816\", \"Sample output_dir_103_202007022206\", \"Sample output_dir_103_202007030305\", \"Sample output_dir_103_202007030740\", \"Sample output_dir_104_202007021431\", \"Sample output_dir_104_202007021833\", \"Sample output_dir_104_202007022222\", \"Sample output_dir_104_202007030321\", \"Sample output_dir_104_202007030756\", \"Sample output_dir_13_202007021841\", \"Sample output_dir_13_202007022245\", \"Sample output_dir_13_202007030343\", \"Sample output_dir_13_202007030819\", \"Sample output_dir_14_202007021458\", \"Sample output_dir_14_202007021903\", \"Sample output_dir_14_202007022307\", \"Sample output_dir_14_202007030405\", \"Sample output_dir_14_202007030840\", \"Sample output_dir_15_202007021516\", \"Sample output_dir_15_202007021922\", \"Sample output_dir_15_202007022325\", \"Sample output_dir_15_202007030423\", \"Sample output_dir_16_202007021536\", \"Sample output_dir_16_202007021926\", \"Sample output_dir_16_202007022345\", \"Sample output_dir_16_202007030443\", \"Sample output_dir_16_202007030905\", \"Sample output_dir_1_202007021355\", \"Sample output_dir_1_202007021727\", \"Sample output_dir_1_202007022117\", \"Sample output_dir_1_202007030210\", \"Sample output_dir_1_202007030645\", \"Sample output_dir_2_202007021557\", \"Sample output_dir_2_202007030006\", \"Sample output_dir_2_202007030449\", \"Sample output_dir_2_202007030927\", \"Sample output_dir_3_202007021613\", \"Sample output_dir_3_202007030022\", \"Sample output_dir_3_202007030504\", \"Sample output_dir_3_202007030942\", \"Sample output_dir_4_202007021617\", \"Sample output_dir_4_202007021955\", \"Sample output_dir_4_202007030042\", \"Sample output_dir_4_202007030525\", \"Sample output_dir_4_202007031003\", \"Sample output_dir_97_202007021638\", \"Sample output_dir_97_202007022016\", \"Sample output_dir_97_202007030103\", \"Sample output_dir_97_202007030546\", \"Sample output_dir_97_202007031024\", \"Sample output_dir_98_202007021659\", \"Sample output_dir_98_202007022038\", \"Sample output_dir_98_202007030125\", \"Sample output_dir_98_202007030600\", \"Sample output_dir_98_202007031045\", \"Sample output_dir_99_202007021702\", \"Sample output_dir_99_202007022052\", \"Sample output_dir_99_202007030145\", \"Sample output_dir_99_202007030621\", \"Sample output_dir_99_202007031106\"], \"xaxis\": \"x\", \"y\": [3679.0, 3679.0, 3679.0, 3679.0, 5615.0, 5615.0, 5615.0, 5615.0, 5615.0, 3389.0, 3389.0, 3389.0, 3389.0, 3177.0, 3177.0, 3177.0, 3177.0, 3177.0, 4406.0, 12349.0, 12349.0, 12349.0, 3718.0, 3718.0, 3718.0, 3718.0, 3718.0, 5235.0, 5235.0, 5235.0, 5235.0, 4259.0, 808.0, 4259.0, 4259.0, 4259.0, 67319.0, 67319.0, 67319.0, 67319.0, 67319.0, 8355.0, 8355.0, 2019.0, 8355.0, 5624.0, 5624.0, 5624.0, 5624.0, 1491.0, 9423.0, 9423.0, 9423.0, 9423.0, 5414.0, 5414.0, 5414.0, 5414.0, 5414.0, 9640.0, 9640.0, 9640.0, 9640.0, 9640.0, 1442.0, 11513.0, 11513.0, 11513.0, 11513.0], \"yaxis\": \"y\"}, {\"alignmentgroup\": \"True\", \"hovertemplate\": \"Organism=Bacilli<br>Sample=%{x}<br>Read Count=%{y}<extra></extra>\", \"legendgroup\": \"Bacilli\", \"marker\": {\"color\": \"#B6E880\"}, \"name\": \"Bacilli\", \"offsetgroup\": \"Bacilli\", \"orientation\": \"v\", \"showlegend\": true, \"textposition\": \"auto\", \"type\": \"bar\", \"x\": [\"Sample output_dir_100_202007021745\", \"Sample output_dir_100_202007022135\", \"Sample output_dir_100_202007030228\", \"Sample output_dir_100_202007030703\", \"Sample output_dir_101_202007021418\", \"Sample output_dir_101_202007021758\", \"Sample output_dir_101_202007022148\", \"Sample output_dir_101_202007030247\", \"Sample output_dir_101_202007030722\", \"Sample output_dir_103_202007021816\", \"Sample output_dir_103_202007022206\", \"Sample output_dir_103_202007030305\", \"Sample output_dir_103_202007030740\", \"Sample output_dir_104_202007021431\", \"Sample output_dir_104_202007021833\", \"Sample output_dir_104_202007022222\", \"Sample output_dir_104_202007030321\", \"Sample output_dir_104_202007030756\", \"Sample output_dir_13_202007021841\", \"Sample output_dir_13_202007022245\", \"Sample output_dir_13_202007030343\", \"Sample output_dir_13_202007030819\", \"Sample output_dir_14_202007021458\", \"Sample output_dir_14_202007021903\", \"Sample output_dir_14_202007022307\", \"Sample output_dir_14_202007030405\", \"Sample output_dir_14_202007030840\", \"Sample output_dir_15_202007021516\", \"Sample output_dir_15_202007021922\", \"Sample output_dir_15_202007022325\", \"Sample output_dir_15_202007030423\", \"Sample output_dir_16_202007021536\", \"Sample output_dir_16_202007021926\", \"Sample output_dir_16_202007022345\", \"Sample output_dir_16_202007030443\", \"Sample output_dir_16_202007030905\", \"Sample output_dir_1_202007021355\", \"Sample output_dir_1_202007021727\", \"Sample output_dir_1_202007022117\", \"Sample output_dir_1_202007030210\", \"Sample output_dir_1_202007030645\", \"Sample output_dir_2_202007021557\", \"Sample output_dir_2_202007030006\", \"Sample output_dir_2_202007030449\", \"Sample output_dir_2_202007030927\", \"Sample output_dir_3_202007021613\", \"Sample output_dir_3_202007030022\", \"Sample output_dir_3_202007030504\", \"Sample output_dir_3_202007030942\", \"Sample output_dir_4_202007021617\", \"Sample output_dir_4_202007021955\", \"Sample output_dir_4_202007030042\", \"Sample output_dir_4_202007030525\", \"Sample output_dir_4_202007031003\", \"Sample output_dir_97_202007021638\", \"Sample output_dir_97_202007022016\", \"Sample output_dir_97_202007030103\", \"Sample output_dir_97_202007030546\", \"Sample output_dir_97_202007031024\", \"Sample output_dir_98_202007021659\", \"Sample output_dir_98_202007022038\", \"Sample output_dir_98_202007030125\", \"Sample output_dir_98_202007030600\", \"Sample output_dir_98_202007031045\", \"Sample output_dir_99_202007021702\", \"Sample output_dir_99_202007022052\", \"Sample output_dir_99_202007030145\", \"Sample output_dir_99_202007030621\", \"Sample output_dir_99_202007031106\"], \"xaxis\": \"x\", \"y\": [31061.0, 31061.0, 31061.0, 31061.0, 624177.0, 624177.0, 624177.0, 624177.0, 624177.0, 136160.0, 136160.0, 136160.0, 136160.0, 22513.0, 22513.0, 22513.0, 22513.0, 22513.0, 14501.0, 40225.0, 40225.0, 40225.0, 47640.0, 47640.0, 47640.0, 47640.0, 47640.0, 125411.0, 125411.0, 125411.0, 125411.0, 34367.0, 7079.0, 34367.0, 34367.0, 34367.0, 41473.0, 41473.0, 41473.0, 41473.0, 41473.0, 58100.0, 58100.0, 14757.0, 58100.0, 18470.0, 18470.0, 18470.0, 18470.0, 4153.0, 24036.0, 24036.0, 24036.0, 24036.0, 111178.0, 111178.0, 111178.0, 111178.0, 111178.0, 83770.0, 83770.0, 83770.0, 83770.0, 83770.0, 9587.0, 71171.0, 71171.0, 71171.0, 71171.0], \"yaxis\": \"y\"}, {\"alignmentgroup\": \"True\", \"hovertemplate\": \"Organism=other<br>Sample=%{x}<br>Read Count=%{y}<extra></extra>\", \"legendgroup\": \"other\", \"marker\": {\"color\": \"#FF97FF\"}, \"name\": \"other\", \"offsetgroup\": \"other\", \"orientation\": \"v\", \"showlegend\": true, \"textposition\": \"auto\", \"type\": \"bar\", \"x\": [\"Sample output_dir_100_202007021745\", \"Sample output_dir_100_202007022135\", \"Sample output_dir_100_202007030228\", \"Sample output_dir_100_202007030703\", \"Sample output_dir_101_202007021418\", \"Sample output_dir_101_202007021758\", \"Sample output_dir_101_202007022148\", \"Sample output_dir_101_202007030247\", \"Sample output_dir_101_202007030722\", \"Sample output_dir_103_202007021816\", \"Sample output_dir_103_202007022206\", \"Sample output_dir_103_202007030305\", \"Sample output_dir_103_202007030740\", \"Sample output_dir_104_202007021431\", \"Sample output_dir_104_202007021833\", \"Sample output_dir_104_202007022222\", \"Sample output_dir_104_202007030321\", \"Sample output_dir_104_202007030756\", \"Sample output_dir_13_202007021841\", \"Sample output_dir_13_202007022245\", \"Sample output_dir_13_202007030343\", \"Sample output_dir_13_202007030819\", \"Sample output_dir_14_202007021458\", \"Sample output_dir_14_202007021903\", \"Sample output_dir_14_202007022307\", \"Sample output_dir_14_202007030405\", \"Sample output_dir_14_202007030840\", \"Sample output_dir_15_202007021516\", \"Sample output_dir_15_202007021922\", \"Sample output_dir_15_202007022325\", \"Sample output_dir_15_202007030423\", \"Sample output_dir_16_202007021536\", \"Sample output_dir_16_202007021926\", \"Sample output_dir_16_202007022345\", \"Sample output_dir_16_202007030443\", \"Sample output_dir_16_202007030905\", \"Sample output_dir_1_202007021355\", \"Sample output_dir_1_202007021727\", \"Sample output_dir_1_202007022117\", \"Sample output_dir_1_202007030210\", \"Sample output_dir_1_202007030645\", \"Sample output_dir_2_202007021557\", \"Sample output_dir_2_202007030006\", \"Sample output_dir_2_202007030449\", \"Sample output_dir_2_202007030927\", \"Sample output_dir_3_202007021613\", \"Sample output_dir_3_202007030022\", \"Sample output_dir_3_202007030504\", \"Sample output_dir_3_202007030942\", \"Sample output_dir_4_202007021617\", \"Sample output_dir_4_202007021955\", \"Sample output_dir_4_202007030042\", \"Sample output_dir_4_202007030525\", \"Sample output_dir_4_202007031003\", \"Sample output_dir_97_202007021638\", \"Sample output_dir_97_202007022016\", \"Sample output_dir_97_202007030103\", \"Sample output_dir_97_202007030546\", \"Sample output_dir_97_202007031024\", \"Sample output_dir_98_202007021659\", \"Sample output_dir_98_202007022038\", \"Sample output_dir_98_202007030125\", \"Sample output_dir_98_202007030600\", \"Sample output_dir_98_202007031045\", \"Sample output_dir_99_202007021702\", \"Sample output_dir_99_202007022052\", \"Sample output_dir_99_202007030145\", \"Sample output_dir_99_202007030621\", \"Sample output_dir_99_202007031106\"], \"xaxis\": \"x\", \"y\": [0.0, 0.0, 0.0, 0.0, 0.0, 0.0, 0.0, 0.0, 0.0, 0.0, 0.0, 0.0, 0.0, 0.0, 0.0, 0.0, 0.0, 0.0, 0.0, 0.0, 0.0, 0.0, 0.0, 0.0, 0.0, 0.0, 0.0, 0.0, 0.0, 0.0, 0.0, 0.0, 0.0, 0.0, 0.0, 0.0, 0.0, 0.0, 0.0, 0.0, 0.0, 0.0, 0.0, 0.0, 0.0, 0.0, 0.0, 0.0, 0.0, 0.0, 0.0, 0.0, 0.0, 0.0, 0.0, 0.0, 0.0, 0.0, 0.0, 0.0, 0.0, 0.0, 0.0, 0.0, 0.0, 0.0, 0.0, 0.0, 0.0], \"yaxis\": \"y\"}],\n",
       "                        {\"barmode\": \"relative\", \"legend\": {\"title\": {\"text\": \"Organism\"}, \"tracegroupgap\": 0}, \"margin\": {\"t\": 60}, \"showlegend\": false, \"template\": {\"data\": {\"bar\": [{\"error_x\": {\"color\": \"#2a3f5f\"}, \"error_y\": {\"color\": \"#2a3f5f\"}, \"marker\": {\"line\": {\"color\": \"#E5ECF6\", \"width\": 0.5}}, \"type\": \"bar\"}], \"barpolar\": [{\"marker\": {\"line\": {\"color\": \"#E5ECF6\", \"width\": 0.5}}, \"type\": \"barpolar\"}], \"carpet\": [{\"aaxis\": {\"endlinecolor\": \"#2a3f5f\", \"gridcolor\": \"white\", \"linecolor\": \"white\", \"minorgridcolor\": \"white\", \"startlinecolor\": \"#2a3f5f\"}, \"baxis\": {\"endlinecolor\": \"#2a3f5f\", \"gridcolor\": \"white\", \"linecolor\": \"white\", \"minorgridcolor\": \"white\", \"startlinecolor\": \"#2a3f5f\"}, \"type\": \"carpet\"}], \"choropleth\": [{\"colorbar\": {\"outlinewidth\": 0, \"ticks\": \"\"}, \"type\": \"choropleth\"}], \"contour\": [{\"colorbar\": {\"outlinewidth\": 0, \"ticks\": \"\"}, \"colorscale\": [[0.0, \"#0d0887\"], [0.1111111111111111, \"#46039f\"], [0.2222222222222222, \"#7201a8\"], [0.3333333333333333, \"#9c179e\"], [0.4444444444444444, \"#bd3786\"], [0.5555555555555556, \"#d8576b\"], [0.6666666666666666, \"#ed7953\"], [0.7777777777777778, \"#fb9f3a\"], [0.8888888888888888, \"#fdca26\"], [1.0, \"#f0f921\"]], \"type\": \"contour\"}], \"contourcarpet\": [{\"colorbar\": {\"outlinewidth\": 0, \"ticks\": \"\"}, \"type\": \"contourcarpet\"}], \"heatmap\": [{\"colorbar\": {\"outlinewidth\": 0, \"ticks\": \"\"}, \"colorscale\": [[0.0, \"#0d0887\"], [0.1111111111111111, \"#46039f\"], [0.2222222222222222, \"#7201a8\"], [0.3333333333333333, \"#9c179e\"], [0.4444444444444444, \"#bd3786\"], [0.5555555555555556, \"#d8576b\"], [0.6666666666666666, \"#ed7953\"], [0.7777777777777778, \"#fb9f3a\"], [0.8888888888888888, \"#fdca26\"], [1.0, \"#f0f921\"]], \"type\": \"heatmap\"}], \"heatmapgl\": [{\"colorbar\": {\"outlinewidth\": 0, \"ticks\": \"\"}, \"colorscale\": [[0.0, \"#0d0887\"], [0.1111111111111111, \"#46039f\"], [0.2222222222222222, \"#7201a8\"], [0.3333333333333333, \"#9c179e\"], [0.4444444444444444, \"#bd3786\"], [0.5555555555555556, \"#d8576b\"], [0.6666666666666666, \"#ed7953\"], [0.7777777777777778, \"#fb9f3a\"], [0.8888888888888888, \"#fdca26\"], [1.0, \"#f0f921\"]], \"type\": \"heatmapgl\"}], \"histogram\": [{\"marker\": {\"colorbar\": {\"outlinewidth\": 0, \"ticks\": \"\"}}, \"type\": \"histogram\"}], \"histogram2d\": [{\"colorbar\": {\"outlinewidth\": 0, \"ticks\": \"\"}, \"colorscale\": [[0.0, \"#0d0887\"], [0.1111111111111111, \"#46039f\"], [0.2222222222222222, \"#7201a8\"], [0.3333333333333333, \"#9c179e\"], [0.4444444444444444, \"#bd3786\"], [0.5555555555555556, \"#d8576b\"], [0.6666666666666666, \"#ed7953\"], [0.7777777777777778, \"#fb9f3a\"], [0.8888888888888888, \"#fdca26\"], [1.0, \"#f0f921\"]], \"type\": \"histogram2d\"}], \"histogram2dcontour\": [{\"colorbar\": {\"outlinewidth\": 0, \"ticks\": \"\"}, \"colorscale\": [[0.0, \"#0d0887\"], [0.1111111111111111, \"#46039f\"], [0.2222222222222222, \"#7201a8\"], [0.3333333333333333, \"#9c179e\"], [0.4444444444444444, \"#bd3786\"], [0.5555555555555556, \"#d8576b\"], [0.6666666666666666, \"#ed7953\"], [0.7777777777777778, \"#fb9f3a\"], [0.8888888888888888, \"#fdca26\"], [1.0, \"#f0f921\"]], \"type\": \"histogram2dcontour\"}], \"mesh3d\": [{\"colorbar\": {\"outlinewidth\": 0, \"ticks\": \"\"}, \"type\": \"mesh3d\"}], \"parcoords\": [{\"line\": {\"colorbar\": {\"outlinewidth\": 0, \"ticks\": \"\"}}, \"type\": \"parcoords\"}], \"pie\": [{\"automargin\": true, \"type\": \"pie\"}], \"scatter\": [{\"marker\": {\"colorbar\": {\"outlinewidth\": 0, \"ticks\": \"\"}}, \"type\": \"scatter\"}], \"scatter3d\": [{\"line\": {\"colorbar\": {\"outlinewidth\": 0, \"ticks\": \"\"}}, \"marker\": {\"colorbar\": {\"outlinewidth\": 0, \"ticks\": \"\"}}, \"type\": \"scatter3d\"}], \"scattercarpet\": [{\"marker\": {\"colorbar\": {\"outlinewidth\": 0, \"ticks\": \"\"}}, \"type\": \"scattercarpet\"}], \"scattergeo\": [{\"marker\": {\"colorbar\": {\"outlinewidth\": 0, \"ticks\": \"\"}}, \"type\": \"scattergeo\"}], \"scattergl\": [{\"marker\": {\"colorbar\": {\"outlinewidth\": 0, \"ticks\": \"\"}}, \"type\": \"scattergl\"}], \"scattermapbox\": [{\"marker\": {\"colorbar\": {\"outlinewidth\": 0, \"ticks\": \"\"}}, \"type\": \"scattermapbox\"}], \"scatterpolar\": [{\"marker\": {\"colorbar\": {\"outlinewidth\": 0, \"ticks\": \"\"}}, \"type\": \"scatterpolar\"}], \"scatterpolargl\": [{\"marker\": {\"colorbar\": {\"outlinewidth\": 0, \"ticks\": \"\"}}, \"type\": \"scatterpolargl\"}], \"scatterternary\": [{\"marker\": {\"colorbar\": {\"outlinewidth\": 0, \"ticks\": \"\"}}, \"type\": \"scatterternary\"}], \"surface\": [{\"colorbar\": {\"outlinewidth\": 0, \"ticks\": \"\"}, \"colorscale\": [[0.0, \"#0d0887\"], [0.1111111111111111, \"#46039f\"], [0.2222222222222222, \"#7201a8\"], [0.3333333333333333, \"#9c179e\"], [0.4444444444444444, \"#bd3786\"], [0.5555555555555556, \"#d8576b\"], [0.6666666666666666, \"#ed7953\"], [0.7777777777777778, \"#fb9f3a\"], [0.8888888888888888, \"#fdca26\"], [1.0, \"#f0f921\"]], \"type\": \"surface\"}], \"table\": [{\"cells\": {\"fill\": {\"color\": \"#EBF0F8\"}, \"line\": {\"color\": \"white\"}}, \"header\": {\"fill\": {\"color\": \"#C8D4E3\"}, \"line\": {\"color\": \"white\"}}, \"type\": \"table\"}]}, \"layout\": {\"annotationdefaults\": {\"arrowcolor\": \"#2a3f5f\", \"arrowhead\": 0, \"arrowwidth\": 1}, \"coloraxis\": {\"colorbar\": {\"outlinewidth\": 0, \"ticks\": \"\"}}, \"colorscale\": {\"diverging\": [[0, \"#8e0152\"], [0.1, \"#c51b7d\"], [0.2, \"#de77ae\"], [0.3, \"#f1b6da\"], [0.4, \"#fde0ef\"], [0.5, \"#f7f7f7\"], [0.6, \"#e6f5d0\"], [0.7, \"#b8e186\"], [0.8, \"#7fbc41\"], [0.9, \"#4d9221\"], [1, \"#276419\"]], \"sequential\": [[0.0, \"#0d0887\"], [0.1111111111111111, \"#46039f\"], [0.2222222222222222, \"#7201a8\"], [0.3333333333333333, \"#9c179e\"], [0.4444444444444444, \"#bd3786\"], [0.5555555555555556, \"#d8576b\"], [0.6666666666666666, \"#ed7953\"], [0.7777777777777778, \"#fb9f3a\"], [0.8888888888888888, \"#fdca26\"], [1.0, \"#f0f921\"]], \"sequentialminus\": [[0.0, \"#0d0887\"], [0.1111111111111111, \"#46039f\"], [0.2222222222222222, \"#7201a8\"], [0.3333333333333333, \"#9c179e\"], [0.4444444444444444, \"#bd3786\"], [0.5555555555555556, \"#d8576b\"], [0.6666666666666666, \"#ed7953\"], [0.7777777777777778, \"#fb9f3a\"], [0.8888888888888888, \"#fdca26\"], [1.0, \"#f0f921\"]]}, \"colorway\": [\"#636efa\", \"#EF553B\", \"#00cc96\", \"#ab63fa\", \"#FFA15A\", \"#19d3f3\", \"#FF6692\", \"#B6E880\", \"#FF97FF\", \"#FECB52\"], \"font\": {\"color\": \"#2a3f5f\"}, \"geo\": {\"bgcolor\": \"white\", \"lakecolor\": \"white\", \"landcolor\": \"#E5ECF6\", \"showlakes\": true, \"showland\": true, \"subunitcolor\": \"white\"}, \"hoverlabel\": {\"align\": \"left\"}, \"hovermode\": \"closest\", \"mapbox\": {\"style\": \"light\"}, \"paper_bgcolor\": \"white\", \"plot_bgcolor\": \"#E5ECF6\", \"polar\": {\"angularaxis\": {\"gridcolor\": \"white\", \"linecolor\": \"white\", \"ticks\": \"\"}, \"bgcolor\": \"#E5ECF6\", \"radialaxis\": {\"gridcolor\": \"white\", \"linecolor\": \"white\", \"ticks\": \"\"}}, \"scene\": {\"xaxis\": {\"backgroundcolor\": \"#E5ECF6\", \"gridcolor\": \"white\", \"gridwidth\": 2, \"linecolor\": \"white\", \"showbackground\": true, \"ticks\": \"\", \"zerolinecolor\": \"white\"}, \"yaxis\": {\"backgroundcolor\": \"#E5ECF6\", \"gridcolor\": \"white\", \"gridwidth\": 2, \"linecolor\": \"white\", \"showbackground\": true, \"ticks\": \"\", \"zerolinecolor\": \"white\"}, \"zaxis\": {\"backgroundcolor\": \"#E5ECF6\", \"gridcolor\": \"white\", \"gridwidth\": 2, \"linecolor\": \"white\", \"showbackground\": true, \"ticks\": \"\", \"zerolinecolor\": \"white\"}}, \"shapedefaults\": {\"line\": {\"color\": \"#2a3f5f\"}}, \"ternary\": {\"aaxis\": {\"gridcolor\": \"white\", \"linecolor\": \"white\", \"ticks\": \"\"}, \"baxis\": {\"gridcolor\": \"white\", \"linecolor\": \"white\", \"ticks\": \"\"}, \"bgcolor\": \"#E5ECF6\", \"caxis\": {\"gridcolor\": \"white\", \"linecolor\": \"white\", \"ticks\": \"\"}}, \"title\": {\"x\": 0.05}, \"xaxis\": {\"automargin\": true, \"gridcolor\": \"white\", \"linecolor\": \"white\", \"ticks\": \"\", \"title\": {\"standoff\": 15}, \"zerolinecolor\": \"white\", \"zerolinewidth\": 2}, \"yaxis\": {\"automargin\": true, \"gridcolor\": \"white\", \"linecolor\": \"white\", \"ticks\": \"\", \"title\": {\"standoff\": 15}, \"zerolinecolor\": \"white\", \"zerolinewidth\": 2}}}, \"xaxis\": {\"anchor\": \"y\", \"domain\": [0.0, 1.0], \"title\": {\"text\": \"Sample\"}}, \"yaxis\": {\"anchor\": \"x\", \"domain\": [0.0, 1.0], \"title\": {\"text\": \"Read Count\"}}},\n",
       "                        {\"responsive\": true}\n",
       "                    ).then(function(){\n",
       "                            \n",
       "var gd = document.getElementById('227d2a2d-c4fc-45ec-8a09-6941080f3460');\n",
       "var x = new MutationObserver(function (mutations, observer) {{\n",
       "        var display = window.getComputedStyle(gd).display;\n",
       "        if (!display || display === 'none') {{\n",
       "            console.log([gd, 'removed!']);\n",
       "            Plotly.purge(gd);\n",
       "            observer.disconnect();\n",
       "        }}\n",
       "}});\n",
       "\n",
       "// Listen for the removal of the full notebook cells\n",
       "var notebookContainer = gd.closest('#notebook-container');\n",
       "if (notebookContainer) {{\n",
       "    x.observe(notebookContainer, {childList: true});\n",
       "}}\n",
       "\n",
       "// Listen for the clearing of the current output cell\n",
       "var outputEl = gd.closest('.output');\n",
       "if (outputEl) {{\n",
       "    x.observe(outputEl, {childList: true});\n",
       "}}\n",
       "\n",
       "                        })\n",
       "                };\n",
       "                });\n",
       "            </script>\n",
       "        </div>"
      ]
     },
     "metadata": {},
     "output_type": "display_data"
    }
   ],
   "source": [
    "fig = px.bar(df, x=\"Sample\", y=\"Read Count\", color='Organism')\n",
    "fig.update_layout(showlegend=False)\n",
    "fig.write_html(\"kraken2.html\")\n",
    "fig.show()\n"
   ]
  },
  {
   "cell_type": "code",
   "execution_count": null,
   "metadata": {},
   "outputs": [],
   "source": []
  }
 ],
 "metadata": {
  "kernelspec": {
   "display_name": "Python 3",
   "language": "python",
   "name": "python3"
  },
  "language_info": {
   "codemirror_mode": {
    "name": "ipython",
    "version": 3
   },
   "file_extension": ".py",
   "mimetype": "text/x-python",
   "name": "python",
   "nbconvert_exporter": "python",
   "pygments_lexer": "ipython3",
   "version": "3.7.6"
  }
 },
 "nbformat": 4,
 "nbformat_minor": 4
}
