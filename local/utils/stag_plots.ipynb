{
 "cells": [
  {
   "cell_type": "code",
   "execution_count": 1,
   "metadata": {},
   "outputs": [],
   "source": [
    "import plotly.express as px\n",
    "import pandas as pd\n"
   ]
  },
  {
   "cell_type": "code",
   "execution_count": 36,
   "metadata": {},
   "outputs": [],
   "source": [
    "# data as stacked bar charts\n",
    "data = {\n",
    "    \"Organism\": [],\n",
    "    \"Read Count\": [],\n",
    "    \"Sample\": []\n",
    "}\n",
    "samples = []\n",
    "min_reads = 0\n",
    "total_others = []\n",
    "\n",
    "with open('kraken2.csv', 'r') as f:\n",
    "    raw_data = f.read().split(\"\\n\")\n",
    "    \n",
    "    samples = [\"Sample \"+x for x in raw_data[0].split(\",\") if x != \"\"]\n",
    "    for s in samples:\n",
    "        total_others.append(0)\n",
    "    \n",
    "    for r in raw_data[1:]:\n",
    "        do_add = False\n",
    "        tmp_new = [0 for s in samples]\n",
    "        \n",
    "        tmp_r = r.split(\",\")\n",
    "        if len(tmp_r) > 1: # dealing with the last row\n",
    "            org = \"|\".join([x for x in tmp_r[:-len(samples)] if x != \"-\"])\n",
    "\n",
    "            for i in range(0, len(samples)):\n",
    "                tmp_new[i] = tmp_r[-len(samples)+i]\n",
    "                \n",
    "                if tmp_new[i] != \"NaN\" and int(tmp_new[i]) >= min_reads:\n",
    "                    do_add = True\n",
    "                \n",
    "            if do_add:\n",
    "                for i in range(0, len(samples)):\n",
    "                    data[\"Organism\"].append(org)\n",
    "                    data[\"Read Count\"].append(tmp_new[i])\n",
    "                    data[\"Sample\"].append(samples[i])\n",
    "            else:\n",
    "                for i in range(0, len(samples)):\n",
    "                    if tmp_new[i] != \"NaN\":\n",
    "                        total_others[i] += int(tmp_new[i])\n",
    "    \n",
    "for i in range(0, len(samples)):\n",
    "    data[\"Organism\"].append(\"other\")\n",
    "    data[\"Read Count\"].append(total_others[i])\n",
    "    data[\"Sample\"].append(samples[i])\n",
    "    \n",
    "df = pd.DataFrame.from_dict(data)\n",
    "df[\"Read Count\"] = df[\"Read Count\"].astype(float)\n"
   ]
  },
  {
   "cell_type": "code",
   "execution_count": 37,
   "metadata": {},
   "outputs": [
    {
     "data": {
      "application/vnd.plotly.v1+json": {
       "config": {
        "plotlyServerURL": "https://plot.ly"
       },
       "data": [
        {
         "alignmentgroup": "True",
         "hovertemplate": "Organism=Thermoplasmata<br>Sample=%{x}<br>Read Count=%{y}<extra></extra>",
         "legendgroup": "Thermoplasmata",
         "marker": {
          "color": "#636efa"
         },
         "name": "Thermoplasmata",
         "offsetgroup": "Thermoplasmata",
         "orientation": "v",
         "showlegend": true,
         "textposition": "auto",
         "type": "bar",
         "x": [
          "Sample 101",
          "Sample 14",
          "Sample 2",
          "Sample 3",
          "Sample 16",
          "Sample 4",
          "Sample 15",
          "Sample 103",
          "Sample 1",
          "Sample 97",
          "Sample 98",
          "Sample 99",
          "Sample 100",
          "Sample 13",
          "Sample 104"
         ],
         "xaxis": "x",
         "y": [
          null,
          24,
          19,
          9,
          6,
          42,
          6,
          2,
          4,
          3350,
          6,
          9,
          614,
          7,
          4
         ],
         "yaxis": "y"
        },
        {
         "alignmentgroup": "True",
         "hovertemplate": "Organism=Pelagibacterales<br>Sample=%{x}<br>Read Count=%{y}<extra></extra>",
         "legendgroup": "Pelagibacterales",
         "marker": {
          "color": "#EF553B"
         },
         "name": "Pelagibacterales",
         "offsetgroup": "Pelagibacterales",
         "orientation": "v",
         "showlegend": true,
         "textposition": "auto",
         "type": "bar",
         "x": [
          "Sample 101",
          "Sample 14",
          "Sample 2",
          "Sample 3",
          "Sample 16",
          "Sample 4",
          "Sample 15",
          "Sample 103",
          "Sample 1",
          "Sample 97",
          "Sample 98",
          "Sample 99",
          "Sample 100",
          "Sample 13",
          "Sample 104"
         ],
         "xaxis": "x",
         "y": [
          2,
          72,
          31,
          8,
          16,
          57,
          26,
          2,
          18,
          19,
          13,
          25,
          17,
          89,
          3
         ],
         "yaxis": "y"
        },
        {
         "alignmentgroup": "True",
         "hovertemplate": "Organism=Arenicellales<br>Sample=%{x}<br>Read Count=%{y}<extra></extra>",
         "legendgroup": "Arenicellales",
         "marker": {
          "color": "#00cc96"
         },
         "name": "Arenicellales",
         "offsetgroup": "Arenicellales",
         "orientation": "v",
         "showlegend": true,
         "textposition": "auto",
         "type": "bar",
         "x": [
          "Sample 101",
          "Sample 14",
          "Sample 2",
          "Sample 3",
          "Sample 16",
          "Sample 4",
          "Sample 15",
          "Sample 103",
          "Sample 1",
          "Sample 97",
          "Sample 98",
          "Sample 99",
          "Sample 100",
          "Sample 13",
          "Sample 104"
         ],
         "xaxis": "x",
         "y": [
          null,
          null,
          1,
          null,
          null,
          null,
          null,
          null,
          null,
          null,
          null,
          null,
          null,
          null,
          null
         ],
         "yaxis": "y"
        },
        {
         "alignmentgroup": "True",
         "hovertemplate": "Organism=unclassified Acidobacteriia<br>Sample=%{x}<br>Read Count=%{y}<extra></extra>",
         "legendgroup": "unclassified Acidobacteriia",
         "marker": {
          "color": "#ab63fa"
         },
         "name": "unclassified Acidobacteriia",
         "offsetgroup": "unclassified Acidobacteriia",
         "orientation": "v",
         "showlegend": true,
         "textposition": "auto",
         "type": "bar",
         "x": [
          "Sample 101",
          "Sample 14",
          "Sample 2",
          "Sample 3",
          "Sample 16",
          "Sample 4",
          "Sample 15",
          "Sample 103",
          "Sample 1",
          "Sample 97",
          "Sample 98",
          "Sample 99",
          "Sample 100",
          "Sample 13",
          "Sample 104"
         ],
         "xaxis": "x",
         "y": [
          null,
          null,
          1,
          null,
          null,
          null,
          null,
          null,
          null,
          null,
          null,
          null,
          null,
          null,
          null
         ],
         "yaxis": "y"
        },
        {
         "alignmentgroup": "True",
         "hovertemplate": "Organism=bacterium 2013Arg42i<br>Sample=%{x}<br>Read Count=%{y}<extra></extra>",
         "legendgroup": "bacterium 2013Arg42i",
         "marker": {
          "color": "#FFA15A"
         },
         "name": "bacterium 2013Arg42i",
         "offsetgroup": "bacterium 2013Arg42i",
         "orientation": "v",
         "showlegend": true,
         "textposition": "auto",
         "type": "bar",
         "x": [
          "Sample 101",
          "Sample 14",
          "Sample 2",
          "Sample 3",
          "Sample 16",
          "Sample 4",
          "Sample 15",
          "Sample 103",
          "Sample 1",
          "Sample 97",
          "Sample 98",
          "Sample 99",
          "Sample 100",
          "Sample 13",
          "Sample 104"
         ],
         "xaxis": "x",
         "y": [
          null,
          null,
          null,
          null,
          1,
          null,
          null,
          null,
          null,
          null,
          null,
          1,
          null,
          null,
          null
         ],
         "yaxis": "y"
        },
        {
         "alignmentgroup": "True",
         "hovertemplate": "Organism=Candidatus Chrysopegis<br>Sample=%{x}<br>Read Count=%{y}<extra></extra>",
         "legendgroup": "Candidatus Chrysopegis",
         "marker": {
          "color": "#19d3f3"
         },
         "name": "Candidatus Chrysopegis",
         "offsetgroup": "Candidatus Chrysopegis",
         "orientation": "v",
         "showlegend": true,
         "textposition": "auto",
         "type": "bar",
         "x": [
          "Sample 101",
          "Sample 14",
          "Sample 2",
          "Sample 3",
          "Sample 16",
          "Sample 4",
          "Sample 15",
          "Sample 103",
          "Sample 1",
          "Sample 97",
          "Sample 98",
          "Sample 99",
          "Sample 100",
          "Sample 13",
          "Sample 104"
         ],
         "xaxis": "x",
         "y": [
          null,
          1,
          null,
          null,
          null,
          1,
          null,
          null,
          null,
          null,
          null,
          null,
          null,
          null,
          null
         ],
         "yaxis": "y"
        },
        {
         "alignmentgroup": "True",
         "hovertemplate": "Organism=bacterium 1XD42-1<br>Sample=%{x}<br>Read Count=%{y}<extra></extra>",
         "legendgroup": "bacterium 1XD42-1",
         "marker": {
          "color": "#FF6692"
         },
         "name": "bacterium 1XD42-1",
         "offsetgroup": "bacterium 1XD42-1",
         "orientation": "v",
         "showlegend": true,
         "textposition": "auto",
         "type": "bar",
         "x": [
          "Sample 101",
          "Sample 14",
          "Sample 2",
          "Sample 3",
          "Sample 16",
          "Sample 4",
          "Sample 15",
          "Sample 103",
          "Sample 1",
          "Sample 97",
          "Sample 98",
          "Sample 99",
          "Sample 100",
          "Sample 13",
          "Sample 104"
         ],
         "xaxis": "x",
         "y": [
          null,
          11,
          1,
          null,
          6,
          1,
          null,
          null,
          null,
          null,
          null,
          1,
          null,
          1,
          null
         ],
         "yaxis": "y"
        },
        {
         "alignmentgroup": "True",
         "hovertemplate": "Organism=Candidatus Margulisbacteria<br>Sample=%{x}<br>Read Count=%{y}<extra></extra>",
         "legendgroup": "Candidatus Margulisbacteria",
         "marker": {
          "color": "#B6E880"
         },
         "name": "Candidatus Margulisbacteria",
         "offsetgroup": "Candidatus Margulisbacteria",
         "orientation": "v",
         "showlegend": true,
         "textposition": "auto",
         "type": "bar",
         "x": [
          "Sample 101",
          "Sample 14",
          "Sample 2",
          "Sample 3",
          "Sample 16",
          "Sample 4",
          "Sample 15",
          "Sample 103",
          "Sample 1",
          "Sample 97",
          "Sample 98",
          "Sample 99",
          "Sample 100",
          "Sample 13",
          "Sample 104"
         ],
         "xaxis": "x",
         "y": [
          null,
          null,
          2,
          null,
          null,
          3,
          null,
          null,
          null,
          null,
          2,
          5,
          3,
          2,
          null
         ],
         "yaxis": "y"
        },
        {
         "alignmentgroup": "True",
         "hovertemplate": "Organism=Nitrospirales<br>Sample=%{x}<br>Read Count=%{y}<extra></extra>",
         "legendgroup": "Nitrospirales",
         "marker": {
          "color": "#FF97FF"
         },
         "name": "Nitrospirales",
         "offsetgroup": "Nitrospirales",
         "orientation": "v",
         "showlegend": true,
         "textposition": "auto",
         "type": "bar",
         "x": [
          "Sample 101",
          "Sample 14",
          "Sample 2",
          "Sample 3",
          "Sample 16",
          "Sample 4",
          "Sample 15",
          "Sample 103",
          "Sample 1",
          "Sample 97",
          "Sample 98",
          "Sample 99",
          "Sample 100",
          "Sample 13",
          "Sample 104"
         ],
         "xaxis": "x",
         "y": [
          null,
          22,
          24,
          4,
          4,
          8,
          6,
          null,
          4,
          9,
          7,
          16,
          16,
          11,
          null
         ],
         "yaxis": "y"
        },
        {
         "alignmentgroup": "True",
         "hovertemplate": "Organism=candidate division NC10<br>Sample=%{x}<br>Read Count=%{y}<extra></extra>",
         "legendgroup": "candidate division NC10",
         "marker": {
          "color": "#FECB52"
         },
         "name": "candidate division NC10",
         "offsetgroup": "candidate division NC10",
         "orientation": "v",
         "showlegend": true,
         "textposition": "auto",
         "type": "bar",
         "x": [
          "Sample 101",
          "Sample 14",
          "Sample 2",
          "Sample 3",
          "Sample 16",
          "Sample 4",
          "Sample 15",
          "Sample 103",
          "Sample 1",
          "Sample 97",
          "Sample 98",
          "Sample 99",
          "Sample 100",
          "Sample 13",
          "Sample 104"
         ],
         "xaxis": "x",
         "y": [
          null,
          1,
          4,
          null,
          null,
          null,
          2,
          null,
          null,
          1,
          null,
          null,
          1,
          null,
          null
         ],
         "yaxis": "y"
        },
        {
         "alignmentgroup": "True",
         "hovertemplate": "Organism=Dehalococcoidia<br>Sample=%{x}<br>Read Count=%{y}<extra></extra>",
         "legendgroup": "Dehalococcoidia",
         "marker": {
          "color": "#636efa"
         },
         "name": "Dehalococcoidia",
         "offsetgroup": "Dehalococcoidia",
         "orientation": "v",
         "showlegend": true,
         "textposition": "auto",
         "type": "bar",
         "x": [
          "Sample 101",
          "Sample 14",
          "Sample 2",
          "Sample 3",
          "Sample 16",
          "Sample 4",
          "Sample 15",
          "Sample 103",
          "Sample 1",
          "Sample 97",
          "Sample 98",
          "Sample 99",
          "Sample 100",
          "Sample 13",
          "Sample 104"
         ],
         "xaxis": "x",
         "y": [
          9,
          23,
          10,
          8,
          3,
          28,
          11,
          1,
          59,
          9,
          92,
          17,
          35,
          14,
          2
         ],
         "yaxis": "y"
        },
        {
         "alignmentgroup": "True",
         "hovertemplate": "Organism=Caldilineae<br>Sample=%{x}<br>Read Count=%{y}<extra></extra>",
         "legendgroup": "Caldilineae",
         "marker": {
          "color": "#EF553B"
         },
         "name": "Caldilineae",
         "offsetgroup": "Caldilineae",
         "orientation": "v",
         "showlegend": true,
         "textposition": "auto",
         "type": "bar",
         "x": [
          "Sample 101",
          "Sample 14",
          "Sample 2",
          "Sample 3",
          "Sample 16",
          "Sample 4",
          "Sample 15",
          "Sample 103",
          "Sample 1",
          "Sample 97",
          "Sample 98",
          "Sample 99",
          "Sample 100",
          "Sample 13",
          "Sample 104"
         ],
         "xaxis": "x",
         "y": [
          3,
          13,
          7,
          1,
          null,
          11,
          5,
          2,
          4,
          46,
          4,
          15,
          8,
          14,
          null
         ],
         "yaxis": "y"
        },
        {
         "alignmentgroup": "True",
         "hovertemplate": "Organism=Enterobacterales<br>Sample=%{x}<br>Read Count=%{y}<extra></extra>",
         "legendgroup": "Enterobacterales",
         "marker": {
          "color": "#00cc96"
         },
         "name": "Enterobacterales",
         "offsetgroup": "Enterobacterales",
         "orientation": "v",
         "showlegend": true,
         "textposition": "auto",
         "type": "bar",
         "x": [
          "Sample 101",
          "Sample 14",
          "Sample 2",
          "Sample 3",
          "Sample 16",
          "Sample 4",
          "Sample 15",
          "Sample 103",
          "Sample 1",
          "Sample 97",
          "Sample 98",
          "Sample 99",
          "Sample 100",
          "Sample 13",
          "Sample 104"
         ],
         "xaxis": "x",
         "y": [
          1469592,
          53507,
          9420,
          3839,
          9689,
          4558,
          40903,
          4762,
          18746,
          46303,
          10252,
          27680,
          7540,
          1026983,
          1635
         ],
         "yaxis": "y"
        },
        {
         "alignmentgroup": "True",
         "hovertemplate": "Organism=Deferribacterales<br>Sample=%{x}<br>Read Count=%{y}<extra></extra>",
         "legendgroup": "Deferribacterales",
         "marker": {
          "color": "#ab63fa"
         },
         "name": "Deferribacterales",
         "offsetgroup": "Deferribacterales",
         "orientation": "v",
         "showlegend": true,
         "textposition": "auto",
         "type": "bar",
         "x": [
          "Sample 101",
          "Sample 14",
          "Sample 2",
          "Sample 3",
          "Sample 16",
          "Sample 4",
          "Sample 15",
          "Sample 103",
          "Sample 1",
          "Sample 97",
          "Sample 98",
          "Sample 99",
          "Sample 100",
          "Sample 13",
          "Sample 104"
         ],
         "xaxis": "x",
         "y": [
          5,
          8,
          22,
          6,
          1,
          9,
          3,
          1,
          11,
          5,
          9,
          7,
          20,
          6,
          null
         ],
         "yaxis": "y"
        },
        {
         "alignmentgroup": "True",
         "hovertemplate": "Organism=Rhodothermaeota<br>Sample=%{x}<br>Read Count=%{y}<extra></extra>",
         "legendgroup": "Rhodothermaeota",
         "marker": {
          "color": "#FFA15A"
         },
         "name": "Rhodothermaeota",
         "offsetgroup": "Rhodothermaeota",
         "orientation": "v",
         "showlegend": true,
         "textposition": "auto",
         "type": "bar",
         "x": [
          "Sample 101",
          "Sample 14",
          "Sample 2",
          "Sample 3",
          "Sample 16",
          "Sample 4",
          "Sample 15",
          "Sample 103",
          "Sample 1",
          "Sample 97",
          "Sample 98",
          "Sample 99",
          "Sample 100",
          "Sample 13",
          "Sample 104"
         ],
         "xaxis": "x",
         "y": [
          4,
          8,
          14,
          1,
          2,
          8,
          null,
          null,
          null,
          4,
          null,
          7,
          10,
          12,
          1
         ],
         "yaxis": "y"
        },
        {
         "alignmentgroup": "True",
         "hovertemplate": "Organism=unclassified Kiritimatiellaeota<br>Sample=%{x}<br>Read Count=%{y}<extra></extra>",
         "legendgroup": "unclassified Kiritimatiellaeota",
         "marker": {
          "color": "#19d3f3"
         },
         "name": "unclassified Kiritimatiellaeota",
         "offsetgroup": "unclassified Kiritimatiellaeota",
         "orientation": "v",
         "showlegend": true,
         "textposition": "auto",
         "type": "bar",
         "x": [
          "Sample 101",
          "Sample 14",
          "Sample 2",
          "Sample 3",
          "Sample 16",
          "Sample 4",
          "Sample 15",
          "Sample 103",
          "Sample 1",
          "Sample 97",
          "Sample 98",
          "Sample 99",
          "Sample 100",
          "Sample 13",
          "Sample 104"
         ],
         "xaxis": "x",
         "y": [
          1,
          12,
          7,
          null,
          11,
          3,
          1,
          1,
          4,
          3,
          null,
          7,
          9,
          6,
          null
         ],
         "yaxis": "y"
        },
        {
         "alignmentgroup": "True",
         "hovertemplate": "Organism=Cyanobacteria<br>Sample=%{x}<br>Read Count=%{y}<extra></extra>",
         "legendgroup": "Cyanobacteria",
         "marker": {
          "color": "#FF6692"
         },
         "name": "Cyanobacteria",
         "offsetgroup": "Cyanobacteria",
         "orientation": "v",
         "showlegend": true,
         "textposition": "auto",
         "type": "bar",
         "x": [
          "Sample 101",
          "Sample 14",
          "Sample 2",
          "Sample 3",
          "Sample 16",
          "Sample 4",
          "Sample 15",
          "Sample 103",
          "Sample 1",
          "Sample 97",
          "Sample 98",
          "Sample 99",
          "Sample 100",
          "Sample 13",
          "Sample 104"
         ],
         "xaxis": "x",
         "y": [
          96,
          393,
          343,
          114,
          310,
          314,
          801,
          53,
          226,
          195,
          381,
          213,
          1107,
          311,
          54
         ],
         "yaxis": "y"
        },
        {
         "alignmentgroup": "True",
         "hovertemplate": "Organism=Rickettsiales<br>Sample=%{x}<br>Read Count=%{y}<extra></extra>",
         "legendgroup": "Rickettsiales",
         "marker": {
          "color": "#B6E880"
         },
         "name": "Rickettsiales",
         "offsetgroup": "Rickettsiales",
         "orientation": "v",
         "showlegend": true,
         "textposition": "auto",
         "type": "bar",
         "x": [
          "Sample 101",
          "Sample 14",
          "Sample 2",
          "Sample 3",
          "Sample 16",
          "Sample 4",
          "Sample 15",
          "Sample 103",
          "Sample 1",
          "Sample 97",
          "Sample 98",
          "Sample 99",
          "Sample 100",
          "Sample 13",
          "Sample 104"
         ],
         "xaxis": "x",
         "y": [
          11,
          22,
          98,
          10,
          49,
          150,
          12,
          32,
          27,
          24,
          50,
          33,
          63,
          90,
          5
         ],
         "yaxis": "y"
        },
        {
         "alignmentgroup": "True",
         "hovertemplate": "Organism=Desulfurobacteriales<br>Sample=%{x}<br>Read Count=%{y}<extra></extra>",
         "legendgroup": "Desulfurobacteriales",
         "marker": {
          "color": "#FF97FF"
         },
         "name": "Desulfurobacteriales",
         "offsetgroup": "Desulfurobacteriales",
         "orientation": "v",
         "showlegend": true,
         "textposition": "auto",
         "type": "bar",
         "x": [
          "Sample 101",
          "Sample 14",
          "Sample 2",
          "Sample 3",
          "Sample 16",
          "Sample 4",
          "Sample 15",
          "Sample 103",
          "Sample 1",
          "Sample 97",
          "Sample 98",
          "Sample 99",
          "Sample 100",
          "Sample 13",
          "Sample 104"
         ],
         "xaxis": "x",
         "y": [
          null,
          3,
          16,
          3,
          2,
          4,
          1,
          2,
          1,
          1,
          1,
          3,
          6,
          8,
          null
         ],
         "yaxis": "y"
        },
        {
         "alignmentgroup": "True",
         "hovertemplate": "Organism=Candidatus Prometheoarchaeum<br>Sample=%{x}<br>Read Count=%{y}<extra></extra>",
         "legendgroup": "Candidatus Prometheoarchaeum",
         "marker": {
          "color": "#FECB52"
         },
         "name": "Candidatus Prometheoarchaeum",
         "offsetgroup": "Candidatus Prometheoarchaeum",
         "orientation": "v",
         "showlegend": true,
         "textposition": "auto",
         "type": "bar",
         "x": [
          "Sample 101",
          "Sample 14",
          "Sample 2",
          "Sample 3",
          "Sample 16",
          "Sample 4",
          "Sample 15",
          "Sample 103",
          "Sample 1",
          "Sample 97",
          "Sample 98",
          "Sample 99",
          "Sample 100",
          "Sample 13",
          "Sample 104"
         ],
         "xaxis": "x",
         "y": [
          null,
          1,
          null,
          null,
          null,
          1,
          null,
          null,
          1,
          null,
          null,
          null,
          1,
          2,
          null
         ],
         "yaxis": "y"
        },
        {
         "alignmentgroup": "True",
         "hovertemplate": "Organism=bacterium D16-29<br>Sample=%{x}<br>Read Count=%{y}<extra></extra>",
         "legendgroup": "bacterium D16-29",
         "marker": {
          "color": "#636efa"
         },
         "name": "bacterium D16-29",
         "offsetgroup": "bacterium D16-29",
         "orientation": "v",
         "showlegend": true,
         "textposition": "auto",
         "type": "bar",
         "x": [
          "Sample 101",
          "Sample 14",
          "Sample 2",
          "Sample 3",
          "Sample 16",
          "Sample 4",
          "Sample 15",
          "Sample 103",
          "Sample 1",
          "Sample 97",
          "Sample 98",
          "Sample 99",
          "Sample 100",
          "Sample 13",
          "Sample 104"
         ],
         "xaxis": "x",
         "y": [
          17,
          164,
          400,
          68,
          122,
          239,
          158,
          13,
          189,
          133,
          125,
          178,
          95,
          198,
          24
         ],
         "yaxis": "y"
        },
        {
         "alignmentgroup": "True",
         "hovertemplate": "Organism=Nitrospinia<br>Sample=%{x}<br>Read Count=%{y}<extra></extra>",
         "legendgroup": "Nitrospinia",
         "marker": {
          "color": "#EF553B"
         },
         "name": "Nitrospinia",
         "offsetgroup": "Nitrospinia",
         "orientation": "v",
         "showlegend": true,
         "textposition": "auto",
         "type": "bar",
         "x": [
          "Sample 101",
          "Sample 14",
          "Sample 2",
          "Sample 3",
          "Sample 16",
          "Sample 4",
          "Sample 15",
          "Sample 103",
          "Sample 1",
          "Sample 97",
          "Sample 98",
          "Sample 99",
          "Sample 100",
          "Sample 13",
          "Sample 104"
         ],
         "xaxis": "x",
         "y": [
          null,
          null,
          null,
          2,
          1,
          null,
          2,
          null,
          1,
          1,
          1,
          1,
          1,
          6,
          null
         ],
         "yaxis": "y"
        },
        {
         "alignmentgroup": "True",
         "hovertemplate": "Organism=Bathymodiolus heckerae thiotrophic gill symbiont<br>Sample=%{x}<br>Read Count=%{y}<extra></extra>",
         "legendgroup": "Bathymodiolus heckerae thiotrophic gill symbiont",
         "marker": {
          "color": "#00cc96"
         },
         "name": "Bathymodiolus heckerae thiotrophic gill symbiont",
         "offsetgroup": "Bathymodiolus heckerae thiotrophic gill symbiont",
         "orientation": "v",
         "showlegend": true,
         "textposition": "auto",
         "type": "bar",
         "x": [
          "Sample 101",
          "Sample 14",
          "Sample 2",
          "Sample 3",
          "Sample 16",
          "Sample 4",
          "Sample 15",
          "Sample 103",
          "Sample 1",
          "Sample 97",
          "Sample 98",
          "Sample 99",
          "Sample 100",
          "Sample 13",
          "Sample 104"
         ],
         "xaxis": "x",
         "y": [
          null,
          null,
          null,
          null,
          null,
          null,
          1,
          null,
          null,
          null,
          null,
          null,
          null,
          null,
          null
         ],
         "yaxis": "y"
        },
        {
         "alignmentgroup": "True",
         "hovertemplate": "Organism=Methanopyrales<br>Sample=%{x}<br>Read Count=%{y}<extra></extra>",
         "legendgroup": "Methanopyrales",
         "marker": {
          "color": "#ab63fa"
         },
         "name": "Methanopyrales",
         "offsetgroup": "Methanopyrales",
         "orientation": "v",
         "showlegend": true,
         "textposition": "auto",
         "type": "bar",
         "x": [
          "Sample 101",
          "Sample 14",
          "Sample 2",
          "Sample 3",
          "Sample 16",
          "Sample 4",
          "Sample 15",
          "Sample 103",
          "Sample 1",
          "Sample 97",
          "Sample 98",
          "Sample 99",
          "Sample 100",
          "Sample 13",
          "Sample 104"
         ],
         "xaxis": "x",
         "y": [
          null,
          3,
          1,
          null,
          2,
          2,
          1,
          null,
          1,
          4,
          null,
          1,
          1,
          null,
          null
         ],
         "yaxis": "y"
        },
        {
         "alignmentgroup": "True",
         "hovertemplate": "Organism=Acidiferrobacterales<br>Sample=%{x}<br>Read Count=%{y}<extra></extra>",
         "legendgroup": "Acidiferrobacterales",
         "marker": {
          "color": "#FFA15A"
         },
         "name": "Acidiferrobacterales",
         "offsetgroup": "Acidiferrobacterales",
         "orientation": "v",
         "showlegend": true,
         "textposition": "auto",
         "type": "bar",
         "x": [
          "Sample 101",
          "Sample 14",
          "Sample 2",
          "Sample 3",
          "Sample 16",
          "Sample 4",
          "Sample 15",
          "Sample 103",
          "Sample 1",
          "Sample 97",
          "Sample 98",
          "Sample 99",
          "Sample 100",
          "Sample 13",
          "Sample 104"
         ],
         "xaxis": "x",
         "y": [
          2,
          null,
          9,
          null,
          5,
          5,
          2,
          null,
          3,
          2,
          2,
          null,
          7,
          3,
          null
         ],
         "yaxis": "y"
        },
        {
         "alignmentgroup": "True",
         "hovertemplate": "Organism=Rhodocyclales<br>Sample=%{x}<br>Read Count=%{y}<extra></extra>",
         "legendgroup": "Rhodocyclales",
         "marker": {
          "color": "#19d3f3"
         },
         "name": "Rhodocyclales",
         "offsetgroup": "Rhodocyclales",
         "orientation": "v",
         "showlegend": true,
         "textposition": "auto",
         "type": "bar",
         "x": [
          "Sample 101",
          "Sample 14",
          "Sample 2",
          "Sample 3",
          "Sample 16",
          "Sample 4",
          "Sample 15",
          "Sample 103",
          "Sample 1",
          "Sample 97",
          "Sample 98",
          "Sample 99",
          "Sample 100",
          "Sample 13",
          "Sample 104"
         ],
         "xaxis": "x",
         "y": [
          54,
          370,
          162,
          945,
          2385,
          119,
          216,
          665,
          253,
          294,
          2653,
          462,
          15771,
          5300,
          1648
         ],
         "yaxis": "y"
        },
        {
         "alignmentgroup": "True",
         "hovertemplate": "Organism=Haloplasmataceae<br>Sample=%{x}<br>Read Count=%{y}<extra></extra>",
         "legendgroup": "Haloplasmataceae",
         "marker": {
          "color": "#FF6692"
         },
         "name": "Haloplasmataceae",
         "offsetgroup": "Haloplasmataceae",
         "orientation": "v",
         "showlegend": true,
         "textposition": "auto",
         "type": "bar",
         "x": [
          "Sample 101",
          "Sample 14",
          "Sample 2",
          "Sample 3",
          "Sample 16",
          "Sample 4",
          "Sample 15",
          "Sample 103",
          "Sample 1",
          "Sample 97",
          "Sample 98",
          "Sample 99",
          "Sample 100",
          "Sample 13",
          "Sample 104"
         ],
         "xaxis": "x",
         "y": [
          null,
          3,
          5,
          1,
          null,
          38,
          1,
          1,
          12,
          9,
          2,
          3,
          8,
          3,
          null
         ],
         "yaxis": "y"
        },
        {
         "alignmentgroup": "True",
         "hovertemplate": "Organism=Fusobacteriales<br>Sample=%{x}<br>Read Count=%{y}<extra></extra>",
         "legendgroup": "Fusobacteriales",
         "marker": {
          "color": "#B6E880"
         },
         "name": "Fusobacteriales",
         "offsetgroup": "Fusobacteriales",
         "orientation": "v",
         "showlegend": true,
         "textposition": "auto",
         "type": "bar",
         "x": [
          "Sample 101",
          "Sample 14",
          "Sample 2",
          "Sample 3",
          "Sample 16",
          "Sample 4",
          "Sample 15",
          "Sample 103",
          "Sample 1",
          "Sample 97",
          "Sample 98",
          "Sample 99",
          "Sample 100",
          "Sample 13",
          "Sample 104"
         ],
         "xaxis": "x",
         "y": [
          435,
          838,
          843,
          483,
          121,
          877,
          206,
          572,
          513,
          471,
          940,
          1156,
          357,
          638,
          155
         ],
         "yaxis": "y"
        },
        {
         "alignmentgroup": "True",
         "hovertemplate": "Organism=Thermococcales<br>Sample=%{x}<br>Read Count=%{y}<extra></extra>",
         "legendgroup": "Thermococcales",
         "marker": {
          "color": "#FF97FF"
         },
         "name": "Thermococcales",
         "offsetgroup": "Thermococcales",
         "orientation": "v",
         "showlegend": true,
         "textposition": "auto",
         "type": "bar",
         "x": [
          "Sample 101",
          "Sample 14",
          "Sample 2",
          "Sample 3",
          "Sample 16",
          "Sample 4",
          "Sample 15",
          "Sample 103",
          "Sample 1",
          "Sample 97",
          "Sample 98",
          "Sample 99",
          "Sample 100",
          "Sample 13",
          "Sample 104"
         ],
         "xaxis": "x",
         "y": [
          1,
          3,
          11,
          9,
          7,
          10,
          4,
          4,
          3,
          10,
          5,
          57,
          7,
          12,
          2
         ],
         "yaxis": "y"
        },
        {
         "alignmentgroup": "True",
         "hovertemplate": "Organism=Xanthomonadales<br>Sample=%{x}<br>Read Count=%{y}<extra></extra>",
         "legendgroup": "Xanthomonadales",
         "marker": {
          "color": "#FECB52"
         },
         "name": "Xanthomonadales",
         "offsetgroup": "Xanthomonadales",
         "orientation": "v",
         "showlegend": true,
         "textposition": "auto",
         "type": "bar",
         "x": [
          "Sample 101",
          "Sample 14",
          "Sample 2",
          "Sample 3",
          "Sample 16",
          "Sample 4",
          "Sample 15",
          "Sample 103",
          "Sample 1",
          "Sample 97",
          "Sample 98",
          "Sample 99",
          "Sample 100",
          "Sample 13",
          "Sample 104"
         ],
         "xaxis": "x",
         "y": [
          442,
          277,
          460,
          458,
          142,
          338,
          232,
          32,
          247,
          220,
          134,
          366,
          478,
          566,
          57
         ],
         "yaxis": "y"
        },
        {
         "alignmentgroup": "True",
         "hovertemplate": "Organism=Emcibacterales<br>Sample=%{x}<br>Read Count=%{y}<extra></extra>",
         "legendgroup": "Emcibacterales",
         "marker": {
          "color": "#636efa"
         },
         "name": "Emcibacterales",
         "offsetgroup": "Emcibacterales",
         "orientation": "v",
         "showlegend": true,
         "textposition": "auto",
         "type": "bar",
         "x": [
          "Sample 101",
          "Sample 14",
          "Sample 2",
          "Sample 3",
          "Sample 16",
          "Sample 4",
          "Sample 15",
          "Sample 103",
          "Sample 1",
          "Sample 97",
          "Sample 98",
          "Sample 99",
          "Sample 100",
          "Sample 13",
          "Sample 104"
         ],
         "xaxis": "x",
         "y": [
          1,
          1,
          11,
          null,
          1,
          14,
          2,
          1,
          null,
          null,
          1,
          null,
          4,
          3,
          null
         ],
         "yaxis": "y"
        },
        {
         "alignmentgroup": "True",
         "hovertemplate": "Organism=Kordiimonadales<br>Sample=%{x}<br>Read Count=%{y}<extra></extra>",
         "legendgroup": "Kordiimonadales",
         "marker": {
          "color": "#EF553B"
         },
         "name": "Kordiimonadales",
         "offsetgroup": "Kordiimonadales",
         "orientation": "v",
         "showlegend": true,
         "textposition": "auto",
         "type": "bar",
         "x": [
          "Sample 101",
          "Sample 14",
          "Sample 2",
          "Sample 3",
          "Sample 16",
          "Sample 4",
          "Sample 15",
          "Sample 103",
          "Sample 1",
          "Sample 97",
          "Sample 98",
          "Sample 99",
          "Sample 100",
          "Sample 13",
          "Sample 104"
         ],
         "xaxis": "x",
         "y": [
          1,
          2,
          2,
          1,
          7,
          10,
          null,
          null,
          null,
          null,
          null,
          1,
          1,
          1,
          null
         ],
         "yaxis": "y"
        },
        {
         "alignmentgroup": "True",
         "hovertemplate": "Organism=Candidatus Thermofonsia<br>Sample=%{x}<br>Read Count=%{y}<extra></extra>",
         "legendgroup": "Candidatus Thermofonsia",
         "marker": {
          "color": "#00cc96"
         },
         "name": "Candidatus Thermofonsia",
         "offsetgroup": "Candidatus Thermofonsia",
         "orientation": "v",
         "showlegend": true,
         "textposition": "auto",
         "type": "bar",
         "x": [
          "Sample 101",
          "Sample 14",
          "Sample 2",
          "Sample 3",
          "Sample 16",
          "Sample 4",
          "Sample 15",
          "Sample 103",
          "Sample 1",
          "Sample 97",
          "Sample 98",
          "Sample 99",
          "Sample 100",
          "Sample 13",
          "Sample 104"
         ],
         "xaxis": "x",
         "y": [
          null,
          1,
          1,
          null,
          2,
          null,
          2,
          null,
          null,
          1,
          null,
          1,
          3,
          1,
          null
         ],
         "yaxis": "y"
        },
        {
         "alignmentgroup": "True",
         "hovertemplate": "Organism=bacterium JGI 053<br>Sample=%{x}<br>Read Count=%{y}<extra></extra>",
         "legendgroup": "bacterium JGI 053",
         "marker": {
          "color": "#ab63fa"
         },
         "name": "bacterium JGI 053",
         "offsetgroup": "bacterium JGI 053",
         "orientation": "v",
         "showlegend": true,
         "textposition": "auto",
         "type": "bar",
         "x": [
          "Sample 101",
          "Sample 14",
          "Sample 2",
          "Sample 3",
          "Sample 16",
          "Sample 4",
          "Sample 15",
          "Sample 103",
          "Sample 1",
          "Sample 97",
          "Sample 98",
          "Sample 99",
          "Sample 100",
          "Sample 13",
          "Sample 104"
         ],
         "xaxis": "x",
         "y": [
          null,
          1,
          null,
          null,
          1,
          1,
          null,
          null,
          null,
          null,
          null,
          null,
          null,
          null,
          null
         ],
         "yaxis": "y"
        },
        {
         "alignmentgroup": "True",
         "hovertemplate": "Organism=Nitrospirae bacterium HCH-1<br>Sample=%{x}<br>Read Count=%{y}<extra></extra>",
         "legendgroup": "Nitrospirae bacterium HCH-1",
         "marker": {
          "color": "#FFA15A"
         },
         "name": "Nitrospirae bacterium HCH-1",
         "offsetgroup": "Nitrospirae bacterium HCH-1",
         "orientation": "v",
         "showlegend": true,
         "textposition": "auto",
         "type": "bar",
         "x": [
          "Sample 101",
          "Sample 14",
          "Sample 2",
          "Sample 3",
          "Sample 16",
          "Sample 4",
          "Sample 15",
          "Sample 103",
          "Sample 1",
          "Sample 97",
          "Sample 98",
          "Sample 99",
          "Sample 100",
          "Sample 13",
          "Sample 104"
         ],
         "xaxis": "x",
         "y": [
          null,
          null,
          1,
          null,
          1,
          null,
          null,
          null,
          null,
          null,
          null,
          1,
          null,
          2,
          null
         ],
         "yaxis": "y"
        },
        {
         "alignmentgroup": "True",
         "hovertemplate": "Organism=Chitinivibrionia<br>Sample=%{x}<br>Read Count=%{y}<extra></extra>",
         "legendgroup": "Chitinivibrionia",
         "marker": {
          "color": "#19d3f3"
         },
         "name": "Chitinivibrionia",
         "offsetgroup": "Chitinivibrionia",
         "orientation": "v",
         "showlegend": true,
         "textposition": "auto",
         "type": "bar",
         "x": [
          "Sample 101",
          "Sample 14",
          "Sample 2",
          "Sample 3",
          "Sample 16",
          "Sample 4",
          "Sample 15",
          "Sample 103",
          "Sample 1",
          "Sample 97",
          "Sample 98",
          "Sample 99",
          "Sample 100",
          "Sample 13",
          "Sample 104"
         ],
         "xaxis": "x",
         "y": [
          1,
          2,
          1,
          1,
          null,
          null,
          null,
          2,
          1,
          null,
          null,
          null,
          1,
          null,
          1
         ],
         "yaxis": "y"
        },
        {
         "alignmentgroup": "True",
         "hovertemplate": "Organism=Bathymodiolus brooksi thiotrophic gill symbiont<br>Sample=%{x}<br>Read Count=%{y}<extra></extra>",
         "legendgroup": "Bathymodiolus brooksi thiotrophic gill symbiont",
         "marker": {
          "color": "#FF6692"
         },
         "name": "Bathymodiolus brooksi thiotrophic gill symbiont",
         "offsetgroup": "Bathymodiolus brooksi thiotrophic gill symbiont",
         "orientation": "v",
         "showlegend": true,
         "textposition": "auto",
         "type": "bar",
         "x": [
          "Sample 101",
          "Sample 14",
          "Sample 2",
          "Sample 3",
          "Sample 16",
          "Sample 4",
          "Sample 15",
          "Sample 103",
          "Sample 1",
          "Sample 97",
          "Sample 98",
          "Sample 99",
          "Sample 100",
          "Sample 13",
          "Sample 104"
         ],
         "xaxis": "x",
         "y": [
          null,
          null,
          null,
          null,
          null,
          null,
          null,
          1,
          3,
          null,
          null,
          null,
          null,
          null,
          null
         ],
         "yaxis": "y"
        },
        {
         "alignmentgroup": "True",
         "hovertemplate": "Organism=Candidatus Brocadiae<br>Sample=%{x}<br>Read Count=%{y}<extra></extra>",
         "legendgroup": "Candidatus Brocadiae",
         "marker": {
          "color": "#B6E880"
         },
         "name": "Candidatus Brocadiae",
         "offsetgroup": "Candidatus Brocadiae",
         "orientation": "v",
         "showlegend": true,
         "textposition": "auto",
         "type": "bar",
         "x": [
          "Sample 101",
          "Sample 14",
          "Sample 2",
          "Sample 3",
          "Sample 16",
          "Sample 4",
          "Sample 15",
          "Sample 103",
          "Sample 1",
          "Sample 97",
          "Sample 98",
          "Sample 99",
          "Sample 100",
          "Sample 13",
          "Sample 104"
         ],
         "xaxis": "x",
         "y": [
          null,
          3,
          11,
          null,
          3,
          1,
          2,
          2,
          3,
          1,
          3,
          1,
          6,
          9,
          null
         ],
         "yaxis": "y"
        },
        {
         "alignmentgroup": "True",
         "hovertemplate": "Organism=bacterium c-19<br>Sample=%{x}<br>Read Count=%{y}<extra></extra>",
         "legendgroup": "bacterium c-19",
         "marker": {
          "color": "#FF97FF"
         },
         "name": "bacterium c-19",
         "offsetgroup": "bacterium c-19",
         "orientation": "v",
         "showlegend": true,
         "textposition": "auto",
         "type": "bar",
         "x": [
          "Sample 101",
          "Sample 14",
          "Sample 2",
          "Sample 3",
          "Sample 16",
          "Sample 4",
          "Sample 15",
          "Sample 103",
          "Sample 1",
          "Sample 97",
          "Sample 98",
          "Sample 99",
          "Sample 100",
          "Sample 13",
          "Sample 104"
         ],
         "xaxis": "x",
         "y": [
          null,
          31,
          7,
          13,
          11,
          357,
          1,
          87,
          15,
          14,
          7,
          151,
          13,
          75,
          3
         ],
         "yaxis": "y"
        },
        {
         "alignmentgroup": "True",
         "hovertemplate": "Organism=Chlorobi<br>Sample=%{x}<br>Read Count=%{y}<extra></extra>",
         "legendgroup": "Chlorobi",
         "marker": {
          "color": "#FECB52"
         },
         "name": "Chlorobi",
         "offsetgroup": "Chlorobi",
         "orientation": "v",
         "showlegend": true,
         "textposition": "auto",
         "type": "bar",
         "x": [
          "Sample 101",
          "Sample 14",
          "Sample 2",
          "Sample 3",
          "Sample 16",
          "Sample 4",
          "Sample 15",
          "Sample 103",
          "Sample 1",
          "Sample 97",
          "Sample 98",
          "Sample 99",
          "Sample 100",
          "Sample 13",
          "Sample 104"
         ],
         "xaxis": "x",
         "y": [
          12,
          59,
          29,
          34,
          23,
          50,
          32,
          6,
          29,
          24,
          12,
          43,
          32,
          58,
          14
         ],
         "yaxis": "y"
        },
        {
         "alignmentgroup": "True",
         "hovertemplate": "Organism=bacterium LF-3<br>Sample=%{x}<br>Read Count=%{y}<extra></extra>",
         "legendgroup": "bacterium LF-3",
         "marker": {
          "color": "#636efa"
         },
         "name": "bacterium LF-3",
         "offsetgroup": "bacterium LF-3",
         "orientation": "v",
         "showlegend": true,
         "textposition": "auto",
         "type": "bar",
         "x": [
          "Sample 101",
          "Sample 14",
          "Sample 2",
          "Sample 3",
          "Sample 16",
          "Sample 4",
          "Sample 15",
          "Sample 103",
          "Sample 1",
          "Sample 97",
          "Sample 98",
          "Sample 99",
          "Sample 100",
          "Sample 13",
          "Sample 104"
         ],
         "xaxis": "x",
         "y": [
          84,
          42,
          4144,
          3,
          166,
          204,
          221,
          707,
          2282,
          43,
          49,
          440,
          13,
          3373,
          66
         ],
         "yaxis": "y"
        },
        {
         "alignmentgroup": "True",
         "hovertemplate": "Organism=Deltaproteobacteria<br>Sample=%{x}<br>Read Count=%{y}<extra></extra>",
         "legendgroup": "Deltaproteobacteria",
         "marker": {
          "color": "#EF553B"
         },
         "name": "Deltaproteobacteria",
         "offsetgroup": "Deltaproteobacteria",
         "orientation": "v",
         "showlegend": true,
         "textposition": "auto",
         "type": "bar",
         "x": [
          "Sample 101",
          "Sample 14",
          "Sample 2",
          "Sample 3",
          "Sample 16",
          "Sample 4",
          "Sample 15",
          "Sample 103",
          "Sample 1",
          "Sample 97",
          "Sample 98",
          "Sample 99",
          "Sample 100",
          "Sample 13",
          "Sample 104"
         ],
         "xaxis": "x",
         "y": [
          13466,
          97893,
          64919,
          4731,
          152019,
          133359,
          113452,
          37798,
          50597,
          121929,
          41177,
          19810,
          7838,
          168121,
          5357
         ],
         "yaxis": "y"
        },
        {
         "alignmentgroup": "True",
         "hovertemplate": "Organism=bacterium endosymbiont of Bathymodiolus sp. 5 South<br>Sample=%{x}<br>Read Count=%{y}<extra></extra>",
         "legendgroup": "bacterium endosymbiont of Bathymodiolus sp. 5 South",
         "marker": {
          "color": "#00cc96"
         },
         "name": "bacterium endosymbiont of Bathymodiolus sp. 5 South",
         "offsetgroup": "bacterium endosymbiont of Bathymodiolus sp. 5 South",
         "orientation": "v",
         "showlegend": true,
         "textposition": "auto",
         "type": "bar",
         "x": [
          "Sample 101",
          "Sample 14",
          "Sample 2",
          "Sample 3",
          "Sample 16",
          "Sample 4",
          "Sample 15",
          "Sample 103",
          "Sample 1",
          "Sample 97",
          "Sample 98",
          "Sample 99",
          "Sample 100",
          "Sample 13",
          "Sample 104"
         ],
         "xaxis": "x",
         "y": [
          null,
          1,
          null,
          null,
          null,
          null,
          null,
          null,
          1,
          null,
          null,
          null,
          null,
          null,
          null
         ],
         "yaxis": "y"
        },
        {
         "alignmentgroup": "True",
         "hovertemplate": "Organism=Isachenkonia alkalipeptolytica<br>Sample=%{x}<br>Read Count=%{y}<extra></extra>",
         "legendgroup": "Isachenkonia alkalipeptolytica",
         "marker": {
          "color": "#ab63fa"
         },
         "name": "Isachenkonia alkalipeptolytica",
         "offsetgroup": "Isachenkonia alkalipeptolytica",
         "orientation": "v",
         "showlegend": true,
         "textposition": "auto",
         "type": "bar",
         "x": [
          "Sample 101",
          "Sample 14",
          "Sample 2",
          "Sample 3",
          "Sample 16",
          "Sample 4",
          "Sample 15",
          "Sample 103",
          "Sample 1",
          "Sample 97",
          "Sample 98",
          "Sample 99",
          "Sample 100",
          "Sample 13",
          "Sample 104"
         ],
         "xaxis": "x",
         "y": [
          null,
          null,
          1,
          null,
          2,
          4,
          null,
          null,
          null,
          null,
          null,
          8,
          2,
          4,
          null
         ],
         "yaxis": "y"
        },
        {
         "alignmentgroup": "True",
         "hovertemplate": "Organism=Chrysiogenales<br>Sample=%{x}<br>Read Count=%{y}<extra></extra>",
         "legendgroup": "Chrysiogenales",
         "marker": {
          "color": "#FFA15A"
         },
         "name": "Chrysiogenales",
         "offsetgroup": "Chrysiogenales",
         "orientation": "v",
         "showlegend": true,
         "textposition": "auto",
         "type": "bar",
         "x": [
          "Sample 101",
          "Sample 14",
          "Sample 2",
          "Sample 3",
          "Sample 16",
          "Sample 4",
          "Sample 15",
          "Sample 103",
          "Sample 1",
          "Sample 97",
          "Sample 98",
          "Sample 99",
          "Sample 100",
          "Sample 13",
          "Sample 104"
         ],
         "xaxis": "x",
         "y": [
          null,
          null,
          1,
          1,
          null,
          3,
          null,
          null,
          null,
          1,
          null,
          3,
          1,
          5,
          null
         ],
         "yaxis": "y"
        },
        {
         "alignmentgroup": "True",
         "hovertemplate": "Organism=Candidatus Thermokryptus<br>Sample=%{x}<br>Read Count=%{y}<extra></extra>",
         "legendgroup": "Candidatus Thermokryptus",
         "marker": {
          "color": "#19d3f3"
         },
         "name": "Candidatus Thermokryptus",
         "offsetgroup": "Candidatus Thermokryptus",
         "orientation": "v",
         "showlegend": true,
         "textposition": "auto",
         "type": "bar",
         "x": [
          "Sample 101",
          "Sample 14",
          "Sample 2",
          "Sample 3",
          "Sample 16",
          "Sample 4",
          "Sample 15",
          "Sample 103",
          "Sample 1",
          "Sample 97",
          "Sample 98",
          "Sample 99",
          "Sample 100",
          "Sample 13",
          "Sample 104"
         ],
         "xaxis": "x",
         "y": [
          null,
          null,
          4,
          1,
          null,
          2,
          null,
          null,
          1,
          null,
          1,
          1,
          1,
          1,
          null
         ],
         "yaxis": "y"
        },
        {
         "alignmentgroup": "True",
         "hovertemplate": "Organism=Candidatus Saccharibacteria<br>Sample=%{x}<br>Read Count=%{y}<extra></extra>",
         "legendgroup": "Candidatus Saccharibacteria",
         "marker": {
          "color": "#FF6692"
         },
         "name": "Candidatus Saccharibacteria",
         "offsetgroup": "Candidatus Saccharibacteria",
         "orientation": "v",
         "showlegend": true,
         "textposition": "auto",
         "type": "bar",
         "x": [
          "Sample 101",
          "Sample 14",
          "Sample 2",
          "Sample 3",
          "Sample 16",
          "Sample 4",
          "Sample 15",
          "Sample 103",
          "Sample 1",
          "Sample 97",
          "Sample 98",
          "Sample 99",
          "Sample 100",
          "Sample 13",
          "Sample 104"
         ],
         "xaxis": "x",
         "y": [
          234,
          254,
          91,
          279,
          246,
          115,
          1624,
          465,
          57,
          586,
          128,
          182,
          246,
          691,
          247
         ],
         "yaxis": "y"
        },
        {
         "alignmentgroup": "True",
         "hovertemplate": "Organism=unclassified Actinobacteria<br>Sample=%{x}<br>Read Count=%{y}<extra></extra>",
         "legendgroup": "unclassified Actinobacteria",
         "marker": {
          "color": "#B6E880"
         },
         "name": "unclassified Actinobacteria",
         "offsetgroup": "unclassified Actinobacteria",
         "orientation": "v",
         "showlegend": true,
         "textposition": "auto",
         "type": "bar",
         "x": [
          "Sample 101",
          "Sample 14",
          "Sample 2",
          "Sample 3",
          "Sample 16",
          "Sample 4",
          "Sample 15",
          "Sample 103",
          "Sample 1",
          "Sample 97",
          "Sample 98",
          "Sample 99",
          "Sample 100",
          "Sample 13",
          "Sample 104"
         ],
         "xaxis": "x",
         "y": [
          1,
          1,
          null,
          1,
          null,
          4,
          null,
          null,
          1,
          1,
          1,
          1,
          2,
          1,
          null
         ],
         "yaxis": "y"
        },
        {
         "alignmentgroup": "True",
         "hovertemplate": "Organism=Rhodothalassiales<br>Sample=%{x}<br>Read Count=%{y}<extra></extra>",
         "legendgroup": "Rhodothalassiales",
         "marker": {
          "color": "#FF97FF"
         },
         "name": "Rhodothalassiales",
         "offsetgroup": "Rhodothalassiales",
         "orientation": "v",
         "showlegend": true,
         "textposition": "auto",
         "type": "bar",
         "x": [
          "Sample 101",
          "Sample 14",
          "Sample 2",
          "Sample 3",
          "Sample 16",
          "Sample 4",
          "Sample 15",
          "Sample 103",
          "Sample 1",
          "Sample 97",
          "Sample 98",
          "Sample 99",
          "Sample 100",
          "Sample 13",
          "Sample 104"
         ],
         "xaxis": "x",
         "y": [
          null,
          null,
          2,
          null,
          1,
          null,
          1,
          2,
          null,
          null,
          null,
          null,
          1,
          1,
          null
         ],
         "yaxis": "y"
        },
        {
         "alignmentgroup": "True",
         "hovertemplate": "Organism=Candidatus Melainabacteria<br>Sample=%{x}<br>Read Count=%{y}<extra></extra>",
         "legendgroup": "Candidatus Melainabacteria",
         "marker": {
          "color": "#FECB52"
         },
         "name": "Candidatus Melainabacteria",
         "offsetgroup": "Candidatus Melainabacteria",
         "orientation": "v",
         "showlegend": true,
         "textposition": "auto",
         "type": "bar",
         "x": [
          "Sample 101",
          "Sample 14",
          "Sample 2",
          "Sample 3",
          "Sample 16",
          "Sample 4",
          "Sample 15",
          "Sample 103",
          "Sample 1",
          "Sample 97",
          "Sample 98",
          "Sample 99",
          "Sample 100",
          "Sample 13",
          "Sample 104"
         ],
         "xaxis": "x",
         "y": [
          157,
          569,
          185776,
          128,
          187,
          1808,
          11713,
          318,
          282,
          94735,
          30501,
          307567,
          654,
          1571,
          82
         ],
         "yaxis": "y"
        },
        {
         "alignmentgroup": "True",
         "hovertemplate": "Organism=Anaerolineae<br>Sample=%{x}<br>Read Count=%{y}<extra></extra>",
         "legendgroup": "Anaerolineae",
         "marker": {
          "color": "#636efa"
         },
         "name": "Anaerolineae",
         "offsetgroup": "Anaerolineae",
         "orientation": "v",
         "showlegend": true,
         "textposition": "auto",
         "type": "bar",
         "x": [
          "Sample 101",
          "Sample 14",
          "Sample 2",
          "Sample 3",
          "Sample 16",
          "Sample 4",
          "Sample 15",
          "Sample 103",
          "Sample 1",
          "Sample 97",
          "Sample 98",
          "Sample 99",
          "Sample 100",
          "Sample 13",
          "Sample 104"
         ],
         "xaxis": "x",
         "y": [
          10,
          129,
          69,
          13,
          14,
          55,
          56,
          5,
          59,
          47,
          41,
          57,
          40,
          217,
          27
         ],
         "yaxis": "y"
        },
        {
         "alignmentgroup": "True",
         "hovertemplate": "Organism=unclassified Vampirococcus<br>Sample=%{x}<br>Read Count=%{y}<extra></extra>",
         "legendgroup": "unclassified Vampirococcus",
         "marker": {
          "color": "#EF553B"
         },
         "name": "unclassified Vampirococcus",
         "offsetgroup": "unclassified Vampirococcus",
         "orientation": "v",
         "showlegend": true,
         "textposition": "auto",
         "type": "bar",
         "x": [
          "Sample 101",
          "Sample 14",
          "Sample 2",
          "Sample 3",
          "Sample 16",
          "Sample 4",
          "Sample 15",
          "Sample 103",
          "Sample 1",
          "Sample 97",
          "Sample 98",
          "Sample 99",
          "Sample 100",
          "Sample 13",
          "Sample 104"
         ],
         "xaxis": "x",
         "y": [
          null,
          null,
          1,
          null,
          1,
          null,
          null,
          null,
          2,
          null,
          1,
          null,
          1,
          null,
          null
         ],
         "yaxis": "y"
        },
        {
         "alignmentgroup": "True",
         "hovertemplate": "Organism=Ignavibacteriae<br>Sample=%{x}<br>Read Count=%{y}<extra></extra>",
         "legendgroup": "Ignavibacteriae",
         "marker": {
          "color": "#00cc96"
         },
         "name": "Ignavibacteriae",
         "offsetgroup": "Ignavibacteriae",
         "orientation": "v",
         "showlegend": true,
         "textposition": "auto",
         "type": "bar",
         "x": [
          "Sample 101",
          "Sample 14",
          "Sample 2",
          "Sample 3",
          "Sample 16",
          "Sample 4",
          "Sample 15",
          "Sample 103",
          "Sample 1",
          "Sample 97",
          "Sample 98",
          "Sample 99",
          "Sample 100",
          "Sample 13",
          "Sample 104"
         ],
         "xaxis": "x",
         "y": [
          null,
          2,
          2,
          3,
          3,
          6,
          null,
          null,
          2,
          5,
          1,
          null,
          1,
          null,
          null
         ],
         "yaxis": "y"
        },
        {
         "alignmentgroup": "True",
         "hovertemplate": "Organism=Immundisolibacterales<br>Sample=%{x}<br>Read Count=%{y}<extra></extra>",
         "legendgroup": "Immundisolibacterales",
         "marker": {
          "color": "#ab63fa"
         },
         "name": "Immundisolibacterales",
         "offsetgroup": "Immundisolibacterales",
         "orientation": "v",
         "showlegend": true,
         "textposition": "auto",
         "type": "bar",
         "x": [
          "Sample 101",
          "Sample 14",
          "Sample 2",
          "Sample 3",
          "Sample 16",
          "Sample 4",
          "Sample 15",
          "Sample 103",
          "Sample 1",
          "Sample 97",
          "Sample 98",
          "Sample 99",
          "Sample 100",
          "Sample 13",
          "Sample 104"
         ],
         "xaxis": "x",
         "y": [
          null,
          2,
          2,
          null,
          null,
          null,
          null,
          null,
          null,
          null,
          null,
          1,
          1,
          null,
          null
         ],
         "yaxis": "y"
        },
        {
         "alignmentgroup": "True",
         "hovertemplate": "Organism=Tepidiformia<br>Sample=%{x}<br>Read Count=%{y}<extra></extra>",
         "legendgroup": "Tepidiformia",
         "marker": {
          "color": "#FFA15A"
         },
         "name": "Tepidiformia",
         "offsetgroup": "Tepidiformia",
         "orientation": "v",
         "showlegend": true,
         "textposition": "auto",
         "type": "bar",
         "x": [
          "Sample 101",
          "Sample 14",
          "Sample 2",
          "Sample 3",
          "Sample 16",
          "Sample 4",
          "Sample 15",
          "Sample 103",
          "Sample 1",
          "Sample 97",
          "Sample 98",
          "Sample 99",
          "Sample 100",
          "Sample 13",
          "Sample 104"
         ],
         "xaxis": "x",
         "y": [
          null,
          null,
          null,
          1,
          null,
          2,
          null,
          null,
          null,
          null,
          null,
          1,
          1,
          4,
          null
         ],
         "yaxis": "y"
        },
        {
         "alignmentgroup": "True",
         "hovertemplate": "Organism=Fungi incertae sedis<br>Sample=%{x}<br>Read Count=%{y}<extra></extra>",
         "legendgroup": "Fungi incertae sedis",
         "marker": {
          "color": "#19d3f3"
         },
         "name": "Fungi incertae sedis",
         "offsetgroup": "Fungi incertae sedis",
         "orientation": "v",
         "showlegend": true,
         "textposition": "auto",
         "type": "bar",
         "x": [
          "Sample 101",
          "Sample 14",
          "Sample 2",
          "Sample 3",
          "Sample 16",
          "Sample 4",
          "Sample 15",
          "Sample 103",
          "Sample 1",
          "Sample 97",
          "Sample 98",
          "Sample 99",
          "Sample 100",
          "Sample 13",
          "Sample 104"
         ],
         "xaxis": "x",
         "y": [
          5,
          96,
          43,
          15,
          15,
          53,
          79,
          8,
          19,
          29,
          19,
          33,
          79,
          31,
          2
         ],
         "yaxis": "y"
        },
        {
         "alignmentgroup": "True",
         "hovertemplate": "Organism=Silvanigrellales<br>Sample=%{x}<br>Read Count=%{y}<extra></extra>",
         "legendgroup": "Silvanigrellales",
         "marker": {
          "color": "#FF6692"
         },
         "name": "Silvanigrellales",
         "offsetgroup": "Silvanigrellales",
         "orientation": "v",
         "showlegend": true,
         "textposition": "auto",
         "type": "bar",
         "x": [
          "Sample 101",
          "Sample 14",
          "Sample 2",
          "Sample 3",
          "Sample 16",
          "Sample 4",
          "Sample 15",
          "Sample 103",
          "Sample 1",
          "Sample 97",
          "Sample 98",
          "Sample 99",
          "Sample 100",
          "Sample 13",
          "Sample 104"
         ],
         "xaxis": "x",
         "y": [
          null,
          9,
          5,
          1,
          null,
          2,
          1,
          1,
          8,
          7,
          1,
          9,
          11,
          15,
          3
         ],
         "yaxis": "y"
        },
        {
         "alignmentgroup": "True",
         "hovertemplate": "Organism=Blastocatellales<br>Sample=%{x}<br>Read Count=%{y}<extra></extra>",
         "legendgroup": "Blastocatellales",
         "marker": {
          "color": "#B6E880"
         },
         "name": "Blastocatellales",
         "offsetgroup": "Blastocatellales",
         "orientation": "v",
         "showlegend": true,
         "textposition": "auto",
         "type": "bar",
         "x": [
          "Sample 101",
          "Sample 14",
          "Sample 2",
          "Sample 3",
          "Sample 16",
          "Sample 4",
          "Sample 15",
          "Sample 103",
          "Sample 1",
          "Sample 97",
          "Sample 98",
          "Sample 99",
          "Sample 100",
          "Sample 13",
          "Sample 104"
         ],
         "xaxis": "x",
         "y": [
          null,
          2,
          null,
          null,
          null,
          1,
          3,
          null,
          2,
          1,
          null,
          2,
          1,
          1,
          null
         ],
         "yaxis": "y"
        },
        {
         "alignmentgroup": "True",
         "hovertemplate": "Organism=Archaeoglobales<br>Sample=%{x}<br>Read Count=%{y}<extra></extra>",
         "legendgroup": "Archaeoglobales",
         "marker": {
          "color": "#FF97FF"
         },
         "name": "Archaeoglobales",
         "offsetgroup": "Archaeoglobales",
         "orientation": "v",
         "showlegend": true,
         "textposition": "auto",
         "type": "bar",
         "x": [
          "Sample 101",
          "Sample 14",
          "Sample 2",
          "Sample 3",
          "Sample 16",
          "Sample 4",
          "Sample 15",
          "Sample 103",
          "Sample 1",
          "Sample 97",
          "Sample 98",
          "Sample 99",
          "Sample 100",
          "Sample 13",
          "Sample 104"
         ],
         "xaxis": "x",
         "y": [
          null,
          null,
          1,
          null,
          1,
          2,
          null,
          null,
          1,
          null,
          null,
          1,
          3,
          1,
          null
         ],
         "yaxis": "y"
        },
        {
         "alignmentgroup": "True",
         "hovertemplate": "Organism=Nevskiales<br>Sample=%{x}<br>Read Count=%{y}<extra></extra>",
         "legendgroup": "Nevskiales",
         "marker": {
          "color": "#FECB52"
         },
         "name": "Nevskiales",
         "offsetgroup": "Nevskiales",
         "orientation": "v",
         "showlegend": true,
         "textposition": "auto",
         "type": "bar",
         "x": [
          "Sample 101",
          "Sample 14",
          "Sample 2",
          "Sample 3",
          "Sample 16",
          "Sample 4",
          "Sample 15",
          "Sample 103",
          "Sample 1",
          "Sample 97",
          "Sample 98",
          "Sample 99",
          "Sample 100",
          "Sample 13",
          "Sample 104"
         ],
         "xaxis": "x",
         "y": [
          15,
          20,
          35,
          8,
          5,
          18,
          9,
          null,
          17,
          11,
          4,
          18,
          26,
          30,
          4
         ],
         "yaxis": "y"
        },
        {
         "alignmentgroup": "True",
         "hovertemplate": "Organism=Oligoflexales<br>Sample=%{x}<br>Read Count=%{y}<extra></extra>",
         "legendgroup": "Oligoflexales",
         "marker": {
          "color": "#636efa"
         },
         "name": "Oligoflexales",
         "offsetgroup": "Oligoflexales",
         "orientation": "v",
         "showlegend": true,
         "textposition": "auto",
         "type": "bar",
         "x": [
          "Sample 101",
          "Sample 14",
          "Sample 2",
          "Sample 3",
          "Sample 16",
          "Sample 4",
          "Sample 15",
          "Sample 103",
          "Sample 1",
          "Sample 97",
          "Sample 98",
          "Sample 99",
          "Sample 100",
          "Sample 13",
          "Sample 104"
         ],
         "xaxis": "x",
         "y": [
          null,
          2,
          12,
          null,
          null,
          1,
          1,
          null,
          null,
          null,
          null,
          2,
          4,
          null,
          null
         ],
         "yaxis": "y"
        },
        {
         "alignmentgroup": "True",
         "hovertemplate": "Organism=Petrotogales<br>Sample=%{x}<br>Read Count=%{y}<extra></extra>",
         "legendgroup": "Petrotogales",
         "marker": {
          "color": "#EF553B"
         },
         "name": "Petrotogales",
         "offsetgroup": "Petrotogales",
         "orientation": "v",
         "showlegend": true,
         "textposition": "auto",
         "type": "bar",
         "x": [
          "Sample 101",
          "Sample 14",
          "Sample 2",
          "Sample 3",
          "Sample 16",
          "Sample 4",
          "Sample 15",
          "Sample 103",
          "Sample 1",
          "Sample 97",
          "Sample 98",
          "Sample 99",
          "Sample 100",
          "Sample 13",
          "Sample 104"
         ],
         "xaxis": "x",
         "y": [
          3,
          18,
          13,
          9,
          4,
          25,
          7,
          2,
          9,
          15,
          11,
          20,
          21,
          32,
          2
         ],
         "yaxis": "y"
        },
        {
         "alignmentgroup": "True",
         "hovertemplate": "Organism=bacterium D16-50<br>Sample=%{x}<br>Read Count=%{y}<extra></extra>",
         "legendgroup": "bacterium D16-50",
         "marker": {
          "color": "#00cc96"
         },
         "name": "bacterium D16-50",
         "offsetgroup": "bacterium D16-50",
         "orientation": "v",
         "showlegend": true,
         "textposition": "auto",
         "type": "bar",
         "x": [
          "Sample 101",
          "Sample 14",
          "Sample 2",
          "Sample 3",
          "Sample 16",
          "Sample 4",
          "Sample 15",
          "Sample 103",
          "Sample 1",
          "Sample 97",
          "Sample 98",
          "Sample 99",
          "Sample 100",
          "Sample 13",
          "Sample 104"
         ],
         "xaxis": "x",
         "y": [
          17,
          133,
          80,
          18,
          51,
          54,
          42,
          15,
          81,
          50,
          42,
          84,
          31,
          79,
          8
         ],
         "yaxis": "y"
        },
        {
         "alignmentgroup": "True",
         "hovertemplate": "Organism=Sphingomonadales<br>Sample=%{x}<br>Read Count=%{y}<extra></extra>",
         "legendgroup": "Sphingomonadales",
         "marker": {
          "color": "#ab63fa"
         },
         "name": "Sphingomonadales",
         "offsetgroup": "Sphingomonadales",
         "orientation": "v",
         "showlegend": true,
         "textposition": "auto",
         "type": "bar",
         "x": [
          "Sample 101",
          "Sample 14",
          "Sample 2",
          "Sample 3",
          "Sample 16",
          "Sample 4",
          "Sample 15",
          "Sample 103",
          "Sample 1",
          "Sample 97",
          "Sample 98",
          "Sample 99",
          "Sample 100",
          "Sample 13",
          "Sample 104"
         ],
         "xaxis": "x",
         "y": [
          14500,
          396,
          1071,
          193,
          361,
          613,
          349,
          87,
          428,
          241,
          129,
          441,
          626,
          683,
          94
         ],
         "yaxis": "y"
        },
        {
         "alignmentgroup": "True",
         "hovertemplate": "Organism=bacterium 1xD42-87<br>Sample=%{x}<br>Read Count=%{y}<extra></extra>",
         "legendgroup": "bacterium 1xD42-87",
         "marker": {
          "color": "#FFA15A"
         },
         "name": "bacterium 1xD42-87",
         "offsetgroup": "bacterium 1xD42-87",
         "orientation": "v",
         "showlegend": true,
         "textposition": "auto",
         "type": "bar",
         "x": [
          "Sample 101",
          "Sample 14",
          "Sample 2",
          "Sample 3",
          "Sample 16",
          "Sample 4",
          "Sample 15",
          "Sample 103",
          "Sample 1",
          "Sample 97",
          "Sample 98",
          "Sample 99",
          "Sample 100",
          "Sample 13",
          "Sample 104"
         ],
         "xaxis": "x",
         "y": [
          11,
          33,
          51,
          24,
          14,
          27,
          14,
          26,
          193,
          9,
          11,
          31,
          26,
          32,
          4
         ],
         "yaxis": "y"
        },
        {
         "alignmentgroup": "True",
         "hovertemplate": "Organism=Limnochordia<br>Sample=%{x}<br>Read Count=%{y}<extra></extra>",
         "legendgroup": "Limnochordia",
         "marker": {
          "color": "#19d3f3"
         },
         "name": "Limnochordia",
         "offsetgroup": "Limnochordia",
         "orientation": "v",
         "showlegend": true,
         "textposition": "auto",
         "type": "bar",
         "x": [
          "Sample 101",
          "Sample 14",
          "Sample 2",
          "Sample 3",
          "Sample 16",
          "Sample 4",
          "Sample 15",
          "Sample 103",
          "Sample 1",
          "Sample 97",
          "Sample 98",
          "Sample 99",
          "Sample 100",
          "Sample 13",
          "Sample 104"
         ],
         "xaxis": "x",
         "y": [
          5,
          23,
          12,
          3,
          5,
          4,
          5,
          null,
          7,
          6,
          9,
          11,
          6,
          5,
          12
         ],
         "yaxis": "y"
        },
        {
         "alignmentgroup": "True",
         "hovertemplate": "Organism=Elusimicrobiales<br>Sample=%{x}<br>Read Count=%{y}<extra></extra>",
         "legendgroup": "Elusimicrobiales",
         "marker": {
          "color": "#FF6692"
         },
         "name": "Elusimicrobiales",
         "offsetgroup": "Elusimicrobiales",
         "orientation": "v",
         "showlegend": true,
         "textposition": "auto",
         "type": "bar",
         "x": [
          "Sample 101",
          "Sample 14",
          "Sample 2",
          "Sample 3",
          "Sample 16",
          "Sample 4",
          "Sample 15",
          "Sample 103",
          "Sample 1",
          "Sample 97",
          "Sample 98",
          "Sample 99",
          "Sample 100",
          "Sample 13",
          "Sample 104"
         ],
         "xaxis": "x",
         "y": [
          2,
          1,
          4,
          1,
          3,
          null,
          null,
          null,
          null,
          1,
          1,
          2,
          null,
          2,
          null
         ],
         "yaxis": "y"
        },
        {
         "alignmentgroup": "True",
         "hovertemplate": "Organism=Thermomicrobia<br>Sample=%{x}<br>Read Count=%{y}<extra></extra>",
         "legendgroup": "Thermomicrobia",
         "marker": {
          "color": "#B6E880"
         },
         "name": "Thermomicrobia",
         "offsetgroup": "Thermomicrobia",
         "orientation": "v",
         "showlegend": true,
         "textposition": "auto",
         "type": "bar",
         "x": [
          "Sample 101",
          "Sample 14",
          "Sample 2",
          "Sample 3",
          "Sample 16",
          "Sample 4",
          "Sample 15",
          "Sample 103",
          "Sample 1",
          "Sample 97",
          "Sample 98",
          "Sample 99",
          "Sample 100",
          "Sample 13",
          "Sample 104"
         ],
         "xaxis": "x",
         "y": [
          2,
          5,
          7,
          1,
          null,
          5,
          4,
          null,
          2,
          null,
          2,
          2,
          6,
          8,
          null
         ],
         "yaxis": "y"
        },
        {
         "alignmentgroup": "True",
         "hovertemplate": "Organism=bacterium 1XD8-76<br>Sample=%{x}<br>Read Count=%{y}<extra></extra>",
         "legendgroup": "bacterium 1XD8-76",
         "marker": {
          "color": "#FF97FF"
         },
         "name": "bacterium 1XD8-76",
         "offsetgroup": "bacterium 1XD8-76",
         "orientation": "v",
         "showlegend": true,
         "textposition": "auto",
         "type": "bar",
         "x": [
          "Sample 101",
          "Sample 14",
          "Sample 2",
          "Sample 3",
          "Sample 16",
          "Sample 4",
          "Sample 15",
          "Sample 103",
          "Sample 1",
          "Sample 97",
          "Sample 98",
          "Sample 99",
          "Sample 100",
          "Sample 13",
          "Sample 104"
         ],
         "xaxis": "x",
         "y": [
          10,
          52,
          51,
          12,
          7,
          17,
          15,
          2,
          26,
          14,
          32,
          40,
          16,
          29,
          16
         ],
         "yaxis": "y"
        },
        {
         "alignmentgroup": "True",
         "hovertemplate": "Organism=Candidatus Atribacteria<br>Sample=%{x}<br>Read Count=%{y}<extra></extra>",
         "legendgroup": "Candidatus Atribacteria",
         "marker": {
          "color": "#FECB52"
         },
         "name": "Candidatus Atribacteria",
         "offsetgroup": "Candidatus Atribacteria",
         "orientation": "v",
         "showlegend": true,
         "textposition": "auto",
         "type": "bar",
         "x": [
          "Sample 101",
          "Sample 14",
          "Sample 2",
          "Sample 3",
          "Sample 16",
          "Sample 4",
          "Sample 15",
          "Sample 103",
          "Sample 1",
          "Sample 97",
          "Sample 98",
          "Sample 99",
          "Sample 100",
          "Sample 13",
          "Sample 104"
         ],
         "xaxis": "x",
         "y": [
          null,
          2,
          null,
          null,
          2,
          null,
          null,
          null,
          null,
          null,
          null,
          1,
          null,
          null,
          null
         ],
         "yaxis": "y"
        },
        {
         "alignmentgroup": "True",
         "hovertemplate": "Organism=Rubrobacteria<br>Sample=%{x}<br>Read Count=%{y}<extra></extra>",
         "legendgroup": "Rubrobacteria",
         "marker": {
          "color": "#636efa"
         },
         "name": "Rubrobacteria",
         "offsetgroup": "Rubrobacteria",
         "orientation": "v",
         "showlegend": true,
         "textposition": "auto",
         "type": "bar",
         "x": [
          "Sample 101",
          "Sample 14",
          "Sample 2",
          "Sample 3",
          "Sample 16",
          "Sample 4",
          "Sample 15",
          "Sample 103",
          "Sample 1",
          "Sample 97",
          "Sample 98",
          "Sample 99",
          "Sample 100",
          "Sample 13",
          "Sample 104"
         ],
         "xaxis": "x",
         "y": [
          3,
          6,
          12,
          5,
          3,
          6,
          6,
          1,
          7,
          7,
          5,
          9,
          16,
          19,
          3
         ],
         "yaxis": "y"
        },
        {
         "alignmentgroup": "True",
         "hovertemplate": "Organism=bacterium endosymbiont of Pedicinus badii<br>Sample=%{x}<br>Read Count=%{y}<extra></extra>",
         "legendgroup": "bacterium endosymbiont of Pedicinus badii",
         "marker": {
          "color": "#EF553B"
         },
         "name": "bacterium endosymbiont of Pedicinus badii",
         "offsetgroup": "bacterium endosymbiont of Pedicinus badii",
         "orientation": "v",
         "showlegend": true,
         "textposition": "auto",
         "type": "bar",
         "x": [
          "Sample 101",
          "Sample 14",
          "Sample 2",
          "Sample 3",
          "Sample 16",
          "Sample 4",
          "Sample 15",
          "Sample 103",
          "Sample 1",
          "Sample 97",
          "Sample 98",
          "Sample 99",
          "Sample 100",
          "Sample 13",
          "Sample 104"
         ],
         "xaxis": "x",
         "y": [
          null,
          1,
          1,
          null,
          null,
          null,
          null,
          1,
          null,
          null,
          null,
          null,
          null,
          6,
          null
         ],
         "yaxis": "y"
        },
        {
         "alignmentgroup": "True",
         "hovertemplate": "Organism=Chlamydiia<br>Sample=%{x}<br>Read Count=%{y}<extra></extra>",
         "legendgroup": "Chlamydiia",
         "marker": {
          "color": "#00cc96"
         },
         "name": "Chlamydiia",
         "offsetgroup": "Chlamydiia",
         "orientation": "v",
         "showlegend": true,
         "textposition": "auto",
         "type": "bar",
         "x": [
          "Sample 101",
          "Sample 14",
          "Sample 2",
          "Sample 3",
          "Sample 16",
          "Sample 4",
          "Sample 15",
          "Sample 103",
          "Sample 1",
          "Sample 97",
          "Sample 98",
          "Sample 99",
          "Sample 100",
          "Sample 13",
          "Sample 104"
         ],
         "xaxis": "x",
         "y": [
          15,
          14,
          16,
          7,
          3,
          14,
          8,
          4,
          86,
          10,
          3,
          23,
          13,
          16,
          5
         ],
         "yaxis": "y"
        },
        {
         "alignmentgroup": "True",
         "hovertemplate": "Organism=Candidatus Methanodesulfokores<br>Sample=%{x}<br>Read Count=%{y}<extra></extra>",
         "legendgroup": "Candidatus Methanodesulfokores",
         "marker": {
          "color": "#ab63fa"
         },
         "name": "Candidatus Methanodesulfokores",
         "offsetgroup": "Candidatus Methanodesulfokores",
         "orientation": "v",
         "showlegend": true,
         "textposition": "auto",
         "type": "bar",
         "x": [
          "Sample 101",
          "Sample 14",
          "Sample 2",
          "Sample 3",
          "Sample 16",
          "Sample 4",
          "Sample 15",
          "Sample 103",
          "Sample 1",
          "Sample 97",
          "Sample 98",
          "Sample 99",
          "Sample 100",
          "Sample 13",
          "Sample 104"
         ],
         "xaxis": "x",
         "y": [
          null,
          null,
          null,
          null,
          null,
          1,
          null,
          null,
          null,
          null,
          null,
          null,
          null,
          1,
          null
         ],
         "yaxis": "y"
        },
        {
         "alignmentgroup": "True",
         "hovertemplate": "Organism=bacterium 1XD42-8<br>Sample=%{x}<br>Read Count=%{y}<extra></extra>",
         "legendgroup": "bacterium 1XD42-8",
         "marker": {
          "color": "#FFA15A"
         },
         "name": "bacterium 1XD42-8",
         "offsetgroup": "bacterium 1XD42-8",
         "orientation": "v",
         "showlegend": true,
         "textposition": "auto",
         "type": "bar",
         "x": [
          "Sample 101",
          "Sample 14",
          "Sample 2",
          "Sample 3",
          "Sample 16",
          "Sample 4",
          "Sample 15",
          "Sample 103",
          "Sample 1",
          "Sample 97",
          "Sample 98",
          "Sample 99",
          "Sample 100",
          "Sample 13",
          "Sample 104"
         ],
         "xaxis": "x",
         "y": [
          203,
          13,
          11,
          3,
          1,
          17,
          3,
          6,
          16,
          11,
          31,
          29,
          17,
          13,
          5
         ],
         "yaxis": "y"
        },
        {
         "alignmentgroup": "True",
         "hovertemplate": "Organism=Methanomicrobia<br>Sample=%{x}<br>Read Count=%{y}<extra></extra>",
         "legendgroup": "Methanomicrobia",
         "marker": {
          "color": "#19d3f3"
         },
         "name": "Methanomicrobia",
         "offsetgroup": "Methanomicrobia",
         "orientation": "v",
         "showlegend": true,
         "textposition": "auto",
         "type": "bar",
         "x": [
          "Sample 101",
          "Sample 14",
          "Sample 2",
          "Sample 3",
          "Sample 16",
          "Sample 4",
          "Sample 15",
          "Sample 103",
          "Sample 1",
          "Sample 97",
          "Sample 98",
          "Sample 99",
          "Sample 100",
          "Sample 13",
          "Sample 104"
         ],
         "xaxis": "x",
         "y": [
          null,
          26,
          34,
          16,
          26,
          22,
          15,
          8,
          17,
          38,
          14,
          36,
          41,
          42,
          4
         ],
         "yaxis": "y"
        },
        {
         "alignmentgroup": "True",
         "hovertemplate": "Organism=Candidatus Cloacimonas<br>Sample=%{x}<br>Read Count=%{y}<extra></extra>",
         "legendgroup": "Candidatus Cloacimonas",
         "marker": {
          "color": "#FF6692"
         },
         "name": "Candidatus Cloacimonas",
         "offsetgroup": "Candidatus Cloacimonas",
         "orientation": "v",
         "showlegend": true,
         "textposition": "auto",
         "type": "bar",
         "x": [
          "Sample 101",
          "Sample 14",
          "Sample 2",
          "Sample 3",
          "Sample 16",
          "Sample 4",
          "Sample 15",
          "Sample 103",
          "Sample 1",
          "Sample 97",
          "Sample 98",
          "Sample 99",
          "Sample 100",
          "Sample 13",
          "Sample 104"
         ],
         "xaxis": "x",
         "y": [
          null,
          null,
          1,
          2,
          null,
          null,
          1,
          null,
          null,
          null,
          1,
          null,
          null,
          1,
          null
         ],
         "yaxis": "y"
        },
        {
         "alignmentgroup": "True",
         "hovertemplate": "Organism=DHVE2 group<br>Sample=%{x}<br>Read Count=%{y}<extra></extra>",
         "legendgroup": "DHVE2 group",
         "marker": {
          "color": "#B6E880"
         },
         "name": "DHVE2 group",
         "offsetgroup": "DHVE2 group",
         "orientation": "v",
         "showlegend": true,
         "textposition": "auto",
         "type": "bar",
         "x": [
          "Sample 101",
          "Sample 14",
          "Sample 2",
          "Sample 3",
          "Sample 16",
          "Sample 4",
          "Sample 15",
          "Sample 103",
          "Sample 1",
          "Sample 97",
          "Sample 98",
          "Sample 99",
          "Sample 100",
          "Sample 13",
          "Sample 104"
         ],
         "xaxis": "x",
         "y": [
          null,
          null,
          null,
          null,
          1,
          null,
          null,
          null,
          null,
          null,
          null,
          null,
          1,
          null,
          null
         ],
         "yaxis": "y"
        },
        {
         "alignmentgroup": "True",
         "hovertemplate": "Organism=Mariprofundales<br>Sample=%{x}<br>Read Count=%{y}<extra></extra>",
         "legendgroup": "Mariprofundales",
         "marker": {
          "color": "#FF97FF"
         },
         "name": "Mariprofundales",
         "offsetgroup": "Mariprofundales",
         "orientation": "v",
         "showlegend": true,
         "textposition": "auto",
         "type": "bar",
         "x": [
          "Sample 101",
          "Sample 14",
          "Sample 2",
          "Sample 3",
          "Sample 16",
          "Sample 4",
          "Sample 15",
          "Sample 103",
          "Sample 1",
          "Sample 97",
          "Sample 98",
          "Sample 99",
          "Sample 100",
          "Sample 13",
          "Sample 104"
         ],
         "xaxis": "x",
         "y": [
          null,
          null,
          2,
          2,
          4,
          14,
          1,
          2,
          null,
          1,
          null,
          4,
          3,
          3,
          null
         ],
         "yaxis": "y"
        },
        {
         "alignmentgroup": "True",
         "hovertemplate": "Organism=bacterium M00.F.Ca.ET.230.01.1.1<br>Sample=%{x}<br>Read Count=%{y}<extra></extra>",
         "legendgroup": "bacterium M00.F.Ca.ET.230.01.1.1",
         "marker": {
          "color": "#FECB52"
         },
         "name": "bacterium M00.F.Ca.ET.230.01.1.1",
         "offsetgroup": "bacterium M00.F.Ca.ET.230.01.1.1",
         "orientation": "v",
         "showlegend": true,
         "textposition": "auto",
         "type": "bar",
         "x": [
          "Sample 101",
          "Sample 14",
          "Sample 2",
          "Sample 3",
          "Sample 16",
          "Sample 4",
          "Sample 15",
          "Sample 103",
          "Sample 1",
          "Sample 97",
          "Sample 98",
          "Sample 99",
          "Sample 100",
          "Sample 13",
          "Sample 104"
         ],
         "xaxis": "x",
         "y": [
          170,
          1,
          null,
          null,
          null,
          1,
          1,
          null,
          null,
          null,
          null,
          null,
          null,
          null,
          null
         ],
         "yaxis": "y"
        },
        {
         "alignmentgroup": "True",
         "hovertemplate": "Organism=bacterium A52C2<br>Sample=%{x}<br>Read Count=%{y}<extra></extra>",
         "legendgroup": "bacterium A52C2",
         "marker": {
          "color": "#636efa"
         },
         "name": "bacterium A52C2",
         "offsetgroup": "bacterium A52C2",
         "orientation": "v",
         "showlegend": true,
         "textposition": "auto",
         "type": "bar",
         "x": [
          "Sample 101",
          "Sample 14",
          "Sample 2",
          "Sample 3",
          "Sample 16",
          "Sample 4",
          "Sample 15",
          "Sample 103",
          "Sample 1",
          "Sample 97",
          "Sample 98",
          "Sample 99",
          "Sample 100",
          "Sample 13",
          "Sample 104"
         ],
         "xaxis": "x",
         "y": [
          null,
          null,
          1,
          null,
          null,
          2,
          null,
          null,
          null,
          null,
          null,
          null,
          null,
          3,
          null
         ],
         "yaxis": "y"
        },
        {
         "alignmentgroup": "True",
         "hovertemplate": "Organism=Nitrososphaeria<br>Sample=%{x}<br>Read Count=%{y}<extra></extra>",
         "legendgroup": "Nitrososphaeria",
         "marker": {
          "color": "#EF553B"
         },
         "name": "Nitrososphaeria",
         "offsetgroup": "Nitrososphaeria",
         "orientation": "v",
         "showlegend": true,
         "textposition": "auto",
         "type": "bar",
         "x": [
          "Sample 101",
          "Sample 14",
          "Sample 2",
          "Sample 3",
          "Sample 16",
          "Sample 4",
          "Sample 15",
          "Sample 103",
          "Sample 1",
          "Sample 97",
          "Sample 98",
          "Sample 99",
          "Sample 100",
          "Sample 13",
          "Sample 104"
         ],
         "xaxis": "x",
         "y": [
          null,
          3,
          null,
          null,
          null,
          1,
          5,
          2,
          null,
          1,
          null,
          1,
          4,
          1,
          null
         ],
         "yaxis": "y"
        },
        {
         "alignmentgroup": "True",
         "hovertemplate": "Organism=Thermoanaerobaculales<br>Sample=%{x}<br>Read Count=%{y}<extra></extra>",
         "legendgroup": "Thermoanaerobaculales",
         "marker": {
          "color": "#00cc96"
         },
         "name": "Thermoanaerobaculales",
         "offsetgroup": "Thermoanaerobaculales",
         "orientation": "v",
         "showlegend": true,
         "textposition": "auto",
         "type": "bar",
         "x": [
          "Sample 101",
          "Sample 14",
          "Sample 2",
          "Sample 3",
          "Sample 16",
          "Sample 4",
          "Sample 15",
          "Sample 103",
          "Sample 1",
          "Sample 97",
          "Sample 98",
          "Sample 99",
          "Sample 100",
          "Sample 13",
          "Sample 104"
         ],
         "xaxis": "x",
         "y": [
          null,
          null,
          null,
          1,
          null,
          2,
          1,
          null,
          1,
          1,
          null,
          2,
          null,
          1,
          null
         ],
         "yaxis": "y"
        },
        {
         "alignmentgroup": "True",
         "hovertemplate": "Organism=bacterium 1XD8-92<br>Sample=%{x}<br>Read Count=%{y}<extra></extra>",
         "legendgroup": "bacterium 1XD8-92",
         "marker": {
          "color": "#ab63fa"
         },
         "name": "bacterium 1XD8-92",
         "offsetgroup": "bacterium 1XD8-92",
         "orientation": "v",
         "showlegend": true,
         "textposition": "auto",
         "type": "bar",
         "x": [
          "Sample 101",
          "Sample 14",
          "Sample 2",
          "Sample 3",
          "Sample 16",
          "Sample 4",
          "Sample 15",
          "Sample 103",
          "Sample 1",
          "Sample 97",
          "Sample 98",
          "Sample 99",
          "Sample 100",
          "Sample 13",
          "Sample 104"
         ],
         "xaxis": "x",
         "y": [
          2,
          8,
          3,
          null,
          16,
          18,
          4,
          4,
          9,
          3,
          null,
          4,
          3,
          4,
          4
         ],
         "yaxis": "y"
        },
        {
         "alignmentgroup": "True",
         "hovertemplate": "Organism=bacterium 1xD42-67<br>Sample=%{x}<br>Read Count=%{y}<extra></extra>",
         "legendgroup": "bacterium 1xD42-67",
         "marker": {
          "color": "#FFA15A"
         },
         "name": "bacterium 1xD42-67",
         "offsetgroup": "bacterium 1xD42-67",
         "orientation": "v",
         "showlegend": true,
         "textposition": "auto",
         "type": "bar",
         "x": [
          "Sample 101",
          "Sample 14",
          "Sample 2",
          "Sample 3",
          "Sample 16",
          "Sample 4",
          "Sample 15",
          "Sample 103",
          "Sample 1",
          "Sample 97",
          "Sample 98",
          "Sample 99",
          "Sample 100",
          "Sample 13",
          "Sample 104"
         ],
         "xaxis": "x",
         "y": [
          15,
          165,
          194,
          57,
          126,
          181,
          172,
          19,
          77,
          133,
          36,
          258,
          158,
          324,
          33
         ],
         "yaxis": "y"
        },
        {
         "alignmentgroup": "True",
         "hovertemplate": "Organism=Candidatus Marinimicrobia bacterium<br>Sample=%{x}<br>Read Count=%{y}<extra></extra>",
         "legendgroup": "Candidatus Marinimicrobia bacterium",
         "marker": {
          "color": "#19d3f3"
         },
         "name": "Candidatus Marinimicrobia bacterium",
         "offsetgroup": "Candidatus Marinimicrobia bacterium",
         "orientation": "v",
         "showlegend": true,
         "textposition": "auto",
         "type": "bar",
         "x": [
          "Sample 101",
          "Sample 14",
          "Sample 2",
          "Sample 3",
          "Sample 16",
          "Sample 4",
          "Sample 15",
          "Sample 103",
          "Sample 1",
          "Sample 97",
          "Sample 98",
          "Sample 99",
          "Sample 100",
          "Sample 13",
          "Sample 104"
         ],
         "xaxis": "x",
         "y": [
          1,
          2,
          4,
          4,
          5,
          4,
          null,
          1,
          16,
          3,
          null,
          2,
          6,
          4,
          null
         ],
         "yaxis": "y"
        },
        {
         "alignmentgroup": "True",
         "hovertemplate": "Organism=Brevinematales<br>Sample=%{x}<br>Read Count=%{y}<extra></extra>",
         "legendgroup": "Brevinematales",
         "marker": {
          "color": "#FF6692"
         },
         "name": "Brevinematales",
         "offsetgroup": "Brevinematales",
         "orientation": "v",
         "showlegend": true,
         "textposition": "auto",
         "type": "bar",
         "x": [
          "Sample 101",
          "Sample 14",
          "Sample 2",
          "Sample 3",
          "Sample 16",
          "Sample 4",
          "Sample 15",
          "Sample 103",
          "Sample 1",
          "Sample 97",
          "Sample 98",
          "Sample 99",
          "Sample 100",
          "Sample 13",
          "Sample 104"
         ],
         "xaxis": "x",
         "y": [
          null,
          null,
          1,
          null,
          null,
          null,
          1,
          null,
          2,
          null,
          null,
          null,
          2,
          1,
          null
         ],
         "yaxis": "y"
        },
        {
         "alignmentgroup": "True",
         "hovertemplate": "Organism=Bacteroidetes<br>Sample=%{x}<br>Read Count=%{y}<extra></extra>",
         "legendgroup": "Bacteroidetes",
         "marker": {
          "color": "#B6E880"
         },
         "name": "Bacteroidetes",
         "offsetgroup": "Bacteroidetes",
         "orientation": "v",
         "showlegend": true,
         "textposition": "auto",
         "type": "bar",
         "x": [
          "Sample 101",
          "Sample 14",
          "Sample 2",
          "Sample 3",
          "Sample 16",
          "Sample 4",
          "Sample 15",
          "Sample 103",
          "Sample 1",
          "Sample 97",
          "Sample 98",
          "Sample 99",
          "Sample 100",
          "Sample 13",
          "Sample 104"
         ],
         "xaxis": "x",
         "y": [
          5003471,
          7260255,
          5715868,
          11587742,
          14900324,
          8841650,
          5557269,
          6097818,
          5731133,
          6872347,
          8069761,
          4266855,
          4049173,
          5677982,
          12616412
         ],
         "yaxis": "y"
        },
        {
         "alignmentgroup": "True",
         "hovertemplate": "Organism=unclassified Alphaproteobacteria<br>Sample=%{x}<br>Read Count=%{y}<extra></extra>",
         "legendgroup": "unclassified Alphaproteobacteria",
         "marker": {
          "color": "#FF97FF"
         },
         "name": "unclassified Alphaproteobacteria",
         "offsetgroup": "unclassified Alphaproteobacteria",
         "orientation": "v",
         "showlegend": true,
         "textposition": "auto",
         "type": "bar",
         "x": [
          "Sample 101",
          "Sample 14",
          "Sample 2",
          "Sample 3",
          "Sample 16",
          "Sample 4",
          "Sample 15",
          "Sample 103",
          "Sample 1",
          "Sample 97",
          "Sample 98",
          "Sample 99",
          "Sample 100",
          "Sample 13",
          "Sample 104"
         ],
         "xaxis": "x",
         "y": [
          16,
          5,
          49,
          3,
          22,
          19,
          5,
          1,
          4,
          12,
          3,
          14,
          21,
          17,
          3
         ],
         "yaxis": "y"
        },
        {
         "alignmentgroup": "True",
         "hovertemplate": "Organism=unclassified Planctomycetes<br>Sample=%{x}<br>Read Count=%{y}<extra></extra>",
         "legendgroup": "unclassified Planctomycetes",
         "marker": {
          "color": "#FECB52"
         },
         "name": "unclassified Planctomycetes",
         "offsetgroup": "unclassified Planctomycetes",
         "orientation": "v",
         "showlegend": true,
         "textposition": "auto",
         "type": "bar",
         "x": [
          "Sample 101",
          "Sample 14",
          "Sample 2",
          "Sample 3",
          "Sample 16",
          "Sample 4",
          "Sample 15",
          "Sample 103",
          "Sample 1",
          "Sample 97",
          "Sample 98",
          "Sample 99",
          "Sample 100",
          "Sample 13",
          "Sample 104"
         ],
         "xaxis": "x",
         "y": [
          25,
          33,
          58,
          14,
          19,
          41,
          42,
          2,
          34,
          25,
          11,
          56,
          50,
          61,
          5
         ],
         "yaxis": "y"
        },
        {
         "alignmentgroup": "True",
         "hovertemplate": "Organism=Rhizobiales<br>Sample=%{x}<br>Read Count=%{y}<extra></extra>",
         "legendgroup": "Rhizobiales",
         "marker": {
          "color": "#636efa"
         },
         "name": "Rhizobiales",
         "offsetgroup": "Rhizobiales",
         "orientation": "v",
         "showlegend": true,
         "textposition": "auto",
         "type": "bar",
         "x": [
          "Sample 101",
          "Sample 14",
          "Sample 2",
          "Sample 3",
          "Sample 16",
          "Sample 4",
          "Sample 15",
          "Sample 103",
          "Sample 1",
          "Sample 97",
          "Sample 98",
          "Sample 99",
          "Sample 100",
          "Sample 13",
          "Sample 104"
         ],
         "xaxis": "x",
         "y": [
          7394,
          4545,
          4609,
          899,
          1772,
          2779,
          1901,
          406,
          1817,
          1326,
          939,
          2348,
          2613,
          3085,
          431
         ],
         "yaxis": "y"
        },
        {
         "alignmentgroup": "True",
         "hovertemplate": "Organism=Alteromonadales<br>Sample=%{x}<br>Read Count=%{y}<extra></extra>",
         "legendgroup": "Alteromonadales",
         "marker": {
          "color": "#EF553B"
         },
         "name": "Alteromonadales",
         "offsetgroup": "Alteromonadales",
         "orientation": "v",
         "showlegend": true,
         "textposition": "auto",
         "type": "bar",
         "x": [
          "Sample 101",
          "Sample 14",
          "Sample 2",
          "Sample 3",
          "Sample 16",
          "Sample 4",
          "Sample 15",
          "Sample 103",
          "Sample 1",
          "Sample 97",
          "Sample 98",
          "Sample 99",
          "Sample 100",
          "Sample 13",
          "Sample 104"
         ],
         "xaxis": "x",
         "y": [
          219,
          396,
          703,
          539,
          838,
          309,
          246,
          189,
          790,
          257,
          384,
          1337,
          663,
          1751,
          145
         ],
         "yaxis": "y"
        },
        {
         "alignmentgroup": "True",
         "hovertemplate": "Organism=Burkholderiales<br>Sample=%{x}<br>Read Count=%{y}<extra></extra>",
         "legendgroup": "Burkholderiales",
         "marker": {
          "color": "#00cc96"
         },
         "name": "Burkholderiales",
         "offsetgroup": "Burkholderiales",
         "orientation": "v",
         "showlegend": true,
         "textposition": "auto",
         "type": "bar",
         "x": [
          "Sample 101",
          "Sample 14",
          "Sample 2",
          "Sample 3",
          "Sample 16",
          "Sample 4",
          "Sample 15",
          "Sample 103",
          "Sample 1",
          "Sample 97",
          "Sample 98",
          "Sample 99",
          "Sample 100",
          "Sample 13",
          "Sample 104"
         ],
         "xaxis": "x",
         "y": [
          33922,
          473175,
          99285,
          65321,
          84693,
          46292,
          373540,
          292673,
          81311,
          281654,
          142110,
          236431,
          30403,
          42853,
          275042
         ],
         "yaxis": "y"
        },
        {
         "alignmentgroup": "True",
         "hovertemplate": "Organism=Orbales<br>Sample=%{x}<br>Read Count=%{y}<extra></extra>",
         "legendgroup": "Orbales",
         "marker": {
          "color": "#ab63fa"
         },
         "name": "Orbales",
         "offsetgroup": "Orbales",
         "orientation": "v",
         "showlegend": true,
         "textposition": "auto",
         "type": "bar",
         "x": [
          "Sample 101",
          "Sample 14",
          "Sample 2",
          "Sample 3",
          "Sample 16",
          "Sample 4",
          "Sample 15",
          "Sample 103",
          "Sample 1",
          "Sample 97",
          "Sample 98",
          "Sample 99",
          "Sample 100",
          "Sample 13",
          "Sample 104"
         ],
         "xaxis": "x",
         "y": [
          6,
          6,
          9,
          4,
          2,
          7,
          2,
          1,
          8,
          15,
          10,
          3,
          25,
          17,
          null
         ],
         "yaxis": "y"
        },
        {
         "alignmentgroup": "True",
         "hovertemplate": "Organism=Fibrobacteria<br>Sample=%{x}<br>Read Count=%{y}<extra></extra>",
         "legendgroup": "Fibrobacteria",
         "marker": {
          "color": "#FFA15A"
         },
         "name": "Fibrobacteria",
         "offsetgroup": "Fibrobacteria",
         "orientation": "v",
         "showlegend": true,
         "textposition": "auto",
         "type": "bar",
         "x": [
          "Sample 101",
          "Sample 14",
          "Sample 2",
          "Sample 3",
          "Sample 16",
          "Sample 4",
          "Sample 15",
          "Sample 103",
          "Sample 1",
          "Sample 97",
          "Sample 98",
          "Sample 99",
          "Sample 100",
          "Sample 13",
          "Sample 104"
         ],
         "xaxis": "x",
         "y": [
          26,
          439,
          254,
          377,
          59,
          92,
          146,
          69,
          39,
          70,
          65,
          243,
          627,
          303,
          13
         ],
         "yaxis": "y"
        },
        {
         "alignmentgroup": "True",
         "hovertemplate": "Organism=unclassified Gammaproteobacteria<br>Sample=%{x}<br>Read Count=%{y}<extra></extra>",
         "legendgroup": "unclassified Gammaproteobacteria",
         "marker": {
          "color": "#19d3f3"
         },
         "name": "unclassified Gammaproteobacteria",
         "offsetgroup": "unclassified Gammaproteobacteria",
         "orientation": "v",
         "showlegend": true,
         "textposition": "auto",
         "type": "bar",
         "x": [
          "Sample 101",
          "Sample 14",
          "Sample 2",
          "Sample 3",
          "Sample 16",
          "Sample 4",
          "Sample 15",
          "Sample 103",
          "Sample 1",
          "Sample 97",
          "Sample 98",
          "Sample 99",
          "Sample 100",
          "Sample 13",
          "Sample 104"
         ],
         "xaxis": "x",
         "y": [
          17,
          26,
          45,
          18,
          17,
          26,
          24,
          3,
          31,
          12,
          12,
          29,
          31,
          44,
          4
         ],
         "yaxis": "y"
        },
        {
         "alignmentgroup": "True",
         "hovertemplate": "Organism=Thermoflexia<br>Sample=%{x}<br>Read Count=%{y}<extra></extra>",
         "legendgroup": "Thermoflexia",
         "marker": {
          "color": "#FF6692"
         },
         "name": "Thermoflexia",
         "offsetgroup": "Thermoflexia",
         "orientation": "v",
         "showlegend": true,
         "textposition": "auto",
         "type": "bar",
         "x": [
          "Sample 101",
          "Sample 14",
          "Sample 2",
          "Sample 3",
          "Sample 16",
          "Sample 4",
          "Sample 15",
          "Sample 103",
          "Sample 1",
          "Sample 97",
          "Sample 98",
          "Sample 99",
          "Sample 100",
          "Sample 13",
          "Sample 104"
         ],
         "xaxis": "x",
         "y": [
          null,
          null,
          5,
          null,
          null,
          2,
          1,
          null,
          null,
          3,
          null,
          2,
          2,
          4,
          null
         ],
         "yaxis": "y"
        },
        {
         "alignmentgroup": "True",
         "hovertemplate": "Organism=bacterium J10(2018)<br>Sample=%{x}<br>Read Count=%{y}<extra></extra>",
         "legendgroup": "bacterium J10(2018)",
         "marker": {
          "color": "#B6E880"
         },
         "name": "bacterium J10(2018)",
         "offsetgroup": "bacterium J10(2018)",
         "orientation": "v",
         "showlegend": true,
         "textposition": "auto",
         "type": "bar",
         "x": [
          "Sample 101",
          "Sample 14",
          "Sample 2",
          "Sample 3",
          "Sample 16",
          "Sample 4",
          "Sample 15",
          "Sample 103",
          "Sample 1",
          "Sample 97",
          "Sample 98",
          "Sample 99",
          "Sample 100",
          "Sample 13",
          "Sample 104"
         ],
         "xaxis": "x",
         "y": [
          null,
          null,
          null,
          null,
          null,
          null,
          null,
          null,
          null,
          null,
          null,
          null,
          1,
          null,
          null
         ],
         "yaxis": "y"
        },
        {
         "alignmentgroup": "True",
         "hovertemplate": "Organism=Ardenticatenia<br>Sample=%{x}<br>Read Count=%{y}<extra></extra>",
         "legendgroup": "Ardenticatenia",
         "marker": {
          "color": "#FF97FF"
         },
         "name": "Ardenticatenia",
         "offsetgroup": "Ardenticatenia",
         "orientation": "v",
         "showlegend": true,
         "textposition": "auto",
         "type": "bar",
         "x": [
          "Sample 101",
          "Sample 14",
          "Sample 2",
          "Sample 3",
          "Sample 16",
          "Sample 4",
          "Sample 15",
          "Sample 103",
          "Sample 1",
          "Sample 97",
          "Sample 98",
          "Sample 99",
          "Sample 100",
          "Sample 13",
          "Sample 104"
         ],
         "xaxis": "x",
         "y": [
          5,
          null,
          6,
          2,
          3,
          6,
          1,
          null,
          2,
          5,
          1,
          9,
          2,
          8,
          null
         ],
         "yaxis": "y"
        },
        {
         "alignmentgroup": "True",
         "hovertemplate": "Organism=Methylacidiphilae<br>Sample=%{x}<br>Read Count=%{y}<extra></extra>",
         "legendgroup": "Methylacidiphilae",
         "marker": {
          "color": "#FECB52"
         },
         "name": "Methylacidiphilae",
         "offsetgroup": "Methylacidiphilae",
         "orientation": "v",
         "showlegend": true,
         "textposition": "auto",
         "type": "bar",
         "x": [
          "Sample 101",
          "Sample 14",
          "Sample 2",
          "Sample 3",
          "Sample 16",
          "Sample 4",
          "Sample 15",
          "Sample 103",
          "Sample 1",
          "Sample 97",
          "Sample 98",
          "Sample 99",
          "Sample 100",
          "Sample 13",
          "Sample 104"
         ],
         "xaxis": "x",
         "y": [
          null,
          null,
          null,
          null,
          null,
          1,
          1,
          null,
          null,
          null,
          2,
          null,
          4,
          3,
          null
         ],
         "yaxis": "y"
        },
        {
         "alignmentgroup": "True",
         "hovertemplate": "Organism=bacterium 1XD21-13<br>Sample=%{x}<br>Read Count=%{y}<extra></extra>",
         "legendgroup": "bacterium 1XD21-13",
         "marker": {
          "color": "#636efa"
         },
         "name": "bacterium 1XD21-13",
         "offsetgroup": "bacterium 1XD21-13",
         "orientation": "v",
         "showlegend": true,
         "textposition": "auto",
         "type": "bar",
         "x": [
          "Sample 101",
          "Sample 14",
          "Sample 2",
          "Sample 3",
          "Sample 16",
          "Sample 4",
          "Sample 15",
          "Sample 103",
          "Sample 1",
          "Sample 97",
          "Sample 98",
          "Sample 99",
          "Sample 100",
          "Sample 13",
          "Sample 104"
         ],
         "xaxis": "x",
         "y": [
          7,
          171,
          152,
          38,
          13,
          55,
          30,
          5,
          25,
          22,
          23,
          51,
          27,
          96,
          5
         ],
         "yaxis": "y"
        },
        {
         "alignmentgroup": "True",
         "hovertemplate": "Organism=Dictyoglomales<br>Sample=%{x}<br>Read Count=%{y}<extra></extra>",
         "legendgroup": "Dictyoglomales",
         "marker": {
          "color": "#EF553B"
         },
         "name": "Dictyoglomales",
         "offsetgroup": "Dictyoglomales",
         "orientation": "v",
         "showlegend": true,
         "textposition": "auto",
         "type": "bar",
         "x": [
          "Sample 101",
          "Sample 14",
          "Sample 2",
          "Sample 3",
          "Sample 16",
          "Sample 4",
          "Sample 15",
          "Sample 103",
          "Sample 1",
          "Sample 97",
          "Sample 98",
          "Sample 99",
          "Sample 100",
          "Sample 13",
          "Sample 104"
         ],
         "xaxis": "x",
         "y": [
          1,
          1,
          2,
          1,
          null,
          4,
          null,
          2,
          2,
          null,
          2,
          1,
          5,
          18,
          null
         ],
         "yaxis": "y"
        },
        {
         "alignmentgroup": "True",
         "hovertemplate": "Organism=unclassified Betaproteobacteria<br>Sample=%{x}<br>Read Count=%{y}<extra></extra>",
         "legendgroup": "unclassified Betaproteobacteria",
         "marker": {
          "color": "#00cc96"
         },
         "name": "unclassified Betaproteobacteria",
         "offsetgroup": "unclassified Betaproteobacteria",
         "orientation": "v",
         "showlegend": true,
         "textposition": "auto",
         "type": "bar",
         "x": [
          "Sample 101",
          "Sample 14",
          "Sample 2",
          "Sample 3",
          "Sample 16",
          "Sample 4",
          "Sample 15",
          "Sample 103",
          "Sample 1",
          "Sample 97",
          "Sample 98",
          "Sample 99",
          "Sample 100",
          "Sample 13",
          "Sample 104"
         ],
         "xaxis": "x",
         "y": [
          6,
          16,
          12,
          6,
          4,
          19,
          8,
          1,
          10,
          9,
          3,
          16,
          12,
          22,
          3
         ],
         "yaxis": "y"
        },
        {
         "alignmentgroup": "True",
         "hovertemplate": "Organism=bacterium 1xD42-62<br>Sample=%{x}<br>Read Count=%{y}<extra></extra>",
         "legendgroup": "bacterium 1xD42-62",
         "marker": {
          "color": "#ab63fa"
         },
         "name": "bacterium 1xD42-62",
         "offsetgroup": "bacterium 1xD42-62",
         "orientation": "v",
         "showlegend": true,
         "textposition": "auto",
         "type": "bar",
         "x": [
          "Sample 101",
          "Sample 14",
          "Sample 2",
          "Sample 3",
          "Sample 16",
          "Sample 4",
          "Sample 15",
          "Sample 103",
          "Sample 1",
          "Sample 97",
          "Sample 98",
          "Sample 99",
          "Sample 100",
          "Sample 13",
          "Sample 104"
         ],
         "xaxis": "x",
         "y": [
          6,
          94,
          39,
          5,
          8,
          23,
          22,
          20,
          164,
          17,
          48,
          16,
          16,
          34,
          3
         ],
         "yaxis": "y"
        },
        {
         "alignmentgroup": "True",
         "hovertemplate": "Organism=Ferrovales<br>Sample=%{x}<br>Read Count=%{y}<extra></extra>",
         "legendgroup": "Ferrovales",
         "marker": {
          "color": "#FFA15A"
         },
         "name": "Ferrovales",
         "offsetgroup": "Ferrovales",
         "orientation": "v",
         "showlegend": true,
         "textposition": "auto",
         "type": "bar",
         "x": [
          "Sample 101",
          "Sample 14",
          "Sample 2",
          "Sample 3",
          "Sample 16",
          "Sample 4",
          "Sample 15",
          "Sample 103",
          "Sample 1",
          "Sample 97",
          "Sample 98",
          "Sample 99",
          "Sample 100",
          "Sample 13",
          "Sample 104"
         ],
         "xaxis": "x",
         "y": [
          null,
          1,
          1,
          null,
          null,
          18,
          null,
          1,
          null,
          null,
          1,
          2,
          2,
          null,
          2
         ],
         "yaxis": "y"
        },
        {
         "alignmentgroup": "True",
         "hovertemplate": "Organism=unclassified Candidatus Bathyarchaeota<br>Sample=%{x}<br>Read Count=%{y}<extra></extra>",
         "legendgroup": "unclassified Candidatus Bathyarchaeota",
         "marker": {
          "color": "#19d3f3"
         },
         "name": "unclassified Candidatus Bathyarchaeota",
         "offsetgroup": "unclassified Candidatus Bathyarchaeota",
         "orientation": "v",
         "showlegend": true,
         "textposition": "auto",
         "type": "bar",
         "x": [
          "Sample 101",
          "Sample 14",
          "Sample 2",
          "Sample 3",
          "Sample 16",
          "Sample 4",
          "Sample 15",
          "Sample 103",
          "Sample 1",
          "Sample 97",
          "Sample 98",
          "Sample 99",
          "Sample 100",
          "Sample 13",
          "Sample 104"
         ],
         "xaxis": "x",
         "y": [
          null,
          null,
          null,
          null,
          null,
          null,
          null,
          null,
          null,
          null,
          null,
          1,
          null,
          null,
          null
         ],
         "yaxis": "y"
        },
        {
         "alignmentgroup": "True",
         "hovertemplate": "Organism=Abditibacteria<br>Sample=%{x}<br>Read Count=%{y}<extra></extra>",
         "legendgroup": "Abditibacteria",
         "marker": {
          "color": "#FF6692"
         },
         "name": "Abditibacteria",
         "offsetgroup": "Abditibacteria",
         "orientation": "v",
         "showlegend": true,
         "textposition": "auto",
         "type": "bar",
         "x": [
          "Sample 101",
          "Sample 14",
          "Sample 2",
          "Sample 3",
          "Sample 16",
          "Sample 4",
          "Sample 15",
          "Sample 103",
          "Sample 1",
          "Sample 97",
          "Sample 98",
          "Sample 99",
          "Sample 100",
          "Sample 13",
          "Sample 104"
         ],
         "xaxis": "x",
         "y": [
          null,
          null,
          4,
          null,
          null,
          null,
          null,
          null,
          null,
          null,
          null,
          null,
          1,
          null,
          null
         ],
         "yaxis": "y"
        },
        {
         "alignmentgroup": "True",
         "hovertemplate": "Organism=Candidatus Syntrophosphaera<br>Sample=%{x}<br>Read Count=%{y}<extra></extra>",
         "legendgroup": "Candidatus Syntrophosphaera",
         "marker": {
          "color": "#B6E880"
         },
         "name": "Candidatus Syntrophosphaera",
         "offsetgroup": "Candidatus Syntrophosphaera",
         "orientation": "v",
         "showlegend": true,
         "textposition": "auto",
         "type": "bar",
         "x": [
          "Sample 101",
          "Sample 14",
          "Sample 2",
          "Sample 3",
          "Sample 16",
          "Sample 4",
          "Sample 15",
          "Sample 103",
          "Sample 1",
          "Sample 97",
          "Sample 98",
          "Sample 99",
          "Sample 100",
          "Sample 13",
          "Sample 104"
         ],
         "xaxis": "x",
         "y": [
          null,
          null,
          1,
          null,
          null,
          null,
          null,
          null,
          null,
          null,
          null,
          null,
          1,
          null,
          null
         ],
         "yaxis": "y"
        },
        {
         "alignmentgroup": "True",
         "hovertemplate": "Organism=bacterium BCRC 81127<br>Sample=%{x}<br>Read Count=%{y}<extra></extra>",
         "legendgroup": "bacterium BCRC 81127",
         "marker": {
          "color": "#FF97FF"
         },
         "name": "bacterium BCRC 81127",
         "offsetgroup": "bacterium BCRC 81127",
         "orientation": "v",
         "showlegend": true,
         "textposition": "auto",
         "type": "bar",
         "x": [
          "Sample 101",
          "Sample 14",
          "Sample 2",
          "Sample 3",
          "Sample 16",
          "Sample 4",
          "Sample 15",
          "Sample 103",
          "Sample 1",
          "Sample 97",
          "Sample 98",
          "Sample 99",
          "Sample 100",
          "Sample 13",
          "Sample 104"
         ],
         "xaxis": "x",
         "y": [
          null,
          null,
          null,
          null,
          1,
          null,
          5,
          null,
          null,
          null,
          null,
          null,
          null,
          null,
          null
         ],
         "yaxis": "y"
        },
        {
         "alignmentgroup": "True",
         "hovertemplate": "Organism=Caulobacterales<br>Sample=%{x}<br>Read Count=%{y}<extra></extra>",
         "legendgroup": "Caulobacterales",
         "marker": {
          "color": "#FECB52"
         },
         "name": "Caulobacterales",
         "offsetgroup": "Caulobacterales",
         "orientation": "v",
         "showlegend": true,
         "textposition": "auto",
         "type": "bar",
         "x": [
          "Sample 101",
          "Sample 14",
          "Sample 2",
          "Sample 3",
          "Sample 16",
          "Sample 4",
          "Sample 15",
          "Sample 103",
          "Sample 1",
          "Sample 97",
          "Sample 98",
          "Sample 99",
          "Sample 100",
          "Sample 13",
          "Sample 104"
         ],
         "xaxis": "x",
         "y": [
          3781,
          57,
          152,
          61,
          26,
          72,
          36,
          20,
          34,
          45,
          44,
          59,
          84,
          110,
          12
         ],
         "yaxis": "y"
        },
        {
         "alignmentgroup": "True",
         "hovertemplate": "Organism=Candidatus Izimaplasma<br>Sample=%{x}<br>Read Count=%{y}<extra></extra>",
         "legendgroup": "Candidatus Izimaplasma",
         "marker": {
          "color": "#636efa"
         },
         "name": "Candidatus Izimaplasma",
         "offsetgroup": "Candidatus Izimaplasma",
         "orientation": "v",
         "showlegend": true,
         "textposition": "auto",
         "type": "bar",
         "x": [
          "Sample 101",
          "Sample 14",
          "Sample 2",
          "Sample 3",
          "Sample 16",
          "Sample 4",
          "Sample 15",
          "Sample 103",
          "Sample 1",
          "Sample 97",
          "Sample 98",
          "Sample 99",
          "Sample 100",
          "Sample 13",
          "Sample 104"
         ],
         "xaxis": "x",
         "y": [
          null,
          114,
          106,
          2,
          null,
          8,
          null,
          null,
          92,
          16,
          19,
          23,
          12,
          149,
          null
         ],
         "yaxis": "y"
        },
        {
         "alignmentgroup": "True",
         "hovertemplate": "Organism=Verrucomicrobiae<br>Sample=%{x}<br>Read Count=%{y}<extra></extra>",
         "legendgroup": "Verrucomicrobiae",
         "marker": {
          "color": "#EF553B"
         },
         "name": "Verrucomicrobiae",
         "offsetgroup": "Verrucomicrobiae",
         "orientation": "v",
         "showlegend": true,
         "textposition": "auto",
         "type": "bar",
         "x": [
          "Sample 101",
          "Sample 14",
          "Sample 2",
          "Sample 3",
          "Sample 16",
          "Sample 4",
          "Sample 15",
          "Sample 103",
          "Sample 1",
          "Sample 97",
          "Sample 98",
          "Sample 99",
          "Sample 100",
          "Sample 13",
          "Sample 104"
         ],
         "xaxis": "x",
         "y": [
          747,
          235733,
          95986,
          420,
          84587,
          205571,
          600217,
          24352,
          263468,
          30137,
          122754,
          430135,
          598,
          226863,
          257
         ],
         "yaxis": "y"
        },
        {
         "alignmentgroup": "True",
         "hovertemplate": "Organism=Cardiobacteriales<br>Sample=%{x}<br>Read Count=%{y}<extra></extra>",
         "legendgroup": "Cardiobacteriales",
         "marker": {
          "color": "#00cc96"
         },
         "name": "Cardiobacteriales",
         "offsetgroup": "Cardiobacteriales",
         "orientation": "v",
         "showlegend": true,
         "textposition": "auto",
         "type": "bar",
         "x": [
          "Sample 101",
          "Sample 14",
          "Sample 2",
          "Sample 3",
          "Sample 16",
          "Sample 4",
          "Sample 15",
          "Sample 103",
          "Sample 1",
          "Sample 97",
          "Sample 98",
          "Sample 99",
          "Sample 100",
          "Sample 13",
          "Sample 104"
         ],
         "xaxis": "x",
         "y": [
          12,
          61,
          11,
          34,
          262,
          14,
          37,
          1,
          10,
          8,
          2,
          31,
          14,
          7,
          3
         ],
         "yaxis": "y"
        },
        {
         "alignmentgroup": "True",
         "hovertemplate": "Organism=Minwuiales<br>Sample=%{x}<br>Read Count=%{y}<extra></extra>",
         "legendgroup": "Minwuiales",
         "marker": {
          "color": "#ab63fa"
         },
         "name": "Minwuiales",
         "offsetgroup": "Minwuiales",
         "orientation": "v",
         "showlegend": true,
         "textposition": "auto",
         "type": "bar",
         "x": [
          "Sample 101",
          "Sample 14",
          "Sample 2",
          "Sample 3",
          "Sample 16",
          "Sample 4",
          "Sample 15",
          "Sample 103",
          "Sample 1",
          "Sample 97",
          "Sample 98",
          "Sample 99",
          "Sample 100",
          "Sample 13",
          "Sample 104"
         ],
         "xaxis": "x",
         "y": [
          1,
          null,
          2,
          null,
          null,
          2,
          null,
          null,
          null,
          1,
          null,
          1,
          null,
          3,
          null
         ],
         "yaxis": "y"
        },
        {
         "alignmentgroup": "True",
         "hovertemplate": "Organism=Hydrogenophilales<br>Sample=%{x}<br>Read Count=%{y}<extra></extra>",
         "legendgroup": "Hydrogenophilales",
         "marker": {
          "color": "#FFA15A"
         },
         "name": "Hydrogenophilales",
         "offsetgroup": "Hydrogenophilales",
         "orientation": "v",
         "showlegend": true,
         "textposition": "auto",
         "type": "bar",
         "x": [
          "Sample 101",
          "Sample 14",
          "Sample 2",
          "Sample 3",
          "Sample 16",
          "Sample 4",
          "Sample 15",
          "Sample 103",
          "Sample 1",
          "Sample 97",
          "Sample 98",
          "Sample 99",
          "Sample 100",
          "Sample 13",
          "Sample 104"
         ],
         "xaxis": "x",
         "y": [
          3,
          4,
          13,
          null,
          1,
          6,
          11,
          null,
          3,
          8,
          3,
          8,
          6,
          10,
          7
         ],
         "yaxis": "y"
        },
        {
         "alignmentgroup": "True",
         "hovertemplate": "Organism=Mollicutes<br>Sample=%{x}<br>Read Count=%{y}<extra></extra>",
         "legendgroup": "Mollicutes",
         "marker": {
          "color": "#19d3f3"
         },
         "name": "Mollicutes",
         "offsetgroup": "Mollicutes",
         "orientation": "v",
         "showlegend": true,
         "textposition": "auto",
         "type": "bar",
         "x": [
          "Sample 101",
          "Sample 14",
          "Sample 2",
          "Sample 3",
          "Sample 16",
          "Sample 4",
          "Sample 15",
          "Sample 103",
          "Sample 1",
          "Sample 97",
          "Sample 98",
          "Sample 99",
          "Sample 100",
          "Sample 13",
          "Sample 104"
         ],
         "xaxis": "x",
         "y": [
          110,
          1262,
          1396,
          142,
          159,
          1832,
          254,
          169,
          1915,
          929,
          1154,
          366,
          575,
          1315,
          76
         ],
         "yaxis": "y"
        },
        {
         "alignmentgroup": "True",
         "hovertemplate": "Organism=Deinococci<br>Sample=%{x}<br>Read Count=%{y}<extra></extra>",
         "legendgroup": "Deinococci",
         "marker": {
          "color": "#FF6692"
         },
         "name": "Deinococci",
         "offsetgroup": "Deinococci",
         "orientation": "v",
         "showlegend": true,
         "textposition": "auto",
         "type": "bar",
         "x": [
          "Sample 101",
          "Sample 14",
          "Sample 2",
          "Sample 3",
          "Sample 16",
          "Sample 4",
          "Sample 15",
          "Sample 103",
          "Sample 1",
          "Sample 97",
          "Sample 98",
          "Sample 99",
          "Sample 100",
          "Sample 13",
          "Sample 104"
         ],
         "xaxis": "x",
         "y": [
          21,
          156,
          260,
          42,
          107,
          206,
          116,
          20,
          176,
          101,
          60,
          156,
          190,
          222,
          29
         ],
         "yaxis": "y"
        },
        {
         "alignmentgroup": "True",
         "hovertemplate": "Organism=Balneolaeota<br>Sample=%{x}<br>Read Count=%{y}<extra></extra>",
         "legendgroup": "Balneolaeota",
         "marker": {
          "color": "#B6E880"
         },
         "name": "Balneolaeota",
         "offsetgroup": "Balneolaeota",
         "orientation": "v",
         "showlegend": true,
         "textposition": "auto",
         "type": "bar",
         "x": [
          "Sample 101",
          "Sample 14",
          "Sample 2",
          "Sample 3",
          "Sample 16",
          "Sample 4",
          "Sample 15",
          "Sample 103",
          "Sample 1",
          "Sample 97",
          "Sample 98",
          "Sample 99",
          "Sample 100",
          "Sample 13",
          "Sample 104"
         ],
         "xaxis": "x",
         "y": [
          null,
          13,
          15,
          11,
          2,
          10,
          3,
          null,
          1,
          3,
          8,
          10,
          13,
          15,
          null
         ],
         "yaxis": "y"
        },
        {
         "alignmentgroup": "True",
         "hovertemplate": "Organism=Kosmotogales<br>Sample=%{x}<br>Read Count=%{y}<extra></extra>",
         "legendgroup": "Kosmotogales",
         "marker": {
          "color": "#FF97FF"
         },
         "name": "Kosmotogales",
         "offsetgroup": "Kosmotogales",
         "orientation": "v",
         "showlegend": true,
         "textposition": "auto",
         "type": "bar",
         "x": [
          "Sample 101",
          "Sample 14",
          "Sample 2",
          "Sample 3",
          "Sample 16",
          "Sample 4",
          "Sample 15",
          "Sample 103",
          "Sample 1",
          "Sample 97",
          "Sample 98",
          "Sample 99",
          "Sample 100",
          "Sample 13",
          "Sample 104"
         ],
         "xaxis": "x",
         "y": [
          null,
          1,
          10,
          4,
          1,
          3,
          6,
          null,
          2,
          8,
          null,
          8,
          9,
          6,
          1
         ],
         "yaxis": "y"
        },
        {
         "alignmentgroup": "True",
         "hovertemplate": "Organism=bacterium NHP-B<br>Sample=%{x}<br>Read Count=%{y}<extra></extra>",
         "legendgroup": "bacterium NHP-B",
         "marker": {
          "color": "#FECB52"
         },
         "name": "bacterium NHP-B",
         "offsetgroup": "bacterium NHP-B",
         "orientation": "v",
         "showlegend": true,
         "textposition": "auto",
         "type": "bar",
         "x": [
          "Sample 101",
          "Sample 14",
          "Sample 2",
          "Sample 3",
          "Sample 16",
          "Sample 4",
          "Sample 15",
          "Sample 103",
          "Sample 1",
          "Sample 97",
          "Sample 98",
          "Sample 99",
          "Sample 100",
          "Sample 13",
          "Sample 104"
         ],
         "xaxis": "x",
         "y": [
          null,
          null,
          null,
          null,
          null,
          null,
          null,
          null,
          null,
          null,
          null,
          null,
          1,
          null,
          null
         ],
         "yaxis": "y"
        },
        {
         "alignmentgroup": "True",
         "hovertemplate": "Organism=Candidatus Methanoliparales<br>Sample=%{x}<br>Read Count=%{y}<extra></extra>",
         "legendgroup": "Candidatus Methanoliparales",
         "marker": {
          "color": "#636efa"
         },
         "name": "Candidatus Methanoliparales",
         "offsetgroup": "Candidatus Methanoliparales",
         "orientation": "v",
         "showlegend": true,
         "textposition": "auto",
         "type": "bar",
         "x": [
          "Sample 101",
          "Sample 14",
          "Sample 2",
          "Sample 3",
          "Sample 16",
          "Sample 4",
          "Sample 15",
          "Sample 103",
          "Sample 1",
          "Sample 97",
          "Sample 98",
          "Sample 99",
          "Sample 100",
          "Sample 13",
          "Sample 104"
         ],
         "xaxis": "x",
         "y": [
          null,
          null,
          null,
          1,
          null,
          null,
          null,
          null,
          null,
          null,
          8,
          null,
          1,
          null,
          null
         ],
         "yaxis": "y"
        },
        {
         "alignmentgroup": "True",
         "hovertemplate": "Organism=bacterium 1XD42-54<br>Sample=%{x}<br>Read Count=%{y}<extra></extra>",
         "legendgroup": "bacterium 1XD42-54",
         "marker": {
          "color": "#EF553B"
         },
         "name": "bacterium 1XD42-54",
         "offsetgroup": "bacterium 1XD42-54",
         "orientation": "v",
         "showlegend": true,
         "textposition": "auto",
         "type": "bar",
         "x": [
          "Sample 101",
          "Sample 14",
          "Sample 2",
          "Sample 3",
          "Sample 16",
          "Sample 4",
          "Sample 15",
          "Sample 103",
          "Sample 1",
          "Sample 97",
          "Sample 98",
          "Sample 99",
          "Sample 100",
          "Sample 13",
          "Sample 104"
         ],
         "xaxis": "x",
         "y": [
          17,
          21,
          51,
          5,
          16,
          34,
          25,
          19,
          26,
          52,
          26,
          27,
          33,
          25,
          2
         ],
         "yaxis": "y"
        },
        {
         "alignmentgroup": "True",
         "hovertemplate": "Organism=Coriobacteriia<br>Sample=%{x}<br>Read Count=%{y}<extra></extra>",
         "legendgroup": "Coriobacteriia",
         "marker": {
          "color": "#00cc96"
         },
         "name": "Coriobacteriia",
         "offsetgroup": "Coriobacteriia",
         "orientation": "v",
         "showlegend": true,
         "textposition": "auto",
         "type": "bar",
         "x": [
          "Sample 101",
          "Sample 14",
          "Sample 2",
          "Sample 3",
          "Sample 16",
          "Sample 4",
          "Sample 15",
          "Sample 103",
          "Sample 1",
          "Sample 97",
          "Sample 98",
          "Sample 99",
          "Sample 100",
          "Sample 13",
          "Sample 104"
         ],
         "xaxis": "x",
         "y": [
          360260,
          167349,
          237087,
          235314,
          250579,
          327116,
          344986,
          237646,
          586853,
          264253,
          421559,
          491745,
          339457,
          352344,
          69758
         ],
         "yaxis": "y"
        },
        {
         "alignmentgroup": "True",
         "hovertemplate": "Organism=Holosporales<br>Sample=%{x}<br>Read Count=%{y}<extra></extra>",
         "legendgroup": "Holosporales",
         "marker": {
          "color": "#ab63fa"
         },
         "name": "Holosporales",
         "offsetgroup": "Holosporales",
         "orientation": "v",
         "showlegend": true,
         "textposition": "auto",
         "type": "bar",
         "x": [
          "Sample 101",
          "Sample 14",
          "Sample 2",
          "Sample 3",
          "Sample 16",
          "Sample 4",
          "Sample 15",
          "Sample 103",
          "Sample 1",
          "Sample 97",
          "Sample 98",
          "Sample 99",
          "Sample 100",
          "Sample 13",
          "Sample 104"
         ],
         "xaxis": "x",
         "y": [
          null,
          1,
          12,
          1,
          null,
          3,
          1,
          null,
          2,
          1,
          1,
          2,
          5,
          5,
          null
         ],
         "yaxis": "y"
        },
        {
         "alignmentgroup": "True",
         "hovertemplate": "Organism=Endomicrobiales<br>Sample=%{x}<br>Read Count=%{y}<extra></extra>",
         "legendgroup": "Endomicrobiales",
         "marker": {
          "color": "#FFA15A"
         },
         "name": "Endomicrobiales",
         "offsetgroup": "Endomicrobiales",
         "orientation": "v",
         "showlegend": true,
         "textposition": "auto",
         "type": "bar",
         "x": [
          "Sample 101",
          "Sample 14",
          "Sample 2",
          "Sample 3",
          "Sample 16",
          "Sample 4",
          "Sample 15",
          "Sample 103",
          "Sample 1",
          "Sample 97",
          "Sample 98",
          "Sample 99",
          "Sample 100",
          "Sample 13",
          "Sample 104"
         ],
         "xaxis": "x",
         "y": [
          null,
          null,
          null,
          null,
          null,
          null,
          null,
          19,
          null,
          1,
          null,
          null,
          2,
          1,
          null
         ],
         "yaxis": "y"
        },
        {
         "alignmentgroup": "True",
         "hovertemplate": "Organism=unclassified Bacteroidetes/Chlorobi group<br>Sample=%{x}<br>Read Count=%{y}<extra></extra>",
         "legendgroup": "unclassified Bacteroidetes/Chlorobi group",
         "marker": {
          "color": "#19d3f3"
         },
         "name": "unclassified Bacteroidetes/Chlorobi group",
         "offsetgroup": "unclassified Bacteroidetes/Chlorobi group",
         "orientation": "v",
         "showlegend": true,
         "textposition": "auto",
         "type": "bar",
         "x": [
          "Sample 101",
          "Sample 14",
          "Sample 2",
          "Sample 3",
          "Sample 16",
          "Sample 4",
          "Sample 15",
          "Sample 103",
          "Sample 1",
          "Sample 97",
          "Sample 98",
          "Sample 99",
          "Sample 100",
          "Sample 13",
          "Sample 104"
         ],
         "xaxis": "x",
         "y": [
          null,
          null,
          3,
          1,
          1,
          null,
          2,
          2,
          null,
          null,
          null,
          1,
          1,
          3,
          null
         ],
         "yaxis": "y"
        },
        {
         "alignmentgroup": "True",
         "hovertemplate": "Organism=Spirochaetales<br>Sample=%{x}<br>Read Count=%{y}<extra></extra>",
         "legendgroup": "Spirochaetales",
         "marker": {
          "color": "#FF6692"
         },
         "name": "Spirochaetales",
         "offsetgroup": "Spirochaetales",
         "orientation": "v",
         "showlegend": true,
         "textposition": "auto",
         "type": "bar",
         "x": [
          "Sample 101",
          "Sample 14",
          "Sample 2",
          "Sample 3",
          "Sample 16",
          "Sample 4",
          "Sample 15",
          "Sample 103",
          "Sample 1",
          "Sample 97",
          "Sample 98",
          "Sample 99",
          "Sample 100",
          "Sample 13",
          "Sample 104"
         ],
         "xaxis": "x",
         "y": [
          48,
          264,
          425,
          83,
          75,
          242,
          151,
          72,
          200,
          179,
          148,
          245,
          273,
          263,
          26
         ],
         "yaxis": "y"
        },
        {
         "alignmentgroup": "True",
         "hovertemplate": "Organism=Tissierellia<br>Sample=%{x}<br>Read Count=%{y}<extra></extra>",
         "legendgroup": "Tissierellia",
         "marker": {
          "color": "#B6E880"
         },
         "name": "Tissierellia",
         "offsetgroup": "Tissierellia",
         "orientation": "v",
         "showlegend": true,
         "textposition": "auto",
         "type": "bar",
         "x": [
          "Sample 101",
          "Sample 14",
          "Sample 2",
          "Sample 3",
          "Sample 16",
          "Sample 4",
          "Sample 15",
          "Sample 103",
          "Sample 1",
          "Sample 97",
          "Sample 98",
          "Sample 99",
          "Sample 100",
          "Sample 13",
          "Sample 104"
         ],
         "xaxis": "x",
         "y": [
          103,
          830,
          1116,
          381,
          740,
          1636,
          620,
          765,
          1198,
          1115,
          691,
          1738,
          1005,
          3524,
          6291
         ],
         "yaxis": "y"
        },
        {
         "alignmentgroup": "True",
         "hovertemplate": "Organism=Chloracidobacterium<br>Sample=%{x}<br>Read Count=%{y}<extra></extra>",
         "legendgroup": "Chloracidobacterium",
         "marker": {
          "color": "#FF97FF"
         },
         "name": "Chloracidobacterium",
         "offsetgroup": "Chloracidobacterium",
         "orientation": "v",
         "showlegend": true,
         "textposition": "auto",
         "type": "bar",
         "x": [
          "Sample 101",
          "Sample 14",
          "Sample 2",
          "Sample 3",
          "Sample 16",
          "Sample 4",
          "Sample 15",
          "Sample 103",
          "Sample 1",
          "Sample 97",
          "Sample 98",
          "Sample 99",
          "Sample 100",
          "Sample 13",
          "Sample 104"
         ],
         "xaxis": "x",
         "y": [
          null,
          null,
          null,
          null,
          null,
          1,
          null,
          null,
          null,
          null,
          1,
          null,
          null,
          2,
          null
         ],
         "yaxis": "y"
        },
        {
         "alignmentgroup": "True",
         "hovertemplate": "Organism=Candidatus Kryptonium<br>Sample=%{x}<br>Read Count=%{y}<extra></extra>",
         "legendgroup": "Candidatus Kryptonium",
         "marker": {
          "color": "#FECB52"
         },
         "name": "Candidatus Kryptonium",
         "offsetgroup": "Candidatus Kryptonium",
         "orientation": "v",
         "showlegend": true,
         "textposition": "auto",
         "type": "bar",
         "x": [
          "Sample 101",
          "Sample 14",
          "Sample 2",
          "Sample 3",
          "Sample 16",
          "Sample 4",
          "Sample 15",
          "Sample 103",
          "Sample 1",
          "Sample 97",
          "Sample 98",
          "Sample 99",
          "Sample 100",
          "Sample 13",
          "Sample 104"
         ],
         "xaxis": "x",
         "y": [
          null,
          null,
          null,
          null,
          null,
          1,
          null,
          null,
          null,
          null,
          null,
          null,
          1,
          null,
          null
         ],
         "yaxis": "y"
        },
        {
         "alignmentgroup": "True",
         "hovertemplate": "Organism=Synergistales<br>Sample=%{x}<br>Read Count=%{y}<extra></extra>",
         "legendgroup": "Synergistales",
         "marker": {
          "color": "#636efa"
         },
         "name": "Synergistales",
         "offsetgroup": "Synergistales",
         "orientation": "v",
         "showlegend": true,
         "textposition": "auto",
         "type": "bar",
         "x": [
          "Sample 101",
          "Sample 14",
          "Sample 2",
          "Sample 3",
          "Sample 16",
          "Sample 4",
          "Sample 15",
          "Sample 103",
          "Sample 1",
          "Sample 97",
          "Sample 98",
          "Sample 99",
          "Sample 100",
          "Sample 13",
          "Sample 104"
         ],
         "xaxis": "x",
         "y": [
          83,
          3686,
          317,
          99,
          2907,
          349,
          210,
          30,
          411,
          287,
          163,
          275,
          273,
          7564,
          33
         ],
         "yaxis": "y"
        },
        {
         "alignmentgroup": "True",
         "hovertemplate": "Organism=Candidatus Kryptobacter<br>Sample=%{x}<br>Read Count=%{y}<extra></extra>",
         "legendgroup": "Candidatus Kryptobacter",
         "marker": {
          "color": "#EF553B"
         },
         "name": "Candidatus Kryptobacter",
         "offsetgroup": "Candidatus Kryptobacter",
         "orientation": "v",
         "showlegend": true,
         "textposition": "auto",
         "type": "bar",
         "x": [
          "Sample 101",
          "Sample 14",
          "Sample 2",
          "Sample 3",
          "Sample 16",
          "Sample 4",
          "Sample 15",
          "Sample 103",
          "Sample 1",
          "Sample 97",
          "Sample 98",
          "Sample 99",
          "Sample 100",
          "Sample 13",
          "Sample 104"
         ],
         "xaxis": "x",
         "y": [
          null,
          null,
          null,
          null,
          null,
          2,
          null,
          null,
          1,
          1,
          null,
          null,
          null,
          null,
          null
         ],
         "yaxis": "y"
        },
        {
         "alignmentgroup": "True",
         "hovertemplate": "Organism=Leptospirales<br>Sample=%{x}<br>Read Count=%{y}<extra></extra>",
         "legendgroup": "Leptospirales",
         "marker": {
          "color": "#00cc96"
         },
         "name": "Leptospirales",
         "offsetgroup": "Leptospirales",
         "orientation": "v",
         "showlegend": true,
         "textposition": "auto",
         "type": "bar",
         "x": [
          "Sample 101",
          "Sample 14",
          "Sample 2",
          "Sample 3",
          "Sample 16",
          "Sample 4",
          "Sample 15",
          "Sample 103",
          "Sample 1",
          "Sample 97",
          "Sample 98",
          "Sample 99",
          "Sample 100",
          "Sample 13",
          "Sample 104"
         ],
         "xaxis": "x",
         "y": [
          6,
          21,
          72,
          13,
          14,
          56,
          36,
          9,
          20,
          21,
          19,
          47,
          61,
          36,
          5
         ],
         "yaxis": "y"
        },
        {
         "alignmentgroup": "True",
         "hovertemplate": "Organism=Salinisphaerales<br>Sample=%{x}<br>Read Count=%{y}<extra></extra>",
         "legendgroup": "Salinisphaerales",
         "marker": {
          "color": "#ab63fa"
         },
         "name": "Salinisphaerales",
         "offsetgroup": "Salinisphaerales",
         "orientation": "v",
         "showlegend": true,
         "textposition": "auto",
         "type": "bar",
         "x": [
          "Sample 101",
          "Sample 14",
          "Sample 2",
          "Sample 3",
          "Sample 16",
          "Sample 4",
          "Sample 15",
          "Sample 103",
          "Sample 1",
          "Sample 97",
          "Sample 98",
          "Sample 99",
          "Sample 100",
          "Sample 13",
          "Sample 104"
         ],
         "xaxis": "x",
         "y": [
          1,
          3,
          8,
          1,
          12,
          3,
          1,
          null,
          5,
          1,
          null,
          4,
          8,
          14,
          null
         ],
         "yaxis": "y"
        },
        {
         "alignmentgroup": "True",
         "hovertemplate": "Organism=bacterium BCRC 81129<br>Sample=%{x}<br>Read Count=%{y}<extra></extra>",
         "legendgroup": "bacterium BCRC 81129",
         "marker": {
          "color": "#FFA15A"
         },
         "name": "bacterium BCRC 81129",
         "offsetgroup": "bacterium BCRC 81129",
         "orientation": "v",
         "showlegend": true,
         "textposition": "auto",
         "type": "bar",
         "x": [
          "Sample 101",
          "Sample 14",
          "Sample 2",
          "Sample 3",
          "Sample 16",
          "Sample 4",
          "Sample 15",
          "Sample 103",
          "Sample 1",
          "Sample 97",
          "Sample 98",
          "Sample 99",
          "Sample 100",
          "Sample 13",
          "Sample 104"
         ],
         "xaxis": "x",
         "y": [
          null,
          null,
          null,
          null,
          null,
          null,
          1,
          null,
          1,
          null,
          null,
          1,
          null,
          null,
          null
         ],
         "yaxis": "y"
        },
        {
         "alignmentgroup": "True",
         "hovertemplate": "Organism=bacterium A37T11<br>Sample=%{x}<br>Read Count=%{y}<extra></extra>",
         "legendgroup": "bacterium A37T11",
         "marker": {
          "color": "#19d3f3"
         },
         "name": "bacterium A37T11",
         "offsetgroup": "bacterium A37T11",
         "orientation": "v",
         "showlegend": true,
         "textposition": "auto",
         "type": "bar",
         "x": [
          "Sample 101",
          "Sample 14",
          "Sample 2",
          "Sample 3",
          "Sample 16",
          "Sample 4",
          "Sample 15",
          "Sample 103",
          "Sample 1",
          "Sample 97",
          "Sample 98",
          "Sample 99",
          "Sample 100",
          "Sample 13",
          "Sample 104"
         ],
         "xaxis": "x",
         "y": [
          null,
          null,
          null,
          null,
          null,
          null,
          null,
          null,
          null,
          null,
          null,
          2,
          null,
          null,
          null
         ],
         "yaxis": "y"
        },
        {
         "alignmentgroup": "True",
         "hovertemplate": "Organism=unclassified Armatimonadetes<br>Sample=%{x}<br>Read Count=%{y}<extra></extra>",
         "legendgroup": "unclassified Armatimonadetes",
         "marker": {
          "color": "#FF6692"
         },
         "name": "unclassified Armatimonadetes",
         "offsetgroup": "unclassified Armatimonadetes",
         "orientation": "v",
         "showlegend": true,
         "textposition": "auto",
         "type": "bar",
         "x": [
          "Sample 101",
          "Sample 14",
          "Sample 2",
          "Sample 3",
          "Sample 16",
          "Sample 4",
          "Sample 15",
          "Sample 103",
          "Sample 1",
          "Sample 97",
          "Sample 98",
          "Sample 99",
          "Sample 100",
          "Sample 13",
          "Sample 104"
         ],
         "xaxis": "x",
         "y": [
          null,
          1,
          null,
          1,
          null,
          null,
          2,
          null,
          null,
          null,
          null,
          1,
          2,
          2,
          null
         ],
         "yaxis": "y"
        },
        {
         "alignmentgroup": "True",
         "hovertemplate": "Organism=Aeromonadales<br>Sample=%{x}<br>Read Count=%{y}<extra></extra>",
         "legendgroup": "Aeromonadales",
         "marker": {
          "color": "#B6E880"
         },
         "name": "Aeromonadales",
         "offsetgroup": "Aeromonadales",
         "orientation": "v",
         "showlegend": true,
         "textposition": "auto",
         "type": "bar",
         "x": [
          "Sample 101",
          "Sample 14",
          "Sample 2",
          "Sample 3",
          "Sample 16",
          "Sample 4",
          "Sample 15",
          "Sample 103",
          "Sample 1",
          "Sample 97",
          "Sample 98",
          "Sample 99",
          "Sample 100",
          "Sample 13",
          "Sample 104"
         ],
         "xaxis": "x",
         "y": [
          210,
          174,
          114,
          39,
          41,
          132,
          193,
          12,
          49,
          59,
          138,
          129,
          379,
          118,
          17
         ],
         "yaxis": "y"
        },
        {
         "alignmentgroup": "True",
         "hovertemplate": "Organism=Pasteurellales<br>Sample=%{x}<br>Read Count=%{y}<extra></extra>",
         "legendgroup": "Pasteurellales",
         "marker": {
          "color": "#FF97FF"
         },
         "name": "Pasteurellales",
         "offsetgroup": "Pasteurellales",
         "orientation": "v",
         "showlegend": true,
         "textposition": "auto",
         "type": "bar",
         "x": [
          "Sample 101",
          "Sample 14",
          "Sample 2",
          "Sample 3",
          "Sample 16",
          "Sample 4",
          "Sample 15",
          "Sample 103",
          "Sample 1",
          "Sample 97",
          "Sample 98",
          "Sample 99",
          "Sample 100",
          "Sample 13",
          "Sample 104"
         ],
         "xaxis": "x",
         "y": [
          1984,
          17592,
          837,
          6205,
          126,
          2248,
          6904,
          9232,
          4588,
          202,
          336,
          1208,
          436,
          178,
          39
         ],
         "yaxis": "y"
        },
        {
         "alignmentgroup": "True",
         "hovertemplate": "Organism=Phycisphaerae<br>Sample=%{x}<br>Read Count=%{y}<extra></extra>",
         "legendgroup": "Phycisphaerae",
         "marker": {
          "color": "#FECB52"
         },
         "name": "Phycisphaerae",
         "offsetgroup": "Phycisphaerae",
         "orientation": "v",
         "showlegend": true,
         "textposition": "auto",
         "type": "bar",
         "x": [
          "Sample 101",
          "Sample 14",
          "Sample 2",
          "Sample 3",
          "Sample 16",
          "Sample 4",
          "Sample 15",
          "Sample 103",
          "Sample 1",
          "Sample 97",
          "Sample 98",
          "Sample 99",
          "Sample 100",
          "Sample 13",
          "Sample 104"
         ],
         "xaxis": "x",
         "y": [
          1,
          8,
          5,
          5,
          3,
          4,
          5,
          null,
          null,
          3,
          1,
          4,
          7,
          12,
          null
         ],
         "yaxis": "y"
        },
        {
         "alignmentgroup": "True",
         "hovertemplate": "Organism=Planctomycetia<br>Sample=%{x}<br>Read Count=%{y}<extra></extra>",
         "legendgroup": "Planctomycetia",
         "marker": {
          "color": "#636efa"
         },
         "name": "Planctomycetia",
         "offsetgroup": "Planctomycetia",
         "orientation": "v",
         "showlegend": true,
         "textposition": "auto",
         "type": "bar",
         "x": [
          "Sample 101",
          "Sample 14",
          "Sample 2",
          "Sample 3",
          "Sample 16",
          "Sample 4",
          "Sample 15",
          "Sample 103",
          "Sample 1",
          "Sample 97",
          "Sample 98",
          "Sample 99",
          "Sample 100",
          "Sample 13",
          "Sample 104"
         ],
         "xaxis": "x",
         "y": [
          31,
          69,
          91,
          31,
          52,
          72,
          41,
          1,
          52,
          27,
          38,
          72,
          95,
          94,
          6
         ],
         "yaxis": "y"
        },
        {
         "alignmentgroup": "True",
         "hovertemplate": "Organism=Chthonomonadetes<br>Sample=%{x}<br>Read Count=%{y}<extra></extra>",
         "legendgroup": "Chthonomonadetes",
         "marker": {
          "color": "#EF553B"
         },
         "name": "Chthonomonadetes",
         "offsetgroup": "Chthonomonadetes",
         "orientation": "v",
         "showlegend": true,
         "textposition": "auto",
         "type": "bar",
         "x": [
          "Sample 101",
          "Sample 14",
          "Sample 2",
          "Sample 3",
          "Sample 16",
          "Sample 4",
          "Sample 15",
          "Sample 103",
          "Sample 1",
          "Sample 97",
          "Sample 98",
          "Sample 99",
          "Sample 100",
          "Sample 13",
          "Sample 104"
         ],
         "xaxis": "x",
         "y": [
          1,
          3,
          1,
          1,
          null,
          null,
          1,
          1,
          1,
          1,
          1,
          2,
          2,
          10,
          null
         ],
         "yaxis": "y"
        },
        {
         "alignmentgroup": "True",
         "hovertemplate": "Organism=unclassified Firmicutes sensu stricto<br>Sample=%{x}<br>Read Count=%{y}<extra></extra>",
         "legendgroup": "unclassified Firmicutes sensu stricto",
         "marker": {
          "color": "#00cc96"
         },
         "name": "unclassified Firmicutes sensu stricto",
         "offsetgroup": "unclassified Firmicutes sensu stricto",
         "orientation": "v",
         "showlegend": true,
         "textposition": "auto",
         "type": "bar",
         "x": [
          "Sample 101",
          "Sample 14",
          "Sample 2",
          "Sample 3",
          "Sample 16",
          "Sample 4",
          "Sample 15",
          "Sample 103",
          "Sample 1",
          "Sample 97",
          "Sample 98",
          "Sample 99",
          "Sample 100",
          "Sample 13",
          "Sample 104"
         ],
         "xaxis": "x",
         "y": [
          75205,
          97870,
          111690,
          119322,
          25819,
          65380,
          156244,
          864652,
          155417,
          569163,
          519915,
          79677,
          100031,
          167330,
          14677
         ],
         "yaxis": "y"
        },
        {
         "alignmentgroup": "True",
         "hovertemplate": "Organism=Thermoleophilia<br>Sample=%{x}<br>Read Count=%{y}<extra></extra>",
         "legendgroup": "Thermoleophilia",
         "marker": {
          "color": "#ab63fa"
         },
         "name": "Thermoleophilia",
         "offsetgroup": "Thermoleophilia",
         "orientation": "v",
         "showlegend": true,
         "textposition": "auto",
         "type": "bar",
         "x": [
          "Sample 101",
          "Sample 14",
          "Sample 2",
          "Sample 3",
          "Sample 16",
          "Sample 4",
          "Sample 15",
          "Sample 103",
          "Sample 1",
          "Sample 97",
          "Sample 98",
          "Sample 99",
          "Sample 100",
          "Sample 13",
          "Sample 104"
         ],
         "xaxis": "x",
         "y": [
          3,
          10,
          19,
          11,
          6,
          15,
          11,
          2,
          16,
          9,
          5,
          15,
          24,
          32,
          1
         ],
         "yaxis": "y"
        },
        {
         "alignmentgroup": "True",
         "hovertemplate": "Organism=bacterium JKG1<br>Sample=%{x}<br>Read Count=%{y}<extra></extra>",
         "legendgroup": "bacterium JKG1",
         "marker": {
          "color": "#FFA15A"
         },
         "name": "bacterium JKG1",
         "offsetgroup": "bacterium JKG1",
         "orientation": "v",
         "showlegend": true,
         "textposition": "auto",
         "type": "bar",
         "x": [
          "Sample 101",
          "Sample 14",
          "Sample 2",
          "Sample 3",
          "Sample 16",
          "Sample 4",
          "Sample 15",
          "Sample 103",
          "Sample 1",
          "Sample 97",
          "Sample 98",
          "Sample 99",
          "Sample 100",
          "Sample 13",
          "Sample 104"
         ],
         "xaxis": "x",
         "y": [
          1,
          null,
          21,
          null,
          null,
          null,
          null,
          null,
          null,
          10,
          null,
          2,
          1,
          null,
          null
         ],
         "yaxis": "y"
        },
        {
         "alignmentgroup": "True",
         "hovertemplate": "Organism=Micropepsales<br>Sample=%{x}<br>Read Count=%{y}<extra></extra>",
         "legendgroup": "Micropepsales",
         "marker": {
          "color": "#19d3f3"
         },
         "name": "Micropepsales",
         "offsetgroup": "Micropepsales",
         "orientation": "v",
         "showlegend": true,
         "textposition": "auto",
         "type": "bar",
         "x": [
          "Sample 101",
          "Sample 14",
          "Sample 2",
          "Sample 3",
          "Sample 16",
          "Sample 4",
          "Sample 15",
          "Sample 103",
          "Sample 1",
          "Sample 97",
          "Sample 98",
          "Sample 99",
          "Sample 100",
          "Sample 13",
          "Sample 104"
         ],
         "xaxis": "x",
         "y": [
          null,
          null,
          null,
          null,
          1,
          3,
          null,
          null,
          2,
          null,
          null,
          null,
          null,
          3,
          null
         ],
         "yaxis": "y"
        },
        {
         "alignmentgroup": "True",
         "hovertemplate": "Organism=unclassified Tenericutes<br>Sample=%{x}<br>Read Count=%{y}<extra></extra>",
         "legendgroup": "unclassified Tenericutes",
         "marker": {
          "color": "#FF6692"
         },
         "name": "unclassified Tenericutes",
         "offsetgroup": "unclassified Tenericutes",
         "orientation": "v",
         "showlegend": true,
         "textposition": "auto",
         "type": "bar",
         "x": [
          "Sample 101",
          "Sample 14",
          "Sample 2",
          "Sample 3",
          "Sample 16",
          "Sample 4",
          "Sample 15",
          "Sample 103",
          "Sample 1",
          "Sample 97",
          "Sample 98",
          "Sample 99",
          "Sample 100",
          "Sample 13",
          "Sample 104"
         ],
         "xaxis": "x",
         "y": [
          null,
          4,
          4,
          1,
          1,
          33,
          1,
          null,
          12,
          20,
          3,
          7,
          4,
          17,
          1
         ],
         "yaxis": "y"
        },
        {
         "alignmentgroup": "True",
         "hovertemplate": "Organism=Natronospirillum operossus<br>Sample=%{x}<br>Read Count=%{y}<extra></extra>",
         "legendgroup": "Natronospirillum operossus",
         "marker": {
          "color": "#B6E880"
         },
         "name": "Natronospirillum operossus",
         "offsetgroup": "Natronospirillum operossus",
         "orientation": "v",
         "showlegend": true,
         "textposition": "auto",
         "type": "bar",
         "x": [
          "Sample 101",
          "Sample 14",
          "Sample 2",
          "Sample 3",
          "Sample 16",
          "Sample 4",
          "Sample 15",
          "Sample 103",
          "Sample 1",
          "Sample 97",
          "Sample 98",
          "Sample 99",
          "Sample 100",
          "Sample 13",
          "Sample 104"
         ],
         "xaxis": "x",
         "y": [
          null,
          null,
          1,
          null,
          null,
          null,
          null,
          null,
          null,
          null,
          null,
          1,
          1,
          3,
          null
         ],
         "yaxis": "y"
        },
        {
         "alignmentgroup": "True",
         "hovertemplate": "Organism=Acidobacteriales<br>Sample=%{x}<br>Read Count=%{y}<extra></extra>",
         "legendgroup": "Acidobacteriales",
         "marker": {
          "color": "#FF97FF"
         },
         "name": "Acidobacteriales",
         "offsetgroup": "Acidobacteriales",
         "orientation": "v",
         "showlegend": true,
         "textposition": "auto",
         "type": "bar",
         "x": [
          "Sample 101",
          "Sample 14",
          "Sample 2",
          "Sample 3",
          "Sample 16",
          "Sample 4",
          "Sample 15",
          "Sample 103",
          "Sample 1",
          "Sample 97",
          "Sample 98",
          "Sample 99",
          "Sample 100",
          "Sample 13",
          "Sample 104"
         ],
         "xaxis": "x",
         "y": [
          18,
          42,
          88,
          38,
          20,
          70,
          24,
          8,
          27,
          29,
          28,
          42,
          71,
          71,
          7
         ],
         "yaxis": "y"
        },
        {
         "alignmentgroup": "True",
         "hovertemplate": "Organism=bacterium 0.1xD8-71<br>Sample=%{x}<br>Read Count=%{y}<extra></extra>",
         "legendgroup": "bacterium 0.1xD8-71",
         "marker": {
          "color": "#FECB52"
         },
         "name": "bacterium 0.1xD8-71",
         "offsetgroup": "bacterium 0.1xD8-71",
         "orientation": "v",
         "showlegend": true,
         "textposition": "auto",
         "type": "bar",
         "x": [
          "Sample 101",
          "Sample 14",
          "Sample 2",
          "Sample 3",
          "Sample 16",
          "Sample 4",
          "Sample 15",
          "Sample 103",
          "Sample 1",
          "Sample 97",
          "Sample 98",
          "Sample 99",
          "Sample 100",
          "Sample 13",
          "Sample 104"
         ],
         "xaxis": "x",
         "y": [
          2,
          41,
          97,
          4,
          7,
          14,
          6,
          11,
          7,
          17,
          102,
          16,
          14,
          18,
          1
         ],
         "yaxis": "y"
        },
        {
         "alignmentgroup": "True",
         "hovertemplate": "Organism=Dikarya<br>Sample=%{x}<br>Read Count=%{y}<extra></extra>",
         "legendgroup": "Dikarya",
         "marker": {
          "color": "#636efa"
         },
         "name": "Dikarya",
         "offsetgroup": "Dikarya",
         "orientation": "v",
         "showlegend": true,
         "textposition": "auto",
         "type": "bar",
         "x": [
          "Sample 101",
          "Sample 14",
          "Sample 2",
          "Sample 3",
          "Sample 16",
          "Sample 4",
          "Sample 15",
          "Sample 103",
          "Sample 1",
          "Sample 97",
          "Sample 98",
          "Sample 99",
          "Sample 100",
          "Sample 13",
          "Sample 104"
         ],
         "xaxis": "x",
         "y": [
          789,
          3221,
          1194,
          522,
          806,
          859,
          3425,
          148,
          789,
          2215,
          352,
          1389,
          1469,
          881,
          112
         ],
         "yaxis": "y"
        },
        {
         "alignmentgroup": "True",
         "hovertemplate": "Organism=bacterium 1xD42-11<br>Sample=%{x}<br>Read Count=%{y}<extra></extra>",
         "legendgroup": "bacterium 1xD42-11",
         "marker": {
          "color": "#EF553B"
         },
         "name": "bacterium 1xD42-11",
         "offsetgroup": "bacterium 1xD42-11",
         "orientation": "v",
         "showlegend": true,
         "textposition": "auto",
         "type": "bar",
         "x": [
          "Sample 101",
          "Sample 14",
          "Sample 2",
          "Sample 3",
          "Sample 16",
          "Sample 4",
          "Sample 15",
          "Sample 103",
          "Sample 1",
          "Sample 97",
          "Sample 98",
          "Sample 99",
          "Sample 100",
          "Sample 13",
          "Sample 104"
         ],
         "xaxis": "x",
         "y": [
          null,
          null,
          5,
          null,
          null,
          1,
          null,
          null,
          3,
          null,
          2,
          null,
          1,
          23,
          null
         ],
         "yaxis": "y"
        },
        {
         "alignmentgroup": "True",
         "hovertemplate": "Organism=Brachyspirales<br>Sample=%{x}<br>Read Count=%{y}<extra></extra>",
         "legendgroup": "Brachyspirales",
         "marker": {
          "color": "#00cc96"
         },
         "name": "Brachyspirales",
         "offsetgroup": "Brachyspirales",
         "orientation": "v",
         "showlegend": true,
         "textposition": "auto",
         "type": "bar",
         "x": [
          "Sample 101",
          "Sample 14",
          "Sample 2",
          "Sample 3",
          "Sample 16",
          "Sample 4",
          "Sample 15",
          "Sample 103",
          "Sample 1",
          "Sample 97",
          "Sample 98",
          "Sample 99",
          "Sample 100",
          "Sample 13",
          "Sample 104"
         ],
         "xaxis": "x",
         "y": [
          4,
          140,
          57,
          8,
          21,
          46,
          29,
          33,
          89,
          98,
          23,
          82,
          62,
          99,
          8
         ],
         "yaxis": "y"
        },
        {
         "alignmentgroup": "True",
         "hovertemplate": "Organism=Candidatus Entotheonella<br>Sample=%{x}<br>Read Count=%{y}<extra></extra>",
         "legendgroup": "Candidatus Entotheonella",
         "marker": {
          "color": "#ab63fa"
         },
         "name": "Candidatus Entotheonella",
         "offsetgroup": "Candidatus Entotheonella",
         "orientation": "v",
         "showlegend": true,
         "textposition": "auto",
         "type": "bar",
         "x": [
          "Sample 101",
          "Sample 14",
          "Sample 2",
          "Sample 3",
          "Sample 16",
          "Sample 4",
          "Sample 15",
          "Sample 103",
          "Sample 1",
          "Sample 97",
          "Sample 98",
          "Sample 99",
          "Sample 100",
          "Sample 13",
          "Sample 104"
         ],
         "xaxis": "x",
         "y": [
          null,
          4,
          null,
          1,
          10,
          1,
          2,
          null,
          2,
          1,
          null,
          null,
          1,
          2,
          null
         ],
         "yaxis": "y"
        },
        {
         "alignmentgroup": "True",
         "hovertemplate": "Organism=bacterium SGD-2<br>Sample=%{x}<br>Read Count=%{y}<extra></extra>",
         "legendgroup": "bacterium SGD-2",
         "marker": {
          "color": "#FFA15A"
         },
         "name": "bacterium SGD-2",
         "offsetgroup": "bacterium SGD-2",
         "orientation": "v",
         "showlegend": true,
         "textposition": "auto",
         "type": "bar",
         "x": [
          "Sample 101",
          "Sample 14",
          "Sample 2",
          "Sample 3",
          "Sample 16",
          "Sample 4",
          "Sample 15",
          "Sample 103",
          "Sample 1",
          "Sample 97",
          "Sample 98",
          "Sample 99",
          "Sample 100",
          "Sample 13",
          "Sample 104"
         ],
         "xaxis": "x",
         "y": [
          null,
          null,
          null,
          2,
          2,
          null,
          null,
          null,
          null,
          1,
          null,
          null,
          6,
          null,
          null
         ],
         "yaxis": "y"
        },
        {
         "alignmentgroup": "True",
         "hovertemplate": "Organism=Legionellales<br>Sample=%{x}<br>Read Count=%{y}<extra></extra>",
         "legendgroup": "Legionellales",
         "marker": {
          "color": "#19d3f3"
         },
         "name": "Legionellales",
         "offsetgroup": "Legionellales",
         "orientation": "v",
         "showlegend": true,
         "textposition": "auto",
         "type": "bar",
         "x": [
          "Sample 101",
          "Sample 14",
          "Sample 2",
          "Sample 3",
          "Sample 16",
          "Sample 4",
          "Sample 15",
          "Sample 103",
          "Sample 1",
          "Sample 97",
          "Sample 98",
          "Sample 99",
          "Sample 100",
          "Sample 13",
          "Sample 104"
         ],
         "xaxis": "x",
         "y": [
          62,
          60,
          24,
          4,
          46,
          50,
          10,
          16,
          24,
          13,
          24,
          25,
          29,
          97,
          7
         ],
         "yaxis": "y"
        },
        {
         "alignmentgroup": "True",
         "hovertemplate": "Organism=Rhodospirillales<br>Sample=%{x}<br>Read Count=%{y}<extra></extra>",
         "legendgroup": "Rhodospirillales",
         "marker": {
          "color": "#FF6692"
         },
         "name": "Rhodospirillales",
         "offsetgroup": "Rhodospirillales",
         "orientation": "v",
         "showlegend": true,
         "textposition": "auto",
         "type": "bar",
         "x": [
          "Sample 101",
          "Sample 14",
          "Sample 2",
          "Sample 3",
          "Sample 16",
          "Sample 4",
          "Sample 15",
          "Sample 103",
          "Sample 1",
          "Sample 97",
          "Sample 98",
          "Sample 99",
          "Sample 100",
          "Sample 13",
          "Sample 104"
         ],
         "xaxis": "x",
         "y": [
          1267,
          430,
          1575,
          116,
          640,
          929,
          388,
          176,
          271,
          234,
          99,
          296,
          422,
          783,
          80
         ],
         "yaxis": "y"
        },
        {
         "alignmentgroup": "True",
         "hovertemplate": "Organism=Chloroflexia<br>Sample=%{x}<br>Read Count=%{y}<extra></extra>",
         "legendgroup": "Chloroflexia",
         "marker": {
          "color": "#B6E880"
         },
         "name": "Chloroflexia",
         "offsetgroup": "Chloroflexia",
         "orientation": "v",
         "showlegend": true,
         "textposition": "auto",
         "type": "bar",
         "x": [
          "Sample 101",
          "Sample 14",
          "Sample 2",
          "Sample 3",
          "Sample 16",
          "Sample 4",
          "Sample 15",
          "Sample 103",
          "Sample 1",
          "Sample 97",
          "Sample 98",
          "Sample 99",
          "Sample 100",
          "Sample 13",
          "Sample 104"
         ],
         "xaxis": "x",
         "y": [
          1,
          10,
          27,
          3,
          4,
          13,
          9,
          1,
          11,
          24,
          6,
          20,
          25,
          27,
          4
         ],
         "yaxis": "y"
        },
        {
         "alignmentgroup": "True",
         "hovertemplate": "Organism=Opitutae<br>Sample=%{x}<br>Read Count=%{y}<extra></extra>",
         "legendgroup": "Opitutae",
         "marker": {
          "color": "#FF97FF"
         },
         "name": "Opitutae",
         "offsetgroup": "Opitutae",
         "orientation": "v",
         "showlegend": true,
         "textposition": "auto",
         "type": "bar",
         "x": [
          "Sample 101",
          "Sample 14",
          "Sample 2",
          "Sample 3",
          "Sample 16",
          "Sample 4",
          "Sample 15",
          "Sample 103",
          "Sample 1",
          "Sample 97",
          "Sample 98",
          "Sample 99",
          "Sample 100",
          "Sample 13",
          "Sample 104"
         ],
         "xaxis": "x",
         "y": [
          9,
          40,
          484,
          34,
          9,
          139,
          77,
          4,
          21,
          28,
          35,
          153,
          92,
          129,
          7
         ],
         "yaxis": "y"
        },
        {
         "alignmentgroup": "True",
         "hovertemplate": "Organism=Armatimonadia<br>Sample=%{x}<br>Read Count=%{y}<extra></extra>",
         "legendgroup": "Armatimonadia",
         "marker": {
          "color": "#FECB52"
         },
         "name": "Armatimonadia",
         "offsetgroup": "Armatimonadia",
         "orientation": "v",
         "showlegend": true,
         "textposition": "auto",
         "type": "bar",
         "x": [
          "Sample 101",
          "Sample 14",
          "Sample 2",
          "Sample 3",
          "Sample 16",
          "Sample 4",
          "Sample 15",
          "Sample 103",
          "Sample 1",
          "Sample 97",
          "Sample 98",
          "Sample 99",
          "Sample 100",
          "Sample 13",
          "Sample 104"
         ],
         "xaxis": "x",
         "y": [
          null,
          1,
          3,
          1,
          1,
          7,
          1,
          1,
          4,
          1,
          null,
          1,
          4,
          15,
          null
         ],
         "yaxis": "y"
        },
        {
         "alignmentgroup": "True",
         "hovertemplate": "Organism=Fimbriimonadia<br>Sample=%{x}<br>Read Count=%{y}<extra></extra>",
         "legendgroup": "Fimbriimonadia",
         "marker": {
          "color": "#636efa"
         },
         "name": "Fimbriimonadia",
         "offsetgroup": "Fimbriimonadia",
         "orientation": "v",
         "showlegend": true,
         "textposition": "auto",
         "type": "bar",
         "x": [
          "Sample 101",
          "Sample 14",
          "Sample 2",
          "Sample 3",
          "Sample 16",
          "Sample 4",
          "Sample 15",
          "Sample 103",
          "Sample 1",
          "Sample 97",
          "Sample 98",
          "Sample 99",
          "Sample 100",
          "Sample 13",
          "Sample 104"
         ],
         "xaxis": "x",
         "y": [
          null,
          null,
          1,
          1,
          null,
          1,
          null,
          null,
          3,
          1,
          null,
          1,
          null,
          2,
          null
         ],
         "yaxis": "y"
        },
        {
         "alignmentgroup": "True",
         "hovertemplate": "Organism=Candidatus Dependentiae<br>Sample=%{x}<br>Read Count=%{y}<extra></extra>",
         "legendgroup": "Candidatus Dependentiae",
         "marker": {
          "color": "#EF553B"
         },
         "name": "Candidatus Dependentiae",
         "offsetgroup": "Candidatus Dependentiae",
         "orientation": "v",
         "showlegend": true,
         "textposition": "auto",
         "type": "bar",
         "x": [
          "Sample 101",
          "Sample 14",
          "Sample 2",
          "Sample 3",
          "Sample 16",
          "Sample 4",
          "Sample 15",
          "Sample 103",
          "Sample 1",
          "Sample 97",
          "Sample 98",
          "Sample 99",
          "Sample 100",
          "Sample 13",
          "Sample 104"
         ],
         "xaxis": "x",
         "y": [
          null,
          null,
          2,
          null,
          null,
          null,
          null,
          1,
          null,
          1,
          null,
          null,
          null,
          1,
          null
         ],
         "yaxis": "y"
        },
        {
         "alignmentgroup": "True",
         "hovertemplate": "Organism=unclassified Proteobacteria (miscellaneous)<br>Sample=%{x}<br>Read Count=%{y}<extra></extra>",
         "legendgroup": "unclassified Proteobacteria (miscellaneous)",
         "marker": {
          "color": "#00cc96"
         },
         "name": "unclassified Proteobacteria (miscellaneous)",
         "offsetgroup": "unclassified Proteobacteria (miscellaneous)",
         "orientation": "v",
         "showlegend": true,
         "textposition": "auto",
         "type": "bar",
         "x": [
          "Sample 101",
          "Sample 14",
          "Sample 2",
          "Sample 3",
          "Sample 16",
          "Sample 4",
          "Sample 15",
          "Sample 103",
          "Sample 1",
          "Sample 97",
          "Sample 98",
          "Sample 99",
          "Sample 100",
          "Sample 13",
          "Sample 104"
         ],
         "xaxis": "x",
         "y": [
          1,
          null,
          null,
          null,
          null,
          1,
          null,
          null,
          1,
          null,
          null,
          null,
          null,
          1,
          null
         ],
         "yaxis": "y"
        },
        {
         "alignmentgroup": "True",
         "hovertemplate": "Organism=bacterium 0.1xD8-82<br>Sample=%{x}<br>Read Count=%{y}<extra></extra>",
         "legendgroup": "bacterium 0.1xD8-82",
         "marker": {
          "color": "#ab63fa"
         },
         "name": "bacterium 0.1xD8-82",
         "offsetgroup": "bacterium 0.1xD8-82",
         "orientation": "v",
         "showlegend": true,
         "textposition": "auto",
         "type": "bar",
         "x": [
          "Sample 101",
          "Sample 14",
          "Sample 2",
          "Sample 3",
          "Sample 16",
          "Sample 4",
          "Sample 15",
          "Sample 103",
          "Sample 1",
          "Sample 97",
          "Sample 98",
          "Sample 99",
          "Sample 100",
          "Sample 13",
          "Sample 104"
         ],
         "xaxis": "x",
         "y": [
          38,
          39,
          34,
          3,
          13,
          12,
          32,
          6,
          6,
          24,
          11,
          18,
          18,
          29,
          1
         ],
         "yaxis": "y"
        },
        {
         "alignmentgroup": "True",
         "hovertemplate": "Organism=Nitrosomonadales<br>Sample=%{x}<br>Read Count=%{y}<extra></extra>",
         "legendgroup": "Nitrosomonadales",
         "marker": {
          "color": "#FFA15A"
         },
         "name": "Nitrosomonadales",
         "offsetgroup": "Nitrosomonadales",
         "orientation": "v",
         "showlegend": true,
         "textposition": "auto",
         "type": "bar",
         "x": [
          "Sample 101",
          "Sample 14",
          "Sample 2",
          "Sample 3",
          "Sample 16",
          "Sample 4",
          "Sample 15",
          "Sample 103",
          "Sample 1",
          "Sample 97",
          "Sample 98",
          "Sample 99",
          "Sample 100",
          "Sample 13",
          "Sample 104"
         ],
         "xaxis": "x",
         "y": [
          34,
          41,
          145,
          27,
          31,
          64,
          28,
          5,
          54,
          68,
          16,
          60,
          79,
          80,
          12
         ],
         "yaxis": "y"
        },
        {
         "alignmentgroup": "True",
         "hovertemplate": "Organism=candidate division Zixibacteria bacterium<br>Sample=%{x}<br>Read Count=%{y}<extra></extra>",
         "legendgroup": "candidate division Zixibacteria bacterium",
         "marker": {
          "color": "#19d3f3"
         },
         "name": "candidate division Zixibacteria bacterium",
         "offsetgroup": "candidate division Zixibacteria bacterium",
         "orientation": "v",
         "showlegend": true,
         "textposition": "auto",
         "type": "bar",
         "x": [
          "Sample 101",
          "Sample 14",
          "Sample 2",
          "Sample 3",
          "Sample 16",
          "Sample 4",
          "Sample 15",
          "Sample 103",
          "Sample 1",
          "Sample 97",
          "Sample 98",
          "Sample 99",
          "Sample 100",
          "Sample 13",
          "Sample 104"
         ],
         "xaxis": "x",
         "y": [
          null,
          null,
          1,
          null,
          null,
          null,
          null,
          null,
          null,
          null,
          null,
          null,
          null,
          2,
          null
         ],
         "yaxis": "y"
        },
        {
         "alignmentgroup": "True",
         "hovertemplate": "Organism=Halobacteria<br>Sample=%{x}<br>Read Count=%{y}<extra></extra>",
         "legendgroup": "Halobacteria",
         "marker": {
          "color": "#FF6692"
         },
         "name": "Halobacteria",
         "offsetgroup": "Halobacteria",
         "orientation": "v",
         "showlegend": true,
         "textposition": "auto",
         "type": "bar",
         "x": [
          "Sample 101",
          "Sample 14",
          "Sample 2",
          "Sample 3",
          "Sample 16",
          "Sample 4",
          "Sample 15",
          "Sample 103",
          "Sample 1",
          "Sample 97",
          "Sample 98",
          "Sample 99",
          "Sample 100",
          "Sample 13",
          "Sample 104"
         ],
         "xaxis": "x",
         "y": [
          29,
          94,
          174,
          42,
          51,
          110,
          88,
          7,
          165,
          93,
          42,
          92,
          109,
          187,
          52
         ],
         "yaxis": "y"
        },
        {
         "alignmentgroup": "True",
         "hovertemplate": "Organism=Coprothermobacterales<br>Sample=%{x}<br>Read Count=%{y}<extra></extra>",
         "legendgroup": "Coprothermobacterales",
         "marker": {
          "color": "#B6E880"
         },
         "name": "Coprothermobacterales",
         "offsetgroup": "Coprothermobacterales",
         "orientation": "v",
         "showlegend": true,
         "textposition": "auto",
         "type": "bar",
         "x": [
          "Sample 101",
          "Sample 14",
          "Sample 2",
          "Sample 3",
          "Sample 16",
          "Sample 4",
          "Sample 15",
          "Sample 103",
          "Sample 1",
          "Sample 97",
          "Sample 98",
          "Sample 99",
          "Sample 100",
          "Sample 13",
          "Sample 104"
         ],
         "xaxis": "x",
         "y": [
          1,
          1,
          1,
          1,
          null,
          1,
          1,
          null,
          null,
          1,
          null,
          1,
          1,
          null,
          null
         ],
         "yaxis": "y"
        },
        {
         "alignmentgroup": "True",
         "hovertemplate": "Organism=Bdellovibrionales<br>Sample=%{x}<br>Read Count=%{y}<extra></extra>",
         "legendgroup": "Bdellovibrionales",
         "marker": {
          "color": "#FF97FF"
         },
         "name": "Bdellovibrionales",
         "offsetgroup": "Bdellovibrionales",
         "orientation": "v",
         "showlegend": true,
         "textposition": "auto",
         "type": "bar",
         "x": [
          "Sample 101",
          "Sample 14",
          "Sample 2",
          "Sample 3",
          "Sample 16",
          "Sample 4",
          "Sample 15",
          "Sample 103",
          "Sample 1",
          "Sample 97",
          "Sample 98",
          "Sample 99",
          "Sample 100",
          "Sample 13",
          "Sample 104"
         ],
         "xaxis": "x",
         "y": [
          1,
          4,
          10,
          null,
          8,
          22,
          null,
          null,
          2,
          3,
          3,
          3,
          12,
          3,
          null
         ],
         "yaxis": "y"
        },
        {
         "alignmentgroup": "True",
         "hovertemplate": "Organism=unclassified Verrucomicrobia<br>Sample=%{x}<br>Read Count=%{y}<extra></extra>",
         "legendgroup": "unclassified Verrucomicrobia",
         "marker": {
          "color": "#FECB52"
         },
         "name": "unclassified Verrucomicrobia",
         "offsetgroup": "unclassified Verrucomicrobia",
         "orientation": "v",
         "showlegend": true,
         "textposition": "auto",
         "type": "bar",
         "x": [
          "Sample 101",
          "Sample 14",
          "Sample 2",
          "Sample 3",
          "Sample 16",
          "Sample 4",
          "Sample 15",
          "Sample 103",
          "Sample 1",
          "Sample 97",
          "Sample 98",
          "Sample 99",
          "Sample 100",
          "Sample 13",
          "Sample 104"
         ],
         "xaxis": "x",
         "y": [
          2,
          10,
          33,
          4,
          10,
          20,
          3,
          null,
          25,
          7,
          4,
          9,
          23,
          11,
          6
         ],
         "yaxis": "y"
        },
        {
         "alignmentgroup": "True",
         "hovertemplate": "Organism=Mesoaciditogales<br>Sample=%{x}<br>Read Count=%{y}<extra></extra>",
         "legendgroup": "Mesoaciditogales",
         "marker": {
          "color": "#636efa"
         },
         "name": "Mesoaciditogales",
         "offsetgroup": "Mesoaciditogales",
         "orientation": "v",
         "showlegend": true,
         "textposition": "auto",
         "type": "bar",
         "x": [
          "Sample 101",
          "Sample 14",
          "Sample 2",
          "Sample 3",
          "Sample 16",
          "Sample 4",
          "Sample 15",
          "Sample 103",
          "Sample 1",
          "Sample 97",
          "Sample 98",
          "Sample 99",
          "Sample 100",
          "Sample 13",
          "Sample 104"
         ],
         "xaxis": "x",
         "y": [
          null,
          null,
          null,
          null,
          null,
          1,
          null,
          null,
          4,
          null,
          1,
          1,
          3,
          7,
          1
         ],
         "yaxis": "y"
        },
        {
         "alignmentgroup": "True",
         "hovertemplate": "Organism=Neisseriales<br>Sample=%{x}<br>Read Count=%{y}<extra></extra>",
         "legendgroup": "Neisseriales",
         "marker": {
          "color": "#EF553B"
         },
         "name": "Neisseriales",
         "offsetgroup": "Neisseriales",
         "orientation": "v",
         "showlegend": true,
         "textposition": "auto",
         "type": "bar",
         "x": [
          "Sample 101",
          "Sample 14",
          "Sample 2",
          "Sample 3",
          "Sample 16",
          "Sample 4",
          "Sample 15",
          "Sample 103",
          "Sample 1",
          "Sample 97",
          "Sample 98",
          "Sample 99",
          "Sample 100",
          "Sample 13",
          "Sample 104"
         ],
         "xaxis": "x",
         "y": [
          113,
          1415,
          315,
          118,
          395,
          130,
          159,
          91,
          68,
          155,
          35,
          200,
          158,
          173,
          79
         ],
         "yaxis": "y"
        },
        {
         "alignmentgroup": "True",
         "hovertemplate": "Organism=Rhodobacterales<br>Sample=%{x}<br>Read Count=%{y}<extra></extra>",
         "legendgroup": "Rhodobacterales",
         "marker": {
          "color": "#00cc96"
         },
         "name": "Rhodobacterales",
         "offsetgroup": "Rhodobacterales",
         "orientation": "v",
         "showlegend": true,
         "textposition": "auto",
         "type": "bar",
         "x": [
          "Sample 101",
          "Sample 14",
          "Sample 2",
          "Sample 3",
          "Sample 16",
          "Sample 4",
          "Sample 15",
          "Sample 103",
          "Sample 1",
          "Sample 97",
          "Sample 98",
          "Sample 99",
          "Sample 100",
          "Sample 13",
          "Sample 104"
         ],
         "xaxis": "x",
         "y": [
          250,
          919,
          2433,
          352,
          1177,
          1619,
          601,
          199,
          787,
          646,
          330,
          881,
          993,
          1512,
          188
         ],
         "yaxis": "y"
        },
        {
         "alignmentgroup": "True",
         "hovertemplate": "Organism=Candidatus Cryosericia<br>Sample=%{x}<br>Read Count=%{y}<extra></extra>",
         "legendgroup": "Candidatus Cryosericia",
         "marker": {
          "color": "#ab63fa"
         },
         "name": "Candidatus Cryosericia",
         "offsetgroup": "Candidatus Cryosericia",
         "orientation": "v",
         "showlegend": true,
         "textposition": "auto",
         "type": "bar",
         "x": [
          "Sample 101",
          "Sample 14",
          "Sample 2",
          "Sample 3",
          "Sample 16",
          "Sample 4",
          "Sample 15",
          "Sample 103",
          "Sample 1",
          "Sample 97",
          "Sample 98",
          "Sample 99",
          "Sample 100",
          "Sample 13",
          "Sample 104"
         ],
         "xaxis": "x",
         "y": [
          null,
          1,
          null,
          null,
          2,
          4,
          3,
          null,
          1,
          2,
          null,
          3,
          3,
          3,
          null
         ],
         "yaxis": "y"
        },
        {
         "alignmentgroup": "True",
         "hovertemplate": "Organism=Parvularculales<br>Sample=%{x}<br>Read Count=%{y}<extra></extra>",
         "legendgroup": "Parvularculales",
         "marker": {
          "color": "#FFA15A"
         },
         "name": "Parvularculales",
         "offsetgroup": "Parvularculales",
         "orientation": "v",
         "showlegend": true,
         "textposition": "auto",
         "type": "bar",
         "x": [
          "Sample 101",
          "Sample 14",
          "Sample 2",
          "Sample 3",
          "Sample 16",
          "Sample 4",
          "Sample 15",
          "Sample 103",
          "Sample 1",
          "Sample 97",
          "Sample 98",
          "Sample 99",
          "Sample 100",
          "Sample 13",
          "Sample 104"
         ],
         "xaxis": "x",
         "y": [
          1,
          5,
          4,
          1,
          1,
          1,
          3,
          1,
          null,
          4,
          null,
          1,
          2,
          4,
          2
         ],
         "yaxis": "y"
        },
        {
         "alignmentgroup": "True",
         "hovertemplate": "Organism=bacterium D16-36<br>Sample=%{x}<br>Read Count=%{y}<extra></extra>",
         "legendgroup": "bacterium D16-36",
         "marker": {
          "color": "#19d3f3"
         },
         "name": "bacterium D16-36",
         "offsetgroup": "bacterium D16-36",
         "orientation": "v",
         "showlegend": true,
         "textposition": "auto",
         "type": "bar",
         "x": [
          "Sample 101",
          "Sample 14",
          "Sample 2",
          "Sample 3",
          "Sample 16",
          "Sample 4",
          "Sample 15",
          "Sample 103",
          "Sample 1",
          "Sample 97",
          "Sample 98",
          "Sample 99",
          "Sample 100",
          "Sample 13",
          "Sample 104"
         ],
         "xaxis": "x",
         "y": [
          null,
          null,
          null,
          null,
          null,
          null,
          null,
          null,
          1,
          null,
          null,
          null,
          null,
          null,
          null
         ],
         "yaxis": "y"
        },
        {
         "alignmentgroup": "True",
         "hovertemplate": "Organism=Bryobacterales<br>Sample=%{x}<br>Read Count=%{y}<extra></extra>",
         "legendgroup": "Bryobacterales",
         "marker": {
          "color": "#FF6692"
         },
         "name": "Bryobacterales",
         "offsetgroup": "Bryobacterales",
         "orientation": "v",
         "showlegend": true,
         "textposition": "auto",
         "type": "bar",
         "x": [
          "Sample 101",
          "Sample 14",
          "Sample 2",
          "Sample 3",
          "Sample 16",
          "Sample 4",
          "Sample 15",
          "Sample 103",
          "Sample 1",
          "Sample 97",
          "Sample 98",
          "Sample 99",
          "Sample 100",
          "Sample 13",
          "Sample 104"
         ],
         "xaxis": "x",
         "y": [
          9,
          17,
          12,
          4,
          1,
          1,
          4,
          null,
          16,
          6,
          4,
          21,
          31,
          25,
          null
         ],
         "yaxis": "y"
        },
        {
         "alignmentgroup": "True",
         "hovertemplate": "Organism=Methanococci<br>Sample=%{x}<br>Read Count=%{y}<extra></extra>",
         "legendgroup": "Methanococci",
         "marker": {
          "color": "#B6E880"
         },
         "name": "Methanococci",
         "offsetgroup": "Methanococci",
         "orientation": "v",
         "showlegend": true,
         "textposition": "auto",
         "type": "bar",
         "x": [
          "Sample 101",
          "Sample 14",
          "Sample 2",
          "Sample 3",
          "Sample 16",
          "Sample 4",
          "Sample 15",
          "Sample 103",
          "Sample 1",
          "Sample 97",
          "Sample 98",
          "Sample 99",
          "Sample 100",
          "Sample 13",
          "Sample 104"
         ],
         "xaxis": "x",
         "y": [
          1,
          6,
          4,
          1,
          4,
          14,
          3,
          null,
          4,
          7,
          8,
          4,
          8,
          8,
          null
         ],
         "yaxis": "y"
        },
        {
         "alignmentgroup": "True",
         "hovertemplate": "Organism=Erysipelotrichia<br>Sample=%{x}<br>Read Count=%{y}<extra></extra>",
         "legendgroup": "Erysipelotrichia",
         "marker": {
          "color": "#FF97FF"
         },
         "name": "Erysipelotrichia",
         "offsetgroup": "Erysipelotrichia",
         "orientation": "v",
         "showlegend": true,
         "textposition": "auto",
         "type": "bar",
         "x": [
          "Sample 101",
          "Sample 14",
          "Sample 2",
          "Sample 3",
          "Sample 16",
          "Sample 4",
          "Sample 15",
          "Sample 103",
          "Sample 1",
          "Sample 97",
          "Sample 98",
          "Sample 99",
          "Sample 100",
          "Sample 13",
          "Sample 104"
         ],
         "xaxis": "x",
         "y": [
          59204,
          190301,
          38188,
          617640,
          26363,
          352325,
          210613,
          158120,
          49257,
          612479,
          38917,
          552142,
          599675,
          300952,
          24270
         ],
         "yaxis": "y"
        },
        {
         "alignmentgroup": "True",
         "hovertemplate": "Organism=Oceanospirillales<br>Sample=%{x}<br>Read Count=%{y}<extra></extra>",
         "legendgroup": "Oceanospirillales",
         "marker": {
          "color": "#FECB52"
         },
         "name": "Oceanospirillales",
         "offsetgroup": "Oceanospirillales",
         "orientation": "v",
         "showlegend": true,
         "textposition": "auto",
         "type": "bar",
         "x": [
          "Sample 101",
          "Sample 14",
          "Sample 2",
          "Sample 3",
          "Sample 16",
          "Sample 4",
          "Sample 15",
          "Sample 103",
          "Sample 1",
          "Sample 97",
          "Sample 98",
          "Sample 99",
          "Sample 100",
          "Sample 13",
          "Sample 104"
         ],
         "xaxis": "x",
         "y": [
          305,
          184,
          319,
          109,
          132,
          1514,
          119,
          26,
          174,
          261,
          359,
          189,
          556,
          268,
          245
         ],
         "yaxis": "y"
        },
        {
         "alignmentgroup": "True",
         "hovertemplate": "Organism=Magnetococcales<br>Sample=%{x}<br>Read Count=%{y}<extra></extra>",
         "legendgroup": "Magnetococcales",
         "marker": {
          "color": "#636efa"
         },
         "name": "Magnetococcales",
         "offsetgroup": "Magnetococcales",
         "orientation": "v",
         "showlegend": true,
         "textposition": "auto",
         "type": "bar",
         "x": [
          "Sample 101",
          "Sample 14",
          "Sample 2",
          "Sample 3",
          "Sample 16",
          "Sample 4",
          "Sample 15",
          "Sample 103",
          "Sample 1",
          "Sample 97",
          "Sample 98",
          "Sample 99",
          "Sample 100",
          "Sample 13",
          "Sample 104"
         ],
         "xaxis": "x",
         "y": [
          1,
          1,
          2,
          1,
          3,
          4,
          1,
          null,
          null,
          1,
          null,
          1,
          1,
          2,
          null
         ],
         "yaxis": "y"
        },
        {
         "alignmentgroup": "True",
         "hovertemplate": "Organism=Candidatus Bipolaricaulota<br>Sample=%{x}<br>Read Count=%{y}<extra></extra>",
         "legendgroup": "Candidatus Bipolaricaulota",
         "marker": {
          "color": "#EF553B"
         },
         "name": "Candidatus Bipolaricaulota",
         "offsetgroup": "Candidatus Bipolaricaulota",
         "orientation": "v",
         "showlegend": true,
         "textposition": "auto",
         "type": "bar",
         "x": [
          "Sample 101",
          "Sample 14",
          "Sample 2",
          "Sample 3",
          "Sample 16",
          "Sample 4",
          "Sample 15",
          "Sample 103",
          "Sample 1",
          "Sample 97",
          "Sample 98",
          "Sample 99",
          "Sample 100",
          "Sample 13",
          "Sample 104"
         ],
         "xaxis": "x",
         "y": [
          null,
          null,
          null,
          1,
          null,
          null,
          null,
          null,
          null,
          null,
          null,
          1,
          null,
          null,
          null
         ],
         "yaxis": "y"
        },
        {
         "alignmentgroup": "True",
         "hovertemplate": "Organism=Epsilonproteobacteria<br>Sample=%{x}<br>Read Count=%{y}<extra></extra>",
         "legendgroup": "Epsilonproteobacteria",
         "marker": {
          "color": "#00cc96"
         },
         "name": "Epsilonproteobacteria",
         "offsetgroup": "Epsilonproteobacteria",
         "orientation": "v",
         "showlegend": true,
         "textposition": "auto",
         "type": "bar",
         "x": [
          "Sample 101",
          "Sample 14",
          "Sample 2",
          "Sample 3",
          "Sample 16",
          "Sample 4",
          "Sample 15",
          "Sample 103",
          "Sample 1",
          "Sample 97",
          "Sample 98",
          "Sample 99",
          "Sample 100",
          "Sample 13",
          "Sample 104"
         ],
         "xaxis": "x",
         "y": [
          694,
          2095,
          828,
          344,
          433,
          1279,
          901,
          529,
          385,
          667,
          299,
          28963,
          462,
          1648,
          445
         ],
         "yaxis": "y"
        },
        {
         "alignmentgroup": "True",
         "hovertemplate": "Organism=Nitriliruptoria<br>Sample=%{x}<br>Read Count=%{y}<extra></extra>",
         "legendgroup": "Nitriliruptoria",
         "marker": {
          "color": "#ab63fa"
         },
         "name": "Nitriliruptoria",
         "offsetgroup": "Nitriliruptoria",
         "orientation": "v",
         "showlegend": true,
         "textposition": "auto",
         "type": "bar",
         "x": [
          "Sample 101",
          "Sample 14",
          "Sample 2",
          "Sample 3",
          "Sample 16",
          "Sample 4",
          "Sample 15",
          "Sample 103",
          "Sample 1",
          "Sample 97",
          "Sample 98",
          "Sample 99",
          "Sample 100",
          "Sample 13",
          "Sample 104"
         ],
         "xaxis": "x",
         "y": [
          1,
          6,
          8,
          8,
          3,
          4,
          4,
          1,
          4,
          8,
          2,
          6,
          6,
          6,
          5
         ],
         "yaxis": "y"
        },
        {
         "alignmentgroup": "True",
         "hovertemplate": "Organism=Cellvibrionales<br>Sample=%{x}<br>Read Count=%{y}<extra></extra>",
         "legendgroup": "Cellvibrionales",
         "marker": {
          "color": "#FFA15A"
         },
         "name": "Cellvibrionales",
         "offsetgroup": "Cellvibrionales",
         "orientation": "v",
         "showlegend": true,
         "textposition": "auto",
         "type": "bar",
         "x": [
          "Sample 101",
          "Sample 14",
          "Sample 2",
          "Sample 3",
          "Sample 16",
          "Sample 4",
          "Sample 15",
          "Sample 103",
          "Sample 1",
          "Sample 97",
          "Sample 98",
          "Sample 99",
          "Sample 100",
          "Sample 13",
          "Sample 104"
         ],
         "xaxis": "x",
         "y": [
          15,
          43,
          77,
          23,
          36,
          49,
          37,
          2,
          30,
          55,
          26,
          65,
          75,
          63,
          2
         ],
         "yaxis": "y"
        },
        {
         "alignmentgroup": "True",
         "hovertemplate": "Organism=Clostridia<br>Sample=%{x}<br>Read Count=%{y}<extra></extra>",
         "legendgroup": "Clostridia",
         "marker": {
          "color": "#19d3f3"
         },
         "name": "Clostridia",
         "offsetgroup": "Clostridia",
         "orientation": "v",
         "showlegend": true,
         "textposition": "auto",
         "type": "bar",
         "x": [
          "Sample 101",
          "Sample 14",
          "Sample 2",
          "Sample 3",
          "Sample 16",
          "Sample 4",
          "Sample 15",
          "Sample 103",
          "Sample 1",
          "Sample 97",
          "Sample 98",
          "Sample 99",
          "Sample 100",
          "Sample 13",
          "Sample 104"
         ],
         "xaxis": "x",
         "y": [
          9741096,
          6014197,
          10456257,
          4679740,
          6140954,
          5675595,
          6877372,
          11980774,
          11889106,
          10349746,
          10892262,
          11073469,
          6438239,
          11335430,
          4936810
         ],
         "yaxis": "y"
        },
        {
         "alignmentgroup": "True",
         "hovertemplate": "Organism=Sneathiellales<br>Sample=%{x}<br>Read Count=%{y}<extra></extra>",
         "legendgroup": "Sneathiellales",
         "marker": {
          "color": "#FF6692"
         },
         "name": "Sneathiellales",
         "offsetgroup": "Sneathiellales",
         "orientation": "v",
         "showlegend": true,
         "textposition": "auto",
         "type": "bar",
         "x": [
          "Sample 101",
          "Sample 14",
          "Sample 2",
          "Sample 3",
          "Sample 16",
          "Sample 4",
          "Sample 15",
          "Sample 103",
          "Sample 1",
          "Sample 97",
          "Sample 98",
          "Sample 99",
          "Sample 100",
          "Sample 13",
          "Sample 104"
         ],
         "xaxis": "x",
         "y": [
          2,
          2,
          5,
          null,
          19,
          12,
          null,
          1,
          2,
          1,
          1,
          1,
          3,
          6,
          null
         ],
         "yaxis": "y"
        },
        {
         "alignmentgroup": "True",
         "hovertemplate": "Organism=Spartobacteria<br>Sample=%{x}<br>Read Count=%{y}<extra></extra>",
         "legendgroup": "Spartobacteria",
         "marker": {
          "color": "#B6E880"
         },
         "name": "Spartobacteria",
         "offsetgroup": "Spartobacteria",
         "orientation": "v",
         "showlegend": true,
         "textposition": "auto",
         "type": "bar",
         "x": [
          "Sample 101",
          "Sample 14",
          "Sample 2",
          "Sample 3",
          "Sample 16",
          "Sample 4",
          "Sample 15",
          "Sample 103",
          "Sample 1",
          "Sample 97",
          "Sample 98",
          "Sample 99",
          "Sample 100",
          "Sample 13",
          "Sample 104"
         ],
         "xaxis": "x",
         "y": [
          null,
          7,
          97,
          1,
          1,
          1,
          10,
          null,
          null,
          3,
          1,
          15,
          8,
          5,
          null
         ],
         "yaxis": "y"
        },
        {
         "alignmentgroup": "True",
         "hovertemplate": "Organism=Acidithiobacillales<br>Sample=%{x}<br>Read Count=%{y}<extra></extra>",
         "legendgroup": "Acidithiobacillales",
         "marker": {
          "color": "#FF97FF"
         },
         "name": "Acidithiobacillales",
         "offsetgroup": "Acidithiobacillales",
         "orientation": "v",
         "showlegend": true,
         "textposition": "auto",
         "type": "bar",
         "x": [
          "Sample 101",
          "Sample 14",
          "Sample 2",
          "Sample 3",
          "Sample 16",
          "Sample 4",
          "Sample 15",
          "Sample 103",
          "Sample 1",
          "Sample 97",
          "Sample 98",
          "Sample 99",
          "Sample 100",
          "Sample 13",
          "Sample 104"
         ],
         "xaxis": "x",
         "y": [
          2,
          6,
          7,
          1,
          2,
          7,
          1,
          1,
          2,
          6,
          4,
          2,
          6,
          27,
          7
         ],
         "yaxis": "y"
        },
        {
         "alignmentgroup": "True",
         "hovertemplate": "Organism=Kiritimatiellae<br>Sample=%{x}<br>Read Count=%{y}<extra></extra>",
         "legendgroup": "Kiritimatiellae",
         "marker": {
          "color": "#FECB52"
         },
         "name": "Kiritimatiellae",
         "offsetgroup": "Kiritimatiellae",
         "orientation": "v",
         "showlegend": true,
         "textposition": "auto",
         "type": "bar",
         "x": [
          "Sample 101",
          "Sample 14",
          "Sample 2",
          "Sample 3",
          "Sample 16",
          "Sample 4",
          "Sample 15",
          "Sample 103",
          "Sample 1",
          "Sample 97",
          "Sample 98",
          "Sample 99",
          "Sample 100",
          "Sample 13",
          "Sample 104"
         ],
         "xaxis": "x",
         "y": [
          null,
          8,
          8,
          2,
          null,
          9,
          13,
          4,
          5,
          8,
          1,
          12,
          8,
          10,
          2
         ],
         "yaxis": "y"
        },
        {
         "alignmentgroup": "True",
         "hovertemplate": "Organism=Gemmatimonadetes<br>Sample=%{x}<br>Read Count=%{y}<extra></extra>",
         "legendgroup": "Gemmatimonadetes",
         "marker": {
          "color": "#636efa"
         },
         "name": "Gemmatimonadetes",
         "offsetgroup": "Gemmatimonadetes",
         "orientation": "v",
         "showlegend": true,
         "textposition": "auto",
         "type": "bar",
         "x": [
          "Sample 101",
          "Sample 14",
          "Sample 2",
          "Sample 3",
          "Sample 16",
          "Sample 4",
          "Sample 15",
          "Sample 103",
          "Sample 1",
          "Sample 97",
          "Sample 98",
          "Sample 99",
          "Sample 100",
          "Sample 13",
          "Sample 104"
         ],
         "xaxis": "x",
         "y": [
          2,
          null,
          6,
          3,
          2,
          7,
          1,
          null,
          4,
          4,
          2,
          7,
          3,
          8,
          null
         ],
         "yaxis": "y"
        },
        {
         "alignmentgroup": "True",
         "hovertemplate": "Organism=Negativicutes<br>Sample=%{x}<br>Read Count=%{y}<extra></extra>",
         "legendgroup": "Negativicutes",
         "marker": {
          "color": "#EF553B"
         },
         "name": "Negativicutes",
         "offsetgroup": "Negativicutes",
         "orientation": "v",
         "showlegend": true,
         "textposition": "auto",
         "type": "bar",
         "x": [
          "Sample 101",
          "Sample 14",
          "Sample 2",
          "Sample 3",
          "Sample 16",
          "Sample 4",
          "Sample 15",
          "Sample 103",
          "Sample 1",
          "Sample 97",
          "Sample 98",
          "Sample 99",
          "Sample 100",
          "Sample 13",
          "Sample 104"
         ],
         "xaxis": "x",
         "y": [
          136912,
          322151,
          201130,
          595851,
          183558,
          95003,
          53005,
          80900,
          318999,
          511689,
          126226,
          333752,
          426232,
          413982,
          584703
         ],
         "yaxis": "y"
        },
        {
         "alignmentgroup": "True",
         "hovertemplate": "Organism=unclassified Thaumarchaeota<br>Sample=%{x}<br>Read Count=%{y}<extra></extra>",
         "legendgroup": "unclassified Thaumarchaeota",
         "marker": {
          "color": "#00cc96"
         },
         "name": "unclassified Thaumarchaeota",
         "offsetgroup": "unclassified Thaumarchaeota",
         "orientation": "v",
         "showlegend": true,
         "textposition": "auto",
         "type": "bar",
         "x": [
          "Sample 101",
          "Sample 14",
          "Sample 2",
          "Sample 3",
          "Sample 16",
          "Sample 4",
          "Sample 15",
          "Sample 103",
          "Sample 1",
          "Sample 97",
          "Sample 98",
          "Sample 99",
          "Sample 100",
          "Sample 13",
          "Sample 104"
         ],
         "xaxis": "x",
         "y": [
          2,
          1,
          2,
          null,
          null,
          null,
          null,
          null,
          2,
          null,
          null,
          1,
          1,
          null,
          null
         ],
         "yaxis": "y"
        },
        {
         "alignmentgroup": "True",
         "hovertemplate": "Organism=Thermobaculum<br>Sample=%{x}<br>Read Count=%{y}<extra></extra>",
         "legendgroup": "Thermobaculum",
         "marker": {
          "color": "#ab63fa"
         },
         "name": "Thermobaculum",
         "offsetgroup": "Thermobaculum",
         "orientation": "v",
         "showlegend": true,
         "textposition": "auto",
         "type": "bar",
         "x": [
          "Sample 101",
          "Sample 14",
          "Sample 2",
          "Sample 3",
          "Sample 16",
          "Sample 4",
          "Sample 15",
          "Sample 103",
          "Sample 1",
          "Sample 97",
          "Sample 98",
          "Sample 99",
          "Sample 100",
          "Sample 13",
          "Sample 104"
         ],
         "xaxis": "x",
         "y": [
          null,
          2,
          null,
          null,
          null,
          1,
          null,
          null,
          null,
          2,
          null,
          null,
          4,
          3,
          1
         ],
         "yaxis": "y"
        },
        {
         "alignmentgroup": "True",
         "hovertemplate": "Organism=bacterium YEK0313<br>Sample=%{x}<br>Read Count=%{y}<extra></extra>",
         "legendgroup": "bacterium YEK0313",
         "marker": {
          "color": "#FFA15A"
         },
         "name": "bacterium YEK0313",
         "offsetgroup": "bacterium YEK0313",
         "orientation": "v",
         "showlegend": true,
         "textposition": "auto",
         "type": "bar",
         "x": [
          "Sample 101",
          "Sample 14",
          "Sample 2",
          "Sample 3",
          "Sample 16",
          "Sample 4",
          "Sample 15",
          "Sample 103",
          "Sample 1",
          "Sample 97",
          "Sample 98",
          "Sample 99",
          "Sample 100",
          "Sample 13",
          "Sample 104"
         ],
         "xaxis": "x",
         "y": [
          null,
          null,
          1,
          2,
          2,
          2,
          null,
          null,
          null,
          null,
          null,
          2,
          2,
          null,
          null
         ],
         "yaxis": "y"
        },
        {
         "alignmentgroup": "True",
         "hovertemplate": "Organism=Holophagales<br>Sample=%{x}<br>Read Count=%{y}<extra></extra>",
         "legendgroup": "Holophagales",
         "marker": {
          "color": "#19d3f3"
         },
         "name": "Holophagales",
         "offsetgroup": "Holophagales",
         "orientation": "v",
         "showlegend": true,
         "textposition": "auto",
         "type": "bar",
         "x": [
          "Sample 101",
          "Sample 14",
          "Sample 2",
          "Sample 3",
          "Sample 16",
          "Sample 4",
          "Sample 15",
          "Sample 103",
          "Sample 1",
          "Sample 97",
          "Sample 98",
          "Sample 99",
          "Sample 100",
          "Sample 13",
          "Sample 104"
         ],
         "xaxis": "x",
         "y": [
          1,
          9,
          5,
          3,
          1,
          11,
          8,
          2,
          4,
          6,
          1,
          21,
          7,
          20,
          null
         ],
         "yaxis": "y"
        },
        {
         "alignmentgroup": "True",
         "hovertemplate": "Organism=Thermoprotei<br>Sample=%{x}<br>Read Count=%{y}<extra></extra>",
         "legendgroup": "Thermoprotei",
         "marker": {
          "color": "#FF6692"
         },
         "name": "Thermoprotei",
         "offsetgroup": "Thermoprotei",
         "orientation": "v",
         "showlegend": true,
         "textposition": "auto",
         "type": "bar",
         "x": [
          "Sample 101",
          "Sample 14",
          "Sample 2",
          "Sample 3",
          "Sample 16",
          "Sample 4",
          "Sample 15",
          "Sample 103",
          "Sample 1",
          "Sample 97",
          "Sample 98",
          "Sample 99",
          "Sample 100",
          "Sample 13",
          "Sample 104"
         ],
         "xaxis": "x",
         "y": [
          1,
          5,
          7,
          2,
          3,
          3,
          4,
          2,
          5,
          3,
          3,
          3,
          7,
          19,
          null
         ],
         "yaxis": "y"
        },
        {
         "alignmentgroup": "True",
         "hovertemplate": "Organism=Thiotrichales<br>Sample=%{x}<br>Read Count=%{y}<extra></extra>",
         "legendgroup": "Thiotrichales",
         "marker": {
          "color": "#B6E880"
         },
         "name": "Thiotrichales",
         "offsetgroup": "Thiotrichales",
         "orientation": "v",
         "showlegend": true,
         "textposition": "auto",
         "type": "bar",
         "x": [
          "Sample 101",
          "Sample 14",
          "Sample 2",
          "Sample 3",
          "Sample 16",
          "Sample 4",
          "Sample 15",
          "Sample 103",
          "Sample 1",
          "Sample 97",
          "Sample 98",
          "Sample 99",
          "Sample 100",
          "Sample 13",
          "Sample 104"
         ],
         "xaxis": "x",
         "y": [
          42,
          42,
          63,
          7,
          14,
          42,
          16,
          5,
          25,
          10,
          12,
          33,
          39,
          33,
          null
         ],
         "yaxis": "y"
        },
        {
         "alignmentgroup": "True",
         "hovertemplate": "Organism=Chromatiales<br>Sample=%{x}<br>Read Count=%{y}<extra></extra>",
         "legendgroup": "Chromatiales",
         "marker": {
          "color": "#FF97FF"
         },
         "name": "Chromatiales",
         "offsetgroup": "Chromatiales",
         "orientation": "v",
         "showlegend": true,
         "textposition": "auto",
         "type": "bar",
         "x": [
          "Sample 101",
          "Sample 14",
          "Sample 2",
          "Sample 3",
          "Sample 16",
          "Sample 4",
          "Sample 15",
          "Sample 103",
          "Sample 1",
          "Sample 97",
          "Sample 98",
          "Sample 99",
          "Sample 100",
          "Sample 13",
          "Sample 104"
         ],
         "xaxis": "x",
         "y": [
          28,
          182,
          127,
          47,
          59,
          121,
          82,
          9,
          60,
          64,
          50,
          99,
          135,
          252,
          14
         ],
         "yaxis": "y"
        },
        {
         "alignmentgroup": "True",
         "hovertemplate": "Organism=Methanonatronarchaeales<br>Sample=%{x}<br>Read Count=%{y}<extra></extra>",
         "legendgroup": "Methanonatronarchaeales",
         "marker": {
          "color": "#FECB52"
         },
         "name": "Methanonatronarchaeales",
         "offsetgroup": "Methanonatronarchaeales",
         "orientation": "v",
         "showlegend": true,
         "textposition": "auto",
         "type": "bar",
         "x": [
          "Sample 101",
          "Sample 14",
          "Sample 2",
          "Sample 3",
          "Sample 16",
          "Sample 4",
          "Sample 15",
          "Sample 103",
          "Sample 1",
          "Sample 97",
          "Sample 98",
          "Sample 99",
          "Sample 100",
          "Sample 13",
          "Sample 104"
         ],
         "xaxis": "x",
         "y": [
          null,
          null,
          null,
          1,
          null,
          10,
          null,
          1,
          null,
          1,
          null,
          null,
          null,
          null,
          null
         ],
         "yaxis": "y"
        },
        {
         "alignmentgroup": "True",
         "hovertemplate": "Organism=Bacilli<br>Sample=%{x}<br>Read Count=%{y}<extra></extra>",
         "legendgroup": "Bacilli",
         "marker": {
          "color": "#636efa"
         },
         "name": "Bacilli",
         "offsetgroup": "Bacilli",
         "orientation": "v",
         "showlegend": true,
         "textposition": "auto",
         "type": "bar",
         "x": [
          "Sample 101",
          "Sample 14",
          "Sample 2",
          "Sample 3",
          "Sample 16",
          "Sample 4",
          "Sample 15",
          "Sample 103",
          "Sample 1",
          "Sample 97",
          "Sample 98",
          "Sample 99",
          "Sample 100",
          "Sample 13",
          "Sample 104"
         ],
         "xaxis": "x",
         "y": [
          1440438,
          55543,
          73546,
          89119,
          28739,
          42658,
          163172,
          187461,
          62832,
          200553,
          101486,
          136320,
          55506,
          44137,
          230791
         ],
         "yaxis": "y"
        },
        {
         "alignmentgroup": "True",
         "hovertemplate": "Organism=Ktedonobacteria<br>Sample=%{x}<br>Read Count=%{y}<extra></extra>",
         "legendgroup": "Ktedonobacteria",
         "marker": {
          "color": "#EF553B"
         },
         "name": "Ktedonobacteria",
         "offsetgroup": "Ktedonobacteria",
         "orientation": "v",
         "showlegend": true,
         "textposition": "auto",
         "type": "bar",
         "x": [
          "Sample 101",
          "Sample 14",
          "Sample 2",
          "Sample 3",
          "Sample 16",
          "Sample 4",
          "Sample 15",
          "Sample 103",
          "Sample 1",
          "Sample 97",
          "Sample 98",
          "Sample 99",
          "Sample 100",
          "Sample 13",
          "Sample 104"
         ],
         "xaxis": "x",
         "y": [
          3,
          2,
          17,
          8,
          3,
          14,
          5,
          1,
          7,
          5,
          11,
          18,
          7,
          18,
          null
         ],
         "yaxis": "y"
        },
        {
         "alignmentgroup": "True",
         "hovertemplate": "Organism=bacterium D16-63<br>Sample=%{x}<br>Read Count=%{y}<extra></extra>",
         "legendgroup": "bacterium D16-63",
         "marker": {
          "color": "#00cc96"
         },
         "name": "bacterium D16-63",
         "offsetgroup": "bacterium D16-63",
         "orientation": "v",
         "showlegend": true,
         "textposition": "auto",
         "type": "bar",
         "x": [
          "Sample 101",
          "Sample 14",
          "Sample 2",
          "Sample 3",
          "Sample 16",
          "Sample 4",
          "Sample 15",
          "Sample 103",
          "Sample 1",
          "Sample 97",
          "Sample 98",
          "Sample 99",
          "Sample 100",
          "Sample 13",
          "Sample 104"
         ],
         "xaxis": "x",
         "y": [
          null,
          4,
          7,
          5,
          2,
          13,
          1,
          null,
          8,
          4,
          3,
          7,
          4,
          8,
          1
         ],
         "yaxis": "y"
        },
        {
         "alignmentgroup": "True",
         "hovertemplate": "Organism=Lentisphaeria<br>Sample=%{x}<br>Read Count=%{y}<extra></extra>",
         "legendgroup": "Lentisphaeria",
         "marker": {
          "color": "#ab63fa"
         },
         "name": "Lentisphaeria",
         "offsetgroup": "Lentisphaeria",
         "orientation": "v",
         "showlegend": true,
         "textposition": "auto",
         "type": "bar",
         "x": [
          "Sample 101",
          "Sample 14",
          "Sample 2",
          "Sample 3",
          "Sample 16",
          "Sample 4",
          "Sample 15",
          "Sample 103",
          "Sample 1",
          "Sample 97",
          "Sample 98",
          "Sample 99",
          "Sample 100",
          "Sample 13",
          "Sample 104"
         ],
         "xaxis": "x",
         "y": [
          63,
          55987,
          18234,
          6384,
          37071,
          59572,
          100404,
          941,
          23612,
          40065,
          1980,
          9857,
          1746,
          14293,
          36
         ],
         "yaxis": "y"
        },
        {
         "alignmentgroup": "True",
         "hovertemplate": "Organism=Thermodesulfobacteriales<br>Sample=%{x}<br>Read Count=%{y}<extra></extra>",
         "legendgroup": "Thermodesulfobacteriales",
         "marker": {
          "color": "#FFA15A"
         },
         "name": "Thermodesulfobacteriales",
         "offsetgroup": "Thermodesulfobacteriales",
         "orientation": "v",
         "showlegend": true,
         "textposition": "auto",
         "type": "bar",
         "x": [
          "Sample 101",
          "Sample 14",
          "Sample 2",
          "Sample 3",
          "Sample 16",
          "Sample 4",
          "Sample 15",
          "Sample 103",
          "Sample 1",
          "Sample 97",
          "Sample 98",
          "Sample 99",
          "Sample 100",
          "Sample 13",
          "Sample 104"
         ],
         "xaxis": "x",
         "y": [
          1,
          2,
          16,
          1,
          2,
          7,
          3,
          1,
          4,
          3,
          2,
          4,
          15,
          5,
          null
         ],
         "yaxis": "y"
        },
        {
         "alignmentgroup": "True",
         "hovertemplate": "Organism=Patescibacteria group<br>Sample=%{x}<br>Read Count=%{y}<extra></extra>",
         "legendgroup": "Patescibacteria group",
         "marker": {
          "color": "#19d3f3"
         },
         "name": "Patescibacteria group",
         "offsetgroup": "Patescibacteria group",
         "orientation": "v",
         "showlegend": true,
         "textposition": "auto",
         "type": "bar",
         "x": [
          "Sample 101",
          "Sample 14",
          "Sample 2",
          "Sample 3",
          "Sample 16",
          "Sample 4",
          "Sample 15",
          "Sample 103",
          "Sample 1",
          "Sample 97",
          "Sample 98",
          "Sample 99",
          "Sample 100",
          "Sample 13",
          "Sample 104"
         ],
         "xaxis": "x",
         "y": [
          null,
          6,
          6,
          null,
          null,
          5,
          null,
          null,
          1,
          null,
          1,
          2,
          2,
          27,
          null
         ],
         "yaxis": "y"
        },
        {
         "alignmentgroup": "True",
         "hovertemplate": "Organism=Nitrosopumilales<br>Sample=%{x}<br>Read Count=%{y}<extra></extra>",
         "legendgroup": "Nitrosopumilales",
         "marker": {
          "color": "#FF6692"
         },
         "name": "Nitrosopumilales",
         "offsetgroup": "Nitrosopumilales",
         "orientation": "v",
         "showlegend": true,
         "textposition": "auto",
         "type": "bar",
         "x": [
          "Sample 101",
          "Sample 14",
          "Sample 2",
          "Sample 3",
          "Sample 16",
          "Sample 4",
          "Sample 15",
          "Sample 103",
          "Sample 1",
          "Sample 97",
          "Sample 98",
          "Sample 99",
          "Sample 100",
          "Sample 13",
          "Sample 104"
         ],
         "xaxis": "x",
         "y": [
          1,
          2,
          5,
          null,
          null,
          2,
          2,
          2,
          2,
          2,
          null,
          null,
          4,
          4,
          null
         ],
         "yaxis": "y"
        },
        {
         "alignmentgroup": "True",
         "hovertemplate": "Organism=bacterium D16-76<br>Sample=%{x}<br>Read Count=%{y}<extra></extra>",
         "legendgroup": "bacterium D16-76",
         "marker": {
          "color": "#B6E880"
         },
         "name": "bacterium D16-76",
         "offsetgroup": "bacterium D16-76",
         "orientation": "v",
         "showlegend": true,
         "textposition": "auto",
         "type": "bar",
         "x": [
          "Sample 101",
          "Sample 14",
          "Sample 2",
          "Sample 3",
          "Sample 16",
          "Sample 4",
          "Sample 15",
          "Sample 103",
          "Sample 1",
          "Sample 97",
          "Sample 98",
          "Sample 99",
          "Sample 100",
          "Sample 13",
          "Sample 104"
         ],
         "xaxis": "x",
         "y": [
          4,
          11,
          156,
          25,
          27,
          10,
          11,
          3,
          15,
          131,
          188,
          66,
          27,
          21,
          4
         ],
         "yaxis": "y"
        },
        {
         "alignmentgroup": "True",
         "hovertemplate": "Organism=Calditrichales<br>Sample=%{x}<br>Read Count=%{y}<extra></extra>",
         "legendgroup": "Calditrichales",
         "marker": {
          "color": "#FF97FF"
         },
         "name": "Calditrichales",
         "offsetgroup": "Calditrichales",
         "orientation": "v",
         "showlegend": true,
         "textposition": "auto",
         "type": "bar",
         "x": [
          "Sample 101",
          "Sample 14",
          "Sample 2",
          "Sample 3",
          "Sample 16",
          "Sample 4",
          "Sample 15",
          "Sample 103",
          "Sample 1",
          "Sample 97",
          "Sample 98",
          "Sample 99",
          "Sample 100",
          "Sample 13",
          "Sample 104"
         ],
         "xaxis": "x",
         "y": [
          null,
          2,
          null,
          null,
          null,
          null,
          1,
          null,
          1,
          null,
          null,
          2,
          1,
          null,
          null
         ],
         "yaxis": "y"
        },
        {
         "alignmentgroup": "True",
         "hovertemplate": "Organism=Bacteriovoracales<br>Sample=%{x}<br>Read Count=%{y}<extra></extra>",
         "legendgroup": "Bacteriovoracales",
         "marker": {
          "color": "#FECB52"
         },
         "name": "Bacteriovoracales",
         "offsetgroup": "Bacteriovoracales",
         "orientation": "v",
         "showlegend": true,
         "textposition": "auto",
         "type": "bar",
         "x": [
          "Sample 101",
          "Sample 14",
          "Sample 2",
          "Sample 3",
          "Sample 16",
          "Sample 4",
          "Sample 15",
          "Sample 103",
          "Sample 1",
          "Sample 97",
          "Sample 98",
          "Sample 99",
          "Sample 100",
          "Sample 13",
          "Sample 104"
         ],
         "xaxis": "x",
         "y": [
          1,
          4,
          2,
          4,
          2,
          2,
          3,
          null,
          null,
          3,
          1,
          1,
          2,
          5,
          null
         ],
         "yaxis": "y"
        },
        {
         "alignmentgroup": "True",
         "hovertemplate": "Organism=Actinobacteria<br>Sample=%{x}<br>Read Count=%{y}<extra></extra>",
         "legendgroup": "Actinobacteria",
         "marker": {
          "color": "#636efa"
         },
         "name": "Actinobacteria",
         "offsetgroup": "Actinobacteria",
         "orientation": "v",
         "showlegend": true,
         "textposition": "auto",
         "type": "bar",
         "x": [
          "Sample 101",
          "Sample 14",
          "Sample 2",
          "Sample 3",
          "Sample 16",
          "Sample 4",
          "Sample 15",
          "Sample 103",
          "Sample 1",
          "Sample 97",
          "Sample 98",
          "Sample 99",
          "Sample 100",
          "Sample 13",
          "Sample 104"
         ],
         "xaxis": "x",
         "y": [
          467954,
          1733460,
          1287961,
          65178,
          27181,
          842496,
          213458,
          604295,
          779033,
          120526,
          227808,
          160817,
          555591,
          113863,
          262671
         ],
         "yaxis": "y"
        },
        {
         "alignmentgroup": "True",
         "hovertemplate": "Organism=Methylococcales<br>Sample=%{x}<br>Read Count=%{y}<extra></extra>",
         "legendgroup": "Methylococcales",
         "marker": {
          "color": "#EF553B"
         },
         "name": "Methylococcales",
         "offsetgroup": "Methylococcales",
         "orientation": "v",
         "showlegend": true,
         "textposition": "auto",
         "type": "bar",
         "x": [
          "Sample 101",
          "Sample 14",
          "Sample 2",
          "Sample 3",
          "Sample 16",
          "Sample 4",
          "Sample 15",
          "Sample 103",
          "Sample 1",
          "Sample 97",
          "Sample 98",
          "Sample 99",
          "Sample 100",
          "Sample 13",
          "Sample 104"
         ],
         "xaxis": "x",
         "y": [
          36,
          53,
          118,
          12,
          74,
          42,
          19,
          2,
          25,
          23,
          11,
          27,
          41,
          75,
          8
         ],
         "yaxis": "y"
        },
        {
         "alignmentgroup": "True",
         "hovertemplate": "Organism=Kiloniellales<br>Sample=%{x}<br>Read Count=%{y}<extra></extra>",
         "legendgroup": "Kiloniellales",
         "marker": {
          "color": "#00cc96"
         },
         "name": "Kiloniellales",
         "offsetgroup": "Kiloniellales",
         "orientation": "v",
         "showlegend": true,
         "textposition": "auto",
         "type": "bar",
         "x": [
          "Sample 101",
          "Sample 14",
          "Sample 2",
          "Sample 3",
          "Sample 16",
          "Sample 4",
          "Sample 15",
          "Sample 103",
          "Sample 1",
          "Sample 97",
          "Sample 98",
          "Sample 99",
          "Sample 100",
          "Sample 13",
          "Sample 104"
         ],
         "xaxis": "x",
         "y": [
          null,
          1,
          10,
          null,
          23,
          22,
          null,
          null,
          2,
          null,
          1,
          null,
          2,
          9,
          null
         ],
         "yaxis": "y"
        },
        {
         "alignmentgroup": "True",
         "hovertemplate": "Organism=Methanobacteria<br>Sample=%{x}<br>Read Count=%{y}<extra></extra>",
         "legendgroup": "Methanobacteria",
         "marker": {
          "color": "#ab63fa"
         },
         "name": "Methanobacteria",
         "offsetgroup": "Methanobacteria",
         "orientation": "v",
         "showlegend": true,
         "textposition": "auto",
         "type": "bar",
         "x": [
          "Sample 101",
          "Sample 14",
          "Sample 2",
          "Sample 3",
          "Sample 16",
          "Sample 4",
          "Sample 15",
          "Sample 103",
          "Sample 1",
          "Sample 97",
          "Sample 98",
          "Sample 99",
          "Sample 100",
          "Sample 13",
          "Sample 104"
         ],
         "xaxis": "x",
         "y": [
          2777,
          4050,
          89552,
          65578,
          139,
          411386,
          93,
          110,
          209,
          122095,
          177,
          34705,
          142024,
          158453,
          251
         ],
         "yaxis": "y"
        },
        {
         "alignmentgroup": "True",
         "hovertemplate": "Organism=Aquificales<br>Sample=%{x}<br>Read Count=%{y}<extra></extra>",
         "legendgroup": "Aquificales",
         "marker": {
          "color": "#FFA15A"
         },
         "name": "Aquificales",
         "offsetgroup": "Aquificales",
         "orientation": "v",
         "showlegend": true,
         "textposition": "auto",
         "type": "bar",
         "x": [
          "Sample 101",
          "Sample 14",
          "Sample 2",
          "Sample 3",
          "Sample 16",
          "Sample 4",
          "Sample 15",
          "Sample 103",
          "Sample 1",
          "Sample 97",
          "Sample 98",
          "Sample 99",
          "Sample 100",
          "Sample 13",
          "Sample 104"
         ],
         "xaxis": "x",
         "y": [
          null,
          5,
          12,
          2,
          8,
          48,
          4,
          3,
          3,
          8,
          4,
          8,
          18,
          17,
          null
         ],
         "yaxis": "y"
        },
        {
         "alignmentgroup": "True",
         "hovertemplate": "Organism=Vibrionales<br>Sample=%{x}<br>Read Count=%{y}<extra></extra>",
         "legendgroup": "Vibrionales",
         "marker": {
          "color": "#19d3f3"
         },
         "name": "Vibrionales",
         "offsetgroup": "Vibrionales",
         "orientation": "v",
         "showlegend": true,
         "textposition": "auto",
         "type": "bar",
         "x": [
          "Sample 101",
          "Sample 14",
          "Sample 2",
          "Sample 3",
          "Sample 16",
          "Sample 4",
          "Sample 15",
          "Sample 103",
          "Sample 1",
          "Sample 97",
          "Sample 98",
          "Sample 99",
          "Sample 100",
          "Sample 13",
          "Sample 104"
         ],
         "xaxis": "x",
         "y": [
          179,
          125,
          249,
          141,
          85,
          152,
          123,
          220,
          102,
          170,
          391,
          118,
          220,
          193,
          45
         ],
         "yaxis": "y"
        },
        {
         "alignmentgroup": "True",
         "hovertemplate": "Organism=Acidimicrobiia<br>Sample=%{x}<br>Read Count=%{y}<extra></extra>",
         "legendgroup": "Acidimicrobiia",
         "marker": {
          "color": "#FF6692"
         },
         "name": "Acidimicrobiia",
         "offsetgroup": "Acidimicrobiia",
         "orientation": "v",
         "showlegend": true,
         "textposition": "auto",
         "type": "bar",
         "x": [
          "Sample 101",
          "Sample 14",
          "Sample 2",
          "Sample 3",
          "Sample 16",
          "Sample 4",
          "Sample 15",
          "Sample 103",
          "Sample 1",
          "Sample 97",
          "Sample 98",
          "Sample 99",
          "Sample 100",
          "Sample 13",
          "Sample 104"
         ],
         "xaxis": "x",
         "y": [
          3,
          null,
          5,
          5,
          8,
          29,
          2,
          1,
          6,
          2,
          9,
          null,
          10,
          6,
          2
         ],
         "yaxis": "y"
        },
        {
         "alignmentgroup": "True",
         "hovertemplate": "Organism=Pseudomonadales<br>Sample=%{x}<br>Read Count=%{y}<extra></extra>",
         "legendgroup": "Pseudomonadales",
         "marker": {
          "color": "#B6E880"
         },
         "name": "Pseudomonadales",
         "offsetgroup": "Pseudomonadales",
         "orientation": "v",
         "showlegend": true,
         "textposition": "auto",
         "type": "bar",
         "x": [
          "Sample 101",
          "Sample 14",
          "Sample 2",
          "Sample 3",
          "Sample 16",
          "Sample 4",
          "Sample 15",
          "Sample 103",
          "Sample 1",
          "Sample 97",
          "Sample 98",
          "Sample 99",
          "Sample 100",
          "Sample 13",
          "Sample 104"
         ],
         "xaxis": "x",
         "y": [
          44156,
          16520,
          3813,
          14787,
          22374,
          5238,
          17016,
          2453,
          14773,
          59069,
          7202,
          5394,
          11865,
          4656,
          12151
         ],
         "yaxis": "y"
        },
        {
         "alignmentgroup": "True",
         "hovertemplate": "Organism=unclassified Acidobacteria (miscellaneous)<br>Sample=%{x}<br>Read Count=%{y}<extra></extra>",
         "legendgroup": "unclassified Acidobacteria (miscellaneous)",
         "marker": {
          "color": "#FF97FF"
         },
         "name": "unclassified Acidobacteria (miscellaneous)",
         "offsetgroup": "unclassified Acidobacteria (miscellaneous)",
         "orientation": "v",
         "showlegend": true,
         "textposition": "auto",
         "type": "bar",
         "x": [
          "Sample 101",
          "Sample 14",
          "Sample 2",
          "Sample 3",
          "Sample 16",
          "Sample 4",
          "Sample 15",
          "Sample 103",
          "Sample 1",
          "Sample 97",
          "Sample 98",
          "Sample 99",
          "Sample 100",
          "Sample 13",
          "Sample 104"
         ],
         "xaxis": "x",
         "y": [
          null,
          null,
          2,
          3,
          null,
          null,
          null,
          null,
          null,
          1,
          null,
          null,
          2,
          2,
          1
         ],
         "yaxis": "y"
        },
        {
         "alignmentgroup": "True",
         "hovertemplate": "Organism=Vicinamibacteraceae<br>Sample=%{x}<br>Read Count=%{y}<extra></extra>",
         "legendgroup": "Vicinamibacteraceae",
         "marker": {
          "color": "#FECB52"
         },
         "name": "Vicinamibacteraceae",
         "offsetgroup": "Vicinamibacteraceae",
         "orientation": "v",
         "showlegend": true,
         "textposition": "auto",
         "type": "bar",
         "x": [
          "Sample 101",
          "Sample 14",
          "Sample 2",
          "Sample 3",
          "Sample 16",
          "Sample 4",
          "Sample 15",
          "Sample 103",
          "Sample 1",
          "Sample 97",
          "Sample 98",
          "Sample 99",
          "Sample 100",
          "Sample 13",
          "Sample 104"
         ],
         "xaxis": "x",
         "y": [
          1,
          null,
          null,
          null,
          null,
          4,
          null,
          null,
          2,
          null,
          null,
          2,
          null,
          null,
          null
         ],
         "yaxis": "y"
        },
        {
         "alignmentgroup": "True",
         "hovertemplate": "Organism=Thermotogales<br>Sample=%{x}<br>Read Count=%{y}<extra></extra>",
         "legendgroup": "Thermotogales",
         "marker": {
          "color": "#636efa"
         },
         "name": "Thermotogales",
         "offsetgroup": "Thermotogales",
         "orientation": "v",
         "showlegend": true,
         "textposition": "auto",
         "type": "bar",
         "x": [
          "Sample 101",
          "Sample 14",
          "Sample 2",
          "Sample 3",
          "Sample 16",
          "Sample 4",
          "Sample 15",
          "Sample 103",
          "Sample 1",
          "Sample 97",
          "Sample 98",
          "Sample 99",
          "Sample 100",
          "Sample 13",
          "Sample 104"
         ],
         "xaxis": "x",
         "y": [
          2,
          17,
          27,
          3,
          4,
          113,
          2,
          2,
          12,
          12,
          5,
          14,
          24,
          13,
          1
         ],
         "yaxis": "y"
        },
        {
         "alignmentgroup": "True",
         "hovertemplate": "Organism=other<br>Sample=%{x}<br>Read Count=%{y}<extra></extra>",
         "legendgroup": "other",
         "marker": {
          "color": "#EF553B"
         },
         "name": "other",
         "offsetgroup": "other",
         "orientation": "v",
         "showlegend": true,
         "textposition": "auto",
         "type": "bar",
         "x": [
          "Sample 101",
          "Sample 14",
          "Sample 2",
          "Sample 3",
          "Sample 16",
          "Sample 4",
          "Sample 15",
          "Sample 103",
          "Sample 1",
          "Sample 97",
          "Sample 98",
          "Sample 99",
          "Sample 100",
          "Sample 13",
          "Sample 104"
         ],
         "xaxis": "x",
         "y": [
          0,
          0,
          0,
          0,
          0,
          0,
          0,
          0,
          0,
          0,
          0,
          0,
          0,
          0,
          0
         ],
         "yaxis": "y"
        }
       ],
       "layout": {
        "barmode": "relative",
        "legend": {
         "title": {
          "text": "Organism"
         },
         "tracegroupgap": 0
        },
        "margin": {
         "t": 60
        },
        "showlegend": false,
        "template": {
         "data": {
          "bar": [
           {
            "error_x": {
             "color": "#2a3f5f"
            },
            "error_y": {
             "color": "#2a3f5f"
            },
            "marker": {
             "line": {
              "color": "#E5ECF6",
              "width": 0.5
             }
            },
            "type": "bar"
           }
          ],
          "barpolar": [
           {
            "marker": {
             "line": {
              "color": "#E5ECF6",
              "width": 0.5
             }
            },
            "type": "barpolar"
           }
          ],
          "carpet": [
           {
            "aaxis": {
             "endlinecolor": "#2a3f5f",
             "gridcolor": "white",
             "linecolor": "white",
             "minorgridcolor": "white",
             "startlinecolor": "#2a3f5f"
            },
            "baxis": {
             "endlinecolor": "#2a3f5f",
             "gridcolor": "white",
             "linecolor": "white",
             "minorgridcolor": "white",
             "startlinecolor": "#2a3f5f"
            },
            "type": "carpet"
           }
          ],
          "choropleth": [
           {
            "colorbar": {
             "outlinewidth": 0,
             "ticks": ""
            },
            "type": "choropleth"
           }
          ],
          "contour": [
           {
            "colorbar": {
             "outlinewidth": 0,
             "ticks": ""
            },
            "colorscale": [
             [
              0,
              "#0d0887"
             ],
             [
              0.1111111111111111,
              "#46039f"
             ],
             [
              0.2222222222222222,
              "#7201a8"
             ],
             [
              0.3333333333333333,
              "#9c179e"
             ],
             [
              0.4444444444444444,
              "#bd3786"
             ],
             [
              0.5555555555555556,
              "#d8576b"
             ],
             [
              0.6666666666666666,
              "#ed7953"
             ],
             [
              0.7777777777777778,
              "#fb9f3a"
             ],
             [
              0.8888888888888888,
              "#fdca26"
             ],
             [
              1,
              "#f0f921"
             ]
            ],
            "type": "contour"
           }
          ],
          "contourcarpet": [
           {
            "colorbar": {
             "outlinewidth": 0,
             "ticks": ""
            },
            "type": "contourcarpet"
           }
          ],
          "heatmap": [
           {
            "colorbar": {
             "outlinewidth": 0,
             "ticks": ""
            },
            "colorscale": [
             [
              0,
              "#0d0887"
             ],
             [
              0.1111111111111111,
              "#46039f"
             ],
             [
              0.2222222222222222,
              "#7201a8"
             ],
             [
              0.3333333333333333,
              "#9c179e"
             ],
             [
              0.4444444444444444,
              "#bd3786"
             ],
             [
              0.5555555555555556,
              "#d8576b"
             ],
             [
              0.6666666666666666,
              "#ed7953"
             ],
             [
              0.7777777777777778,
              "#fb9f3a"
             ],
             [
              0.8888888888888888,
              "#fdca26"
             ],
             [
              1,
              "#f0f921"
             ]
            ],
            "type": "heatmap"
           }
          ],
          "heatmapgl": [
           {
            "colorbar": {
             "outlinewidth": 0,
             "ticks": ""
            },
            "colorscale": [
             [
              0,
              "#0d0887"
             ],
             [
              0.1111111111111111,
              "#46039f"
             ],
             [
              0.2222222222222222,
              "#7201a8"
             ],
             [
              0.3333333333333333,
              "#9c179e"
             ],
             [
              0.4444444444444444,
              "#bd3786"
             ],
             [
              0.5555555555555556,
              "#d8576b"
             ],
             [
              0.6666666666666666,
              "#ed7953"
             ],
             [
              0.7777777777777778,
              "#fb9f3a"
             ],
             [
              0.8888888888888888,
              "#fdca26"
             ],
             [
              1,
              "#f0f921"
             ]
            ],
            "type": "heatmapgl"
           }
          ],
          "histogram": [
           {
            "marker": {
             "colorbar": {
              "outlinewidth": 0,
              "ticks": ""
             }
            },
            "type": "histogram"
           }
          ],
          "histogram2d": [
           {
            "colorbar": {
             "outlinewidth": 0,
             "ticks": ""
            },
            "colorscale": [
             [
              0,
              "#0d0887"
             ],
             [
              0.1111111111111111,
              "#46039f"
             ],
             [
              0.2222222222222222,
              "#7201a8"
             ],
             [
              0.3333333333333333,
              "#9c179e"
             ],
             [
              0.4444444444444444,
              "#bd3786"
             ],
             [
              0.5555555555555556,
              "#d8576b"
             ],
             [
              0.6666666666666666,
              "#ed7953"
             ],
             [
              0.7777777777777778,
              "#fb9f3a"
             ],
             [
              0.8888888888888888,
              "#fdca26"
             ],
             [
              1,
              "#f0f921"
             ]
            ],
            "type": "histogram2d"
           }
          ],
          "histogram2dcontour": [
           {
            "colorbar": {
             "outlinewidth": 0,
             "ticks": ""
            },
            "colorscale": [
             [
              0,
              "#0d0887"
             ],
             [
              0.1111111111111111,
              "#46039f"
             ],
             [
              0.2222222222222222,
              "#7201a8"
             ],
             [
              0.3333333333333333,
              "#9c179e"
             ],
             [
              0.4444444444444444,
              "#bd3786"
             ],
             [
              0.5555555555555556,
              "#d8576b"
             ],
             [
              0.6666666666666666,
              "#ed7953"
             ],
             [
              0.7777777777777778,
              "#fb9f3a"
             ],
             [
              0.8888888888888888,
              "#fdca26"
             ],
             [
              1,
              "#f0f921"
             ]
            ],
            "type": "histogram2dcontour"
           }
          ],
          "mesh3d": [
           {
            "colorbar": {
             "outlinewidth": 0,
             "ticks": ""
            },
            "type": "mesh3d"
           }
          ],
          "parcoords": [
           {
            "line": {
             "colorbar": {
              "outlinewidth": 0,
              "ticks": ""
             }
            },
            "type": "parcoords"
           }
          ],
          "pie": [
           {
            "automargin": true,
            "type": "pie"
           }
          ],
          "scatter": [
           {
            "marker": {
             "colorbar": {
              "outlinewidth": 0,
              "ticks": ""
             }
            },
            "type": "scatter"
           }
          ],
          "scatter3d": [
           {
            "line": {
             "colorbar": {
              "outlinewidth": 0,
              "ticks": ""
             }
            },
            "marker": {
             "colorbar": {
              "outlinewidth": 0,
              "ticks": ""
             }
            },
            "type": "scatter3d"
           }
          ],
          "scattercarpet": [
           {
            "marker": {
             "colorbar": {
              "outlinewidth": 0,
              "ticks": ""
             }
            },
            "type": "scattercarpet"
           }
          ],
          "scattergeo": [
           {
            "marker": {
             "colorbar": {
              "outlinewidth": 0,
              "ticks": ""
             }
            },
            "type": "scattergeo"
           }
          ],
          "scattergl": [
           {
            "marker": {
             "colorbar": {
              "outlinewidth": 0,
              "ticks": ""
             }
            },
            "type": "scattergl"
           }
          ],
          "scattermapbox": [
           {
            "marker": {
             "colorbar": {
              "outlinewidth": 0,
              "ticks": ""
             }
            },
            "type": "scattermapbox"
           }
          ],
          "scatterpolar": [
           {
            "marker": {
             "colorbar": {
              "outlinewidth": 0,
              "ticks": ""
             }
            },
            "type": "scatterpolar"
           }
          ],
          "scatterpolargl": [
           {
            "marker": {
             "colorbar": {
              "outlinewidth": 0,
              "ticks": ""
             }
            },
            "type": "scatterpolargl"
           }
          ],
          "scatterternary": [
           {
            "marker": {
             "colorbar": {
              "outlinewidth": 0,
              "ticks": ""
             }
            },
            "type": "scatterternary"
           }
          ],
          "surface": [
           {
            "colorbar": {
             "outlinewidth": 0,
             "ticks": ""
            },
            "colorscale": [
             [
              0,
              "#0d0887"
             ],
             [
              0.1111111111111111,
              "#46039f"
             ],
             [
              0.2222222222222222,
              "#7201a8"
             ],
             [
              0.3333333333333333,
              "#9c179e"
             ],
             [
              0.4444444444444444,
              "#bd3786"
             ],
             [
              0.5555555555555556,
              "#d8576b"
             ],
             [
              0.6666666666666666,
              "#ed7953"
             ],
             [
              0.7777777777777778,
              "#fb9f3a"
             ],
             [
              0.8888888888888888,
              "#fdca26"
             ],
             [
              1,
              "#f0f921"
             ]
            ],
            "type": "surface"
           }
          ],
          "table": [
           {
            "cells": {
             "fill": {
              "color": "#EBF0F8"
             },
             "line": {
              "color": "white"
             }
            },
            "header": {
             "fill": {
              "color": "#C8D4E3"
             },
             "line": {
              "color": "white"
             }
            },
            "type": "table"
           }
          ]
         },
         "layout": {
          "annotationdefaults": {
           "arrowcolor": "#2a3f5f",
           "arrowhead": 0,
           "arrowwidth": 1
          },
          "coloraxis": {
           "colorbar": {
            "outlinewidth": 0,
            "ticks": ""
           }
          },
          "colorscale": {
           "diverging": [
            [
             0,
             "#8e0152"
            ],
            [
             0.1,
             "#c51b7d"
            ],
            [
             0.2,
             "#de77ae"
            ],
            [
             0.3,
             "#f1b6da"
            ],
            [
             0.4,
             "#fde0ef"
            ],
            [
             0.5,
             "#f7f7f7"
            ],
            [
             0.6,
             "#e6f5d0"
            ],
            [
             0.7,
             "#b8e186"
            ],
            [
             0.8,
             "#7fbc41"
            ],
            [
             0.9,
             "#4d9221"
            ],
            [
             1,
             "#276419"
            ]
           ],
           "sequential": [
            [
             0,
             "#0d0887"
            ],
            [
             0.1111111111111111,
             "#46039f"
            ],
            [
             0.2222222222222222,
             "#7201a8"
            ],
            [
             0.3333333333333333,
             "#9c179e"
            ],
            [
             0.4444444444444444,
             "#bd3786"
            ],
            [
             0.5555555555555556,
             "#d8576b"
            ],
            [
             0.6666666666666666,
             "#ed7953"
            ],
            [
             0.7777777777777778,
             "#fb9f3a"
            ],
            [
             0.8888888888888888,
             "#fdca26"
            ],
            [
             1,
             "#f0f921"
            ]
           ],
           "sequentialminus": [
            [
             0,
             "#0d0887"
            ],
            [
             0.1111111111111111,
             "#46039f"
            ],
            [
             0.2222222222222222,
             "#7201a8"
            ],
            [
             0.3333333333333333,
             "#9c179e"
            ],
            [
             0.4444444444444444,
             "#bd3786"
            ],
            [
             0.5555555555555556,
             "#d8576b"
            ],
            [
             0.6666666666666666,
             "#ed7953"
            ],
            [
             0.7777777777777778,
             "#fb9f3a"
            ],
            [
             0.8888888888888888,
             "#fdca26"
            ],
            [
             1,
             "#f0f921"
            ]
           ]
          },
          "colorway": [
           "#636efa",
           "#EF553B",
           "#00cc96",
           "#ab63fa",
           "#FFA15A",
           "#19d3f3",
           "#FF6692",
           "#B6E880",
           "#FF97FF",
           "#FECB52"
          ],
          "font": {
           "color": "#2a3f5f"
          },
          "geo": {
           "bgcolor": "white",
           "lakecolor": "white",
           "landcolor": "#E5ECF6",
           "showlakes": true,
           "showland": true,
           "subunitcolor": "white"
          },
          "hoverlabel": {
           "align": "left"
          },
          "hovermode": "closest",
          "mapbox": {
           "style": "light"
          },
          "paper_bgcolor": "white",
          "plot_bgcolor": "#E5ECF6",
          "polar": {
           "angularaxis": {
            "gridcolor": "white",
            "linecolor": "white",
            "ticks": ""
           },
           "bgcolor": "#E5ECF6",
           "radialaxis": {
            "gridcolor": "white",
            "linecolor": "white",
            "ticks": ""
           }
          },
          "scene": {
           "xaxis": {
            "backgroundcolor": "#E5ECF6",
            "gridcolor": "white",
            "gridwidth": 2,
            "linecolor": "white",
            "showbackground": true,
            "ticks": "",
            "zerolinecolor": "white"
           },
           "yaxis": {
            "backgroundcolor": "#E5ECF6",
            "gridcolor": "white",
            "gridwidth": 2,
            "linecolor": "white",
            "showbackground": true,
            "ticks": "",
            "zerolinecolor": "white"
           },
           "zaxis": {
            "backgroundcolor": "#E5ECF6",
            "gridcolor": "white",
            "gridwidth": 2,
            "linecolor": "white",
            "showbackground": true,
            "ticks": "",
            "zerolinecolor": "white"
           }
          },
          "shapedefaults": {
           "line": {
            "color": "#2a3f5f"
           }
          },
          "ternary": {
           "aaxis": {
            "gridcolor": "white",
            "linecolor": "white",
            "ticks": ""
           },
           "baxis": {
            "gridcolor": "white",
            "linecolor": "white",
            "ticks": ""
           },
           "bgcolor": "#E5ECF6",
           "caxis": {
            "gridcolor": "white",
            "linecolor": "white",
            "ticks": ""
           }
          },
          "title": {
           "x": 0.05
          },
          "xaxis": {
           "automargin": true,
           "gridcolor": "white",
           "linecolor": "white",
           "ticks": "",
           "title": {
            "standoff": 15
           },
           "zerolinecolor": "white",
           "zerolinewidth": 2
          },
          "yaxis": {
           "automargin": true,
           "gridcolor": "white",
           "linecolor": "white",
           "ticks": "",
           "title": {
            "standoff": 15
           },
           "zerolinecolor": "white",
           "zerolinewidth": 2
          }
         }
        },
        "xaxis": {
         "anchor": "y",
         "domain": [
          0,
          1
         ],
         "title": {
          "text": "Sample"
         }
        },
        "yaxis": {
         "anchor": "x",
         "domain": [
          0,
          1
         ],
         "title": {
          "text": "Read Count"
         }
        }
       }
      },
      "text/html": [
       "<div>\n",
       "        \n",
       "        \n",
       "            <div id=\"98ff7a01-4e65-4c1f-95b5-5c7b166eb12a\" class=\"plotly-graph-div\" style=\"height:525px; width:100%;\"></div>\n",
       "            <script type=\"text/javascript\">\n",
       "                require([\"plotly\"], function(Plotly) {\n",
       "                    window.PLOTLYENV=window.PLOTLYENV || {};\n",
       "                    \n",
       "                if (document.getElementById(\"98ff7a01-4e65-4c1f-95b5-5c7b166eb12a\")) {\n",
       "                    Plotly.newPlot(\n",
       "                        '98ff7a01-4e65-4c1f-95b5-5c7b166eb12a',\n",
       "                        [{\"alignmentgroup\": \"True\", \"hovertemplate\": \"Organism=Thermoplasmata<br>Sample=%{x}<br>Read Count=%{y}<extra></extra>\", \"legendgroup\": \"Thermoplasmata\", \"marker\": {\"color\": \"#636efa\"}, \"name\": \"Thermoplasmata\", \"offsetgroup\": \"Thermoplasmata\", \"orientation\": \"v\", \"showlegend\": true, \"textposition\": \"auto\", \"type\": \"bar\", \"x\": [\"Sample 101\", \"Sample 14\", \"Sample 2\", \"Sample 3\", \"Sample 16\", \"Sample 4\", \"Sample 15\", \"Sample 103\", \"Sample 1\", \"Sample 97\", \"Sample 98\", \"Sample 99\", \"Sample 100\", \"Sample 13\", \"Sample 104\"], \"xaxis\": \"x\", \"y\": [null, 24.0, 19.0, 9.0, 6.0, 42.0, 6.0, 2.0, 4.0, 3350.0, 6.0, 9.0, 614.0, 7.0, 4.0], \"yaxis\": \"y\"}, {\"alignmentgroup\": \"True\", \"hovertemplate\": \"Organism=Pelagibacterales<br>Sample=%{x}<br>Read Count=%{y}<extra></extra>\", \"legendgroup\": \"Pelagibacterales\", \"marker\": {\"color\": \"#EF553B\"}, \"name\": \"Pelagibacterales\", \"offsetgroup\": \"Pelagibacterales\", \"orientation\": \"v\", \"showlegend\": true, \"textposition\": \"auto\", \"type\": \"bar\", \"x\": [\"Sample 101\", \"Sample 14\", \"Sample 2\", \"Sample 3\", \"Sample 16\", \"Sample 4\", \"Sample 15\", \"Sample 103\", \"Sample 1\", \"Sample 97\", \"Sample 98\", \"Sample 99\", \"Sample 100\", \"Sample 13\", \"Sample 104\"], \"xaxis\": \"x\", \"y\": [2.0, 72.0, 31.0, 8.0, 16.0, 57.0, 26.0, 2.0, 18.0, 19.0, 13.0, 25.0, 17.0, 89.0, 3.0], \"yaxis\": \"y\"}, {\"alignmentgroup\": \"True\", \"hovertemplate\": \"Organism=Arenicellales<br>Sample=%{x}<br>Read Count=%{y}<extra></extra>\", \"legendgroup\": \"Arenicellales\", \"marker\": {\"color\": \"#00cc96\"}, \"name\": \"Arenicellales\", \"offsetgroup\": \"Arenicellales\", \"orientation\": \"v\", \"showlegend\": true, \"textposition\": \"auto\", \"type\": \"bar\", \"x\": [\"Sample 101\", \"Sample 14\", \"Sample 2\", \"Sample 3\", \"Sample 16\", \"Sample 4\", \"Sample 15\", \"Sample 103\", \"Sample 1\", \"Sample 97\", \"Sample 98\", \"Sample 99\", \"Sample 100\", \"Sample 13\", \"Sample 104\"], \"xaxis\": \"x\", \"y\": [null, null, 1.0, null, null, null, null, null, null, null, null, null, null, null, null], \"yaxis\": \"y\"}, {\"alignmentgroup\": \"True\", \"hovertemplate\": \"Organism=unclassified Acidobacteriia<br>Sample=%{x}<br>Read Count=%{y}<extra></extra>\", \"legendgroup\": \"unclassified Acidobacteriia\", \"marker\": {\"color\": \"#ab63fa\"}, \"name\": \"unclassified Acidobacteriia\", \"offsetgroup\": \"unclassified Acidobacteriia\", \"orientation\": \"v\", \"showlegend\": true, \"textposition\": \"auto\", \"type\": \"bar\", \"x\": [\"Sample 101\", \"Sample 14\", \"Sample 2\", \"Sample 3\", \"Sample 16\", \"Sample 4\", \"Sample 15\", \"Sample 103\", \"Sample 1\", \"Sample 97\", \"Sample 98\", \"Sample 99\", \"Sample 100\", \"Sample 13\", \"Sample 104\"], \"xaxis\": \"x\", \"y\": [null, null, 1.0, null, null, null, null, null, null, null, null, null, null, null, null], \"yaxis\": \"y\"}, {\"alignmentgroup\": \"True\", \"hovertemplate\": \"Organism=bacterium 2013Arg42i<br>Sample=%{x}<br>Read Count=%{y}<extra></extra>\", \"legendgroup\": \"bacterium 2013Arg42i\", \"marker\": {\"color\": \"#FFA15A\"}, \"name\": \"bacterium 2013Arg42i\", \"offsetgroup\": \"bacterium 2013Arg42i\", \"orientation\": \"v\", \"showlegend\": true, \"textposition\": \"auto\", \"type\": \"bar\", \"x\": [\"Sample 101\", \"Sample 14\", \"Sample 2\", \"Sample 3\", \"Sample 16\", \"Sample 4\", \"Sample 15\", \"Sample 103\", \"Sample 1\", \"Sample 97\", \"Sample 98\", \"Sample 99\", \"Sample 100\", \"Sample 13\", \"Sample 104\"], \"xaxis\": \"x\", \"y\": [null, null, null, null, 1.0, null, null, null, null, null, null, 1.0, null, null, null], \"yaxis\": \"y\"}, {\"alignmentgroup\": \"True\", \"hovertemplate\": \"Organism=Candidatus Chrysopegis<br>Sample=%{x}<br>Read Count=%{y}<extra></extra>\", \"legendgroup\": \"Candidatus Chrysopegis\", \"marker\": {\"color\": \"#19d3f3\"}, \"name\": \"Candidatus Chrysopegis\", \"offsetgroup\": \"Candidatus Chrysopegis\", \"orientation\": \"v\", \"showlegend\": true, \"textposition\": \"auto\", \"type\": \"bar\", \"x\": [\"Sample 101\", \"Sample 14\", \"Sample 2\", \"Sample 3\", \"Sample 16\", \"Sample 4\", \"Sample 15\", \"Sample 103\", \"Sample 1\", \"Sample 97\", \"Sample 98\", \"Sample 99\", \"Sample 100\", \"Sample 13\", \"Sample 104\"], \"xaxis\": \"x\", \"y\": [null, 1.0, null, null, null, 1.0, null, null, null, null, null, null, null, null, null], \"yaxis\": \"y\"}, {\"alignmentgroup\": \"True\", \"hovertemplate\": \"Organism=bacterium 1XD42-1<br>Sample=%{x}<br>Read Count=%{y}<extra></extra>\", \"legendgroup\": \"bacterium 1XD42-1\", \"marker\": {\"color\": \"#FF6692\"}, \"name\": \"bacterium 1XD42-1\", \"offsetgroup\": \"bacterium 1XD42-1\", \"orientation\": \"v\", \"showlegend\": true, \"textposition\": \"auto\", \"type\": \"bar\", \"x\": [\"Sample 101\", \"Sample 14\", \"Sample 2\", \"Sample 3\", \"Sample 16\", \"Sample 4\", \"Sample 15\", \"Sample 103\", \"Sample 1\", \"Sample 97\", \"Sample 98\", \"Sample 99\", \"Sample 100\", \"Sample 13\", \"Sample 104\"], \"xaxis\": \"x\", \"y\": [null, 11.0, 1.0, null, 6.0, 1.0, null, null, null, null, null, 1.0, null, 1.0, null], \"yaxis\": \"y\"}, {\"alignmentgroup\": \"True\", \"hovertemplate\": \"Organism=Candidatus Margulisbacteria<br>Sample=%{x}<br>Read Count=%{y}<extra></extra>\", \"legendgroup\": \"Candidatus Margulisbacteria\", \"marker\": {\"color\": \"#B6E880\"}, \"name\": \"Candidatus Margulisbacteria\", \"offsetgroup\": \"Candidatus Margulisbacteria\", \"orientation\": \"v\", \"showlegend\": true, \"textposition\": \"auto\", \"type\": \"bar\", \"x\": [\"Sample 101\", \"Sample 14\", \"Sample 2\", \"Sample 3\", \"Sample 16\", \"Sample 4\", \"Sample 15\", \"Sample 103\", \"Sample 1\", \"Sample 97\", \"Sample 98\", \"Sample 99\", \"Sample 100\", \"Sample 13\", \"Sample 104\"], \"xaxis\": \"x\", \"y\": [null, null, 2.0, null, null, 3.0, null, null, null, null, 2.0, 5.0, 3.0, 2.0, null], \"yaxis\": \"y\"}, {\"alignmentgroup\": \"True\", \"hovertemplate\": \"Organism=Nitrospirales<br>Sample=%{x}<br>Read Count=%{y}<extra></extra>\", \"legendgroup\": \"Nitrospirales\", \"marker\": {\"color\": \"#FF97FF\"}, \"name\": \"Nitrospirales\", \"offsetgroup\": \"Nitrospirales\", \"orientation\": \"v\", \"showlegend\": true, \"textposition\": \"auto\", \"type\": \"bar\", \"x\": [\"Sample 101\", \"Sample 14\", \"Sample 2\", \"Sample 3\", \"Sample 16\", \"Sample 4\", \"Sample 15\", \"Sample 103\", \"Sample 1\", \"Sample 97\", \"Sample 98\", \"Sample 99\", \"Sample 100\", \"Sample 13\", \"Sample 104\"], \"xaxis\": \"x\", \"y\": [null, 22.0, 24.0, 4.0, 4.0, 8.0, 6.0, null, 4.0, 9.0, 7.0, 16.0, 16.0, 11.0, null], \"yaxis\": \"y\"}, {\"alignmentgroup\": \"True\", \"hovertemplate\": \"Organism=candidate division NC10<br>Sample=%{x}<br>Read Count=%{y}<extra></extra>\", \"legendgroup\": \"candidate division NC10\", \"marker\": {\"color\": \"#FECB52\"}, \"name\": \"candidate division NC10\", \"offsetgroup\": \"candidate division NC10\", \"orientation\": \"v\", \"showlegend\": true, \"textposition\": \"auto\", \"type\": \"bar\", \"x\": [\"Sample 101\", \"Sample 14\", \"Sample 2\", \"Sample 3\", \"Sample 16\", \"Sample 4\", \"Sample 15\", \"Sample 103\", \"Sample 1\", \"Sample 97\", \"Sample 98\", \"Sample 99\", \"Sample 100\", \"Sample 13\", \"Sample 104\"], \"xaxis\": \"x\", \"y\": [null, 1.0, 4.0, null, null, null, 2.0, null, null, 1.0, null, null, 1.0, null, null], \"yaxis\": \"y\"}, {\"alignmentgroup\": \"True\", \"hovertemplate\": \"Organism=Dehalococcoidia<br>Sample=%{x}<br>Read Count=%{y}<extra></extra>\", \"legendgroup\": \"Dehalococcoidia\", \"marker\": {\"color\": \"#636efa\"}, \"name\": \"Dehalococcoidia\", \"offsetgroup\": \"Dehalococcoidia\", \"orientation\": \"v\", \"showlegend\": true, \"textposition\": \"auto\", \"type\": \"bar\", \"x\": [\"Sample 101\", \"Sample 14\", \"Sample 2\", \"Sample 3\", \"Sample 16\", \"Sample 4\", \"Sample 15\", \"Sample 103\", \"Sample 1\", \"Sample 97\", \"Sample 98\", \"Sample 99\", \"Sample 100\", \"Sample 13\", \"Sample 104\"], \"xaxis\": \"x\", \"y\": [9.0, 23.0, 10.0, 8.0, 3.0, 28.0, 11.0, 1.0, 59.0, 9.0, 92.0, 17.0, 35.0, 14.0, 2.0], \"yaxis\": \"y\"}, {\"alignmentgroup\": \"True\", \"hovertemplate\": \"Organism=Caldilineae<br>Sample=%{x}<br>Read Count=%{y}<extra></extra>\", \"legendgroup\": \"Caldilineae\", \"marker\": {\"color\": \"#EF553B\"}, \"name\": \"Caldilineae\", \"offsetgroup\": \"Caldilineae\", \"orientation\": \"v\", \"showlegend\": true, \"textposition\": \"auto\", \"type\": \"bar\", \"x\": [\"Sample 101\", \"Sample 14\", \"Sample 2\", \"Sample 3\", \"Sample 16\", \"Sample 4\", \"Sample 15\", \"Sample 103\", \"Sample 1\", \"Sample 97\", \"Sample 98\", \"Sample 99\", \"Sample 100\", \"Sample 13\", \"Sample 104\"], \"xaxis\": \"x\", \"y\": [3.0, 13.0, 7.0, 1.0, null, 11.0, 5.0, 2.0, 4.0, 46.0, 4.0, 15.0, 8.0, 14.0, null], \"yaxis\": \"y\"}, {\"alignmentgroup\": \"True\", \"hovertemplate\": \"Organism=Enterobacterales<br>Sample=%{x}<br>Read Count=%{y}<extra></extra>\", \"legendgroup\": \"Enterobacterales\", \"marker\": {\"color\": \"#00cc96\"}, \"name\": \"Enterobacterales\", \"offsetgroup\": \"Enterobacterales\", \"orientation\": \"v\", \"showlegend\": true, \"textposition\": \"auto\", \"type\": \"bar\", \"x\": [\"Sample 101\", \"Sample 14\", \"Sample 2\", \"Sample 3\", \"Sample 16\", \"Sample 4\", \"Sample 15\", \"Sample 103\", \"Sample 1\", \"Sample 97\", \"Sample 98\", \"Sample 99\", \"Sample 100\", \"Sample 13\", \"Sample 104\"], \"xaxis\": \"x\", \"y\": [1469592.0, 53507.0, 9420.0, 3839.0, 9689.0, 4558.0, 40903.0, 4762.0, 18746.0, 46303.0, 10252.0, 27680.0, 7540.0, 1026983.0, 1635.0], \"yaxis\": \"y\"}, {\"alignmentgroup\": \"True\", \"hovertemplate\": \"Organism=Deferribacterales<br>Sample=%{x}<br>Read Count=%{y}<extra></extra>\", \"legendgroup\": \"Deferribacterales\", \"marker\": {\"color\": \"#ab63fa\"}, \"name\": \"Deferribacterales\", \"offsetgroup\": \"Deferribacterales\", \"orientation\": \"v\", \"showlegend\": true, \"textposition\": \"auto\", \"type\": \"bar\", \"x\": [\"Sample 101\", \"Sample 14\", \"Sample 2\", \"Sample 3\", \"Sample 16\", \"Sample 4\", \"Sample 15\", \"Sample 103\", \"Sample 1\", \"Sample 97\", \"Sample 98\", \"Sample 99\", \"Sample 100\", \"Sample 13\", \"Sample 104\"], \"xaxis\": \"x\", \"y\": [5.0, 8.0, 22.0, 6.0, 1.0, 9.0, 3.0, 1.0, 11.0, 5.0, 9.0, 7.0, 20.0, 6.0, null], \"yaxis\": \"y\"}, {\"alignmentgroup\": \"True\", \"hovertemplate\": \"Organism=Rhodothermaeota<br>Sample=%{x}<br>Read Count=%{y}<extra></extra>\", \"legendgroup\": \"Rhodothermaeota\", \"marker\": {\"color\": \"#FFA15A\"}, \"name\": \"Rhodothermaeota\", \"offsetgroup\": \"Rhodothermaeota\", \"orientation\": \"v\", \"showlegend\": true, \"textposition\": \"auto\", \"type\": \"bar\", \"x\": [\"Sample 101\", \"Sample 14\", \"Sample 2\", \"Sample 3\", \"Sample 16\", \"Sample 4\", \"Sample 15\", \"Sample 103\", \"Sample 1\", \"Sample 97\", \"Sample 98\", \"Sample 99\", \"Sample 100\", \"Sample 13\", \"Sample 104\"], \"xaxis\": \"x\", \"y\": [4.0, 8.0, 14.0, 1.0, 2.0, 8.0, null, null, null, 4.0, null, 7.0, 10.0, 12.0, 1.0], \"yaxis\": \"y\"}, {\"alignmentgroup\": \"True\", \"hovertemplate\": \"Organism=unclassified Kiritimatiellaeota<br>Sample=%{x}<br>Read Count=%{y}<extra></extra>\", \"legendgroup\": \"unclassified Kiritimatiellaeota\", \"marker\": {\"color\": \"#19d3f3\"}, \"name\": \"unclassified Kiritimatiellaeota\", \"offsetgroup\": \"unclassified Kiritimatiellaeota\", \"orientation\": \"v\", \"showlegend\": true, \"textposition\": \"auto\", \"type\": \"bar\", \"x\": [\"Sample 101\", \"Sample 14\", \"Sample 2\", \"Sample 3\", \"Sample 16\", \"Sample 4\", \"Sample 15\", \"Sample 103\", \"Sample 1\", \"Sample 97\", \"Sample 98\", \"Sample 99\", \"Sample 100\", \"Sample 13\", \"Sample 104\"], \"xaxis\": \"x\", \"y\": [1.0, 12.0, 7.0, null, 11.0, 3.0, 1.0, 1.0, 4.0, 3.0, null, 7.0, 9.0, 6.0, null], \"yaxis\": \"y\"}, {\"alignmentgroup\": \"True\", \"hovertemplate\": \"Organism=Cyanobacteria<br>Sample=%{x}<br>Read Count=%{y}<extra></extra>\", \"legendgroup\": \"Cyanobacteria\", \"marker\": {\"color\": \"#FF6692\"}, \"name\": \"Cyanobacteria\", \"offsetgroup\": \"Cyanobacteria\", \"orientation\": \"v\", \"showlegend\": true, \"textposition\": \"auto\", \"type\": \"bar\", \"x\": [\"Sample 101\", \"Sample 14\", \"Sample 2\", \"Sample 3\", \"Sample 16\", \"Sample 4\", \"Sample 15\", \"Sample 103\", \"Sample 1\", \"Sample 97\", \"Sample 98\", \"Sample 99\", \"Sample 100\", \"Sample 13\", \"Sample 104\"], \"xaxis\": \"x\", \"y\": [96.0, 393.0, 343.0, 114.0, 310.0, 314.0, 801.0, 53.0, 226.0, 195.0, 381.0, 213.0, 1107.0, 311.0, 54.0], \"yaxis\": \"y\"}, {\"alignmentgroup\": \"True\", \"hovertemplate\": \"Organism=Rickettsiales<br>Sample=%{x}<br>Read Count=%{y}<extra></extra>\", \"legendgroup\": \"Rickettsiales\", \"marker\": {\"color\": \"#B6E880\"}, \"name\": \"Rickettsiales\", \"offsetgroup\": \"Rickettsiales\", \"orientation\": \"v\", \"showlegend\": true, \"textposition\": \"auto\", \"type\": \"bar\", \"x\": [\"Sample 101\", \"Sample 14\", \"Sample 2\", \"Sample 3\", \"Sample 16\", \"Sample 4\", \"Sample 15\", \"Sample 103\", \"Sample 1\", \"Sample 97\", \"Sample 98\", \"Sample 99\", \"Sample 100\", \"Sample 13\", \"Sample 104\"], \"xaxis\": \"x\", \"y\": [11.0, 22.0, 98.0, 10.0, 49.0, 150.0, 12.0, 32.0, 27.0, 24.0, 50.0, 33.0, 63.0, 90.0, 5.0], \"yaxis\": \"y\"}, {\"alignmentgroup\": \"True\", \"hovertemplate\": \"Organism=Desulfurobacteriales<br>Sample=%{x}<br>Read Count=%{y}<extra></extra>\", \"legendgroup\": \"Desulfurobacteriales\", \"marker\": {\"color\": \"#FF97FF\"}, \"name\": \"Desulfurobacteriales\", \"offsetgroup\": \"Desulfurobacteriales\", \"orientation\": \"v\", \"showlegend\": true, \"textposition\": \"auto\", \"type\": \"bar\", \"x\": [\"Sample 101\", \"Sample 14\", \"Sample 2\", \"Sample 3\", \"Sample 16\", \"Sample 4\", \"Sample 15\", \"Sample 103\", \"Sample 1\", \"Sample 97\", \"Sample 98\", \"Sample 99\", \"Sample 100\", \"Sample 13\", \"Sample 104\"], \"xaxis\": \"x\", \"y\": [null, 3.0, 16.0, 3.0, 2.0, 4.0, 1.0, 2.0, 1.0, 1.0, 1.0, 3.0, 6.0, 8.0, null], \"yaxis\": \"y\"}, {\"alignmentgroup\": \"True\", \"hovertemplate\": \"Organism=Candidatus Prometheoarchaeum<br>Sample=%{x}<br>Read Count=%{y}<extra></extra>\", \"legendgroup\": \"Candidatus Prometheoarchaeum\", \"marker\": {\"color\": \"#FECB52\"}, \"name\": \"Candidatus Prometheoarchaeum\", \"offsetgroup\": \"Candidatus Prometheoarchaeum\", \"orientation\": \"v\", \"showlegend\": true, \"textposition\": \"auto\", \"type\": \"bar\", \"x\": [\"Sample 101\", \"Sample 14\", \"Sample 2\", \"Sample 3\", \"Sample 16\", \"Sample 4\", \"Sample 15\", \"Sample 103\", \"Sample 1\", \"Sample 97\", \"Sample 98\", \"Sample 99\", \"Sample 100\", \"Sample 13\", \"Sample 104\"], \"xaxis\": \"x\", \"y\": [null, 1.0, null, null, null, 1.0, null, null, 1.0, null, null, null, 1.0, 2.0, null], \"yaxis\": \"y\"}, {\"alignmentgroup\": \"True\", \"hovertemplate\": \"Organism=bacterium D16-29<br>Sample=%{x}<br>Read Count=%{y}<extra></extra>\", \"legendgroup\": \"bacterium D16-29\", \"marker\": {\"color\": \"#636efa\"}, \"name\": \"bacterium D16-29\", \"offsetgroup\": \"bacterium D16-29\", \"orientation\": \"v\", \"showlegend\": true, \"textposition\": \"auto\", \"type\": \"bar\", \"x\": [\"Sample 101\", \"Sample 14\", \"Sample 2\", \"Sample 3\", \"Sample 16\", \"Sample 4\", \"Sample 15\", \"Sample 103\", \"Sample 1\", \"Sample 97\", \"Sample 98\", \"Sample 99\", \"Sample 100\", \"Sample 13\", \"Sample 104\"], \"xaxis\": \"x\", \"y\": [17.0, 164.0, 400.0, 68.0, 122.0, 239.0, 158.0, 13.0, 189.0, 133.0, 125.0, 178.0, 95.0, 198.0, 24.0], \"yaxis\": \"y\"}, {\"alignmentgroup\": \"True\", \"hovertemplate\": \"Organism=Nitrospinia<br>Sample=%{x}<br>Read Count=%{y}<extra></extra>\", \"legendgroup\": \"Nitrospinia\", \"marker\": {\"color\": \"#EF553B\"}, \"name\": \"Nitrospinia\", \"offsetgroup\": \"Nitrospinia\", \"orientation\": \"v\", \"showlegend\": true, \"textposition\": \"auto\", \"type\": \"bar\", \"x\": [\"Sample 101\", \"Sample 14\", \"Sample 2\", \"Sample 3\", \"Sample 16\", \"Sample 4\", \"Sample 15\", \"Sample 103\", \"Sample 1\", \"Sample 97\", \"Sample 98\", \"Sample 99\", \"Sample 100\", \"Sample 13\", \"Sample 104\"], \"xaxis\": \"x\", \"y\": [null, null, null, 2.0, 1.0, null, 2.0, null, 1.0, 1.0, 1.0, 1.0, 1.0, 6.0, null], \"yaxis\": \"y\"}, {\"alignmentgroup\": \"True\", \"hovertemplate\": \"Organism=Bathymodiolus heckerae thiotrophic gill symbiont<br>Sample=%{x}<br>Read Count=%{y}<extra></extra>\", \"legendgroup\": \"Bathymodiolus heckerae thiotrophic gill symbiont\", \"marker\": {\"color\": \"#00cc96\"}, \"name\": \"Bathymodiolus heckerae thiotrophic gill symbiont\", \"offsetgroup\": \"Bathymodiolus heckerae thiotrophic gill symbiont\", \"orientation\": \"v\", \"showlegend\": true, \"textposition\": \"auto\", \"type\": \"bar\", \"x\": [\"Sample 101\", \"Sample 14\", \"Sample 2\", \"Sample 3\", \"Sample 16\", \"Sample 4\", \"Sample 15\", \"Sample 103\", \"Sample 1\", \"Sample 97\", \"Sample 98\", \"Sample 99\", \"Sample 100\", \"Sample 13\", \"Sample 104\"], \"xaxis\": \"x\", \"y\": [null, null, null, null, null, null, 1.0, null, null, null, null, null, null, null, null], \"yaxis\": \"y\"}, {\"alignmentgroup\": \"True\", \"hovertemplate\": \"Organism=Methanopyrales<br>Sample=%{x}<br>Read Count=%{y}<extra></extra>\", \"legendgroup\": \"Methanopyrales\", \"marker\": {\"color\": \"#ab63fa\"}, \"name\": \"Methanopyrales\", \"offsetgroup\": \"Methanopyrales\", \"orientation\": \"v\", \"showlegend\": true, \"textposition\": \"auto\", \"type\": \"bar\", \"x\": [\"Sample 101\", \"Sample 14\", \"Sample 2\", \"Sample 3\", \"Sample 16\", \"Sample 4\", \"Sample 15\", \"Sample 103\", \"Sample 1\", \"Sample 97\", \"Sample 98\", \"Sample 99\", \"Sample 100\", \"Sample 13\", \"Sample 104\"], \"xaxis\": \"x\", \"y\": [null, 3.0, 1.0, null, 2.0, 2.0, 1.0, null, 1.0, 4.0, null, 1.0, 1.0, null, null], \"yaxis\": \"y\"}, {\"alignmentgroup\": \"True\", \"hovertemplate\": \"Organism=Acidiferrobacterales<br>Sample=%{x}<br>Read Count=%{y}<extra></extra>\", \"legendgroup\": \"Acidiferrobacterales\", \"marker\": {\"color\": \"#FFA15A\"}, \"name\": \"Acidiferrobacterales\", \"offsetgroup\": \"Acidiferrobacterales\", \"orientation\": \"v\", \"showlegend\": true, \"textposition\": \"auto\", \"type\": \"bar\", \"x\": [\"Sample 101\", \"Sample 14\", \"Sample 2\", \"Sample 3\", \"Sample 16\", \"Sample 4\", \"Sample 15\", \"Sample 103\", \"Sample 1\", \"Sample 97\", \"Sample 98\", \"Sample 99\", \"Sample 100\", \"Sample 13\", \"Sample 104\"], \"xaxis\": \"x\", \"y\": [2.0, null, 9.0, null, 5.0, 5.0, 2.0, null, 3.0, 2.0, 2.0, null, 7.0, 3.0, null], \"yaxis\": \"y\"}, {\"alignmentgroup\": \"True\", \"hovertemplate\": \"Organism=Rhodocyclales<br>Sample=%{x}<br>Read Count=%{y}<extra></extra>\", \"legendgroup\": \"Rhodocyclales\", \"marker\": {\"color\": \"#19d3f3\"}, \"name\": \"Rhodocyclales\", \"offsetgroup\": \"Rhodocyclales\", \"orientation\": \"v\", \"showlegend\": true, \"textposition\": \"auto\", \"type\": \"bar\", \"x\": [\"Sample 101\", \"Sample 14\", \"Sample 2\", \"Sample 3\", \"Sample 16\", \"Sample 4\", \"Sample 15\", \"Sample 103\", \"Sample 1\", \"Sample 97\", \"Sample 98\", \"Sample 99\", \"Sample 100\", \"Sample 13\", \"Sample 104\"], \"xaxis\": \"x\", \"y\": [54.0, 370.0, 162.0, 945.0, 2385.0, 119.0, 216.0, 665.0, 253.0, 294.0, 2653.0, 462.0, 15771.0, 5300.0, 1648.0], \"yaxis\": \"y\"}, {\"alignmentgroup\": \"True\", \"hovertemplate\": \"Organism=Haloplasmataceae<br>Sample=%{x}<br>Read Count=%{y}<extra></extra>\", \"legendgroup\": \"Haloplasmataceae\", \"marker\": {\"color\": \"#FF6692\"}, \"name\": \"Haloplasmataceae\", \"offsetgroup\": \"Haloplasmataceae\", \"orientation\": \"v\", \"showlegend\": true, \"textposition\": \"auto\", \"type\": \"bar\", \"x\": [\"Sample 101\", \"Sample 14\", \"Sample 2\", \"Sample 3\", \"Sample 16\", \"Sample 4\", \"Sample 15\", \"Sample 103\", \"Sample 1\", \"Sample 97\", \"Sample 98\", \"Sample 99\", \"Sample 100\", \"Sample 13\", \"Sample 104\"], \"xaxis\": \"x\", \"y\": [null, 3.0, 5.0, 1.0, null, 38.0, 1.0, 1.0, 12.0, 9.0, 2.0, 3.0, 8.0, 3.0, null], \"yaxis\": \"y\"}, {\"alignmentgroup\": \"True\", \"hovertemplate\": \"Organism=Fusobacteriales<br>Sample=%{x}<br>Read Count=%{y}<extra></extra>\", \"legendgroup\": \"Fusobacteriales\", \"marker\": {\"color\": \"#B6E880\"}, \"name\": \"Fusobacteriales\", \"offsetgroup\": \"Fusobacteriales\", \"orientation\": \"v\", \"showlegend\": true, \"textposition\": \"auto\", \"type\": \"bar\", \"x\": [\"Sample 101\", \"Sample 14\", \"Sample 2\", \"Sample 3\", \"Sample 16\", \"Sample 4\", \"Sample 15\", \"Sample 103\", \"Sample 1\", \"Sample 97\", \"Sample 98\", \"Sample 99\", \"Sample 100\", \"Sample 13\", \"Sample 104\"], \"xaxis\": \"x\", \"y\": [435.0, 838.0, 843.0, 483.0, 121.0, 877.0, 206.0, 572.0, 513.0, 471.0, 940.0, 1156.0, 357.0, 638.0, 155.0], \"yaxis\": \"y\"}, {\"alignmentgroup\": \"True\", \"hovertemplate\": \"Organism=Thermococcales<br>Sample=%{x}<br>Read Count=%{y}<extra></extra>\", \"legendgroup\": \"Thermococcales\", \"marker\": {\"color\": \"#FF97FF\"}, \"name\": \"Thermococcales\", \"offsetgroup\": \"Thermococcales\", \"orientation\": \"v\", \"showlegend\": true, \"textposition\": \"auto\", \"type\": \"bar\", \"x\": [\"Sample 101\", \"Sample 14\", \"Sample 2\", \"Sample 3\", \"Sample 16\", \"Sample 4\", \"Sample 15\", \"Sample 103\", \"Sample 1\", \"Sample 97\", \"Sample 98\", \"Sample 99\", \"Sample 100\", \"Sample 13\", \"Sample 104\"], \"xaxis\": \"x\", \"y\": [1.0, 3.0, 11.0, 9.0, 7.0, 10.0, 4.0, 4.0, 3.0, 10.0, 5.0, 57.0, 7.0, 12.0, 2.0], \"yaxis\": \"y\"}, {\"alignmentgroup\": \"True\", \"hovertemplate\": \"Organism=Xanthomonadales<br>Sample=%{x}<br>Read Count=%{y}<extra></extra>\", \"legendgroup\": \"Xanthomonadales\", \"marker\": {\"color\": \"#FECB52\"}, \"name\": \"Xanthomonadales\", \"offsetgroup\": \"Xanthomonadales\", \"orientation\": \"v\", \"showlegend\": true, \"textposition\": \"auto\", \"type\": \"bar\", \"x\": [\"Sample 101\", \"Sample 14\", \"Sample 2\", \"Sample 3\", \"Sample 16\", \"Sample 4\", \"Sample 15\", \"Sample 103\", \"Sample 1\", \"Sample 97\", \"Sample 98\", \"Sample 99\", \"Sample 100\", \"Sample 13\", \"Sample 104\"], \"xaxis\": \"x\", \"y\": [442.0, 277.0, 460.0, 458.0, 142.0, 338.0, 232.0, 32.0, 247.0, 220.0, 134.0, 366.0, 478.0, 566.0, 57.0], \"yaxis\": \"y\"}, {\"alignmentgroup\": \"True\", \"hovertemplate\": \"Organism=Emcibacterales<br>Sample=%{x}<br>Read Count=%{y}<extra></extra>\", \"legendgroup\": \"Emcibacterales\", \"marker\": {\"color\": \"#636efa\"}, \"name\": \"Emcibacterales\", \"offsetgroup\": \"Emcibacterales\", \"orientation\": \"v\", \"showlegend\": true, \"textposition\": \"auto\", \"type\": \"bar\", \"x\": [\"Sample 101\", \"Sample 14\", \"Sample 2\", \"Sample 3\", \"Sample 16\", \"Sample 4\", \"Sample 15\", \"Sample 103\", \"Sample 1\", \"Sample 97\", \"Sample 98\", \"Sample 99\", \"Sample 100\", \"Sample 13\", \"Sample 104\"], \"xaxis\": \"x\", \"y\": [1.0, 1.0, 11.0, null, 1.0, 14.0, 2.0, 1.0, null, null, 1.0, null, 4.0, 3.0, null], \"yaxis\": \"y\"}, {\"alignmentgroup\": \"True\", \"hovertemplate\": \"Organism=Kordiimonadales<br>Sample=%{x}<br>Read Count=%{y}<extra></extra>\", \"legendgroup\": \"Kordiimonadales\", \"marker\": {\"color\": \"#EF553B\"}, \"name\": \"Kordiimonadales\", \"offsetgroup\": \"Kordiimonadales\", \"orientation\": \"v\", \"showlegend\": true, \"textposition\": \"auto\", \"type\": \"bar\", \"x\": [\"Sample 101\", \"Sample 14\", \"Sample 2\", \"Sample 3\", \"Sample 16\", \"Sample 4\", \"Sample 15\", \"Sample 103\", \"Sample 1\", \"Sample 97\", \"Sample 98\", \"Sample 99\", \"Sample 100\", \"Sample 13\", \"Sample 104\"], \"xaxis\": \"x\", \"y\": [1.0, 2.0, 2.0, 1.0, 7.0, 10.0, null, null, null, null, null, 1.0, 1.0, 1.0, null], \"yaxis\": \"y\"}, {\"alignmentgroup\": \"True\", \"hovertemplate\": \"Organism=Candidatus Thermofonsia<br>Sample=%{x}<br>Read Count=%{y}<extra></extra>\", \"legendgroup\": \"Candidatus Thermofonsia\", \"marker\": {\"color\": \"#00cc96\"}, \"name\": \"Candidatus Thermofonsia\", \"offsetgroup\": \"Candidatus Thermofonsia\", \"orientation\": \"v\", \"showlegend\": true, \"textposition\": \"auto\", \"type\": \"bar\", \"x\": [\"Sample 101\", \"Sample 14\", \"Sample 2\", \"Sample 3\", \"Sample 16\", \"Sample 4\", \"Sample 15\", \"Sample 103\", \"Sample 1\", \"Sample 97\", \"Sample 98\", \"Sample 99\", \"Sample 100\", \"Sample 13\", \"Sample 104\"], \"xaxis\": \"x\", \"y\": [null, 1.0, 1.0, null, 2.0, null, 2.0, null, null, 1.0, null, 1.0, 3.0, 1.0, null], \"yaxis\": \"y\"}, {\"alignmentgroup\": \"True\", \"hovertemplate\": \"Organism=bacterium JGI 053<br>Sample=%{x}<br>Read Count=%{y}<extra></extra>\", \"legendgroup\": \"bacterium JGI 053\", \"marker\": {\"color\": \"#ab63fa\"}, \"name\": \"bacterium JGI 053\", \"offsetgroup\": \"bacterium JGI 053\", \"orientation\": \"v\", \"showlegend\": true, \"textposition\": \"auto\", \"type\": \"bar\", \"x\": [\"Sample 101\", \"Sample 14\", \"Sample 2\", \"Sample 3\", \"Sample 16\", \"Sample 4\", \"Sample 15\", \"Sample 103\", \"Sample 1\", \"Sample 97\", \"Sample 98\", \"Sample 99\", \"Sample 100\", \"Sample 13\", \"Sample 104\"], \"xaxis\": \"x\", \"y\": [null, 1.0, null, null, 1.0, 1.0, null, null, null, null, null, null, null, null, null], \"yaxis\": \"y\"}, {\"alignmentgroup\": \"True\", \"hovertemplate\": \"Organism=Nitrospirae bacterium HCH-1<br>Sample=%{x}<br>Read Count=%{y}<extra></extra>\", \"legendgroup\": \"Nitrospirae bacterium HCH-1\", \"marker\": {\"color\": \"#FFA15A\"}, \"name\": \"Nitrospirae bacterium HCH-1\", \"offsetgroup\": \"Nitrospirae bacterium HCH-1\", \"orientation\": \"v\", \"showlegend\": true, \"textposition\": \"auto\", \"type\": \"bar\", \"x\": [\"Sample 101\", \"Sample 14\", \"Sample 2\", \"Sample 3\", \"Sample 16\", \"Sample 4\", \"Sample 15\", \"Sample 103\", \"Sample 1\", \"Sample 97\", \"Sample 98\", \"Sample 99\", \"Sample 100\", \"Sample 13\", \"Sample 104\"], \"xaxis\": \"x\", \"y\": [null, null, 1.0, null, 1.0, null, null, null, null, null, null, 1.0, null, 2.0, null], \"yaxis\": \"y\"}, {\"alignmentgroup\": \"True\", \"hovertemplate\": \"Organism=Chitinivibrionia<br>Sample=%{x}<br>Read Count=%{y}<extra></extra>\", \"legendgroup\": \"Chitinivibrionia\", \"marker\": {\"color\": \"#19d3f3\"}, \"name\": \"Chitinivibrionia\", \"offsetgroup\": \"Chitinivibrionia\", \"orientation\": \"v\", \"showlegend\": true, \"textposition\": \"auto\", \"type\": \"bar\", \"x\": [\"Sample 101\", \"Sample 14\", \"Sample 2\", \"Sample 3\", \"Sample 16\", \"Sample 4\", \"Sample 15\", \"Sample 103\", \"Sample 1\", \"Sample 97\", \"Sample 98\", \"Sample 99\", \"Sample 100\", \"Sample 13\", \"Sample 104\"], \"xaxis\": \"x\", \"y\": [1.0, 2.0, 1.0, 1.0, null, null, null, 2.0, 1.0, null, null, null, 1.0, null, 1.0], \"yaxis\": \"y\"}, {\"alignmentgroup\": \"True\", \"hovertemplate\": \"Organism=Bathymodiolus brooksi thiotrophic gill symbiont<br>Sample=%{x}<br>Read Count=%{y}<extra></extra>\", \"legendgroup\": \"Bathymodiolus brooksi thiotrophic gill symbiont\", \"marker\": {\"color\": \"#FF6692\"}, \"name\": \"Bathymodiolus brooksi thiotrophic gill symbiont\", \"offsetgroup\": \"Bathymodiolus brooksi thiotrophic gill symbiont\", \"orientation\": \"v\", \"showlegend\": true, \"textposition\": \"auto\", \"type\": \"bar\", \"x\": [\"Sample 101\", \"Sample 14\", \"Sample 2\", \"Sample 3\", \"Sample 16\", \"Sample 4\", \"Sample 15\", \"Sample 103\", \"Sample 1\", \"Sample 97\", \"Sample 98\", \"Sample 99\", \"Sample 100\", \"Sample 13\", \"Sample 104\"], \"xaxis\": \"x\", \"y\": [null, null, null, null, null, null, null, 1.0, 3.0, null, null, null, null, null, null], \"yaxis\": \"y\"}, {\"alignmentgroup\": \"True\", \"hovertemplate\": \"Organism=Candidatus Brocadiae<br>Sample=%{x}<br>Read Count=%{y}<extra></extra>\", \"legendgroup\": \"Candidatus Brocadiae\", \"marker\": {\"color\": \"#B6E880\"}, \"name\": \"Candidatus Brocadiae\", \"offsetgroup\": \"Candidatus Brocadiae\", \"orientation\": \"v\", \"showlegend\": true, \"textposition\": \"auto\", \"type\": \"bar\", \"x\": [\"Sample 101\", \"Sample 14\", \"Sample 2\", \"Sample 3\", \"Sample 16\", \"Sample 4\", \"Sample 15\", \"Sample 103\", \"Sample 1\", \"Sample 97\", \"Sample 98\", \"Sample 99\", \"Sample 100\", \"Sample 13\", \"Sample 104\"], \"xaxis\": \"x\", \"y\": [null, 3.0, 11.0, null, 3.0, 1.0, 2.0, 2.0, 3.0, 1.0, 3.0, 1.0, 6.0, 9.0, null], \"yaxis\": \"y\"}, {\"alignmentgroup\": \"True\", \"hovertemplate\": \"Organism=bacterium c-19<br>Sample=%{x}<br>Read Count=%{y}<extra></extra>\", \"legendgroup\": \"bacterium c-19\", \"marker\": {\"color\": \"#FF97FF\"}, \"name\": \"bacterium c-19\", \"offsetgroup\": \"bacterium c-19\", \"orientation\": \"v\", \"showlegend\": true, \"textposition\": \"auto\", \"type\": \"bar\", \"x\": [\"Sample 101\", \"Sample 14\", \"Sample 2\", \"Sample 3\", \"Sample 16\", \"Sample 4\", \"Sample 15\", \"Sample 103\", \"Sample 1\", \"Sample 97\", \"Sample 98\", \"Sample 99\", \"Sample 100\", \"Sample 13\", \"Sample 104\"], \"xaxis\": \"x\", \"y\": [null, 31.0, 7.0, 13.0, 11.0, 357.0, 1.0, 87.0, 15.0, 14.0, 7.0, 151.0, 13.0, 75.0, 3.0], \"yaxis\": \"y\"}, {\"alignmentgroup\": \"True\", \"hovertemplate\": \"Organism=Chlorobi<br>Sample=%{x}<br>Read Count=%{y}<extra></extra>\", \"legendgroup\": \"Chlorobi\", \"marker\": {\"color\": \"#FECB52\"}, \"name\": \"Chlorobi\", \"offsetgroup\": \"Chlorobi\", \"orientation\": \"v\", \"showlegend\": true, \"textposition\": \"auto\", \"type\": \"bar\", \"x\": [\"Sample 101\", \"Sample 14\", \"Sample 2\", \"Sample 3\", \"Sample 16\", \"Sample 4\", \"Sample 15\", \"Sample 103\", \"Sample 1\", \"Sample 97\", \"Sample 98\", \"Sample 99\", \"Sample 100\", \"Sample 13\", \"Sample 104\"], \"xaxis\": \"x\", \"y\": [12.0, 59.0, 29.0, 34.0, 23.0, 50.0, 32.0, 6.0, 29.0, 24.0, 12.0, 43.0, 32.0, 58.0, 14.0], \"yaxis\": \"y\"}, {\"alignmentgroup\": \"True\", \"hovertemplate\": \"Organism=bacterium LF-3<br>Sample=%{x}<br>Read Count=%{y}<extra></extra>\", \"legendgroup\": \"bacterium LF-3\", \"marker\": {\"color\": \"#636efa\"}, \"name\": \"bacterium LF-3\", \"offsetgroup\": \"bacterium LF-3\", \"orientation\": \"v\", \"showlegend\": true, \"textposition\": \"auto\", \"type\": \"bar\", \"x\": [\"Sample 101\", \"Sample 14\", \"Sample 2\", \"Sample 3\", \"Sample 16\", \"Sample 4\", \"Sample 15\", \"Sample 103\", \"Sample 1\", \"Sample 97\", \"Sample 98\", \"Sample 99\", \"Sample 100\", \"Sample 13\", \"Sample 104\"], \"xaxis\": \"x\", \"y\": [84.0, 42.0, 4144.0, 3.0, 166.0, 204.0, 221.0, 707.0, 2282.0, 43.0, 49.0, 440.0, 13.0, 3373.0, 66.0], \"yaxis\": \"y\"}, {\"alignmentgroup\": \"True\", \"hovertemplate\": \"Organism=Deltaproteobacteria<br>Sample=%{x}<br>Read Count=%{y}<extra></extra>\", \"legendgroup\": \"Deltaproteobacteria\", \"marker\": {\"color\": \"#EF553B\"}, \"name\": \"Deltaproteobacteria\", \"offsetgroup\": \"Deltaproteobacteria\", \"orientation\": \"v\", \"showlegend\": true, \"textposition\": \"auto\", \"type\": \"bar\", \"x\": [\"Sample 101\", \"Sample 14\", \"Sample 2\", \"Sample 3\", \"Sample 16\", \"Sample 4\", \"Sample 15\", \"Sample 103\", \"Sample 1\", \"Sample 97\", \"Sample 98\", \"Sample 99\", \"Sample 100\", \"Sample 13\", \"Sample 104\"], \"xaxis\": \"x\", \"y\": [13466.0, 97893.0, 64919.0, 4731.0, 152019.0, 133359.0, 113452.0, 37798.0, 50597.0, 121929.0, 41177.0, 19810.0, 7838.0, 168121.0, 5357.0], \"yaxis\": \"y\"}, {\"alignmentgroup\": \"True\", \"hovertemplate\": \"Organism=bacterium endosymbiont of Bathymodiolus sp. 5 South<br>Sample=%{x}<br>Read Count=%{y}<extra></extra>\", \"legendgroup\": \"bacterium endosymbiont of Bathymodiolus sp. 5 South\", \"marker\": {\"color\": \"#00cc96\"}, \"name\": \"bacterium endosymbiont of Bathymodiolus sp. 5 South\", \"offsetgroup\": \"bacterium endosymbiont of Bathymodiolus sp. 5 South\", \"orientation\": \"v\", \"showlegend\": true, \"textposition\": \"auto\", \"type\": \"bar\", \"x\": [\"Sample 101\", \"Sample 14\", \"Sample 2\", \"Sample 3\", \"Sample 16\", \"Sample 4\", \"Sample 15\", \"Sample 103\", \"Sample 1\", \"Sample 97\", \"Sample 98\", \"Sample 99\", \"Sample 100\", \"Sample 13\", \"Sample 104\"], \"xaxis\": \"x\", \"y\": [null, 1.0, null, null, null, null, null, null, 1.0, null, null, null, null, null, null], \"yaxis\": \"y\"}, {\"alignmentgroup\": \"True\", \"hovertemplate\": \"Organism=Isachenkonia alkalipeptolytica<br>Sample=%{x}<br>Read Count=%{y}<extra></extra>\", \"legendgroup\": \"Isachenkonia alkalipeptolytica\", \"marker\": {\"color\": \"#ab63fa\"}, \"name\": \"Isachenkonia alkalipeptolytica\", \"offsetgroup\": \"Isachenkonia alkalipeptolytica\", \"orientation\": \"v\", \"showlegend\": true, \"textposition\": \"auto\", \"type\": \"bar\", \"x\": [\"Sample 101\", \"Sample 14\", \"Sample 2\", \"Sample 3\", \"Sample 16\", \"Sample 4\", \"Sample 15\", \"Sample 103\", \"Sample 1\", \"Sample 97\", \"Sample 98\", \"Sample 99\", \"Sample 100\", \"Sample 13\", \"Sample 104\"], \"xaxis\": \"x\", \"y\": [null, null, 1.0, null, 2.0, 4.0, null, null, null, null, null, 8.0, 2.0, 4.0, null], \"yaxis\": \"y\"}, {\"alignmentgroup\": \"True\", \"hovertemplate\": \"Organism=Chrysiogenales<br>Sample=%{x}<br>Read Count=%{y}<extra></extra>\", \"legendgroup\": \"Chrysiogenales\", \"marker\": {\"color\": \"#FFA15A\"}, \"name\": \"Chrysiogenales\", \"offsetgroup\": \"Chrysiogenales\", \"orientation\": \"v\", \"showlegend\": true, \"textposition\": \"auto\", \"type\": \"bar\", \"x\": [\"Sample 101\", \"Sample 14\", \"Sample 2\", \"Sample 3\", \"Sample 16\", \"Sample 4\", \"Sample 15\", \"Sample 103\", \"Sample 1\", \"Sample 97\", \"Sample 98\", \"Sample 99\", \"Sample 100\", \"Sample 13\", \"Sample 104\"], \"xaxis\": \"x\", \"y\": [null, null, 1.0, 1.0, null, 3.0, null, null, null, 1.0, null, 3.0, 1.0, 5.0, null], \"yaxis\": \"y\"}, {\"alignmentgroup\": \"True\", \"hovertemplate\": \"Organism=Candidatus Thermokryptus<br>Sample=%{x}<br>Read Count=%{y}<extra></extra>\", \"legendgroup\": \"Candidatus Thermokryptus\", \"marker\": {\"color\": \"#19d3f3\"}, \"name\": \"Candidatus Thermokryptus\", \"offsetgroup\": \"Candidatus Thermokryptus\", \"orientation\": \"v\", \"showlegend\": true, \"textposition\": \"auto\", \"type\": \"bar\", \"x\": [\"Sample 101\", \"Sample 14\", \"Sample 2\", \"Sample 3\", \"Sample 16\", \"Sample 4\", \"Sample 15\", \"Sample 103\", \"Sample 1\", \"Sample 97\", \"Sample 98\", \"Sample 99\", \"Sample 100\", \"Sample 13\", \"Sample 104\"], \"xaxis\": \"x\", \"y\": [null, null, 4.0, 1.0, null, 2.0, null, null, 1.0, null, 1.0, 1.0, 1.0, 1.0, null], \"yaxis\": \"y\"}, {\"alignmentgroup\": \"True\", \"hovertemplate\": \"Organism=Candidatus Saccharibacteria<br>Sample=%{x}<br>Read Count=%{y}<extra></extra>\", \"legendgroup\": \"Candidatus Saccharibacteria\", \"marker\": {\"color\": \"#FF6692\"}, \"name\": \"Candidatus Saccharibacteria\", \"offsetgroup\": \"Candidatus Saccharibacteria\", \"orientation\": \"v\", \"showlegend\": true, \"textposition\": \"auto\", \"type\": \"bar\", \"x\": [\"Sample 101\", \"Sample 14\", \"Sample 2\", \"Sample 3\", \"Sample 16\", \"Sample 4\", \"Sample 15\", \"Sample 103\", \"Sample 1\", \"Sample 97\", \"Sample 98\", \"Sample 99\", \"Sample 100\", \"Sample 13\", \"Sample 104\"], \"xaxis\": \"x\", \"y\": [234.0, 254.0, 91.0, 279.0, 246.0, 115.0, 1624.0, 465.0, 57.0, 586.0, 128.0, 182.0, 246.0, 691.0, 247.0], \"yaxis\": \"y\"}, {\"alignmentgroup\": \"True\", \"hovertemplate\": \"Organism=unclassified Actinobacteria<br>Sample=%{x}<br>Read Count=%{y}<extra></extra>\", \"legendgroup\": \"unclassified Actinobacteria\", \"marker\": {\"color\": \"#B6E880\"}, \"name\": \"unclassified Actinobacteria\", \"offsetgroup\": \"unclassified Actinobacteria\", \"orientation\": \"v\", \"showlegend\": true, \"textposition\": \"auto\", \"type\": \"bar\", \"x\": [\"Sample 101\", \"Sample 14\", \"Sample 2\", \"Sample 3\", \"Sample 16\", \"Sample 4\", \"Sample 15\", \"Sample 103\", \"Sample 1\", \"Sample 97\", \"Sample 98\", \"Sample 99\", \"Sample 100\", \"Sample 13\", \"Sample 104\"], \"xaxis\": \"x\", \"y\": [1.0, 1.0, null, 1.0, null, 4.0, null, null, 1.0, 1.0, 1.0, 1.0, 2.0, 1.0, null], \"yaxis\": \"y\"}, {\"alignmentgroup\": \"True\", \"hovertemplate\": \"Organism=Rhodothalassiales<br>Sample=%{x}<br>Read Count=%{y}<extra></extra>\", \"legendgroup\": \"Rhodothalassiales\", \"marker\": {\"color\": \"#FF97FF\"}, \"name\": \"Rhodothalassiales\", \"offsetgroup\": \"Rhodothalassiales\", \"orientation\": \"v\", \"showlegend\": true, \"textposition\": \"auto\", \"type\": \"bar\", \"x\": [\"Sample 101\", \"Sample 14\", \"Sample 2\", \"Sample 3\", \"Sample 16\", \"Sample 4\", \"Sample 15\", \"Sample 103\", \"Sample 1\", \"Sample 97\", \"Sample 98\", \"Sample 99\", \"Sample 100\", \"Sample 13\", \"Sample 104\"], \"xaxis\": \"x\", \"y\": [null, null, 2.0, null, 1.0, null, 1.0, 2.0, null, null, null, null, 1.0, 1.0, null], \"yaxis\": \"y\"}, {\"alignmentgroup\": \"True\", \"hovertemplate\": \"Organism=Candidatus Melainabacteria<br>Sample=%{x}<br>Read Count=%{y}<extra></extra>\", \"legendgroup\": \"Candidatus Melainabacteria\", \"marker\": {\"color\": \"#FECB52\"}, \"name\": \"Candidatus Melainabacteria\", \"offsetgroup\": \"Candidatus Melainabacteria\", \"orientation\": \"v\", \"showlegend\": true, \"textposition\": \"auto\", \"type\": \"bar\", \"x\": [\"Sample 101\", \"Sample 14\", \"Sample 2\", \"Sample 3\", \"Sample 16\", \"Sample 4\", \"Sample 15\", \"Sample 103\", \"Sample 1\", \"Sample 97\", \"Sample 98\", \"Sample 99\", \"Sample 100\", \"Sample 13\", \"Sample 104\"], \"xaxis\": \"x\", \"y\": [157.0, 569.0, 185776.0, 128.0, 187.0, 1808.0, 11713.0, 318.0, 282.0, 94735.0, 30501.0, 307567.0, 654.0, 1571.0, 82.0], \"yaxis\": \"y\"}, {\"alignmentgroup\": \"True\", \"hovertemplate\": \"Organism=Anaerolineae<br>Sample=%{x}<br>Read Count=%{y}<extra></extra>\", \"legendgroup\": \"Anaerolineae\", \"marker\": {\"color\": \"#636efa\"}, \"name\": \"Anaerolineae\", \"offsetgroup\": \"Anaerolineae\", \"orientation\": \"v\", \"showlegend\": true, \"textposition\": \"auto\", \"type\": \"bar\", \"x\": [\"Sample 101\", \"Sample 14\", \"Sample 2\", \"Sample 3\", \"Sample 16\", \"Sample 4\", \"Sample 15\", \"Sample 103\", \"Sample 1\", \"Sample 97\", \"Sample 98\", \"Sample 99\", \"Sample 100\", \"Sample 13\", \"Sample 104\"], \"xaxis\": \"x\", \"y\": [10.0, 129.0, 69.0, 13.0, 14.0, 55.0, 56.0, 5.0, 59.0, 47.0, 41.0, 57.0, 40.0, 217.0, 27.0], \"yaxis\": \"y\"}, {\"alignmentgroup\": \"True\", \"hovertemplate\": \"Organism=unclassified Vampirococcus<br>Sample=%{x}<br>Read Count=%{y}<extra></extra>\", \"legendgroup\": \"unclassified Vampirococcus\", \"marker\": {\"color\": \"#EF553B\"}, \"name\": \"unclassified Vampirococcus\", \"offsetgroup\": \"unclassified Vampirococcus\", \"orientation\": \"v\", \"showlegend\": true, \"textposition\": \"auto\", \"type\": \"bar\", \"x\": [\"Sample 101\", \"Sample 14\", \"Sample 2\", \"Sample 3\", \"Sample 16\", \"Sample 4\", \"Sample 15\", \"Sample 103\", \"Sample 1\", \"Sample 97\", \"Sample 98\", \"Sample 99\", \"Sample 100\", \"Sample 13\", \"Sample 104\"], \"xaxis\": \"x\", \"y\": [null, null, 1.0, null, 1.0, null, null, null, 2.0, null, 1.0, null, 1.0, null, null], \"yaxis\": \"y\"}, {\"alignmentgroup\": \"True\", \"hovertemplate\": \"Organism=Ignavibacteriae<br>Sample=%{x}<br>Read Count=%{y}<extra></extra>\", \"legendgroup\": \"Ignavibacteriae\", \"marker\": {\"color\": \"#00cc96\"}, \"name\": \"Ignavibacteriae\", \"offsetgroup\": \"Ignavibacteriae\", \"orientation\": \"v\", \"showlegend\": true, \"textposition\": \"auto\", \"type\": \"bar\", \"x\": [\"Sample 101\", \"Sample 14\", \"Sample 2\", \"Sample 3\", \"Sample 16\", \"Sample 4\", \"Sample 15\", \"Sample 103\", \"Sample 1\", \"Sample 97\", \"Sample 98\", \"Sample 99\", \"Sample 100\", \"Sample 13\", \"Sample 104\"], \"xaxis\": \"x\", \"y\": [null, 2.0, 2.0, 3.0, 3.0, 6.0, null, null, 2.0, 5.0, 1.0, null, 1.0, null, null], \"yaxis\": \"y\"}, {\"alignmentgroup\": \"True\", \"hovertemplate\": \"Organism=Immundisolibacterales<br>Sample=%{x}<br>Read Count=%{y}<extra></extra>\", \"legendgroup\": \"Immundisolibacterales\", \"marker\": {\"color\": \"#ab63fa\"}, \"name\": \"Immundisolibacterales\", \"offsetgroup\": \"Immundisolibacterales\", \"orientation\": \"v\", \"showlegend\": true, \"textposition\": \"auto\", \"type\": \"bar\", \"x\": [\"Sample 101\", \"Sample 14\", \"Sample 2\", \"Sample 3\", \"Sample 16\", \"Sample 4\", \"Sample 15\", \"Sample 103\", \"Sample 1\", \"Sample 97\", \"Sample 98\", \"Sample 99\", \"Sample 100\", \"Sample 13\", \"Sample 104\"], \"xaxis\": \"x\", \"y\": [null, 2.0, 2.0, null, null, null, null, null, null, null, null, 1.0, 1.0, null, null], \"yaxis\": \"y\"}, {\"alignmentgroup\": \"True\", \"hovertemplate\": \"Organism=Tepidiformia<br>Sample=%{x}<br>Read Count=%{y}<extra></extra>\", \"legendgroup\": \"Tepidiformia\", \"marker\": {\"color\": \"#FFA15A\"}, \"name\": \"Tepidiformia\", \"offsetgroup\": \"Tepidiformia\", \"orientation\": \"v\", \"showlegend\": true, \"textposition\": \"auto\", \"type\": \"bar\", \"x\": [\"Sample 101\", \"Sample 14\", \"Sample 2\", \"Sample 3\", \"Sample 16\", \"Sample 4\", \"Sample 15\", \"Sample 103\", \"Sample 1\", \"Sample 97\", \"Sample 98\", \"Sample 99\", \"Sample 100\", \"Sample 13\", \"Sample 104\"], \"xaxis\": \"x\", \"y\": [null, null, null, 1.0, null, 2.0, null, null, null, null, null, 1.0, 1.0, 4.0, null], \"yaxis\": \"y\"}, {\"alignmentgroup\": \"True\", \"hovertemplate\": \"Organism=Fungi incertae sedis<br>Sample=%{x}<br>Read Count=%{y}<extra></extra>\", \"legendgroup\": \"Fungi incertae sedis\", \"marker\": {\"color\": \"#19d3f3\"}, \"name\": \"Fungi incertae sedis\", \"offsetgroup\": \"Fungi incertae sedis\", \"orientation\": \"v\", \"showlegend\": true, \"textposition\": \"auto\", \"type\": \"bar\", \"x\": [\"Sample 101\", \"Sample 14\", \"Sample 2\", \"Sample 3\", \"Sample 16\", \"Sample 4\", \"Sample 15\", \"Sample 103\", \"Sample 1\", \"Sample 97\", \"Sample 98\", \"Sample 99\", \"Sample 100\", \"Sample 13\", \"Sample 104\"], \"xaxis\": \"x\", \"y\": [5.0, 96.0, 43.0, 15.0, 15.0, 53.0, 79.0, 8.0, 19.0, 29.0, 19.0, 33.0, 79.0, 31.0, 2.0], \"yaxis\": \"y\"}, {\"alignmentgroup\": \"True\", \"hovertemplate\": \"Organism=Silvanigrellales<br>Sample=%{x}<br>Read Count=%{y}<extra></extra>\", \"legendgroup\": \"Silvanigrellales\", \"marker\": {\"color\": \"#FF6692\"}, \"name\": \"Silvanigrellales\", \"offsetgroup\": \"Silvanigrellales\", \"orientation\": \"v\", \"showlegend\": true, \"textposition\": \"auto\", \"type\": \"bar\", \"x\": [\"Sample 101\", \"Sample 14\", \"Sample 2\", \"Sample 3\", \"Sample 16\", \"Sample 4\", \"Sample 15\", \"Sample 103\", \"Sample 1\", \"Sample 97\", \"Sample 98\", \"Sample 99\", \"Sample 100\", \"Sample 13\", \"Sample 104\"], \"xaxis\": \"x\", \"y\": [null, 9.0, 5.0, 1.0, null, 2.0, 1.0, 1.0, 8.0, 7.0, 1.0, 9.0, 11.0, 15.0, 3.0], \"yaxis\": \"y\"}, {\"alignmentgroup\": \"True\", \"hovertemplate\": \"Organism=Blastocatellales<br>Sample=%{x}<br>Read Count=%{y}<extra></extra>\", \"legendgroup\": \"Blastocatellales\", \"marker\": {\"color\": \"#B6E880\"}, \"name\": \"Blastocatellales\", \"offsetgroup\": \"Blastocatellales\", \"orientation\": \"v\", \"showlegend\": true, \"textposition\": \"auto\", \"type\": \"bar\", \"x\": [\"Sample 101\", \"Sample 14\", \"Sample 2\", \"Sample 3\", \"Sample 16\", \"Sample 4\", \"Sample 15\", \"Sample 103\", \"Sample 1\", \"Sample 97\", \"Sample 98\", \"Sample 99\", \"Sample 100\", \"Sample 13\", \"Sample 104\"], \"xaxis\": \"x\", \"y\": [null, 2.0, null, null, null, 1.0, 3.0, null, 2.0, 1.0, null, 2.0, 1.0, 1.0, null], \"yaxis\": \"y\"}, {\"alignmentgroup\": \"True\", \"hovertemplate\": \"Organism=Archaeoglobales<br>Sample=%{x}<br>Read Count=%{y}<extra></extra>\", \"legendgroup\": \"Archaeoglobales\", \"marker\": {\"color\": \"#FF97FF\"}, \"name\": \"Archaeoglobales\", \"offsetgroup\": \"Archaeoglobales\", \"orientation\": \"v\", \"showlegend\": true, \"textposition\": \"auto\", \"type\": \"bar\", \"x\": [\"Sample 101\", \"Sample 14\", \"Sample 2\", \"Sample 3\", \"Sample 16\", \"Sample 4\", \"Sample 15\", \"Sample 103\", \"Sample 1\", \"Sample 97\", \"Sample 98\", \"Sample 99\", \"Sample 100\", \"Sample 13\", \"Sample 104\"], \"xaxis\": \"x\", \"y\": [null, null, 1.0, null, 1.0, 2.0, null, null, 1.0, null, null, 1.0, 3.0, 1.0, null], \"yaxis\": \"y\"}, {\"alignmentgroup\": \"True\", \"hovertemplate\": \"Organism=Nevskiales<br>Sample=%{x}<br>Read Count=%{y}<extra></extra>\", \"legendgroup\": \"Nevskiales\", \"marker\": {\"color\": \"#FECB52\"}, \"name\": \"Nevskiales\", \"offsetgroup\": \"Nevskiales\", \"orientation\": \"v\", \"showlegend\": true, \"textposition\": \"auto\", \"type\": \"bar\", \"x\": [\"Sample 101\", \"Sample 14\", \"Sample 2\", \"Sample 3\", \"Sample 16\", \"Sample 4\", \"Sample 15\", \"Sample 103\", \"Sample 1\", \"Sample 97\", \"Sample 98\", \"Sample 99\", \"Sample 100\", \"Sample 13\", \"Sample 104\"], \"xaxis\": \"x\", \"y\": [15.0, 20.0, 35.0, 8.0, 5.0, 18.0, 9.0, null, 17.0, 11.0, 4.0, 18.0, 26.0, 30.0, 4.0], \"yaxis\": \"y\"}, {\"alignmentgroup\": \"True\", \"hovertemplate\": \"Organism=Oligoflexales<br>Sample=%{x}<br>Read Count=%{y}<extra></extra>\", \"legendgroup\": \"Oligoflexales\", \"marker\": {\"color\": \"#636efa\"}, \"name\": \"Oligoflexales\", \"offsetgroup\": \"Oligoflexales\", \"orientation\": \"v\", \"showlegend\": true, \"textposition\": \"auto\", \"type\": \"bar\", \"x\": [\"Sample 101\", \"Sample 14\", \"Sample 2\", \"Sample 3\", \"Sample 16\", \"Sample 4\", \"Sample 15\", \"Sample 103\", \"Sample 1\", \"Sample 97\", \"Sample 98\", \"Sample 99\", \"Sample 100\", \"Sample 13\", \"Sample 104\"], \"xaxis\": \"x\", \"y\": [null, 2.0, 12.0, null, null, 1.0, 1.0, null, null, null, null, 2.0, 4.0, null, null], \"yaxis\": \"y\"}, {\"alignmentgroup\": \"True\", \"hovertemplate\": \"Organism=Petrotogales<br>Sample=%{x}<br>Read Count=%{y}<extra></extra>\", \"legendgroup\": \"Petrotogales\", \"marker\": {\"color\": \"#EF553B\"}, \"name\": \"Petrotogales\", \"offsetgroup\": \"Petrotogales\", \"orientation\": \"v\", \"showlegend\": true, \"textposition\": \"auto\", \"type\": \"bar\", \"x\": [\"Sample 101\", \"Sample 14\", \"Sample 2\", \"Sample 3\", \"Sample 16\", \"Sample 4\", \"Sample 15\", \"Sample 103\", \"Sample 1\", \"Sample 97\", \"Sample 98\", \"Sample 99\", \"Sample 100\", \"Sample 13\", \"Sample 104\"], \"xaxis\": \"x\", \"y\": [3.0, 18.0, 13.0, 9.0, 4.0, 25.0, 7.0, 2.0, 9.0, 15.0, 11.0, 20.0, 21.0, 32.0, 2.0], \"yaxis\": \"y\"}, {\"alignmentgroup\": \"True\", \"hovertemplate\": \"Organism=bacterium D16-50<br>Sample=%{x}<br>Read Count=%{y}<extra></extra>\", \"legendgroup\": \"bacterium D16-50\", \"marker\": {\"color\": \"#00cc96\"}, \"name\": \"bacterium D16-50\", \"offsetgroup\": \"bacterium D16-50\", \"orientation\": \"v\", \"showlegend\": true, \"textposition\": \"auto\", \"type\": \"bar\", \"x\": [\"Sample 101\", \"Sample 14\", \"Sample 2\", \"Sample 3\", \"Sample 16\", \"Sample 4\", \"Sample 15\", \"Sample 103\", \"Sample 1\", \"Sample 97\", \"Sample 98\", \"Sample 99\", \"Sample 100\", \"Sample 13\", \"Sample 104\"], \"xaxis\": \"x\", \"y\": [17.0, 133.0, 80.0, 18.0, 51.0, 54.0, 42.0, 15.0, 81.0, 50.0, 42.0, 84.0, 31.0, 79.0, 8.0], \"yaxis\": \"y\"}, {\"alignmentgroup\": \"True\", \"hovertemplate\": \"Organism=Sphingomonadales<br>Sample=%{x}<br>Read Count=%{y}<extra></extra>\", \"legendgroup\": \"Sphingomonadales\", \"marker\": {\"color\": \"#ab63fa\"}, \"name\": \"Sphingomonadales\", \"offsetgroup\": \"Sphingomonadales\", \"orientation\": \"v\", \"showlegend\": true, \"textposition\": \"auto\", \"type\": \"bar\", \"x\": [\"Sample 101\", \"Sample 14\", \"Sample 2\", \"Sample 3\", \"Sample 16\", \"Sample 4\", \"Sample 15\", \"Sample 103\", \"Sample 1\", \"Sample 97\", \"Sample 98\", \"Sample 99\", \"Sample 100\", \"Sample 13\", \"Sample 104\"], \"xaxis\": \"x\", \"y\": [14500.0, 396.0, 1071.0, 193.0, 361.0, 613.0, 349.0, 87.0, 428.0, 241.0, 129.0, 441.0, 626.0, 683.0, 94.0], \"yaxis\": \"y\"}, {\"alignmentgroup\": \"True\", \"hovertemplate\": \"Organism=bacterium 1xD42-87<br>Sample=%{x}<br>Read Count=%{y}<extra></extra>\", \"legendgroup\": \"bacterium 1xD42-87\", \"marker\": {\"color\": \"#FFA15A\"}, \"name\": \"bacterium 1xD42-87\", \"offsetgroup\": \"bacterium 1xD42-87\", \"orientation\": \"v\", \"showlegend\": true, \"textposition\": \"auto\", \"type\": \"bar\", \"x\": [\"Sample 101\", \"Sample 14\", \"Sample 2\", \"Sample 3\", \"Sample 16\", \"Sample 4\", \"Sample 15\", \"Sample 103\", \"Sample 1\", \"Sample 97\", \"Sample 98\", \"Sample 99\", \"Sample 100\", \"Sample 13\", \"Sample 104\"], \"xaxis\": \"x\", \"y\": [11.0, 33.0, 51.0, 24.0, 14.0, 27.0, 14.0, 26.0, 193.0, 9.0, 11.0, 31.0, 26.0, 32.0, 4.0], \"yaxis\": \"y\"}, {\"alignmentgroup\": \"True\", \"hovertemplate\": \"Organism=Limnochordia<br>Sample=%{x}<br>Read Count=%{y}<extra></extra>\", \"legendgroup\": \"Limnochordia\", \"marker\": {\"color\": \"#19d3f3\"}, \"name\": \"Limnochordia\", \"offsetgroup\": \"Limnochordia\", \"orientation\": \"v\", \"showlegend\": true, \"textposition\": \"auto\", \"type\": \"bar\", \"x\": [\"Sample 101\", \"Sample 14\", \"Sample 2\", \"Sample 3\", \"Sample 16\", \"Sample 4\", \"Sample 15\", \"Sample 103\", \"Sample 1\", \"Sample 97\", \"Sample 98\", \"Sample 99\", \"Sample 100\", \"Sample 13\", \"Sample 104\"], \"xaxis\": \"x\", \"y\": [5.0, 23.0, 12.0, 3.0, 5.0, 4.0, 5.0, null, 7.0, 6.0, 9.0, 11.0, 6.0, 5.0, 12.0], \"yaxis\": \"y\"}, {\"alignmentgroup\": \"True\", \"hovertemplate\": \"Organism=Elusimicrobiales<br>Sample=%{x}<br>Read Count=%{y}<extra></extra>\", \"legendgroup\": \"Elusimicrobiales\", \"marker\": {\"color\": \"#FF6692\"}, \"name\": \"Elusimicrobiales\", \"offsetgroup\": \"Elusimicrobiales\", \"orientation\": \"v\", \"showlegend\": true, \"textposition\": \"auto\", \"type\": \"bar\", \"x\": [\"Sample 101\", \"Sample 14\", \"Sample 2\", \"Sample 3\", \"Sample 16\", \"Sample 4\", \"Sample 15\", \"Sample 103\", \"Sample 1\", \"Sample 97\", \"Sample 98\", \"Sample 99\", \"Sample 100\", \"Sample 13\", \"Sample 104\"], \"xaxis\": \"x\", \"y\": [2.0, 1.0, 4.0, 1.0, 3.0, null, null, null, null, 1.0, 1.0, 2.0, null, 2.0, null], \"yaxis\": \"y\"}, {\"alignmentgroup\": \"True\", \"hovertemplate\": \"Organism=Thermomicrobia<br>Sample=%{x}<br>Read Count=%{y}<extra></extra>\", \"legendgroup\": \"Thermomicrobia\", \"marker\": {\"color\": \"#B6E880\"}, \"name\": \"Thermomicrobia\", \"offsetgroup\": \"Thermomicrobia\", \"orientation\": \"v\", \"showlegend\": true, \"textposition\": \"auto\", \"type\": \"bar\", \"x\": [\"Sample 101\", \"Sample 14\", \"Sample 2\", \"Sample 3\", \"Sample 16\", \"Sample 4\", \"Sample 15\", \"Sample 103\", \"Sample 1\", \"Sample 97\", \"Sample 98\", \"Sample 99\", \"Sample 100\", \"Sample 13\", \"Sample 104\"], \"xaxis\": \"x\", \"y\": [2.0, 5.0, 7.0, 1.0, null, 5.0, 4.0, null, 2.0, null, 2.0, 2.0, 6.0, 8.0, null], \"yaxis\": \"y\"}, {\"alignmentgroup\": \"True\", \"hovertemplate\": \"Organism=bacterium 1XD8-76<br>Sample=%{x}<br>Read Count=%{y}<extra></extra>\", \"legendgroup\": \"bacterium 1XD8-76\", \"marker\": {\"color\": \"#FF97FF\"}, \"name\": \"bacterium 1XD8-76\", \"offsetgroup\": \"bacterium 1XD8-76\", \"orientation\": \"v\", \"showlegend\": true, \"textposition\": \"auto\", \"type\": \"bar\", \"x\": [\"Sample 101\", \"Sample 14\", \"Sample 2\", \"Sample 3\", \"Sample 16\", \"Sample 4\", \"Sample 15\", \"Sample 103\", \"Sample 1\", \"Sample 97\", \"Sample 98\", \"Sample 99\", \"Sample 100\", \"Sample 13\", \"Sample 104\"], \"xaxis\": \"x\", \"y\": [10.0, 52.0, 51.0, 12.0, 7.0, 17.0, 15.0, 2.0, 26.0, 14.0, 32.0, 40.0, 16.0, 29.0, 16.0], \"yaxis\": \"y\"}, {\"alignmentgroup\": \"True\", \"hovertemplate\": \"Organism=Candidatus Atribacteria<br>Sample=%{x}<br>Read Count=%{y}<extra></extra>\", \"legendgroup\": \"Candidatus Atribacteria\", \"marker\": {\"color\": \"#FECB52\"}, \"name\": \"Candidatus Atribacteria\", \"offsetgroup\": \"Candidatus Atribacteria\", \"orientation\": \"v\", \"showlegend\": true, \"textposition\": \"auto\", \"type\": \"bar\", \"x\": [\"Sample 101\", \"Sample 14\", \"Sample 2\", \"Sample 3\", \"Sample 16\", \"Sample 4\", \"Sample 15\", \"Sample 103\", \"Sample 1\", \"Sample 97\", \"Sample 98\", \"Sample 99\", \"Sample 100\", \"Sample 13\", \"Sample 104\"], \"xaxis\": \"x\", \"y\": [null, 2.0, null, null, 2.0, null, null, null, null, null, null, 1.0, null, null, null], \"yaxis\": \"y\"}, {\"alignmentgroup\": \"True\", \"hovertemplate\": \"Organism=Rubrobacteria<br>Sample=%{x}<br>Read Count=%{y}<extra></extra>\", \"legendgroup\": \"Rubrobacteria\", \"marker\": {\"color\": \"#636efa\"}, \"name\": \"Rubrobacteria\", \"offsetgroup\": \"Rubrobacteria\", \"orientation\": \"v\", \"showlegend\": true, \"textposition\": \"auto\", \"type\": \"bar\", \"x\": [\"Sample 101\", \"Sample 14\", \"Sample 2\", \"Sample 3\", \"Sample 16\", \"Sample 4\", \"Sample 15\", \"Sample 103\", \"Sample 1\", \"Sample 97\", \"Sample 98\", \"Sample 99\", \"Sample 100\", \"Sample 13\", \"Sample 104\"], \"xaxis\": \"x\", \"y\": [3.0, 6.0, 12.0, 5.0, 3.0, 6.0, 6.0, 1.0, 7.0, 7.0, 5.0, 9.0, 16.0, 19.0, 3.0], \"yaxis\": \"y\"}, {\"alignmentgroup\": \"True\", \"hovertemplate\": \"Organism=bacterium endosymbiont of Pedicinus badii<br>Sample=%{x}<br>Read Count=%{y}<extra></extra>\", \"legendgroup\": \"bacterium endosymbiont of Pedicinus badii\", \"marker\": {\"color\": \"#EF553B\"}, \"name\": \"bacterium endosymbiont of Pedicinus badii\", \"offsetgroup\": \"bacterium endosymbiont of Pedicinus badii\", \"orientation\": \"v\", \"showlegend\": true, \"textposition\": \"auto\", \"type\": \"bar\", \"x\": [\"Sample 101\", \"Sample 14\", \"Sample 2\", \"Sample 3\", \"Sample 16\", \"Sample 4\", \"Sample 15\", \"Sample 103\", \"Sample 1\", \"Sample 97\", \"Sample 98\", \"Sample 99\", \"Sample 100\", \"Sample 13\", \"Sample 104\"], \"xaxis\": \"x\", \"y\": [null, 1.0, 1.0, null, null, null, null, 1.0, null, null, null, null, null, 6.0, null], \"yaxis\": \"y\"}, {\"alignmentgroup\": \"True\", \"hovertemplate\": \"Organism=Chlamydiia<br>Sample=%{x}<br>Read Count=%{y}<extra></extra>\", \"legendgroup\": \"Chlamydiia\", \"marker\": {\"color\": \"#00cc96\"}, \"name\": \"Chlamydiia\", \"offsetgroup\": \"Chlamydiia\", \"orientation\": \"v\", \"showlegend\": true, \"textposition\": \"auto\", \"type\": \"bar\", \"x\": [\"Sample 101\", \"Sample 14\", \"Sample 2\", \"Sample 3\", \"Sample 16\", \"Sample 4\", \"Sample 15\", \"Sample 103\", \"Sample 1\", \"Sample 97\", \"Sample 98\", \"Sample 99\", \"Sample 100\", \"Sample 13\", \"Sample 104\"], \"xaxis\": \"x\", \"y\": [15.0, 14.0, 16.0, 7.0, 3.0, 14.0, 8.0, 4.0, 86.0, 10.0, 3.0, 23.0, 13.0, 16.0, 5.0], \"yaxis\": \"y\"}, {\"alignmentgroup\": \"True\", \"hovertemplate\": \"Organism=Candidatus Methanodesulfokores<br>Sample=%{x}<br>Read Count=%{y}<extra></extra>\", \"legendgroup\": \"Candidatus Methanodesulfokores\", \"marker\": {\"color\": \"#ab63fa\"}, \"name\": \"Candidatus Methanodesulfokores\", \"offsetgroup\": \"Candidatus Methanodesulfokores\", \"orientation\": \"v\", \"showlegend\": true, \"textposition\": \"auto\", \"type\": \"bar\", \"x\": [\"Sample 101\", \"Sample 14\", \"Sample 2\", \"Sample 3\", \"Sample 16\", \"Sample 4\", \"Sample 15\", \"Sample 103\", \"Sample 1\", \"Sample 97\", \"Sample 98\", \"Sample 99\", \"Sample 100\", \"Sample 13\", \"Sample 104\"], \"xaxis\": \"x\", \"y\": [null, null, null, null, null, 1.0, null, null, null, null, null, null, null, 1.0, null], \"yaxis\": \"y\"}, {\"alignmentgroup\": \"True\", \"hovertemplate\": \"Organism=bacterium 1XD42-8<br>Sample=%{x}<br>Read Count=%{y}<extra></extra>\", \"legendgroup\": \"bacterium 1XD42-8\", \"marker\": {\"color\": \"#FFA15A\"}, \"name\": \"bacterium 1XD42-8\", \"offsetgroup\": \"bacterium 1XD42-8\", \"orientation\": \"v\", \"showlegend\": true, \"textposition\": \"auto\", \"type\": \"bar\", \"x\": [\"Sample 101\", \"Sample 14\", \"Sample 2\", \"Sample 3\", \"Sample 16\", \"Sample 4\", \"Sample 15\", \"Sample 103\", \"Sample 1\", \"Sample 97\", \"Sample 98\", \"Sample 99\", \"Sample 100\", \"Sample 13\", \"Sample 104\"], \"xaxis\": \"x\", \"y\": [203.0, 13.0, 11.0, 3.0, 1.0, 17.0, 3.0, 6.0, 16.0, 11.0, 31.0, 29.0, 17.0, 13.0, 5.0], \"yaxis\": \"y\"}, {\"alignmentgroup\": \"True\", \"hovertemplate\": \"Organism=Methanomicrobia<br>Sample=%{x}<br>Read Count=%{y}<extra></extra>\", \"legendgroup\": \"Methanomicrobia\", \"marker\": {\"color\": \"#19d3f3\"}, \"name\": \"Methanomicrobia\", \"offsetgroup\": \"Methanomicrobia\", \"orientation\": \"v\", \"showlegend\": true, \"textposition\": \"auto\", \"type\": \"bar\", \"x\": [\"Sample 101\", \"Sample 14\", \"Sample 2\", \"Sample 3\", \"Sample 16\", \"Sample 4\", \"Sample 15\", \"Sample 103\", \"Sample 1\", \"Sample 97\", \"Sample 98\", \"Sample 99\", \"Sample 100\", \"Sample 13\", \"Sample 104\"], \"xaxis\": \"x\", \"y\": [null, 26.0, 34.0, 16.0, 26.0, 22.0, 15.0, 8.0, 17.0, 38.0, 14.0, 36.0, 41.0, 42.0, 4.0], \"yaxis\": \"y\"}, {\"alignmentgroup\": \"True\", \"hovertemplate\": \"Organism=Candidatus Cloacimonas<br>Sample=%{x}<br>Read Count=%{y}<extra></extra>\", \"legendgroup\": \"Candidatus Cloacimonas\", \"marker\": {\"color\": \"#FF6692\"}, \"name\": \"Candidatus Cloacimonas\", \"offsetgroup\": \"Candidatus Cloacimonas\", \"orientation\": \"v\", \"showlegend\": true, \"textposition\": \"auto\", \"type\": \"bar\", \"x\": [\"Sample 101\", \"Sample 14\", \"Sample 2\", \"Sample 3\", \"Sample 16\", \"Sample 4\", \"Sample 15\", \"Sample 103\", \"Sample 1\", \"Sample 97\", \"Sample 98\", \"Sample 99\", \"Sample 100\", \"Sample 13\", \"Sample 104\"], \"xaxis\": \"x\", \"y\": [null, null, 1.0, 2.0, null, null, 1.0, null, null, null, 1.0, null, null, 1.0, null], \"yaxis\": \"y\"}, {\"alignmentgroup\": \"True\", \"hovertemplate\": \"Organism=DHVE2 group<br>Sample=%{x}<br>Read Count=%{y}<extra></extra>\", \"legendgroup\": \"DHVE2 group\", \"marker\": {\"color\": \"#B6E880\"}, \"name\": \"DHVE2 group\", \"offsetgroup\": \"DHVE2 group\", \"orientation\": \"v\", \"showlegend\": true, \"textposition\": \"auto\", \"type\": \"bar\", \"x\": [\"Sample 101\", \"Sample 14\", \"Sample 2\", \"Sample 3\", \"Sample 16\", \"Sample 4\", \"Sample 15\", \"Sample 103\", \"Sample 1\", \"Sample 97\", \"Sample 98\", \"Sample 99\", \"Sample 100\", \"Sample 13\", \"Sample 104\"], \"xaxis\": \"x\", \"y\": [null, null, null, null, 1.0, null, null, null, null, null, null, null, 1.0, null, null], \"yaxis\": \"y\"}, {\"alignmentgroup\": \"True\", \"hovertemplate\": \"Organism=Mariprofundales<br>Sample=%{x}<br>Read Count=%{y}<extra></extra>\", \"legendgroup\": \"Mariprofundales\", \"marker\": {\"color\": \"#FF97FF\"}, \"name\": \"Mariprofundales\", \"offsetgroup\": \"Mariprofundales\", \"orientation\": \"v\", \"showlegend\": true, \"textposition\": \"auto\", \"type\": \"bar\", \"x\": [\"Sample 101\", \"Sample 14\", \"Sample 2\", \"Sample 3\", \"Sample 16\", \"Sample 4\", \"Sample 15\", \"Sample 103\", \"Sample 1\", \"Sample 97\", \"Sample 98\", \"Sample 99\", \"Sample 100\", \"Sample 13\", \"Sample 104\"], \"xaxis\": \"x\", \"y\": [null, null, 2.0, 2.0, 4.0, 14.0, 1.0, 2.0, null, 1.0, null, 4.0, 3.0, 3.0, null], \"yaxis\": \"y\"}, {\"alignmentgroup\": \"True\", \"hovertemplate\": \"Organism=bacterium M00.F.Ca.ET.230.01.1.1<br>Sample=%{x}<br>Read Count=%{y}<extra></extra>\", \"legendgroup\": \"bacterium M00.F.Ca.ET.230.01.1.1\", \"marker\": {\"color\": \"#FECB52\"}, \"name\": \"bacterium M00.F.Ca.ET.230.01.1.1\", \"offsetgroup\": \"bacterium M00.F.Ca.ET.230.01.1.1\", \"orientation\": \"v\", \"showlegend\": true, \"textposition\": \"auto\", \"type\": \"bar\", \"x\": [\"Sample 101\", \"Sample 14\", \"Sample 2\", \"Sample 3\", \"Sample 16\", \"Sample 4\", \"Sample 15\", \"Sample 103\", \"Sample 1\", \"Sample 97\", \"Sample 98\", \"Sample 99\", \"Sample 100\", \"Sample 13\", \"Sample 104\"], \"xaxis\": \"x\", \"y\": [170.0, 1.0, null, null, null, 1.0, 1.0, null, null, null, null, null, null, null, null], \"yaxis\": \"y\"}, {\"alignmentgroup\": \"True\", \"hovertemplate\": \"Organism=bacterium A52C2<br>Sample=%{x}<br>Read Count=%{y}<extra></extra>\", \"legendgroup\": \"bacterium A52C2\", \"marker\": {\"color\": \"#636efa\"}, \"name\": \"bacterium A52C2\", \"offsetgroup\": \"bacterium A52C2\", \"orientation\": \"v\", \"showlegend\": true, \"textposition\": \"auto\", \"type\": \"bar\", \"x\": [\"Sample 101\", \"Sample 14\", \"Sample 2\", \"Sample 3\", \"Sample 16\", \"Sample 4\", \"Sample 15\", \"Sample 103\", \"Sample 1\", \"Sample 97\", \"Sample 98\", \"Sample 99\", \"Sample 100\", \"Sample 13\", \"Sample 104\"], \"xaxis\": \"x\", \"y\": [null, null, 1.0, null, null, 2.0, null, null, null, null, null, null, null, 3.0, null], \"yaxis\": \"y\"}, {\"alignmentgroup\": \"True\", \"hovertemplate\": \"Organism=Nitrososphaeria<br>Sample=%{x}<br>Read Count=%{y}<extra></extra>\", \"legendgroup\": \"Nitrososphaeria\", \"marker\": {\"color\": \"#EF553B\"}, \"name\": \"Nitrososphaeria\", \"offsetgroup\": \"Nitrososphaeria\", \"orientation\": \"v\", \"showlegend\": true, \"textposition\": \"auto\", \"type\": \"bar\", \"x\": [\"Sample 101\", \"Sample 14\", \"Sample 2\", \"Sample 3\", \"Sample 16\", \"Sample 4\", \"Sample 15\", \"Sample 103\", \"Sample 1\", \"Sample 97\", \"Sample 98\", \"Sample 99\", \"Sample 100\", \"Sample 13\", \"Sample 104\"], \"xaxis\": \"x\", \"y\": [null, 3.0, null, null, null, 1.0, 5.0, 2.0, null, 1.0, null, 1.0, 4.0, 1.0, null], \"yaxis\": \"y\"}, {\"alignmentgroup\": \"True\", \"hovertemplate\": \"Organism=Thermoanaerobaculales<br>Sample=%{x}<br>Read Count=%{y}<extra></extra>\", \"legendgroup\": \"Thermoanaerobaculales\", \"marker\": {\"color\": \"#00cc96\"}, \"name\": \"Thermoanaerobaculales\", \"offsetgroup\": \"Thermoanaerobaculales\", \"orientation\": \"v\", \"showlegend\": true, \"textposition\": \"auto\", \"type\": \"bar\", \"x\": [\"Sample 101\", \"Sample 14\", \"Sample 2\", \"Sample 3\", \"Sample 16\", \"Sample 4\", \"Sample 15\", \"Sample 103\", \"Sample 1\", \"Sample 97\", \"Sample 98\", \"Sample 99\", \"Sample 100\", \"Sample 13\", \"Sample 104\"], \"xaxis\": \"x\", \"y\": [null, null, null, 1.0, null, 2.0, 1.0, null, 1.0, 1.0, null, 2.0, null, 1.0, null], \"yaxis\": \"y\"}, {\"alignmentgroup\": \"True\", \"hovertemplate\": \"Organism=bacterium 1XD8-92<br>Sample=%{x}<br>Read Count=%{y}<extra></extra>\", \"legendgroup\": \"bacterium 1XD8-92\", \"marker\": {\"color\": \"#ab63fa\"}, \"name\": \"bacterium 1XD8-92\", \"offsetgroup\": \"bacterium 1XD8-92\", \"orientation\": \"v\", \"showlegend\": true, \"textposition\": \"auto\", \"type\": \"bar\", \"x\": [\"Sample 101\", \"Sample 14\", \"Sample 2\", \"Sample 3\", \"Sample 16\", \"Sample 4\", \"Sample 15\", \"Sample 103\", \"Sample 1\", \"Sample 97\", \"Sample 98\", \"Sample 99\", \"Sample 100\", \"Sample 13\", \"Sample 104\"], \"xaxis\": \"x\", \"y\": [2.0, 8.0, 3.0, null, 16.0, 18.0, 4.0, 4.0, 9.0, 3.0, null, 4.0, 3.0, 4.0, 4.0], \"yaxis\": \"y\"}, {\"alignmentgroup\": \"True\", \"hovertemplate\": \"Organism=bacterium 1xD42-67<br>Sample=%{x}<br>Read Count=%{y}<extra></extra>\", \"legendgroup\": \"bacterium 1xD42-67\", \"marker\": {\"color\": \"#FFA15A\"}, \"name\": \"bacterium 1xD42-67\", \"offsetgroup\": \"bacterium 1xD42-67\", \"orientation\": \"v\", \"showlegend\": true, \"textposition\": \"auto\", \"type\": \"bar\", \"x\": [\"Sample 101\", \"Sample 14\", \"Sample 2\", \"Sample 3\", \"Sample 16\", \"Sample 4\", \"Sample 15\", \"Sample 103\", \"Sample 1\", \"Sample 97\", \"Sample 98\", \"Sample 99\", \"Sample 100\", \"Sample 13\", \"Sample 104\"], \"xaxis\": \"x\", \"y\": [15.0, 165.0, 194.0, 57.0, 126.0, 181.0, 172.0, 19.0, 77.0, 133.0, 36.0, 258.0, 158.0, 324.0, 33.0], \"yaxis\": \"y\"}, {\"alignmentgroup\": \"True\", \"hovertemplate\": \"Organism=Candidatus Marinimicrobia bacterium<br>Sample=%{x}<br>Read Count=%{y}<extra></extra>\", \"legendgroup\": \"Candidatus Marinimicrobia bacterium\", \"marker\": {\"color\": \"#19d3f3\"}, \"name\": \"Candidatus Marinimicrobia bacterium\", \"offsetgroup\": \"Candidatus Marinimicrobia bacterium\", \"orientation\": \"v\", \"showlegend\": true, \"textposition\": \"auto\", \"type\": \"bar\", \"x\": [\"Sample 101\", \"Sample 14\", \"Sample 2\", \"Sample 3\", \"Sample 16\", \"Sample 4\", \"Sample 15\", \"Sample 103\", \"Sample 1\", \"Sample 97\", \"Sample 98\", \"Sample 99\", \"Sample 100\", \"Sample 13\", \"Sample 104\"], \"xaxis\": \"x\", \"y\": [1.0, 2.0, 4.0, 4.0, 5.0, 4.0, null, 1.0, 16.0, 3.0, null, 2.0, 6.0, 4.0, null], \"yaxis\": \"y\"}, {\"alignmentgroup\": \"True\", \"hovertemplate\": \"Organism=Brevinematales<br>Sample=%{x}<br>Read Count=%{y}<extra></extra>\", \"legendgroup\": \"Brevinematales\", \"marker\": {\"color\": \"#FF6692\"}, \"name\": \"Brevinematales\", \"offsetgroup\": \"Brevinematales\", \"orientation\": \"v\", \"showlegend\": true, \"textposition\": \"auto\", \"type\": \"bar\", \"x\": [\"Sample 101\", \"Sample 14\", \"Sample 2\", \"Sample 3\", \"Sample 16\", \"Sample 4\", \"Sample 15\", \"Sample 103\", \"Sample 1\", \"Sample 97\", \"Sample 98\", \"Sample 99\", \"Sample 100\", \"Sample 13\", \"Sample 104\"], \"xaxis\": \"x\", \"y\": [null, null, 1.0, null, null, null, 1.0, null, 2.0, null, null, null, 2.0, 1.0, null], \"yaxis\": \"y\"}, {\"alignmentgroup\": \"True\", \"hovertemplate\": \"Organism=Bacteroidetes<br>Sample=%{x}<br>Read Count=%{y}<extra></extra>\", \"legendgroup\": \"Bacteroidetes\", \"marker\": {\"color\": \"#B6E880\"}, \"name\": \"Bacteroidetes\", \"offsetgroup\": \"Bacteroidetes\", \"orientation\": \"v\", \"showlegend\": true, \"textposition\": \"auto\", \"type\": \"bar\", \"x\": [\"Sample 101\", \"Sample 14\", \"Sample 2\", \"Sample 3\", \"Sample 16\", \"Sample 4\", \"Sample 15\", \"Sample 103\", \"Sample 1\", \"Sample 97\", \"Sample 98\", \"Sample 99\", \"Sample 100\", \"Sample 13\", \"Sample 104\"], \"xaxis\": \"x\", \"y\": [5003471.0, 7260255.0, 5715868.0, 11587742.0, 14900324.0, 8841650.0, 5557269.0, 6097818.0, 5731133.0, 6872347.0, 8069761.0, 4266855.0, 4049173.0, 5677982.0, 12616412.0], \"yaxis\": \"y\"}, {\"alignmentgroup\": \"True\", \"hovertemplate\": \"Organism=unclassified Alphaproteobacteria<br>Sample=%{x}<br>Read Count=%{y}<extra></extra>\", \"legendgroup\": \"unclassified Alphaproteobacteria\", \"marker\": {\"color\": \"#FF97FF\"}, \"name\": \"unclassified Alphaproteobacteria\", \"offsetgroup\": \"unclassified Alphaproteobacteria\", \"orientation\": \"v\", \"showlegend\": true, \"textposition\": \"auto\", \"type\": \"bar\", \"x\": [\"Sample 101\", \"Sample 14\", \"Sample 2\", \"Sample 3\", \"Sample 16\", \"Sample 4\", \"Sample 15\", \"Sample 103\", \"Sample 1\", \"Sample 97\", \"Sample 98\", \"Sample 99\", \"Sample 100\", \"Sample 13\", \"Sample 104\"], \"xaxis\": \"x\", \"y\": [16.0, 5.0, 49.0, 3.0, 22.0, 19.0, 5.0, 1.0, 4.0, 12.0, 3.0, 14.0, 21.0, 17.0, 3.0], \"yaxis\": \"y\"}, {\"alignmentgroup\": \"True\", \"hovertemplate\": \"Organism=unclassified Planctomycetes<br>Sample=%{x}<br>Read Count=%{y}<extra></extra>\", \"legendgroup\": \"unclassified Planctomycetes\", \"marker\": {\"color\": \"#FECB52\"}, \"name\": \"unclassified Planctomycetes\", \"offsetgroup\": \"unclassified Planctomycetes\", \"orientation\": \"v\", \"showlegend\": true, \"textposition\": \"auto\", \"type\": \"bar\", \"x\": [\"Sample 101\", \"Sample 14\", \"Sample 2\", \"Sample 3\", \"Sample 16\", \"Sample 4\", \"Sample 15\", \"Sample 103\", \"Sample 1\", \"Sample 97\", \"Sample 98\", \"Sample 99\", \"Sample 100\", \"Sample 13\", \"Sample 104\"], \"xaxis\": \"x\", \"y\": [25.0, 33.0, 58.0, 14.0, 19.0, 41.0, 42.0, 2.0, 34.0, 25.0, 11.0, 56.0, 50.0, 61.0, 5.0], \"yaxis\": \"y\"}, {\"alignmentgroup\": \"True\", \"hovertemplate\": \"Organism=Rhizobiales<br>Sample=%{x}<br>Read Count=%{y}<extra></extra>\", \"legendgroup\": \"Rhizobiales\", \"marker\": {\"color\": \"#636efa\"}, \"name\": \"Rhizobiales\", \"offsetgroup\": \"Rhizobiales\", \"orientation\": \"v\", \"showlegend\": true, \"textposition\": \"auto\", \"type\": \"bar\", \"x\": [\"Sample 101\", \"Sample 14\", \"Sample 2\", \"Sample 3\", \"Sample 16\", \"Sample 4\", \"Sample 15\", \"Sample 103\", \"Sample 1\", \"Sample 97\", \"Sample 98\", \"Sample 99\", \"Sample 100\", \"Sample 13\", \"Sample 104\"], \"xaxis\": \"x\", \"y\": [7394.0, 4545.0, 4609.0, 899.0, 1772.0, 2779.0, 1901.0, 406.0, 1817.0, 1326.0, 939.0, 2348.0, 2613.0, 3085.0, 431.0], \"yaxis\": \"y\"}, {\"alignmentgroup\": \"True\", \"hovertemplate\": \"Organism=Alteromonadales<br>Sample=%{x}<br>Read Count=%{y}<extra></extra>\", \"legendgroup\": \"Alteromonadales\", \"marker\": {\"color\": \"#EF553B\"}, \"name\": \"Alteromonadales\", \"offsetgroup\": \"Alteromonadales\", \"orientation\": \"v\", \"showlegend\": true, \"textposition\": \"auto\", \"type\": \"bar\", \"x\": [\"Sample 101\", \"Sample 14\", \"Sample 2\", \"Sample 3\", \"Sample 16\", \"Sample 4\", \"Sample 15\", \"Sample 103\", \"Sample 1\", \"Sample 97\", \"Sample 98\", \"Sample 99\", \"Sample 100\", \"Sample 13\", \"Sample 104\"], \"xaxis\": \"x\", \"y\": [219.0, 396.0, 703.0, 539.0, 838.0, 309.0, 246.0, 189.0, 790.0, 257.0, 384.0, 1337.0, 663.0, 1751.0, 145.0], \"yaxis\": \"y\"}, {\"alignmentgroup\": \"True\", \"hovertemplate\": \"Organism=Burkholderiales<br>Sample=%{x}<br>Read Count=%{y}<extra></extra>\", \"legendgroup\": \"Burkholderiales\", \"marker\": {\"color\": \"#00cc96\"}, \"name\": \"Burkholderiales\", \"offsetgroup\": \"Burkholderiales\", \"orientation\": \"v\", \"showlegend\": true, \"textposition\": \"auto\", \"type\": \"bar\", \"x\": [\"Sample 101\", \"Sample 14\", \"Sample 2\", \"Sample 3\", \"Sample 16\", \"Sample 4\", \"Sample 15\", \"Sample 103\", \"Sample 1\", \"Sample 97\", \"Sample 98\", \"Sample 99\", \"Sample 100\", \"Sample 13\", \"Sample 104\"], \"xaxis\": \"x\", \"y\": [33922.0, 473175.0, 99285.0, 65321.0, 84693.0, 46292.0, 373540.0, 292673.0, 81311.0, 281654.0, 142110.0, 236431.0, 30403.0, 42853.0, 275042.0], \"yaxis\": \"y\"}, {\"alignmentgroup\": \"True\", \"hovertemplate\": \"Organism=Orbales<br>Sample=%{x}<br>Read Count=%{y}<extra></extra>\", \"legendgroup\": \"Orbales\", \"marker\": {\"color\": \"#ab63fa\"}, \"name\": \"Orbales\", \"offsetgroup\": \"Orbales\", \"orientation\": \"v\", \"showlegend\": true, \"textposition\": \"auto\", \"type\": \"bar\", \"x\": [\"Sample 101\", \"Sample 14\", \"Sample 2\", \"Sample 3\", \"Sample 16\", \"Sample 4\", \"Sample 15\", \"Sample 103\", \"Sample 1\", \"Sample 97\", \"Sample 98\", \"Sample 99\", \"Sample 100\", \"Sample 13\", \"Sample 104\"], \"xaxis\": \"x\", \"y\": [6.0, 6.0, 9.0, 4.0, 2.0, 7.0, 2.0, 1.0, 8.0, 15.0, 10.0, 3.0, 25.0, 17.0, null], \"yaxis\": \"y\"}, {\"alignmentgroup\": \"True\", \"hovertemplate\": \"Organism=Fibrobacteria<br>Sample=%{x}<br>Read Count=%{y}<extra></extra>\", \"legendgroup\": \"Fibrobacteria\", \"marker\": {\"color\": \"#FFA15A\"}, \"name\": \"Fibrobacteria\", \"offsetgroup\": \"Fibrobacteria\", \"orientation\": \"v\", \"showlegend\": true, \"textposition\": \"auto\", \"type\": \"bar\", \"x\": [\"Sample 101\", \"Sample 14\", \"Sample 2\", \"Sample 3\", \"Sample 16\", \"Sample 4\", \"Sample 15\", \"Sample 103\", \"Sample 1\", \"Sample 97\", \"Sample 98\", \"Sample 99\", \"Sample 100\", \"Sample 13\", \"Sample 104\"], \"xaxis\": \"x\", \"y\": [26.0, 439.0, 254.0, 377.0, 59.0, 92.0, 146.0, 69.0, 39.0, 70.0, 65.0, 243.0, 627.0, 303.0, 13.0], \"yaxis\": \"y\"}, {\"alignmentgroup\": \"True\", \"hovertemplate\": \"Organism=unclassified Gammaproteobacteria<br>Sample=%{x}<br>Read Count=%{y}<extra></extra>\", \"legendgroup\": \"unclassified Gammaproteobacteria\", \"marker\": {\"color\": \"#19d3f3\"}, \"name\": \"unclassified Gammaproteobacteria\", \"offsetgroup\": \"unclassified Gammaproteobacteria\", \"orientation\": \"v\", \"showlegend\": true, \"textposition\": \"auto\", \"type\": \"bar\", \"x\": [\"Sample 101\", \"Sample 14\", \"Sample 2\", \"Sample 3\", \"Sample 16\", \"Sample 4\", \"Sample 15\", \"Sample 103\", \"Sample 1\", \"Sample 97\", \"Sample 98\", \"Sample 99\", \"Sample 100\", \"Sample 13\", \"Sample 104\"], \"xaxis\": \"x\", \"y\": [17.0, 26.0, 45.0, 18.0, 17.0, 26.0, 24.0, 3.0, 31.0, 12.0, 12.0, 29.0, 31.0, 44.0, 4.0], \"yaxis\": \"y\"}, {\"alignmentgroup\": \"True\", \"hovertemplate\": \"Organism=Thermoflexia<br>Sample=%{x}<br>Read Count=%{y}<extra></extra>\", \"legendgroup\": \"Thermoflexia\", \"marker\": {\"color\": \"#FF6692\"}, \"name\": \"Thermoflexia\", \"offsetgroup\": \"Thermoflexia\", \"orientation\": \"v\", \"showlegend\": true, \"textposition\": \"auto\", \"type\": \"bar\", \"x\": [\"Sample 101\", \"Sample 14\", \"Sample 2\", \"Sample 3\", \"Sample 16\", \"Sample 4\", \"Sample 15\", \"Sample 103\", \"Sample 1\", \"Sample 97\", \"Sample 98\", \"Sample 99\", \"Sample 100\", \"Sample 13\", \"Sample 104\"], \"xaxis\": \"x\", \"y\": [null, null, 5.0, null, null, 2.0, 1.0, null, null, 3.0, null, 2.0, 2.0, 4.0, null], \"yaxis\": \"y\"}, {\"alignmentgroup\": \"True\", \"hovertemplate\": \"Organism=bacterium J10(2018)<br>Sample=%{x}<br>Read Count=%{y}<extra></extra>\", \"legendgroup\": \"bacterium J10(2018)\", \"marker\": {\"color\": \"#B6E880\"}, \"name\": \"bacterium J10(2018)\", \"offsetgroup\": \"bacterium J10(2018)\", \"orientation\": \"v\", \"showlegend\": true, \"textposition\": \"auto\", \"type\": \"bar\", \"x\": [\"Sample 101\", \"Sample 14\", \"Sample 2\", \"Sample 3\", \"Sample 16\", \"Sample 4\", \"Sample 15\", \"Sample 103\", \"Sample 1\", \"Sample 97\", \"Sample 98\", \"Sample 99\", \"Sample 100\", \"Sample 13\", \"Sample 104\"], \"xaxis\": \"x\", \"y\": [null, null, null, null, null, null, null, null, null, null, null, null, 1.0, null, null], \"yaxis\": \"y\"}, {\"alignmentgroup\": \"True\", \"hovertemplate\": \"Organism=Ardenticatenia<br>Sample=%{x}<br>Read Count=%{y}<extra></extra>\", \"legendgroup\": \"Ardenticatenia\", \"marker\": {\"color\": \"#FF97FF\"}, \"name\": \"Ardenticatenia\", \"offsetgroup\": \"Ardenticatenia\", \"orientation\": \"v\", \"showlegend\": true, \"textposition\": \"auto\", \"type\": \"bar\", \"x\": [\"Sample 101\", \"Sample 14\", \"Sample 2\", \"Sample 3\", \"Sample 16\", \"Sample 4\", \"Sample 15\", \"Sample 103\", \"Sample 1\", \"Sample 97\", \"Sample 98\", \"Sample 99\", \"Sample 100\", \"Sample 13\", \"Sample 104\"], \"xaxis\": \"x\", \"y\": [5.0, null, 6.0, 2.0, 3.0, 6.0, 1.0, null, 2.0, 5.0, 1.0, 9.0, 2.0, 8.0, null], \"yaxis\": \"y\"}, {\"alignmentgroup\": \"True\", \"hovertemplate\": \"Organism=Methylacidiphilae<br>Sample=%{x}<br>Read Count=%{y}<extra></extra>\", \"legendgroup\": \"Methylacidiphilae\", \"marker\": {\"color\": \"#FECB52\"}, \"name\": \"Methylacidiphilae\", \"offsetgroup\": \"Methylacidiphilae\", \"orientation\": \"v\", \"showlegend\": true, \"textposition\": \"auto\", \"type\": \"bar\", \"x\": [\"Sample 101\", \"Sample 14\", \"Sample 2\", \"Sample 3\", \"Sample 16\", \"Sample 4\", \"Sample 15\", \"Sample 103\", \"Sample 1\", \"Sample 97\", \"Sample 98\", \"Sample 99\", \"Sample 100\", \"Sample 13\", \"Sample 104\"], \"xaxis\": \"x\", \"y\": [null, null, null, null, null, 1.0, 1.0, null, null, null, 2.0, null, 4.0, 3.0, null], \"yaxis\": \"y\"}, {\"alignmentgroup\": \"True\", \"hovertemplate\": \"Organism=bacterium 1XD21-13<br>Sample=%{x}<br>Read Count=%{y}<extra></extra>\", \"legendgroup\": \"bacterium 1XD21-13\", \"marker\": {\"color\": \"#636efa\"}, \"name\": \"bacterium 1XD21-13\", \"offsetgroup\": \"bacterium 1XD21-13\", \"orientation\": \"v\", \"showlegend\": true, \"textposition\": \"auto\", \"type\": \"bar\", \"x\": [\"Sample 101\", \"Sample 14\", \"Sample 2\", \"Sample 3\", \"Sample 16\", \"Sample 4\", \"Sample 15\", \"Sample 103\", \"Sample 1\", \"Sample 97\", \"Sample 98\", \"Sample 99\", \"Sample 100\", \"Sample 13\", \"Sample 104\"], \"xaxis\": \"x\", \"y\": [7.0, 171.0, 152.0, 38.0, 13.0, 55.0, 30.0, 5.0, 25.0, 22.0, 23.0, 51.0, 27.0, 96.0, 5.0], \"yaxis\": \"y\"}, {\"alignmentgroup\": \"True\", \"hovertemplate\": \"Organism=Dictyoglomales<br>Sample=%{x}<br>Read Count=%{y}<extra></extra>\", \"legendgroup\": \"Dictyoglomales\", \"marker\": {\"color\": \"#EF553B\"}, \"name\": \"Dictyoglomales\", \"offsetgroup\": \"Dictyoglomales\", \"orientation\": \"v\", \"showlegend\": true, \"textposition\": \"auto\", \"type\": \"bar\", \"x\": [\"Sample 101\", \"Sample 14\", \"Sample 2\", \"Sample 3\", \"Sample 16\", \"Sample 4\", \"Sample 15\", \"Sample 103\", \"Sample 1\", \"Sample 97\", \"Sample 98\", \"Sample 99\", \"Sample 100\", \"Sample 13\", \"Sample 104\"], \"xaxis\": \"x\", \"y\": [1.0, 1.0, 2.0, 1.0, null, 4.0, null, 2.0, 2.0, null, 2.0, 1.0, 5.0, 18.0, null], \"yaxis\": \"y\"}, {\"alignmentgroup\": \"True\", \"hovertemplate\": \"Organism=unclassified Betaproteobacteria<br>Sample=%{x}<br>Read Count=%{y}<extra></extra>\", \"legendgroup\": \"unclassified Betaproteobacteria\", \"marker\": {\"color\": \"#00cc96\"}, \"name\": \"unclassified Betaproteobacteria\", \"offsetgroup\": \"unclassified Betaproteobacteria\", \"orientation\": \"v\", \"showlegend\": true, \"textposition\": \"auto\", \"type\": \"bar\", \"x\": [\"Sample 101\", \"Sample 14\", \"Sample 2\", \"Sample 3\", \"Sample 16\", \"Sample 4\", \"Sample 15\", \"Sample 103\", \"Sample 1\", \"Sample 97\", \"Sample 98\", \"Sample 99\", \"Sample 100\", \"Sample 13\", \"Sample 104\"], \"xaxis\": \"x\", \"y\": [6.0, 16.0, 12.0, 6.0, 4.0, 19.0, 8.0, 1.0, 10.0, 9.0, 3.0, 16.0, 12.0, 22.0, 3.0], \"yaxis\": \"y\"}, {\"alignmentgroup\": \"True\", \"hovertemplate\": \"Organism=bacterium 1xD42-62<br>Sample=%{x}<br>Read Count=%{y}<extra></extra>\", \"legendgroup\": \"bacterium 1xD42-62\", \"marker\": {\"color\": \"#ab63fa\"}, \"name\": \"bacterium 1xD42-62\", \"offsetgroup\": \"bacterium 1xD42-62\", \"orientation\": \"v\", \"showlegend\": true, \"textposition\": \"auto\", \"type\": \"bar\", \"x\": [\"Sample 101\", \"Sample 14\", \"Sample 2\", \"Sample 3\", \"Sample 16\", \"Sample 4\", \"Sample 15\", \"Sample 103\", \"Sample 1\", \"Sample 97\", \"Sample 98\", \"Sample 99\", \"Sample 100\", \"Sample 13\", \"Sample 104\"], \"xaxis\": \"x\", \"y\": [6.0, 94.0, 39.0, 5.0, 8.0, 23.0, 22.0, 20.0, 164.0, 17.0, 48.0, 16.0, 16.0, 34.0, 3.0], \"yaxis\": \"y\"}, {\"alignmentgroup\": \"True\", \"hovertemplate\": \"Organism=Ferrovales<br>Sample=%{x}<br>Read Count=%{y}<extra></extra>\", \"legendgroup\": \"Ferrovales\", \"marker\": {\"color\": \"#FFA15A\"}, \"name\": \"Ferrovales\", \"offsetgroup\": \"Ferrovales\", \"orientation\": \"v\", \"showlegend\": true, \"textposition\": \"auto\", \"type\": \"bar\", \"x\": [\"Sample 101\", \"Sample 14\", \"Sample 2\", \"Sample 3\", \"Sample 16\", \"Sample 4\", \"Sample 15\", \"Sample 103\", \"Sample 1\", \"Sample 97\", \"Sample 98\", \"Sample 99\", \"Sample 100\", \"Sample 13\", \"Sample 104\"], \"xaxis\": \"x\", \"y\": [null, 1.0, 1.0, null, null, 18.0, null, 1.0, null, null, 1.0, 2.0, 2.0, null, 2.0], \"yaxis\": \"y\"}, {\"alignmentgroup\": \"True\", \"hovertemplate\": \"Organism=unclassified Candidatus Bathyarchaeota<br>Sample=%{x}<br>Read Count=%{y}<extra></extra>\", \"legendgroup\": \"unclassified Candidatus Bathyarchaeota\", \"marker\": {\"color\": \"#19d3f3\"}, \"name\": \"unclassified Candidatus Bathyarchaeota\", \"offsetgroup\": \"unclassified Candidatus Bathyarchaeota\", \"orientation\": \"v\", \"showlegend\": true, \"textposition\": \"auto\", \"type\": \"bar\", \"x\": [\"Sample 101\", \"Sample 14\", \"Sample 2\", \"Sample 3\", \"Sample 16\", \"Sample 4\", \"Sample 15\", \"Sample 103\", \"Sample 1\", \"Sample 97\", \"Sample 98\", \"Sample 99\", \"Sample 100\", \"Sample 13\", \"Sample 104\"], \"xaxis\": \"x\", \"y\": [null, null, null, null, null, null, null, null, null, null, null, 1.0, null, null, null], \"yaxis\": \"y\"}, {\"alignmentgroup\": \"True\", \"hovertemplate\": \"Organism=Abditibacteria<br>Sample=%{x}<br>Read Count=%{y}<extra></extra>\", \"legendgroup\": \"Abditibacteria\", \"marker\": {\"color\": \"#FF6692\"}, \"name\": \"Abditibacteria\", \"offsetgroup\": \"Abditibacteria\", \"orientation\": \"v\", \"showlegend\": true, \"textposition\": \"auto\", \"type\": \"bar\", \"x\": [\"Sample 101\", \"Sample 14\", \"Sample 2\", \"Sample 3\", \"Sample 16\", \"Sample 4\", \"Sample 15\", \"Sample 103\", \"Sample 1\", \"Sample 97\", \"Sample 98\", \"Sample 99\", \"Sample 100\", \"Sample 13\", \"Sample 104\"], \"xaxis\": \"x\", \"y\": [null, null, 4.0, null, null, null, null, null, null, null, null, null, 1.0, null, null], \"yaxis\": \"y\"}, {\"alignmentgroup\": \"True\", \"hovertemplate\": \"Organism=Candidatus Syntrophosphaera<br>Sample=%{x}<br>Read Count=%{y}<extra></extra>\", \"legendgroup\": \"Candidatus Syntrophosphaera\", \"marker\": {\"color\": \"#B6E880\"}, \"name\": \"Candidatus Syntrophosphaera\", \"offsetgroup\": \"Candidatus Syntrophosphaera\", \"orientation\": \"v\", \"showlegend\": true, \"textposition\": \"auto\", \"type\": \"bar\", \"x\": [\"Sample 101\", \"Sample 14\", \"Sample 2\", \"Sample 3\", \"Sample 16\", \"Sample 4\", \"Sample 15\", \"Sample 103\", \"Sample 1\", \"Sample 97\", \"Sample 98\", \"Sample 99\", \"Sample 100\", \"Sample 13\", \"Sample 104\"], \"xaxis\": \"x\", \"y\": [null, null, 1.0, null, null, null, null, null, null, null, null, null, 1.0, null, null], \"yaxis\": \"y\"}, {\"alignmentgroup\": \"True\", \"hovertemplate\": \"Organism=bacterium BCRC 81127<br>Sample=%{x}<br>Read Count=%{y}<extra></extra>\", \"legendgroup\": \"bacterium BCRC 81127\", \"marker\": {\"color\": \"#FF97FF\"}, \"name\": \"bacterium BCRC 81127\", \"offsetgroup\": \"bacterium BCRC 81127\", \"orientation\": \"v\", \"showlegend\": true, \"textposition\": \"auto\", \"type\": \"bar\", \"x\": [\"Sample 101\", \"Sample 14\", \"Sample 2\", \"Sample 3\", \"Sample 16\", \"Sample 4\", \"Sample 15\", \"Sample 103\", \"Sample 1\", \"Sample 97\", \"Sample 98\", \"Sample 99\", \"Sample 100\", \"Sample 13\", \"Sample 104\"], \"xaxis\": \"x\", \"y\": [null, null, null, null, 1.0, null, 5.0, null, null, null, null, null, null, null, null], \"yaxis\": \"y\"}, {\"alignmentgroup\": \"True\", \"hovertemplate\": \"Organism=Caulobacterales<br>Sample=%{x}<br>Read Count=%{y}<extra></extra>\", \"legendgroup\": \"Caulobacterales\", \"marker\": {\"color\": \"#FECB52\"}, \"name\": \"Caulobacterales\", \"offsetgroup\": \"Caulobacterales\", \"orientation\": \"v\", \"showlegend\": true, \"textposition\": \"auto\", \"type\": \"bar\", \"x\": [\"Sample 101\", \"Sample 14\", \"Sample 2\", \"Sample 3\", \"Sample 16\", \"Sample 4\", \"Sample 15\", \"Sample 103\", \"Sample 1\", \"Sample 97\", \"Sample 98\", \"Sample 99\", \"Sample 100\", \"Sample 13\", \"Sample 104\"], \"xaxis\": \"x\", \"y\": [3781.0, 57.0, 152.0, 61.0, 26.0, 72.0, 36.0, 20.0, 34.0, 45.0, 44.0, 59.0, 84.0, 110.0, 12.0], \"yaxis\": \"y\"}, {\"alignmentgroup\": \"True\", \"hovertemplate\": \"Organism=Candidatus Izimaplasma<br>Sample=%{x}<br>Read Count=%{y}<extra></extra>\", \"legendgroup\": \"Candidatus Izimaplasma\", \"marker\": {\"color\": \"#636efa\"}, \"name\": \"Candidatus Izimaplasma\", \"offsetgroup\": \"Candidatus Izimaplasma\", \"orientation\": \"v\", \"showlegend\": true, \"textposition\": \"auto\", \"type\": \"bar\", \"x\": [\"Sample 101\", \"Sample 14\", \"Sample 2\", \"Sample 3\", \"Sample 16\", \"Sample 4\", \"Sample 15\", \"Sample 103\", \"Sample 1\", \"Sample 97\", \"Sample 98\", \"Sample 99\", \"Sample 100\", \"Sample 13\", \"Sample 104\"], \"xaxis\": \"x\", \"y\": [null, 114.0, 106.0, 2.0, null, 8.0, null, null, 92.0, 16.0, 19.0, 23.0, 12.0, 149.0, null], \"yaxis\": \"y\"}, {\"alignmentgroup\": \"True\", \"hovertemplate\": \"Organism=Verrucomicrobiae<br>Sample=%{x}<br>Read Count=%{y}<extra></extra>\", \"legendgroup\": \"Verrucomicrobiae\", \"marker\": {\"color\": \"#EF553B\"}, \"name\": \"Verrucomicrobiae\", \"offsetgroup\": \"Verrucomicrobiae\", \"orientation\": \"v\", \"showlegend\": true, \"textposition\": \"auto\", \"type\": \"bar\", \"x\": [\"Sample 101\", \"Sample 14\", \"Sample 2\", \"Sample 3\", \"Sample 16\", \"Sample 4\", \"Sample 15\", \"Sample 103\", \"Sample 1\", \"Sample 97\", \"Sample 98\", \"Sample 99\", \"Sample 100\", \"Sample 13\", \"Sample 104\"], \"xaxis\": \"x\", \"y\": [747.0, 235733.0, 95986.0, 420.0, 84587.0, 205571.0, 600217.0, 24352.0, 263468.0, 30137.0, 122754.0, 430135.0, 598.0, 226863.0, 257.0], \"yaxis\": \"y\"}, {\"alignmentgroup\": \"True\", \"hovertemplate\": \"Organism=Cardiobacteriales<br>Sample=%{x}<br>Read Count=%{y}<extra></extra>\", \"legendgroup\": \"Cardiobacteriales\", \"marker\": {\"color\": \"#00cc96\"}, \"name\": \"Cardiobacteriales\", \"offsetgroup\": \"Cardiobacteriales\", \"orientation\": \"v\", \"showlegend\": true, \"textposition\": \"auto\", \"type\": \"bar\", \"x\": [\"Sample 101\", \"Sample 14\", \"Sample 2\", \"Sample 3\", \"Sample 16\", \"Sample 4\", \"Sample 15\", \"Sample 103\", \"Sample 1\", \"Sample 97\", \"Sample 98\", \"Sample 99\", \"Sample 100\", \"Sample 13\", \"Sample 104\"], \"xaxis\": \"x\", \"y\": [12.0, 61.0, 11.0, 34.0, 262.0, 14.0, 37.0, 1.0, 10.0, 8.0, 2.0, 31.0, 14.0, 7.0, 3.0], \"yaxis\": \"y\"}, {\"alignmentgroup\": \"True\", \"hovertemplate\": \"Organism=Minwuiales<br>Sample=%{x}<br>Read Count=%{y}<extra></extra>\", \"legendgroup\": \"Minwuiales\", \"marker\": {\"color\": \"#ab63fa\"}, \"name\": \"Minwuiales\", \"offsetgroup\": \"Minwuiales\", \"orientation\": \"v\", \"showlegend\": true, \"textposition\": \"auto\", \"type\": \"bar\", \"x\": [\"Sample 101\", \"Sample 14\", \"Sample 2\", \"Sample 3\", \"Sample 16\", \"Sample 4\", \"Sample 15\", \"Sample 103\", \"Sample 1\", \"Sample 97\", \"Sample 98\", \"Sample 99\", \"Sample 100\", \"Sample 13\", \"Sample 104\"], \"xaxis\": \"x\", \"y\": [1.0, null, 2.0, null, null, 2.0, null, null, null, 1.0, null, 1.0, null, 3.0, null], \"yaxis\": \"y\"}, {\"alignmentgroup\": \"True\", \"hovertemplate\": \"Organism=Hydrogenophilales<br>Sample=%{x}<br>Read Count=%{y}<extra></extra>\", \"legendgroup\": \"Hydrogenophilales\", \"marker\": {\"color\": \"#FFA15A\"}, \"name\": \"Hydrogenophilales\", \"offsetgroup\": \"Hydrogenophilales\", \"orientation\": \"v\", \"showlegend\": true, \"textposition\": \"auto\", \"type\": \"bar\", \"x\": [\"Sample 101\", \"Sample 14\", \"Sample 2\", \"Sample 3\", \"Sample 16\", \"Sample 4\", \"Sample 15\", \"Sample 103\", \"Sample 1\", \"Sample 97\", \"Sample 98\", \"Sample 99\", \"Sample 100\", \"Sample 13\", \"Sample 104\"], \"xaxis\": \"x\", \"y\": [3.0, 4.0, 13.0, null, 1.0, 6.0, 11.0, null, 3.0, 8.0, 3.0, 8.0, 6.0, 10.0, 7.0], \"yaxis\": \"y\"}, {\"alignmentgroup\": \"True\", \"hovertemplate\": \"Organism=Mollicutes<br>Sample=%{x}<br>Read Count=%{y}<extra></extra>\", \"legendgroup\": \"Mollicutes\", \"marker\": {\"color\": \"#19d3f3\"}, \"name\": \"Mollicutes\", \"offsetgroup\": \"Mollicutes\", \"orientation\": \"v\", \"showlegend\": true, \"textposition\": \"auto\", \"type\": \"bar\", \"x\": [\"Sample 101\", \"Sample 14\", \"Sample 2\", \"Sample 3\", \"Sample 16\", \"Sample 4\", \"Sample 15\", \"Sample 103\", \"Sample 1\", \"Sample 97\", \"Sample 98\", \"Sample 99\", \"Sample 100\", \"Sample 13\", \"Sample 104\"], \"xaxis\": \"x\", \"y\": [110.0, 1262.0, 1396.0, 142.0, 159.0, 1832.0, 254.0, 169.0, 1915.0, 929.0, 1154.0, 366.0, 575.0, 1315.0, 76.0], \"yaxis\": \"y\"}, {\"alignmentgroup\": \"True\", \"hovertemplate\": \"Organism=Deinococci<br>Sample=%{x}<br>Read Count=%{y}<extra></extra>\", \"legendgroup\": \"Deinococci\", \"marker\": {\"color\": \"#FF6692\"}, \"name\": \"Deinococci\", \"offsetgroup\": \"Deinococci\", \"orientation\": \"v\", \"showlegend\": true, \"textposition\": \"auto\", \"type\": \"bar\", \"x\": [\"Sample 101\", \"Sample 14\", \"Sample 2\", \"Sample 3\", \"Sample 16\", \"Sample 4\", \"Sample 15\", \"Sample 103\", \"Sample 1\", \"Sample 97\", \"Sample 98\", \"Sample 99\", \"Sample 100\", \"Sample 13\", \"Sample 104\"], \"xaxis\": \"x\", \"y\": [21.0, 156.0, 260.0, 42.0, 107.0, 206.0, 116.0, 20.0, 176.0, 101.0, 60.0, 156.0, 190.0, 222.0, 29.0], \"yaxis\": \"y\"}, {\"alignmentgroup\": \"True\", \"hovertemplate\": \"Organism=Balneolaeota<br>Sample=%{x}<br>Read Count=%{y}<extra></extra>\", \"legendgroup\": \"Balneolaeota\", \"marker\": {\"color\": \"#B6E880\"}, \"name\": \"Balneolaeota\", \"offsetgroup\": \"Balneolaeota\", \"orientation\": \"v\", \"showlegend\": true, \"textposition\": \"auto\", \"type\": \"bar\", \"x\": [\"Sample 101\", \"Sample 14\", \"Sample 2\", \"Sample 3\", \"Sample 16\", \"Sample 4\", \"Sample 15\", \"Sample 103\", \"Sample 1\", \"Sample 97\", \"Sample 98\", \"Sample 99\", \"Sample 100\", \"Sample 13\", \"Sample 104\"], \"xaxis\": \"x\", \"y\": [null, 13.0, 15.0, 11.0, 2.0, 10.0, 3.0, null, 1.0, 3.0, 8.0, 10.0, 13.0, 15.0, null], \"yaxis\": \"y\"}, {\"alignmentgroup\": \"True\", \"hovertemplate\": \"Organism=Kosmotogales<br>Sample=%{x}<br>Read Count=%{y}<extra></extra>\", \"legendgroup\": \"Kosmotogales\", \"marker\": {\"color\": \"#FF97FF\"}, \"name\": \"Kosmotogales\", \"offsetgroup\": \"Kosmotogales\", \"orientation\": \"v\", \"showlegend\": true, \"textposition\": \"auto\", \"type\": \"bar\", \"x\": [\"Sample 101\", \"Sample 14\", \"Sample 2\", \"Sample 3\", \"Sample 16\", \"Sample 4\", \"Sample 15\", \"Sample 103\", \"Sample 1\", \"Sample 97\", \"Sample 98\", \"Sample 99\", \"Sample 100\", \"Sample 13\", \"Sample 104\"], \"xaxis\": \"x\", \"y\": [null, 1.0, 10.0, 4.0, 1.0, 3.0, 6.0, null, 2.0, 8.0, null, 8.0, 9.0, 6.0, 1.0], \"yaxis\": \"y\"}, {\"alignmentgroup\": \"True\", \"hovertemplate\": \"Organism=bacterium NHP-B<br>Sample=%{x}<br>Read Count=%{y}<extra></extra>\", \"legendgroup\": \"bacterium NHP-B\", \"marker\": {\"color\": \"#FECB52\"}, \"name\": \"bacterium NHP-B\", \"offsetgroup\": \"bacterium NHP-B\", \"orientation\": \"v\", \"showlegend\": true, \"textposition\": \"auto\", \"type\": \"bar\", \"x\": [\"Sample 101\", \"Sample 14\", \"Sample 2\", \"Sample 3\", \"Sample 16\", \"Sample 4\", \"Sample 15\", \"Sample 103\", \"Sample 1\", \"Sample 97\", \"Sample 98\", \"Sample 99\", \"Sample 100\", \"Sample 13\", \"Sample 104\"], \"xaxis\": \"x\", \"y\": [null, null, null, null, null, null, null, null, null, null, null, null, 1.0, null, null], \"yaxis\": \"y\"}, {\"alignmentgroup\": \"True\", \"hovertemplate\": \"Organism=Candidatus Methanoliparales<br>Sample=%{x}<br>Read Count=%{y}<extra></extra>\", \"legendgroup\": \"Candidatus Methanoliparales\", \"marker\": {\"color\": \"#636efa\"}, \"name\": \"Candidatus Methanoliparales\", \"offsetgroup\": \"Candidatus Methanoliparales\", \"orientation\": \"v\", \"showlegend\": true, \"textposition\": \"auto\", \"type\": \"bar\", \"x\": [\"Sample 101\", \"Sample 14\", \"Sample 2\", \"Sample 3\", \"Sample 16\", \"Sample 4\", \"Sample 15\", \"Sample 103\", \"Sample 1\", \"Sample 97\", \"Sample 98\", \"Sample 99\", \"Sample 100\", \"Sample 13\", \"Sample 104\"], \"xaxis\": \"x\", \"y\": [null, null, null, 1.0, null, null, null, null, null, null, 8.0, null, 1.0, null, null], \"yaxis\": \"y\"}, {\"alignmentgroup\": \"True\", \"hovertemplate\": \"Organism=bacterium 1XD42-54<br>Sample=%{x}<br>Read Count=%{y}<extra></extra>\", \"legendgroup\": \"bacterium 1XD42-54\", \"marker\": {\"color\": \"#EF553B\"}, \"name\": \"bacterium 1XD42-54\", \"offsetgroup\": \"bacterium 1XD42-54\", \"orientation\": \"v\", \"showlegend\": true, \"textposition\": \"auto\", \"type\": \"bar\", \"x\": [\"Sample 101\", \"Sample 14\", \"Sample 2\", \"Sample 3\", \"Sample 16\", \"Sample 4\", \"Sample 15\", \"Sample 103\", \"Sample 1\", \"Sample 97\", \"Sample 98\", \"Sample 99\", \"Sample 100\", \"Sample 13\", \"Sample 104\"], \"xaxis\": \"x\", \"y\": [17.0, 21.0, 51.0, 5.0, 16.0, 34.0, 25.0, 19.0, 26.0, 52.0, 26.0, 27.0, 33.0, 25.0, 2.0], \"yaxis\": \"y\"}, {\"alignmentgroup\": \"True\", \"hovertemplate\": \"Organism=Coriobacteriia<br>Sample=%{x}<br>Read Count=%{y}<extra></extra>\", \"legendgroup\": \"Coriobacteriia\", \"marker\": {\"color\": \"#00cc96\"}, \"name\": \"Coriobacteriia\", \"offsetgroup\": \"Coriobacteriia\", \"orientation\": \"v\", \"showlegend\": true, \"textposition\": \"auto\", \"type\": \"bar\", \"x\": [\"Sample 101\", \"Sample 14\", \"Sample 2\", \"Sample 3\", \"Sample 16\", \"Sample 4\", \"Sample 15\", \"Sample 103\", \"Sample 1\", \"Sample 97\", \"Sample 98\", \"Sample 99\", \"Sample 100\", \"Sample 13\", \"Sample 104\"], \"xaxis\": \"x\", \"y\": [360260.0, 167349.0, 237087.0, 235314.0, 250579.0, 327116.0, 344986.0, 237646.0, 586853.0, 264253.0, 421559.0, 491745.0, 339457.0, 352344.0, 69758.0], \"yaxis\": \"y\"}, {\"alignmentgroup\": \"True\", \"hovertemplate\": \"Organism=Holosporales<br>Sample=%{x}<br>Read Count=%{y}<extra></extra>\", \"legendgroup\": \"Holosporales\", \"marker\": {\"color\": \"#ab63fa\"}, \"name\": \"Holosporales\", \"offsetgroup\": \"Holosporales\", \"orientation\": \"v\", \"showlegend\": true, \"textposition\": \"auto\", \"type\": \"bar\", \"x\": [\"Sample 101\", \"Sample 14\", \"Sample 2\", \"Sample 3\", \"Sample 16\", \"Sample 4\", \"Sample 15\", \"Sample 103\", \"Sample 1\", \"Sample 97\", \"Sample 98\", \"Sample 99\", \"Sample 100\", \"Sample 13\", \"Sample 104\"], \"xaxis\": \"x\", \"y\": [null, 1.0, 12.0, 1.0, null, 3.0, 1.0, null, 2.0, 1.0, 1.0, 2.0, 5.0, 5.0, null], \"yaxis\": \"y\"}, {\"alignmentgroup\": \"True\", \"hovertemplate\": \"Organism=Endomicrobiales<br>Sample=%{x}<br>Read Count=%{y}<extra></extra>\", \"legendgroup\": \"Endomicrobiales\", \"marker\": {\"color\": \"#FFA15A\"}, \"name\": \"Endomicrobiales\", \"offsetgroup\": \"Endomicrobiales\", \"orientation\": \"v\", \"showlegend\": true, \"textposition\": \"auto\", \"type\": \"bar\", \"x\": [\"Sample 101\", \"Sample 14\", \"Sample 2\", \"Sample 3\", \"Sample 16\", \"Sample 4\", \"Sample 15\", \"Sample 103\", \"Sample 1\", \"Sample 97\", \"Sample 98\", \"Sample 99\", \"Sample 100\", \"Sample 13\", \"Sample 104\"], \"xaxis\": \"x\", \"y\": [null, null, null, null, null, null, null, 19.0, null, 1.0, null, null, 2.0, 1.0, null], \"yaxis\": \"y\"}, {\"alignmentgroup\": \"True\", \"hovertemplate\": \"Organism=unclassified Bacteroidetes/Chlorobi group<br>Sample=%{x}<br>Read Count=%{y}<extra></extra>\", \"legendgroup\": \"unclassified Bacteroidetes/Chlorobi group\", \"marker\": {\"color\": \"#19d3f3\"}, \"name\": \"unclassified Bacteroidetes/Chlorobi group\", \"offsetgroup\": \"unclassified Bacteroidetes/Chlorobi group\", \"orientation\": \"v\", \"showlegend\": true, \"textposition\": \"auto\", \"type\": \"bar\", \"x\": [\"Sample 101\", \"Sample 14\", \"Sample 2\", \"Sample 3\", \"Sample 16\", \"Sample 4\", \"Sample 15\", \"Sample 103\", \"Sample 1\", \"Sample 97\", \"Sample 98\", \"Sample 99\", \"Sample 100\", \"Sample 13\", \"Sample 104\"], \"xaxis\": \"x\", \"y\": [null, null, 3.0, 1.0, 1.0, null, 2.0, 2.0, null, null, null, 1.0, 1.0, 3.0, null], \"yaxis\": \"y\"}, {\"alignmentgroup\": \"True\", \"hovertemplate\": \"Organism=Spirochaetales<br>Sample=%{x}<br>Read Count=%{y}<extra></extra>\", \"legendgroup\": \"Spirochaetales\", \"marker\": {\"color\": \"#FF6692\"}, \"name\": \"Spirochaetales\", \"offsetgroup\": \"Spirochaetales\", \"orientation\": \"v\", \"showlegend\": true, \"textposition\": \"auto\", \"type\": \"bar\", \"x\": [\"Sample 101\", \"Sample 14\", \"Sample 2\", \"Sample 3\", \"Sample 16\", \"Sample 4\", \"Sample 15\", \"Sample 103\", \"Sample 1\", \"Sample 97\", \"Sample 98\", \"Sample 99\", \"Sample 100\", \"Sample 13\", \"Sample 104\"], \"xaxis\": \"x\", \"y\": [48.0, 264.0, 425.0, 83.0, 75.0, 242.0, 151.0, 72.0, 200.0, 179.0, 148.0, 245.0, 273.0, 263.0, 26.0], \"yaxis\": \"y\"}, {\"alignmentgroup\": \"True\", \"hovertemplate\": \"Organism=Tissierellia<br>Sample=%{x}<br>Read Count=%{y}<extra></extra>\", \"legendgroup\": \"Tissierellia\", \"marker\": {\"color\": \"#B6E880\"}, \"name\": \"Tissierellia\", \"offsetgroup\": \"Tissierellia\", \"orientation\": \"v\", \"showlegend\": true, \"textposition\": \"auto\", \"type\": \"bar\", \"x\": [\"Sample 101\", \"Sample 14\", \"Sample 2\", \"Sample 3\", \"Sample 16\", \"Sample 4\", \"Sample 15\", \"Sample 103\", \"Sample 1\", \"Sample 97\", \"Sample 98\", \"Sample 99\", \"Sample 100\", \"Sample 13\", \"Sample 104\"], \"xaxis\": \"x\", \"y\": [103.0, 830.0, 1116.0, 381.0, 740.0, 1636.0, 620.0, 765.0, 1198.0, 1115.0, 691.0, 1738.0, 1005.0, 3524.0, 6291.0], \"yaxis\": \"y\"}, {\"alignmentgroup\": \"True\", \"hovertemplate\": \"Organism=Chloracidobacterium<br>Sample=%{x}<br>Read Count=%{y}<extra></extra>\", \"legendgroup\": \"Chloracidobacterium\", \"marker\": {\"color\": \"#FF97FF\"}, \"name\": \"Chloracidobacterium\", \"offsetgroup\": \"Chloracidobacterium\", \"orientation\": \"v\", \"showlegend\": true, \"textposition\": \"auto\", \"type\": \"bar\", \"x\": [\"Sample 101\", \"Sample 14\", \"Sample 2\", \"Sample 3\", \"Sample 16\", \"Sample 4\", \"Sample 15\", \"Sample 103\", \"Sample 1\", \"Sample 97\", \"Sample 98\", \"Sample 99\", \"Sample 100\", \"Sample 13\", \"Sample 104\"], \"xaxis\": \"x\", \"y\": [null, null, null, null, null, 1.0, null, null, null, null, 1.0, null, null, 2.0, null], \"yaxis\": \"y\"}, {\"alignmentgroup\": \"True\", \"hovertemplate\": \"Organism=Candidatus Kryptonium<br>Sample=%{x}<br>Read Count=%{y}<extra></extra>\", \"legendgroup\": \"Candidatus Kryptonium\", \"marker\": {\"color\": \"#FECB52\"}, \"name\": \"Candidatus Kryptonium\", \"offsetgroup\": \"Candidatus Kryptonium\", \"orientation\": \"v\", \"showlegend\": true, \"textposition\": \"auto\", \"type\": \"bar\", \"x\": [\"Sample 101\", \"Sample 14\", \"Sample 2\", \"Sample 3\", \"Sample 16\", \"Sample 4\", \"Sample 15\", \"Sample 103\", \"Sample 1\", \"Sample 97\", \"Sample 98\", \"Sample 99\", \"Sample 100\", \"Sample 13\", \"Sample 104\"], \"xaxis\": \"x\", \"y\": [null, null, null, null, null, 1.0, null, null, null, null, null, null, 1.0, null, null], \"yaxis\": \"y\"}, {\"alignmentgroup\": \"True\", \"hovertemplate\": \"Organism=Synergistales<br>Sample=%{x}<br>Read Count=%{y}<extra></extra>\", \"legendgroup\": \"Synergistales\", \"marker\": {\"color\": \"#636efa\"}, \"name\": \"Synergistales\", \"offsetgroup\": \"Synergistales\", \"orientation\": \"v\", \"showlegend\": true, \"textposition\": \"auto\", \"type\": \"bar\", \"x\": [\"Sample 101\", \"Sample 14\", \"Sample 2\", \"Sample 3\", \"Sample 16\", \"Sample 4\", \"Sample 15\", \"Sample 103\", \"Sample 1\", \"Sample 97\", \"Sample 98\", \"Sample 99\", \"Sample 100\", \"Sample 13\", \"Sample 104\"], \"xaxis\": \"x\", \"y\": [83.0, 3686.0, 317.0, 99.0, 2907.0, 349.0, 210.0, 30.0, 411.0, 287.0, 163.0, 275.0, 273.0, 7564.0, 33.0], \"yaxis\": \"y\"}, {\"alignmentgroup\": \"True\", \"hovertemplate\": \"Organism=Candidatus Kryptobacter<br>Sample=%{x}<br>Read Count=%{y}<extra></extra>\", \"legendgroup\": \"Candidatus Kryptobacter\", \"marker\": {\"color\": \"#EF553B\"}, \"name\": \"Candidatus Kryptobacter\", \"offsetgroup\": \"Candidatus Kryptobacter\", \"orientation\": \"v\", \"showlegend\": true, \"textposition\": \"auto\", \"type\": \"bar\", \"x\": [\"Sample 101\", \"Sample 14\", \"Sample 2\", \"Sample 3\", \"Sample 16\", \"Sample 4\", \"Sample 15\", \"Sample 103\", \"Sample 1\", \"Sample 97\", \"Sample 98\", \"Sample 99\", \"Sample 100\", \"Sample 13\", \"Sample 104\"], \"xaxis\": \"x\", \"y\": [null, null, null, null, null, 2.0, null, null, 1.0, 1.0, null, null, null, null, null], \"yaxis\": \"y\"}, {\"alignmentgroup\": \"True\", \"hovertemplate\": \"Organism=Leptospirales<br>Sample=%{x}<br>Read Count=%{y}<extra></extra>\", \"legendgroup\": \"Leptospirales\", \"marker\": {\"color\": \"#00cc96\"}, \"name\": \"Leptospirales\", \"offsetgroup\": \"Leptospirales\", \"orientation\": \"v\", \"showlegend\": true, \"textposition\": \"auto\", \"type\": \"bar\", \"x\": [\"Sample 101\", \"Sample 14\", \"Sample 2\", \"Sample 3\", \"Sample 16\", \"Sample 4\", \"Sample 15\", \"Sample 103\", \"Sample 1\", \"Sample 97\", \"Sample 98\", \"Sample 99\", \"Sample 100\", \"Sample 13\", \"Sample 104\"], \"xaxis\": \"x\", \"y\": [6.0, 21.0, 72.0, 13.0, 14.0, 56.0, 36.0, 9.0, 20.0, 21.0, 19.0, 47.0, 61.0, 36.0, 5.0], \"yaxis\": \"y\"}, {\"alignmentgroup\": \"True\", \"hovertemplate\": \"Organism=Salinisphaerales<br>Sample=%{x}<br>Read Count=%{y}<extra></extra>\", \"legendgroup\": \"Salinisphaerales\", \"marker\": {\"color\": \"#ab63fa\"}, \"name\": \"Salinisphaerales\", \"offsetgroup\": \"Salinisphaerales\", \"orientation\": \"v\", \"showlegend\": true, \"textposition\": \"auto\", \"type\": \"bar\", \"x\": [\"Sample 101\", \"Sample 14\", \"Sample 2\", \"Sample 3\", \"Sample 16\", \"Sample 4\", \"Sample 15\", \"Sample 103\", \"Sample 1\", \"Sample 97\", \"Sample 98\", \"Sample 99\", \"Sample 100\", \"Sample 13\", \"Sample 104\"], \"xaxis\": \"x\", \"y\": [1.0, 3.0, 8.0, 1.0, 12.0, 3.0, 1.0, null, 5.0, 1.0, null, 4.0, 8.0, 14.0, null], \"yaxis\": \"y\"}, {\"alignmentgroup\": \"True\", \"hovertemplate\": \"Organism=bacterium BCRC 81129<br>Sample=%{x}<br>Read Count=%{y}<extra></extra>\", \"legendgroup\": \"bacterium BCRC 81129\", \"marker\": {\"color\": \"#FFA15A\"}, \"name\": \"bacterium BCRC 81129\", \"offsetgroup\": \"bacterium BCRC 81129\", \"orientation\": \"v\", \"showlegend\": true, \"textposition\": \"auto\", \"type\": \"bar\", \"x\": [\"Sample 101\", \"Sample 14\", \"Sample 2\", \"Sample 3\", \"Sample 16\", \"Sample 4\", \"Sample 15\", \"Sample 103\", \"Sample 1\", \"Sample 97\", \"Sample 98\", \"Sample 99\", \"Sample 100\", \"Sample 13\", \"Sample 104\"], \"xaxis\": \"x\", \"y\": [null, null, null, null, null, null, 1.0, null, 1.0, null, null, 1.0, null, null, null], \"yaxis\": \"y\"}, {\"alignmentgroup\": \"True\", \"hovertemplate\": \"Organism=bacterium A37T11<br>Sample=%{x}<br>Read Count=%{y}<extra></extra>\", \"legendgroup\": \"bacterium A37T11\", \"marker\": {\"color\": \"#19d3f3\"}, \"name\": \"bacterium A37T11\", \"offsetgroup\": \"bacterium A37T11\", \"orientation\": \"v\", \"showlegend\": true, \"textposition\": \"auto\", \"type\": \"bar\", \"x\": [\"Sample 101\", \"Sample 14\", \"Sample 2\", \"Sample 3\", \"Sample 16\", \"Sample 4\", \"Sample 15\", \"Sample 103\", \"Sample 1\", \"Sample 97\", \"Sample 98\", \"Sample 99\", \"Sample 100\", \"Sample 13\", \"Sample 104\"], \"xaxis\": \"x\", \"y\": [null, null, null, null, null, null, null, null, null, null, null, 2.0, null, null, null], \"yaxis\": \"y\"}, {\"alignmentgroup\": \"True\", \"hovertemplate\": \"Organism=unclassified Armatimonadetes<br>Sample=%{x}<br>Read Count=%{y}<extra></extra>\", \"legendgroup\": \"unclassified Armatimonadetes\", \"marker\": {\"color\": \"#FF6692\"}, \"name\": \"unclassified Armatimonadetes\", \"offsetgroup\": \"unclassified Armatimonadetes\", \"orientation\": \"v\", \"showlegend\": true, \"textposition\": \"auto\", \"type\": \"bar\", \"x\": [\"Sample 101\", \"Sample 14\", \"Sample 2\", \"Sample 3\", \"Sample 16\", \"Sample 4\", \"Sample 15\", \"Sample 103\", \"Sample 1\", \"Sample 97\", \"Sample 98\", \"Sample 99\", \"Sample 100\", \"Sample 13\", \"Sample 104\"], \"xaxis\": \"x\", \"y\": [null, 1.0, null, 1.0, null, null, 2.0, null, null, null, null, 1.0, 2.0, 2.0, null], \"yaxis\": \"y\"}, {\"alignmentgroup\": \"True\", \"hovertemplate\": \"Organism=Aeromonadales<br>Sample=%{x}<br>Read Count=%{y}<extra></extra>\", \"legendgroup\": \"Aeromonadales\", \"marker\": {\"color\": \"#B6E880\"}, \"name\": \"Aeromonadales\", \"offsetgroup\": \"Aeromonadales\", \"orientation\": \"v\", \"showlegend\": true, \"textposition\": \"auto\", \"type\": \"bar\", \"x\": [\"Sample 101\", \"Sample 14\", \"Sample 2\", \"Sample 3\", \"Sample 16\", \"Sample 4\", \"Sample 15\", \"Sample 103\", \"Sample 1\", \"Sample 97\", \"Sample 98\", \"Sample 99\", \"Sample 100\", \"Sample 13\", \"Sample 104\"], \"xaxis\": \"x\", \"y\": [210.0, 174.0, 114.0, 39.0, 41.0, 132.0, 193.0, 12.0, 49.0, 59.0, 138.0, 129.0, 379.0, 118.0, 17.0], \"yaxis\": \"y\"}, {\"alignmentgroup\": \"True\", \"hovertemplate\": \"Organism=Pasteurellales<br>Sample=%{x}<br>Read Count=%{y}<extra></extra>\", \"legendgroup\": \"Pasteurellales\", \"marker\": {\"color\": \"#FF97FF\"}, \"name\": \"Pasteurellales\", \"offsetgroup\": \"Pasteurellales\", \"orientation\": \"v\", \"showlegend\": true, \"textposition\": \"auto\", \"type\": \"bar\", \"x\": [\"Sample 101\", \"Sample 14\", \"Sample 2\", \"Sample 3\", \"Sample 16\", \"Sample 4\", \"Sample 15\", \"Sample 103\", \"Sample 1\", \"Sample 97\", \"Sample 98\", \"Sample 99\", \"Sample 100\", \"Sample 13\", \"Sample 104\"], \"xaxis\": \"x\", \"y\": [1984.0, 17592.0, 837.0, 6205.0, 126.0, 2248.0, 6904.0, 9232.0, 4588.0, 202.0, 336.0, 1208.0, 436.0, 178.0, 39.0], \"yaxis\": \"y\"}, {\"alignmentgroup\": \"True\", \"hovertemplate\": \"Organism=Phycisphaerae<br>Sample=%{x}<br>Read Count=%{y}<extra></extra>\", \"legendgroup\": \"Phycisphaerae\", \"marker\": {\"color\": \"#FECB52\"}, \"name\": \"Phycisphaerae\", \"offsetgroup\": \"Phycisphaerae\", \"orientation\": \"v\", \"showlegend\": true, \"textposition\": \"auto\", \"type\": \"bar\", \"x\": [\"Sample 101\", \"Sample 14\", \"Sample 2\", \"Sample 3\", \"Sample 16\", \"Sample 4\", \"Sample 15\", \"Sample 103\", \"Sample 1\", \"Sample 97\", \"Sample 98\", \"Sample 99\", \"Sample 100\", \"Sample 13\", \"Sample 104\"], \"xaxis\": \"x\", \"y\": [1.0, 8.0, 5.0, 5.0, 3.0, 4.0, 5.0, null, null, 3.0, 1.0, 4.0, 7.0, 12.0, null], \"yaxis\": \"y\"}, {\"alignmentgroup\": \"True\", \"hovertemplate\": \"Organism=Planctomycetia<br>Sample=%{x}<br>Read Count=%{y}<extra></extra>\", \"legendgroup\": \"Planctomycetia\", \"marker\": {\"color\": \"#636efa\"}, \"name\": \"Planctomycetia\", \"offsetgroup\": \"Planctomycetia\", \"orientation\": \"v\", \"showlegend\": true, \"textposition\": \"auto\", \"type\": \"bar\", \"x\": [\"Sample 101\", \"Sample 14\", \"Sample 2\", \"Sample 3\", \"Sample 16\", \"Sample 4\", \"Sample 15\", \"Sample 103\", \"Sample 1\", \"Sample 97\", \"Sample 98\", \"Sample 99\", \"Sample 100\", \"Sample 13\", \"Sample 104\"], \"xaxis\": \"x\", \"y\": [31.0, 69.0, 91.0, 31.0, 52.0, 72.0, 41.0, 1.0, 52.0, 27.0, 38.0, 72.0, 95.0, 94.0, 6.0], \"yaxis\": \"y\"}, {\"alignmentgroup\": \"True\", \"hovertemplate\": \"Organism=Chthonomonadetes<br>Sample=%{x}<br>Read Count=%{y}<extra></extra>\", \"legendgroup\": \"Chthonomonadetes\", \"marker\": {\"color\": \"#EF553B\"}, \"name\": \"Chthonomonadetes\", \"offsetgroup\": \"Chthonomonadetes\", \"orientation\": \"v\", \"showlegend\": true, \"textposition\": \"auto\", \"type\": \"bar\", \"x\": [\"Sample 101\", \"Sample 14\", \"Sample 2\", \"Sample 3\", \"Sample 16\", \"Sample 4\", \"Sample 15\", \"Sample 103\", \"Sample 1\", \"Sample 97\", \"Sample 98\", \"Sample 99\", \"Sample 100\", \"Sample 13\", \"Sample 104\"], \"xaxis\": \"x\", \"y\": [1.0, 3.0, 1.0, 1.0, null, null, 1.0, 1.0, 1.0, 1.0, 1.0, 2.0, 2.0, 10.0, null], \"yaxis\": \"y\"}, {\"alignmentgroup\": \"True\", \"hovertemplate\": \"Organism=unclassified Firmicutes sensu stricto<br>Sample=%{x}<br>Read Count=%{y}<extra></extra>\", \"legendgroup\": \"unclassified Firmicutes sensu stricto\", \"marker\": {\"color\": \"#00cc96\"}, \"name\": \"unclassified Firmicutes sensu stricto\", \"offsetgroup\": \"unclassified Firmicutes sensu stricto\", \"orientation\": \"v\", \"showlegend\": true, \"textposition\": \"auto\", \"type\": \"bar\", \"x\": [\"Sample 101\", \"Sample 14\", \"Sample 2\", \"Sample 3\", \"Sample 16\", \"Sample 4\", \"Sample 15\", \"Sample 103\", \"Sample 1\", \"Sample 97\", \"Sample 98\", \"Sample 99\", \"Sample 100\", \"Sample 13\", \"Sample 104\"], \"xaxis\": \"x\", \"y\": [75205.0, 97870.0, 111690.0, 119322.0, 25819.0, 65380.0, 156244.0, 864652.0, 155417.0, 569163.0, 519915.0, 79677.0, 100031.0, 167330.0, 14677.0], \"yaxis\": \"y\"}, {\"alignmentgroup\": \"True\", \"hovertemplate\": \"Organism=Thermoleophilia<br>Sample=%{x}<br>Read Count=%{y}<extra></extra>\", \"legendgroup\": \"Thermoleophilia\", \"marker\": {\"color\": \"#ab63fa\"}, \"name\": \"Thermoleophilia\", \"offsetgroup\": \"Thermoleophilia\", \"orientation\": \"v\", \"showlegend\": true, \"textposition\": \"auto\", \"type\": \"bar\", \"x\": [\"Sample 101\", \"Sample 14\", \"Sample 2\", \"Sample 3\", \"Sample 16\", \"Sample 4\", \"Sample 15\", \"Sample 103\", \"Sample 1\", \"Sample 97\", \"Sample 98\", \"Sample 99\", \"Sample 100\", \"Sample 13\", \"Sample 104\"], \"xaxis\": \"x\", \"y\": [3.0, 10.0, 19.0, 11.0, 6.0, 15.0, 11.0, 2.0, 16.0, 9.0, 5.0, 15.0, 24.0, 32.0, 1.0], \"yaxis\": \"y\"}, {\"alignmentgroup\": \"True\", \"hovertemplate\": \"Organism=bacterium JKG1<br>Sample=%{x}<br>Read Count=%{y}<extra></extra>\", \"legendgroup\": \"bacterium JKG1\", \"marker\": {\"color\": \"#FFA15A\"}, \"name\": \"bacterium JKG1\", \"offsetgroup\": \"bacterium JKG1\", \"orientation\": \"v\", \"showlegend\": true, \"textposition\": \"auto\", \"type\": \"bar\", \"x\": [\"Sample 101\", \"Sample 14\", \"Sample 2\", \"Sample 3\", \"Sample 16\", \"Sample 4\", \"Sample 15\", \"Sample 103\", \"Sample 1\", \"Sample 97\", \"Sample 98\", \"Sample 99\", \"Sample 100\", \"Sample 13\", \"Sample 104\"], \"xaxis\": \"x\", \"y\": [1.0, null, 21.0, null, null, null, null, null, null, 10.0, null, 2.0, 1.0, null, null], \"yaxis\": \"y\"}, {\"alignmentgroup\": \"True\", \"hovertemplate\": \"Organism=Micropepsales<br>Sample=%{x}<br>Read Count=%{y}<extra></extra>\", \"legendgroup\": \"Micropepsales\", \"marker\": {\"color\": \"#19d3f3\"}, \"name\": \"Micropepsales\", \"offsetgroup\": \"Micropepsales\", \"orientation\": \"v\", \"showlegend\": true, \"textposition\": \"auto\", \"type\": \"bar\", \"x\": [\"Sample 101\", \"Sample 14\", \"Sample 2\", \"Sample 3\", \"Sample 16\", \"Sample 4\", \"Sample 15\", \"Sample 103\", \"Sample 1\", \"Sample 97\", \"Sample 98\", \"Sample 99\", \"Sample 100\", \"Sample 13\", \"Sample 104\"], \"xaxis\": \"x\", \"y\": [null, null, null, null, 1.0, 3.0, null, null, 2.0, null, null, null, null, 3.0, null], \"yaxis\": \"y\"}, {\"alignmentgroup\": \"True\", \"hovertemplate\": \"Organism=unclassified Tenericutes<br>Sample=%{x}<br>Read Count=%{y}<extra></extra>\", \"legendgroup\": \"unclassified Tenericutes\", \"marker\": {\"color\": \"#FF6692\"}, \"name\": \"unclassified Tenericutes\", \"offsetgroup\": \"unclassified Tenericutes\", \"orientation\": \"v\", \"showlegend\": true, \"textposition\": \"auto\", \"type\": \"bar\", \"x\": [\"Sample 101\", \"Sample 14\", \"Sample 2\", \"Sample 3\", \"Sample 16\", \"Sample 4\", \"Sample 15\", \"Sample 103\", \"Sample 1\", \"Sample 97\", \"Sample 98\", \"Sample 99\", \"Sample 100\", \"Sample 13\", \"Sample 104\"], \"xaxis\": \"x\", \"y\": [null, 4.0, 4.0, 1.0, 1.0, 33.0, 1.0, null, 12.0, 20.0, 3.0, 7.0, 4.0, 17.0, 1.0], \"yaxis\": \"y\"}, {\"alignmentgroup\": \"True\", \"hovertemplate\": \"Organism=Natronospirillum operossus<br>Sample=%{x}<br>Read Count=%{y}<extra></extra>\", \"legendgroup\": \"Natronospirillum operossus\", \"marker\": {\"color\": \"#B6E880\"}, \"name\": \"Natronospirillum operossus\", \"offsetgroup\": \"Natronospirillum operossus\", \"orientation\": \"v\", \"showlegend\": true, \"textposition\": \"auto\", \"type\": \"bar\", \"x\": [\"Sample 101\", \"Sample 14\", \"Sample 2\", \"Sample 3\", \"Sample 16\", \"Sample 4\", \"Sample 15\", \"Sample 103\", \"Sample 1\", \"Sample 97\", \"Sample 98\", \"Sample 99\", \"Sample 100\", \"Sample 13\", \"Sample 104\"], \"xaxis\": \"x\", \"y\": [null, null, 1.0, null, null, null, null, null, null, null, null, 1.0, 1.0, 3.0, null], \"yaxis\": \"y\"}, {\"alignmentgroup\": \"True\", \"hovertemplate\": \"Organism=Acidobacteriales<br>Sample=%{x}<br>Read Count=%{y}<extra></extra>\", \"legendgroup\": \"Acidobacteriales\", \"marker\": {\"color\": \"#FF97FF\"}, \"name\": \"Acidobacteriales\", \"offsetgroup\": \"Acidobacteriales\", \"orientation\": \"v\", \"showlegend\": true, \"textposition\": \"auto\", \"type\": \"bar\", \"x\": [\"Sample 101\", \"Sample 14\", \"Sample 2\", \"Sample 3\", \"Sample 16\", \"Sample 4\", \"Sample 15\", \"Sample 103\", \"Sample 1\", \"Sample 97\", \"Sample 98\", \"Sample 99\", \"Sample 100\", \"Sample 13\", \"Sample 104\"], \"xaxis\": \"x\", \"y\": [18.0, 42.0, 88.0, 38.0, 20.0, 70.0, 24.0, 8.0, 27.0, 29.0, 28.0, 42.0, 71.0, 71.0, 7.0], \"yaxis\": \"y\"}, {\"alignmentgroup\": \"True\", \"hovertemplate\": \"Organism=bacterium 0.1xD8-71<br>Sample=%{x}<br>Read Count=%{y}<extra></extra>\", \"legendgroup\": \"bacterium 0.1xD8-71\", \"marker\": {\"color\": \"#FECB52\"}, \"name\": \"bacterium 0.1xD8-71\", \"offsetgroup\": \"bacterium 0.1xD8-71\", \"orientation\": \"v\", \"showlegend\": true, \"textposition\": \"auto\", \"type\": \"bar\", \"x\": [\"Sample 101\", \"Sample 14\", \"Sample 2\", \"Sample 3\", \"Sample 16\", \"Sample 4\", \"Sample 15\", \"Sample 103\", \"Sample 1\", \"Sample 97\", \"Sample 98\", \"Sample 99\", \"Sample 100\", \"Sample 13\", \"Sample 104\"], \"xaxis\": \"x\", \"y\": [2.0, 41.0, 97.0, 4.0, 7.0, 14.0, 6.0, 11.0, 7.0, 17.0, 102.0, 16.0, 14.0, 18.0, 1.0], \"yaxis\": \"y\"}, {\"alignmentgroup\": \"True\", \"hovertemplate\": \"Organism=Dikarya<br>Sample=%{x}<br>Read Count=%{y}<extra></extra>\", \"legendgroup\": \"Dikarya\", \"marker\": {\"color\": \"#636efa\"}, \"name\": \"Dikarya\", \"offsetgroup\": \"Dikarya\", \"orientation\": \"v\", \"showlegend\": true, \"textposition\": \"auto\", \"type\": \"bar\", \"x\": [\"Sample 101\", \"Sample 14\", \"Sample 2\", \"Sample 3\", \"Sample 16\", \"Sample 4\", \"Sample 15\", \"Sample 103\", \"Sample 1\", \"Sample 97\", \"Sample 98\", \"Sample 99\", \"Sample 100\", \"Sample 13\", \"Sample 104\"], \"xaxis\": \"x\", \"y\": [789.0, 3221.0, 1194.0, 522.0, 806.0, 859.0, 3425.0, 148.0, 789.0, 2215.0, 352.0, 1389.0, 1469.0, 881.0, 112.0], \"yaxis\": \"y\"}, {\"alignmentgroup\": \"True\", \"hovertemplate\": \"Organism=bacterium 1xD42-11<br>Sample=%{x}<br>Read Count=%{y}<extra></extra>\", \"legendgroup\": \"bacterium 1xD42-11\", \"marker\": {\"color\": \"#EF553B\"}, \"name\": \"bacterium 1xD42-11\", \"offsetgroup\": \"bacterium 1xD42-11\", \"orientation\": \"v\", \"showlegend\": true, \"textposition\": \"auto\", \"type\": \"bar\", \"x\": [\"Sample 101\", \"Sample 14\", \"Sample 2\", \"Sample 3\", \"Sample 16\", \"Sample 4\", \"Sample 15\", \"Sample 103\", \"Sample 1\", \"Sample 97\", \"Sample 98\", \"Sample 99\", \"Sample 100\", \"Sample 13\", \"Sample 104\"], \"xaxis\": \"x\", \"y\": [null, null, 5.0, null, null, 1.0, null, null, 3.0, null, 2.0, null, 1.0, 23.0, null], \"yaxis\": \"y\"}, {\"alignmentgroup\": \"True\", \"hovertemplate\": \"Organism=Brachyspirales<br>Sample=%{x}<br>Read Count=%{y}<extra></extra>\", \"legendgroup\": \"Brachyspirales\", \"marker\": {\"color\": \"#00cc96\"}, \"name\": \"Brachyspirales\", \"offsetgroup\": \"Brachyspirales\", \"orientation\": \"v\", \"showlegend\": true, \"textposition\": \"auto\", \"type\": \"bar\", \"x\": [\"Sample 101\", \"Sample 14\", \"Sample 2\", \"Sample 3\", \"Sample 16\", \"Sample 4\", \"Sample 15\", \"Sample 103\", \"Sample 1\", \"Sample 97\", \"Sample 98\", \"Sample 99\", \"Sample 100\", \"Sample 13\", \"Sample 104\"], \"xaxis\": \"x\", \"y\": [4.0, 140.0, 57.0, 8.0, 21.0, 46.0, 29.0, 33.0, 89.0, 98.0, 23.0, 82.0, 62.0, 99.0, 8.0], \"yaxis\": \"y\"}, {\"alignmentgroup\": \"True\", \"hovertemplate\": \"Organism=Candidatus Entotheonella<br>Sample=%{x}<br>Read Count=%{y}<extra></extra>\", \"legendgroup\": \"Candidatus Entotheonella\", \"marker\": {\"color\": \"#ab63fa\"}, \"name\": \"Candidatus Entotheonella\", \"offsetgroup\": \"Candidatus Entotheonella\", \"orientation\": \"v\", \"showlegend\": true, \"textposition\": \"auto\", \"type\": \"bar\", \"x\": [\"Sample 101\", \"Sample 14\", \"Sample 2\", \"Sample 3\", \"Sample 16\", \"Sample 4\", \"Sample 15\", \"Sample 103\", \"Sample 1\", \"Sample 97\", \"Sample 98\", \"Sample 99\", \"Sample 100\", \"Sample 13\", \"Sample 104\"], \"xaxis\": \"x\", \"y\": [null, 4.0, null, 1.0, 10.0, 1.0, 2.0, null, 2.0, 1.0, null, null, 1.0, 2.0, null], \"yaxis\": \"y\"}, {\"alignmentgroup\": \"True\", \"hovertemplate\": \"Organism=bacterium SGD-2<br>Sample=%{x}<br>Read Count=%{y}<extra></extra>\", \"legendgroup\": \"bacterium SGD-2\", \"marker\": {\"color\": \"#FFA15A\"}, \"name\": \"bacterium SGD-2\", \"offsetgroup\": \"bacterium SGD-2\", \"orientation\": \"v\", \"showlegend\": true, \"textposition\": \"auto\", \"type\": \"bar\", \"x\": [\"Sample 101\", \"Sample 14\", \"Sample 2\", \"Sample 3\", \"Sample 16\", \"Sample 4\", \"Sample 15\", \"Sample 103\", \"Sample 1\", \"Sample 97\", \"Sample 98\", \"Sample 99\", \"Sample 100\", \"Sample 13\", \"Sample 104\"], \"xaxis\": \"x\", \"y\": [null, null, null, 2.0, 2.0, null, null, null, null, 1.0, null, null, 6.0, null, null], \"yaxis\": \"y\"}, {\"alignmentgroup\": \"True\", \"hovertemplate\": \"Organism=Legionellales<br>Sample=%{x}<br>Read Count=%{y}<extra></extra>\", \"legendgroup\": \"Legionellales\", \"marker\": {\"color\": \"#19d3f3\"}, \"name\": \"Legionellales\", \"offsetgroup\": \"Legionellales\", \"orientation\": \"v\", \"showlegend\": true, \"textposition\": \"auto\", \"type\": \"bar\", \"x\": [\"Sample 101\", \"Sample 14\", \"Sample 2\", \"Sample 3\", \"Sample 16\", \"Sample 4\", \"Sample 15\", \"Sample 103\", \"Sample 1\", \"Sample 97\", \"Sample 98\", \"Sample 99\", \"Sample 100\", \"Sample 13\", \"Sample 104\"], \"xaxis\": \"x\", \"y\": [62.0, 60.0, 24.0, 4.0, 46.0, 50.0, 10.0, 16.0, 24.0, 13.0, 24.0, 25.0, 29.0, 97.0, 7.0], \"yaxis\": \"y\"}, {\"alignmentgroup\": \"True\", \"hovertemplate\": \"Organism=Rhodospirillales<br>Sample=%{x}<br>Read Count=%{y}<extra></extra>\", \"legendgroup\": \"Rhodospirillales\", \"marker\": {\"color\": \"#FF6692\"}, \"name\": \"Rhodospirillales\", \"offsetgroup\": \"Rhodospirillales\", \"orientation\": \"v\", \"showlegend\": true, \"textposition\": \"auto\", \"type\": \"bar\", \"x\": [\"Sample 101\", \"Sample 14\", \"Sample 2\", \"Sample 3\", \"Sample 16\", \"Sample 4\", \"Sample 15\", \"Sample 103\", \"Sample 1\", \"Sample 97\", \"Sample 98\", \"Sample 99\", \"Sample 100\", \"Sample 13\", \"Sample 104\"], \"xaxis\": \"x\", \"y\": [1267.0, 430.0, 1575.0, 116.0, 640.0, 929.0, 388.0, 176.0, 271.0, 234.0, 99.0, 296.0, 422.0, 783.0, 80.0], \"yaxis\": \"y\"}, {\"alignmentgroup\": \"True\", \"hovertemplate\": \"Organism=Chloroflexia<br>Sample=%{x}<br>Read Count=%{y}<extra></extra>\", \"legendgroup\": \"Chloroflexia\", \"marker\": {\"color\": \"#B6E880\"}, \"name\": \"Chloroflexia\", \"offsetgroup\": \"Chloroflexia\", \"orientation\": \"v\", \"showlegend\": true, \"textposition\": \"auto\", \"type\": \"bar\", \"x\": [\"Sample 101\", \"Sample 14\", \"Sample 2\", \"Sample 3\", \"Sample 16\", \"Sample 4\", \"Sample 15\", \"Sample 103\", \"Sample 1\", \"Sample 97\", \"Sample 98\", \"Sample 99\", \"Sample 100\", \"Sample 13\", \"Sample 104\"], \"xaxis\": \"x\", \"y\": [1.0, 10.0, 27.0, 3.0, 4.0, 13.0, 9.0, 1.0, 11.0, 24.0, 6.0, 20.0, 25.0, 27.0, 4.0], \"yaxis\": \"y\"}, {\"alignmentgroup\": \"True\", \"hovertemplate\": \"Organism=Opitutae<br>Sample=%{x}<br>Read Count=%{y}<extra></extra>\", \"legendgroup\": \"Opitutae\", \"marker\": {\"color\": \"#FF97FF\"}, \"name\": \"Opitutae\", \"offsetgroup\": \"Opitutae\", \"orientation\": \"v\", \"showlegend\": true, \"textposition\": \"auto\", \"type\": \"bar\", \"x\": [\"Sample 101\", \"Sample 14\", \"Sample 2\", \"Sample 3\", \"Sample 16\", \"Sample 4\", \"Sample 15\", \"Sample 103\", \"Sample 1\", \"Sample 97\", \"Sample 98\", \"Sample 99\", \"Sample 100\", \"Sample 13\", \"Sample 104\"], \"xaxis\": \"x\", \"y\": [9.0, 40.0, 484.0, 34.0, 9.0, 139.0, 77.0, 4.0, 21.0, 28.0, 35.0, 153.0, 92.0, 129.0, 7.0], \"yaxis\": \"y\"}, {\"alignmentgroup\": \"True\", \"hovertemplate\": \"Organism=Armatimonadia<br>Sample=%{x}<br>Read Count=%{y}<extra></extra>\", \"legendgroup\": \"Armatimonadia\", \"marker\": {\"color\": \"#FECB52\"}, \"name\": \"Armatimonadia\", \"offsetgroup\": \"Armatimonadia\", \"orientation\": \"v\", \"showlegend\": true, \"textposition\": \"auto\", \"type\": \"bar\", \"x\": [\"Sample 101\", \"Sample 14\", \"Sample 2\", \"Sample 3\", \"Sample 16\", \"Sample 4\", \"Sample 15\", \"Sample 103\", \"Sample 1\", \"Sample 97\", \"Sample 98\", \"Sample 99\", \"Sample 100\", \"Sample 13\", \"Sample 104\"], \"xaxis\": \"x\", \"y\": [null, 1.0, 3.0, 1.0, 1.0, 7.0, 1.0, 1.0, 4.0, 1.0, null, 1.0, 4.0, 15.0, null], \"yaxis\": \"y\"}, {\"alignmentgroup\": \"True\", \"hovertemplate\": \"Organism=Fimbriimonadia<br>Sample=%{x}<br>Read Count=%{y}<extra></extra>\", \"legendgroup\": \"Fimbriimonadia\", \"marker\": {\"color\": \"#636efa\"}, \"name\": \"Fimbriimonadia\", \"offsetgroup\": \"Fimbriimonadia\", \"orientation\": \"v\", \"showlegend\": true, \"textposition\": \"auto\", \"type\": \"bar\", \"x\": [\"Sample 101\", \"Sample 14\", \"Sample 2\", \"Sample 3\", \"Sample 16\", \"Sample 4\", \"Sample 15\", \"Sample 103\", \"Sample 1\", \"Sample 97\", \"Sample 98\", \"Sample 99\", \"Sample 100\", \"Sample 13\", \"Sample 104\"], \"xaxis\": \"x\", \"y\": [null, null, 1.0, 1.0, null, 1.0, null, null, 3.0, 1.0, null, 1.0, null, 2.0, null], \"yaxis\": \"y\"}, {\"alignmentgroup\": \"True\", \"hovertemplate\": \"Organism=Candidatus Dependentiae<br>Sample=%{x}<br>Read Count=%{y}<extra></extra>\", \"legendgroup\": \"Candidatus Dependentiae\", \"marker\": {\"color\": \"#EF553B\"}, \"name\": \"Candidatus Dependentiae\", \"offsetgroup\": \"Candidatus Dependentiae\", \"orientation\": \"v\", \"showlegend\": true, \"textposition\": \"auto\", \"type\": \"bar\", \"x\": [\"Sample 101\", \"Sample 14\", \"Sample 2\", \"Sample 3\", \"Sample 16\", \"Sample 4\", \"Sample 15\", \"Sample 103\", \"Sample 1\", \"Sample 97\", \"Sample 98\", \"Sample 99\", \"Sample 100\", \"Sample 13\", \"Sample 104\"], \"xaxis\": \"x\", \"y\": [null, null, 2.0, null, null, null, null, 1.0, null, 1.0, null, null, null, 1.0, null], \"yaxis\": \"y\"}, {\"alignmentgroup\": \"True\", \"hovertemplate\": \"Organism=unclassified Proteobacteria (miscellaneous)<br>Sample=%{x}<br>Read Count=%{y}<extra></extra>\", \"legendgroup\": \"unclassified Proteobacteria (miscellaneous)\", \"marker\": {\"color\": \"#00cc96\"}, \"name\": \"unclassified Proteobacteria (miscellaneous)\", \"offsetgroup\": \"unclassified Proteobacteria (miscellaneous)\", \"orientation\": \"v\", \"showlegend\": true, \"textposition\": \"auto\", \"type\": \"bar\", \"x\": [\"Sample 101\", \"Sample 14\", \"Sample 2\", \"Sample 3\", \"Sample 16\", \"Sample 4\", \"Sample 15\", \"Sample 103\", \"Sample 1\", \"Sample 97\", \"Sample 98\", \"Sample 99\", \"Sample 100\", \"Sample 13\", \"Sample 104\"], \"xaxis\": \"x\", \"y\": [1.0, null, null, null, null, 1.0, null, null, 1.0, null, null, null, null, 1.0, null], \"yaxis\": \"y\"}, {\"alignmentgroup\": \"True\", \"hovertemplate\": \"Organism=bacterium 0.1xD8-82<br>Sample=%{x}<br>Read Count=%{y}<extra></extra>\", \"legendgroup\": \"bacterium 0.1xD8-82\", \"marker\": {\"color\": \"#ab63fa\"}, \"name\": \"bacterium 0.1xD8-82\", \"offsetgroup\": \"bacterium 0.1xD8-82\", \"orientation\": \"v\", \"showlegend\": true, \"textposition\": \"auto\", \"type\": \"bar\", \"x\": [\"Sample 101\", \"Sample 14\", \"Sample 2\", \"Sample 3\", \"Sample 16\", \"Sample 4\", \"Sample 15\", \"Sample 103\", \"Sample 1\", \"Sample 97\", \"Sample 98\", \"Sample 99\", \"Sample 100\", \"Sample 13\", \"Sample 104\"], \"xaxis\": \"x\", \"y\": [38.0, 39.0, 34.0, 3.0, 13.0, 12.0, 32.0, 6.0, 6.0, 24.0, 11.0, 18.0, 18.0, 29.0, 1.0], \"yaxis\": \"y\"}, {\"alignmentgroup\": \"True\", \"hovertemplate\": \"Organism=Nitrosomonadales<br>Sample=%{x}<br>Read Count=%{y}<extra></extra>\", \"legendgroup\": \"Nitrosomonadales\", \"marker\": {\"color\": \"#FFA15A\"}, \"name\": \"Nitrosomonadales\", \"offsetgroup\": \"Nitrosomonadales\", \"orientation\": \"v\", \"showlegend\": true, \"textposition\": \"auto\", \"type\": \"bar\", \"x\": [\"Sample 101\", \"Sample 14\", \"Sample 2\", \"Sample 3\", \"Sample 16\", \"Sample 4\", \"Sample 15\", \"Sample 103\", \"Sample 1\", \"Sample 97\", \"Sample 98\", \"Sample 99\", \"Sample 100\", \"Sample 13\", \"Sample 104\"], \"xaxis\": \"x\", \"y\": [34.0, 41.0, 145.0, 27.0, 31.0, 64.0, 28.0, 5.0, 54.0, 68.0, 16.0, 60.0, 79.0, 80.0, 12.0], \"yaxis\": \"y\"}, {\"alignmentgroup\": \"True\", \"hovertemplate\": \"Organism=candidate division Zixibacteria bacterium<br>Sample=%{x}<br>Read Count=%{y}<extra></extra>\", \"legendgroup\": \"candidate division Zixibacteria bacterium\", \"marker\": {\"color\": \"#19d3f3\"}, \"name\": \"candidate division Zixibacteria bacterium\", \"offsetgroup\": \"candidate division Zixibacteria bacterium\", \"orientation\": \"v\", \"showlegend\": true, \"textposition\": \"auto\", \"type\": \"bar\", \"x\": [\"Sample 101\", \"Sample 14\", \"Sample 2\", \"Sample 3\", \"Sample 16\", \"Sample 4\", \"Sample 15\", \"Sample 103\", \"Sample 1\", \"Sample 97\", \"Sample 98\", \"Sample 99\", \"Sample 100\", \"Sample 13\", \"Sample 104\"], \"xaxis\": \"x\", \"y\": [null, null, 1.0, null, null, null, null, null, null, null, null, null, null, 2.0, null], \"yaxis\": \"y\"}, {\"alignmentgroup\": \"True\", \"hovertemplate\": \"Organism=Halobacteria<br>Sample=%{x}<br>Read Count=%{y}<extra></extra>\", \"legendgroup\": \"Halobacteria\", \"marker\": {\"color\": \"#FF6692\"}, \"name\": \"Halobacteria\", \"offsetgroup\": \"Halobacteria\", \"orientation\": \"v\", \"showlegend\": true, \"textposition\": \"auto\", \"type\": \"bar\", \"x\": [\"Sample 101\", \"Sample 14\", \"Sample 2\", \"Sample 3\", \"Sample 16\", \"Sample 4\", \"Sample 15\", \"Sample 103\", \"Sample 1\", \"Sample 97\", \"Sample 98\", \"Sample 99\", \"Sample 100\", \"Sample 13\", \"Sample 104\"], \"xaxis\": \"x\", \"y\": [29.0, 94.0, 174.0, 42.0, 51.0, 110.0, 88.0, 7.0, 165.0, 93.0, 42.0, 92.0, 109.0, 187.0, 52.0], \"yaxis\": \"y\"}, {\"alignmentgroup\": \"True\", \"hovertemplate\": \"Organism=Coprothermobacterales<br>Sample=%{x}<br>Read Count=%{y}<extra></extra>\", \"legendgroup\": \"Coprothermobacterales\", \"marker\": {\"color\": \"#B6E880\"}, \"name\": \"Coprothermobacterales\", \"offsetgroup\": \"Coprothermobacterales\", \"orientation\": \"v\", \"showlegend\": true, \"textposition\": \"auto\", \"type\": \"bar\", \"x\": [\"Sample 101\", \"Sample 14\", \"Sample 2\", \"Sample 3\", \"Sample 16\", \"Sample 4\", \"Sample 15\", \"Sample 103\", \"Sample 1\", \"Sample 97\", \"Sample 98\", \"Sample 99\", \"Sample 100\", \"Sample 13\", \"Sample 104\"], \"xaxis\": \"x\", \"y\": [1.0, 1.0, 1.0, 1.0, null, 1.0, 1.0, null, null, 1.0, null, 1.0, 1.0, null, null], \"yaxis\": \"y\"}, {\"alignmentgroup\": \"True\", \"hovertemplate\": \"Organism=Bdellovibrionales<br>Sample=%{x}<br>Read Count=%{y}<extra></extra>\", \"legendgroup\": \"Bdellovibrionales\", \"marker\": {\"color\": \"#FF97FF\"}, \"name\": \"Bdellovibrionales\", \"offsetgroup\": \"Bdellovibrionales\", \"orientation\": \"v\", \"showlegend\": true, \"textposition\": \"auto\", \"type\": \"bar\", \"x\": [\"Sample 101\", \"Sample 14\", \"Sample 2\", \"Sample 3\", \"Sample 16\", \"Sample 4\", \"Sample 15\", \"Sample 103\", \"Sample 1\", \"Sample 97\", \"Sample 98\", \"Sample 99\", \"Sample 100\", \"Sample 13\", \"Sample 104\"], \"xaxis\": \"x\", \"y\": [1.0, 4.0, 10.0, null, 8.0, 22.0, null, null, 2.0, 3.0, 3.0, 3.0, 12.0, 3.0, null], \"yaxis\": \"y\"}, {\"alignmentgroup\": \"True\", \"hovertemplate\": \"Organism=unclassified Verrucomicrobia<br>Sample=%{x}<br>Read Count=%{y}<extra></extra>\", \"legendgroup\": \"unclassified Verrucomicrobia\", \"marker\": {\"color\": \"#FECB52\"}, \"name\": \"unclassified Verrucomicrobia\", \"offsetgroup\": \"unclassified Verrucomicrobia\", \"orientation\": \"v\", \"showlegend\": true, \"textposition\": \"auto\", \"type\": \"bar\", \"x\": [\"Sample 101\", \"Sample 14\", \"Sample 2\", \"Sample 3\", \"Sample 16\", \"Sample 4\", \"Sample 15\", \"Sample 103\", \"Sample 1\", \"Sample 97\", \"Sample 98\", \"Sample 99\", \"Sample 100\", \"Sample 13\", \"Sample 104\"], \"xaxis\": \"x\", \"y\": [2.0, 10.0, 33.0, 4.0, 10.0, 20.0, 3.0, null, 25.0, 7.0, 4.0, 9.0, 23.0, 11.0, 6.0], \"yaxis\": \"y\"}, {\"alignmentgroup\": \"True\", \"hovertemplate\": \"Organism=Mesoaciditogales<br>Sample=%{x}<br>Read Count=%{y}<extra></extra>\", \"legendgroup\": \"Mesoaciditogales\", \"marker\": {\"color\": \"#636efa\"}, \"name\": \"Mesoaciditogales\", \"offsetgroup\": \"Mesoaciditogales\", \"orientation\": \"v\", \"showlegend\": true, \"textposition\": \"auto\", \"type\": \"bar\", \"x\": [\"Sample 101\", \"Sample 14\", \"Sample 2\", \"Sample 3\", \"Sample 16\", \"Sample 4\", \"Sample 15\", \"Sample 103\", \"Sample 1\", \"Sample 97\", \"Sample 98\", \"Sample 99\", \"Sample 100\", \"Sample 13\", \"Sample 104\"], \"xaxis\": \"x\", \"y\": [null, null, null, null, null, 1.0, null, null, 4.0, null, 1.0, 1.0, 3.0, 7.0, 1.0], \"yaxis\": \"y\"}, {\"alignmentgroup\": \"True\", \"hovertemplate\": \"Organism=Neisseriales<br>Sample=%{x}<br>Read Count=%{y}<extra></extra>\", \"legendgroup\": \"Neisseriales\", \"marker\": {\"color\": \"#EF553B\"}, \"name\": \"Neisseriales\", \"offsetgroup\": \"Neisseriales\", \"orientation\": \"v\", \"showlegend\": true, \"textposition\": \"auto\", \"type\": \"bar\", \"x\": [\"Sample 101\", \"Sample 14\", \"Sample 2\", \"Sample 3\", \"Sample 16\", \"Sample 4\", \"Sample 15\", \"Sample 103\", \"Sample 1\", \"Sample 97\", \"Sample 98\", \"Sample 99\", \"Sample 100\", \"Sample 13\", \"Sample 104\"], \"xaxis\": \"x\", \"y\": [113.0, 1415.0, 315.0, 118.0, 395.0, 130.0, 159.0, 91.0, 68.0, 155.0, 35.0, 200.0, 158.0, 173.0, 79.0], \"yaxis\": \"y\"}, {\"alignmentgroup\": \"True\", \"hovertemplate\": \"Organism=Rhodobacterales<br>Sample=%{x}<br>Read Count=%{y}<extra></extra>\", \"legendgroup\": \"Rhodobacterales\", \"marker\": {\"color\": \"#00cc96\"}, \"name\": \"Rhodobacterales\", \"offsetgroup\": \"Rhodobacterales\", \"orientation\": \"v\", \"showlegend\": true, \"textposition\": \"auto\", \"type\": \"bar\", \"x\": [\"Sample 101\", \"Sample 14\", \"Sample 2\", \"Sample 3\", \"Sample 16\", \"Sample 4\", \"Sample 15\", \"Sample 103\", \"Sample 1\", \"Sample 97\", \"Sample 98\", \"Sample 99\", \"Sample 100\", \"Sample 13\", \"Sample 104\"], \"xaxis\": \"x\", \"y\": [250.0, 919.0, 2433.0, 352.0, 1177.0, 1619.0, 601.0, 199.0, 787.0, 646.0, 330.0, 881.0, 993.0, 1512.0, 188.0], \"yaxis\": \"y\"}, {\"alignmentgroup\": \"True\", \"hovertemplate\": \"Organism=Candidatus Cryosericia<br>Sample=%{x}<br>Read Count=%{y}<extra></extra>\", \"legendgroup\": \"Candidatus Cryosericia\", \"marker\": {\"color\": \"#ab63fa\"}, \"name\": \"Candidatus Cryosericia\", \"offsetgroup\": \"Candidatus Cryosericia\", \"orientation\": \"v\", \"showlegend\": true, \"textposition\": \"auto\", \"type\": \"bar\", \"x\": [\"Sample 101\", \"Sample 14\", \"Sample 2\", \"Sample 3\", \"Sample 16\", \"Sample 4\", \"Sample 15\", \"Sample 103\", \"Sample 1\", \"Sample 97\", \"Sample 98\", \"Sample 99\", \"Sample 100\", \"Sample 13\", \"Sample 104\"], \"xaxis\": \"x\", \"y\": [null, 1.0, null, null, 2.0, 4.0, 3.0, null, 1.0, 2.0, null, 3.0, 3.0, 3.0, null], \"yaxis\": \"y\"}, {\"alignmentgroup\": \"True\", \"hovertemplate\": \"Organism=Parvularculales<br>Sample=%{x}<br>Read Count=%{y}<extra></extra>\", \"legendgroup\": \"Parvularculales\", \"marker\": {\"color\": \"#FFA15A\"}, \"name\": \"Parvularculales\", \"offsetgroup\": \"Parvularculales\", \"orientation\": \"v\", \"showlegend\": true, \"textposition\": \"auto\", \"type\": \"bar\", \"x\": [\"Sample 101\", \"Sample 14\", \"Sample 2\", \"Sample 3\", \"Sample 16\", \"Sample 4\", \"Sample 15\", \"Sample 103\", \"Sample 1\", \"Sample 97\", \"Sample 98\", \"Sample 99\", \"Sample 100\", \"Sample 13\", \"Sample 104\"], \"xaxis\": \"x\", \"y\": [1.0, 5.0, 4.0, 1.0, 1.0, 1.0, 3.0, 1.0, null, 4.0, null, 1.0, 2.0, 4.0, 2.0], \"yaxis\": \"y\"}, {\"alignmentgroup\": \"True\", \"hovertemplate\": \"Organism=bacterium D16-36<br>Sample=%{x}<br>Read Count=%{y}<extra></extra>\", \"legendgroup\": \"bacterium D16-36\", \"marker\": {\"color\": \"#19d3f3\"}, \"name\": \"bacterium D16-36\", \"offsetgroup\": \"bacterium D16-36\", \"orientation\": \"v\", \"showlegend\": true, \"textposition\": \"auto\", \"type\": \"bar\", \"x\": [\"Sample 101\", \"Sample 14\", \"Sample 2\", \"Sample 3\", \"Sample 16\", \"Sample 4\", \"Sample 15\", \"Sample 103\", \"Sample 1\", \"Sample 97\", \"Sample 98\", \"Sample 99\", \"Sample 100\", \"Sample 13\", \"Sample 104\"], \"xaxis\": \"x\", \"y\": [null, null, null, null, null, null, null, null, 1.0, null, null, null, null, null, null], \"yaxis\": \"y\"}, {\"alignmentgroup\": \"True\", \"hovertemplate\": \"Organism=Bryobacterales<br>Sample=%{x}<br>Read Count=%{y}<extra></extra>\", \"legendgroup\": \"Bryobacterales\", \"marker\": {\"color\": \"#FF6692\"}, \"name\": \"Bryobacterales\", \"offsetgroup\": \"Bryobacterales\", \"orientation\": \"v\", \"showlegend\": true, \"textposition\": \"auto\", \"type\": \"bar\", \"x\": [\"Sample 101\", \"Sample 14\", \"Sample 2\", \"Sample 3\", \"Sample 16\", \"Sample 4\", \"Sample 15\", \"Sample 103\", \"Sample 1\", \"Sample 97\", \"Sample 98\", \"Sample 99\", \"Sample 100\", \"Sample 13\", \"Sample 104\"], \"xaxis\": \"x\", \"y\": [9.0, 17.0, 12.0, 4.0, 1.0, 1.0, 4.0, null, 16.0, 6.0, 4.0, 21.0, 31.0, 25.0, null], \"yaxis\": \"y\"}, {\"alignmentgroup\": \"True\", \"hovertemplate\": \"Organism=Methanococci<br>Sample=%{x}<br>Read Count=%{y}<extra></extra>\", \"legendgroup\": \"Methanococci\", \"marker\": {\"color\": \"#B6E880\"}, \"name\": \"Methanococci\", \"offsetgroup\": \"Methanococci\", \"orientation\": \"v\", \"showlegend\": true, \"textposition\": \"auto\", \"type\": \"bar\", \"x\": [\"Sample 101\", \"Sample 14\", \"Sample 2\", \"Sample 3\", \"Sample 16\", \"Sample 4\", \"Sample 15\", \"Sample 103\", \"Sample 1\", \"Sample 97\", \"Sample 98\", \"Sample 99\", \"Sample 100\", \"Sample 13\", \"Sample 104\"], \"xaxis\": \"x\", \"y\": [1.0, 6.0, 4.0, 1.0, 4.0, 14.0, 3.0, null, 4.0, 7.0, 8.0, 4.0, 8.0, 8.0, null], \"yaxis\": \"y\"}, {\"alignmentgroup\": \"True\", \"hovertemplate\": \"Organism=Erysipelotrichia<br>Sample=%{x}<br>Read Count=%{y}<extra></extra>\", \"legendgroup\": \"Erysipelotrichia\", \"marker\": {\"color\": \"#FF97FF\"}, \"name\": \"Erysipelotrichia\", \"offsetgroup\": \"Erysipelotrichia\", \"orientation\": \"v\", \"showlegend\": true, \"textposition\": \"auto\", \"type\": \"bar\", \"x\": [\"Sample 101\", \"Sample 14\", \"Sample 2\", \"Sample 3\", \"Sample 16\", \"Sample 4\", \"Sample 15\", \"Sample 103\", \"Sample 1\", \"Sample 97\", \"Sample 98\", \"Sample 99\", \"Sample 100\", \"Sample 13\", \"Sample 104\"], \"xaxis\": \"x\", \"y\": [59204.0, 190301.0, 38188.0, 617640.0, 26363.0, 352325.0, 210613.0, 158120.0, 49257.0, 612479.0, 38917.0, 552142.0, 599675.0, 300952.0, 24270.0], \"yaxis\": \"y\"}, {\"alignmentgroup\": \"True\", \"hovertemplate\": \"Organism=Oceanospirillales<br>Sample=%{x}<br>Read Count=%{y}<extra></extra>\", \"legendgroup\": \"Oceanospirillales\", \"marker\": {\"color\": \"#FECB52\"}, \"name\": \"Oceanospirillales\", \"offsetgroup\": \"Oceanospirillales\", \"orientation\": \"v\", \"showlegend\": true, \"textposition\": \"auto\", \"type\": \"bar\", \"x\": [\"Sample 101\", \"Sample 14\", \"Sample 2\", \"Sample 3\", \"Sample 16\", \"Sample 4\", \"Sample 15\", \"Sample 103\", \"Sample 1\", \"Sample 97\", \"Sample 98\", \"Sample 99\", \"Sample 100\", \"Sample 13\", \"Sample 104\"], \"xaxis\": \"x\", \"y\": [305.0, 184.0, 319.0, 109.0, 132.0, 1514.0, 119.0, 26.0, 174.0, 261.0, 359.0, 189.0, 556.0, 268.0, 245.0], \"yaxis\": \"y\"}, {\"alignmentgroup\": \"True\", \"hovertemplate\": \"Organism=Magnetococcales<br>Sample=%{x}<br>Read Count=%{y}<extra></extra>\", \"legendgroup\": \"Magnetococcales\", \"marker\": {\"color\": \"#636efa\"}, \"name\": \"Magnetococcales\", \"offsetgroup\": \"Magnetococcales\", \"orientation\": \"v\", \"showlegend\": true, \"textposition\": \"auto\", \"type\": \"bar\", \"x\": [\"Sample 101\", \"Sample 14\", \"Sample 2\", \"Sample 3\", \"Sample 16\", \"Sample 4\", \"Sample 15\", \"Sample 103\", \"Sample 1\", \"Sample 97\", \"Sample 98\", \"Sample 99\", \"Sample 100\", \"Sample 13\", \"Sample 104\"], \"xaxis\": \"x\", \"y\": [1.0, 1.0, 2.0, 1.0, 3.0, 4.0, 1.0, null, null, 1.0, null, 1.0, 1.0, 2.0, null], \"yaxis\": \"y\"}, {\"alignmentgroup\": \"True\", \"hovertemplate\": \"Organism=Candidatus Bipolaricaulota<br>Sample=%{x}<br>Read Count=%{y}<extra></extra>\", \"legendgroup\": \"Candidatus Bipolaricaulota\", \"marker\": {\"color\": \"#EF553B\"}, \"name\": \"Candidatus Bipolaricaulota\", \"offsetgroup\": \"Candidatus Bipolaricaulota\", \"orientation\": \"v\", \"showlegend\": true, \"textposition\": \"auto\", \"type\": \"bar\", \"x\": [\"Sample 101\", \"Sample 14\", \"Sample 2\", \"Sample 3\", \"Sample 16\", \"Sample 4\", \"Sample 15\", \"Sample 103\", \"Sample 1\", \"Sample 97\", \"Sample 98\", \"Sample 99\", \"Sample 100\", \"Sample 13\", \"Sample 104\"], \"xaxis\": \"x\", \"y\": [null, null, null, 1.0, null, null, null, null, null, null, null, 1.0, null, null, null], \"yaxis\": \"y\"}, {\"alignmentgroup\": \"True\", \"hovertemplate\": \"Organism=Epsilonproteobacteria<br>Sample=%{x}<br>Read Count=%{y}<extra></extra>\", \"legendgroup\": \"Epsilonproteobacteria\", \"marker\": {\"color\": \"#00cc96\"}, \"name\": \"Epsilonproteobacteria\", \"offsetgroup\": \"Epsilonproteobacteria\", \"orientation\": \"v\", \"showlegend\": true, \"textposition\": \"auto\", \"type\": \"bar\", \"x\": [\"Sample 101\", \"Sample 14\", \"Sample 2\", \"Sample 3\", \"Sample 16\", \"Sample 4\", \"Sample 15\", \"Sample 103\", \"Sample 1\", \"Sample 97\", \"Sample 98\", \"Sample 99\", \"Sample 100\", \"Sample 13\", \"Sample 104\"], \"xaxis\": \"x\", \"y\": [694.0, 2095.0, 828.0, 344.0, 433.0, 1279.0, 901.0, 529.0, 385.0, 667.0, 299.0, 28963.0, 462.0, 1648.0, 445.0], \"yaxis\": \"y\"}, {\"alignmentgroup\": \"True\", \"hovertemplate\": \"Organism=Nitriliruptoria<br>Sample=%{x}<br>Read Count=%{y}<extra></extra>\", \"legendgroup\": \"Nitriliruptoria\", \"marker\": {\"color\": \"#ab63fa\"}, \"name\": \"Nitriliruptoria\", \"offsetgroup\": \"Nitriliruptoria\", \"orientation\": \"v\", \"showlegend\": true, \"textposition\": \"auto\", \"type\": \"bar\", \"x\": [\"Sample 101\", \"Sample 14\", \"Sample 2\", \"Sample 3\", \"Sample 16\", \"Sample 4\", \"Sample 15\", \"Sample 103\", \"Sample 1\", \"Sample 97\", \"Sample 98\", \"Sample 99\", \"Sample 100\", \"Sample 13\", \"Sample 104\"], \"xaxis\": \"x\", \"y\": [1.0, 6.0, 8.0, 8.0, 3.0, 4.0, 4.0, 1.0, 4.0, 8.0, 2.0, 6.0, 6.0, 6.0, 5.0], \"yaxis\": \"y\"}, {\"alignmentgroup\": \"True\", \"hovertemplate\": \"Organism=Cellvibrionales<br>Sample=%{x}<br>Read Count=%{y}<extra></extra>\", \"legendgroup\": \"Cellvibrionales\", \"marker\": {\"color\": \"#FFA15A\"}, \"name\": \"Cellvibrionales\", \"offsetgroup\": \"Cellvibrionales\", \"orientation\": \"v\", \"showlegend\": true, \"textposition\": \"auto\", \"type\": \"bar\", \"x\": [\"Sample 101\", \"Sample 14\", \"Sample 2\", \"Sample 3\", \"Sample 16\", \"Sample 4\", \"Sample 15\", \"Sample 103\", \"Sample 1\", \"Sample 97\", \"Sample 98\", \"Sample 99\", \"Sample 100\", \"Sample 13\", \"Sample 104\"], \"xaxis\": \"x\", \"y\": [15.0, 43.0, 77.0, 23.0, 36.0, 49.0, 37.0, 2.0, 30.0, 55.0, 26.0, 65.0, 75.0, 63.0, 2.0], \"yaxis\": \"y\"}, {\"alignmentgroup\": \"True\", \"hovertemplate\": \"Organism=Clostridia<br>Sample=%{x}<br>Read Count=%{y}<extra></extra>\", \"legendgroup\": \"Clostridia\", \"marker\": {\"color\": \"#19d3f3\"}, \"name\": \"Clostridia\", \"offsetgroup\": \"Clostridia\", \"orientation\": \"v\", \"showlegend\": true, \"textposition\": \"auto\", \"type\": \"bar\", \"x\": [\"Sample 101\", \"Sample 14\", \"Sample 2\", \"Sample 3\", \"Sample 16\", \"Sample 4\", \"Sample 15\", \"Sample 103\", \"Sample 1\", \"Sample 97\", \"Sample 98\", \"Sample 99\", \"Sample 100\", \"Sample 13\", \"Sample 104\"], \"xaxis\": \"x\", \"y\": [9741096.0, 6014197.0, 10456257.0, 4679740.0, 6140954.0, 5675595.0, 6877372.0, 11980774.0, 11889106.0, 10349746.0, 10892262.0, 11073469.0, 6438239.0, 11335430.0, 4936810.0], \"yaxis\": \"y\"}, {\"alignmentgroup\": \"True\", \"hovertemplate\": \"Organism=Sneathiellales<br>Sample=%{x}<br>Read Count=%{y}<extra></extra>\", \"legendgroup\": \"Sneathiellales\", \"marker\": {\"color\": \"#FF6692\"}, \"name\": \"Sneathiellales\", \"offsetgroup\": \"Sneathiellales\", \"orientation\": \"v\", \"showlegend\": true, \"textposition\": \"auto\", \"type\": \"bar\", \"x\": [\"Sample 101\", \"Sample 14\", \"Sample 2\", \"Sample 3\", \"Sample 16\", \"Sample 4\", \"Sample 15\", \"Sample 103\", \"Sample 1\", \"Sample 97\", \"Sample 98\", \"Sample 99\", \"Sample 100\", \"Sample 13\", \"Sample 104\"], \"xaxis\": \"x\", \"y\": [2.0, 2.0, 5.0, null, 19.0, 12.0, null, 1.0, 2.0, 1.0, 1.0, 1.0, 3.0, 6.0, null], \"yaxis\": \"y\"}, {\"alignmentgroup\": \"True\", \"hovertemplate\": \"Organism=Spartobacteria<br>Sample=%{x}<br>Read Count=%{y}<extra></extra>\", \"legendgroup\": \"Spartobacteria\", \"marker\": {\"color\": \"#B6E880\"}, \"name\": \"Spartobacteria\", \"offsetgroup\": \"Spartobacteria\", \"orientation\": \"v\", \"showlegend\": true, \"textposition\": \"auto\", \"type\": \"bar\", \"x\": [\"Sample 101\", \"Sample 14\", \"Sample 2\", \"Sample 3\", \"Sample 16\", \"Sample 4\", \"Sample 15\", \"Sample 103\", \"Sample 1\", \"Sample 97\", \"Sample 98\", \"Sample 99\", \"Sample 100\", \"Sample 13\", \"Sample 104\"], \"xaxis\": \"x\", \"y\": [null, 7.0, 97.0, 1.0, 1.0, 1.0, 10.0, null, null, 3.0, 1.0, 15.0, 8.0, 5.0, null], \"yaxis\": \"y\"}, {\"alignmentgroup\": \"True\", \"hovertemplate\": \"Organism=Acidithiobacillales<br>Sample=%{x}<br>Read Count=%{y}<extra></extra>\", \"legendgroup\": \"Acidithiobacillales\", \"marker\": {\"color\": \"#FF97FF\"}, \"name\": \"Acidithiobacillales\", \"offsetgroup\": \"Acidithiobacillales\", \"orientation\": \"v\", \"showlegend\": true, \"textposition\": \"auto\", \"type\": \"bar\", \"x\": [\"Sample 101\", \"Sample 14\", \"Sample 2\", \"Sample 3\", \"Sample 16\", \"Sample 4\", \"Sample 15\", \"Sample 103\", \"Sample 1\", \"Sample 97\", \"Sample 98\", \"Sample 99\", \"Sample 100\", \"Sample 13\", \"Sample 104\"], \"xaxis\": \"x\", \"y\": [2.0, 6.0, 7.0, 1.0, 2.0, 7.0, 1.0, 1.0, 2.0, 6.0, 4.0, 2.0, 6.0, 27.0, 7.0], \"yaxis\": \"y\"}, {\"alignmentgroup\": \"True\", \"hovertemplate\": \"Organism=Kiritimatiellae<br>Sample=%{x}<br>Read Count=%{y}<extra></extra>\", \"legendgroup\": \"Kiritimatiellae\", \"marker\": {\"color\": \"#FECB52\"}, \"name\": \"Kiritimatiellae\", \"offsetgroup\": \"Kiritimatiellae\", \"orientation\": \"v\", \"showlegend\": true, \"textposition\": \"auto\", \"type\": \"bar\", \"x\": [\"Sample 101\", \"Sample 14\", \"Sample 2\", \"Sample 3\", \"Sample 16\", \"Sample 4\", \"Sample 15\", \"Sample 103\", \"Sample 1\", \"Sample 97\", \"Sample 98\", \"Sample 99\", \"Sample 100\", \"Sample 13\", \"Sample 104\"], \"xaxis\": \"x\", \"y\": [null, 8.0, 8.0, 2.0, null, 9.0, 13.0, 4.0, 5.0, 8.0, 1.0, 12.0, 8.0, 10.0, 2.0], \"yaxis\": \"y\"}, {\"alignmentgroup\": \"True\", \"hovertemplate\": \"Organism=Gemmatimonadetes<br>Sample=%{x}<br>Read Count=%{y}<extra></extra>\", \"legendgroup\": \"Gemmatimonadetes\", \"marker\": {\"color\": \"#636efa\"}, \"name\": \"Gemmatimonadetes\", \"offsetgroup\": \"Gemmatimonadetes\", \"orientation\": \"v\", \"showlegend\": true, \"textposition\": \"auto\", \"type\": \"bar\", \"x\": [\"Sample 101\", \"Sample 14\", \"Sample 2\", \"Sample 3\", \"Sample 16\", \"Sample 4\", \"Sample 15\", \"Sample 103\", \"Sample 1\", \"Sample 97\", \"Sample 98\", \"Sample 99\", \"Sample 100\", \"Sample 13\", \"Sample 104\"], \"xaxis\": \"x\", \"y\": [2.0, null, 6.0, 3.0, 2.0, 7.0, 1.0, null, 4.0, 4.0, 2.0, 7.0, 3.0, 8.0, null], \"yaxis\": \"y\"}, {\"alignmentgroup\": \"True\", \"hovertemplate\": \"Organism=Negativicutes<br>Sample=%{x}<br>Read Count=%{y}<extra></extra>\", \"legendgroup\": \"Negativicutes\", \"marker\": {\"color\": \"#EF553B\"}, \"name\": \"Negativicutes\", \"offsetgroup\": \"Negativicutes\", \"orientation\": \"v\", \"showlegend\": true, \"textposition\": \"auto\", \"type\": \"bar\", \"x\": [\"Sample 101\", \"Sample 14\", \"Sample 2\", \"Sample 3\", \"Sample 16\", \"Sample 4\", \"Sample 15\", \"Sample 103\", \"Sample 1\", \"Sample 97\", \"Sample 98\", \"Sample 99\", \"Sample 100\", \"Sample 13\", \"Sample 104\"], \"xaxis\": \"x\", \"y\": [136912.0, 322151.0, 201130.0, 595851.0, 183558.0, 95003.0, 53005.0, 80900.0, 318999.0, 511689.0, 126226.0, 333752.0, 426232.0, 413982.0, 584703.0], \"yaxis\": \"y\"}, {\"alignmentgroup\": \"True\", \"hovertemplate\": \"Organism=unclassified Thaumarchaeota<br>Sample=%{x}<br>Read Count=%{y}<extra></extra>\", \"legendgroup\": \"unclassified Thaumarchaeota\", \"marker\": {\"color\": \"#00cc96\"}, \"name\": \"unclassified Thaumarchaeota\", \"offsetgroup\": \"unclassified Thaumarchaeota\", \"orientation\": \"v\", \"showlegend\": true, \"textposition\": \"auto\", \"type\": \"bar\", \"x\": [\"Sample 101\", \"Sample 14\", \"Sample 2\", \"Sample 3\", \"Sample 16\", \"Sample 4\", \"Sample 15\", \"Sample 103\", \"Sample 1\", \"Sample 97\", \"Sample 98\", \"Sample 99\", \"Sample 100\", \"Sample 13\", \"Sample 104\"], \"xaxis\": \"x\", \"y\": [2.0, 1.0, 2.0, null, null, null, null, null, 2.0, null, null, 1.0, 1.0, null, null], \"yaxis\": \"y\"}, {\"alignmentgroup\": \"True\", \"hovertemplate\": \"Organism=Thermobaculum<br>Sample=%{x}<br>Read Count=%{y}<extra></extra>\", \"legendgroup\": \"Thermobaculum\", \"marker\": {\"color\": \"#ab63fa\"}, \"name\": \"Thermobaculum\", \"offsetgroup\": \"Thermobaculum\", \"orientation\": \"v\", \"showlegend\": true, \"textposition\": \"auto\", \"type\": \"bar\", \"x\": [\"Sample 101\", \"Sample 14\", \"Sample 2\", \"Sample 3\", \"Sample 16\", \"Sample 4\", \"Sample 15\", \"Sample 103\", \"Sample 1\", \"Sample 97\", \"Sample 98\", \"Sample 99\", \"Sample 100\", \"Sample 13\", \"Sample 104\"], \"xaxis\": \"x\", \"y\": [null, 2.0, null, null, null, 1.0, null, null, null, 2.0, null, null, 4.0, 3.0, 1.0], \"yaxis\": \"y\"}, {\"alignmentgroup\": \"True\", \"hovertemplate\": \"Organism=bacterium YEK0313<br>Sample=%{x}<br>Read Count=%{y}<extra></extra>\", \"legendgroup\": \"bacterium YEK0313\", \"marker\": {\"color\": \"#FFA15A\"}, \"name\": \"bacterium YEK0313\", \"offsetgroup\": \"bacterium YEK0313\", \"orientation\": \"v\", \"showlegend\": true, \"textposition\": \"auto\", \"type\": \"bar\", \"x\": [\"Sample 101\", \"Sample 14\", \"Sample 2\", \"Sample 3\", \"Sample 16\", \"Sample 4\", \"Sample 15\", \"Sample 103\", \"Sample 1\", \"Sample 97\", \"Sample 98\", \"Sample 99\", \"Sample 100\", \"Sample 13\", \"Sample 104\"], \"xaxis\": \"x\", \"y\": [null, null, 1.0, 2.0, 2.0, 2.0, null, null, null, null, null, 2.0, 2.0, null, null], \"yaxis\": \"y\"}, {\"alignmentgroup\": \"True\", \"hovertemplate\": \"Organism=Holophagales<br>Sample=%{x}<br>Read Count=%{y}<extra></extra>\", \"legendgroup\": \"Holophagales\", \"marker\": {\"color\": \"#19d3f3\"}, \"name\": \"Holophagales\", \"offsetgroup\": \"Holophagales\", \"orientation\": \"v\", \"showlegend\": true, \"textposition\": \"auto\", \"type\": \"bar\", \"x\": [\"Sample 101\", \"Sample 14\", \"Sample 2\", \"Sample 3\", \"Sample 16\", \"Sample 4\", \"Sample 15\", \"Sample 103\", \"Sample 1\", \"Sample 97\", \"Sample 98\", \"Sample 99\", \"Sample 100\", \"Sample 13\", \"Sample 104\"], \"xaxis\": \"x\", \"y\": [1.0, 9.0, 5.0, 3.0, 1.0, 11.0, 8.0, 2.0, 4.0, 6.0, 1.0, 21.0, 7.0, 20.0, null], \"yaxis\": \"y\"}, {\"alignmentgroup\": \"True\", \"hovertemplate\": \"Organism=Thermoprotei<br>Sample=%{x}<br>Read Count=%{y}<extra></extra>\", \"legendgroup\": \"Thermoprotei\", \"marker\": {\"color\": \"#FF6692\"}, \"name\": \"Thermoprotei\", \"offsetgroup\": \"Thermoprotei\", \"orientation\": \"v\", \"showlegend\": true, \"textposition\": \"auto\", \"type\": \"bar\", \"x\": [\"Sample 101\", \"Sample 14\", \"Sample 2\", \"Sample 3\", \"Sample 16\", \"Sample 4\", \"Sample 15\", \"Sample 103\", \"Sample 1\", \"Sample 97\", \"Sample 98\", \"Sample 99\", \"Sample 100\", \"Sample 13\", \"Sample 104\"], \"xaxis\": \"x\", \"y\": [1.0, 5.0, 7.0, 2.0, 3.0, 3.0, 4.0, 2.0, 5.0, 3.0, 3.0, 3.0, 7.0, 19.0, null], \"yaxis\": \"y\"}, {\"alignmentgroup\": \"True\", \"hovertemplate\": \"Organism=Thiotrichales<br>Sample=%{x}<br>Read Count=%{y}<extra></extra>\", \"legendgroup\": \"Thiotrichales\", \"marker\": {\"color\": \"#B6E880\"}, \"name\": \"Thiotrichales\", \"offsetgroup\": \"Thiotrichales\", \"orientation\": \"v\", \"showlegend\": true, \"textposition\": \"auto\", \"type\": \"bar\", \"x\": [\"Sample 101\", \"Sample 14\", \"Sample 2\", \"Sample 3\", \"Sample 16\", \"Sample 4\", \"Sample 15\", \"Sample 103\", \"Sample 1\", \"Sample 97\", \"Sample 98\", \"Sample 99\", \"Sample 100\", \"Sample 13\", \"Sample 104\"], \"xaxis\": \"x\", \"y\": [42.0, 42.0, 63.0, 7.0, 14.0, 42.0, 16.0, 5.0, 25.0, 10.0, 12.0, 33.0, 39.0, 33.0, null], \"yaxis\": \"y\"}, {\"alignmentgroup\": \"True\", \"hovertemplate\": \"Organism=Chromatiales<br>Sample=%{x}<br>Read Count=%{y}<extra></extra>\", \"legendgroup\": \"Chromatiales\", \"marker\": {\"color\": \"#FF97FF\"}, \"name\": \"Chromatiales\", \"offsetgroup\": \"Chromatiales\", \"orientation\": \"v\", \"showlegend\": true, \"textposition\": \"auto\", \"type\": \"bar\", \"x\": [\"Sample 101\", \"Sample 14\", \"Sample 2\", \"Sample 3\", \"Sample 16\", \"Sample 4\", \"Sample 15\", \"Sample 103\", \"Sample 1\", \"Sample 97\", \"Sample 98\", \"Sample 99\", \"Sample 100\", \"Sample 13\", \"Sample 104\"], \"xaxis\": \"x\", \"y\": [28.0, 182.0, 127.0, 47.0, 59.0, 121.0, 82.0, 9.0, 60.0, 64.0, 50.0, 99.0, 135.0, 252.0, 14.0], \"yaxis\": \"y\"}, {\"alignmentgroup\": \"True\", \"hovertemplate\": \"Organism=Methanonatronarchaeales<br>Sample=%{x}<br>Read Count=%{y}<extra></extra>\", \"legendgroup\": \"Methanonatronarchaeales\", \"marker\": {\"color\": \"#FECB52\"}, \"name\": \"Methanonatronarchaeales\", \"offsetgroup\": \"Methanonatronarchaeales\", \"orientation\": \"v\", \"showlegend\": true, \"textposition\": \"auto\", \"type\": \"bar\", \"x\": [\"Sample 101\", \"Sample 14\", \"Sample 2\", \"Sample 3\", \"Sample 16\", \"Sample 4\", \"Sample 15\", \"Sample 103\", \"Sample 1\", \"Sample 97\", \"Sample 98\", \"Sample 99\", \"Sample 100\", \"Sample 13\", \"Sample 104\"], \"xaxis\": \"x\", \"y\": [null, null, null, 1.0, null, 10.0, null, 1.0, null, 1.0, null, null, null, null, null], \"yaxis\": \"y\"}, {\"alignmentgroup\": \"True\", \"hovertemplate\": \"Organism=Bacilli<br>Sample=%{x}<br>Read Count=%{y}<extra></extra>\", \"legendgroup\": \"Bacilli\", \"marker\": {\"color\": \"#636efa\"}, \"name\": \"Bacilli\", \"offsetgroup\": \"Bacilli\", \"orientation\": \"v\", \"showlegend\": true, \"textposition\": \"auto\", \"type\": \"bar\", \"x\": [\"Sample 101\", \"Sample 14\", \"Sample 2\", \"Sample 3\", \"Sample 16\", \"Sample 4\", \"Sample 15\", \"Sample 103\", \"Sample 1\", \"Sample 97\", \"Sample 98\", \"Sample 99\", \"Sample 100\", \"Sample 13\", \"Sample 104\"], \"xaxis\": \"x\", \"y\": [1440438.0, 55543.0, 73546.0, 89119.0, 28739.0, 42658.0, 163172.0, 187461.0, 62832.0, 200553.0, 101486.0, 136320.0, 55506.0, 44137.0, 230791.0], \"yaxis\": \"y\"}, {\"alignmentgroup\": \"True\", \"hovertemplate\": \"Organism=Ktedonobacteria<br>Sample=%{x}<br>Read Count=%{y}<extra></extra>\", \"legendgroup\": \"Ktedonobacteria\", \"marker\": {\"color\": \"#EF553B\"}, \"name\": \"Ktedonobacteria\", \"offsetgroup\": \"Ktedonobacteria\", \"orientation\": \"v\", \"showlegend\": true, \"textposition\": \"auto\", \"type\": \"bar\", \"x\": [\"Sample 101\", \"Sample 14\", \"Sample 2\", \"Sample 3\", \"Sample 16\", \"Sample 4\", \"Sample 15\", \"Sample 103\", \"Sample 1\", \"Sample 97\", \"Sample 98\", \"Sample 99\", \"Sample 100\", \"Sample 13\", \"Sample 104\"], \"xaxis\": \"x\", \"y\": [3.0, 2.0, 17.0, 8.0, 3.0, 14.0, 5.0, 1.0, 7.0, 5.0, 11.0, 18.0, 7.0, 18.0, null], \"yaxis\": \"y\"}, {\"alignmentgroup\": \"True\", \"hovertemplate\": \"Organism=bacterium D16-63<br>Sample=%{x}<br>Read Count=%{y}<extra></extra>\", \"legendgroup\": \"bacterium D16-63\", \"marker\": {\"color\": \"#00cc96\"}, \"name\": \"bacterium D16-63\", \"offsetgroup\": \"bacterium D16-63\", \"orientation\": \"v\", \"showlegend\": true, \"textposition\": \"auto\", \"type\": \"bar\", \"x\": [\"Sample 101\", \"Sample 14\", \"Sample 2\", \"Sample 3\", \"Sample 16\", \"Sample 4\", \"Sample 15\", \"Sample 103\", \"Sample 1\", \"Sample 97\", \"Sample 98\", \"Sample 99\", \"Sample 100\", \"Sample 13\", \"Sample 104\"], \"xaxis\": \"x\", \"y\": [null, 4.0, 7.0, 5.0, 2.0, 13.0, 1.0, null, 8.0, 4.0, 3.0, 7.0, 4.0, 8.0, 1.0], \"yaxis\": \"y\"}, {\"alignmentgroup\": \"True\", \"hovertemplate\": \"Organism=Lentisphaeria<br>Sample=%{x}<br>Read Count=%{y}<extra></extra>\", \"legendgroup\": \"Lentisphaeria\", \"marker\": {\"color\": \"#ab63fa\"}, \"name\": \"Lentisphaeria\", \"offsetgroup\": \"Lentisphaeria\", \"orientation\": \"v\", \"showlegend\": true, \"textposition\": \"auto\", \"type\": \"bar\", \"x\": [\"Sample 101\", \"Sample 14\", \"Sample 2\", \"Sample 3\", \"Sample 16\", \"Sample 4\", \"Sample 15\", \"Sample 103\", \"Sample 1\", \"Sample 97\", \"Sample 98\", \"Sample 99\", \"Sample 100\", \"Sample 13\", \"Sample 104\"], \"xaxis\": \"x\", \"y\": [63.0, 55987.0, 18234.0, 6384.0, 37071.0, 59572.0, 100404.0, 941.0, 23612.0, 40065.0, 1980.0, 9857.0, 1746.0, 14293.0, 36.0], \"yaxis\": \"y\"}, {\"alignmentgroup\": \"True\", \"hovertemplate\": \"Organism=Thermodesulfobacteriales<br>Sample=%{x}<br>Read Count=%{y}<extra></extra>\", \"legendgroup\": \"Thermodesulfobacteriales\", \"marker\": {\"color\": \"#FFA15A\"}, \"name\": \"Thermodesulfobacteriales\", \"offsetgroup\": \"Thermodesulfobacteriales\", \"orientation\": \"v\", \"showlegend\": true, \"textposition\": \"auto\", \"type\": \"bar\", \"x\": [\"Sample 101\", \"Sample 14\", \"Sample 2\", \"Sample 3\", \"Sample 16\", \"Sample 4\", \"Sample 15\", \"Sample 103\", \"Sample 1\", \"Sample 97\", \"Sample 98\", \"Sample 99\", \"Sample 100\", \"Sample 13\", \"Sample 104\"], \"xaxis\": \"x\", \"y\": [1.0, 2.0, 16.0, 1.0, 2.0, 7.0, 3.0, 1.0, 4.0, 3.0, 2.0, 4.0, 15.0, 5.0, null], \"yaxis\": \"y\"}, {\"alignmentgroup\": \"True\", \"hovertemplate\": \"Organism=Patescibacteria group<br>Sample=%{x}<br>Read Count=%{y}<extra></extra>\", \"legendgroup\": \"Patescibacteria group\", \"marker\": {\"color\": \"#19d3f3\"}, \"name\": \"Patescibacteria group\", \"offsetgroup\": \"Patescibacteria group\", \"orientation\": \"v\", \"showlegend\": true, \"textposition\": \"auto\", \"type\": \"bar\", \"x\": [\"Sample 101\", \"Sample 14\", \"Sample 2\", \"Sample 3\", \"Sample 16\", \"Sample 4\", \"Sample 15\", \"Sample 103\", \"Sample 1\", \"Sample 97\", \"Sample 98\", \"Sample 99\", \"Sample 100\", \"Sample 13\", \"Sample 104\"], \"xaxis\": \"x\", \"y\": [null, 6.0, 6.0, null, null, 5.0, null, null, 1.0, null, 1.0, 2.0, 2.0, 27.0, null], \"yaxis\": \"y\"}, {\"alignmentgroup\": \"True\", \"hovertemplate\": \"Organism=Nitrosopumilales<br>Sample=%{x}<br>Read Count=%{y}<extra></extra>\", \"legendgroup\": \"Nitrosopumilales\", \"marker\": {\"color\": \"#FF6692\"}, \"name\": \"Nitrosopumilales\", \"offsetgroup\": \"Nitrosopumilales\", \"orientation\": \"v\", \"showlegend\": true, \"textposition\": \"auto\", \"type\": \"bar\", \"x\": [\"Sample 101\", \"Sample 14\", \"Sample 2\", \"Sample 3\", \"Sample 16\", \"Sample 4\", \"Sample 15\", \"Sample 103\", \"Sample 1\", \"Sample 97\", \"Sample 98\", \"Sample 99\", \"Sample 100\", \"Sample 13\", \"Sample 104\"], \"xaxis\": \"x\", \"y\": [1.0, 2.0, 5.0, null, null, 2.0, 2.0, 2.0, 2.0, 2.0, null, null, 4.0, 4.0, null], \"yaxis\": \"y\"}, {\"alignmentgroup\": \"True\", \"hovertemplate\": \"Organism=bacterium D16-76<br>Sample=%{x}<br>Read Count=%{y}<extra></extra>\", \"legendgroup\": \"bacterium D16-76\", \"marker\": {\"color\": \"#B6E880\"}, \"name\": \"bacterium D16-76\", \"offsetgroup\": \"bacterium D16-76\", \"orientation\": \"v\", \"showlegend\": true, \"textposition\": \"auto\", \"type\": \"bar\", \"x\": [\"Sample 101\", \"Sample 14\", \"Sample 2\", \"Sample 3\", \"Sample 16\", \"Sample 4\", \"Sample 15\", \"Sample 103\", \"Sample 1\", \"Sample 97\", \"Sample 98\", \"Sample 99\", \"Sample 100\", \"Sample 13\", \"Sample 104\"], \"xaxis\": \"x\", \"y\": [4.0, 11.0, 156.0, 25.0, 27.0, 10.0, 11.0, 3.0, 15.0, 131.0, 188.0, 66.0, 27.0, 21.0, 4.0], \"yaxis\": \"y\"}, {\"alignmentgroup\": \"True\", \"hovertemplate\": \"Organism=Calditrichales<br>Sample=%{x}<br>Read Count=%{y}<extra></extra>\", \"legendgroup\": \"Calditrichales\", \"marker\": {\"color\": \"#FF97FF\"}, \"name\": \"Calditrichales\", \"offsetgroup\": \"Calditrichales\", \"orientation\": \"v\", \"showlegend\": true, \"textposition\": \"auto\", \"type\": \"bar\", \"x\": [\"Sample 101\", \"Sample 14\", \"Sample 2\", \"Sample 3\", \"Sample 16\", \"Sample 4\", \"Sample 15\", \"Sample 103\", \"Sample 1\", \"Sample 97\", \"Sample 98\", \"Sample 99\", \"Sample 100\", \"Sample 13\", \"Sample 104\"], \"xaxis\": \"x\", \"y\": [null, 2.0, null, null, null, null, 1.0, null, 1.0, null, null, 2.0, 1.0, null, null], \"yaxis\": \"y\"}, {\"alignmentgroup\": \"True\", \"hovertemplate\": \"Organism=Bacteriovoracales<br>Sample=%{x}<br>Read Count=%{y}<extra></extra>\", \"legendgroup\": \"Bacteriovoracales\", \"marker\": {\"color\": \"#FECB52\"}, \"name\": \"Bacteriovoracales\", \"offsetgroup\": \"Bacteriovoracales\", \"orientation\": \"v\", \"showlegend\": true, \"textposition\": \"auto\", \"type\": \"bar\", \"x\": [\"Sample 101\", \"Sample 14\", \"Sample 2\", \"Sample 3\", \"Sample 16\", \"Sample 4\", \"Sample 15\", \"Sample 103\", \"Sample 1\", \"Sample 97\", \"Sample 98\", \"Sample 99\", \"Sample 100\", \"Sample 13\", \"Sample 104\"], \"xaxis\": \"x\", \"y\": [1.0, 4.0, 2.0, 4.0, 2.0, 2.0, 3.0, null, null, 3.0, 1.0, 1.0, 2.0, 5.0, null], \"yaxis\": \"y\"}, {\"alignmentgroup\": \"True\", \"hovertemplate\": \"Organism=Actinobacteria<br>Sample=%{x}<br>Read Count=%{y}<extra></extra>\", \"legendgroup\": \"Actinobacteria\", \"marker\": {\"color\": \"#636efa\"}, \"name\": \"Actinobacteria\", \"offsetgroup\": \"Actinobacteria\", \"orientation\": \"v\", \"showlegend\": true, \"textposition\": \"auto\", \"type\": \"bar\", \"x\": [\"Sample 101\", \"Sample 14\", \"Sample 2\", \"Sample 3\", \"Sample 16\", \"Sample 4\", \"Sample 15\", \"Sample 103\", \"Sample 1\", \"Sample 97\", \"Sample 98\", \"Sample 99\", \"Sample 100\", \"Sample 13\", \"Sample 104\"], \"xaxis\": \"x\", \"y\": [467954.0, 1733460.0, 1287961.0, 65178.0, 27181.0, 842496.0, 213458.0, 604295.0, 779033.0, 120526.0, 227808.0, 160817.0, 555591.0, 113863.0, 262671.0], \"yaxis\": \"y\"}, {\"alignmentgroup\": \"True\", \"hovertemplate\": \"Organism=Methylococcales<br>Sample=%{x}<br>Read Count=%{y}<extra></extra>\", \"legendgroup\": \"Methylococcales\", \"marker\": {\"color\": \"#EF553B\"}, \"name\": \"Methylococcales\", \"offsetgroup\": \"Methylococcales\", \"orientation\": \"v\", \"showlegend\": true, \"textposition\": \"auto\", \"type\": \"bar\", \"x\": [\"Sample 101\", \"Sample 14\", \"Sample 2\", \"Sample 3\", \"Sample 16\", \"Sample 4\", \"Sample 15\", \"Sample 103\", \"Sample 1\", \"Sample 97\", \"Sample 98\", \"Sample 99\", \"Sample 100\", \"Sample 13\", \"Sample 104\"], \"xaxis\": \"x\", \"y\": [36.0, 53.0, 118.0, 12.0, 74.0, 42.0, 19.0, 2.0, 25.0, 23.0, 11.0, 27.0, 41.0, 75.0, 8.0], \"yaxis\": \"y\"}, {\"alignmentgroup\": \"True\", \"hovertemplate\": \"Organism=Kiloniellales<br>Sample=%{x}<br>Read Count=%{y}<extra></extra>\", \"legendgroup\": \"Kiloniellales\", \"marker\": {\"color\": \"#00cc96\"}, \"name\": \"Kiloniellales\", \"offsetgroup\": \"Kiloniellales\", \"orientation\": \"v\", \"showlegend\": true, \"textposition\": \"auto\", \"type\": \"bar\", \"x\": [\"Sample 101\", \"Sample 14\", \"Sample 2\", \"Sample 3\", \"Sample 16\", \"Sample 4\", \"Sample 15\", \"Sample 103\", \"Sample 1\", \"Sample 97\", \"Sample 98\", \"Sample 99\", \"Sample 100\", \"Sample 13\", \"Sample 104\"], \"xaxis\": \"x\", \"y\": [null, 1.0, 10.0, null, 23.0, 22.0, null, null, 2.0, null, 1.0, null, 2.0, 9.0, null], \"yaxis\": \"y\"}, {\"alignmentgroup\": \"True\", \"hovertemplate\": \"Organism=Methanobacteria<br>Sample=%{x}<br>Read Count=%{y}<extra></extra>\", \"legendgroup\": \"Methanobacteria\", \"marker\": {\"color\": \"#ab63fa\"}, \"name\": \"Methanobacteria\", \"offsetgroup\": \"Methanobacteria\", \"orientation\": \"v\", \"showlegend\": true, \"textposition\": \"auto\", \"type\": \"bar\", \"x\": [\"Sample 101\", \"Sample 14\", \"Sample 2\", \"Sample 3\", \"Sample 16\", \"Sample 4\", \"Sample 15\", \"Sample 103\", \"Sample 1\", \"Sample 97\", \"Sample 98\", \"Sample 99\", \"Sample 100\", \"Sample 13\", \"Sample 104\"], \"xaxis\": \"x\", \"y\": [2777.0, 4050.0, 89552.0, 65578.0, 139.0, 411386.0, 93.0, 110.0, 209.0, 122095.0, 177.0, 34705.0, 142024.0, 158453.0, 251.0], \"yaxis\": \"y\"}, {\"alignmentgroup\": \"True\", \"hovertemplate\": \"Organism=Aquificales<br>Sample=%{x}<br>Read Count=%{y}<extra></extra>\", \"legendgroup\": \"Aquificales\", \"marker\": {\"color\": \"#FFA15A\"}, \"name\": \"Aquificales\", \"offsetgroup\": \"Aquificales\", \"orientation\": \"v\", \"showlegend\": true, \"textposition\": \"auto\", \"type\": \"bar\", \"x\": [\"Sample 101\", \"Sample 14\", \"Sample 2\", \"Sample 3\", \"Sample 16\", \"Sample 4\", \"Sample 15\", \"Sample 103\", \"Sample 1\", \"Sample 97\", \"Sample 98\", \"Sample 99\", \"Sample 100\", \"Sample 13\", \"Sample 104\"], \"xaxis\": \"x\", \"y\": [null, 5.0, 12.0, 2.0, 8.0, 48.0, 4.0, 3.0, 3.0, 8.0, 4.0, 8.0, 18.0, 17.0, null], \"yaxis\": \"y\"}, {\"alignmentgroup\": \"True\", \"hovertemplate\": \"Organism=Vibrionales<br>Sample=%{x}<br>Read Count=%{y}<extra></extra>\", \"legendgroup\": \"Vibrionales\", \"marker\": {\"color\": \"#19d3f3\"}, \"name\": \"Vibrionales\", \"offsetgroup\": \"Vibrionales\", \"orientation\": \"v\", \"showlegend\": true, \"textposition\": \"auto\", \"type\": \"bar\", \"x\": [\"Sample 101\", \"Sample 14\", \"Sample 2\", \"Sample 3\", \"Sample 16\", \"Sample 4\", \"Sample 15\", \"Sample 103\", \"Sample 1\", \"Sample 97\", \"Sample 98\", \"Sample 99\", \"Sample 100\", \"Sample 13\", \"Sample 104\"], \"xaxis\": \"x\", \"y\": [179.0, 125.0, 249.0, 141.0, 85.0, 152.0, 123.0, 220.0, 102.0, 170.0, 391.0, 118.0, 220.0, 193.0, 45.0], \"yaxis\": \"y\"}, {\"alignmentgroup\": \"True\", \"hovertemplate\": \"Organism=Acidimicrobiia<br>Sample=%{x}<br>Read Count=%{y}<extra></extra>\", \"legendgroup\": \"Acidimicrobiia\", \"marker\": {\"color\": \"#FF6692\"}, \"name\": \"Acidimicrobiia\", \"offsetgroup\": \"Acidimicrobiia\", \"orientation\": \"v\", \"showlegend\": true, \"textposition\": \"auto\", \"type\": \"bar\", \"x\": [\"Sample 101\", \"Sample 14\", \"Sample 2\", \"Sample 3\", \"Sample 16\", \"Sample 4\", \"Sample 15\", \"Sample 103\", \"Sample 1\", \"Sample 97\", \"Sample 98\", \"Sample 99\", \"Sample 100\", \"Sample 13\", \"Sample 104\"], \"xaxis\": \"x\", \"y\": [3.0, null, 5.0, 5.0, 8.0, 29.0, 2.0, 1.0, 6.0, 2.0, 9.0, null, 10.0, 6.0, 2.0], \"yaxis\": \"y\"}, {\"alignmentgroup\": \"True\", \"hovertemplate\": \"Organism=Pseudomonadales<br>Sample=%{x}<br>Read Count=%{y}<extra></extra>\", \"legendgroup\": \"Pseudomonadales\", \"marker\": {\"color\": \"#B6E880\"}, \"name\": \"Pseudomonadales\", \"offsetgroup\": \"Pseudomonadales\", \"orientation\": \"v\", \"showlegend\": true, \"textposition\": \"auto\", \"type\": \"bar\", \"x\": [\"Sample 101\", \"Sample 14\", \"Sample 2\", \"Sample 3\", \"Sample 16\", \"Sample 4\", \"Sample 15\", \"Sample 103\", \"Sample 1\", \"Sample 97\", \"Sample 98\", \"Sample 99\", \"Sample 100\", \"Sample 13\", \"Sample 104\"], \"xaxis\": \"x\", \"y\": [44156.0, 16520.0, 3813.0, 14787.0, 22374.0, 5238.0, 17016.0, 2453.0, 14773.0, 59069.0, 7202.0, 5394.0, 11865.0, 4656.0, 12151.0], \"yaxis\": \"y\"}, {\"alignmentgroup\": \"True\", \"hovertemplate\": \"Organism=unclassified Acidobacteria (miscellaneous)<br>Sample=%{x}<br>Read Count=%{y}<extra></extra>\", \"legendgroup\": \"unclassified Acidobacteria (miscellaneous)\", \"marker\": {\"color\": \"#FF97FF\"}, \"name\": \"unclassified Acidobacteria (miscellaneous)\", \"offsetgroup\": \"unclassified Acidobacteria (miscellaneous)\", \"orientation\": \"v\", \"showlegend\": true, \"textposition\": \"auto\", \"type\": \"bar\", \"x\": [\"Sample 101\", \"Sample 14\", \"Sample 2\", \"Sample 3\", \"Sample 16\", \"Sample 4\", \"Sample 15\", \"Sample 103\", \"Sample 1\", \"Sample 97\", \"Sample 98\", \"Sample 99\", \"Sample 100\", \"Sample 13\", \"Sample 104\"], \"xaxis\": \"x\", \"y\": [null, null, 2.0, 3.0, null, null, null, null, null, 1.0, null, null, 2.0, 2.0, 1.0], \"yaxis\": \"y\"}, {\"alignmentgroup\": \"True\", \"hovertemplate\": \"Organism=Vicinamibacteraceae<br>Sample=%{x}<br>Read Count=%{y}<extra></extra>\", \"legendgroup\": \"Vicinamibacteraceae\", \"marker\": {\"color\": \"#FECB52\"}, \"name\": \"Vicinamibacteraceae\", \"offsetgroup\": \"Vicinamibacteraceae\", \"orientation\": \"v\", \"showlegend\": true, \"textposition\": \"auto\", \"type\": \"bar\", \"x\": [\"Sample 101\", \"Sample 14\", \"Sample 2\", \"Sample 3\", \"Sample 16\", \"Sample 4\", \"Sample 15\", \"Sample 103\", \"Sample 1\", \"Sample 97\", \"Sample 98\", \"Sample 99\", \"Sample 100\", \"Sample 13\", \"Sample 104\"], \"xaxis\": \"x\", \"y\": [1.0, null, null, null, null, 4.0, null, null, 2.0, null, null, 2.0, null, null, null], \"yaxis\": \"y\"}, {\"alignmentgroup\": \"True\", \"hovertemplate\": \"Organism=Thermotogales<br>Sample=%{x}<br>Read Count=%{y}<extra></extra>\", \"legendgroup\": \"Thermotogales\", \"marker\": {\"color\": \"#636efa\"}, \"name\": \"Thermotogales\", \"offsetgroup\": \"Thermotogales\", \"orientation\": \"v\", \"showlegend\": true, \"textposition\": \"auto\", \"type\": \"bar\", \"x\": [\"Sample 101\", \"Sample 14\", \"Sample 2\", \"Sample 3\", \"Sample 16\", \"Sample 4\", \"Sample 15\", \"Sample 103\", \"Sample 1\", \"Sample 97\", \"Sample 98\", \"Sample 99\", \"Sample 100\", \"Sample 13\", \"Sample 104\"], \"xaxis\": \"x\", \"y\": [2.0, 17.0, 27.0, 3.0, 4.0, 113.0, 2.0, 2.0, 12.0, 12.0, 5.0, 14.0, 24.0, 13.0, 1.0], \"yaxis\": \"y\"}, {\"alignmentgroup\": \"True\", \"hovertemplate\": \"Organism=other<br>Sample=%{x}<br>Read Count=%{y}<extra></extra>\", \"legendgroup\": \"other\", \"marker\": {\"color\": \"#EF553B\"}, \"name\": \"other\", \"offsetgroup\": \"other\", \"orientation\": \"v\", \"showlegend\": true, \"textposition\": \"auto\", \"type\": \"bar\", \"x\": [\"Sample 101\", \"Sample 14\", \"Sample 2\", \"Sample 3\", \"Sample 16\", \"Sample 4\", \"Sample 15\", \"Sample 103\", \"Sample 1\", \"Sample 97\", \"Sample 98\", \"Sample 99\", \"Sample 100\", \"Sample 13\", \"Sample 104\"], \"xaxis\": \"x\", \"y\": [0.0, 0.0, 0.0, 0.0, 0.0, 0.0, 0.0, 0.0, 0.0, 0.0, 0.0, 0.0, 0.0, 0.0, 0.0], \"yaxis\": \"y\"}],\n",
       "                        {\"barmode\": \"relative\", \"legend\": {\"title\": {\"text\": \"Organism\"}, \"tracegroupgap\": 0}, \"margin\": {\"t\": 60}, \"showlegend\": false, \"template\": {\"data\": {\"bar\": [{\"error_x\": {\"color\": \"#2a3f5f\"}, \"error_y\": {\"color\": \"#2a3f5f\"}, \"marker\": {\"line\": {\"color\": \"#E5ECF6\", \"width\": 0.5}}, \"type\": \"bar\"}], \"barpolar\": [{\"marker\": {\"line\": {\"color\": \"#E5ECF6\", \"width\": 0.5}}, \"type\": \"barpolar\"}], \"carpet\": [{\"aaxis\": {\"endlinecolor\": \"#2a3f5f\", \"gridcolor\": \"white\", \"linecolor\": \"white\", \"minorgridcolor\": \"white\", \"startlinecolor\": \"#2a3f5f\"}, \"baxis\": {\"endlinecolor\": \"#2a3f5f\", \"gridcolor\": \"white\", \"linecolor\": \"white\", \"minorgridcolor\": \"white\", \"startlinecolor\": \"#2a3f5f\"}, \"type\": \"carpet\"}], \"choropleth\": [{\"colorbar\": {\"outlinewidth\": 0, \"ticks\": \"\"}, \"type\": \"choropleth\"}], \"contour\": [{\"colorbar\": {\"outlinewidth\": 0, \"ticks\": \"\"}, \"colorscale\": [[0.0, \"#0d0887\"], [0.1111111111111111, \"#46039f\"], [0.2222222222222222, \"#7201a8\"], [0.3333333333333333, \"#9c179e\"], [0.4444444444444444, \"#bd3786\"], [0.5555555555555556, \"#d8576b\"], [0.6666666666666666, \"#ed7953\"], [0.7777777777777778, \"#fb9f3a\"], [0.8888888888888888, \"#fdca26\"], [1.0, \"#f0f921\"]], \"type\": \"contour\"}], \"contourcarpet\": [{\"colorbar\": {\"outlinewidth\": 0, \"ticks\": \"\"}, \"type\": \"contourcarpet\"}], \"heatmap\": [{\"colorbar\": {\"outlinewidth\": 0, \"ticks\": \"\"}, \"colorscale\": [[0.0, \"#0d0887\"], [0.1111111111111111, \"#46039f\"], [0.2222222222222222, \"#7201a8\"], [0.3333333333333333, \"#9c179e\"], [0.4444444444444444, \"#bd3786\"], [0.5555555555555556, \"#d8576b\"], [0.6666666666666666, \"#ed7953\"], [0.7777777777777778, \"#fb9f3a\"], [0.8888888888888888, \"#fdca26\"], [1.0, \"#f0f921\"]], \"type\": \"heatmap\"}], \"heatmapgl\": [{\"colorbar\": {\"outlinewidth\": 0, \"ticks\": \"\"}, \"colorscale\": [[0.0, \"#0d0887\"], [0.1111111111111111, \"#46039f\"], [0.2222222222222222, \"#7201a8\"], [0.3333333333333333, \"#9c179e\"], [0.4444444444444444, \"#bd3786\"], [0.5555555555555556, \"#d8576b\"], [0.6666666666666666, \"#ed7953\"], [0.7777777777777778, \"#fb9f3a\"], [0.8888888888888888, \"#fdca26\"], [1.0, \"#f0f921\"]], \"type\": \"heatmapgl\"}], \"histogram\": [{\"marker\": {\"colorbar\": {\"outlinewidth\": 0, \"ticks\": \"\"}}, \"type\": \"histogram\"}], \"histogram2d\": [{\"colorbar\": {\"outlinewidth\": 0, \"ticks\": \"\"}, \"colorscale\": [[0.0, \"#0d0887\"], [0.1111111111111111, \"#46039f\"], [0.2222222222222222, \"#7201a8\"], [0.3333333333333333, \"#9c179e\"], [0.4444444444444444, \"#bd3786\"], [0.5555555555555556, \"#d8576b\"], [0.6666666666666666, \"#ed7953\"], [0.7777777777777778, \"#fb9f3a\"], [0.8888888888888888, \"#fdca26\"], [1.0, \"#f0f921\"]], \"type\": \"histogram2d\"}], \"histogram2dcontour\": [{\"colorbar\": {\"outlinewidth\": 0, \"ticks\": \"\"}, \"colorscale\": [[0.0, \"#0d0887\"], [0.1111111111111111, \"#46039f\"], [0.2222222222222222, \"#7201a8\"], [0.3333333333333333, \"#9c179e\"], [0.4444444444444444, \"#bd3786\"], [0.5555555555555556, \"#d8576b\"], [0.6666666666666666, \"#ed7953\"], [0.7777777777777778, \"#fb9f3a\"], [0.8888888888888888, \"#fdca26\"], [1.0, \"#f0f921\"]], \"type\": \"histogram2dcontour\"}], \"mesh3d\": [{\"colorbar\": {\"outlinewidth\": 0, \"ticks\": \"\"}, \"type\": \"mesh3d\"}], \"parcoords\": [{\"line\": {\"colorbar\": {\"outlinewidth\": 0, \"ticks\": \"\"}}, \"type\": \"parcoords\"}], \"pie\": [{\"automargin\": true, \"type\": \"pie\"}], \"scatter\": [{\"marker\": {\"colorbar\": {\"outlinewidth\": 0, \"ticks\": \"\"}}, \"type\": \"scatter\"}], \"scatter3d\": [{\"line\": {\"colorbar\": {\"outlinewidth\": 0, \"ticks\": \"\"}}, \"marker\": {\"colorbar\": {\"outlinewidth\": 0, \"ticks\": \"\"}}, \"type\": \"scatter3d\"}], \"scattercarpet\": [{\"marker\": {\"colorbar\": {\"outlinewidth\": 0, \"ticks\": \"\"}}, \"type\": \"scattercarpet\"}], \"scattergeo\": [{\"marker\": {\"colorbar\": {\"outlinewidth\": 0, \"ticks\": \"\"}}, \"type\": \"scattergeo\"}], \"scattergl\": [{\"marker\": {\"colorbar\": {\"outlinewidth\": 0, \"ticks\": \"\"}}, \"type\": \"scattergl\"}], \"scattermapbox\": [{\"marker\": {\"colorbar\": {\"outlinewidth\": 0, \"ticks\": \"\"}}, \"type\": \"scattermapbox\"}], \"scatterpolar\": [{\"marker\": {\"colorbar\": {\"outlinewidth\": 0, \"ticks\": \"\"}}, \"type\": \"scatterpolar\"}], \"scatterpolargl\": [{\"marker\": {\"colorbar\": {\"outlinewidth\": 0, \"ticks\": \"\"}}, \"type\": \"scatterpolargl\"}], \"scatterternary\": [{\"marker\": {\"colorbar\": {\"outlinewidth\": 0, \"ticks\": \"\"}}, \"type\": \"scatterternary\"}], \"surface\": [{\"colorbar\": {\"outlinewidth\": 0, \"ticks\": \"\"}, \"colorscale\": [[0.0, \"#0d0887\"], [0.1111111111111111, \"#46039f\"], [0.2222222222222222, \"#7201a8\"], [0.3333333333333333, \"#9c179e\"], [0.4444444444444444, \"#bd3786\"], [0.5555555555555556, \"#d8576b\"], [0.6666666666666666, \"#ed7953\"], [0.7777777777777778, \"#fb9f3a\"], [0.8888888888888888, \"#fdca26\"], [1.0, \"#f0f921\"]], \"type\": \"surface\"}], \"table\": [{\"cells\": {\"fill\": {\"color\": \"#EBF0F8\"}, \"line\": {\"color\": \"white\"}}, \"header\": {\"fill\": {\"color\": \"#C8D4E3\"}, \"line\": {\"color\": \"white\"}}, \"type\": \"table\"}]}, \"layout\": {\"annotationdefaults\": {\"arrowcolor\": \"#2a3f5f\", \"arrowhead\": 0, \"arrowwidth\": 1}, \"coloraxis\": {\"colorbar\": {\"outlinewidth\": 0, \"ticks\": \"\"}}, \"colorscale\": {\"diverging\": [[0, \"#8e0152\"], [0.1, \"#c51b7d\"], [0.2, \"#de77ae\"], [0.3, \"#f1b6da\"], [0.4, \"#fde0ef\"], [0.5, \"#f7f7f7\"], [0.6, \"#e6f5d0\"], [0.7, \"#b8e186\"], [0.8, \"#7fbc41\"], [0.9, \"#4d9221\"], [1, \"#276419\"]], \"sequential\": [[0.0, \"#0d0887\"], [0.1111111111111111, \"#46039f\"], [0.2222222222222222, \"#7201a8\"], [0.3333333333333333, \"#9c179e\"], [0.4444444444444444, \"#bd3786\"], [0.5555555555555556, \"#d8576b\"], [0.6666666666666666, \"#ed7953\"], [0.7777777777777778, \"#fb9f3a\"], [0.8888888888888888, \"#fdca26\"], [1.0, \"#f0f921\"]], \"sequentialminus\": [[0.0, \"#0d0887\"], [0.1111111111111111, \"#46039f\"], [0.2222222222222222, \"#7201a8\"], [0.3333333333333333, \"#9c179e\"], [0.4444444444444444, \"#bd3786\"], [0.5555555555555556, \"#d8576b\"], [0.6666666666666666, \"#ed7953\"], [0.7777777777777778, \"#fb9f3a\"], [0.8888888888888888, \"#fdca26\"], [1.0, \"#f0f921\"]]}, \"colorway\": [\"#636efa\", \"#EF553B\", \"#00cc96\", \"#ab63fa\", \"#FFA15A\", \"#19d3f3\", \"#FF6692\", \"#B6E880\", \"#FF97FF\", \"#FECB52\"], \"font\": {\"color\": \"#2a3f5f\"}, \"geo\": {\"bgcolor\": \"white\", \"lakecolor\": \"white\", \"landcolor\": \"#E5ECF6\", \"showlakes\": true, \"showland\": true, \"subunitcolor\": \"white\"}, \"hoverlabel\": {\"align\": \"left\"}, \"hovermode\": \"closest\", \"mapbox\": {\"style\": \"light\"}, \"paper_bgcolor\": \"white\", \"plot_bgcolor\": \"#E5ECF6\", \"polar\": {\"angularaxis\": {\"gridcolor\": \"white\", \"linecolor\": \"white\", \"ticks\": \"\"}, \"bgcolor\": \"#E5ECF6\", \"radialaxis\": {\"gridcolor\": \"white\", \"linecolor\": \"white\", \"ticks\": \"\"}}, \"scene\": {\"xaxis\": {\"backgroundcolor\": \"#E5ECF6\", \"gridcolor\": \"white\", \"gridwidth\": 2, \"linecolor\": \"white\", \"showbackground\": true, \"ticks\": \"\", \"zerolinecolor\": \"white\"}, \"yaxis\": {\"backgroundcolor\": \"#E5ECF6\", \"gridcolor\": \"white\", \"gridwidth\": 2, \"linecolor\": \"white\", \"showbackground\": true, \"ticks\": \"\", \"zerolinecolor\": \"white\"}, \"zaxis\": {\"backgroundcolor\": \"#E5ECF6\", \"gridcolor\": \"white\", \"gridwidth\": 2, \"linecolor\": \"white\", \"showbackground\": true, \"ticks\": \"\", \"zerolinecolor\": \"white\"}}, \"shapedefaults\": {\"line\": {\"color\": \"#2a3f5f\"}}, \"ternary\": {\"aaxis\": {\"gridcolor\": \"white\", \"linecolor\": \"white\", \"ticks\": \"\"}, \"baxis\": {\"gridcolor\": \"white\", \"linecolor\": \"white\", \"ticks\": \"\"}, \"bgcolor\": \"#E5ECF6\", \"caxis\": {\"gridcolor\": \"white\", \"linecolor\": \"white\", \"ticks\": \"\"}}, \"title\": {\"x\": 0.05}, \"xaxis\": {\"automargin\": true, \"gridcolor\": \"white\", \"linecolor\": \"white\", \"ticks\": \"\", \"title\": {\"standoff\": 15}, \"zerolinecolor\": \"white\", \"zerolinewidth\": 2}, \"yaxis\": {\"automargin\": true, \"gridcolor\": \"white\", \"linecolor\": \"white\", \"ticks\": \"\", \"title\": {\"standoff\": 15}, \"zerolinecolor\": \"white\", \"zerolinewidth\": 2}}}, \"xaxis\": {\"anchor\": \"y\", \"domain\": [0.0, 1.0], \"title\": {\"text\": \"Sample\"}}, \"yaxis\": {\"anchor\": \"x\", \"domain\": [0.0, 1.0], \"title\": {\"text\": \"Read Count\"}}},\n",
       "                        {\"responsive\": true}\n",
       "                    ).then(function(){\n",
       "                            \n",
       "var gd = document.getElementById('98ff7a01-4e65-4c1f-95b5-5c7b166eb12a');\n",
       "var x = new MutationObserver(function (mutations, observer) {{\n",
       "        var display = window.getComputedStyle(gd).display;\n",
       "        if (!display || display === 'none') {{\n",
       "            console.log([gd, 'removed!']);\n",
       "            Plotly.purge(gd);\n",
       "            observer.disconnect();\n",
       "        }}\n",
       "}});\n",
       "\n",
       "// Listen for the removal of the full notebook cells\n",
       "var notebookContainer = gd.closest('#notebook-container');\n",
       "if (notebookContainer) {{\n",
       "    x.observe(notebookContainer, {childList: true});\n",
       "}}\n",
       "\n",
       "// Listen for the clearing of the current output cell\n",
       "var outputEl = gd.closest('.output');\n",
       "if (outputEl) {{\n",
       "    x.observe(outputEl, {childList: true});\n",
       "}}\n",
       "\n",
       "                        })\n",
       "                };\n",
       "                });\n",
       "            </script>\n",
       "        </div>"
      ]
     },
     "metadata": {},
     "output_type": "display_data"
    }
   ],
   "source": [
    "fig = px.bar(df, x=\"Sample\", y=\"Read Count\", color='Organism')\n",
    "fig.update_layout(showlegend=False)\n",
    "fig.write_html(\"kraken2.html\")\n",
    "fig.show()\n"
   ]
  },
  {
   "cell_type": "code",
   "execution_count": null,
   "metadata": {},
   "outputs": [],
   "source": [
    "\n"
   ]
  },
  {
   "cell_type": "code",
   "execution_count": 104,
   "metadata": {},
   "outputs": [],
   "source": [
    "# data as stacked bar charts\n",
    "data = {\n",
    "    \"Function\": [],\n",
    "    \"Abundance RPKs\": [],\n",
    "    \"Sample\": []\n",
    "}\n",
    "samples = []\n",
    "min_abundance = 10000 # reads per kilobase\n",
    "\n",
    "with open('genefamilies.csv', 'r') as f:\n",
    "    raw_data = f.read().split(\"\\n\")\n",
    "    \n",
    "    samples = [\"Sample \"+x for x in raw_data[0].split(\",\") if x != \"\"]\n",
    "    samples = samples[:-1] # skip out the function bit\n",
    "\n",
    "    # this is a bit redundant, but is fast enough for me not to care\n",
    "    all_functions = {}\n",
    "    \n",
    "    for r in raw_data[1:]:\n",
    "        tag = r.split(\",\")[0]\n",
    "        tmp_f = r.split(\",\")[-1].split(\"DR   GO;\")\n",
    "\n",
    "        for func in tmp_f[1:]: # skipping the initial empty split\n",
    "            if func not in all_functions:\n",
    "                all_functions[func] = []\n",
    "                \n",
    "            all_functions[func].append(tag)\n",
    "\n",
    "    all_data = {s: {} for s in samples} \n",
    "    \n",
    "    for r in raw_data[1:]:\n",
    "        tmp_r = r.split(\",\")\n",
    "        \n",
    "        if len(tmp_r) > 1: # dealing with the last row\n",
    "            for i in range(0, len(samples)): # ignoring the last one because it's the function column\n",
    "                all_data[samples[i]][tmp_r[0]] = float(tmp_r[(i+1)]) if tmp_r[(i+1)] != \"NaN\" else 0.0\n",
    "\n",
    "    sample_functions = {s: {} for s in samples}\n",
    "    \n",
    "    for sample in samples:\n",
    "        for func, genes in all_functions.items():\n",
    "            abundance = sum([all_data[sample][g] for g in genes if g in all_data[sample]])\n",
    "            \n",
    "            sample_functions[sample][func] = abundance\n",
    "            \n",
    "            if abundance >= min_abundance:\n",
    "                data[\"Function\"].append(func.strip())\n",
    "                data[\"Abundance RPKs\"].append(abundance)\n",
    "                data[\"Sample\"].append(sample)\n",
    "        \n",
    "df = pd.DataFrame.from_dict(data)\n",
    "df[\"Abundance RPKs\"] = df[\"Abundance RPKs\"].astype(float)\n"
   ]
  },
  {
   "cell_type": "code",
   "execution_count": 107,
   "metadata": {},
   "outputs": [
    {
     "data": {
      "text/plain": [
       "{' GO:0009507; C:chloroplast; IEA:UniProtKB-SubCell.': 3.11919e-08,\n",
       " ' GO:0005840; C:ribosome; IEA:UniProtKB-KW.': 0.0010333420681400004,\n",
       " ' GO:0003735; F:structural constituent of ribosome; IEA:InterPro.': 0.0014228879730899997,\n",
       " ' GO:0006412; P:translation; IEA:UniProtKB-UniRule.': 0.0014857270063899997,\n",
       " ' GO:0015935; C:small ribosomal subunit; IEA:InterPro.': 0.00016192597384999998,\n",
       " ' GO:0019843; F:rRNA binding; IEA:UniProtKB-UniRule.': 0.0010847074529200006,\n",
       " ' GO:0000049; F:tRNA binding; IEA:UniProtKB-UniRule.': 0.00028086316775999997,\n",
       " ' GO:0005737; C:cytoplasm; IEA:UniProtKB-SubCell.': 0.0014413814168000006,\n",
       " ' GO:0043022; F:ribosome binding; IEA:UniProtKB-UniRule.': 0.00018529319090000002,\n",
       " ' GO:0003743; F:translation initiation factor activity; IEA:UniProtKB-UniRule.': 0.0001644320693,\n",
       " \" GO:0048027; F:mRNA 5'-UTR binding; IEA:UniProtKB-UniRule.\": 3.52241e-06,\n",
       " ' GO:0006402; P:mRNA catabolic process; IEA:InterPro.': 3.52241e-06,\n",
       " ' GO:0045947; P:negative regulation of translational initiation; IEA:UniProtKB-UniRule.': 3.52241e-06,\n",
       " ' GO:0045948; P:positive regulation of translational initiation; IEA:UniProtKB-UniRule.': 0.0,\n",
       " ' GO:0006109; P:regulation of carbohydrate metabolic process; IEA:UniProtKB-UniRule.': 9.77575e-08,\n",
       " ' GO:0015986; P:ATP synthesis coupled proton transport; IEA:UniProtKB-UniRule.': 5.2457569e-05,\n",
       " ' GO:0000917; P:division septum assembly; IEA:UniProtKB-KW.': 1.5687338650000004e-05,\n",
       " ' GO:0030435; P:sporulation resulting in formation of a cellular spore; IEA:InterPro.': 1.68428155e-06,\n",
       " ' GO:0005525; F:GTP binding; IEA:UniProtKB-UniRule.': 0.00015784973790000003,\n",
       " ' GO:0003924; F:GTPase activity; IEA:InterPro.': 9.490279529999998e-05,\n",
       " ' GO:0003746; F:translation elongation factor activity; IEA:UniProtKB-UniRule.': 9.511164450000002e-05,\n",
       " ' GO:0015934; C:large ribosomal subunit; IEA:InterPro.': 0.00021605932420000004,\n",
       " ' GO:0000049; F:tRNA binding; IEA:UniProtKB-KW.': 9.31529348e-05,\n",
       " ' GO:0006417; P:regulation of translation; IEA:UniProtKB-KW.': 3.00520618e-05,\n",
       " ' GO:0016740; F:transferase activity; IEA:InterPro.': 2.79328996e-05,\n",
       " ' GO:0008270; F:zinc ion binding; IEA:UniProtKB-UniRule.': 0.00010030895409999995,\n",
       " ' GO:0004816; F:asparagine-tRNA ligase activity; IEA:UniProtKB-UniRule.': 2.5552402199999998e-05,\n",
       " ' GO:0005524; F:ATP binding; IEA:UniProtKB-UniRule.': 0.00048202793589999997,\n",
       " ' GO:0003676; F:nucleic acid binding; IEA:InterPro.': 7.17514542e-05,\n",
       " ' GO:0006421; P:asparaginyl-tRNA aminoacylation; IEA:UniProtKB-UniRule.': 2.5552402199999998e-05,\n",
       " ' GO:0005524; F:ATP binding; IEA:UniProtKB-KW.': 0.0002230946774999999,\n",
       " ' GO:0004618; F:phosphoglycerate kinase activity; IEA:UniProtKB-UniRule.': 3.1953148e-06,\n",
       " ' GO:0006096; P:glycolytic process; IEA:UniProtKB-UniRule.': 6.555524690000002e-05,\n",
       " ' GO:0042777; P:plasma membrane ATP synthesis coupled proton transport; IEA:UniProtKB-UniRule.': 7.631962100000002e-06,\n",
       " ' GO:0000027; P:ribosomal large subunit assembly; IEA:UniProtKB-UniRule.': 2.84388446e-05,\n",
       " ' GO:0006412; P:translation; IEA:InterPro.': 2.86139058e-05,\n",
       " ' GO:0000287; F:magnesium ion binding; IEA:UniProtKB-UniRule.': 0.0002239870915000001,\n",
       " ' GO:0004826; F:phenylalanine-tRNA ligase activity; IEA:UniProtKB-UniRule.': 1.4148104900000001e-05,\n",
       " ' GO:0000049; F:tRNA binding; IEA:InterPro.': 3.8007283000000005e-05,\n",
       " ' GO:0006432; P:phenylalanyl-tRNA aminoacylation; IEA:UniProtKB-UniRule.': 1.4148104900000001e-05,\n",
       " ' GO:0003684; F:damaged DNA binding; IEA:UniProtKB-UniRule.': 1.0249714e-06,\n",
       " ' GO:0008094; F:DNA-dependent ATPase activity; IEA:UniProtKB-UniRule.': 9.894523e-07,\n",
       " ' GO:0003697; F:single-stranded DNA binding; IEA:UniProtKB-UniRule.': 1.5666858699999997e-05,\n",
       " ' GO:0006310; P:DNA recombination; IEA:UniProtKB-UniRule.': 5.18614378e-05,\n",
       " ' GO:0006281; P:DNA repair; IEA:UniProtKB-UniRule.': 6.35321477e-05,\n",
       " ' GO:0009432; P:SOS response; IEA:UniProtKB-UniRule.': 4.449739810000001e-05,\n",
       " ' GO:0033862; F:UMP kinase activity; IEA:UniProtKB-EC.': 2.65359802e-05,\n",
       " \" GO:0044210; P:'de novo' CTP biosynthetic process; IEA:UniProtKB-UniPathway.\": 3.50445372e-05,\n",
       " ' GO:0005886; C:plasma membrane; IEA:UniProtKB-SubCell.': 0.00014371680889999997,\n",
       " ' GO:0003924; F:GTPase activity; IEA:UniProtKB-UniRule.': 6.788651000000002e-05,\n",
       " ' GO:0045727; P:positive regulation of translation; IEA:UniProtKB-UniRule.': 3.01942461e-05,\n",
       " ' GO:0046983; F:protein dimerization activity; IEA:InterPro.': 2.0930634899999997e-05,\n",
       " ' GO:0051082; F:unfolded protein binding; IEA:UniProtKB-UniRule.': 3.188794030000001e-05,\n",
       " ' GO:0008270; F:zinc ion binding; IEA:InterPro.': 3.203388560000001e-05,\n",
       " ' GO:0006457; P:protein folding; IEA:UniProtKB-UniRule.': 2.9259287800000004e-05,\n",
       " ' GO:0004252; F:serine-type endopeptidase activity; IEA:UniProtKB-UniRule.': 9.914788299999999e-06,\n",
       " ' GO:0042026; P:protein refolding; IEA:UniProtKB-UniRule.': 1.88186577e-05,\n",
       " ' GO:0003688; F:DNA replication origin binding; IEA:UniProtKB-UniRule.': 1.5676472e-06,\n",
       " ' GO:0006270; P:DNA replication initiation; IEA:UniProtKB-UniRule.': 1.5676472e-06,\n",
       " ' GO:0006275; P:regulation of DNA replication; IEA:UniProtKB-UniRule.': 5.0858772e-06,\n",
       " ' GO:0006260; P:DNA replication; IEA:UniProtKB-UniRule.': 1.7852838199999997e-05,\n",
       " ' GO:0004019; F:adenylosuccinate synthase activity; IEA:UniProtKB-UniRule.': 2.779349e-05,\n",
       " \" GO:0044208; P:'de novo' AMP biosynthetic process; IEA:UniProtKB-UniPathway.\": 2.79311797e-05,\n",
       " ' GO:0016829; F:lyase activity; IEA:UniProtKB-KW.': 1.3517837e-05,\n",
       " ' GO:0005525; F:GTP binding; IEA:UniProtKB-KW.': 6.901281629999999e-05,\n",
       " ' GO:0004845; F:uracil phosphoribosyltransferase activity; IEA:UniProtKB-UniRule.': 6.49331e-06,\n",
       " ' GO:0009116; P:nucleoside metabolic process; IEA:InterPro.': 2.4418044900000004e-05,\n",
       " ' GO:0044206; P:UMP salvage; IEA:UniProtKB-UniPathway.': 6.49331e-06,\n",
       " ' GO:0006223; P:uracil salvage; IEA:InterPro.': 6.49331e-06,\n",
       " ' GO:0003677; F:DNA binding; IEA:UniProtKB-UniRule.': 1.8892592600000004e-05,\n",
       " ' GO:0046872; F:metal ion binding; IEA:UniProtKB-KW.': 0.0002454942650000001,\n",
       " ' GO:0004798; F:thymidylate kinase activity; IEA:UniProtKB-UniRule.': 4.03168e-06,\n",
       " ' GO:0006233; P:dTDP biosynthetic process; IEA:InterPro.': 4.03168e-06,\n",
       " ' GO:0006235; P:dTTP biosynthetic process; IEA:UniProtKB-UniRule.': 4.03168e-06,\n",
       " ' GO:0004818; F:glutamate-tRNA ligase activity; IEA:UniProtKB-UniRule.': 2.41062591e-05,\n",
       " ' GO:0006424; P:glutamyl-tRNA aminoacylation; IEA:UniProtKB-UniRule.': 2.41062591e-05,\n",
       " ' GO:0009098; P:leucine biosynthetic process; IEA:UniProtKB-UniRule.': 3.83372384e-05,\n",
       " ' GO:0009316; C:3-isopropylmalate dehydratase complex; IEA:InterPro.': 4.409535e-06,\n",
       " ' GO:0003861; F:3-isopropylmalate dehydratase activity; IEA:UniProtKB-UniRule.': 4.6231089999999994e-06,\n",
       " ' GO:0008716; F:D-alanine-D-alanine ligase activity; IEA:UniProtKB-UniRule.': 1.20783106e-05,\n",
       " ' GO:0071555; P:cell wall organization; IEA:UniProtKB-KW.': 8.284115280000004e-05,\n",
       " ' GO:0009252; P:peptidoglycan biosynthetic process; IEA:UniProtKB-UniRule.': 6.94362123e-05,\n",
       " ' GO:0008360; P:regulation of cell shape; IEA:UniProtKB-KW.': 8.033636440000004e-05,\n",
       " ' GO:0052906; F:tRNA (guanine(37)-N(1))-methyltransferase activity; IEA:UniProtKB-EC.': 5.879347999999999e-06,\n",
       " ' GO:0005840; C:ribosome; IEA:InterPro.': 1.0072481300000003e-05,\n",
       " ' GO:0043022; F:ribosome binding; IEA:InterPro.': 1.0072481300000003e-05,\n",
       " ' GO:0042274; P:ribosomal small subunit biogenesis; IEA:UniProtKB-UniRule.': 3.1501163299999996e-05,\n",
       " ' GO:0006364; P:rRNA processing; IEA:InterPro.': 1.0072481300000003e-05,\n",
       " ' GO:0000287; F:magnesium ion binding; IEA:InterPro.': 5.109973909999999e-05,\n",
       " ' GO:0042254; P:ribosome biogenesis; IEA:UniProtKB-UniRule.': 1.1566246e-05,\n",
       " ' GO:0004349; F:glutamate 5-kinase activity; IEA:UniProtKB-UniRule.': 4.1742992e-06,\n",
       " ' GO:0003723; F:RNA binding; IEA:InterPro.': 1.55840426e-05,\n",
       " ' GO:0055129; P:L-proline biosynthetic process; IEA:UniProtKB-UniPathway.': 1.5768741999999995e-05,\n",
       " ' GO:0070180; F:large ribosomal subunit rRNA binding; IEA:UniProtKB-UniRule.': 2.8570071870000002e-05,\n",
       " ' GO:0008897; F:holo-[acyl-carrier-protein] synthase activity; IEA:UniProtKB-UniRule.': 3.12446e-06,\n",
       " ' GO:0006633; P:fatty acid biosynthetic process; IEA:UniProtKB-UniRule.': 5.0396955799999995e-05,\n",
       " ' GO:0042254; P:ribosome biogenesis; IEA:InterPro.': 5.201531e-06,\n",
       " ' GO:0005524; F:ATP binding; IEA:InterPro.': 2.14197524e-05,\n",
       " ' GO:0030490; P:maturation of SSU-rRNA; IEA:UniProtKB-UniRule.': 7.1421742999999995e-06,\n",
       " ' GO:0004828; F:serine-tRNA ligase activity; IEA:UniProtKB-UniRule.': 3.6130705000000003e-06,\n",
       " ' GO:0016260; P:selenocysteine biosynthetic process; IEA:UniProtKB-UniRule.': 3.6130705000000003e-06,\n",
       " ' GO:0097056; P:selenocysteinyl-tRNA(Sec) biosynthetic process; IEA:UniProtKB-UniPathway.': 3.6130705000000003e-06,\n",
       " ' GO:0006434; P:seryl-tRNA aminoacylation; IEA:UniProtKB-UniRule.': 3.6130705000000003e-06,\n",
       " ' GO:0008176; F:tRNA (guanine-N7-)-methyltransferase activity; IEA:UniProtKB-UniRule.': 3.89254e-06,\n",
       " ' GO:0009045; F:xylose isomerase activity; IEA:UniProtKB-UniRule.': 9.37944e-06,\n",
       " ' GO:0042732; P:D-xylose metabolic process; IEA:UniProtKB-UniRule.': 9.37944e-06,\n",
       " ' GO:0019843; F:rRNA binding; IEA:UniProtKB-KW.': 2.3551658900000007e-05,\n",
       " ' GO:0002161; F:aminoacyl-tRNA editing activity; IEA:InterPro.': 7.494509000000001e-06,\n",
       " ' GO:0004827; F:proline-tRNA ligase activity; IEA:UniProtKB-UniRule.': 2.8244224000000005e-05,\n",
       " ' GO:0006433; P:prolyl-tRNA aminoacylation; IEA:UniProtKB-UniRule.': 2.8244224000000005e-05,\n",
       " ' GO:0070038; F:rRNA (pseudouridine-N3-)-methyltransferase activity; IEA:UniProtKB-UniRule.': 1.0201727400000001e-05,\n",
       " ' GO:0003723; F:RNA binding; IEA:UniProtKB-UniRule.': 1.9230424799999997e-05,\n",
       " ' GO:0070929; P:trans-translation; IEA:UniProtKB-UniRule.': 1.12616106e-05,\n",
       " ' GO:0016021; C:integral component of membrane; IEA:UniProtKB-KW.': 8.113191400000001e-05,\n",
       " ' GO:0015171; F:amino acid transmembrane transporter activity; IEA:UniProtKB-UniRule.': 2.92012e-06,\n",
       " ' GO:0015293; F:symporter activity; IEA:UniProtKB-UniRule.': 2.92012e-06,\n",
       " ' GO:0032329; P:serine transport; IEA:InterPro.': 2.92012e-06,\n",
       " ' GO:0015826; P:threonine transport; IEA:InterPro.': 2.92012e-06,\n",
       " ' GO:0004594; F:pantothenate kinase activity; IEA:UniProtKB-UniRule.': 1.2833514e-05,\n",
       " ' GO:0015937; P:coenzyme A biosynthetic process; IEA:UniProtKB-UniRule.': 2.61015909e-05,\n",
       " ' GO:0005506; F:iron ion binding; IEA:InterPro.': 2.7738434399999998e-05,\n",
       " ' GO:0043768; F:S-ribosylhomocysteine lyase activity; IEA:UniProtKB-UniRule.': 1.25330344e-05,\n",
       " ' GO:0009372; P:quorum sensing; IEA:UniProtKB-UniRule.': 1.25330344e-05,\n",
       " ' GO:0004641; F:phosphoribosylformylglycinamidine cyclo-ligase activity; IEA:UniProtKB-UniRule.': 6.5093840999999985e-06,\n",
       " \" GO:0006189; P:'de novo' IMP biosynthetic process; IEA:UniProtKB-UniRule.\": 2.8381626400000004e-05,\n",
       " ' GO:0043815; F:phosphoribosylglycinamide formyltransferase 2 activity; IEA:UniProtKB-UniRule.': 1.236601e-05,\n",
       " ' GO:0004644; F:phosphoribosylglycinamide formyltransferase activity; IEA:InterPro.': 1.236601e-05,\n",
       " ' GO:0004478; F:methionine adenosyltransferase activity; IEA:UniProtKB-UniRule.': 1.48219259e-05,\n",
       " ' GO:0006730; P:one-carbon metabolic process; IEA:UniProtKB-UniRule.': 2.76372537e-05,\n",
       " ' GO:0006556; P:S-adenosylmethionine biosynthetic process; IEA:UniProtKB-UniPathway.': 1.48219259e-05,\n",
       " ' GO:0004479; F:methionyl-tRNA formyltransferase activity; IEA:UniProtKB-UniRule.': 1.2318067000000001e-05,\n",
       " ' GO:0000502; C:proteasome complex; IEA:InterPro.': 2.9598050000000004e-06,\n",
       " ' GO:0016887; F:ATPase activity; IEA:UniProtKB-UniRule.': 2.9598050000000004e-06,\n",
       " ' GO:0019941; P:modification-dependent protein catabolic process; IEA:InterPro.': 2.9598050000000004e-06,\n",
       " ' GO:0010498; P:proteasomal protein catabolic process; IEA:InterPro.': 2.9598050000000004e-06,\n",
       " ' GO:0019787; F:ubiquitin-like protein transferase activity; IEA:UniProtKB-UniRule.': 3.0022850000000003e-06,\n",
       " ' GO:0019941; P:modification-dependent protein catabolic process; IEA:UniProtKB-UniRule.': 4.080485e-06,\n",
       " ' GO:0010498; P:proteasomal protein catabolic process; IEA:UniProtKB-UniRule.': 4.080485e-06,\n",
       " ' GO:0070490; P:protein pupylation; IEA:UniProtKB-UniRule.': 4.080485e-06,\n",
       " ' GO:0015297; F:antiporter activity; IEA:UniProtKB-UniRule.': 7.0280529999999994e-06,\n",
       " ' GO:0015081; F:sodium ion transmembrane transporter activity; IEA:UniProtKB-UniRule.': 7.0280529999999994e-06,\n",
       " ' GO:0006885; P:regulation of pH; IEA:InterPro.': 7.0280529999999994e-06,\n",
       " ' GO:0004518; F:nuclease activity; IEA:InterPro.': 5.523212e-06,\n",
       " ' GO:0004045; F:aminoacyl-tRNA hydrolase activity; IEA:UniProtKB-UniRule.': 1.12886365e-05,\n",
       " ' GO:0009986; C:cell surface; IEA:UniProtKB-SubCell.': 1.6444425e-05,\n",
       " ' GO:0005576; C:extracellular region; IEA:UniProtKB-SubCell.': 1.64929845e-05,\n",
       " ' GO:0000015; C:phosphopyruvate hydratase complex; IEA:InterPro.': 1.6444425e-05,\n",
       " ' GO:0004634; F:phosphopyruvate hydratase activity; IEA:UniProtKB-UniRule.': 1.6444425e-05,\n",
       " ' GO:0000310; F:xanthine phosphoribosyltransferase activity; IEA:UniProtKB-UniRule.': 1.29382665e-05,\n",
       " ' GO:0006166; P:purine ribonucleoside salvage; IEA:UniProtKB-UniRule.': 1.29382665e-05,\n",
       " ' GO:0046110; P:xanthine metabolic process; IEA:InterPro.': 1.29382665e-05,\n",
       " ' GO:0032265; P:XMP salvage; IEA:UniProtKB-UniPathway.': 1.29382665e-05,\n",
       " ' GO:0004518; F:nuclease activity; IEA:UniProtKB-KW.': 1.37864543e-05,\n",
       " \" GO:0000967; P:rRNA 5'-end processing; IEA:UniProtKB-UniRule.\": 1.15023743e-05,\n",
       " ' GO:0004107; F:chorismate synthase activity; IEA:UniProtKB-UniRule.': 1.20185307e-05,\n",
       " ' GO:0009073; P:aromatic amino acid family biosynthetic process; IEA:UniProtKB-UniRule.': 1.7298849799999998e-05,\n",
       " ' GO:0009423; P:chorismate biosynthetic process; IEA:UniProtKB-UniPathway.': 1.9520922799999994e-05,\n",
       " ' GO:0008878; F:glucose-1-phosphate adenylyltransferase activity; IEA:UniProtKB-UniRule.': 4.618503e-06,\n",
       " ' GO:0005978; P:glycogen biosynthetic process; IEA:UniProtKB-UniRule.': 4.856143e-06,\n",
       " ' GO:0004521; F:endoribonuclease activity; IEA:UniProtKB-UniRule.': 2.4379530599999998e-05,\n",
       " ' GO:0004222; F:metalloendopeptidase activity; IEA:InterPro.': 2.7044624e-05,\n",
       " ' GO:0006364; P:rRNA processing; IEA:UniProtKB-UniRule.': 2.0942200000000004e-05,\n",
       " ' GO:0016597; F:amino acid binding; IEA:InterPro.': 2.35521904e-05,\n",
       " ' GO:0004070; F:aspartate carbamoyltransferase activity; IEA:UniProtKB-UniRule.': 1.54659664e-05,\n",
       " \" GO:0006207; P:'de novo' pyrimidine nucleobase biosynthetic process; IEA:InterPro.\": 2.9980843000000004e-05,\n",
       " \" GO:0044205; P:'de novo' UMP biosynthetic process; IEA:UniProtKB-UniPathway.\": 5.546377049999999e-05,\n",
       " ' GO:0006520; P:cellular amino acid metabolic process; IEA:InterPro.': 1.57900154e-05,\n",
       " ' GO:0004588; F:orotate phosphoribosyltransferase activity; IEA:UniProtKB-UniRule.': 1.72702673e-05,\n",
       " ' GO:0006415; P:translational termination; IEA:UniProtKB-UniRule.': 9.986100099999999e-06,\n",
       " ' GO:0070040; F:rRNA (adenine-C2-)-methyltransferase activity; IEA:UniProtKB-UniRule.': 9.730094099999999e-06,\n",
       " ' GO:0002935; F:tRNA (adenine-C2-)-methyltransferase activity; IEA:UniProtKB-UniRule.': 9.730094099999999e-06,\n",
       " ' GO:0070475; P:rRNA base methylation; IEA:UniProtKB-UniRule.': 2.3357676700000004e-05,\n",
       " ' GO:0000107; F:imidazoleglycerol-phosphate synthase activity; IEA:UniProtKB-UniRule.': 6.234417e-06,\n",
       " ' GO:0000105; P:histidine biosynthetic process; IEA:UniProtKB-UniRule.': 4.4038311900000016e-05,\n",
       " ' GO:0004635; F:phosphoribosyl-AMP cyclohydrolase activity; IEA:UniProtKB-UniRule.': 3.4076233e-06,\n",
       " ' GO:0005887; C:integral component of plasma membrane; IEA:UniProtKB-UniRule.': 1.4539535000000001e-05,\n",
       " ' GO:0008961; F:phosphatidylglycerol-prolipoprotein diacylglyceryl transferase activity; IEA:UniProtKB-UniRule.': 4.824564e-06,\n",
       " ' GO:0042158; P:lipoprotein biosynthetic process; IEA:UniProtKB-UniRule.': 4.824564e-06,\n",
       " ' GO:0004636; F:phosphoribosyl-ATP diphosphatase activity; IEA:UniProtKB-UniRule.': 3.5302073e-06,\n",
       " ' GO:0003879; F:ATP phosphoribosyltransferase activity; IEA:UniProtKB-UniRule.': 9.6137133e-06,\n",
       " ' GO:0008821; F:crossover junction endodeoxyribonuclease activity; IEA:UniProtKB-UniRule.': 9.038533e-06,\n",
       " ' GO:0009379; C:Holliday junction helicase complex; IEA:InterPro.': 1.0647594999999999e-05,\n",
       " ' GO:0003677; F:DNA binding; IEA:UniProtKB-KW.': 3.160502210000001e-05,\n",
       " ' GO:0009378; F:four-way junction helicase activity; IEA:UniProtKB-UniRule.': 2.1485662299999997e-05,\n",
       " ' GO:0003677; F:DNA binding; IEA:InterPro.': 2.0350713599999997e-05,\n",
       " ' GO:0003999; F:adenine phosphoribosyltransferase activity; IEA:UniProtKB-UniRule.': 1.1503173800000001e-05,\n",
       " ' GO:0006168; P:adenine salvage; IEA:UniProtKB-UniRule.': 1.1503173800000001e-05,\n",
       " ' GO:0044209; P:AMP salvage; IEA:UniProtKB-UniPathway.': 2.73642732e-05,\n",
       " ' GO:0006166; P:purine ribonucleoside salvage; IEA:UniProtKB-KW.': 1.59189238e-05,\n",
       " ' GO:0050380; F:undecaprenyl-diphosphatase activity; IEA:UniProtKB-UniRule.': 1.0900152099999998e-05,\n",
       " ' GO:0016311; P:dephosphorylation; IEA:InterPro.': 1.0900152099999998e-05,\n",
       " ' GO:0009252; P:peptidoglycan biosynthetic process; IEA:UniProtKB-KW.': 1.0900152099999998e-05,\n",
       " ' GO:0046677; P:response to antibiotic; IEA:UniProtKB-UniRule.': 1.0900152099999998e-05,\n",
       " ' GO:0004807; F:triose-phosphate isomerase activity; IEA:UniProtKB-UniRule.': 1.1338292799999999e-05,\n",
       " ' GO:0006094; P:gluconeogenesis; IEA:UniProtKB-UniRule.': 5.3753572300000005e-05,\n",
       " ' GO:0007049; P:cell cycle; IEA:UniProtKB-KW.': 7.003576839999999e-05,\n",
       " ' GO:0051301; P:cell division; IEA:UniProtKB-UniRule.': 3.0055383e-06,\n",
       " ' GO:0043937; P:regulation of sporulation; IEA:InterPro.': 3.0055383e-06,\n",
       " ' GO:0005506; F:iron ion binding; IEA:UniProtKB-UniRule.': 2.4669437e-05,\n",
       " ' GO:0061711; F:N(6)-L-threonylcarbamoyladenine synthase activity; IEA:UniProtKB-EC.': 1.0489437999999999e-05,\n",
       " ' GO:0002949; P:tRNA threonylcarbamoyladenosine modification; IEA:UniProtKB-UniRule.': 1.0489437999999999e-05,\n",
       " ' GO:0019134; F:glucosamine-1-phosphate N-acetyltransferase activity; IEA:UniProtKB-UniRule.': 2.9848521e-06,\n",
       " ' GO:0003977; F:UDP-N-acetylglucosamine diphosphorylase activity; IEA:UniProtKB-UniRule.': 2.9848521e-06,\n",
       " ' GO:0000902; P:cell morphogenesis; IEA:UniProtKB-UniRule.': 2.9848521e-06,\n",
       " ' GO:0009245; P:lipid A biosynthetic process; IEA:UniProtKB-UniPathway.': 2.9848521e-06,\n",
       " ' GO:0009103; P:lipopolysaccharide biosynthetic process; IEA:InterPro.': 2.9848521e-06,\n",
       " ' GO:0006048; P:UDP-N-acetylglucosamine biosynthetic process; IEA:UniProtKB-UniPathway.': 2.9848521e-06,\n",
       " ' GO:0004350; F:glutamate-5-semialdehyde dehydrogenase activity; IEA:UniProtKB-UniRule.': 1.11827538e-05,\n",
       " ' GO:0050661; F:NADP binding; IEA:InterPro.': 2.03926579e-05,\n",
       " ' GO:0003723; F:RNA binding; IEA:UniProtKB-KW.': 1.5936478600000002e-05,\n",
       " ' GO:0004831; F:tyrosine-tRNA ligase activity; IEA:UniProtKB-UniRule.': 1.5926617300000002e-05,\n",
       " ' GO:0006437; P:tyrosyl-tRNA aminoacylation; IEA:UniProtKB-UniRule.': 1.5926617300000002e-05,\n",
       " ' GO:0004055; F:argininosuccinate synthase activity; IEA:UniProtKB-UniRule.': 5.9268062e-06,\n",
       " ' GO:0006526; P:arginine biosynthetic process; IEA:UniProtKB-UniRule.': 2.5577682e-05,\n",
       " ' GO:0034618; F:arginine binding; IEA:InterPro.': 8.604392e-06,\n",
       " ' GO:0003700; F:DNA-binding transcription factor activity; IEA:UniProtKB-UniRule.': 1.1669522e-05,\n",
       " ' GO:0006526; P:arginine biosynthetic process; IEA:UniProtKB-UniPathway.': 8.604392e-06,\n",
       " ' GO:0051259; P:protein complex oligomerization; IEA:InterPro.': 8.604392e-06,\n",
       " ' GO:0003991; F:acetylglutamate kinase activity; IEA:UniProtKB-UniRule.': 7.65156e-06,\n",
       " ' GO:0042450; P:arginine biosynthetic process via ornithine; IEA:UniProtKB-UniRule.': 8.66363e-06,\n",
       " ' GO:0051499; F:D-aminoacyl-tRNA deacylase activity; IEA:UniProtKB-UniRule.': 2.7644473000000002e-05,\n",
       " ' GO:0106026; F:Gly-tRNA(Ala) hydrolase activity; IEA:UniProtKB-UniRule.': 3.2196083e-05,\n",
       " ' GO:0043908; F:Ser(Gly)-tRNA(Ala) hydrolase activity; IEA:UniProtKB-UniRule.': 3.2196083e-05,\n",
       " ' GO:0019478; P:D-amino acid catabolic process; IEA:UniProtKB-UniRule.': 3.2196083e-05,\n",
       " ' GO:0003755; F:peptidyl-prolyl cis-trans isomerase activity; IEA:UniProtKB-UniRule.': 8.0451022e-06,\n",
       " ' GO:0051301; P:cell division; IEA:UniProtKB-KW.': 7.079325809999999e-05,\n",
       " ' GO:0015031; P:protein transport; IEA:UniProtKB-UniRule.': 8.0451022e-06,\n",
       " ' GO:0052381; F:tRNA dimethylallyltransferase activity; IEA:UniProtKB-UniRule.': 1.12164617e-05,\n",
       " ' GO:0008033; P:tRNA processing; IEA:UniProtKB-UniRule.': 1.16336217e-05,\n",
       " ' GO:0035596; F:methylthiotransferase activity; IEA:InterPro.': 1.1322711599999999e-05,\n",
       " ' GO:0006400; P:tRNA modification; IEA:UniProtKB-UniRule.': 3.1457299300000013e-05,\n",
       " ' GO:0008763; F:UDP-N-acetylmuramate-L-alanine ligase activity; IEA:UniProtKB-UniRule.': 1.4597805700000001e-05,\n",
       " ' GO:0050511; F:undecaprenyldiphospho-muramoylpentapeptide beta-N-acetylglucosaminyltransferase activity; IEA:UniProtKB-UniRule.': 7.677150000000002e-06,\n",
       " ' GO:0005975; P:carbohydrate metabolic process; IEA:InterPro.': 4.38970356e-05,\n",
       " ' GO:0030259; P:lipid glycosylation; IEA:UniProtKB-UniRule.': 7.677150000000002e-06,\n",
       " ' GO:0008764; F:UDP-N-acetylmuramoylalanine-D-glutamate ligase activity; IEA:UniProtKB-UniRule.': 2.376811e-06,\n",
       " ' GO:0071424; F:rRNA (cytosine-N4-)-methyltransferase activity; IEA:UniProtKB-UniRule.': 1.70528626e-05,\n",
       " ' GO:0003949; F:1-(5-phosphoribosyl)-5-[(5-phosphoribosylamino)methylideneamino]imidazole-4-carboxamide isomerase activity; IEA:UniProtKB-UniRule.': 5.7076499999999995e-06,\n",
       " ' GO:0004640; F:phosphoribosylanthranilate isomerase activity; IEA:InterPro.': 3.32042e-06,\n",
       " ' GO:0000162; P:tryptophan biosynthetic process; IEA:InterPro.': 3.32042e-06,\n",
       " ' GO:0004424; F:imidazoleglycerol-phosphate dehydratase activity; IEA:UniProtKB-UniRule.': 6.1521229999999995e-06,\n",
       " ' GO:0004400; F:histidinol-phosphate transaminase activity; IEA:UniProtKB-UniRule.': 5.4969393e-06,\n",
       " ' GO:0030170; F:pyridoxal phosphate binding; IEA:InterPro.': 6.272453299999999e-06,\n",
       " ' GO:0004190; F:aspartic-type endopeptidase activity; IEA:UniProtKB-UniRule.': 4.154635e-06,\n",
       " ' GO:0043093; P:FtsZ-dependent cytokinesis; IEA:UniProtKB-UniRule.': 6.496954e-06,\n",
       " ' GO:0004417; F:hydroxyethylthiazole kinase activity; IEA:UniProtKB-UniRule.': 3.489626e-06,\n",
       " ' GO:0009228; P:thiamine biosynthetic process; IEA:UniProtKB-KW.': 3.489626e-06,\n",
       " ' GO:0009229; P:thiamine diphosphate biosynthetic process; IEA:UniProtKB-UniPathway.': 1.88252169e-05,\n",
       " ' GO:0008881; F:glutamate racemase activity; IEA:UniProtKB-UniRule.': 3.002661e-06,\n",
       " ' GO:0042586; F:peptide deformylase activity; IEA:UniProtKB-UniRule.': 1.2109815000000002e-05,\n",
       " ' GO:0008966; F:phosphoglucosamine mutase activity; IEA:UniProtKB-UniRule.': 8.643080899999998e-06,\n",
       " ' GO:0004359; F:glutaminase activity; IEA:UniProtKB-UniRule.': 1.210244e-06,\n",
       " \" GO:0036381; F:pyridoxal 5'-phosphate synthase (glutamine hydrolysing) activity; IEA:UniProtKB-UniRule.\": 5.2749886e-06,\n",
       " ' GO:0006543; P:glutamine catabolic process; IEA:UniProtKB-UniRule.': 6.05379e-07,\n",
       " ' GO:0042823; P:pyridoxal phosphate biosynthetic process; IEA:UniProtKB-UniRule.': 5.2749886e-06,\n",
       " ' GO:0004814; F:arginine-tRNA ligase activity; IEA:UniProtKB-UniRule.': 2.5501724e-05,\n",
       " ' GO:0006420; P:arginyl-tRNA aminoacylation; IEA:UniProtKB-UniRule.': 2.5501724e-05,\n",
       " ' GO:0000014; F:single-stranded DNA endodeoxyribonuclease activity; IEA:UniProtKB-UniRule.': 4.701473e-06,\n",
       " ' GO:0005384; F:manganese ion transmembrane transporter activity; IEA:UniProtKB-UniRule.': 7.500983e-06,\n",
       " ' GO:0050567; F:glutaminyl-tRNA synthase (glutamine-hydrolyzing) activity; IEA:UniProtKB-UniRule.': 1.18535786e-05,\n",
       " ' GO:0006450; P:regulation of translational fidelity; IEA:InterPro.': 3.192597e-06,\n",
       " ' GO:0000774; F:adenyl-nucleotide exchange factor activity; IEA:InterPro.': 4.128814e-06,\n",
       " ' GO:0051087; F:chaperone binding; IEA:InterPro.': 4.311419e-06,\n",
       " ' GO:0042803; F:protein homodimerization activity; IEA:InterPro.': 4.311419e-06,\n",
       " ' GO:0006457; P:protein folding; IEA:InterPro.': 1.2276279099999999e-05,\n",
       " ' GO:0033973; F:dCTP deaminase (dUMP-forming) activity; IEA:UniProtKB-UniRule.': 5.56945e-06,\n",
       " ' GO:0008829; F:dCTP deaminase activity; IEA:InterPro.': 5.56945e-06,\n",
       " ' GO:0000166; F:nucleotide binding; IEA:UniProtKB-KW.': 1.58041779e-05,\n",
       " ' GO:0006226; P:dUMP biosynthetic process; IEA:UniProtKB-UniRule.': 5.56945e-06,\n",
       " ' GO:0006229; P:dUTP biosynthetic process; IEA:InterPro.': 5.56945e-06,\n",
       " ' GO:0016114; P:terpenoid biosynthetic process; IEA:UniProtKB-UniRule.': 4.0778915000000005e-05,\n",
       " ' GO:0070043; F:rRNA (guanine-N7-)-methyltransferase activity; IEA:UniProtKB-UniRule.': 9.6637157e-06,\n",
       " ' GO:0004526; F:ribonuclease P activity; IEA:UniProtKB-UniRule.': 5.420401000000001e-06,\n",
       " \" GO:0001682; P:tRNA 5'-leader removal; IEA:UniProtKB-UniRule.\": 5.420401000000001e-06,\n",
       " ' GO:0004022; F:alcohol dehydrogenase (NAD+) activity; IEA:UniProtKB-EC.': 0.0,\n",
       " ' GO:0051903; F:S-(hydroxymethyl)glutathione dehydrogenase activity; IEA:UniProtKB-EC.': 0.0,\n",
       " ' GO:0006069; P:ethanol oxidation; IEA:InterPro.': 0.0,\n",
       " ' GO:0008509; F:anion transmembrane transporter activity; IEA:InterPro.': 0.0,\n",
       " ' GO:0016887; F:ATPase activity; IEA:InterPro.': 3.0321329500000005e-05,\n",
       " ' GO:0003998; F:acylphosphatase activity; IEA:UniProtKB-UniRule.': 0.0,\n",
       " ' GO:0010181; F:FMN binding; IEA:InterPro.': 6.9045341e-06,\n",
       " ' GO:0008752; F:FMN reductase activity; IEA:InterPro.': 7.53747e-08,\n",
       " ' GO:0042602; F:riboflavin reductase (NADPH) activity; IEA:UniProtKB-UniRule.': 7.53747e-08,\n",
       " ' GO:0019740; P:nitrogen utilization; IEA:UniProtKB-UniRule.': 7.53747e-08,\n",
       " ' GO:0006212; P:uracil catabolic process; IEA:UniProtKB-UniRule.': 7.53747e-08,\n",
       " ' GO:0005992; P:trehalose biosynthetic process; IEA:UniProtKB-UniPathway.': 0.0,\n",
       " ' GO:0008173; F:RNA methyltransferase activity; IEA:InterPro.': 5.11824e-07,\n",
       " ' GO:0008033; P:tRNA processing; IEA:UniProtKB-KW.': 4.3870140000000005e-06,\n",
       " ' GO:0070041; F:rRNA (uridine-C5-)-methyltransferase activity; IEA:UniProtKB-UniRule.': 0.0,\n",
       " ' GO:0015035; F:protein disulfide oxidoreductase activity; IEA:UniProtKB-UniRule.': 0.0,\n",
       " ' GO:0005887; C:integral component of plasma membrane; IEA:InterPro.': 0.0,\n",
       " ' GO:0015794; P:glycerol-3-phosphate transmembrane transport; IEA:InterPro.': 0.0,\n",
       " ' GO:0001407; P:glycerophosphodiester transmembrane transport; IEA:InterPro.': 0.0,\n",
       " ' GO:0071949; F:FAD binding; IEA:InterPro.': 5.050365e-06,\n",
       " ' GO:0004789; F:thiamine-phosphate diphosphorylase activity; IEA:UniProtKB-UniRule.': 2.1855e-06,\n",
       " ' GO:0009228; P:thiamine biosynthetic process; IEA:UniProtKB-UniRule.': 1.25832029e-05,\n",
       " ' GO:0004366; F:glycerol-3-phosphate O-acyltransferase activity; IEA:UniProtKB-UniRule.': 0.0,\n",
       " ' GO:0102420; F:sn-1-glycerol-3-phosphate C16:0-DCA-CoA acyl transferase activity; IEA:UniProtKB-EC.': 0.0,\n",
       " ' GO:0016024; P:CDP-diacylglycerol biosynthetic process; IEA:UniProtKB-UniPathway.': 0.0,\n",
       " ' GO:0000036; F:acyl carrier activity; IEA:UniProtKB-UniRule.': 7.773813099999999e-06,\n",
       " ' GO:0031177; F:phosphopantetheine binding; IEA:InterPro.': 7.773813099999999e-06,\n",
       " ' GO:0065002; P:intracellular protein transmembrane transport; IEA:UniProtKB-UniRule.': 5.471948e-07,\n",
       " ' GO:0006605; P:protein targeting; IEA:UniProtKB-UniRule.': 5.471948e-07,\n",
       " ' GO:0018242; P:protein O-linked glycosylation via serine; IEA:UniProtKB-UniRule.': 0.0,\n",
       " ' GO:0017122; C:protein N-acetylglucosaminyltransferase complex; IDA:CACAO.': 0.0,\n",
       " ' GO:0006486; P:protein glycosylation; IEA:UniProtKB-UniPathway.': 0.0,\n",
       " ' GO:0031647; P:regulation of protein stability; IDA:UniProtKB.': 0.0,\n",
       " ' GO:0051082; F:unfolded protein binding; IEA:InterPro.': 2.9864443999999996e-06,\n",
       " ' GO:0051262; P:protein tetramerization; IEA:InterPro.': 0.0,\n",
       " ' GO:0030163; P:protein catabolic process; IEA:InterPro.': 0.0,\n",
       " ' GO:0006508; P:proteolysis; IEA:UniProtKB-UniRule.': 0.0,\n",
       " ' GO:0008479; F:queuine tRNA-ribosyltransferase activity; IEA:UniProtKB-UniRule.': 5.060864e-07,\n",
       " ' GO:0008616; P:queuosine biosynthetic process; IEA:UniProtKB-UniRule.': 2.3965445300000004e-05,\n",
       " ' GO:0101030; P:tRNA-guanine transglycosylation; IEA:InterPro.': 5.060864e-07,\n",
       " ' GO:0004820; F:glycine-tRNA ligase activity; IEA:UniProtKB-UniRule.': 8.35389e-08,\n",
       " ' GO:0006426; P:glycyl-tRNA aminoacylation; IEA:UniProtKB-UniRule.': 7.3025389e-06,\n",
       " ' GO:0050662; F:coenzyme binding; IEA:InterPro.': 4.18448e-06,\n",
       " ' GO:0008926; F:mannitol-1-phosphate 5-dehydrogenase activity; IEA:UniProtKB-UniRule.': 0.0,\n",
       " ' GO:0019594; P:mannitol metabolic process; IEA:InterPro.': 0.0,\n",
       " ' GO:0004056; F:argininosuccinate lyase activity; IEA:UniProtKB-UniRule.': 1.15201806e-05,\n",
       " ' GO:0042450; P:arginine biosynthetic process via ornithine; IEA:InterPro.': 1.15201806e-05,\n",
       " ' GO:0005886; C:plasma membrane; IDA:UniProtKB.': 3.28584e-07,\n",
       " ' GO:0042626; F:ATPase-coupled transmembrane transporter activity; IDA:GO_Central.': 0.0,\n",
       " ' GO:0050118; F:N-acetyldiaminopimelate deacetylase activity; IEA:UniProtKB-UniRule.': 1.40476e-07,\n",
       " ' GO:0019877; P:diaminopimelate biosynthetic process; IEA:UniProtKB-UniRule.': 5.737249000000001e-06,\n",
       " ' GO:0009089; P:lysine biosynthetic process via diaminopimelate; IEA:UniProtKB-UniRule.': 9.832241000000003e-06,\n",
       " ' GO:0015225; F:biotin transmembrane transporter activity; IEA:InterPro.': 0.0,\n",
       " ' GO:0015234; F:thiamine transmembrane transporter activity; IEA:InterPro.': 0.0,\n",
       " ' GO:0022857; F:transmembrane transporter activity; IEA:InterPro.': 0.0,\n",
       " ' GO:0006865; P:amino acid transport; IEA:UniProtKB-KW.': 0.0,\n",
       " ' GO:0016301; F:kinase activity; IEA:UniProtKB-KW.': 6.69014e-07,\n",
       " ' GO:0008982; F:protein-N(PI)-phosphohistidine-sugar phosphotransferase activity; IEA:InterPro.': 0.0,\n",
       " ' GO:0009401; P:phosphoenolpyruvate-dependent sugar phosphotransferase system; IEA:UniProtKB-KW.': 1.90785e-08,\n",
       " ' GO:0004648; F:O-phospho-L-serine:2-oxoglutarate aminotransferase activity; IEA:UniProtKB-UniRule.': 2.9814052999999997e-06,\n",
       " ' GO:0030170; F:pyridoxal phosphate binding; IEA:UniProtKB-UniRule.': 3.58348661e-05,\n",
       " ' GO:0006564; P:L-serine biosynthetic process; IEA:UniProtKB-UniRule.': 2.9814052999999997e-06,\n",
       " ' GO:0000155; F:phosphorelay sensor kinase activity; IEA:InterPro.': 9.77575e-08,\n",
       " ' GO:0004674; F:protein serine/threonine kinase activity; IEA:UniProtKB-KW.': 1.6468374999999997e-06,\n",
       " ' GO:0004712; F:protein serine/threonine/tyrosine kinase activity; IEA:UniProtKB-UniRule.': 9.77575e-08,\n",
       " ' GO:0005975; P:carbohydrate metabolic process; IEA:UniProtKB-KW.': 1.5653818499999996e-05,\n",
       " ' GO:0016853; F:isomerase activity; IEA:UniProtKB-UniRule.': 1.1808426e-05,\n",
       " ' GO:0016740; F:transferase activity; IEA:UniProtKB-UniRule.': 1.1808426e-05,\n",
       " \" GO:0052929; F:ATP:3'-cytidine-cytidine-tRNA adenylyltransferase activity; IEA:UniProtKB-EC.\": 5.62628e-08,\n",
       " \" GO:0052928; F:CTP:3'-cytidine-tRNA cytidylyltransferase activity; IEA:UniProtKB-EC.\": 5.62628e-08,\n",
       " ' GO:0052927; F:CTP:tRNA cytidylyltransferase activity; IEA:UniProtKB-EC.': 5.62628e-08,\n",
       " ' GO:0016437; F:tRNA cytidylyltransferase activity; IEA:UniProtKB-UniRule.': 5.62628e-08,\n",
       " ' GO:0042245; P:RNA repair; IEA:UniProtKB-KW.': 5.62628e-08,\n",
       " \" GO:0001680; P:tRNA 3'-terminal CCA addition; IEA:UniProtKB-UniRule.\": 5.62628e-08,\n",
       " ' GO:0004425; F:indole-3-glycerol-phosphate synthase activity; IEA:UniProtKB-UniRule.': 3.11085e-07,\n",
       " ' GO:0000162; P:tryptophan biosynthetic process; IEA:UniProtKB-UniRule.': 9.63274e-06,\n",
       " ' GO:0009331; C:glycerol-3-phosphate dehydrogenase complex; IEA:InterPro.': 5.1627099999999996e-06,\n",
       " ' GO:0004367; F:glycerol-3-phosphate dehydrogenase [NAD+] activity; IEA:UniProtKB-EC.': 5.1627099999999996e-06,\n",
       " ' GO:0051287; F:NAD binding; IEA:InterPro.': 5.32319832e-05,\n",
       " ' GO:0046167; P:glycerol-3-phosphate biosynthetic process; IEA:UniProtKB-UniRule.': 5.1627099999999996e-06,\n",
       " ' GO:0046168; P:glycerol-3-phosphate catabolic process; IEA:InterPro.': 5.1627099999999996e-06,\n",
       " ' GO:0006650; P:glycerophospholipid metabolic process; IEA:UniProtKB-UniPathway.': 5.1627099999999996e-06,\n",
       " ' GO:0008654; P:phospholipid biosynthetic process; IEA:UniProtKB-UniRule.': 5.2068327e-06,\n",
       " ' GO:0050660; F:flavin adenine dinucleotide binding; IEA:UniProtKB-UniRule.': 1.8322759999999998e-07,\n",
       " ' GO:0047151; F:methylenetetrahydrofolate-tRNA-(uracil-5-)-methyltransferase (FADH2-oxidizing) activity; IEA:UniProtKB-EC.': 0.0,\n",
       " ' GO:0047465; F:N-acylglucosamine-6-phosphate 2-epimerase activity; IEA:UniProtKB-EC.': 0.0,\n",
       " ' GO:0009385; F:N-acylmannosamine-6-phosphate 2-epimerase activity; IEA:UniProtKB-EC.': 0.0,\n",
       " ' GO:0005975; P:carbohydrate metabolic process; IEA:UniProtKB-UniRule.': 2.0753635000000002e-06,\n",
       " ' GO:0006051; P:N-acetylmannosamine metabolic process; IEA:UniProtKB-UniRule.': 0.0,\n",
       " ' GO:0019262; P:N-acetylneuraminate catabolic process; IEA:UniProtKB-UniPathway.': 9.899711e-06,\n",
       " ' GO:0008757; F:S-adenosylmethionine-dependent methyltransferase activity; IEA:UniProtKB-UniRule.': 0.0,\n",
       " ' GO:0008175; F:tRNA methyltransferase activity; IEA:UniProtKB-UniRule.': 0.0,\n",
       " ' GO:0008237; F:metallopeptidase activity; IEA:UniProtKB-KW.': 4.0845678e-06,\n",
       " ' GO:0009231; P:riboflavin biosynthetic process; IEA:UniProtKB-UniRule.': 1.07495491e-05,\n",
       " ' GO:0004477; F:methenyltetrahydrofolate cyclohydrolase activity; IEA:UniProtKB-UniRule.': 2.6572000000000002e-05,\n",
       " ' GO:0004488; F:methylenetetrahydrofolate dehydrogenase (NADP+) activity; IEA:UniProtKB-UniRule.': 2.6572000000000002e-05,\n",
       " ' GO:0000105; P:histidine biosynthetic process; IEA:UniProtKB-KW.': 2.6572000000000002e-05,\n",
       " ' GO:0009086; P:methionine biosynthetic process; IEA:UniProtKB-KW.': 2.6572000000000002e-05,\n",
       " ' GO:0006164; P:purine nucleotide biosynthetic process; IEA:UniProtKB-KW.': 2.6572000000000002e-05,\n",
       " ' GO:0035999; P:tetrahydrofolate interconversion; IEA:UniProtKB-UniPathway.': 6.0596424500000005e-05,\n",
       " ' GO:0070204; F:2-succinyl-5-enolpyruvyl-6-hydroxy-3-cyclohexene-1-carboxylic-acid synthase activity; IEA:UniProtKB-UniRule.': 3.2356860000000002e-06,\n",
       " ' GO:0030145; F:manganese ion binding; IEA:UniProtKB-UniRule.': 4.06769609e-05,\n",
       " ' GO:0030976; F:thiamine pyrophosphate binding; IEA:UniProtKB-UniRule.': 3.2356860000000002e-06,\n",
       " ' GO:0009234; P:menaquinone biosynthetic process; IEA:UniProtKB-UniRule.': 8.701446e-06,\n",
       " ' GO:0004764; F:shikimate 3-dehydrogenase (NADP+) activity; IEA:UniProtKB-UniRule.': 0.0,\n",
       " ' GO:0019632; P:shikimate metabolic process; IEA:InterPro.': 0.0,\n",
       " ' GO:0004414; F:homoserine O-acetyltransferase activity; IEA:UniProtKB-EC.': 1.53325306e-05,\n",
       " ' GO:0008899; F:homoserine O-succinyltransferase activity; IEA:UniProtKB-UniRule.': 1.17107206e-05,\n",
       " ' GO:0019281; P:L-methionine biosynthetic process from homoserine via O-succinyl-L-homoserine and cystathionine; IEA:InterPro.': 1.53325306e-05,\n",
       " ' GO:0003684; F:damaged DNA binding; IEA:InterPro.': 2.6252360000000003e-07,\n",
       " ' GO:0003887; F:DNA-directed DNA polymerase activity; IEA:UniProtKB-UniRule.': 6.17076e-08,\n",
       " ' GO:0006261; P:DNA-dependent DNA replication; IEA:UniProtKB-UniRule.': 6.17076e-08,\n",
       " ' GO:0006282; P:regulation of DNA repair; IEA:UniProtKB-UniRule.': 8.42942e-08,\n",
       " ' GO:0004523; F:RNA-DNA hybrid ribonuclease activity; IEA:UniProtKB-UniRule.': 4.796371e-06,\n",
       " ' GO:0006401; P:RNA catabolic process; IEA:UniProtKB-UniRule.': 4.796371e-06,\n",
       " ' GO:0043952; P:protein transport by the Sec complex; IEA:UniProtKB-UniRule.': 4.5529099999999997e-07,\n",
       " ' GO:0046654; P:tetrahydrofolate biosynthetic process; IEA:UniProtKB-UniRule.': 8.898907799999999e-06,\n",
       " ' GO:0004397; F:histidine ammonia-lyase activity; IEA:UniProtKB-UniRule.': 0.0,\n",
       " ' GO:0019556; P:histidine catabolic process to glutamate and formamide; IEA:UniProtKB-UniPathway.': 5.641802e-06,\n",
       " ' GO:0019557; P:histidine catabolic process to glutamate and formate; IEA:UniProtKB-UniPathway.': 5.641802e-06,\n",
       " ' GO:0017038; P:protein import; IEA:InterPro.': 9.19038e-08,\n",
       " ' GO:0004822; F:isoleucine-tRNA ligase activity; IEA:UniProtKB-UniRule.': 2.58941e-07,\n",
       " ' GO:0006428; P:isoleucyl-tRNA aminoacylation; IEA:UniProtKB-UniRule.': 2.58941e-07,\n",
       " ' GO:0009318; C:exodeoxyribonuclease VII complex; IEA:InterPro.': 0.0,\n",
       " ' GO:0008855; F:exodeoxyribonuclease VII activity; IEA:UniProtKB-UniRule.': 0.0,\n",
       " ' GO:0006308; P:DNA catabolic process; IEA:UniProtKB-UniRule.': 0.0,\n",
       " ' GO:0003942; F:N-acetyl-gamma-glutamyl-phosphate reductase activity; IEA:UniProtKB-UniRule.': 1.2839768000000001e-05,\n",
       " ' GO:0106029; F:tRNA pseudouridine synthase activity; IEA:UniProtKB-EC.': 6.440927600000001e-06,\n",
       " ' GO:0031119; P:tRNA pseudouridine synthesis; IEA:UniProtKB-UniRule.': 6.2614996e-06,\n",
       " ' GO:0004329; F:formate-tetrahydrofolate ligase activity; IEA:UniProtKB-UniRule.': 8.952835699999999e-06,\n",
       " ' GO:0004459; F:L-lactate dehydrogenase activity; IEA:UniProtKB-UniRule.': 5.165303e-07,\n",
       " \" GO:0004590; F:orotidine-5'-phosphate decarboxylase activity; IEA:UniProtKB-UniRule.\": 4.4664999999999995e-06,\n",
       " ' GO:0008973; F:phosphopentomutase activity; IEA:UniProtKB-UniRule.': 4.0726649e-06,\n",
       " ' GO:0006015; P:5-phosphoribose 1-diphosphate biosynthetic process; IEA:UniProtKB-UniPathway.': 4.6741379e-06,\n",
       " ' GO:0043094; P:cellular metabolic compound salvage; IEA:InterPro.': 4.0726649e-06,\n",
       " ' GO:0009264; P:deoxyribonucleotide catabolic process; IEA:UniProtKB-UniRule.': 4.0726649e-06,\n",
       " ' GO:0009380; C:excinuclease repair complex; IEA:InterPro.': 3.8253281e-06,\n",
       " ' GO:0009381; F:excinuclease ABC activity; IEA:UniProtKB-UniRule.': 3.984281100000001e-06,\n",
       " ' GO:0006289; P:nucleotide-excision repair; IEA:UniProtKB-UniRule.': 3.984281100000001e-06,\n",
       " ' GO:0004525; F:ribonuclease III activity; IEA:UniProtKB-UniRule.': 4.171635e-06,\n",
       " ' GO:0006397; P:mRNA processing; IEA:UniProtKB-UniRule.': 4.3870140000000005e-06,\n",
       " ' GO:0016075; P:rRNA catabolic process; IEA:InterPro.': 4.3870140000000005e-06,\n",
       " ' GO:0050044; F:galactose-6-phosphate isomerase activity; IEA:UniProtKB-UniRule.': 0.0,\n",
       " ' GO:0019388; P:galactose catabolic process; IEA:UniProtKB-UniPathway.': 0.0,\n",
       " ' GO:0019512; P:lactose catabolic process via tagatose-6-phosphate; IEA:UniProtKB-UniRule.': 0.0,\n",
       " ' GO:0004370; F:glycerol kinase activity; ISS:UniProtKB.': 3.4497713e-06,\n",
       " ' GO:0019563; P:glycerol catabolic process; IEA:UniProtKB-UniPathway.': 3.4497713e-06,\n",
       " ' GO:0006071; P:glycerol metabolic process; ISS:UniProtKB.': 3.4497713e-06,\n",
       " ' GO:0006072; P:glycerol-3-phosphate metabolic process; IEA:UniProtKB-UniRule.': 3.4497713e-06,\n",
       " ' GO:0005737; C:cytoplasm; IEA:InterPro.': 3.8005293000000003e-06,\n",
       " ' GO:0004359; F:glutaminase activity; IEA:InterPro.': 1.272593e-07,\n",
       " ' GO:0003952; F:NAD+ synthase (glutamine-hydrolyzing) activity; IEA:InterPro.': 1.272593e-07,\n",
       " ' GO:0008795; F:NAD+ synthase activity; IEA:UniProtKB-UniRule.': 1.272593e-07,\n",
       " ' GO:0009435; P:NAD biosynthetic process; IEA:UniProtKB-UniRule.': 3.1109593e-06,\n",
       " ' GO:0009317; C:acetyl-CoA carboxylase complex; IEA:InterPro.': 5.104704e-06,\n",
       " ' GO:0003989; F:acetyl-CoA carboxylase activity; IEA:InterPro.': 5.104704e-06,\n",
       " ' GO:0016743; F:carboxyl- or carbamoyltransferase activity; IEA:UniProtKB-UniRule.': 5.104704e-06,\n",
       " ' GO:2001295; P:malonyl-CoA biosynthetic process; IEA:UniProtKB-UniPathway.': 5.104704e-06,\n",
       " ' GO:0003883; F:CTP synthase activity; IEA:UniProtKB-UniRule.': 2.930507e-06,\n",
       " ' GO:0006541; P:glutamine metabolic process; IEA:UniProtKB-KW.': 4.782072590000001e-05,\n",
       " \" GO:0008408; F:3'-5' exonuclease activity; IEA:UniProtKB-UniRule.\": 9.02345e-08,\n",
       " ' GO:0047200; F:tetrahydrodipicolinate N-acetyltransferase activity; IEA:UniProtKB-EC.': 0.0,\n",
       " ' GO:0004160; F:dihydroxy-acid dehydratase activity; IEA:UniProtKB-UniRule.': 1.22854106e-05,\n",
       " ' GO:0009097; P:isoleucine biosynthetic process; IEA:UniProtKB-UniRule.': 2.12671744e-05,\n",
       " ' GO:0009099; P:valine biosynthetic process; IEA:UniProtKB-UniRule.': 2.12671744e-05,\n",
       " ' GO:0036370; F:D-alanyl carrier activity; IEA:UniProtKB-UniRule.': 6.27384e-08,\n",
       " ' GO:0070395; P:lipoteichoic acid biosynthetic process; IEA:UniProtKB-UniRule.': 6.27384e-08,\n",
       " ' GO:0004820; F:glycine-tRNA ligase activity; ISS:UniProtKB.': 7.219000000000001e-06,\n",
       " ' GO:0046983; F:protein dimerization activity; ISS:UniProtKB.': 7.219000000000001e-06,\n",
       " ' GO:0004829; F:threonine-tRNA ligase activity; IEA:UniProtKB-UniRule.': 2.77124e-07,\n",
       " ' GO:0006435; P:threonyl-tRNA aminoacylation; IEA:UniProtKB-UniRule.': 2.77124e-07,\n",
       " ' GO:0003729; F:mRNA binding; IEA:UniProtKB-UniRule.': 3.34743971e-05,\n",
       " ' GO:0008829; F:dCTP deaminase activity; IEA:UniProtKB-UniRule.': 4.3982959999999997e-07,\n",
       " ' GO:0006226; P:dUMP biosynthetic process; IEA:UniProtKB-UniPathway.': 3.2371995999999995e-06,\n",
       " ' GO:0006229; P:dUTP biosynthetic process; IEA:UniProtKB-UniRule.': 4.3982959999999997e-07,\n",
       " ' GO:0004550; F:nucleoside diphosphate kinase activity; IEA:UniProtKB-UniRule.': 7.901258000000001e-07,\n",
       " ' GO:0006241; P:CTP biosynthetic process; IEA:UniProtKB-UniRule.': 7.901258000000001e-07,\n",
       " ' GO:0006183; P:GTP biosynthetic process; IEA:UniProtKB-UniRule.': 7.901258000000001e-07,\n",
       " ' GO:0006228; P:UTP biosynthetic process; IEA:UniProtKB-UniRule.': 7.901258000000001e-07,\n",
       " ' GO:0004781; F:sulfate adenylyltransferase (ATP) activity; IEA:UniProtKB-UniRule.': 2.417135e-05,\n",
       " ' GO:0070814; P:hydrogen sulfide biosynthetic process; IEA:UniProtKB-UniPathway.': 2.7482558999999998e-05,\n",
       " ' GO:0000103; P:sulfate assimilation; IEA:UniProtKB-UniRule.': 2.7482558999999998e-05,\n",
       " ' GO:0019419; P:sulfate reduction; IEA:InterPro.': 2.094712e-05,\n",
       " ' GO:0042254; P:ribosome biogenesis; IEA:UniProtKB-KW.': 1.2037768000000001e-05,\n",
       " ' GO:0008659; F:(3R)-hydroxymyristoyl-[acyl-carrier-protein] dehydratase activity; IEA:UniProtKB-EC.': 5.04844e-06,\n",
       " ' GO:0008693; F:3-hydroxydecanoyl-[acyl-carrier-protein] dehydratase activity; IEA:UniProtKB-EC.': 5.04844e-06,\n",
       " ' GO:0047451; F:3-hydroxyoctanoyl-[acyl-carrier-protein] dehydratase activity; IEA:UniProtKB-EC.': 5.04844e-06,\n",
       " ' GO:0004317; F:3-hydroxypalmitoyl-[acyl-carrier-protein] dehydratase activity; IEA:UniProtKB-EC.': 5.04844e-06,\n",
       " ' GO:0009245; P:lipid A biosynthetic process; IEA:UniProtKB-UniRule.': 1.2413663e-05,\n",
       " ' GO:0004823; F:leucine-tRNA ligase activity; IEA:UniProtKB-UniRule.': 3.42931e-06,\n",
       " ' GO:0006429; P:leucyl-tRNA aminoacylation; IEA:UniProtKB-UniRule.': 3.42931e-06,\n",
       " ' GO:0016783; F:sulfurtransferase activity; IEA:InterPro.': 1.3584549e-05,\n",
       " ' GO:0009347; C:aspartate carbamoyltransferase complex; IEA:InterPro.': 5.879286000000001e-06,\n",
       " ' GO:0006221; P:pyrimidine nucleotide biosynthetic process; IEA:UniProtKB-UniRule.': 5.2957590000000005e-06,\n",
       " ' GO:0017111; F:nucleoside-triphosphatase activity; ISS:UniProtKB.': 0.0,\n",
       " ' GO:0009117; P:nucleotide metabolic process; IEA:UniProtKB-KW.': 1.4379897499999997e-05,\n",
       " ' GO:0008324; F:cation transmembrane transporter activity; IEA:InterPro.': 1.1035219999999999e-05,\n",
       " ' GO:0006813; P:potassium ion transport; IEA:InterPro.': 1.1035219999999999e-05,\n",
       " ' GO:0003866; F:3-phosphoshikimate 1-carboxyvinyltransferase activity; IEA:UniProtKB-UniRule.': 8.663674e-07,\n",
       " ' GO:0006417; P:regulation of translation; IEA:UniProtKB-UniRule.': 0.0,\n",
       " ' GO:0008883; F:glutamyl-tRNA reductase activity; IEA:UniProtKB-UniRule.': 0.0,\n",
       " ' GO:0006782; P:protoporphyrinogen IX biosynthetic process; IEA:UniProtKB-UniPathway.': 5.34966e-08,\n",
       " ' GO:0032955; P:regulation of division septum assembly; IEA:InterPro.': 6.942082e-06,\n",
       " ' GO:0003911; F:DNA ligase (NAD+) activity; IEA:UniProtKB-UniRule.': 1.403377e-07,\n",
       " ' GO:0006281; P:DNA repair; IEA:UniProtKB-KW.': 1.403377e-07,\n",
       " ' GO:0006260; P:DNA replication; IEA:UniProtKB-KW.': 4.165255400000001e-06,\n",
       " ' GO:0016226; P:iron-sulfur cluster assembly; IEA:InterPro.': 0.0,\n",
       " ' GO:0003690; F:double-stranded DNA binding; IEA:UniProtKB-UniRule.': 9.02345e-08,\n",
       " ' GO:0070181; F:small ribosomal subunit rRNA binding; IEA:UniProtKB-UniRule.': 0.0,\n",
       " ' GO:0005886; C:plasma membrane; IEA:UniProtKB-UniRule.': 0.0,\n",
       " ' GO:0043190; C:ATP-binding cassette (ABC) transporter complex; IEA:InterPro.': 3.0289982e-06,\n",
       " ' GO:0042597; C:periplasmic space; IEA:UniProtKB-SubCell.': 4.925840000000001e-06,\n",
       " ' GO:0004373; F:glycogen (starch) synthase activity; IEA:InterPro.': 2.3764e-07,\n",
       " ' GO:0009011; F:starch synthase activity; IEA:UniProtKB-UniRule.': 2.3764e-07,\n",
       " ' GO:0008694; F:3-octaprenyl-4-hydroxybenzoate carboxy-lyase activity; IEA:UniProtKB-UniRule.': 0.0,\n",
       " ' GO:0006744; P:ubiquinone biosynthetic process; IEA:UniProtKB-UniRule.': 0.0,\n",
       " ' GO:0016151; F:nickel cation binding; IEA:UniProtKB-UniRule.': 8.797175999999999e-07,\n",
       " ' GO:0018307; P:enzyme active site formation; IEA:InterPro.': 0.0,\n",
       " ' GO:0065003; P:protein-containing complex assembly; IEA:InterPro.': 0.0,\n",
       " ' GO:0019627; P:urea metabolic process; IEA:InterPro.': 0.0,\n",
       " ' GO:0004849; F:uridine kinase activity; IEA:UniProtKB-UniRule.': 0.0,\n",
       " ' GO:0044211; P:CTP salvage; IEA:UniProtKB-UniPathway.': 0.0,\n",
       " ' GO:0004413; F:homoserine kinase activity; IEA:UniProtKB-UniRule.': 1.1105e-07,\n",
       " ' GO:0009088; P:threonine biosynthetic process; IEA:UniProtKB-UniRule.': 1.1105e-07,\n",
       " ' GO:0008710; F:8-amino-7-oxononanoate synthase activity; IEA:UniProtKB-EC.': 0.0,\n",
       " ' GO:0009102; P:biotin biosynthetic process; IEA:UniProtKB-UniPathway.': 0.0,\n",
       " ' GO:0030060; F:L-malate dehydrogenase activity; IEA:UniProtKB-UniRule.': 1.07658e-05,\n",
       " ' GO:0006108; P:malate metabolic process; IEA:InterPro.': 0.0,\n",
       " ' GO:0006099; P:tricarboxylic acid cycle; IEA:UniProtKB-UniRule.': 1.07658e-05,\n",
       " ' GO:0003872; F:6-phosphofructokinase activity; IEA:UniProtKB-UniRule.': 3.235377e-07,\n",
       " ' GO:0006002; P:fructose 6-phosphate metabolic process; IEA:InterPro.': 3.235377e-07,\n",
       " ' GO:0004765; F:shikimate kinase activity; IEA:UniProtKB-UniRule.': 4.108558e-06,\n",
       " ' GO:0031071; F:cysteine desulfurase activity; IEA:UniProtKB-UniRule.': 0.0,\n",
       " ' GO:0044571; P:[2Fe-2S] cluster assembly; IEA:UniProtKB-UniRule.': 0.0,\n",
       " ' GO:0003856; F:3-dehydroquinate synthase activity; IEA:InterPro.': 0.0,\n",
       " ' GO:0102042; F:dehydroquinate synthase activity; IEA:UniProtKB-EC.': 0.0,\n",
       " ' GO:0051287; F:NAD binding; IEA:UniProtKB-UniRule.': 0.0,\n",
       " ' GO:0004825; F:methionine-tRNA ligase activity; IEA:UniProtKB-UniRule.': 6.11711e-08,\n",
       " ' GO:0006431; P:methionyl-tRNA aminoacylation; IEA:UniProtKB-UniRule.': 6.11711e-08,\n",
       " ' GO:1990077; C:primosome complex; IEA:UniProtKB-KW.': 0.0,\n",
       " ' GO:0003896; F:DNA primase activity; IEA:UniProtKB-UniRule.': 0.0,\n",
       " ' GO:0016874; F:ligase activity; IEA:UniProtKB-UniRule.': 0.0,\n",
       " ' GO:0006094; P:gluconeogenesis; IEA:InterPro.': 0.0,\n",
       " ' GO:0006464; P:cellular protein modification process; IEA:UniProtKB-UniRule.': 6.95321e-07,\n",
       " ' GO:0051604; P:protein maturation; IEA:InterPro.': 6.95321e-07,\n",
       " ' GO:0047294; F:phosphoglycerol geranylgeranyltransferase activity; IEA:UniProtKB-UniRule.': 0.0,\n",
       " ' GO:0046474; P:glycerophospholipid biosynthetic process; IEA:UniProtKB-UniRule.': 0.0,\n",
       " ' GO:0052645; P:F420-0 metabolic process; IEA:UniProtKB-UniRule.': 0.0,\n",
       " ' GO:0016301; F:kinase activity; IEA:UniProtKB-UniRule.': 0.0,\n",
       " ' GO:0003855; F:3-dehydroquinate dehydratase activity; IEA:UniProtKB-UniRule.': 3.0539370000000004e-07,\n",
       " ' GO:0008276; F:protein methyltransferase activity; IEA:InterPro.': 0.0,\n",
       " ' GO:0009236; P:cobalamin biosynthetic process; IEA:UniProtKB-UniPathway.': 7.531227e-06,\n",
       " ' GO:0046140; P:corrin biosynthetic process; IEA:UniProtKB-UniRule.': 0.0,\n",
       " ' GO:0000178; C:exosome (RNase complex); IEA:UniProtKB-KW.': 0.0,\n",
       " ' GO:0008143; F:poly(A) binding; IEA:InterPro.': 0.0,\n",
       " ' GO:0004298; F:threonine-type endopeptidase activity; IEA:UniProtKB-UniRule.': 0.0,\n",
       " ' GO:0006511; P:ubiquitin-dependent protein catabolic process; IEA:InterPro.': 0.0,\n",
       " ' GO:0030677; C:ribonuclease P complex; IEA:UniProtKB-UniRule.': 0.0,\n",
       " ' GO:0050492; F:glycerol-1-phosphate dehydrogenase [NAD(P)+] activity; IEA:UniProtKB-UniRule.': 0.0,\n",
       " ' GO:0070568; F:guanylyltransferase activity; IEA:UniProtKB-UniRule.': 0.0,\n",
       " ' GO:0009108; P:coenzyme biosynthetic process; IEA:UniProtKB-UniRule.': 0.0,\n",
       " ' GO:0004067; F:asparaginase activity; IEA:InterPro.': 0.0,\n",
       " ' GO:0004812; F:aminoacyl-tRNA ligase activity; IEA:InterPro.': 0.0,\n",
       " ' GO:0003922; F:GMP synthase (glutamine-hydrolyzing) activity; IEA:UniProtKB-UniRule.': 2.02662624e-05,\n",
       " ' GO:0004087; F:carbamoyl-phosphate synthase (ammonia) activity; IEA:UniProtKB-EC.': 0.0,\n",
       " \" GO:0008650; F:rRNA (uridine-2'-O-)-methyltransferase activity; IEA:UniProtKB-UniRule.\": 0.0,\n",
       " ' GO:0008094; F:DNA-dependent ATPase activity; IEA:InterPro.': 5.3959e-08,\n",
       " ' GO:0016783; F:sulfurtransferase activity; IEA:UniProtKB-UniRule.': 1.02272156e-05,\n",
       " ' GO:0004810; F:tRNA adenylyltransferase activity; IEA:InterPro.': 4.4221286e-06,\n",
       " ' GO:0034227; P:tRNA thio-modification; IEA:UniProtKB-UniRule.': 4.4221286e-06,\n",
       " ' GO:0004813; F:alanine-tRNA ligase activity; IEA:UniProtKB-UniRule.': 5.59518e-08,\n",
       " ' GO:0006419; P:alanyl-tRNA aminoacylation; IEA:UniProtKB-UniRule.': 5.59518e-08,\n",
       " ' GO:0015450; F:P-P-bond-hydrolysis-driven protein transmembrane transporter activity; IEA:InterPro.': 4.5529099999999997e-07,\n",
       " ' GO:0009306; P:protein secretion; IEA:UniProtKB-UniRule.': 0.0,\n",
       " ' GO:0006367; P:transcription initiation from RNA polymerase II promoter; IEA:InterPro.': 0.0,\n",
       " ' GO:0071025; P:RNA surveillance; IEA:InterPro.': 0.0,\n",
       " ' GO:0003910; F:DNA ligase (ATP) activity; IEA:UniProtKB-UniRule.': 0.0,\n",
       " ' GO:0071897; P:DNA biosynthetic process; IEA:InterPro.': 0.0,\n",
       " ' GO:0051103; P:DNA ligation involved in DNA repair; IEA:InterPro.': 0.0,\n",
       " ' GO:0046872; F:metal ion binding; IEA:InterPro.': 0.0,\n",
       " ' GO:0006096; P:glycolytic process; IEA:UniProtKB-UniPathway.': 0.0,\n",
       " ' GO:0016272; C:prefoldin complex; IEA:UniProtKB-UniRule.': 0.0,\n",
       " ' GO:0042256; P:mature ribosome assembly; IEA:InterPro.': 0.0,\n",
       " ' GO:0004127; F:cytidylate kinase activity; IEA:UniProtKB-UniRule.': 3.106333e-06,\n",
       " ' GO:0006220; P:pyrimidine nucleotide metabolic process; IEA:UniProtKB-UniRule.': 3.2159470000000002e-06,\n",
       " ' GO:0008097; F:5S rRNA binding; IEA:InterPro.': 3.6347836e-06,\n",
       " ' GO:0016787; F:hydrolase activity; IEA:UniProtKB-UniRule.': 0.0,\n",
       " ' GO:0008840; F:4-hydroxy-tetrahydrodipicolinate synthase activity; IEA:UniProtKB-UniRule.': 4.0648530000000004e-06,\n",
       " ' GO:0009089; P:lysine biosynthetic process via diaminopimelate; IEA:UniProtKB-UniPathway.': 6.460053000000001e-06,\n",
       " ' GO:0008168; F:methyltransferase activity; IEA:UniProtKB-UniRule.': 0.0,\n",
       " ' GO:0032259; P:methylation; IEA:UniProtKB-KW.': 1.1479586399999997e-05,\n",
       " ' GO:0003919; F:FMN adenylyltransferase activity; IEA:UniProtKB-UniRule.': 0.0,\n",
       " ' GO:0006747; P:FAD biosynthetic process; IEA:UniProtKB-UniRule.': 0.0,\n",
       " ' GO:0046444; P:FMN metabolic process; IEA:UniProtKB-UniRule.': 0.0,\n",
       " ' GO:0000034; F:adenine deaminase activity; IEA:UniProtKB-UniRule.': 6.50492e-07,\n",
       " ' GO:0006146; P:adenine catabolic process; IEA:InterPro.': 6.50492e-07,\n",
       " ' GO:0003746; F:translation elongation factor activity; IEA:InterPro.': 0.0,\n",
       " ' GO:0045901; P:positive regulation of translational elongation; IEA:InterPro.': 0.0,\n",
       " ' GO:0045905; P:positive regulation of translational termination; IEA:InterPro.': 0.0,\n",
       " ' GO:0006452; P:translational frameshifting; IEA:InterPro.': 0.0,\n",
       " ' GO:0016740; F:transferase activity; IEA:UniProtKB-KW.': 7.27841e-06,\n",
       " ' GO:0022625; C:cytosolic large ribosomal subunit; IEA:InterPro.': 0.0,\n",
       " ' GO:0002128; P:tRNA nucleoside ribose methylation; IEA:UniProtKB-UniRule.': 0.0,\n",
       " ' GO:0047295; F:geranylgeranylglycerol-phosphate geranylgeranyltransferase activity; IEA:UniProtKB-UniRule.': 0.0,\n",
       " ' GO:0008967; F:phosphoglycolate phosphatase activity; IEA:UniProtKB-UniRule.': 0.0,\n",
       " ' GO:0008839; F:4-hydroxy-tetrahydrodipicolinate reductase; IEA:InterPro.': 0.0,\n",
       " ' GO:0004365; F:glyceraldehyde-3-phosphate dehydrogenase (NAD+) (phosphorylating) activity; IEA:UniProtKB-UniRule.': 0.0,\n",
       " ' GO:0009089; P:lysine biosynthetic process via diaminopimelate; IEA:InterPro.': 0.0,\n",
       " ' GO:0043740; F:GTP cyclohydrolase IIa activity; IEA:UniProtKB-EC.': 0.0,\n",
       " ' GO:0009058; P:biosynthetic process; IEA:InterPro.': 5.13951e-06,\n",
       " ' GO:0003937; F:IMP cyclohydrolase activity; IEA:UniProtKB-UniRule.': 4.0481210000000003e-07,\n",
       " ' GO:0004068; F:aspartate 1-decarboxylase activity; IEA:UniProtKB-UniRule.': 1.3141623e-05,\n",
       " ' GO:0004837; F:tyrosine decarboxylase activity; IEA:UniProtKB-UniRule.': 0.0,\n",
       " ' GO:0019752; P:carboxylic acid metabolic process; IEA:InterPro.': 1.07658e-05,\n",
       " ' GO:2001120; P:methanofuran biosynthetic process; IEA:UniProtKB-UniRule.': 0.0,\n",
       " ' GO:0004809; F:tRNA (guanine-N2-)-methyltransferase activity; IEA:UniProtKB-UniRule.': 0.0,\n",
       " ' GO:0003933; F:GTP cyclohydrolase activity; IEA:UniProtKB-UniRule.': 0.0,\n",
       " ' GO:0030515; F:snoRNA binding; IEA:InterPro.': 0.0,\n",
       " ' GO:0001522; P:pseudouridine synthesis; IEA:InterPro.': 0.0,\n",
       " ' GO:0030337; F:DNA polymerase processivity factor activity; IEA:UniProtKB-UniRule.': 0.0,\n",
       " ' GO:0004048; F:anthranilate phosphoribosyltransferase activity; IEA:UniProtKB-UniRule.': 9.340901e-06,\n",
       " ' GO:0005663; C:DNA replication factor C complex; IEA:InterPro.': 0.0,\n",
       " ' GO:0003689; F:DNA clamp loader activity; IEA:UniProtKB-UniRule.': 0.0,\n",
       " ' GO:0000408; C:EKC/KEOPS complex; IEA:InterPro.': 0.0,\n",
       " ' GO:0009236; P:cobalamin biosynthetic process; IEA:UniProtKB-UniRule.': 0.0,\n",
       " ' GO:0015948; P:methanogenesis; IEA:UniProtKB-KW.': 0.0,\n",
       " \" GO:0008253; F:5'-nucleotidase activity; IEA:UniProtKB-UniRule.\": 3.7682360000000003e-06,\n",
       " ' GO:0046872; F:metal ion binding; IEA:UniProtKB-UniRule.': 1.1047569100000001e-05,\n",
       " ' GO:0004455; F:ketol-acid reductoisomerase activity; IEA:UniProtKB-UniRule.': 8.981763800000001e-06,\n",
       " ' GO:0004585; F:ornithine carbamoyltransferase activity; IEA:UniProtKB-UniRule.': 6.04865e-07,\n",
       " ' GO:0004637; F:phosphoribosylamine-glycine ligase activity; IEA:UniProtKB-UniRule.': 0.0,\n",
       " ' GO:0009113; P:purine nucleobase biosynthetic process; IEA:InterPro.': 0.0,\n",
       " ' GO:0008483; F:transaminase activity; IEA:InterPro.': 0.0,\n",
       " ' GO:0030956; C:glutamyl-tRNA(Gln) amidotransferase complex; IEA:InterPro.': 3.889244e-06,\n",
       " ' GO:0004040; F:amidase activity; IEA:InterPro.': 3.889244e-06,\n",
       " ' GO:0000166; F:nucleotide binding; IEA:UniProtKB-UniRule.': 7.30471e-07,\n",
       " ' GO:0008531; F:riboflavin kinase activity; IEA:InterPro.': 0.0,\n",
       " ' GO:0009398; P:FMN biosynthetic process; IEA:UniProtKB-UniRule.': 0.0,\n",
       " ' GO:0009231; P:riboflavin biosynthetic process; IEA:InterPro.': 0.0,\n",
       " \" GO:0090613; F:5'-deoxyadenosine deaminase activity; IEA:UniProtKB-UniRule.\": 0.0,\n",
       " ' GO:0004000; F:adenosine deaminase activity; IEA:UniProtKB-UniRule.': 2.29315e-08,\n",
       " ' GO:0050270; F:S-adenosylhomocysteine deaminase activity; IEA:UniProtKB-EC.': 0.0,\n",
       " ' GO:0004372; F:glycine hydroxymethyltransferase activity; IEA:UniProtKB-UniRule.': 2.4205520799999998e-05,\n",
       " ' GO:0019264; P:glycine biosynthetic process from serine; IEA:UniProtKB-UniRule.': 2.4205520799999998e-05,\n",
       " ' GO:0035999; P:tetrahydrofolate interconversion; IEA:InterPro.': 0.0,\n",
       " ' GO:0004642; F:phosphoribosylformylglycinamidine synthase activity; IEA:UniProtKB-UniRule.': 0.0,\n",
       " ' GO:0048500; C:signal recognition particle; IEA:UniProtKB-UniRule.': 0.0,\n",
       " ' GO:0008312; F:7S RNA binding; IEA:UniProtKB-UniRule.': 0.0,\n",
       " ' GO:0006614; P:SRP-dependent cotranslational protein targeting to membrane; IEA:InterPro.': 1.0505e-06,\n",
       " ' GO:0004639; F:phosphoribosylaminoimidazolesuccinocarboxamide synthase activity; IEA:UniProtKB-UniRule.': 9.101420199999999e-06,\n",
       " ' GO:0009236; P:cobalamin biosynthetic process; IEA:InterPro.': 4.827678199999999e-06,\n",
       " ' GO:0006400; P:tRNA modification; IEA:InterPro.': 5.316017e-06,\n",
       " ' GO:0004421; F:hydroxymethylglutaryl-CoA synthase activity; IEA:InterPro.': 0.0,\n",
       " ' GO:0008299; P:isoprenoid biosynthetic process; IEA:InterPro.': 0.0,\n",
       " ' GO:0004749; F:ribose phosphate diphosphokinase activity; IEA:UniProtKB-UniRule.': 6.014730000000001e-07,\n",
       " ' GO:0009165; P:nucleotide biosynthetic process; IEA:UniProtKB-KW.': 6.014730000000001e-07,\n",
       " ' GO:0009156; P:ribonucleoside monophosphate biosynthetic process; IEA:UniProtKB-UniRule.': 6.014730000000001e-07,\n",
       " ' GO:0004386; F:helicase activity; IEA:UniProtKB-KW.': 3.24867e-06,\n",
       " ' GO:0016830; F:carbon-carbon lyase activity; IEA:UniProtKB-UniRule.': 0.0,\n",
       " ' GO:0046467; P:membrane lipid biosynthetic process; IEA:InterPro.': 0.0,\n",
       " ' GO:0062193; F:D-ribose pyranase activity; IEA:UniProtKB-EC.': 0.0,\n",
       " ' GO:0016872; F:intramolecular lyase activity; IEA:UniProtKB-UniRule.': 0.0,\n",
       " ' GO:0048029; F:monosaccharide binding; IEA:InterPro.': 0.0,\n",
       " ' GO:0019303; P:D-ribose catabolic process; IEA:UniProtKB-UniRule.': 0.0,\n",
       " ' GO:0019547; P:arginine catabolic process to ornithine; IEA:UniProtKB-UniPathway.': 0.0,\n",
       " ' GO:0019546; P:arginine deiminase pathway; IEA:UniProtKB-UniRule.': 0.0,\n",
       " ' GO:0004799; F:thymidylate synthase activity; IEA:UniProtKB-UniRule.': 5.820907e-06,\n",
       " ' GO:0006231; P:dTMP biosynthetic process; IEA:UniProtKB-UniRule.': 5.820907e-06,\n",
       " ' GO:0006235; P:dTTP biosynthetic process; IEA:UniProtKB-UniPathway.': 5.820907e-06,\n",
       " ' GO:0019310; P:inositol catabolic process; IEA:UniProtKB-UniRule.': 0.0,\n",
       " ' GO:0016410; F:N-acyltransferase activity; IEA:InterPro.': 4.0751970000000005e-06,\n",
       " ' GO:0052692; F:raffinose alpha-galactosidase activity; IEA:UniProtKB-EC.': 3.838519e-06,\n",
       " ' GO:0008152; P:metabolic process; IEA:UniProtKB-KW.': 4.091402e-06,\n",
       " ' GO:0016491; F:oxidoreductase activity; IEA:InterPro.': 1.1053031e-05,\n",
       " ' GO:0003935; F:GTP cyclohydrolase II activity; IEA:UniProtKB-UniRule.': 3.6663199999999997e-06,\n",
       " ' GO:0062192; F:L-rhamnose mutarotase activity; IEA:UniProtKB-EC.': 5.95391e-06,\n",
       " ' GO:0019299; P:rhamnose metabolic process; IEA:UniProtKB-UniPathway.': 5.95391e-06,\n",
       " ' GO:0050480; F:imidazolonepropionase activity; IEA:UniProtKB-UniRule.': 3.5309420000000003e-06,\n",
       " ' GO:0004821; F:histidine-tRNA ligase activity; IEA:UniProtKB-UniRule.': 6.5410732e-06,\n",
       " ' GO:0006427; P:histidyl-tRNA aminoacylation; IEA:UniProtKB-UniRule.': 6.5410732e-06,\n",
       " ' GO:0004020; F:adenylylsulfate kinase activity; IEA:UniProtKB-UniRule.': 3.09494e-06,\n",
       " ' GO:0032300; C:mismatch repair complex; IEA:InterPro.': 6.9771250000000006e-06,\n",
       " ' GO:0030983; F:mismatched DNA binding; IEA:InterPro.': 1.5602343400000002e-05,\n",
       " ' GO:0006298; P:mismatch repair; IEA:UniProtKB-UniRule.': 7.012644100000001e-06,\n",
       " ' GO:0004315; F:3-oxoacyl-[acyl-carrier-protein] synthase activity; IEA:InterPro.': 3.7023279000000004e-05,\n",
       " ' GO:0033818; F:beta-ketoacyl-acyl-carrier-protein synthase III activity; IEA:UniProtKB-UniRule.': 3.318034e-05,\n",
       " \" GO:0033856; F:pyridoxine 5'-phosphate synthase activity; IEA:UniProtKB-EC.\": 3.340899e-06,\n",
       " ' GO:0008615; P:pyridoxine biosynthetic process; IEA:UniProtKB-UniRule.': 1.1668369e-05,\n",
       " ' GO:0008776; F:acetate kinase activity; IEA:UniProtKB-UniRule.': 1.0882511e-05,\n",
       " ' GO:0006085; P:acetyl-CoA biosynthetic process; IEA:UniProtKB-UniPathway.': 1.0882511e-05,\n",
       " ' GO:0006082; P:organic acid metabolic process; IEA:InterPro.': 1.0882511e-05,\n",
       " ' GO:0004817; F:cysteine-tRNA ligase activity; IEA:UniProtKB-UniRule.': 4.8290019e-06,\n",
       " ' GO:0006423; P:cysteinyl-tRNA aminoacylation; IEA:UniProtKB-UniRule.': 4.8290019e-06,\n",
       " ' GO:0002098; P:tRNA wobble uridine modification; IEA:InterPro.': 1.36717e-07,\n",
       " ' GO:0004595; F:pantetheine-phosphate adenylyltransferase activity; IEA:UniProtKB-UniRule.': 1.2888752899999999e-05,\n",
       " ' GO:0047761; F:butyrate kinase activity; IEA:UniProtKB-UniRule.': 4.49066e-06,\n",
       " ' GO:0008736; F:L-fucose isomerase activity; IEA:UniProtKB-UniRule.': 0.0,\n",
       " ' GO:0042355; P:L-fucose catabolic process; IEA:UniProtKB-UniRule.': 0.0,\n",
       " ' GO:0006007; P:glucose catabolic process; IEA:InterPro.': 1.131842e-05,\n",
       " ' GO:0005737; C:cytoplasm; IEA:UniProtKB-UniRule.': 7.100439e-06,\n",
       " ' GO:0009295; C:nucleoid; IEA:UniProtKB-SubCell.': 3.06513e-06,\n",
       " ' GO:0004170; F:dUTP diphosphatase activity; IEA:UniProtKB-UniRule.': 2.79737e-06,\n",
       " ' GO:0046081; P:dUTP catabolic process; IEA:InterPro.': 2.79737e-06,\n",
       " ' GO:0005960; C:glycine cleavage complex; IEA:InterPro.': 7.911334e-06,\n",
       " ' GO:0019464; P:glycine decarboxylation via glycine cleavage system; IEA:UniProtKB-UniRule.': 1.233692e-05,\n",
       " ' GO:0004654; F:polyribonucleotide nucleotidyltransferase activity; IEA:UniProtKB-UniRule.': 1.444696e-07,\n",
       " ' GO:0006402; P:mRNA catabolic process; IEA:UniProtKB-UniRule.': 7.968814199999999e-06,\n",
       " ' GO:0006396; P:RNA processing; IEA:InterPro.': 6.562936e-07,\n",
       " \" GO:0009029; F:tetraacyldisaccharide 4'-kinase activity; IEA:UniProtKB-UniRule.\": 3.150862e-06,\n",
       " ' GO:0004515; F:nicotinate-nucleotide adenylyltransferase activity; IEA:UniProtKB-UniRule.': 2.9837e-06,\n",
       " ' GO:0004017; F:adenylate kinase activity; IEA:UniProtKB-UniRule.': 1.58610994e-05,\n",
       " ' GO:0008137; F:NADH dehydrogenase (ubiquinone) activity; IEA:InterPro.': 1.765022e-05,\n",
       " ' GO:0048038; F:quinone binding; IEA:UniProtKB-KW.': 2.800054e-05,\n",
       " ' GO:0042773; P:ATP synthesis coupled electron transport; IEA:InterPro.': 2.88818e-06,\n",
       " ' GO:0030964; C:NADH dehydrogenase complex; IEA:InterPro.': 5.88243e-06,\n",
       " ' GO:0008661; F:1-deoxy-D-xylulose-5-phosphate synthase activity; IEA:UniProtKB-UniRule.': 0.0,\n",
       " ' GO:0052865; P:1-deoxy-D-xylulose 5-phosphate biosynthetic process; IEA:UniProtKB-UniPathway.': 0.0,\n",
       " ' GO:0004797; F:thymidine kinase activity; IEA:UniProtKB-UniRule.': 4.11286e-06,\n",
       " ' GO:0071897; P:DNA biosynthetic process; IEA:UniProtKB-KW.': 4.11286e-06,\n",
       " ' GO:0004609; F:phosphatidylserine decarboxylase activity; IEA:UniProtKB-UniRule.': 6.5266109999999996e-06,\n",
       " ' GO:0006646; P:phosphatidylethanolamine biosynthetic process; IEA:UniProtKB-UniPathway.': 6.5266109999999996e-06,\n",
       " ' GO:0016992; F:lipoate synthase activity; IEA:UniProtKB-UniRule.': 5.715001e-06,\n",
       " ' GO:0009249; P:protein lipoylation; IEA:UniProtKB-UniRule.': 5.715001e-06,\n",
       " ' GO:0008276; F:protein methyltransferase activity; IEA:UniProtKB-UniRule.': 8.735461999999999e-06,\n",
       " ' GO:0008833; F:deoxyribonuclease IV (phage-T4-induced) activity; IEA:UniProtKB-UniRule.': 3.1549886e-06,\n",
       " ' GO:0035529; F:NADH pyrophosphatase activity; IEA:UniProtKB-EC.': 9.409863999999998e-06,\n",
       " ' GO:0047429; F:nucleoside-triphosphate diphosphatase activity; IEA:UniProtKB-EC.': 9.227258999999998e-06,\n",
       " ' GO:0009279; C:cell outer membrane; IEA:UniProtKB-SubCell.': 4.2924335e-06,\n",
       " ' GO:0009289; C:pilus; IEA:UniProtKB-SubCell.': 3.19144e-07,\n",
       " ' GO:0102955; F:S-adenosylmethionine:2-demethylmenaquinol-7 methyltransferase activity; IEA:UniProtKB-EC.': 5.46576e-06,\n",
       " ' GO:0004832; F:valine-tRNA ligase activity; IEA:UniProtKB-UniRule.': 0.0,\n",
       " ' GO:0006438; P:valyl-tRNA aminoacylation; IEA:UniProtKB-UniRule.': 0.0,\n",
       " \" GO:0042781; F:3'-tRNA processing endoribonuclease activity; IEA:UniProtKB-UniRule.\": 8.728016399999999e-06,\n",
       " ' GO:0003864; F:3-methyl-2-oxobutanoate hydroxymethyltransferase activity; IEA:UniProtKB-UniRule.': 9.2025e-06,\n",
       " ' GO:0015940; P:pantothenate biosynthetic process; IEA:UniProtKB-UniRule.': 2.5966376e-05,\n",
       " ' GO:0004592; F:pantoate-beta-alanine ligase activity; IEA:UniProtKB-UniRule.': 3.622253e-06,\n",
       " ' GO:0006523; P:alanine biosynthetic process; IEA:InterPro.': 1.3141623e-05,\n",
       " ' GO:0006094; P:gluconeogenesis; IEA:UniProtKB-UniPathway.': 6.437275e-07,\n",
       " ' GO:0047304; F:2-aminoethylphosphonate-pyruvate transaminase activity; IEA:UniProtKB-UniRule.': 2.75296e-06,\n",
       " ' GO:0019700; P:organic phosphonate catabolic process; IEA:InterPro.': 3.6709309999999997e-06,\n",
       " ' GO:0009026; F:tagaturonate reductase activity; IEA:UniProtKB-UniRule.': 2.23266e-06,\n",
       " ' GO:0015420; F:ATPase-coupled vitamin B12 transmembrane transporter activity; IEA:UniProtKB-UniRule.': 7.531227e-06,\n",
       " ' GO:0003824; F:catalytic activity; IEA:InterPro.': 7.531227e-06,\n",
       " ' GO:0008939; F:nicotinate-nucleotide-dimethylbenzimidazole phosphoribosyltransferase activity; IEA:UniProtKB-UniRule.': 3.176921e-06,\n",
       " ' GO:0009236; P:cobalamin biosynthetic process; IEA:UniProtKB-KW.': 3.176921e-06,\n",
       " ' GO:0009163; P:nucleoside biosynthetic process; IEA:InterPro.': 3.176921e-06,\n",
       " ' GO:0016430; F:tRNA (adenine-N6-)-methyltransferase activity; IEA:UniProtKB-UniRule.': 2.270163e-06,\n",
       " ' GO:0004815; F:aspartate-tRNA ligase activity; IEA:UniProtKB-UniRule.': 1.09956235e-05,\n",
       " ' GO:0006422; P:aspartyl-tRNA aminoacylation; IEA:UniProtKB-UniRule.': 1.09956235e-05,\n",
       " ' GO:0103039; F:protein methylthiotransferase activity; IEA:UniProtKB-EC.': 5.316017e-06,\n",
       " ' GO:0018339; P:peptidyl-L-beta-methylthioaspartic acid biosynthetic process from peptidyl-aspartic acid; IEA:UniProtKB-UniRule.': 2.594227e-06,\n",
       " ' GO:0004152; F:dihydroorotate dehydrogenase activity; IEA:UniProtKB-UniRule.': 3.230459e-06,\n",
       " ' GO:0004589; F:orotate reductase (NADH) activity; IEA:UniProtKB-EC.': 6.183849000000001e-06,\n",
       " ' GO:0008690; F:3-deoxy-manno-octulosonate cytidylyltransferase activity; IEA:UniProtKB-UniRule.': 2.8893429999999997e-06,\n",
       " ' GO:0033468; P:CMP-keto-3-deoxy-D-manno-octulosonic acid biosynthetic process; IEA:UniProtKB-UniRule.': 3.6048879999999997e-06,\n",
       " ' GO:0009103; P:lipopolysaccharide biosynthetic process; IEA:UniProtKB-UniRule.': 3.6048879999999997e-06,\n",
       " ' GO:0016832; F:aldehyde-lyase activity; IEA:InterPro.': 1.15303147e-05,\n",
       " ' GO:0004801; F:sedoheptulose-7-phosphate:D-glyceraldehyde-3-phosphate glyceronetransferase activity; IEA:UniProtKB-UniRule.': 7.9624147e-06,\n",
       " ' GO:0006098; P:pentose-phosphate shunt; IEA:UniProtKB-UniRule.': 1.15303147e-05,\n",
       " ' GO:0032977; F:membrane insertase activity; IEA:InterPro.': 3.5451240000000004e-06,\n",
       " ' GO:0015031; P:protein transport; IEA:UniProtKB-KW.': 6.234644e-06,\n",
       " ' GO:0008381; F:mechanosensitive ion channel activity; IEA:UniProtKB-UniRule.': 2.531404e-06,\n",
       " ' GO:0016462; F:pyrophosphatase activity; IEA:InterPro.': 2.5967469399999997e-05,\n",
       " ' GO:0004047; F:aminomethyltransferase activity; IEA:UniProtKB-UniRule.': 4.4255860000000005e-06,\n",
       " ' GO:0008483; F:transaminase activity; IEA:UniProtKB-KW.': 4.4255860000000005e-06,\n",
       " ' GO:0015103; F:inorganic anion transmembrane transporter activity; IEA:UniProtKB-UniRule.': 5.122547e-06,\n",
       " ' GO:0008837; F:diaminopimelate epimerase activity; IEA:UniProtKB-UniRule.': 8.159845e-06,\n",
       " ' GO:0004834; F:tryptophan synthase activity; IEA:UniProtKB-UniRule.': 1.2673473e-05,\n",
       " ' GO:0004640; F:phosphoribosylanthranilate isomerase activity; IEA:UniProtKB-UniRule.': 3.432584e-06,\n",
       " ' GO:0004824; F:lysine-tRNA ligase activity; IEA:UniProtKB-UniRule.': 1.61039617e-05,\n",
       " ' GO:0006430; P:lysyl-tRNA aminoacylation; IEA:UniProtKB-UniRule.': 1.61039617e-05,\n",
       " ' GO:0004347; F:glucose-6-phosphate isomerase activity; IEA:UniProtKB-UniRule.': 1.00548363e-05,\n",
       " ' GO:0004342; F:glucosamine-6-phosphate deaminase activity; IEA:UniProtKB-UniRule.': 9.899711e-06,\n",
       " ' GO:0006044; P:N-acetylglucosamine metabolic process; IEA:UniProtKB-UniRule.': 9.899711e-06,\n",
       " ' GO:0004844; F:uracil DNA N-glycosylase activity; IEA:UniProtKB-UniRule.': 9.522209e-06,\n",
       " ' GO:0006284; P:base-excision repair; IEA:UniProtKB-UniRule.': 9.522209e-06,\n",
       " ' GO:0042128; P:nitrate assimilation; IEA:UniProtKB-UniPathway.': 5.736868e-06,\n",
       " ' GO:0005623; C:cell; IEA:GOC.': 3.1411129e-06,\n",
       " ' GO:0005507; F:copper ion binding; IEA:InterPro.': 6.78113e-07,\n",
       " ' GO:0006878; P:cellular copper ion homeostasis; IEA:UniProtKB-UniRule.': 1.007015e-06,\n",
       " ' GO:0045148; F:tripeptide aminopeptidase activity; IEA:UniProtKB-UniRule.': 6.821028000000001e-07,\n",
       " ' GO:0043171; P:peptide catabolic process; IEA:UniProtKB-UniRule.': 3.8264328e-06,\n",
       " ' GO:0033819; F:lipoyl(octanoyl) transferase activity; IEA:UniProtKB-EC.': 6.11744e-07,\n",
       " ' GO:0102555; F:octanoyl transferase activity (acting on glycine-cleavage complex H protein); IEA:UniProtKB-EC.': 8.334299999999999e-07,\n",
       " ' GO:0009249; P:protein lipoylation; IEA:InterPro.': 6.11744e-07,\n",
       " ' GO:0006541; P:glutamine metabolic process; IEA:InterPro.': 6.04865e-07,\n",
       " ' GO:0050418; F:hydroxylamine reductase activity; IEA:UniProtKB-UniRule.': 5.93784e-07,\n",
       " ' GO:0030163; P:protein catabolic process; IEA:UniProtKB-UniRule.': 0.0,\n",
       " ' GO:0004176; F:ATP-dependent peptidase activity; IEA:UniProtKB-UniRule.': 4.52956e-08,\n",
       " ' GO:0043565; F:sequence-specific DNA binding; IEA:UniProtKB-UniRule.': 4.52956e-08,\n",
       " ' GO:0034605; P:cellular response to heat; IEA:UniProtKB-UniRule.': 4.52956e-08,\n",
       " ' GO:0006515; P:protein quality control for misfolded or incompletely synthesized proteins; IEA:UniProtKB-UniRule.': 4.52956e-08,\n",
       " ' GO:0004076; F:biotin synthase activity; IEA:UniProtKB-UniRule.': 6.86518e-07,\n",
       " ' GO:0009102; P:biotin biosynthetic process; IEA:UniProtKB-UniRule.': 8.10643e-07,\n",
       " ' GO:0003852; F:2-isopropylmalate synthase activity; IEA:UniProtKB-UniRule.': 5.82651e-07,\n",
       " ' GO:0046523; F:S-methyl-5-thioribose-1-phosphate isomerase activity; IEA:UniProtKB-UniRule.': 3.77996e-07,\n",
       " ' GO:0019509; P:L-methionine salvage from methylthioadenosine; IEA:UniProtKB-UniPathway.': 3.77996e-07,\n",
       " ' GO:0019284; P:L-methionine salvage from S-adenosylmethionine; IEA:UniProtKB-UniRule.': 3.77996e-07,\n",
       " ' GO:0003856; F:3-dehydroquinate synthase activity; IEA:UniProtKB-EC.': 8.66023e-07,\n",
       " ' GO:0009073; P:aromatic amino acid family biosynthetic process; IEA:UniProtKB-KW.': 8.66023e-07,\n",
       " ' GO:0050194; F:phosphonoacetaldehyde hydrolase activity; IEA:UniProtKB-UniRule.': 9.17971e-07,\n",
       " ' GO:0017111; F:nucleoside-triphosphatase activity; IEA:InterPro.': 4.947102e-06,\n",
       " ' GO:0047429; F:nucleoside-triphosphate diphosphatase activity; IEA:UniProtKB-UniRule.': 1.4573520000000002e-06,\n",
       " ' GO:0009146; P:purine nucleoside triphosphate catabolic process; IEA:UniProtKB-UniRule.': 4.947102e-06,\n",
       " ' GO:0004071; F:aspartate-ammonia ligase activity; IEA:UniProtKB-UniRule.': 1.6461634e-06,\n",
       " ' GO:0070981; P:L-asparagine biosynthetic process; IEA:UniProtKB-UniPathway.': 1.6461634e-06,\n",
       " ' GO:0033739; F:preQ1 synthase activity; IEA:UniProtKB-UniRule.': 8.6877239e-06,\n",
       " ' GO:0004088; F:carbamoyl-phosphate synthase (glutamine-hydrolyzing) activity; IEA:UniProtKB-UniRule.': 4.778308799999999e-06,\n",
       " ' GO:0008740; F:L-rhamnose isomerase activity; IEA:UniProtKB-UniRule.': 0.0,\n",
       " ' GO:0019301; P:rhamnose catabolic process; IEA:UniProtKB-UniPathway.': 3.13999e-06,\n",
       " ' GO:0004519; F:endonuclease activity; IEA:InterPro.': 0.0,\n",
       " \" GO:0008803; F:bis(5'-nucleosyl)-tetraphosphatase (symmetrical) activity; IEA:UniProtKB-UniRule.\": 0.0,\n",
       " ' GO:0005829; C:cytosol; IEA:UniProtKB-SubCell.': 0.0,\n",
       " ' GO:0045182; F:translation regulator activity; IEA:InterPro.': 0.0,\n",
       " ' GO:1902560; C:GMP reductase complex; IEA:InterPro.': 0.0,\n",
       " ' GO:0003920; F:GMP reductase activity; IEA:UniProtKB-UniRule.': 0.0,\n",
       " ' GO:0006163; P:purine nucleotide metabolic process; IEA:UniProtKB-UniRule.': 0.0,\n",
       " ' GO:0005247; F:voltage-gated chloride channel activity; IEA:InterPro.': 0.0,\n",
       " ' GO:0008915; F:lipid-A-disaccharide synthase activity; IEA:UniProtKB-UniRule.': 0.0,\n",
       " ' GO:0006814; P:sodium ion transport; IEA:UniProtKB-UniRule.': 0.0,\n",
       " ' GO:0047975; F:guanosine phosphorylase activity; IEA:UniProtKB-EC.': 0.0,\n",
       " ' GO:0004731; F:purine-nucleoside phosphorylase activity; IEA:UniProtKB-UniRule.': 3.51726e-08,\n",
       " ' GO:0016154; F:pyrimidine-nucleoside phosphorylase activity; IEA:UniProtKB-UniRule.': 0.0,\n",
       " ' GO:0009032; F:thymidine phosphorylase activity; IEA:UniProtKB-EC.': 0.0,\n",
       " ' GO:0004850; F:uridine phosphorylase activity; IEA:UniProtKB-EC.': 0.0,\n",
       " ' GO:0000287; F:magnesium ion binding; ISS:UniProtKB.': 0.0,\n",
       " ' GO:0016791; F:phosphatase activity; ISS:UniProtKB.': 0.0,\n",
       " ' GO:0046930; C:pore complex; IEA:UniProtKB-KW.': 0.0,\n",
       " ' GO:0042958; F:maltodextrin transmembrane transporter activity; IEA:InterPro.': 0.0,\n",
       " ' GO:0015481; F:maltose transporting porin activity; IEA:InterPro.': 0.0,\n",
       " ' GO:0006811; P:ion transport; IEA:UniProtKB-KW.': 7.5278e-08,\n",
       " ' GO:0004357; F:glutamate-cysteine ligase activity; IEA:UniProtKB-EC.': 0.0,\n",
       " ' GO:0042398; P:cellular modified amino acid biosynthetic process; IEA:InterPro.': 0.0,\n",
       " ' GO:0016787; F:hydrolase activity; IEA:UniProtKB-KW.': 0.0,\n",
       " ' GO:0009239; P:enterobactin biosynthetic process; IEA:UniProtKB-UniPathway.': 0.0,\n",
       " ' GO:0010308; F:acireductone dioxygenase (Ni2+-requiring) activity; IEA:UniProtKB-UniRule.': 0.0,\n",
       " ' GO:0010309; F:acireductone dioxygenase [iron(II)-requiring] activity; IEA:UniProtKB-UniRule.': 0.0,\n",
       " ' GO:0043716; F:2-hydroxy-3-keto-5-methylthiopentenyl-1-phosphate phosphatase activity; IEA:UniProtKB-UniRule.': 0.0,\n",
       " ' GO:0043874; F:acireductone synthase activity; IEA:UniProtKB-EC.': 0.0,\n",
       " ' GO:0016416; F:O-palmitoyltransferase activity; IEA:UniProtKB-UniRule.': 0.0,\n",
       " ' GO:0033281; C:TAT protein transport complex; IEA:UniProtKB-UniRule.': 0.0,\n",
       " ' GO:0008320; F:protein transmembrane transporter activity; IEA:UniProtKB-UniRule.': 0.0,\n",
       " ' GO:0043953; P:protein transport by the Tat complex; IEA:UniProtKB-UniRule.': 0.0,\n",
       " ' GO:0004819; F:glutamine-tRNA ligase activity; IEA:UniProtKB-UniRule.': 0.0,\n",
       " ' GO:0006425; P:glutaminyl-tRNA aminoacylation; IEA:InterPro.': 0.0,\n",
       " ' GO:0017057; F:6-phosphogluconolactonase activity; IEA:UniProtKB-UniRule.': 0.0,\n",
       " ' GO:0006006; P:glucose metabolic process; IEA:UniProtKB-UniRule.': 0.0,\n",
       " ' GO:0006098; P:pentose-phosphate shunt; IEA:UniProtKB-UniPathway.': 0.0,\n",
       " ' GO:0008710; F:8-amino-7-oxononanoate synthase activity; IEA:UniProtKB-UniRule.': 0.0,\n",
       " ' GO:1904047; F:S-adenosyl-L-methionine binding; IEA:UniProtKB-UniRule.': 2.47087e-07,\n",
       " ' GO:0006777; P:Mo-molybdopterin cofactor biosynthetic process; IEA:UniProtKB-UniRule.': 0.0,\n",
       " ' GO:0052907; F:23S rRNA (adenine(1618)-N(6))-methyltransferase activity; IEA:UniProtKB-EC.': 0.0,\n",
       " ' GO:0008914; F:leucyltransferase activity; IEA:UniProtKB-UniRule.': 0.0,\n",
       " ' GO:0016791; F:phosphatase activity; IEA:UniProtKB-UniRule.': 0.0,\n",
       " ' GO:0031241; C:periplasmic side of cell outer membrane; IEA:UniProtKB-UniRule.': 0.0,\n",
       " ' GO:0030234; F:enzyme regulator activity; IEA:UniProtKB-UniRule.': 0.0,\n",
       " ' GO:0043824; F:succinylglutamate-semialdehyde dehydrogenase activity; IEA:UniProtKB-EC.': 0.0,\n",
       " ' GO:0019544; P:arginine catabolic process to glutamate; IEA:UniProtKB-UniRule.': 0.0,\n",
       " ' GO:0019545; P:arginine catabolic process to succinate; IEA:UniProtKB-UniPathway.': 0.0,\n",
       " ' GO:0036311; F:chitin disaccharide deacetylase activity; IEA:UniProtKB-UniRule.': 0.0,\n",
       " ' GO:0006032; P:chitin catabolic process; IEA:UniProtKB-UniPathway.': 0.0,\n",
       " ' GO:0052777; P:diacetylchitobiose catabolic process; IEA:UniProtKB-UniRule.': 0.0,\n",
       " ' GO:0000272; P:polysaccharide catabolic process; IEA:UniProtKB-UniRule.': 0.0,\n",
       " ' GO:0004146; F:dihydrofolate reductase activity; IEA:UniProtKB-EC.': 0.0,\n",
       " ' GO:0006730; P:one-carbon metabolic process; IEA:UniProtKB-KW.': 0.0,\n",
       " ' GO:0015606; F:spermidine transmembrane transporter activity; IEA:UniProtKB-UniRule.': 0.0,\n",
       " ' GO:0009341; C:beta-galactosidase complex; IEA:InterPro.': 1.33321e-07,\n",
       " ' GO:0004565; F:beta-galactosidase activity; IEA:UniProtKB-EC.': 1.33321e-07,\n",
       " ' GO:0030246; F:carbohydrate binding; IEA:InterPro.': 6.60367e-08,\n",
       " ' GO:0004846; F:urate oxidase activity; IDA:CACAO.': 0.0,\n",
       " ' GO:0006144; P:purine nucleobase metabolic process; IEA:UniProtKB-KW.': 0.0,\n",
       " ' GO:0019628; P:urate catabolic process; IDA:UniProtKB.': 0.0,\n",
       " ' GO:0008233; F:peptidase activity; IEA:UniProtKB-KW.': 0.0,\n",
       " ' GO:0004096; F:catalase activity; IEA:UniProtKB-UniRule.': 0.0,\n",
       " ' GO:0020037; F:heme binding; IEA:InterPro.': 1.90613e-06,\n",
       " ' GO:0042744; P:hydrogen peroxide catabolic process; IEA:UniProtKB-KW.': 1.90613e-06,\n",
       " ' GO:0006979; P:response to oxidative stress; IEA:InterPro.': 1.90613e-06,\n",
       " ' GO:0006725; P:cellular aromatic compound metabolic process; IEA:InterPro.': 0.0,\n",
       " ' GO:0042910; F:xenobiotic transmembrane transporter activity; IEA:UniProtKB-UniRule.': 0.0,\n",
       " ' GO:0006855; P:drug transmembrane transport; IEA:UniProtKB-UniRule.': 0.0,\n",
       " ' GO:0008684; F:2-oxopent-4-enoate hydratase activity; IEA:UniProtKB-UniRule.': 0.0,\n",
       " ' GO:0030145; F:manganese ion binding; IEA:InterPro.': 0.0,\n",
       " ' GO:0019380; P:3-phenylpropionate catabolic process; IEA:UniProtKB-UniPathway.': 0.0,\n",
       " ' GO:0016779; F:nucleotidyltransferase activity; IEA:UniProtKB-UniRule.': 0.0,\n",
       " ' GO:0090482; F:vitamin transmembrane transporter activity; IEA:UniProtKB-UniRule.': 0.0,\n",
       " ' GO:0015889; P:cobalamin transport; IEA:UniProtKB-UniRule.': 0.0,\n",
       " ' GO:0000062; F:fatty-acyl-CoA binding; IEA:InterPro.': 0.0,\n",
       " ' GO:0006631; P:fatty acid metabolic process; IEA:UniProtKB-KW.': 8.65064e-06,\n",
       " ' GO:0019217; P:regulation of fatty acid metabolic process; IEA:UniProtKB-UniRule.': 0.0,\n",
       " ' GO:0000902; P:cell morphogenesis; IEA:InterPro.': 5.15836e-06,\n",
       " ' GO:1901891; P:regulation of cell septum assembly; IEA:InterPro.': 5.15836e-06,\n",
       " ' GO:0008237; F:metallopeptidase activity; IEA:InterPro.': 0.0,\n",
       " ' GO:0004401; F:histidinol-phosphatase activity; IEA:UniProtKB-UniRule.': 2.91248e-06,\n",
       " ' GO:0022857; F:transmembrane transporter activity; IEA:UniProtKB-UniRule.': 0.0,\n",
       " ' GO:0106099; F:2-keto-3-deoxy-L-rhamnonate aldolase activity; IEA:UniProtKB-EC.': 0.0,\n",
       " ' GO:0050032; F:L-rhamnonate dehydratase activity; IEA:UniProtKB-UniRule.': 0.0,\n",
       " ' GO:0009063; P:cellular amino acid catabolic process; IEA:InterPro.': 0.0,\n",
       " ' GO:0004808; F:tRNA (5-methylaminomethyl-2-thiouridylate)-methyltransferase activity; IEA:UniProtKB-EC.': 0.0,\n",
       " ' GO:0002097; P:tRNA wobble base modification; IEA:UniProtKB-UniRule.': 0.0,\n",
       " ' GO:0032153; C:cell division site; IEA:UniProtKB-UniRule.': 0.0,\n",
       " ' GO:0090529; P:cell septum assembly; IEA:InterPro.': 0.0,\n",
       " ' GO:0008360; P:regulation of cell shape; IEA:UniProtKB-UniRule.': 0.0,\n",
       " ' GO:0004177; F:aminopeptidase activity; IEA:UniProtKB-UniRule.': 0.0,\n",
       " ' GO:0008235; F:metalloexopeptidase activity; IEA:InterPro.': 0.0,\n",
       " ' GO:0044212; F:transcription regulatory region DNA binding; IEA:InterPro.': 0.0,\n",
       " ' GO:0001671; F:ATPase activator activity; IEA:InterPro.': 0.0,\n",
       " ' GO:0097428; P:protein maturation by iron-sulfur cluster transfer; IEA:InterPro.': 0.0,\n",
       " ' GO:0008933; F:lytic transglycosylase activity; IEA:UniProtKB-UniRule.': 0.0,\n",
       " ' GO:0016998; P:cell wall macromolecule catabolic process; IEA:UniProtKB-UniRule.': 0.0,\n",
       " ' GO:0000270; P:peptidoglycan metabolic process; IEA:InterPro.': 0.0,\n",
       " ' GO:0043115; F:precorrin-2 dehydrogenase activity; IEA:UniProtKB-UniRule.': 0.0,\n",
       " ' GO:0051266; F:sirohydrochlorin ferrochelatase activity; IEA:UniProtKB-EC.': 0.0,\n",
       " ' GO:0004851; F:uroporphyrin-III C-methyltransferase activity; IEA:UniProtKB-UniRule.': 0.0,\n",
       " ' GO:0019354; P:siroheme biosynthetic process; IEA:UniProtKB-UniRule.': 0.0,\n",
       " ' GO:0050660; F:flavin adenine dinucleotide binding; IEA:InterPro.': 1.65550633e-05,\n",
       " ' GO:0004783; F:sulfite reductase (NADPH) activity; IEA:UniProtKB-UniRule.': 0.0,\n",
       " ' GO:0019344; P:cysteine biosynthetic process; IEA:UniProtKB-KW.': 0.0,\n",
       " ' GO:0070814; P:hydrogen sulfide biosynthetic process; IEA:UniProtKB-UniRule.': 0.0,\n",
       " ' GO:0048472; F:threonine-phosphate decarboxylase activity; IEA:InterPro.': 0.0,\n",
       " ' GO:0051144; P:propanediol catabolic process; IEA:UniProtKB-UniPathway.': 0.0,\n",
       " ' GO:0016787; F:hydrolase activity; IEA:InterPro.': 0.0,\n",
       " ' GO:0004452; F:isopentenyl-diphosphate delta-isomerase activity; IEA:UniProtKB-UniRule.': 0.0,\n",
       " ' GO:0050992; P:dimethylallyl diphosphate biosynthetic process; IEA:UniProtKB-UniPathway.': 0.0,\n",
       " ' GO:0008299; P:isoprenoid biosynthetic process; IEA:UniProtKB-UniRule.': 0.0,\n",
       " ' GO:0015181; F:arginine transmembrane transporter activity; IEA:UniProtKB-UniRule.': 0.0,\n",
       " ' GO:0006807; P:nitrogen compound metabolic process; IEA:InterPro.': 1.1737376000000001e-06,\n",
       " ' GO:0009039; F:urease activity; IEA:UniProtKB-UniRule.': 0.0,\n",
       " ' GO:0043419; P:urea catabolic process; IEA:UniProtKB-UniPathway.': 0.0,\n",
       " ' GO:0016021; C:integral component of membrane; IEA:InterPro.': 0.0,\n",
       " ' GO:0042626; F:ATPase-coupled transmembrane transporter activity; IEA:InterPro.': 0.0,\n",
       " ' GO:1905887; P:autoinducer AI-2 transmembrane transport; IEA:InterPro.': 0.0,\n",
       " ' GO:0009372; P:quorum sensing; IEA:InterPro.': 0.0,\n",
       " ' GO:0019901; F:protein kinase binding; IEA:UniProtKB-UniRule.': 0.0,\n",
       " ' GO:0045859; P:regulation of protein kinase activity; IEA:UniProtKB-UniRule.': 0.0,\n",
       " ' GO:0008672; F:2-dehydro-3-deoxyglucarate aldolase activity; IEA:UniProtKB-UniRule.': 0.0,\n",
       " ' GO:0042838; P:D-glucarate catabolic process; IEA:UniProtKB-UniRule.': 0.0,\n",
       " ' GO:0046392; P:galactarate catabolic process; IEA:UniProtKB-UniRule.': 0.0,\n",
       " ' GO:2001059; P:D-tagatose 6-phosphate catabolic process; IEA:UniProtKB-UniPathway.': 0.0,\n",
       " ' GO:0019404; P:galactitol catabolic process; IEA:UniProtKB-UniRule.': 0.0,\n",
       " ' GO:0048037; F:cofactor binding; IEA:InterPro.': 0.0,\n",
       " ' GO:0009055; F:electron transfer activity; IEA:UniProtKB-UniRule.': 0.0,\n",
       " ' GO:0010181; F:FMN binding; IEA:UniProtKB-UniRule.': 4.41048e-07,\n",
       " ' GO:0020037; F:heme binding; IEA:UniProtKB-UniRule.': 0.0,\n",
       " ' GO:0030091; P:protein repair; IEA:UniProtKB-UniRule.': 0.0,\n",
       " ' GO:0003725; F:double-stranded RNA binding; IEA:InterPro.': 0.0,\n",
       " ' GO:0061710; F:L-threonylcarbamoyladenylate synthase; IEA:UniProtKB-EC.': 0.0,\n",
       " ' GO:0099621; F:undecaprenyl-phosphate 4-deoxy-4-formamido-L-arabinose transferase activity; IEA:UniProtKB-EC.': 0.0,\n",
       " ' GO:0036108; P:4-amino-4-deoxy-alpha-L-arabinopyranosyl undecaprenyl phosphate biosynthetic process; IEA:UniProtKB-UniPathway.': 0.0,\n",
       " ' GO:0009103; P:lipopolysaccharide biosynthetic process; IEA:UniProtKB-UniPathway.': 0.0,\n",
       " ' GO:0046677; P:response to antibiotic; IEA:UniProtKB-KW.': 7.282859069999998e-05,\n",
       " ' GO:0099620; F:UDP-4-amino-4-deoxy-L-arabinose aminotransferase; IEA:UniProtKB-EC.': 0.0,\n",
       " ' GO:0009245; P:lipid A biosynthetic process; IEA:UniProtKB-KW.': 0.0,\n",
       " ' GO:0010045; P:response to nickel cation; IEA:InterPro.': 0.0,\n",
       " ' GO:0050821; P:protein stabilization; IEA:UniProtKB-UniRule.': 0.0,\n",
       " ' GO:0008994; F:rhamnulose-1-phosphate aldolase activity; IEA:UniProtKB-UniRule.': 3.13999e-06,\n",
       " ' GO:0019299; P:rhamnose metabolic process; IEA:UniProtKB-UniRule.': 0.0,\n",
       " ' GO:0015153; F:rhamnose transmembrane transporter activity; IEA:UniProtKB-UniRule.': 0.0,\n",
       " ' GO:0015293; F:symporter activity; IEA:UniProtKB-KW.': 6.7541e-08,\n",
       " ' GO:0046873; F:metal ion transmembrane transporter activity; IEA:InterPro.': 0.0,\n",
       " ' GO:0006826; P:iron ion transport; IEA:InterPro.': 2.38246e-08,\n",
       " ' GO:0006829; P:zinc ion transport; IEA:InterPro.': 0.0,\n",
       " ' GO:0009055; F:electron transfer activity; IEA:InterPro.': 5.9290728e-05,\n",
       " ' GO:0003957; F:NAD(P)+ transhydrogenase (B-specific) activity; IEA:UniProtKB-UniRule.': 0.0,\n",
       " ' GO:0045454; P:cell redox homeostasis; IEA:InterPro.': 4.92533e-08,\n",
       " ' GO:0006739; P:NADP metabolic process; IEA:UniProtKB-UniRule.': 0.0,\n",
       " ' GO:0030697; F:S-adenosylmethionine-dependent tRNA (m5U54) methyltransferase activity; IEA:UniProtKB-UniRule.': 0.0,\n",
       " ' GO:0015974; P:guanosine pentaphosphate catabolic process; IEA:UniProtKB-UniRule.': 0.0,\n",
       " ' GO:0015970; P:guanosine tetraphosphate biosynthetic process; IEA:UniProtKB-UniPathway.': 0.0,\n",
       " ' GO:0047241; F:lipopolysaccharide N-acetylmannosaminouronosyltransferase activity; IEA:UniProtKB-UniRule.': 0.0,\n",
       " ' GO:0009246; P:enterobacterial common antigen biosynthetic process; IEA:UniProtKB-UniRule.': 0.0,\n",
       " ' GO:0004418; F:hydroxymethylbilane synthase activity; IEA:UniProtKB-UniRule.': 5.34966e-08,\n",
       " ' GO:0018160; P:peptidyl-pyrromethane cofactor linkage; IEA:InterPro.': 0.0,\n",
       " ' GO:0009060; P:aerobic respiration; IEA:UniProtKB-UniRule.': 0.0,\n",
       " ' GO:0006744; P:ubiquinone biosynthetic process; IEA:UniProtKB-UniPathway.': 0.0,\n",
       " ' GO:0008813; F:chorismate lyase activity; IEA:UniProtKB-UniRule.': 0.0,\n",
       " ' GO:0042866; P:pyruvate biosynthetic process; IEA:UniProtKB-UniRule.': 0.0,\n",
       " ' GO:0006015; P:5-phosphoribose 1-diphosphate biosynthetic process; IEA:UniProtKB-UniRule.': 0.0,\n",
       " ' GO:0019634; P:organic phosphonate metabolic process; IEA:UniProtKB-UniRule.': 0.0,\n",
       " ' GO:0047134; F:protein-disulfide reductase activity; IEA:UniProtKB-UniRule.': 0.0,\n",
       " ' GO:0017004; P:cytochrome complex assembly; IEA:UniProtKB-UniRule.': 0.0,\n",
       " ' GO:0050112; F:inositol 2-dehydrogenase activity; IEA:UniProtKB-UniRule.': 0.0,\n",
       " ' GO:0050114; F:myo-inosose-2 dehydratase activity; IEA:UniProtKB-UniRule.': 0.0,\n",
       " ' GO:0016832; F:aldehyde-lyase activity; IEA:UniProtKB-UniRule.': 0.0,\n",
       " ' GO:0010124; P:phenylacetate catabolic process; IEA:InterPro.': 0.0,\n",
       " ' GO:0052914; F:16S rRNA (guanine(1207)-N(2))-methyltransferase activity; IEA:UniProtKB-EC.': 0.0,\n",
       " ' GO:0006449; P:regulation of translational termination; IEA:UniProtKB-UniRule.': 2.83195e-08,\n",
       " ' GO:0004619; F:phosphoglycerate mutase activity; IEA:UniProtKB-UniRule.': 0.0,\n",
       " ' GO:0008676; F:3-deoxy-8-phosphooctulonate synthase activity; IEA:UniProtKB-UniRule.': 0.0,\n",
       " ' GO:0019294; P:keto-3-deoxy-D-manno-octulosonic acid biosynthetic process; IEA:UniProtKB-UniRule.': 0.0,\n",
       " ' GO:0030573; P:bile acid catabolic process; IEA:UniProtKB-KW.': 3.07418e-08,\n",
       " ' GO:0016042; P:lipid catabolic process; IEA:UniProtKB-KW.': 3.07418e-08,\n",
       " ' GO:0009376; C:HslUV protease complex; IEA:UniProtKB-UniRule.': 0.0,\n",
       " ' GO:0005839; C:proteasome core complex; IEA:InterPro.': 0.0,\n",
       " ' GO:0004298; F:threonine-type endopeptidase activity; IEA:UniProtKB-KW.': 0.0,\n",
       " ' GO:0051603; P:proteolysis involved in cellular protein catabolic process; IEA:InterPro.': 0.0,\n",
       " ' GO:0008422; F:beta-glucosidase activity; IDA:UniProtKB.': 0.0,\n",
       " ' GO:0102483; F:scopolin beta-glucosidase activity; IEA:UniProtKB-EC.': 0.0,\n",
       " ' GO:0085030; P:symbiotic process benefiting host; IDA:UniProtKB.': 1.3169669999999998e-05,\n",
       " ' GO:2000899; P:xyloglucan catabolic process; IDA:UniProtKB.': 1.3169669999999998e-05,\n",
       " ' GO:0004565; F:beta-galactosidase activity; IDA:UniProtKB.': 0.0,\n",
       " ' GO:0030247; F:polysaccharide binding; IDA:UniProtKB.': 3.88987e-06,\n",
       " ' GO:0046556; F:alpha-L-arabinofuranosidase activity; IDA:UniProtKB.': 4.925840000000001e-06,\n",
       " ' GO:0044874; P:lipoprotein localization to outer membrane; IEA:UniProtKB-UniRule.': 0.0,\n",
       " ' GO:0042953; P:lipoprotein transport; IEA:InterPro.': 0.0,\n",
       " ' GO:0008780; F:acyl-[acyl-carrier-protein]-UDP-N-acetylglucosamine O-acyltransferase activity; IEA:UniProtKB-UniRule.': 0.0,\n",
       " ' GO:0006835; P:dicarboxylic acid transport; IEA:UniProtKB-UniRule.': 0.0,\n",
       " ' GO:0004775; F:succinate-CoA ligase (ADP-forming) activity; IEA:UniProtKB-UniRule.': 0.0,\n",
       " ' GO:0031072; F:heat shock protein binding; IEA:InterPro.': 4.0249177000000005e-06,\n",
       " ' GO:0009408; P:response to heat; IEA:InterPro.': 4.0249177000000005e-06,\n",
       " ' GO:0006144; P:purine nucleobase metabolic process; IEA:UniProtKB-UniRule.': 0.0,\n",
       " ' GO:0006206; P:pyrimidine nucleobase metabolic process; IEA:UniProtKB-UniRule.': 0.0,\n",
       " ' GO:0009437; P:carnitine metabolic process; IEA:UniProtKB-UniPathway.': 0.0,\n",
       " ' GO:0009437; P:carnitine metabolic process; IEA:UniProtKB-UniRule.': 0.0,\n",
       " ' GO:0003955; F:NAD(P)H dehydrogenase (quinone) activity; IEA:UniProtKB-UniRule.': 0.0,\n",
       " ' GO:0032414; P:positive regulation of ion transmembrane transporter activity; IEA:UniProtKB-UniRule.': 0.0,\n",
       " ' GO:1901381; P:positive regulation of potassium ion transmembrane transport; IEA:UniProtKB-UniRule.': 0.0,\n",
       " ' GO:0019899; F:enzyme binding; IEA:InterPro.': 0.0,\n",
       " ' GO:0015503; F:glutathione-regulated potassium exporter activity; IEA:UniProtKB-UniRule.': 0.0,\n",
       " ' GO:0015299; F:solute:proton antiporter activity; IEA:InterPro.': 0.0,\n",
       " ' GO:0015643; F:toxic substance binding; IEA:InterPro.': 0.0,\n",
       " ' GO:0051595; P:response to methylglyoxal; IEA:InterPro.': 0.0,\n",
       " ' GO:0008741; F:ribulokinase activity; IEA:UniProtKB-UniRule.': 0.0,\n",
       " ' GO:0019569; P:L-arabinose catabolic process to xylulose 5-phosphate; IEA:UniProtKB-UniRule.': 3.67327e-06,\n",
       " ' GO:0043165; P:Gram-negative-bacterium-type cell outer membrane assembly; IEA:UniProtKB-UniRule.': 0.0,\n",
       " ' GO:0051205; P:protein insertion into membrane; IEA:UniProtKB-UniRule.': 0.0,\n",
       " ' GO:0052689; F:carboxylic ester hydrolase activity; IEA:UniProtKB-KW.': 0.0,\n",
       " ...}"
      ]
     },
     "execution_count": 107,
     "metadata": {},
     "output_type": "execute_result"
    }
   ],
   "source": [
    "sample_functions[\"Sample 104\"]"
   ]
  },
  {
   "cell_type": "code",
   "execution_count": 106,
   "metadata": {},
   "outputs": [
    {
     "data": {
      "application/vnd.plotly.v1+json": {
       "config": {
        "plotlyServerURL": "https://plot.ly"
       },
       "data": [
        {
         "alignmentgroup": "True",
         "hovertemplate": "Function=GO:0005840; C:ribosome; IEA:UniProtKB-KW.<br>Sample=%{x}<br>Abundance RPKs=%{y}<extra></extra>",
         "legendgroup": "GO:0005840; C:ribosome; IEA:UniProtKB-KW.",
         "marker": {
          "color": "#636efa"
         },
         "name": "GO:0005840; C:ribosome; IEA:UniProtKB-KW.",
         "offsetgroup": "GO:0005840; C:ribosome; IEA:UniProtKB-KW.",
         "orientation": "v",
         "showlegend": true,
         "textposition": "auto",
         "type": "bar",
         "x": [
          "Sample 101",
          "Sample 14",
          "Sample 2",
          "Sample 16",
          "Sample 4",
          "Sample 1",
          "Sample 99",
          "Sample 13"
         ],
         "xaxis": "x",
         "y": [
          193932.13326854643,
          92338.27422352582,
          102172.25574784346,
          67090.3362529997,
          129475.55271419618,
          91459.72523334088,
          55816.223289794485,
          83492.73282974292
         ],
         "yaxis": "y"
        },
        {
         "alignmentgroup": "True",
         "hovertemplate": "Function=GO:0003735; F:structural constituent of ribosome; IEA:InterPro.<br>Sample=%{x}<br>Abundance RPKs=%{y}<extra></extra>",
         "legendgroup": "GO:0003735; F:structural constituent of ribosome; IEA:InterPro.",
         "marker": {
          "color": "#EF553B"
         },
         "name": "GO:0003735; F:structural constituent of ribosome; IEA:InterPro.",
         "offsetgroup": "GO:0003735; F:structural constituent of ribosome; IEA:InterPro.",
         "orientation": "v",
         "showlegend": true,
         "textposition": "auto",
         "type": "bar",
         "x": [
          "Sample 101",
          "Sample 14",
          "Sample 2",
          "Sample 16",
          "Sample 4",
          "Sample 1",
          "Sample 99",
          "Sample 13"
         ],
         "xaxis": "x",
         "y": [
          264241.991791957,
          133241.276388694,
          147210.82001054892,
          95653.26808526758,
          184695.62041319656,
          129979.3552015445,
          80555.63101462393,
          120006.08901786846
         ],
         "yaxis": "y"
        },
        {
         "alignmentgroup": "True",
         "hovertemplate": "Function=GO:0006412; P:translation; IEA:UniProtKB-UniRule.<br>Sample=%{x}<br>Abundance RPKs=%{y}<extra></extra>",
         "legendgroup": "GO:0006412; P:translation; IEA:UniProtKB-UniRule.",
         "marker": {
          "color": "#00cc96"
         },
         "name": "GO:0006412; P:translation; IEA:UniProtKB-UniRule.",
         "offsetgroup": "GO:0006412; P:translation; IEA:UniProtKB-UniRule.",
         "orientation": "v",
         "showlegend": true,
         "textposition": "auto",
         "type": "bar",
         "x": [
          "Sample 101",
          "Sample 14",
          "Sample 2",
          "Sample 16",
          "Sample 4",
          "Sample 1",
          "Sample 99",
          "Sample 13"
         ],
         "xaxis": "x",
         "y": [
          279579.71987851855,
          138830.51459663906,
          156485.72168252795,
          102151.7682099518,
          197138.0693874512,
          139189.24013106985,
          84607.97393811925,
          127545.23864444745
         ],
         "yaxis": "y"
        },
        {
         "alignmentgroup": "True",
         "hovertemplate": "Function=GO:0015935; C:small ribosomal subunit; IEA:InterPro.<br>Sample=%{x}<br>Abundance RPKs=%{y}<extra></extra>",
         "legendgroup": "GO:0015935; C:small ribosomal subunit; IEA:InterPro.",
         "marker": {
          "color": "#ab63fa"
         },
         "name": "GO:0015935; C:small ribosomal subunit; IEA:InterPro.",
         "offsetgroup": "GO:0015935; C:small ribosomal subunit; IEA:InterPro.",
         "orientation": "v",
         "showlegend": true,
         "textposition": "auto",
         "type": "bar",
         "x": [
          "Sample 101",
          "Sample 14",
          "Sample 2",
          "Sample 16",
          "Sample 4",
          "Sample 1",
          "Sample 99",
          "Sample 13"
         ],
         "xaxis": "x",
         "y": [
          31064.474780067605,
          14886.007389333108,
          18697.347344836093,
          12361.827184308302,
          22786.28261698931,
          16468.6436599943,
          11520.972442708204,
          17982.267710254386
         ],
         "yaxis": "y"
        },
        {
         "alignmentgroup": "True",
         "hovertemplate": "Function=GO:0019843; F:rRNA binding; IEA:UniProtKB-UniRule.<br>Sample=%{x}<br>Abundance RPKs=%{y}<extra></extra>",
         "legendgroup": "GO:0019843; F:rRNA binding; IEA:UniProtKB-UniRule.",
         "marker": {
          "color": "#FFA15A"
         },
         "name": "GO:0019843; F:rRNA binding; IEA:UniProtKB-UniRule.",
         "offsetgroup": "GO:0019843; F:rRNA binding; IEA:UniProtKB-UniRule.",
         "orientation": "v",
         "showlegend": true,
         "textposition": "auto",
         "type": "bar",
         "x": [
          "Sample 101",
          "Sample 14",
          "Sample 2",
          "Sample 16",
          "Sample 4",
          "Sample 1",
          "Sample 99",
          "Sample 13"
         ],
         "xaxis": "x",
         "y": [
          162674.24865796394,
          89599.2205877212,
          104314.25206444741,
          71597.8906569351,
          120990.88214502578,
          89151.93100489175,
          55304.4667423551,
          81465.5502133795
         ],
         "yaxis": "y"
        },
        {
         "alignmentgroup": "True",
         "hovertemplate": "Function=GO:0000049; F:tRNA binding; IEA:UniProtKB-UniRule.<br>Sample=%{x}<br>Abundance RPKs=%{y}<extra></extra>",
         "legendgroup": "GO:0000049; F:tRNA binding; IEA:UniProtKB-UniRule.",
         "marker": {
          "color": "#19d3f3"
         },
         "name": "GO:0000049; F:tRNA binding; IEA:UniProtKB-UniRule.",
         "offsetgroup": "GO:0000049; F:tRNA binding; IEA:UniProtKB-UniRule.",
         "orientation": "v",
         "showlegend": true,
         "textposition": "auto",
         "type": "bar",
         "x": [
          "Sample 101",
          "Sample 14",
          "Sample 2",
          "Sample 16",
          "Sample 4",
          "Sample 1",
          "Sample 99",
          "Sample 13"
         ],
         "xaxis": "x",
         "y": [
          44987.2010690873,
          18534.252294433998,
          22411.9890893769,
          17497.7222501684,
          24443.399073755903,
          22101.983840197903,
          12609.886448060497,
          18803.40612447829
         ],
         "yaxis": "y"
        },
        {
         "alignmentgroup": "True",
         "hovertemplate": "Function=GO:0005737; C:cytoplasm; IEA:UniProtKB-SubCell.<br>Sample=%{x}<br>Abundance RPKs=%{y}<extra></extra>",
         "legendgroup": "GO:0005737; C:cytoplasm; IEA:UniProtKB-SubCell.",
         "marker": {
          "color": "#FF6692"
         },
         "name": "GO:0005737; C:cytoplasm; IEA:UniProtKB-SubCell.",
         "offsetgroup": "GO:0005737; C:cytoplasm; IEA:UniProtKB-SubCell.",
         "orientation": "v",
         "showlegend": true,
         "textposition": "auto",
         "type": "bar",
         "x": [
          "Sample 101",
          "Sample 14",
          "Sample 2",
          "Sample 16",
          "Sample 4",
          "Sample 1",
          "Sample 99",
          "Sample 13"
         ],
         "xaxis": "x",
         "y": [
          709177.4943372556,
          140496.32346482284,
          176477.53664463965,
          122729.99905200463,
          223954.0915720708,
          212141.04976035215,
          85527.68812725334,
          264718.63258881704
         ],
         "yaxis": "y"
        },
        {
         "alignmentgroup": "True",
         "hovertemplate": "Function=GO:0015986; P:ATP synthesis coupled proton transport; IEA:UniProtKB-UniRule.<br>Sample=%{x}<br>Abundance RPKs=%{y}<extra></extra>",
         "legendgroup": "GO:0015986; P:ATP synthesis coupled proton transport; IEA:UniProtKB-UniRule.",
         "marker": {
          "color": "#B6E880"
         },
         "name": "GO:0015986; P:ATP synthesis coupled proton transport; IEA:UniProtKB-UniRule.",
         "offsetgroup": "GO:0015986; P:ATP synthesis coupled proton transport; IEA:UniProtKB-UniRule.",
         "orientation": "v",
         "showlegend": true,
         "textposition": "auto",
         "type": "bar",
         "x": [
          "Sample 101",
          "Sample 14",
          "Sample 4"
         ],
         "xaxis": "x",
         "y": [
          19272.445527837514,
          10259.9825925806,
          10718.27996881
         ],
         "yaxis": "y"
        },
        {
         "alignmentgroup": "True",
         "hovertemplate": "Function=GO:0000917; P:division septum assembly; IEA:UniProtKB-KW.<br>Sample=%{x}<br>Abundance RPKs=%{y}<extra></extra>",
         "legendgroup": "GO:0000917; P:division septum assembly; IEA:UniProtKB-KW.",
         "marker": {
          "color": "#FF97FF"
         },
         "name": "GO:0000917; P:division septum assembly; IEA:UniProtKB-KW.",
         "offsetgroup": "GO:0000917; P:division septum assembly; IEA:UniProtKB-KW.",
         "orientation": "v",
         "showlegend": true,
         "textposition": "auto",
         "type": "bar",
         "x": [
          "Sample 101"
         ],
         "xaxis": "x",
         "y": [
          21873.422460844507
         ],
         "yaxis": "y"
        },
        {
         "alignmentgroup": "True",
         "hovertemplate": "Function=GO:0005525; F:GTP binding; IEA:UniProtKB-UniRule.<br>Sample=%{x}<br>Abundance RPKs=%{y}<extra></extra>",
         "legendgroup": "GO:0005525; F:GTP binding; IEA:UniProtKB-UniRule.",
         "marker": {
          "color": "#FECB52"
         },
         "name": "GO:0005525; F:GTP binding; IEA:UniProtKB-UniRule.",
         "offsetgroup": "GO:0005525; F:GTP binding; IEA:UniProtKB-UniRule.",
         "orientation": "v",
         "showlegend": true,
         "textposition": "auto",
         "type": "bar",
         "x": [
          "Sample 101",
          "Sample 14",
          "Sample 2",
          "Sample 16",
          "Sample 4",
          "Sample 1",
          "Sample 99",
          "Sample 13"
         ],
         "xaxis": "x",
         "y": [
          47608.37633272686,
          15582.818683321799,
          17348.6373073967,
          12494.767484025697,
          22592.243245375306,
          20437.2912631741,
          10278.159965559698,
          21721.681436862902
         ],
         "yaxis": "y"
        },
        {
         "alignmentgroup": "True",
         "hovertemplate": "Function=GO:0003924; F:GTPase activity; IEA:InterPro.<br>Sample=%{x}<br>Abundance RPKs=%{y}<extra></extra>",
         "legendgroup": "GO:0003924; F:GTPase activity; IEA:InterPro.",
         "marker": {
          "color": "#636efa"
         },
         "name": "GO:0003924; F:GTPase activity; IEA:InterPro.",
         "offsetgroup": "GO:0003924; F:GTPase activity; IEA:InterPro.",
         "orientation": "v",
         "showlegend": true,
         "textposition": "auto",
         "type": "bar",
         "x": [
          "Sample 101",
          "Sample 14",
          "Sample 4",
          "Sample 99",
          "Sample 13"
         ],
         "xaxis": "x",
         "y": [
          12659.569471711799,
          11126.187208655601,
          15692.6370622306,
          13795.141082632897,
          12022.4921979292
         ],
         "yaxis": "y"
        },
        {
         "alignmentgroup": "True",
         "hovertemplate": "Function=GO:0003746; F:translation elongation factor activity; IEA:UniProtKB-UniRule.<br>Sample=%{x}<br>Abundance RPKs=%{y}<extra></extra>",
         "legendgroup": "GO:0003746; F:translation elongation factor activity; IEA:UniProtKB-UniRule.",
         "marker": {
          "color": "#EF553B"
         },
         "name": "GO:0003746; F:translation elongation factor activity; IEA:UniProtKB-UniRule.",
         "offsetgroup": "GO:0003746; F:translation elongation factor activity; IEA:UniProtKB-UniRule.",
         "orientation": "v",
         "showlegend": true,
         "textposition": "auto",
         "type": "bar",
         "x": [
          "Sample 101",
          "Sample 2",
          "Sample 4",
          "Sample 1",
          "Sample 13"
         ],
         "xaxis": "x",
         "y": [
          19522.8282463032,
          10415.095800166897,
          11842.121545349399,
          10867.232219543703,
          10116.484966912301
         ],
         "yaxis": "y"
        },
        {
         "alignmentgroup": "True",
         "hovertemplate": "Function=GO:0015934; C:large ribosomal subunit; IEA:InterPro.<br>Sample=%{x}<br>Abundance RPKs=%{y}<extra></extra>",
         "legendgroup": "GO:0015934; C:large ribosomal subunit; IEA:InterPro.",
         "marker": {
          "color": "#00cc96"
         },
         "name": "GO:0015934; C:large ribosomal subunit; IEA:InterPro.",
         "offsetgroup": "GO:0015934; C:large ribosomal subunit; IEA:InterPro.",
         "orientation": "v",
         "showlegend": true,
         "textposition": "auto",
         "type": "bar",
         "x": [
          "Sample 101",
          "Sample 14",
          "Sample 2",
          "Sample 16",
          "Sample 4",
          "Sample 1",
          "Sample 99",
          "Sample 13"
         ],
         "xaxis": "x",
         "y": [
          38088.3384908,
          25176.793620593096,
          25470.784563533096,
          14317.286373527897,
          30118.441757073608,
          21069.0672577846,
          12161.2963910544,
          18117.485864546503
         ],
         "yaxis": "y"
        },
        {
         "alignmentgroup": "True",
         "hovertemplate": "Function=GO:0000049; F:tRNA binding; IEA:UniProtKB-KW.<br>Sample=%{x}<br>Abundance RPKs=%{y}<extra></extra>",
         "legendgroup": "GO:0000049; F:tRNA binding; IEA:UniProtKB-KW.",
         "marker": {
          "color": "#ab63fa"
         },
         "name": "GO:0000049; F:tRNA binding; IEA:UniProtKB-KW.",
         "offsetgroup": "GO:0000049; F:tRNA binding; IEA:UniProtKB-KW.",
         "orientation": "v",
         "showlegend": true,
         "textposition": "auto",
         "type": "bar",
         "x": [
          "Sample 101",
          "Sample 2",
          "Sample 4",
          "Sample 1",
          "Sample 13"
         ],
         "xaxis": "x",
         "y": [
          19494.167611398094,
          12459.295519451896,
          14363.862502737797,
          12965.9007716472,
          10956.0449275195
         ],
         "yaxis": "y"
        },
        {
         "alignmentgroup": "True",
         "hovertemplate": "Function=GO:0008270; F:zinc ion binding; IEA:UniProtKB-UniRule.<br>Sample=%{x}<br>Abundance RPKs=%{y}<extra></extra>",
         "legendgroup": "GO:0008270; F:zinc ion binding; IEA:UniProtKB-UniRule.",
         "marker": {
          "color": "#FFA15A"
         },
         "name": "GO:0008270; F:zinc ion binding; IEA:UniProtKB-UniRule.",
         "offsetgroup": "GO:0008270; F:zinc ion binding; IEA:UniProtKB-UniRule.",
         "orientation": "v",
         "showlegend": true,
         "textposition": "auto",
         "type": "bar",
         "x": [
          "Sample 101",
          "Sample 2",
          "Sample 16",
          "Sample 4",
          "Sample 1",
          "Sample 13"
         ],
         "xaxis": "x",
         "y": [
          86959.68924035894,
          14875.5553828689,
          12742.8754738518,
          19799.247724448,
          18344.294356296417,
          33041.3596576888
         ],
         "yaxis": "y"
        },
        {
         "alignmentgroup": "True",
         "hovertemplate": "Function=GO:0005524; F:ATP binding; IEA:UniProtKB-UniRule.<br>Sample=%{x}<br>Abundance RPKs=%{y}<extra></extra>",
         "legendgroup": "GO:0005524; F:ATP binding; IEA:UniProtKB-UniRule.",
         "marker": {
          "color": "#19d3f3"
         },
         "name": "GO:0005524; F:ATP binding; IEA:UniProtKB-UniRule.",
         "offsetgroup": "GO:0005524; F:ATP binding; IEA:UniProtKB-UniRule.",
         "orientation": "v",
         "showlegend": true,
         "textposition": "auto",
         "type": "bar",
         "x": [
          "Sample 101",
          "Sample 14",
          "Sample 2",
          "Sample 16",
          "Sample 4",
          "Sample 1",
          "Sample 99",
          "Sample 13"
         ],
         "xaxis": "x",
         "y": [
          205084.3998655271,
          47861.09291192864,
          62675.999022448916,
          42187.683115331,
          79585.22502703081,
          69893.84486023642,
          32769.538205335506,
          82485.40743216057
         ],
         "yaxis": "y"
        },
        {
         "alignmentgroup": "True",
         "hovertemplate": "Function=GO:0003676; F:nucleic acid binding; IEA:InterPro.<br>Sample=%{x}<br>Abundance RPKs=%{y}<extra></extra>",
         "legendgroup": "GO:0003676; F:nucleic acid binding; IEA:InterPro.",
         "marker": {
          "color": "#FF6692"
         },
         "name": "GO:0003676; F:nucleic acid binding; IEA:InterPro.",
         "offsetgroup": "GO:0003676; F:nucleic acid binding; IEA:InterPro.",
         "orientation": "v",
         "showlegend": true,
         "textposition": "auto",
         "type": "bar",
         "x": [
          "Sample 101",
          "Sample 4",
          "Sample 13"
         ],
         "xaxis": "x",
         "y": [
          33609.208159113,
          10535.491952835897,
          12921.0758400466
         ],
         "yaxis": "y"
        },
        {
         "alignmentgroup": "True",
         "hovertemplate": "Function=GO:0005524; F:ATP binding; IEA:UniProtKB-KW.<br>Sample=%{x}<br>Abundance RPKs=%{y}<extra></extra>",
         "legendgroup": "GO:0005524; F:ATP binding; IEA:UniProtKB-KW.",
         "marker": {
          "color": "#B6E880"
         },
         "name": "GO:0005524; F:ATP binding; IEA:UniProtKB-KW.",
         "offsetgroup": "GO:0005524; F:ATP binding; IEA:UniProtKB-KW.",
         "orientation": "v",
         "showlegend": true,
         "textposition": "auto",
         "type": "bar",
         "x": [
          "Sample 101",
          "Sample 14",
          "Sample 2",
          "Sample 16",
          "Sample 4",
          "Sample 1",
          "Sample 99",
          "Sample 13"
         ],
         "xaxis": "x",
         "y": [
          178581.75839963395,
          27440.783657706685,
          37027.76636958149,
          19864.14000535259,
          39695.26220270137,
          39893.81090036273,
          15633.553020757305,
          63079.6938300346
         ],
         "yaxis": "y"
        },
        {
         "alignmentgroup": "True",
         "hovertemplate": "Function=GO:0006096; P:glycolytic process; IEA:UniProtKB-UniRule.<br>Sample=%{x}<br>Abundance RPKs=%{y}<extra></extra>",
         "legendgroup": "GO:0006096; P:glycolytic process; IEA:UniProtKB-UniRule.",
         "marker": {
          "color": "#FF97FF"
         },
         "name": "GO:0006096; P:glycolytic process; IEA:UniProtKB-UniRule.",
         "offsetgroup": "GO:0006096; P:glycolytic process; IEA:UniProtKB-UniRule.",
         "orientation": "v",
         "showlegend": true,
         "textposition": "auto",
         "type": "bar",
         "x": [
          "Sample 101",
          "Sample 2",
          "Sample 4",
          "Sample 1",
          "Sample 13"
         ],
         "xaxis": "x",
         "y": [
          29112.555439574793,
          11761.799407564597,
          13984.217047438106,
          10955.522560707303,
          11625.427610759598
         ],
         "yaxis": "y"
        },
        {
         "alignmentgroup": "True",
         "hovertemplate": "Function=GO:0000287; F:magnesium ion binding; IEA:UniProtKB-UniRule.<br>Sample=%{x}<br>Abundance RPKs=%{y}<extra></extra>",
         "legendgroup": "GO:0000287; F:magnesium ion binding; IEA:UniProtKB-UniRule.",
         "marker": {
          "color": "#FECB52"
         },
         "name": "GO:0000287; F:magnesium ion binding; IEA:UniProtKB-UniRule.",
         "offsetgroup": "GO:0000287; F:magnesium ion binding; IEA:UniProtKB-UniRule.",
         "orientation": "v",
         "showlegend": true,
         "textposition": "auto",
         "type": "bar",
         "x": [
          "Sample 101",
          "Sample 14",
          "Sample 2",
          "Sample 16",
          "Sample 4",
          "Sample 1",
          "Sample 99",
          "Sample 13"
         ],
         "xaxis": "x",
         "y": [
          122886.88945956815,
          32424.884961827316,
          33893.80770073982,
          17887.043331212397,
          42840.614427342196,
          39446.53905245851,
          15021.265766061695,
          45326.64118968389
         ],
         "yaxis": "y"
        },
        {
         "alignmentgroup": "True",
         "hovertemplate": "Function=GO:0006310; P:DNA recombination; IEA:UniProtKB-UniRule.<br>Sample=%{x}<br>Abundance RPKs=%{y}<extra></extra>",
         "legendgroup": "GO:0006310; P:DNA recombination; IEA:UniProtKB-UniRule.",
         "marker": {
          "color": "#636efa"
         },
         "name": "GO:0006310; P:DNA recombination; IEA:UniProtKB-UniRule.",
         "offsetgroup": "GO:0006310; P:DNA recombination; IEA:UniProtKB-UniRule.",
         "orientation": "v",
         "showlegend": true,
         "textposition": "auto",
         "type": "bar",
         "x": [
          "Sample 101",
          "Sample 4"
         ],
         "xaxis": "x",
         "y": [
          22090.6124680608,
          10635.103687058898
         ],
         "yaxis": "y"
        },
        {
         "alignmentgroup": "True",
         "hovertemplate": "Function=GO:0006281; P:DNA repair; IEA:UniProtKB-UniRule.<br>Sample=%{x}<br>Abundance RPKs=%{y}<extra></extra>",
         "legendgroup": "GO:0006281; P:DNA repair; IEA:UniProtKB-UniRule.",
         "marker": {
          "color": "#EF553B"
         },
         "name": "GO:0006281; P:DNA repair; IEA:UniProtKB-UniRule.",
         "offsetgroup": "GO:0006281; P:DNA repair; IEA:UniProtKB-UniRule.",
         "orientation": "v",
         "showlegend": true,
         "textposition": "auto",
         "type": "bar",
         "x": [
          "Sample 101",
          "Sample 2",
          "Sample 4",
          "Sample 1",
          "Sample 13"
         ],
         "xaxis": "x",
         "y": [
          30110.000781369898,
          10078.265933780598,
          13058.1320477414,
          12666.116133537404,
          14046.189351183797
         ],
         "yaxis": "y"
        },
        {
         "alignmentgroup": "True",
         "hovertemplate": "Function=GO:0009432; P:SOS response; IEA:UniProtKB-UniRule.<br>Sample=%{x}<br>Abundance RPKs=%{y}<extra></extra>",
         "legendgroup": "GO:0009432; P:SOS response; IEA:UniProtKB-UniRule.",
         "marker": {
          "color": "#00cc96"
         },
         "name": "GO:0009432; P:SOS response; IEA:UniProtKB-UniRule.",
         "offsetgroup": "GO:0009432; P:SOS response; IEA:UniProtKB-UniRule.",
         "orientation": "v",
         "showlegend": true,
         "textposition": "auto",
         "type": "bar",
         "x": [
          "Sample 101"
         ],
         "xaxis": "x",
         "y": [
          21753.959675309798
         ],
         "yaxis": "y"
        },
        {
         "alignmentgroup": "True",
         "hovertemplate": "Function=GO:0005886; C:plasma membrane; IEA:UniProtKB-SubCell.<br>Sample=%{x}<br>Abundance RPKs=%{y}<extra></extra>",
         "legendgroup": "GO:0005886; C:plasma membrane; IEA:UniProtKB-SubCell.",
         "marker": {
          "color": "#ab63fa"
         },
         "name": "GO:0005886; C:plasma membrane; IEA:UniProtKB-SubCell.",
         "offsetgroup": "GO:0005886; C:plasma membrane; IEA:UniProtKB-SubCell.",
         "orientation": "v",
         "showlegend": true,
         "textposition": "auto",
         "type": "bar",
         "x": [
          "Sample 101",
          "Sample 14",
          "Sample 2",
          "Sample 16",
          "Sample 4",
          "Sample 1",
          "Sample 99",
          "Sample 13"
         ],
         "xaxis": "x",
         "y": [
          266736.75990297424,
          17005.474590495396,
          21895.88940314801,
          15032.175796265301,
          27790.835301124007,
          30933.694992365112,
          12614.717292221496,
          77630.18934858702
         ],
         "yaxis": "y"
        },
        {
         "alignmentgroup": "True",
         "hovertemplate": "Function=GO:0003924; F:GTPase activity; IEA:UniProtKB-UniRule.<br>Sample=%{x}<br>Abundance RPKs=%{y}<extra></extra>",
         "legendgroup": "GO:0003924; F:GTPase activity; IEA:UniProtKB-UniRule.",
         "marker": {
          "color": "#FFA15A"
         },
         "name": "GO:0003924; F:GTPase activity; IEA:UniProtKB-UniRule.",
         "offsetgroup": "GO:0003924; F:GTPase activity; IEA:UniProtKB-UniRule.",
         "orientation": "v",
         "showlegend": true,
         "textposition": "auto",
         "type": "bar",
         "x": [
          "Sample 101",
          "Sample 4"
         ],
         "xaxis": "x",
         "y": [
          17698.45653142059,
          10370.377554819099
         ],
         "yaxis": "y"
        },
        {
         "alignmentgroup": "True",
         "hovertemplate": "Function=GO:0046983; F:protein dimerization activity; IEA:InterPro.<br>Sample=%{x}<br>Abundance RPKs=%{y}<extra></extra>",
         "legendgroup": "GO:0046983; F:protein dimerization activity; IEA:InterPro.",
         "marker": {
          "color": "#19d3f3"
         },
         "name": "GO:0046983; F:protein dimerization activity; IEA:InterPro.",
         "offsetgroup": "GO:0046983; F:protein dimerization activity; IEA:InterPro.",
         "orientation": "v",
         "showlegend": true,
         "textposition": "auto",
         "type": "bar",
         "x": [
          "Sample 101"
         ],
         "xaxis": "x",
         "y": [
          15124.280634133402
         ],
         "yaxis": "y"
        },
        {
         "alignmentgroup": "True",
         "hovertemplate": "Function=GO:0051082; F:unfolded protein binding; IEA:UniProtKB-UniRule.<br>Sample=%{x}<br>Abundance RPKs=%{y}<extra></extra>",
         "legendgroup": "GO:0051082; F:unfolded protein binding; IEA:UniProtKB-UniRule.",
         "marker": {
          "color": "#FF6692"
         },
         "name": "GO:0051082; F:unfolded protein binding; IEA:UniProtKB-UniRule.",
         "offsetgroup": "GO:0051082; F:unfolded protein binding; IEA:UniProtKB-UniRule.",
         "orientation": "v",
         "showlegend": true,
         "textposition": "auto",
         "type": "bar",
         "x": [
          "Sample 101"
         ],
         "xaxis": "x",
         "y": [
          12712.045871494101
         ],
         "yaxis": "y"
        },
        {
         "alignmentgroup": "True",
         "hovertemplate": "Function=GO:0008270; F:zinc ion binding; IEA:InterPro.<br>Sample=%{x}<br>Abundance RPKs=%{y}<extra></extra>",
         "legendgroup": "GO:0008270; F:zinc ion binding; IEA:InterPro.",
         "marker": {
          "color": "#B6E880"
         },
         "name": "GO:0008270; F:zinc ion binding; IEA:InterPro.",
         "offsetgroup": "GO:0008270; F:zinc ion binding; IEA:InterPro.",
         "orientation": "v",
         "showlegend": true,
         "textposition": "auto",
         "type": "bar",
         "x": [
          "Sample 101"
         ],
         "xaxis": "x",
         "y": [
          24700.25925888301
         ],
         "yaxis": "y"
        },
        {
         "alignmentgroup": "True",
         "hovertemplate": "Function=GO:0006457; P:protein folding; IEA:UniProtKB-UniRule.<br>Sample=%{x}<br>Abundance RPKs=%{y}<extra></extra>",
         "legendgroup": "GO:0006457; P:protein folding; IEA:UniProtKB-UniRule.",
         "marker": {
          "color": "#FF97FF"
         },
         "name": "GO:0006457; P:protein folding; IEA:UniProtKB-UniRule.",
         "offsetgroup": "GO:0006457; P:protein folding; IEA:UniProtKB-UniRule.",
         "orientation": "v",
         "showlegend": true,
         "textposition": "auto",
         "type": "bar",
         "x": [
          "Sample 101"
         ],
         "xaxis": "x",
         "y": [
          19224.741369893905
         ],
         "yaxis": "y"
        },
        {
         "alignmentgroup": "True",
         "hovertemplate": "Function=GO:0006260; P:DNA replication; IEA:UniProtKB-UniRule.<br>Sample=%{x}<br>Abundance RPKs=%{y}<extra></extra>",
         "legendgroup": "GO:0006260; P:DNA replication; IEA:UniProtKB-UniRule.",
         "marker": {
          "color": "#FECB52"
         },
         "name": "GO:0006260; P:DNA replication; IEA:UniProtKB-UniRule.",
         "offsetgroup": "GO:0006260; P:DNA replication; IEA:UniProtKB-UniRule.",
         "orientation": "v",
         "showlegend": true,
         "textposition": "auto",
         "type": "bar",
         "x": [
          "Sample 101"
         ],
         "xaxis": "x",
         "y": [
          13079.318688944903
         ],
         "yaxis": "y"
        },
        {
         "alignmentgroup": "True",
         "hovertemplate": "Function=GO:0005525; F:GTP binding; IEA:UniProtKB-KW.<br>Sample=%{x}<br>Abundance RPKs=%{y}<extra></extra>",
         "legendgroup": "GO:0005525; F:GTP binding; IEA:UniProtKB-KW.",
         "marker": {
          "color": "#636efa"
         },
         "name": "GO:0005525; F:GTP binding; IEA:UniProtKB-KW.",
         "offsetgroup": "GO:0005525; F:GTP binding; IEA:UniProtKB-KW.",
         "orientation": "v",
         "showlegend": true,
         "textposition": "auto",
         "type": "bar",
         "x": [
          "Sample 101",
          "Sample 4",
          "Sample 99",
          "Sample 13"
         ],
         "xaxis": "x",
         "y": [
          19392.1261206908,
          15212.378574938499,
          11853.2234942834,
          11329.668391185798
         ],
         "yaxis": "y"
        },
        {
         "alignmentgroup": "True",
         "hovertemplate": "Function=GO:0009116; P:nucleoside metabolic process; IEA:InterPro.<br>Sample=%{x}<br>Abundance RPKs=%{y}<extra></extra>",
         "legendgroup": "GO:0009116; P:nucleoside metabolic process; IEA:InterPro.",
         "marker": {
          "color": "#EF553B"
         },
         "name": "GO:0009116; P:nucleoside metabolic process; IEA:InterPro.",
         "offsetgroup": "GO:0009116; P:nucleoside metabolic process; IEA:InterPro.",
         "orientation": "v",
         "showlegend": true,
         "textposition": "auto",
         "type": "bar",
         "x": [
          "Sample 101"
         ],
         "xaxis": "x",
         "y": [
          10466.0752050693
         ],
         "yaxis": "y"
        },
        {
         "alignmentgroup": "True",
         "hovertemplate": "Function=GO:0003677; F:DNA binding; IEA:UniProtKB-UniRule.<br>Sample=%{x}<br>Abundance RPKs=%{y}<extra></extra>",
         "legendgroup": "GO:0003677; F:DNA binding; IEA:UniProtKB-UniRule.",
         "marker": {
          "color": "#00cc96"
         },
         "name": "GO:0003677; F:DNA binding; IEA:UniProtKB-UniRule.",
         "offsetgroup": "GO:0003677; F:DNA binding; IEA:UniProtKB-UniRule.",
         "orientation": "v",
         "showlegend": true,
         "textposition": "auto",
         "type": "bar",
         "x": [
          "Sample 101"
         ],
         "xaxis": "x",
         "y": [
          16138.872985481701
         ],
         "yaxis": "y"
        },
        {
         "alignmentgroup": "True",
         "hovertemplate": "Function=GO:0046872; F:metal ion binding; IEA:UniProtKB-KW.<br>Sample=%{x}<br>Abundance RPKs=%{y}<extra></extra>",
         "legendgroup": "GO:0046872; F:metal ion binding; IEA:UniProtKB-KW.",
         "marker": {
          "color": "#ab63fa"
         },
         "name": "GO:0046872; F:metal ion binding; IEA:UniProtKB-KW.",
         "offsetgroup": "GO:0046872; F:metal ion binding; IEA:UniProtKB-KW.",
         "orientation": "v",
         "showlegend": true,
         "textposition": "auto",
         "type": "bar",
         "x": [
          "Sample 101",
          "Sample 14",
          "Sample 2",
          "Sample 16",
          "Sample 4",
          "Sample 1",
          "Sample 99",
          "Sample 13"
         ],
         "xaxis": "x",
         "y": [
          223384.7772414651,
          28069.906270423282,
          33466.67365022332,
          24157.909522767597,
          44563.91132373917,
          40779.177924147705,
          18227.711701140488,
          68812.55048033422
         ],
         "yaxis": "y"
        },
        {
         "alignmentgroup": "True",
         "hovertemplate": "Function=GO:0009098; P:leucine biosynthetic process; IEA:UniProtKB-UniRule.<br>Sample=%{x}<br>Abundance RPKs=%{y}<extra></extra>",
         "legendgroup": "GO:0009098; P:leucine biosynthetic process; IEA:UniProtKB-UniRule.",
         "marker": {
          "color": "#FFA15A"
         },
         "name": "GO:0009098; P:leucine biosynthetic process; IEA:UniProtKB-UniRule.",
         "offsetgroup": "GO:0009098; P:leucine biosynthetic process; IEA:UniProtKB-UniRule.",
         "orientation": "v",
         "showlegend": true,
         "textposition": "auto",
         "type": "bar",
         "x": [
          "Sample 101"
         ],
         "xaxis": "x",
         "y": [
          10750.712320102799
         ],
         "yaxis": "y"
        },
        {
         "alignmentgroup": "True",
         "hovertemplate": "Function=GO:0071555; P:cell wall organization; IEA:UniProtKB-KW.<br>Sample=%{x}<br>Abundance RPKs=%{y}<extra></extra>",
         "legendgroup": "GO:0071555; P:cell wall organization; IEA:UniProtKB-KW.",
         "marker": {
          "color": "#19d3f3"
         },
         "name": "GO:0071555; P:cell wall organization; IEA:UniProtKB-KW.",
         "offsetgroup": "GO:0071555; P:cell wall organization; IEA:UniProtKB-KW.",
         "orientation": "v",
         "showlegend": true,
         "textposition": "auto",
         "type": "bar",
         "x": [
          "Sample 101",
          "Sample 2",
          "Sample 4",
          "Sample 1",
          "Sample 13"
         ],
         "xaxis": "x",
         "y": [
          69691.98793040754,
          12214.6050930424,
          14388.524702128701,
          15926.490184289896,
          22386.3579477926
         ],
         "yaxis": "y"
        },
        {
         "alignmentgroup": "True",
         "hovertemplate": "Function=GO:0009252; P:peptidoglycan biosynthetic process; IEA:UniProtKB-UniRule.<br>Sample=%{x}<br>Abundance RPKs=%{y}<extra></extra>",
         "legendgroup": "GO:0009252; P:peptidoglycan biosynthetic process; IEA:UniProtKB-UniRule.",
         "marker": {
          "color": "#FF6692"
         },
         "name": "GO:0009252; P:peptidoglycan biosynthetic process; IEA:UniProtKB-UniRule.",
         "offsetgroup": "GO:0009252; P:peptidoglycan biosynthetic process; IEA:UniProtKB-UniRule.",
         "orientation": "v",
         "showlegend": true,
         "textposition": "auto",
         "type": "bar",
         "x": [
          "Sample 101",
          "Sample 2",
          "Sample 4",
          "Sample 1",
          "Sample 13"
         ],
         "xaxis": "x",
         "y": [
          41520.782956049516,
          10626.7572516028,
          12136.154142101404,
          13589.172545428293,
          15734.347348768702
         ],
         "yaxis": "y"
        },
        {
         "alignmentgroup": "True",
         "hovertemplate": "Function=GO:0008360; P:regulation of cell shape; IEA:UniProtKB-KW.<br>Sample=%{x}<br>Abundance RPKs=%{y}<extra></extra>",
         "legendgroup": "GO:0008360; P:regulation of cell shape; IEA:UniProtKB-KW.",
         "marker": {
          "color": "#B6E880"
         },
         "name": "GO:0008360; P:regulation of cell shape; IEA:UniProtKB-KW.",
         "offsetgroup": "GO:0008360; P:regulation of cell shape; IEA:UniProtKB-KW.",
         "orientation": "v",
         "showlegend": true,
         "textposition": "auto",
         "type": "bar",
         "x": [
          "Sample 101",
          "Sample 2",
          "Sample 4",
          "Sample 1",
          "Sample 13"
         ],
         "xaxis": "x",
         "y": [
          54395.758177077114,
          12060.4968295944,
          14034.216610916403,
          15523.958053635597,
          19245.2244066198
         ],
         "yaxis": "y"
        },
        {
         "alignmentgroup": "True",
         "hovertemplate": "Function=GO:0042274; P:ribosomal small subunit biogenesis; IEA:UniProtKB-UniRule.<br>Sample=%{x}<br>Abundance RPKs=%{y}<extra></extra>",
         "legendgroup": "GO:0042274; P:ribosomal small subunit biogenesis; IEA:UniProtKB-UniRule.",
         "marker": {
          "color": "#FF97FF"
         },
         "name": "GO:0042274; P:ribosomal small subunit biogenesis; IEA:UniProtKB-UniRule.",
         "offsetgroup": "GO:0042274; P:ribosomal small subunit biogenesis; IEA:UniProtKB-UniRule.",
         "orientation": "v",
         "showlegend": true,
         "textposition": "auto",
         "type": "bar",
         "x": [
          "Sample 101"
         ],
         "xaxis": "x",
         "y": [
          11597.610885727898
         ],
         "yaxis": "y"
        },
        {
         "alignmentgroup": "True",
         "hovertemplate": "Function=GO:0000287; F:magnesium ion binding; IEA:InterPro.<br>Sample=%{x}<br>Abundance RPKs=%{y}<extra></extra>",
         "legendgroup": "GO:0000287; F:magnesium ion binding; IEA:InterPro.",
         "marker": {
          "color": "#FECB52"
         },
         "name": "GO:0000287; F:magnesium ion binding; IEA:InterPro.",
         "offsetgroup": "GO:0000287; F:magnesium ion binding; IEA:InterPro.",
         "orientation": "v",
         "showlegend": true,
         "textposition": "auto",
         "type": "bar",
         "x": [
          "Sample 101"
         ],
         "xaxis": "x",
         "y": [
          25931.958875661203
         ],
         "yaxis": "y"
        },
        {
         "alignmentgroup": "True",
         "hovertemplate": "Function=GO:0003723; F:RNA binding; IEA:InterPro.<br>Sample=%{x}<br>Abundance RPKs=%{y}<extra></extra>",
         "legendgroup": "GO:0003723; F:RNA binding; IEA:InterPro.",
         "marker": {
          "color": "#636efa"
         },
         "name": "GO:0003723; F:RNA binding; IEA:InterPro.",
         "offsetgroup": "GO:0003723; F:RNA binding; IEA:InterPro.",
         "orientation": "v",
         "showlegend": true,
         "textposition": "auto",
         "type": "bar",
         "x": [
          "Sample 101"
         ],
         "xaxis": "x",
         "y": [
          20621.3090058804
         ],
         "yaxis": "y"
        },
        {
         "alignmentgroup": "True",
         "hovertemplate": "Function=GO:0006633; P:fatty acid biosynthetic process; IEA:UniProtKB-UniRule.<br>Sample=%{x}<br>Abundance RPKs=%{y}<extra></extra>",
         "legendgroup": "GO:0006633; P:fatty acid biosynthetic process; IEA:UniProtKB-UniRule.",
         "marker": {
          "color": "#EF553B"
         },
         "name": "GO:0006633; P:fatty acid biosynthetic process; IEA:UniProtKB-UniRule.",
         "offsetgroup": "GO:0006633; P:fatty acid biosynthetic process; IEA:UniProtKB-UniRule.",
         "orientation": "v",
         "showlegend": true,
         "textposition": "auto",
         "type": "bar",
         "x": [
          "Sample 101"
         ],
         "xaxis": "x",
         "y": [
          23214.007363969602
         ],
         "yaxis": "y"
        },
        {
         "alignmentgroup": "True",
         "hovertemplate": "Function=GO:0005524; F:ATP binding; IEA:InterPro.<br>Sample=%{x}<br>Abundance RPKs=%{y}<extra></extra>",
         "legendgroup": "GO:0005524; F:ATP binding; IEA:InterPro.",
         "marker": {
          "color": "#00cc96"
         },
         "name": "GO:0005524; F:ATP binding; IEA:InterPro.",
         "offsetgroup": "GO:0005524; F:ATP binding; IEA:InterPro.",
         "orientation": "v",
         "showlegend": true,
         "textposition": "auto",
         "type": "bar",
         "x": [
          "Sample 101"
         ],
         "xaxis": "x",
         "y": [
          10856.7391825416
         ],
         "yaxis": "y"
        },
        {
         "alignmentgroup": "True",
         "hovertemplate": "Function=GO:0019843; F:rRNA binding; IEA:UniProtKB-KW.<br>Sample=%{x}<br>Abundance RPKs=%{y}<extra></extra>",
         "legendgroup": "GO:0019843; F:rRNA binding; IEA:UniProtKB-KW.",
         "marker": {
          "color": "#ab63fa"
         },
         "name": "GO:0019843; F:rRNA binding; IEA:UniProtKB-KW.",
         "offsetgroup": "GO:0019843; F:rRNA binding; IEA:UniProtKB-KW.",
         "orientation": "v",
         "showlegend": true,
         "textposition": "auto",
         "type": "bar",
         "x": [
          "Sample 101"
         ],
         "xaxis": "x",
         "y": [
          11714.0132201199
         ],
         "yaxis": "y"
        },
        {
         "alignmentgroup": "True",
         "hovertemplate": "Function=GO:0016021; C:integral component of membrane; IEA:UniProtKB-KW.<br>Sample=%{x}<br>Abundance RPKs=%{y}<extra></extra>",
         "legendgroup": "GO:0016021; C:integral component of membrane; IEA:UniProtKB-KW.",
         "marker": {
          "color": "#FFA15A"
         },
         "name": "GO:0016021; C:integral component of membrane; IEA:UniProtKB-KW.",
         "offsetgroup": "GO:0016021; C:integral component of membrane; IEA:UniProtKB-KW.",
         "orientation": "v",
         "showlegend": true,
         "textposition": "auto",
         "type": "bar",
         "x": [
          "Sample 101",
          "Sample 14",
          "Sample 2",
          "Sample 4",
          "Sample 1",
          "Sample 13"
         ],
         "xaxis": "x",
         "y": [
          256605.38347323466,
          10917.295318609495,
          14013.305663371795,
          18603.0604997382,
          20356.122369875702,
          67733.35484026482
         ],
         "yaxis": "y"
        },
        {
         "alignmentgroup": "True",
         "hovertemplate": "Function=GO:0005506; F:iron ion binding; IEA:InterPro.<br>Sample=%{x}<br>Abundance RPKs=%{y}<extra></extra>",
         "legendgroup": "GO:0005506; F:iron ion binding; IEA:InterPro.",
         "marker": {
          "color": "#19d3f3"
         },
         "name": "GO:0005506; F:iron ion binding; IEA:InterPro.",
         "offsetgroup": "GO:0005506; F:iron ion binding; IEA:InterPro.",
         "orientation": "v",
         "showlegend": true,
         "textposition": "auto",
         "type": "bar",
         "x": [
          "Sample 101"
         ],
         "xaxis": "x",
         "y": [
          12667.0639447979
         ],
         "yaxis": "y"
        },
        {
         "alignmentgroup": "True",
         "hovertemplate": "Function=GO:0006189; P:'de novo' IMP biosynthetic process; IEA:UniProtKB-UniRule.<br>Sample=%{x}<br>Abundance RPKs=%{y}<extra></extra>",
         "legendgroup": "GO:0006189; P:'de novo' IMP biosynthetic process; IEA:UniProtKB-UniRule.",
         "marker": {
          "color": "#FF6692"
         },
         "name": "GO:0006189; P:'de novo' IMP biosynthetic process; IEA:UniProtKB-UniRule.",
         "offsetgroup": "GO:0006189; P:'de novo' IMP biosynthetic process; IEA:UniProtKB-UniRule.",
         "orientation": "v",
         "showlegend": true,
         "textposition": "auto",
         "type": "bar",
         "x": [
          "Sample 101"
         ],
         "xaxis": "x",
         "y": [
          15670.758052206098
         ],
         "yaxis": "y"
        },
        {
         "alignmentgroup": "True",
         "hovertemplate": "Function=GO:0009073; P:aromatic amino acid family biosynthetic process; IEA:UniProtKB-UniRule.<br>Sample=%{x}<br>Abundance RPKs=%{y}<extra></extra>",
         "legendgroup": "GO:0009073; P:aromatic amino acid family biosynthetic process; IEA:UniProtKB-UniRule.",
         "marker": {
          "color": "#B6E880"
         },
         "name": "GO:0009073; P:aromatic amino acid family biosynthetic process; IEA:UniProtKB-UniRule.",
         "offsetgroup": "GO:0009073; P:aromatic amino acid family biosynthetic process; IEA:UniProtKB-UniRule.",
         "orientation": "v",
         "showlegend": true,
         "textposition": "auto",
         "type": "bar",
         "x": [
          "Sample 101"
         ],
         "xaxis": "x",
         "y": [
          18719.86102833669
         ],
         "yaxis": "y"
        },
        {
         "alignmentgroup": "True",
         "hovertemplate": "Function=GO:0009423; P:chorismate biosynthetic process; IEA:UniProtKB-UniPathway.<br>Sample=%{x}<br>Abundance RPKs=%{y}<extra></extra>",
         "legendgroup": "GO:0009423; P:chorismate biosynthetic process; IEA:UniProtKB-UniPathway.",
         "marker": {
          "color": "#FF97FF"
         },
         "name": "GO:0009423; P:chorismate biosynthetic process; IEA:UniProtKB-UniPathway.",
         "offsetgroup": "GO:0009423; P:chorismate biosynthetic process; IEA:UniProtKB-UniPathway.",
         "orientation": "v",
         "showlegend": true,
         "textposition": "auto",
         "type": "bar",
         "x": [
          "Sample 101"
         ],
         "xaxis": "x",
         "y": [
          18995.16625668459
         ],
         "yaxis": "y"
        },
        {
         "alignmentgroup": "True",
         "hovertemplate": "Function=GO:0004222; F:metalloendopeptidase activity; IEA:InterPro.<br>Sample=%{x}<br>Abundance RPKs=%{y}<extra></extra>",
         "legendgroup": "GO:0004222; F:metalloendopeptidase activity; IEA:InterPro.",
         "marker": {
          "color": "#FECB52"
         },
         "name": "GO:0004222; F:metalloendopeptidase activity; IEA:InterPro.",
         "offsetgroup": "GO:0004222; F:metalloendopeptidase activity; IEA:InterPro.",
         "orientation": "v",
         "showlegend": true,
         "textposition": "auto",
         "type": "bar",
         "x": [
          "Sample 101"
         ],
         "xaxis": "x",
         "y": [
          11463.964824665103
         ],
         "yaxis": "y"
        },
        {
         "alignmentgroup": "True",
         "hovertemplate": "Function=GO:0006364; P:rRNA processing; IEA:UniProtKB-UniRule.<br>Sample=%{x}<br>Abundance RPKs=%{y}<extra></extra>",
         "legendgroup": "GO:0006364; P:rRNA processing; IEA:UniProtKB-UniRule.",
         "marker": {
          "color": "#636efa"
         },
         "name": "GO:0006364; P:rRNA processing; IEA:UniProtKB-UniRule.",
         "offsetgroup": "GO:0006364; P:rRNA processing; IEA:UniProtKB-UniRule.",
         "orientation": "v",
         "showlegend": true,
         "textposition": "auto",
         "type": "bar",
         "x": [
          "Sample 101"
         ],
         "xaxis": "x",
         "y": [
          11050.171264344102
         ],
         "yaxis": "y"
        },
        {
         "alignmentgroup": "True",
         "hovertemplate": "Function=GO:0016597; F:amino acid binding; IEA:InterPro.<br>Sample=%{x}<br>Abundance RPKs=%{y}<extra></extra>",
         "legendgroup": "GO:0016597; F:amino acid binding; IEA:InterPro.",
         "marker": {
          "color": "#EF553B"
         },
         "name": "GO:0016597; F:amino acid binding; IEA:InterPro.",
         "offsetgroup": "GO:0016597; F:amino acid binding; IEA:InterPro.",
         "orientation": "v",
         "showlegend": true,
         "textposition": "auto",
         "type": "bar",
         "x": [
          "Sample 101"
         ],
         "xaxis": "x",
         "y": [
          10587.448525762802
         ],
         "yaxis": "y"
        },
        {
         "alignmentgroup": "True",
         "hovertemplate": "Function=GO:0006207; P:'de novo' pyrimidine nucleobase biosynthetic process; IEA:InterPro.<br>Sample=%{x}<br>Abundance RPKs=%{y}<extra></extra>",
         "legendgroup": "GO:0006207; P:'de novo' pyrimidine nucleobase biosynthetic process; IEA:InterPro.",
         "marker": {
          "color": "#00cc96"
         },
         "name": "GO:0006207; P:'de novo' pyrimidine nucleobase biosynthetic process; IEA:InterPro.",
         "offsetgroup": "GO:0006207; P:'de novo' pyrimidine nucleobase biosynthetic process; IEA:InterPro.",
         "orientation": "v",
         "showlegend": true,
         "textposition": "auto",
         "type": "bar",
         "x": [
          "Sample 101"
         ],
         "xaxis": "x",
         "y": [
          13938.904883267896
         ],
         "yaxis": "y"
        },
        {
         "alignmentgroup": "True",
         "hovertemplate": "Function=GO:0044205; P:'de novo' UMP biosynthetic process; IEA:UniProtKB-UniPathway.<br>Sample=%{x}<br>Abundance RPKs=%{y}<extra></extra>",
         "legendgroup": "GO:0044205; P:'de novo' UMP biosynthetic process; IEA:UniProtKB-UniPathway.",
         "marker": {
          "color": "#ab63fa"
         },
         "name": "GO:0044205; P:'de novo' UMP biosynthetic process; IEA:UniProtKB-UniPathway.",
         "offsetgroup": "GO:0044205; P:'de novo' UMP biosynthetic process; IEA:UniProtKB-UniPathway.",
         "orientation": "v",
         "showlegend": true,
         "textposition": "auto",
         "type": "bar",
         "x": [
          "Sample 101"
         ],
         "xaxis": "x",
         "y": [
          20270.02367426699
         ],
         "yaxis": "y"
        },
        {
         "alignmentgroup": "True",
         "hovertemplate": "Function=GO:0000105; P:histidine biosynthetic process; IEA:UniProtKB-UniRule.<br>Sample=%{x}<br>Abundance RPKs=%{y}<extra></extra>",
         "legendgroup": "GO:0000105; P:histidine biosynthetic process; IEA:UniProtKB-UniRule.",
         "marker": {
          "color": "#FFA15A"
         },
         "name": "GO:0000105; P:histidine biosynthetic process; IEA:UniProtKB-UniRule.",
         "offsetgroup": "GO:0000105; P:histidine biosynthetic process; IEA:UniProtKB-UniRule.",
         "orientation": "v",
         "showlegend": true,
         "textposition": "auto",
         "type": "bar",
         "x": [
          "Sample 101",
          "Sample 14",
          "Sample 4",
          "Sample 1",
          "Sample 13"
         ],
         "xaxis": "x",
         "y": [
          17803.231651112797,
          11479.653691241505,
          12171.311443280603,
          10061.873766276602,
          10776.705289085901
         ],
         "yaxis": "y"
        },
        {
         "alignmentgroup": "True",
         "hovertemplate": "Function=GO:0005887; C:integral component of plasma membrane; IEA:UniProtKB-UniRule.<br>Sample=%{x}<br>Abundance RPKs=%{y}<extra></extra>",
         "legendgroup": "GO:0005887; C:integral component of plasma membrane; IEA:UniProtKB-UniRule.",
         "marker": {
          "color": "#19d3f3"
         },
         "name": "GO:0005887; C:integral component of plasma membrane; IEA:UniProtKB-UniRule.",
         "offsetgroup": "GO:0005887; C:integral component of plasma membrane; IEA:UniProtKB-UniRule.",
         "orientation": "v",
         "showlegend": true,
         "textposition": "auto",
         "type": "bar",
         "x": [
          "Sample 101",
          "Sample 13"
         ],
         "xaxis": "x",
         "y": [
          41521.18965147211,
          12984.524049278803
         ],
         "yaxis": "y"
        },
        {
         "alignmentgroup": "True",
         "hovertemplate": "Function=GO:0003677; F:DNA binding; IEA:UniProtKB-KW.<br>Sample=%{x}<br>Abundance RPKs=%{y}<extra></extra>",
         "legendgroup": "GO:0003677; F:DNA binding; IEA:UniProtKB-KW.",
         "marker": {
          "color": "#FF6692"
         },
         "name": "GO:0003677; F:DNA binding; IEA:UniProtKB-KW.",
         "offsetgroup": "GO:0003677; F:DNA binding; IEA:UniProtKB-KW.",
         "orientation": "v",
         "showlegend": true,
         "textposition": "auto",
         "type": "bar",
         "x": [
          "Sample 101",
          "Sample 13"
         ],
         "xaxis": "x",
         "y": [
          84257.3131684741,
          16199.495385048598
         ],
         "yaxis": "y"
        },
        {
         "alignmentgroup": "True",
         "hovertemplate": "Function=GO:0003677; F:DNA binding; IEA:InterPro.<br>Sample=%{x}<br>Abundance RPKs=%{y}<extra></extra>",
         "legendgroup": "GO:0003677; F:DNA binding; IEA:InterPro.",
         "marker": {
          "color": "#B6E880"
         },
         "name": "GO:0003677; F:DNA binding; IEA:InterPro.",
         "offsetgroup": "GO:0003677; F:DNA binding; IEA:InterPro.",
         "orientation": "v",
         "showlegend": true,
         "textposition": "auto",
         "type": "bar",
         "x": [
          "Sample 101"
         ],
         "xaxis": "x",
         "y": [
          10937.624297867296
         ],
         "yaxis": "y"
        },
        {
         "alignmentgroup": "True",
         "hovertemplate": "Function=GO:0006094; P:gluconeogenesis; IEA:UniProtKB-UniRule.<br>Sample=%{x}<br>Abundance RPKs=%{y}<extra></extra>",
         "legendgroup": "GO:0006094; P:gluconeogenesis; IEA:UniProtKB-UniRule.",
         "marker": {
          "color": "#FF97FF"
         },
         "name": "GO:0006094; P:gluconeogenesis; IEA:UniProtKB-UniRule.",
         "offsetgroup": "GO:0006094; P:gluconeogenesis; IEA:UniProtKB-UniRule.",
         "orientation": "v",
         "showlegend": true,
         "textposition": "auto",
         "type": "bar",
         "x": [
          "Sample 101",
          "Sample 4"
         ],
         "xaxis": "x",
         "y": [
          16877.3603710893,
          10774.461104253201
         ],
         "yaxis": "y"
        },
        {
         "alignmentgroup": "True",
         "hovertemplate": "Function=GO:0007049; P:cell cycle; IEA:UniProtKB-KW.<br>Sample=%{x}<br>Abundance RPKs=%{y}<extra></extra>",
         "legendgroup": "GO:0007049; P:cell cycle; IEA:UniProtKB-KW.",
         "marker": {
          "color": "#FECB52"
         },
         "name": "GO:0007049; P:cell cycle; IEA:UniProtKB-KW.",
         "offsetgroup": "GO:0007049; P:cell cycle; IEA:UniProtKB-KW.",
         "orientation": "v",
         "showlegend": true,
         "textposition": "auto",
         "type": "bar",
         "x": [
          "Sample 101",
          "Sample 2",
          "Sample 4",
          "Sample 1",
          "Sample 13"
         ],
         "xaxis": "x",
         "y": [
          45721.9190008626,
          10936.118624750103,
          10774.351417012402,
          12662.8755516549,
          15089.952209317598
         ],
         "yaxis": "y"
        },
        {
         "alignmentgroup": "True",
         "hovertemplate": "Function=GO:0005506; F:iron ion binding; IEA:UniProtKB-UniRule.<br>Sample=%{x}<br>Abundance RPKs=%{y}<extra></extra>",
         "legendgroup": "GO:0005506; F:iron ion binding; IEA:UniProtKB-UniRule.",
         "marker": {
          "color": "#636efa"
         },
         "name": "GO:0005506; F:iron ion binding; IEA:UniProtKB-UniRule.",
         "offsetgroup": "GO:0005506; F:iron ion binding; IEA:UniProtKB-UniRule.",
         "orientation": "v",
         "showlegend": true,
         "textposition": "auto",
         "type": "bar",
         "x": [
          "Sample 101"
         ],
         "xaxis": "x",
         "y": [
          27552.261780897104
         ],
         "yaxis": "y"
        },
        {
         "alignmentgroup": "True",
         "hovertemplate": "Function=GO:0050661; F:NADP binding; IEA:InterPro.<br>Sample=%{x}<br>Abundance RPKs=%{y}<extra></extra>",
         "legendgroup": "GO:0050661; F:NADP binding; IEA:InterPro.",
         "marker": {
          "color": "#EF553B"
         },
         "name": "GO:0050661; F:NADP binding; IEA:InterPro.",
         "offsetgroup": "GO:0050661; F:NADP binding; IEA:InterPro.",
         "orientation": "v",
         "showlegend": true,
         "textposition": "auto",
         "type": "bar",
         "x": [
          "Sample 101"
         ],
         "xaxis": "x",
         "y": [
          15933.9817459581
         ],
         "yaxis": "y"
        },
        {
         "alignmentgroup": "True",
         "hovertemplate": "Function=GO:0003723; F:RNA binding; IEA:UniProtKB-KW.<br>Sample=%{x}<br>Abundance RPKs=%{y}<extra></extra>",
         "legendgroup": "GO:0003723; F:RNA binding; IEA:UniProtKB-KW.",
         "marker": {
          "color": "#00cc96"
         },
         "name": "GO:0003723; F:RNA binding; IEA:UniProtKB-KW.",
         "offsetgroup": "GO:0003723; F:RNA binding; IEA:UniProtKB-KW.",
         "orientation": "v",
         "showlegend": true,
         "textposition": "auto",
         "type": "bar",
         "x": [
          "Sample 101"
         ],
         "xaxis": "x",
         "y": [
          20209.6363600556
         ],
         "yaxis": "y"
        },
        {
         "alignmentgroup": "True",
         "hovertemplate": "Function=GO:0006526; P:arginine biosynthetic process; IEA:UniProtKB-UniRule.<br>Sample=%{x}<br>Abundance RPKs=%{y}<extra></extra>",
         "legendgroup": "GO:0006526; P:arginine biosynthetic process; IEA:UniProtKB-UniRule.",
         "marker": {
          "color": "#ab63fa"
         },
         "name": "GO:0006526; P:arginine biosynthetic process; IEA:UniProtKB-UniRule.",
         "offsetgroup": "GO:0006526; P:arginine biosynthetic process; IEA:UniProtKB-UniRule.",
         "orientation": "v",
         "showlegend": true,
         "textposition": "auto",
         "type": "bar",
         "x": [
          "Sample 101"
         ],
         "xaxis": "x",
         "y": [
          17570.9870590875
         ],
         "yaxis": "y"
        },
        {
         "alignmentgroup": "True",
         "hovertemplate": "Function=GO:0003700; F:DNA-binding transcription factor activity; IEA:UniProtKB-UniRule.<br>Sample=%{x}<br>Abundance RPKs=%{y}<extra></extra>",
         "legendgroup": "GO:0003700; F:DNA-binding transcription factor activity; IEA:UniProtKB-UniRule.",
         "marker": {
          "color": "#FFA15A"
         },
         "name": "GO:0003700; F:DNA-binding transcription factor activity; IEA:UniProtKB-UniRule.",
         "offsetgroup": "GO:0003700; F:DNA-binding transcription factor activity; IEA:UniProtKB-UniRule.",
         "orientation": "v",
         "showlegend": true,
         "textposition": "auto",
         "type": "bar",
         "x": [
          "Sample 101"
         ],
         "xaxis": "x",
         "y": [
          25878.42579259491
         ],
         "yaxis": "y"
        },
        {
         "alignmentgroup": "True",
         "hovertemplate": "Function=GO:0051301; P:cell division; IEA:UniProtKB-KW.<br>Sample=%{x}<br>Abundance RPKs=%{y}<extra></extra>",
         "legendgroup": "GO:0051301; P:cell division; IEA:UniProtKB-KW.",
         "marker": {
          "color": "#19d3f3"
         },
         "name": "GO:0051301; P:cell division; IEA:UniProtKB-KW.",
         "offsetgroup": "GO:0051301; P:cell division; IEA:UniProtKB-KW.",
         "orientation": "v",
         "showlegend": true,
         "textposition": "auto",
         "type": "bar",
         "x": [
          "Sample 101",
          "Sample 2",
          "Sample 4",
          "Sample 1",
          "Sample 13"
         ],
         "xaxis": "x",
         "y": [
          42315.04497425561,
          10411.567725349903,
          10259.522473688901,
          12345.694879093704,
          14421.761875736898
         ],
         "yaxis": "y"
        },
        {
         "alignmentgroup": "True",
         "hovertemplate": "Function=GO:0008033; P:tRNA processing; IEA:UniProtKB-UniRule.<br>Sample=%{x}<br>Abundance RPKs=%{y}<extra></extra>",
         "legendgroup": "GO:0008033; P:tRNA processing; IEA:UniProtKB-UniRule.",
         "marker": {
          "color": "#FF6692"
         },
         "name": "GO:0008033; P:tRNA processing; IEA:UniProtKB-UniRule.",
         "offsetgroup": "GO:0008033; P:tRNA processing; IEA:UniProtKB-UniRule.",
         "orientation": "v",
         "showlegend": true,
         "textposition": "auto",
         "type": "bar",
         "x": [
          "Sample 101"
         ],
         "xaxis": "x",
         "y": [
          11362.7018400215
         ],
         "yaxis": "y"
        },
        {
         "alignmentgroup": "True",
         "hovertemplate": "Function=GO:0006400; P:tRNA modification; IEA:UniProtKB-UniRule.<br>Sample=%{x}<br>Abundance RPKs=%{y}<extra></extra>",
         "legendgroup": "GO:0006400; P:tRNA modification; IEA:UniProtKB-UniRule.",
         "marker": {
          "color": "#B6E880"
         },
         "name": "GO:0006400; P:tRNA modification; IEA:UniProtKB-UniRule.",
         "offsetgroup": "GO:0006400; P:tRNA modification; IEA:UniProtKB-UniRule.",
         "orientation": "v",
         "showlegend": true,
         "textposition": "auto",
         "type": "bar",
         "x": [
          "Sample 101"
         ],
         "xaxis": "x",
         "y": [
          12979.440451207402
         ],
         "yaxis": "y"
        },
        {
         "alignmentgroup": "True",
         "hovertemplate": "Function=GO:0005975; P:carbohydrate metabolic process; IEA:InterPro.<br>Sample=%{x}<br>Abundance RPKs=%{y}<extra></extra>",
         "legendgroup": "GO:0005975; P:carbohydrate metabolic process; IEA:InterPro.",
         "marker": {
          "color": "#FF97FF"
         },
         "name": "GO:0005975; P:carbohydrate metabolic process; IEA:InterPro.",
         "offsetgroup": "GO:0005975; P:carbohydrate metabolic process; IEA:InterPro.",
         "orientation": "v",
         "showlegend": true,
         "textposition": "auto",
         "type": "bar",
         "x": [
          "Sample 101"
         ],
         "xaxis": "x",
         "y": [
          25108.095091587198
         ],
         "yaxis": "y"
        },
        {
         "alignmentgroup": "True",
         "hovertemplate": "Function=GO:0030170; F:pyridoxal phosphate binding; IEA:InterPro.<br>Sample=%{x}<br>Abundance RPKs=%{y}<extra></extra>",
         "legendgroup": "GO:0030170; F:pyridoxal phosphate binding; IEA:InterPro.",
         "marker": {
          "color": "#FECB52"
         },
         "name": "GO:0030170; F:pyridoxal phosphate binding; IEA:InterPro.",
         "offsetgroup": "GO:0030170; F:pyridoxal phosphate binding; IEA:InterPro.",
         "orientation": "v",
         "showlegend": true,
         "textposition": "auto",
         "type": "bar",
         "x": [
          "Sample 101"
         ],
         "xaxis": "x",
         "y": [
          14647.1149863721
         ],
         "yaxis": "y"
        },
        {
         "alignmentgroup": "True",
         "hovertemplate": "Function=GO:0009229; P:thiamine diphosphate biosynthetic process; IEA:UniProtKB-UniPathway.<br>Sample=%{x}<br>Abundance RPKs=%{y}<extra></extra>",
         "legendgroup": "GO:0009229; P:thiamine diphosphate biosynthetic process; IEA:UniProtKB-UniPathway.",
         "marker": {
          "color": "#636efa"
         },
         "name": "GO:0009229; P:thiamine diphosphate biosynthetic process; IEA:UniProtKB-UniPathway.",
         "offsetgroup": "GO:0009229; P:thiamine diphosphate biosynthetic process; IEA:UniProtKB-UniPathway.",
         "orientation": "v",
         "showlegend": true,
         "textposition": "auto",
         "type": "bar",
         "x": [
          "Sample 101"
         ],
         "xaxis": "x",
         "y": [
          10922.053483444406
         ],
         "yaxis": "y"
        },
        {
         "alignmentgroup": "True",
         "hovertemplate": "Function=GO:0000166; F:nucleotide binding; IEA:UniProtKB-KW.<br>Sample=%{x}<br>Abundance RPKs=%{y}<extra></extra>",
         "legendgroup": "GO:0000166; F:nucleotide binding; IEA:UniProtKB-KW.",
         "marker": {
          "color": "#EF553B"
         },
         "name": "GO:0000166; F:nucleotide binding; IEA:UniProtKB-KW.",
         "offsetgroup": "GO:0000166; F:nucleotide binding; IEA:UniProtKB-KW.",
         "orientation": "v",
         "showlegend": true,
         "textposition": "auto",
         "type": "bar",
         "x": [
          "Sample 101"
         ],
         "xaxis": "x",
         "y": [
          21271.85613044359
         ],
         "yaxis": "y"
        },
        {
         "alignmentgroup": "True",
         "hovertemplate": "Function=GO:0016114; P:terpenoid biosynthetic process; IEA:UniProtKB-UniRule.<br>Sample=%{x}<br>Abundance RPKs=%{y}<extra></extra>",
         "legendgroup": "GO:0016114; P:terpenoid biosynthetic process; IEA:UniProtKB-UniRule.",
         "marker": {
          "color": "#00cc96"
         },
         "name": "GO:0016114; P:terpenoid biosynthetic process; IEA:UniProtKB-UniRule.",
         "offsetgroup": "GO:0016114; P:terpenoid biosynthetic process; IEA:UniProtKB-UniRule.",
         "orientation": "v",
         "showlegend": true,
         "textposition": "auto",
         "type": "bar",
         "x": [
          "Sample 101",
          "Sample 1"
         ],
         "xaxis": "x",
         "y": [
          17272.129200336098,
          10567.9538950538
         ],
         "yaxis": "y"
        },
        {
         "alignmentgroup": "True",
         "hovertemplate": "Function=GO:0016887; F:ATPase activity; IEA:InterPro.<br>Sample=%{x}<br>Abundance RPKs=%{y}<extra></extra>",
         "legendgroup": "GO:0016887; F:ATPase activity; IEA:InterPro.",
         "marker": {
          "color": "#ab63fa"
         },
         "name": "GO:0016887; F:ATPase activity; IEA:InterPro.",
         "offsetgroup": "GO:0016887; F:ATPase activity; IEA:InterPro.",
         "orientation": "v",
         "showlegend": true,
         "textposition": "auto",
         "type": "bar",
         "x": [
          "Sample 101",
          "Sample 13"
         ],
         "xaxis": "x",
         "y": [
          46461.86390268811,
          15058.101963353103
         ],
         "yaxis": "y"
        },
        {
         "alignmentgroup": "True",
         "hovertemplate": "Function=GO:0010181; F:FMN binding; IEA:InterPro.<br>Sample=%{x}<br>Abundance RPKs=%{y}<extra></extra>",
         "legendgroup": "GO:0010181; F:FMN binding; IEA:InterPro.",
         "marker": {
          "color": "#FFA15A"
         },
         "name": "GO:0010181; F:FMN binding; IEA:InterPro.",
         "offsetgroup": "GO:0010181; F:FMN binding; IEA:InterPro.",
         "orientation": "v",
         "showlegend": true,
         "textposition": "auto",
         "type": "bar",
         "x": [
          "Sample 101"
         ],
         "xaxis": "x",
         "y": [
          11449.708333043802
         ],
         "yaxis": "y"
        },
        {
         "alignmentgroup": "True",
         "hovertemplate": "Function=GO:0019740; P:nitrogen utilization; IEA:UniProtKB-UniRule.<br>Sample=%{x}<br>Abundance RPKs=%{y}<extra></extra>",
         "legendgroup": "GO:0019740; P:nitrogen utilization; IEA:UniProtKB-UniRule.",
         "marker": {
          "color": "#19d3f3"
         },
         "name": "GO:0019740; P:nitrogen utilization; IEA:UniProtKB-UniRule.",
         "offsetgroup": "GO:0019740; P:nitrogen utilization; IEA:UniProtKB-UniRule.",
         "orientation": "v",
         "showlegend": true,
         "textposition": "auto",
         "type": "bar",
         "x": [
          "Sample 101"
         ],
         "xaxis": "x",
         "y": [
          10156.605097236801
         ],
         "yaxis": "y"
        },
        {
         "alignmentgroup": "True",
         "hovertemplate": "Function=GO:0006212; P:uracil catabolic process; IEA:UniProtKB-UniRule.<br>Sample=%{x}<br>Abundance RPKs=%{y}<extra></extra>",
         "legendgroup": "GO:0006212; P:uracil catabolic process; IEA:UniProtKB-UniRule.",
         "marker": {
          "color": "#FF6692"
         },
         "name": "GO:0006212; P:uracil catabolic process; IEA:UniProtKB-UniRule.",
         "offsetgroup": "GO:0006212; P:uracil catabolic process; IEA:UniProtKB-UniRule.",
         "orientation": "v",
         "showlegend": true,
         "textposition": "auto",
         "type": "bar",
         "x": [
          "Sample 101"
         ],
         "xaxis": "x",
         "y": [
          10156.605097236801
         ],
         "yaxis": "y"
        },
        {
         "alignmentgroup": "True",
         "hovertemplate": "Function=GO:0008033; P:tRNA processing; IEA:UniProtKB-KW.<br>Sample=%{x}<br>Abundance RPKs=%{y}<extra></extra>",
         "legendgroup": "GO:0008033; P:tRNA processing; IEA:UniProtKB-KW.",
         "marker": {
          "color": "#B6E880"
         },
         "name": "GO:0008033; P:tRNA processing; IEA:UniProtKB-KW.",
         "offsetgroup": "GO:0008033; P:tRNA processing; IEA:UniProtKB-KW.",
         "orientation": "v",
         "showlegend": true,
         "textposition": "auto",
         "type": "bar",
         "x": [
          "Sample 101"
         ],
         "xaxis": "x",
         "y": [
          12027.6415153354
         ],
         "yaxis": "y"
        },
        {
         "alignmentgroup": "True",
         "hovertemplate": "Function=GO:0071949; F:FAD binding; IEA:InterPro.<br>Sample=%{x}<br>Abundance RPKs=%{y}<extra></extra>",
         "legendgroup": "GO:0071949; F:FAD binding; IEA:InterPro.",
         "marker": {
          "color": "#FF97FF"
         },
         "name": "GO:0071949; F:FAD binding; IEA:InterPro.",
         "offsetgroup": "GO:0071949; F:FAD binding; IEA:InterPro.",
         "orientation": "v",
         "showlegend": true,
         "textposition": "auto",
         "type": "bar",
         "x": [
          "Sample 101"
         ],
         "xaxis": "x",
         "y": [
          11857.347252366799
         ],
         "yaxis": "y"
        },
        {
         "alignmentgroup": "True",
         "hovertemplate": "Function=GO:0008616; P:queuosine biosynthetic process; IEA:UniProtKB-UniRule.<br>Sample=%{x}<br>Abundance RPKs=%{y}<extra></extra>",
         "legendgroup": "GO:0008616; P:queuosine biosynthetic process; IEA:UniProtKB-UniRule.",
         "marker": {
          "color": "#FECB52"
         },
         "name": "GO:0008616; P:queuosine biosynthetic process; IEA:UniProtKB-UniRule.",
         "offsetgroup": "GO:0008616; P:queuosine biosynthetic process; IEA:UniProtKB-UniRule.",
         "orientation": "v",
         "showlegend": true,
         "textposition": "auto",
         "type": "bar",
         "x": [
          "Sample 101"
         ],
         "xaxis": "x",
         "y": [
          11194.5844387984
         ],
         "yaxis": "y"
        },
        {
         "alignmentgroup": "True",
         "hovertemplate": "Function=GO:0050662; F:coenzyme binding; IEA:InterPro.<br>Sample=%{x}<br>Abundance RPKs=%{y}<extra></extra>",
         "legendgroup": "GO:0050662; F:coenzyme binding; IEA:InterPro.",
         "marker": {
          "color": "#636efa"
         },
         "name": "GO:0050662; F:coenzyme binding; IEA:InterPro.",
         "offsetgroup": "GO:0050662; F:coenzyme binding; IEA:InterPro.",
         "orientation": "v",
         "showlegend": true,
         "textposition": "auto",
         "type": "bar",
         "x": [
          "Sample 101"
         ],
         "xaxis": "x",
         "y": [
          10166.780189802
         ],
         "yaxis": "y"
        },
        {
         "alignmentgroup": "True",
         "hovertemplate": "Function=GO:0006865; P:amino acid transport; IEA:UniProtKB-KW.<br>Sample=%{x}<br>Abundance RPKs=%{y}<extra></extra>",
         "legendgroup": "GO:0006865; P:amino acid transport; IEA:UniProtKB-KW.",
         "marker": {
          "color": "#EF553B"
         },
         "name": "GO:0006865; P:amino acid transport; IEA:UniProtKB-KW.",
         "offsetgroup": "GO:0006865; P:amino acid transport; IEA:UniProtKB-KW.",
         "orientation": "v",
         "showlegend": true,
         "textposition": "auto",
         "type": "bar",
         "x": [
          "Sample 101"
         ],
         "xaxis": "x",
         "y": [
          14692.770436316201
         ],
         "yaxis": "y"
        },
        {
         "alignmentgroup": "True",
         "hovertemplate": "Function=GO:0016301; F:kinase activity; IEA:UniProtKB-KW.<br>Sample=%{x}<br>Abundance RPKs=%{y}<extra></extra>",
         "legendgroup": "GO:0016301; F:kinase activity; IEA:UniProtKB-KW.",
         "marker": {
          "color": "#00cc96"
         },
         "name": "GO:0016301; F:kinase activity; IEA:UniProtKB-KW.",
         "offsetgroup": "GO:0016301; F:kinase activity; IEA:UniProtKB-KW.",
         "orientation": "v",
         "showlegend": true,
         "textposition": "auto",
         "type": "bar",
         "x": [
          "Sample 101"
         ],
         "xaxis": "x",
         "y": [
          16741.9117873213
         ],
         "yaxis": "y"
        },
        {
         "alignmentgroup": "True",
         "hovertemplate": "Function=GO:0030170; F:pyridoxal phosphate binding; IEA:UniProtKB-UniRule.<br>Sample=%{x}<br>Abundance RPKs=%{y}<extra></extra>",
         "legendgroup": "GO:0030170; F:pyridoxal phosphate binding; IEA:UniProtKB-UniRule.",
         "marker": {
          "color": "#ab63fa"
         },
         "name": "GO:0030170; F:pyridoxal phosphate binding; IEA:UniProtKB-UniRule.",
         "offsetgroup": "GO:0030170; F:pyridoxal phosphate binding; IEA:UniProtKB-UniRule.",
         "orientation": "v",
         "showlegend": true,
         "textposition": "auto",
         "type": "bar",
         "x": [
          "Sample 101"
         ],
         "xaxis": "x",
         "y": [
          15482.4872258719
         ],
         "yaxis": "y"
        },
        {
         "alignmentgroup": "True",
         "hovertemplate": "Function=GO:0005975; P:carbohydrate metabolic process; IEA:UniProtKB-KW.<br>Sample=%{x}<br>Abundance RPKs=%{y}<extra></extra>",
         "legendgroup": "GO:0005975; P:carbohydrate metabolic process; IEA:UniProtKB-KW.",
         "marker": {
          "color": "#FFA15A"
         },
         "name": "GO:0005975; P:carbohydrate metabolic process; IEA:UniProtKB-KW.",
         "offsetgroup": "GO:0005975; P:carbohydrate metabolic process; IEA:UniProtKB-KW.",
         "orientation": "v",
         "showlegend": true,
         "textposition": "auto",
         "type": "bar",
         "x": [
          "Sample 101"
         ],
         "xaxis": "x",
         "y": [
          14658.2175023928
         ],
         "yaxis": "y"
        },
        {
         "alignmentgroup": "True",
         "hovertemplate": "Function=GO:0051287; F:NAD binding; IEA:InterPro.<br>Sample=%{x}<br>Abundance RPKs=%{y}<extra></extra>",
         "legendgroup": "GO:0051287; F:NAD binding; IEA:InterPro.",
         "marker": {
          "color": "#19d3f3"
         },
         "name": "GO:0051287; F:NAD binding; IEA:InterPro.",
         "offsetgroup": "GO:0051287; F:NAD binding; IEA:InterPro.",
         "orientation": "v",
         "showlegend": true,
         "textposition": "auto",
         "type": "bar",
         "x": [
          "Sample 101",
          "Sample 13"
         ],
         "xaxis": "x",
         "y": [
          31648.196666341304,
          12703.866052869304
         ],
         "yaxis": "y"
        },
        {
         "alignmentgroup": "True",
         "hovertemplate": "Function=GO:0005975; P:carbohydrate metabolic process; IEA:UniProtKB-UniRule.<br>Sample=%{x}<br>Abundance RPKs=%{y}<extra></extra>",
         "legendgroup": "GO:0005975; P:carbohydrate metabolic process; IEA:UniProtKB-UniRule.",
         "marker": {
          "color": "#FF6692"
         },
         "name": "GO:0005975; P:carbohydrate metabolic process; IEA:UniProtKB-UniRule.",
         "offsetgroup": "GO:0005975; P:carbohydrate metabolic process; IEA:UniProtKB-UniRule.",
         "orientation": "v",
         "showlegend": true,
         "textposition": "auto",
         "type": "bar",
         "x": [
          "Sample 101"
         ],
         "xaxis": "x",
         "y": [
          14535.470870680296
         ],
         "yaxis": "y"
        },
        {
         "alignmentgroup": "True",
         "hovertemplate": "Function=GO:0019262; P:N-acetylneuraminate catabolic process; IEA:UniProtKB-UniPathway.<br>Sample=%{x}<br>Abundance RPKs=%{y}<extra></extra>",
         "legendgroup": "GO:0019262; P:N-acetylneuraminate catabolic process; IEA:UniProtKB-UniPathway.",
         "marker": {
          "color": "#B6E880"
         },
         "name": "GO:0019262; P:N-acetylneuraminate catabolic process; IEA:UniProtKB-UniPathway.",
         "offsetgroup": "GO:0019262; P:N-acetylneuraminate catabolic process; IEA:UniProtKB-UniPathway.",
         "orientation": "v",
         "showlegend": true,
         "textposition": "auto",
         "type": "bar",
         "x": [
          "Sample 101"
         ],
         "xaxis": "x",
         "y": [
          13197.7088827464
         ],
         "yaxis": "y"
        },
        {
         "alignmentgroup": "True",
         "hovertemplate": "Function=GO:0035999; P:tetrahydrofolate interconversion; IEA:UniProtKB-UniPathway.<br>Sample=%{x}<br>Abundance RPKs=%{y}<extra></extra>",
         "legendgroup": "GO:0035999; P:tetrahydrofolate interconversion; IEA:UniProtKB-UniPathway.",
         "marker": {
          "color": "#FF97FF"
         },
         "name": "GO:0035999; P:tetrahydrofolate interconversion; IEA:UniProtKB-UniPathway.",
         "offsetgroup": "GO:0035999; P:tetrahydrofolate interconversion; IEA:UniProtKB-UniPathway.",
         "orientation": "v",
         "showlegend": true,
         "textposition": "auto",
         "type": "bar",
         "x": [
          "Sample 101"
         ],
         "xaxis": "x",
         "y": [
          10896.660594245199
         ],
         "yaxis": "y"
        },
        {
         "alignmentgroup": "True",
         "hovertemplate": "Function=GO:0030145; F:manganese ion binding; IEA:UniProtKB-UniRule.<br>Sample=%{x}<br>Abundance RPKs=%{y}<extra></extra>",
         "legendgroup": "GO:0030145; F:manganese ion binding; IEA:UniProtKB-UniRule.",
         "marker": {
          "color": "#FECB52"
         },
         "name": "GO:0030145; F:manganese ion binding; IEA:UniProtKB-UniRule.",
         "offsetgroup": "GO:0030145; F:manganese ion binding; IEA:UniProtKB-UniRule.",
         "orientation": "v",
         "showlegend": true,
         "textposition": "auto",
         "type": "bar",
         "x": [
          "Sample 101",
          "Sample 4"
         ],
         "xaxis": "x",
         "y": [
          30300.890131453198,
          10138.702608921298
         ],
         "yaxis": "y"
        },
        {
         "alignmentgroup": "True",
         "hovertemplate": "Function=GO:0006541; P:glutamine metabolic process; IEA:UniProtKB-KW.<br>Sample=%{x}<br>Abundance RPKs=%{y}<extra></extra>",
         "legendgroup": "GO:0006541; P:glutamine metabolic process; IEA:UniProtKB-KW.",
         "marker": {
          "color": "#636efa"
         },
         "name": "GO:0006541; P:glutamine metabolic process; IEA:UniProtKB-KW.",
         "offsetgroup": "GO:0006541; P:glutamine metabolic process; IEA:UniProtKB-KW.",
         "orientation": "v",
         "showlegend": true,
         "textposition": "auto",
         "type": "bar",
         "x": [
          "Sample 101"
         ],
         "xaxis": "x",
         "y": [
          13565.170029627894
         ],
         "yaxis": "y"
        },
        {
         "alignmentgroup": "True",
         "hovertemplate": "Function=GO:0000103; P:sulfate assimilation; IEA:UniProtKB-UniRule.<br>Sample=%{x}<br>Abundance RPKs=%{y}<extra></extra>",
         "legendgroup": "GO:0000103; P:sulfate assimilation; IEA:UniProtKB-UniRule.",
         "marker": {
          "color": "#EF553B"
         },
         "name": "GO:0000103; P:sulfate assimilation; IEA:UniProtKB-UniRule.",
         "offsetgroup": "GO:0000103; P:sulfate assimilation; IEA:UniProtKB-UniRule.",
         "orientation": "v",
         "showlegend": true,
         "textposition": "auto",
         "type": "bar",
         "x": [
          "Sample 101"
         ],
         "xaxis": "x",
         "y": [
          11278.268040656998
         ],
         "yaxis": "y"
        },
        {
         "alignmentgroup": "True",
         "hovertemplate": "Function=GO:0009245; P:lipid A biosynthetic process; IEA:UniProtKB-UniRule.<br>Sample=%{x}<br>Abundance RPKs=%{y}<extra></extra>",
         "legendgroup": "GO:0009245; P:lipid A biosynthetic process; IEA:UniProtKB-UniRule.",
         "marker": {
          "color": "#00cc96"
         },
         "name": "GO:0009245; P:lipid A biosynthetic process; IEA:UniProtKB-UniRule.",
         "offsetgroup": "GO:0009245; P:lipid A biosynthetic process; IEA:UniProtKB-UniRule.",
         "orientation": "v",
         "showlegend": true,
         "textposition": "auto",
         "type": "bar",
         "x": [
          "Sample 101"
         ],
         "xaxis": "x",
         "y": [
          24838.634473012004
         ],
         "yaxis": "y"
        },
        {
         "alignmentgroup": "True",
         "hovertemplate": "Function=GO:0009117; P:nucleotide metabolic process; IEA:UniProtKB-KW.<br>Sample=%{x}<br>Abundance RPKs=%{y}<extra></extra>",
         "legendgroup": "GO:0009117; P:nucleotide metabolic process; IEA:UniProtKB-KW.",
         "marker": {
          "color": "#ab63fa"
         },
         "name": "GO:0009117; P:nucleotide metabolic process; IEA:UniProtKB-KW.",
         "offsetgroup": "GO:0009117; P:nucleotide metabolic process; IEA:UniProtKB-KW.",
         "orientation": "v",
         "showlegend": true,
         "textposition": "auto",
         "type": "bar",
         "x": [
          "Sample 101"
         ],
         "xaxis": "x",
         "y": [
          11379.198726387298
         ],
         "yaxis": "y"
        },
        {
         "alignmentgroup": "True",
         "hovertemplate": "Function=GO:0006813; P:potassium ion transport; IEA:InterPro.<br>Sample=%{x}<br>Abundance RPKs=%{y}<extra></extra>",
         "legendgroup": "GO:0006813; P:potassium ion transport; IEA:InterPro.",
         "marker": {
          "color": "#FFA15A"
         },
         "name": "GO:0006813; P:potassium ion transport; IEA:InterPro.",
         "offsetgroup": "GO:0006813; P:potassium ion transport; IEA:InterPro.",
         "orientation": "v",
         "showlegend": true,
         "textposition": "auto",
         "type": "bar",
         "x": [
          "Sample 101"
         ],
         "xaxis": "x",
         "y": [
          10126.2805517894
         ],
         "yaxis": "y"
        },
        {
         "alignmentgroup": "True",
         "hovertemplate": "Function=GO:0006281; P:DNA repair; IEA:UniProtKB-KW.<br>Sample=%{x}<br>Abundance RPKs=%{y}<extra></extra>",
         "legendgroup": "GO:0006281; P:DNA repair; IEA:UniProtKB-KW.",
         "marker": {
          "color": "#19d3f3"
         },
         "name": "GO:0006281; P:DNA repair; IEA:UniProtKB-KW.",
         "offsetgroup": "GO:0006281; P:DNA repair; IEA:UniProtKB-KW.",
         "orientation": "v",
         "showlegend": true,
         "textposition": "auto",
         "type": "bar",
         "x": [
          "Sample 101"
         ],
         "xaxis": "x",
         "y": [
          14507.130440841598
         ],
         "yaxis": "y"
        },
        {
         "alignmentgroup": "True",
         "hovertemplate": "Function=GO:0042597; C:periplasmic space; IEA:UniProtKB-SubCell.<br>Sample=%{x}<br>Abundance RPKs=%{y}<extra></extra>",
         "legendgroup": "GO:0042597; C:periplasmic space; IEA:UniProtKB-SubCell.",
         "marker": {
          "color": "#FF6692"
         },
         "name": "GO:0042597; C:periplasmic space; IEA:UniProtKB-SubCell.",
         "offsetgroup": "GO:0042597; C:periplasmic space; IEA:UniProtKB-SubCell.",
         "orientation": "v",
         "showlegend": true,
         "textposition": "auto",
         "type": "bar",
         "x": [
          "Sample 101"
         ],
         "xaxis": "x",
         "y": [
          34859.9539868415
         ],
         "yaxis": "y"
        },
        {
         "alignmentgroup": "True",
         "hovertemplate": "Function=GO:0006099; P:tricarboxylic acid cycle; IEA:UniProtKB-UniRule.<br>Sample=%{x}<br>Abundance RPKs=%{y}<extra></extra>",
         "legendgroup": "GO:0006099; P:tricarboxylic acid cycle; IEA:UniProtKB-UniRule.",
         "marker": {
          "color": "#B6E880"
         },
         "name": "GO:0006099; P:tricarboxylic acid cycle; IEA:UniProtKB-UniRule.",
         "offsetgroup": "GO:0006099; P:tricarboxylic acid cycle; IEA:UniProtKB-UniRule.",
         "orientation": "v",
         "showlegend": true,
         "textposition": "auto",
         "type": "bar",
         "x": [
          "Sample 101"
         ],
         "xaxis": "x",
         "y": [
          11680.9873846819
         ],
         "yaxis": "y"
        },
        {
         "alignmentgroup": "True",
         "hovertemplate": "Function=GO:0032259; P:methylation; IEA:UniProtKB-KW.<br>Sample=%{x}<br>Abundance RPKs=%{y}<extra></extra>",
         "legendgroup": "GO:0032259; P:methylation; IEA:UniProtKB-KW.",
         "marker": {
          "color": "#FF97FF"
         },
         "name": "GO:0032259; P:methylation; IEA:UniProtKB-KW.",
         "offsetgroup": "GO:0032259; P:methylation; IEA:UniProtKB-KW.",
         "orientation": "v",
         "showlegend": true,
         "textposition": "auto",
         "type": "bar",
         "x": [
          "Sample 101"
         ],
         "xaxis": "x",
         "y": [
          16108.297949422802
         ],
         "yaxis": "y"
        },
        {
         "alignmentgroup": "True",
         "hovertemplate": "Function=GO:0005737; C:cytoplasm; IEA:UniProtKB-UniRule.<br>Sample=%{x}<br>Abundance RPKs=%{y}<extra></extra>",
         "legendgroup": "GO:0005737; C:cytoplasm; IEA:UniProtKB-UniRule.",
         "marker": {
          "color": "#FECB52"
         },
         "name": "GO:0005737; C:cytoplasm; IEA:UniProtKB-UniRule.",
         "offsetgroup": "GO:0005737; C:cytoplasm; IEA:UniProtKB-UniRule.",
         "orientation": "v",
         "showlegend": true,
         "textposition": "auto",
         "type": "bar",
         "x": [
          "Sample 101"
         ],
         "xaxis": "x",
         "y": [
          13454.859794338301
         ],
         "yaxis": "y"
        },
        {
         "alignmentgroup": "True",
         "hovertemplate": "Function=GO:0008137; F:NADH dehydrogenase (ubiquinone) activity; IEA:InterPro.<br>Sample=%{x}<br>Abundance RPKs=%{y}<extra></extra>",
         "legendgroup": "GO:0008137; F:NADH dehydrogenase (ubiquinone) activity; IEA:InterPro.",
         "marker": {
          "color": "#636efa"
         },
         "name": "GO:0008137; F:NADH dehydrogenase (ubiquinone) activity; IEA:InterPro.",
         "offsetgroup": "GO:0008137; F:NADH dehydrogenase (ubiquinone) activity; IEA:InterPro.",
         "orientation": "v",
         "showlegend": true,
         "textposition": "auto",
         "type": "bar",
         "x": [
          "Sample 101"
         ],
         "xaxis": "x",
         "y": [
          12602.5058065726
         ],
         "yaxis": "y"
        },
        {
         "alignmentgroup": "True",
         "hovertemplate": "Function=GO:0048038; F:quinone binding; IEA:UniProtKB-KW.<br>Sample=%{x}<br>Abundance RPKs=%{y}<extra></extra>",
         "legendgroup": "GO:0048038; F:quinone binding; IEA:UniProtKB-KW.",
         "marker": {
          "color": "#EF553B"
         },
         "name": "GO:0048038; F:quinone binding; IEA:UniProtKB-KW.",
         "offsetgroup": "GO:0048038; F:quinone binding; IEA:UniProtKB-KW.",
         "orientation": "v",
         "showlegend": true,
         "textposition": "auto",
         "type": "bar",
         "x": [
          "Sample 101"
         ],
         "xaxis": "x",
         "y": [
          16809.228682186196
         ],
         "yaxis": "y"
        },
        {
         "alignmentgroup": "True",
         "hovertemplate": "Function=GO:0009279; C:cell outer membrane; IEA:UniProtKB-SubCell.<br>Sample=%{x}<br>Abundance RPKs=%{y}<extra></extra>",
         "legendgroup": "GO:0009279; C:cell outer membrane; IEA:UniProtKB-SubCell.",
         "marker": {
          "color": "#00cc96"
         },
         "name": "GO:0009279; C:cell outer membrane; IEA:UniProtKB-SubCell.",
         "offsetgroup": "GO:0009279; C:cell outer membrane; IEA:UniProtKB-SubCell.",
         "orientation": "v",
         "showlegend": true,
         "textposition": "auto",
         "type": "bar",
         "x": [
          "Sample 101"
         ],
         "xaxis": "x",
         "y": [
          23557.5440744103
         ],
         "yaxis": "y"
        },
        {
         "alignmentgroup": "True",
         "hovertemplate": "Function=GO:0003824; F:catalytic activity; IEA:InterPro.<br>Sample=%{x}<br>Abundance RPKs=%{y}<extra></extra>",
         "legendgroup": "GO:0003824; F:catalytic activity; IEA:InterPro.",
         "marker": {
          "color": "#ab63fa"
         },
         "name": "GO:0003824; F:catalytic activity; IEA:InterPro.",
         "offsetgroup": "GO:0003824; F:catalytic activity; IEA:InterPro.",
         "orientation": "v",
         "showlegend": true,
         "textposition": "auto",
         "type": "bar",
         "x": [
          "Sample 101"
         ],
         "xaxis": "x",
         "y": [
          13609.509207731498
         ],
         "yaxis": "y"
        },
        {
         "alignmentgroup": "True",
         "hovertemplate": "Function=GO:0015031; P:protein transport; IEA:UniProtKB-KW.<br>Sample=%{x}<br>Abundance RPKs=%{y}<extra></extra>",
         "legendgroup": "GO:0015031; P:protein transport; IEA:UniProtKB-KW.",
         "marker": {
          "color": "#FFA15A"
         },
         "name": "GO:0015031; P:protein transport; IEA:UniProtKB-KW.",
         "offsetgroup": "GO:0015031; P:protein transport; IEA:UniProtKB-KW.",
         "orientation": "v",
         "showlegend": true,
         "textposition": "auto",
         "type": "bar",
         "x": [
          "Sample 101"
         ],
         "xaxis": "x",
         "y": [
          10051.2296318359
         ],
         "yaxis": "y"
        },
        {
         "alignmentgroup": "True",
         "hovertemplate": "Function=GO:0005623; C:cell; IEA:GOC.<br>Sample=%{x}<br>Abundance RPKs=%{y}<extra></extra>",
         "legendgroup": "GO:0005623; C:cell; IEA:GOC.",
         "marker": {
          "color": "#19d3f3"
         },
         "name": "GO:0005623; C:cell; IEA:GOC.",
         "offsetgroup": "GO:0005623; C:cell; IEA:GOC.",
         "orientation": "v",
         "showlegend": true,
         "textposition": "auto",
         "type": "bar",
         "x": [
          "Sample 101"
         ],
         "xaxis": "x",
         "y": [
          13584.392115982799
         ],
         "yaxis": "y"
        },
        {
         "alignmentgroup": "True",
         "hovertemplate": "Function=GO:0019380; P:3-phenylpropionate catabolic process; IEA:UniProtKB-UniPathway.<br>Sample=%{x}<br>Abundance RPKs=%{y}<extra></extra>",
         "legendgroup": "GO:0019380; P:3-phenylpropionate catabolic process; IEA:UniProtKB-UniPathway.",
         "marker": {
          "color": "#FF6692"
         },
         "name": "GO:0019380; P:3-phenylpropionate catabolic process; IEA:UniProtKB-UniPathway.",
         "offsetgroup": "GO:0019380; P:3-phenylpropionate catabolic process; IEA:UniProtKB-UniPathway.",
         "orientation": "v",
         "showlegend": true,
         "textposition": "auto",
         "type": "bar",
         "x": [
          "Sample 101"
         ],
         "xaxis": "x",
         "y": [
          13615.256545745298
         ],
         "yaxis": "y"
        },
        {
         "alignmentgroup": "True",
         "hovertemplate": "Function=GO:0022857; F:transmembrane transporter activity; IEA:UniProtKB-UniRule.<br>Sample=%{x}<br>Abundance RPKs=%{y}<extra></extra>",
         "legendgroup": "GO:0022857; F:transmembrane transporter activity; IEA:UniProtKB-UniRule.",
         "marker": {
          "color": "#B6E880"
         },
         "name": "GO:0022857; F:transmembrane transporter activity; IEA:UniProtKB-UniRule.",
         "offsetgroup": "GO:0022857; F:transmembrane transporter activity; IEA:UniProtKB-UniRule.",
         "orientation": "v",
         "showlegend": true,
         "textposition": "auto",
         "type": "bar",
         "x": [
          "Sample 101"
         ],
         "xaxis": "x",
         "y": [
          17020.364948022703
         ],
         "yaxis": "y"
        },
        {
         "alignmentgroup": "True",
         "hovertemplate": "Function=GO:0050660; F:flavin adenine dinucleotide binding; IEA:InterPro.<br>Sample=%{x}<br>Abundance RPKs=%{y}<extra></extra>",
         "legendgroup": "GO:0050660; F:flavin adenine dinucleotide binding; IEA:InterPro.",
         "marker": {
          "color": "#FF97FF"
         },
         "name": "GO:0050660; F:flavin adenine dinucleotide binding; IEA:InterPro.",
         "offsetgroup": "GO:0050660; F:flavin adenine dinucleotide binding; IEA:InterPro.",
         "orientation": "v",
         "showlegend": true,
         "textposition": "auto",
         "type": "bar",
         "x": [
          "Sample 101"
         ],
         "xaxis": "x",
         "y": [
          13183.807884695998
         ],
         "yaxis": "y"
        },
        {
         "alignmentgroup": "True",
         "hovertemplate": "Function=GO:0009103; P:lipopolysaccharide biosynthetic process; IEA:UniProtKB-UniPathway.<br>Sample=%{x}<br>Abundance RPKs=%{y}<extra></extra>",
         "legendgroup": "GO:0009103; P:lipopolysaccharide biosynthetic process; IEA:UniProtKB-UniPathway.",
         "marker": {
          "color": "#FECB52"
         },
         "name": "GO:0009103; P:lipopolysaccharide biosynthetic process; IEA:UniProtKB-UniPathway.",
         "offsetgroup": "GO:0009103; P:lipopolysaccharide biosynthetic process; IEA:UniProtKB-UniPathway.",
         "orientation": "v",
         "showlegend": true,
         "textposition": "auto",
         "type": "bar",
         "x": [
          "Sample 101"
         ],
         "xaxis": "x",
         "y": [
          19604.3945646191
         ],
         "yaxis": "y"
        },
        {
         "alignmentgroup": "True",
         "hovertemplate": "Function=GO:0046677; P:response to antibiotic; IEA:UniProtKB-KW.<br>Sample=%{x}<br>Abundance RPKs=%{y}<extra></extra>",
         "legendgroup": "GO:0046677; P:response to antibiotic; IEA:UniProtKB-KW.",
         "marker": {
          "color": "#636efa"
         },
         "name": "GO:0046677; P:response to antibiotic; IEA:UniProtKB-KW.",
         "offsetgroup": "GO:0046677; P:response to antibiotic; IEA:UniProtKB-KW.",
         "orientation": "v",
         "showlegend": true,
         "textposition": "auto",
         "type": "bar",
         "x": [
          "Sample 101",
          "Sample 4",
          "Sample 99",
          "Sample 13"
         ],
         "xaxis": "x",
         "y": [
          19974.001117902404,
          12117.9351377103,
          12270.0978360899,
          12745.137032460001
         ],
         "yaxis": "y"
        },
        {
         "alignmentgroup": "True",
         "hovertemplate": "Function=GO:0009055; F:electron transfer activity; IEA:InterPro.<br>Sample=%{x}<br>Abundance RPKs=%{y}<extra></extra>",
         "legendgroup": "GO:0009055; F:electron transfer activity; IEA:InterPro.",
         "marker": {
          "color": "#EF553B"
         },
         "name": "GO:0009055; F:electron transfer activity; IEA:InterPro.",
         "offsetgroup": "GO:0009055; F:electron transfer activity; IEA:InterPro.",
         "orientation": "v",
         "showlegend": true,
         "textposition": "auto",
         "type": "bar",
         "x": [
          "Sample 101"
         ],
         "xaxis": "x",
         "y": [
          22890.823406162202
         ],
         "yaxis": "y"
        },
        {
         "alignmentgroup": "True",
         "hovertemplate": "Function=GO:0009246; P:enterobacterial common antigen biosynthetic process; IEA:UniProtKB-UniRule.<br>Sample=%{x}<br>Abundance RPKs=%{y}<extra></extra>",
         "legendgroup": "GO:0009246; P:enterobacterial common antigen biosynthetic process; IEA:UniProtKB-UniRule.",
         "marker": {
          "color": "#00cc96"
         },
         "name": "GO:0009246; P:enterobacterial common antigen biosynthetic process; IEA:UniProtKB-UniRule.",
         "offsetgroup": "GO:0009246; P:enterobacterial common antigen biosynthetic process; IEA:UniProtKB-UniRule.",
         "orientation": "v",
         "showlegend": true,
         "textposition": "auto",
         "type": "bar",
         "x": [
          "Sample 101"
         ],
         "xaxis": "x",
         "y": [
          13688.5802746406
         ],
         "yaxis": "y"
        },
        {
         "alignmentgroup": "True",
         "hovertemplate": "Function=GO:0006310; P:DNA recombination; IEA:UniProtKB-KW.<br>Sample=%{x}<br>Abundance RPKs=%{y}<extra></extra>",
         "legendgroup": "GO:0006310; P:DNA recombination; IEA:UniProtKB-KW.",
         "marker": {
          "color": "#ab63fa"
         },
         "name": "GO:0006310; P:DNA recombination; IEA:UniProtKB-KW.",
         "offsetgroup": "GO:0006310; P:DNA recombination; IEA:UniProtKB-KW.",
         "orientation": "v",
         "showlegend": true,
         "textposition": "auto",
         "type": "bar",
         "x": [
          "Sample 101"
         ],
         "xaxis": "x",
         "y": [
          12379.0846447586
         ],
         "yaxis": "y"
        },
        {
         "alignmentgroup": "True",
         "hovertemplate": "Function=GO:0055085; P:transmembrane transport; IEA:InterPro.<br>Sample=%{x}<br>Abundance RPKs=%{y}<extra></extra>",
         "legendgroup": "GO:0055085; P:transmembrane transport; IEA:InterPro.",
         "marker": {
          "color": "#FFA15A"
         },
         "name": "GO:0055085; P:transmembrane transport; IEA:InterPro.",
         "offsetgroup": "GO:0055085; P:transmembrane transport; IEA:InterPro.",
         "orientation": "v",
         "showlegend": true,
         "textposition": "auto",
         "type": "bar",
         "x": [
          "Sample 101"
         ],
         "xaxis": "x",
         "y": [
          22937.627933535
         ],
         "yaxis": "y"
        },
        {
         "alignmentgroup": "True",
         "hovertemplate": "Function=GO:0030288; C:outer membrane-bounded periplasmic space; IEA:InterPro.<br>Sample=%{x}<br>Abundance RPKs=%{y}<extra></extra>",
         "legendgroup": "GO:0030288; C:outer membrane-bounded periplasmic space; IEA:InterPro.",
         "marker": {
          "color": "#19d3f3"
         },
         "name": "GO:0030288; C:outer membrane-bounded periplasmic space; IEA:InterPro.",
         "offsetgroup": "GO:0030288; C:outer membrane-bounded periplasmic space; IEA:InterPro.",
         "orientation": "v",
         "showlegend": true,
         "textposition": "auto",
         "type": "bar",
         "x": [
          "Sample 101"
         ],
         "xaxis": "x",
         "y": [
          10538.4986267222
         ],
         "yaxis": "y"
        },
        {
         "alignmentgroup": "True",
         "hovertemplate": "Function=GO:0097367; F:carbohydrate derivative binding; IEA:InterPro.<br>Sample=%{x}<br>Abundance RPKs=%{y}<extra></extra>",
         "legendgroup": "GO:0097367; F:carbohydrate derivative binding; IEA:InterPro.",
         "marker": {
          "color": "#FF6692"
         },
         "name": "GO:0097367; F:carbohydrate derivative binding; IEA:InterPro.",
         "offsetgroup": "GO:0097367; F:carbohydrate derivative binding; IEA:InterPro.",
         "orientation": "v",
         "showlegend": true,
         "textposition": "auto",
         "type": "bar",
         "x": [
          "Sample 101"
         ],
         "xaxis": "x",
         "y": [
          11954.047318436002
         ],
         "yaxis": "y"
        },
        {
         "alignmentgroup": "True",
         "hovertemplate": "Function=GO:0016491; F:oxidoreductase activity; IEA:UniProtKB-KW.<br>Sample=%{x}<br>Abundance RPKs=%{y}<extra></extra>",
         "legendgroup": "GO:0016491; F:oxidoreductase activity; IEA:UniProtKB-KW.",
         "marker": {
          "color": "#B6E880"
         },
         "name": "GO:0016491; F:oxidoreductase activity; IEA:UniProtKB-KW.",
         "offsetgroup": "GO:0016491; F:oxidoreductase activity; IEA:UniProtKB-KW.",
         "orientation": "v",
         "showlegend": true,
         "textposition": "auto",
         "type": "bar",
         "x": [
          "Sample 101"
         ],
         "xaxis": "x",
         "y": [
          15984.177022010499
         ],
         "yaxis": "y"
        },
        {
         "alignmentgroup": "True",
         "hovertemplate": "Function=GO:0003700; F:DNA-binding transcription factor activity; IEA:InterPro.<br>Sample=%{x}<br>Abundance RPKs=%{y}<extra></extra>",
         "legendgroup": "GO:0003700; F:DNA-binding transcription factor activity; IEA:InterPro.",
         "marker": {
          "color": "#FF97FF"
         },
         "name": "GO:0003700; F:DNA-binding transcription factor activity; IEA:InterPro.",
         "offsetgroup": "GO:0003700; F:DNA-binding transcription factor activity; IEA:InterPro.",
         "orientation": "v",
         "showlegend": true,
         "textposition": "auto",
         "type": "bar",
         "x": [
          "Sample 101"
         ],
         "xaxis": "x",
         "y": [
          13703.7650453439
         ],
         "yaxis": "y"
        },
        {
         "alignmentgroup": "True",
         "hovertemplate": "Function=GO:0005886; C:plasma membrane; IDA:EcoCyc.<br>Sample=%{x}<br>Abundance RPKs=%{y}<extra></extra>",
         "legendgroup": "GO:0005886; C:plasma membrane; IDA:EcoCyc.",
         "marker": {
          "color": "#FECB52"
         },
         "name": "GO:0005886; C:plasma membrane; IDA:EcoCyc.",
         "offsetgroup": "GO:0005886; C:plasma membrane; IDA:EcoCyc.",
         "orientation": "v",
         "showlegend": true,
         "textposition": "auto",
         "type": "bar",
         "x": [
          "Sample 101",
          "Sample 13"
         ],
         "xaxis": "x",
         "y": [
          95671.14708177683,
          17348.181281170902
         ],
         "yaxis": "y"
        },
        {
         "alignmentgroup": "True",
         "hovertemplate": "Function=GO:0042802; F:identical protein binding; IPI:IntAct.<br>Sample=%{x}<br>Abundance RPKs=%{y}<extra></extra>",
         "legendgroup": "GO:0042802; F:identical protein binding; IPI:IntAct.",
         "marker": {
          "color": "#636efa"
         },
         "name": "GO:0042802; F:identical protein binding; IPI:IntAct.",
         "offsetgroup": "GO:0042802; F:identical protein binding; IPI:IntAct.",
         "orientation": "v",
         "showlegend": true,
         "textposition": "auto",
         "type": "bar",
         "x": [
          "Sample 101"
         ],
         "xaxis": "x",
         "y": [
          18573.4360795032
         ],
         "yaxis": "y"
        },
        {
         "alignmentgroup": "True",
         "hovertemplate": "Function=GO:0005829; C:cytosol; IDA:EcoCyc.<br>Sample=%{x}<br>Abundance RPKs=%{y}<extra></extra>",
         "legendgroup": "GO:0005829; C:cytosol; IDA:EcoCyc.",
         "marker": {
          "color": "#EF553B"
         },
         "name": "GO:0005829; C:cytosol; IDA:EcoCyc.",
         "offsetgroup": "GO:0005829; C:cytosol; IDA:EcoCyc.",
         "orientation": "v",
         "showlegend": true,
         "textposition": "auto",
         "type": "bar",
         "x": [
          "Sample 101",
          "Sample 13"
         ],
         "xaxis": "x",
         "y": [
          52552.8614377077,
          10060.1892735772
         ],
         "yaxis": "y"
        },
        {
         "alignmentgroup": "True",
         "hovertemplate": "Function=GO:0030288; C:outer membrane-bounded periplasmic space; IDA:EcoCyc.<br>Sample=%{x}<br>Abundance RPKs=%{y}<extra></extra>",
         "legendgroup": "GO:0030288; C:outer membrane-bounded periplasmic space; IDA:EcoCyc.",
         "marker": {
          "color": "#00cc96"
         },
         "name": "GO:0030288; C:outer membrane-bounded periplasmic space; IDA:EcoCyc.",
         "offsetgroup": "GO:0030288; C:outer membrane-bounded periplasmic space; IDA:EcoCyc.",
         "orientation": "v",
         "showlegend": true,
         "textposition": "auto",
         "type": "bar",
         "x": [
          "Sample 101"
         ],
         "xaxis": "x",
         "y": [
          11128.7168667989
         ],
         "yaxis": "y"
        },
        {
         "alignmentgroup": "True",
         "hovertemplate": "Function=GO:0009279; C:cell outer membrane; IDA:EcoCyc.<br>Sample=%{x}<br>Abundance RPKs=%{y}<extra></extra>",
         "legendgroup": "GO:0009279; C:cell outer membrane; IDA:EcoCyc.",
         "marker": {
          "color": "#ab63fa"
         },
         "name": "GO:0009279; C:cell outer membrane; IDA:EcoCyc.",
         "offsetgroup": "GO:0009279; C:cell outer membrane; IDA:EcoCyc.",
         "orientation": "v",
         "showlegend": true,
         "textposition": "auto",
         "type": "bar",
         "x": [
          "Sample 101"
         ],
         "xaxis": "x",
         "y": [
          12869.237636930202
         ],
         "yaxis": "y"
        },
        {
         "alignmentgroup": "True",
         "hovertemplate": "Function=GO:0006974; P:cellular response to DNA damage stimulus; IEP:EcoliWiki.<br>Sample=%{x}<br>Abundance RPKs=%{y}<extra></extra>",
         "legendgroup": "GO:0006974; P:cellular response to DNA damage stimulus; IEP:EcoliWiki.",
         "marker": {
          "color": "#FFA15A"
         },
         "name": "GO:0006974; P:cellular response to DNA damage stimulus; IEP:EcoliWiki.",
         "offsetgroup": "GO:0006974; P:cellular response to DNA damage stimulus; IEP:EcoliWiki.",
         "orientation": "v",
         "showlegend": true,
         "textposition": "auto",
         "type": "bar",
         "x": [
          "Sample 101"
         ],
         "xaxis": "x",
         "y": [
          19807.9718592474
         ],
         "yaxis": "y"
        },
        {
         "alignmentgroup": "True",
         "hovertemplate": "Function=GO:0005737; C:cytoplasm; IBA:GO_Central.<br>Sample=%{x}<br>Abundance RPKs=%{y}<extra></extra>",
         "legendgroup": "GO:0005737; C:cytoplasm; IBA:GO_Central.",
         "marker": {
          "color": "#19d3f3"
         },
         "name": "GO:0005737; C:cytoplasm; IBA:GO_Central.",
         "offsetgroup": "GO:0005737; C:cytoplasm; IBA:GO_Central.",
         "orientation": "v",
         "showlegend": true,
         "textposition": "auto",
         "type": "bar",
         "x": [
          "Sample 101"
         ],
         "xaxis": "x",
         "y": [
          19082.215222354702
         ],
         "yaxis": "y"
        },
        {
         "alignmentgroup": "True",
         "hovertemplate": "Function=GO:0005887; C:integral component of plasma membrane; IDA:EcoCyc.<br>Sample=%{x}<br>Abundance RPKs=%{y}<extra></extra>",
         "legendgroup": "GO:0005887; C:integral component of plasma membrane; IDA:EcoCyc.",
         "marker": {
          "color": "#FF6692"
         },
         "name": "GO:0005887; C:integral component of plasma membrane; IDA:EcoCyc.",
         "offsetgroup": "GO:0005887; C:integral component of plasma membrane; IDA:EcoCyc.",
         "orientation": "v",
         "showlegend": true,
         "textposition": "auto",
         "type": "bar",
         "x": [
          "Sample 101"
         ],
         "xaxis": "x",
         "y": [
          11577.6149102193
         ],
         "yaxis": "y"
        },
        {
         "alignmentgroup": "True",
         "hovertemplate": "Function=GO:0006979; P:response to oxidative stress; IMP:EcoCyc.<br>Sample=%{x}<br>Abundance RPKs=%{y}<extra></extra>",
         "legendgroup": "GO:0006979; P:response to oxidative stress; IMP:EcoCyc.",
         "marker": {
          "color": "#B6E880"
         },
         "name": "GO:0006979; P:response to oxidative stress; IMP:EcoCyc.",
         "offsetgroup": "GO:0006979; P:response to oxidative stress; IMP:EcoCyc.",
         "orientation": "v",
         "showlegend": true,
         "textposition": "auto",
         "type": "bar",
         "x": [
          "Sample 101"
         ],
         "xaxis": "x",
         "y": [
          14806.6779552349
         ],
         "yaxis": "y"
        },
        {
         "alignmentgroup": "True",
         "hovertemplate": "Function=GO:0005829; C:cytosol; IBA:GO_Central.<br>Sample=%{x}<br>Abundance RPKs=%{y}<extra></extra>",
         "legendgroup": "GO:0005829; C:cytosol; IBA:GO_Central.",
         "marker": {
          "color": "#FF97FF"
         },
         "name": "GO:0005829; C:cytosol; IBA:GO_Central.",
         "offsetgroup": "GO:0005829; C:cytosol; IBA:GO_Central.",
         "orientation": "v",
         "showlegend": true,
         "textposition": "auto",
         "type": "bar",
         "x": [
          "Sample 101",
          "Sample 16",
          "Sample 4"
         ],
         "xaxis": "x",
         "y": [
          22589.2685930436,
          15656.10838241,
          14702.899474971204
         ],
         "yaxis": "y"
        },
        {
         "alignmentgroup": "True",
         "hovertemplate": "Function=GO:0005887; C:integral component of plasma membrane; IBA:GO_Central.<br>Sample=%{x}<br>Abundance RPKs=%{y}<extra></extra>",
         "legendgroup": "GO:0005887; C:integral component of plasma membrane; IBA:GO_Central.",
         "marker": {
          "color": "#FECB52"
         },
         "name": "GO:0005887; C:integral component of plasma membrane; IBA:GO_Central.",
         "offsetgroup": "GO:0005887; C:integral component of plasma membrane; IBA:GO_Central.",
         "orientation": "v",
         "showlegend": true,
         "textposition": "auto",
         "type": "bar",
         "x": [
          "Sample 101"
         ],
         "xaxis": "x",
         "y": [
          10684.2031462634
         ],
         "yaxis": "y"
        },
        {
         "alignmentgroup": "True",
         "hovertemplate": "Function=GO:0005887; C:integral component of plasma membrane; ISM:EcoCyc.<br>Sample=%{x}<br>Abundance RPKs=%{y}<extra></extra>",
         "legendgroup": "GO:0005887; C:integral component of plasma membrane; ISM:EcoCyc.",
         "marker": {
          "color": "#636efa"
         },
         "name": "GO:0005887; C:integral component of plasma membrane; ISM:EcoCyc.",
         "offsetgroup": "GO:0005887; C:integral component of plasma membrane; ISM:EcoCyc.",
         "orientation": "v",
         "showlegend": true,
         "textposition": "auto",
         "type": "bar",
         "x": [
          "Sample 101"
         ],
         "xaxis": "x",
         "y": [
          13403.576232263598
         ],
         "yaxis": "y"
        },
        {
         "alignmentgroup": "True",
         "hovertemplate": "Function=GO:0043709; P:cell adhesion involved in single-species biofilm formation; IMP:EcoCyc.<br>Sample=%{x}<br>Abundance RPKs=%{y}<extra></extra>",
         "legendgroup": "GO:0043709; P:cell adhesion involved in single-species biofilm formation; IMP:EcoCyc.",
         "marker": {
          "color": "#EF553B"
         },
         "name": "GO:0043709; P:cell adhesion involved in single-species biofilm formation; IMP:EcoCyc.",
         "offsetgroup": "GO:0043709; P:cell adhesion involved in single-species biofilm formation; IMP:EcoCyc.",
         "orientation": "v",
         "showlegend": true,
         "textposition": "auto",
         "type": "bar",
         "x": [
          "Sample 101"
         ],
         "xaxis": "x",
         "y": [
          10512.8155909289
         ],
         "yaxis": "y"
        },
        {
         "alignmentgroup": "True",
         "hovertemplate": "Function=GO:0043711; P:pilus organization; IBA:GO_Central.<br>Sample=%{x}<br>Abundance RPKs=%{y}<extra></extra>",
         "legendgroup": "GO:0043711; P:pilus organization; IBA:GO_Central.",
         "marker": {
          "color": "#00cc96"
         },
         "name": "GO:0043711; P:pilus organization; IBA:GO_Central.",
         "offsetgroup": "GO:0043711; P:pilus organization; IBA:GO_Central.",
         "orientation": "v",
         "showlegend": true,
         "textposition": "auto",
         "type": "bar",
         "x": [
          "Sample 101"
         ],
         "xaxis": "x",
         "y": [
          12931.280586489098
         ],
         "yaxis": "y"
        },
        {
         "alignmentgroup": "True",
         "hovertemplate": "Function=GO:0006412; P:translation; IEA:UniProtKB-KW.<br>Sample=%{x}<br>Abundance RPKs=%{y}<extra></extra>",
         "legendgroup": "GO:0006412; P:translation; IEA:UniProtKB-KW.",
         "marker": {
          "color": "#ab63fa"
         },
         "name": "GO:0006412; P:translation; IEA:UniProtKB-KW.",
         "offsetgroup": "GO:0006412; P:translation; IEA:UniProtKB-KW.",
         "orientation": "v",
         "showlegend": true,
         "textposition": "auto",
         "type": "bar",
         "x": [
          "Sample 99"
         ],
         "xaxis": "x",
         "y": [
          10527.7994447454
         ],
         "yaxis": "y"
        }
       ],
       "layout": {
        "barmode": "relative",
        "legend": {
         "title": {
          "text": "Function"
         },
         "tracegroupgap": 0
        },
        "margin": {
         "t": 60
        },
        "showlegend": false,
        "template": {
         "data": {
          "bar": [
           {
            "error_x": {
             "color": "#2a3f5f"
            },
            "error_y": {
             "color": "#2a3f5f"
            },
            "marker": {
             "line": {
              "color": "#E5ECF6",
              "width": 0.5
             }
            },
            "type": "bar"
           }
          ],
          "barpolar": [
           {
            "marker": {
             "line": {
              "color": "#E5ECF6",
              "width": 0.5
             }
            },
            "type": "barpolar"
           }
          ],
          "carpet": [
           {
            "aaxis": {
             "endlinecolor": "#2a3f5f",
             "gridcolor": "white",
             "linecolor": "white",
             "minorgridcolor": "white",
             "startlinecolor": "#2a3f5f"
            },
            "baxis": {
             "endlinecolor": "#2a3f5f",
             "gridcolor": "white",
             "linecolor": "white",
             "minorgridcolor": "white",
             "startlinecolor": "#2a3f5f"
            },
            "type": "carpet"
           }
          ],
          "choropleth": [
           {
            "colorbar": {
             "outlinewidth": 0,
             "ticks": ""
            },
            "type": "choropleth"
           }
          ],
          "contour": [
           {
            "colorbar": {
             "outlinewidth": 0,
             "ticks": ""
            },
            "colorscale": [
             [
              0,
              "#0d0887"
             ],
             [
              0.1111111111111111,
              "#46039f"
             ],
             [
              0.2222222222222222,
              "#7201a8"
             ],
             [
              0.3333333333333333,
              "#9c179e"
             ],
             [
              0.4444444444444444,
              "#bd3786"
             ],
             [
              0.5555555555555556,
              "#d8576b"
             ],
             [
              0.6666666666666666,
              "#ed7953"
             ],
             [
              0.7777777777777778,
              "#fb9f3a"
             ],
             [
              0.8888888888888888,
              "#fdca26"
             ],
             [
              1,
              "#f0f921"
             ]
            ],
            "type": "contour"
           }
          ],
          "contourcarpet": [
           {
            "colorbar": {
             "outlinewidth": 0,
             "ticks": ""
            },
            "type": "contourcarpet"
           }
          ],
          "heatmap": [
           {
            "colorbar": {
             "outlinewidth": 0,
             "ticks": ""
            },
            "colorscale": [
             [
              0,
              "#0d0887"
             ],
             [
              0.1111111111111111,
              "#46039f"
             ],
             [
              0.2222222222222222,
              "#7201a8"
             ],
             [
              0.3333333333333333,
              "#9c179e"
             ],
             [
              0.4444444444444444,
              "#bd3786"
             ],
             [
              0.5555555555555556,
              "#d8576b"
             ],
             [
              0.6666666666666666,
              "#ed7953"
             ],
             [
              0.7777777777777778,
              "#fb9f3a"
             ],
             [
              0.8888888888888888,
              "#fdca26"
             ],
             [
              1,
              "#f0f921"
             ]
            ],
            "type": "heatmap"
           }
          ],
          "heatmapgl": [
           {
            "colorbar": {
             "outlinewidth": 0,
             "ticks": ""
            },
            "colorscale": [
             [
              0,
              "#0d0887"
             ],
             [
              0.1111111111111111,
              "#46039f"
             ],
             [
              0.2222222222222222,
              "#7201a8"
             ],
             [
              0.3333333333333333,
              "#9c179e"
             ],
             [
              0.4444444444444444,
              "#bd3786"
             ],
             [
              0.5555555555555556,
              "#d8576b"
             ],
             [
              0.6666666666666666,
              "#ed7953"
             ],
             [
              0.7777777777777778,
              "#fb9f3a"
             ],
             [
              0.8888888888888888,
              "#fdca26"
             ],
             [
              1,
              "#f0f921"
             ]
            ],
            "type": "heatmapgl"
           }
          ],
          "histogram": [
           {
            "marker": {
             "colorbar": {
              "outlinewidth": 0,
              "ticks": ""
             }
            },
            "type": "histogram"
           }
          ],
          "histogram2d": [
           {
            "colorbar": {
             "outlinewidth": 0,
             "ticks": ""
            },
            "colorscale": [
             [
              0,
              "#0d0887"
             ],
             [
              0.1111111111111111,
              "#46039f"
             ],
             [
              0.2222222222222222,
              "#7201a8"
             ],
             [
              0.3333333333333333,
              "#9c179e"
             ],
             [
              0.4444444444444444,
              "#bd3786"
             ],
             [
              0.5555555555555556,
              "#d8576b"
             ],
             [
              0.6666666666666666,
              "#ed7953"
             ],
             [
              0.7777777777777778,
              "#fb9f3a"
             ],
             [
              0.8888888888888888,
              "#fdca26"
             ],
             [
              1,
              "#f0f921"
             ]
            ],
            "type": "histogram2d"
           }
          ],
          "histogram2dcontour": [
           {
            "colorbar": {
             "outlinewidth": 0,
             "ticks": ""
            },
            "colorscale": [
             [
              0,
              "#0d0887"
             ],
             [
              0.1111111111111111,
              "#46039f"
             ],
             [
              0.2222222222222222,
              "#7201a8"
             ],
             [
              0.3333333333333333,
              "#9c179e"
             ],
             [
              0.4444444444444444,
              "#bd3786"
             ],
             [
              0.5555555555555556,
              "#d8576b"
             ],
             [
              0.6666666666666666,
              "#ed7953"
             ],
             [
              0.7777777777777778,
              "#fb9f3a"
             ],
             [
              0.8888888888888888,
              "#fdca26"
             ],
             [
              1,
              "#f0f921"
             ]
            ],
            "type": "histogram2dcontour"
           }
          ],
          "mesh3d": [
           {
            "colorbar": {
             "outlinewidth": 0,
             "ticks": ""
            },
            "type": "mesh3d"
           }
          ],
          "parcoords": [
           {
            "line": {
             "colorbar": {
              "outlinewidth": 0,
              "ticks": ""
             }
            },
            "type": "parcoords"
           }
          ],
          "pie": [
           {
            "automargin": true,
            "type": "pie"
           }
          ],
          "scatter": [
           {
            "marker": {
             "colorbar": {
              "outlinewidth": 0,
              "ticks": ""
             }
            },
            "type": "scatter"
           }
          ],
          "scatter3d": [
           {
            "line": {
             "colorbar": {
              "outlinewidth": 0,
              "ticks": ""
             }
            },
            "marker": {
             "colorbar": {
              "outlinewidth": 0,
              "ticks": ""
             }
            },
            "type": "scatter3d"
           }
          ],
          "scattercarpet": [
           {
            "marker": {
             "colorbar": {
              "outlinewidth": 0,
              "ticks": ""
             }
            },
            "type": "scattercarpet"
           }
          ],
          "scattergeo": [
           {
            "marker": {
             "colorbar": {
              "outlinewidth": 0,
              "ticks": ""
             }
            },
            "type": "scattergeo"
           }
          ],
          "scattergl": [
           {
            "marker": {
             "colorbar": {
              "outlinewidth": 0,
              "ticks": ""
             }
            },
            "type": "scattergl"
           }
          ],
          "scattermapbox": [
           {
            "marker": {
             "colorbar": {
              "outlinewidth": 0,
              "ticks": ""
             }
            },
            "type": "scattermapbox"
           }
          ],
          "scatterpolar": [
           {
            "marker": {
             "colorbar": {
              "outlinewidth": 0,
              "ticks": ""
             }
            },
            "type": "scatterpolar"
           }
          ],
          "scatterpolargl": [
           {
            "marker": {
             "colorbar": {
              "outlinewidth": 0,
              "ticks": ""
             }
            },
            "type": "scatterpolargl"
           }
          ],
          "scatterternary": [
           {
            "marker": {
             "colorbar": {
              "outlinewidth": 0,
              "ticks": ""
             }
            },
            "type": "scatterternary"
           }
          ],
          "surface": [
           {
            "colorbar": {
             "outlinewidth": 0,
             "ticks": ""
            },
            "colorscale": [
             [
              0,
              "#0d0887"
             ],
             [
              0.1111111111111111,
              "#46039f"
             ],
             [
              0.2222222222222222,
              "#7201a8"
             ],
             [
              0.3333333333333333,
              "#9c179e"
             ],
             [
              0.4444444444444444,
              "#bd3786"
             ],
             [
              0.5555555555555556,
              "#d8576b"
             ],
             [
              0.6666666666666666,
              "#ed7953"
             ],
             [
              0.7777777777777778,
              "#fb9f3a"
             ],
             [
              0.8888888888888888,
              "#fdca26"
             ],
             [
              1,
              "#f0f921"
             ]
            ],
            "type": "surface"
           }
          ],
          "table": [
           {
            "cells": {
             "fill": {
              "color": "#EBF0F8"
             },
             "line": {
              "color": "white"
             }
            },
            "header": {
             "fill": {
              "color": "#C8D4E3"
             },
             "line": {
              "color": "white"
             }
            },
            "type": "table"
           }
          ]
         },
         "layout": {
          "annotationdefaults": {
           "arrowcolor": "#2a3f5f",
           "arrowhead": 0,
           "arrowwidth": 1
          },
          "coloraxis": {
           "colorbar": {
            "outlinewidth": 0,
            "ticks": ""
           }
          },
          "colorscale": {
           "diverging": [
            [
             0,
             "#8e0152"
            ],
            [
             0.1,
             "#c51b7d"
            ],
            [
             0.2,
             "#de77ae"
            ],
            [
             0.3,
             "#f1b6da"
            ],
            [
             0.4,
             "#fde0ef"
            ],
            [
             0.5,
             "#f7f7f7"
            ],
            [
             0.6,
             "#e6f5d0"
            ],
            [
             0.7,
             "#b8e186"
            ],
            [
             0.8,
             "#7fbc41"
            ],
            [
             0.9,
             "#4d9221"
            ],
            [
             1,
             "#276419"
            ]
           ],
           "sequential": [
            [
             0,
             "#0d0887"
            ],
            [
             0.1111111111111111,
             "#46039f"
            ],
            [
             0.2222222222222222,
             "#7201a8"
            ],
            [
             0.3333333333333333,
             "#9c179e"
            ],
            [
             0.4444444444444444,
             "#bd3786"
            ],
            [
             0.5555555555555556,
             "#d8576b"
            ],
            [
             0.6666666666666666,
             "#ed7953"
            ],
            [
             0.7777777777777778,
             "#fb9f3a"
            ],
            [
             0.8888888888888888,
             "#fdca26"
            ],
            [
             1,
             "#f0f921"
            ]
           ],
           "sequentialminus": [
            [
             0,
             "#0d0887"
            ],
            [
             0.1111111111111111,
             "#46039f"
            ],
            [
             0.2222222222222222,
             "#7201a8"
            ],
            [
             0.3333333333333333,
             "#9c179e"
            ],
            [
             0.4444444444444444,
             "#bd3786"
            ],
            [
             0.5555555555555556,
             "#d8576b"
            ],
            [
             0.6666666666666666,
             "#ed7953"
            ],
            [
             0.7777777777777778,
             "#fb9f3a"
            ],
            [
             0.8888888888888888,
             "#fdca26"
            ],
            [
             1,
             "#f0f921"
            ]
           ]
          },
          "colorway": [
           "#636efa",
           "#EF553B",
           "#00cc96",
           "#ab63fa",
           "#FFA15A",
           "#19d3f3",
           "#FF6692",
           "#B6E880",
           "#FF97FF",
           "#FECB52"
          ],
          "font": {
           "color": "#2a3f5f"
          },
          "geo": {
           "bgcolor": "white",
           "lakecolor": "white",
           "landcolor": "#E5ECF6",
           "showlakes": true,
           "showland": true,
           "subunitcolor": "white"
          },
          "hoverlabel": {
           "align": "left"
          },
          "hovermode": "closest",
          "mapbox": {
           "style": "light"
          },
          "paper_bgcolor": "white",
          "plot_bgcolor": "#E5ECF6",
          "polar": {
           "angularaxis": {
            "gridcolor": "white",
            "linecolor": "white",
            "ticks": ""
           },
           "bgcolor": "#E5ECF6",
           "radialaxis": {
            "gridcolor": "white",
            "linecolor": "white",
            "ticks": ""
           }
          },
          "scene": {
           "xaxis": {
            "backgroundcolor": "#E5ECF6",
            "gridcolor": "white",
            "gridwidth": 2,
            "linecolor": "white",
            "showbackground": true,
            "ticks": "",
            "zerolinecolor": "white"
           },
           "yaxis": {
            "backgroundcolor": "#E5ECF6",
            "gridcolor": "white",
            "gridwidth": 2,
            "linecolor": "white",
            "showbackground": true,
            "ticks": "",
            "zerolinecolor": "white"
           },
           "zaxis": {
            "backgroundcolor": "#E5ECF6",
            "gridcolor": "white",
            "gridwidth": 2,
            "linecolor": "white",
            "showbackground": true,
            "ticks": "",
            "zerolinecolor": "white"
           }
          },
          "shapedefaults": {
           "line": {
            "color": "#2a3f5f"
           }
          },
          "ternary": {
           "aaxis": {
            "gridcolor": "white",
            "linecolor": "white",
            "ticks": ""
           },
           "baxis": {
            "gridcolor": "white",
            "linecolor": "white",
            "ticks": ""
           },
           "bgcolor": "#E5ECF6",
           "caxis": {
            "gridcolor": "white",
            "linecolor": "white",
            "ticks": ""
           }
          },
          "title": {
           "x": 0.05
          },
          "xaxis": {
           "automargin": true,
           "gridcolor": "white",
           "linecolor": "white",
           "ticks": "",
           "title": {
            "standoff": 15
           },
           "zerolinecolor": "white",
           "zerolinewidth": 2
          },
          "yaxis": {
           "automargin": true,
           "gridcolor": "white",
           "linecolor": "white",
           "ticks": "",
           "title": {
            "standoff": 15
           },
           "zerolinecolor": "white",
           "zerolinewidth": 2
          }
         }
        },
        "xaxis": {
         "anchor": "y",
         "domain": [
          0,
          1
         ],
         "title": {
          "text": "Sample"
         }
        },
        "yaxis": {
         "anchor": "x",
         "domain": [
          0,
          1
         ],
         "title": {
          "text": "Abundance RPKs"
         }
        }
       }
      },
      "text/html": [
       "<div>\n",
       "        \n",
       "        \n",
       "            <div id=\"b99393f9-27a5-4322-9485-ef9117219f33\" class=\"plotly-graph-div\" style=\"height:525px; width:100%;\"></div>\n",
       "            <script type=\"text/javascript\">\n",
       "                require([\"plotly\"], function(Plotly) {\n",
       "                    window.PLOTLYENV=window.PLOTLYENV || {};\n",
       "                    \n",
       "                if (document.getElementById(\"b99393f9-27a5-4322-9485-ef9117219f33\")) {\n",
       "                    Plotly.newPlot(\n",
       "                        'b99393f9-27a5-4322-9485-ef9117219f33',\n",
       "                        [{\"alignmentgroup\": \"True\", \"hovertemplate\": \"Function=GO:0005840; C:ribosome; IEA:UniProtKB-KW.<br>Sample=%{x}<br>Abundance RPKs=%{y}<extra></extra>\", \"legendgroup\": \"GO:0005840; C:ribosome; IEA:UniProtKB-KW.\", \"marker\": {\"color\": \"#636efa\"}, \"name\": \"GO:0005840; C:ribosome; IEA:UniProtKB-KW.\", \"offsetgroup\": \"GO:0005840; C:ribosome; IEA:UniProtKB-KW.\", \"orientation\": \"v\", \"showlegend\": true, \"textposition\": \"auto\", \"type\": \"bar\", \"x\": [\"Sample 101\", \"Sample 14\", \"Sample 2\", \"Sample 16\", \"Sample 4\", \"Sample 1\", \"Sample 99\", \"Sample 13\"], \"xaxis\": \"x\", \"y\": [193932.13326854643, 92338.27422352582, 102172.25574784346, 67090.3362529997, 129475.55271419618, 91459.72523334088, 55816.223289794485, 83492.73282974292], \"yaxis\": \"y\"}, {\"alignmentgroup\": \"True\", \"hovertemplate\": \"Function=GO:0003735; F:structural constituent of ribosome; IEA:InterPro.<br>Sample=%{x}<br>Abundance RPKs=%{y}<extra></extra>\", \"legendgroup\": \"GO:0003735; F:structural constituent of ribosome; IEA:InterPro.\", \"marker\": {\"color\": \"#EF553B\"}, \"name\": \"GO:0003735; F:structural constituent of ribosome; IEA:InterPro.\", \"offsetgroup\": \"GO:0003735; F:structural constituent of ribosome; IEA:InterPro.\", \"orientation\": \"v\", \"showlegend\": true, \"textposition\": \"auto\", \"type\": \"bar\", \"x\": [\"Sample 101\", \"Sample 14\", \"Sample 2\", \"Sample 16\", \"Sample 4\", \"Sample 1\", \"Sample 99\", \"Sample 13\"], \"xaxis\": \"x\", \"y\": [264241.991791957, 133241.276388694, 147210.82001054892, 95653.26808526758, 184695.62041319656, 129979.3552015445, 80555.63101462393, 120006.08901786846], \"yaxis\": \"y\"}, {\"alignmentgroup\": \"True\", \"hovertemplate\": \"Function=GO:0006412; P:translation; IEA:UniProtKB-UniRule.<br>Sample=%{x}<br>Abundance RPKs=%{y}<extra></extra>\", \"legendgroup\": \"GO:0006412; P:translation; IEA:UniProtKB-UniRule.\", \"marker\": {\"color\": \"#00cc96\"}, \"name\": \"GO:0006412; P:translation; IEA:UniProtKB-UniRule.\", \"offsetgroup\": \"GO:0006412; P:translation; IEA:UniProtKB-UniRule.\", \"orientation\": \"v\", \"showlegend\": true, \"textposition\": \"auto\", \"type\": \"bar\", \"x\": [\"Sample 101\", \"Sample 14\", \"Sample 2\", \"Sample 16\", \"Sample 4\", \"Sample 1\", \"Sample 99\", \"Sample 13\"], \"xaxis\": \"x\", \"y\": [279579.71987851855, 138830.51459663906, 156485.72168252795, 102151.7682099518, 197138.0693874512, 139189.24013106985, 84607.97393811925, 127545.23864444745], \"yaxis\": \"y\"}, {\"alignmentgroup\": \"True\", \"hovertemplate\": \"Function=GO:0015935; C:small ribosomal subunit; IEA:InterPro.<br>Sample=%{x}<br>Abundance RPKs=%{y}<extra></extra>\", \"legendgroup\": \"GO:0015935; C:small ribosomal subunit; IEA:InterPro.\", \"marker\": {\"color\": \"#ab63fa\"}, \"name\": \"GO:0015935; C:small ribosomal subunit; IEA:InterPro.\", \"offsetgroup\": \"GO:0015935; C:small ribosomal subunit; IEA:InterPro.\", \"orientation\": \"v\", \"showlegend\": true, \"textposition\": \"auto\", \"type\": \"bar\", \"x\": [\"Sample 101\", \"Sample 14\", \"Sample 2\", \"Sample 16\", \"Sample 4\", \"Sample 1\", \"Sample 99\", \"Sample 13\"], \"xaxis\": \"x\", \"y\": [31064.474780067605, 14886.007389333108, 18697.347344836093, 12361.827184308302, 22786.28261698931, 16468.6436599943, 11520.972442708204, 17982.267710254386], \"yaxis\": \"y\"}, {\"alignmentgroup\": \"True\", \"hovertemplate\": \"Function=GO:0019843; F:rRNA binding; IEA:UniProtKB-UniRule.<br>Sample=%{x}<br>Abundance RPKs=%{y}<extra></extra>\", \"legendgroup\": \"GO:0019843; F:rRNA binding; IEA:UniProtKB-UniRule.\", \"marker\": {\"color\": \"#FFA15A\"}, \"name\": \"GO:0019843; F:rRNA binding; IEA:UniProtKB-UniRule.\", \"offsetgroup\": \"GO:0019843; F:rRNA binding; IEA:UniProtKB-UniRule.\", \"orientation\": \"v\", \"showlegend\": true, \"textposition\": \"auto\", \"type\": \"bar\", \"x\": [\"Sample 101\", \"Sample 14\", \"Sample 2\", \"Sample 16\", \"Sample 4\", \"Sample 1\", \"Sample 99\", \"Sample 13\"], \"xaxis\": \"x\", \"y\": [162674.24865796394, 89599.2205877212, 104314.25206444741, 71597.8906569351, 120990.88214502578, 89151.93100489175, 55304.4667423551, 81465.5502133795], \"yaxis\": \"y\"}, {\"alignmentgroup\": \"True\", \"hovertemplate\": \"Function=GO:0000049; F:tRNA binding; IEA:UniProtKB-UniRule.<br>Sample=%{x}<br>Abundance RPKs=%{y}<extra></extra>\", \"legendgroup\": \"GO:0000049; F:tRNA binding; IEA:UniProtKB-UniRule.\", \"marker\": {\"color\": \"#19d3f3\"}, \"name\": \"GO:0000049; F:tRNA binding; IEA:UniProtKB-UniRule.\", \"offsetgroup\": \"GO:0000049; F:tRNA binding; IEA:UniProtKB-UniRule.\", \"orientation\": \"v\", \"showlegend\": true, \"textposition\": \"auto\", \"type\": \"bar\", \"x\": [\"Sample 101\", \"Sample 14\", \"Sample 2\", \"Sample 16\", \"Sample 4\", \"Sample 1\", \"Sample 99\", \"Sample 13\"], \"xaxis\": \"x\", \"y\": [44987.2010690873, 18534.252294433998, 22411.9890893769, 17497.7222501684, 24443.399073755903, 22101.983840197903, 12609.886448060497, 18803.40612447829], \"yaxis\": \"y\"}, {\"alignmentgroup\": \"True\", \"hovertemplate\": \"Function=GO:0005737; C:cytoplasm; IEA:UniProtKB-SubCell.<br>Sample=%{x}<br>Abundance RPKs=%{y}<extra></extra>\", \"legendgroup\": \"GO:0005737; C:cytoplasm; IEA:UniProtKB-SubCell.\", \"marker\": {\"color\": \"#FF6692\"}, \"name\": \"GO:0005737; C:cytoplasm; IEA:UniProtKB-SubCell.\", \"offsetgroup\": \"GO:0005737; C:cytoplasm; IEA:UniProtKB-SubCell.\", \"orientation\": \"v\", \"showlegend\": true, \"textposition\": \"auto\", \"type\": \"bar\", \"x\": [\"Sample 101\", \"Sample 14\", \"Sample 2\", \"Sample 16\", \"Sample 4\", \"Sample 1\", \"Sample 99\", \"Sample 13\"], \"xaxis\": \"x\", \"y\": [709177.4943372556, 140496.32346482284, 176477.53664463965, 122729.99905200463, 223954.0915720708, 212141.04976035215, 85527.68812725334, 264718.63258881704], \"yaxis\": \"y\"}, {\"alignmentgroup\": \"True\", \"hovertemplate\": \"Function=GO:0015986; P:ATP synthesis coupled proton transport; IEA:UniProtKB-UniRule.<br>Sample=%{x}<br>Abundance RPKs=%{y}<extra></extra>\", \"legendgroup\": \"GO:0015986; P:ATP synthesis coupled proton transport; IEA:UniProtKB-UniRule.\", \"marker\": {\"color\": \"#B6E880\"}, \"name\": \"GO:0015986; P:ATP synthesis coupled proton transport; IEA:UniProtKB-UniRule.\", \"offsetgroup\": \"GO:0015986; P:ATP synthesis coupled proton transport; IEA:UniProtKB-UniRule.\", \"orientation\": \"v\", \"showlegend\": true, \"textposition\": \"auto\", \"type\": \"bar\", \"x\": [\"Sample 101\", \"Sample 14\", \"Sample 4\"], \"xaxis\": \"x\", \"y\": [19272.445527837514, 10259.9825925806, 10718.27996881], \"yaxis\": \"y\"}, {\"alignmentgroup\": \"True\", \"hovertemplate\": \"Function=GO:0000917; P:division septum assembly; IEA:UniProtKB-KW.<br>Sample=%{x}<br>Abundance RPKs=%{y}<extra></extra>\", \"legendgroup\": \"GO:0000917; P:division septum assembly; IEA:UniProtKB-KW.\", \"marker\": {\"color\": \"#FF97FF\"}, \"name\": \"GO:0000917; P:division septum assembly; IEA:UniProtKB-KW.\", \"offsetgroup\": \"GO:0000917; P:division septum assembly; IEA:UniProtKB-KW.\", \"orientation\": \"v\", \"showlegend\": true, \"textposition\": \"auto\", \"type\": \"bar\", \"x\": [\"Sample 101\"], \"xaxis\": \"x\", \"y\": [21873.422460844507], \"yaxis\": \"y\"}, {\"alignmentgroup\": \"True\", \"hovertemplate\": \"Function=GO:0005525; F:GTP binding; IEA:UniProtKB-UniRule.<br>Sample=%{x}<br>Abundance RPKs=%{y}<extra></extra>\", \"legendgroup\": \"GO:0005525; F:GTP binding; IEA:UniProtKB-UniRule.\", \"marker\": {\"color\": \"#FECB52\"}, \"name\": \"GO:0005525; F:GTP binding; IEA:UniProtKB-UniRule.\", \"offsetgroup\": \"GO:0005525; F:GTP binding; IEA:UniProtKB-UniRule.\", \"orientation\": \"v\", \"showlegend\": true, \"textposition\": \"auto\", \"type\": \"bar\", \"x\": [\"Sample 101\", \"Sample 14\", \"Sample 2\", \"Sample 16\", \"Sample 4\", \"Sample 1\", \"Sample 99\", \"Sample 13\"], \"xaxis\": \"x\", \"y\": [47608.37633272686, 15582.818683321799, 17348.6373073967, 12494.767484025697, 22592.243245375306, 20437.2912631741, 10278.159965559698, 21721.681436862902], \"yaxis\": \"y\"}, {\"alignmentgroup\": \"True\", \"hovertemplate\": \"Function=GO:0003924; F:GTPase activity; IEA:InterPro.<br>Sample=%{x}<br>Abundance RPKs=%{y}<extra></extra>\", \"legendgroup\": \"GO:0003924; F:GTPase activity; IEA:InterPro.\", \"marker\": {\"color\": \"#636efa\"}, \"name\": \"GO:0003924; F:GTPase activity; IEA:InterPro.\", \"offsetgroup\": \"GO:0003924; F:GTPase activity; IEA:InterPro.\", \"orientation\": \"v\", \"showlegend\": true, \"textposition\": \"auto\", \"type\": \"bar\", \"x\": [\"Sample 101\", \"Sample 14\", \"Sample 4\", \"Sample 99\", \"Sample 13\"], \"xaxis\": \"x\", \"y\": [12659.569471711799, 11126.187208655601, 15692.6370622306, 13795.141082632897, 12022.4921979292], \"yaxis\": \"y\"}, {\"alignmentgroup\": \"True\", \"hovertemplate\": \"Function=GO:0003746; F:translation elongation factor activity; IEA:UniProtKB-UniRule.<br>Sample=%{x}<br>Abundance RPKs=%{y}<extra></extra>\", \"legendgroup\": \"GO:0003746; F:translation elongation factor activity; IEA:UniProtKB-UniRule.\", \"marker\": {\"color\": \"#EF553B\"}, \"name\": \"GO:0003746; F:translation elongation factor activity; IEA:UniProtKB-UniRule.\", \"offsetgroup\": \"GO:0003746; F:translation elongation factor activity; IEA:UniProtKB-UniRule.\", \"orientation\": \"v\", \"showlegend\": true, \"textposition\": \"auto\", \"type\": \"bar\", \"x\": [\"Sample 101\", \"Sample 2\", \"Sample 4\", \"Sample 1\", \"Sample 13\"], \"xaxis\": \"x\", \"y\": [19522.8282463032, 10415.095800166897, 11842.121545349399, 10867.232219543703, 10116.484966912301], \"yaxis\": \"y\"}, {\"alignmentgroup\": \"True\", \"hovertemplate\": \"Function=GO:0015934; C:large ribosomal subunit; IEA:InterPro.<br>Sample=%{x}<br>Abundance RPKs=%{y}<extra></extra>\", \"legendgroup\": \"GO:0015934; C:large ribosomal subunit; IEA:InterPro.\", \"marker\": {\"color\": \"#00cc96\"}, \"name\": \"GO:0015934; C:large ribosomal subunit; IEA:InterPro.\", \"offsetgroup\": \"GO:0015934; C:large ribosomal subunit; IEA:InterPro.\", \"orientation\": \"v\", \"showlegend\": true, \"textposition\": \"auto\", \"type\": \"bar\", \"x\": [\"Sample 101\", \"Sample 14\", \"Sample 2\", \"Sample 16\", \"Sample 4\", \"Sample 1\", \"Sample 99\", \"Sample 13\"], \"xaxis\": \"x\", \"y\": [38088.3384908, 25176.793620593096, 25470.784563533096, 14317.286373527897, 30118.441757073608, 21069.0672577846, 12161.2963910544, 18117.485864546503], \"yaxis\": \"y\"}, {\"alignmentgroup\": \"True\", \"hovertemplate\": \"Function=GO:0000049; F:tRNA binding; IEA:UniProtKB-KW.<br>Sample=%{x}<br>Abundance RPKs=%{y}<extra></extra>\", \"legendgroup\": \"GO:0000049; F:tRNA binding; IEA:UniProtKB-KW.\", \"marker\": {\"color\": \"#ab63fa\"}, \"name\": \"GO:0000049; F:tRNA binding; IEA:UniProtKB-KW.\", \"offsetgroup\": \"GO:0000049; F:tRNA binding; IEA:UniProtKB-KW.\", \"orientation\": \"v\", \"showlegend\": true, \"textposition\": \"auto\", \"type\": \"bar\", \"x\": [\"Sample 101\", \"Sample 2\", \"Sample 4\", \"Sample 1\", \"Sample 13\"], \"xaxis\": \"x\", \"y\": [19494.167611398094, 12459.295519451896, 14363.862502737797, 12965.9007716472, 10956.0449275195], \"yaxis\": \"y\"}, {\"alignmentgroup\": \"True\", \"hovertemplate\": \"Function=GO:0008270; F:zinc ion binding; IEA:UniProtKB-UniRule.<br>Sample=%{x}<br>Abundance RPKs=%{y}<extra></extra>\", \"legendgroup\": \"GO:0008270; F:zinc ion binding; IEA:UniProtKB-UniRule.\", \"marker\": {\"color\": \"#FFA15A\"}, \"name\": \"GO:0008270; F:zinc ion binding; IEA:UniProtKB-UniRule.\", \"offsetgroup\": \"GO:0008270; F:zinc ion binding; IEA:UniProtKB-UniRule.\", \"orientation\": \"v\", \"showlegend\": true, \"textposition\": \"auto\", \"type\": \"bar\", \"x\": [\"Sample 101\", \"Sample 2\", \"Sample 16\", \"Sample 4\", \"Sample 1\", \"Sample 13\"], \"xaxis\": \"x\", \"y\": [86959.68924035894, 14875.5553828689, 12742.8754738518, 19799.247724448, 18344.294356296417, 33041.3596576888], \"yaxis\": \"y\"}, {\"alignmentgroup\": \"True\", \"hovertemplate\": \"Function=GO:0005524; F:ATP binding; IEA:UniProtKB-UniRule.<br>Sample=%{x}<br>Abundance RPKs=%{y}<extra></extra>\", \"legendgroup\": \"GO:0005524; F:ATP binding; IEA:UniProtKB-UniRule.\", \"marker\": {\"color\": \"#19d3f3\"}, \"name\": \"GO:0005524; F:ATP binding; IEA:UniProtKB-UniRule.\", \"offsetgroup\": \"GO:0005524; F:ATP binding; IEA:UniProtKB-UniRule.\", \"orientation\": \"v\", \"showlegend\": true, \"textposition\": \"auto\", \"type\": \"bar\", \"x\": [\"Sample 101\", \"Sample 14\", \"Sample 2\", \"Sample 16\", \"Sample 4\", \"Sample 1\", \"Sample 99\", \"Sample 13\"], \"xaxis\": \"x\", \"y\": [205084.3998655271, 47861.09291192864, 62675.999022448916, 42187.683115331, 79585.22502703081, 69893.84486023642, 32769.538205335506, 82485.40743216057], \"yaxis\": \"y\"}, {\"alignmentgroup\": \"True\", \"hovertemplate\": \"Function=GO:0003676; F:nucleic acid binding; IEA:InterPro.<br>Sample=%{x}<br>Abundance RPKs=%{y}<extra></extra>\", \"legendgroup\": \"GO:0003676; F:nucleic acid binding; IEA:InterPro.\", \"marker\": {\"color\": \"#FF6692\"}, \"name\": \"GO:0003676; F:nucleic acid binding; IEA:InterPro.\", \"offsetgroup\": \"GO:0003676; F:nucleic acid binding; IEA:InterPro.\", \"orientation\": \"v\", \"showlegend\": true, \"textposition\": \"auto\", \"type\": \"bar\", \"x\": [\"Sample 101\", \"Sample 4\", \"Sample 13\"], \"xaxis\": \"x\", \"y\": [33609.208159113, 10535.491952835897, 12921.0758400466], \"yaxis\": \"y\"}, {\"alignmentgroup\": \"True\", \"hovertemplate\": \"Function=GO:0005524; F:ATP binding; IEA:UniProtKB-KW.<br>Sample=%{x}<br>Abundance RPKs=%{y}<extra></extra>\", \"legendgroup\": \"GO:0005524; F:ATP binding; IEA:UniProtKB-KW.\", \"marker\": {\"color\": \"#B6E880\"}, \"name\": \"GO:0005524; F:ATP binding; IEA:UniProtKB-KW.\", \"offsetgroup\": \"GO:0005524; F:ATP binding; IEA:UniProtKB-KW.\", \"orientation\": \"v\", \"showlegend\": true, \"textposition\": \"auto\", \"type\": \"bar\", \"x\": [\"Sample 101\", \"Sample 14\", \"Sample 2\", \"Sample 16\", \"Sample 4\", \"Sample 1\", \"Sample 99\", \"Sample 13\"], \"xaxis\": \"x\", \"y\": [178581.75839963395, 27440.783657706685, 37027.76636958149, 19864.14000535259, 39695.26220270137, 39893.81090036273, 15633.553020757305, 63079.6938300346], \"yaxis\": \"y\"}, {\"alignmentgroup\": \"True\", \"hovertemplate\": \"Function=GO:0006096; P:glycolytic process; IEA:UniProtKB-UniRule.<br>Sample=%{x}<br>Abundance RPKs=%{y}<extra></extra>\", \"legendgroup\": \"GO:0006096; P:glycolytic process; IEA:UniProtKB-UniRule.\", \"marker\": {\"color\": \"#FF97FF\"}, \"name\": \"GO:0006096; P:glycolytic process; IEA:UniProtKB-UniRule.\", \"offsetgroup\": \"GO:0006096; P:glycolytic process; IEA:UniProtKB-UniRule.\", \"orientation\": \"v\", \"showlegend\": true, \"textposition\": \"auto\", \"type\": \"bar\", \"x\": [\"Sample 101\", \"Sample 2\", \"Sample 4\", \"Sample 1\", \"Sample 13\"], \"xaxis\": \"x\", \"y\": [29112.555439574793, 11761.799407564597, 13984.217047438106, 10955.522560707303, 11625.427610759598], \"yaxis\": \"y\"}, {\"alignmentgroup\": \"True\", \"hovertemplate\": \"Function=GO:0000287; F:magnesium ion binding; IEA:UniProtKB-UniRule.<br>Sample=%{x}<br>Abundance RPKs=%{y}<extra></extra>\", \"legendgroup\": \"GO:0000287; F:magnesium ion binding; IEA:UniProtKB-UniRule.\", \"marker\": {\"color\": \"#FECB52\"}, \"name\": \"GO:0000287; F:magnesium ion binding; IEA:UniProtKB-UniRule.\", \"offsetgroup\": \"GO:0000287; F:magnesium ion binding; IEA:UniProtKB-UniRule.\", \"orientation\": \"v\", \"showlegend\": true, \"textposition\": \"auto\", \"type\": \"bar\", \"x\": [\"Sample 101\", \"Sample 14\", \"Sample 2\", \"Sample 16\", \"Sample 4\", \"Sample 1\", \"Sample 99\", \"Sample 13\"], \"xaxis\": \"x\", \"y\": [122886.88945956815, 32424.884961827316, 33893.80770073982, 17887.043331212397, 42840.614427342196, 39446.53905245851, 15021.265766061695, 45326.64118968389], \"yaxis\": \"y\"}, {\"alignmentgroup\": \"True\", \"hovertemplate\": \"Function=GO:0006310; P:DNA recombination; IEA:UniProtKB-UniRule.<br>Sample=%{x}<br>Abundance RPKs=%{y}<extra></extra>\", \"legendgroup\": \"GO:0006310; P:DNA recombination; IEA:UniProtKB-UniRule.\", \"marker\": {\"color\": \"#636efa\"}, \"name\": \"GO:0006310; P:DNA recombination; IEA:UniProtKB-UniRule.\", \"offsetgroup\": \"GO:0006310; P:DNA recombination; IEA:UniProtKB-UniRule.\", \"orientation\": \"v\", \"showlegend\": true, \"textposition\": \"auto\", \"type\": \"bar\", \"x\": [\"Sample 101\", \"Sample 4\"], \"xaxis\": \"x\", \"y\": [22090.6124680608, 10635.103687058898], \"yaxis\": \"y\"}, {\"alignmentgroup\": \"True\", \"hovertemplate\": \"Function=GO:0006281; P:DNA repair; IEA:UniProtKB-UniRule.<br>Sample=%{x}<br>Abundance RPKs=%{y}<extra></extra>\", \"legendgroup\": \"GO:0006281; P:DNA repair; IEA:UniProtKB-UniRule.\", \"marker\": {\"color\": \"#EF553B\"}, \"name\": \"GO:0006281; P:DNA repair; IEA:UniProtKB-UniRule.\", \"offsetgroup\": \"GO:0006281; P:DNA repair; IEA:UniProtKB-UniRule.\", \"orientation\": \"v\", \"showlegend\": true, \"textposition\": \"auto\", \"type\": \"bar\", \"x\": [\"Sample 101\", \"Sample 2\", \"Sample 4\", \"Sample 1\", \"Sample 13\"], \"xaxis\": \"x\", \"y\": [30110.000781369898, 10078.265933780598, 13058.1320477414, 12666.116133537404, 14046.189351183797], \"yaxis\": \"y\"}, {\"alignmentgroup\": \"True\", \"hovertemplate\": \"Function=GO:0009432; P:SOS response; IEA:UniProtKB-UniRule.<br>Sample=%{x}<br>Abundance RPKs=%{y}<extra></extra>\", \"legendgroup\": \"GO:0009432; P:SOS response; IEA:UniProtKB-UniRule.\", \"marker\": {\"color\": \"#00cc96\"}, \"name\": \"GO:0009432; P:SOS response; IEA:UniProtKB-UniRule.\", \"offsetgroup\": \"GO:0009432; P:SOS response; IEA:UniProtKB-UniRule.\", \"orientation\": \"v\", \"showlegend\": true, \"textposition\": \"auto\", \"type\": \"bar\", \"x\": [\"Sample 101\"], \"xaxis\": \"x\", \"y\": [21753.959675309798], \"yaxis\": \"y\"}, {\"alignmentgroup\": \"True\", \"hovertemplate\": \"Function=GO:0005886; C:plasma membrane; IEA:UniProtKB-SubCell.<br>Sample=%{x}<br>Abundance RPKs=%{y}<extra></extra>\", \"legendgroup\": \"GO:0005886; C:plasma membrane; IEA:UniProtKB-SubCell.\", \"marker\": {\"color\": \"#ab63fa\"}, \"name\": \"GO:0005886; C:plasma membrane; IEA:UniProtKB-SubCell.\", \"offsetgroup\": \"GO:0005886; C:plasma membrane; IEA:UniProtKB-SubCell.\", \"orientation\": \"v\", \"showlegend\": true, \"textposition\": \"auto\", \"type\": \"bar\", \"x\": [\"Sample 101\", \"Sample 14\", \"Sample 2\", \"Sample 16\", \"Sample 4\", \"Sample 1\", \"Sample 99\", \"Sample 13\"], \"xaxis\": \"x\", \"y\": [266736.75990297424, 17005.474590495396, 21895.88940314801, 15032.175796265301, 27790.835301124007, 30933.694992365112, 12614.717292221496, 77630.18934858702], \"yaxis\": \"y\"}, {\"alignmentgroup\": \"True\", \"hovertemplate\": \"Function=GO:0003924; F:GTPase activity; IEA:UniProtKB-UniRule.<br>Sample=%{x}<br>Abundance RPKs=%{y}<extra></extra>\", \"legendgroup\": \"GO:0003924; F:GTPase activity; IEA:UniProtKB-UniRule.\", \"marker\": {\"color\": \"#FFA15A\"}, \"name\": \"GO:0003924; F:GTPase activity; IEA:UniProtKB-UniRule.\", \"offsetgroup\": \"GO:0003924; F:GTPase activity; IEA:UniProtKB-UniRule.\", \"orientation\": \"v\", \"showlegend\": true, \"textposition\": \"auto\", \"type\": \"bar\", \"x\": [\"Sample 101\", \"Sample 4\"], \"xaxis\": \"x\", \"y\": [17698.45653142059, 10370.377554819099], \"yaxis\": \"y\"}, {\"alignmentgroup\": \"True\", \"hovertemplate\": \"Function=GO:0046983; F:protein dimerization activity; IEA:InterPro.<br>Sample=%{x}<br>Abundance RPKs=%{y}<extra></extra>\", \"legendgroup\": \"GO:0046983; F:protein dimerization activity; IEA:InterPro.\", \"marker\": {\"color\": \"#19d3f3\"}, \"name\": \"GO:0046983; F:protein dimerization activity; IEA:InterPro.\", \"offsetgroup\": \"GO:0046983; F:protein dimerization activity; IEA:InterPro.\", \"orientation\": \"v\", \"showlegend\": true, \"textposition\": \"auto\", \"type\": \"bar\", \"x\": [\"Sample 101\"], \"xaxis\": \"x\", \"y\": [15124.280634133402], \"yaxis\": \"y\"}, {\"alignmentgroup\": \"True\", \"hovertemplate\": \"Function=GO:0051082; F:unfolded protein binding; IEA:UniProtKB-UniRule.<br>Sample=%{x}<br>Abundance RPKs=%{y}<extra></extra>\", \"legendgroup\": \"GO:0051082; F:unfolded protein binding; IEA:UniProtKB-UniRule.\", \"marker\": {\"color\": \"#FF6692\"}, \"name\": \"GO:0051082; F:unfolded protein binding; IEA:UniProtKB-UniRule.\", \"offsetgroup\": \"GO:0051082; F:unfolded protein binding; IEA:UniProtKB-UniRule.\", \"orientation\": \"v\", \"showlegend\": true, \"textposition\": \"auto\", \"type\": \"bar\", \"x\": [\"Sample 101\"], \"xaxis\": \"x\", \"y\": [12712.045871494101], \"yaxis\": \"y\"}, {\"alignmentgroup\": \"True\", \"hovertemplate\": \"Function=GO:0008270; F:zinc ion binding; IEA:InterPro.<br>Sample=%{x}<br>Abundance RPKs=%{y}<extra></extra>\", \"legendgroup\": \"GO:0008270; F:zinc ion binding; IEA:InterPro.\", \"marker\": {\"color\": \"#B6E880\"}, \"name\": \"GO:0008270; F:zinc ion binding; IEA:InterPro.\", \"offsetgroup\": \"GO:0008270; F:zinc ion binding; IEA:InterPro.\", \"orientation\": \"v\", \"showlegend\": true, \"textposition\": \"auto\", \"type\": \"bar\", \"x\": [\"Sample 101\"], \"xaxis\": \"x\", \"y\": [24700.25925888301], \"yaxis\": \"y\"}, {\"alignmentgroup\": \"True\", \"hovertemplate\": \"Function=GO:0006457; P:protein folding; IEA:UniProtKB-UniRule.<br>Sample=%{x}<br>Abundance RPKs=%{y}<extra></extra>\", \"legendgroup\": \"GO:0006457; P:protein folding; IEA:UniProtKB-UniRule.\", \"marker\": {\"color\": \"#FF97FF\"}, \"name\": \"GO:0006457; P:protein folding; IEA:UniProtKB-UniRule.\", \"offsetgroup\": \"GO:0006457; P:protein folding; IEA:UniProtKB-UniRule.\", \"orientation\": \"v\", \"showlegend\": true, \"textposition\": \"auto\", \"type\": \"bar\", \"x\": [\"Sample 101\"], \"xaxis\": \"x\", \"y\": [19224.741369893905], \"yaxis\": \"y\"}, {\"alignmentgroup\": \"True\", \"hovertemplate\": \"Function=GO:0006260; P:DNA replication; IEA:UniProtKB-UniRule.<br>Sample=%{x}<br>Abundance RPKs=%{y}<extra></extra>\", \"legendgroup\": \"GO:0006260; P:DNA replication; IEA:UniProtKB-UniRule.\", \"marker\": {\"color\": \"#FECB52\"}, \"name\": \"GO:0006260; P:DNA replication; IEA:UniProtKB-UniRule.\", \"offsetgroup\": \"GO:0006260; P:DNA replication; IEA:UniProtKB-UniRule.\", \"orientation\": \"v\", \"showlegend\": true, \"textposition\": \"auto\", \"type\": \"bar\", \"x\": [\"Sample 101\"], \"xaxis\": \"x\", \"y\": [13079.318688944903], \"yaxis\": \"y\"}, {\"alignmentgroup\": \"True\", \"hovertemplate\": \"Function=GO:0005525; F:GTP binding; IEA:UniProtKB-KW.<br>Sample=%{x}<br>Abundance RPKs=%{y}<extra></extra>\", \"legendgroup\": \"GO:0005525; F:GTP binding; IEA:UniProtKB-KW.\", \"marker\": {\"color\": \"#636efa\"}, \"name\": \"GO:0005525; F:GTP binding; IEA:UniProtKB-KW.\", \"offsetgroup\": \"GO:0005525; F:GTP binding; IEA:UniProtKB-KW.\", \"orientation\": \"v\", \"showlegend\": true, \"textposition\": \"auto\", \"type\": \"bar\", \"x\": [\"Sample 101\", \"Sample 4\", \"Sample 99\", \"Sample 13\"], \"xaxis\": \"x\", \"y\": [19392.1261206908, 15212.378574938499, 11853.2234942834, 11329.668391185798], \"yaxis\": \"y\"}, {\"alignmentgroup\": \"True\", \"hovertemplate\": \"Function=GO:0009116; P:nucleoside metabolic process; IEA:InterPro.<br>Sample=%{x}<br>Abundance RPKs=%{y}<extra></extra>\", \"legendgroup\": \"GO:0009116; P:nucleoside metabolic process; IEA:InterPro.\", \"marker\": {\"color\": \"#EF553B\"}, \"name\": \"GO:0009116; P:nucleoside metabolic process; IEA:InterPro.\", \"offsetgroup\": \"GO:0009116; P:nucleoside metabolic process; IEA:InterPro.\", \"orientation\": \"v\", \"showlegend\": true, \"textposition\": \"auto\", \"type\": \"bar\", \"x\": [\"Sample 101\"], \"xaxis\": \"x\", \"y\": [10466.0752050693], \"yaxis\": \"y\"}, {\"alignmentgroup\": \"True\", \"hovertemplate\": \"Function=GO:0003677; F:DNA binding; IEA:UniProtKB-UniRule.<br>Sample=%{x}<br>Abundance RPKs=%{y}<extra></extra>\", \"legendgroup\": \"GO:0003677; F:DNA binding; IEA:UniProtKB-UniRule.\", \"marker\": {\"color\": \"#00cc96\"}, \"name\": \"GO:0003677; F:DNA binding; IEA:UniProtKB-UniRule.\", \"offsetgroup\": \"GO:0003677; F:DNA binding; IEA:UniProtKB-UniRule.\", \"orientation\": \"v\", \"showlegend\": true, \"textposition\": \"auto\", \"type\": \"bar\", \"x\": [\"Sample 101\"], \"xaxis\": \"x\", \"y\": [16138.872985481701], \"yaxis\": \"y\"}, {\"alignmentgroup\": \"True\", \"hovertemplate\": \"Function=GO:0046872; F:metal ion binding; IEA:UniProtKB-KW.<br>Sample=%{x}<br>Abundance RPKs=%{y}<extra></extra>\", \"legendgroup\": \"GO:0046872; F:metal ion binding; IEA:UniProtKB-KW.\", \"marker\": {\"color\": \"#ab63fa\"}, \"name\": \"GO:0046872; F:metal ion binding; IEA:UniProtKB-KW.\", \"offsetgroup\": \"GO:0046872; F:metal ion binding; IEA:UniProtKB-KW.\", \"orientation\": \"v\", \"showlegend\": true, \"textposition\": \"auto\", \"type\": \"bar\", \"x\": [\"Sample 101\", \"Sample 14\", \"Sample 2\", \"Sample 16\", \"Sample 4\", \"Sample 1\", \"Sample 99\", \"Sample 13\"], \"xaxis\": \"x\", \"y\": [223384.7772414651, 28069.906270423282, 33466.67365022332, 24157.909522767597, 44563.91132373917, 40779.177924147705, 18227.711701140488, 68812.55048033422], \"yaxis\": \"y\"}, {\"alignmentgroup\": \"True\", \"hovertemplate\": \"Function=GO:0009098; P:leucine biosynthetic process; IEA:UniProtKB-UniRule.<br>Sample=%{x}<br>Abundance RPKs=%{y}<extra></extra>\", \"legendgroup\": \"GO:0009098; P:leucine biosynthetic process; IEA:UniProtKB-UniRule.\", \"marker\": {\"color\": \"#FFA15A\"}, \"name\": \"GO:0009098; P:leucine biosynthetic process; IEA:UniProtKB-UniRule.\", \"offsetgroup\": \"GO:0009098; P:leucine biosynthetic process; IEA:UniProtKB-UniRule.\", \"orientation\": \"v\", \"showlegend\": true, \"textposition\": \"auto\", \"type\": \"bar\", \"x\": [\"Sample 101\"], \"xaxis\": \"x\", \"y\": [10750.712320102799], \"yaxis\": \"y\"}, {\"alignmentgroup\": \"True\", \"hovertemplate\": \"Function=GO:0071555; P:cell wall organization; IEA:UniProtKB-KW.<br>Sample=%{x}<br>Abundance RPKs=%{y}<extra></extra>\", \"legendgroup\": \"GO:0071555; P:cell wall organization; IEA:UniProtKB-KW.\", \"marker\": {\"color\": \"#19d3f3\"}, \"name\": \"GO:0071555; P:cell wall organization; IEA:UniProtKB-KW.\", \"offsetgroup\": \"GO:0071555; P:cell wall organization; IEA:UniProtKB-KW.\", \"orientation\": \"v\", \"showlegend\": true, \"textposition\": \"auto\", \"type\": \"bar\", \"x\": [\"Sample 101\", \"Sample 2\", \"Sample 4\", \"Sample 1\", \"Sample 13\"], \"xaxis\": \"x\", \"y\": [69691.98793040754, 12214.6050930424, 14388.524702128701, 15926.490184289896, 22386.3579477926], \"yaxis\": \"y\"}, {\"alignmentgroup\": \"True\", \"hovertemplate\": \"Function=GO:0009252; P:peptidoglycan biosynthetic process; IEA:UniProtKB-UniRule.<br>Sample=%{x}<br>Abundance RPKs=%{y}<extra></extra>\", \"legendgroup\": \"GO:0009252; P:peptidoglycan biosynthetic process; IEA:UniProtKB-UniRule.\", \"marker\": {\"color\": \"#FF6692\"}, \"name\": \"GO:0009252; P:peptidoglycan biosynthetic process; IEA:UniProtKB-UniRule.\", \"offsetgroup\": \"GO:0009252; P:peptidoglycan biosynthetic process; IEA:UniProtKB-UniRule.\", \"orientation\": \"v\", \"showlegend\": true, \"textposition\": \"auto\", \"type\": \"bar\", \"x\": [\"Sample 101\", \"Sample 2\", \"Sample 4\", \"Sample 1\", \"Sample 13\"], \"xaxis\": \"x\", \"y\": [41520.782956049516, 10626.7572516028, 12136.154142101404, 13589.172545428293, 15734.347348768702], \"yaxis\": \"y\"}, {\"alignmentgroup\": \"True\", \"hovertemplate\": \"Function=GO:0008360; P:regulation of cell shape; IEA:UniProtKB-KW.<br>Sample=%{x}<br>Abundance RPKs=%{y}<extra></extra>\", \"legendgroup\": \"GO:0008360; P:regulation of cell shape; IEA:UniProtKB-KW.\", \"marker\": {\"color\": \"#B6E880\"}, \"name\": \"GO:0008360; P:regulation of cell shape; IEA:UniProtKB-KW.\", \"offsetgroup\": \"GO:0008360; P:regulation of cell shape; IEA:UniProtKB-KW.\", \"orientation\": \"v\", \"showlegend\": true, \"textposition\": \"auto\", \"type\": \"bar\", \"x\": [\"Sample 101\", \"Sample 2\", \"Sample 4\", \"Sample 1\", \"Sample 13\"], \"xaxis\": \"x\", \"y\": [54395.758177077114, 12060.4968295944, 14034.216610916403, 15523.958053635597, 19245.2244066198], \"yaxis\": \"y\"}, {\"alignmentgroup\": \"True\", \"hovertemplate\": \"Function=GO:0042274; P:ribosomal small subunit biogenesis; IEA:UniProtKB-UniRule.<br>Sample=%{x}<br>Abundance RPKs=%{y}<extra></extra>\", \"legendgroup\": \"GO:0042274; P:ribosomal small subunit biogenesis; IEA:UniProtKB-UniRule.\", \"marker\": {\"color\": \"#FF97FF\"}, \"name\": \"GO:0042274; P:ribosomal small subunit biogenesis; IEA:UniProtKB-UniRule.\", \"offsetgroup\": \"GO:0042274; P:ribosomal small subunit biogenesis; IEA:UniProtKB-UniRule.\", \"orientation\": \"v\", \"showlegend\": true, \"textposition\": \"auto\", \"type\": \"bar\", \"x\": [\"Sample 101\"], \"xaxis\": \"x\", \"y\": [11597.610885727898], \"yaxis\": \"y\"}, {\"alignmentgroup\": \"True\", \"hovertemplate\": \"Function=GO:0000287; F:magnesium ion binding; IEA:InterPro.<br>Sample=%{x}<br>Abundance RPKs=%{y}<extra></extra>\", \"legendgroup\": \"GO:0000287; F:magnesium ion binding; IEA:InterPro.\", \"marker\": {\"color\": \"#FECB52\"}, \"name\": \"GO:0000287; F:magnesium ion binding; IEA:InterPro.\", \"offsetgroup\": \"GO:0000287; F:magnesium ion binding; IEA:InterPro.\", \"orientation\": \"v\", \"showlegend\": true, \"textposition\": \"auto\", \"type\": \"bar\", \"x\": [\"Sample 101\"], \"xaxis\": \"x\", \"y\": [25931.958875661203], \"yaxis\": \"y\"}, {\"alignmentgroup\": \"True\", \"hovertemplate\": \"Function=GO:0003723; F:RNA binding; IEA:InterPro.<br>Sample=%{x}<br>Abundance RPKs=%{y}<extra></extra>\", \"legendgroup\": \"GO:0003723; F:RNA binding; IEA:InterPro.\", \"marker\": {\"color\": \"#636efa\"}, \"name\": \"GO:0003723; F:RNA binding; IEA:InterPro.\", \"offsetgroup\": \"GO:0003723; F:RNA binding; IEA:InterPro.\", \"orientation\": \"v\", \"showlegend\": true, \"textposition\": \"auto\", \"type\": \"bar\", \"x\": [\"Sample 101\"], \"xaxis\": \"x\", \"y\": [20621.3090058804], \"yaxis\": \"y\"}, {\"alignmentgroup\": \"True\", \"hovertemplate\": \"Function=GO:0006633; P:fatty acid biosynthetic process; IEA:UniProtKB-UniRule.<br>Sample=%{x}<br>Abundance RPKs=%{y}<extra></extra>\", \"legendgroup\": \"GO:0006633; P:fatty acid biosynthetic process; IEA:UniProtKB-UniRule.\", \"marker\": {\"color\": \"#EF553B\"}, \"name\": \"GO:0006633; P:fatty acid biosynthetic process; IEA:UniProtKB-UniRule.\", \"offsetgroup\": \"GO:0006633; P:fatty acid biosynthetic process; IEA:UniProtKB-UniRule.\", \"orientation\": \"v\", \"showlegend\": true, \"textposition\": \"auto\", \"type\": \"bar\", \"x\": [\"Sample 101\"], \"xaxis\": \"x\", \"y\": [23214.007363969602], \"yaxis\": \"y\"}, {\"alignmentgroup\": \"True\", \"hovertemplate\": \"Function=GO:0005524; F:ATP binding; IEA:InterPro.<br>Sample=%{x}<br>Abundance RPKs=%{y}<extra></extra>\", \"legendgroup\": \"GO:0005524; F:ATP binding; IEA:InterPro.\", \"marker\": {\"color\": \"#00cc96\"}, \"name\": \"GO:0005524; F:ATP binding; IEA:InterPro.\", \"offsetgroup\": \"GO:0005524; F:ATP binding; IEA:InterPro.\", \"orientation\": \"v\", \"showlegend\": true, \"textposition\": \"auto\", \"type\": \"bar\", \"x\": [\"Sample 101\"], \"xaxis\": \"x\", \"y\": [10856.7391825416], \"yaxis\": \"y\"}, {\"alignmentgroup\": \"True\", \"hovertemplate\": \"Function=GO:0019843; F:rRNA binding; IEA:UniProtKB-KW.<br>Sample=%{x}<br>Abundance RPKs=%{y}<extra></extra>\", \"legendgroup\": \"GO:0019843; F:rRNA binding; IEA:UniProtKB-KW.\", \"marker\": {\"color\": \"#ab63fa\"}, \"name\": \"GO:0019843; F:rRNA binding; IEA:UniProtKB-KW.\", \"offsetgroup\": \"GO:0019843; F:rRNA binding; IEA:UniProtKB-KW.\", \"orientation\": \"v\", \"showlegend\": true, \"textposition\": \"auto\", \"type\": \"bar\", \"x\": [\"Sample 101\"], \"xaxis\": \"x\", \"y\": [11714.0132201199], \"yaxis\": \"y\"}, {\"alignmentgroup\": \"True\", \"hovertemplate\": \"Function=GO:0016021; C:integral component of membrane; IEA:UniProtKB-KW.<br>Sample=%{x}<br>Abundance RPKs=%{y}<extra></extra>\", \"legendgroup\": \"GO:0016021; C:integral component of membrane; IEA:UniProtKB-KW.\", \"marker\": {\"color\": \"#FFA15A\"}, \"name\": \"GO:0016021; C:integral component of membrane; IEA:UniProtKB-KW.\", \"offsetgroup\": \"GO:0016021; C:integral component of membrane; IEA:UniProtKB-KW.\", \"orientation\": \"v\", \"showlegend\": true, \"textposition\": \"auto\", \"type\": \"bar\", \"x\": [\"Sample 101\", \"Sample 14\", \"Sample 2\", \"Sample 4\", \"Sample 1\", \"Sample 13\"], \"xaxis\": \"x\", \"y\": [256605.38347323466, 10917.295318609495, 14013.305663371795, 18603.0604997382, 20356.122369875702, 67733.35484026482], \"yaxis\": \"y\"}, {\"alignmentgroup\": \"True\", \"hovertemplate\": \"Function=GO:0005506; F:iron ion binding; IEA:InterPro.<br>Sample=%{x}<br>Abundance RPKs=%{y}<extra></extra>\", \"legendgroup\": \"GO:0005506; F:iron ion binding; IEA:InterPro.\", \"marker\": {\"color\": \"#19d3f3\"}, \"name\": \"GO:0005506; F:iron ion binding; IEA:InterPro.\", \"offsetgroup\": \"GO:0005506; F:iron ion binding; IEA:InterPro.\", \"orientation\": \"v\", \"showlegend\": true, \"textposition\": \"auto\", \"type\": \"bar\", \"x\": [\"Sample 101\"], \"xaxis\": \"x\", \"y\": [12667.0639447979], \"yaxis\": \"y\"}, {\"alignmentgroup\": \"True\", \"hovertemplate\": \"Function=GO:0006189; P:'de novo' IMP biosynthetic process; IEA:UniProtKB-UniRule.<br>Sample=%{x}<br>Abundance RPKs=%{y}<extra></extra>\", \"legendgroup\": \"GO:0006189; P:'de novo' IMP biosynthetic process; IEA:UniProtKB-UniRule.\", \"marker\": {\"color\": \"#FF6692\"}, \"name\": \"GO:0006189; P:'de novo' IMP biosynthetic process; IEA:UniProtKB-UniRule.\", \"offsetgroup\": \"GO:0006189; P:'de novo' IMP biosynthetic process; IEA:UniProtKB-UniRule.\", \"orientation\": \"v\", \"showlegend\": true, \"textposition\": \"auto\", \"type\": \"bar\", \"x\": [\"Sample 101\"], \"xaxis\": \"x\", \"y\": [15670.758052206098], \"yaxis\": \"y\"}, {\"alignmentgroup\": \"True\", \"hovertemplate\": \"Function=GO:0009073; P:aromatic amino acid family biosynthetic process; IEA:UniProtKB-UniRule.<br>Sample=%{x}<br>Abundance RPKs=%{y}<extra></extra>\", \"legendgroup\": \"GO:0009073; P:aromatic amino acid family biosynthetic process; IEA:UniProtKB-UniRule.\", \"marker\": {\"color\": \"#B6E880\"}, \"name\": \"GO:0009073; P:aromatic amino acid family biosynthetic process; IEA:UniProtKB-UniRule.\", \"offsetgroup\": \"GO:0009073; P:aromatic amino acid family biosynthetic process; IEA:UniProtKB-UniRule.\", \"orientation\": \"v\", \"showlegend\": true, \"textposition\": \"auto\", \"type\": \"bar\", \"x\": [\"Sample 101\"], \"xaxis\": \"x\", \"y\": [18719.86102833669], \"yaxis\": \"y\"}, {\"alignmentgroup\": \"True\", \"hovertemplate\": \"Function=GO:0009423; P:chorismate biosynthetic process; IEA:UniProtKB-UniPathway.<br>Sample=%{x}<br>Abundance RPKs=%{y}<extra></extra>\", \"legendgroup\": \"GO:0009423; P:chorismate biosynthetic process; IEA:UniProtKB-UniPathway.\", \"marker\": {\"color\": \"#FF97FF\"}, \"name\": \"GO:0009423; P:chorismate biosynthetic process; IEA:UniProtKB-UniPathway.\", \"offsetgroup\": \"GO:0009423; P:chorismate biosynthetic process; IEA:UniProtKB-UniPathway.\", \"orientation\": \"v\", \"showlegend\": true, \"textposition\": \"auto\", \"type\": \"bar\", \"x\": [\"Sample 101\"], \"xaxis\": \"x\", \"y\": [18995.16625668459], \"yaxis\": \"y\"}, {\"alignmentgroup\": \"True\", \"hovertemplate\": \"Function=GO:0004222; F:metalloendopeptidase activity; IEA:InterPro.<br>Sample=%{x}<br>Abundance RPKs=%{y}<extra></extra>\", \"legendgroup\": \"GO:0004222; F:metalloendopeptidase activity; IEA:InterPro.\", \"marker\": {\"color\": \"#FECB52\"}, \"name\": \"GO:0004222; F:metalloendopeptidase activity; IEA:InterPro.\", \"offsetgroup\": \"GO:0004222; F:metalloendopeptidase activity; IEA:InterPro.\", \"orientation\": \"v\", \"showlegend\": true, \"textposition\": \"auto\", \"type\": \"bar\", \"x\": [\"Sample 101\"], \"xaxis\": \"x\", \"y\": [11463.964824665103], \"yaxis\": \"y\"}, {\"alignmentgroup\": \"True\", \"hovertemplate\": \"Function=GO:0006364; P:rRNA processing; IEA:UniProtKB-UniRule.<br>Sample=%{x}<br>Abundance RPKs=%{y}<extra></extra>\", \"legendgroup\": \"GO:0006364; P:rRNA processing; IEA:UniProtKB-UniRule.\", \"marker\": {\"color\": \"#636efa\"}, \"name\": \"GO:0006364; P:rRNA processing; IEA:UniProtKB-UniRule.\", \"offsetgroup\": \"GO:0006364; P:rRNA processing; IEA:UniProtKB-UniRule.\", \"orientation\": \"v\", \"showlegend\": true, \"textposition\": \"auto\", \"type\": \"bar\", \"x\": [\"Sample 101\"], \"xaxis\": \"x\", \"y\": [11050.171264344102], \"yaxis\": \"y\"}, {\"alignmentgroup\": \"True\", \"hovertemplate\": \"Function=GO:0016597; F:amino acid binding; IEA:InterPro.<br>Sample=%{x}<br>Abundance RPKs=%{y}<extra></extra>\", \"legendgroup\": \"GO:0016597; F:amino acid binding; IEA:InterPro.\", \"marker\": {\"color\": \"#EF553B\"}, \"name\": \"GO:0016597; F:amino acid binding; IEA:InterPro.\", \"offsetgroup\": \"GO:0016597; F:amino acid binding; IEA:InterPro.\", \"orientation\": \"v\", \"showlegend\": true, \"textposition\": \"auto\", \"type\": \"bar\", \"x\": [\"Sample 101\"], \"xaxis\": \"x\", \"y\": [10587.448525762802], \"yaxis\": \"y\"}, {\"alignmentgroup\": \"True\", \"hovertemplate\": \"Function=GO:0006207; P:'de novo' pyrimidine nucleobase biosynthetic process; IEA:InterPro.<br>Sample=%{x}<br>Abundance RPKs=%{y}<extra></extra>\", \"legendgroup\": \"GO:0006207; P:'de novo' pyrimidine nucleobase biosynthetic process; IEA:InterPro.\", \"marker\": {\"color\": \"#00cc96\"}, \"name\": \"GO:0006207; P:'de novo' pyrimidine nucleobase biosynthetic process; IEA:InterPro.\", \"offsetgroup\": \"GO:0006207; P:'de novo' pyrimidine nucleobase biosynthetic process; IEA:InterPro.\", \"orientation\": \"v\", \"showlegend\": true, \"textposition\": \"auto\", \"type\": \"bar\", \"x\": [\"Sample 101\"], \"xaxis\": \"x\", \"y\": [13938.904883267896], \"yaxis\": \"y\"}, {\"alignmentgroup\": \"True\", \"hovertemplate\": \"Function=GO:0044205; P:'de novo' UMP biosynthetic process; IEA:UniProtKB-UniPathway.<br>Sample=%{x}<br>Abundance RPKs=%{y}<extra></extra>\", \"legendgroup\": \"GO:0044205; P:'de novo' UMP biosynthetic process; IEA:UniProtKB-UniPathway.\", \"marker\": {\"color\": \"#ab63fa\"}, \"name\": \"GO:0044205; P:'de novo' UMP biosynthetic process; IEA:UniProtKB-UniPathway.\", \"offsetgroup\": \"GO:0044205; P:'de novo' UMP biosynthetic process; IEA:UniProtKB-UniPathway.\", \"orientation\": \"v\", \"showlegend\": true, \"textposition\": \"auto\", \"type\": \"bar\", \"x\": [\"Sample 101\"], \"xaxis\": \"x\", \"y\": [20270.02367426699], \"yaxis\": \"y\"}, {\"alignmentgroup\": \"True\", \"hovertemplate\": \"Function=GO:0000105; P:histidine biosynthetic process; IEA:UniProtKB-UniRule.<br>Sample=%{x}<br>Abundance RPKs=%{y}<extra></extra>\", \"legendgroup\": \"GO:0000105; P:histidine biosynthetic process; IEA:UniProtKB-UniRule.\", \"marker\": {\"color\": \"#FFA15A\"}, \"name\": \"GO:0000105; P:histidine biosynthetic process; IEA:UniProtKB-UniRule.\", \"offsetgroup\": \"GO:0000105; P:histidine biosynthetic process; IEA:UniProtKB-UniRule.\", \"orientation\": \"v\", \"showlegend\": true, \"textposition\": \"auto\", \"type\": \"bar\", \"x\": [\"Sample 101\", \"Sample 14\", \"Sample 4\", \"Sample 1\", \"Sample 13\"], \"xaxis\": \"x\", \"y\": [17803.231651112797, 11479.653691241505, 12171.311443280603, 10061.873766276602, 10776.705289085901], \"yaxis\": \"y\"}, {\"alignmentgroup\": \"True\", \"hovertemplate\": \"Function=GO:0005887; C:integral component of plasma membrane; IEA:UniProtKB-UniRule.<br>Sample=%{x}<br>Abundance RPKs=%{y}<extra></extra>\", \"legendgroup\": \"GO:0005887; C:integral component of plasma membrane; IEA:UniProtKB-UniRule.\", \"marker\": {\"color\": \"#19d3f3\"}, \"name\": \"GO:0005887; C:integral component of plasma membrane; IEA:UniProtKB-UniRule.\", \"offsetgroup\": \"GO:0005887; C:integral component of plasma membrane; IEA:UniProtKB-UniRule.\", \"orientation\": \"v\", \"showlegend\": true, \"textposition\": \"auto\", \"type\": \"bar\", \"x\": [\"Sample 101\", \"Sample 13\"], \"xaxis\": \"x\", \"y\": [41521.18965147211, 12984.524049278803], \"yaxis\": \"y\"}, {\"alignmentgroup\": \"True\", \"hovertemplate\": \"Function=GO:0003677; F:DNA binding; IEA:UniProtKB-KW.<br>Sample=%{x}<br>Abundance RPKs=%{y}<extra></extra>\", \"legendgroup\": \"GO:0003677; F:DNA binding; IEA:UniProtKB-KW.\", \"marker\": {\"color\": \"#FF6692\"}, \"name\": \"GO:0003677; F:DNA binding; IEA:UniProtKB-KW.\", \"offsetgroup\": \"GO:0003677; F:DNA binding; IEA:UniProtKB-KW.\", \"orientation\": \"v\", \"showlegend\": true, \"textposition\": \"auto\", \"type\": \"bar\", \"x\": [\"Sample 101\", \"Sample 13\"], \"xaxis\": \"x\", \"y\": [84257.3131684741, 16199.495385048598], \"yaxis\": \"y\"}, {\"alignmentgroup\": \"True\", \"hovertemplate\": \"Function=GO:0003677; F:DNA binding; IEA:InterPro.<br>Sample=%{x}<br>Abundance RPKs=%{y}<extra></extra>\", \"legendgroup\": \"GO:0003677; F:DNA binding; IEA:InterPro.\", \"marker\": {\"color\": \"#B6E880\"}, \"name\": \"GO:0003677; F:DNA binding; IEA:InterPro.\", \"offsetgroup\": \"GO:0003677; F:DNA binding; IEA:InterPro.\", \"orientation\": \"v\", \"showlegend\": true, \"textposition\": \"auto\", \"type\": \"bar\", \"x\": [\"Sample 101\"], \"xaxis\": \"x\", \"y\": [10937.624297867296], \"yaxis\": \"y\"}, {\"alignmentgroup\": \"True\", \"hovertemplate\": \"Function=GO:0006094; P:gluconeogenesis; IEA:UniProtKB-UniRule.<br>Sample=%{x}<br>Abundance RPKs=%{y}<extra></extra>\", \"legendgroup\": \"GO:0006094; P:gluconeogenesis; IEA:UniProtKB-UniRule.\", \"marker\": {\"color\": \"#FF97FF\"}, \"name\": \"GO:0006094; P:gluconeogenesis; IEA:UniProtKB-UniRule.\", \"offsetgroup\": \"GO:0006094; P:gluconeogenesis; IEA:UniProtKB-UniRule.\", \"orientation\": \"v\", \"showlegend\": true, \"textposition\": \"auto\", \"type\": \"bar\", \"x\": [\"Sample 101\", \"Sample 4\"], \"xaxis\": \"x\", \"y\": [16877.3603710893, 10774.461104253201], \"yaxis\": \"y\"}, {\"alignmentgroup\": \"True\", \"hovertemplate\": \"Function=GO:0007049; P:cell cycle; IEA:UniProtKB-KW.<br>Sample=%{x}<br>Abundance RPKs=%{y}<extra></extra>\", \"legendgroup\": \"GO:0007049; P:cell cycle; IEA:UniProtKB-KW.\", \"marker\": {\"color\": \"#FECB52\"}, \"name\": \"GO:0007049; P:cell cycle; IEA:UniProtKB-KW.\", \"offsetgroup\": \"GO:0007049; P:cell cycle; IEA:UniProtKB-KW.\", \"orientation\": \"v\", \"showlegend\": true, \"textposition\": \"auto\", \"type\": \"bar\", \"x\": [\"Sample 101\", \"Sample 2\", \"Sample 4\", \"Sample 1\", \"Sample 13\"], \"xaxis\": \"x\", \"y\": [45721.9190008626, 10936.118624750103, 10774.351417012402, 12662.8755516549, 15089.952209317598], \"yaxis\": \"y\"}, {\"alignmentgroup\": \"True\", \"hovertemplate\": \"Function=GO:0005506; F:iron ion binding; IEA:UniProtKB-UniRule.<br>Sample=%{x}<br>Abundance RPKs=%{y}<extra></extra>\", \"legendgroup\": \"GO:0005506; F:iron ion binding; IEA:UniProtKB-UniRule.\", \"marker\": {\"color\": \"#636efa\"}, \"name\": \"GO:0005506; F:iron ion binding; IEA:UniProtKB-UniRule.\", \"offsetgroup\": \"GO:0005506; F:iron ion binding; IEA:UniProtKB-UniRule.\", \"orientation\": \"v\", \"showlegend\": true, \"textposition\": \"auto\", \"type\": \"bar\", \"x\": [\"Sample 101\"], \"xaxis\": \"x\", \"y\": [27552.261780897104], \"yaxis\": \"y\"}, {\"alignmentgroup\": \"True\", \"hovertemplate\": \"Function=GO:0050661; F:NADP binding; IEA:InterPro.<br>Sample=%{x}<br>Abundance RPKs=%{y}<extra></extra>\", \"legendgroup\": \"GO:0050661; F:NADP binding; IEA:InterPro.\", \"marker\": {\"color\": \"#EF553B\"}, \"name\": \"GO:0050661; F:NADP binding; IEA:InterPro.\", \"offsetgroup\": \"GO:0050661; F:NADP binding; IEA:InterPro.\", \"orientation\": \"v\", \"showlegend\": true, \"textposition\": \"auto\", \"type\": \"bar\", \"x\": [\"Sample 101\"], \"xaxis\": \"x\", \"y\": [15933.9817459581], \"yaxis\": \"y\"}, {\"alignmentgroup\": \"True\", \"hovertemplate\": \"Function=GO:0003723; F:RNA binding; IEA:UniProtKB-KW.<br>Sample=%{x}<br>Abundance RPKs=%{y}<extra></extra>\", \"legendgroup\": \"GO:0003723; F:RNA binding; IEA:UniProtKB-KW.\", \"marker\": {\"color\": \"#00cc96\"}, \"name\": \"GO:0003723; F:RNA binding; IEA:UniProtKB-KW.\", \"offsetgroup\": \"GO:0003723; F:RNA binding; IEA:UniProtKB-KW.\", \"orientation\": \"v\", \"showlegend\": true, \"textposition\": \"auto\", \"type\": \"bar\", \"x\": [\"Sample 101\"], \"xaxis\": \"x\", \"y\": [20209.6363600556], \"yaxis\": \"y\"}, {\"alignmentgroup\": \"True\", \"hovertemplate\": \"Function=GO:0006526; P:arginine biosynthetic process; IEA:UniProtKB-UniRule.<br>Sample=%{x}<br>Abundance RPKs=%{y}<extra></extra>\", \"legendgroup\": \"GO:0006526; P:arginine biosynthetic process; IEA:UniProtKB-UniRule.\", \"marker\": {\"color\": \"#ab63fa\"}, \"name\": \"GO:0006526; P:arginine biosynthetic process; IEA:UniProtKB-UniRule.\", \"offsetgroup\": \"GO:0006526; P:arginine biosynthetic process; IEA:UniProtKB-UniRule.\", \"orientation\": \"v\", \"showlegend\": true, \"textposition\": \"auto\", \"type\": \"bar\", \"x\": [\"Sample 101\"], \"xaxis\": \"x\", \"y\": [17570.9870590875], \"yaxis\": \"y\"}, {\"alignmentgroup\": \"True\", \"hovertemplate\": \"Function=GO:0003700; F:DNA-binding transcription factor activity; IEA:UniProtKB-UniRule.<br>Sample=%{x}<br>Abundance RPKs=%{y}<extra></extra>\", \"legendgroup\": \"GO:0003700; F:DNA-binding transcription factor activity; IEA:UniProtKB-UniRule.\", \"marker\": {\"color\": \"#FFA15A\"}, \"name\": \"GO:0003700; F:DNA-binding transcription factor activity; IEA:UniProtKB-UniRule.\", \"offsetgroup\": \"GO:0003700; F:DNA-binding transcription factor activity; IEA:UniProtKB-UniRule.\", \"orientation\": \"v\", \"showlegend\": true, \"textposition\": \"auto\", \"type\": \"bar\", \"x\": [\"Sample 101\"], \"xaxis\": \"x\", \"y\": [25878.42579259491], \"yaxis\": \"y\"}, {\"alignmentgroup\": \"True\", \"hovertemplate\": \"Function=GO:0051301; P:cell division; IEA:UniProtKB-KW.<br>Sample=%{x}<br>Abundance RPKs=%{y}<extra></extra>\", \"legendgroup\": \"GO:0051301; P:cell division; IEA:UniProtKB-KW.\", \"marker\": {\"color\": \"#19d3f3\"}, \"name\": \"GO:0051301; P:cell division; IEA:UniProtKB-KW.\", \"offsetgroup\": \"GO:0051301; P:cell division; IEA:UniProtKB-KW.\", \"orientation\": \"v\", \"showlegend\": true, \"textposition\": \"auto\", \"type\": \"bar\", \"x\": [\"Sample 101\", \"Sample 2\", \"Sample 4\", \"Sample 1\", \"Sample 13\"], \"xaxis\": \"x\", \"y\": [42315.04497425561, 10411.567725349903, 10259.522473688901, 12345.694879093704, 14421.761875736898], \"yaxis\": \"y\"}, {\"alignmentgroup\": \"True\", \"hovertemplate\": \"Function=GO:0008033; P:tRNA processing; IEA:UniProtKB-UniRule.<br>Sample=%{x}<br>Abundance RPKs=%{y}<extra></extra>\", \"legendgroup\": \"GO:0008033; P:tRNA processing; IEA:UniProtKB-UniRule.\", \"marker\": {\"color\": \"#FF6692\"}, \"name\": \"GO:0008033; P:tRNA processing; IEA:UniProtKB-UniRule.\", \"offsetgroup\": \"GO:0008033; P:tRNA processing; IEA:UniProtKB-UniRule.\", \"orientation\": \"v\", \"showlegend\": true, \"textposition\": \"auto\", \"type\": \"bar\", \"x\": [\"Sample 101\"], \"xaxis\": \"x\", \"y\": [11362.7018400215], \"yaxis\": \"y\"}, {\"alignmentgroup\": \"True\", \"hovertemplate\": \"Function=GO:0006400; P:tRNA modification; IEA:UniProtKB-UniRule.<br>Sample=%{x}<br>Abundance RPKs=%{y}<extra></extra>\", \"legendgroup\": \"GO:0006400; P:tRNA modification; IEA:UniProtKB-UniRule.\", \"marker\": {\"color\": \"#B6E880\"}, \"name\": \"GO:0006400; P:tRNA modification; IEA:UniProtKB-UniRule.\", \"offsetgroup\": \"GO:0006400; P:tRNA modification; IEA:UniProtKB-UniRule.\", \"orientation\": \"v\", \"showlegend\": true, \"textposition\": \"auto\", \"type\": \"bar\", \"x\": [\"Sample 101\"], \"xaxis\": \"x\", \"y\": [12979.440451207402], \"yaxis\": \"y\"}, {\"alignmentgroup\": \"True\", \"hovertemplate\": \"Function=GO:0005975; P:carbohydrate metabolic process; IEA:InterPro.<br>Sample=%{x}<br>Abundance RPKs=%{y}<extra></extra>\", \"legendgroup\": \"GO:0005975; P:carbohydrate metabolic process; IEA:InterPro.\", \"marker\": {\"color\": \"#FF97FF\"}, \"name\": \"GO:0005975; P:carbohydrate metabolic process; IEA:InterPro.\", \"offsetgroup\": \"GO:0005975; P:carbohydrate metabolic process; IEA:InterPro.\", \"orientation\": \"v\", \"showlegend\": true, \"textposition\": \"auto\", \"type\": \"bar\", \"x\": [\"Sample 101\"], \"xaxis\": \"x\", \"y\": [25108.095091587198], \"yaxis\": \"y\"}, {\"alignmentgroup\": \"True\", \"hovertemplate\": \"Function=GO:0030170; F:pyridoxal phosphate binding; IEA:InterPro.<br>Sample=%{x}<br>Abundance RPKs=%{y}<extra></extra>\", \"legendgroup\": \"GO:0030170; F:pyridoxal phosphate binding; IEA:InterPro.\", \"marker\": {\"color\": \"#FECB52\"}, \"name\": \"GO:0030170; F:pyridoxal phosphate binding; IEA:InterPro.\", \"offsetgroup\": \"GO:0030170; F:pyridoxal phosphate binding; IEA:InterPro.\", \"orientation\": \"v\", \"showlegend\": true, \"textposition\": \"auto\", \"type\": \"bar\", \"x\": [\"Sample 101\"], \"xaxis\": \"x\", \"y\": [14647.1149863721], \"yaxis\": \"y\"}, {\"alignmentgroup\": \"True\", \"hovertemplate\": \"Function=GO:0009229; P:thiamine diphosphate biosynthetic process; IEA:UniProtKB-UniPathway.<br>Sample=%{x}<br>Abundance RPKs=%{y}<extra></extra>\", \"legendgroup\": \"GO:0009229; P:thiamine diphosphate biosynthetic process; IEA:UniProtKB-UniPathway.\", \"marker\": {\"color\": \"#636efa\"}, \"name\": \"GO:0009229; P:thiamine diphosphate biosynthetic process; IEA:UniProtKB-UniPathway.\", \"offsetgroup\": \"GO:0009229; P:thiamine diphosphate biosynthetic process; IEA:UniProtKB-UniPathway.\", \"orientation\": \"v\", \"showlegend\": true, \"textposition\": \"auto\", \"type\": \"bar\", \"x\": [\"Sample 101\"], \"xaxis\": \"x\", \"y\": [10922.053483444406], \"yaxis\": \"y\"}, {\"alignmentgroup\": \"True\", \"hovertemplate\": \"Function=GO:0000166; F:nucleotide binding; IEA:UniProtKB-KW.<br>Sample=%{x}<br>Abundance RPKs=%{y}<extra></extra>\", \"legendgroup\": \"GO:0000166; F:nucleotide binding; IEA:UniProtKB-KW.\", \"marker\": {\"color\": \"#EF553B\"}, \"name\": \"GO:0000166; F:nucleotide binding; IEA:UniProtKB-KW.\", \"offsetgroup\": \"GO:0000166; F:nucleotide binding; IEA:UniProtKB-KW.\", \"orientation\": \"v\", \"showlegend\": true, \"textposition\": \"auto\", \"type\": \"bar\", \"x\": [\"Sample 101\"], \"xaxis\": \"x\", \"y\": [21271.85613044359], \"yaxis\": \"y\"}, {\"alignmentgroup\": \"True\", \"hovertemplate\": \"Function=GO:0016114; P:terpenoid biosynthetic process; IEA:UniProtKB-UniRule.<br>Sample=%{x}<br>Abundance RPKs=%{y}<extra></extra>\", \"legendgroup\": \"GO:0016114; P:terpenoid biosynthetic process; IEA:UniProtKB-UniRule.\", \"marker\": {\"color\": \"#00cc96\"}, \"name\": \"GO:0016114; P:terpenoid biosynthetic process; IEA:UniProtKB-UniRule.\", \"offsetgroup\": \"GO:0016114; P:terpenoid biosynthetic process; IEA:UniProtKB-UniRule.\", \"orientation\": \"v\", \"showlegend\": true, \"textposition\": \"auto\", \"type\": \"bar\", \"x\": [\"Sample 101\", \"Sample 1\"], \"xaxis\": \"x\", \"y\": [17272.129200336098, 10567.9538950538], \"yaxis\": \"y\"}, {\"alignmentgroup\": \"True\", \"hovertemplate\": \"Function=GO:0016887; F:ATPase activity; IEA:InterPro.<br>Sample=%{x}<br>Abundance RPKs=%{y}<extra></extra>\", \"legendgroup\": \"GO:0016887; F:ATPase activity; IEA:InterPro.\", \"marker\": {\"color\": \"#ab63fa\"}, \"name\": \"GO:0016887; F:ATPase activity; IEA:InterPro.\", \"offsetgroup\": \"GO:0016887; F:ATPase activity; IEA:InterPro.\", \"orientation\": \"v\", \"showlegend\": true, \"textposition\": \"auto\", \"type\": \"bar\", \"x\": [\"Sample 101\", \"Sample 13\"], \"xaxis\": \"x\", \"y\": [46461.86390268811, 15058.101963353103], \"yaxis\": \"y\"}, {\"alignmentgroup\": \"True\", \"hovertemplate\": \"Function=GO:0010181; F:FMN binding; IEA:InterPro.<br>Sample=%{x}<br>Abundance RPKs=%{y}<extra></extra>\", \"legendgroup\": \"GO:0010181; F:FMN binding; IEA:InterPro.\", \"marker\": {\"color\": \"#FFA15A\"}, \"name\": \"GO:0010181; F:FMN binding; IEA:InterPro.\", \"offsetgroup\": \"GO:0010181; F:FMN binding; IEA:InterPro.\", \"orientation\": \"v\", \"showlegend\": true, \"textposition\": \"auto\", \"type\": \"bar\", \"x\": [\"Sample 101\"], \"xaxis\": \"x\", \"y\": [11449.708333043802], \"yaxis\": \"y\"}, {\"alignmentgroup\": \"True\", \"hovertemplate\": \"Function=GO:0019740; P:nitrogen utilization; IEA:UniProtKB-UniRule.<br>Sample=%{x}<br>Abundance RPKs=%{y}<extra></extra>\", \"legendgroup\": \"GO:0019740; P:nitrogen utilization; IEA:UniProtKB-UniRule.\", \"marker\": {\"color\": \"#19d3f3\"}, \"name\": \"GO:0019740; P:nitrogen utilization; IEA:UniProtKB-UniRule.\", \"offsetgroup\": \"GO:0019740; P:nitrogen utilization; IEA:UniProtKB-UniRule.\", \"orientation\": \"v\", \"showlegend\": true, \"textposition\": \"auto\", \"type\": \"bar\", \"x\": [\"Sample 101\"], \"xaxis\": \"x\", \"y\": [10156.605097236801], \"yaxis\": \"y\"}, {\"alignmentgroup\": \"True\", \"hovertemplate\": \"Function=GO:0006212; P:uracil catabolic process; IEA:UniProtKB-UniRule.<br>Sample=%{x}<br>Abundance RPKs=%{y}<extra></extra>\", \"legendgroup\": \"GO:0006212; P:uracil catabolic process; IEA:UniProtKB-UniRule.\", \"marker\": {\"color\": \"#FF6692\"}, \"name\": \"GO:0006212; P:uracil catabolic process; IEA:UniProtKB-UniRule.\", \"offsetgroup\": \"GO:0006212; P:uracil catabolic process; IEA:UniProtKB-UniRule.\", \"orientation\": \"v\", \"showlegend\": true, \"textposition\": \"auto\", \"type\": \"bar\", \"x\": [\"Sample 101\"], \"xaxis\": \"x\", \"y\": [10156.605097236801], \"yaxis\": \"y\"}, {\"alignmentgroup\": \"True\", \"hovertemplate\": \"Function=GO:0008033; P:tRNA processing; IEA:UniProtKB-KW.<br>Sample=%{x}<br>Abundance RPKs=%{y}<extra></extra>\", \"legendgroup\": \"GO:0008033; P:tRNA processing; IEA:UniProtKB-KW.\", \"marker\": {\"color\": \"#B6E880\"}, \"name\": \"GO:0008033; P:tRNA processing; IEA:UniProtKB-KW.\", \"offsetgroup\": \"GO:0008033; P:tRNA processing; IEA:UniProtKB-KW.\", \"orientation\": \"v\", \"showlegend\": true, \"textposition\": \"auto\", \"type\": \"bar\", \"x\": [\"Sample 101\"], \"xaxis\": \"x\", \"y\": [12027.6415153354], \"yaxis\": \"y\"}, {\"alignmentgroup\": \"True\", \"hovertemplate\": \"Function=GO:0071949; F:FAD binding; IEA:InterPro.<br>Sample=%{x}<br>Abundance RPKs=%{y}<extra></extra>\", \"legendgroup\": \"GO:0071949; F:FAD binding; IEA:InterPro.\", \"marker\": {\"color\": \"#FF97FF\"}, \"name\": \"GO:0071949; F:FAD binding; IEA:InterPro.\", \"offsetgroup\": \"GO:0071949; F:FAD binding; IEA:InterPro.\", \"orientation\": \"v\", \"showlegend\": true, \"textposition\": \"auto\", \"type\": \"bar\", \"x\": [\"Sample 101\"], \"xaxis\": \"x\", \"y\": [11857.347252366799], \"yaxis\": \"y\"}, {\"alignmentgroup\": \"True\", \"hovertemplate\": \"Function=GO:0008616; P:queuosine biosynthetic process; IEA:UniProtKB-UniRule.<br>Sample=%{x}<br>Abundance RPKs=%{y}<extra></extra>\", \"legendgroup\": \"GO:0008616; P:queuosine biosynthetic process; IEA:UniProtKB-UniRule.\", \"marker\": {\"color\": \"#FECB52\"}, \"name\": \"GO:0008616; P:queuosine biosynthetic process; IEA:UniProtKB-UniRule.\", \"offsetgroup\": \"GO:0008616; P:queuosine biosynthetic process; IEA:UniProtKB-UniRule.\", \"orientation\": \"v\", \"showlegend\": true, \"textposition\": \"auto\", \"type\": \"bar\", \"x\": [\"Sample 101\"], \"xaxis\": \"x\", \"y\": [11194.5844387984], \"yaxis\": \"y\"}, {\"alignmentgroup\": \"True\", \"hovertemplate\": \"Function=GO:0050662; F:coenzyme binding; IEA:InterPro.<br>Sample=%{x}<br>Abundance RPKs=%{y}<extra></extra>\", \"legendgroup\": \"GO:0050662; F:coenzyme binding; IEA:InterPro.\", \"marker\": {\"color\": \"#636efa\"}, \"name\": \"GO:0050662; F:coenzyme binding; IEA:InterPro.\", \"offsetgroup\": \"GO:0050662; F:coenzyme binding; IEA:InterPro.\", \"orientation\": \"v\", \"showlegend\": true, \"textposition\": \"auto\", \"type\": \"bar\", \"x\": [\"Sample 101\"], \"xaxis\": \"x\", \"y\": [10166.780189802], \"yaxis\": \"y\"}, {\"alignmentgroup\": \"True\", \"hovertemplate\": \"Function=GO:0006865; P:amino acid transport; IEA:UniProtKB-KW.<br>Sample=%{x}<br>Abundance RPKs=%{y}<extra></extra>\", \"legendgroup\": \"GO:0006865; P:amino acid transport; IEA:UniProtKB-KW.\", \"marker\": {\"color\": \"#EF553B\"}, \"name\": \"GO:0006865; P:amino acid transport; IEA:UniProtKB-KW.\", \"offsetgroup\": \"GO:0006865; P:amino acid transport; IEA:UniProtKB-KW.\", \"orientation\": \"v\", \"showlegend\": true, \"textposition\": \"auto\", \"type\": \"bar\", \"x\": [\"Sample 101\"], \"xaxis\": \"x\", \"y\": [14692.770436316201], \"yaxis\": \"y\"}, {\"alignmentgroup\": \"True\", \"hovertemplate\": \"Function=GO:0016301; F:kinase activity; IEA:UniProtKB-KW.<br>Sample=%{x}<br>Abundance RPKs=%{y}<extra></extra>\", \"legendgroup\": \"GO:0016301; F:kinase activity; IEA:UniProtKB-KW.\", \"marker\": {\"color\": \"#00cc96\"}, \"name\": \"GO:0016301; F:kinase activity; IEA:UniProtKB-KW.\", \"offsetgroup\": \"GO:0016301; F:kinase activity; IEA:UniProtKB-KW.\", \"orientation\": \"v\", \"showlegend\": true, \"textposition\": \"auto\", \"type\": \"bar\", \"x\": [\"Sample 101\"], \"xaxis\": \"x\", \"y\": [16741.9117873213], \"yaxis\": \"y\"}, {\"alignmentgroup\": \"True\", \"hovertemplate\": \"Function=GO:0030170; F:pyridoxal phosphate binding; IEA:UniProtKB-UniRule.<br>Sample=%{x}<br>Abundance RPKs=%{y}<extra></extra>\", \"legendgroup\": \"GO:0030170; F:pyridoxal phosphate binding; IEA:UniProtKB-UniRule.\", \"marker\": {\"color\": \"#ab63fa\"}, \"name\": \"GO:0030170; F:pyridoxal phosphate binding; IEA:UniProtKB-UniRule.\", \"offsetgroup\": \"GO:0030170; F:pyridoxal phosphate binding; IEA:UniProtKB-UniRule.\", \"orientation\": \"v\", \"showlegend\": true, \"textposition\": \"auto\", \"type\": \"bar\", \"x\": [\"Sample 101\"], \"xaxis\": \"x\", \"y\": [15482.4872258719], \"yaxis\": \"y\"}, {\"alignmentgroup\": \"True\", \"hovertemplate\": \"Function=GO:0005975; P:carbohydrate metabolic process; IEA:UniProtKB-KW.<br>Sample=%{x}<br>Abundance RPKs=%{y}<extra></extra>\", \"legendgroup\": \"GO:0005975; P:carbohydrate metabolic process; IEA:UniProtKB-KW.\", \"marker\": {\"color\": \"#FFA15A\"}, \"name\": \"GO:0005975; P:carbohydrate metabolic process; IEA:UniProtKB-KW.\", \"offsetgroup\": \"GO:0005975; P:carbohydrate metabolic process; IEA:UniProtKB-KW.\", \"orientation\": \"v\", \"showlegend\": true, \"textposition\": \"auto\", \"type\": \"bar\", \"x\": [\"Sample 101\"], \"xaxis\": \"x\", \"y\": [14658.2175023928], \"yaxis\": \"y\"}, {\"alignmentgroup\": \"True\", \"hovertemplate\": \"Function=GO:0051287; F:NAD binding; IEA:InterPro.<br>Sample=%{x}<br>Abundance RPKs=%{y}<extra></extra>\", \"legendgroup\": \"GO:0051287; F:NAD binding; IEA:InterPro.\", \"marker\": {\"color\": \"#19d3f3\"}, \"name\": \"GO:0051287; F:NAD binding; IEA:InterPro.\", \"offsetgroup\": \"GO:0051287; F:NAD binding; IEA:InterPro.\", \"orientation\": \"v\", \"showlegend\": true, \"textposition\": \"auto\", \"type\": \"bar\", \"x\": [\"Sample 101\", \"Sample 13\"], \"xaxis\": \"x\", \"y\": [31648.196666341304, 12703.866052869304], \"yaxis\": \"y\"}, {\"alignmentgroup\": \"True\", \"hovertemplate\": \"Function=GO:0005975; P:carbohydrate metabolic process; IEA:UniProtKB-UniRule.<br>Sample=%{x}<br>Abundance RPKs=%{y}<extra></extra>\", \"legendgroup\": \"GO:0005975; P:carbohydrate metabolic process; IEA:UniProtKB-UniRule.\", \"marker\": {\"color\": \"#FF6692\"}, \"name\": \"GO:0005975; P:carbohydrate metabolic process; IEA:UniProtKB-UniRule.\", \"offsetgroup\": \"GO:0005975; P:carbohydrate metabolic process; IEA:UniProtKB-UniRule.\", \"orientation\": \"v\", \"showlegend\": true, \"textposition\": \"auto\", \"type\": \"bar\", \"x\": [\"Sample 101\"], \"xaxis\": \"x\", \"y\": [14535.470870680296], \"yaxis\": \"y\"}, {\"alignmentgroup\": \"True\", \"hovertemplate\": \"Function=GO:0019262; P:N-acetylneuraminate catabolic process; IEA:UniProtKB-UniPathway.<br>Sample=%{x}<br>Abundance RPKs=%{y}<extra></extra>\", \"legendgroup\": \"GO:0019262; P:N-acetylneuraminate catabolic process; IEA:UniProtKB-UniPathway.\", \"marker\": {\"color\": \"#B6E880\"}, \"name\": \"GO:0019262; P:N-acetylneuraminate catabolic process; IEA:UniProtKB-UniPathway.\", \"offsetgroup\": \"GO:0019262; P:N-acetylneuraminate catabolic process; IEA:UniProtKB-UniPathway.\", \"orientation\": \"v\", \"showlegend\": true, \"textposition\": \"auto\", \"type\": \"bar\", \"x\": [\"Sample 101\"], \"xaxis\": \"x\", \"y\": [13197.7088827464], \"yaxis\": \"y\"}, {\"alignmentgroup\": \"True\", \"hovertemplate\": \"Function=GO:0035999; P:tetrahydrofolate interconversion; IEA:UniProtKB-UniPathway.<br>Sample=%{x}<br>Abundance RPKs=%{y}<extra></extra>\", \"legendgroup\": \"GO:0035999; P:tetrahydrofolate interconversion; IEA:UniProtKB-UniPathway.\", \"marker\": {\"color\": \"#FF97FF\"}, \"name\": \"GO:0035999; P:tetrahydrofolate interconversion; IEA:UniProtKB-UniPathway.\", \"offsetgroup\": \"GO:0035999; P:tetrahydrofolate interconversion; IEA:UniProtKB-UniPathway.\", \"orientation\": \"v\", \"showlegend\": true, \"textposition\": \"auto\", \"type\": \"bar\", \"x\": [\"Sample 101\"], \"xaxis\": \"x\", \"y\": [10896.660594245199], \"yaxis\": \"y\"}, {\"alignmentgroup\": \"True\", \"hovertemplate\": \"Function=GO:0030145; F:manganese ion binding; IEA:UniProtKB-UniRule.<br>Sample=%{x}<br>Abundance RPKs=%{y}<extra></extra>\", \"legendgroup\": \"GO:0030145; F:manganese ion binding; IEA:UniProtKB-UniRule.\", \"marker\": {\"color\": \"#FECB52\"}, \"name\": \"GO:0030145; F:manganese ion binding; IEA:UniProtKB-UniRule.\", \"offsetgroup\": \"GO:0030145; F:manganese ion binding; IEA:UniProtKB-UniRule.\", \"orientation\": \"v\", \"showlegend\": true, \"textposition\": \"auto\", \"type\": \"bar\", \"x\": [\"Sample 101\", \"Sample 4\"], \"xaxis\": \"x\", \"y\": [30300.890131453198, 10138.702608921298], \"yaxis\": \"y\"}, {\"alignmentgroup\": \"True\", \"hovertemplate\": \"Function=GO:0006541; P:glutamine metabolic process; IEA:UniProtKB-KW.<br>Sample=%{x}<br>Abundance RPKs=%{y}<extra></extra>\", \"legendgroup\": \"GO:0006541; P:glutamine metabolic process; IEA:UniProtKB-KW.\", \"marker\": {\"color\": \"#636efa\"}, \"name\": \"GO:0006541; P:glutamine metabolic process; IEA:UniProtKB-KW.\", \"offsetgroup\": \"GO:0006541; P:glutamine metabolic process; IEA:UniProtKB-KW.\", \"orientation\": \"v\", \"showlegend\": true, \"textposition\": \"auto\", \"type\": \"bar\", \"x\": [\"Sample 101\"], \"xaxis\": \"x\", \"y\": [13565.170029627894], \"yaxis\": \"y\"}, {\"alignmentgroup\": \"True\", \"hovertemplate\": \"Function=GO:0000103; P:sulfate assimilation; IEA:UniProtKB-UniRule.<br>Sample=%{x}<br>Abundance RPKs=%{y}<extra></extra>\", \"legendgroup\": \"GO:0000103; P:sulfate assimilation; IEA:UniProtKB-UniRule.\", \"marker\": {\"color\": \"#EF553B\"}, \"name\": \"GO:0000103; P:sulfate assimilation; IEA:UniProtKB-UniRule.\", \"offsetgroup\": \"GO:0000103; P:sulfate assimilation; IEA:UniProtKB-UniRule.\", \"orientation\": \"v\", \"showlegend\": true, \"textposition\": \"auto\", \"type\": \"bar\", \"x\": [\"Sample 101\"], \"xaxis\": \"x\", \"y\": [11278.268040656998], \"yaxis\": \"y\"}, {\"alignmentgroup\": \"True\", \"hovertemplate\": \"Function=GO:0009245; P:lipid A biosynthetic process; IEA:UniProtKB-UniRule.<br>Sample=%{x}<br>Abundance RPKs=%{y}<extra></extra>\", \"legendgroup\": \"GO:0009245; P:lipid A biosynthetic process; IEA:UniProtKB-UniRule.\", \"marker\": {\"color\": \"#00cc96\"}, \"name\": \"GO:0009245; P:lipid A biosynthetic process; IEA:UniProtKB-UniRule.\", \"offsetgroup\": \"GO:0009245; P:lipid A biosynthetic process; IEA:UniProtKB-UniRule.\", \"orientation\": \"v\", \"showlegend\": true, \"textposition\": \"auto\", \"type\": \"bar\", \"x\": [\"Sample 101\"], \"xaxis\": \"x\", \"y\": [24838.634473012004], \"yaxis\": \"y\"}, {\"alignmentgroup\": \"True\", \"hovertemplate\": \"Function=GO:0009117; P:nucleotide metabolic process; IEA:UniProtKB-KW.<br>Sample=%{x}<br>Abundance RPKs=%{y}<extra></extra>\", \"legendgroup\": \"GO:0009117; P:nucleotide metabolic process; IEA:UniProtKB-KW.\", \"marker\": {\"color\": \"#ab63fa\"}, \"name\": \"GO:0009117; P:nucleotide metabolic process; IEA:UniProtKB-KW.\", \"offsetgroup\": \"GO:0009117; P:nucleotide metabolic process; IEA:UniProtKB-KW.\", \"orientation\": \"v\", \"showlegend\": true, \"textposition\": \"auto\", \"type\": \"bar\", \"x\": [\"Sample 101\"], \"xaxis\": \"x\", \"y\": [11379.198726387298], \"yaxis\": \"y\"}, {\"alignmentgroup\": \"True\", \"hovertemplate\": \"Function=GO:0006813; P:potassium ion transport; IEA:InterPro.<br>Sample=%{x}<br>Abundance RPKs=%{y}<extra></extra>\", \"legendgroup\": \"GO:0006813; P:potassium ion transport; IEA:InterPro.\", \"marker\": {\"color\": \"#FFA15A\"}, \"name\": \"GO:0006813; P:potassium ion transport; IEA:InterPro.\", \"offsetgroup\": \"GO:0006813; P:potassium ion transport; IEA:InterPro.\", \"orientation\": \"v\", \"showlegend\": true, \"textposition\": \"auto\", \"type\": \"bar\", \"x\": [\"Sample 101\"], \"xaxis\": \"x\", \"y\": [10126.2805517894], \"yaxis\": \"y\"}, {\"alignmentgroup\": \"True\", \"hovertemplate\": \"Function=GO:0006281; P:DNA repair; IEA:UniProtKB-KW.<br>Sample=%{x}<br>Abundance RPKs=%{y}<extra></extra>\", \"legendgroup\": \"GO:0006281; P:DNA repair; IEA:UniProtKB-KW.\", \"marker\": {\"color\": \"#19d3f3\"}, \"name\": \"GO:0006281; P:DNA repair; IEA:UniProtKB-KW.\", \"offsetgroup\": \"GO:0006281; P:DNA repair; IEA:UniProtKB-KW.\", \"orientation\": \"v\", \"showlegend\": true, \"textposition\": \"auto\", \"type\": \"bar\", \"x\": [\"Sample 101\"], \"xaxis\": \"x\", \"y\": [14507.130440841598], \"yaxis\": \"y\"}, {\"alignmentgroup\": \"True\", \"hovertemplate\": \"Function=GO:0042597; C:periplasmic space; IEA:UniProtKB-SubCell.<br>Sample=%{x}<br>Abundance RPKs=%{y}<extra></extra>\", \"legendgroup\": \"GO:0042597; C:periplasmic space; IEA:UniProtKB-SubCell.\", \"marker\": {\"color\": \"#FF6692\"}, \"name\": \"GO:0042597; C:periplasmic space; IEA:UniProtKB-SubCell.\", \"offsetgroup\": \"GO:0042597; C:periplasmic space; IEA:UniProtKB-SubCell.\", \"orientation\": \"v\", \"showlegend\": true, \"textposition\": \"auto\", \"type\": \"bar\", \"x\": [\"Sample 101\"], \"xaxis\": \"x\", \"y\": [34859.9539868415], \"yaxis\": \"y\"}, {\"alignmentgroup\": \"True\", \"hovertemplate\": \"Function=GO:0006099; P:tricarboxylic acid cycle; IEA:UniProtKB-UniRule.<br>Sample=%{x}<br>Abundance RPKs=%{y}<extra></extra>\", \"legendgroup\": \"GO:0006099; P:tricarboxylic acid cycle; IEA:UniProtKB-UniRule.\", \"marker\": {\"color\": \"#B6E880\"}, \"name\": \"GO:0006099; P:tricarboxylic acid cycle; IEA:UniProtKB-UniRule.\", \"offsetgroup\": \"GO:0006099; P:tricarboxylic acid cycle; IEA:UniProtKB-UniRule.\", \"orientation\": \"v\", \"showlegend\": true, \"textposition\": \"auto\", \"type\": \"bar\", \"x\": [\"Sample 101\"], \"xaxis\": \"x\", \"y\": [11680.9873846819], \"yaxis\": \"y\"}, {\"alignmentgroup\": \"True\", \"hovertemplate\": \"Function=GO:0032259; P:methylation; IEA:UniProtKB-KW.<br>Sample=%{x}<br>Abundance RPKs=%{y}<extra></extra>\", \"legendgroup\": \"GO:0032259; P:methylation; IEA:UniProtKB-KW.\", \"marker\": {\"color\": \"#FF97FF\"}, \"name\": \"GO:0032259; P:methylation; IEA:UniProtKB-KW.\", \"offsetgroup\": \"GO:0032259; P:methylation; IEA:UniProtKB-KW.\", \"orientation\": \"v\", \"showlegend\": true, \"textposition\": \"auto\", \"type\": \"bar\", \"x\": [\"Sample 101\"], \"xaxis\": \"x\", \"y\": [16108.297949422802], \"yaxis\": \"y\"}, {\"alignmentgroup\": \"True\", \"hovertemplate\": \"Function=GO:0005737; C:cytoplasm; IEA:UniProtKB-UniRule.<br>Sample=%{x}<br>Abundance RPKs=%{y}<extra></extra>\", \"legendgroup\": \"GO:0005737; C:cytoplasm; IEA:UniProtKB-UniRule.\", \"marker\": {\"color\": \"#FECB52\"}, \"name\": \"GO:0005737; C:cytoplasm; IEA:UniProtKB-UniRule.\", \"offsetgroup\": \"GO:0005737; C:cytoplasm; IEA:UniProtKB-UniRule.\", \"orientation\": \"v\", \"showlegend\": true, \"textposition\": \"auto\", \"type\": \"bar\", \"x\": [\"Sample 101\"], \"xaxis\": \"x\", \"y\": [13454.859794338301], \"yaxis\": \"y\"}, {\"alignmentgroup\": \"True\", \"hovertemplate\": \"Function=GO:0008137; F:NADH dehydrogenase (ubiquinone) activity; IEA:InterPro.<br>Sample=%{x}<br>Abundance RPKs=%{y}<extra></extra>\", \"legendgroup\": \"GO:0008137; F:NADH dehydrogenase (ubiquinone) activity; IEA:InterPro.\", \"marker\": {\"color\": \"#636efa\"}, \"name\": \"GO:0008137; F:NADH dehydrogenase (ubiquinone) activity; IEA:InterPro.\", \"offsetgroup\": \"GO:0008137; F:NADH dehydrogenase (ubiquinone) activity; IEA:InterPro.\", \"orientation\": \"v\", \"showlegend\": true, \"textposition\": \"auto\", \"type\": \"bar\", \"x\": [\"Sample 101\"], \"xaxis\": \"x\", \"y\": [12602.5058065726], \"yaxis\": \"y\"}, {\"alignmentgroup\": \"True\", \"hovertemplate\": \"Function=GO:0048038; F:quinone binding; IEA:UniProtKB-KW.<br>Sample=%{x}<br>Abundance RPKs=%{y}<extra></extra>\", \"legendgroup\": \"GO:0048038; F:quinone binding; IEA:UniProtKB-KW.\", \"marker\": {\"color\": \"#EF553B\"}, \"name\": \"GO:0048038; F:quinone binding; IEA:UniProtKB-KW.\", \"offsetgroup\": \"GO:0048038; F:quinone binding; IEA:UniProtKB-KW.\", \"orientation\": \"v\", \"showlegend\": true, \"textposition\": \"auto\", \"type\": \"bar\", \"x\": [\"Sample 101\"], \"xaxis\": \"x\", \"y\": [16809.228682186196], \"yaxis\": \"y\"}, {\"alignmentgroup\": \"True\", \"hovertemplate\": \"Function=GO:0009279; C:cell outer membrane; IEA:UniProtKB-SubCell.<br>Sample=%{x}<br>Abundance RPKs=%{y}<extra></extra>\", \"legendgroup\": \"GO:0009279; C:cell outer membrane; IEA:UniProtKB-SubCell.\", \"marker\": {\"color\": \"#00cc96\"}, \"name\": \"GO:0009279; C:cell outer membrane; IEA:UniProtKB-SubCell.\", \"offsetgroup\": \"GO:0009279; C:cell outer membrane; IEA:UniProtKB-SubCell.\", \"orientation\": \"v\", \"showlegend\": true, \"textposition\": \"auto\", \"type\": \"bar\", \"x\": [\"Sample 101\"], \"xaxis\": \"x\", \"y\": [23557.5440744103], \"yaxis\": \"y\"}, {\"alignmentgroup\": \"True\", \"hovertemplate\": \"Function=GO:0003824; F:catalytic activity; IEA:InterPro.<br>Sample=%{x}<br>Abundance RPKs=%{y}<extra></extra>\", \"legendgroup\": \"GO:0003824; F:catalytic activity; IEA:InterPro.\", \"marker\": {\"color\": \"#ab63fa\"}, \"name\": \"GO:0003824; F:catalytic activity; IEA:InterPro.\", \"offsetgroup\": \"GO:0003824; F:catalytic activity; IEA:InterPro.\", \"orientation\": \"v\", \"showlegend\": true, \"textposition\": \"auto\", \"type\": \"bar\", \"x\": [\"Sample 101\"], \"xaxis\": \"x\", \"y\": [13609.509207731498], \"yaxis\": \"y\"}, {\"alignmentgroup\": \"True\", \"hovertemplate\": \"Function=GO:0015031; P:protein transport; IEA:UniProtKB-KW.<br>Sample=%{x}<br>Abundance RPKs=%{y}<extra></extra>\", \"legendgroup\": \"GO:0015031; P:protein transport; IEA:UniProtKB-KW.\", \"marker\": {\"color\": \"#FFA15A\"}, \"name\": \"GO:0015031; P:protein transport; IEA:UniProtKB-KW.\", \"offsetgroup\": \"GO:0015031; P:protein transport; IEA:UniProtKB-KW.\", \"orientation\": \"v\", \"showlegend\": true, \"textposition\": \"auto\", \"type\": \"bar\", \"x\": [\"Sample 101\"], \"xaxis\": \"x\", \"y\": [10051.2296318359], \"yaxis\": \"y\"}, {\"alignmentgroup\": \"True\", \"hovertemplate\": \"Function=GO:0005623; C:cell; IEA:GOC.<br>Sample=%{x}<br>Abundance RPKs=%{y}<extra></extra>\", \"legendgroup\": \"GO:0005623; C:cell; IEA:GOC.\", \"marker\": {\"color\": \"#19d3f3\"}, \"name\": \"GO:0005623; C:cell; IEA:GOC.\", \"offsetgroup\": \"GO:0005623; C:cell; IEA:GOC.\", \"orientation\": \"v\", \"showlegend\": true, \"textposition\": \"auto\", \"type\": \"bar\", \"x\": [\"Sample 101\"], \"xaxis\": \"x\", \"y\": [13584.392115982799], \"yaxis\": \"y\"}, {\"alignmentgroup\": \"True\", \"hovertemplate\": \"Function=GO:0019380; P:3-phenylpropionate catabolic process; IEA:UniProtKB-UniPathway.<br>Sample=%{x}<br>Abundance RPKs=%{y}<extra></extra>\", \"legendgroup\": \"GO:0019380; P:3-phenylpropionate catabolic process; IEA:UniProtKB-UniPathway.\", \"marker\": {\"color\": \"#FF6692\"}, \"name\": \"GO:0019380; P:3-phenylpropionate catabolic process; IEA:UniProtKB-UniPathway.\", \"offsetgroup\": \"GO:0019380; P:3-phenylpropionate catabolic process; IEA:UniProtKB-UniPathway.\", \"orientation\": \"v\", \"showlegend\": true, \"textposition\": \"auto\", \"type\": \"bar\", \"x\": [\"Sample 101\"], \"xaxis\": \"x\", \"y\": [13615.256545745298], \"yaxis\": \"y\"}, {\"alignmentgroup\": \"True\", \"hovertemplate\": \"Function=GO:0022857; F:transmembrane transporter activity; IEA:UniProtKB-UniRule.<br>Sample=%{x}<br>Abundance RPKs=%{y}<extra></extra>\", \"legendgroup\": \"GO:0022857; F:transmembrane transporter activity; IEA:UniProtKB-UniRule.\", \"marker\": {\"color\": \"#B6E880\"}, \"name\": \"GO:0022857; F:transmembrane transporter activity; IEA:UniProtKB-UniRule.\", \"offsetgroup\": \"GO:0022857; F:transmembrane transporter activity; IEA:UniProtKB-UniRule.\", \"orientation\": \"v\", \"showlegend\": true, \"textposition\": \"auto\", \"type\": \"bar\", \"x\": [\"Sample 101\"], \"xaxis\": \"x\", \"y\": [17020.364948022703], \"yaxis\": \"y\"}, {\"alignmentgroup\": \"True\", \"hovertemplate\": \"Function=GO:0050660; F:flavin adenine dinucleotide binding; IEA:InterPro.<br>Sample=%{x}<br>Abundance RPKs=%{y}<extra></extra>\", \"legendgroup\": \"GO:0050660; F:flavin adenine dinucleotide binding; IEA:InterPro.\", \"marker\": {\"color\": \"#FF97FF\"}, \"name\": \"GO:0050660; F:flavin adenine dinucleotide binding; IEA:InterPro.\", \"offsetgroup\": \"GO:0050660; F:flavin adenine dinucleotide binding; IEA:InterPro.\", \"orientation\": \"v\", \"showlegend\": true, \"textposition\": \"auto\", \"type\": \"bar\", \"x\": [\"Sample 101\"], \"xaxis\": \"x\", \"y\": [13183.807884695998], \"yaxis\": \"y\"}, {\"alignmentgroup\": \"True\", \"hovertemplate\": \"Function=GO:0009103; P:lipopolysaccharide biosynthetic process; IEA:UniProtKB-UniPathway.<br>Sample=%{x}<br>Abundance RPKs=%{y}<extra></extra>\", \"legendgroup\": \"GO:0009103; P:lipopolysaccharide biosynthetic process; IEA:UniProtKB-UniPathway.\", \"marker\": {\"color\": \"#FECB52\"}, \"name\": \"GO:0009103; P:lipopolysaccharide biosynthetic process; IEA:UniProtKB-UniPathway.\", \"offsetgroup\": \"GO:0009103; P:lipopolysaccharide biosynthetic process; IEA:UniProtKB-UniPathway.\", \"orientation\": \"v\", \"showlegend\": true, \"textposition\": \"auto\", \"type\": \"bar\", \"x\": [\"Sample 101\"], \"xaxis\": \"x\", \"y\": [19604.3945646191], \"yaxis\": \"y\"}, {\"alignmentgroup\": \"True\", \"hovertemplate\": \"Function=GO:0046677; P:response to antibiotic; IEA:UniProtKB-KW.<br>Sample=%{x}<br>Abundance RPKs=%{y}<extra></extra>\", \"legendgroup\": \"GO:0046677; P:response to antibiotic; IEA:UniProtKB-KW.\", \"marker\": {\"color\": \"#636efa\"}, \"name\": \"GO:0046677; P:response to antibiotic; IEA:UniProtKB-KW.\", \"offsetgroup\": \"GO:0046677; P:response to antibiotic; IEA:UniProtKB-KW.\", \"orientation\": \"v\", \"showlegend\": true, \"textposition\": \"auto\", \"type\": \"bar\", \"x\": [\"Sample 101\", \"Sample 4\", \"Sample 99\", \"Sample 13\"], \"xaxis\": \"x\", \"y\": [19974.001117902404, 12117.9351377103, 12270.0978360899, 12745.137032460001], \"yaxis\": \"y\"}, {\"alignmentgroup\": \"True\", \"hovertemplate\": \"Function=GO:0009055; F:electron transfer activity; IEA:InterPro.<br>Sample=%{x}<br>Abundance RPKs=%{y}<extra></extra>\", \"legendgroup\": \"GO:0009055; F:electron transfer activity; IEA:InterPro.\", \"marker\": {\"color\": \"#EF553B\"}, \"name\": \"GO:0009055; F:electron transfer activity; IEA:InterPro.\", \"offsetgroup\": \"GO:0009055; F:electron transfer activity; IEA:InterPro.\", \"orientation\": \"v\", \"showlegend\": true, \"textposition\": \"auto\", \"type\": \"bar\", \"x\": [\"Sample 101\"], \"xaxis\": \"x\", \"y\": [22890.823406162202], \"yaxis\": \"y\"}, {\"alignmentgroup\": \"True\", \"hovertemplate\": \"Function=GO:0009246; P:enterobacterial common antigen biosynthetic process; IEA:UniProtKB-UniRule.<br>Sample=%{x}<br>Abundance RPKs=%{y}<extra></extra>\", \"legendgroup\": \"GO:0009246; P:enterobacterial common antigen biosynthetic process; IEA:UniProtKB-UniRule.\", \"marker\": {\"color\": \"#00cc96\"}, \"name\": \"GO:0009246; P:enterobacterial common antigen biosynthetic process; IEA:UniProtKB-UniRule.\", \"offsetgroup\": \"GO:0009246; P:enterobacterial common antigen biosynthetic process; IEA:UniProtKB-UniRule.\", \"orientation\": \"v\", \"showlegend\": true, \"textposition\": \"auto\", \"type\": \"bar\", \"x\": [\"Sample 101\"], \"xaxis\": \"x\", \"y\": [13688.5802746406], \"yaxis\": \"y\"}, {\"alignmentgroup\": \"True\", \"hovertemplate\": \"Function=GO:0006310; P:DNA recombination; IEA:UniProtKB-KW.<br>Sample=%{x}<br>Abundance RPKs=%{y}<extra></extra>\", \"legendgroup\": \"GO:0006310; P:DNA recombination; IEA:UniProtKB-KW.\", \"marker\": {\"color\": \"#ab63fa\"}, \"name\": \"GO:0006310; P:DNA recombination; IEA:UniProtKB-KW.\", \"offsetgroup\": \"GO:0006310; P:DNA recombination; IEA:UniProtKB-KW.\", \"orientation\": \"v\", \"showlegend\": true, \"textposition\": \"auto\", \"type\": \"bar\", \"x\": [\"Sample 101\"], \"xaxis\": \"x\", \"y\": [12379.0846447586], \"yaxis\": \"y\"}, {\"alignmentgroup\": \"True\", \"hovertemplate\": \"Function=GO:0055085; P:transmembrane transport; IEA:InterPro.<br>Sample=%{x}<br>Abundance RPKs=%{y}<extra></extra>\", \"legendgroup\": \"GO:0055085; P:transmembrane transport; IEA:InterPro.\", \"marker\": {\"color\": \"#FFA15A\"}, \"name\": \"GO:0055085; P:transmembrane transport; IEA:InterPro.\", \"offsetgroup\": \"GO:0055085; P:transmembrane transport; IEA:InterPro.\", \"orientation\": \"v\", \"showlegend\": true, \"textposition\": \"auto\", \"type\": \"bar\", \"x\": [\"Sample 101\"], \"xaxis\": \"x\", \"y\": [22937.627933535], \"yaxis\": \"y\"}, {\"alignmentgroup\": \"True\", \"hovertemplate\": \"Function=GO:0030288; C:outer membrane-bounded periplasmic space; IEA:InterPro.<br>Sample=%{x}<br>Abundance RPKs=%{y}<extra></extra>\", \"legendgroup\": \"GO:0030288; C:outer membrane-bounded periplasmic space; IEA:InterPro.\", \"marker\": {\"color\": \"#19d3f3\"}, \"name\": \"GO:0030288; C:outer membrane-bounded periplasmic space; IEA:InterPro.\", \"offsetgroup\": \"GO:0030288; C:outer membrane-bounded periplasmic space; IEA:InterPro.\", \"orientation\": \"v\", \"showlegend\": true, \"textposition\": \"auto\", \"type\": \"bar\", \"x\": [\"Sample 101\"], \"xaxis\": \"x\", \"y\": [10538.4986267222], \"yaxis\": \"y\"}, {\"alignmentgroup\": \"True\", \"hovertemplate\": \"Function=GO:0097367; F:carbohydrate derivative binding; IEA:InterPro.<br>Sample=%{x}<br>Abundance RPKs=%{y}<extra></extra>\", \"legendgroup\": \"GO:0097367; F:carbohydrate derivative binding; IEA:InterPro.\", \"marker\": {\"color\": \"#FF6692\"}, \"name\": \"GO:0097367; F:carbohydrate derivative binding; IEA:InterPro.\", \"offsetgroup\": \"GO:0097367; F:carbohydrate derivative binding; IEA:InterPro.\", \"orientation\": \"v\", \"showlegend\": true, \"textposition\": \"auto\", \"type\": \"bar\", \"x\": [\"Sample 101\"], \"xaxis\": \"x\", \"y\": [11954.047318436002], \"yaxis\": \"y\"}, {\"alignmentgroup\": \"True\", \"hovertemplate\": \"Function=GO:0016491; F:oxidoreductase activity; IEA:UniProtKB-KW.<br>Sample=%{x}<br>Abundance RPKs=%{y}<extra></extra>\", \"legendgroup\": \"GO:0016491; F:oxidoreductase activity; IEA:UniProtKB-KW.\", \"marker\": {\"color\": \"#B6E880\"}, \"name\": \"GO:0016491; F:oxidoreductase activity; IEA:UniProtKB-KW.\", \"offsetgroup\": \"GO:0016491; F:oxidoreductase activity; IEA:UniProtKB-KW.\", \"orientation\": \"v\", \"showlegend\": true, \"textposition\": \"auto\", \"type\": \"bar\", \"x\": [\"Sample 101\"], \"xaxis\": \"x\", \"y\": [15984.177022010499], \"yaxis\": \"y\"}, {\"alignmentgroup\": \"True\", \"hovertemplate\": \"Function=GO:0003700; F:DNA-binding transcription factor activity; IEA:InterPro.<br>Sample=%{x}<br>Abundance RPKs=%{y}<extra></extra>\", \"legendgroup\": \"GO:0003700; F:DNA-binding transcription factor activity; IEA:InterPro.\", \"marker\": {\"color\": \"#FF97FF\"}, \"name\": \"GO:0003700; F:DNA-binding transcription factor activity; IEA:InterPro.\", \"offsetgroup\": \"GO:0003700; F:DNA-binding transcription factor activity; IEA:InterPro.\", \"orientation\": \"v\", \"showlegend\": true, \"textposition\": \"auto\", \"type\": \"bar\", \"x\": [\"Sample 101\"], \"xaxis\": \"x\", \"y\": [13703.7650453439], \"yaxis\": \"y\"}, {\"alignmentgroup\": \"True\", \"hovertemplate\": \"Function=GO:0005886; C:plasma membrane; IDA:EcoCyc.<br>Sample=%{x}<br>Abundance RPKs=%{y}<extra></extra>\", \"legendgroup\": \"GO:0005886; C:plasma membrane; IDA:EcoCyc.\", \"marker\": {\"color\": \"#FECB52\"}, \"name\": \"GO:0005886; C:plasma membrane; IDA:EcoCyc.\", \"offsetgroup\": \"GO:0005886; C:plasma membrane; IDA:EcoCyc.\", \"orientation\": \"v\", \"showlegend\": true, \"textposition\": \"auto\", \"type\": \"bar\", \"x\": [\"Sample 101\", \"Sample 13\"], \"xaxis\": \"x\", \"y\": [95671.14708177683, 17348.181281170902], \"yaxis\": \"y\"}, {\"alignmentgroup\": \"True\", \"hovertemplate\": \"Function=GO:0042802; F:identical protein binding; IPI:IntAct.<br>Sample=%{x}<br>Abundance RPKs=%{y}<extra></extra>\", \"legendgroup\": \"GO:0042802; F:identical protein binding; IPI:IntAct.\", \"marker\": {\"color\": \"#636efa\"}, \"name\": \"GO:0042802; F:identical protein binding; IPI:IntAct.\", \"offsetgroup\": \"GO:0042802; F:identical protein binding; IPI:IntAct.\", \"orientation\": \"v\", \"showlegend\": true, \"textposition\": \"auto\", \"type\": \"bar\", \"x\": [\"Sample 101\"], \"xaxis\": \"x\", \"y\": [18573.4360795032], \"yaxis\": \"y\"}, {\"alignmentgroup\": \"True\", \"hovertemplate\": \"Function=GO:0005829; C:cytosol; IDA:EcoCyc.<br>Sample=%{x}<br>Abundance RPKs=%{y}<extra></extra>\", \"legendgroup\": \"GO:0005829; C:cytosol; IDA:EcoCyc.\", \"marker\": {\"color\": \"#EF553B\"}, \"name\": \"GO:0005829; C:cytosol; IDA:EcoCyc.\", \"offsetgroup\": \"GO:0005829; C:cytosol; IDA:EcoCyc.\", \"orientation\": \"v\", \"showlegend\": true, \"textposition\": \"auto\", \"type\": \"bar\", \"x\": [\"Sample 101\", \"Sample 13\"], \"xaxis\": \"x\", \"y\": [52552.8614377077, 10060.1892735772], \"yaxis\": \"y\"}, {\"alignmentgroup\": \"True\", \"hovertemplate\": \"Function=GO:0030288; C:outer membrane-bounded periplasmic space; IDA:EcoCyc.<br>Sample=%{x}<br>Abundance RPKs=%{y}<extra></extra>\", \"legendgroup\": \"GO:0030288; C:outer membrane-bounded periplasmic space; IDA:EcoCyc.\", \"marker\": {\"color\": \"#00cc96\"}, \"name\": \"GO:0030288; C:outer membrane-bounded periplasmic space; IDA:EcoCyc.\", \"offsetgroup\": \"GO:0030288; C:outer membrane-bounded periplasmic space; IDA:EcoCyc.\", \"orientation\": \"v\", \"showlegend\": true, \"textposition\": \"auto\", \"type\": \"bar\", \"x\": [\"Sample 101\"], \"xaxis\": \"x\", \"y\": [11128.7168667989], \"yaxis\": \"y\"}, {\"alignmentgroup\": \"True\", \"hovertemplate\": \"Function=GO:0009279; C:cell outer membrane; IDA:EcoCyc.<br>Sample=%{x}<br>Abundance RPKs=%{y}<extra></extra>\", \"legendgroup\": \"GO:0009279; C:cell outer membrane; IDA:EcoCyc.\", \"marker\": {\"color\": \"#ab63fa\"}, \"name\": \"GO:0009279; C:cell outer membrane; IDA:EcoCyc.\", \"offsetgroup\": \"GO:0009279; C:cell outer membrane; IDA:EcoCyc.\", \"orientation\": \"v\", \"showlegend\": true, \"textposition\": \"auto\", \"type\": \"bar\", \"x\": [\"Sample 101\"], \"xaxis\": \"x\", \"y\": [12869.237636930202], \"yaxis\": \"y\"}, {\"alignmentgroup\": \"True\", \"hovertemplate\": \"Function=GO:0006974; P:cellular response to DNA damage stimulus; IEP:EcoliWiki.<br>Sample=%{x}<br>Abundance RPKs=%{y}<extra></extra>\", \"legendgroup\": \"GO:0006974; P:cellular response to DNA damage stimulus; IEP:EcoliWiki.\", \"marker\": {\"color\": \"#FFA15A\"}, \"name\": \"GO:0006974; P:cellular response to DNA damage stimulus; IEP:EcoliWiki.\", \"offsetgroup\": \"GO:0006974; P:cellular response to DNA damage stimulus; IEP:EcoliWiki.\", \"orientation\": \"v\", \"showlegend\": true, \"textposition\": \"auto\", \"type\": \"bar\", \"x\": [\"Sample 101\"], \"xaxis\": \"x\", \"y\": [19807.9718592474], \"yaxis\": \"y\"}, {\"alignmentgroup\": \"True\", \"hovertemplate\": \"Function=GO:0005737; C:cytoplasm; IBA:GO_Central.<br>Sample=%{x}<br>Abundance RPKs=%{y}<extra></extra>\", \"legendgroup\": \"GO:0005737; C:cytoplasm; IBA:GO_Central.\", \"marker\": {\"color\": \"#19d3f3\"}, \"name\": \"GO:0005737; C:cytoplasm; IBA:GO_Central.\", \"offsetgroup\": \"GO:0005737; C:cytoplasm; IBA:GO_Central.\", \"orientation\": \"v\", \"showlegend\": true, \"textposition\": \"auto\", \"type\": \"bar\", \"x\": [\"Sample 101\"], \"xaxis\": \"x\", \"y\": [19082.215222354702], \"yaxis\": \"y\"}, {\"alignmentgroup\": \"True\", \"hovertemplate\": \"Function=GO:0005887; C:integral component of plasma membrane; IDA:EcoCyc.<br>Sample=%{x}<br>Abundance RPKs=%{y}<extra></extra>\", \"legendgroup\": \"GO:0005887; C:integral component of plasma membrane; IDA:EcoCyc.\", \"marker\": {\"color\": \"#FF6692\"}, \"name\": \"GO:0005887; C:integral component of plasma membrane; IDA:EcoCyc.\", \"offsetgroup\": \"GO:0005887; C:integral component of plasma membrane; IDA:EcoCyc.\", \"orientation\": \"v\", \"showlegend\": true, \"textposition\": \"auto\", \"type\": \"bar\", \"x\": [\"Sample 101\"], \"xaxis\": \"x\", \"y\": [11577.6149102193], \"yaxis\": \"y\"}, {\"alignmentgroup\": \"True\", \"hovertemplate\": \"Function=GO:0006979; P:response to oxidative stress; IMP:EcoCyc.<br>Sample=%{x}<br>Abundance RPKs=%{y}<extra></extra>\", \"legendgroup\": \"GO:0006979; P:response to oxidative stress; IMP:EcoCyc.\", \"marker\": {\"color\": \"#B6E880\"}, \"name\": \"GO:0006979; P:response to oxidative stress; IMP:EcoCyc.\", \"offsetgroup\": \"GO:0006979; P:response to oxidative stress; IMP:EcoCyc.\", \"orientation\": \"v\", \"showlegend\": true, \"textposition\": \"auto\", \"type\": \"bar\", \"x\": [\"Sample 101\"], \"xaxis\": \"x\", \"y\": [14806.6779552349], \"yaxis\": \"y\"}, {\"alignmentgroup\": \"True\", \"hovertemplate\": \"Function=GO:0005829; C:cytosol; IBA:GO_Central.<br>Sample=%{x}<br>Abundance RPKs=%{y}<extra></extra>\", \"legendgroup\": \"GO:0005829; C:cytosol; IBA:GO_Central.\", \"marker\": {\"color\": \"#FF97FF\"}, \"name\": \"GO:0005829; C:cytosol; IBA:GO_Central.\", \"offsetgroup\": \"GO:0005829; C:cytosol; IBA:GO_Central.\", \"orientation\": \"v\", \"showlegend\": true, \"textposition\": \"auto\", \"type\": \"bar\", \"x\": [\"Sample 101\", \"Sample 16\", \"Sample 4\"], \"xaxis\": \"x\", \"y\": [22589.2685930436, 15656.10838241, 14702.899474971204], \"yaxis\": \"y\"}, {\"alignmentgroup\": \"True\", \"hovertemplate\": \"Function=GO:0005887; C:integral component of plasma membrane; IBA:GO_Central.<br>Sample=%{x}<br>Abundance RPKs=%{y}<extra></extra>\", \"legendgroup\": \"GO:0005887; C:integral component of plasma membrane; IBA:GO_Central.\", \"marker\": {\"color\": \"#FECB52\"}, \"name\": \"GO:0005887; C:integral component of plasma membrane; IBA:GO_Central.\", \"offsetgroup\": \"GO:0005887; C:integral component of plasma membrane; IBA:GO_Central.\", \"orientation\": \"v\", \"showlegend\": true, \"textposition\": \"auto\", \"type\": \"bar\", \"x\": [\"Sample 101\"], \"xaxis\": \"x\", \"y\": [10684.2031462634], \"yaxis\": \"y\"}, {\"alignmentgroup\": \"True\", \"hovertemplate\": \"Function=GO:0005887; C:integral component of plasma membrane; ISM:EcoCyc.<br>Sample=%{x}<br>Abundance RPKs=%{y}<extra></extra>\", \"legendgroup\": \"GO:0005887; C:integral component of plasma membrane; ISM:EcoCyc.\", \"marker\": {\"color\": \"#636efa\"}, \"name\": \"GO:0005887; C:integral component of plasma membrane; ISM:EcoCyc.\", \"offsetgroup\": \"GO:0005887; C:integral component of plasma membrane; ISM:EcoCyc.\", \"orientation\": \"v\", \"showlegend\": true, \"textposition\": \"auto\", \"type\": \"bar\", \"x\": [\"Sample 101\"], \"xaxis\": \"x\", \"y\": [13403.576232263598], \"yaxis\": \"y\"}, {\"alignmentgroup\": \"True\", \"hovertemplate\": \"Function=GO:0043709; P:cell adhesion involved in single-species biofilm formation; IMP:EcoCyc.<br>Sample=%{x}<br>Abundance RPKs=%{y}<extra></extra>\", \"legendgroup\": \"GO:0043709; P:cell adhesion involved in single-species biofilm formation; IMP:EcoCyc.\", \"marker\": {\"color\": \"#EF553B\"}, \"name\": \"GO:0043709; P:cell adhesion involved in single-species biofilm formation; IMP:EcoCyc.\", \"offsetgroup\": \"GO:0043709; P:cell adhesion involved in single-species biofilm formation; IMP:EcoCyc.\", \"orientation\": \"v\", \"showlegend\": true, \"textposition\": \"auto\", \"type\": \"bar\", \"x\": [\"Sample 101\"], \"xaxis\": \"x\", \"y\": [10512.8155909289], \"yaxis\": \"y\"}, {\"alignmentgroup\": \"True\", \"hovertemplate\": \"Function=GO:0043711; P:pilus organization; IBA:GO_Central.<br>Sample=%{x}<br>Abundance RPKs=%{y}<extra></extra>\", \"legendgroup\": \"GO:0043711; P:pilus organization; IBA:GO_Central.\", \"marker\": {\"color\": \"#00cc96\"}, \"name\": \"GO:0043711; P:pilus organization; IBA:GO_Central.\", \"offsetgroup\": \"GO:0043711; P:pilus organization; IBA:GO_Central.\", \"orientation\": \"v\", \"showlegend\": true, \"textposition\": \"auto\", \"type\": \"bar\", \"x\": [\"Sample 101\"], \"xaxis\": \"x\", \"y\": [12931.280586489098], \"yaxis\": \"y\"}, {\"alignmentgroup\": \"True\", \"hovertemplate\": \"Function=GO:0006412; P:translation; IEA:UniProtKB-KW.<br>Sample=%{x}<br>Abundance RPKs=%{y}<extra></extra>\", \"legendgroup\": \"GO:0006412; P:translation; IEA:UniProtKB-KW.\", \"marker\": {\"color\": \"#ab63fa\"}, \"name\": \"GO:0006412; P:translation; IEA:UniProtKB-KW.\", \"offsetgroup\": \"GO:0006412; P:translation; IEA:UniProtKB-KW.\", \"orientation\": \"v\", \"showlegend\": true, \"textposition\": \"auto\", \"type\": \"bar\", \"x\": [\"Sample 99\"], \"xaxis\": \"x\", \"y\": [10527.7994447454], \"yaxis\": \"y\"}],\n",
       "                        {\"barmode\": \"relative\", \"legend\": {\"title\": {\"text\": \"Function\"}, \"tracegroupgap\": 0}, \"margin\": {\"t\": 60}, \"showlegend\": false, \"template\": {\"data\": {\"bar\": [{\"error_x\": {\"color\": \"#2a3f5f\"}, \"error_y\": {\"color\": \"#2a3f5f\"}, \"marker\": {\"line\": {\"color\": \"#E5ECF6\", \"width\": 0.5}}, \"type\": \"bar\"}], \"barpolar\": [{\"marker\": {\"line\": {\"color\": \"#E5ECF6\", \"width\": 0.5}}, \"type\": \"barpolar\"}], \"carpet\": [{\"aaxis\": {\"endlinecolor\": \"#2a3f5f\", \"gridcolor\": \"white\", \"linecolor\": \"white\", \"minorgridcolor\": \"white\", \"startlinecolor\": \"#2a3f5f\"}, \"baxis\": {\"endlinecolor\": \"#2a3f5f\", \"gridcolor\": \"white\", \"linecolor\": \"white\", \"minorgridcolor\": \"white\", \"startlinecolor\": \"#2a3f5f\"}, \"type\": \"carpet\"}], \"choropleth\": [{\"colorbar\": {\"outlinewidth\": 0, \"ticks\": \"\"}, \"type\": \"choropleth\"}], \"contour\": [{\"colorbar\": {\"outlinewidth\": 0, \"ticks\": \"\"}, \"colorscale\": [[0.0, \"#0d0887\"], [0.1111111111111111, \"#46039f\"], [0.2222222222222222, \"#7201a8\"], [0.3333333333333333, \"#9c179e\"], [0.4444444444444444, \"#bd3786\"], [0.5555555555555556, \"#d8576b\"], [0.6666666666666666, \"#ed7953\"], [0.7777777777777778, \"#fb9f3a\"], [0.8888888888888888, \"#fdca26\"], [1.0, \"#f0f921\"]], \"type\": \"contour\"}], \"contourcarpet\": [{\"colorbar\": {\"outlinewidth\": 0, \"ticks\": \"\"}, \"type\": \"contourcarpet\"}], \"heatmap\": [{\"colorbar\": {\"outlinewidth\": 0, \"ticks\": \"\"}, \"colorscale\": [[0.0, \"#0d0887\"], [0.1111111111111111, \"#46039f\"], [0.2222222222222222, \"#7201a8\"], [0.3333333333333333, \"#9c179e\"], [0.4444444444444444, \"#bd3786\"], [0.5555555555555556, \"#d8576b\"], [0.6666666666666666, \"#ed7953\"], [0.7777777777777778, \"#fb9f3a\"], [0.8888888888888888, \"#fdca26\"], [1.0, \"#f0f921\"]], \"type\": \"heatmap\"}], \"heatmapgl\": [{\"colorbar\": {\"outlinewidth\": 0, \"ticks\": \"\"}, \"colorscale\": [[0.0, \"#0d0887\"], [0.1111111111111111, \"#46039f\"], [0.2222222222222222, \"#7201a8\"], [0.3333333333333333, \"#9c179e\"], [0.4444444444444444, \"#bd3786\"], [0.5555555555555556, \"#d8576b\"], [0.6666666666666666, \"#ed7953\"], [0.7777777777777778, \"#fb9f3a\"], [0.8888888888888888, \"#fdca26\"], [1.0, \"#f0f921\"]], \"type\": \"heatmapgl\"}], \"histogram\": [{\"marker\": {\"colorbar\": {\"outlinewidth\": 0, \"ticks\": \"\"}}, \"type\": \"histogram\"}], \"histogram2d\": [{\"colorbar\": {\"outlinewidth\": 0, \"ticks\": \"\"}, \"colorscale\": [[0.0, \"#0d0887\"], [0.1111111111111111, \"#46039f\"], [0.2222222222222222, \"#7201a8\"], [0.3333333333333333, \"#9c179e\"], [0.4444444444444444, \"#bd3786\"], [0.5555555555555556, \"#d8576b\"], [0.6666666666666666, \"#ed7953\"], [0.7777777777777778, \"#fb9f3a\"], [0.8888888888888888, \"#fdca26\"], [1.0, \"#f0f921\"]], \"type\": \"histogram2d\"}], \"histogram2dcontour\": [{\"colorbar\": {\"outlinewidth\": 0, \"ticks\": \"\"}, \"colorscale\": [[0.0, \"#0d0887\"], [0.1111111111111111, \"#46039f\"], [0.2222222222222222, \"#7201a8\"], [0.3333333333333333, \"#9c179e\"], [0.4444444444444444, \"#bd3786\"], [0.5555555555555556, \"#d8576b\"], [0.6666666666666666, \"#ed7953\"], [0.7777777777777778, \"#fb9f3a\"], [0.8888888888888888, \"#fdca26\"], [1.0, \"#f0f921\"]], \"type\": \"histogram2dcontour\"}], \"mesh3d\": [{\"colorbar\": {\"outlinewidth\": 0, \"ticks\": \"\"}, \"type\": \"mesh3d\"}], \"parcoords\": [{\"line\": {\"colorbar\": {\"outlinewidth\": 0, \"ticks\": \"\"}}, \"type\": \"parcoords\"}], \"pie\": [{\"automargin\": true, \"type\": \"pie\"}], \"scatter\": [{\"marker\": {\"colorbar\": {\"outlinewidth\": 0, \"ticks\": \"\"}}, \"type\": \"scatter\"}], \"scatter3d\": [{\"line\": {\"colorbar\": {\"outlinewidth\": 0, \"ticks\": \"\"}}, \"marker\": {\"colorbar\": {\"outlinewidth\": 0, \"ticks\": \"\"}}, \"type\": \"scatter3d\"}], \"scattercarpet\": [{\"marker\": {\"colorbar\": {\"outlinewidth\": 0, \"ticks\": \"\"}}, \"type\": \"scattercarpet\"}], \"scattergeo\": [{\"marker\": {\"colorbar\": {\"outlinewidth\": 0, \"ticks\": \"\"}}, \"type\": \"scattergeo\"}], \"scattergl\": [{\"marker\": {\"colorbar\": {\"outlinewidth\": 0, \"ticks\": \"\"}}, \"type\": \"scattergl\"}], \"scattermapbox\": [{\"marker\": {\"colorbar\": {\"outlinewidth\": 0, \"ticks\": \"\"}}, \"type\": \"scattermapbox\"}], \"scatterpolar\": [{\"marker\": {\"colorbar\": {\"outlinewidth\": 0, \"ticks\": \"\"}}, \"type\": \"scatterpolar\"}], \"scatterpolargl\": [{\"marker\": {\"colorbar\": {\"outlinewidth\": 0, \"ticks\": \"\"}}, \"type\": \"scatterpolargl\"}], \"scatterternary\": [{\"marker\": {\"colorbar\": {\"outlinewidth\": 0, \"ticks\": \"\"}}, \"type\": \"scatterternary\"}], \"surface\": [{\"colorbar\": {\"outlinewidth\": 0, \"ticks\": \"\"}, \"colorscale\": [[0.0, \"#0d0887\"], [0.1111111111111111, \"#46039f\"], [0.2222222222222222, \"#7201a8\"], [0.3333333333333333, \"#9c179e\"], [0.4444444444444444, \"#bd3786\"], [0.5555555555555556, \"#d8576b\"], [0.6666666666666666, \"#ed7953\"], [0.7777777777777778, \"#fb9f3a\"], [0.8888888888888888, \"#fdca26\"], [1.0, \"#f0f921\"]], \"type\": \"surface\"}], \"table\": [{\"cells\": {\"fill\": {\"color\": \"#EBF0F8\"}, \"line\": {\"color\": \"white\"}}, \"header\": {\"fill\": {\"color\": \"#C8D4E3\"}, \"line\": {\"color\": \"white\"}}, \"type\": \"table\"}]}, \"layout\": {\"annotationdefaults\": {\"arrowcolor\": \"#2a3f5f\", \"arrowhead\": 0, \"arrowwidth\": 1}, \"coloraxis\": {\"colorbar\": {\"outlinewidth\": 0, \"ticks\": \"\"}}, \"colorscale\": {\"diverging\": [[0, \"#8e0152\"], [0.1, \"#c51b7d\"], [0.2, \"#de77ae\"], [0.3, \"#f1b6da\"], [0.4, \"#fde0ef\"], [0.5, \"#f7f7f7\"], [0.6, \"#e6f5d0\"], [0.7, \"#b8e186\"], [0.8, \"#7fbc41\"], [0.9, \"#4d9221\"], [1, \"#276419\"]], \"sequential\": [[0.0, \"#0d0887\"], [0.1111111111111111, \"#46039f\"], [0.2222222222222222, \"#7201a8\"], [0.3333333333333333, \"#9c179e\"], [0.4444444444444444, \"#bd3786\"], [0.5555555555555556, \"#d8576b\"], [0.6666666666666666, \"#ed7953\"], [0.7777777777777778, \"#fb9f3a\"], [0.8888888888888888, \"#fdca26\"], [1.0, \"#f0f921\"]], \"sequentialminus\": [[0.0, \"#0d0887\"], [0.1111111111111111, \"#46039f\"], [0.2222222222222222, \"#7201a8\"], [0.3333333333333333, \"#9c179e\"], [0.4444444444444444, \"#bd3786\"], [0.5555555555555556, \"#d8576b\"], [0.6666666666666666, \"#ed7953\"], [0.7777777777777778, \"#fb9f3a\"], [0.8888888888888888, \"#fdca26\"], [1.0, \"#f0f921\"]]}, \"colorway\": [\"#636efa\", \"#EF553B\", \"#00cc96\", \"#ab63fa\", \"#FFA15A\", \"#19d3f3\", \"#FF6692\", \"#B6E880\", \"#FF97FF\", \"#FECB52\"], \"font\": {\"color\": \"#2a3f5f\"}, \"geo\": {\"bgcolor\": \"white\", \"lakecolor\": \"white\", \"landcolor\": \"#E5ECF6\", \"showlakes\": true, \"showland\": true, \"subunitcolor\": \"white\"}, \"hoverlabel\": {\"align\": \"left\"}, \"hovermode\": \"closest\", \"mapbox\": {\"style\": \"light\"}, \"paper_bgcolor\": \"white\", \"plot_bgcolor\": \"#E5ECF6\", \"polar\": {\"angularaxis\": {\"gridcolor\": \"white\", \"linecolor\": \"white\", \"ticks\": \"\"}, \"bgcolor\": \"#E5ECF6\", \"radialaxis\": {\"gridcolor\": \"white\", \"linecolor\": \"white\", \"ticks\": \"\"}}, \"scene\": {\"xaxis\": {\"backgroundcolor\": \"#E5ECF6\", \"gridcolor\": \"white\", \"gridwidth\": 2, \"linecolor\": \"white\", \"showbackground\": true, \"ticks\": \"\", \"zerolinecolor\": \"white\"}, \"yaxis\": {\"backgroundcolor\": \"#E5ECF6\", \"gridcolor\": \"white\", \"gridwidth\": 2, \"linecolor\": \"white\", \"showbackground\": true, \"ticks\": \"\", \"zerolinecolor\": \"white\"}, \"zaxis\": {\"backgroundcolor\": \"#E5ECF6\", \"gridcolor\": \"white\", \"gridwidth\": 2, \"linecolor\": \"white\", \"showbackground\": true, \"ticks\": \"\", \"zerolinecolor\": \"white\"}}, \"shapedefaults\": {\"line\": {\"color\": \"#2a3f5f\"}}, \"ternary\": {\"aaxis\": {\"gridcolor\": \"white\", \"linecolor\": \"white\", \"ticks\": \"\"}, \"baxis\": {\"gridcolor\": \"white\", \"linecolor\": \"white\", \"ticks\": \"\"}, \"bgcolor\": \"#E5ECF6\", \"caxis\": {\"gridcolor\": \"white\", \"linecolor\": \"white\", \"ticks\": \"\"}}, \"title\": {\"x\": 0.05}, \"xaxis\": {\"automargin\": true, \"gridcolor\": \"white\", \"linecolor\": \"white\", \"ticks\": \"\", \"title\": {\"standoff\": 15}, \"zerolinecolor\": \"white\", \"zerolinewidth\": 2}, \"yaxis\": {\"automargin\": true, \"gridcolor\": \"white\", \"linecolor\": \"white\", \"ticks\": \"\", \"title\": {\"standoff\": 15}, \"zerolinecolor\": \"white\", \"zerolinewidth\": 2}}}, \"xaxis\": {\"anchor\": \"y\", \"domain\": [0.0, 1.0], \"title\": {\"text\": \"Sample\"}}, \"yaxis\": {\"anchor\": \"x\", \"domain\": [0.0, 1.0], \"title\": {\"text\": \"Abundance RPKs\"}}},\n",
       "                        {\"responsive\": true}\n",
       "                    ).then(function(){\n",
       "                            \n",
       "var gd = document.getElementById('b99393f9-27a5-4322-9485-ef9117219f33');\n",
       "var x = new MutationObserver(function (mutations, observer) {{\n",
       "        var display = window.getComputedStyle(gd).display;\n",
       "        if (!display || display === 'none') {{\n",
       "            console.log([gd, 'removed!']);\n",
       "            Plotly.purge(gd);\n",
       "            observer.disconnect();\n",
       "        }}\n",
       "}});\n",
       "\n",
       "// Listen for the removal of the full notebook cells\n",
       "var notebookContainer = gd.closest('#notebook-container');\n",
       "if (notebookContainer) {{\n",
       "    x.observe(notebookContainer, {childList: true});\n",
       "}}\n",
       "\n",
       "// Listen for the clearing of the current output cell\n",
       "var outputEl = gd.closest('.output');\n",
       "if (outputEl) {{\n",
       "    x.observe(outputEl, {childList: true});\n",
       "}}\n",
       "\n",
       "                        })\n",
       "                };\n",
       "                });\n",
       "            </script>\n",
       "        </div>"
      ]
     },
     "metadata": {},
     "output_type": "display_data"
    }
   ],
   "source": [
    "fig = px.bar(df, x=\"Sample\", y=\"Abundance RPKs\", color='Function')\n",
    "fig.update_layout(showlegend=False)\n",
    "fig.write_html(\"humann2.html\")\n",
    "fig.show()\n"
   ]
  },
  {
   "cell_type": "code",
   "execution_count": null,
   "metadata": {},
   "outputs": [],
   "source": []
  }
 ],
 "metadata": {
  "kernelspec": {
   "display_name": "Python 3",
   "language": "python",
   "name": "python3"
  },
  "language_info": {
   "codemirror_mode": {
    "name": "ipython",
    "version": 3
   },
   "file_extension": ".py",
   "mimetype": "text/x-python",
   "name": "python",
   "nbconvert_exporter": "python",
   "pygments_lexer": "ipython3",
   "version": "3.7.6"
  }
 },
 "nbformat": 4,
 "nbformat_minor": 4
}
