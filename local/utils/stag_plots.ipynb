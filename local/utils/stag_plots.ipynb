{
 "cells": [
  {
   "cell_type": "code",
   "execution_count": 12,
   "metadata": {},
   "outputs": [],
   "source": [
    "import plotly.express as px\n",
    "import pandas as pd\n"
   ]
  },
  {
   "cell_type": "code",
   "execution_count": 13,
   "metadata": {},
   "outputs": [],
   "source": [
    "# data as stacked bar charts\n",
    "data = {\n",
    "    \"Organism\": [],\n",
    "    \"Read Count\": [],\n",
    "    \"Sample\": []\n",
    "}\n",
    "samples = []\n",
    "min_reads = 0\n",
    "total_others = []\n",
    "\n",
    "with open('kraken2.csv', 'r') as f:\n",
    "    raw_data = f.read().split(\"\\n\")\n",
    "    \n",
    "    samples = [\"Sample \"+x for x in raw_data[0].split(\",\") if x != \"\"]\n",
    "    for s in samples:\n",
    "        total_others.append(0)\n",
    "    \n",
    "    for r in raw_data[1:]:\n",
    "        do_add = False\n",
    "        tmp_new = [0 for s in samples]\n",
    "        \n",
    "        tmp_r = r.split(\",\")\n",
    "        if len(tmp_r) > 1: # dealing with the last row\n",
    "            org = \"|\".join([x for x in tmp_r[:-len(samples)] if x != \"-\"])\n",
    "\n",
    "            for i in range(0, len(samples)):\n",
    "                tmp_new[i] = tmp_r[-len(samples)+i]\n",
    "                \n",
    "                if tmp_new[i] != \"NaN\" and int(tmp_new[i]) >= min_reads:\n",
    "                    do_add = True\n",
    "                \n",
    "            if do_add:\n",
    "                for i in range(0, len(samples)):\n",
    "                    data[\"Organism\"].append(org)\n",
    "                    data[\"Read Count\"].append(tmp_new[i])\n",
    "                    data[\"Sample\"].append(samples[i])\n",
    "            else:\n",
    "                for i in range(0, len(samples)):\n",
    "                    if tmp_new[i] != \"NaN\":\n",
    "                        total_others[i] += int(tmp_new[i])\n",
    "    \n",
    "for i in range(0, len(samples)):\n",
    "    data[\"Organism\"].append(\"other\")\n",
    "    data[\"Read Count\"].append(total_others[i])\n",
    "    data[\"Sample\"].append(samples[i])\n",
    "    \n",
    "df = pd.DataFrame.from_dict(data)\n",
    "df[\"Read Count\"] = df[\"Read Count\"].astype(float)\n"
   ]
  },
  {
   "cell_type": "code",
   "execution_count": 15,
   "metadata": {},
   "outputs": [
    {
     "data": {
      "application/vnd.plotly.v1+json": {
       "config": {
        "plotlyServerURL": "https://plot.ly"
       },
       "data": [
        {
         "alignmentgroup": "True",
         "hovertemplate": "Organism=Nitrospira<br>Sample=%{x}<br>Read Count=%{y}<extra></extra>",
         "legendgroup": "Nitrospira",
         "marker": {
          "color": "#636efa"
         },
         "name": "Nitrospira",
         "offsetgroup": "Nitrospira",
         "orientation": "v",
         "showlegend": true,
         "textposition": "auto",
         "type": "bar",
         "x": [
          "Sample 104",
          "Sample 1",
          "Sample 16",
          "Sample 97",
          "Sample 13",
          "Sample 15",
          "Sample 101",
          "Sample 3",
          "Sample 4",
          "Sample 98",
          "Sample 14",
          "Sample 103",
          "Sample 100",
          "Sample 2",
          "Sample 99"
         ],
         "xaxis": "x",
         "y": [
          null,
          4,
          4,
          9,
          11,
          6,
          null,
          4,
          8,
          7,
          22,
          null,
          16,
          24,
          16
         ],
         "yaxis": "y"
        },
        {
         "alignmentgroup": "True",
         "hovertemplate": "Organism=Fibrobacteres<br>Sample=%{x}<br>Read Count=%{y}<extra></extra>",
         "legendgroup": "Fibrobacteres",
         "marker": {
          "color": "#EF553B"
         },
         "name": "Fibrobacteres",
         "offsetgroup": "Fibrobacteres",
         "orientation": "v",
         "showlegend": true,
         "textposition": "auto",
         "type": "bar",
         "x": [
          "Sample 104",
          "Sample 1",
          "Sample 16",
          "Sample 97",
          "Sample 13",
          "Sample 15",
          "Sample 101",
          "Sample 3",
          "Sample 4",
          "Sample 98",
          "Sample 14",
          "Sample 103",
          "Sample 100",
          "Sample 2",
          "Sample 99"
         ],
         "xaxis": "x",
         "y": [
          14,
          40,
          59,
          70,
          303,
          146,
          27,
          378,
          92,
          65,
          441,
          71,
          628,
          255,
          243
         ],
         "yaxis": "y"
        },
        {
         "alignmentgroup": "True",
         "hovertemplate": "Organism=Nitrospinae<br>Sample=%{x}<br>Read Count=%{y}<extra></extra>",
         "legendgroup": "Nitrospinae",
         "marker": {
          "color": "#00cc96"
         },
         "name": "Nitrospinae",
         "offsetgroup": "Nitrospinae",
         "orientation": "v",
         "showlegend": true,
         "textposition": "auto",
         "type": "bar",
         "x": [
          "Sample 104",
          "Sample 1",
          "Sample 16",
          "Sample 97",
          "Sample 13",
          "Sample 15",
          "Sample 101",
          "Sample 3",
          "Sample 4",
          "Sample 98",
          "Sample 14",
          "Sample 103",
          "Sample 100",
          "Sample 2",
          "Sample 99"
         ],
         "xaxis": "x",
         "y": [
          null,
          1,
          1,
          1,
          6,
          2,
          null,
          2,
          null,
          1,
          null,
          null,
          1,
          null,
          1
         ],
         "yaxis": "y"
        },
        {
         "alignmentgroup": "True",
         "hovertemplate": "Organism=Thermotogae<br>Sample=%{x}<br>Read Count=%{y}<extra></extra>",
         "legendgroup": "Thermotogae",
         "marker": {
          "color": "#ab63fa"
         },
         "name": "Thermotogae",
         "offsetgroup": "Thermotogae",
         "orientation": "v",
         "showlegend": true,
         "textposition": "auto",
         "type": "bar",
         "x": [
          "Sample 104",
          "Sample 1",
          "Sample 16",
          "Sample 97",
          "Sample 13",
          "Sample 15",
          "Sample 101",
          "Sample 3",
          "Sample 4",
          "Sample 98",
          "Sample 14",
          "Sample 103",
          "Sample 100",
          "Sample 2",
          "Sample 99"
         ],
         "xaxis": "x",
         "y": [
          5,
          30,
          9,
          39,
          64,
          18,
          6,
          16,
          146,
          26,
          41,
          5,
          67,
          78,
          47
         ],
         "yaxis": "y"
        },
        {
         "alignmentgroup": "True",
         "hovertemplate": "Organism=Elusimicrobia<br>Sample=%{x}<br>Read Count=%{y}<extra></extra>",
         "legendgroup": "Elusimicrobia",
         "marker": {
          "color": "#FFA15A"
         },
         "name": "Elusimicrobia",
         "offsetgroup": "Elusimicrobia",
         "orientation": "v",
         "showlegend": true,
         "textposition": "auto",
         "type": "bar",
         "x": [
          "Sample 104",
          "Sample 1",
          "Sample 16",
          "Sample 97",
          "Sample 13",
          "Sample 15",
          "Sample 101",
          "Sample 3",
          "Sample 4",
          "Sample 98",
          "Sample 14",
          "Sample 103",
          "Sample 100",
          "Sample 2",
          "Sample 99"
         ],
         "xaxis": "x",
         "y": [
          null,
          null,
          3,
          1,
          2,
          null,
          2,
          1,
          null,
          1,
          1,
          null,
          null,
          4,
          2
         ],
         "yaxis": "y"
        },
        {
         "alignmentgroup": "True",
         "hovertemplate": "Organism=Candidatus Methanoliparia<br>Sample=%{x}<br>Read Count=%{y}<extra></extra>",
         "legendgroup": "Candidatus Methanoliparia",
         "marker": {
          "color": "#19d3f3"
         },
         "name": "Candidatus Methanoliparia",
         "offsetgroup": "Candidatus Methanoliparia",
         "orientation": "v",
         "showlegend": true,
         "textposition": "auto",
         "type": "bar",
         "x": [
          "Sample 104",
          "Sample 1",
          "Sample 16",
          "Sample 97",
          "Sample 13",
          "Sample 15",
          "Sample 101",
          "Sample 3",
          "Sample 4",
          "Sample 98",
          "Sample 14",
          "Sample 103",
          "Sample 100",
          "Sample 2",
          "Sample 99"
         ],
         "xaxis": "x",
         "y": [
          null,
          null,
          null,
          null,
          null,
          null,
          null,
          1,
          null,
          8,
          null,
          null,
          1,
          null,
          null
         ],
         "yaxis": "y"
        },
        {
         "alignmentgroup": "True",
         "hovertemplate": "Organism=Thermoanaerobaculia<br>Sample=%{x}<br>Read Count=%{y}<extra></extra>",
         "legendgroup": "Thermoanaerobaculia",
         "marker": {
          "color": "#FF6692"
         },
         "name": "Thermoanaerobaculia",
         "offsetgroup": "Thermoanaerobaculia",
         "orientation": "v",
         "showlegend": true,
         "textposition": "auto",
         "type": "bar",
         "x": [
          "Sample 104",
          "Sample 1",
          "Sample 16",
          "Sample 97",
          "Sample 13",
          "Sample 15",
          "Sample 101",
          "Sample 3",
          "Sample 4",
          "Sample 98",
          "Sample 14",
          "Sample 103",
          "Sample 100",
          "Sample 2",
          "Sample 99"
         ],
         "xaxis": "x",
         "y": [
          null,
          1,
          null,
          1,
          1,
          1,
          null,
          1,
          2,
          null,
          null,
          null,
          null,
          null,
          2
         ],
         "yaxis": "y"
        },
        {
         "alignmentgroup": "True",
         "hovertemplate": "Organism=Cyanobacteria/Melainabacteria group<br>Sample=%{x}<br>Read Count=%{y}<extra></extra>",
         "legendgroup": "Cyanobacteria/Melainabacteria group",
         "marker": {
          "color": "#B6E880"
         },
         "name": "Cyanobacteria/Melainabacteria group",
         "offsetgroup": "Cyanobacteria/Melainabacteria group",
         "orientation": "v",
         "showlegend": true,
         "textposition": "auto",
         "type": "bar",
         "x": [
          "Sample 104",
          "Sample 1",
          "Sample 16",
          "Sample 97",
          "Sample 13",
          "Sample 15",
          "Sample 101",
          "Sample 3",
          "Sample 4",
          "Sample 98",
          "Sample 14",
          "Sample 103",
          "Sample 100",
          "Sample 2",
          "Sample 99"
         ],
         "xaxis": "x",
         "y": [
          136,
          509,
          519,
          94930,
          1887,
          12716,
          253,
          244,
          2153,
          30902,
          963,
          372,
          1785,
          186139,
          307792
         ],
         "yaxis": "y"
        },
        {
         "alignmentgroup": "True",
         "hovertemplate": "Organism=Archaeoglobi<br>Sample=%{x}<br>Read Count=%{y}<extra></extra>",
         "legendgroup": "Archaeoglobi",
         "marker": {
          "color": "#FF97FF"
         },
         "name": "Archaeoglobi",
         "offsetgroup": "Archaeoglobi",
         "orientation": "v",
         "showlegend": true,
         "textposition": "auto",
         "type": "bar",
         "x": [
          "Sample 104",
          "Sample 1",
          "Sample 16",
          "Sample 97",
          "Sample 13",
          "Sample 15",
          "Sample 101",
          "Sample 3",
          "Sample 4",
          "Sample 98",
          "Sample 14",
          "Sample 103",
          "Sample 100",
          "Sample 2",
          "Sample 99"
         ],
         "xaxis": "x",
         "y": [
          null,
          1,
          1,
          null,
          1,
          null,
          null,
          null,
          2,
          null,
          null,
          null,
          3,
          1,
          1
         ],
         "yaxis": "y"
        },
        {
         "alignmentgroup": "True",
         "hovertemplate": "Organism=Methanonatronarchaeia<br>Sample=%{x}<br>Read Count=%{y}<extra></extra>",
         "legendgroup": "Methanonatronarchaeia",
         "marker": {
          "color": "#FECB52"
         },
         "name": "Methanonatronarchaeia",
         "offsetgroup": "Methanonatronarchaeia",
         "orientation": "v",
         "showlegend": true,
         "textposition": "auto",
         "type": "bar",
         "x": [
          "Sample 104",
          "Sample 1",
          "Sample 16",
          "Sample 97",
          "Sample 13",
          "Sample 15",
          "Sample 101",
          "Sample 3",
          "Sample 4",
          "Sample 98",
          "Sample 14",
          "Sample 103",
          "Sample 100",
          "Sample 2",
          "Sample 99"
         ],
         "xaxis": "x",
         "y": [
          null,
          null,
          null,
          1,
          null,
          null,
          null,
          1,
          10,
          null,
          null,
          1,
          null,
          null,
          null
         ],
         "yaxis": "y"
        },
        {
         "alignmentgroup": "True",
         "hovertemplate": "Organism=Oligoflexia<br>Sample=%{x}<br>Read Count=%{y}<extra></extra>",
         "legendgroup": "Oligoflexia",
         "marker": {
          "color": "#636efa"
         },
         "name": "Oligoflexia",
         "offsetgroup": "Oligoflexia",
         "orientation": "v",
         "showlegend": true,
         "textposition": "auto",
         "type": "bar",
         "x": [
          "Sample 104",
          "Sample 1",
          "Sample 16",
          "Sample 97",
          "Sample 13",
          "Sample 15",
          "Sample 101",
          "Sample 3",
          "Sample 4",
          "Sample 98",
          "Sample 14",
          "Sample 103",
          "Sample 100",
          "Sample 2",
          "Sample 99"
         ],
         "xaxis": "x",
         "y": [
          3,
          10,
          10,
          13,
          23,
          5,
          2,
          5,
          27,
          5,
          19,
          1,
          29,
          29,
          15
         ],
         "yaxis": "y"
        },
        {
         "alignmentgroup": "True",
         "hovertemplate": "Organism=Candidatus Korarchaeota<br>Sample=%{x}<br>Read Count=%{y}<extra></extra>",
         "legendgroup": "Candidatus Korarchaeota",
         "marker": {
          "color": "#EF553B"
         },
         "name": "Candidatus Korarchaeota",
         "offsetgroup": "Candidatus Korarchaeota",
         "orientation": "v",
         "showlegend": true,
         "textposition": "auto",
         "type": "bar",
         "x": [
          "Sample 104",
          "Sample 1",
          "Sample 16",
          "Sample 97",
          "Sample 13",
          "Sample 15",
          "Sample 101",
          "Sample 3",
          "Sample 4",
          "Sample 98",
          "Sample 14",
          "Sample 103",
          "Sample 100",
          "Sample 2",
          "Sample 99"
         ],
         "xaxis": "x",
         "y": [
          null,
          null,
          null,
          null,
          1,
          null,
          null,
          null,
          1,
          null,
          null,
          null,
          null,
          null,
          null
         ],
         "yaxis": "y"
        },
        {
         "alignmentgroup": "True",
         "hovertemplate": "Organism=Planctomycetes<br>Sample=%{x}<br>Read Count=%{y}<extra></extra>",
         "legendgroup": "Planctomycetes",
         "marker": {
          "color": "#00cc96"
         },
         "name": "Planctomycetes",
         "offsetgroup": "Planctomycetes",
         "orientation": "v",
         "showlegend": true,
         "textposition": "auto",
         "type": "bar",
         "x": [
          "Sample 104",
          "Sample 1",
          "Sample 16",
          "Sample 97",
          "Sample 13",
          "Sample 15",
          "Sample 101",
          "Sample 3",
          "Sample 4",
          "Sample 98",
          "Sample 14",
          "Sample 103",
          "Sample 100",
          "Sample 2",
          "Sample 99"
         ],
         "xaxis": "x",
         "y": [
          13,
          101,
          86,
          94,
          215,
          101,
          60,
          59,
          175,
          108,
          157,
          6,
          194,
          265,
          169
         ],
         "yaxis": "y"
        },
        {
         "alignmentgroup": "True",
         "hovertemplate": "Organism=Candidatus Tectomicrobia<br>Sample=%{x}<br>Read Count=%{y}<extra></extra>",
         "legendgroup": "Candidatus Tectomicrobia",
         "marker": {
          "color": "#ab63fa"
         },
         "name": "Candidatus Tectomicrobia",
         "offsetgroup": "Candidatus Tectomicrobia",
         "orientation": "v",
         "showlegend": true,
         "textposition": "auto",
         "type": "bar",
         "x": [
          "Sample 104",
          "Sample 1",
          "Sample 16",
          "Sample 97",
          "Sample 13",
          "Sample 15",
          "Sample 101",
          "Sample 3",
          "Sample 4",
          "Sample 98",
          "Sample 14",
          "Sample 103",
          "Sample 100",
          "Sample 2",
          "Sample 99"
         ],
         "xaxis": "x",
         "y": [
          null,
          2,
          10,
          1,
          2,
          2,
          null,
          1,
          1,
          null,
          4,
          null,
          1,
          null,
          null
         ],
         "yaxis": "y"
        },
        {
         "alignmentgroup": "True",
         "hovertemplate": "Organism=Endomicrobia<br>Sample=%{x}<br>Read Count=%{y}<extra></extra>",
         "legendgroup": "Endomicrobia",
         "marker": {
          "color": "#FFA15A"
         },
         "name": "Endomicrobia",
         "offsetgroup": "Endomicrobia",
         "orientation": "v",
         "showlegend": true,
         "textposition": "auto",
         "type": "bar",
         "x": [
          "Sample 104",
          "Sample 1",
          "Sample 16",
          "Sample 97",
          "Sample 13",
          "Sample 15",
          "Sample 101",
          "Sample 3",
          "Sample 4",
          "Sample 98",
          "Sample 14",
          "Sample 103",
          "Sample 100",
          "Sample 2",
          "Sample 99"
         ],
         "xaxis": "x",
         "y": [
          null,
          null,
          null,
          1,
          1,
          null,
          null,
          null,
          null,
          null,
          null,
          19,
          2,
          null,
          null
         ],
         "yaxis": "y"
        },
        {
         "alignmentgroup": "True",
         "hovertemplate": "Organism=unclassified Proteobacteria<br>Sample=%{x}<br>Read Count=%{y}<extra></extra>",
         "legendgroup": "unclassified Proteobacteria",
         "marker": {
          "color": "#19d3f3"
         },
         "name": "unclassified Proteobacteria",
         "offsetgroup": "unclassified Proteobacteria",
         "orientation": "v",
         "showlegend": true,
         "textposition": "auto",
         "type": "bar",
         "x": [
          "Sample 104",
          "Sample 1",
          "Sample 16",
          "Sample 97",
          "Sample 13",
          "Sample 15",
          "Sample 101",
          "Sample 3",
          "Sample 4",
          "Sample 98",
          "Sample 14",
          "Sample 103",
          "Sample 100",
          "Sample 2",
          "Sample 99"
         ],
         "xaxis": "x",
         "y": [
          null,
          1,
          null,
          null,
          1,
          null,
          1,
          null,
          1,
          null,
          null,
          null,
          null,
          null,
          null
         ],
         "yaxis": "y"
        },
        {
         "alignmentgroup": "True",
         "hovertemplate": "Organism=Abditibacteriota<br>Sample=%{x}<br>Read Count=%{y}<extra></extra>",
         "legendgroup": "Abditibacteriota",
         "marker": {
          "color": "#FF6692"
         },
         "name": "Abditibacteriota",
         "offsetgroup": "Abditibacteriota",
         "orientation": "v",
         "showlegend": true,
         "textposition": "auto",
         "type": "bar",
         "x": [
          "Sample 104",
          "Sample 1",
          "Sample 16",
          "Sample 97",
          "Sample 13",
          "Sample 15",
          "Sample 101",
          "Sample 3",
          "Sample 4",
          "Sample 98",
          "Sample 14",
          "Sample 103",
          "Sample 100",
          "Sample 2",
          "Sample 99"
         ],
         "xaxis": "x",
         "y": [
          null,
          null,
          null,
          null,
          null,
          null,
          null,
          null,
          null,
          null,
          null,
          null,
          1,
          4,
          null
         ],
         "yaxis": "y"
        },
        {
         "alignmentgroup": "True",
         "hovertemplate": "Organism=Haloplasmatales<br>Sample=%{x}<br>Read Count=%{y}<extra></extra>",
         "legendgroup": "Haloplasmatales",
         "marker": {
          "color": "#B6E880"
         },
         "name": "Haloplasmatales",
         "offsetgroup": "Haloplasmatales",
         "orientation": "v",
         "showlegend": true,
         "textposition": "auto",
         "type": "bar",
         "x": [
          "Sample 104",
          "Sample 1",
          "Sample 16",
          "Sample 97",
          "Sample 13",
          "Sample 15",
          "Sample 101",
          "Sample 3",
          "Sample 4",
          "Sample 98",
          "Sample 14",
          "Sample 103",
          "Sample 100",
          "Sample 2",
          "Sample 99"
         ],
         "xaxis": "x",
         "y": [
          null,
          12,
          null,
          9,
          3,
          1,
          null,
          1,
          38,
          2,
          3,
          1,
          8,
          5,
          3
         ],
         "yaxis": "y"
        },
        {
         "alignmentgroup": "True",
         "hovertemplate": "Organism=Thaumarchaeota<br>Sample=%{x}<br>Read Count=%{y}<extra></extra>",
         "legendgroup": "Thaumarchaeota",
         "marker": {
          "color": "#FF97FF"
         },
         "name": "Thaumarchaeota",
         "offsetgroup": "Thaumarchaeota",
         "orientation": "v",
         "showlegend": true,
         "textposition": "auto",
         "type": "bar",
         "x": [
          "Sample 104",
          "Sample 1",
          "Sample 16",
          "Sample 97",
          "Sample 13",
          "Sample 15",
          "Sample 101",
          "Sample 3",
          "Sample 4",
          "Sample 98",
          "Sample 14",
          "Sample 103",
          "Sample 100",
          "Sample 2",
          "Sample 99"
         ],
         "xaxis": "x",
         "y": [
          null,
          4,
          null,
          4,
          5,
          7,
          3,
          null,
          3,
          null,
          6,
          4,
          9,
          7,
          2
         ],
         "yaxis": "y"
        },
        {
         "alignmentgroup": "True",
         "hovertemplate": "Organism=Firmicutes<br>Sample=%{x}<br>Read Count=%{y}<extra></extra>",
         "legendgroup": "Firmicutes",
         "marker": {
          "color": "#FECB52"
         },
         "name": "Firmicutes",
         "offsetgroup": "Firmicutes",
         "orientation": "v",
         "showlegend": true,
         "textposition": "auto",
         "type": "bar",
         "x": [
          "Sample 104",
          "Sample 1",
          "Sample 16",
          "Sample 97",
          "Sample 13",
          "Sample 15",
          "Sample 101",
          "Sample 3",
          "Sample 4",
          "Sample 98",
          "Sample 14",
          "Sample 103",
          "Sample 100",
          "Sample 2",
          "Sample 99"
         ],
         "xaxis": "x",
         "y": [
          6012836,
          13219152,
          6829187,
          13202267,
          13367130,
          8175759,
          12078778,
          6395226,
          6867804,
          12875164,
          7254489,
          14243183,
          8102453,
          11636241,
          12804797
         ],
         "yaxis": "y"
        },
        {
         "alignmentgroup": "True",
         "hovertemplate": "Organism=Bacteroidetes/Chlorobi group<br>Sample=%{x}<br>Read Count=%{y}<extra></extra>",
         "legendgroup": "Bacteroidetes/Chlorobi group",
         "marker": {
          "color": "#636efa"
         },
         "name": "Bacteroidetes/Chlorobi group",
         "offsetgroup": "Bacteroidetes/Chlorobi group",
         "orientation": "v",
         "showlegend": true,
         "textposition": "auto",
         "type": "bar",
         "x": [
          "Sample 104",
          "Sample 1",
          "Sample 16",
          "Sample 97",
          "Sample 13",
          "Sample 15",
          "Sample 101",
          "Sample 3",
          "Sample 4",
          "Sample 98",
          "Sample 14",
          "Sample 103",
          "Sample 100",
          "Sample 2",
          "Sample 99"
         ],
         "xaxis": "x",
         "y": [
          12616617,
          5731425,
          14900558,
          6872728,
          5678763,
          5558076,
          5003848,
          11588708,
          8841956,
          8069905,
          7262065,
          6097872,
          4050773,
          5716337,
          4267982
         ],
         "yaxis": "y"
        },
        {
         "alignmentgroup": "True",
         "hovertemplate": "Organism=Blastocatellia<br>Sample=%{x}<br>Read Count=%{y}<extra></extra>",
         "legendgroup": "Blastocatellia",
         "marker": {
          "color": "#EF553B"
         },
         "name": "Blastocatellia",
         "offsetgroup": "Blastocatellia",
         "orientation": "v",
         "showlegend": true,
         "textposition": "auto",
         "type": "bar",
         "x": [
          "Sample 104",
          "Sample 1",
          "Sample 16",
          "Sample 97",
          "Sample 13",
          "Sample 15",
          "Sample 101",
          "Sample 3",
          "Sample 4",
          "Sample 98",
          "Sample 14",
          "Sample 103",
          "Sample 100",
          "Sample 2",
          "Sample 99"
         ],
         "xaxis": "x",
         "y": [
          null,
          2,
          null,
          1,
          3,
          3,
          null,
          null,
          2,
          1,
          2,
          null,
          1,
          null,
          2
         ],
         "yaxis": "y"
        },
        {
         "alignmentgroup": "True",
         "hovertemplate": "Organism=Gammaproteobacteria<br>Sample=%{x}<br>Read Count=%{y}<extra></extra>",
         "legendgroup": "Gammaproteobacteria",
         "marker": {
          "color": "#00cc96"
         },
         "name": "Gammaproteobacteria",
         "offsetgroup": "Gammaproteobacteria",
         "orientation": "v",
         "showlegend": true,
         "textposition": "auto",
         "type": "bar",
         "x": [
          "Sample 104",
          "Sample 1",
          "Sample 16",
          "Sample 97",
          "Sample 13",
          "Sample 15",
          "Sample 101",
          "Sample 3",
          "Sample 4",
          "Sample 98",
          "Sample 14",
          "Sample 103",
          "Sample 100",
          "Sample 2",
          "Sample 99"
         ],
         "xaxis": "x",
         "y": [
          16322,
          46519,
          41192,
          120090,
          1077186,
          71215,
          1611056,
          28925,
          20959,
          22067,
          96458,
          18229,
          28393,
          23177,
          42890
         ],
         "yaxis": "y"
        },
        {
         "alignmentgroup": "True",
         "hovertemplate": "Organism=Fungi<br>Sample=%{x}<br>Read Count=%{y}<extra></extra>",
         "legendgroup": "Fungi",
         "marker": {
          "color": "#ab63fa"
         },
         "name": "Fungi",
         "offsetgroup": "Fungi",
         "orientation": "v",
         "showlegend": true,
         "textposition": "auto",
         "type": "bar",
         "x": [
          "Sample 104",
          "Sample 1",
          "Sample 16",
          "Sample 97",
          "Sample 13",
          "Sample 15",
          "Sample 101",
          "Sample 3",
          "Sample 4",
          "Sample 98",
          "Sample 14",
          "Sample 103",
          "Sample 100",
          "Sample 2",
          "Sample 99"
         ],
         "xaxis": "x",
         "y": [
          141,
          934,
          886,
          2499,
          1074,
          4473,
          835,
          735,
          1148,
          498,
          4093,
          191,
          1903,
          1450,
          1693
         ],
         "yaxis": "y"
        },
        {
         "alignmentgroup": "True",
         "hovertemplate": "Organism=unclassified Acidobacteria<br>Sample=%{x}<br>Read Count=%{y}<extra></extra>",
         "legendgroup": "unclassified Acidobacteria",
         "marker": {
          "color": "#FFA15A"
         },
         "name": "unclassified Acidobacteria",
         "offsetgroup": "unclassified Acidobacteria",
         "orientation": "v",
         "showlegend": true,
         "textposition": "auto",
         "type": "bar",
         "x": [
          "Sample 104",
          "Sample 1",
          "Sample 16",
          "Sample 97",
          "Sample 13",
          "Sample 15",
          "Sample 101",
          "Sample 3",
          "Sample 4",
          "Sample 98",
          "Sample 14",
          "Sample 103",
          "Sample 100",
          "Sample 2",
          "Sample 99"
         ],
         "xaxis": "x",
         "y": [
          1,
          null,
          null,
          1,
          2,
          null,
          null,
          3,
          null,
          null,
          null,
          null,
          2,
          2,
          null
         ],
         "yaxis": "y"
        },
        {
         "alignmentgroup": "True",
         "hovertemplate": "Organism=Candidatus Lokiarchaeota<br>Sample=%{x}<br>Read Count=%{y}<extra></extra>",
         "legendgroup": "Candidatus Lokiarchaeota",
         "marker": {
          "color": "#19d3f3"
         },
         "name": "Candidatus Lokiarchaeota",
         "offsetgroup": "Candidatus Lokiarchaeota",
         "orientation": "v",
         "showlegend": true,
         "textposition": "auto",
         "type": "bar",
         "x": [
          "Sample 104",
          "Sample 1",
          "Sample 16",
          "Sample 97",
          "Sample 13",
          "Sample 15",
          "Sample 101",
          "Sample 3",
          "Sample 4",
          "Sample 98",
          "Sample 14",
          "Sample 103",
          "Sample 100",
          "Sample 2",
          "Sample 99"
         ],
         "xaxis": "x",
         "y": [
          null,
          1,
          null,
          null,
          2,
          null,
          null,
          null,
          1,
          null,
          1,
          null,
          1,
          null,
          null
         ],
         "yaxis": "y"
        },
        {
         "alignmentgroup": "True",
         "hovertemplate": "Organism=Acidobacteriia<br>Sample=%{x}<br>Read Count=%{y}<extra></extra>",
         "legendgroup": "Acidobacteriia",
         "marker": {
          "color": "#FF6692"
         },
         "name": "Acidobacteriia",
         "offsetgroup": "Acidobacteriia",
         "orientation": "v",
         "showlegend": true,
         "textposition": "auto",
         "type": "bar",
         "x": [
          "Sample 104",
          "Sample 1",
          "Sample 16",
          "Sample 97",
          "Sample 13",
          "Sample 15",
          "Sample 101",
          "Sample 3",
          "Sample 4",
          "Sample 98",
          "Sample 14",
          "Sample 103",
          "Sample 100",
          "Sample 2",
          "Sample 99"
         ],
         "xaxis": "x",
         "y": [
          10,
          44,
          21,
          35,
          98,
          31,
          27,
          48,
          74,
          373,
          61,
          10,
          103,
          109,
          63
         ],
         "yaxis": "y"
        },
        {
         "alignmentgroup": "True",
         "hovertemplate": "Organism=unclassified Terrabacteria group<br>Sample=%{x}<br>Read Count=%{y}<extra></extra>",
         "legendgroup": "unclassified Terrabacteria group",
         "marker": {
          "color": "#B6E880"
         },
         "name": "unclassified Terrabacteria group",
         "offsetgroup": "unclassified Terrabacteria group",
         "orientation": "v",
         "showlegend": true,
         "textposition": "auto",
         "type": "bar",
         "x": [
          "Sample 104",
          "Sample 1",
          "Sample 16",
          "Sample 97",
          "Sample 13",
          "Sample 15",
          "Sample 101",
          "Sample 3",
          "Sample 4",
          "Sample 98",
          "Sample 14",
          "Sample 103",
          "Sample 100",
          "Sample 2",
          "Sample 99"
         ],
         "xaxis": "x",
         "y": [
          1,
          null,
          null,
          2,
          3,
          null,
          null,
          null,
          1,
          null,
          2,
          null,
          4,
          null,
          null
         ],
         "yaxis": "y"
        },
        {
         "alignmentgroup": "True",
         "hovertemplate": "Organism=Coprothermobacteria<br>Sample=%{x}<br>Read Count=%{y}<extra></extra>",
         "legendgroup": "Coprothermobacteria",
         "marker": {
          "color": "#FF97FF"
         },
         "name": "Coprothermobacteria",
         "offsetgroup": "Coprothermobacteria",
         "orientation": "v",
         "showlegend": true,
         "textposition": "auto",
         "type": "bar",
         "x": [
          "Sample 104",
          "Sample 1",
          "Sample 16",
          "Sample 97",
          "Sample 13",
          "Sample 15",
          "Sample 101",
          "Sample 3",
          "Sample 4",
          "Sample 98",
          "Sample 14",
          "Sample 103",
          "Sample 100",
          "Sample 2",
          "Sample 99"
         ],
         "xaxis": "x",
         "y": [
          null,
          null,
          null,
          1,
          null,
          1,
          1,
          1,
          1,
          null,
          1,
          null,
          1,
          1,
          1
         ],
         "yaxis": "y"
        },
        {
         "alignmentgroup": "True",
         "hovertemplate": "Organism=Tenericutes<br>Sample=%{x}<br>Read Count=%{y}<extra></extra>",
         "legendgroup": "Tenericutes",
         "marker": {
          "color": "#FECB52"
         },
         "name": "Tenericutes",
         "offsetgroup": "Tenericutes",
         "orientation": "v",
         "showlegend": true,
         "textposition": "auto",
         "type": "bar",
         "x": [
          "Sample 104",
          "Sample 1",
          "Sample 16",
          "Sample 97",
          "Sample 13",
          "Sample 15",
          "Sample 101",
          "Sample 3",
          "Sample 4",
          "Sample 98",
          "Sample 14",
          "Sample 103",
          "Sample 100",
          "Sample 2",
          "Sample 99"
         ],
         "xaxis": "x",
         "y": [
          77,
          2375,
          161,
          1133,
          1605,
          263,
          110,
          150,
          1986,
          1223,
          1472,
          169,
          629,
          1615,
          424
         ],
         "yaxis": "y"
        },
        {
         "alignmentgroup": "True",
         "hovertemplate": "Organism=Bacteria candidate phyla<br>Sample=%{x}<br>Read Count=%{y}<extra></extra>",
         "legendgroup": "Bacteria candidate phyla",
         "marker": {
          "color": "#636efa"
         },
         "name": "Bacteria candidate phyla",
         "offsetgroup": "Bacteria candidate phyla",
         "orientation": "v",
         "showlegend": true,
         "textposition": "auto",
         "type": "bar",
         "x": [
          "Sample 104",
          "Sample 1",
          "Sample 16",
          "Sample 97",
          "Sample 13",
          "Sample 15",
          "Sample 101",
          "Sample 3",
          "Sample 4",
          "Sample 98",
          "Sample 14",
          "Sample 103",
          "Sample 100",
          "Sample 2",
          "Sample 99"
         ],
         "xaxis": "x",
         "y": [
          247,
          58,
          248,
          588,
          719,
          1626,
          234,
          280,
          120,
          129,
          266,
          466,
          250,
          103,
          186
         ],
         "yaxis": "y"
        },
        {
         "alignmentgroup": "True",
         "hovertemplate": "Organism=Armatimonadetes<br>Sample=%{x}<br>Read Count=%{y}<extra></extra>",
         "legendgroup": "Armatimonadetes",
         "marker": {
          "color": "#EF553B"
         },
         "name": "Armatimonadetes",
         "offsetgroup": "Armatimonadetes",
         "orientation": "v",
         "showlegend": true,
         "textposition": "auto",
         "type": "bar",
         "x": [
          "Sample 104",
          "Sample 1",
          "Sample 16",
          "Sample 97",
          "Sample 13",
          "Sample 15",
          "Sample 101",
          "Sample 3",
          "Sample 4",
          "Sample 98",
          "Sample 14",
          "Sample 103",
          "Sample 100",
          "Sample 2",
          "Sample 99"
         ],
         "xaxis": "x",
         "y": [
          null,
          8,
          1,
          3,
          29,
          4,
          1,
          4,
          8,
          1,
          5,
          2,
          9,
          5,
          5
         ],
         "yaxis": "y"
        },
        {
         "alignmentgroup": "True",
         "hovertemplate": "Organism=Spirochaetia<br>Sample=%{x}<br>Read Count=%{y}<extra></extra>",
         "legendgroup": "Spirochaetia",
         "marker": {
          "color": "#00cc96"
         },
         "name": "Spirochaetia",
         "offsetgroup": "Spirochaetia",
         "orientation": "v",
         "showlegend": true,
         "textposition": "auto",
         "type": "bar",
         "x": [
          "Sample 104",
          "Sample 1",
          "Sample 16",
          "Sample 97",
          "Sample 13",
          "Sample 15",
          "Sample 101",
          "Sample 3",
          "Sample 4",
          "Sample 98",
          "Sample 14",
          "Sample 103",
          "Sample 100",
          "Sample 2",
          "Sample 99"
         ],
         "xaxis": "x",
         "y": [
          41,
          315,
          110,
          309,
          402,
          219,
          58,
          106,
          370,
          194,
          431,
          125,
          408,
          557,
          377
         ],
         "yaxis": "y"
        },
        {
         "alignmentgroup": "True",
         "hovertemplate": "Organism=Dictyoglomia<br>Sample=%{x}<br>Read Count=%{y}<extra></extra>",
         "legendgroup": "Dictyoglomia",
         "marker": {
          "color": "#ab63fa"
         },
         "name": "Dictyoglomia",
         "offsetgroup": "Dictyoglomia",
         "orientation": "v",
         "showlegend": true,
         "textposition": "auto",
         "type": "bar",
         "x": [
          "Sample 104",
          "Sample 1",
          "Sample 16",
          "Sample 97",
          "Sample 13",
          "Sample 15",
          "Sample 101",
          "Sample 3",
          "Sample 4",
          "Sample 98",
          "Sample 14",
          "Sample 103",
          "Sample 100",
          "Sample 2",
          "Sample 99"
         ],
         "xaxis": "x",
         "y": [
          null,
          2,
          null,
          null,
          18,
          null,
          1,
          1,
          4,
          2,
          1,
          2,
          5,
          2,
          1
         ],
         "yaxis": "y"
        },
        {
         "alignmentgroup": "True",
         "hovertemplate": "Organism=Verrucomicrobia<br>Sample=%{x}<br>Read Count=%{y}<extra></extra>",
         "legendgroup": "Verrucomicrobia",
         "marker": {
          "color": "#FFA15A"
         },
         "name": "Verrucomicrobia",
         "offsetgroup": "Verrucomicrobia",
         "orientation": "v",
         "showlegend": true,
         "textposition": "auto",
         "type": "bar",
         "x": [
          "Sample 104",
          "Sample 1",
          "Sample 16",
          "Sample 97",
          "Sample 13",
          "Sample 15",
          "Sample 101",
          "Sample 3",
          "Sample 4",
          "Sample 98",
          "Sample 14",
          "Sample 103",
          "Sample 100",
          "Sample 2",
          "Sample 99"
         ],
         "xaxis": "x",
         "y": [
          294,
          263554,
          84610,
          30221,
          227037,
          600418,
          758,
          467,
          205940,
          123576,
          235829,
          24359,
          748,
          97672,
          430463
         ],
         "yaxis": "y"
        },
        {
         "alignmentgroup": "True",
         "hovertemplate": "Organism=Deinococcus-Thermus<br>Sample=%{x}<br>Read Count=%{y}<extra></extra>",
         "legendgroup": "Deinococcus-Thermus",
         "marker": {
          "color": "#19d3f3"
         },
         "name": "Deinococcus-Thermus",
         "offsetgroup": "Deinococcus-Thermus",
         "orientation": "v",
         "showlegend": true,
         "textposition": "auto",
         "type": "bar",
         "x": [
          "Sample 104",
          "Sample 1",
          "Sample 16",
          "Sample 97",
          "Sample 13",
          "Sample 15",
          "Sample 101",
          "Sample 3",
          "Sample 4",
          "Sample 98",
          "Sample 14",
          "Sample 103",
          "Sample 100",
          "Sample 2",
          "Sample 99"
         ],
         "xaxis": "x",
         "y": [
          29,
          176,
          107,
          101,
          222,
          116,
          21,
          42,
          206,
          60,
          156,
          20,
          190,
          260,
          156
         ],
         "yaxis": "y"
        },
        {
         "alignmentgroup": "True",
         "hovertemplate": "Organism=Deferribacteres<br>Sample=%{x}<br>Read Count=%{y}<extra></extra>",
         "legendgroup": "Deferribacteres",
         "marker": {
          "color": "#FF6692"
         },
         "name": "Deferribacteres",
         "offsetgroup": "Deferribacteres",
         "orientation": "v",
         "showlegend": true,
         "textposition": "auto",
         "type": "bar",
         "x": [
          "Sample 104",
          "Sample 1",
          "Sample 16",
          "Sample 97",
          "Sample 13",
          "Sample 15",
          "Sample 101",
          "Sample 3",
          "Sample 4",
          "Sample 98",
          "Sample 14",
          "Sample 103",
          "Sample 100",
          "Sample 2",
          "Sample 99"
         ],
         "xaxis": "x",
         "y": [
          null,
          11,
          1,
          5,
          6,
          3,
          5,
          6,
          9,
          9,
          8,
          1,
          20,
          22,
          7
         ],
         "yaxis": "y"
        },
        {
         "alignmentgroup": "True",
         "hovertemplate": "Organism=Lentisphaerae<br>Sample=%{x}<br>Read Count=%{y}<extra></extra>",
         "legendgroup": "Lentisphaerae",
         "marker": {
          "color": "#B6E880"
         },
         "name": "Lentisphaerae",
         "offsetgroup": "Lentisphaerae",
         "orientation": "v",
         "showlegend": true,
         "textposition": "auto",
         "type": "bar",
         "x": [
          "Sample 104",
          "Sample 1",
          "Sample 16",
          "Sample 97",
          "Sample 13",
          "Sample 15",
          "Sample 101",
          "Sample 3",
          "Sample 4",
          "Sample 98",
          "Sample 14",
          "Sample 103",
          "Sample 100",
          "Sample 2",
          "Sample 99"
         ],
         "xaxis": "x",
         "y": [
          36,
          23612,
          37071,
          40065,
          14293,
          100404,
          63,
          6384,
          59572,
          1980,
          55987,
          941,
          1746,
          18234,
          9857
         ],
         "yaxis": "y"
        },
        {
         "alignmentgroup": "True",
         "hovertemplate": "Organism=Vampirococcus<br>Sample=%{x}<br>Read Count=%{y}<extra></extra>",
         "legendgroup": "Vampirococcus",
         "marker": {
          "color": "#FF97FF"
         },
         "name": "Vampirococcus",
         "offsetgroup": "Vampirococcus",
         "orientation": "v",
         "showlegend": true,
         "textposition": "auto",
         "type": "bar",
         "x": [
          "Sample 104",
          "Sample 1",
          "Sample 16",
          "Sample 97",
          "Sample 13",
          "Sample 15",
          "Sample 101",
          "Sample 3",
          "Sample 4",
          "Sample 98",
          "Sample 14",
          "Sample 103",
          "Sample 100",
          "Sample 2",
          "Sample 99"
         ],
         "xaxis": "x",
         "y": [
          null,
          2,
          1,
          null,
          null,
          null,
          null,
          null,
          null,
          1,
          null,
          null,
          1,
          1,
          null
         ],
         "yaxis": "y"
        },
        {
         "alignmentgroup": "True",
         "hovertemplate": "Organism=Chlamydiae<br>Sample=%{x}<br>Read Count=%{y}<extra></extra>",
         "legendgroup": "Chlamydiae",
         "marker": {
          "color": "#FECB52"
         },
         "name": "Chlamydiae",
         "offsetgroup": "Chlamydiae",
         "orientation": "v",
         "showlegend": true,
         "textposition": "auto",
         "type": "bar",
         "x": [
          "Sample 104",
          "Sample 1",
          "Sample 16",
          "Sample 97",
          "Sample 13",
          "Sample 15",
          "Sample 101",
          "Sample 3",
          "Sample 4",
          "Sample 98",
          "Sample 14",
          "Sample 103",
          "Sample 100",
          "Sample 2",
          "Sample 99"
         ],
         "xaxis": "x",
         "y": [
          5,
          86,
          3,
          10,
          16,
          8,
          15,
          7,
          14,
          3,
          14,
          4,
          13,
          16,
          23
         ],
         "yaxis": "y"
        },
        {
         "alignmentgroup": "True",
         "hovertemplate": "Organism=Holophagae<br>Sample=%{x}<br>Read Count=%{y}<extra></extra>",
         "legendgroup": "Holophagae",
         "marker": {
          "color": "#636efa"
         },
         "name": "Holophagae",
         "offsetgroup": "Holophagae",
         "orientation": "v",
         "showlegend": true,
         "textposition": "auto",
         "type": "bar",
         "x": [
          "Sample 104",
          "Sample 1",
          "Sample 16",
          "Sample 97",
          "Sample 13",
          "Sample 15",
          "Sample 101",
          "Sample 3",
          "Sample 4",
          "Sample 98",
          "Sample 14",
          "Sample 103",
          "Sample 100",
          "Sample 2",
          "Sample 99"
         ],
         "xaxis": "x",
         "y": [
          null,
          4,
          1,
          6,
          20,
          8,
          1,
          3,
          11,
          1,
          9,
          2,
          7,
          5,
          21
         ],
         "yaxis": "y"
        },
        {
         "alignmentgroup": "True",
         "hovertemplate": "Organism=Thermococci<br>Sample=%{x}<br>Read Count=%{y}<extra></extra>",
         "legendgroup": "Thermococci",
         "marker": {
          "color": "#EF553B"
         },
         "name": "Thermococci",
         "offsetgroup": "Thermococci",
         "orientation": "v",
         "showlegend": true,
         "textposition": "auto",
         "type": "bar",
         "x": [
          "Sample 104",
          "Sample 1",
          "Sample 16",
          "Sample 97",
          "Sample 13",
          "Sample 15",
          "Sample 101",
          "Sample 3",
          "Sample 4",
          "Sample 98",
          "Sample 14",
          "Sample 103",
          "Sample 100",
          "Sample 2",
          "Sample 99"
         ],
         "xaxis": "x",
         "y": [
          2,
          3,
          7,
          10,
          12,
          4,
          1,
          9,
          10,
          5,
          3,
          4,
          7,
          11,
          57
         ],
         "yaxis": "y"
        },
        {
         "alignmentgroup": "True",
         "hovertemplate": "Organism=Candidatus Marinimicrobia<br>Sample=%{x}<br>Read Count=%{y}<extra></extra>",
         "legendgroup": "Candidatus Marinimicrobia",
         "marker": {
          "color": "#00cc96"
         },
         "name": "Candidatus Marinimicrobia",
         "offsetgroup": "Candidatus Marinimicrobia",
         "orientation": "v",
         "showlegend": true,
         "textposition": "auto",
         "type": "bar",
         "x": [
          "Sample 104",
          "Sample 1",
          "Sample 16",
          "Sample 97",
          "Sample 13",
          "Sample 15",
          "Sample 101",
          "Sample 3",
          "Sample 4",
          "Sample 98",
          "Sample 14",
          "Sample 103",
          "Sample 100",
          "Sample 2",
          "Sample 99"
         ],
         "xaxis": "x",
         "y": [
          null,
          17,
          5,
          3,
          4,
          null,
          1,
          4,
          4,
          1,
          2,
          1,
          16,
          4,
          2
         ],
         "yaxis": "y"
        },
        {
         "alignmentgroup": "True",
         "hovertemplate": "Organism=Chrysiogenetes<br>Sample=%{x}<br>Read Count=%{y}<extra></extra>",
         "legendgroup": "Chrysiogenetes",
         "marker": {
          "color": "#ab63fa"
         },
         "name": "Chrysiogenetes",
         "offsetgroup": "Chrysiogenetes",
         "orientation": "v",
         "showlegend": true,
         "textposition": "auto",
         "type": "bar",
         "x": [
          "Sample 104",
          "Sample 1",
          "Sample 16",
          "Sample 97",
          "Sample 13",
          "Sample 15",
          "Sample 101",
          "Sample 3",
          "Sample 4",
          "Sample 98",
          "Sample 14",
          "Sample 103",
          "Sample 100",
          "Sample 2",
          "Sample 99"
         ],
         "xaxis": "x",
         "y": [
          null,
          null,
          null,
          1,
          5,
          null,
          null,
          1,
          3,
          null,
          null,
          null,
          1,
          1,
          3
         ],
         "yaxis": "y"
        },
        {
         "alignmentgroup": "True",
         "hovertemplate": "Organism=Acidithiobacillia<br>Sample=%{x}<br>Read Count=%{y}<extra></extra>",
         "legendgroup": "Acidithiobacillia",
         "marker": {
          "color": "#FFA15A"
         },
         "name": "Acidithiobacillia",
         "offsetgroup": "Acidithiobacillia",
         "orientation": "v",
         "showlegend": true,
         "textposition": "auto",
         "type": "bar",
         "x": [
          "Sample 104",
          "Sample 1",
          "Sample 16",
          "Sample 97",
          "Sample 13",
          "Sample 15",
          "Sample 101",
          "Sample 3",
          "Sample 4",
          "Sample 98",
          "Sample 14",
          "Sample 103",
          "Sample 100",
          "Sample 2",
          "Sample 99"
         ],
         "xaxis": "x",
         "y": [
          7,
          2,
          2,
          6,
          27,
          1,
          2,
          1,
          7,
          4,
          6,
          1,
          6,
          7,
          2
         ],
         "yaxis": "y"
        },
        {
         "alignmentgroup": "True",
         "hovertemplate": "Organism=Calditrichae<br>Sample=%{x}<br>Read Count=%{y}<extra></extra>",
         "legendgroup": "Calditrichae",
         "marker": {
          "color": "#19d3f3"
         },
         "name": "Calditrichae",
         "offsetgroup": "Calditrichae",
         "orientation": "v",
         "showlegend": true,
         "textposition": "auto",
         "type": "bar",
         "x": [
          "Sample 104",
          "Sample 1",
          "Sample 16",
          "Sample 97",
          "Sample 13",
          "Sample 15",
          "Sample 101",
          "Sample 3",
          "Sample 4",
          "Sample 98",
          "Sample 14",
          "Sample 103",
          "Sample 100",
          "Sample 2",
          "Sample 99"
         ],
         "xaxis": "x",
         "y": [
          null,
          1,
          null,
          null,
          null,
          1,
          null,
          null,
          null,
          null,
          2,
          null,
          1,
          null,
          2
         ],
         "yaxis": "y"
        },
        {
         "alignmentgroup": "True",
         "hovertemplate": "Organism=unclassified Bacteria (miscellaneous)<br>Sample=%{x}<br>Read Count=%{y}<extra></extra>",
         "legendgroup": "unclassified Bacteria (miscellaneous)",
         "marker": {
          "color": "#FF6692"
         },
         "name": "unclassified Bacteria (miscellaneous)",
         "offsetgroup": "unclassified Bacteria (miscellaneous)",
         "orientation": "v",
         "showlegend": true,
         "textposition": "auto",
         "type": "bar",
         "x": [
          "Sample 104",
          "Sample 1",
          "Sample 16",
          "Sample 97",
          "Sample 13",
          "Sample 15",
          "Sample 101",
          "Sample 3",
          "Sample 4",
          "Sample 98",
          "Sample 14",
          "Sample 103",
          "Sample 100",
          "Sample 2",
          "Sample 99"
         ],
         "xaxis": "x",
         "y": [
          257,
          3553,
          835,
          999,
          4739,
          978,
          705,
          522,
          1537,
          1191,
          1679,
          1262,
          789,
          5942,
          1745
         ],
         "yaxis": "y"
        },
        {
         "alignmentgroup": "True",
         "hovertemplate": "Organism=Candidatus Cryosericota<br>Sample=%{x}<br>Read Count=%{y}<extra></extra>",
         "legendgroup": "Candidatus Cryosericota",
         "marker": {
          "color": "#B6E880"
         },
         "name": "Candidatus Cryosericota",
         "offsetgroup": "Candidatus Cryosericota",
         "orientation": "v",
         "showlegend": true,
         "textposition": "auto",
         "type": "bar",
         "x": [
          "Sample 104",
          "Sample 1",
          "Sample 16",
          "Sample 97",
          "Sample 13",
          "Sample 15",
          "Sample 101",
          "Sample 3",
          "Sample 4",
          "Sample 98",
          "Sample 14",
          "Sample 103",
          "Sample 100",
          "Sample 2",
          "Sample 99"
         ],
         "xaxis": "x",
         "y": [
          null,
          1,
          2,
          2,
          3,
          3,
          null,
          null,
          4,
          null,
          1,
          null,
          3,
          null,
          3
         ],
         "yaxis": "y"
        },
        {
         "alignmentgroup": "True",
         "hovertemplate": "Organism=Alphaproteobacteria<br>Sample=%{x}<br>Read Count=%{y}<extra></extra>",
         "legendgroup": "Alphaproteobacteria",
         "marker": {
          "color": "#FF97FF"
         },
         "name": "Alphaproteobacteria",
         "offsetgroup": "Alphaproteobacteria",
         "orientation": "v",
         "showlegend": true,
         "textposition": "auto",
         "type": "bar",
         "x": [
          "Sample 104",
          "Sample 1",
          "Sample 16",
          "Sample 97",
          "Sample 13",
          "Sample 15",
          "Sample 101",
          "Sample 3",
          "Sample 4",
          "Sample 98",
          "Sample 14",
          "Sample 103",
          "Sample 100",
          "Sample 2",
          "Sample 99"
         ],
         "xaxis": "x",
         "y": [
          2078,
          9499,
          15194,
          6513,
          15345,
          8314,
          29762,
          4159,
          18274,
          3951,
          12198,
          2872,
          10531,
          28451,
          9904
         ],
         "yaxis": "y"
        },
        {
         "alignmentgroup": "True",
         "hovertemplate": "Organism=Diaforarchaea group<br>Sample=%{x}<br>Read Count=%{y}<extra></extra>",
         "legendgroup": "Diaforarchaea group",
         "marker": {
          "color": "#FECB52"
         },
         "name": "Diaforarchaea group",
         "offsetgroup": "Diaforarchaea group",
         "orientation": "v",
         "showlegend": true,
         "textposition": "auto",
         "type": "bar",
         "x": [
          "Sample 104",
          "Sample 1",
          "Sample 16",
          "Sample 97",
          "Sample 13",
          "Sample 15",
          "Sample 101",
          "Sample 3",
          "Sample 4",
          "Sample 98",
          "Sample 14",
          "Sample 103",
          "Sample 100",
          "Sample 2",
          "Sample 99"
         ],
         "xaxis": "x",
         "y": [
          4,
          4,
          7,
          3352,
          7,
          6,
          null,
          9,
          42,
          6,
          24,
          2,
          615,
          19,
          9
         ],
         "yaxis": "y"
        },
        {
         "alignmentgroup": "True",
         "hovertemplate": "Organism=Vicinamibacteria<br>Sample=%{x}<br>Read Count=%{y}<extra></extra>",
         "legendgroup": "Vicinamibacteria",
         "marker": {
          "color": "#636efa"
         },
         "name": "Vicinamibacteria",
         "offsetgroup": "Vicinamibacteria",
         "orientation": "v",
         "showlegend": true,
         "textposition": "auto",
         "type": "bar",
         "x": [
          "Sample 104",
          "Sample 1",
          "Sample 16",
          "Sample 97",
          "Sample 13",
          "Sample 15",
          "Sample 101",
          "Sample 3",
          "Sample 4",
          "Sample 98",
          "Sample 14",
          "Sample 103",
          "Sample 100",
          "Sample 2",
          "Sample 99"
         ],
         "xaxis": "x",
         "y": [
          null,
          2,
          null,
          null,
          null,
          null,
          1,
          null,
          4,
          null,
          null,
          null,
          null,
          null,
          2
         ],
         "yaxis": "y"
        },
        {
         "alignmentgroup": "True",
         "hovertemplate": "Organism=Gemmatimonadetes<br>Sample=%{x}<br>Read Count=%{y}<extra></extra>",
         "legendgroup": "Gemmatimonadetes",
         "marker": {
          "color": "#EF553B"
         },
         "name": "Gemmatimonadetes",
         "offsetgroup": "Gemmatimonadetes",
         "orientation": "v",
         "showlegend": true,
         "textposition": "auto",
         "type": "bar",
         "x": [
          "Sample 104",
          "Sample 1",
          "Sample 16",
          "Sample 97",
          "Sample 13",
          "Sample 15",
          "Sample 101",
          "Sample 3",
          "Sample 4",
          "Sample 98",
          "Sample 14",
          "Sample 103",
          "Sample 100",
          "Sample 2",
          "Sample 99"
         ],
         "xaxis": "x",
         "y": [
          null,
          4,
          2,
          4,
          8,
          1,
          2,
          3,
          7,
          2,
          null,
          null,
          3,
          6,
          7
         ],
         "yaxis": "y"
        },
        {
         "alignmentgroup": "True",
         "hovertemplate": "Organism=Fusobacteriia<br>Sample=%{x}<br>Read Count=%{y}<extra></extra>",
         "legendgroup": "Fusobacteriia",
         "marker": {
          "color": "#00cc96"
         },
         "name": "Fusobacteriia",
         "offsetgroup": "Fusobacteriia",
         "orientation": "v",
         "showlegend": true,
         "textposition": "auto",
         "type": "bar",
         "x": [
          "Sample 104",
          "Sample 1",
          "Sample 16",
          "Sample 97",
          "Sample 13",
          "Sample 15",
          "Sample 101",
          "Sample 3",
          "Sample 4",
          "Sample 98",
          "Sample 14",
          "Sample 103",
          "Sample 100",
          "Sample 2",
          "Sample 99"
         ],
         "xaxis": "x",
         "y": [
          155,
          513,
          121,
          471,
          638,
          206,
          435,
          483,
          877,
          940,
          838,
          572,
          357,
          843,
          1156
         ],
         "yaxis": "y"
        },
        {
         "alignmentgroup": "True",
         "hovertemplate": "Organism=Aquificae<br>Sample=%{x}<br>Read Count=%{y}<extra></extra>",
         "legendgroup": "Aquificae",
         "marker": {
          "color": "#ab63fa"
         },
         "name": "Aquificae",
         "offsetgroup": "Aquificae",
         "orientation": "v",
         "showlegend": true,
         "textposition": "auto",
         "type": "bar",
         "x": [
          "Sample 104",
          "Sample 1",
          "Sample 16",
          "Sample 97",
          "Sample 13",
          "Sample 15",
          "Sample 101",
          "Sample 3",
          "Sample 4",
          "Sample 98",
          "Sample 14",
          "Sample 103",
          "Sample 100",
          "Sample 2",
          "Sample 99"
         ],
         "xaxis": "x",
         "y": [
          null,
          4,
          10,
          9,
          25,
          5,
          null,
          5,
          52,
          5,
          8,
          14,
          24,
          28,
          11
         ],
         "yaxis": "y"
        },
        {
         "alignmentgroup": "True",
         "hovertemplate": "Organism=Candidatus Bathyarchaeota<br>Sample=%{x}<br>Read Count=%{y}<extra></extra>",
         "legendgroup": "Candidatus Bathyarchaeota",
         "marker": {
          "color": "#FFA15A"
         },
         "name": "Candidatus Bathyarchaeota",
         "offsetgroup": "Candidatus Bathyarchaeota",
         "orientation": "v",
         "showlegend": true,
         "textposition": "auto",
         "type": "bar",
         "x": [
          "Sample 104",
          "Sample 1",
          "Sample 16",
          "Sample 97",
          "Sample 13",
          "Sample 15",
          "Sample 101",
          "Sample 3",
          "Sample 4",
          "Sample 98",
          "Sample 14",
          "Sample 103",
          "Sample 100",
          "Sample 2",
          "Sample 99"
         ],
         "xaxis": "x",
         "y": [
          null,
          null,
          null,
          null,
          null,
          null,
          null,
          null,
          null,
          null,
          null,
          null,
          null,
          null,
          1
         ],
         "yaxis": "y"
        },
        {
         "alignmentgroup": "True",
         "hovertemplate": "Organism=Kiritimatiellaeota<br>Sample=%{x}<br>Read Count=%{y}<extra></extra>",
         "legendgroup": "Kiritimatiellaeota",
         "marker": {
          "color": "#19d3f3"
         },
         "name": "Kiritimatiellaeota",
         "offsetgroup": "Kiritimatiellaeota",
         "orientation": "v",
         "showlegend": true,
         "textposition": "auto",
         "type": "bar",
         "x": [
          "Sample 104",
          "Sample 1",
          "Sample 16",
          "Sample 97",
          "Sample 13",
          "Sample 15",
          "Sample 101",
          "Sample 3",
          "Sample 4",
          "Sample 98",
          "Sample 14",
          "Sample 103",
          "Sample 100",
          "Sample 2",
          "Sample 99"
         ],
         "xaxis": "x",
         "y": [
          2,
          9,
          11,
          11,
          16,
          14,
          1,
          2,
          13,
          1,
          20,
          5,
          17,
          16,
          21
         ],
         "yaxis": "y"
        },
        {
         "alignmentgroup": "True",
         "hovertemplate": "Organism=Candidatus Kryptonia<br>Sample=%{x}<br>Read Count=%{y}<extra></extra>",
         "legendgroup": "Candidatus Kryptonia",
         "marker": {
          "color": "#FF6692"
         },
         "name": "Candidatus Kryptonia",
         "offsetgroup": "Candidatus Kryptonia",
         "orientation": "v",
         "showlegend": true,
         "textposition": "auto",
         "type": "bar",
         "x": [
          "Sample 104",
          "Sample 1",
          "Sample 16",
          "Sample 97",
          "Sample 13",
          "Sample 15",
          "Sample 101",
          "Sample 3",
          "Sample 4",
          "Sample 98",
          "Sample 14",
          "Sample 103",
          "Sample 100",
          "Sample 2",
          "Sample 99"
         ],
         "xaxis": "x",
         "y": [
          null,
          2,
          null,
          1,
          1,
          null,
          null,
          2,
          6,
          1,
          1,
          null,
          2,
          4,
          1
         ],
         "yaxis": "y"
        },
        {
         "alignmentgroup": "True",
         "hovertemplate": "Organism=Zetaproteobacteria<br>Sample=%{x}<br>Read Count=%{y}<extra></extra>",
         "legendgroup": "Zetaproteobacteria",
         "marker": {
          "color": "#B6E880"
         },
         "name": "Zetaproteobacteria",
         "offsetgroup": "Zetaproteobacteria",
         "orientation": "v",
         "showlegend": true,
         "textposition": "auto",
         "type": "bar",
         "x": [
          "Sample 104",
          "Sample 1",
          "Sample 16",
          "Sample 97",
          "Sample 13",
          "Sample 15",
          "Sample 101",
          "Sample 3",
          "Sample 4",
          "Sample 98",
          "Sample 14",
          "Sample 103",
          "Sample 100",
          "Sample 2",
          "Sample 99"
         ],
         "xaxis": "x",
         "y": [
          null,
          null,
          4,
          1,
          3,
          1,
          null,
          2,
          14,
          1,
          null,
          2,
          3,
          2,
          4
         ],
         "yaxis": "y"
        },
        {
         "alignmentgroup": "True",
         "hovertemplate": "Organism=unclassified Nitrospirae<br>Sample=%{x}<br>Read Count=%{y}<extra></extra>",
         "legendgroup": "unclassified Nitrospirae",
         "marker": {
          "color": "#FF97FF"
         },
         "name": "unclassified Nitrospirae",
         "offsetgroup": "unclassified Nitrospirae",
         "orientation": "v",
         "showlegend": true,
         "textposition": "auto",
         "type": "bar",
         "x": [
          "Sample 104",
          "Sample 1",
          "Sample 16",
          "Sample 97",
          "Sample 13",
          "Sample 15",
          "Sample 101",
          "Sample 3",
          "Sample 4",
          "Sample 98",
          "Sample 14",
          "Sample 103",
          "Sample 100",
          "Sample 2",
          "Sample 99"
         ],
         "xaxis": "x",
         "y": [
          null,
          null,
          1,
          null,
          2,
          null,
          null,
          null,
          null,
          null,
          null,
          null,
          null,
          1,
          1
         ],
         "yaxis": "y"
        },
        {
         "alignmentgroup": "True",
         "hovertemplate": "Organism=Isachenkonia<br>Sample=%{x}<br>Read Count=%{y}<extra></extra>",
         "legendgroup": "Isachenkonia",
         "marker": {
          "color": "#FECB52"
         },
         "name": "Isachenkonia",
         "offsetgroup": "Isachenkonia",
         "orientation": "v",
         "showlegend": true,
         "textposition": "auto",
         "type": "bar",
         "x": [
          "Sample 104",
          "Sample 1",
          "Sample 16",
          "Sample 97",
          "Sample 13",
          "Sample 15",
          "Sample 101",
          "Sample 3",
          "Sample 4",
          "Sample 98",
          "Sample 14",
          "Sample 103",
          "Sample 100",
          "Sample 2",
          "Sample 99"
         ],
         "xaxis": "x",
         "y": [
          null,
          null,
          2,
          null,
          4,
          null,
          null,
          null,
          4,
          null,
          null,
          null,
          2,
          1,
          8
         ],
         "yaxis": "y"
        },
        {
         "alignmentgroup": "True",
         "hovertemplate": "Organism=uncultured bacterium IN-02<br>Sample=%{x}<br>Read Count=%{y}<extra></extra>",
         "legendgroup": "uncultured bacterium IN-02",
         "marker": {
          "color": "#636efa"
         },
         "name": "uncultured bacterium IN-02",
         "offsetgroup": "uncultured bacterium IN-02",
         "orientation": "v",
         "showlegend": true,
         "textposition": "auto",
         "type": "bar",
         "x": [
          "Sample 104",
          "Sample 1",
          "Sample 16",
          "Sample 97",
          "Sample 13",
          "Sample 15",
          "Sample 101",
          "Sample 3",
          "Sample 4",
          "Sample 98",
          "Sample 14",
          "Sample 103",
          "Sample 100",
          "Sample 2",
          "Sample 99"
         ],
         "xaxis": "x",
         "y": [
          null,
          null,
          null,
          null,
          null,
          null,
          null,
          null,
          null,
          null,
          null,
          null,
          null,
          null,
          1
         ],
         "yaxis": "y"
        },
        {
         "alignmentgroup": "True",
         "hovertemplate": "Organism=Methanopyri<br>Sample=%{x}<br>Read Count=%{y}<extra></extra>",
         "legendgroup": "Methanopyri",
         "marker": {
          "color": "#EF553B"
         },
         "name": "Methanopyri",
         "offsetgroup": "Methanopyri",
         "orientation": "v",
         "showlegend": true,
         "textposition": "auto",
         "type": "bar",
         "x": [
          "Sample 104",
          "Sample 1",
          "Sample 16",
          "Sample 97",
          "Sample 13",
          "Sample 15",
          "Sample 101",
          "Sample 3",
          "Sample 4",
          "Sample 98",
          "Sample 14",
          "Sample 103",
          "Sample 100",
          "Sample 2",
          "Sample 99"
         ],
         "xaxis": "x",
         "y": [
          null,
          1,
          2,
          4,
          null,
          1,
          null,
          null,
          2,
          null,
          3,
          null,
          1,
          1,
          1
         ],
         "yaxis": "y"
        },
        {
         "alignmentgroup": "True",
         "hovertemplate": "Organism=Crenarchaeota<br>Sample=%{x}<br>Read Count=%{y}<extra></extra>",
         "legendgroup": "Crenarchaeota",
         "marker": {
          "color": "#00cc96"
         },
         "name": "Crenarchaeota",
         "offsetgroup": "Crenarchaeota",
         "orientation": "v",
         "showlegend": true,
         "textposition": "auto",
         "type": "bar",
         "x": [
          "Sample 104",
          "Sample 1",
          "Sample 16",
          "Sample 97",
          "Sample 13",
          "Sample 15",
          "Sample 101",
          "Sample 3",
          "Sample 4",
          "Sample 98",
          "Sample 14",
          "Sample 103",
          "Sample 100",
          "Sample 2",
          "Sample 99"
         ],
         "xaxis": "x",
         "y": [
          null,
          5,
          3,
          3,
          19,
          4,
          1,
          2,
          3,
          3,
          5,
          2,
          7,
          7,
          3
         ],
         "yaxis": "y"
        },
        {
         "alignmentgroup": "True",
         "hovertemplate": "Organism=Thermodesulfobacteria<br>Sample=%{x}<br>Read Count=%{y}<extra></extra>",
         "legendgroup": "Thermodesulfobacteria",
         "marker": {
          "color": "#ab63fa"
         },
         "name": "Thermodesulfobacteria",
         "offsetgroup": "Thermodesulfobacteria",
         "orientation": "v",
         "showlegend": true,
         "textposition": "auto",
         "type": "bar",
         "x": [
          "Sample 104",
          "Sample 1",
          "Sample 16",
          "Sample 97",
          "Sample 13",
          "Sample 15",
          "Sample 101",
          "Sample 3",
          "Sample 4",
          "Sample 98",
          "Sample 14",
          "Sample 103",
          "Sample 100",
          "Sample 2",
          "Sample 99"
         ],
         "xaxis": "x",
         "y": [
          null,
          4,
          2,
          3,
          5,
          3,
          1,
          1,
          7,
          2,
          2,
          1,
          15,
          16,
          4
         ],
         "yaxis": "y"
        },
        {
         "alignmentgroup": "True",
         "hovertemplate": "Organism=Synergistia<br>Sample=%{x}<br>Read Count=%{y}<extra></extra>",
         "legendgroup": "Synergistia",
         "marker": {
          "color": "#FFA15A"
         },
         "name": "Synergistia",
         "offsetgroup": "Synergistia",
         "orientation": "v",
         "showlegend": true,
         "textposition": "auto",
         "type": "bar",
         "x": [
          "Sample 104",
          "Sample 1",
          "Sample 16",
          "Sample 97",
          "Sample 13",
          "Sample 15",
          "Sample 101",
          "Sample 3",
          "Sample 4",
          "Sample 98",
          "Sample 14",
          "Sample 103",
          "Sample 100",
          "Sample 2",
          "Sample 99"
         ],
         "xaxis": "x",
         "y": [
          33,
          411,
          2907,
          287,
          7564,
          210,
          83,
          99,
          349,
          163,
          3686,
          30,
          273,
          317,
          275
         ],
         "yaxis": "y"
        },
        {
         "alignmentgroup": "True",
         "hovertemplate": "Organism=Betaproteobacteria<br>Sample=%{x}<br>Read Count=%{y}<extra></extra>",
         "legendgroup": "Betaproteobacteria",
         "marker": {
          "color": "#19d3f3"
         },
         "name": "Betaproteobacteria",
         "offsetgroup": "Betaproteobacteria",
         "orientation": "v",
         "showlegend": true,
         "textposition": "auto",
         "type": "bar",
         "x": [
          "Sample 104",
          "Sample 1",
          "Sample 16",
          "Sample 97",
          "Sample 13",
          "Sample 15",
          "Sample 101",
          "Sample 3",
          "Sample 4",
          "Sample 98",
          "Sample 14",
          "Sample 103",
          "Sample 100",
          "Sample 2",
          "Sample 99"
         ],
         "xaxis": "x",
         "y": [
          277743,
          82176,
          89173,
          283232,
          49235,
          374736,
          35943,
          67439,
          47429,
          145232,
          476244,
          293587,
          47099,
          101177,
          238605
         ],
         "yaxis": "y"
        },
        {
         "alignmentgroup": "True",
         "hovertemplate": "Organism=delta/epsilon subdivisions<br>Sample=%{x}<br>Read Count=%{y}<extra></extra>",
         "legendgroup": "delta/epsilon subdivisions",
         "marker": {
          "color": "#FF6692"
         },
         "name": "delta/epsilon subdivisions",
         "offsetgroup": "delta/epsilon subdivisions",
         "orientation": "v",
         "showlegend": true,
         "textposition": "auto",
         "type": "bar",
         "x": [
          "Sample 104",
          "Sample 1",
          "Sample 16",
          "Sample 97",
          "Sample 13",
          "Sample 15",
          "Sample 101",
          "Sample 3",
          "Sample 4",
          "Sample 98",
          "Sample 14",
          "Sample 103",
          "Sample 100",
          "Sample 2",
          "Sample 99"
         ],
         "xaxis": "x",
         "y": [
          5817,
          51004,
          152470,
          122619,
          169800,
          114366,
          14169,
          5082,
          134665,
          41488,
          100008,
          38333,
          8356,
          65773,
          48812
         ],
         "yaxis": "y"
        },
        {
         "alignmentgroup": "True",
         "hovertemplate": "Organism=uncultured bacterium<br>Sample=%{x}<br>Read Count=%{y}<extra></extra>",
         "legendgroup": "uncultured bacterium",
         "marker": {
          "color": "#B6E880"
         },
         "name": "uncultured bacterium",
         "offsetgroup": "uncultured bacterium",
         "orientation": "v",
         "showlegend": true,
         "textposition": "auto",
         "type": "bar",
         "x": [
          "Sample 104",
          "Sample 1",
          "Sample 16",
          "Sample 97",
          "Sample 13",
          "Sample 15",
          "Sample 101",
          "Sample 3",
          "Sample 4",
          "Sample 98",
          "Sample 14",
          "Sample 103",
          "Sample 100",
          "Sample 2",
          "Sample 99"
         ],
         "xaxis": "x",
         "y": [
          null,
          3,
          1,
          1,
          1,
          4,
          1,
          null,
          2,
          1,
          null,
          1,
          2,
          null,
          2
         ],
         "yaxis": "y"
        },
        {
         "alignmentgroup": "True",
         "hovertemplate": "Organism=candidate division Zixibacteria<br>Sample=%{x}<br>Read Count=%{y}<extra></extra>",
         "legendgroup": "candidate division Zixibacteria",
         "marker": {
          "color": "#FF97FF"
         },
         "name": "candidate division Zixibacteria",
         "offsetgroup": "candidate division Zixibacteria",
         "orientation": "v",
         "showlegend": true,
         "textposition": "auto",
         "type": "bar",
         "x": [
          "Sample 104",
          "Sample 1",
          "Sample 16",
          "Sample 97",
          "Sample 13",
          "Sample 15",
          "Sample 101",
          "Sample 3",
          "Sample 4",
          "Sample 98",
          "Sample 14",
          "Sample 103",
          "Sample 100",
          "Sample 2",
          "Sample 99"
         ],
         "xaxis": "x",
         "y": [
          null,
          null,
          null,
          null,
          2,
          null,
          null,
          null,
          null,
          null,
          null,
          null,
          null,
          1,
          null
         ],
         "yaxis": "y"
        },
        {
         "alignmentgroup": "True",
         "hovertemplate": "Organism=Natronospirillum<br>Sample=%{x}<br>Read Count=%{y}<extra></extra>",
         "legendgroup": "Natronospirillum",
         "marker": {
          "color": "#FECB52"
         },
         "name": "Natronospirillum",
         "offsetgroup": "Natronospirillum",
         "orientation": "v",
         "showlegend": true,
         "textposition": "auto",
         "type": "bar",
         "x": [
          "Sample 104",
          "Sample 1",
          "Sample 16",
          "Sample 97",
          "Sample 13",
          "Sample 15",
          "Sample 101",
          "Sample 3",
          "Sample 4",
          "Sample 98",
          "Sample 14",
          "Sample 103",
          "Sample 100",
          "Sample 2",
          "Sample 99"
         ],
         "xaxis": "x",
         "y": [
          null,
          null,
          null,
          null,
          3,
          null,
          null,
          null,
          null,
          null,
          null,
          null,
          1,
          1,
          1
         ],
         "yaxis": "y"
        },
        {
         "alignmentgroup": "True",
         "hovertemplate": "Organism=Chloroflexi<br>Sample=%{x}<br>Read Count=%{y}<extra></extra>",
         "legendgroup": "Chloroflexi",
         "marker": {
          "color": "#636efa"
         },
         "name": "Chloroflexi",
         "offsetgroup": "Chloroflexi",
         "orientation": "v",
         "showlegend": true,
         "textposition": "auto",
         "type": "bar",
         "x": [
          "Sample 104",
          "Sample 1",
          "Sample 16",
          "Sample 97",
          "Sample 13",
          "Sample 15",
          "Sample 101",
          "Sample 3",
          "Sample 4",
          "Sample 98",
          "Sample 14",
          "Sample 103",
          "Sample 100",
          "Sample 2",
          "Sample 99"
         ],
         "xaxis": "x",
         "y": [
          33,
          176,
          31,
          146,
          319,
          97,
          38,
          39,
          152,
          161,
          189,
          10,
          132,
          169,
          146
         ],
         "yaxis": "y"
        },
        {
         "alignmentgroup": "True",
         "hovertemplate": "Organism=Stenosarchaea group<br>Sample=%{x}<br>Read Count=%{y}<extra></extra>",
         "legendgroup": "Stenosarchaea group",
         "marker": {
          "color": "#EF553B"
         },
         "name": "Stenosarchaea group",
         "offsetgroup": "Stenosarchaea group",
         "orientation": "v",
         "showlegend": true,
         "textposition": "auto",
         "type": "bar",
         "x": [
          "Sample 104",
          "Sample 1",
          "Sample 16",
          "Sample 97",
          "Sample 13",
          "Sample 15",
          "Sample 101",
          "Sample 3",
          "Sample 4",
          "Sample 98",
          "Sample 14",
          "Sample 103",
          "Sample 100",
          "Sample 2",
          "Sample 99"
         ],
         "xaxis": "x",
         "y": [
          57,
          183,
          78,
          139,
          267,
          105,
          29,
          58,
          135,
          56,
          124,
          15,
          152,
          210,
          130
         ],
         "yaxis": "y"
        },
        {
         "alignmentgroup": "True",
         "hovertemplate": "Organism=Hydrogenophilalia<br>Sample=%{x}<br>Read Count=%{y}<extra></extra>",
         "legendgroup": "Hydrogenophilalia",
         "marker": {
          "color": "#00cc96"
         },
         "name": "Hydrogenophilalia",
         "offsetgroup": "Hydrogenophilalia",
         "orientation": "v",
         "showlegend": true,
         "textposition": "auto",
         "type": "bar",
         "x": [
          "Sample 104",
          "Sample 1",
          "Sample 16",
          "Sample 97",
          "Sample 13",
          "Sample 15",
          "Sample 101",
          "Sample 3",
          "Sample 4",
          "Sample 98",
          "Sample 14",
          "Sample 103",
          "Sample 100",
          "Sample 2",
          "Sample 99"
         ],
         "xaxis": "x",
         "y": [
          7,
          3,
          1,
          8,
          10,
          11,
          3,
          null,
          6,
          3,
          4,
          null,
          6,
          13,
          8
         ],
         "yaxis": "y"
        },
        {
         "alignmentgroup": "True",
         "hovertemplate": "Organism=Actinobacteria<br>Sample=%{x}<br>Read Count=%{y}<extra></extra>",
         "legendgroup": "Actinobacteria",
         "marker": {
          "color": "#ab63fa"
         },
         "name": "Actinobacteria",
         "offsetgroup": "Actinobacteria",
         "orientation": "v",
         "showlegend": true,
         "textposition": "auto",
         "type": "bar",
         "x": [
          "Sample 104",
          "Sample 1",
          "Sample 16",
          "Sample 97",
          "Sample 13",
          "Sample 15",
          "Sample 101",
          "Sample 3",
          "Sample 4",
          "Sample 98",
          "Sample 14",
          "Sample 103",
          "Sample 100",
          "Sample 2",
          "Sample 99"
         ],
         "xaxis": "x",
         "y": [
          335530,
          1375509,
          280366,
          391601,
          474958,
          565876,
          832599,
          310433,
          1180256,
          655485,
          1910993,
          843781,
          902937,
          1532819,
          665926
         ],
         "yaxis": "y"
        },
        {
         "alignmentgroup": "True",
         "hovertemplate": "Organism=Candidatus Cloacimonetes<br>Sample=%{x}<br>Read Count=%{y}<extra></extra>",
         "legendgroup": "Candidatus Cloacimonetes",
         "marker": {
          "color": "#FFA15A"
         },
         "name": "Candidatus Cloacimonetes",
         "offsetgroup": "Candidatus Cloacimonetes",
         "orientation": "v",
         "showlegend": true,
         "textposition": "auto",
         "type": "bar",
         "x": [
          "Sample 104",
          "Sample 1",
          "Sample 16",
          "Sample 97",
          "Sample 13",
          "Sample 15",
          "Sample 101",
          "Sample 3",
          "Sample 4",
          "Sample 98",
          "Sample 14",
          "Sample 103",
          "Sample 100",
          "Sample 2",
          "Sample 99"
         ],
         "xaxis": "x",
         "y": [
          null,
          null,
          null,
          1,
          1,
          2,
          null,
          2,
          2,
          1,
          2,
          null,
          2,
          2,
          null
         ],
         "yaxis": "y"
        },
        {
         "alignmentgroup": "True",
         "hovertemplate": "Organism=Methanomada group<br>Sample=%{x}<br>Read Count=%{y}<extra></extra>",
         "legendgroup": "Methanomada group",
         "marker": {
          "color": "#19d3f3"
         },
         "name": "Methanomada group",
         "offsetgroup": "Methanomada group",
         "orientation": "v",
         "showlegend": true,
         "textposition": "auto",
         "type": "bar",
         "x": [
          "Sample 104",
          "Sample 1",
          "Sample 16",
          "Sample 97",
          "Sample 13",
          "Sample 15",
          "Sample 101",
          "Sample 3",
          "Sample 4",
          "Sample 98",
          "Sample 14",
          "Sample 103",
          "Sample 100",
          "Sample 2",
          "Sample 99"
         ],
         "xaxis": "x",
         "y": [
          251,
          216,
          143,
          122103,
          158461,
          96,
          2778,
          65579,
          411401,
          187,
          4056,
          110,
          142032,
          89558,
          34709
         ],
         "yaxis": "y"
        },
        {
         "alignmentgroup": "True",
         "hovertemplate": "Organism=other<br>Sample=%{x}<br>Read Count=%{y}<extra></extra>",
         "legendgroup": "other",
         "marker": {
          "color": "#FF6692"
         },
         "name": "other",
         "offsetgroup": "other",
         "orientation": "v",
         "showlegend": true,
         "textposition": "auto",
         "type": "bar",
         "x": [
          "Sample 104",
          "Sample 1",
          "Sample 16",
          "Sample 97",
          "Sample 13",
          "Sample 15",
          "Sample 101",
          "Sample 3",
          "Sample 4",
          "Sample 98",
          "Sample 14",
          "Sample 103",
          "Sample 100",
          "Sample 2",
          "Sample 99"
         ],
         "xaxis": "x",
         "y": [
          0,
          0,
          0,
          0,
          0,
          0,
          0,
          0,
          0,
          0,
          0,
          0,
          0,
          0,
          0
         ],
         "yaxis": "y"
        }
       ],
       "layout": {
        "barmode": "relative",
        "legend": {
         "title": {
          "text": "Organism"
         },
         "tracegroupgap": 0
        },
        "margin": {
         "t": 60
        },
        "showlegend": false,
        "template": {
         "data": {
          "bar": [
           {
            "error_x": {
             "color": "#2a3f5f"
            },
            "error_y": {
             "color": "#2a3f5f"
            },
            "marker": {
             "line": {
              "color": "#E5ECF6",
              "width": 0.5
             }
            },
            "type": "bar"
           }
          ],
          "barpolar": [
           {
            "marker": {
             "line": {
              "color": "#E5ECF6",
              "width": 0.5
             }
            },
            "type": "barpolar"
           }
          ],
          "carpet": [
           {
            "aaxis": {
             "endlinecolor": "#2a3f5f",
             "gridcolor": "white",
             "linecolor": "white",
             "minorgridcolor": "white",
             "startlinecolor": "#2a3f5f"
            },
            "baxis": {
             "endlinecolor": "#2a3f5f",
             "gridcolor": "white",
             "linecolor": "white",
             "minorgridcolor": "white",
             "startlinecolor": "#2a3f5f"
            },
            "type": "carpet"
           }
          ],
          "choropleth": [
           {
            "colorbar": {
             "outlinewidth": 0,
             "ticks": ""
            },
            "type": "choropleth"
           }
          ],
          "contour": [
           {
            "colorbar": {
             "outlinewidth": 0,
             "ticks": ""
            },
            "colorscale": [
             [
              0,
              "#0d0887"
             ],
             [
              0.1111111111111111,
              "#46039f"
             ],
             [
              0.2222222222222222,
              "#7201a8"
             ],
             [
              0.3333333333333333,
              "#9c179e"
             ],
             [
              0.4444444444444444,
              "#bd3786"
             ],
             [
              0.5555555555555556,
              "#d8576b"
             ],
             [
              0.6666666666666666,
              "#ed7953"
             ],
             [
              0.7777777777777778,
              "#fb9f3a"
             ],
             [
              0.8888888888888888,
              "#fdca26"
             ],
             [
              1,
              "#f0f921"
             ]
            ],
            "type": "contour"
           }
          ],
          "contourcarpet": [
           {
            "colorbar": {
             "outlinewidth": 0,
             "ticks": ""
            },
            "type": "contourcarpet"
           }
          ],
          "heatmap": [
           {
            "colorbar": {
             "outlinewidth": 0,
             "ticks": ""
            },
            "colorscale": [
             [
              0,
              "#0d0887"
             ],
             [
              0.1111111111111111,
              "#46039f"
             ],
             [
              0.2222222222222222,
              "#7201a8"
             ],
             [
              0.3333333333333333,
              "#9c179e"
             ],
             [
              0.4444444444444444,
              "#bd3786"
             ],
             [
              0.5555555555555556,
              "#d8576b"
             ],
             [
              0.6666666666666666,
              "#ed7953"
             ],
             [
              0.7777777777777778,
              "#fb9f3a"
             ],
             [
              0.8888888888888888,
              "#fdca26"
             ],
             [
              1,
              "#f0f921"
             ]
            ],
            "type": "heatmap"
           }
          ],
          "heatmapgl": [
           {
            "colorbar": {
             "outlinewidth": 0,
             "ticks": ""
            },
            "colorscale": [
             [
              0,
              "#0d0887"
             ],
             [
              0.1111111111111111,
              "#46039f"
             ],
             [
              0.2222222222222222,
              "#7201a8"
             ],
             [
              0.3333333333333333,
              "#9c179e"
             ],
             [
              0.4444444444444444,
              "#bd3786"
             ],
             [
              0.5555555555555556,
              "#d8576b"
             ],
             [
              0.6666666666666666,
              "#ed7953"
             ],
             [
              0.7777777777777778,
              "#fb9f3a"
             ],
             [
              0.8888888888888888,
              "#fdca26"
             ],
             [
              1,
              "#f0f921"
             ]
            ],
            "type": "heatmapgl"
           }
          ],
          "histogram": [
           {
            "marker": {
             "colorbar": {
              "outlinewidth": 0,
              "ticks": ""
             }
            },
            "type": "histogram"
           }
          ],
          "histogram2d": [
           {
            "colorbar": {
             "outlinewidth": 0,
             "ticks": ""
            },
            "colorscale": [
             [
              0,
              "#0d0887"
             ],
             [
              0.1111111111111111,
              "#46039f"
             ],
             [
              0.2222222222222222,
              "#7201a8"
             ],
             [
              0.3333333333333333,
              "#9c179e"
             ],
             [
              0.4444444444444444,
              "#bd3786"
             ],
             [
              0.5555555555555556,
              "#d8576b"
             ],
             [
              0.6666666666666666,
              "#ed7953"
             ],
             [
              0.7777777777777778,
              "#fb9f3a"
             ],
             [
              0.8888888888888888,
              "#fdca26"
             ],
             [
              1,
              "#f0f921"
             ]
            ],
            "type": "histogram2d"
           }
          ],
          "histogram2dcontour": [
           {
            "colorbar": {
             "outlinewidth": 0,
             "ticks": ""
            },
            "colorscale": [
             [
              0,
              "#0d0887"
             ],
             [
              0.1111111111111111,
              "#46039f"
             ],
             [
              0.2222222222222222,
              "#7201a8"
             ],
             [
              0.3333333333333333,
              "#9c179e"
             ],
             [
              0.4444444444444444,
              "#bd3786"
             ],
             [
              0.5555555555555556,
              "#d8576b"
             ],
             [
              0.6666666666666666,
              "#ed7953"
             ],
             [
              0.7777777777777778,
              "#fb9f3a"
             ],
             [
              0.8888888888888888,
              "#fdca26"
             ],
             [
              1,
              "#f0f921"
             ]
            ],
            "type": "histogram2dcontour"
           }
          ],
          "mesh3d": [
           {
            "colorbar": {
             "outlinewidth": 0,
             "ticks": ""
            },
            "type": "mesh3d"
           }
          ],
          "parcoords": [
           {
            "line": {
             "colorbar": {
              "outlinewidth": 0,
              "ticks": ""
             }
            },
            "type": "parcoords"
           }
          ],
          "pie": [
           {
            "automargin": true,
            "type": "pie"
           }
          ],
          "scatter": [
           {
            "marker": {
             "colorbar": {
              "outlinewidth": 0,
              "ticks": ""
             }
            },
            "type": "scatter"
           }
          ],
          "scatter3d": [
           {
            "line": {
             "colorbar": {
              "outlinewidth": 0,
              "ticks": ""
             }
            },
            "marker": {
             "colorbar": {
              "outlinewidth": 0,
              "ticks": ""
             }
            },
            "type": "scatter3d"
           }
          ],
          "scattercarpet": [
           {
            "marker": {
             "colorbar": {
              "outlinewidth": 0,
              "ticks": ""
             }
            },
            "type": "scattercarpet"
           }
          ],
          "scattergeo": [
           {
            "marker": {
             "colorbar": {
              "outlinewidth": 0,
              "ticks": ""
             }
            },
            "type": "scattergeo"
           }
          ],
          "scattergl": [
           {
            "marker": {
             "colorbar": {
              "outlinewidth": 0,
              "ticks": ""
             }
            },
            "type": "scattergl"
           }
          ],
          "scattermapbox": [
           {
            "marker": {
             "colorbar": {
              "outlinewidth": 0,
              "ticks": ""
             }
            },
            "type": "scattermapbox"
           }
          ],
          "scatterpolar": [
           {
            "marker": {
             "colorbar": {
              "outlinewidth": 0,
              "ticks": ""
             }
            },
            "type": "scatterpolar"
           }
          ],
          "scatterpolargl": [
           {
            "marker": {
             "colorbar": {
              "outlinewidth": 0,
              "ticks": ""
             }
            },
            "type": "scatterpolargl"
           }
          ],
          "scatterternary": [
           {
            "marker": {
             "colorbar": {
              "outlinewidth": 0,
              "ticks": ""
             }
            },
            "type": "scatterternary"
           }
          ],
          "surface": [
           {
            "colorbar": {
             "outlinewidth": 0,
             "ticks": ""
            },
            "colorscale": [
             [
              0,
              "#0d0887"
             ],
             [
              0.1111111111111111,
              "#46039f"
             ],
             [
              0.2222222222222222,
              "#7201a8"
             ],
             [
              0.3333333333333333,
              "#9c179e"
             ],
             [
              0.4444444444444444,
              "#bd3786"
             ],
             [
              0.5555555555555556,
              "#d8576b"
             ],
             [
              0.6666666666666666,
              "#ed7953"
             ],
             [
              0.7777777777777778,
              "#fb9f3a"
             ],
             [
              0.8888888888888888,
              "#fdca26"
             ],
             [
              1,
              "#f0f921"
             ]
            ],
            "type": "surface"
           }
          ],
          "table": [
           {
            "cells": {
             "fill": {
              "color": "#EBF0F8"
             },
             "line": {
              "color": "white"
             }
            },
            "header": {
             "fill": {
              "color": "#C8D4E3"
             },
             "line": {
              "color": "white"
             }
            },
            "type": "table"
           }
          ]
         },
         "layout": {
          "annotationdefaults": {
           "arrowcolor": "#2a3f5f",
           "arrowhead": 0,
           "arrowwidth": 1
          },
          "coloraxis": {
           "colorbar": {
            "outlinewidth": 0,
            "ticks": ""
           }
          },
          "colorscale": {
           "diverging": [
            [
             0,
             "#8e0152"
            ],
            [
             0.1,
             "#c51b7d"
            ],
            [
             0.2,
             "#de77ae"
            ],
            [
             0.3,
             "#f1b6da"
            ],
            [
             0.4,
             "#fde0ef"
            ],
            [
             0.5,
             "#f7f7f7"
            ],
            [
             0.6,
             "#e6f5d0"
            ],
            [
             0.7,
             "#b8e186"
            ],
            [
             0.8,
             "#7fbc41"
            ],
            [
             0.9,
             "#4d9221"
            ],
            [
             1,
             "#276419"
            ]
           ],
           "sequential": [
            [
             0,
             "#0d0887"
            ],
            [
             0.1111111111111111,
             "#46039f"
            ],
            [
             0.2222222222222222,
             "#7201a8"
            ],
            [
             0.3333333333333333,
             "#9c179e"
            ],
            [
             0.4444444444444444,
             "#bd3786"
            ],
            [
             0.5555555555555556,
             "#d8576b"
            ],
            [
             0.6666666666666666,
             "#ed7953"
            ],
            [
             0.7777777777777778,
             "#fb9f3a"
            ],
            [
             0.8888888888888888,
             "#fdca26"
            ],
            [
             1,
             "#f0f921"
            ]
           ],
           "sequentialminus": [
            [
             0,
             "#0d0887"
            ],
            [
             0.1111111111111111,
             "#46039f"
            ],
            [
             0.2222222222222222,
             "#7201a8"
            ],
            [
             0.3333333333333333,
             "#9c179e"
            ],
            [
             0.4444444444444444,
             "#bd3786"
            ],
            [
             0.5555555555555556,
             "#d8576b"
            ],
            [
             0.6666666666666666,
             "#ed7953"
            ],
            [
             0.7777777777777778,
             "#fb9f3a"
            ],
            [
             0.8888888888888888,
             "#fdca26"
            ],
            [
             1,
             "#f0f921"
            ]
           ]
          },
          "colorway": [
           "#636efa",
           "#EF553B",
           "#00cc96",
           "#ab63fa",
           "#FFA15A",
           "#19d3f3",
           "#FF6692",
           "#B6E880",
           "#FF97FF",
           "#FECB52"
          ],
          "font": {
           "color": "#2a3f5f"
          },
          "geo": {
           "bgcolor": "white",
           "lakecolor": "white",
           "landcolor": "#E5ECF6",
           "showlakes": true,
           "showland": true,
           "subunitcolor": "white"
          },
          "hoverlabel": {
           "align": "left"
          },
          "hovermode": "closest",
          "mapbox": {
           "style": "light"
          },
          "paper_bgcolor": "white",
          "plot_bgcolor": "#E5ECF6",
          "polar": {
           "angularaxis": {
            "gridcolor": "white",
            "linecolor": "white",
            "ticks": ""
           },
           "bgcolor": "#E5ECF6",
           "radialaxis": {
            "gridcolor": "white",
            "linecolor": "white",
            "ticks": ""
           }
          },
          "scene": {
           "xaxis": {
            "backgroundcolor": "#E5ECF6",
            "gridcolor": "white",
            "gridwidth": 2,
            "linecolor": "white",
            "showbackground": true,
            "ticks": "",
            "zerolinecolor": "white"
           },
           "yaxis": {
            "backgroundcolor": "#E5ECF6",
            "gridcolor": "white",
            "gridwidth": 2,
            "linecolor": "white",
            "showbackground": true,
            "ticks": "",
            "zerolinecolor": "white"
           },
           "zaxis": {
            "backgroundcolor": "#E5ECF6",
            "gridcolor": "white",
            "gridwidth": 2,
            "linecolor": "white",
            "showbackground": true,
            "ticks": "",
            "zerolinecolor": "white"
           }
          },
          "shapedefaults": {
           "line": {
            "color": "#2a3f5f"
           }
          },
          "ternary": {
           "aaxis": {
            "gridcolor": "white",
            "linecolor": "white",
            "ticks": ""
           },
           "baxis": {
            "gridcolor": "white",
            "linecolor": "white",
            "ticks": ""
           },
           "bgcolor": "#E5ECF6",
           "caxis": {
            "gridcolor": "white",
            "linecolor": "white",
            "ticks": ""
           }
          },
          "title": {
           "x": 0.05
          },
          "xaxis": {
           "automargin": true,
           "gridcolor": "white",
           "linecolor": "white",
           "ticks": "",
           "title": {
            "standoff": 15
           },
           "zerolinecolor": "white",
           "zerolinewidth": 2
          },
          "yaxis": {
           "automargin": true,
           "gridcolor": "white",
           "linecolor": "white",
           "ticks": "",
           "title": {
            "standoff": 15
           },
           "zerolinecolor": "white",
           "zerolinewidth": 2
          }
         }
        },
        "xaxis": {
         "anchor": "y",
         "domain": [
          0,
          1
         ],
         "title": {
          "text": "Sample"
         }
        },
        "yaxis": {
         "anchor": "x",
         "domain": [
          0,
          1
         ],
         "title": {
          "text": "Read Count"
         }
        }
       }
      },
      "text/html": [
       "<div>\n",
       "        \n",
       "        \n",
       "            <div id=\"174493a9-571e-4166-a1ab-8b054fa39e19\" class=\"plotly-graph-div\" style=\"height:525px; width:100%;\"></div>\n",
       "            <script type=\"text/javascript\">\n",
       "                require([\"plotly\"], function(Plotly) {\n",
       "                    window.PLOTLYENV=window.PLOTLYENV || {};\n",
       "                    \n",
       "                if (document.getElementById(\"174493a9-571e-4166-a1ab-8b054fa39e19\")) {\n",
       "                    Plotly.newPlot(\n",
       "                        '174493a9-571e-4166-a1ab-8b054fa39e19',\n",
       "                        [{\"alignmentgroup\": \"True\", \"hovertemplate\": \"Organism=Nitrospira<br>Sample=%{x}<br>Read Count=%{y}<extra></extra>\", \"legendgroup\": \"Nitrospira\", \"marker\": {\"color\": \"#636efa\"}, \"name\": \"Nitrospira\", \"offsetgroup\": \"Nitrospira\", \"orientation\": \"v\", \"showlegend\": true, \"textposition\": \"auto\", \"type\": \"bar\", \"x\": [\"Sample 104\", \"Sample 1\", \"Sample 16\", \"Sample 97\", \"Sample 13\", \"Sample 15\", \"Sample 101\", \"Sample 3\", \"Sample 4\", \"Sample 98\", \"Sample 14\", \"Sample 103\", \"Sample 100\", \"Sample 2\", \"Sample 99\"], \"xaxis\": \"x\", \"y\": [null, 4.0, 4.0, 9.0, 11.0, 6.0, null, 4.0, 8.0, 7.0, 22.0, null, 16.0, 24.0, 16.0], \"yaxis\": \"y\"}, {\"alignmentgroup\": \"True\", \"hovertemplate\": \"Organism=Fibrobacteres<br>Sample=%{x}<br>Read Count=%{y}<extra></extra>\", \"legendgroup\": \"Fibrobacteres\", \"marker\": {\"color\": \"#EF553B\"}, \"name\": \"Fibrobacteres\", \"offsetgroup\": \"Fibrobacteres\", \"orientation\": \"v\", \"showlegend\": true, \"textposition\": \"auto\", \"type\": \"bar\", \"x\": [\"Sample 104\", \"Sample 1\", \"Sample 16\", \"Sample 97\", \"Sample 13\", \"Sample 15\", \"Sample 101\", \"Sample 3\", \"Sample 4\", \"Sample 98\", \"Sample 14\", \"Sample 103\", \"Sample 100\", \"Sample 2\", \"Sample 99\"], \"xaxis\": \"x\", \"y\": [14.0, 40.0, 59.0, 70.0, 303.0, 146.0, 27.0, 378.0, 92.0, 65.0, 441.0, 71.0, 628.0, 255.0, 243.0], \"yaxis\": \"y\"}, {\"alignmentgroup\": \"True\", \"hovertemplate\": \"Organism=Nitrospinae<br>Sample=%{x}<br>Read Count=%{y}<extra></extra>\", \"legendgroup\": \"Nitrospinae\", \"marker\": {\"color\": \"#00cc96\"}, \"name\": \"Nitrospinae\", \"offsetgroup\": \"Nitrospinae\", \"orientation\": \"v\", \"showlegend\": true, \"textposition\": \"auto\", \"type\": \"bar\", \"x\": [\"Sample 104\", \"Sample 1\", \"Sample 16\", \"Sample 97\", \"Sample 13\", \"Sample 15\", \"Sample 101\", \"Sample 3\", \"Sample 4\", \"Sample 98\", \"Sample 14\", \"Sample 103\", \"Sample 100\", \"Sample 2\", \"Sample 99\"], \"xaxis\": \"x\", \"y\": [null, 1.0, 1.0, 1.0, 6.0, 2.0, null, 2.0, null, 1.0, null, null, 1.0, null, 1.0], \"yaxis\": \"y\"}, {\"alignmentgroup\": \"True\", \"hovertemplate\": \"Organism=Thermotogae<br>Sample=%{x}<br>Read Count=%{y}<extra></extra>\", \"legendgroup\": \"Thermotogae\", \"marker\": {\"color\": \"#ab63fa\"}, \"name\": \"Thermotogae\", \"offsetgroup\": \"Thermotogae\", \"orientation\": \"v\", \"showlegend\": true, \"textposition\": \"auto\", \"type\": \"bar\", \"x\": [\"Sample 104\", \"Sample 1\", \"Sample 16\", \"Sample 97\", \"Sample 13\", \"Sample 15\", \"Sample 101\", \"Sample 3\", \"Sample 4\", \"Sample 98\", \"Sample 14\", \"Sample 103\", \"Sample 100\", \"Sample 2\", \"Sample 99\"], \"xaxis\": \"x\", \"y\": [5.0, 30.0, 9.0, 39.0, 64.0, 18.0, 6.0, 16.0, 146.0, 26.0, 41.0, 5.0, 67.0, 78.0, 47.0], \"yaxis\": \"y\"}, {\"alignmentgroup\": \"True\", \"hovertemplate\": \"Organism=Elusimicrobia<br>Sample=%{x}<br>Read Count=%{y}<extra></extra>\", \"legendgroup\": \"Elusimicrobia\", \"marker\": {\"color\": \"#FFA15A\"}, \"name\": \"Elusimicrobia\", \"offsetgroup\": \"Elusimicrobia\", \"orientation\": \"v\", \"showlegend\": true, \"textposition\": \"auto\", \"type\": \"bar\", \"x\": [\"Sample 104\", \"Sample 1\", \"Sample 16\", \"Sample 97\", \"Sample 13\", \"Sample 15\", \"Sample 101\", \"Sample 3\", \"Sample 4\", \"Sample 98\", \"Sample 14\", \"Sample 103\", \"Sample 100\", \"Sample 2\", \"Sample 99\"], \"xaxis\": \"x\", \"y\": [null, null, 3.0, 1.0, 2.0, null, 2.0, 1.0, null, 1.0, 1.0, null, null, 4.0, 2.0], \"yaxis\": \"y\"}, {\"alignmentgroup\": \"True\", \"hovertemplate\": \"Organism=Candidatus Methanoliparia<br>Sample=%{x}<br>Read Count=%{y}<extra></extra>\", \"legendgroup\": \"Candidatus Methanoliparia\", \"marker\": {\"color\": \"#19d3f3\"}, \"name\": \"Candidatus Methanoliparia\", \"offsetgroup\": \"Candidatus Methanoliparia\", \"orientation\": \"v\", \"showlegend\": true, \"textposition\": \"auto\", \"type\": \"bar\", \"x\": [\"Sample 104\", \"Sample 1\", \"Sample 16\", \"Sample 97\", \"Sample 13\", \"Sample 15\", \"Sample 101\", \"Sample 3\", \"Sample 4\", \"Sample 98\", \"Sample 14\", \"Sample 103\", \"Sample 100\", \"Sample 2\", \"Sample 99\"], \"xaxis\": \"x\", \"y\": [null, null, null, null, null, null, null, 1.0, null, 8.0, null, null, 1.0, null, null], \"yaxis\": \"y\"}, {\"alignmentgroup\": \"True\", \"hovertemplate\": \"Organism=Thermoanaerobaculia<br>Sample=%{x}<br>Read Count=%{y}<extra></extra>\", \"legendgroup\": \"Thermoanaerobaculia\", \"marker\": {\"color\": \"#FF6692\"}, \"name\": \"Thermoanaerobaculia\", \"offsetgroup\": \"Thermoanaerobaculia\", \"orientation\": \"v\", \"showlegend\": true, \"textposition\": \"auto\", \"type\": \"bar\", \"x\": [\"Sample 104\", \"Sample 1\", \"Sample 16\", \"Sample 97\", \"Sample 13\", \"Sample 15\", \"Sample 101\", \"Sample 3\", \"Sample 4\", \"Sample 98\", \"Sample 14\", \"Sample 103\", \"Sample 100\", \"Sample 2\", \"Sample 99\"], \"xaxis\": \"x\", \"y\": [null, 1.0, null, 1.0, 1.0, 1.0, null, 1.0, 2.0, null, null, null, null, null, 2.0], \"yaxis\": \"y\"}, {\"alignmentgroup\": \"True\", \"hovertemplate\": \"Organism=Cyanobacteria/Melainabacteria group<br>Sample=%{x}<br>Read Count=%{y}<extra></extra>\", \"legendgroup\": \"Cyanobacteria/Melainabacteria group\", \"marker\": {\"color\": \"#B6E880\"}, \"name\": \"Cyanobacteria/Melainabacteria group\", \"offsetgroup\": \"Cyanobacteria/Melainabacteria group\", \"orientation\": \"v\", \"showlegend\": true, \"textposition\": \"auto\", \"type\": \"bar\", \"x\": [\"Sample 104\", \"Sample 1\", \"Sample 16\", \"Sample 97\", \"Sample 13\", \"Sample 15\", \"Sample 101\", \"Sample 3\", \"Sample 4\", \"Sample 98\", \"Sample 14\", \"Sample 103\", \"Sample 100\", \"Sample 2\", \"Sample 99\"], \"xaxis\": \"x\", \"y\": [136.0, 509.0, 519.0, 94930.0, 1887.0, 12716.0, 253.0, 244.0, 2153.0, 30902.0, 963.0, 372.0, 1785.0, 186139.0, 307792.0], \"yaxis\": \"y\"}, {\"alignmentgroup\": \"True\", \"hovertemplate\": \"Organism=Archaeoglobi<br>Sample=%{x}<br>Read Count=%{y}<extra></extra>\", \"legendgroup\": \"Archaeoglobi\", \"marker\": {\"color\": \"#FF97FF\"}, \"name\": \"Archaeoglobi\", \"offsetgroup\": \"Archaeoglobi\", \"orientation\": \"v\", \"showlegend\": true, \"textposition\": \"auto\", \"type\": \"bar\", \"x\": [\"Sample 104\", \"Sample 1\", \"Sample 16\", \"Sample 97\", \"Sample 13\", \"Sample 15\", \"Sample 101\", \"Sample 3\", \"Sample 4\", \"Sample 98\", \"Sample 14\", \"Sample 103\", \"Sample 100\", \"Sample 2\", \"Sample 99\"], \"xaxis\": \"x\", \"y\": [null, 1.0, 1.0, null, 1.0, null, null, null, 2.0, null, null, null, 3.0, 1.0, 1.0], \"yaxis\": \"y\"}, {\"alignmentgroup\": \"True\", \"hovertemplate\": \"Organism=Methanonatronarchaeia<br>Sample=%{x}<br>Read Count=%{y}<extra></extra>\", \"legendgroup\": \"Methanonatronarchaeia\", \"marker\": {\"color\": \"#FECB52\"}, \"name\": \"Methanonatronarchaeia\", \"offsetgroup\": \"Methanonatronarchaeia\", \"orientation\": \"v\", \"showlegend\": true, \"textposition\": \"auto\", \"type\": \"bar\", \"x\": [\"Sample 104\", \"Sample 1\", \"Sample 16\", \"Sample 97\", \"Sample 13\", \"Sample 15\", \"Sample 101\", \"Sample 3\", \"Sample 4\", \"Sample 98\", \"Sample 14\", \"Sample 103\", \"Sample 100\", \"Sample 2\", \"Sample 99\"], \"xaxis\": \"x\", \"y\": [null, null, null, 1.0, null, null, null, 1.0, 10.0, null, null, 1.0, null, null, null], \"yaxis\": \"y\"}, {\"alignmentgroup\": \"True\", \"hovertemplate\": \"Organism=Oligoflexia<br>Sample=%{x}<br>Read Count=%{y}<extra></extra>\", \"legendgroup\": \"Oligoflexia\", \"marker\": {\"color\": \"#636efa\"}, \"name\": \"Oligoflexia\", \"offsetgroup\": \"Oligoflexia\", \"orientation\": \"v\", \"showlegend\": true, \"textposition\": \"auto\", \"type\": \"bar\", \"x\": [\"Sample 104\", \"Sample 1\", \"Sample 16\", \"Sample 97\", \"Sample 13\", \"Sample 15\", \"Sample 101\", \"Sample 3\", \"Sample 4\", \"Sample 98\", \"Sample 14\", \"Sample 103\", \"Sample 100\", \"Sample 2\", \"Sample 99\"], \"xaxis\": \"x\", \"y\": [3.0, 10.0, 10.0, 13.0, 23.0, 5.0, 2.0, 5.0, 27.0, 5.0, 19.0, 1.0, 29.0, 29.0, 15.0], \"yaxis\": \"y\"}, {\"alignmentgroup\": \"True\", \"hovertemplate\": \"Organism=Candidatus Korarchaeota<br>Sample=%{x}<br>Read Count=%{y}<extra></extra>\", \"legendgroup\": \"Candidatus Korarchaeota\", \"marker\": {\"color\": \"#EF553B\"}, \"name\": \"Candidatus Korarchaeota\", \"offsetgroup\": \"Candidatus Korarchaeota\", \"orientation\": \"v\", \"showlegend\": true, \"textposition\": \"auto\", \"type\": \"bar\", \"x\": [\"Sample 104\", \"Sample 1\", \"Sample 16\", \"Sample 97\", \"Sample 13\", \"Sample 15\", \"Sample 101\", \"Sample 3\", \"Sample 4\", \"Sample 98\", \"Sample 14\", \"Sample 103\", \"Sample 100\", \"Sample 2\", \"Sample 99\"], \"xaxis\": \"x\", \"y\": [null, null, null, null, 1.0, null, null, null, 1.0, null, null, null, null, null, null], \"yaxis\": \"y\"}, {\"alignmentgroup\": \"True\", \"hovertemplate\": \"Organism=Planctomycetes<br>Sample=%{x}<br>Read Count=%{y}<extra></extra>\", \"legendgroup\": \"Planctomycetes\", \"marker\": {\"color\": \"#00cc96\"}, \"name\": \"Planctomycetes\", \"offsetgroup\": \"Planctomycetes\", \"orientation\": \"v\", \"showlegend\": true, \"textposition\": \"auto\", \"type\": \"bar\", \"x\": [\"Sample 104\", \"Sample 1\", \"Sample 16\", \"Sample 97\", \"Sample 13\", \"Sample 15\", \"Sample 101\", \"Sample 3\", \"Sample 4\", \"Sample 98\", \"Sample 14\", \"Sample 103\", \"Sample 100\", \"Sample 2\", \"Sample 99\"], \"xaxis\": \"x\", \"y\": [13.0, 101.0, 86.0, 94.0, 215.0, 101.0, 60.0, 59.0, 175.0, 108.0, 157.0, 6.0, 194.0, 265.0, 169.0], \"yaxis\": \"y\"}, {\"alignmentgroup\": \"True\", \"hovertemplate\": \"Organism=Candidatus Tectomicrobia<br>Sample=%{x}<br>Read Count=%{y}<extra></extra>\", \"legendgroup\": \"Candidatus Tectomicrobia\", \"marker\": {\"color\": \"#ab63fa\"}, \"name\": \"Candidatus Tectomicrobia\", \"offsetgroup\": \"Candidatus Tectomicrobia\", \"orientation\": \"v\", \"showlegend\": true, \"textposition\": \"auto\", \"type\": \"bar\", \"x\": [\"Sample 104\", \"Sample 1\", \"Sample 16\", \"Sample 97\", \"Sample 13\", \"Sample 15\", \"Sample 101\", \"Sample 3\", \"Sample 4\", \"Sample 98\", \"Sample 14\", \"Sample 103\", \"Sample 100\", \"Sample 2\", \"Sample 99\"], \"xaxis\": \"x\", \"y\": [null, 2.0, 10.0, 1.0, 2.0, 2.0, null, 1.0, 1.0, null, 4.0, null, 1.0, null, null], \"yaxis\": \"y\"}, {\"alignmentgroup\": \"True\", \"hovertemplate\": \"Organism=Endomicrobia<br>Sample=%{x}<br>Read Count=%{y}<extra></extra>\", \"legendgroup\": \"Endomicrobia\", \"marker\": {\"color\": \"#FFA15A\"}, \"name\": \"Endomicrobia\", \"offsetgroup\": \"Endomicrobia\", \"orientation\": \"v\", \"showlegend\": true, \"textposition\": \"auto\", \"type\": \"bar\", \"x\": [\"Sample 104\", \"Sample 1\", \"Sample 16\", \"Sample 97\", \"Sample 13\", \"Sample 15\", \"Sample 101\", \"Sample 3\", \"Sample 4\", \"Sample 98\", \"Sample 14\", \"Sample 103\", \"Sample 100\", \"Sample 2\", \"Sample 99\"], \"xaxis\": \"x\", \"y\": [null, null, null, 1.0, 1.0, null, null, null, null, null, null, 19.0, 2.0, null, null], \"yaxis\": \"y\"}, {\"alignmentgroup\": \"True\", \"hovertemplate\": \"Organism=unclassified Proteobacteria<br>Sample=%{x}<br>Read Count=%{y}<extra></extra>\", \"legendgroup\": \"unclassified Proteobacteria\", \"marker\": {\"color\": \"#19d3f3\"}, \"name\": \"unclassified Proteobacteria\", \"offsetgroup\": \"unclassified Proteobacteria\", \"orientation\": \"v\", \"showlegend\": true, \"textposition\": \"auto\", \"type\": \"bar\", \"x\": [\"Sample 104\", \"Sample 1\", \"Sample 16\", \"Sample 97\", \"Sample 13\", \"Sample 15\", \"Sample 101\", \"Sample 3\", \"Sample 4\", \"Sample 98\", \"Sample 14\", \"Sample 103\", \"Sample 100\", \"Sample 2\", \"Sample 99\"], \"xaxis\": \"x\", \"y\": [null, 1.0, null, null, 1.0, null, 1.0, null, 1.0, null, null, null, null, null, null], \"yaxis\": \"y\"}, {\"alignmentgroup\": \"True\", \"hovertemplate\": \"Organism=Abditibacteriota<br>Sample=%{x}<br>Read Count=%{y}<extra></extra>\", \"legendgroup\": \"Abditibacteriota\", \"marker\": {\"color\": \"#FF6692\"}, \"name\": \"Abditibacteriota\", \"offsetgroup\": \"Abditibacteriota\", \"orientation\": \"v\", \"showlegend\": true, \"textposition\": \"auto\", \"type\": \"bar\", \"x\": [\"Sample 104\", \"Sample 1\", \"Sample 16\", \"Sample 97\", \"Sample 13\", \"Sample 15\", \"Sample 101\", \"Sample 3\", \"Sample 4\", \"Sample 98\", \"Sample 14\", \"Sample 103\", \"Sample 100\", \"Sample 2\", \"Sample 99\"], \"xaxis\": \"x\", \"y\": [null, null, null, null, null, null, null, null, null, null, null, null, 1.0, 4.0, null], \"yaxis\": \"y\"}, {\"alignmentgroup\": \"True\", \"hovertemplate\": \"Organism=Haloplasmatales<br>Sample=%{x}<br>Read Count=%{y}<extra></extra>\", \"legendgroup\": \"Haloplasmatales\", \"marker\": {\"color\": \"#B6E880\"}, \"name\": \"Haloplasmatales\", \"offsetgroup\": \"Haloplasmatales\", \"orientation\": \"v\", \"showlegend\": true, \"textposition\": \"auto\", \"type\": \"bar\", \"x\": [\"Sample 104\", \"Sample 1\", \"Sample 16\", \"Sample 97\", \"Sample 13\", \"Sample 15\", \"Sample 101\", \"Sample 3\", \"Sample 4\", \"Sample 98\", \"Sample 14\", \"Sample 103\", \"Sample 100\", \"Sample 2\", \"Sample 99\"], \"xaxis\": \"x\", \"y\": [null, 12.0, null, 9.0, 3.0, 1.0, null, 1.0, 38.0, 2.0, 3.0, 1.0, 8.0, 5.0, 3.0], \"yaxis\": \"y\"}, {\"alignmentgroup\": \"True\", \"hovertemplate\": \"Organism=Thaumarchaeota<br>Sample=%{x}<br>Read Count=%{y}<extra></extra>\", \"legendgroup\": \"Thaumarchaeota\", \"marker\": {\"color\": \"#FF97FF\"}, \"name\": \"Thaumarchaeota\", \"offsetgroup\": \"Thaumarchaeota\", \"orientation\": \"v\", \"showlegend\": true, \"textposition\": \"auto\", \"type\": \"bar\", \"x\": [\"Sample 104\", \"Sample 1\", \"Sample 16\", \"Sample 97\", \"Sample 13\", \"Sample 15\", \"Sample 101\", \"Sample 3\", \"Sample 4\", \"Sample 98\", \"Sample 14\", \"Sample 103\", \"Sample 100\", \"Sample 2\", \"Sample 99\"], \"xaxis\": \"x\", \"y\": [null, 4.0, null, 4.0, 5.0, 7.0, 3.0, null, 3.0, null, 6.0, 4.0, 9.0, 7.0, 2.0], \"yaxis\": \"y\"}, {\"alignmentgroup\": \"True\", \"hovertemplate\": \"Organism=Firmicutes<br>Sample=%{x}<br>Read Count=%{y}<extra></extra>\", \"legendgroup\": \"Firmicutes\", \"marker\": {\"color\": \"#FECB52\"}, \"name\": \"Firmicutes\", \"offsetgroup\": \"Firmicutes\", \"orientation\": \"v\", \"showlegend\": true, \"textposition\": \"auto\", \"type\": \"bar\", \"x\": [\"Sample 104\", \"Sample 1\", \"Sample 16\", \"Sample 97\", \"Sample 13\", \"Sample 15\", \"Sample 101\", \"Sample 3\", \"Sample 4\", \"Sample 98\", \"Sample 14\", \"Sample 103\", \"Sample 100\", \"Sample 2\", \"Sample 99\"], \"xaxis\": \"x\", \"y\": [6012836.0, 13219152.0, 6829187.0, 13202267.0, 13367130.0, 8175759.0, 12078778.0, 6395226.0, 6867804.0, 12875164.0, 7254489.0, 14243183.0, 8102453.0, 11636241.0, 12804797.0], \"yaxis\": \"y\"}, {\"alignmentgroup\": \"True\", \"hovertemplate\": \"Organism=Bacteroidetes/Chlorobi group<br>Sample=%{x}<br>Read Count=%{y}<extra></extra>\", \"legendgroup\": \"Bacteroidetes/Chlorobi group\", \"marker\": {\"color\": \"#636efa\"}, \"name\": \"Bacteroidetes/Chlorobi group\", \"offsetgroup\": \"Bacteroidetes/Chlorobi group\", \"orientation\": \"v\", \"showlegend\": true, \"textposition\": \"auto\", \"type\": \"bar\", \"x\": [\"Sample 104\", \"Sample 1\", \"Sample 16\", \"Sample 97\", \"Sample 13\", \"Sample 15\", \"Sample 101\", \"Sample 3\", \"Sample 4\", \"Sample 98\", \"Sample 14\", \"Sample 103\", \"Sample 100\", \"Sample 2\", \"Sample 99\"], \"xaxis\": \"x\", \"y\": [12616617.0, 5731425.0, 14900558.0, 6872728.0, 5678763.0, 5558076.0, 5003848.0, 11588708.0, 8841956.0, 8069905.0, 7262065.0, 6097872.0, 4050773.0, 5716337.0, 4267982.0], \"yaxis\": \"y\"}, {\"alignmentgroup\": \"True\", \"hovertemplate\": \"Organism=Blastocatellia<br>Sample=%{x}<br>Read Count=%{y}<extra></extra>\", \"legendgroup\": \"Blastocatellia\", \"marker\": {\"color\": \"#EF553B\"}, \"name\": \"Blastocatellia\", \"offsetgroup\": \"Blastocatellia\", \"orientation\": \"v\", \"showlegend\": true, \"textposition\": \"auto\", \"type\": \"bar\", \"x\": [\"Sample 104\", \"Sample 1\", \"Sample 16\", \"Sample 97\", \"Sample 13\", \"Sample 15\", \"Sample 101\", \"Sample 3\", \"Sample 4\", \"Sample 98\", \"Sample 14\", \"Sample 103\", \"Sample 100\", \"Sample 2\", \"Sample 99\"], \"xaxis\": \"x\", \"y\": [null, 2.0, null, 1.0, 3.0, 3.0, null, null, 2.0, 1.0, 2.0, null, 1.0, null, 2.0], \"yaxis\": \"y\"}, {\"alignmentgroup\": \"True\", \"hovertemplate\": \"Organism=Gammaproteobacteria<br>Sample=%{x}<br>Read Count=%{y}<extra></extra>\", \"legendgroup\": \"Gammaproteobacteria\", \"marker\": {\"color\": \"#00cc96\"}, \"name\": \"Gammaproteobacteria\", \"offsetgroup\": \"Gammaproteobacteria\", \"orientation\": \"v\", \"showlegend\": true, \"textposition\": \"auto\", \"type\": \"bar\", \"x\": [\"Sample 104\", \"Sample 1\", \"Sample 16\", \"Sample 97\", \"Sample 13\", \"Sample 15\", \"Sample 101\", \"Sample 3\", \"Sample 4\", \"Sample 98\", \"Sample 14\", \"Sample 103\", \"Sample 100\", \"Sample 2\", \"Sample 99\"], \"xaxis\": \"x\", \"y\": [16322.0, 46519.0, 41192.0, 120090.0, 1077186.0, 71215.0, 1611056.0, 28925.0, 20959.0, 22067.0, 96458.0, 18229.0, 28393.0, 23177.0, 42890.0], \"yaxis\": \"y\"}, {\"alignmentgroup\": \"True\", \"hovertemplate\": \"Organism=Fungi<br>Sample=%{x}<br>Read Count=%{y}<extra></extra>\", \"legendgroup\": \"Fungi\", \"marker\": {\"color\": \"#ab63fa\"}, \"name\": \"Fungi\", \"offsetgroup\": \"Fungi\", \"orientation\": \"v\", \"showlegend\": true, \"textposition\": \"auto\", \"type\": \"bar\", \"x\": [\"Sample 104\", \"Sample 1\", \"Sample 16\", \"Sample 97\", \"Sample 13\", \"Sample 15\", \"Sample 101\", \"Sample 3\", \"Sample 4\", \"Sample 98\", \"Sample 14\", \"Sample 103\", \"Sample 100\", \"Sample 2\", \"Sample 99\"], \"xaxis\": \"x\", \"y\": [141.0, 934.0, 886.0, 2499.0, 1074.0, 4473.0, 835.0, 735.0, 1148.0, 498.0, 4093.0, 191.0, 1903.0, 1450.0, 1693.0], \"yaxis\": \"y\"}, {\"alignmentgroup\": \"True\", \"hovertemplate\": \"Organism=unclassified Acidobacteria<br>Sample=%{x}<br>Read Count=%{y}<extra></extra>\", \"legendgroup\": \"unclassified Acidobacteria\", \"marker\": {\"color\": \"#FFA15A\"}, \"name\": \"unclassified Acidobacteria\", \"offsetgroup\": \"unclassified Acidobacteria\", \"orientation\": \"v\", \"showlegend\": true, \"textposition\": \"auto\", \"type\": \"bar\", \"x\": [\"Sample 104\", \"Sample 1\", \"Sample 16\", \"Sample 97\", \"Sample 13\", \"Sample 15\", \"Sample 101\", \"Sample 3\", \"Sample 4\", \"Sample 98\", \"Sample 14\", \"Sample 103\", \"Sample 100\", \"Sample 2\", \"Sample 99\"], \"xaxis\": \"x\", \"y\": [1.0, null, null, 1.0, 2.0, null, null, 3.0, null, null, null, null, 2.0, 2.0, null], \"yaxis\": \"y\"}, {\"alignmentgroup\": \"True\", \"hovertemplate\": \"Organism=Candidatus Lokiarchaeota<br>Sample=%{x}<br>Read Count=%{y}<extra></extra>\", \"legendgroup\": \"Candidatus Lokiarchaeota\", \"marker\": {\"color\": \"#19d3f3\"}, \"name\": \"Candidatus Lokiarchaeota\", \"offsetgroup\": \"Candidatus Lokiarchaeota\", \"orientation\": \"v\", \"showlegend\": true, \"textposition\": \"auto\", \"type\": \"bar\", \"x\": [\"Sample 104\", \"Sample 1\", \"Sample 16\", \"Sample 97\", \"Sample 13\", \"Sample 15\", \"Sample 101\", \"Sample 3\", \"Sample 4\", \"Sample 98\", \"Sample 14\", \"Sample 103\", \"Sample 100\", \"Sample 2\", \"Sample 99\"], \"xaxis\": \"x\", \"y\": [null, 1.0, null, null, 2.0, null, null, null, 1.0, null, 1.0, null, 1.0, null, null], \"yaxis\": \"y\"}, {\"alignmentgroup\": \"True\", \"hovertemplate\": \"Organism=Acidobacteriia<br>Sample=%{x}<br>Read Count=%{y}<extra></extra>\", \"legendgroup\": \"Acidobacteriia\", \"marker\": {\"color\": \"#FF6692\"}, \"name\": \"Acidobacteriia\", \"offsetgroup\": \"Acidobacteriia\", \"orientation\": \"v\", \"showlegend\": true, \"textposition\": \"auto\", \"type\": \"bar\", \"x\": [\"Sample 104\", \"Sample 1\", \"Sample 16\", \"Sample 97\", \"Sample 13\", \"Sample 15\", \"Sample 101\", \"Sample 3\", \"Sample 4\", \"Sample 98\", \"Sample 14\", \"Sample 103\", \"Sample 100\", \"Sample 2\", \"Sample 99\"], \"xaxis\": \"x\", \"y\": [10.0, 44.0, 21.0, 35.0, 98.0, 31.0, 27.0, 48.0, 74.0, 373.0, 61.0, 10.0, 103.0, 109.0, 63.0], \"yaxis\": \"y\"}, {\"alignmentgroup\": \"True\", \"hovertemplate\": \"Organism=unclassified Terrabacteria group<br>Sample=%{x}<br>Read Count=%{y}<extra></extra>\", \"legendgroup\": \"unclassified Terrabacteria group\", \"marker\": {\"color\": \"#B6E880\"}, \"name\": \"unclassified Terrabacteria group\", \"offsetgroup\": \"unclassified Terrabacteria group\", \"orientation\": \"v\", \"showlegend\": true, \"textposition\": \"auto\", \"type\": \"bar\", \"x\": [\"Sample 104\", \"Sample 1\", \"Sample 16\", \"Sample 97\", \"Sample 13\", \"Sample 15\", \"Sample 101\", \"Sample 3\", \"Sample 4\", \"Sample 98\", \"Sample 14\", \"Sample 103\", \"Sample 100\", \"Sample 2\", \"Sample 99\"], \"xaxis\": \"x\", \"y\": [1.0, null, null, 2.0, 3.0, null, null, null, 1.0, null, 2.0, null, 4.0, null, null], \"yaxis\": \"y\"}, {\"alignmentgroup\": \"True\", \"hovertemplate\": \"Organism=Coprothermobacteria<br>Sample=%{x}<br>Read Count=%{y}<extra></extra>\", \"legendgroup\": \"Coprothermobacteria\", \"marker\": {\"color\": \"#FF97FF\"}, \"name\": \"Coprothermobacteria\", \"offsetgroup\": \"Coprothermobacteria\", \"orientation\": \"v\", \"showlegend\": true, \"textposition\": \"auto\", \"type\": \"bar\", \"x\": [\"Sample 104\", \"Sample 1\", \"Sample 16\", \"Sample 97\", \"Sample 13\", \"Sample 15\", \"Sample 101\", \"Sample 3\", \"Sample 4\", \"Sample 98\", \"Sample 14\", \"Sample 103\", \"Sample 100\", \"Sample 2\", \"Sample 99\"], \"xaxis\": \"x\", \"y\": [null, null, null, 1.0, null, 1.0, 1.0, 1.0, 1.0, null, 1.0, null, 1.0, 1.0, 1.0], \"yaxis\": \"y\"}, {\"alignmentgroup\": \"True\", \"hovertemplate\": \"Organism=Tenericutes<br>Sample=%{x}<br>Read Count=%{y}<extra></extra>\", \"legendgroup\": \"Tenericutes\", \"marker\": {\"color\": \"#FECB52\"}, \"name\": \"Tenericutes\", \"offsetgroup\": \"Tenericutes\", \"orientation\": \"v\", \"showlegend\": true, \"textposition\": \"auto\", \"type\": \"bar\", \"x\": [\"Sample 104\", \"Sample 1\", \"Sample 16\", \"Sample 97\", \"Sample 13\", \"Sample 15\", \"Sample 101\", \"Sample 3\", \"Sample 4\", \"Sample 98\", \"Sample 14\", \"Sample 103\", \"Sample 100\", \"Sample 2\", \"Sample 99\"], \"xaxis\": \"x\", \"y\": [77.0, 2375.0, 161.0, 1133.0, 1605.0, 263.0, 110.0, 150.0, 1986.0, 1223.0, 1472.0, 169.0, 629.0, 1615.0, 424.0], \"yaxis\": \"y\"}, {\"alignmentgroup\": \"True\", \"hovertemplate\": \"Organism=Bacteria candidate phyla<br>Sample=%{x}<br>Read Count=%{y}<extra></extra>\", \"legendgroup\": \"Bacteria candidate phyla\", \"marker\": {\"color\": \"#636efa\"}, \"name\": \"Bacteria candidate phyla\", \"offsetgroup\": \"Bacteria candidate phyla\", \"orientation\": \"v\", \"showlegend\": true, \"textposition\": \"auto\", \"type\": \"bar\", \"x\": [\"Sample 104\", \"Sample 1\", \"Sample 16\", \"Sample 97\", \"Sample 13\", \"Sample 15\", \"Sample 101\", \"Sample 3\", \"Sample 4\", \"Sample 98\", \"Sample 14\", \"Sample 103\", \"Sample 100\", \"Sample 2\", \"Sample 99\"], \"xaxis\": \"x\", \"y\": [247.0, 58.0, 248.0, 588.0, 719.0, 1626.0, 234.0, 280.0, 120.0, 129.0, 266.0, 466.0, 250.0, 103.0, 186.0], \"yaxis\": \"y\"}, {\"alignmentgroup\": \"True\", \"hovertemplate\": \"Organism=Armatimonadetes<br>Sample=%{x}<br>Read Count=%{y}<extra></extra>\", \"legendgroup\": \"Armatimonadetes\", \"marker\": {\"color\": \"#EF553B\"}, \"name\": \"Armatimonadetes\", \"offsetgroup\": \"Armatimonadetes\", \"orientation\": \"v\", \"showlegend\": true, \"textposition\": \"auto\", \"type\": \"bar\", \"x\": [\"Sample 104\", \"Sample 1\", \"Sample 16\", \"Sample 97\", \"Sample 13\", \"Sample 15\", \"Sample 101\", \"Sample 3\", \"Sample 4\", \"Sample 98\", \"Sample 14\", \"Sample 103\", \"Sample 100\", \"Sample 2\", \"Sample 99\"], \"xaxis\": \"x\", \"y\": [null, 8.0, 1.0, 3.0, 29.0, 4.0, 1.0, 4.0, 8.0, 1.0, 5.0, 2.0, 9.0, 5.0, 5.0], \"yaxis\": \"y\"}, {\"alignmentgroup\": \"True\", \"hovertemplate\": \"Organism=Spirochaetia<br>Sample=%{x}<br>Read Count=%{y}<extra></extra>\", \"legendgroup\": \"Spirochaetia\", \"marker\": {\"color\": \"#00cc96\"}, \"name\": \"Spirochaetia\", \"offsetgroup\": \"Spirochaetia\", \"orientation\": \"v\", \"showlegend\": true, \"textposition\": \"auto\", \"type\": \"bar\", \"x\": [\"Sample 104\", \"Sample 1\", \"Sample 16\", \"Sample 97\", \"Sample 13\", \"Sample 15\", \"Sample 101\", \"Sample 3\", \"Sample 4\", \"Sample 98\", \"Sample 14\", \"Sample 103\", \"Sample 100\", \"Sample 2\", \"Sample 99\"], \"xaxis\": \"x\", \"y\": [41.0, 315.0, 110.0, 309.0, 402.0, 219.0, 58.0, 106.0, 370.0, 194.0, 431.0, 125.0, 408.0, 557.0, 377.0], \"yaxis\": \"y\"}, {\"alignmentgroup\": \"True\", \"hovertemplate\": \"Organism=Dictyoglomia<br>Sample=%{x}<br>Read Count=%{y}<extra></extra>\", \"legendgroup\": \"Dictyoglomia\", \"marker\": {\"color\": \"#ab63fa\"}, \"name\": \"Dictyoglomia\", \"offsetgroup\": \"Dictyoglomia\", \"orientation\": \"v\", \"showlegend\": true, \"textposition\": \"auto\", \"type\": \"bar\", \"x\": [\"Sample 104\", \"Sample 1\", \"Sample 16\", \"Sample 97\", \"Sample 13\", \"Sample 15\", \"Sample 101\", \"Sample 3\", \"Sample 4\", \"Sample 98\", \"Sample 14\", \"Sample 103\", \"Sample 100\", \"Sample 2\", \"Sample 99\"], \"xaxis\": \"x\", \"y\": [null, 2.0, null, null, 18.0, null, 1.0, 1.0, 4.0, 2.0, 1.0, 2.0, 5.0, 2.0, 1.0], \"yaxis\": \"y\"}, {\"alignmentgroup\": \"True\", \"hovertemplate\": \"Organism=Verrucomicrobia<br>Sample=%{x}<br>Read Count=%{y}<extra></extra>\", \"legendgroup\": \"Verrucomicrobia\", \"marker\": {\"color\": \"#FFA15A\"}, \"name\": \"Verrucomicrobia\", \"offsetgroup\": \"Verrucomicrobia\", \"orientation\": \"v\", \"showlegend\": true, \"textposition\": \"auto\", \"type\": \"bar\", \"x\": [\"Sample 104\", \"Sample 1\", \"Sample 16\", \"Sample 97\", \"Sample 13\", \"Sample 15\", \"Sample 101\", \"Sample 3\", \"Sample 4\", \"Sample 98\", \"Sample 14\", \"Sample 103\", \"Sample 100\", \"Sample 2\", \"Sample 99\"], \"xaxis\": \"x\", \"y\": [294.0, 263554.0, 84610.0, 30221.0, 227037.0, 600418.0, 758.0, 467.0, 205940.0, 123576.0, 235829.0, 24359.0, 748.0, 97672.0, 430463.0], \"yaxis\": \"y\"}, {\"alignmentgroup\": \"True\", \"hovertemplate\": \"Organism=Deinococcus-Thermus<br>Sample=%{x}<br>Read Count=%{y}<extra></extra>\", \"legendgroup\": \"Deinococcus-Thermus\", \"marker\": {\"color\": \"#19d3f3\"}, \"name\": \"Deinococcus-Thermus\", \"offsetgroup\": \"Deinococcus-Thermus\", \"orientation\": \"v\", \"showlegend\": true, \"textposition\": \"auto\", \"type\": \"bar\", \"x\": [\"Sample 104\", \"Sample 1\", \"Sample 16\", \"Sample 97\", \"Sample 13\", \"Sample 15\", \"Sample 101\", \"Sample 3\", \"Sample 4\", \"Sample 98\", \"Sample 14\", \"Sample 103\", \"Sample 100\", \"Sample 2\", \"Sample 99\"], \"xaxis\": \"x\", \"y\": [29.0, 176.0, 107.0, 101.0, 222.0, 116.0, 21.0, 42.0, 206.0, 60.0, 156.0, 20.0, 190.0, 260.0, 156.0], \"yaxis\": \"y\"}, {\"alignmentgroup\": \"True\", \"hovertemplate\": \"Organism=Deferribacteres<br>Sample=%{x}<br>Read Count=%{y}<extra></extra>\", \"legendgroup\": \"Deferribacteres\", \"marker\": {\"color\": \"#FF6692\"}, \"name\": \"Deferribacteres\", \"offsetgroup\": \"Deferribacteres\", \"orientation\": \"v\", \"showlegend\": true, \"textposition\": \"auto\", \"type\": \"bar\", \"x\": [\"Sample 104\", \"Sample 1\", \"Sample 16\", \"Sample 97\", \"Sample 13\", \"Sample 15\", \"Sample 101\", \"Sample 3\", \"Sample 4\", \"Sample 98\", \"Sample 14\", \"Sample 103\", \"Sample 100\", \"Sample 2\", \"Sample 99\"], \"xaxis\": \"x\", \"y\": [null, 11.0, 1.0, 5.0, 6.0, 3.0, 5.0, 6.0, 9.0, 9.0, 8.0, 1.0, 20.0, 22.0, 7.0], \"yaxis\": \"y\"}, {\"alignmentgroup\": \"True\", \"hovertemplate\": \"Organism=Lentisphaerae<br>Sample=%{x}<br>Read Count=%{y}<extra></extra>\", \"legendgroup\": \"Lentisphaerae\", \"marker\": {\"color\": \"#B6E880\"}, \"name\": \"Lentisphaerae\", \"offsetgroup\": \"Lentisphaerae\", \"orientation\": \"v\", \"showlegend\": true, \"textposition\": \"auto\", \"type\": \"bar\", \"x\": [\"Sample 104\", \"Sample 1\", \"Sample 16\", \"Sample 97\", \"Sample 13\", \"Sample 15\", \"Sample 101\", \"Sample 3\", \"Sample 4\", \"Sample 98\", \"Sample 14\", \"Sample 103\", \"Sample 100\", \"Sample 2\", \"Sample 99\"], \"xaxis\": \"x\", \"y\": [36.0, 23612.0, 37071.0, 40065.0, 14293.0, 100404.0, 63.0, 6384.0, 59572.0, 1980.0, 55987.0, 941.0, 1746.0, 18234.0, 9857.0], \"yaxis\": \"y\"}, {\"alignmentgroup\": \"True\", \"hovertemplate\": \"Organism=Vampirococcus<br>Sample=%{x}<br>Read Count=%{y}<extra></extra>\", \"legendgroup\": \"Vampirococcus\", \"marker\": {\"color\": \"#FF97FF\"}, \"name\": \"Vampirococcus\", \"offsetgroup\": \"Vampirococcus\", \"orientation\": \"v\", \"showlegend\": true, \"textposition\": \"auto\", \"type\": \"bar\", \"x\": [\"Sample 104\", \"Sample 1\", \"Sample 16\", \"Sample 97\", \"Sample 13\", \"Sample 15\", \"Sample 101\", \"Sample 3\", \"Sample 4\", \"Sample 98\", \"Sample 14\", \"Sample 103\", \"Sample 100\", \"Sample 2\", \"Sample 99\"], \"xaxis\": \"x\", \"y\": [null, 2.0, 1.0, null, null, null, null, null, null, 1.0, null, null, 1.0, 1.0, null], \"yaxis\": \"y\"}, {\"alignmentgroup\": \"True\", \"hovertemplate\": \"Organism=Chlamydiae<br>Sample=%{x}<br>Read Count=%{y}<extra></extra>\", \"legendgroup\": \"Chlamydiae\", \"marker\": {\"color\": \"#FECB52\"}, \"name\": \"Chlamydiae\", \"offsetgroup\": \"Chlamydiae\", \"orientation\": \"v\", \"showlegend\": true, \"textposition\": \"auto\", \"type\": \"bar\", \"x\": [\"Sample 104\", \"Sample 1\", \"Sample 16\", \"Sample 97\", \"Sample 13\", \"Sample 15\", \"Sample 101\", \"Sample 3\", \"Sample 4\", \"Sample 98\", \"Sample 14\", \"Sample 103\", \"Sample 100\", \"Sample 2\", \"Sample 99\"], \"xaxis\": \"x\", \"y\": [5.0, 86.0, 3.0, 10.0, 16.0, 8.0, 15.0, 7.0, 14.0, 3.0, 14.0, 4.0, 13.0, 16.0, 23.0], \"yaxis\": \"y\"}, {\"alignmentgroup\": \"True\", \"hovertemplate\": \"Organism=Holophagae<br>Sample=%{x}<br>Read Count=%{y}<extra></extra>\", \"legendgroup\": \"Holophagae\", \"marker\": {\"color\": \"#636efa\"}, \"name\": \"Holophagae\", \"offsetgroup\": \"Holophagae\", \"orientation\": \"v\", \"showlegend\": true, \"textposition\": \"auto\", \"type\": \"bar\", \"x\": [\"Sample 104\", \"Sample 1\", \"Sample 16\", \"Sample 97\", \"Sample 13\", \"Sample 15\", \"Sample 101\", \"Sample 3\", \"Sample 4\", \"Sample 98\", \"Sample 14\", \"Sample 103\", \"Sample 100\", \"Sample 2\", \"Sample 99\"], \"xaxis\": \"x\", \"y\": [null, 4.0, 1.0, 6.0, 20.0, 8.0, 1.0, 3.0, 11.0, 1.0, 9.0, 2.0, 7.0, 5.0, 21.0], \"yaxis\": \"y\"}, {\"alignmentgroup\": \"True\", \"hovertemplate\": \"Organism=Thermococci<br>Sample=%{x}<br>Read Count=%{y}<extra></extra>\", \"legendgroup\": \"Thermococci\", \"marker\": {\"color\": \"#EF553B\"}, \"name\": \"Thermococci\", \"offsetgroup\": \"Thermococci\", \"orientation\": \"v\", \"showlegend\": true, \"textposition\": \"auto\", \"type\": \"bar\", \"x\": [\"Sample 104\", \"Sample 1\", \"Sample 16\", \"Sample 97\", \"Sample 13\", \"Sample 15\", \"Sample 101\", \"Sample 3\", \"Sample 4\", \"Sample 98\", \"Sample 14\", \"Sample 103\", \"Sample 100\", \"Sample 2\", \"Sample 99\"], \"xaxis\": \"x\", \"y\": [2.0, 3.0, 7.0, 10.0, 12.0, 4.0, 1.0, 9.0, 10.0, 5.0, 3.0, 4.0, 7.0, 11.0, 57.0], \"yaxis\": \"y\"}, {\"alignmentgroup\": \"True\", \"hovertemplate\": \"Organism=Candidatus Marinimicrobia<br>Sample=%{x}<br>Read Count=%{y}<extra></extra>\", \"legendgroup\": \"Candidatus Marinimicrobia\", \"marker\": {\"color\": \"#00cc96\"}, \"name\": \"Candidatus Marinimicrobia\", \"offsetgroup\": \"Candidatus Marinimicrobia\", \"orientation\": \"v\", \"showlegend\": true, \"textposition\": \"auto\", \"type\": \"bar\", \"x\": [\"Sample 104\", \"Sample 1\", \"Sample 16\", \"Sample 97\", \"Sample 13\", \"Sample 15\", \"Sample 101\", \"Sample 3\", \"Sample 4\", \"Sample 98\", \"Sample 14\", \"Sample 103\", \"Sample 100\", \"Sample 2\", \"Sample 99\"], \"xaxis\": \"x\", \"y\": [null, 17.0, 5.0, 3.0, 4.0, null, 1.0, 4.0, 4.0, 1.0, 2.0, 1.0, 16.0, 4.0, 2.0], \"yaxis\": \"y\"}, {\"alignmentgroup\": \"True\", \"hovertemplate\": \"Organism=Chrysiogenetes<br>Sample=%{x}<br>Read Count=%{y}<extra></extra>\", \"legendgroup\": \"Chrysiogenetes\", \"marker\": {\"color\": \"#ab63fa\"}, \"name\": \"Chrysiogenetes\", \"offsetgroup\": \"Chrysiogenetes\", \"orientation\": \"v\", \"showlegend\": true, \"textposition\": \"auto\", \"type\": \"bar\", \"x\": [\"Sample 104\", \"Sample 1\", \"Sample 16\", \"Sample 97\", \"Sample 13\", \"Sample 15\", \"Sample 101\", \"Sample 3\", \"Sample 4\", \"Sample 98\", \"Sample 14\", \"Sample 103\", \"Sample 100\", \"Sample 2\", \"Sample 99\"], \"xaxis\": \"x\", \"y\": [null, null, null, 1.0, 5.0, null, null, 1.0, 3.0, null, null, null, 1.0, 1.0, 3.0], \"yaxis\": \"y\"}, {\"alignmentgroup\": \"True\", \"hovertemplate\": \"Organism=Acidithiobacillia<br>Sample=%{x}<br>Read Count=%{y}<extra></extra>\", \"legendgroup\": \"Acidithiobacillia\", \"marker\": {\"color\": \"#FFA15A\"}, \"name\": \"Acidithiobacillia\", \"offsetgroup\": \"Acidithiobacillia\", \"orientation\": \"v\", \"showlegend\": true, \"textposition\": \"auto\", \"type\": \"bar\", \"x\": [\"Sample 104\", \"Sample 1\", \"Sample 16\", \"Sample 97\", \"Sample 13\", \"Sample 15\", \"Sample 101\", \"Sample 3\", \"Sample 4\", \"Sample 98\", \"Sample 14\", \"Sample 103\", \"Sample 100\", \"Sample 2\", \"Sample 99\"], \"xaxis\": \"x\", \"y\": [7.0, 2.0, 2.0, 6.0, 27.0, 1.0, 2.0, 1.0, 7.0, 4.0, 6.0, 1.0, 6.0, 7.0, 2.0], \"yaxis\": \"y\"}, {\"alignmentgroup\": \"True\", \"hovertemplate\": \"Organism=Calditrichae<br>Sample=%{x}<br>Read Count=%{y}<extra></extra>\", \"legendgroup\": \"Calditrichae\", \"marker\": {\"color\": \"#19d3f3\"}, \"name\": \"Calditrichae\", \"offsetgroup\": \"Calditrichae\", \"orientation\": \"v\", \"showlegend\": true, \"textposition\": \"auto\", \"type\": \"bar\", \"x\": [\"Sample 104\", \"Sample 1\", \"Sample 16\", \"Sample 97\", \"Sample 13\", \"Sample 15\", \"Sample 101\", \"Sample 3\", \"Sample 4\", \"Sample 98\", \"Sample 14\", \"Sample 103\", \"Sample 100\", \"Sample 2\", \"Sample 99\"], \"xaxis\": \"x\", \"y\": [null, 1.0, null, null, null, 1.0, null, null, null, null, 2.0, null, 1.0, null, 2.0], \"yaxis\": \"y\"}, {\"alignmentgroup\": \"True\", \"hovertemplate\": \"Organism=unclassified Bacteria (miscellaneous)<br>Sample=%{x}<br>Read Count=%{y}<extra></extra>\", \"legendgroup\": \"unclassified Bacteria (miscellaneous)\", \"marker\": {\"color\": \"#FF6692\"}, \"name\": \"unclassified Bacteria (miscellaneous)\", \"offsetgroup\": \"unclassified Bacteria (miscellaneous)\", \"orientation\": \"v\", \"showlegend\": true, \"textposition\": \"auto\", \"type\": \"bar\", \"x\": [\"Sample 104\", \"Sample 1\", \"Sample 16\", \"Sample 97\", \"Sample 13\", \"Sample 15\", \"Sample 101\", \"Sample 3\", \"Sample 4\", \"Sample 98\", \"Sample 14\", \"Sample 103\", \"Sample 100\", \"Sample 2\", \"Sample 99\"], \"xaxis\": \"x\", \"y\": [257.0, 3553.0, 835.0, 999.0, 4739.0, 978.0, 705.0, 522.0, 1537.0, 1191.0, 1679.0, 1262.0, 789.0, 5942.0, 1745.0], \"yaxis\": \"y\"}, {\"alignmentgroup\": \"True\", \"hovertemplate\": \"Organism=Candidatus Cryosericota<br>Sample=%{x}<br>Read Count=%{y}<extra></extra>\", \"legendgroup\": \"Candidatus Cryosericota\", \"marker\": {\"color\": \"#B6E880\"}, \"name\": \"Candidatus Cryosericota\", \"offsetgroup\": \"Candidatus Cryosericota\", \"orientation\": \"v\", \"showlegend\": true, \"textposition\": \"auto\", \"type\": \"bar\", \"x\": [\"Sample 104\", \"Sample 1\", \"Sample 16\", \"Sample 97\", \"Sample 13\", \"Sample 15\", \"Sample 101\", \"Sample 3\", \"Sample 4\", \"Sample 98\", \"Sample 14\", \"Sample 103\", \"Sample 100\", \"Sample 2\", \"Sample 99\"], \"xaxis\": \"x\", \"y\": [null, 1.0, 2.0, 2.0, 3.0, 3.0, null, null, 4.0, null, 1.0, null, 3.0, null, 3.0], \"yaxis\": \"y\"}, {\"alignmentgroup\": \"True\", \"hovertemplate\": \"Organism=Alphaproteobacteria<br>Sample=%{x}<br>Read Count=%{y}<extra></extra>\", \"legendgroup\": \"Alphaproteobacteria\", \"marker\": {\"color\": \"#FF97FF\"}, \"name\": \"Alphaproteobacteria\", \"offsetgroup\": \"Alphaproteobacteria\", \"orientation\": \"v\", \"showlegend\": true, \"textposition\": \"auto\", \"type\": \"bar\", \"x\": [\"Sample 104\", \"Sample 1\", \"Sample 16\", \"Sample 97\", \"Sample 13\", \"Sample 15\", \"Sample 101\", \"Sample 3\", \"Sample 4\", \"Sample 98\", \"Sample 14\", \"Sample 103\", \"Sample 100\", \"Sample 2\", \"Sample 99\"], \"xaxis\": \"x\", \"y\": [2078.0, 9499.0, 15194.0, 6513.0, 15345.0, 8314.0, 29762.0, 4159.0, 18274.0, 3951.0, 12198.0, 2872.0, 10531.0, 28451.0, 9904.0], \"yaxis\": \"y\"}, {\"alignmentgroup\": \"True\", \"hovertemplate\": \"Organism=Diaforarchaea group<br>Sample=%{x}<br>Read Count=%{y}<extra></extra>\", \"legendgroup\": \"Diaforarchaea group\", \"marker\": {\"color\": \"#FECB52\"}, \"name\": \"Diaforarchaea group\", \"offsetgroup\": \"Diaforarchaea group\", \"orientation\": \"v\", \"showlegend\": true, \"textposition\": \"auto\", \"type\": \"bar\", \"x\": [\"Sample 104\", \"Sample 1\", \"Sample 16\", \"Sample 97\", \"Sample 13\", \"Sample 15\", \"Sample 101\", \"Sample 3\", \"Sample 4\", \"Sample 98\", \"Sample 14\", \"Sample 103\", \"Sample 100\", \"Sample 2\", \"Sample 99\"], \"xaxis\": \"x\", \"y\": [4.0, 4.0, 7.0, 3352.0, 7.0, 6.0, null, 9.0, 42.0, 6.0, 24.0, 2.0, 615.0, 19.0, 9.0], \"yaxis\": \"y\"}, {\"alignmentgroup\": \"True\", \"hovertemplate\": \"Organism=Vicinamibacteria<br>Sample=%{x}<br>Read Count=%{y}<extra></extra>\", \"legendgroup\": \"Vicinamibacteria\", \"marker\": {\"color\": \"#636efa\"}, \"name\": \"Vicinamibacteria\", \"offsetgroup\": \"Vicinamibacteria\", \"orientation\": \"v\", \"showlegend\": true, \"textposition\": \"auto\", \"type\": \"bar\", \"x\": [\"Sample 104\", \"Sample 1\", \"Sample 16\", \"Sample 97\", \"Sample 13\", \"Sample 15\", \"Sample 101\", \"Sample 3\", \"Sample 4\", \"Sample 98\", \"Sample 14\", \"Sample 103\", \"Sample 100\", \"Sample 2\", \"Sample 99\"], \"xaxis\": \"x\", \"y\": [null, 2.0, null, null, null, null, 1.0, null, 4.0, null, null, null, null, null, 2.0], \"yaxis\": \"y\"}, {\"alignmentgroup\": \"True\", \"hovertemplate\": \"Organism=Gemmatimonadetes<br>Sample=%{x}<br>Read Count=%{y}<extra></extra>\", \"legendgroup\": \"Gemmatimonadetes\", \"marker\": {\"color\": \"#EF553B\"}, \"name\": \"Gemmatimonadetes\", \"offsetgroup\": \"Gemmatimonadetes\", \"orientation\": \"v\", \"showlegend\": true, \"textposition\": \"auto\", \"type\": \"bar\", \"x\": [\"Sample 104\", \"Sample 1\", \"Sample 16\", \"Sample 97\", \"Sample 13\", \"Sample 15\", \"Sample 101\", \"Sample 3\", \"Sample 4\", \"Sample 98\", \"Sample 14\", \"Sample 103\", \"Sample 100\", \"Sample 2\", \"Sample 99\"], \"xaxis\": \"x\", \"y\": [null, 4.0, 2.0, 4.0, 8.0, 1.0, 2.0, 3.0, 7.0, 2.0, null, null, 3.0, 6.0, 7.0], \"yaxis\": \"y\"}, {\"alignmentgroup\": \"True\", \"hovertemplate\": \"Organism=Fusobacteriia<br>Sample=%{x}<br>Read Count=%{y}<extra></extra>\", \"legendgroup\": \"Fusobacteriia\", \"marker\": {\"color\": \"#00cc96\"}, \"name\": \"Fusobacteriia\", \"offsetgroup\": \"Fusobacteriia\", \"orientation\": \"v\", \"showlegend\": true, \"textposition\": \"auto\", \"type\": \"bar\", \"x\": [\"Sample 104\", \"Sample 1\", \"Sample 16\", \"Sample 97\", \"Sample 13\", \"Sample 15\", \"Sample 101\", \"Sample 3\", \"Sample 4\", \"Sample 98\", \"Sample 14\", \"Sample 103\", \"Sample 100\", \"Sample 2\", \"Sample 99\"], \"xaxis\": \"x\", \"y\": [155.0, 513.0, 121.0, 471.0, 638.0, 206.0, 435.0, 483.0, 877.0, 940.0, 838.0, 572.0, 357.0, 843.0, 1156.0], \"yaxis\": \"y\"}, {\"alignmentgroup\": \"True\", \"hovertemplate\": \"Organism=Aquificae<br>Sample=%{x}<br>Read Count=%{y}<extra></extra>\", \"legendgroup\": \"Aquificae\", \"marker\": {\"color\": \"#ab63fa\"}, \"name\": \"Aquificae\", \"offsetgroup\": \"Aquificae\", \"orientation\": \"v\", \"showlegend\": true, \"textposition\": \"auto\", \"type\": \"bar\", \"x\": [\"Sample 104\", \"Sample 1\", \"Sample 16\", \"Sample 97\", \"Sample 13\", \"Sample 15\", \"Sample 101\", \"Sample 3\", \"Sample 4\", \"Sample 98\", \"Sample 14\", \"Sample 103\", \"Sample 100\", \"Sample 2\", \"Sample 99\"], \"xaxis\": \"x\", \"y\": [null, 4.0, 10.0, 9.0, 25.0, 5.0, null, 5.0, 52.0, 5.0, 8.0, 14.0, 24.0, 28.0, 11.0], \"yaxis\": \"y\"}, {\"alignmentgroup\": \"True\", \"hovertemplate\": \"Organism=Candidatus Bathyarchaeota<br>Sample=%{x}<br>Read Count=%{y}<extra></extra>\", \"legendgroup\": \"Candidatus Bathyarchaeota\", \"marker\": {\"color\": \"#FFA15A\"}, \"name\": \"Candidatus Bathyarchaeota\", \"offsetgroup\": \"Candidatus Bathyarchaeota\", \"orientation\": \"v\", \"showlegend\": true, \"textposition\": \"auto\", \"type\": \"bar\", \"x\": [\"Sample 104\", \"Sample 1\", \"Sample 16\", \"Sample 97\", \"Sample 13\", \"Sample 15\", \"Sample 101\", \"Sample 3\", \"Sample 4\", \"Sample 98\", \"Sample 14\", \"Sample 103\", \"Sample 100\", \"Sample 2\", \"Sample 99\"], \"xaxis\": \"x\", \"y\": [null, null, null, null, null, null, null, null, null, null, null, null, null, null, 1.0], \"yaxis\": \"y\"}, {\"alignmentgroup\": \"True\", \"hovertemplate\": \"Organism=Kiritimatiellaeota<br>Sample=%{x}<br>Read Count=%{y}<extra></extra>\", \"legendgroup\": \"Kiritimatiellaeota\", \"marker\": {\"color\": \"#19d3f3\"}, \"name\": \"Kiritimatiellaeota\", \"offsetgroup\": \"Kiritimatiellaeota\", \"orientation\": \"v\", \"showlegend\": true, \"textposition\": \"auto\", \"type\": \"bar\", \"x\": [\"Sample 104\", \"Sample 1\", \"Sample 16\", \"Sample 97\", \"Sample 13\", \"Sample 15\", \"Sample 101\", \"Sample 3\", \"Sample 4\", \"Sample 98\", \"Sample 14\", \"Sample 103\", \"Sample 100\", \"Sample 2\", \"Sample 99\"], \"xaxis\": \"x\", \"y\": [2.0, 9.0, 11.0, 11.0, 16.0, 14.0, 1.0, 2.0, 13.0, 1.0, 20.0, 5.0, 17.0, 16.0, 21.0], \"yaxis\": \"y\"}, {\"alignmentgroup\": \"True\", \"hovertemplate\": \"Organism=Candidatus Kryptonia<br>Sample=%{x}<br>Read Count=%{y}<extra></extra>\", \"legendgroup\": \"Candidatus Kryptonia\", \"marker\": {\"color\": \"#FF6692\"}, \"name\": \"Candidatus Kryptonia\", \"offsetgroup\": \"Candidatus Kryptonia\", \"orientation\": \"v\", \"showlegend\": true, \"textposition\": \"auto\", \"type\": \"bar\", \"x\": [\"Sample 104\", \"Sample 1\", \"Sample 16\", \"Sample 97\", \"Sample 13\", \"Sample 15\", \"Sample 101\", \"Sample 3\", \"Sample 4\", \"Sample 98\", \"Sample 14\", \"Sample 103\", \"Sample 100\", \"Sample 2\", \"Sample 99\"], \"xaxis\": \"x\", \"y\": [null, 2.0, null, 1.0, 1.0, null, null, 2.0, 6.0, 1.0, 1.0, null, 2.0, 4.0, 1.0], \"yaxis\": \"y\"}, {\"alignmentgroup\": \"True\", \"hovertemplate\": \"Organism=Zetaproteobacteria<br>Sample=%{x}<br>Read Count=%{y}<extra></extra>\", \"legendgroup\": \"Zetaproteobacteria\", \"marker\": {\"color\": \"#B6E880\"}, \"name\": \"Zetaproteobacteria\", \"offsetgroup\": \"Zetaproteobacteria\", \"orientation\": \"v\", \"showlegend\": true, \"textposition\": \"auto\", \"type\": \"bar\", \"x\": [\"Sample 104\", \"Sample 1\", \"Sample 16\", \"Sample 97\", \"Sample 13\", \"Sample 15\", \"Sample 101\", \"Sample 3\", \"Sample 4\", \"Sample 98\", \"Sample 14\", \"Sample 103\", \"Sample 100\", \"Sample 2\", \"Sample 99\"], \"xaxis\": \"x\", \"y\": [null, null, 4.0, 1.0, 3.0, 1.0, null, 2.0, 14.0, 1.0, null, 2.0, 3.0, 2.0, 4.0], \"yaxis\": \"y\"}, {\"alignmentgroup\": \"True\", \"hovertemplate\": \"Organism=unclassified Nitrospirae<br>Sample=%{x}<br>Read Count=%{y}<extra></extra>\", \"legendgroup\": \"unclassified Nitrospirae\", \"marker\": {\"color\": \"#FF97FF\"}, \"name\": \"unclassified Nitrospirae\", \"offsetgroup\": \"unclassified Nitrospirae\", \"orientation\": \"v\", \"showlegend\": true, \"textposition\": \"auto\", \"type\": \"bar\", \"x\": [\"Sample 104\", \"Sample 1\", \"Sample 16\", \"Sample 97\", \"Sample 13\", \"Sample 15\", \"Sample 101\", \"Sample 3\", \"Sample 4\", \"Sample 98\", \"Sample 14\", \"Sample 103\", \"Sample 100\", \"Sample 2\", \"Sample 99\"], \"xaxis\": \"x\", \"y\": [null, null, 1.0, null, 2.0, null, null, null, null, null, null, null, null, 1.0, 1.0], \"yaxis\": \"y\"}, {\"alignmentgroup\": \"True\", \"hovertemplate\": \"Organism=Isachenkonia<br>Sample=%{x}<br>Read Count=%{y}<extra></extra>\", \"legendgroup\": \"Isachenkonia\", \"marker\": {\"color\": \"#FECB52\"}, \"name\": \"Isachenkonia\", \"offsetgroup\": \"Isachenkonia\", \"orientation\": \"v\", \"showlegend\": true, \"textposition\": \"auto\", \"type\": \"bar\", \"x\": [\"Sample 104\", \"Sample 1\", \"Sample 16\", \"Sample 97\", \"Sample 13\", \"Sample 15\", \"Sample 101\", \"Sample 3\", \"Sample 4\", \"Sample 98\", \"Sample 14\", \"Sample 103\", \"Sample 100\", \"Sample 2\", \"Sample 99\"], \"xaxis\": \"x\", \"y\": [null, null, 2.0, null, 4.0, null, null, null, 4.0, null, null, null, 2.0, 1.0, 8.0], \"yaxis\": \"y\"}, {\"alignmentgroup\": \"True\", \"hovertemplate\": \"Organism=uncultured bacterium IN-02<br>Sample=%{x}<br>Read Count=%{y}<extra></extra>\", \"legendgroup\": \"uncultured bacterium IN-02\", \"marker\": {\"color\": \"#636efa\"}, \"name\": \"uncultured bacterium IN-02\", \"offsetgroup\": \"uncultured bacterium IN-02\", \"orientation\": \"v\", \"showlegend\": true, \"textposition\": \"auto\", \"type\": \"bar\", \"x\": [\"Sample 104\", \"Sample 1\", \"Sample 16\", \"Sample 97\", \"Sample 13\", \"Sample 15\", \"Sample 101\", \"Sample 3\", \"Sample 4\", \"Sample 98\", \"Sample 14\", \"Sample 103\", \"Sample 100\", \"Sample 2\", \"Sample 99\"], \"xaxis\": \"x\", \"y\": [null, null, null, null, null, null, null, null, null, null, null, null, null, null, 1.0], \"yaxis\": \"y\"}, {\"alignmentgroup\": \"True\", \"hovertemplate\": \"Organism=Methanopyri<br>Sample=%{x}<br>Read Count=%{y}<extra></extra>\", \"legendgroup\": \"Methanopyri\", \"marker\": {\"color\": \"#EF553B\"}, \"name\": \"Methanopyri\", \"offsetgroup\": \"Methanopyri\", \"orientation\": \"v\", \"showlegend\": true, \"textposition\": \"auto\", \"type\": \"bar\", \"x\": [\"Sample 104\", \"Sample 1\", \"Sample 16\", \"Sample 97\", \"Sample 13\", \"Sample 15\", \"Sample 101\", \"Sample 3\", \"Sample 4\", \"Sample 98\", \"Sample 14\", \"Sample 103\", \"Sample 100\", \"Sample 2\", \"Sample 99\"], \"xaxis\": \"x\", \"y\": [null, 1.0, 2.0, 4.0, null, 1.0, null, null, 2.0, null, 3.0, null, 1.0, 1.0, 1.0], \"yaxis\": \"y\"}, {\"alignmentgroup\": \"True\", \"hovertemplate\": \"Organism=Crenarchaeota<br>Sample=%{x}<br>Read Count=%{y}<extra></extra>\", \"legendgroup\": \"Crenarchaeota\", \"marker\": {\"color\": \"#00cc96\"}, \"name\": \"Crenarchaeota\", \"offsetgroup\": \"Crenarchaeota\", \"orientation\": \"v\", \"showlegend\": true, \"textposition\": \"auto\", \"type\": \"bar\", \"x\": [\"Sample 104\", \"Sample 1\", \"Sample 16\", \"Sample 97\", \"Sample 13\", \"Sample 15\", \"Sample 101\", \"Sample 3\", \"Sample 4\", \"Sample 98\", \"Sample 14\", \"Sample 103\", \"Sample 100\", \"Sample 2\", \"Sample 99\"], \"xaxis\": \"x\", \"y\": [null, 5.0, 3.0, 3.0, 19.0, 4.0, 1.0, 2.0, 3.0, 3.0, 5.0, 2.0, 7.0, 7.0, 3.0], \"yaxis\": \"y\"}, {\"alignmentgroup\": \"True\", \"hovertemplate\": \"Organism=Thermodesulfobacteria<br>Sample=%{x}<br>Read Count=%{y}<extra></extra>\", \"legendgroup\": \"Thermodesulfobacteria\", \"marker\": {\"color\": \"#ab63fa\"}, \"name\": \"Thermodesulfobacteria\", \"offsetgroup\": \"Thermodesulfobacteria\", \"orientation\": \"v\", \"showlegend\": true, \"textposition\": \"auto\", \"type\": \"bar\", \"x\": [\"Sample 104\", \"Sample 1\", \"Sample 16\", \"Sample 97\", \"Sample 13\", \"Sample 15\", \"Sample 101\", \"Sample 3\", \"Sample 4\", \"Sample 98\", \"Sample 14\", \"Sample 103\", \"Sample 100\", \"Sample 2\", \"Sample 99\"], \"xaxis\": \"x\", \"y\": [null, 4.0, 2.0, 3.0, 5.0, 3.0, 1.0, 1.0, 7.0, 2.0, 2.0, 1.0, 15.0, 16.0, 4.0], \"yaxis\": \"y\"}, {\"alignmentgroup\": \"True\", \"hovertemplate\": \"Organism=Synergistia<br>Sample=%{x}<br>Read Count=%{y}<extra></extra>\", \"legendgroup\": \"Synergistia\", \"marker\": {\"color\": \"#FFA15A\"}, \"name\": \"Synergistia\", \"offsetgroup\": \"Synergistia\", \"orientation\": \"v\", \"showlegend\": true, \"textposition\": \"auto\", \"type\": \"bar\", \"x\": [\"Sample 104\", \"Sample 1\", \"Sample 16\", \"Sample 97\", \"Sample 13\", \"Sample 15\", \"Sample 101\", \"Sample 3\", \"Sample 4\", \"Sample 98\", \"Sample 14\", \"Sample 103\", \"Sample 100\", \"Sample 2\", \"Sample 99\"], \"xaxis\": \"x\", \"y\": [33.0, 411.0, 2907.0, 287.0, 7564.0, 210.0, 83.0, 99.0, 349.0, 163.0, 3686.0, 30.0, 273.0, 317.0, 275.0], \"yaxis\": \"y\"}, {\"alignmentgroup\": \"True\", \"hovertemplate\": \"Organism=Betaproteobacteria<br>Sample=%{x}<br>Read Count=%{y}<extra></extra>\", \"legendgroup\": \"Betaproteobacteria\", \"marker\": {\"color\": \"#19d3f3\"}, \"name\": \"Betaproteobacteria\", \"offsetgroup\": \"Betaproteobacteria\", \"orientation\": \"v\", \"showlegend\": true, \"textposition\": \"auto\", \"type\": \"bar\", \"x\": [\"Sample 104\", \"Sample 1\", \"Sample 16\", \"Sample 97\", \"Sample 13\", \"Sample 15\", \"Sample 101\", \"Sample 3\", \"Sample 4\", \"Sample 98\", \"Sample 14\", \"Sample 103\", \"Sample 100\", \"Sample 2\", \"Sample 99\"], \"xaxis\": \"x\", \"y\": [277743.0, 82176.0, 89173.0, 283232.0, 49235.0, 374736.0, 35943.0, 67439.0, 47429.0, 145232.0, 476244.0, 293587.0, 47099.0, 101177.0, 238605.0], \"yaxis\": \"y\"}, {\"alignmentgroup\": \"True\", \"hovertemplate\": \"Organism=delta/epsilon subdivisions<br>Sample=%{x}<br>Read Count=%{y}<extra></extra>\", \"legendgroup\": \"delta/epsilon subdivisions\", \"marker\": {\"color\": \"#FF6692\"}, \"name\": \"delta/epsilon subdivisions\", \"offsetgroup\": \"delta/epsilon subdivisions\", \"orientation\": \"v\", \"showlegend\": true, \"textposition\": \"auto\", \"type\": \"bar\", \"x\": [\"Sample 104\", \"Sample 1\", \"Sample 16\", \"Sample 97\", \"Sample 13\", \"Sample 15\", \"Sample 101\", \"Sample 3\", \"Sample 4\", \"Sample 98\", \"Sample 14\", \"Sample 103\", \"Sample 100\", \"Sample 2\", \"Sample 99\"], \"xaxis\": \"x\", \"y\": [5817.0, 51004.0, 152470.0, 122619.0, 169800.0, 114366.0, 14169.0, 5082.0, 134665.0, 41488.0, 100008.0, 38333.0, 8356.0, 65773.0, 48812.0], \"yaxis\": \"y\"}, {\"alignmentgroup\": \"True\", \"hovertemplate\": \"Organism=uncultured bacterium<br>Sample=%{x}<br>Read Count=%{y}<extra></extra>\", \"legendgroup\": \"uncultured bacterium\", \"marker\": {\"color\": \"#B6E880\"}, \"name\": \"uncultured bacterium\", \"offsetgroup\": \"uncultured bacterium\", \"orientation\": \"v\", \"showlegend\": true, \"textposition\": \"auto\", \"type\": \"bar\", \"x\": [\"Sample 104\", \"Sample 1\", \"Sample 16\", \"Sample 97\", \"Sample 13\", \"Sample 15\", \"Sample 101\", \"Sample 3\", \"Sample 4\", \"Sample 98\", \"Sample 14\", \"Sample 103\", \"Sample 100\", \"Sample 2\", \"Sample 99\"], \"xaxis\": \"x\", \"y\": [null, 3.0, 1.0, 1.0, 1.0, 4.0, 1.0, null, 2.0, 1.0, null, 1.0, 2.0, null, 2.0], \"yaxis\": \"y\"}, {\"alignmentgroup\": \"True\", \"hovertemplate\": \"Organism=candidate division Zixibacteria<br>Sample=%{x}<br>Read Count=%{y}<extra></extra>\", \"legendgroup\": \"candidate division Zixibacteria\", \"marker\": {\"color\": \"#FF97FF\"}, \"name\": \"candidate division Zixibacteria\", \"offsetgroup\": \"candidate division Zixibacteria\", \"orientation\": \"v\", \"showlegend\": true, \"textposition\": \"auto\", \"type\": \"bar\", \"x\": [\"Sample 104\", \"Sample 1\", \"Sample 16\", \"Sample 97\", \"Sample 13\", \"Sample 15\", \"Sample 101\", \"Sample 3\", \"Sample 4\", \"Sample 98\", \"Sample 14\", \"Sample 103\", \"Sample 100\", \"Sample 2\", \"Sample 99\"], \"xaxis\": \"x\", \"y\": [null, null, null, null, 2.0, null, null, null, null, null, null, null, null, 1.0, null], \"yaxis\": \"y\"}, {\"alignmentgroup\": \"True\", \"hovertemplate\": \"Organism=Natronospirillum<br>Sample=%{x}<br>Read Count=%{y}<extra></extra>\", \"legendgroup\": \"Natronospirillum\", \"marker\": {\"color\": \"#FECB52\"}, \"name\": \"Natronospirillum\", \"offsetgroup\": \"Natronospirillum\", \"orientation\": \"v\", \"showlegend\": true, \"textposition\": \"auto\", \"type\": \"bar\", \"x\": [\"Sample 104\", \"Sample 1\", \"Sample 16\", \"Sample 97\", \"Sample 13\", \"Sample 15\", \"Sample 101\", \"Sample 3\", \"Sample 4\", \"Sample 98\", \"Sample 14\", \"Sample 103\", \"Sample 100\", \"Sample 2\", \"Sample 99\"], \"xaxis\": \"x\", \"y\": [null, null, null, null, 3.0, null, null, null, null, null, null, null, 1.0, 1.0, 1.0], \"yaxis\": \"y\"}, {\"alignmentgroup\": \"True\", \"hovertemplate\": \"Organism=Chloroflexi<br>Sample=%{x}<br>Read Count=%{y}<extra></extra>\", \"legendgroup\": \"Chloroflexi\", \"marker\": {\"color\": \"#636efa\"}, \"name\": \"Chloroflexi\", \"offsetgroup\": \"Chloroflexi\", \"orientation\": \"v\", \"showlegend\": true, \"textposition\": \"auto\", \"type\": \"bar\", \"x\": [\"Sample 104\", \"Sample 1\", \"Sample 16\", \"Sample 97\", \"Sample 13\", \"Sample 15\", \"Sample 101\", \"Sample 3\", \"Sample 4\", \"Sample 98\", \"Sample 14\", \"Sample 103\", \"Sample 100\", \"Sample 2\", \"Sample 99\"], \"xaxis\": \"x\", \"y\": [33.0, 176.0, 31.0, 146.0, 319.0, 97.0, 38.0, 39.0, 152.0, 161.0, 189.0, 10.0, 132.0, 169.0, 146.0], \"yaxis\": \"y\"}, {\"alignmentgroup\": \"True\", \"hovertemplate\": \"Organism=Stenosarchaea group<br>Sample=%{x}<br>Read Count=%{y}<extra></extra>\", \"legendgroup\": \"Stenosarchaea group\", \"marker\": {\"color\": \"#EF553B\"}, \"name\": \"Stenosarchaea group\", \"offsetgroup\": \"Stenosarchaea group\", \"orientation\": \"v\", \"showlegend\": true, \"textposition\": \"auto\", \"type\": \"bar\", \"x\": [\"Sample 104\", \"Sample 1\", \"Sample 16\", \"Sample 97\", \"Sample 13\", \"Sample 15\", \"Sample 101\", \"Sample 3\", \"Sample 4\", \"Sample 98\", \"Sample 14\", \"Sample 103\", \"Sample 100\", \"Sample 2\", \"Sample 99\"], \"xaxis\": \"x\", \"y\": [57.0, 183.0, 78.0, 139.0, 267.0, 105.0, 29.0, 58.0, 135.0, 56.0, 124.0, 15.0, 152.0, 210.0, 130.0], \"yaxis\": \"y\"}, {\"alignmentgroup\": \"True\", \"hovertemplate\": \"Organism=Hydrogenophilalia<br>Sample=%{x}<br>Read Count=%{y}<extra></extra>\", \"legendgroup\": \"Hydrogenophilalia\", \"marker\": {\"color\": \"#00cc96\"}, \"name\": \"Hydrogenophilalia\", \"offsetgroup\": \"Hydrogenophilalia\", \"orientation\": \"v\", \"showlegend\": true, \"textposition\": \"auto\", \"type\": \"bar\", \"x\": [\"Sample 104\", \"Sample 1\", \"Sample 16\", \"Sample 97\", \"Sample 13\", \"Sample 15\", \"Sample 101\", \"Sample 3\", \"Sample 4\", \"Sample 98\", \"Sample 14\", \"Sample 103\", \"Sample 100\", \"Sample 2\", \"Sample 99\"], \"xaxis\": \"x\", \"y\": [7.0, 3.0, 1.0, 8.0, 10.0, 11.0, 3.0, null, 6.0, 3.0, 4.0, null, 6.0, 13.0, 8.0], \"yaxis\": \"y\"}, {\"alignmentgroup\": \"True\", \"hovertemplate\": \"Organism=Actinobacteria<br>Sample=%{x}<br>Read Count=%{y}<extra></extra>\", \"legendgroup\": \"Actinobacteria\", \"marker\": {\"color\": \"#ab63fa\"}, \"name\": \"Actinobacteria\", \"offsetgroup\": \"Actinobacteria\", \"orientation\": \"v\", \"showlegend\": true, \"textposition\": \"auto\", \"type\": \"bar\", \"x\": [\"Sample 104\", \"Sample 1\", \"Sample 16\", \"Sample 97\", \"Sample 13\", \"Sample 15\", \"Sample 101\", \"Sample 3\", \"Sample 4\", \"Sample 98\", \"Sample 14\", \"Sample 103\", \"Sample 100\", \"Sample 2\", \"Sample 99\"], \"xaxis\": \"x\", \"y\": [335530.0, 1375509.0, 280366.0, 391601.0, 474958.0, 565876.0, 832599.0, 310433.0, 1180256.0, 655485.0, 1910993.0, 843781.0, 902937.0, 1532819.0, 665926.0], \"yaxis\": \"y\"}, {\"alignmentgroup\": \"True\", \"hovertemplate\": \"Organism=Candidatus Cloacimonetes<br>Sample=%{x}<br>Read Count=%{y}<extra></extra>\", \"legendgroup\": \"Candidatus Cloacimonetes\", \"marker\": {\"color\": \"#FFA15A\"}, \"name\": \"Candidatus Cloacimonetes\", \"offsetgroup\": \"Candidatus Cloacimonetes\", \"orientation\": \"v\", \"showlegend\": true, \"textposition\": \"auto\", \"type\": \"bar\", \"x\": [\"Sample 104\", \"Sample 1\", \"Sample 16\", \"Sample 97\", \"Sample 13\", \"Sample 15\", \"Sample 101\", \"Sample 3\", \"Sample 4\", \"Sample 98\", \"Sample 14\", \"Sample 103\", \"Sample 100\", \"Sample 2\", \"Sample 99\"], \"xaxis\": \"x\", \"y\": [null, null, null, 1.0, 1.0, 2.0, null, 2.0, 2.0, 1.0, 2.0, null, 2.0, 2.0, null], \"yaxis\": \"y\"}, {\"alignmentgroup\": \"True\", \"hovertemplate\": \"Organism=Methanomada group<br>Sample=%{x}<br>Read Count=%{y}<extra></extra>\", \"legendgroup\": \"Methanomada group\", \"marker\": {\"color\": \"#19d3f3\"}, \"name\": \"Methanomada group\", \"offsetgroup\": \"Methanomada group\", \"orientation\": \"v\", \"showlegend\": true, \"textposition\": \"auto\", \"type\": \"bar\", \"x\": [\"Sample 104\", \"Sample 1\", \"Sample 16\", \"Sample 97\", \"Sample 13\", \"Sample 15\", \"Sample 101\", \"Sample 3\", \"Sample 4\", \"Sample 98\", \"Sample 14\", \"Sample 103\", \"Sample 100\", \"Sample 2\", \"Sample 99\"], \"xaxis\": \"x\", \"y\": [251.0, 216.0, 143.0, 122103.0, 158461.0, 96.0, 2778.0, 65579.0, 411401.0, 187.0, 4056.0, 110.0, 142032.0, 89558.0, 34709.0], \"yaxis\": \"y\"}, {\"alignmentgroup\": \"True\", \"hovertemplate\": \"Organism=other<br>Sample=%{x}<br>Read Count=%{y}<extra></extra>\", \"legendgroup\": \"other\", \"marker\": {\"color\": \"#FF6692\"}, \"name\": \"other\", \"offsetgroup\": \"other\", \"orientation\": \"v\", \"showlegend\": true, \"textposition\": \"auto\", \"type\": \"bar\", \"x\": [\"Sample 104\", \"Sample 1\", \"Sample 16\", \"Sample 97\", \"Sample 13\", \"Sample 15\", \"Sample 101\", \"Sample 3\", \"Sample 4\", \"Sample 98\", \"Sample 14\", \"Sample 103\", \"Sample 100\", \"Sample 2\", \"Sample 99\"], \"xaxis\": \"x\", \"y\": [0.0, 0.0, 0.0, 0.0, 0.0, 0.0, 0.0, 0.0, 0.0, 0.0, 0.0, 0.0, 0.0, 0.0, 0.0], \"yaxis\": \"y\"}],\n",
       "                        {\"barmode\": \"relative\", \"legend\": {\"title\": {\"text\": \"Organism\"}, \"tracegroupgap\": 0}, \"margin\": {\"t\": 60}, \"showlegend\": false, \"template\": {\"data\": {\"bar\": [{\"error_x\": {\"color\": \"#2a3f5f\"}, \"error_y\": {\"color\": \"#2a3f5f\"}, \"marker\": {\"line\": {\"color\": \"#E5ECF6\", \"width\": 0.5}}, \"type\": \"bar\"}], \"barpolar\": [{\"marker\": {\"line\": {\"color\": \"#E5ECF6\", \"width\": 0.5}}, \"type\": \"barpolar\"}], \"carpet\": [{\"aaxis\": {\"endlinecolor\": \"#2a3f5f\", \"gridcolor\": \"white\", \"linecolor\": \"white\", \"minorgridcolor\": \"white\", \"startlinecolor\": \"#2a3f5f\"}, \"baxis\": {\"endlinecolor\": \"#2a3f5f\", \"gridcolor\": \"white\", \"linecolor\": \"white\", \"minorgridcolor\": \"white\", \"startlinecolor\": \"#2a3f5f\"}, \"type\": \"carpet\"}], \"choropleth\": [{\"colorbar\": {\"outlinewidth\": 0, \"ticks\": \"\"}, \"type\": \"choropleth\"}], \"contour\": [{\"colorbar\": {\"outlinewidth\": 0, \"ticks\": \"\"}, \"colorscale\": [[0.0, \"#0d0887\"], [0.1111111111111111, \"#46039f\"], [0.2222222222222222, \"#7201a8\"], [0.3333333333333333, \"#9c179e\"], [0.4444444444444444, \"#bd3786\"], [0.5555555555555556, \"#d8576b\"], [0.6666666666666666, \"#ed7953\"], [0.7777777777777778, \"#fb9f3a\"], [0.8888888888888888, \"#fdca26\"], [1.0, \"#f0f921\"]], \"type\": \"contour\"}], \"contourcarpet\": [{\"colorbar\": {\"outlinewidth\": 0, \"ticks\": \"\"}, \"type\": \"contourcarpet\"}], \"heatmap\": [{\"colorbar\": {\"outlinewidth\": 0, \"ticks\": \"\"}, \"colorscale\": [[0.0, \"#0d0887\"], [0.1111111111111111, \"#46039f\"], [0.2222222222222222, \"#7201a8\"], [0.3333333333333333, \"#9c179e\"], [0.4444444444444444, \"#bd3786\"], [0.5555555555555556, \"#d8576b\"], [0.6666666666666666, \"#ed7953\"], [0.7777777777777778, \"#fb9f3a\"], [0.8888888888888888, \"#fdca26\"], [1.0, \"#f0f921\"]], \"type\": \"heatmap\"}], \"heatmapgl\": [{\"colorbar\": {\"outlinewidth\": 0, \"ticks\": \"\"}, \"colorscale\": [[0.0, \"#0d0887\"], [0.1111111111111111, \"#46039f\"], [0.2222222222222222, \"#7201a8\"], [0.3333333333333333, \"#9c179e\"], [0.4444444444444444, \"#bd3786\"], [0.5555555555555556, \"#d8576b\"], [0.6666666666666666, \"#ed7953\"], [0.7777777777777778, \"#fb9f3a\"], [0.8888888888888888, \"#fdca26\"], [1.0, \"#f0f921\"]], \"type\": \"heatmapgl\"}], \"histogram\": [{\"marker\": {\"colorbar\": {\"outlinewidth\": 0, \"ticks\": \"\"}}, \"type\": \"histogram\"}], \"histogram2d\": [{\"colorbar\": {\"outlinewidth\": 0, \"ticks\": \"\"}, \"colorscale\": [[0.0, \"#0d0887\"], [0.1111111111111111, \"#46039f\"], [0.2222222222222222, \"#7201a8\"], [0.3333333333333333, \"#9c179e\"], [0.4444444444444444, \"#bd3786\"], [0.5555555555555556, \"#d8576b\"], [0.6666666666666666, \"#ed7953\"], [0.7777777777777778, \"#fb9f3a\"], [0.8888888888888888, \"#fdca26\"], [1.0, \"#f0f921\"]], \"type\": \"histogram2d\"}], \"histogram2dcontour\": [{\"colorbar\": {\"outlinewidth\": 0, \"ticks\": \"\"}, \"colorscale\": [[0.0, \"#0d0887\"], [0.1111111111111111, \"#46039f\"], [0.2222222222222222, \"#7201a8\"], [0.3333333333333333, \"#9c179e\"], [0.4444444444444444, \"#bd3786\"], [0.5555555555555556, \"#d8576b\"], [0.6666666666666666, \"#ed7953\"], [0.7777777777777778, \"#fb9f3a\"], [0.8888888888888888, \"#fdca26\"], [1.0, \"#f0f921\"]], \"type\": \"histogram2dcontour\"}], \"mesh3d\": [{\"colorbar\": {\"outlinewidth\": 0, \"ticks\": \"\"}, \"type\": \"mesh3d\"}], \"parcoords\": [{\"line\": {\"colorbar\": {\"outlinewidth\": 0, \"ticks\": \"\"}}, \"type\": \"parcoords\"}], \"pie\": [{\"automargin\": true, \"type\": \"pie\"}], \"scatter\": [{\"marker\": {\"colorbar\": {\"outlinewidth\": 0, \"ticks\": \"\"}}, \"type\": \"scatter\"}], \"scatter3d\": [{\"line\": {\"colorbar\": {\"outlinewidth\": 0, \"ticks\": \"\"}}, \"marker\": {\"colorbar\": {\"outlinewidth\": 0, \"ticks\": \"\"}}, \"type\": \"scatter3d\"}], \"scattercarpet\": [{\"marker\": {\"colorbar\": {\"outlinewidth\": 0, \"ticks\": \"\"}}, \"type\": \"scattercarpet\"}], \"scattergeo\": [{\"marker\": {\"colorbar\": {\"outlinewidth\": 0, \"ticks\": \"\"}}, \"type\": \"scattergeo\"}], \"scattergl\": [{\"marker\": {\"colorbar\": {\"outlinewidth\": 0, \"ticks\": \"\"}}, \"type\": \"scattergl\"}], \"scattermapbox\": [{\"marker\": {\"colorbar\": {\"outlinewidth\": 0, \"ticks\": \"\"}}, \"type\": \"scattermapbox\"}], \"scatterpolar\": [{\"marker\": {\"colorbar\": {\"outlinewidth\": 0, \"ticks\": \"\"}}, \"type\": \"scatterpolar\"}], \"scatterpolargl\": [{\"marker\": {\"colorbar\": {\"outlinewidth\": 0, \"ticks\": \"\"}}, \"type\": \"scatterpolargl\"}], \"scatterternary\": [{\"marker\": {\"colorbar\": {\"outlinewidth\": 0, \"ticks\": \"\"}}, \"type\": \"scatterternary\"}], \"surface\": [{\"colorbar\": {\"outlinewidth\": 0, \"ticks\": \"\"}, \"colorscale\": [[0.0, \"#0d0887\"], [0.1111111111111111, \"#46039f\"], [0.2222222222222222, \"#7201a8\"], [0.3333333333333333, \"#9c179e\"], [0.4444444444444444, \"#bd3786\"], [0.5555555555555556, \"#d8576b\"], [0.6666666666666666, \"#ed7953\"], [0.7777777777777778, \"#fb9f3a\"], [0.8888888888888888, \"#fdca26\"], [1.0, \"#f0f921\"]], \"type\": \"surface\"}], \"table\": [{\"cells\": {\"fill\": {\"color\": \"#EBF0F8\"}, \"line\": {\"color\": \"white\"}}, \"header\": {\"fill\": {\"color\": \"#C8D4E3\"}, \"line\": {\"color\": \"white\"}}, \"type\": \"table\"}]}, \"layout\": {\"annotationdefaults\": {\"arrowcolor\": \"#2a3f5f\", \"arrowhead\": 0, \"arrowwidth\": 1}, \"coloraxis\": {\"colorbar\": {\"outlinewidth\": 0, \"ticks\": \"\"}}, \"colorscale\": {\"diverging\": [[0, \"#8e0152\"], [0.1, \"#c51b7d\"], [0.2, \"#de77ae\"], [0.3, \"#f1b6da\"], [0.4, \"#fde0ef\"], [0.5, \"#f7f7f7\"], [0.6, \"#e6f5d0\"], [0.7, \"#b8e186\"], [0.8, \"#7fbc41\"], [0.9, \"#4d9221\"], [1, \"#276419\"]], \"sequential\": [[0.0, \"#0d0887\"], [0.1111111111111111, \"#46039f\"], [0.2222222222222222, \"#7201a8\"], [0.3333333333333333, \"#9c179e\"], [0.4444444444444444, \"#bd3786\"], [0.5555555555555556, \"#d8576b\"], [0.6666666666666666, \"#ed7953\"], [0.7777777777777778, \"#fb9f3a\"], [0.8888888888888888, \"#fdca26\"], [1.0, \"#f0f921\"]], \"sequentialminus\": [[0.0, \"#0d0887\"], [0.1111111111111111, \"#46039f\"], [0.2222222222222222, \"#7201a8\"], [0.3333333333333333, \"#9c179e\"], [0.4444444444444444, \"#bd3786\"], [0.5555555555555556, \"#d8576b\"], [0.6666666666666666, \"#ed7953\"], [0.7777777777777778, \"#fb9f3a\"], [0.8888888888888888, \"#fdca26\"], [1.0, \"#f0f921\"]]}, \"colorway\": [\"#636efa\", \"#EF553B\", \"#00cc96\", \"#ab63fa\", \"#FFA15A\", \"#19d3f3\", \"#FF6692\", \"#B6E880\", \"#FF97FF\", \"#FECB52\"], \"font\": {\"color\": \"#2a3f5f\"}, \"geo\": {\"bgcolor\": \"white\", \"lakecolor\": \"white\", \"landcolor\": \"#E5ECF6\", \"showlakes\": true, \"showland\": true, \"subunitcolor\": \"white\"}, \"hoverlabel\": {\"align\": \"left\"}, \"hovermode\": \"closest\", \"mapbox\": {\"style\": \"light\"}, \"paper_bgcolor\": \"white\", \"plot_bgcolor\": \"#E5ECF6\", \"polar\": {\"angularaxis\": {\"gridcolor\": \"white\", \"linecolor\": \"white\", \"ticks\": \"\"}, \"bgcolor\": \"#E5ECF6\", \"radialaxis\": {\"gridcolor\": \"white\", \"linecolor\": \"white\", \"ticks\": \"\"}}, \"scene\": {\"xaxis\": {\"backgroundcolor\": \"#E5ECF6\", \"gridcolor\": \"white\", \"gridwidth\": 2, \"linecolor\": \"white\", \"showbackground\": true, \"ticks\": \"\", \"zerolinecolor\": \"white\"}, \"yaxis\": {\"backgroundcolor\": \"#E5ECF6\", \"gridcolor\": \"white\", \"gridwidth\": 2, \"linecolor\": \"white\", \"showbackground\": true, \"ticks\": \"\", \"zerolinecolor\": \"white\"}, \"zaxis\": {\"backgroundcolor\": \"#E5ECF6\", \"gridcolor\": \"white\", \"gridwidth\": 2, \"linecolor\": \"white\", \"showbackground\": true, \"ticks\": \"\", \"zerolinecolor\": \"white\"}}, \"shapedefaults\": {\"line\": {\"color\": \"#2a3f5f\"}}, \"ternary\": {\"aaxis\": {\"gridcolor\": \"white\", \"linecolor\": \"white\", \"ticks\": \"\"}, \"baxis\": {\"gridcolor\": \"white\", \"linecolor\": \"white\", \"ticks\": \"\"}, \"bgcolor\": \"#E5ECF6\", \"caxis\": {\"gridcolor\": \"white\", \"linecolor\": \"white\", \"ticks\": \"\"}}, \"title\": {\"x\": 0.05}, \"xaxis\": {\"automargin\": true, \"gridcolor\": \"white\", \"linecolor\": \"white\", \"ticks\": \"\", \"title\": {\"standoff\": 15}, \"zerolinecolor\": \"white\", \"zerolinewidth\": 2}, \"yaxis\": {\"automargin\": true, \"gridcolor\": \"white\", \"linecolor\": \"white\", \"ticks\": \"\", \"title\": {\"standoff\": 15}, \"zerolinecolor\": \"white\", \"zerolinewidth\": 2}}}, \"xaxis\": {\"anchor\": \"y\", \"domain\": [0.0, 1.0], \"title\": {\"text\": \"Sample\"}}, \"yaxis\": {\"anchor\": \"x\", \"domain\": [0.0, 1.0], \"title\": {\"text\": \"Read Count\"}}},\n",
       "                        {\"responsive\": true}\n",
       "                    ).then(function(){\n",
       "                            \n",
       "var gd = document.getElementById('174493a9-571e-4166-a1ab-8b054fa39e19');\n",
       "var x = new MutationObserver(function (mutations, observer) {{\n",
       "        var display = window.getComputedStyle(gd).display;\n",
       "        if (!display || display === 'none') {{\n",
       "            console.log([gd, 'removed!']);\n",
       "            Plotly.purge(gd);\n",
       "            observer.disconnect();\n",
       "        }}\n",
       "}});\n",
       "\n",
       "// Listen for the removal of the full notebook cells\n",
       "var notebookContainer = gd.closest('#notebook-container');\n",
       "if (notebookContainer) {{\n",
       "    x.observe(notebookContainer, {childList: true});\n",
       "}}\n",
       "\n",
       "// Listen for the clearing of the current output cell\n",
       "var outputEl = gd.closest('.output');\n",
       "if (outputEl) {{\n",
       "    x.observe(outputEl, {childList: true});\n",
       "}}\n",
       "\n",
       "                        })\n",
       "                };\n",
       "                });\n",
       "            </script>\n",
       "        </div>"
      ]
     },
     "metadata": {},
     "output_type": "display_data"
    }
   ],
   "source": [
    "fig = px.bar(df, x=\"Sample\", y=\"Read Count\", color='Organism')\n",
    "fig.update_layout(showlegend=False)\n",
    "fig.write_html(\"kraken2.html\")\n",
    "fig.show()\n"
   ]
  },
  {
   "cell_type": "code",
   "execution_count": null,
   "metadata": {},
   "outputs": [],
   "source": [
    "\n"
   ]
  },
  {
   "cell_type": "code",
   "execution_count": 104,
   "metadata": {},
   "outputs": [],
   "source": [
    "# data as stacked bar charts\n",
    "data = {\n",
    "    \"Function\": [],\n",
    "    \"Abundance RPKs\": [],\n",
    "    \"Sample\": []\n",
    "}\n",
    "samples = []\n",
    "min_abundance = 10000 # reads per kilobase\n",
    "\n",
    "with open('genefamilies.csv', 'r') as f:\n",
    "    raw_data = f.read().split(\"\\n\")\n",
    "    \n",
    "    samples = [\"Sample \"+x for x in raw_data[0].split(\",\") if x != \"\"]\n",
    "    samples = samples[:-1] # skip out the function bit\n",
    "\n",
    "    # this is a bit redundant, but is fast enough for me not to care\n",
    "    all_functions = {}\n",
    "    \n",
    "    for r in raw_data[1:]:\n",
    "        tag = r.split(\",\")[0]\n",
    "        tmp_f = r.split(\",\")[-1].split(\"DR   GO;\")\n",
    "\n",
    "        for func in tmp_f[1:]: # skipping the initial empty split\n",
    "            if func not in all_functions:\n",
    "                all_functions[func] = []\n",
    "                \n",
    "            all_functions[func].append(tag)\n",
    "\n",
    "    all_data = {s: {} for s in samples} \n",
    "    \n",
    "    for r in raw_data[1:]:\n",
    "        tmp_r = r.split(\",\")\n",
    "        \n",
    "        if len(tmp_r) > 1: # dealing with the last row\n",
    "            for i in range(0, len(samples)): # ignoring the last one because it's the function column\n",
    "                all_data[samples[i]][tmp_r[0]] = float(tmp_r[(i+1)]) if tmp_r[(i+1)] != \"NaN\" else 0.0\n",
    "\n",
    "    sample_functions = {s: {} for s in samples}\n",
    "    \n",
    "    for sample in samples:\n",
    "        for func, genes in all_functions.items():\n",
    "            abundance = sum([all_data[sample][g] for g in genes if g in all_data[sample]])\n",
    "            \n",
    "            sample_functions[sample][func] = abundance\n",
    "            \n",
    "            if abundance >= min_abundance:\n",
    "                data[\"Function\"].append(func.strip())\n",
    "                data[\"Abundance RPKs\"].append(abundance)\n",
    "                data[\"Sample\"].append(sample)\n",
    "        \n",
    "df = pd.DataFrame.from_dict(data)\n",
    "df[\"Abundance RPKs\"] = df[\"Abundance RPKs\"].astype(float)\n"
   ]
  },
  {
   "cell_type": "code",
   "execution_count": 107,
   "metadata": {},
   "outputs": [
    {
     "data": {
      "text/plain": [
       "{' GO:0009507; C:chloroplast; IEA:UniProtKB-SubCell.': 3.11919e-08,\n",
       " ' GO:0005840; C:ribosome; IEA:UniProtKB-KW.': 0.0010333420681400004,\n",
       " ' GO:0003735; F:structural constituent of ribosome; IEA:InterPro.': 0.0014228879730899997,\n",
       " ' GO:0006412; P:translation; IEA:UniProtKB-UniRule.': 0.0014857270063899997,\n",
       " ' GO:0015935; C:small ribosomal subunit; IEA:InterPro.': 0.00016192597384999998,\n",
       " ' GO:0019843; F:rRNA binding; IEA:UniProtKB-UniRule.': 0.0010847074529200006,\n",
       " ' GO:0000049; F:tRNA binding; IEA:UniProtKB-UniRule.': 0.00028086316775999997,\n",
       " ' GO:0005737; C:cytoplasm; IEA:UniProtKB-SubCell.': 0.0014413814168000006,\n",
       " ' GO:0043022; F:ribosome binding; IEA:UniProtKB-UniRule.': 0.00018529319090000002,\n",
       " ' GO:0003743; F:translation initiation factor activity; IEA:UniProtKB-UniRule.': 0.0001644320693,\n",
       " \" GO:0048027; F:mRNA 5'-UTR binding; IEA:UniProtKB-UniRule.\": 3.52241e-06,\n",
       " ' GO:0006402; P:mRNA catabolic process; IEA:InterPro.': 3.52241e-06,\n",
       " ' GO:0045947; P:negative regulation of translational initiation; IEA:UniProtKB-UniRule.': 3.52241e-06,\n",
       " ' GO:0045948; P:positive regulation of translational initiation; IEA:UniProtKB-UniRule.': 0.0,\n",
       " ' GO:0006109; P:regulation of carbohydrate metabolic process; IEA:UniProtKB-UniRule.': 9.77575e-08,\n",
       " ' GO:0015986; P:ATP synthesis coupled proton transport; IEA:UniProtKB-UniRule.': 5.2457569e-05,\n",
       " ' GO:0000917; P:division septum assembly; IEA:UniProtKB-KW.': 1.5687338650000004e-05,\n",
       " ' GO:0030435; P:sporulation resulting in formation of a cellular spore; IEA:InterPro.': 1.68428155e-06,\n",
       " ' GO:0005525; F:GTP binding; IEA:UniProtKB-UniRule.': 0.00015784973790000003,\n",
       " ' GO:0003924; F:GTPase activity; IEA:InterPro.': 9.490279529999998e-05,\n",
       " ' GO:0003746; F:translation elongation factor activity; IEA:UniProtKB-UniRule.': 9.511164450000002e-05,\n",
       " ' GO:0015934; C:large ribosomal subunit; IEA:InterPro.': 0.00021605932420000004,\n",
       " ' GO:0000049; F:tRNA binding; IEA:UniProtKB-KW.': 9.31529348e-05,\n",
       " ' GO:0006417; P:regulation of translation; IEA:UniProtKB-KW.': 3.00520618e-05,\n",
       " ' GO:0016740; F:transferase activity; IEA:InterPro.': 2.79328996e-05,\n",
       " ' GO:0008270; F:zinc ion binding; IEA:UniProtKB-UniRule.': 0.00010030895409999995,\n",
       " ' GO:0004816; F:asparagine-tRNA ligase activity; IEA:UniProtKB-UniRule.': 2.5552402199999998e-05,\n",
       " ' GO:0005524; F:ATP binding; IEA:UniProtKB-UniRule.': 0.00048202793589999997,\n",
       " ' GO:0003676; F:nucleic acid binding; IEA:InterPro.': 7.17514542e-05,\n",
       " ' GO:0006421; P:asparaginyl-tRNA aminoacylation; IEA:UniProtKB-UniRule.': 2.5552402199999998e-05,\n",
       " ' GO:0005524; F:ATP binding; IEA:UniProtKB-KW.': 0.0002230946774999999,\n",
       " ' GO:0004618; F:phosphoglycerate kinase activity; IEA:UniProtKB-UniRule.': 3.1953148e-06,\n",
       " ' GO:0006096; P:glycolytic process; IEA:UniProtKB-UniRule.': 6.555524690000002e-05,\n",
       " ' GO:0042777; P:plasma membrane ATP synthesis coupled proton transport; IEA:UniProtKB-UniRule.': 7.631962100000002e-06,\n",
       " ' GO:0000027; P:ribosomal large subunit assembly; IEA:UniProtKB-UniRule.': 2.84388446e-05,\n",
       " ' GO:0006412; P:translation; IEA:InterPro.': 2.86139058e-05,\n",
       " ' GO:0000287; F:magnesium ion binding; IEA:UniProtKB-UniRule.': 0.0002239870915000001,\n",
       " ' GO:0004826; F:phenylalanine-tRNA ligase activity; IEA:UniProtKB-UniRule.': 1.4148104900000001e-05,\n",
       " ' GO:0000049; F:tRNA binding; IEA:InterPro.': 3.8007283000000005e-05,\n",
       " ' GO:0006432; P:phenylalanyl-tRNA aminoacylation; IEA:UniProtKB-UniRule.': 1.4148104900000001e-05,\n",
       " ' GO:0003684; F:damaged DNA binding; IEA:UniProtKB-UniRule.': 1.0249714e-06,\n",
       " ' GO:0008094; F:DNA-dependent ATPase activity; IEA:UniProtKB-UniRule.': 9.894523e-07,\n",
       " ' GO:0003697; F:single-stranded DNA binding; IEA:UniProtKB-UniRule.': 1.5666858699999997e-05,\n",
       " ' GO:0006310; P:DNA recombination; IEA:UniProtKB-UniRule.': 5.18614378e-05,\n",
       " ' GO:0006281; P:DNA repair; IEA:UniProtKB-UniRule.': 6.35321477e-05,\n",
       " ' GO:0009432; P:SOS response; IEA:UniProtKB-UniRule.': 4.449739810000001e-05,\n",
       " ' GO:0033862; F:UMP kinase activity; IEA:UniProtKB-EC.': 2.65359802e-05,\n",
       " \" GO:0044210; P:'de novo' CTP biosynthetic process; IEA:UniProtKB-UniPathway.\": 3.50445372e-05,\n",
       " ' GO:0005886; C:plasma membrane; IEA:UniProtKB-SubCell.': 0.00014371680889999997,\n",
       " ' GO:0003924; F:GTPase activity; IEA:UniProtKB-UniRule.': 6.788651000000002e-05,\n",
       " ' GO:0045727; P:positive regulation of translation; IEA:UniProtKB-UniRule.': 3.01942461e-05,\n",
       " ' GO:0046983; F:protein dimerization activity; IEA:InterPro.': 2.0930634899999997e-05,\n",
       " ' GO:0051082; F:unfolded protein binding; IEA:UniProtKB-UniRule.': 3.188794030000001e-05,\n",
       " ' GO:0008270; F:zinc ion binding; IEA:InterPro.': 3.203388560000001e-05,\n",
       " ' GO:0006457; P:protein folding; IEA:UniProtKB-UniRule.': 2.9259287800000004e-05,\n",
       " ' GO:0004252; F:serine-type endopeptidase activity; IEA:UniProtKB-UniRule.': 9.914788299999999e-06,\n",
       " ' GO:0042026; P:protein refolding; IEA:UniProtKB-UniRule.': 1.88186577e-05,\n",
       " ' GO:0003688; F:DNA replication origin binding; IEA:UniProtKB-UniRule.': 1.5676472e-06,\n",
       " ' GO:0006270; P:DNA replication initiation; IEA:UniProtKB-UniRule.': 1.5676472e-06,\n",
       " ' GO:0006275; P:regulation of DNA replication; IEA:UniProtKB-UniRule.': 5.0858772e-06,\n",
       " ' GO:0006260; P:DNA replication; IEA:UniProtKB-UniRule.': 1.7852838199999997e-05,\n",
       " ' GO:0004019; F:adenylosuccinate synthase activity; IEA:UniProtKB-UniRule.': 2.779349e-05,\n",
       " \" GO:0044208; P:'de novo' AMP biosynthetic process; IEA:UniProtKB-UniPathway.\": 2.79311797e-05,\n",
       " ' GO:0016829; F:lyase activity; IEA:UniProtKB-KW.': 1.3517837e-05,\n",
       " ' GO:0005525; F:GTP binding; IEA:UniProtKB-KW.': 6.901281629999999e-05,\n",
       " ' GO:0004845; F:uracil phosphoribosyltransferase activity; IEA:UniProtKB-UniRule.': 6.49331e-06,\n",
       " ' GO:0009116; P:nucleoside metabolic process; IEA:InterPro.': 2.4418044900000004e-05,\n",
       " ' GO:0044206; P:UMP salvage; IEA:UniProtKB-UniPathway.': 6.49331e-06,\n",
       " ' GO:0006223; P:uracil salvage; IEA:InterPro.': 6.49331e-06,\n",
       " ' GO:0003677; F:DNA binding; IEA:UniProtKB-UniRule.': 1.8892592600000004e-05,\n",
       " ' GO:0046872; F:metal ion binding; IEA:UniProtKB-KW.': 0.0002454942650000001,\n",
       " ' GO:0004798; F:thymidylate kinase activity; IEA:UniProtKB-UniRule.': 4.03168e-06,\n",
       " ' GO:0006233; P:dTDP biosynthetic process; IEA:InterPro.': 4.03168e-06,\n",
       " ' GO:0006235; P:dTTP biosynthetic process; IEA:UniProtKB-UniRule.': 4.03168e-06,\n",
       " ' GO:0004818; F:glutamate-tRNA ligase activity; IEA:UniProtKB-UniRule.': 2.41062591e-05,\n",
       " ' GO:0006424; P:glutamyl-tRNA aminoacylation; IEA:UniProtKB-UniRule.': 2.41062591e-05,\n",
       " ' GO:0009098; P:leucine biosynthetic process; IEA:UniProtKB-UniRule.': 3.83372384e-05,\n",
       " ' GO:0009316; C:3-isopropylmalate dehydratase complex; IEA:InterPro.': 4.409535e-06,\n",
       " ' GO:0003861; F:3-isopropylmalate dehydratase activity; IEA:UniProtKB-UniRule.': 4.6231089999999994e-06,\n",
       " ' GO:0008716; F:D-alanine-D-alanine ligase activity; IEA:UniProtKB-UniRule.': 1.20783106e-05,\n",
       " ' GO:0071555; P:cell wall organization; IEA:UniProtKB-KW.': 8.284115280000004e-05,\n",
       " ' GO:0009252; P:peptidoglycan biosynthetic process; IEA:UniProtKB-UniRule.': 6.94362123e-05,\n",
       " ' GO:0008360; P:regulation of cell shape; IEA:UniProtKB-KW.': 8.033636440000004e-05,\n",
       " ' GO:0052906; F:tRNA (guanine(37)-N(1))-methyltransferase activity; IEA:UniProtKB-EC.': 5.879347999999999e-06,\n",
       " ' GO:0005840; C:ribosome; IEA:InterPro.': 1.0072481300000003e-05,\n",
       " ' GO:0043022; F:ribosome binding; IEA:InterPro.': 1.0072481300000003e-05,\n",
       " ' GO:0042274; P:ribosomal small subunit biogenesis; IEA:UniProtKB-UniRule.': 3.1501163299999996e-05,\n",
       " ' GO:0006364; P:rRNA processing; IEA:InterPro.': 1.0072481300000003e-05,\n",
       " ' GO:0000287; F:magnesium ion binding; IEA:InterPro.': 5.109973909999999e-05,\n",
       " ' GO:0042254; P:ribosome biogenesis; IEA:UniProtKB-UniRule.': 1.1566246e-05,\n",
       " ' GO:0004349; F:glutamate 5-kinase activity; IEA:UniProtKB-UniRule.': 4.1742992e-06,\n",
       " ' GO:0003723; F:RNA binding; IEA:InterPro.': 1.55840426e-05,\n",
       " ' GO:0055129; P:L-proline biosynthetic process; IEA:UniProtKB-UniPathway.': 1.5768741999999995e-05,\n",
       " ' GO:0070180; F:large ribosomal subunit rRNA binding; IEA:UniProtKB-UniRule.': 2.8570071870000002e-05,\n",
       " ' GO:0008897; F:holo-[acyl-carrier-protein] synthase activity; IEA:UniProtKB-UniRule.': 3.12446e-06,\n",
       " ' GO:0006633; P:fatty acid biosynthetic process; IEA:UniProtKB-UniRule.': 5.0396955799999995e-05,\n",
       " ' GO:0042254; P:ribosome biogenesis; IEA:InterPro.': 5.201531e-06,\n",
       " ' GO:0005524; F:ATP binding; IEA:InterPro.': 2.14197524e-05,\n",
       " ' GO:0030490; P:maturation of SSU-rRNA; IEA:UniProtKB-UniRule.': 7.1421742999999995e-06,\n",
       " ' GO:0004828; F:serine-tRNA ligase activity; IEA:UniProtKB-UniRule.': 3.6130705000000003e-06,\n",
       " ' GO:0016260; P:selenocysteine biosynthetic process; IEA:UniProtKB-UniRule.': 3.6130705000000003e-06,\n",
       " ' GO:0097056; P:selenocysteinyl-tRNA(Sec) biosynthetic process; IEA:UniProtKB-UniPathway.': 3.6130705000000003e-06,\n",
       " ' GO:0006434; P:seryl-tRNA aminoacylation; IEA:UniProtKB-UniRule.': 3.6130705000000003e-06,\n",
       " ' GO:0008176; F:tRNA (guanine-N7-)-methyltransferase activity; IEA:UniProtKB-UniRule.': 3.89254e-06,\n",
       " ' GO:0009045; F:xylose isomerase activity; IEA:UniProtKB-UniRule.': 9.37944e-06,\n",
       " ' GO:0042732; P:D-xylose metabolic process; IEA:UniProtKB-UniRule.': 9.37944e-06,\n",
       " ' GO:0019843; F:rRNA binding; IEA:UniProtKB-KW.': 2.3551658900000007e-05,\n",
       " ' GO:0002161; F:aminoacyl-tRNA editing activity; IEA:InterPro.': 7.494509000000001e-06,\n",
       " ' GO:0004827; F:proline-tRNA ligase activity; IEA:UniProtKB-UniRule.': 2.8244224000000005e-05,\n",
       " ' GO:0006433; P:prolyl-tRNA aminoacylation; IEA:UniProtKB-UniRule.': 2.8244224000000005e-05,\n",
       " ' GO:0070038; F:rRNA (pseudouridine-N3-)-methyltransferase activity; IEA:UniProtKB-UniRule.': 1.0201727400000001e-05,\n",
       " ' GO:0003723; F:RNA binding; IEA:UniProtKB-UniRule.': 1.9230424799999997e-05,\n",
       " ' GO:0070929; P:trans-translation; IEA:UniProtKB-UniRule.': 1.12616106e-05,\n",
       " ' GO:0016021; C:integral component of membrane; IEA:UniProtKB-KW.': 8.113191400000001e-05,\n",
       " ' GO:0015171; F:amino acid transmembrane transporter activity; IEA:UniProtKB-UniRule.': 2.92012e-06,\n",
       " ' GO:0015293; F:symporter activity; IEA:UniProtKB-UniRule.': 2.92012e-06,\n",
       " ' GO:0032329; P:serine transport; IEA:InterPro.': 2.92012e-06,\n",
       " ' GO:0015826; P:threonine transport; IEA:InterPro.': 2.92012e-06,\n",
       " ' GO:0004594; F:pantothenate kinase activity; IEA:UniProtKB-UniRule.': 1.2833514e-05,\n",
       " ' GO:0015937; P:coenzyme A biosynthetic process; IEA:UniProtKB-UniRule.': 2.61015909e-05,\n",
       " ' GO:0005506; F:iron ion binding; IEA:InterPro.': 2.7738434399999998e-05,\n",
       " ' GO:0043768; F:S-ribosylhomocysteine lyase activity; IEA:UniProtKB-UniRule.': 1.25330344e-05,\n",
       " ' GO:0009372; P:quorum sensing; IEA:UniProtKB-UniRule.': 1.25330344e-05,\n",
       " ' GO:0004641; F:phosphoribosylformylglycinamidine cyclo-ligase activity; IEA:UniProtKB-UniRule.': 6.5093840999999985e-06,\n",
       " \" GO:0006189; P:'de novo' IMP biosynthetic process; IEA:UniProtKB-UniRule.\": 2.8381626400000004e-05,\n",
       " ' GO:0043815; F:phosphoribosylglycinamide formyltransferase 2 activity; IEA:UniProtKB-UniRule.': 1.236601e-05,\n",
       " ' GO:0004644; F:phosphoribosylglycinamide formyltransferase activity; IEA:InterPro.': 1.236601e-05,\n",
       " ' GO:0004478; F:methionine adenosyltransferase activity; IEA:UniProtKB-UniRule.': 1.48219259e-05,\n",
       " ' GO:0006730; P:one-carbon metabolic process; IEA:UniProtKB-UniRule.': 2.76372537e-05,\n",
       " ' GO:0006556; P:S-adenosylmethionine biosynthetic process; IEA:UniProtKB-UniPathway.': 1.48219259e-05,\n",
       " ' GO:0004479; F:methionyl-tRNA formyltransferase activity; IEA:UniProtKB-UniRule.': 1.2318067000000001e-05,\n",
       " ' GO:0000502; C:proteasome complex; IEA:InterPro.': 2.9598050000000004e-06,\n",
       " ' GO:0016887; F:ATPase activity; IEA:UniProtKB-UniRule.': 2.9598050000000004e-06,\n",
       " ' GO:0019941; P:modification-dependent protein catabolic process; IEA:InterPro.': 2.9598050000000004e-06,\n",
       " ' GO:0010498; P:proteasomal protein catabolic process; IEA:InterPro.': 2.9598050000000004e-06,\n",
       " ' GO:0019787; F:ubiquitin-like protein transferase activity; IEA:UniProtKB-UniRule.': 3.0022850000000003e-06,\n",
       " ' GO:0019941; P:modification-dependent protein catabolic process; IEA:UniProtKB-UniRule.': 4.080485e-06,\n",
       " ' GO:0010498; P:proteasomal protein catabolic process; IEA:UniProtKB-UniRule.': 4.080485e-06,\n",
       " ' GO:0070490; P:protein pupylation; IEA:UniProtKB-UniRule.': 4.080485e-06,\n",
       " ' GO:0015297; F:antiporter activity; IEA:UniProtKB-UniRule.': 7.0280529999999994e-06,\n",
       " ' GO:0015081; F:sodium ion transmembrane transporter activity; IEA:UniProtKB-UniRule.': 7.0280529999999994e-06,\n",
       " ' GO:0006885; P:regulation of pH; IEA:InterPro.': 7.0280529999999994e-06,\n",
       " ' GO:0004518; F:nuclease activity; IEA:InterPro.': 5.523212e-06,\n",
       " ' GO:0004045; F:aminoacyl-tRNA hydrolase activity; IEA:UniProtKB-UniRule.': 1.12886365e-05,\n",
       " ' GO:0009986; C:cell surface; IEA:UniProtKB-SubCell.': 1.6444425e-05,\n",
       " ' GO:0005576; C:extracellular region; IEA:UniProtKB-SubCell.': 1.64929845e-05,\n",
       " ' GO:0000015; C:phosphopyruvate hydratase complex; IEA:InterPro.': 1.6444425e-05,\n",
       " ' GO:0004634; F:phosphopyruvate hydratase activity; IEA:UniProtKB-UniRule.': 1.6444425e-05,\n",
       " ' GO:0000310; F:xanthine phosphoribosyltransferase activity; IEA:UniProtKB-UniRule.': 1.29382665e-05,\n",
       " ' GO:0006166; P:purine ribonucleoside salvage; IEA:UniProtKB-UniRule.': 1.29382665e-05,\n",
       " ' GO:0046110; P:xanthine metabolic process; IEA:InterPro.': 1.29382665e-05,\n",
       " ' GO:0032265; P:XMP salvage; IEA:UniProtKB-UniPathway.': 1.29382665e-05,\n",
       " ' GO:0004518; F:nuclease activity; IEA:UniProtKB-KW.': 1.37864543e-05,\n",
       " \" GO:0000967; P:rRNA 5'-end processing; IEA:UniProtKB-UniRule.\": 1.15023743e-05,\n",
       " ' GO:0004107; F:chorismate synthase activity; IEA:UniProtKB-UniRule.': 1.20185307e-05,\n",
       " ' GO:0009073; P:aromatic amino acid family biosynthetic process; IEA:UniProtKB-UniRule.': 1.7298849799999998e-05,\n",
       " ' GO:0009423; P:chorismate biosynthetic process; IEA:UniProtKB-UniPathway.': 1.9520922799999994e-05,\n",
       " ' GO:0008878; F:glucose-1-phosphate adenylyltransferase activity; IEA:UniProtKB-UniRule.': 4.618503e-06,\n",
       " ' GO:0005978; P:glycogen biosynthetic process; IEA:UniProtKB-UniRule.': 4.856143e-06,\n",
       " ' GO:0004521; F:endoribonuclease activity; IEA:UniProtKB-UniRule.': 2.4379530599999998e-05,\n",
       " ' GO:0004222; F:metalloendopeptidase activity; IEA:InterPro.': 2.7044624e-05,\n",
       " ' GO:0006364; P:rRNA processing; IEA:UniProtKB-UniRule.': 2.0942200000000004e-05,\n",
       " ' GO:0016597; F:amino acid binding; IEA:InterPro.': 2.35521904e-05,\n",
       " ' GO:0004070; F:aspartate carbamoyltransferase activity; IEA:UniProtKB-UniRule.': 1.54659664e-05,\n",
       " \" GO:0006207; P:'de novo' pyrimidine nucleobase biosynthetic process; IEA:InterPro.\": 2.9980843000000004e-05,\n",
       " \" GO:0044205; P:'de novo' UMP biosynthetic process; IEA:UniProtKB-UniPathway.\": 5.546377049999999e-05,\n",
       " ' GO:0006520; P:cellular amino acid metabolic process; IEA:InterPro.': 1.57900154e-05,\n",
       " ' GO:0004588; F:orotate phosphoribosyltransferase activity; IEA:UniProtKB-UniRule.': 1.72702673e-05,\n",
       " ' GO:0006415; P:translational termination; IEA:UniProtKB-UniRule.': 9.986100099999999e-06,\n",
       " ' GO:0070040; F:rRNA (adenine-C2-)-methyltransferase activity; IEA:UniProtKB-UniRule.': 9.730094099999999e-06,\n",
       " ' GO:0002935; F:tRNA (adenine-C2-)-methyltransferase activity; IEA:UniProtKB-UniRule.': 9.730094099999999e-06,\n",
       " ' GO:0070475; P:rRNA base methylation; IEA:UniProtKB-UniRule.': 2.3357676700000004e-05,\n",
       " ' GO:0000107; F:imidazoleglycerol-phosphate synthase activity; IEA:UniProtKB-UniRule.': 6.234417e-06,\n",
       " ' GO:0000105; P:histidine biosynthetic process; IEA:UniProtKB-UniRule.': 4.4038311900000016e-05,\n",
       " ' GO:0004635; F:phosphoribosyl-AMP cyclohydrolase activity; IEA:UniProtKB-UniRule.': 3.4076233e-06,\n",
       " ' GO:0005887; C:integral component of plasma membrane; IEA:UniProtKB-UniRule.': 1.4539535000000001e-05,\n",
       " ' GO:0008961; F:phosphatidylglycerol-prolipoprotein diacylglyceryl transferase activity; IEA:UniProtKB-UniRule.': 4.824564e-06,\n",
       " ' GO:0042158; P:lipoprotein biosynthetic process; IEA:UniProtKB-UniRule.': 4.824564e-06,\n",
       " ' GO:0004636; F:phosphoribosyl-ATP diphosphatase activity; IEA:UniProtKB-UniRule.': 3.5302073e-06,\n",
       " ' GO:0003879; F:ATP phosphoribosyltransferase activity; IEA:UniProtKB-UniRule.': 9.6137133e-06,\n",
       " ' GO:0008821; F:crossover junction endodeoxyribonuclease activity; IEA:UniProtKB-UniRule.': 9.038533e-06,\n",
       " ' GO:0009379; C:Holliday junction helicase complex; IEA:InterPro.': 1.0647594999999999e-05,\n",
       " ' GO:0003677; F:DNA binding; IEA:UniProtKB-KW.': 3.160502210000001e-05,\n",
       " ' GO:0009378; F:four-way junction helicase activity; IEA:UniProtKB-UniRule.': 2.1485662299999997e-05,\n",
       " ' GO:0003677; F:DNA binding; IEA:InterPro.': 2.0350713599999997e-05,\n",
       " ' GO:0003999; F:adenine phosphoribosyltransferase activity; IEA:UniProtKB-UniRule.': 1.1503173800000001e-05,\n",
       " ' GO:0006168; P:adenine salvage; IEA:UniProtKB-UniRule.': 1.1503173800000001e-05,\n",
       " ' GO:0044209; P:AMP salvage; IEA:UniProtKB-UniPathway.': 2.73642732e-05,\n",
       " ' GO:0006166; P:purine ribonucleoside salvage; IEA:UniProtKB-KW.': 1.59189238e-05,\n",
       " ' GO:0050380; F:undecaprenyl-diphosphatase activity; IEA:UniProtKB-UniRule.': 1.0900152099999998e-05,\n",
       " ' GO:0016311; P:dephosphorylation; IEA:InterPro.': 1.0900152099999998e-05,\n",
       " ' GO:0009252; P:peptidoglycan biosynthetic process; IEA:UniProtKB-KW.': 1.0900152099999998e-05,\n",
       " ' GO:0046677; P:response to antibiotic; IEA:UniProtKB-UniRule.': 1.0900152099999998e-05,\n",
       " ' GO:0004807; F:triose-phosphate isomerase activity; IEA:UniProtKB-UniRule.': 1.1338292799999999e-05,\n",
       " ' GO:0006094; P:gluconeogenesis; IEA:UniProtKB-UniRule.': 5.3753572300000005e-05,\n",
       " ' GO:0007049; P:cell cycle; IEA:UniProtKB-KW.': 7.003576839999999e-05,\n",
       " ' GO:0051301; P:cell division; IEA:UniProtKB-UniRule.': 3.0055383e-06,\n",
       " ' GO:0043937; P:regulation of sporulation; IEA:InterPro.': 3.0055383e-06,\n",
       " ' GO:0005506; F:iron ion binding; IEA:UniProtKB-UniRule.': 2.4669437e-05,\n",
       " ' GO:0061711; F:N(6)-L-threonylcarbamoyladenine synthase activity; IEA:UniProtKB-EC.': 1.0489437999999999e-05,\n",
       " ' GO:0002949; P:tRNA threonylcarbamoyladenosine modification; IEA:UniProtKB-UniRule.': 1.0489437999999999e-05,\n",
       " ' GO:0019134; F:glucosamine-1-phosphate N-acetyltransferase activity; IEA:UniProtKB-UniRule.': 2.9848521e-06,\n",
       " ' GO:0003977; F:UDP-N-acetylglucosamine diphosphorylase activity; IEA:UniProtKB-UniRule.': 2.9848521e-06,\n",
       " ' GO:0000902; P:cell morphogenesis; IEA:UniProtKB-UniRule.': 2.9848521e-06,\n",
       " ' GO:0009245; P:lipid A biosynthetic process; IEA:UniProtKB-UniPathway.': 2.9848521e-06,\n",
       " ' GO:0009103; P:lipopolysaccharide biosynthetic process; IEA:InterPro.': 2.9848521e-06,\n",
       " ' GO:0006048; P:UDP-N-acetylglucosamine biosynthetic process; IEA:UniProtKB-UniPathway.': 2.9848521e-06,\n",
       " ' GO:0004350; F:glutamate-5-semialdehyde dehydrogenase activity; IEA:UniProtKB-UniRule.': 1.11827538e-05,\n",
       " ' GO:0050661; F:NADP binding; IEA:InterPro.': 2.03926579e-05,\n",
       " ' GO:0003723; F:RNA binding; IEA:UniProtKB-KW.': 1.5936478600000002e-05,\n",
       " ' GO:0004831; F:tyrosine-tRNA ligase activity; IEA:UniProtKB-UniRule.': 1.5926617300000002e-05,\n",
       " ' GO:0006437; P:tyrosyl-tRNA aminoacylation; IEA:UniProtKB-UniRule.': 1.5926617300000002e-05,\n",
       " ' GO:0004055; F:argininosuccinate synthase activity; IEA:UniProtKB-UniRule.': 5.9268062e-06,\n",
       " ' GO:0006526; P:arginine biosynthetic process; IEA:UniProtKB-UniRule.': 2.5577682e-05,\n",
       " ' GO:0034618; F:arginine binding; IEA:InterPro.': 8.604392e-06,\n",
       " ' GO:0003700; F:DNA-binding transcription factor activity; IEA:UniProtKB-UniRule.': 1.1669522e-05,\n",
       " ' GO:0006526; P:arginine biosynthetic process; IEA:UniProtKB-UniPathway.': 8.604392e-06,\n",
       " ' GO:0051259; P:protein complex oligomerization; IEA:InterPro.': 8.604392e-06,\n",
       " ' GO:0003991; F:acetylglutamate kinase activity; IEA:UniProtKB-UniRule.': 7.65156e-06,\n",
       " ' GO:0042450; P:arginine biosynthetic process via ornithine; IEA:UniProtKB-UniRule.': 8.66363e-06,\n",
       " ' GO:0051499; F:D-aminoacyl-tRNA deacylase activity; IEA:UniProtKB-UniRule.': 2.7644473000000002e-05,\n",
       " ' GO:0106026; F:Gly-tRNA(Ala) hydrolase activity; IEA:UniProtKB-UniRule.': 3.2196083e-05,\n",
       " ' GO:0043908; F:Ser(Gly)-tRNA(Ala) hydrolase activity; IEA:UniProtKB-UniRule.': 3.2196083e-05,\n",
       " ' GO:0019478; P:D-amino acid catabolic process; IEA:UniProtKB-UniRule.': 3.2196083e-05,\n",
       " ' GO:0003755; F:peptidyl-prolyl cis-trans isomerase activity; IEA:UniProtKB-UniRule.': 8.0451022e-06,\n",
       " ' GO:0051301; P:cell division; IEA:UniProtKB-KW.': 7.079325809999999e-05,\n",
       " ' GO:0015031; P:protein transport; IEA:UniProtKB-UniRule.': 8.0451022e-06,\n",
       " ' GO:0052381; F:tRNA dimethylallyltransferase activity; IEA:UniProtKB-UniRule.': 1.12164617e-05,\n",
       " ' GO:0008033; P:tRNA processing; IEA:UniProtKB-UniRule.': 1.16336217e-05,\n",
       " ' GO:0035596; F:methylthiotransferase activity; IEA:InterPro.': 1.1322711599999999e-05,\n",
       " ' GO:0006400; P:tRNA modification; IEA:UniProtKB-UniRule.': 3.1457299300000013e-05,\n",
       " ' GO:0008763; F:UDP-N-acetylmuramate-L-alanine ligase activity; IEA:UniProtKB-UniRule.': 1.4597805700000001e-05,\n",
       " ' GO:0050511; F:undecaprenyldiphospho-muramoylpentapeptide beta-N-acetylglucosaminyltransferase activity; IEA:UniProtKB-UniRule.': 7.677150000000002e-06,\n",
       " ' GO:0005975; P:carbohydrate metabolic process; IEA:InterPro.': 4.38970356e-05,\n",
       " ' GO:0030259; P:lipid glycosylation; IEA:UniProtKB-UniRule.': 7.677150000000002e-06,\n",
       " ' GO:0008764; F:UDP-N-acetylmuramoylalanine-D-glutamate ligase activity; IEA:UniProtKB-UniRule.': 2.376811e-06,\n",
       " ' GO:0071424; F:rRNA (cytosine-N4-)-methyltransferase activity; IEA:UniProtKB-UniRule.': 1.70528626e-05,\n",
       " ' GO:0003949; F:1-(5-phosphoribosyl)-5-[(5-phosphoribosylamino)methylideneamino]imidazole-4-carboxamide isomerase activity; IEA:UniProtKB-UniRule.': 5.7076499999999995e-06,\n",
       " ' GO:0004640; F:phosphoribosylanthranilate isomerase activity; IEA:InterPro.': 3.32042e-06,\n",
       " ' GO:0000162; P:tryptophan biosynthetic process; IEA:InterPro.': 3.32042e-06,\n",
       " ' GO:0004424; F:imidazoleglycerol-phosphate dehydratase activity; IEA:UniProtKB-UniRule.': 6.1521229999999995e-06,\n",
       " ' GO:0004400; F:histidinol-phosphate transaminase activity; IEA:UniProtKB-UniRule.': 5.4969393e-06,\n",
       " ' GO:0030170; F:pyridoxal phosphate binding; IEA:InterPro.': 6.272453299999999e-06,\n",
       " ' GO:0004190; F:aspartic-type endopeptidase activity; IEA:UniProtKB-UniRule.': 4.154635e-06,\n",
       " ' GO:0043093; P:FtsZ-dependent cytokinesis; IEA:UniProtKB-UniRule.': 6.496954e-06,\n",
       " ' GO:0004417; F:hydroxyethylthiazole kinase activity; IEA:UniProtKB-UniRule.': 3.489626e-06,\n",
       " ' GO:0009228; P:thiamine biosynthetic process; IEA:UniProtKB-KW.': 3.489626e-06,\n",
       " ' GO:0009229; P:thiamine diphosphate biosynthetic process; IEA:UniProtKB-UniPathway.': 1.88252169e-05,\n",
       " ' GO:0008881; F:glutamate racemase activity; IEA:UniProtKB-UniRule.': 3.002661e-06,\n",
       " ' GO:0042586; F:peptide deformylase activity; IEA:UniProtKB-UniRule.': 1.2109815000000002e-05,\n",
       " ' GO:0008966; F:phosphoglucosamine mutase activity; IEA:UniProtKB-UniRule.': 8.643080899999998e-06,\n",
       " ' GO:0004359; F:glutaminase activity; IEA:UniProtKB-UniRule.': 1.210244e-06,\n",
       " \" GO:0036381; F:pyridoxal 5'-phosphate synthase (glutamine hydrolysing) activity; IEA:UniProtKB-UniRule.\": 5.2749886e-06,\n",
       " ' GO:0006543; P:glutamine catabolic process; IEA:UniProtKB-UniRule.': 6.05379e-07,\n",
       " ' GO:0042823; P:pyridoxal phosphate biosynthetic process; IEA:UniProtKB-UniRule.': 5.2749886e-06,\n",
       " ' GO:0004814; F:arginine-tRNA ligase activity; IEA:UniProtKB-UniRule.': 2.5501724e-05,\n",
       " ' GO:0006420; P:arginyl-tRNA aminoacylation; IEA:UniProtKB-UniRule.': 2.5501724e-05,\n",
       " ' GO:0000014; F:single-stranded DNA endodeoxyribonuclease activity; IEA:UniProtKB-UniRule.': 4.701473e-06,\n",
       " ' GO:0005384; F:manganese ion transmembrane transporter activity; IEA:UniProtKB-UniRule.': 7.500983e-06,\n",
       " ' GO:0050567; F:glutaminyl-tRNA synthase (glutamine-hydrolyzing) activity; IEA:UniProtKB-UniRule.': 1.18535786e-05,\n",
       " ' GO:0006450; P:regulation of translational fidelity; IEA:InterPro.': 3.192597e-06,\n",
       " ' GO:0000774; F:adenyl-nucleotide exchange factor activity; IEA:InterPro.': 4.128814e-06,\n",
       " ' GO:0051087; F:chaperone binding; IEA:InterPro.': 4.311419e-06,\n",
       " ' GO:0042803; F:protein homodimerization activity; IEA:InterPro.': 4.311419e-06,\n",
       " ' GO:0006457; P:protein folding; IEA:InterPro.': 1.2276279099999999e-05,\n",
       " ' GO:0033973; F:dCTP deaminase (dUMP-forming) activity; IEA:UniProtKB-UniRule.': 5.56945e-06,\n",
       " ' GO:0008829; F:dCTP deaminase activity; IEA:InterPro.': 5.56945e-06,\n",
       " ' GO:0000166; F:nucleotide binding; IEA:UniProtKB-KW.': 1.58041779e-05,\n",
       " ' GO:0006226; P:dUMP biosynthetic process; IEA:UniProtKB-UniRule.': 5.56945e-06,\n",
       " ' GO:0006229; P:dUTP biosynthetic process; IEA:InterPro.': 5.56945e-06,\n",
       " ' GO:0016114; P:terpenoid biosynthetic process; IEA:UniProtKB-UniRule.': 4.0778915000000005e-05,\n",
       " ' GO:0070043; F:rRNA (guanine-N7-)-methyltransferase activity; IEA:UniProtKB-UniRule.': 9.6637157e-06,\n",
       " ' GO:0004526; F:ribonuclease P activity; IEA:UniProtKB-UniRule.': 5.420401000000001e-06,\n",
       " \" GO:0001682; P:tRNA 5'-leader removal; IEA:UniProtKB-UniRule.\": 5.420401000000001e-06,\n",
       " ' GO:0004022; F:alcohol dehydrogenase (NAD+) activity; IEA:UniProtKB-EC.': 0.0,\n",
       " ' GO:0051903; F:S-(hydroxymethyl)glutathione dehydrogenase activity; IEA:UniProtKB-EC.': 0.0,\n",
       " ' GO:0006069; P:ethanol oxidation; IEA:InterPro.': 0.0,\n",
       " ' GO:0008509; F:anion transmembrane transporter activity; IEA:InterPro.': 0.0,\n",
       " ' GO:0016887; F:ATPase activity; IEA:InterPro.': 3.0321329500000005e-05,\n",
       " ' GO:0003998; F:acylphosphatase activity; IEA:UniProtKB-UniRule.': 0.0,\n",
       " ' GO:0010181; F:FMN binding; IEA:InterPro.': 6.9045341e-06,\n",
       " ' GO:0008752; F:FMN reductase activity; IEA:InterPro.': 7.53747e-08,\n",
       " ' GO:0042602; F:riboflavin reductase (NADPH) activity; IEA:UniProtKB-UniRule.': 7.53747e-08,\n",
       " ' GO:0019740; P:nitrogen utilization; IEA:UniProtKB-UniRule.': 7.53747e-08,\n",
       " ' GO:0006212; P:uracil catabolic process; IEA:UniProtKB-UniRule.': 7.53747e-08,\n",
       " ' GO:0005992; P:trehalose biosynthetic process; IEA:UniProtKB-UniPathway.': 0.0,\n",
       " ' GO:0008173; F:RNA methyltransferase activity; IEA:InterPro.': 5.11824e-07,\n",
       " ' GO:0008033; P:tRNA processing; IEA:UniProtKB-KW.': 4.3870140000000005e-06,\n",
       " ' GO:0070041; F:rRNA (uridine-C5-)-methyltransferase activity; IEA:UniProtKB-UniRule.': 0.0,\n",
       " ' GO:0015035; F:protein disulfide oxidoreductase activity; IEA:UniProtKB-UniRule.': 0.0,\n",
       " ' GO:0005887; C:integral component of plasma membrane; IEA:InterPro.': 0.0,\n",
       " ' GO:0015794; P:glycerol-3-phosphate transmembrane transport; IEA:InterPro.': 0.0,\n",
       " ' GO:0001407; P:glycerophosphodiester transmembrane transport; IEA:InterPro.': 0.0,\n",
       " ' GO:0071949; F:FAD binding; IEA:InterPro.': 5.050365e-06,\n",
       " ' GO:0004789; F:thiamine-phosphate diphosphorylase activity; IEA:UniProtKB-UniRule.': 2.1855e-06,\n",
       " ' GO:0009228; P:thiamine biosynthetic process; IEA:UniProtKB-UniRule.': 1.25832029e-05,\n",
       " ' GO:0004366; F:glycerol-3-phosphate O-acyltransferase activity; IEA:UniProtKB-UniRule.': 0.0,\n",
       " ' GO:0102420; F:sn-1-glycerol-3-phosphate C16:0-DCA-CoA acyl transferase activity; IEA:UniProtKB-EC.': 0.0,\n",
       " ' GO:0016024; P:CDP-diacylglycerol biosynthetic process; IEA:UniProtKB-UniPathway.': 0.0,\n",
       " ' GO:0000036; F:acyl carrier activity; IEA:UniProtKB-UniRule.': 7.773813099999999e-06,\n",
       " ' GO:0031177; F:phosphopantetheine binding; IEA:InterPro.': 7.773813099999999e-06,\n",
       " ' GO:0065002; P:intracellular protein transmembrane transport; IEA:UniProtKB-UniRule.': 5.471948e-07,\n",
       " ' GO:0006605; P:protein targeting; IEA:UniProtKB-UniRule.': 5.471948e-07,\n",
       " ' GO:0018242; P:protein O-linked glycosylation via serine; IEA:UniProtKB-UniRule.': 0.0,\n",
       " ' GO:0017122; C:protein N-acetylglucosaminyltransferase complex; IDA:CACAO.': 0.0,\n",
       " ' GO:0006486; P:protein glycosylation; IEA:UniProtKB-UniPathway.': 0.0,\n",
       " ' GO:0031647; P:regulation of protein stability; IDA:UniProtKB.': 0.0,\n",
       " ' GO:0051082; F:unfolded protein binding; IEA:InterPro.': 2.9864443999999996e-06,\n",
       " ' GO:0051262; P:protein tetramerization; IEA:InterPro.': 0.0,\n",
       " ' GO:0030163; P:protein catabolic process; IEA:InterPro.': 0.0,\n",
       " ' GO:0006508; P:proteolysis; IEA:UniProtKB-UniRule.': 0.0,\n",
       " ' GO:0008479; F:queuine tRNA-ribosyltransferase activity; IEA:UniProtKB-UniRule.': 5.060864e-07,\n",
       " ' GO:0008616; P:queuosine biosynthetic process; IEA:UniProtKB-UniRule.': 2.3965445300000004e-05,\n",
       " ' GO:0101030; P:tRNA-guanine transglycosylation; IEA:InterPro.': 5.060864e-07,\n",
       " ' GO:0004820; F:glycine-tRNA ligase activity; IEA:UniProtKB-UniRule.': 8.35389e-08,\n",
       " ' GO:0006426; P:glycyl-tRNA aminoacylation; IEA:UniProtKB-UniRule.': 7.3025389e-06,\n",
       " ' GO:0050662; F:coenzyme binding; IEA:InterPro.': 4.18448e-06,\n",
       " ' GO:0008926; F:mannitol-1-phosphate 5-dehydrogenase activity; IEA:UniProtKB-UniRule.': 0.0,\n",
       " ' GO:0019594; P:mannitol metabolic process; IEA:InterPro.': 0.0,\n",
       " ' GO:0004056; F:argininosuccinate lyase activity; IEA:UniProtKB-UniRule.': 1.15201806e-05,\n",
       " ' GO:0042450; P:arginine biosynthetic process via ornithine; IEA:InterPro.': 1.15201806e-05,\n",
       " ' GO:0005886; C:plasma membrane; IDA:UniProtKB.': 3.28584e-07,\n",
       " ' GO:0042626; F:ATPase-coupled transmembrane transporter activity; IDA:GO_Central.': 0.0,\n",
       " ' GO:0050118; F:N-acetyldiaminopimelate deacetylase activity; IEA:UniProtKB-UniRule.': 1.40476e-07,\n",
       " ' GO:0019877; P:diaminopimelate biosynthetic process; IEA:UniProtKB-UniRule.': 5.737249000000001e-06,\n",
       " ' GO:0009089; P:lysine biosynthetic process via diaminopimelate; IEA:UniProtKB-UniRule.': 9.832241000000003e-06,\n",
       " ' GO:0015225; F:biotin transmembrane transporter activity; IEA:InterPro.': 0.0,\n",
       " ' GO:0015234; F:thiamine transmembrane transporter activity; IEA:InterPro.': 0.0,\n",
       " ' GO:0022857; F:transmembrane transporter activity; IEA:InterPro.': 0.0,\n",
       " ' GO:0006865; P:amino acid transport; IEA:UniProtKB-KW.': 0.0,\n",
       " ' GO:0016301; F:kinase activity; IEA:UniProtKB-KW.': 6.69014e-07,\n",
       " ' GO:0008982; F:protein-N(PI)-phosphohistidine-sugar phosphotransferase activity; IEA:InterPro.': 0.0,\n",
       " ' GO:0009401; P:phosphoenolpyruvate-dependent sugar phosphotransferase system; IEA:UniProtKB-KW.': 1.90785e-08,\n",
       " ' GO:0004648; F:O-phospho-L-serine:2-oxoglutarate aminotransferase activity; IEA:UniProtKB-UniRule.': 2.9814052999999997e-06,\n",
       " ' GO:0030170; F:pyridoxal phosphate binding; IEA:UniProtKB-UniRule.': 3.58348661e-05,\n",
       " ' GO:0006564; P:L-serine biosynthetic process; IEA:UniProtKB-UniRule.': 2.9814052999999997e-06,\n",
       " ' GO:0000155; F:phosphorelay sensor kinase activity; IEA:InterPro.': 9.77575e-08,\n",
       " ' GO:0004674; F:protein serine/threonine kinase activity; IEA:UniProtKB-KW.': 1.6468374999999997e-06,\n",
       " ' GO:0004712; F:protein serine/threonine/tyrosine kinase activity; IEA:UniProtKB-UniRule.': 9.77575e-08,\n",
       " ' GO:0005975; P:carbohydrate metabolic process; IEA:UniProtKB-KW.': 1.5653818499999996e-05,\n",
       " ' GO:0016853; F:isomerase activity; IEA:UniProtKB-UniRule.': 1.1808426e-05,\n",
       " ' GO:0016740; F:transferase activity; IEA:UniProtKB-UniRule.': 1.1808426e-05,\n",
       " \" GO:0052929; F:ATP:3'-cytidine-cytidine-tRNA adenylyltransferase activity; IEA:UniProtKB-EC.\": 5.62628e-08,\n",
       " \" GO:0052928; F:CTP:3'-cytidine-tRNA cytidylyltransferase activity; IEA:UniProtKB-EC.\": 5.62628e-08,\n",
       " ' GO:0052927; F:CTP:tRNA cytidylyltransferase activity; IEA:UniProtKB-EC.': 5.62628e-08,\n",
       " ' GO:0016437; F:tRNA cytidylyltransferase activity; IEA:UniProtKB-UniRule.': 5.62628e-08,\n",
       " ' GO:0042245; P:RNA repair; IEA:UniProtKB-KW.': 5.62628e-08,\n",
       " \" GO:0001680; P:tRNA 3'-terminal CCA addition; IEA:UniProtKB-UniRule.\": 5.62628e-08,\n",
       " ' GO:0004425; F:indole-3-glycerol-phosphate synthase activity; IEA:UniProtKB-UniRule.': 3.11085e-07,\n",
       " ' GO:0000162; P:tryptophan biosynthetic process; IEA:UniProtKB-UniRule.': 9.63274e-06,\n",
       " ' GO:0009331; C:glycerol-3-phosphate dehydrogenase complex; IEA:InterPro.': 5.1627099999999996e-06,\n",
       " ' GO:0004367; F:glycerol-3-phosphate dehydrogenase [NAD+] activity; IEA:UniProtKB-EC.': 5.1627099999999996e-06,\n",
       " ' GO:0051287; F:NAD binding; IEA:InterPro.': 5.32319832e-05,\n",
       " ' GO:0046167; P:glycerol-3-phosphate biosynthetic process; IEA:UniProtKB-UniRule.': 5.1627099999999996e-06,\n",
       " ' GO:0046168; P:glycerol-3-phosphate catabolic process; IEA:InterPro.': 5.1627099999999996e-06,\n",
       " ' GO:0006650; P:glycerophospholipid metabolic process; IEA:UniProtKB-UniPathway.': 5.1627099999999996e-06,\n",
       " ' GO:0008654; P:phospholipid biosynthetic process; IEA:UniProtKB-UniRule.': 5.2068327e-06,\n",
       " ' GO:0050660; F:flavin adenine dinucleotide binding; IEA:UniProtKB-UniRule.': 1.8322759999999998e-07,\n",
       " ' GO:0047151; F:methylenetetrahydrofolate-tRNA-(uracil-5-)-methyltransferase (FADH2-oxidizing) activity; IEA:UniProtKB-EC.': 0.0,\n",
       " ' GO:0047465; F:N-acylglucosamine-6-phosphate 2-epimerase activity; IEA:UniProtKB-EC.': 0.0,\n",
       " ' GO:0009385; F:N-acylmannosamine-6-phosphate 2-epimerase activity; IEA:UniProtKB-EC.': 0.0,\n",
       " ' GO:0005975; P:carbohydrate metabolic process; IEA:UniProtKB-UniRule.': 2.0753635000000002e-06,\n",
       " ' GO:0006051; P:N-acetylmannosamine metabolic process; IEA:UniProtKB-UniRule.': 0.0,\n",
       " ' GO:0019262; P:N-acetylneuraminate catabolic process; IEA:UniProtKB-UniPathway.': 9.899711e-06,\n",
       " ' GO:0008757; F:S-adenosylmethionine-dependent methyltransferase activity; IEA:UniProtKB-UniRule.': 0.0,\n",
       " ' GO:0008175; F:tRNA methyltransferase activity; IEA:UniProtKB-UniRule.': 0.0,\n",
       " ' GO:0008237; F:metallopeptidase activity; IEA:UniProtKB-KW.': 4.0845678e-06,\n",
       " ' GO:0009231; P:riboflavin biosynthetic process; IEA:UniProtKB-UniRule.': 1.07495491e-05,\n",
       " ' GO:0004477; F:methenyltetrahydrofolate cyclohydrolase activity; IEA:UniProtKB-UniRule.': 2.6572000000000002e-05,\n",
       " ' GO:0004488; F:methylenetetrahydrofolate dehydrogenase (NADP+) activity; IEA:UniProtKB-UniRule.': 2.6572000000000002e-05,\n",
       " ' GO:0000105; P:histidine biosynthetic process; IEA:UniProtKB-KW.': 2.6572000000000002e-05,\n",
       " ' GO:0009086; P:methionine biosynthetic process; IEA:UniProtKB-KW.': 2.6572000000000002e-05,\n",
       " ' GO:0006164; P:purine nucleotide biosynthetic process; IEA:UniProtKB-KW.': 2.6572000000000002e-05,\n",
       " ' GO:0035999; P:tetrahydrofolate interconversion; IEA:UniProtKB-UniPathway.': 6.0596424500000005e-05,\n",
       " ' GO:0070204; F:2-succinyl-5-enolpyruvyl-6-hydroxy-3-cyclohexene-1-carboxylic-acid synthase activity; IEA:UniProtKB-UniRule.': 3.2356860000000002e-06,\n",
       " ' GO:0030145; F:manganese ion binding; IEA:UniProtKB-UniRule.': 4.06769609e-05,\n",
       " ' GO:0030976; F:thiamine pyrophosphate binding; IEA:UniProtKB-UniRule.': 3.2356860000000002e-06,\n",
       " ' GO:0009234; P:menaquinone biosynthetic process; IEA:UniProtKB-UniRule.': 8.701446e-06,\n",
       " ' GO:0004764; F:shikimate 3-dehydrogenase (NADP+) activity; IEA:UniProtKB-UniRule.': 0.0,\n",
       " ' GO:0019632; P:shikimate metabolic process; IEA:InterPro.': 0.0,\n",
       " ' GO:0004414; F:homoserine O-acetyltransferase activity; IEA:UniProtKB-EC.': 1.53325306e-05,\n",
       " ' GO:0008899; F:homoserine O-succinyltransferase activity; IEA:UniProtKB-UniRule.': 1.17107206e-05,\n",
       " ' GO:0019281; P:L-methionine biosynthetic process from homoserine via O-succinyl-L-homoserine and cystathionine; IEA:InterPro.': 1.53325306e-05,\n",
       " ' GO:0003684; F:damaged DNA binding; IEA:InterPro.': 2.6252360000000003e-07,\n",
       " ' GO:0003887; F:DNA-directed DNA polymerase activity; IEA:UniProtKB-UniRule.': 6.17076e-08,\n",
       " ' GO:0006261; P:DNA-dependent DNA replication; IEA:UniProtKB-UniRule.': 6.17076e-08,\n",
       " ' GO:0006282; P:regulation of DNA repair; IEA:UniProtKB-UniRule.': 8.42942e-08,\n",
       " ' GO:0004523; F:RNA-DNA hybrid ribonuclease activity; IEA:UniProtKB-UniRule.': 4.796371e-06,\n",
       " ' GO:0006401; P:RNA catabolic process; IEA:UniProtKB-UniRule.': 4.796371e-06,\n",
       " ' GO:0043952; P:protein transport by the Sec complex; IEA:UniProtKB-UniRule.': 4.5529099999999997e-07,\n",
       " ' GO:0046654; P:tetrahydrofolate biosynthetic process; IEA:UniProtKB-UniRule.': 8.898907799999999e-06,\n",
       " ' GO:0004397; F:histidine ammonia-lyase activity; IEA:UniProtKB-UniRule.': 0.0,\n",
       " ' GO:0019556; P:histidine catabolic process to glutamate and formamide; IEA:UniProtKB-UniPathway.': 5.641802e-06,\n",
       " ' GO:0019557; P:histidine catabolic process to glutamate and formate; IEA:UniProtKB-UniPathway.': 5.641802e-06,\n",
       " ' GO:0017038; P:protein import; IEA:InterPro.': 9.19038e-08,\n",
       " ' GO:0004822; F:isoleucine-tRNA ligase activity; IEA:UniProtKB-UniRule.': 2.58941e-07,\n",
       " ' GO:0006428; P:isoleucyl-tRNA aminoacylation; IEA:UniProtKB-UniRule.': 2.58941e-07,\n",
       " ' GO:0009318; C:exodeoxyribonuclease VII complex; IEA:InterPro.': 0.0,\n",
       " ' GO:0008855; F:exodeoxyribonuclease VII activity; IEA:UniProtKB-UniRule.': 0.0,\n",
       " ' GO:0006308; P:DNA catabolic process; IEA:UniProtKB-UniRule.': 0.0,\n",
       " ' GO:0003942; F:N-acetyl-gamma-glutamyl-phosphate reductase activity; IEA:UniProtKB-UniRule.': 1.2839768000000001e-05,\n",
       " ' GO:0106029; F:tRNA pseudouridine synthase activity; IEA:UniProtKB-EC.': 6.440927600000001e-06,\n",
       " ' GO:0031119; P:tRNA pseudouridine synthesis; IEA:UniProtKB-UniRule.': 6.2614996e-06,\n",
       " ' GO:0004329; F:formate-tetrahydrofolate ligase activity; IEA:UniProtKB-UniRule.': 8.952835699999999e-06,\n",
       " ' GO:0004459; F:L-lactate dehydrogenase activity; IEA:UniProtKB-UniRule.': 5.165303e-07,\n",
       " \" GO:0004590; F:orotidine-5'-phosphate decarboxylase activity; IEA:UniProtKB-UniRule.\": 4.4664999999999995e-06,\n",
       " ' GO:0008973; F:phosphopentomutase activity; IEA:UniProtKB-UniRule.': 4.0726649e-06,\n",
       " ' GO:0006015; P:5-phosphoribose 1-diphosphate biosynthetic process; IEA:UniProtKB-UniPathway.': 4.6741379e-06,\n",
       " ' GO:0043094; P:cellular metabolic compound salvage; IEA:InterPro.': 4.0726649e-06,\n",
       " ' GO:0009264; P:deoxyribonucleotide catabolic process; IEA:UniProtKB-UniRule.': 4.0726649e-06,\n",
       " ' GO:0009380; C:excinuclease repair complex; IEA:InterPro.': 3.8253281e-06,\n",
       " ' GO:0009381; F:excinuclease ABC activity; IEA:UniProtKB-UniRule.': 3.984281100000001e-06,\n",
       " ' GO:0006289; P:nucleotide-excision repair; IEA:UniProtKB-UniRule.': 3.984281100000001e-06,\n",
       " ' GO:0004525; F:ribonuclease III activity; IEA:UniProtKB-UniRule.': 4.171635e-06,\n",
       " ' GO:0006397; P:mRNA processing; IEA:UniProtKB-UniRule.': 4.3870140000000005e-06,\n",
       " ' GO:0016075; P:rRNA catabolic process; IEA:InterPro.': 4.3870140000000005e-06,\n",
       " ' GO:0050044; F:galactose-6-phosphate isomerase activity; IEA:UniProtKB-UniRule.': 0.0,\n",
       " ' GO:0019388; P:galactose catabolic process; IEA:UniProtKB-UniPathway.': 0.0,\n",
       " ' GO:0019512; P:lactose catabolic process via tagatose-6-phosphate; IEA:UniProtKB-UniRule.': 0.0,\n",
       " ' GO:0004370; F:glycerol kinase activity; ISS:UniProtKB.': 3.4497713e-06,\n",
       " ' GO:0019563; P:glycerol catabolic process; IEA:UniProtKB-UniPathway.': 3.4497713e-06,\n",
       " ' GO:0006071; P:glycerol metabolic process; ISS:UniProtKB.': 3.4497713e-06,\n",
       " ' GO:0006072; P:glycerol-3-phosphate metabolic process; IEA:UniProtKB-UniRule.': 3.4497713e-06,\n",
       " ' GO:0005737; C:cytoplasm; IEA:InterPro.': 3.8005293000000003e-06,\n",
       " ' GO:0004359; F:glutaminase activity; IEA:InterPro.': 1.272593e-07,\n",
       " ' GO:0003952; F:NAD+ synthase (glutamine-hydrolyzing) activity; IEA:InterPro.': 1.272593e-07,\n",
       " ' GO:0008795; F:NAD+ synthase activity; IEA:UniProtKB-UniRule.': 1.272593e-07,\n",
       " ' GO:0009435; P:NAD biosynthetic process; IEA:UniProtKB-UniRule.': 3.1109593e-06,\n",
       " ' GO:0009317; C:acetyl-CoA carboxylase complex; IEA:InterPro.': 5.104704e-06,\n",
       " ' GO:0003989; F:acetyl-CoA carboxylase activity; IEA:InterPro.': 5.104704e-06,\n",
       " ' GO:0016743; F:carboxyl- or carbamoyltransferase activity; IEA:UniProtKB-UniRule.': 5.104704e-06,\n",
       " ' GO:2001295; P:malonyl-CoA biosynthetic process; IEA:UniProtKB-UniPathway.': 5.104704e-06,\n",
       " ' GO:0003883; F:CTP synthase activity; IEA:UniProtKB-UniRule.': 2.930507e-06,\n",
       " ' GO:0006541; P:glutamine metabolic process; IEA:UniProtKB-KW.': 4.782072590000001e-05,\n",
       " \" GO:0008408; F:3'-5' exonuclease activity; IEA:UniProtKB-UniRule.\": 9.02345e-08,\n",
       " ' GO:0047200; F:tetrahydrodipicolinate N-acetyltransferase activity; IEA:UniProtKB-EC.': 0.0,\n",
       " ' GO:0004160; F:dihydroxy-acid dehydratase activity; IEA:UniProtKB-UniRule.': 1.22854106e-05,\n",
       " ' GO:0009097; P:isoleucine biosynthetic process; IEA:UniProtKB-UniRule.': 2.12671744e-05,\n",
       " ' GO:0009099; P:valine biosynthetic process; IEA:UniProtKB-UniRule.': 2.12671744e-05,\n",
       " ' GO:0036370; F:D-alanyl carrier activity; IEA:UniProtKB-UniRule.': 6.27384e-08,\n",
       " ' GO:0070395; P:lipoteichoic acid biosynthetic process; IEA:UniProtKB-UniRule.': 6.27384e-08,\n",
       " ' GO:0004820; F:glycine-tRNA ligase activity; ISS:UniProtKB.': 7.219000000000001e-06,\n",
       " ' GO:0046983; F:protein dimerization activity; ISS:UniProtKB.': 7.219000000000001e-06,\n",
       " ' GO:0004829; F:threonine-tRNA ligase activity; IEA:UniProtKB-UniRule.': 2.77124e-07,\n",
       " ' GO:0006435; P:threonyl-tRNA aminoacylation; IEA:UniProtKB-UniRule.': 2.77124e-07,\n",
       " ' GO:0003729; F:mRNA binding; IEA:UniProtKB-UniRule.': 3.34743971e-05,\n",
       " ' GO:0008829; F:dCTP deaminase activity; IEA:UniProtKB-UniRule.': 4.3982959999999997e-07,\n",
       " ' GO:0006226; P:dUMP biosynthetic process; IEA:UniProtKB-UniPathway.': 3.2371995999999995e-06,\n",
       " ' GO:0006229; P:dUTP biosynthetic process; IEA:UniProtKB-UniRule.': 4.3982959999999997e-07,\n",
       " ' GO:0004550; F:nucleoside diphosphate kinase activity; IEA:UniProtKB-UniRule.': 7.901258000000001e-07,\n",
       " ' GO:0006241; P:CTP biosynthetic process; IEA:UniProtKB-UniRule.': 7.901258000000001e-07,\n",
       " ' GO:0006183; P:GTP biosynthetic process; IEA:UniProtKB-UniRule.': 7.901258000000001e-07,\n",
       " ' GO:0006228; P:UTP biosynthetic process; IEA:UniProtKB-UniRule.': 7.901258000000001e-07,\n",
       " ' GO:0004781; F:sulfate adenylyltransferase (ATP) activity; IEA:UniProtKB-UniRule.': 2.417135e-05,\n",
       " ' GO:0070814; P:hydrogen sulfide biosynthetic process; IEA:UniProtKB-UniPathway.': 2.7482558999999998e-05,\n",
       " ' GO:0000103; P:sulfate assimilation; IEA:UniProtKB-UniRule.': 2.7482558999999998e-05,\n",
       " ' GO:0019419; P:sulfate reduction; IEA:InterPro.': 2.094712e-05,\n",
       " ' GO:0042254; P:ribosome biogenesis; IEA:UniProtKB-KW.': 1.2037768000000001e-05,\n",
       " ' GO:0008659; F:(3R)-hydroxymyristoyl-[acyl-carrier-protein] dehydratase activity; IEA:UniProtKB-EC.': 5.04844e-06,\n",
       " ' GO:0008693; F:3-hydroxydecanoyl-[acyl-carrier-protein] dehydratase activity; IEA:UniProtKB-EC.': 5.04844e-06,\n",
       " ' GO:0047451; F:3-hydroxyoctanoyl-[acyl-carrier-protein] dehydratase activity; IEA:UniProtKB-EC.': 5.04844e-06,\n",
       " ' GO:0004317; F:3-hydroxypalmitoyl-[acyl-carrier-protein] dehydratase activity; IEA:UniProtKB-EC.': 5.04844e-06,\n",
       " ' GO:0009245; P:lipid A biosynthetic process; IEA:UniProtKB-UniRule.': 1.2413663e-05,\n",
       " ' GO:0004823; F:leucine-tRNA ligase activity; IEA:UniProtKB-UniRule.': 3.42931e-06,\n",
       " ' GO:0006429; P:leucyl-tRNA aminoacylation; IEA:UniProtKB-UniRule.': 3.42931e-06,\n",
       " ' GO:0016783; F:sulfurtransferase activity; IEA:InterPro.': 1.3584549e-05,\n",
       " ' GO:0009347; C:aspartate carbamoyltransferase complex; IEA:InterPro.': 5.879286000000001e-06,\n",
       " ' GO:0006221; P:pyrimidine nucleotide biosynthetic process; IEA:UniProtKB-UniRule.': 5.2957590000000005e-06,\n",
       " ' GO:0017111; F:nucleoside-triphosphatase activity; ISS:UniProtKB.': 0.0,\n",
       " ' GO:0009117; P:nucleotide metabolic process; IEA:UniProtKB-KW.': 1.4379897499999997e-05,\n",
       " ' GO:0008324; F:cation transmembrane transporter activity; IEA:InterPro.': 1.1035219999999999e-05,\n",
       " ' GO:0006813; P:potassium ion transport; IEA:InterPro.': 1.1035219999999999e-05,\n",
       " ' GO:0003866; F:3-phosphoshikimate 1-carboxyvinyltransferase activity; IEA:UniProtKB-UniRule.': 8.663674e-07,\n",
       " ' GO:0006417; P:regulation of translation; IEA:UniProtKB-UniRule.': 0.0,\n",
       " ' GO:0008883; F:glutamyl-tRNA reductase activity; IEA:UniProtKB-UniRule.': 0.0,\n",
       " ' GO:0006782; P:protoporphyrinogen IX biosynthetic process; IEA:UniProtKB-UniPathway.': 5.34966e-08,\n",
       " ' GO:0032955; P:regulation of division septum assembly; IEA:InterPro.': 6.942082e-06,\n",
       " ' GO:0003911; F:DNA ligase (NAD+) activity; IEA:UniProtKB-UniRule.': 1.403377e-07,\n",
       " ' GO:0006281; P:DNA repair; IEA:UniProtKB-KW.': 1.403377e-07,\n",
       " ' GO:0006260; P:DNA replication; IEA:UniProtKB-KW.': 4.165255400000001e-06,\n",
       " ' GO:0016226; P:iron-sulfur cluster assembly; IEA:InterPro.': 0.0,\n",
       " ' GO:0003690; F:double-stranded DNA binding; IEA:UniProtKB-UniRule.': 9.02345e-08,\n",
       " ' GO:0070181; F:small ribosomal subunit rRNA binding; IEA:UniProtKB-UniRule.': 0.0,\n",
       " ' GO:0005886; C:plasma membrane; IEA:UniProtKB-UniRule.': 0.0,\n",
       " ' GO:0043190; C:ATP-binding cassette (ABC) transporter complex; IEA:InterPro.': 3.0289982e-06,\n",
       " ' GO:0042597; C:periplasmic space; IEA:UniProtKB-SubCell.': 4.925840000000001e-06,\n",
       " ' GO:0004373; F:glycogen (starch) synthase activity; IEA:InterPro.': 2.3764e-07,\n",
       " ' GO:0009011; F:starch synthase activity; IEA:UniProtKB-UniRule.': 2.3764e-07,\n",
       " ' GO:0008694; F:3-octaprenyl-4-hydroxybenzoate carboxy-lyase activity; IEA:UniProtKB-UniRule.': 0.0,\n",
       " ' GO:0006744; P:ubiquinone biosynthetic process; IEA:UniProtKB-UniRule.': 0.0,\n",
       " ' GO:0016151; F:nickel cation binding; IEA:UniProtKB-UniRule.': 8.797175999999999e-07,\n",
       " ' GO:0018307; P:enzyme active site formation; IEA:InterPro.': 0.0,\n",
       " ' GO:0065003; P:protein-containing complex assembly; IEA:InterPro.': 0.0,\n",
       " ' GO:0019627; P:urea metabolic process; IEA:InterPro.': 0.0,\n",
       " ' GO:0004849; F:uridine kinase activity; IEA:UniProtKB-UniRule.': 0.0,\n",
       " ' GO:0044211; P:CTP salvage; IEA:UniProtKB-UniPathway.': 0.0,\n",
       " ' GO:0004413; F:homoserine kinase activity; IEA:UniProtKB-UniRule.': 1.1105e-07,\n",
       " ' GO:0009088; P:threonine biosynthetic process; IEA:UniProtKB-UniRule.': 1.1105e-07,\n",
       " ' GO:0008710; F:8-amino-7-oxononanoate synthase activity; IEA:UniProtKB-EC.': 0.0,\n",
       " ' GO:0009102; P:biotin biosynthetic process; IEA:UniProtKB-UniPathway.': 0.0,\n",
       " ' GO:0030060; F:L-malate dehydrogenase activity; IEA:UniProtKB-UniRule.': 1.07658e-05,\n",
       " ' GO:0006108; P:malate metabolic process; IEA:InterPro.': 0.0,\n",
       " ' GO:0006099; P:tricarboxylic acid cycle; IEA:UniProtKB-UniRule.': 1.07658e-05,\n",
       " ' GO:0003872; F:6-phosphofructokinase activity; IEA:UniProtKB-UniRule.': 3.235377e-07,\n",
       " ' GO:0006002; P:fructose 6-phosphate metabolic process; IEA:InterPro.': 3.235377e-07,\n",
       " ' GO:0004765; F:shikimate kinase activity; IEA:UniProtKB-UniRule.': 4.108558e-06,\n",
       " ' GO:0031071; F:cysteine desulfurase activity; IEA:UniProtKB-UniRule.': 0.0,\n",
       " ' GO:0044571; P:[2Fe-2S] cluster assembly; IEA:UniProtKB-UniRule.': 0.0,\n",
       " ' GO:0003856; F:3-dehydroquinate synthase activity; IEA:InterPro.': 0.0,\n",
       " ' GO:0102042; F:dehydroquinate synthase activity; IEA:UniProtKB-EC.': 0.0,\n",
       " ' GO:0051287; F:NAD binding; IEA:UniProtKB-UniRule.': 0.0,\n",
       " ' GO:0004825; F:methionine-tRNA ligase activity; IEA:UniProtKB-UniRule.': 6.11711e-08,\n",
       " ' GO:0006431; P:methionyl-tRNA aminoacylation; IEA:UniProtKB-UniRule.': 6.11711e-08,\n",
       " ' GO:1990077; C:primosome complex; IEA:UniProtKB-KW.': 0.0,\n",
       " ' GO:0003896; F:DNA primase activity; IEA:UniProtKB-UniRule.': 0.0,\n",
       " ' GO:0016874; F:ligase activity; IEA:UniProtKB-UniRule.': 0.0,\n",
       " ' GO:0006094; P:gluconeogenesis; IEA:InterPro.': 0.0,\n",
       " ' GO:0006464; P:cellular protein modification process; IEA:UniProtKB-UniRule.': 6.95321e-07,\n",
       " ' GO:0051604; P:protein maturation; IEA:InterPro.': 6.95321e-07,\n",
       " ' GO:0047294; F:phosphoglycerol geranylgeranyltransferase activity; IEA:UniProtKB-UniRule.': 0.0,\n",
       " ' GO:0046474; P:glycerophospholipid biosynthetic process; IEA:UniProtKB-UniRule.': 0.0,\n",
       " ' GO:0052645; P:F420-0 metabolic process; IEA:UniProtKB-UniRule.': 0.0,\n",
       " ' GO:0016301; F:kinase activity; IEA:UniProtKB-UniRule.': 0.0,\n",
       " ' GO:0003855; F:3-dehydroquinate dehydratase activity; IEA:UniProtKB-UniRule.': 3.0539370000000004e-07,\n",
       " ' GO:0008276; F:protein methyltransferase activity; IEA:InterPro.': 0.0,\n",
       " ' GO:0009236; P:cobalamin biosynthetic process; IEA:UniProtKB-UniPathway.': 7.531227e-06,\n",
       " ' GO:0046140; P:corrin biosynthetic process; IEA:UniProtKB-UniRule.': 0.0,\n",
       " ' GO:0000178; C:exosome (RNase complex); IEA:UniProtKB-KW.': 0.0,\n",
       " ' GO:0008143; F:poly(A) binding; IEA:InterPro.': 0.0,\n",
       " ' GO:0004298; F:threonine-type endopeptidase activity; IEA:UniProtKB-UniRule.': 0.0,\n",
       " ' GO:0006511; P:ubiquitin-dependent protein catabolic process; IEA:InterPro.': 0.0,\n",
       " ' GO:0030677; C:ribonuclease P complex; IEA:UniProtKB-UniRule.': 0.0,\n",
       " ' GO:0050492; F:glycerol-1-phosphate dehydrogenase [NAD(P)+] activity; IEA:UniProtKB-UniRule.': 0.0,\n",
       " ' GO:0070568; F:guanylyltransferase activity; IEA:UniProtKB-UniRule.': 0.0,\n",
       " ' GO:0009108; P:coenzyme biosynthetic process; IEA:UniProtKB-UniRule.': 0.0,\n",
       " ' GO:0004067; F:asparaginase activity; IEA:InterPro.': 0.0,\n",
       " ' GO:0004812; F:aminoacyl-tRNA ligase activity; IEA:InterPro.': 0.0,\n",
       " ' GO:0003922; F:GMP synthase (glutamine-hydrolyzing) activity; IEA:UniProtKB-UniRule.': 2.02662624e-05,\n",
       " ' GO:0004087; F:carbamoyl-phosphate synthase (ammonia) activity; IEA:UniProtKB-EC.': 0.0,\n",
       " \" GO:0008650; F:rRNA (uridine-2'-O-)-methyltransferase activity; IEA:UniProtKB-UniRule.\": 0.0,\n",
       " ' GO:0008094; F:DNA-dependent ATPase activity; IEA:InterPro.': 5.3959e-08,\n",
       " ' GO:0016783; F:sulfurtransferase activity; IEA:UniProtKB-UniRule.': 1.02272156e-05,\n",
       " ' GO:0004810; F:tRNA adenylyltransferase activity; IEA:InterPro.': 4.4221286e-06,\n",
       " ' GO:0034227; P:tRNA thio-modification; IEA:UniProtKB-UniRule.': 4.4221286e-06,\n",
       " ' GO:0004813; F:alanine-tRNA ligase activity; IEA:UniProtKB-UniRule.': 5.59518e-08,\n",
       " ' GO:0006419; P:alanyl-tRNA aminoacylation; IEA:UniProtKB-UniRule.': 5.59518e-08,\n",
       " ' GO:0015450; F:P-P-bond-hydrolysis-driven protein transmembrane transporter activity; IEA:InterPro.': 4.5529099999999997e-07,\n",
       " ' GO:0009306; P:protein secretion; IEA:UniProtKB-UniRule.': 0.0,\n",
       " ' GO:0006367; P:transcription initiation from RNA polymerase II promoter; IEA:InterPro.': 0.0,\n",
       " ' GO:0071025; P:RNA surveillance; IEA:InterPro.': 0.0,\n",
       " ' GO:0003910; F:DNA ligase (ATP) activity; IEA:UniProtKB-UniRule.': 0.0,\n",
       " ' GO:0071897; P:DNA biosynthetic process; IEA:InterPro.': 0.0,\n",
       " ' GO:0051103; P:DNA ligation involved in DNA repair; IEA:InterPro.': 0.0,\n",
       " ' GO:0046872; F:metal ion binding; IEA:InterPro.': 0.0,\n",
       " ' GO:0006096; P:glycolytic process; IEA:UniProtKB-UniPathway.': 0.0,\n",
       " ' GO:0016272; C:prefoldin complex; IEA:UniProtKB-UniRule.': 0.0,\n",
       " ' GO:0042256; P:mature ribosome assembly; IEA:InterPro.': 0.0,\n",
       " ' GO:0004127; F:cytidylate kinase activity; IEA:UniProtKB-UniRule.': 3.106333e-06,\n",
       " ' GO:0006220; P:pyrimidine nucleotide metabolic process; IEA:UniProtKB-UniRule.': 3.2159470000000002e-06,\n",
       " ' GO:0008097; F:5S rRNA binding; IEA:InterPro.': 3.6347836e-06,\n",
       " ' GO:0016787; F:hydrolase activity; IEA:UniProtKB-UniRule.': 0.0,\n",
       " ' GO:0008840; F:4-hydroxy-tetrahydrodipicolinate synthase activity; IEA:UniProtKB-UniRule.': 4.0648530000000004e-06,\n",
       " ' GO:0009089; P:lysine biosynthetic process via diaminopimelate; IEA:UniProtKB-UniPathway.': 6.460053000000001e-06,\n",
       " ' GO:0008168; F:methyltransferase activity; IEA:UniProtKB-UniRule.': 0.0,\n",
       " ' GO:0032259; P:methylation; IEA:UniProtKB-KW.': 1.1479586399999997e-05,\n",
       " ' GO:0003919; F:FMN adenylyltransferase activity; IEA:UniProtKB-UniRule.': 0.0,\n",
       " ' GO:0006747; P:FAD biosynthetic process; IEA:UniProtKB-UniRule.': 0.0,\n",
       " ' GO:0046444; P:FMN metabolic process; IEA:UniProtKB-UniRule.': 0.0,\n",
       " ' GO:0000034; F:adenine deaminase activity; IEA:UniProtKB-UniRule.': 6.50492e-07,\n",
       " ' GO:0006146; P:adenine catabolic process; IEA:InterPro.': 6.50492e-07,\n",
       " ' GO:0003746; F:translation elongation factor activity; IEA:InterPro.': 0.0,\n",
       " ' GO:0045901; P:positive regulation of translational elongation; IEA:InterPro.': 0.0,\n",
       " ' GO:0045905; P:positive regulation of translational termination; IEA:InterPro.': 0.0,\n",
       " ' GO:0006452; P:translational frameshifting; IEA:InterPro.': 0.0,\n",
       " ' GO:0016740; F:transferase activity; IEA:UniProtKB-KW.': 7.27841e-06,\n",
       " ' GO:0022625; C:cytosolic large ribosomal subunit; IEA:InterPro.': 0.0,\n",
       " ' GO:0002128; P:tRNA nucleoside ribose methylation; IEA:UniProtKB-UniRule.': 0.0,\n",
       " ' GO:0047295; F:geranylgeranylglycerol-phosphate geranylgeranyltransferase activity; IEA:UniProtKB-UniRule.': 0.0,\n",
       " ' GO:0008967; F:phosphoglycolate phosphatase activity; IEA:UniProtKB-UniRule.': 0.0,\n",
       " ' GO:0008839; F:4-hydroxy-tetrahydrodipicolinate reductase; IEA:InterPro.': 0.0,\n",
       " ' GO:0004365; F:glyceraldehyde-3-phosphate dehydrogenase (NAD+) (phosphorylating) activity; IEA:UniProtKB-UniRule.': 0.0,\n",
       " ' GO:0009089; P:lysine biosynthetic process via diaminopimelate; IEA:InterPro.': 0.0,\n",
       " ' GO:0043740; F:GTP cyclohydrolase IIa activity; IEA:UniProtKB-EC.': 0.0,\n",
       " ' GO:0009058; P:biosynthetic process; IEA:InterPro.': 5.13951e-06,\n",
       " ' GO:0003937; F:IMP cyclohydrolase activity; IEA:UniProtKB-UniRule.': 4.0481210000000003e-07,\n",
       " ' GO:0004068; F:aspartate 1-decarboxylase activity; IEA:UniProtKB-UniRule.': 1.3141623e-05,\n",
       " ' GO:0004837; F:tyrosine decarboxylase activity; IEA:UniProtKB-UniRule.': 0.0,\n",
       " ' GO:0019752; P:carboxylic acid metabolic process; IEA:InterPro.': 1.07658e-05,\n",
       " ' GO:2001120; P:methanofuran biosynthetic process; IEA:UniProtKB-UniRule.': 0.0,\n",
       " ' GO:0004809; F:tRNA (guanine-N2-)-methyltransferase activity; IEA:UniProtKB-UniRule.': 0.0,\n",
       " ' GO:0003933; F:GTP cyclohydrolase activity; IEA:UniProtKB-UniRule.': 0.0,\n",
       " ' GO:0030515; F:snoRNA binding; IEA:InterPro.': 0.0,\n",
       " ' GO:0001522; P:pseudouridine synthesis; IEA:InterPro.': 0.0,\n",
       " ' GO:0030337; F:DNA polymerase processivity factor activity; IEA:UniProtKB-UniRule.': 0.0,\n",
       " ' GO:0004048; F:anthranilate phosphoribosyltransferase activity; IEA:UniProtKB-UniRule.': 9.340901e-06,\n",
       " ' GO:0005663; C:DNA replication factor C complex; IEA:InterPro.': 0.0,\n",
       " ' GO:0003689; F:DNA clamp loader activity; IEA:UniProtKB-UniRule.': 0.0,\n",
       " ' GO:0000408; C:EKC/KEOPS complex; IEA:InterPro.': 0.0,\n",
       " ' GO:0009236; P:cobalamin biosynthetic process; IEA:UniProtKB-UniRule.': 0.0,\n",
       " ' GO:0015948; P:methanogenesis; IEA:UniProtKB-KW.': 0.0,\n",
       " \" GO:0008253; F:5'-nucleotidase activity; IEA:UniProtKB-UniRule.\": 3.7682360000000003e-06,\n",
       " ' GO:0046872; F:metal ion binding; IEA:UniProtKB-UniRule.': 1.1047569100000001e-05,\n",
       " ' GO:0004455; F:ketol-acid reductoisomerase activity; IEA:UniProtKB-UniRule.': 8.981763800000001e-06,\n",
       " ' GO:0004585; F:ornithine carbamoyltransferase activity; IEA:UniProtKB-UniRule.': 6.04865e-07,\n",
       " ' GO:0004637; F:phosphoribosylamine-glycine ligase activity; IEA:UniProtKB-UniRule.': 0.0,\n",
       " ' GO:0009113; P:purine nucleobase biosynthetic process; IEA:InterPro.': 0.0,\n",
       " ' GO:0008483; F:transaminase activity; IEA:InterPro.': 0.0,\n",
       " ' GO:0030956; C:glutamyl-tRNA(Gln) amidotransferase complex; IEA:InterPro.': 3.889244e-06,\n",
       " ' GO:0004040; F:amidase activity; IEA:InterPro.': 3.889244e-06,\n",
       " ' GO:0000166; F:nucleotide binding; IEA:UniProtKB-UniRule.': 7.30471e-07,\n",
       " ' GO:0008531; F:riboflavin kinase activity; IEA:InterPro.': 0.0,\n",
       " ' GO:0009398; P:FMN biosynthetic process; IEA:UniProtKB-UniRule.': 0.0,\n",
       " ' GO:0009231; P:riboflavin biosynthetic process; IEA:InterPro.': 0.0,\n",
       " \" GO:0090613; F:5'-deoxyadenosine deaminase activity; IEA:UniProtKB-UniRule.\": 0.0,\n",
       " ' GO:0004000; F:adenosine deaminase activity; IEA:UniProtKB-UniRule.': 2.29315e-08,\n",
       " ' GO:0050270; F:S-adenosylhomocysteine deaminase activity; IEA:UniProtKB-EC.': 0.0,\n",
       " ' GO:0004372; F:glycine hydroxymethyltransferase activity; IEA:UniProtKB-UniRule.': 2.4205520799999998e-05,\n",
       " ' GO:0019264; P:glycine biosynthetic process from serine; IEA:UniProtKB-UniRule.': 2.4205520799999998e-05,\n",
       " ' GO:0035999; P:tetrahydrofolate interconversion; IEA:InterPro.': 0.0,\n",
       " ' GO:0004642; F:phosphoribosylformylglycinamidine synthase activity; IEA:UniProtKB-UniRule.': 0.0,\n",
       " ' GO:0048500; C:signal recognition particle; IEA:UniProtKB-UniRule.': 0.0,\n",
       " ' GO:0008312; F:7S RNA binding; IEA:UniProtKB-UniRule.': 0.0,\n",
       " ' GO:0006614; P:SRP-dependent cotranslational protein targeting to membrane; IEA:InterPro.': 1.0505e-06,\n",
       " ' GO:0004639; F:phosphoribosylaminoimidazolesuccinocarboxamide synthase activity; IEA:UniProtKB-UniRule.': 9.101420199999999e-06,\n",
       " ' GO:0009236; P:cobalamin biosynthetic process; IEA:InterPro.': 4.827678199999999e-06,\n",
       " ' GO:0006400; P:tRNA modification; IEA:InterPro.': 5.316017e-06,\n",
       " ' GO:0004421; F:hydroxymethylglutaryl-CoA synthase activity; IEA:InterPro.': 0.0,\n",
       " ' GO:0008299; P:isoprenoid biosynthetic process; IEA:InterPro.': 0.0,\n",
       " ' GO:0004749; F:ribose phosphate diphosphokinase activity; IEA:UniProtKB-UniRule.': 6.014730000000001e-07,\n",
       " ' GO:0009165; P:nucleotide biosynthetic process; IEA:UniProtKB-KW.': 6.014730000000001e-07,\n",
       " ' GO:0009156; P:ribonucleoside monophosphate biosynthetic process; IEA:UniProtKB-UniRule.': 6.014730000000001e-07,\n",
       " ' GO:0004386; F:helicase activity; IEA:UniProtKB-KW.': 3.24867e-06,\n",
       " ' GO:0016830; F:carbon-carbon lyase activity; IEA:UniProtKB-UniRule.': 0.0,\n",
       " ' GO:0046467; P:membrane lipid biosynthetic process; IEA:InterPro.': 0.0,\n",
       " ' GO:0062193; F:D-ribose pyranase activity; IEA:UniProtKB-EC.': 0.0,\n",
       " ' GO:0016872; F:intramolecular lyase activity; IEA:UniProtKB-UniRule.': 0.0,\n",
       " ' GO:0048029; F:monosaccharide binding; IEA:InterPro.': 0.0,\n",
       " ' GO:0019303; P:D-ribose catabolic process; IEA:UniProtKB-UniRule.': 0.0,\n",
       " ' GO:0019547; P:arginine catabolic process to ornithine; IEA:UniProtKB-UniPathway.': 0.0,\n",
       " ' GO:0019546; P:arginine deiminase pathway; IEA:UniProtKB-UniRule.': 0.0,\n",
       " ' GO:0004799; F:thymidylate synthase activity; IEA:UniProtKB-UniRule.': 5.820907e-06,\n",
       " ' GO:0006231; P:dTMP biosynthetic process; IEA:UniProtKB-UniRule.': 5.820907e-06,\n",
       " ' GO:0006235; P:dTTP biosynthetic process; IEA:UniProtKB-UniPathway.': 5.820907e-06,\n",
       " ' GO:0019310; P:inositol catabolic process; IEA:UniProtKB-UniRule.': 0.0,\n",
       " ' GO:0016410; F:N-acyltransferase activity; IEA:InterPro.': 4.0751970000000005e-06,\n",
       " ' GO:0052692; F:raffinose alpha-galactosidase activity; IEA:UniProtKB-EC.': 3.838519e-06,\n",
       " ' GO:0008152; P:metabolic process; IEA:UniProtKB-KW.': 4.091402e-06,\n",
       " ' GO:0016491; F:oxidoreductase activity; IEA:InterPro.': 1.1053031e-05,\n",
       " ' GO:0003935; F:GTP cyclohydrolase II activity; IEA:UniProtKB-UniRule.': 3.6663199999999997e-06,\n",
       " ' GO:0062192; F:L-rhamnose mutarotase activity; IEA:UniProtKB-EC.': 5.95391e-06,\n",
       " ' GO:0019299; P:rhamnose metabolic process; IEA:UniProtKB-UniPathway.': 5.95391e-06,\n",
       " ' GO:0050480; F:imidazolonepropionase activity; IEA:UniProtKB-UniRule.': 3.5309420000000003e-06,\n",
       " ' GO:0004821; F:histidine-tRNA ligase activity; IEA:UniProtKB-UniRule.': 6.5410732e-06,\n",
       " ' GO:0006427; P:histidyl-tRNA aminoacylation; IEA:UniProtKB-UniRule.': 6.5410732e-06,\n",
       " ' GO:0004020; F:adenylylsulfate kinase activity; IEA:UniProtKB-UniRule.': 3.09494e-06,\n",
       " ' GO:0032300; C:mismatch repair complex; IEA:InterPro.': 6.9771250000000006e-06,\n",
       " ' GO:0030983; F:mismatched DNA binding; IEA:InterPro.': 1.5602343400000002e-05,\n",
       " ' GO:0006298; P:mismatch repair; IEA:UniProtKB-UniRule.': 7.012644100000001e-06,\n",
       " ' GO:0004315; F:3-oxoacyl-[acyl-carrier-protein] synthase activity; IEA:InterPro.': 3.7023279000000004e-05,\n",
       " ' GO:0033818; F:beta-ketoacyl-acyl-carrier-protein synthase III activity; IEA:UniProtKB-UniRule.': 3.318034e-05,\n",
       " \" GO:0033856; F:pyridoxine 5'-phosphate synthase activity; IEA:UniProtKB-EC.\": 3.340899e-06,\n",
       " ' GO:0008615; P:pyridoxine biosynthetic process; IEA:UniProtKB-UniRule.': 1.1668369e-05,\n",
       " ' GO:0008776; F:acetate kinase activity; IEA:UniProtKB-UniRule.': 1.0882511e-05,\n",
       " ' GO:0006085; P:acetyl-CoA biosynthetic process; IEA:UniProtKB-UniPathway.': 1.0882511e-05,\n",
       " ' GO:0006082; P:organic acid metabolic process; IEA:InterPro.': 1.0882511e-05,\n",
       " ' GO:0004817; F:cysteine-tRNA ligase activity; IEA:UniProtKB-UniRule.': 4.8290019e-06,\n",
       " ' GO:0006423; P:cysteinyl-tRNA aminoacylation; IEA:UniProtKB-UniRule.': 4.8290019e-06,\n",
       " ' GO:0002098; P:tRNA wobble uridine modification; IEA:InterPro.': 1.36717e-07,\n",
       " ' GO:0004595; F:pantetheine-phosphate adenylyltransferase activity; IEA:UniProtKB-UniRule.': 1.2888752899999999e-05,\n",
       " ' GO:0047761; F:butyrate kinase activity; IEA:UniProtKB-UniRule.': 4.49066e-06,\n",
       " ' GO:0008736; F:L-fucose isomerase activity; IEA:UniProtKB-UniRule.': 0.0,\n",
       " ' GO:0042355; P:L-fucose catabolic process; IEA:UniProtKB-UniRule.': 0.0,\n",
       " ' GO:0006007; P:glucose catabolic process; IEA:InterPro.': 1.131842e-05,\n",
       " ' GO:0005737; C:cytoplasm; IEA:UniProtKB-UniRule.': 7.100439e-06,\n",
       " ' GO:0009295; C:nucleoid; IEA:UniProtKB-SubCell.': 3.06513e-06,\n",
       " ' GO:0004170; F:dUTP diphosphatase activity; IEA:UniProtKB-UniRule.': 2.79737e-06,\n",
       " ' GO:0046081; P:dUTP catabolic process; IEA:InterPro.': 2.79737e-06,\n",
       " ' GO:0005960; C:glycine cleavage complex; IEA:InterPro.': 7.911334e-06,\n",
       " ' GO:0019464; P:glycine decarboxylation via glycine cleavage system; IEA:UniProtKB-UniRule.': 1.233692e-05,\n",
       " ' GO:0004654; F:polyribonucleotide nucleotidyltransferase activity; IEA:UniProtKB-UniRule.': 1.444696e-07,\n",
       " ' GO:0006402; P:mRNA catabolic process; IEA:UniProtKB-UniRule.': 7.968814199999999e-06,\n",
       " ' GO:0006396; P:RNA processing; IEA:InterPro.': 6.562936e-07,\n",
       " \" GO:0009029; F:tetraacyldisaccharide 4'-kinase activity; IEA:UniProtKB-UniRule.\": 3.150862e-06,\n",
       " ' GO:0004515; F:nicotinate-nucleotide adenylyltransferase activity; IEA:UniProtKB-UniRule.': 2.9837e-06,\n",
       " ' GO:0004017; F:adenylate kinase activity; IEA:UniProtKB-UniRule.': 1.58610994e-05,\n",
       " ' GO:0008137; F:NADH dehydrogenase (ubiquinone) activity; IEA:InterPro.': 1.765022e-05,\n",
       " ' GO:0048038; F:quinone binding; IEA:UniProtKB-KW.': 2.800054e-05,\n",
       " ' GO:0042773; P:ATP synthesis coupled electron transport; IEA:InterPro.': 2.88818e-06,\n",
       " ' GO:0030964; C:NADH dehydrogenase complex; IEA:InterPro.': 5.88243e-06,\n",
       " ' GO:0008661; F:1-deoxy-D-xylulose-5-phosphate synthase activity; IEA:UniProtKB-UniRule.': 0.0,\n",
       " ' GO:0052865; P:1-deoxy-D-xylulose 5-phosphate biosynthetic process; IEA:UniProtKB-UniPathway.': 0.0,\n",
       " ' GO:0004797; F:thymidine kinase activity; IEA:UniProtKB-UniRule.': 4.11286e-06,\n",
       " ' GO:0071897; P:DNA biosynthetic process; IEA:UniProtKB-KW.': 4.11286e-06,\n",
       " ' GO:0004609; F:phosphatidylserine decarboxylase activity; IEA:UniProtKB-UniRule.': 6.5266109999999996e-06,\n",
       " ' GO:0006646; P:phosphatidylethanolamine biosynthetic process; IEA:UniProtKB-UniPathway.': 6.5266109999999996e-06,\n",
       " ' GO:0016992; F:lipoate synthase activity; IEA:UniProtKB-UniRule.': 5.715001e-06,\n",
       " ' GO:0009249; P:protein lipoylation; IEA:UniProtKB-UniRule.': 5.715001e-06,\n",
       " ' GO:0008276; F:protein methyltransferase activity; IEA:UniProtKB-UniRule.': 8.735461999999999e-06,\n",
       " ' GO:0008833; F:deoxyribonuclease IV (phage-T4-induced) activity; IEA:UniProtKB-UniRule.': 3.1549886e-06,\n",
       " ' GO:0035529; F:NADH pyrophosphatase activity; IEA:UniProtKB-EC.': 9.409863999999998e-06,\n",
       " ' GO:0047429; F:nucleoside-triphosphate diphosphatase activity; IEA:UniProtKB-EC.': 9.227258999999998e-06,\n",
       " ' GO:0009279; C:cell outer membrane; IEA:UniProtKB-SubCell.': 4.2924335e-06,\n",
       " ' GO:0009289; C:pilus; IEA:UniProtKB-SubCell.': 3.19144e-07,\n",
       " ' GO:0102955; F:S-adenosylmethionine:2-demethylmenaquinol-7 methyltransferase activity; IEA:UniProtKB-EC.': 5.46576e-06,\n",
       " ' GO:0004832; F:valine-tRNA ligase activity; IEA:UniProtKB-UniRule.': 0.0,\n",
       " ' GO:0006438; P:valyl-tRNA aminoacylation; IEA:UniProtKB-UniRule.': 0.0,\n",
       " \" GO:0042781; F:3'-tRNA processing endoribonuclease activity; IEA:UniProtKB-UniRule.\": 8.728016399999999e-06,\n",
       " ' GO:0003864; F:3-methyl-2-oxobutanoate hydroxymethyltransferase activity; IEA:UniProtKB-UniRule.': 9.2025e-06,\n",
       " ' GO:0015940; P:pantothenate biosynthetic process; IEA:UniProtKB-UniRule.': 2.5966376e-05,\n",
       " ' GO:0004592; F:pantoate-beta-alanine ligase activity; IEA:UniProtKB-UniRule.': 3.622253e-06,\n",
       " ' GO:0006523; P:alanine biosynthetic process; IEA:InterPro.': 1.3141623e-05,\n",
       " ' GO:0006094; P:gluconeogenesis; IEA:UniProtKB-UniPathway.': 6.437275e-07,\n",
       " ' GO:0047304; F:2-aminoethylphosphonate-pyruvate transaminase activity; IEA:UniProtKB-UniRule.': 2.75296e-06,\n",
       " ' GO:0019700; P:organic phosphonate catabolic process; IEA:InterPro.': 3.6709309999999997e-06,\n",
       " ' GO:0009026; F:tagaturonate reductase activity; IEA:UniProtKB-UniRule.': 2.23266e-06,\n",
       " ' GO:0015420; F:ATPase-coupled vitamin B12 transmembrane transporter activity; IEA:UniProtKB-UniRule.': 7.531227e-06,\n",
       " ' GO:0003824; F:catalytic activity; IEA:InterPro.': 7.531227e-06,\n",
       " ' GO:0008939; F:nicotinate-nucleotide-dimethylbenzimidazole phosphoribosyltransferase activity; IEA:UniProtKB-UniRule.': 3.176921e-06,\n",
       " ' GO:0009236; P:cobalamin biosynthetic process; IEA:UniProtKB-KW.': 3.176921e-06,\n",
       " ' GO:0009163; P:nucleoside biosynthetic process; IEA:InterPro.': 3.176921e-06,\n",
       " ' GO:0016430; F:tRNA (adenine-N6-)-methyltransferase activity; IEA:UniProtKB-UniRule.': 2.270163e-06,\n",
       " ' GO:0004815; F:aspartate-tRNA ligase activity; IEA:UniProtKB-UniRule.': 1.09956235e-05,\n",
       " ' GO:0006422; P:aspartyl-tRNA aminoacylation; IEA:UniProtKB-UniRule.': 1.09956235e-05,\n",
       " ' GO:0103039; F:protein methylthiotransferase activity; IEA:UniProtKB-EC.': 5.316017e-06,\n",
       " ' GO:0018339; P:peptidyl-L-beta-methylthioaspartic acid biosynthetic process from peptidyl-aspartic acid; IEA:UniProtKB-UniRule.': 2.594227e-06,\n",
       " ' GO:0004152; F:dihydroorotate dehydrogenase activity; IEA:UniProtKB-UniRule.': 3.230459e-06,\n",
       " ' GO:0004589; F:orotate reductase (NADH) activity; IEA:UniProtKB-EC.': 6.183849000000001e-06,\n",
       " ' GO:0008690; F:3-deoxy-manno-octulosonate cytidylyltransferase activity; IEA:UniProtKB-UniRule.': 2.8893429999999997e-06,\n",
       " ' GO:0033468; P:CMP-keto-3-deoxy-D-manno-octulosonic acid biosynthetic process; IEA:UniProtKB-UniRule.': 3.6048879999999997e-06,\n",
       " ' GO:0009103; P:lipopolysaccharide biosynthetic process; IEA:UniProtKB-UniRule.': 3.6048879999999997e-06,\n",
       " ' GO:0016832; F:aldehyde-lyase activity; IEA:InterPro.': 1.15303147e-05,\n",
       " ' GO:0004801; F:sedoheptulose-7-phosphate:D-glyceraldehyde-3-phosphate glyceronetransferase activity; IEA:UniProtKB-UniRule.': 7.9624147e-06,\n",
       " ' GO:0006098; P:pentose-phosphate shunt; IEA:UniProtKB-UniRule.': 1.15303147e-05,\n",
       " ' GO:0032977; F:membrane insertase activity; IEA:InterPro.': 3.5451240000000004e-06,\n",
       " ' GO:0015031; P:protein transport; IEA:UniProtKB-KW.': 6.234644e-06,\n",
       " ' GO:0008381; F:mechanosensitive ion channel activity; IEA:UniProtKB-UniRule.': 2.531404e-06,\n",
       " ' GO:0016462; F:pyrophosphatase activity; IEA:InterPro.': 2.5967469399999997e-05,\n",
       " ' GO:0004047; F:aminomethyltransferase activity; IEA:UniProtKB-UniRule.': 4.4255860000000005e-06,\n",
       " ' GO:0008483; F:transaminase activity; IEA:UniProtKB-KW.': 4.4255860000000005e-06,\n",
       " ' GO:0015103; F:inorganic anion transmembrane transporter activity; IEA:UniProtKB-UniRule.': 5.122547e-06,\n",
       " ' GO:0008837; F:diaminopimelate epimerase activity; IEA:UniProtKB-UniRule.': 8.159845e-06,\n",
       " ' GO:0004834; F:tryptophan synthase activity; IEA:UniProtKB-UniRule.': 1.2673473e-05,\n",
       " ' GO:0004640; F:phosphoribosylanthranilate isomerase activity; IEA:UniProtKB-UniRule.': 3.432584e-06,\n",
       " ' GO:0004824; F:lysine-tRNA ligase activity; IEA:UniProtKB-UniRule.': 1.61039617e-05,\n",
       " ' GO:0006430; P:lysyl-tRNA aminoacylation; IEA:UniProtKB-UniRule.': 1.61039617e-05,\n",
       " ' GO:0004347; F:glucose-6-phosphate isomerase activity; IEA:UniProtKB-UniRule.': 1.00548363e-05,\n",
       " ' GO:0004342; F:glucosamine-6-phosphate deaminase activity; IEA:UniProtKB-UniRule.': 9.899711e-06,\n",
       " ' GO:0006044; P:N-acetylglucosamine metabolic process; IEA:UniProtKB-UniRule.': 9.899711e-06,\n",
       " ' GO:0004844; F:uracil DNA N-glycosylase activity; IEA:UniProtKB-UniRule.': 9.522209e-06,\n",
       " ' GO:0006284; P:base-excision repair; IEA:UniProtKB-UniRule.': 9.522209e-06,\n",
       " ' GO:0042128; P:nitrate assimilation; IEA:UniProtKB-UniPathway.': 5.736868e-06,\n",
       " ' GO:0005623; C:cell; IEA:GOC.': 3.1411129e-06,\n",
       " ' GO:0005507; F:copper ion binding; IEA:InterPro.': 6.78113e-07,\n",
       " ' GO:0006878; P:cellular copper ion homeostasis; IEA:UniProtKB-UniRule.': 1.007015e-06,\n",
       " ' GO:0045148; F:tripeptide aminopeptidase activity; IEA:UniProtKB-UniRule.': 6.821028000000001e-07,\n",
       " ' GO:0043171; P:peptide catabolic process; IEA:UniProtKB-UniRule.': 3.8264328e-06,\n",
       " ' GO:0033819; F:lipoyl(octanoyl) transferase activity; IEA:UniProtKB-EC.': 6.11744e-07,\n",
       " ' GO:0102555; F:octanoyl transferase activity (acting on glycine-cleavage complex H protein); IEA:UniProtKB-EC.': 8.334299999999999e-07,\n",
       " ' GO:0009249; P:protein lipoylation; IEA:InterPro.': 6.11744e-07,\n",
       " ' GO:0006541; P:glutamine metabolic process; IEA:InterPro.': 6.04865e-07,\n",
       " ' GO:0050418; F:hydroxylamine reductase activity; IEA:UniProtKB-UniRule.': 5.93784e-07,\n",
       " ' GO:0030163; P:protein catabolic process; IEA:UniProtKB-UniRule.': 0.0,\n",
       " ' GO:0004176; F:ATP-dependent peptidase activity; IEA:UniProtKB-UniRule.': 4.52956e-08,\n",
       " ' GO:0043565; F:sequence-specific DNA binding; IEA:UniProtKB-UniRule.': 4.52956e-08,\n",
       " ' GO:0034605; P:cellular response to heat; IEA:UniProtKB-UniRule.': 4.52956e-08,\n",
       " ' GO:0006515; P:protein quality control for misfolded or incompletely synthesized proteins; IEA:UniProtKB-UniRule.': 4.52956e-08,\n",
       " ' GO:0004076; F:biotin synthase activity; IEA:UniProtKB-UniRule.': 6.86518e-07,\n",
       " ' GO:0009102; P:biotin biosynthetic process; IEA:UniProtKB-UniRule.': 8.10643e-07,\n",
       " ' GO:0003852; F:2-isopropylmalate synthase activity; IEA:UniProtKB-UniRule.': 5.82651e-07,\n",
       " ' GO:0046523; F:S-methyl-5-thioribose-1-phosphate isomerase activity; IEA:UniProtKB-UniRule.': 3.77996e-07,\n",
       " ' GO:0019509; P:L-methionine salvage from methylthioadenosine; IEA:UniProtKB-UniPathway.': 3.77996e-07,\n",
       " ' GO:0019284; P:L-methionine salvage from S-adenosylmethionine; IEA:UniProtKB-UniRule.': 3.77996e-07,\n",
       " ' GO:0003856; F:3-dehydroquinate synthase activity; IEA:UniProtKB-EC.': 8.66023e-07,\n",
       " ' GO:0009073; P:aromatic amino acid family biosynthetic process; IEA:UniProtKB-KW.': 8.66023e-07,\n",
       " ' GO:0050194; F:phosphonoacetaldehyde hydrolase activity; IEA:UniProtKB-UniRule.': 9.17971e-07,\n",
       " ' GO:0017111; F:nucleoside-triphosphatase activity; IEA:InterPro.': 4.947102e-06,\n",
       " ' GO:0047429; F:nucleoside-triphosphate diphosphatase activity; IEA:UniProtKB-UniRule.': 1.4573520000000002e-06,\n",
       " ' GO:0009146; P:purine nucleoside triphosphate catabolic process; IEA:UniProtKB-UniRule.': 4.947102e-06,\n",
       " ' GO:0004071; F:aspartate-ammonia ligase activity; IEA:UniProtKB-UniRule.': 1.6461634e-06,\n",
       " ' GO:0070981; P:L-asparagine biosynthetic process; IEA:UniProtKB-UniPathway.': 1.6461634e-06,\n",
       " ' GO:0033739; F:preQ1 synthase activity; IEA:UniProtKB-UniRule.': 8.6877239e-06,\n",
       " ' GO:0004088; F:carbamoyl-phosphate synthase (glutamine-hydrolyzing) activity; IEA:UniProtKB-UniRule.': 4.778308799999999e-06,\n",
       " ' GO:0008740; F:L-rhamnose isomerase activity; IEA:UniProtKB-UniRule.': 0.0,\n",
       " ' GO:0019301; P:rhamnose catabolic process; IEA:UniProtKB-UniPathway.': 3.13999e-06,\n",
       " ' GO:0004519; F:endonuclease activity; IEA:InterPro.': 0.0,\n",
       " \" GO:0008803; F:bis(5'-nucleosyl)-tetraphosphatase (symmetrical) activity; IEA:UniProtKB-UniRule.\": 0.0,\n",
       " ' GO:0005829; C:cytosol; IEA:UniProtKB-SubCell.': 0.0,\n",
       " ' GO:0045182; F:translation regulator activity; IEA:InterPro.': 0.0,\n",
       " ' GO:1902560; C:GMP reductase complex; IEA:InterPro.': 0.0,\n",
       " ' GO:0003920; F:GMP reductase activity; IEA:UniProtKB-UniRule.': 0.0,\n",
       " ' GO:0006163; P:purine nucleotide metabolic process; IEA:UniProtKB-UniRule.': 0.0,\n",
       " ' GO:0005247; F:voltage-gated chloride channel activity; IEA:InterPro.': 0.0,\n",
       " ' GO:0008915; F:lipid-A-disaccharide synthase activity; IEA:UniProtKB-UniRule.': 0.0,\n",
       " ' GO:0006814; P:sodium ion transport; IEA:UniProtKB-UniRule.': 0.0,\n",
       " ' GO:0047975; F:guanosine phosphorylase activity; IEA:UniProtKB-EC.': 0.0,\n",
       " ' GO:0004731; F:purine-nucleoside phosphorylase activity; IEA:UniProtKB-UniRule.': 3.51726e-08,\n",
       " ' GO:0016154; F:pyrimidine-nucleoside phosphorylase activity; IEA:UniProtKB-UniRule.': 0.0,\n",
       " ' GO:0009032; F:thymidine phosphorylase activity; IEA:UniProtKB-EC.': 0.0,\n",
       " ' GO:0004850; F:uridine phosphorylase activity; IEA:UniProtKB-EC.': 0.0,\n",
       " ' GO:0000287; F:magnesium ion binding; ISS:UniProtKB.': 0.0,\n",
       " ' GO:0016791; F:phosphatase activity; ISS:UniProtKB.': 0.0,\n",
       " ' GO:0046930; C:pore complex; IEA:UniProtKB-KW.': 0.0,\n",
       " ' GO:0042958; F:maltodextrin transmembrane transporter activity; IEA:InterPro.': 0.0,\n",
       " ' GO:0015481; F:maltose transporting porin activity; IEA:InterPro.': 0.0,\n",
       " ' GO:0006811; P:ion transport; IEA:UniProtKB-KW.': 7.5278e-08,\n",
       " ' GO:0004357; F:glutamate-cysteine ligase activity; IEA:UniProtKB-EC.': 0.0,\n",
       " ' GO:0042398; P:cellular modified amino acid biosynthetic process; IEA:InterPro.': 0.0,\n",
       " ' GO:0016787; F:hydrolase activity; IEA:UniProtKB-KW.': 0.0,\n",
       " ' GO:0009239; P:enterobactin biosynthetic process; IEA:UniProtKB-UniPathway.': 0.0,\n",
       " ' GO:0010308; F:acireductone dioxygenase (Ni2+-requiring) activity; IEA:UniProtKB-UniRule.': 0.0,\n",
       " ' GO:0010309; F:acireductone dioxygenase [iron(II)-requiring] activity; IEA:UniProtKB-UniRule.': 0.0,\n",
       " ' GO:0043716; F:2-hydroxy-3-keto-5-methylthiopentenyl-1-phosphate phosphatase activity; IEA:UniProtKB-UniRule.': 0.0,\n",
       " ' GO:0043874; F:acireductone synthase activity; IEA:UniProtKB-EC.': 0.0,\n",
       " ' GO:0016416; F:O-palmitoyltransferase activity; IEA:UniProtKB-UniRule.': 0.0,\n",
       " ' GO:0033281; C:TAT protein transport complex; IEA:UniProtKB-UniRule.': 0.0,\n",
       " ' GO:0008320; F:protein transmembrane transporter activity; IEA:UniProtKB-UniRule.': 0.0,\n",
       " ' GO:0043953; P:protein transport by the Tat complex; IEA:UniProtKB-UniRule.': 0.0,\n",
       " ' GO:0004819; F:glutamine-tRNA ligase activity; IEA:UniProtKB-UniRule.': 0.0,\n",
       " ' GO:0006425; P:glutaminyl-tRNA aminoacylation; IEA:InterPro.': 0.0,\n",
       " ' GO:0017057; F:6-phosphogluconolactonase activity; IEA:UniProtKB-UniRule.': 0.0,\n",
       " ' GO:0006006; P:glucose metabolic process; IEA:UniProtKB-UniRule.': 0.0,\n",
       " ' GO:0006098; P:pentose-phosphate shunt; IEA:UniProtKB-UniPathway.': 0.0,\n",
       " ' GO:0008710; F:8-amino-7-oxononanoate synthase activity; IEA:UniProtKB-UniRule.': 0.0,\n",
       " ' GO:1904047; F:S-adenosyl-L-methionine binding; IEA:UniProtKB-UniRule.': 2.47087e-07,\n",
       " ' GO:0006777; P:Mo-molybdopterin cofactor biosynthetic process; IEA:UniProtKB-UniRule.': 0.0,\n",
       " ' GO:0052907; F:23S rRNA (adenine(1618)-N(6))-methyltransferase activity; IEA:UniProtKB-EC.': 0.0,\n",
       " ' GO:0008914; F:leucyltransferase activity; IEA:UniProtKB-UniRule.': 0.0,\n",
       " ' GO:0016791; F:phosphatase activity; IEA:UniProtKB-UniRule.': 0.0,\n",
       " ' GO:0031241; C:periplasmic side of cell outer membrane; IEA:UniProtKB-UniRule.': 0.0,\n",
       " ' GO:0030234; F:enzyme regulator activity; IEA:UniProtKB-UniRule.': 0.0,\n",
       " ' GO:0043824; F:succinylglutamate-semialdehyde dehydrogenase activity; IEA:UniProtKB-EC.': 0.0,\n",
       " ' GO:0019544; P:arginine catabolic process to glutamate; IEA:UniProtKB-UniRule.': 0.0,\n",
       " ' GO:0019545; P:arginine catabolic process to succinate; IEA:UniProtKB-UniPathway.': 0.0,\n",
       " ' GO:0036311; F:chitin disaccharide deacetylase activity; IEA:UniProtKB-UniRule.': 0.0,\n",
       " ' GO:0006032; P:chitin catabolic process; IEA:UniProtKB-UniPathway.': 0.0,\n",
       " ' GO:0052777; P:diacetylchitobiose catabolic process; IEA:UniProtKB-UniRule.': 0.0,\n",
       " ' GO:0000272; P:polysaccharide catabolic process; IEA:UniProtKB-UniRule.': 0.0,\n",
       " ' GO:0004146; F:dihydrofolate reductase activity; IEA:UniProtKB-EC.': 0.0,\n",
       " ' GO:0006730; P:one-carbon metabolic process; IEA:UniProtKB-KW.': 0.0,\n",
       " ' GO:0015606; F:spermidine transmembrane transporter activity; IEA:UniProtKB-UniRule.': 0.0,\n",
       " ' GO:0009341; C:beta-galactosidase complex; IEA:InterPro.': 1.33321e-07,\n",
       " ' GO:0004565; F:beta-galactosidase activity; IEA:UniProtKB-EC.': 1.33321e-07,\n",
       " ' GO:0030246; F:carbohydrate binding; IEA:InterPro.': 6.60367e-08,\n",
       " ' GO:0004846; F:urate oxidase activity; IDA:CACAO.': 0.0,\n",
       " ' GO:0006144; P:purine nucleobase metabolic process; IEA:UniProtKB-KW.': 0.0,\n",
       " ' GO:0019628; P:urate catabolic process; IDA:UniProtKB.': 0.0,\n",
       " ' GO:0008233; F:peptidase activity; IEA:UniProtKB-KW.': 0.0,\n",
       " ' GO:0004096; F:catalase activity; IEA:UniProtKB-UniRule.': 0.0,\n",
       " ' GO:0020037; F:heme binding; IEA:InterPro.': 1.90613e-06,\n",
       " ' GO:0042744; P:hydrogen peroxide catabolic process; IEA:UniProtKB-KW.': 1.90613e-06,\n",
       " ' GO:0006979; P:response to oxidative stress; IEA:InterPro.': 1.90613e-06,\n",
       " ' GO:0006725; P:cellular aromatic compound metabolic process; IEA:InterPro.': 0.0,\n",
       " ' GO:0042910; F:xenobiotic transmembrane transporter activity; IEA:UniProtKB-UniRule.': 0.0,\n",
       " ' GO:0006855; P:drug transmembrane transport; IEA:UniProtKB-UniRule.': 0.0,\n",
       " ' GO:0008684; F:2-oxopent-4-enoate hydratase activity; IEA:UniProtKB-UniRule.': 0.0,\n",
       " ' GO:0030145; F:manganese ion binding; IEA:InterPro.': 0.0,\n",
       " ' GO:0019380; P:3-phenylpropionate catabolic process; IEA:UniProtKB-UniPathway.': 0.0,\n",
       " ' GO:0016779; F:nucleotidyltransferase activity; IEA:UniProtKB-UniRule.': 0.0,\n",
       " ' GO:0090482; F:vitamin transmembrane transporter activity; IEA:UniProtKB-UniRule.': 0.0,\n",
       " ' GO:0015889; P:cobalamin transport; IEA:UniProtKB-UniRule.': 0.0,\n",
       " ' GO:0000062; F:fatty-acyl-CoA binding; IEA:InterPro.': 0.0,\n",
       " ' GO:0006631; P:fatty acid metabolic process; IEA:UniProtKB-KW.': 8.65064e-06,\n",
       " ' GO:0019217; P:regulation of fatty acid metabolic process; IEA:UniProtKB-UniRule.': 0.0,\n",
       " ' GO:0000902; P:cell morphogenesis; IEA:InterPro.': 5.15836e-06,\n",
       " ' GO:1901891; P:regulation of cell septum assembly; IEA:InterPro.': 5.15836e-06,\n",
       " ' GO:0008237; F:metallopeptidase activity; IEA:InterPro.': 0.0,\n",
       " ' GO:0004401; F:histidinol-phosphatase activity; IEA:UniProtKB-UniRule.': 2.91248e-06,\n",
       " ' GO:0022857; F:transmembrane transporter activity; IEA:UniProtKB-UniRule.': 0.0,\n",
       " ' GO:0106099; F:2-keto-3-deoxy-L-rhamnonate aldolase activity; IEA:UniProtKB-EC.': 0.0,\n",
       " ' GO:0050032; F:L-rhamnonate dehydratase activity; IEA:UniProtKB-UniRule.': 0.0,\n",
       " ' GO:0009063; P:cellular amino acid catabolic process; IEA:InterPro.': 0.0,\n",
       " ' GO:0004808; F:tRNA (5-methylaminomethyl-2-thiouridylate)-methyltransferase activity; IEA:UniProtKB-EC.': 0.0,\n",
       " ' GO:0002097; P:tRNA wobble base modification; IEA:UniProtKB-UniRule.': 0.0,\n",
       " ' GO:0032153; C:cell division site; IEA:UniProtKB-UniRule.': 0.0,\n",
       " ' GO:0090529; P:cell septum assembly; IEA:InterPro.': 0.0,\n",
       " ' GO:0008360; P:regulation of cell shape; IEA:UniProtKB-UniRule.': 0.0,\n",
       " ' GO:0004177; F:aminopeptidase activity; IEA:UniProtKB-UniRule.': 0.0,\n",
       " ' GO:0008235; F:metalloexopeptidase activity; IEA:InterPro.': 0.0,\n",
       " ' GO:0044212; F:transcription regulatory region DNA binding; IEA:InterPro.': 0.0,\n",
       " ' GO:0001671; F:ATPase activator activity; IEA:InterPro.': 0.0,\n",
       " ' GO:0097428; P:protein maturation by iron-sulfur cluster transfer; IEA:InterPro.': 0.0,\n",
       " ' GO:0008933; F:lytic transglycosylase activity; IEA:UniProtKB-UniRule.': 0.0,\n",
       " ' GO:0016998; P:cell wall macromolecule catabolic process; IEA:UniProtKB-UniRule.': 0.0,\n",
       " ' GO:0000270; P:peptidoglycan metabolic process; IEA:InterPro.': 0.0,\n",
       " ' GO:0043115; F:precorrin-2 dehydrogenase activity; IEA:UniProtKB-UniRule.': 0.0,\n",
       " ' GO:0051266; F:sirohydrochlorin ferrochelatase activity; IEA:UniProtKB-EC.': 0.0,\n",
       " ' GO:0004851; F:uroporphyrin-III C-methyltransferase activity; IEA:UniProtKB-UniRule.': 0.0,\n",
       " ' GO:0019354; P:siroheme biosynthetic process; IEA:UniProtKB-UniRule.': 0.0,\n",
       " ' GO:0050660; F:flavin adenine dinucleotide binding; IEA:InterPro.': 1.65550633e-05,\n",
       " ' GO:0004783; F:sulfite reductase (NADPH) activity; IEA:UniProtKB-UniRule.': 0.0,\n",
       " ' GO:0019344; P:cysteine biosynthetic process; IEA:UniProtKB-KW.': 0.0,\n",
       " ' GO:0070814; P:hydrogen sulfide biosynthetic process; IEA:UniProtKB-UniRule.': 0.0,\n",
       " ' GO:0048472; F:threonine-phosphate decarboxylase activity; IEA:InterPro.': 0.0,\n",
       " ' GO:0051144; P:propanediol catabolic process; IEA:UniProtKB-UniPathway.': 0.0,\n",
       " ' GO:0016787; F:hydrolase activity; IEA:InterPro.': 0.0,\n",
       " ' GO:0004452; F:isopentenyl-diphosphate delta-isomerase activity; IEA:UniProtKB-UniRule.': 0.0,\n",
       " ' GO:0050992; P:dimethylallyl diphosphate biosynthetic process; IEA:UniProtKB-UniPathway.': 0.0,\n",
       " ' GO:0008299; P:isoprenoid biosynthetic process; IEA:UniProtKB-UniRule.': 0.0,\n",
       " ' GO:0015181; F:arginine transmembrane transporter activity; IEA:UniProtKB-UniRule.': 0.0,\n",
       " ' GO:0006807; P:nitrogen compound metabolic process; IEA:InterPro.': 1.1737376000000001e-06,\n",
       " ' GO:0009039; F:urease activity; IEA:UniProtKB-UniRule.': 0.0,\n",
       " ' GO:0043419; P:urea catabolic process; IEA:UniProtKB-UniPathway.': 0.0,\n",
       " ' GO:0016021; C:integral component of membrane; IEA:InterPro.': 0.0,\n",
       " ' GO:0042626; F:ATPase-coupled transmembrane transporter activity; IEA:InterPro.': 0.0,\n",
       " ' GO:1905887; P:autoinducer AI-2 transmembrane transport; IEA:InterPro.': 0.0,\n",
       " ' GO:0009372; P:quorum sensing; IEA:InterPro.': 0.0,\n",
       " ' GO:0019901; F:protein kinase binding; IEA:UniProtKB-UniRule.': 0.0,\n",
       " ' GO:0045859; P:regulation of protein kinase activity; IEA:UniProtKB-UniRule.': 0.0,\n",
       " ' GO:0008672; F:2-dehydro-3-deoxyglucarate aldolase activity; IEA:UniProtKB-UniRule.': 0.0,\n",
       " ' GO:0042838; P:D-glucarate catabolic process; IEA:UniProtKB-UniRule.': 0.0,\n",
       " ' GO:0046392; P:galactarate catabolic process; IEA:UniProtKB-UniRule.': 0.0,\n",
       " ' GO:2001059; P:D-tagatose 6-phosphate catabolic process; IEA:UniProtKB-UniPathway.': 0.0,\n",
       " ' GO:0019404; P:galactitol catabolic process; IEA:UniProtKB-UniRule.': 0.0,\n",
       " ' GO:0048037; F:cofactor binding; IEA:InterPro.': 0.0,\n",
       " ' GO:0009055; F:electron transfer activity; IEA:UniProtKB-UniRule.': 0.0,\n",
       " ' GO:0010181; F:FMN binding; IEA:UniProtKB-UniRule.': 4.41048e-07,\n",
       " ' GO:0020037; F:heme binding; IEA:UniProtKB-UniRule.': 0.0,\n",
       " ' GO:0030091; P:protein repair; IEA:UniProtKB-UniRule.': 0.0,\n",
       " ' GO:0003725; F:double-stranded RNA binding; IEA:InterPro.': 0.0,\n",
       " ' GO:0061710; F:L-threonylcarbamoyladenylate synthase; IEA:UniProtKB-EC.': 0.0,\n",
       " ' GO:0099621; F:undecaprenyl-phosphate 4-deoxy-4-formamido-L-arabinose transferase activity; IEA:UniProtKB-EC.': 0.0,\n",
       " ' GO:0036108; P:4-amino-4-deoxy-alpha-L-arabinopyranosyl undecaprenyl phosphate biosynthetic process; IEA:UniProtKB-UniPathway.': 0.0,\n",
       " ' GO:0009103; P:lipopolysaccharide biosynthetic process; IEA:UniProtKB-UniPathway.': 0.0,\n",
       " ' GO:0046677; P:response to antibiotic; IEA:UniProtKB-KW.': 7.282859069999998e-05,\n",
       " ' GO:0099620; F:UDP-4-amino-4-deoxy-L-arabinose aminotransferase; IEA:UniProtKB-EC.': 0.0,\n",
       " ' GO:0009245; P:lipid A biosynthetic process; IEA:UniProtKB-KW.': 0.0,\n",
       " ' GO:0010045; P:response to nickel cation; IEA:InterPro.': 0.0,\n",
       " ' GO:0050821; P:protein stabilization; IEA:UniProtKB-UniRule.': 0.0,\n",
       " ' GO:0008994; F:rhamnulose-1-phosphate aldolase activity; IEA:UniProtKB-UniRule.': 3.13999e-06,\n",
       " ' GO:0019299; P:rhamnose metabolic process; IEA:UniProtKB-UniRule.': 0.0,\n",
       " ' GO:0015153; F:rhamnose transmembrane transporter activity; IEA:UniProtKB-UniRule.': 0.0,\n",
       " ' GO:0015293; F:symporter activity; IEA:UniProtKB-KW.': 6.7541e-08,\n",
       " ' GO:0046873; F:metal ion transmembrane transporter activity; IEA:InterPro.': 0.0,\n",
       " ' GO:0006826; P:iron ion transport; IEA:InterPro.': 2.38246e-08,\n",
       " ' GO:0006829; P:zinc ion transport; IEA:InterPro.': 0.0,\n",
       " ' GO:0009055; F:electron transfer activity; IEA:InterPro.': 5.9290728e-05,\n",
       " ' GO:0003957; F:NAD(P)+ transhydrogenase (B-specific) activity; IEA:UniProtKB-UniRule.': 0.0,\n",
       " ' GO:0045454; P:cell redox homeostasis; IEA:InterPro.': 4.92533e-08,\n",
       " ' GO:0006739; P:NADP metabolic process; IEA:UniProtKB-UniRule.': 0.0,\n",
       " ' GO:0030697; F:S-adenosylmethionine-dependent tRNA (m5U54) methyltransferase activity; IEA:UniProtKB-UniRule.': 0.0,\n",
       " ' GO:0015974; P:guanosine pentaphosphate catabolic process; IEA:UniProtKB-UniRule.': 0.0,\n",
       " ' GO:0015970; P:guanosine tetraphosphate biosynthetic process; IEA:UniProtKB-UniPathway.': 0.0,\n",
       " ' GO:0047241; F:lipopolysaccharide N-acetylmannosaminouronosyltransferase activity; IEA:UniProtKB-UniRule.': 0.0,\n",
       " ' GO:0009246; P:enterobacterial common antigen biosynthetic process; IEA:UniProtKB-UniRule.': 0.0,\n",
       " ' GO:0004418; F:hydroxymethylbilane synthase activity; IEA:UniProtKB-UniRule.': 5.34966e-08,\n",
       " ' GO:0018160; P:peptidyl-pyrromethane cofactor linkage; IEA:InterPro.': 0.0,\n",
       " ' GO:0009060; P:aerobic respiration; IEA:UniProtKB-UniRule.': 0.0,\n",
       " ' GO:0006744; P:ubiquinone biosynthetic process; IEA:UniProtKB-UniPathway.': 0.0,\n",
       " ' GO:0008813; F:chorismate lyase activity; IEA:UniProtKB-UniRule.': 0.0,\n",
       " ' GO:0042866; P:pyruvate biosynthetic process; IEA:UniProtKB-UniRule.': 0.0,\n",
       " ' GO:0006015; P:5-phosphoribose 1-diphosphate biosynthetic process; IEA:UniProtKB-UniRule.': 0.0,\n",
       " ' GO:0019634; P:organic phosphonate metabolic process; IEA:UniProtKB-UniRule.': 0.0,\n",
       " ' GO:0047134; F:protein-disulfide reductase activity; IEA:UniProtKB-UniRule.': 0.0,\n",
       " ' GO:0017004; P:cytochrome complex assembly; IEA:UniProtKB-UniRule.': 0.0,\n",
       " ' GO:0050112; F:inositol 2-dehydrogenase activity; IEA:UniProtKB-UniRule.': 0.0,\n",
       " ' GO:0050114; F:myo-inosose-2 dehydratase activity; IEA:UniProtKB-UniRule.': 0.0,\n",
       " ' GO:0016832; F:aldehyde-lyase activity; IEA:UniProtKB-UniRule.': 0.0,\n",
       " ' GO:0010124; P:phenylacetate catabolic process; IEA:InterPro.': 0.0,\n",
       " ' GO:0052914; F:16S rRNA (guanine(1207)-N(2))-methyltransferase activity; IEA:UniProtKB-EC.': 0.0,\n",
       " ' GO:0006449; P:regulation of translational termination; IEA:UniProtKB-UniRule.': 2.83195e-08,\n",
       " ' GO:0004619; F:phosphoglycerate mutase activity; IEA:UniProtKB-UniRule.': 0.0,\n",
       " ' GO:0008676; F:3-deoxy-8-phosphooctulonate synthase activity; IEA:UniProtKB-UniRule.': 0.0,\n",
       " ' GO:0019294; P:keto-3-deoxy-D-manno-octulosonic acid biosynthetic process; IEA:UniProtKB-UniRule.': 0.0,\n",
       " ' GO:0030573; P:bile acid catabolic process; IEA:UniProtKB-KW.': 3.07418e-08,\n",
       " ' GO:0016042; P:lipid catabolic process; IEA:UniProtKB-KW.': 3.07418e-08,\n",
       " ' GO:0009376; C:HslUV protease complex; IEA:UniProtKB-UniRule.': 0.0,\n",
       " ' GO:0005839; C:proteasome core complex; IEA:InterPro.': 0.0,\n",
       " ' GO:0004298; F:threonine-type endopeptidase activity; IEA:UniProtKB-KW.': 0.0,\n",
       " ' GO:0051603; P:proteolysis involved in cellular protein catabolic process; IEA:InterPro.': 0.0,\n",
       " ' GO:0008422; F:beta-glucosidase activity; IDA:UniProtKB.': 0.0,\n",
       " ' GO:0102483; F:scopolin beta-glucosidase activity; IEA:UniProtKB-EC.': 0.0,\n",
       " ' GO:0085030; P:symbiotic process benefiting host; IDA:UniProtKB.': 1.3169669999999998e-05,\n",
       " ' GO:2000899; P:xyloglucan catabolic process; IDA:UniProtKB.': 1.3169669999999998e-05,\n",
       " ' GO:0004565; F:beta-galactosidase activity; IDA:UniProtKB.': 0.0,\n",
       " ' GO:0030247; F:polysaccharide binding; IDA:UniProtKB.': 3.88987e-06,\n",
       " ' GO:0046556; F:alpha-L-arabinofuranosidase activity; IDA:UniProtKB.': 4.925840000000001e-06,\n",
       " ' GO:0044874; P:lipoprotein localization to outer membrane; IEA:UniProtKB-UniRule.': 0.0,\n",
       " ' GO:0042953; P:lipoprotein transport; IEA:InterPro.': 0.0,\n",
       " ' GO:0008780; F:acyl-[acyl-carrier-protein]-UDP-N-acetylglucosamine O-acyltransferase activity; IEA:UniProtKB-UniRule.': 0.0,\n",
       " ' GO:0006835; P:dicarboxylic acid transport; IEA:UniProtKB-UniRule.': 0.0,\n",
       " ' GO:0004775; F:succinate-CoA ligase (ADP-forming) activity; IEA:UniProtKB-UniRule.': 0.0,\n",
       " ' GO:0031072; F:heat shock protein binding; IEA:InterPro.': 4.0249177000000005e-06,\n",
       " ' GO:0009408; P:response to heat; IEA:InterPro.': 4.0249177000000005e-06,\n",
       " ' GO:0006144; P:purine nucleobase metabolic process; IEA:UniProtKB-UniRule.': 0.0,\n",
       " ' GO:0006206; P:pyrimidine nucleobase metabolic process; IEA:UniProtKB-UniRule.': 0.0,\n",
       " ' GO:0009437; P:carnitine metabolic process; IEA:UniProtKB-UniPathway.': 0.0,\n",
       " ' GO:0009437; P:carnitine metabolic process; IEA:UniProtKB-UniRule.': 0.0,\n",
       " ' GO:0003955; F:NAD(P)H dehydrogenase (quinone) activity; IEA:UniProtKB-UniRule.': 0.0,\n",
       " ' GO:0032414; P:positive regulation of ion transmembrane transporter activity; IEA:UniProtKB-UniRule.': 0.0,\n",
       " ' GO:1901381; P:positive regulation of potassium ion transmembrane transport; IEA:UniProtKB-UniRule.': 0.0,\n",
       " ' GO:0019899; F:enzyme binding; IEA:InterPro.': 0.0,\n",
       " ' GO:0015503; F:glutathione-regulated potassium exporter activity; IEA:UniProtKB-UniRule.': 0.0,\n",
       " ' GO:0015299; F:solute:proton antiporter activity; IEA:InterPro.': 0.0,\n",
       " ' GO:0015643; F:toxic substance binding; IEA:InterPro.': 0.0,\n",
       " ' GO:0051595; P:response to methylglyoxal; IEA:InterPro.': 0.0,\n",
       " ' GO:0008741; F:ribulokinase activity; IEA:UniProtKB-UniRule.': 0.0,\n",
       " ' GO:0019569; P:L-arabinose catabolic process to xylulose 5-phosphate; IEA:UniProtKB-UniRule.': 3.67327e-06,\n",
       " ' GO:0043165; P:Gram-negative-bacterium-type cell outer membrane assembly; IEA:UniProtKB-UniRule.': 0.0,\n",
       " ' GO:0051205; P:protein insertion into membrane; IEA:UniProtKB-UniRule.': 0.0,\n",
       " ' GO:0052689; F:carboxylic ester hydrolase activity; IEA:UniProtKB-KW.': 0.0,\n",
       " ...}"
      ]
     },
     "execution_count": 107,
     "metadata": {},
     "output_type": "execute_result"
    }
   ],
   "source": [
    "sample_functions[\"Sample 104\"]"
   ]
  },
  {
   "cell_type": "code",
   "execution_count": 106,
   "metadata": {},
   "outputs": [
    {
     "data": {
      "application/vnd.plotly.v1+json": {
       "config": {
        "plotlyServerURL": "https://plot.ly"
       },
       "data": [
        {
         "alignmentgroup": "True",
         "hovertemplate": "Function=GO:0005840; C:ribosome; IEA:UniProtKB-KW.<br>Sample=%{x}<br>Abundance RPKs=%{y}<extra></extra>",
         "legendgroup": "GO:0005840; C:ribosome; IEA:UniProtKB-KW.",
         "marker": {
          "color": "#636efa"
         },
         "name": "GO:0005840; C:ribosome; IEA:UniProtKB-KW.",
         "offsetgroup": "GO:0005840; C:ribosome; IEA:UniProtKB-KW.",
         "orientation": "v",
         "showlegend": true,
         "textposition": "auto",
         "type": "bar",
         "x": [
          "Sample 101",
          "Sample 14",
          "Sample 2",
          "Sample 16",
          "Sample 4",
          "Sample 1",
          "Sample 99",
          "Sample 13"
         ],
         "xaxis": "x",
         "y": [
          193932.13326854643,
          92338.27422352582,
          102172.25574784346,
          67090.3362529997,
          129475.55271419618,
          91459.72523334088,
          55816.223289794485,
          83492.73282974292
         ],
         "yaxis": "y"
        },
        {
         "alignmentgroup": "True",
         "hovertemplate": "Function=GO:0003735; F:structural constituent of ribosome; IEA:InterPro.<br>Sample=%{x}<br>Abundance RPKs=%{y}<extra></extra>",
         "legendgroup": "GO:0003735; F:structural constituent of ribosome; IEA:InterPro.",
         "marker": {
          "color": "#EF553B"
         },
         "name": "GO:0003735; F:structural constituent of ribosome; IEA:InterPro.",
         "offsetgroup": "GO:0003735; F:structural constituent of ribosome; IEA:InterPro.",
         "orientation": "v",
         "showlegend": true,
         "textposition": "auto",
         "type": "bar",
         "x": [
          "Sample 101",
          "Sample 14",
          "Sample 2",
          "Sample 16",
          "Sample 4",
          "Sample 1",
          "Sample 99",
          "Sample 13"
         ],
         "xaxis": "x",
         "y": [
          264241.991791957,
          133241.276388694,
          147210.82001054892,
          95653.26808526758,
          184695.62041319656,
          129979.3552015445,
          80555.63101462393,
          120006.08901786846
         ],
         "yaxis": "y"
        },
        {
         "alignmentgroup": "True",
         "hovertemplate": "Function=GO:0006412; P:translation; IEA:UniProtKB-UniRule.<br>Sample=%{x}<br>Abundance RPKs=%{y}<extra></extra>",
         "legendgroup": "GO:0006412; P:translation; IEA:UniProtKB-UniRule.",
         "marker": {
          "color": "#00cc96"
         },
         "name": "GO:0006412; P:translation; IEA:UniProtKB-UniRule.",
         "offsetgroup": "GO:0006412; P:translation; IEA:UniProtKB-UniRule.",
         "orientation": "v",
         "showlegend": true,
         "textposition": "auto",
         "type": "bar",
         "x": [
          "Sample 101",
          "Sample 14",
          "Sample 2",
          "Sample 16",
          "Sample 4",
          "Sample 1",
          "Sample 99",
          "Sample 13"
         ],
         "xaxis": "x",
         "y": [
          279579.71987851855,
          138830.51459663906,
          156485.72168252795,
          102151.7682099518,
          197138.0693874512,
          139189.24013106985,
          84607.97393811925,
          127545.23864444745
         ],
         "yaxis": "y"
        },
        {
         "alignmentgroup": "True",
         "hovertemplate": "Function=GO:0015935; C:small ribosomal subunit; IEA:InterPro.<br>Sample=%{x}<br>Abundance RPKs=%{y}<extra></extra>",
         "legendgroup": "GO:0015935; C:small ribosomal subunit; IEA:InterPro.",
         "marker": {
          "color": "#ab63fa"
         },
         "name": "GO:0015935; C:small ribosomal subunit; IEA:InterPro.",
         "offsetgroup": "GO:0015935; C:small ribosomal subunit; IEA:InterPro.",
         "orientation": "v",
         "showlegend": true,
         "textposition": "auto",
         "type": "bar",
         "x": [
          "Sample 101",
          "Sample 14",
          "Sample 2",
          "Sample 16",
          "Sample 4",
          "Sample 1",
          "Sample 99",
          "Sample 13"
         ],
         "xaxis": "x",
         "y": [
          31064.474780067605,
          14886.007389333108,
          18697.347344836093,
          12361.827184308302,
          22786.28261698931,
          16468.6436599943,
          11520.972442708204,
          17982.267710254386
         ],
         "yaxis": "y"
        },
        {
         "alignmentgroup": "True",
         "hovertemplate": "Function=GO:0019843; F:rRNA binding; IEA:UniProtKB-UniRule.<br>Sample=%{x}<br>Abundance RPKs=%{y}<extra></extra>",
         "legendgroup": "GO:0019843; F:rRNA binding; IEA:UniProtKB-UniRule.",
         "marker": {
          "color": "#FFA15A"
         },
         "name": "GO:0019843; F:rRNA binding; IEA:UniProtKB-UniRule.",
         "offsetgroup": "GO:0019843; F:rRNA binding; IEA:UniProtKB-UniRule.",
         "orientation": "v",
         "showlegend": true,
         "textposition": "auto",
         "type": "bar",
         "x": [
          "Sample 101",
          "Sample 14",
          "Sample 2",
          "Sample 16",
          "Sample 4",
          "Sample 1",
          "Sample 99",
          "Sample 13"
         ],
         "xaxis": "x",
         "y": [
          162674.24865796394,
          89599.2205877212,
          104314.25206444741,
          71597.8906569351,
          120990.88214502578,
          89151.93100489175,
          55304.4667423551,
          81465.5502133795
         ],
         "yaxis": "y"
        },
        {
         "alignmentgroup": "True",
         "hovertemplate": "Function=GO:0000049; F:tRNA binding; IEA:UniProtKB-UniRule.<br>Sample=%{x}<br>Abundance RPKs=%{y}<extra></extra>",
         "legendgroup": "GO:0000049; F:tRNA binding; IEA:UniProtKB-UniRule.",
         "marker": {
          "color": "#19d3f3"
         },
         "name": "GO:0000049; F:tRNA binding; IEA:UniProtKB-UniRule.",
         "offsetgroup": "GO:0000049; F:tRNA binding; IEA:UniProtKB-UniRule.",
         "orientation": "v",
         "showlegend": true,
         "textposition": "auto",
         "type": "bar",
         "x": [
          "Sample 101",
          "Sample 14",
          "Sample 2",
          "Sample 16",
          "Sample 4",
          "Sample 1",
          "Sample 99",
          "Sample 13"
         ],
         "xaxis": "x",
         "y": [
          44987.2010690873,
          18534.252294433998,
          22411.9890893769,
          17497.7222501684,
          24443.399073755903,
          22101.983840197903,
          12609.886448060497,
          18803.40612447829
         ],
         "yaxis": "y"
        },
        {
         "alignmentgroup": "True",
         "hovertemplate": "Function=GO:0005737; C:cytoplasm; IEA:UniProtKB-SubCell.<br>Sample=%{x}<br>Abundance RPKs=%{y}<extra></extra>",
         "legendgroup": "GO:0005737; C:cytoplasm; IEA:UniProtKB-SubCell.",
         "marker": {
          "color": "#FF6692"
         },
         "name": "GO:0005737; C:cytoplasm; IEA:UniProtKB-SubCell.",
         "offsetgroup": "GO:0005737; C:cytoplasm; IEA:UniProtKB-SubCell.",
         "orientation": "v",
         "showlegend": true,
         "textposition": "auto",
         "type": "bar",
         "x": [
          "Sample 101",
          "Sample 14",
          "Sample 2",
          "Sample 16",
          "Sample 4",
          "Sample 1",
          "Sample 99",
          "Sample 13"
         ],
         "xaxis": "x",
         "y": [
          709177.4943372556,
          140496.32346482284,
          176477.53664463965,
          122729.99905200463,
          223954.0915720708,
          212141.04976035215,
          85527.68812725334,
          264718.63258881704
         ],
         "yaxis": "y"
        },
        {
         "alignmentgroup": "True",
         "hovertemplate": "Function=GO:0015986; P:ATP synthesis coupled proton transport; IEA:UniProtKB-UniRule.<br>Sample=%{x}<br>Abundance RPKs=%{y}<extra></extra>",
         "legendgroup": "GO:0015986; P:ATP synthesis coupled proton transport; IEA:UniProtKB-UniRule.",
         "marker": {
          "color": "#B6E880"
         },
         "name": "GO:0015986; P:ATP synthesis coupled proton transport; IEA:UniProtKB-UniRule.",
         "offsetgroup": "GO:0015986; P:ATP synthesis coupled proton transport; IEA:UniProtKB-UniRule.",
         "orientation": "v",
         "showlegend": true,
         "textposition": "auto",
         "type": "bar",
         "x": [
          "Sample 101",
          "Sample 14",
          "Sample 4"
         ],
         "xaxis": "x",
         "y": [
          19272.445527837514,
          10259.9825925806,
          10718.27996881
         ],
         "yaxis": "y"
        },
        {
         "alignmentgroup": "True",
         "hovertemplate": "Function=GO:0000917; P:division septum assembly; IEA:UniProtKB-KW.<br>Sample=%{x}<br>Abundance RPKs=%{y}<extra></extra>",
         "legendgroup": "GO:0000917; P:division septum assembly; IEA:UniProtKB-KW.",
         "marker": {
          "color": "#FF97FF"
         },
         "name": "GO:0000917; P:division septum assembly; IEA:UniProtKB-KW.",
         "offsetgroup": "GO:0000917; P:division septum assembly; IEA:UniProtKB-KW.",
         "orientation": "v",
         "showlegend": true,
         "textposition": "auto",
         "type": "bar",
         "x": [
          "Sample 101"
         ],
         "xaxis": "x",
         "y": [
          21873.422460844507
         ],
         "yaxis": "y"
        },
        {
         "alignmentgroup": "True",
         "hovertemplate": "Function=GO:0005525; F:GTP binding; IEA:UniProtKB-UniRule.<br>Sample=%{x}<br>Abundance RPKs=%{y}<extra></extra>",
         "legendgroup": "GO:0005525; F:GTP binding; IEA:UniProtKB-UniRule.",
         "marker": {
          "color": "#FECB52"
         },
         "name": "GO:0005525; F:GTP binding; IEA:UniProtKB-UniRule.",
         "offsetgroup": "GO:0005525; F:GTP binding; IEA:UniProtKB-UniRule.",
         "orientation": "v",
         "showlegend": true,
         "textposition": "auto",
         "type": "bar",
         "x": [
          "Sample 101",
          "Sample 14",
          "Sample 2",
          "Sample 16",
          "Sample 4",
          "Sample 1",
          "Sample 99",
          "Sample 13"
         ],
         "xaxis": "x",
         "y": [
          47608.37633272686,
          15582.818683321799,
          17348.6373073967,
          12494.767484025697,
          22592.243245375306,
          20437.2912631741,
          10278.159965559698,
          21721.681436862902
         ],
         "yaxis": "y"
        },
        {
         "alignmentgroup": "True",
         "hovertemplate": "Function=GO:0003924; F:GTPase activity; IEA:InterPro.<br>Sample=%{x}<br>Abundance RPKs=%{y}<extra></extra>",
         "legendgroup": "GO:0003924; F:GTPase activity; IEA:InterPro.",
         "marker": {
          "color": "#636efa"
         },
         "name": "GO:0003924; F:GTPase activity; IEA:InterPro.",
         "offsetgroup": "GO:0003924; F:GTPase activity; IEA:InterPro.",
         "orientation": "v",
         "showlegend": true,
         "textposition": "auto",
         "type": "bar",
         "x": [
          "Sample 101",
          "Sample 14",
          "Sample 4",
          "Sample 99",
          "Sample 13"
         ],
         "xaxis": "x",
         "y": [
          12659.569471711799,
          11126.187208655601,
          15692.6370622306,
          13795.141082632897,
          12022.4921979292
         ],
         "yaxis": "y"
        },
        {
         "alignmentgroup": "True",
         "hovertemplate": "Function=GO:0003746; F:translation elongation factor activity; IEA:UniProtKB-UniRule.<br>Sample=%{x}<br>Abundance RPKs=%{y}<extra></extra>",
         "legendgroup": "GO:0003746; F:translation elongation factor activity; IEA:UniProtKB-UniRule.",
         "marker": {
          "color": "#EF553B"
         },
         "name": "GO:0003746; F:translation elongation factor activity; IEA:UniProtKB-UniRule.",
         "offsetgroup": "GO:0003746; F:translation elongation factor activity; IEA:UniProtKB-UniRule.",
         "orientation": "v",
         "showlegend": true,
         "textposition": "auto",
         "type": "bar",
         "x": [
          "Sample 101",
          "Sample 2",
          "Sample 4",
          "Sample 1",
          "Sample 13"
         ],
         "xaxis": "x",
         "y": [
          19522.8282463032,
          10415.095800166897,
          11842.121545349399,
          10867.232219543703,
          10116.484966912301
         ],
         "yaxis": "y"
        },
        {
         "alignmentgroup": "True",
         "hovertemplate": "Function=GO:0015934; C:large ribosomal subunit; IEA:InterPro.<br>Sample=%{x}<br>Abundance RPKs=%{y}<extra></extra>",
         "legendgroup": "GO:0015934; C:large ribosomal subunit; IEA:InterPro.",
         "marker": {
          "color": "#00cc96"
         },
         "name": "GO:0015934; C:large ribosomal subunit; IEA:InterPro.",
         "offsetgroup": "GO:0015934; C:large ribosomal subunit; IEA:InterPro.",
         "orientation": "v",
         "showlegend": true,
         "textposition": "auto",
         "type": "bar",
         "x": [
          "Sample 101",
          "Sample 14",
          "Sample 2",
          "Sample 16",
          "Sample 4",
          "Sample 1",
          "Sample 99",
          "Sample 13"
         ],
         "xaxis": "x",
         "y": [
          38088.3384908,
          25176.793620593096,
          25470.784563533096,
          14317.286373527897,
          30118.441757073608,
          21069.0672577846,
          12161.2963910544,
          18117.485864546503
         ],
         "yaxis": "y"
        },
        {
         "alignmentgroup": "True",
         "hovertemplate": "Function=GO:0000049; F:tRNA binding; IEA:UniProtKB-KW.<br>Sample=%{x}<br>Abundance RPKs=%{y}<extra></extra>",
         "legendgroup": "GO:0000049; F:tRNA binding; IEA:UniProtKB-KW.",
         "marker": {
          "color": "#ab63fa"
         },
         "name": "GO:0000049; F:tRNA binding; IEA:UniProtKB-KW.",
         "offsetgroup": "GO:0000049; F:tRNA binding; IEA:UniProtKB-KW.",
         "orientation": "v",
         "showlegend": true,
         "textposition": "auto",
         "type": "bar",
         "x": [
          "Sample 101",
          "Sample 2",
          "Sample 4",
          "Sample 1",
          "Sample 13"
         ],
         "xaxis": "x",
         "y": [
          19494.167611398094,
          12459.295519451896,
          14363.862502737797,
          12965.9007716472,
          10956.0449275195
         ],
         "yaxis": "y"
        },
        {
         "alignmentgroup": "True",
         "hovertemplate": "Function=GO:0008270; F:zinc ion binding; IEA:UniProtKB-UniRule.<br>Sample=%{x}<br>Abundance RPKs=%{y}<extra></extra>",
         "legendgroup": "GO:0008270; F:zinc ion binding; IEA:UniProtKB-UniRule.",
         "marker": {
          "color": "#FFA15A"
         },
         "name": "GO:0008270; F:zinc ion binding; IEA:UniProtKB-UniRule.",
         "offsetgroup": "GO:0008270; F:zinc ion binding; IEA:UniProtKB-UniRule.",
         "orientation": "v",
         "showlegend": true,
         "textposition": "auto",
         "type": "bar",
         "x": [
          "Sample 101",
          "Sample 2",
          "Sample 16",
          "Sample 4",
          "Sample 1",
          "Sample 13"
         ],
         "xaxis": "x",
         "y": [
          86959.68924035894,
          14875.5553828689,
          12742.8754738518,
          19799.247724448,
          18344.294356296417,
          33041.3596576888
         ],
         "yaxis": "y"
        },
        {
         "alignmentgroup": "True",
         "hovertemplate": "Function=GO:0005524; F:ATP binding; IEA:UniProtKB-UniRule.<br>Sample=%{x}<br>Abundance RPKs=%{y}<extra></extra>",
         "legendgroup": "GO:0005524; F:ATP binding; IEA:UniProtKB-UniRule.",
         "marker": {
          "color": "#19d3f3"
         },
         "name": "GO:0005524; F:ATP binding; IEA:UniProtKB-UniRule.",
         "offsetgroup": "GO:0005524; F:ATP binding; IEA:UniProtKB-UniRule.",
         "orientation": "v",
         "showlegend": true,
         "textposition": "auto",
         "type": "bar",
         "x": [
          "Sample 101",
          "Sample 14",
          "Sample 2",
          "Sample 16",
          "Sample 4",
          "Sample 1",
          "Sample 99",
          "Sample 13"
         ],
         "xaxis": "x",
         "y": [
          205084.3998655271,
          47861.09291192864,
          62675.999022448916,
          42187.683115331,
          79585.22502703081,
          69893.84486023642,
          32769.538205335506,
          82485.40743216057
         ],
         "yaxis": "y"
        },
        {
         "alignmentgroup": "True",
         "hovertemplate": "Function=GO:0003676; F:nucleic acid binding; IEA:InterPro.<br>Sample=%{x}<br>Abundance RPKs=%{y}<extra></extra>",
         "legendgroup": "GO:0003676; F:nucleic acid binding; IEA:InterPro.",
         "marker": {
          "color": "#FF6692"
         },
         "name": "GO:0003676; F:nucleic acid binding; IEA:InterPro.",
         "offsetgroup": "GO:0003676; F:nucleic acid binding; IEA:InterPro.",
         "orientation": "v",
         "showlegend": true,
         "textposition": "auto",
         "type": "bar",
         "x": [
          "Sample 101",
          "Sample 4",
          "Sample 13"
         ],
         "xaxis": "x",
         "y": [
          33609.208159113,
          10535.491952835897,
          12921.0758400466
         ],
         "yaxis": "y"
        },
        {
         "alignmentgroup": "True",
         "hovertemplate": "Function=GO:0005524; F:ATP binding; IEA:UniProtKB-KW.<br>Sample=%{x}<br>Abundance RPKs=%{y}<extra></extra>",
         "legendgroup": "GO:0005524; F:ATP binding; IEA:UniProtKB-KW.",
         "marker": {
          "color": "#B6E880"
         },
         "name": "GO:0005524; F:ATP binding; IEA:UniProtKB-KW.",
         "offsetgroup": "GO:0005524; F:ATP binding; IEA:UniProtKB-KW.",
         "orientation": "v",
         "showlegend": true,
         "textposition": "auto",
         "type": "bar",
         "x": [
          "Sample 101",
          "Sample 14",
          "Sample 2",
          "Sample 16",
          "Sample 4",
          "Sample 1",
          "Sample 99",
          "Sample 13"
         ],
         "xaxis": "x",
         "y": [
          178581.75839963395,
          27440.783657706685,
          37027.76636958149,
          19864.14000535259,
          39695.26220270137,
          39893.81090036273,
          15633.553020757305,
          63079.6938300346
         ],
         "yaxis": "y"
        },
        {
         "alignmentgroup": "True",
         "hovertemplate": "Function=GO:0006096; P:glycolytic process; IEA:UniProtKB-UniRule.<br>Sample=%{x}<br>Abundance RPKs=%{y}<extra></extra>",
         "legendgroup": "GO:0006096; P:glycolytic process; IEA:UniProtKB-UniRule.",
         "marker": {
          "color": "#FF97FF"
         },
         "name": "GO:0006096; P:glycolytic process; IEA:UniProtKB-UniRule.",
         "offsetgroup": "GO:0006096; P:glycolytic process; IEA:UniProtKB-UniRule.",
         "orientation": "v",
         "showlegend": true,
         "textposition": "auto",
         "type": "bar",
         "x": [
          "Sample 101",
          "Sample 2",
          "Sample 4",
          "Sample 1",
          "Sample 13"
         ],
         "xaxis": "x",
         "y": [
          29112.555439574793,
          11761.799407564597,
          13984.217047438106,
          10955.522560707303,
          11625.427610759598
         ],
         "yaxis": "y"
        },
        {
         "alignmentgroup": "True",
         "hovertemplate": "Function=GO:0000287; F:magnesium ion binding; IEA:UniProtKB-UniRule.<br>Sample=%{x}<br>Abundance RPKs=%{y}<extra></extra>",
         "legendgroup": "GO:0000287; F:magnesium ion binding; IEA:UniProtKB-UniRule.",
         "marker": {
          "color": "#FECB52"
         },
         "name": "GO:0000287; F:magnesium ion binding; IEA:UniProtKB-UniRule.",
         "offsetgroup": "GO:0000287; F:magnesium ion binding; IEA:UniProtKB-UniRule.",
         "orientation": "v",
         "showlegend": true,
         "textposition": "auto",
         "type": "bar",
         "x": [
          "Sample 101",
          "Sample 14",
          "Sample 2",
          "Sample 16",
          "Sample 4",
          "Sample 1",
          "Sample 99",
          "Sample 13"
         ],
         "xaxis": "x",
         "y": [
          122886.88945956815,
          32424.884961827316,
          33893.80770073982,
          17887.043331212397,
          42840.614427342196,
          39446.53905245851,
          15021.265766061695,
          45326.64118968389
         ],
         "yaxis": "y"
        },
        {
         "alignmentgroup": "True",
         "hovertemplate": "Function=GO:0006310; P:DNA recombination; IEA:UniProtKB-UniRule.<br>Sample=%{x}<br>Abundance RPKs=%{y}<extra></extra>",
         "legendgroup": "GO:0006310; P:DNA recombination; IEA:UniProtKB-UniRule.",
         "marker": {
          "color": "#636efa"
         },
         "name": "GO:0006310; P:DNA recombination; IEA:UniProtKB-UniRule.",
         "offsetgroup": "GO:0006310; P:DNA recombination; IEA:UniProtKB-UniRule.",
         "orientation": "v",
         "showlegend": true,
         "textposition": "auto",
         "type": "bar",
         "x": [
          "Sample 101",
          "Sample 4"
         ],
         "xaxis": "x",
         "y": [
          22090.6124680608,
          10635.103687058898
         ],
         "yaxis": "y"
        },
        {
         "alignmentgroup": "True",
         "hovertemplate": "Function=GO:0006281; P:DNA repair; IEA:UniProtKB-UniRule.<br>Sample=%{x}<br>Abundance RPKs=%{y}<extra></extra>",
         "legendgroup": "GO:0006281; P:DNA repair; IEA:UniProtKB-UniRule.",
         "marker": {
          "color": "#EF553B"
         },
         "name": "GO:0006281; P:DNA repair; IEA:UniProtKB-UniRule.",
         "offsetgroup": "GO:0006281; P:DNA repair; IEA:UniProtKB-UniRule.",
         "orientation": "v",
         "showlegend": true,
         "textposition": "auto",
         "type": "bar",
         "x": [
          "Sample 101",
          "Sample 2",
          "Sample 4",
          "Sample 1",
          "Sample 13"
         ],
         "xaxis": "x",
         "y": [
          30110.000781369898,
          10078.265933780598,
          13058.1320477414,
          12666.116133537404,
          14046.189351183797
         ],
         "yaxis": "y"
        },
        {
         "alignmentgroup": "True",
         "hovertemplate": "Function=GO:0009432; P:SOS response; IEA:UniProtKB-UniRule.<br>Sample=%{x}<br>Abundance RPKs=%{y}<extra></extra>",
         "legendgroup": "GO:0009432; P:SOS response; IEA:UniProtKB-UniRule.",
         "marker": {
          "color": "#00cc96"
         },
         "name": "GO:0009432; P:SOS response; IEA:UniProtKB-UniRule.",
         "offsetgroup": "GO:0009432; P:SOS response; IEA:UniProtKB-UniRule.",
         "orientation": "v",
         "showlegend": true,
         "textposition": "auto",
         "type": "bar",
         "x": [
          "Sample 101"
         ],
         "xaxis": "x",
         "y": [
          21753.959675309798
         ],
         "yaxis": "y"
        },
        {
         "alignmentgroup": "True",
         "hovertemplate": "Function=GO:0005886; C:plasma membrane; IEA:UniProtKB-SubCell.<br>Sample=%{x}<br>Abundance RPKs=%{y}<extra></extra>",
         "legendgroup": "GO:0005886; C:plasma membrane; IEA:UniProtKB-SubCell.",
         "marker": {
          "color": "#ab63fa"
         },
         "name": "GO:0005886; C:plasma membrane; IEA:UniProtKB-SubCell.",
         "offsetgroup": "GO:0005886; C:plasma membrane; IEA:UniProtKB-SubCell.",
         "orientation": "v",
         "showlegend": true,
         "textposition": "auto",
         "type": "bar",
         "x": [
          "Sample 101",
          "Sample 14",
          "Sample 2",
          "Sample 16",
          "Sample 4",
          "Sample 1",
          "Sample 99",
          "Sample 13"
         ],
         "xaxis": "x",
         "y": [
          266736.75990297424,
          17005.474590495396,
          21895.88940314801,
          15032.175796265301,
          27790.835301124007,
          30933.694992365112,
          12614.717292221496,
          77630.18934858702
         ],
         "yaxis": "y"
        },
        {
         "alignmentgroup": "True",
         "hovertemplate": "Function=GO:0003924; F:GTPase activity; IEA:UniProtKB-UniRule.<br>Sample=%{x}<br>Abundance RPKs=%{y}<extra></extra>",
         "legendgroup": "GO:0003924; F:GTPase activity; IEA:UniProtKB-UniRule.",
         "marker": {
          "color": "#FFA15A"
         },
         "name": "GO:0003924; F:GTPase activity; IEA:UniProtKB-UniRule.",
         "offsetgroup": "GO:0003924; F:GTPase activity; IEA:UniProtKB-UniRule.",
         "orientation": "v",
         "showlegend": true,
         "textposition": "auto",
         "type": "bar",
         "x": [
          "Sample 101",
          "Sample 4"
         ],
         "xaxis": "x",
         "y": [
          17698.45653142059,
          10370.377554819099
         ],
         "yaxis": "y"
        },
        {
         "alignmentgroup": "True",
         "hovertemplate": "Function=GO:0046983; F:protein dimerization activity; IEA:InterPro.<br>Sample=%{x}<br>Abundance RPKs=%{y}<extra></extra>",
         "legendgroup": "GO:0046983; F:protein dimerization activity; IEA:InterPro.",
         "marker": {
          "color": "#19d3f3"
         },
         "name": "GO:0046983; F:protein dimerization activity; IEA:InterPro.",
         "offsetgroup": "GO:0046983; F:protein dimerization activity; IEA:InterPro.",
         "orientation": "v",
         "showlegend": true,
         "textposition": "auto",
         "type": "bar",
         "x": [
          "Sample 101"
         ],
         "xaxis": "x",
         "y": [
          15124.280634133402
         ],
         "yaxis": "y"
        },
        {
         "alignmentgroup": "True",
         "hovertemplate": "Function=GO:0051082; F:unfolded protein binding; IEA:UniProtKB-UniRule.<br>Sample=%{x}<br>Abundance RPKs=%{y}<extra></extra>",
         "legendgroup": "GO:0051082; F:unfolded protein binding; IEA:UniProtKB-UniRule.",
         "marker": {
          "color": "#FF6692"
         },
         "name": "GO:0051082; F:unfolded protein binding; IEA:UniProtKB-UniRule.",
         "offsetgroup": "GO:0051082; F:unfolded protein binding; IEA:UniProtKB-UniRule.",
         "orientation": "v",
         "showlegend": true,
         "textposition": "auto",
         "type": "bar",
         "x": [
          "Sample 101"
         ],
         "xaxis": "x",
         "y": [
          12712.045871494101
         ],
         "yaxis": "y"
        },
        {
         "alignmentgroup": "True",
         "hovertemplate": "Function=GO:0008270; F:zinc ion binding; IEA:InterPro.<br>Sample=%{x}<br>Abundance RPKs=%{y}<extra></extra>",
         "legendgroup": "GO:0008270; F:zinc ion binding; IEA:InterPro.",
         "marker": {
          "color": "#B6E880"
         },
         "name": "GO:0008270; F:zinc ion binding; IEA:InterPro.",
         "offsetgroup": "GO:0008270; F:zinc ion binding; IEA:InterPro.",
         "orientation": "v",
         "showlegend": true,
         "textposition": "auto",
         "type": "bar",
         "x": [
          "Sample 101"
         ],
         "xaxis": "x",
         "y": [
          24700.25925888301
         ],
         "yaxis": "y"
        },
        {
         "alignmentgroup": "True",
         "hovertemplate": "Function=GO:0006457; P:protein folding; IEA:UniProtKB-UniRule.<br>Sample=%{x}<br>Abundance RPKs=%{y}<extra></extra>",
         "legendgroup": "GO:0006457; P:protein folding; IEA:UniProtKB-UniRule.",
         "marker": {
          "color": "#FF97FF"
         },
         "name": "GO:0006457; P:protein folding; IEA:UniProtKB-UniRule.",
         "offsetgroup": "GO:0006457; P:protein folding; IEA:UniProtKB-UniRule.",
         "orientation": "v",
         "showlegend": true,
         "textposition": "auto",
         "type": "bar",
         "x": [
          "Sample 101"
         ],
         "xaxis": "x",
         "y": [
          19224.741369893905
         ],
         "yaxis": "y"
        },
        {
         "alignmentgroup": "True",
         "hovertemplate": "Function=GO:0006260; P:DNA replication; IEA:UniProtKB-UniRule.<br>Sample=%{x}<br>Abundance RPKs=%{y}<extra></extra>",
         "legendgroup": "GO:0006260; P:DNA replication; IEA:UniProtKB-UniRule.",
         "marker": {
          "color": "#FECB52"
         },
         "name": "GO:0006260; P:DNA replication; IEA:UniProtKB-UniRule.",
         "offsetgroup": "GO:0006260; P:DNA replication; IEA:UniProtKB-UniRule.",
         "orientation": "v",
         "showlegend": true,
         "textposition": "auto",
         "type": "bar",
         "x": [
          "Sample 101"
         ],
         "xaxis": "x",
         "y": [
          13079.318688944903
         ],
         "yaxis": "y"
        },
        {
         "alignmentgroup": "True",
         "hovertemplate": "Function=GO:0005525; F:GTP binding; IEA:UniProtKB-KW.<br>Sample=%{x}<br>Abundance RPKs=%{y}<extra></extra>",
         "legendgroup": "GO:0005525; F:GTP binding; IEA:UniProtKB-KW.",
         "marker": {
          "color": "#636efa"
         },
         "name": "GO:0005525; F:GTP binding; IEA:UniProtKB-KW.",
         "offsetgroup": "GO:0005525; F:GTP binding; IEA:UniProtKB-KW.",
         "orientation": "v",
         "showlegend": true,
         "textposition": "auto",
         "type": "bar",
         "x": [
          "Sample 101",
          "Sample 4",
          "Sample 99",
          "Sample 13"
         ],
         "xaxis": "x",
         "y": [
          19392.1261206908,
          15212.378574938499,
          11853.2234942834,
          11329.668391185798
         ],
         "yaxis": "y"
        },
        {
         "alignmentgroup": "True",
         "hovertemplate": "Function=GO:0009116; P:nucleoside metabolic process; IEA:InterPro.<br>Sample=%{x}<br>Abundance RPKs=%{y}<extra></extra>",
         "legendgroup": "GO:0009116; P:nucleoside metabolic process; IEA:InterPro.",
         "marker": {
          "color": "#EF553B"
         },
         "name": "GO:0009116; P:nucleoside metabolic process; IEA:InterPro.",
         "offsetgroup": "GO:0009116; P:nucleoside metabolic process; IEA:InterPro.",
         "orientation": "v",
         "showlegend": true,
         "textposition": "auto",
         "type": "bar",
         "x": [
          "Sample 101"
         ],
         "xaxis": "x",
         "y": [
          10466.0752050693
         ],
         "yaxis": "y"
        },
        {
         "alignmentgroup": "True",
         "hovertemplate": "Function=GO:0003677; F:DNA binding; IEA:UniProtKB-UniRule.<br>Sample=%{x}<br>Abundance RPKs=%{y}<extra></extra>",
         "legendgroup": "GO:0003677; F:DNA binding; IEA:UniProtKB-UniRule.",
         "marker": {
          "color": "#00cc96"
         },
         "name": "GO:0003677; F:DNA binding; IEA:UniProtKB-UniRule.",
         "offsetgroup": "GO:0003677; F:DNA binding; IEA:UniProtKB-UniRule.",
         "orientation": "v",
         "showlegend": true,
         "textposition": "auto",
         "type": "bar",
         "x": [
          "Sample 101"
         ],
         "xaxis": "x",
         "y": [
          16138.872985481701
         ],
         "yaxis": "y"
        },
        {
         "alignmentgroup": "True",
         "hovertemplate": "Function=GO:0046872; F:metal ion binding; IEA:UniProtKB-KW.<br>Sample=%{x}<br>Abundance RPKs=%{y}<extra></extra>",
         "legendgroup": "GO:0046872; F:metal ion binding; IEA:UniProtKB-KW.",
         "marker": {
          "color": "#ab63fa"
         },
         "name": "GO:0046872; F:metal ion binding; IEA:UniProtKB-KW.",
         "offsetgroup": "GO:0046872; F:metal ion binding; IEA:UniProtKB-KW.",
         "orientation": "v",
         "showlegend": true,
         "textposition": "auto",
         "type": "bar",
         "x": [
          "Sample 101",
          "Sample 14",
          "Sample 2",
          "Sample 16",
          "Sample 4",
          "Sample 1",
          "Sample 99",
          "Sample 13"
         ],
         "xaxis": "x",
         "y": [
          223384.7772414651,
          28069.906270423282,
          33466.67365022332,
          24157.909522767597,
          44563.91132373917,
          40779.177924147705,
          18227.711701140488,
          68812.55048033422
         ],
         "yaxis": "y"
        },
        {
         "alignmentgroup": "True",
         "hovertemplate": "Function=GO:0009098; P:leucine biosynthetic process; IEA:UniProtKB-UniRule.<br>Sample=%{x}<br>Abundance RPKs=%{y}<extra></extra>",
         "legendgroup": "GO:0009098; P:leucine biosynthetic process; IEA:UniProtKB-UniRule.",
         "marker": {
          "color": "#FFA15A"
         },
         "name": "GO:0009098; P:leucine biosynthetic process; IEA:UniProtKB-UniRule.",
         "offsetgroup": "GO:0009098; P:leucine biosynthetic process; IEA:UniProtKB-UniRule.",
         "orientation": "v",
         "showlegend": true,
         "textposition": "auto",
         "type": "bar",
         "x": [
          "Sample 101"
         ],
         "xaxis": "x",
         "y": [
          10750.712320102799
         ],
         "yaxis": "y"
        },
        {
         "alignmentgroup": "True",
         "hovertemplate": "Function=GO:0071555; P:cell wall organization; IEA:UniProtKB-KW.<br>Sample=%{x}<br>Abundance RPKs=%{y}<extra></extra>",
         "legendgroup": "GO:0071555; P:cell wall organization; IEA:UniProtKB-KW.",
         "marker": {
          "color": "#19d3f3"
         },
         "name": "GO:0071555; P:cell wall organization; IEA:UniProtKB-KW.",
         "offsetgroup": "GO:0071555; P:cell wall organization; IEA:UniProtKB-KW.",
         "orientation": "v",
         "showlegend": true,
         "textposition": "auto",
         "type": "bar",
         "x": [
          "Sample 101",
          "Sample 2",
          "Sample 4",
          "Sample 1",
          "Sample 13"
         ],
         "xaxis": "x",
         "y": [
          69691.98793040754,
          12214.6050930424,
          14388.524702128701,
          15926.490184289896,
          22386.3579477926
         ],
         "yaxis": "y"
        },
        {
         "alignmentgroup": "True",
         "hovertemplate": "Function=GO:0009252; P:peptidoglycan biosynthetic process; IEA:UniProtKB-UniRule.<br>Sample=%{x}<br>Abundance RPKs=%{y}<extra></extra>",
         "legendgroup": "GO:0009252; P:peptidoglycan biosynthetic process; IEA:UniProtKB-UniRule.",
         "marker": {
          "color": "#FF6692"
         },
         "name": "GO:0009252; P:peptidoglycan biosynthetic process; IEA:UniProtKB-UniRule.",
         "offsetgroup": "GO:0009252; P:peptidoglycan biosynthetic process; IEA:UniProtKB-UniRule.",
         "orientation": "v",
         "showlegend": true,
         "textposition": "auto",
         "type": "bar",
         "x": [
          "Sample 101",
          "Sample 2",
          "Sample 4",
          "Sample 1",
          "Sample 13"
         ],
         "xaxis": "x",
         "y": [
          41520.782956049516,
          10626.7572516028,
          12136.154142101404,
          13589.172545428293,
          15734.347348768702
         ],
         "yaxis": "y"
        },
        {
         "alignmentgroup": "True",
         "hovertemplate": "Function=GO:0008360; P:regulation of cell shape; IEA:UniProtKB-KW.<br>Sample=%{x}<br>Abundance RPKs=%{y}<extra></extra>",
         "legendgroup": "GO:0008360; P:regulation of cell shape; IEA:UniProtKB-KW.",
         "marker": {
          "color": "#B6E880"
         },
         "name": "GO:0008360; P:regulation of cell shape; IEA:UniProtKB-KW.",
         "offsetgroup": "GO:0008360; P:regulation of cell shape; IEA:UniProtKB-KW.",
         "orientation": "v",
         "showlegend": true,
         "textposition": "auto",
         "type": "bar",
         "x": [
          "Sample 101",
          "Sample 2",
          "Sample 4",
          "Sample 1",
          "Sample 13"
         ],
         "xaxis": "x",
         "y": [
          54395.758177077114,
          12060.4968295944,
          14034.216610916403,
          15523.958053635597,
          19245.2244066198
         ],
         "yaxis": "y"
        },
        {
         "alignmentgroup": "True",
         "hovertemplate": "Function=GO:0042274; P:ribosomal small subunit biogenesis; IEA:UniProtKB-UniRule.<br>Sample=%{x}<br>Abundance RPKs=%{y}<extra></extra>",
         "legendgroup": "GO:0042274; P:ribosomal small subunit biogenesis; IEA:UniProtKB-UniRule.",
         "marker": {
          "color": "#FF97FF"
         },
         "name": "GO:0042274; P:ribosomal small subunit biogenesis; IEA:UniProtKB-UniRule.",
         "offsetgroup": "GO:0042274; P:ribosomal small subunit biogenesis; IEA:UniProtKB-UniRule.",
         "orientation": "v",
         "showlegend": true,
         "textposition": "auto",
         "type": "bar",
         "x": [
          "Sample 101"
         ],
         "xaxis": "x",
         "y": [
          11597.610885727898
         ],
         "yaxis": "y"
        },
        {
         "alignmentgroup": "True",
         "hovertemplate": "Function=GO:0000287; F:magnesium ion binding; IEA:InterPro.<br>Sample=%{x}<br>Abundance RPKs=%{y}<extra></extra>",
         "legendgroup": "GO:0000287; F:magnesium ion binding; IEA:InterPro.",
         "marker": {
          "color": "#FECB52"
         },
         "name": "GO:0000287; F:magnesium ion binding; IEA:InterPro.",
         "offsetgroup": "GO:0000287; F:magnesium ion binding; IEA:InterPro.",
         "orientation": "v",
         "showlegend": true,
         "textposition": "auto",
         "type": "bar",
         "x": [
          "Sample 101"
         ],
         "xaxis": "x",
         "y": [
          25931.958875661203
         ],
         "yaxis": "y"
        },
        {
         "alignmentgroup": "True",
         "hovertemplate": "Function=GO:0003723; F:RNA binding; IEA:InterPro.<br>Sample=%{x}<br>Abundance RPKs=%{y}<extra></extra>",
         "legendgroup": "GO:0003723; F:RNA binding; IEA:InterPro.",
         "marker": {
          "color": "#636efa"
         },
         "name": "GO:0003723; F:RNA binding; IEA:InterPro.",
         "offsetgroup": "GO:0003723; F:RNA binding; IEA:InterPro.",
         "orientation": "v",
         "showlegend": true,
         "textposition": "auto",
         "type": "bar",
         "x": [
          "Sample 101"
         ],
         "xaxis": "x",
         "y": [
          20621.3090058804
         ],
         "yaxis": "y"
        },
        {
         "alignmentgroup": "True",
         "hovertemplate": "Function=GO:0006633; P:fatty acid biosynthetic process; IEA:UniProtKB-UniRule.<br>Sample=%{x}<br>Abundance RPKs=%{y}<extra></extra>",
         "legendgroup": "GO:0006633; P:fatty acid biosynthetic process; IEA:UniProtKB-UniRule.",
         "marker": {
          "color": "#EF553B"
         },
         "name": "GO:0006633; P:fatty acid biosynthetic process; IEA:UniProtKB-UniRule.",
         "offsetgroup": "GO:0006633; P:fatty acid biosynthetic process; IEA:UniProtKB-UniRule.",
         "orientation": "v",
         "showlegend": true,
         "textposition": "auto",
         "type": "bar",
         "x": [
          "Sample 101"
         ],
         "xaxis": "x",
         "y": [
          23214.007363969602
         ],
         "yaxis": "y"
        },
        {
         "alignmentgroup": "True",
         "hovertemplate": "Function=GO:0005524; F:ATP binding; IEA:InterPro.<br>Sample=%{x}<br>Abundance RPKs=%{y}<extra></extra>",
         "legendgroup": "GO:0005524; F:ATP binding; IEA:InterPro.",
         "marker": {
          "color": "#00cc96"
         },
         "name": "GO:0005524; F:ATP binding; IEA:InterPro.",
         "offsetgroup": "GO:0005524; F:ATP binding; IEA:InterPro.",
         "orientation": "v",
         "showlegend": true,
         "textposition": "auto",
         "type": "bar",
         "x": [
          "Sample 101"
         ],
         "xaxis": "x",
         "y": [
          10856.7391825416
         ],
         "yaxis": "y"
        },
        {
         "alignmentgroup": "True",
         "hovertemplate": "Function=GO:0019843; F:rRNA binding; IEA:UniProtKB-KW.<br>Sample=%{x}<br>Abundance RPKs=%{y}<extra></extra>",
         "legendgroup": "GO:0019843; F:rRNA binding; IEA:UniProtKB-KW.",
         "marker": {
          "color": "#ab63fa"
         },
         "name": "GO:0019843; F:rRNA binding; IEA:UniProtKB-KW.",
         "offsetgroup": "GO:0019843; F:rRNA binding; IEA:UniProtKB-KW.",
         "orientation": "v",
         "showlegend": true,
         "textposition": "auto",
         "type": "bar",
         "x": [
          "Sample 101"
         ],
         "xaxis": "x",
         "y": [
          11714.0132201199
         ],
         "yaxis": "y"
        },
        {
         "alignmentgroup": "True",
         "hovertemplate": "Function=GO:0016021; C:integral component of membrane; IEA:UniProtKB-KW.<br>Sample=%{x}<br>Abundance RPKs=%{y}<extra></extra>",
         "legendgroup": "GO:0016021; C:integral component of membrane; IEA:UniProtKB-KW.",
         "marker": {
          "color": "#FFA15A"
         },
         "name": "GO:0016021; C:integral component of membrane; IEA:UniProtKB-KW.",
         "offsetgroup": "GO:0016021; C:integral component of membrane; IEA:UniProtKB-KW.",
         "orientation": "v",
         "showlegend": true,
         "textposition": "auto",
         "type": "bar",
         "x": [
          "Sample 101",
          "Sample 14",
          "Sample 2",
          "Sample 4",
          "Sample 1",
          "Sample 13"
         ],
         "xaxis": "x",
         "y": [
          256605.38347323466,
          10917.295318609495,
          14013.305663371795,
          18603.0604997382,
          20356.122369875702,
          67733.35484026482
         ],
         "yaxis": "y"
        },
        {
         "alignmentgroup": "True",
         "hovertemplate": "Function=GO:0005506; F:iron ion binding; IEA:InterPro.<br>Sample=%{x}<br>Abundance RPKs=%{y}<extra></extra>",
         "legendgroup": "GO:0005506; F:iron ion binding; IEA:InterPro.",
         "marker": {
          "color": "#19d3f3"
         },
         "name": "GO:0005506; F:iron ion binding; IEA:InterPro.",
         "offsetgroup": "GO:0005506; F:iron ion binding; IEA:InterPro.",
         "orientation": "v",
         "showlegend": true,
         "textposition": "auto",
         "type": "bar",
         "x": [
          "Sample 101"
         ],
         "xaxis": "x",
         "y": [
          12667.0639447979
         ],
         "yaxis": "y"
        },
        {
         "alignmentgroup": "True",
         "hovertemplate": "Function=GO:0006189; P:'de novo' IMP biosynthetic process; IEA:UniProtKB-UniRule.<br>Sample=%{x}<br>Abundance RPKs=%{y}<extra></extra>",
         "legendgroup": "GO:0006189; P:'de novo' IMP biosynthetic process; IEA:UniProtKB-UniRule.",
         "marker": {
          "color": "#FF6692"
         },
         "name": "GO:0006189; P:'de novo' IMP biosynthetic process; IEA:UniProtKB-UniRule.",
         "offsetgroup": "GO:0006189; P:'de novo' IMP biosynthetic process; IEA:UniProtKB-UniRule.",
         "orientation": "v",
         "showlegend": true,
         "textposition": "auto",
         "type": "bar",
         "x": [
          "Sample 101"
         ],
         "xaxis": "x",
         "y": [
          15670.758052206098
         ],
         "yaxis": "y"
        },
        {
         "alignmentgroup": "True",
         "hovertemplate": "Function=GO:0009073; P:aromatic amino acid family biosynthetic process; IEA:UniProtKB-UniRule.<br>Sample=%{x}<br>Abundance RPKs=%{y}<extra></extra>",
         "legendgroup": "GO:0009073; P:aromatic amino acid family biosynthetic process; IEA:UniProtKB-UniRule.",
         "marker": {
          "color": "#B6E880"
         },
         "name": "GO:0009073; P:aromatic amino acid family biosynthetic process; IEA:UniProtKB-UniRule.",
         "offsetgroup": "GO:0009073; P:aromatic amino acid family biosynthetic process; IEA:UniProtKB-UniRule.",
         "orientation": "v",
         "showlegend": true,
         "textposition": "auto",
         "type": "bar",
         "x": [
          "Sample 101"
         ],
         "xaxis": "x",
         "y": [
          18719.86102833669
         ],
         "yaxis": "y"
        },
        {
         "alignmentgroup": "True",
         "hovertemplate": "Function=GO:0009423; P:chorismate biosynthetic process; IEA:UniProtKB-UniPathway.<br>Sample=%{x}<br>Abundance RPKs=%{y}<extra></extra>",
         "legendgroup": "GO:0009423; P:chorismate biosynthetic process; IEA:UniProtKB-UniPathway.",
         "marker": {
          "color": "#FF97FF"
         },
         "name": "GO:0009423; P:chorismate biosynthetic process; IEA:UniProtKB-UniPathway.",
         "offsetgroup": "GO:0009423; P:chorismate biosynthetic process; IEA:UniProtKB-UniPathway.",
         "orientation": "v",
         "showlegend": true,
         "textposition": "auto",
         "type": "bar",
         "x": [
          "Sample 101"
         ],
         "xaxis": "x",
         "y": [
          18995.16625668459
         ],
         "yaxis": "y"
        },
        {
         "alignmentgroup": "True",
         "hovertemplate": "Function=GO:0004222; F:metalloendopeptidase activity; IEA:InterPro.<br>Sample=%{x}<br>Abundance RPKs=%{y}<extra></extra>",
         "legendgroup": "GO:0004222; F:metalloendopeptidase activity; IEA:InterPro.",
         "marker": {
          "color": "#FECB52"
         },
         "name": "GO:0004222; F:metalloendopeptidase activity; IEA:InterPro.",
         "offsetgroup": "GO:0004222; F:metalloendopeptidase activity; IEA:InterPro.",
         "orientation": "v",
         "showlegend": true,
         "textposition": "auto",
         "type": "bar",
         "x": [
          "Sample 101"
         ],
         "xaxis": "x",
         "y": [
          11463.964824665103
         ],
         "yaxis": "y"
        },
        {
         "alignmentgroup": "True",
         "hovertemplate": "Function=GO:0006364; P:rRNA processing; IEA:UniProtKB-UniRule.<br>Sample=%{x}<br>Abundance RPKs=%{y}<extra></extra>",
         "legendgroup": "GO:0006364; P:rRNA processing; IEA:UniProtKB-UniRule.",
         "marker": {
          "color": "#636efa"
         },
         "name": "GO:0006364; P:rRNA processing; IEA:UniProtKB-UniRule.",
         "offsetgroup": "GO:0006364; P:rRNA processing; IEA:UniProtKB-UniRule.",
         "orientation": "v",
         "showlegend": true,
         "textposition": "auto",
         "type": "bar",
         "x": [
          "Sample 101"
         ],
         "xaxis": "x",
         "y": [
          11050.171264344102
         ],
         "yaxis": "y"
        },
        {
         "alignmentgroup": "True",
         "hovertemplate": "Function=GO:0016597; F:amino acid binding; IEA:InterPro.<br>Sample=%{x}<br>Abundance RPKs=%{y}<extra></extra>",
         "legendgroup": "GO:0016597; F:amino acid binding; IEA:InterPro.",
         "marker": {
          "color": "#EF553B"
         },
         "name": "GO:0016597; F:amino acid binding; IEA:InterPro.",
         "offsetgroup": "GO:0016597; F:amino acid binding; IEA:InterPro.",
         "orientation": "v",
         "showlegend": true,
         "textposition": "auto",
         "type": "bar",
         "x": [
          "Sample 101"
         ],
         "xaxis": "x",
         "y": [
          10587.448525762802
         ],
         "yaxis": "y"
        },
        {
         "alignmentgroup": "True",
         "hovertemplate": "Function=GO:0006207; P:'de novo' pyrimidine nucleobase biosynthetic process; IEA:InterPro.<br>Sample=%{x}<br>Abundance RPKs=%{y}<extra></extra>",
         "legendgroup": "GO:0006207; P:'de novo' pyrimidine nucleobase biosynthetic process; IEA:InterPro.",
         "marker": {
          "color": "#00cc96"
         },
         "name": "GO:0006207; P:'de novo' pyrimidine nucleobase biosynthetic process; IEA:InterPro.",
         "offsetgroup": "GO:0006207; P:'de novo' pyrimidine nucleobase biosynthetic process; IEA:InterPro.",
         "orientation": "v",
         "showlegend": true,
         "textposition": "auto",
         "type": "bar",
         "x": [
          "Sample 101"
         ],
         "xaxis": "x",
         "y": [
          13938.904883267896
         ],
         "yaxis": "y"
        },
        {
         "alignmentgroup": "True",
         "hovertemplate": "Function=GO:0044205; P:'de novo' UMP biosynthetic process; IEA:UniProtKB-UniPathway.<br>Sample=%{x}<br>Abundance RPKs=%{y}<extra></extra>",
         "legendgroup": "GO:0044205; P:'de novo' UMP biosynthetic process; IEA:UniProtKB-UniPathway.",
         "marker": {
          "color": "#ab63fa"
         },
         "name": "GO:0044205; P:'de novo' UMP biosynthetic process; IEA:UniProtKB-UniPathway.",
         "offsetgroup": "GO:0044205; P:'de novo' UMP biosynthetic process; IEA:UniProtKB-UniPathway.",
         "orientation": "v",
         "showlegend": true,
         "textposition": "auto",
         "type": "bar",
         "x": [
          "Sample 101"
         ],
         "xaxis": "x",
         "y": [
          20270.02367426699
         ],
         "yaxis": "y"
        },
        {
         "alignmentgroup": "True",
         "hovertemplate": "Function=GO:0000105; P:histidine biosynthetic process; IEA:UniProtKB-UniRule.<br>Sample=%{x}<br>Abundance RPKs=%{y}<extra></extra>",
         "legendgroup": "GO:0000105; P:histidine biosynthetic process; IEA:UniProtKB-UniRule.",
         "marker": {
          "color": "#FFA15A"
         },
         "name": "GO:0000105; P:histidine biosynthetic process; IEA:UniProtKB-UniRule.",
         "offsetgroup": "GO:0000105; P:histidine biosynthetic process; IEA:UniProtKB-UniRule.",
         "orientation": "v",
         "showlegend": true,
         "textposition": "auto",
         "type": "bar",
         "x": [
          "Sample 101",
          "Sample 14",
          "Sample 4",
          "Sample 1",
          "Sample 13"
         ],
         "xaxis": "x",
         "y": [
          17803.231651112797,
          11479.653691241505,
          12171.311443280603,
          10061.873766276602,
          10776.705289085901
         ],
         "yaxis": "y"
        },
        {
         "alignmentgroup": "True",
         "hovertemplate": "Function=GO:0005887; C:integral component of plasma membrane; IEA:UniProtKB-UniRule.<br>Sample=%{x}<br>Abundance RPKs=%{y}<extra></extra>",
         "legendgroup": "GO:0005887; C:integral component of plasma membrane; IEA:UniProtKB-UniRule.",
         "marker": {
          "color": "#19d3f3"
         },
         "name": "GO:0005887; C:integral component of plasma membrane; IEA:UniProtKB-UniRule.",
         "offsetgroup": "GO:0005887; C:integral component of plasma membrane; IEA:UniProtKB-UniRule.",
         "orientation": "v",
         "showlegend": true,
         "textposition": "auto",
         "type": "bar",
         "x": [
          "Sample 101",
          "Sample 13"
         ],
         "xaxis": "x",
         "y": [
          41521.18965147211,
          12984.524049278803
         ],
         "yaxis": "y"
        },
        {
         "alignmentgroup": "True",
         "hovertemplate": "Function=GO:0003677; F:DNA binding; IEA:UniProtKB-KW.<br>Sample=%{x}<br>Abundance RPKs=%{y}<extra></extra>",
         "legendgroup": "GO:0003677; F:DNA binding; IEA:UniProtKB-KW.",
         "marker": {
          "color": "#FF6692"
         },
         "name": "GO:0003677; F:DNA binding; IEA:UniProtKB-KW.",
         "offsetgroup": "GO:0003677; F:DNA binding; IEA:UniProtKB-KW.",
         "orientation": "v",
         "showlegend": true,
         "textposition": "auto",
         "type": "bar",
         "x": [
          "Sample 101",
          "Sample 13"
         ],
         "xaxis": "x",
         "y": [
          84257.3131684741,
          16199.495385048598
         ],
         "yaxis": "y"
        },
        {
         "alignmentgroup": "True",
         "hovertemplate": "Function=GO:0003677; F:DNA binding; IEA:InterPro.<br>Sample=%{x}<br>Abundance RPKs=%{y}<extra></extra>",
         "legendgroup": "GO:0003677; F:DNA binding; IEA:InterPro.",
         "marker": {
          "color": "#B6E880"
         },
         "name": "GO:0003677; F:DNA binding; IEA:InterPro.",
         "offsetgroup": "GO:0003677; F:DNA binding; IEA:InterPro.",
         "orientation": "v",
         "showlegend": true,
         "textposition": "auto",
         "type": "bar",
         "x": [
          "Sample 101"
         ],
         "xaxis": "x",
         "y": [
          10937.624297867296
         ],
         "yaxis": "y"
        },
        {
         "alignmentgroup": "True",
         "hovertemplate": "Function=GO:0006094; P:gluconeogenesis; IEA:UniProtKB-UniRule.<br>Sample=%{x}<br>Abundance RPKs=%{y}<extra></extra>",
         "legendgroup": "GO:0006094; P:gluconeogenesis; IEA:UniProtKB-UniRule.",
         "marker": {
          "color": "#FF97FF"
         },
         "name": "GO:0006094; P:gluconeogenesis; IEA:UniProtKB-UniRule.",
         "offsetgroup": "GO:0006094; P:gluconeogenesis; IEA:UniProtKB-UniRule.",
         "orientation": "v",
         "showlegend": true,
         "textposition": "auto",
         "type": "bar",
         "x": [
          "Sample 101",
          "Sample 4"
         ],
         "xaxis": "x",
         "y": [
          16877.3603710893,
          10774.461104253201
         ],
         "yaxis": "y"
        },
        {
         "alignmentgroup": "True",
         "hovertemplate": "Function=GO:0007049; P:cell cycle; IEA:UniProtKB-KW.<br>Sample=%{x}<br>Abundance RPKs=%{y}<extra></extra>",
         "legendgroup": "GO:0007049; P:cell cycle; IEA:UniProtKB-KW.",
         "marker": {
          "color": "#FECB52"
         },
         "name": "GO:0007049; P:cell cycle; IEA:UniProtKB-KW.",
         "offsetgroup": "GO:0007049; P:cell cycle; IEA:UniProtKB-KW.",
         "orientation": "v",
         "showlegend": true,
         "textposition": "auto",
         "type": "bar",
         "x": [
          "Sample 101",
          "Sample 2",
          "Sample 4",
          "Sample 1",
          "Sample 13"
         ],
         "xaxis": "x",
         "y": [
          45721.9190008626,
          10936.118624750103,
          10774.351417012402,
          12662.8755516549,
          15089.952209317598
         ],
         "yaxis": "y"
        },
        {
         "alignmentgroup": "True",
         "hovertemplate": "Function=GO:0005506; F:iron ion binding; IEA:UniProtKB-UniRule.<br>Sample=%{x}<br>Abundance RPKs=%{y}<extra></extra>",
         "legendgroup": "GO:0005506; F:iron ion binding; IEA:UniProtKB-UniRule.",
         "marker": {
          "color": "#636efa"
         },
         "name": "GO:0005506; F:iron ion binding; IEA:UniProtKB-UniRule.",
         "offsetgroup": "GO:0005506; F:iron ion binding; IEA:UniProtKB-UniRule.",
         "orientation": "v",
         "showlegend": true,
         "textposition": "auto",
         "type": "bar",
         "x": [
          "Sample 101"
         ],
         "xaxis": "x",
         "y": [
          27552.261780897104
         ],
         "yaxis": "y"
        },
        {
         "alignmentgroup": "True",
         "hovertemplate": "Function=GO:0050661; F:NADP binding; IEA:InterPro.<br>Sample=%{x}<br>Abundance RPKs=%{y}<extra></extra>",
         "legendgroup": "GO:0050661; F:NADP binding; IEA:InterPro.",
         "marker": {
          "color": "#EF553B"
         },
         "name": "GO:0050661; F:NADP binding; IEA:InterPro.",
         "offsetgroup": "GO:0050661; F:NADP binding; IEA:InterPro.",
         "orientation": "v",
         "showlegend": true,
         "textposition": "auto",
         "type": "bar",
         "x": [
          "Sample 101"
         ],
         "xaxis": "x",
         "y": [
          15933.9817459581
         ],
         "yaxis": "y"
        },
        {
         "alignmentgroup": "True",
         "hovertemplate": "Function=GO:0003723; F:RNA binding; IEA:UniProtKB-KW.<br>Sample=%{x}<br>Abundance RPKs=%{y}<extra></extra>",
         "legendgroup": "GO:0003723; F:RNA binding; IEA:UniProtKB-KW.",
         "marker": {
          "color": "#00cc96"
         },
         "name": "GO:0003723; F:RNA binding; IEA:UniProtKB-KW.",
         "offsetgroup": "GO:0003723; F:RNA binding; IEA:UniProtKB-KW.",
         "orientation": "v",
         "showlegend": true,
         "textposition": "auto",
         "type": "bar",
         "x": [
          "Sample 101"
         ],
         "xaxis": "x",
         "y": [
          20209.6363600556
         ],
         "yaxis": "y"
        },
        {
         "alignmentgroup": "True",
         "hovertemplate": "Function=GO:0006526; P:arginine biosynthetic process; IEA:UniProtKB-UniRule.<br>Sample=%{x}<br>Abundance RPKs=%{y}<extra></extra>",
         "legendgroup": "GO:0006526; P:arginine biosynthetic process; IEA:UniProtKB-UniRule.",
         "marker": {
          "color": "#ab63fa"
         },
         "name": "GO:0006526; P:arginine biosynthetic process; IEA:UniProtKB-UniRule.",
         "offsetgroup": "GO:0006526; P:arginine biosynthetic process; IEA:UniProtKB-UniRule.",
         "orientation": "v",
         "showlegend": true,
         "textposition": "auto",
         "type": "bar",
         "x": [
          "Sample 101"
         ],
         "xaxis": "x",
         "y": [
          17570.9870590875
         ],
         "yaxis": "y"
        },
        {
         "alignmentgroup": "True",
         "hovertemplate": "Function=GO:0003700; F:DNA-binding transcription factor activity; IEA:UniProtKB-UniRule.<br>Sample=%{x}<br>Abundance RPKs=%{y}<extra></extra>",
         "legendgroup": "GO:0003700; F:DNA-binding transcription factor activity; IEA:UniProtKB-UniRule.",
         "marker": {
          "color": "#FFA15A"
         },
         "name": "GO:0003700; F:DNA-binding transcription factor activity; IEA:UniProtKB-UniRule.",
         "offsetgroup": "GO:0003700; F:DNA-binding transcription factor activity; IEA:UniProtKB-UniRule.",
         "orientation": "v",
         "showlegend": true,
         "textposition": "auto",
         "type": "bar",
         "x": [
          "Sample 101"
         ],
         "xaxis": "x",
         "y": [
          25878.42579259491
         ],
         "yaxis": "y"
        },
        {
         "alignmentgroup": "True",
         "hovertemplate": "Function=GO:0051301; P:cell division; IEA:UniProtKB-KW.<br>Sample=%{x}<br>Abundance RPKs=%{y}<extra></extra>",
         "legendgroup": "GO:0051301; P:cell division; IEA:UniProtKB-KW.",
         "marker": {
          "color": "#19d3f3"
         },
         "name": "GO:0051301; P:cell division; IEA:UniProtKB-KW.",
         "offsetgroup": "GO:0051301; P:cell division; IEA:UniProtKB-KW.",
         "orientation": "v",
         "showlegend": true,
         "textposition": "auto",
         "type": "bar",
         "x": [
          "Sample 101",
          "Sample 2",
          "Sample 4",
          "Sample 1",
          "Sample 13"
         ],
         "xaxis": "x",
         "y": [
          42315.04497425561,
          10411.567725349903,
          10259.522473688901,
          12345.694879093704,
          14421.761875736898
         ],
         "yaxis": "y"
        },
        {
         "alignmentgroup": "True",
         "hovertemplate": "Function=GO:0008033; P:tRNA processing; IEA:UniProtKB-UniRule.<br>Sample=%{x}<br>Abundance RPKs=%{y}<extra></extra>",
         "legendgroup": "GO:0008033; P:tRNA processing; IEA:UniProtKB-UniRule.",
         "marker": {
          "color": "#FF6692"
         },
         "name": "GO:0008033; P:tRNA processing; IEA:UniProtKB-UniRule.",
         "offsetgroup": "GO:0008033; P:tRNA processing; IEA:UniProtKB-UniRule.",
         "orientation": "v",
         "showlegend": true,
         "textposition": "auto",
         "type": "bar",
         "x": [
          "Sample 101"
         ],
         "xaxis": "x",
         "y": [
          11362.7018400215
         ],
         "yaxis": "y"
        },
        {
         "alignmentgroup": "True",
         "hovertemplate": "Function=GO:0006400; P:tRNA modification; IEA:UniProtKB-UniRule.<br>Sample=%{x}<br>Abundance RPKs=%{y}<extra></extra>",
         "legendgroup": "GO:0006400; P:tRNA modification; IEA:UniProtKB-UniRule.",
         "marker": {
          "color": "#B6E880"
         },
         "name": "GO:0006400; P:tRNA modification; IEA:UniProtKB-UniRule.",
         "offsetgroup": "GO:0006400; P:tRNA modification; IEA:UniProtKB-UniRule.",
         "orientation": "v",
         "showlegend": true,
         "textposition": "auto",
         "type": "bar",
         "x": [
          "Sample 101"
         ],
         "xaxis": "x",
         "y": [
          12979.440451207402
         ],
         "yaxis": "y"
        },
        {
         "alignmentgroup": "True",
         "hovertemplate": "Function=GO:0005975; P:carbohydrate metabolic process; IEA:InterPro.<br>Sample=%{x}<br>Abundance RPKs=%{y}<extra></extra>",
         "legendgroup": "GO:0005975; P:carbohydrate metabolic process; IEA:InterPro.",
         "marker": {
          "color": "#FF97FF"
         },
         "name": "GO:0005975; P:carbohydrate metabolic process; IEA:InterPro.",
         "offsetgroup": "GO:0005975; P:carbohydrate metabolic process; IEA:InterPro.",
         "orientation": "v",
         "showlegend": true,
         "textposition": "auto",
         "type": "bar",
         "x": [
          "Sample 101"
         ],
         "xaxis": "x",
         "y": [
          25108.095091587198
         ],
         "yaxis": "y"
        },
        {
         "alignmentgroup": "True",
         "hovertemplate": "Function=GO:0030170; F:pyridoxal phosphate binding; IEA:InterPro.<br>Sample=%{x}<br>Abundance RPKs=%{y}<extra></extra>",
         "legendgroup": "GO:0030170; F:pyridoxal phosphate binding; IEA:InterPro.",
         "marker": {
          "color": "#FECB52"
         },
         "name": "GO:0030170; F:pyridoxal phosphate binding; IEA:InterPro.",
         "offsetgroup": "GO:0030170; F:pyridoxal phosphate binding; IEA:InterPro.",
         "orientation": "v",
         "showlegend": true,
         "textposition": "auto",
         "type": "bar",
         "x": [
          "Sample 101"
         ],
         "xaxis": "x",
         "y": [
          14647.1149863721
         ],
         "yaxis": "y"
        },
        {
         "alignmentgroup": "True",
         "hovertemplate": "Function=GO:0009229; P:thiamine diphosphate biosynthetic process; IEA:UniProtKB-UniPathway.<br>Sample=%{x}<br>Abundance RPKs=%{y}<extra></extra>",
         "legendgroup": "GO:0009229; P:thiamine diphosphate biosynthetic process; IEA:UniProtKB-UniPathway.",
         "marker": {
          "color": "#636efa"
         },
         "name": "GO:0009229; P:thiamine diphosphate biosynthetic process; IEA:UniProtKB-UniPathway.",
         "offsetgroup": "GO:0009229; P:thiamine diphosphate biosynthetic process; IEA:UniProtKB-UniPathway.",
         "orientation": "v",
         "showlegend": true,
         "textposition": "auto",
         "type": "bar",
         "x": [
          "Sample 101"
         ],
         "xaxis": "x",
         "y": [
          10922.053483444406
         ],
         "yaxis": "y"
        },
        {
         "alignmentgroup": "True",
         "hovertemplate": "Function=GO:0000166; F:nucleotide binding; IEA:UniProtKB-KW.<br>Sample=%{x}<br>Abundance RPKs=%{y}<extra></extra>",
         "legendgroup": "GO:0000166; F:nucleotide binding; IEA:UniProtKB-KW.",
         "marker": {
          "color": "#EF553B"
         },
         "name": "GO:0000166; F:nucleotide binding; IEA:UniProtKB-KW.",
         "offsetgroup": "GO:0000166; F:nucleotide binding; IEA:UniProtKB-KW.",
         "orientation": "v",
         "showlegend": true,
         "textposition": "auto",
         "type": "bar",
         "x": [
          "Sample 101"
         ],
         "xaxis": "x",
         "y": [
          21271.85613044359
         ],
         "yaxis": "y"
        },
        {
         "alignmentgroup": "True",
         "hovertemplate": "Function=GO:0016114; P:terpenoid biosynthetic process; IEA:UniProtKB-UniRule.<br>Sample=%{x}<br>Abundance RPKs=%{y}<extra></extra>",
         "legendgroup": "GO:0016114; P:terpenoid biosynthetic process; IEA:UniProtKB-UniRule.",
         "marker": {
          "color": "#00cc96"
         },
         "name": "GO:0016114; P:terpenoid biosynthetic process; IEA:UniProtKB-UniRule.",
         "offsetgroup": "GO:0016114; P:terpenoid biosynthetic process; IEA:UniProtKB-UniRule.",
         "orientation": "v",
         "showlegend": true,
         "textposition": "auto",
         "type": "bar",
         "x": [
          "Sample 101",
          "Sample 1"
         ],
         "xaxis": "x",
         "y": [
          17272.129200336098,
          10567.9538950538
         ],
         "yaxis": "y"
        },
        {
         "alignmentgroup": "True",
         "hovertemplate": "Function=GO:0016887; F:ATPase activity; IEA:InterPro.<br>Sample=%{x}<br>Abundance RPKs=%{y}<extra></extra>",
         "legendgroup": "GO:0016887; F:ATPase activity; IEA:InterPro.",
         "marker": {
          "color": "#ab63fa"
         },
         "name": "GO:0016887; F:ATPase activity; IEA:InterPro.",
         "offsetgroup": "GO:0016887; F:ATPase activity; IEA:InterPro.",
         "orientation": "v",
         "showlegend": true,
         "textposition": "auto",
         "type": "bar",
         "x": [
          "Sample 101",
          "Sample 13"
         ],
         "xaxis": "x",
         "y": [
          46461.86390268811,
          15058.101963353103
         ],
         "yaxis": "y"
        },
        {
         "alignmentgroup": "True",
         "hovertemplate": "Function=GO:0010181; F:FMN binding; IEA:InterPro.<br>Sample=%{x}<br>Abundance RPKs=%{y}<extra></extra>",
         "legendgroup": "GO:0010181; F:FMN binding; IEA:InterPro.",
         "marker": {
          "color": "#FFA15A"
         },
         "name": "GO:0010181; F:FMN binding; IEA:InterPro.",
         "offsetgroup": "GO:0010181; F:FMN binding; IEA:InterPro.",
         "orientation": "v",
         "showlegend": true,
         "textposition": "auto",
         "type": "bar",
         "x": [
          "Sample 101"
         ],
         "xaxis": "x",
         "y": [
          11449.708333043802
         ],
         "yaxis": "y"
        },
        {
         "alignmentgroup": "True",
         "hovertemplate": "Function=GO:0019740; P:nitrogen utilization; IEA:UniProtKB-UniRule.<br>Sample=%{x}<br>Abundance RPKs=%{y}<extra></extra>",
         "legendgroup": "GO:0019740; P:nitrogen utilization; IEA:UniProtKB-UniRule.",
         "marker": {
          "color": "#19d3f3"
         },
         "name": "GO:0019740; P:nitrogen utilization; IEA:UniProtKB-UniRule.",
         "offsetgroup": "GO:0019740; P:nitrogen utilization; IEA:UniProtKB-UniRule.",
         "orientation": "v",
         "showlegend": true,
         "textposition": "auto",
         "type": "bar",
         "x": [
          "Sample 101"
         ],
         "xaxis": "x",
         "y": [
          10156.605097236801
         ],
         "yaxis": "y"
        },
        {
         "alignmentgroup": "True",
         "hovertemplate": "Function=GO:0006212; P:uracil catabolic process; IEA:UniProtKB-UniRule.<br>Sample=%{x}<br>Abundance RPKs=%{y}<extra></extra>",
         "legendgroup": "GO:0006212; P:uracil catabolic process; IEA:UniProtKB-UniRule.",
         "marker": {
          "color": "#FF6692"
         },
         "name": "GO:0006212; P:uracil catabolic process; IEA:UniProtKB-UniRule.",
         "offsetgroup": "GO:0006212; P:uracil catabolic process; IEA:UniProtKB-UniRule.",
         "orientation": "v",
         "showlegend": true,
         "textposition": "auto",
         "type": "bar",
         "x": [
          "Sample 101"
         ],
         "xaxis": "x",
         "y": [
          10156.605097236801
         ],
         "yaxis": "y"
        },
        {
         "alignmentgroup": "True",
         "hovertemplate": "Function=GO:0008033; P:tRNA processing; IEA:UniProtKB-KW.<br>Sample=%{x}<br>Abundance RPKs=%{y}<extra></extra>",
         "legendgroup": "GO:0008033; P:tRNA processing; IEA:UniProtKB-KW.",
         "marker": {
          "color": "#B6E880"
         },
         "name": "GO:0008033; P:tRNA processing; IEA:UniProtKB-KW.",
         "offsetgroup": "GO:0008033; P:tRNA processing; IEA:UniProtKB-KW.",
         "orientation": "v",
         "showlegend": true,
         "textposition": "auto",
         "type": "bar",
         "x": [
          "Sample 101"
         ],
         "xaxis": "x",
         "y": [
          12027.6415153354
         ],
         "yaxis": "y"
        },
        {
         "alignmentgroup": "True",
         "hovertemplate": "Function=GO:0071949; F:FAD binding; IEA:InterPro.<br>Sample=%{x}<br>Abundance RPKs=%{y}<extra></extra>",
         "legendgroup": "GO:0071949; F:FAD binding; IEA:InterPro.",
         "marker": {
          "color": "#FF97FF"
         },
         "name": "GO:0071949; F:FAD binding; IEA:InterPro.",
         "offsetgroup": "GO:0071949; F:FAD binding; IEA:InterPro.",
         "orientation": "v",
         "showlegend": true,
         "textposition": "auto",
         "type": "bar",
         "x": [
          "Sample 101"
         ],
         "xaxis": "x",
         "y": [
          11857.347252366799
         ],
         "yaxis": "y"
        },
        {
         "alignmentgroup": "True",
         "hovertemplate": "Function=GO:0008616; P:queuosine biosynthetic process; IEA:UniProtKB-UniRule.<br>Sample=%{x}<br>Abundance RPKs=%{y}<extra></extra>",
         "legendgroup": "GO:0008616; P:queuosine biosynthetic process; IEA:UniProtKB-UniRule.",
         "marker": {
          "color": "#FECB52"
         },
         "name": "GO:0008616; P:queuosine biosynthetic process; IEA:UniProtKB-UniRule.",
         "offsetgroup": "GO:0008616; P:queuosine biosynthetic process; IEA:UniProtKB-UniRule.",
         "orientation": "v",
         "showlegend": true,
         "textposition": "auto",
         "type": "bar",
         "x": [
          "Sample 101"
         ],
         "xaxis": "x",
         "y": [
          11194.5844387984
         ],
         "yaxis": "y"
        },
        {
         "alignmentgroup": "True",
         "hovertemplate": "Function=GO:0050662; F:coenzyme binding; IEA:InterPro.<br>Sample=%{x}<br>Abundance RPKs=%{y}<extra></extra>",
         "legendgroup": "GO:0050662; F:coenzyme binding; IEA:InterPro.",
         "marker": {
          "color": "#636efa"
         },
         "name": "GO:0050662; F:coenzyme binding; IEA:InterPro.",
         "offsetgroup": "GO:0050662; F:coenzyme binding; IEA:InterPro.",
         "orientation": "v",
         "showlegend": true,
         "textposition": "auto",
         "type": "bar",
         "x": [
          "Sample 101"
         ],
         "xaxis": "x",
         "y": [
          10166.780189802
         ],
         "yaxis": "y"
        },
        {
         "alignmentgroup": "True",
         "hovertemplate": "Function=GO:0006865; P:amino acid transport; IEA:UniProtKB-KW.<br>Sample=%{x}<br>Abundance RPKs=%{y}<extra></extra>",
         "legendgroup": "GO:0006865; P:amino acid transport; IEA:UniProtKB-KW.",
         "marker": {
          "color": "#EF553B"
         },
         "name": "GO:0006865; P:amino acid transport; IEA:UniProtKB-KW.",
         "offsetgroup": "GO:0006865; P:amino acid transport; IEA:UniProtKB-KW.",
         "orientation": "v",
         "showlegend": true,
         "textposition": "auto",
         "type": "bar",
         "x": [
          "Sample 101"
         ],
         "xaxis": "x",
         "y": [
          14692.770436316201
         ],
         "yaxis": "y"
        },
        {
         "alignmentgroup": "True",
         "hovertemplate": "Function=GO:0016301; F:kinase activity; IEA:UniProtKB-KW.<br>Sample=%{x}<br>Abundance RPKs=%{y}<extra></extra>",
         "legendgroup": "GO:0016301; F:kinase activity; IEA:UniProtKB-KW.",
         "marker": {
          "color": "#00cc96"
         },
         "name": "GO:0016301; F:kinase activity; IEA:UniProtKB-KW.",
         "offsetgroup": "GO:0016301; F:kinase activity; IEA:UniProtKB-KW.",
         "orientation": "v",
         "showlegend": true,
         "textposition": "auto",
         "type": "bar",
         "x": [
          "Sample 101"
         ],
         "xaxis": "x",
         "y": [
          16741.9117873213
         ],
         "yaxis": "y"
        },
        {
         "alignmentgroup": "True",
         "hovertemplate": "Function=GO:0030170; F:pyridoxal phosphate binding; IEA:UniProtKB-UniRule.<br>Sample=%{x}<br>Abundance RPKs=%{y}<extra></extra>",
         "legendgroup": "GO:0030170; F:pyridoxal phosphate binding; IEA:UniProtKB-UniRule.",
         "marker": {
          "color": "#ab63fa"
         },
         "name": "GO:0030170; F:pyridoxal phosphate binding; IEA:UniProtKB-UniRule.",
         "offsetgroup": "GO:0030170; F:pyridoxal phosphate binding; IEA:UniProtKB-UniRule.",
         "orientation": "v",
         "showlegend": true,
         "textposition": "auto",
         "type": "bar",
         "x": [
          "Sample 101"
         ],
         "xaxis": "x",
         "y": [
          15482.4872258719
         ],
         "yaxis": "y"
        },
        {
         "alignmentgroup": "True",
         "hovertemplate": "Function=GO:0005975; P:carbohydrate metabolic process; IEA:UniProtKB-KW.<br>Sample=%{x}<br>Abundance RPKs=%{y}<extra></extra>",
         "legendgroup": "GO:0005975; P:carbohydrate metabolic process; IEA:UniProtKB-KW.",
         "marker": {
          "color": "#FFA15A"
         },
         "name": "GO:0005975; P:carbohydrate metabolic process; IEA:UniProtKB-KW.",
         "offsetgroup": "GO:0005975; P:carbohydrate metabolic process; IEA:UniProtKB-KW.",
         "orientation": "v",
         "showlegend": true,
         "textposition": "auto",
         "type": "bar",
         "x": [
          "Sample 101"
         ],
         "xaxis": "x",
         "y": [
          14658.2175023928
         ],
         "yaxis": "y"
        },
        {
         "alignmentgroup": "True",
         "hovertemplate": "Function=GO:0051287; F:NAD binding; IEA:InterPro.<br>Sample=%{x}<br>Abundance RPKs=%{y}<extra></extra>",
         "legendgroup": "GO:0051287; F:NAD binding; IEA:InterPro.",
         "marker": {
          "color": "#19d3f3"
         },
         "name": "GO:0051287; F:NAD binding; IEA:InterPro.",
         "offsetgroup": "GO:0051287; F:NAD binding; IEA:InterPro.",
         "orientation": "v",
         "showlegend": true,
         "textposition": "auto",
         "type": "bar",
         "x": [
          "Sample 101",
          "Sample 13"
         ],
         "xaxis": "x",
         "y": [
          31648.196666341304,
          12703.866052869304
         ],
         "yaxis": "y"
        },
        {
         "alignmentgroup": "True",
         "hovertemplate": "Function=GO:0005975; P:carbohydrate metabolic process; IEA:UniProtKB-UniRule.<br>Sample=%{x}<br>Abundance RPKs=%{y}<extra></extra>",
         "legendgroup": "GO:0005975; P:carbohydrate metabolic process; IEA:UniProtKB-UniRule.",
         "marker": {
          "color": "#FF6692"
         },
         "name": "GO:0005975; P:carbohydrate metabolic process; IEA:UniProtKB-UniRule.",
         "offsetgroup": "GO:0005975; P:carbohydrate metabolic process; IEA:UniProtKB-UniRule.",
         "orientation": "v",
         "showlegend": true,
         "textposition": "auto",
         "type": "bar",
         "x": [
          "Sample 101"
         ],
         "xaxis": "x",
         "y": [
          14535.470870680296
         ],
         "yaxis": "y"
        },
        {
         "alignmentgroup": "True",
         "hovertemplate": "Function=GO:0019262; P:N-acetylneuraminate catabolic process; IEA:UniProtKB-UniPathway.<br>Sample=%{x}<br>Abundance RPKs=%{y}<extra></extra>",
         "legendgroup": "GO:0019262; P:N-acetylneuraminate catabolic process; IEA:UniProtKB-UniPathway.",
         "marker": {
          "color": "#B6E880"
         },
         "name": "GO:0019262; P:N-acetylneuraminate catabolic process; IEA:UniProtKB-UniPathway.",
         "offsetgroup": "GO:0019262; P:N-acetylneuraminate catabolic process; IEA:UniProtKB-UniPathway.",
         "orientation": "v",
         "showlegend": true,
         "textposition": "auto",
         "type": "bar",
         "x": [
          "Sample 101"
         ],
         "xaxis": "x",
         "y": [
          13197.7088827464
         ],
         "yaxis": "y"
        },
        {
         "alignmentgroup": "True",
         "hovertemplate": "Function=GO:0035999; P:tetrahydrofolate interconversion; IEA:UniProtKB-UniPathway.<br>Sample=%{x}<br>Abundance RPKs=%{y}<extra></extra>",
         "legendgroup": "GO:0035999; P:tetrahydrofolate interconversion; IEA:UniProtKB-UniPathway.",
         "marker": {
          "color": "#FF97FF"
         },
         "name": "GO:0035999; P:tetrahydrofolate interconversion; IEA:UniProtKB-UniPathway.",
         "offsetgroup": "GO:0035999; P:tetrahydrofolate interconversion; IEA:UniProtKB-UniPathway.",
         "orientation": "v",
         "showlegend": true,
         "textposition": "auto",
         "type": "bar",
         "x": [
          "Sample 101"
         ],
         "xaxis": "x",
         "y": [
          10896.660594245199
         ],
         "yaxis": "y"
        },
        {
         "alignmentgroup": "True",
         "hovertemplate": "Function=GO:0030145; F:manganese ion binding; IEA:UniProtKB-UniRule.<br>Sample=%{x}<br>Abundance RPKs=%{y}<extra></extra>",
         "legendgroup": "GO:0030145; F:manganese ion binding; IEA:UniProtKB-UniRule.",
         "marker": {
          "color": "#FECB52"
         },
         "name": "GO:0030145; F:manganese ion binding; IEA:UniProtKB-UniRule.",
         "offsetgroup": "GO:0030145; F:manganese ion binding; IEA:UniProtKB-UniRule.",
         "orientation": "v",
         "showlegend": true,
         "textposition": "auto",
         "type": "bar",
         "x": [
          "Sample 101",
          "Sample 4"
         ],
         "xaxis": "x",
         "y": [
          30300.890131453198,
          10138.702608921298
         ],
         "yaxis": "y"
        },
        {
         "alignmentgroup": "True",
         "hovertemplate": "Function=GO:0006541; P:glutamine metabolic process; IEA:UniProtKB-KW.<br>Sample=%{x}<br>Abundance RPKs=%{y}<extra></extra>",
         "legendgroup": "GO:0006541; P:glutamine metabolic process; IEA:UniProtKB-KW.",
         "marker": {
          "color": "#636efa"
         },
         "name": "GO:0006541; P:glutamine metabolic process; IEA:UniProtKB-KW.",
         "offsetgroup": "GO:0006541; P:glutamine metabolic process; IEA:UniProtKB-KW.",
         "orientation": "v",
         "showlegend": true,
         "textposition": "auto",
         "type": "bar",
         "x": [
          "Sample 101"
         ],
         "xaxis": "x",
         "y": [
          13565.170029627894
         ],
         "yaxis": "y"
        },
        {
         "alignmentgroup": "True",
         "hovertemplate": "Function=GO:0000103; P:sulfate assimilation; IEA:UniProtKB-UniRule.<br>Sample=%{x}<br>Abundance RPKs=%{y}<extra></extra>",
         "legendgroup": "GO:0000103; P:sulfate assimilation; IEA:UniProtKB-UniRule.",
         "marker": {
          "color": "#EF553B"
         },
         "name": "GO:0000103; P:sulfate assimilation; IEA:UniProtKB-UniRule.",
         "offsetgroup": "GO:0000103; P:sulfate assimilation; IEA:UniProtKB-UniRule.",
         "orientation": "v",
         "showlegend": true,
         "textposition": "auto",
         "type": "bar",
         "x": [
          "Sample 101"
         ],
         "xaxis": "x",
         "y": [
          11278.268040656998
         ],
         "yaxis": "y"
        },
        {
         "alignmentgroup": "True",
         "hovertemplate": "Function=GO:0009245; P:lipid A biosynthetic process; IEA:UniProtKB-UniRule.<br>Sample=%{x}<br>Abundance RPKs=%{y}<extra></extra>",
         "legendgroup": "GO:0009245; P:lipid A biosynthetic process; IEA:UniProtKB-UniRule.",
         "marker": {
          "color": "#00cc96"
         },
         "name": "GO:0009245; P:lipid A biosynthetic process; IEA:UniProtKB-UniRule.",
         "offsetgroup": "GO:0009245; P:lipid A biosynthetic process; IEA:UniProtKB-UniRule.",
         "orientation": "v",
         "showlegend": true,
         "textposition": "auto",
         "type": "bar",
         "x": [
          "Sample 101"
         ],
         "xaxis": "x",
         "y": [
          24838.634473012004
         ],
         "yaxis": "y"
        },
        {
         "alignmentgroup": "True",
         "hovertemplate": "Function=GO:0009117; P:nucleotide metabolic process; IEA:UniProtKB-KW.<br>Sample=%{x}<br>Abundance RPKs=%{y}<extra></extra>",
         "legendgroup": "GO:0009117; P:nucleotide metabolic process; IEA:UniProtKB-KW.",
         "marker": {
          "color": "#ab63fa"
         },
         "name": "GO:0009117; P:nucleotide metabolic process; IEA:UniProtKB-KW.",
         "offsetgroup": "GO:0009117; P:nucleotide metabolic process; IEA:UniProtKB-KW.",
         "orientation": "v",
         "showlegend": true,
         "textposition": "auto",
         "type": "bar",
         "x": [
          "Sample 101"
         ],
         "xaxis": "x",
         "y": [
          11379.198726387298
         ],
         "yaxis": "y"
        },
        {
         "alignmentgroup": "True",
         "hovertemplate": "Function=GO:0006813; P:potassium ion transport; IEA:InterPro.<br>Sample=%{x}<br>Abundance RPKs=%{y}<extra></extra>",
         "legendgroup": "GO:0006813; P:potassium ion transport; IEA:InterPro.",
         "marker": {
          "color": "#FFA15A"
         },
         "name": "GO:0006813; P:potassium ion transport; IEA:InterPro.",
         "offsetgroup": "GO:0006813; P:potassium ion transport; IEA:InterPro.",
         "orientation": "v",
         "showlegend": true,
         "textposition": "auto",
         "type": "bar",
         "x": [
          "Sample 101"
         ],
         "xaxis": "x",
         "y": [
          10126.2805517894
         ],
         "yaxis": "y"
        },
        {
         "alignmentgroup": "True",
         "hovertemplate": "Function=GO:0006281; P:DNA repair; IEA:UniProtKB-KW.<br>Sample=%{x}<br>Abundance RPKs=%{y}<extra></extra>",
         "legendgroup": "GO:0006281; P:DNA repair; IEA:UniProtKB-KW.",
         "marker": {
          "color": "#19d3f3"
         },
         "name": "GO:0006281; P:DNA repair; IEA:UniProtKB-KW.",
         "offsetgroup": "GO:0006281; P:DNA repair; IEA:UniProtKB-KW.",
         "orientation": "v",
         "showlegend": true,
         "textposition": "auto",
         "type": "bar",
         "x": [
          "Sample 101"
         ],
         "xaxis": "x",
         "y": [
          14507.130440841598
         ],
         "yaxis": "y"
        },
        {
         "alignmentgroup": "True",
         "hovertemplate": "Function=GO:0042597; C:periplasmic space; IEA:UniProtKB-SubCell.<br>Sample=%{x}<br>Abundance RPKs=%{y}<extra></extra>",
         "legendgroup": "GO:0042597; C:periplasmic space; IEA:UniProtKB-SubCell.",
         "marker": {
          "color": "#FF6692"
         },
         "name": "GO:0042597; C:periplasmic space; IEA:UniProtKB-SubCell.",
         "offsetgroup": "GO:0042597; C:periplasmic space; IEA:UniProtKB-SubCell.",
         "orientation": "v",
         "showlegend": true,
         "textposition": "auto",
         "type": "bar",
         "x": [
          "Sample 101"
         ],
         "xaxis": "x",
         "y": [
          34859.9539868415
         ],
         "yaxis": "y"
        },
        {
         "alignmentgroup": "True",
         "hovertemplate": "Function=GO:0006099; P:tricarboxylic acid cycle; IEA:UniProtKB-UniRule.<br>Sample=%{x}<br>Abundance RPKs=%{y}<extra></extra>",
         "legendgroup": "GO:0006099; P:tricarboxylic acid cycle; IEA:UniProtKB-UniRule.",
         "marker": {
          "color": "#B6E880"
         },
         "name": "GO:0006099; P:tricarboxylic acid cycle; IEA:UniProtKB-UniRule.",
         "offsetgroup": "GO:0006099; P:tricarboxylic acid cycle; IEA:UniProtKB-UniRule.",
         "orientation": "v",
         "showlegend": true,
         "textposition": "auto",
         "type": "bar",
         "x": [
          "Sample 101"
         ],
         "xaxis": "x",
         "y": [
          11680.9873846819
         ],
         "yaxis": "y"
        },
        {
         "alignmentgroup": "True",
         "hovertemplate": "Function=GO:0032259; P:methylation; IEA:UniProtKB-KW.<br>Sample=%{x}<br>Abundance RPKs=%{y}<extra></extra>",
         "legendgroup": "GO:0032259; P:methylation; IEA:UniProtKB-KW.",
         "marker": {
          "color": "#FF97FF"
         },
         "name": "GO:0032259; P:methylation; IEA:UniProtKB-KW.",
         "offsetgroup": "GO:0032259; P:methylation; IEA:UniProtKB-KW.",
         "orientation": "v",
         "showlegend": true,
         "textposition": "auto",
         "type": "bar",
         "x": [
          "Sample 101"
         ],
         "xaxis": "x",
         "y": [
          16108.297949422802
         ],
         "yaxis": "y"
        },
        {
         "alignmentgroup": "True",
         "hovertemplate": "Function=GO:0005737; C:cytoplasm; IEA:UniProtKB-UniRule.<br>Sample=%{x}<br>Abundance RPKs=%{y}<extra></extra>",
         "legendgroup": "GO:0005737; C:cytoplasm; IEA:UniProtKB-UniRule.",
         "marker": {
          "color": "#FECB52"
         },
         "name": "GO:0005737; C:cytoplasm; IEA:UniProtKB-UniRule.",
         "offsetgroup": "GO:0005737; C:cytoplasm; IEA:UniProtKB-UniRule.",
         "orientation": "v",
         "showlegend": true,
         "textposition": "auto",
         "type": "bar",
         "x": [
          "Sample 101"
         ],
         "xaxis": "x",
         "y": [
          13454.859794338301
         ],
         "yaxis": "y"
        },
        {
         "alignmentgroup": "True",
         "hovertemplate": "Function=GO:0008137; F:NADH dehydrogenase (ubiquinone) activity; IEA:InterPro.<br>Sample=%{x}<br>Abundance RPKs=%{y}<extra></extra>",
         "legendgroup": "GO:0008137; F:NADH dehydrogenase (ubiquinone) activity; IEA:InterPro.",
         "marker": {
          "color": "#636efa"
         },
         "name": "GO:0008137; F:NADH dehydrogenase (ubiquinone) activity; IEA:InterPro.",
         "offsetgroup": "GO:0008137; F:NADH dehydrogenase (ubiquinone) activity; IEA:InterPro.",
         "orientation": "v",
         "showlegend": true,
         "textposition": "auto",
         "type": "bar",
         "x": [
          "Sample 101"
         ],
         "xaxis": "x",
         "y": [
          12602.5058065726
         ],
         "yaxis": "y"
        },
        {
         "alignmentgroup": "True",
         "hovertemplate": "Function=GO:0048038; F:quinone binding; IEA:UniProtKB-KW.<br>Sample=%{x}<br>Abundance RPKs=%{y}<extra></extra>",
         "legendgroup": "GO:0048038; F:quinone binding; IEA:UniProtKB-KW.",
         "marker": {
          "color": "#EF553B"
         },
         "name": "GO:0048038; F:quinone binding; IEA:UniProtKB-KW.",
         "offsetgroup": "GO:0048038; F:quinone binding; IEA:UniProtKB-KW.",
         "orientation": "v",
         "showlegend": true,
         "textposition": "auto",
         "type": "bar",
         "x": [
          "Sample 101"
         ],
         "xaxis": "x",
         "y": [
          16809.228682186196
         ],
         "yaxis": "y"
        },
        {
         "alignmentgroup": "True",
         "hovertemplate": "Function=GO:0009279; C:cell outer membrane; IEA:UniProtKB-SubCell.<br>Sample=%{x}<br>Abundance RPKs=%{y}<extra></extra>",
         "legendgroup": "GO:0009279; C:cell outer membrane; IEA:UniProtKB-SubCell.",
         "marker": {
          "color": "#00cc96"
         },
         "name": "GO:0009279; C:cell outer membrane; IEA:UniProtKB-SubCell.",
         "offsetgroup": "GO:0009279; C:cell outer membrane; IEA:UniProtKB-SubCell.",
         "orientation": "v",
         "showlegend": true,
         "textposition": "auto",
         "type": "bar",
         "x": [
          "Sample 101"
         ],
         "xaxis": "x",
         "y": [
          23557.5440744103
         ],
         "yaxis": "y"
        },
        {
         "alignmentgroup": "True",
         "hovertemplate": "Function=GO:0003824; F:catalytic activity; IEA:InterPro.<br>Sample=%{x}<br>Abundance RPKs=%{y}<extra></extra>",
         "legendgroup": "GO:0003824; F:catalytic activity; IEA:InterPro.",
         "marker": {
          "color": "#ab63fa"
         },
         "name": "GO:0003824; F:catalytic activity; IEA:InterPro.",
         "offsetgroup": "GO:0003824; F:catalytic activity; IEA:InterPro.",
         "orientation": "v",
         "showlegend": true,
         "textposition": "auto",
         "type": "bar",
         "x": [
          "Sample 101"
         ],
         "xaxis": "x",
         "y": [
          13609.509207731498
         ],
         "yaxis": "y"
        },
        {
         "alignmentgroup": "True",
         "hovertemplate": "Function=GO:0015031; P:protein transport; IEA:UniProtKB-KW.<br>Sample=%{x}<br>Abundance RPKs=%{y}<extra></extra>",
         "legendgroup": "GO:0015031; P:protein transport; IEA:UniProtKB-KW.",
         "marker": {
          "color": "#FFA15A"
         },
         "name": "GO:0015031; P:protein transport; IEA:UniProtKB-KW.",
         "offsetgroup": "GO:0015031; P:protein transport; IEA:UniProtKB-KW.",
         "orientation": "v",
         "showlegend": true,
         "textposition": "auto",
         "type": "bar",
         "x": [
          "Sample 101"
         ],
         "xaxis": "x",
         "y": [
          10051.2296318359
         ],
         "yaxis": "y"
        },
        {
         "alignmentgroup": "True",
         "hovertemplate": "Function=GO:0005623; C:cell; IEA:GOC.<br>Sample=%{x}<br>Abundance RPKs=%{y}<extra></extra>",
         "legendgroup": "GO:0005623; C:cell; IEA:GOC.",
         "marker": {
          "color": "#19d3f3"
         },
         "name": "GO:0005623; C:cell; IEA:GOC.",
         "offsetgroup": "GO:0005623; C:cell; IEA:GOC.",
         "orientation": "v",
         "showlegend": true,
         "textposition": "auto",
         "type": "bar",
         "x": [
          "Sample 101"
         ],
         "xaxis": "x",
         "y": [
          13584.392115982799
         ],
         "yaxis": "y"
        },
        {
         "alignmentgroup": "True",
         "hovertemplate": "Function=GO:0019380; P:3-phenylpropionate catabolic process; IEA:UniProtKB-UniPathway.<br>Sample=%{x}<br>Abundance RPKs=%{y}<extra></extra>",
         "legendgroup": "GO:0019380; P:3-phenylpropionate catabolic process; IEA:UniProtKB-UniPathway.",
         "marker": {
          "color": "#FF6692"
         },
         "name": "GO:0019380; P:3-phenylpropionate catabolic process; IEA:UniProtKB-UniPathway.",
         "offsetgroup": "GO:0019380; P:3-phenylpropionate catabolic process; IEA:UniProtKB-UniPathway.",
         "orientation": "v",
         "showlegend": true,
         "textposition": "auto",
         "type": "bar",
         "x": [
          "Sample 101"
         ],
         "xaxis": "x",
         "y": [
          13615.256545745298
         ],
         "yaxis": "y"
        },
        {
         "alignmentgroup": "True",
         "hovertemplate": "Function=GO:0022857; F:transmembrane transporter activity; IEA:UniProtKB-UniRule.<br>Sample=%{x}<br>Abundance RPKs=%{y}<extra></extra>",
         "legendgroup": "GO:0022857; F:transmembrane transporter activity; IEA:UniProtKB-UniRule.",
         "marker": {
          "color": "#B6E880"
         },
         "name": "GO:0022857; F:transmembrane transporter activity; IEA:UniProtKB-UniRule.",
         "offsetgroup": "GO:0022857; F:transmembrane transporter activity; IEA:UniProtKB-UniRule.",
         "orientation": "v",
         "showlegend": true,
         "textposition": "auto",
         "type": "bar",
         "x": [
          "Sample 101"
         ],
         "xaxis": "x",
         "y": [
          17020.364948022703
         ],
         "yaxis": "y"
        },
        {
         "alignmentgroup": "True",
         "hovertemplate": "Function=GO:0050660; F:flavin adenine dinucleotide binding; IEA:InterPro.<br>Sample=%{x}<br>Abundance RPKs=%{y}<extra></extra>",
         "legendgroup": "GO:0050660; F:flavin adenine dinucleotide binding; IEA:InterPro.",
         "marker": {
          "color": "#FF97FF"
         },
         "name": "GO:0050660; F:flavin adenine dinucleotide binding; IEA:InterPro.",
         "offsetgroup": "GO:0050660; F:flavin adenine dinucleotide binding; IEA:InterPro.",
         "orientation": "v",
         "showlegend": true,
         "textposition": "auto",
         "type": "bar",
         "x": [
          "Sample 101"
         ],
         "xaxis": "x",
         "y": [
          13183.807884695998
         ],
         "yaxis": "y"
        },
        {
         "alignmentgroup": "True",
         "hovertemplate": "Function=GO:0009103; P:lipopolysaccharide biosynthetic process; IEA:UniProtKB-UniPathway.<br>Sample=%{x}<br>Abundance RPKs=%{y}<extra></extra>",
         "legendgroup": "GO:0009103; P:lipopolysaccharide biosynthetic process; IEA:UniProtKB-UniPathway.",
         "marker": {
          "color": "#FECB52"
         },
         "name": "GO:0009103; P:lipopolysaccharide biosynthetic process; IEA:UniProtKB-UniPathway.",
         "offsetgroup": "GO:0009103; P:lipopolysaccharide biosynthetic process; IEA:UniProtKB-UniPathway.",
         "orientation": "v",
         "showlegend": true,
         "textposition": "auto",
         "type": "bar",
         "x": [
          "Sample 101"
         ],
         "xaxis": "x",
         "y": [
          19604.3945646191
         ],
         "yaxis": "y"
        },
        {
         "alignmentgroup": "True",
         "hovertemplate": "Function=GO:0046677; P:response to antibiotic; IEA:UniProtKB-KW.<br>Sample=%{x}<br>Abundance RPKs=%{y}<extra></extra>",
         "legendgroup": "GO:0046677; P:response to antibiotic; IEA:UniProtKB-KW.",
         "marker": {
          "color": "#636efa"
         },
         "name": "GO:0046677; P:response to antibiotic; IEA:UniProtKB-KW.",
         "offsetgroup": "GO:0046677; P:response to antibiotic; IEA:UniProtKB-KW.",
         "orientation": "v",
         "showlegend": true,
         "textposition": "auto",
         "type": "bar",
         "x": [
          "Sample 101",
          "Sample 4",
          "Sample 99",
          "Sample 13"
         ],
         "xaxis": "x",
         "y": [
          19974.001117902404,
          12117.9351377103,
          12270.0978360899,
          12745.137032460001
         ],
         "yaxis": "y"
        },
        {
         "alignmentgroup": "True",
         "hovertemplate": "Function=GO:0009055; F:electron transfer activity; IEA:InterPro.<br>Sample=%{x}<br>Abundance RPKs=%{y}<extra></extra>",
         "legendgroup": "GO:0009055; F:electron transfer activity; IEA:InterPro.",
         "marker": {
          "color": "#EF553B"
         },
         "name": "GO:0009055; F:electron transfer activity; IEA:InterPro.",
         "offsetgroup": "GO:0009055; F:electron transfer activity; IEA:InterPro.",
         "orientation": "v",
         "showlegend": true,
         "textposition": "auto",
         "type": "bar",
         "x": [
          "Sample 101"
         ],
         "xaxis": "x",
         "y": [
          22890.823406162202
         ],
         "yaxis": "y"
        },
        {
         "alignmentgroup": "True",
         "hovertemplate": "Function=GO:0009246; P:enterobacterial common antigen biosynthetic process; IEA:UniProtKB-UniRule.<br>Sample=%{x}<br>Abundance RPKs=%{y}<extra></extra>",
         "legendgroup": "GO:0009246; P:enterobacterial common antigen biosynthetic process; IEA:UniProtKB-UniRule.",
         "marker": {
          "color": "#00cc96"
         },
         "name": "GO:0009246; P:enterobacterial common antigen biosynthetic process; IEA:UniProtKB-UniRule.",
         "offsetgroup": "GO:0009246; P:enterobacterial common antigen biosynthetic process; IEA:UniProtKB-UniRule.",
         "orientation": "v",
         "showlegend": true,
         "textposition": "auto",
         "type": "bar",
         "x": [
          "Sample 101"
         ],
         "xaxis": "x",
         "y": [
          13688.5802746406
         ],
         "yaxis": "y"
        },
        {
         "alignmentgroup": "True",
         "hovertemplate": "Function=GO:0006310; P:DNA recombination; IEA:UniProtKB-KW.<br>Sample=%{x}<br>Abundance RPKs=%{y}<extra></extra>",
         "legendgroup": "GO:0006310; P:DNA recombination; IEA:UniProtKB-KW.",
         "marker": {
          "color": "#ab63fa"
         },
         "name": "GO:0006310; P:DNA recombination; IEA:UniProtKB-KW.",
         "offsetgroup": "GO:0006310; P:DNA recombination; IEA:UniProtKB-KW.",
         "orientation": "v",
         "showlegend": true,
         "textposition": "auto",
         "type": "bar",
         "x": [
          "Sample 101"
         ],
         "xaxis": "x",
         "y": [
          12379.0846447586
         ],
         "yaxis": "y"
        },
        {
         "alignmentgroup": "True",
         "hovertemplate": "Function=GO:0055085; P:transmembrane transport; IEA:InterPro.<br>Sample=%{x}<br>Abundance RPKs=%{y}<extra></extra>",
         "legendgroup": "GO:0055085; P:transmembrane transport; IEA:InterPro.",
         "marker": {
          "color": "#FFA15A"
         },
         "name": "GO:0055085; P:transmembrane transport; IEA:InterPro.",
         "offsetgroup": "GO:0055085; P:transmembrane transport; IEA:InterPro.",
         "orientation": "v",
         "showlegend": true,
         "textposition": "auto",
         "type": "bar",
         "x": [
          "Sample 101"
         ],
         "xaxis": "x",
         "y": [
          22937.627933535
         ],
         "yaxis": "y"
        },
        {
         "alignmentgroup": "True",
         "hovertemplate": "Function=GO:0030288; C:outer membrane-bounded periplasmic space; IEA:InterPro.<br>Sample=%{x}<br>Abundance RPKs=%{y}<extra></extra>",
         "legendgroup": "GO:0030288; C:outer membrane-bounded periplasmic space; IEA:InterPro.",
         "marker": {
          "color": "#19d3f3"
         },
         "name": "GO:0030288; C:outer membrane-bounded periplasmic space; IEA:InterPro.",
         "offsetgroup": "GO:0030288; C:outer membrane-bounded periplasmic space; IEA:InterPro.",
         "orientation": "v",
         "showlegend": true,
         "textposition": "auto",
         "type": "bar",
         "x": [
          "Sample 101"
         ],
         "xaxis": "x",
         "y": [
          10538.4986267222
         ],
         "yaxis": "y"
        },
        {
         "alignmentgroup": "True",
         "hovertemplate": "Function=GO:0097367; F:carbohydrate derivative binding; IEA:InterPro.<br>Sample=%{x}<br>Abundance RPKs=%{y}<extra></extra>",
         "legendgroup": "GO:0097367; F:carbohydrate derivative binding; IEA:InterPro.",
         "marker": {
          "color": "#FF6692"
         },
         "name": "GO:0097367; F:carbohydrate derivative binding; IEA:InterPro.",
         "offsetgroup": "GO:0097367; F:carbohydrate derivative binding; IEA:InterPro.",
         "orientation": "v",
         "showlegend": true,
         "textposition": "auto",
         "type": "bar",
         "x": [
          "Sample 101"
         ],
         "xaxis": "x",
         "y": [
          11954.047318436002
         ],
         "yaxis": "y"
        },
        {
         "alignmentgroup": "True",
         "hovertemplate": "Function=GO:0016491; F:oxidoreductase activity; IEA:UniProtKB-KW.<br>Sample=%{x}<br>Abundance RPKs=%{y}<extra></extra>",
         "legendgroup": "GO:0016491; F:oxidoreductase activity; IEA:UniProtKB-KW.",
         "marker": {
          "color": "#B6E880"
         },
         "name": "GO:0016491; F:oxidoreductase activity; IEA:UniProtKB-KW.",
         "offsetgroup": "GO:0016491; F:oxidoreductase activity; IEA:UniProtKB-KW.",
         "orientation": "v",
         "showlegend": true,
         "textposition": "auto",
         "type": "bar",
         "x": [
          "Sample 101"
         ],
         "xaxis": "x",
         "y": [
          15984.177022010499
         ],
         "yaxis": "y"
        },
        {
         "alignmentgroup": "True",
         "hovertemplate": "Function=GO:0003700; F:DNA-binding transcription factor activity; IEA:InterPro.<br>Sample=%{x}<br>Abundance RPKs=%{y}<extra></extra>",
         "legendgroup": "GO:0003700; F:DNA-binding transcription factor activity; IEA:InterPro.",
         "marker": {
          "color": "#FF97FF"
         },
         "name": "GO:0003700; F:DNA-binding transcription factor activity; IEA:InterPro.",
         "offsetgroup": "GO:0003700; F:DNA-binding transcription factor activity; IEA:InterPro.",
         "orientation": "v",
         "showlegend": true,
         "textposition": "auto",
         "type": "bar",
         "x": [
          "Sample 101"
         ],
         "xaxis": "x",
         "y": [
          13703.7650453439
         ],
         "yaxis": "y"
        },
        {
         "alignmentgroup": "True",
         "hovertemplate": "Function=GO:0005886; C:plasma membrane; IDA:EcoCyc.<br>Sample=%{x}<br>Abundance RPKs=%{y}<extra></extra>",
         "legendgroup": "GO:0005886; C:plasma membrane; IDA:EcoCyc.",
         "marker": {
          "color": "#FECB52"
         },
         "name": "GO:0005886; C:plasma membrane; IDA:EcoCyc.",
         "offsetgroup": "GO:0005886; C:plasma membrane; IDA:EcoCyc.",
         "orientation": "v",
         "showlegend": true,
         "textposition": "auto",
         "type": "bar",
         "x": [
          "Sample 101",
          "Sample 13"
         ],
         "xaxis": "x",
         "y": [
          95671.14708177683,
          17348.181281170902
         ],
         "yaxis": "y"
        },
        {
         "alignmentgroup": "True",
         "hovertemplate": "Function=GO:0042802; F:identical protein binding; IPI:IntAct.<br>Sample=%{x}<br>Abundance RPKs=%{y}<extra></extra>",
         "legendgroup": "GO:0042802; F:identical protein binding; IPI:IntAct.",
         "marker": {
          "color": "#636efa"
         },
         "name": "GO:0042802; F:identical protein binding; IPI:IntAct.",
         "offsetgroup": "GO:0042802; F:identical protein binding; IPI:IntAct.",
         "orientation": "v",
         "showlegend": true,
         "textposition": "auto",
         "type": "bar",
         "x": [
          "Sample 101"
         ],
         "xaxis": "x",
         "y": [
          18573.4360795032
         ],
         "yaxis": "y"
        },
        {
         "alignmentgroup": "True",
         "hovertemplate": "Function=GO:0005829; C:cytosol; IDA:EcoCyc.<br>Sample=%{x}<br>Abundance RPKs=%{y}<extra></extra>",
         "legendgroup": "GO:0005829; C:cytosol; IDA:EcoCyc.",
         "marker": {
          "color": "#EF553B"
         },
         "name": "GO:0005829; C:cytosol; IDA:EcoCyc.",
         "offsetgroup": "GO:0005829; C:cytosol; IDA:EcoCyc.",
         "orientation": "v",
         "showlegend": true,
         "textposition": "auto",
         "type": "bar",
         "x": [
          "Sample 101",
          "Sample 13"
         ],
         "xaxis": "x",
         "y": [
          52552.8614377077,
          10060.1892735772
         ],
         "yaxis": "y"
        },
        {
         "alignmentgroup": "True",
         "hovertemplate": "Function=GO:0030288; C:outer membrane-bounded periplasmic space; IDA:EcoCyc.<br>Sample=%{x}<br>Abundance RPKs=%{y}<extra></extra>",
         "legendgroup": "GO:0030288; C:outer membrane-bounded periplasmic space; IDA:EcoCyc.",
         "marker": {
          "color": "#00cc96"
         },
         "name": "GO:0030288; C:outer membrane-bounded periplasmic space; IDA:EcoCyc.",
         "offsetgroup": "GO:0030288; C:outer membrane-bounded periplasmic space; IDA:EcoCyc.",
         "orientation": "v",
         "showlegend": true,
         "textposition": "auto",
         "type": "bar",
         "x": [
          "Sample 101"
         ],
         "xaxis": "x",
         "y": [
          11128.7168667989
         ],
         "yaxis": "y"
        },
        {
         "alignmentgroup": "True",
         "hovertemplate": "Function=GO:0009279; C:cell outer membrane; IDA:EcoCyc.<br>Sample=%{x}<br>Abundance RPKs=%{y}<extra></extra>",
         "legendgroup": "GO:0009279; C:cell outer membrane; IDA:EcoCyc.",
         "marker": {
          "color": "#ab63fa"
         },
         "name": "GO:0009279; C:cell outer membrane; IDA:EcoCyc.",
         "offsetgroup": "GO:0009279; C:cell outer membrane; IDA:EcoCyc.",
         "orientation": "v",
         "showlegend": true,
         "textposition": "auto",
         "type": "bar",
         "x": [
          "Sample 101"
         ],
         "xaxis": "x",
         "y": [
          12869.237636930202
         ],
         "yaxis": "y"
        },
        {
         "alignmentgroup": "True",
         "hovertemplate": "Function=GO:0006974; P:cellular response to DNA damage stimulus; IEP:EcoliWiki.<br>Sample=%{x}<br>Abundance RPKs=%{y}<extra></extra>",
         "legendgroup": "GO:0006974; P:cellular response to DNA damage stimulus; IEP:EcoliWiki.",
         "marker": {
          "color": "#FFA15A"
         },
         "name": "GO:0006974; P:cellular response to DNA damage stimulus; IEP:EcoliWiki.",
         "offsetgroup": "GO:0006974; P:cellular response to DNA damage stimulus; IEP:EcoliWiki.",
         "orientation": "v",
         "showlegend": true,
         "textposition": "auto",
         "type": "bar",
         "x": [
          "Sample 101"
         ],
         "xaxis": "x",
         "y": [
          19807.9718592474
         ],
         "yaxis": "y"
        },
        {
         "alignmentgroup": "True",
         "hovertemplate": "Function=GO:0005737; C:cytoplasm; IBA:GO_Central.<br>Sample=%{x}<br>Abundance RPKs=%{y}<extra></extra>",
         "legendgroup": "GO:0005737; C:cytoplasm; IBA:GO_Central.",
         "marker": {
          "color": "#19d3f3"
         },
         "name": "GO:0005737; C:cytoplasm; IBA:GO_Central.",
         "offsetgroup": "GO:0005737; C:cytoplasm; IBA:GO_Central.",
         "orientation": "v",
         "showlegend": true,
         "textposition": "auto",
         "type": "bar",
         "x": [
          "Sample 101"
         ],
         "xaxis": "x",
         "y": [
          19082.215222354702
         ],
         "yaxis": "y"
        },
        {
         "alignmentgroup": "True",
         "hovertemplate": "Function=GO:0005887; C:integral component of plasma membrane; IDA:EcoCyc.<br>Sample=%{x}<br>Abundance RPKs=%{y}<extra></extra>",
         "legendgroup": "GO:0005887; C:integral component of plasma membrane; IDA:EcoCyc.",
         "marker": {
          "color": "#FF6692"
         },
         "name": "GO:0005887; C:integral component of plasma membrane; IDA:EcoCyc.",
         "offsetgroup": "GO:0005887; C:integral component of plasma membrane; IDA:EcoCyc.",
         "orientation": "v",
         "showlegend": true,
         "textposition": "auto",
         "type": "bar",
         "x": [
          "Sample 101"
         ],
         "xaxis": "x",
         "y": [
          11577.6149102193
         ],
         "yaxis": "y"
        },
        {
         "alignmentgroup": "True",
         "hovertemplate": "Function=GO:0006979; P:response to oxidative stress; IMP:EcoCyc.<br>Sample=%{x}<br>Abundance RPKs=%{y}<extra></extra>",
         "legendgroup": "GO:0006979; P:response to oxidative stress; IMP:EcoCyc.",
         "marker": {
          "color": "#B6E880"
         },
         "name": "GO:0006979; P:response to oxidative stress; IMP:EcoCyc.",
         "offsetgroup": "GO:0006979; P:response to oxidative stress; IMP:EcoCyc.",
         "orientation": "v",
         "showlegend": true,
         "textposition": "auto",
         "type": "bar",
         "x": [
          "Sample 101"
         ],
         "xaxis": "x",
         "y": [
          14806.6779552349
         ],
         "yaxis": "y"
        },
        {
         "alignmentgroup": "True",
         "hovertemplate": "Function=GO:0005829; C:cytosol; IBA:GO_Central.<br>Sample=%{x}<br>Abundance RPKs=%{y}<extra></extra>",
         "legendgroup": "GO:0005829; C:cytosol; IBA:GO_Central.",
         "marker": {
          "color": "#FF97FF"
         },
         "name": "GO:0005829; C:cytosol; IBA:GO_Central.",
         "offsetgroup": "GO:0005829; C:cytosol; IBA:GO_Central.",
         "orientation": "v",
         "showlegend": true,
         "textposition": "auto",
         "type": "bar",
         "x": [
          "Sample 101",
          "Sample 16",
          "Sample 4"
         ],
         "xaxis": "x",
         "y": [
          22589.2685930436,
          15656.10838241,
          14702.899474971204
         ],
         "yaxis": "y"
        },
        {
         "alignmentgroup": "True",
         "hovertemplate": "Function=GO:0005887; C:integral component of plasma membrane; IBA:GO_Central.<br>Sample=%{x}<br>Abundance RPKs=%{y}<extra></extra>",
         "legendgroup": "GO:0005887; C:integral component of plasma membrane; IBA:GO_Central.",
         "marker": {
          "color": "#FECB52"
         },
         "name": "GO:0005887; C:integral component of plasma membrane; IBA:GO_Central.",
         "offsetgroup": "GO:0005887; C:integral component of plasma membrane; IBA:GO_Central.",
         "orientation": "v",
         "showlegend": true,
         "textposition": "auto",
         "type": "bar",
         "x": [
          "Sample 101"
         ],
         "xaxis": "x",
         "y": [
          10684.2031462634
         ],
         "yaxis": "y"
        },
        {
         "alignmentgroup": "True",
         "hovertemplate": "Function=GO:0005887; C:integral component of plasma membrane; ISM:EcoCyc.<br>Sample=%{x}<br>Abundance RPKs=%{y}<extra></extra>",
         "legendgroup": "GO:0005887; C:integral component of plasma membrane; ISM:EcoCyc.",
         "marker": {
          "color": "#636efa"
         },
         "name": "GO:0005887; C:integral component of plasma membrane; ISM:EcoCyc.",
         "offsetgroup": "GO:0005887; C:integral component of plasma membrane; ISM:EcoCyc.",
         "orientation": "v",
         "showlegend": true,
         "textposition": "auto",
         "type": "bar",
         "x": [
          "Sample 101"
         ],
         "xaxis": "x",
         "y": [
          13403.576232263598
         ],
         "yaxis": "y"
        },
        {
         "alignmentgroup": "True",
         "hovertemplate": "Function=GO:0043709; P:cell adhesion involved in single-species biofilm formation; IMP:EcoCyc.<br>Sample=%{x}<br>Abundance RPKs=%{y}<extra></extra>",
         "legendgroup": "GO:0043709; P:cell adhesion involved in single-species biofilm formation; IMP:EcoCyc.",
         "marker": {
          "color": "#EF553B"
         },
         "name": "GO:0043709; P:cell adhesion involved in single-species biofilm formation; IMP:EcoCyc.",
         "offsetgroup": "GO:0043709; P:cell adhesion involved in single-species biofilm formation; IMP:EcoCyc.",
         "orientation": "v",
         "showlegend": true,
         "textposition": "auto",
         "type": "bar",
         "x": [
          "Sample 101"
         ],
         "xaxis": "x",
         "y": [
          10512.8155909289
         ],
         "yaxis": "y"
        },
        {
         "alignmentgroup": "True",
         "hovertemplate": "Function=GO:0043711; P:pilus organization; IBA:GO_Central.<br>Sample=%{x}<br>Abundance RPKs=%{y}<extra></extra>",
         "legendgroup": "GO:0043711; P:pilus organization; IBA:GO_Central.",
         "marker": {
          "color": "#00cc96"
         },
         "name": "GO:0043711; P:pilus organization; IBA:GO_Central.",
         "offsetgroup": "GO:0043711; P:pilus organization; IBA:GO_Central.",
         "orientation": "v",
         "showlegend": true,
         "textposition": "auto",
         "type": "bar",
         "x": [
          "Sample 101"
         ],
         "xaxis": "x",
         "y": [
          12931.280586489098
         ],
         "yaxis": "y"
        },
        {
         "alignmentgroup": "True",
         "hovertemplate": "Function=GO:0006412; P:translation; IEA:UniProtKB-KW.<br>Sample=%{x}<br>Abundance RPKs=%{y}<extra></extra>",
         "legendgroup": "GO:0006412; P:translation; IEA:UniProtKB-KW.",
         "marker": {
          "color": "#ab63fa"
         },
         "name": "GO:0006412; P:translation; IEA:UniProtKB-KW.",
         "offsetgroup": "GO:0006412; P:translation; IEA:UniProtKB-KW.",
         "orientation": "v",
         "showlegend": true,
         "textposition": "auto",
         "type": "bar",
         "x": [
          "Sample 99"
         ],
         "xaxis": "x",
         "y": [
          10527.7994447454
         ],
         "yaxis": "y"
        }
       ],
       "layout": {
        "barmode": "relative",
        "legend": {
         "title": {
          "text": "Function"
         },
         "tracegroupgap": 0
        },
        "margin": {
         "t": 60
        },
        "showlegend": false,
        "template": {
         "data": {
          "bar": [
           {
            "error_x": {
             "color": "#2a3f5f"
            },
            "error_y": {
             "color": "#2a3f5f"
            },
            "marker": {
             "line": {
              "color": "#E5ECF6",
              "width": 0.5
             }
            },
            "type": "bar"
           }
          ],
          "barpolar": [
           {
            "marker": {
             "line": {
              "color": "#E5ECF6",
              "width": 0.5
             }
            },
            "type": "barpolar"
           }
          ],
          "carpet": [
           {
            "aaxis": {
             "endlinecolor": "#2a3f5f",
             "gridcolor": "white",
             "linecolor": "white",
             "minorgridcolor": "white",
             "startlinecolor": "#2a3f5f"
            },
            "baxis": {
             "endlinecolor": "#2a3f5f",
             "gridcolor": "white",
             "linecolor": "white",
             "minorgridcolor": "white",
             "startlinecolor": "#2a3f5f"
            },
            "type": "carpet"
           }
          ],
          "choropleth": [
           {
            "colorbar": {
             "outlinewidth": 0,
             "ticks": ""
            },
            "type": "choropleth"
           }
          ],
          "contour": [
           {
            "colorbar": {
             "outlinewidth": 0,
             "ticks": ""
            },
            "colorscale": [
             [
              0,
              "#0d0887"
             ],
             [
              0.1111111111111111,
              "#46039f"
             ],
             [
              0.2222222222222222,
              "#7201a8"
             ],
             [
              0.3333333333333333,
              "#9c179e"
             ],
             [
              0.4444444444444444,
              "#bd3786"
             ],
             [
              0.5555555555555556,
              "#d8576b"
             ],
             [
              0.6666666666666666,
              "#ed7953"
             ],
             [
              0.7777777777777778,
              "#fb9f3a"
             ],
             [
              0.8888888888888888,
              "#fdca26"
             ],
             [
              1,
              "#f0f921"
             ]
            ],
            "type": "contour"
           }
          ],
          "contourcarpet": [
           {
            "colorbar": {
             "outlinewidth": 0,
             "ticks": ""
            },
            "type": "contourcarpet"
           }
          ],
          "heatmap": [
           {
            "colorbar": {
             "outlinewidth": 0,
             "ticks": ""
            },
            "colorscale": [
             [
              0,
              "#0d0887"
             ],
             [
              0.1111111111111111,
              "#46039f"
             ],
             [
              0.2222222222222222,
              "#7201a8"
             ],
             [
              0.3333333333333333,
              "#9c179e"
             ],
             [
              0.4444444444444444,
              "#bd3786"
             ],
             [
              0.5555555555555556,
              "#d8576b"
             ],
             [
              0.6666666666666666,
              "#ed7953"
             ],
             [
              0.7777777777777778,
              "#fb9f3a"
             ],
             [
              0.8888888888888888,
              "#fdca26"
             ],
             [
              1,
              "#f0f921"
             ]
            ],
            "type": "heatmap"
           }
          ],
          "heatmapgl": [
           {
            "colorbar": {
             "outlinewidth": 0,
             "ticks": ""
            },
            "colorscale": [
             [
              0,
              "#0d0887"
             ],
             [
              0.1111111111111111,
              "#46039f"
             ],
             [
              0.2222222222222222,
              "#7201a8"
             ],
             [
              0.3333333333333333,
              "#9c179e"
             ],
             [
              0.4444444444444444,
              "#bd3786"
             ],
             [
              0.5555555555555556,
              "#d8576b"
             ],
             [
              0.6666666666666666,
              "#ed7953"
             ],
             [
              0.7777777777777778,
              "#fb9f3a"
             ],
             [
              0.8888888888888888,
              "#fdca26"
             ],
             [
              1,
              "#f0f921"
             ]
            ],
            "type": "heatmapgl"
           }
          ],
          "histogram": [
           {
            "marker": {
             "colorbar": {
              "outlinewidth": 0,
              "ticks": ""
             }
            },
            "type": "histogram"
           }
          ],
          "histogram2d": [
           {
            "colorbar": {
             "outlinewidth": 0,
             "ticks": ""
            },
            "colorscale": [
             [
              0,
              "#0d0887"
             ],
             [
              0.1111111111111111,
              "#46039f"
             ],
             [
              0.2222222222222222,
              "#7201a8"
             ],
             [
              0.3333333333333333,
              "#9c179e"
             ],
             [
              0.4444444444444444,
              "#bd3786"
             ],
             [
              0.5555555555555556,
              "#d8576b"
             ],
             [
              0.6666666666666666,
              "#ed7953"
             ],
             [
              0.7777777777777778,
              "#fb9f3a"
             ],
             [
              0.8888888888888888,
              "#fdca26"
             ],
             [
              1,
              "#f0f921"
             ]
            ],
            "type": "histogram2d"
           }
          ],
          "histogram2dcontour": [
           {
            "colorbar": {
             "outlinewidth": 0,
             "ticks": ""
            },
            "colorscale": [
             [
              0,
              "#0d0887"
             ],
             [
              0.1111111111111111,
              "#46039f"
             ],
             [
              0.2222222222222222,
              "#7201a8"
             ],
             [
              0.3333333333333333,
              "#9c179e"
             ],
             [
              0.4444444444444444,
              "#bd3786"
             ],
             [
              0.5555555555555556,
              "#d8576b"
             ],
             [
              0.6666666666666666,
              "#ed7953"
             ],
             [
              0.7777777777777778,
              "#fb9f3a"
             ],
             [
              0.8888888888888888,
              "#fdca26"
             ],
             [
              1,
              "#f0f921"
             ]
            ],
            "type": "histogram2dcontour"
           }
          ],
          "mesh3d": [
           {
            "colorbar": {
             "outlinewidth": 0,
             "ticks": ""
            },
            "type": "mesh3d"
           }
          ],
          "parcoords": [
           {
            "line": {
             "colorbar": {
              "outlinewidth": 0,
              "ticks": ""
             }
            },
            "type": "parcoords"
           }
          ],
          "pie": [
           {
            "automargin": true,
            "type": "pie"
           }
          ],
          "scatter": [
           {
            "marker": {
             "colorbar": {
              "outlinewidth": 0,
              "ticks": ""
             }
            },
            "type": "scatter"
           }
          ],
          "scatter3d": [
           {
            "line": {
             "colorbar": {
              "outlinewidth": 0,
              "ticks": ""
             }
            },
            "marker": {
             "colorbar": {
              "outlinewidth": 0,
              "ticks": ""
             }
            },
            "type": "scatter3d"
           }
          ],
          "scattercarpet": [
           {
            "marker": {
             "colorbar": {
              "outlinewidth": 0,
              "ticks": ""
             }
            },
            "type": "scattercarpet"
           }
          ],
          "scattergeo": [
           {
            "marker": {
             "colorbar": {
              "outlinewidth": 0,
              "ticks": ""
             }
            },
            "type": "scattergeo"
           }
          ],
          "scattergl": [
           {
            "marker": {
             "colorbar": {
              "outlinewidth": 0,
              "ticks": ""
             }
            },
            "type": "scattergl"
           }
          ],
          "scattermapbox": [
           {
            "marker": {
             "colorbar": {
              "outlinewidth": 0,
              "ticks": ""
             }
            },
            "type": "scattermapbox"
           }
          ],
          "scatterpolar": [
           {
            "marker": {
             "colorbar": {
              "outlinewidth": 0,
              "ticks": ""
             }
            },
            "type": "scatterpolar"
           }
          ],
          "scatterpolargl": [
           {
            "marker": {
             "colorbar": {
              "outlinewidth": 0,
              "ticks": ""
             }
            },
            "type": "scatterpolargl"
           }
          ],
          "scatterternary": [
           {
            "marker": {
             "colorbar": {
              "outlinewidth": 0,
              "ticks": ""
             }
            },
            "type": "scatterternary"
           }
          ],
          "surface": [
           {
            "colorbar": {
             "outlinewidth": 0,
             "ticks": ""
            },
            "colorscale": [
             [
              0,
              "#0d0887"
             ],
             [
              0.1111111111111111,
              "#46039f"
             ],
             [
              0.2222222222222222,
              "#7201a8"
             ],
             [
              0.3333333333333333,
              "#9c179e"
             ],
             [
              0.4444444444444444,
              "#bd3786"
             ],
             [
              0.5555555555555556,
              "#d8576b"
             ],
             [
              0.6666666666666666,
              "#ed7953"
             ],
             [
              0.7777777777777778,
              "#fb9f3a"
             ],
             [
              0.8888888888888888,
              "#fdca26"
             ],
             [
              1,
              "#f0f921"
             ]
            ],
            "type": "surface"
           }
          ],
          "table": [
           {
            "cells": {
             "fill": {
              "color": "#EBF0F8"
             },
             "line": {
              "color": "white"
             }
            },
            "header": {
             "fill": {
              "color": "#C8D4E3"
             },
             "line": {
              "color": "white"
             }
            },
            "type": "table"
           }
          ]
         },
         "layout": {
          "annotationdefaults": {
           "arrowcolor": "#2a3f5f",
           "arrowhead": 0,
           "arrowwidth": 1
          },
          "coloraxis": {
           "colorbar": {
            "outlinewidth": 0,
            "ticks": ""
           }
          },
          "colorscale": {
           "diverging": [
            [
             0,
             "#8e0152"
            ],
            [
             0.1,
             "#c51b7d"
            ],
            [
             0.2,
             "#de77ae"
            ],
            [
             0.3,
             "#f1b6da"
            ],
            [
             0.4,
             "#fde0ef"
            ],
            [
             0.5,
             "#f7f7f7"
            ],
            [
             0.6,
             "#e6f5d0"
            ],
            [
             0.7,
             "#b8e186"
            ],
            [
             0.8,
             "#7fbc41"
            ],
            [
             0.9,
             "#4d9221"
            ],
            [
             1,
             "#276419"
            ]
           ],
           "sequential": [
            [
             0,
             "#0d0887"
            ],
            [
             0.1111111111111111,
             "#46039f"
            ],
            [
             0.2222222222222222,
             "#7201a8"
            ],
            [
             0.3333333333333333,
             "#9c179e"
            ],
            [
             0.4444444444444444,
             "#bd3786"
            ],
            [
             0.5555555555555556,
             "#d8576b"
            ],
            [
             0.6666666666666666,
             "#ed7953"
            ],
            [
             0.7777777777777778,
             "#fb9f3a"
            ],
            [
             0.8888888888888888,
             "#fdca26"
            ],
            [
             1,
             "#f0f921"
            ]
           ],
           "sequentialminus": [
            [
             0,
             "#0d0887"
            ],
            [
             0.1111111111111111,
             "#46039f"
            ],
            [
             0.2222222222222222,
             "#7201a8"
            ],
            [
             0.3333333333333333,
             "#9c179e"
            ],
            [
             0.4444444444444444,
             "#bd3786"
            ],
            [
             0.5555555555555556,
             "#d8576b"
            ],
            [
             0.6666666666666666,
             "#ed7953"
            ],
            [
             0.7777777777777778,
             "#fb9f3a"
            ],
            [
             0.8888888888888888,
             "#fdca26"
            ],
            [
             1,
             "#f0f921"
            ]
           ]
          },
          "colorway": [
           "#636efa",
           "#EF553B",
           "#00cc96",
           "#ab63fa",
           "#FFA15A",
           "#19d3f3",
           "#FF6692",
           "#B6E880",
           "#FF97FF",
           "#FECB52"
          ],
          "font": {
           "color": "#2a3f5f"
          },
          "geo": {
           "bgcolor": "white",
           "lakecolor": "white",
           "landcolor": "#E5ECF6",
           "showlakes": true,
           "showland": true,
           "subunitcolor": "white"
          },
          "hoverlabel": {
           "align": "left"
          },
          "hovermode": "closest",
          "mapbox": {
           "style": "light"
          },
          "paper_bgcolor": "white",
          "plot_bgcolor": "#E5ECF6",
          "polar": {
           "angularaxis": {
            "gridcolor": "white",
            "linecolor": "white",
            "ticks": ""
           },
           "bgcolor": "#E5ECF6",
           "radialaxis": {
            "gridcolor": "white",
            "linecolor": "white",
            "ticks": ""
           }
          },
          "scene": {
           "xaxis": {
            "backgroundcolor": "#E5ECF6",
            "gridcolor": "white",
            "gridwidth": 2,
            "linecolor": "white",
            "showbackground": true,
            "ticks": "",
            "zerolinecolor": "white"
           },
           "yaxis": {
            "backgroundcolor": "#E5ECF6",
            "gridcolor": "white",
            "gridwidth": 2,
            "linecolor": "white",
            "showbackground": true,
            "ticks": "",
            "zerolinecolor": "white"
           },
           "zaxis": {
            "backgroundcolor": "#E5ECF6",
            "gridcolor": "white",
            "gridwidth": 2,
            "linecolor": "white",
            "showbackground": true,
            "ticks": "",
            "zerolinecolor": "white"
           }
          },
          "shapedefaults": {
           "line": {
            "color": "#2a3f5f"
           }
          },
          "ternary": {
           "aaxis": {
            "gridcolor": "white",
            "linecolor": "white",
            "ticks": ""
           },
           "baxis": {
            "gridcolor": "white",
            "linecolor": "white",
            "ticks": ""
           },
           "bgcolor": "#E5ECF6",
           "caxis": {
            "gridcolor": "white",
            "linecolor": "white",
            "ticks": ""
           }
          },
          "title": {
           "x": 0.05
          },
          "xaxis": {
           "automargin": true,
           "gridcolor": "white",
           "linecolor": "white",
           "ticks": "",
           "title": {
            "standoff": 15
           },
           "zerolinecolor": "white",
           "zerolinewidth": 2
          },
          "yaxis": {
           "automargin": true,
           "gridcolor": "white",
           "linecolor": "white",
           "ticks": "",
           "title": {
            "standoff": 15
           },
           "zerolinecolor": "white",
           "zerolinewidth": 2
          }
         }
        },
        "xaxis": {
         "anchor": "y",
         "domain": [
          0,
          1
         ],
         "title": {
          "text": "Sample"
         }
        },
        "yaxis": {
         "anchor": "x",
         "domain": [
          0,
          1
         ],
         "title": {
          "text": "Abundance RPKs"
         }
        }
       }
      },
      "text/html": [
       "<div>\n",
       "        \n",
       "        \n",
       "            <div id=\"b99393f9-27a5-4322-9485-ef9117219f33\" class=\"plotly-graph-div\" style=\"height:525px; width:100%;\"></div>\n",
       "            <script type=\"text/javascript\">\n",
       "                require([\"plotly\"], function(Plotly) {\n",
       "                    window.PLOTLYENV=window.PLOTLYENV || {};\n",
       "                    \n",
       "                if (document.getElementById(\"b99393f9-27a5-4322-9485-ef9117219f33\")) {\n",
       "                    Plotly.newPlot(\n",
       "                        'b99393f9-27a5-4322-9485-ef9117219f33',\n",
       "                        [{\"alignmentgroup\": \"True\", \"hovertemplate\": \"Function=GO:0005840; C:ribosome; IEA:UniProtKB-KW.<br>Sample=%{x}<br>Abundance RPKs=%{y}<extra></extra>\", \"legendgroup\": \"GO:0005840; C:ribosome; IEA:UniProtKB-KW.\", \"marker\": {\"color\": \"#636efa\"}, \"name\": \"GO:0005840; C:ribosome; IEA:UniProtKB-KW.\", \"offsetgroup\": \"GO:0005840; C:ribosome; IEA:UniProtKB-KW.\", \"orientation\": \"v\", \"showlegend\": true, \"textposition\": \"auto\", \"type\": \"bar\", \"x\": [\"Sample 101\", \"Sample 14\", \"Sample 2\", \"Sample 16\", \"Sample 4\", \"Sample 1\", \"Sample 99\", \"Sample 13\"], \"xaxis\": \"x\", \"y\": [193932.13326854643, 92338.27422352582, 102172.25574784346, 67090.3362529997, 129475.55271419618, 91459.72523334088, 55816.223289794485, 83492.73282974292], \"yaxis\": \"y\"}, {\"alignmentgroup\": \"True\", \"hovertemplate\": \"Function=GO:0003735; F:structural constituent of ribosome; IEA:InterPro.<br>Sample=%{x}<br>Abundance RPKs=%{y}<extra></extra>\", \"legendgroup\": \"GO:0003735; F:structural constituent of ribosome; IEA:InterPro.\", \"marker\": {\"color\": \"#EF553B\"}, \"name\": \"GO:0003735; F:structural constituent of ribosome; IEA:InterPro.\", \"offsetgroup\": \"GO:0003735; F:structural constituent of ribosome; IEA:InterPro.\", \"orientation\": \"v\", \"showlegend\": true, \"textposition\": \"auto\", \"type\": \"bar\", \"x\": [\"Sample 101\", \"Sample 14\", \"Sample 2\", \"Sample 16\", \"Sample 4\", \"Sample 1\", \"Sample 99\", \"Sample 13\"], \"xaxis\": \"x\", \"y\": [264241.991791957, 133241.276388694, 147210.82001054892, 95653.26808526758, 184695.62041319656, 129979.3552015445, 80555.63101462393, 120006.08901786846], \"yaxis\": \"y\"}, {\"alignmentgroup\": \"True\", \"hovertemplate\": \"Function=GO:0006412; P:translation; IEA:UniProtKB-UniRule.<br>Sample=%{x}<br>Abundance RPKs=%{y}<extra></extra>\", \"legendgroup\": \"GO:0006412; P:translation; IEA:UniProtKB-UniRule.\", \"marker\": {\"color\": \"#00cc96\"}, \"name\": \"GO:0006412; P:translation; IEA:UniProtKB-UniRule.\", \"offsetgroup\": \"GO:0006412; P:translation; IEA:UniProtKB-UniRule.\", \"orientation\": \"v\", \"showlegend\": true, \"textposition\": \"auto\", \"type\": \"bar\", \"x\": [\"Sample 101\", \"Sample 14\", \"Sample 2\", \"Sample 16\", \"Sample 4\", \"Sample 1\", \"Sample 99\", \"Sample 13\"], \"xaxis\": \"x\", \"y\": [279579.71987851855, 138830.51459663906, 156485.72168252795, 102151.7682099518, 197138.0693874512, 139189.24013106985, 84607.97393811925, 127545.23864444745], \"yaxis\": \"y\"}, {\"alignmentgroup\": \"True\", \"hovertemplate\": \"Function=GO:0015935; C:small ribosomal subunit; IEA:InterPro.<br>Sample=%{x}<br>Abundance RPKs=%{y}<extra></extra>\", \"legendgroup\": \"GO:0015935; C:small ribosomal subunit; IEA:InterPro.\", \"marker\": {\"color\": \"#ab63fa\"}, \"name\": \"GO:0015935; C:small ribosomal subunit; IEA:InterPro.\", \"offsetgroup\": \"GO:0015935; C:small ribosomal subunit; IEA:InterPro.\", \"orientation\": \"v\", \"showlegend\": true, \"textposition\": \"auto\", \"type\": \"bar\", \"x\": [\"Sample 101\", \"Sample 14\", \"Sample 2\", \"Sample 16\", \"Sample 4\", \"Sample 1\", \"Sample 99\", \"Sample 13\"], \"xaxis\": \"x\", \"y\": [31064.474780067605, 14886.007389333108, 18697.347344836093, 12361.827184308302, 22786.28261698931, 16468.6436599943, 11520.972442708204, 17982.267710254386], \"yaxis\": \"y\"}, {\"alignmentgroup\": \"True\", \"hovertemplate\": \"Function=GO:0019843; F:rRNA binding; IEA:UniProtKB-UniRule.<br>Sample=%{x}<br>Abundance RPKs=%{y}<extra></extra>\", \"legendgroup\": \"GO:0019843; F:rRNA binding; IEA:UniProtKB-UniRule.\", \"marker\": {\"color\": \"#FFA15A\"}, \"name\": \"GO:0019843; F:rRNA binding; IEA:UniProtKB-UniRule.\", \"offsetgroup\": \"GO:0019843; F:rRNA binding; IEA:UniProtKB-UniRule.\", \"orientation\": \"v\", \"showlegend\": true, \"textposition\": \"auto\", \"type\": \"bar\", \"x\": [\"Sample 101\", \"Sample 14\", \"Sample 2\", \"Sample 16\", \"Sample 4\", \"Sample 1\", \"Sample 99\", \"Sample 13\"], \"xaxis\": \"x\", \"y\": [162674.24865796394, 89599.2205877212, 104314.25206444741, 71597.8906569351, 120990.88214502578, 89151.93100489175, 55304.4667423551, 81465.5502133795], \"yaxis\": \"y\"}, {\"alignmentgroup\": \"True\", \"hovertemplate\": \"Function=GO:0000049; F:tRNA binding; IEA:UniProtKB-UniRule.<br>Sample=%{x}<br>Abundance RPKs=%{y}<extra></extra>\", \"legendgroup\": \"GO:0000049; F:tRNA binding; IEA:UniProtKB-UniRule.\", \"marker\": {\"color\": \"#19d3f3\"}, \"name\": \"GO:0000049; F:tRNA binding; IEA:UniProtKB-UniRule.\", \"offsetgroup\": \"GO:0000049; F:tRNA binding; IEA:UniProtKB-UniRule.\", \"orientation\": \"v\", \"showlegend\": true, \"textposition\": \"auto\", \"type\": \"bar\", \"x\": [\"Sample 101\", \"Sample 14\", \"Sample 2\", \"Sample 16\", \"Sample 4\", \"Sample 1\", \"Sample 99\", \"Sample 13\"], \"xaxis\": \"x\", \"y\": [44987.2010690873, 18534.252294433998, 22411.9890893769, 17497.7222501684, 24443.399073755903, 22101.983840197903, 12609.886448060497, 18803.40612447829], \"yaxis\": \"y\"}, {\"alignmentgroup\": \"True\", \"hovertemplate\": \"Function=GO:0005737; C:cytoplasm; IEA:UniProtKB-SubCell.<br>Sample=%{x}<br>Abundance RPKs=%{y}<extra></extra>\", \"legendgroup\": \"GO:0005737; C:cytoplasm; IEA:UniProtKB-SubCell.\", \"marker\": {\"color\": \"#FF6692\"}, \"name\": \"GO:0005737; C:cytoplasm; IEA:UniProtKB-SubCell.\", \"offsetgroup\": \"GO:0005737; C:cytoplasm; IEA:UniProtKB-SubCell.\", \"orientation\": \"v\", \"showlegend\": true, \"textposition\": \"auto\", \"type\": \"bar\", \"x\": [\"Sample 101\", \"Sample 14\", \"Sample 2\", \"Sample 16\", \"Sample 4\", \"Sample 1\", \"Sample 99\", \"Sample 13\"], \"xaxis\": \"x\", \"y\": [709177.4943372556, 140496.32346482284, 176477.53664463965, 122729.99905200463, 223954.0915720708, 212141.04976035215, 85527.68812725334, 264718.63258881704], \"yaxis\": \"y\"}, {\"alignmentgroup\": \"True\", \"hovertemplate\": \"Function=GO:0015986; P:ATP synthesis coupled proton transport; IEA:UniProtKB-UniRule.<br>Sample=%{x}<br>Abundance RPKs=%{y}<extra></extra>\", \"legendgroup\": \"GO:0015986; P:ATP synthesis coupled proton transport; IEA:UniProtKB-UniRule.\", \"marker\": {\"color\": \"#B6E880\"}, \"name\": \"GO:0015986; P:ATP synthesis coupled proton transport; IEA:UniProtKB-UniRule.\", \"offsetgroup\": \"GO:0015986; P:ATP synthesis coupled proton transport; IEA:UniProtKB-UniRule.\", \"orientation\": \"v\", \"showlegend\": true, \"textposition\": \"auto\", \"type\": \"bar\", \"x\": [\"Sample 101\", \"Sample 14\", \"Sample 4\"], \"xaxis\": \"x\", \"y\": [19272.445527837514, 10259.9825925806, 10718.27996881], \"yaxis\": \"y\"}, {\"alignmentgroup\": \"True\", \"hovertemplate\": \"Function=GO:0000917; P:division septum assembly; IEA:UniProtKB-KW.<br>Sample=%{x}<br>Abundance RPKs=%{y}<extra></extra>\", \"legendgroup\": \"GO:0000917; P:division septum assembly; IEA:UniProtKB-KW.\", \"marker\": {\"color\": \"#FF97FF\"}, \"name\": \"GO:0000917; P:division septum assembly; IEA:UniProtKB-KW.\", \"offsetgroup\": \"GO:0000917; P:division septum assembly; IEA:UniProtKB-KW.\", \"orientation\": \"v\", \"showlegend\": true, \"textposition\": \"auto\", \"type\": \"bar\", \"x\": [\"Sample 101\"], \"xaxis\": \"x\", \"y\": [21873.422460844507], \"yaxis\": \"y\"}, {\"alignmentgroup\": \"True\", \"hovertemplate\": \"Function=GO:0005525; F:GTP binding; IEA:UniProtKB-UniRule.<br>Sample=%{x}<br>Abundance RPKs=%{y}<extra></extra>\", \"legendgroup\": \"GO:0005525; F:GTP binding; IEA:UniProtKB-UniRule.\", \"marker\": {\"color\": \"#FECB52\"}, \"name\": \"GO:0005525; F:GTP binding; IEA:UniProtKB-UniRule.\", \"offsetgroup\": \"GO:0005525; F:GTP binding; IEA:UniProtKB-UniRule.\", \"orientation\": \"v\", \"showlegend\": true, \"textposition\": \"auto\", \"type\": \"bar\", \"x\": [\"Sample 101\", \"Sample 14\", \"Sample 2\", \"Sample 16\", \"Sample 4\", \"Sample 1\", \"Sample 99\", \"Sample 13\"], \"xaxis\": \"x\", \"y\": [47608.37633272686, 15582.818683321799, 17348.6373073967, 12494.767484025697, 22592.243245375306, 20437.2912631741, 10278.159965559698, 21721.681436862902], \"yaxis\": \"y\"}, {\"alignmentgroup\": \"True\", \"hovertemplate\": \"Function=GO:0003924; F:GTPase activity; IEA:InterPro.<br>Sample=%{x}<br>Abundance RPKs=%{y}<extra></extra>\", \"legendgroup\": \"GO:0003924; F:GTPase activity; IEA:InterPro.\", \"marker\": {\"color\": \"#636efa\"}, \"name\": \"GO:0003924; F:GTPase activity; IEA:InterPro.\", \"offsetgroup\": \"GO:0003924; F:GTPase activity; IEA:InterPro.\", \"orientation\": \"v\", \"showlegend\": true, \"textposition\": \"auto\", \"type\": \"bar\", \"x\": [\"Sample 101\", \"Sample 14\", \"Sample 4\", \"Sample 99\", \"Sample 13\"], \"xaxis\": \"x\", \"y\": [12659.569471711799, 11126.187208655601, 15692.6370622306, 13795.141082632897, 12022.4921979292], \"yaxis\": \"y\"}, {\"alignmentgroup\": \"True\", \"hovertemplate\": \"Function=GO:0003746; F:translation elongation factor activity; IEA:UniProtKB-UniRule.<br>Sample=%{x}<br>Abundance RPKs=%{y}<extra></extra>\", \"legendgroup\": \"GO:0003746; F:translation elongation factor activity; IEA:UniProtKB-UniRule.\", \"marker\": {\"color\": \"#EF553B\"}, \"name\": \"GO:0003746; F:translation elongation factor activity; IEA:UniProtKB-UniRule.\", \"offsetgroup\": \"GO:0003746; F:translation elongation factor activity; IEA:UniProtKB-UniRule.\", \"orientation\": \"v\", \"showlegend\": true, \"textposition\": \"auto\", \"type\": \"bar\", \"x\": [\"Sample 101\", \"Sample 2\", \"Sample 4\", \"Sample 1\", \"Sample 13\"], \"xaxis\": \"x\", \"y\": [19522.8282463032, 10415.095800166897, 11842.121545349399, 10867.232219543703, 10116.484966912301], \"yaxis\": \"y\"}, {\"alignmentgroup\": \"True\", \"hovertemplate\": \"Function=GO:0015934; C:large ribosomal subunit; IEA:InterPro.<br>Sample=%{x}<br>Abundance RPKs=%{y}<extra></extra>\", \"legendgroup\": \"GO:0015934; C:large ribosomal subunit; IEA:InterPro.\", \"marker\": {\"color\": \"#00cc96\"}, \"name\": \"GO:0015934; C:large ribosomal subunit; IEA:InterPro.\", \"offsetgroup\": \"GO:0015934; C:large ribosomal subunit; IEA:InterPro.\", \"orientation\": \"v\", \"showlegend\": true, \"textposition\": \"auto\", \"type\": \"bar\", \"x\": [\"Sample 101\", \"Sample 14\", \"Sample 2\", \"Sample 16\", \"Sample 4\", \"Sample 1\", \"Sample 99\", \"Sample 13\"], \"xaxis\": \"x\", \"y\": [38088.3384908, 25176.793620593096, 25470.784563533096, 14317.286373527897, 30118.441757073608, 21069.0672577846, 12161.2963910544, 18117.485864546503], \"yaxis\": \"y\"}, {\"alignmentgroup\": \"True\", \"hovertemplate\": \"Function=GO:0000049; F:tRNA binding; IEA:UniProtKB-KW.<br>Sample=%{x}<br>Abundance RPKs=%{y}<extra></extra>\", \"legendgroup\": \"GO:0000049; F:tRNA binding; IEA:UniProtKB-KW.\", \"marker\": {\"color\": \"#ab63fa\"}, \"name\": \"GO:0000049; F:tRNA binding; IEA:UniProtKB-KW.\", \"offsetgroup\": \"GO:0000049; F:tRNA binding; IEA:UniProtKB-KW.\", \"orientation\": \"v\", \"showlegend\": true, \"textposition\": \"auto\", \"type\": \"bar\", \"x\": [\"Sample 101\", \"Sample 2\", \"Sample 4\", \"Sample 1\", \"Sample 13\"], \"xaxis\": \"x\", \"y\": [19494.167611398094, 12459.295519451896, 14363.862502737797, 12965.9007716472, 10956.0449275195], \"yaxis\": \"y\"}, {\"alignmentgroup\": \"True\", \"hovertemplate\": \"Function=GO:0008270; F:zinc ion binding; IEA:UniProtKB-UniRule.<br>Sample=%{x}<br>Abundance RPKs=%{y}<extra></extra>\", \"legendgroup\": \"GO:0008270; F:zinc ion binding; IEA:UniProtKB-UniRule.\", \"marker\": {\"color\": \"#FFA15A\"}, \"name\": \"GO:0008270; F:zinc ion binding; IEA:UniProtKB-UniRule.\", \"offsetgroup\": \"GO:0008270; F:zinc ion binding; IEA:UniProtKB-UniRule.\", \"orientation\": \"v\", \"showlegend\": true, \"textposition\": \"auto\", \"type\": \"bar\", \"x\": [\"Sample 101\", \"Sample 2\", \"Sample 16\", \"Sample 4\", \"Sample 1\", \"Sample 13\"], \"xaxis\": \"x\", \"y\": [86959.68924035894, 14875.5553828689, 12742.8754738518, 19799.247724448, 18344.294356296417, 33041.3596576888], \"yaxis\": \"y\"}, {\"alignmentgroup\": \"True\", \"hovertemplate\": \"Function=GO:0005524; F:ATP binding; IEA:UniProtKB-UniRule.<br>Sample=%{x}<br>Abundance RPKs=%{y}<extra></extra>\", \"legendgroup\": \"GO:0005524; F:ATP binding; IEA:UniProtKB-UniRule.\", \"marker\": {\"color\": \"#19d3f3\"}, \"name\": \"GO:0005524; F:ATP binding; IEA:UniProtKB-UniRule.\", \"offsetgroup\": \"GO:0005524; F:ATP binding; IEA:UniProtKB-UniRule.\", \"orientation\": \"v\", \"showlegend\": true, \"textposition\": \"auto\", \"type\": \"bar\", \"x\": [\"Sample 101\", \"Sample 14\", \"Sample 2\", \"Sample 16\", \"Sample 4\", \"Sample 1\", \"Sample 99\", \"Sample 13\"], \"xaxis\": \"x\", \"y\": [205084.3998655271, 47861.09291192864, 62675.999022448916, 42187.683115331, 79585.22502703081, 69893.84486023642, 32769.538205335506, 82485.40743216057], \"yaxis\": \"y\"}, {\"alignmentgroup\": \"True\", \"hovertemplate\": \"Function=GO:0003676; F:nucleic acid binding; IEA:InterPro.<br>Sample=%{x}<br>Abundance RPKs=%{y}<extra></extra>\", \"legendgroup\": \"GO:0003676; F:nucleic acid binding; IEA:InterPro.\", \"marker\": {\"color\": \"#FF6692\"}, \"name\": \"GO:0003676; F:nucleic acid binding; IEA:InterPro.\", \"offsetgroup\": \"GO:0003676; F:nucleic acid binding; IEA:InterPro.\", \"orientation\": \"v\", \"showlegend\": true, \"textposition\": \"auto\", \"type\": \"bar\", \"x\": [\"Sample 101\", \"Sample 4\", \"Sample 13\"], \"xaxis\": \"x\", \"y\": [33609.208159113, 10535.491952835897, 12921.0758400466], \"yaxis\": \"y\"}, {\"alignmentgroup\": \"True\", \"hovertemplate\": \"Function=GO:0005524; F:ATP binding; IEA:UniProtKB-KW.<br>Sample=%{x}<br>Abundance RPKs=%{y}<extra></extra>\", \"legendgroup\": \"GO:0005524; F:ATP binding; IEA:UniProtKB-KW.\", \"marker\": {\"color\": \"#B6E880\"}, \"name\": \"GO:0005524; F:ATP binding; IEA:UniProtKB-KW.\", \"offsetgroup\": \"GO:0005524; F:ATP binding; IEA:UniProtKB-KW.\", \"orientation\": \"v\", \"showlegend\": true, \"textposition\": \"auto\", \"type\": \"bar\", \"x\": [\"Sample 101\", \"Sample 14\", \"Sample 2\", \"Sample 16\", \"Sample 4\", \"Sample 1\", \"Sample 99\", \"Sample 13\"], \"xaxis\": \"x\", \"y\": [178581.75839963395, 27440.783657706685, 37027.76636958149, 19864.14000535259, 39695.26220270137, 39893.81090036273, 15633.553020757305, 63079.6938300346], \"yaxis\": \"y\"}, {\"alignmentgroup\": \"True\", \"hovertemplate\": \"Function=GO:0006096; P:glycolytic process; IEA:UniProtKB-UniRule.<br>Sample=%{x}<br>Abundance RPKs=%{y}<extra></extra>\", \"legendgroup\": \"GO:0006096; P:glycolytic process; IEA:UniProtKB-UniRule.\", \"marker\": {\"color\": \"#FF97FF\"}, \"name\": \"GO:0006096; P:glycolytic process; IEA:UniProtKB-UniRule.\", \"offsetgroup\": \"GO:0006096; P:glycolytic process; IEA:UniProtKB-UniRule.\", \"orientation\": \"v\", \"showlegend\": true, \"textposition\": \"auto\", \"type\": \"bar\", \"x\": [\"Sample 101\", \"Sample 2\", \"Sample 4\", \"Sample 1\", \"Sample 13\"], \"xaxis\": \"x\", \"y\": [29112.555439574793, 11761.799407564597, 13984.217047438106, 10955.522560707303, 11625.427610759598], \"yaxis\": \"y\"}, {\"alignmentgroup\": \"True\", \"hovertemplate\": \"Function=GO:0000287; F:magnesium ion binding; IEA:UniProtKB-UniRule.<br>Sample=%{x}<br>Abundance RPKs=%{y}<extra></extra>\", \"legendgroup\": \"GO:0000287; F:magnesium ion binding; IEA:UniProtKB-UniRule.\", \"marker\": {\"color\": \"#FECB52\"}, \"name\": \"GO:0000287; F:magnesium ion binding; IEA:UniProtKB-UniRule.\", \"offsetgroup\": \"GO:0000287; F:magnesium ion binding; IEA:UniProtKB-UniRule.\", \"orientation\": \"v\", \"showlegend\": true, \"textposition\": \"auto\", \"type\": \"bar\", \"x\": [\"Sample 101\", \"Sample 14\", \"Sample 2\", \"Sample 16\", \"Sample 4\", \"Sample 1\", \"Sample 99\", \"Sample 13\"], \"xaxis\": \"x\", \"y\": [122886.88945956815, 32424.884961827316, 33893.80770073982, 17887.043331212397, 42840.614427342196, 39446.53905245851, 15021.265766061695, 45326.64118968389], \"yaxis\": \"y\"}, {\"alignmentgroup\": \"True\", \"hovertemplate\": \"Function=GO:0006310; P:DNA recombination; IEA:UniProtKB-UniRule.<br>Sample=%{x}<br>Abundance RPKs=%{y}<extra></extra>\", \"legendgroup\": \"GO:0006310; P:DNA recombination; IEA:UniProtKB-UniRule.\", \"marker\": {\"color\": \"#636efa\"}, \"name\": \"GO:0006310; P:DNA recombination; IEA:UniProtKB-UniRule.\", \"offsetgroup\": \"GO:0006310; P:DNA recombination; IEA:UniProtKB-UniRule.\", \"orientation\": \"v\", \"showlegend\": true, \"textposition\": \"auto\", \"type\": \"bar\", \"x\": [\"Sample 101\", \"Sample 4\"], \"xaxis\": \"x\", \"y\": [22090.6124680608, 10635.103687058898], \"yaxis\": \"y\"}, {\"alignmentgroup\": \"True\", \"hovertemplate\": \"Function=GO:0006281; P:DNA repair; IEA:UniProtKB-UniRule.<br>Sample=%{x}<br>Abundance RPKs=%{y}<extra></extra>\", \"legendgroup\": \"GO:0006281; P:DNA repair; IEA:UniProtKB-UniRule.\", \"marker\": {\"color\": \"#EF553B\"}, \"name\": \"GO:0006281; P:DNA repair; IEA:UniProtKB-UniRule.\", \"offsetgroup\": \"GO:0006281; P:DNA repair; IEA:UniProtKB-UniRule.\", \"orientation\": \"v\", \"showlegend\": true, \"textposition\": \"auto\", \"type\": \"bar\", \"x\": [\"Sample 101\", \"Sample 2\", \"Sample 4\", \"Sample 1\", \"Sample 13\"], \"xaxis\": \"x\", \"y\": [30110.000781369898, 10078.265933780598, 13058.1320477414, 12666.116133537404, 14046.189351183797], \"yaxis\": \"y\"}, {\"alignmentgroup\": \"True\", \"hovertemplate\": \"Function=GO:0009432; P:SOS response; IEA:UniProtKB-UniRule.<br>Sample=%{x}<br>Abundance RPKs=%{y}<extra></extra>\", \"legendgroup\": \"GO:0009432; P:SOS response; IEA:UniProtKB-UniRule.\", \"marker\": {\"color\": \"#00cc96\"}, \"name\": \"GO:0009432; P:SOS response; IEA:UniProtKB-UniRule.\", \"offsetgroup\": \"GO:0009432; P:SOS response; IEA:UniProtKB-UniRule.\", \"orientation\": \"v\", \"showlegend\": true, \"textposition\": \"auto\", \"type\": \"bar\", \"x\": [\"Sample 101\"], \"xaxis\": \"x\", \"y\": [21753.959675309798], \"yaxis\": \"y\"}, {\"alignmentgroup\": \"True\", \"hovertemplate\": \"Function=GO:0005886; C:plasma membrane; IEA:UniProtKB-SubCell.<br>Sample=%{x}<br>Abundance RPKs=%{y}<extra></extra>\", \"legendgroup\": \"GO:0005886; C:plasma membrane; IEA:UniProtKB-SubCell.\", \"marker\": {\"color\": \"#ab63fa\"}, \"name\": \"GO:0005886; C:plasma membrane; IEA:UniProtKB-SubCell.\", \"offsetgroup\": \"GO:0005886; C:plasma membrane; IEA:UniProtKB-SubCell.\", \"orientation\": \"v\", \"showlegend\": true, \"textposition\": \"auto\", \"type\": \"bar\", \"x\": [\"Sample 101\", \"Sample 14\", \"Sample 2\", \"Sample 16\", \"Sample 4\", \"Sample 1\", \"Sample 99\", \"Sample 13\"], \"xaxis\": \"x\", \"y\": [266736.75990297424, 17005.474590495396, 21895.88940314801, 15032.175796265301, 27790.835301124007, 30933.694992365112, 12614.717292221496, 77630.18934858702], \"yaxis\": \"y\"}, {\"alignmentgroup\": \"True\", \"hovertemplate\": \"Function=GO:0003924; F:GTPase activity; IEA:UniProtKB-UniRule.<br>Sample=%{x}<br>Abundance RPKs=%{y}<extra></extra>\", \"legendgroup\": \"GO:0003924; F:GTPase activity; IEA:UniProtKB-UniRule.\", \"marker\": {\"color\": \"#FFA15A\"}, \"name\": \"GO:0003924; F:GTPase activity; IEA:UniProtKB-UniRule.\", \"offsetgroup\": \"GO:0003924; F:GTPase activity; IEA:UniProtKB-UniRule.\", \"orientation\": \"v\", \"showlegend\": true, \"textposition\": \"auto\", \"type\": \"bar\", \"x\": [\"Sample 101\", \"Sample 4\"], \"xaxis\": \"x\", \"y\": [17698.45653142059, 10370.377554819099], \"yaxis\": \"y\"}, {\"alignmentgroup\": \"True\", \"hovertemplate\": \"Function=GO:0046983; F:protein dimerization activity; IEA:InterPro.<br>Sample=%{x}<br>Abundance RPKs=%{y}<extra></extra>\", \"legendgroup\": \"GO:0046983; F:protein dimerization activity; IEA:InterPro.\", \"marker\": {\"color\": \"#19d3f3\"}, \"name\": \"GO:0046983; F:protein dimerization activity; IEA:InterPro.\", \"offsetgroup\": \"GO:0046983; F:protein dimerization activity; IEA:InterPro.\", \"orientation\": \"v\", \"showlegend\": true, \"textposition\": \"auto\", \"type\": \"bar\", \"x\": [\"Sample 101\"], \"xaxis\": \"x\", \"y\": [15124.280634133402], \"yaxis\": \"y\"}, {\"alignmentgroup\": \"True\", \"hovertemplate\": \"Function=GO:0051082; F:unfolded protein binding; IEA:UniProtKB-UniRule.<br>Sample=%{x}<br>Abundance RPKs=%{y}<extra></extra>\", \"legendgroup\": \"GO:0051082; F:unfolded protein binding; IEA:UniProtKB-UniRule.\", \"marker\": {\"color\": \"#FF6692\"}, \"name\": \"GO:0051082; F:unfolded protein binding; IEA:UniProtKB-UniRule.\", \"offsetgroup\": \"GO:0051082; F:unfolded protein binding; IEA:UniProtKB-UniRule.\", \"orientation\": \"v\", \"showlegend\": true, \"textposition\": \"auto\", \"type\": \"bar\", \"x\": [\"Sample 101\"], \"xaxis\": \"x\", \"y\": [12712.045871494101], \"yaxis\": \"y\"}, {\"alignmentgroup\": \"True\", \"hovertemplate\": \"Function=GO:0008270; F:zinc ion binding; IEA:InterPro.<br>Sample=%{x}<br>Abundance RPKs=%{y}<extra></extra>\", \"legendgroup\": \"GO:0008270; F:zinc ion binding; IEA:InterPro.\", \"marker\": {\"color\": \"#B6E880\"}, \"name\": \"GO:0008270; F:zinc ion binding; IEA:InterPro.\", \"offsetgroup\": \"GO:0008270; F:zinc ion binding; IEA:InterPro.\", \"orientation\": \"v\", \"showlegend\": true, \"textposition\": \"auto\", \"type\": \"bar\", \"x\": [\"Sample 101\"], \"xaxis\": \"x\", \"y\": [24700.25925888301], \"yaxis\": \"y\"}, {\"alignmentgroup\": \"True\", \"hovertemplate\": \"Function=GO:0006457; P:protein folding; IEA:UniProtKB-UniRule.<br>Sample=%{x}<br>Abundance RPKs=%{y}<extra></extra>\", \"legendgroup\": \"GO:0006457; P:protein folding; IEA:UniProtKB-UniRule.\", \"marker\": {\"color\": \"#FF97FF\"}, \"name\": \"GO:0006457; P:protein folding; IEA:UniProtKB-UniRule.\", \"offsetgroup\": \"GO:0006457; P:protein folding; IEA:UniProtKB-UniRule.\", \"orientation\": \"v\", \"showlegend\": true, \"textposition\": \"auto\", \"type\": \"bar\", \"x\": [\"Sample 101\"], \"xaxis\": \"x\", \"y\": [19224.741369893905], \"yaxis\": \"y\"}, {\"alignmentgroup\": \"True\", \"hovertemplate\": \"Function=GO:0006260; P:DNA replication; IEA:UniProtKB-UniRule.<br>Sample=%{x}<br>Abundance RPKs=%{y}<extra></extra>\", \"legendgroup\": \"GO:0006260; P:DNA replication; IEA:UniProtKB-UniRule.\", \"marker\": {\"color\": \"#FECB52\"}, \"name\": \"GO:0006260; P:DNA replication; IEA:UniProtKB-UniRule.\", \"offsetgroup\": \"GO:0006260; P:DNA replication; IEA:UniProtKB-UniRule.\", \"orientation\": \"v\", \"showlegend\": true, \"textposition\": \"auto\", \"type\": \"bar\", \"x\": [\"Sample 101\"], \"xaxis\": \"x\", \"y\": [13079.318688944903], \"yaxis\": \"y\"}, {\"alignmentgroup\": \"True\", \"hovertemplate\": \"Function=GO:0005525; F:GTP binding; IEA:UniProtKB-KW.<br>Sample=%{x}<br>Abundance RPKs=%{y}<extra></extra>\", \"legendgroup\": \"GO:0005525; F:GTP binding; IEA:UniProtKB-KW.\", \"marker\": {\"color\": \"#636efa\"}, \"name\": \"GO:0005525; F:GTP binding; IEA:UniProtKB-KW.\", \"offsetgroup\": \"GO:0005525; F:GTP binding; IEA:UniProtKB-KW.\", \"orientation\": \"v\", \"showlegend\": true, \"textposition\": \"auto\", \"type\": \"bar\", \"x\": [\"Sample 101\", \"Sample 4\", \"Sample 99\", \"Sample 13\"], \"xaxis\": \"x\", \"y\": [19392.1261206908, 15212.378574938499, 11853.2234942834, 11329.668391185798], \"yaxis\": \"y\"}, {\"alignmentgroup\": \"True\", \"hovertemplate\": \"Function=GO:0009116; P:nucleoside metabolic process; IEA:InterPro.<br>Sample=%{x}<br>Abundance RPKs=%{y}<extra></extra>\", \"legendgroup\": \"GO:0009116; P:nucleoside metabolic process; IEA:InterPro.\", \"marker\": {\"color\": \"#EF553B\"}, \"name\": \"GO:0009116; P:nucleoside metabolic process; IEA:InterPro.\", \"offsetgroup\": \"GO:0009116; P:nucleoside metabolic process; IEA:InterPro.\", \"orientation\": \"v\", \"showlegend\": true, \"textposition\": \"auto\", \"type\": \"bar\", \"x\": [\"Sample 101\"], \"xaxis\": \"x\", \"y\": [10466.0752050693], \"yaxis\": \"y\"}, {\"alignmentgroup\": \"True\", \"hovertemplate\": \"Function=GO:0003677; F:DNA binding; IEA:UniProtKB-UniRule.<br>Sample=%{x}<br>Abundance RPKs=%{y}<extra></extra>\", \"legendgroup\": \"GO:0003677; F:DNA binding; IEA:UniProtKB-UniRule.\", \"marker\": {\"color\": \"#00cc96\"}, \"name\": \"GO:0003677; F:DNA binding; IEA:UniProtKB-UniRule.\", \"offsetgroup\": \"GO:0003677; F:DNA binding; IEA:UniProtKB-UniRule.\", \"orientation\": \"v\", \"showlegend\": true, \"textposition\": \"auto\", \"type\": \"bar\", \"x\": [\"Sample 101\"], \"xaxis\": \"x\", \"y\": [16138.872985481701], \"yaxis\": \"y\"}, {\"alignmentgroup\": \"True\", \"hovertemplate\": \"Function=GO:0046872; F:metal ion binding; IEA:UniProtKB-KW.<br>Sample=%{x}<br>Abundance RPKs=%{y}<extra></extra>\", \"legendgroup\": \"GO:0046872; F:metal ion binding; IEA:UniProtKB-KW.\", \"marker\": {\"color\": \"#ab63fa\"}, \"name\": \"GO:0046872; F:metal ion binding; IEA:UniProtKB-KW.\", \"offsetgroup\": \"GO:0046872; F:metal ion binding; IEA:UniProtKB-KW.\", \"orientation\": \"v\", \"showlegend\": true, \"textposition\": \"auto\", \"type\": \"bar\", \"x\": [\"Sample 101\", \"Sample 14\", \"Sample 2\", \"Sample 16\", \"Sample 4\", \"Sample 1\", \"Sample 99\", \"Sample 13\"], \"xaxis\": \"x\", \"y\": [223384.7772414651, 28069.906270423282, 33466.67365022332, 24157.909522767597, 44563.91132373917, 40779.177924147705, 18227.711701140488, 68812.55048033422], \"yaxis\": \"y\"}, {\"alignmentgroup\": \"True\", \"hovertemplate\": \"Function=GO:0009098; P:leucine biosynthetic process; IEA:UniProtKB-UniRule.<br>Sample=%{x}<br>Abundance RPKs=%{y}<extra></extra>\", \"legendgroup\": \"GO:0009098; P:leucine biosynthetic process; IEA:UniProtKB-UniRule.\", \"marker\": {\"color\": \"#FFA15A\"}, \"name\": \"GO:0009098; P:leucine biosynthetic process; IEA:UniProtKB-UniRule.\", \"offsetgroup\": \"GO:0009098; P:leucine biosynthetic process; IEA:UniProtKB-UniRule.\", \"orientation\": \"v\", \"showlegend\": true, \"textposition\": \"auto\", \"type\": \"bar\", \"x\": [\"Sample 101\"], \"xaxis\": \"x\", \"y\": [10750.712320102799], \"yaxis\": \"y\"}, {\"alignmentgroup\": \"True\", \"hovertemplate\": \"Function=GO:0071555; P:cell wall organization; IEA:UniProtKB-KW.<br>Sample=%{x}<br>Abundance RPKs=%{y}<extra></extra>\", \"legendgroup\": \"GO:0071555; P:cell wall organization; IEA:UniProtKB-KW.\", \"marker\": {\"color\": \"#19d3f3\"}, \"name\": \"GO:0071555; P:cell wall organization; IEA:UniProtKB-KW.\", \"offsetgroup\": \"GO:0071555; P:cell wall organization; IEA:UniProtKB-KW.\", \"orientation\": \"v\", \"showlegend\": true, \"textposition\": \"auto\", \"type\": \"bar\", \"x\": [\"Sample 101\", \"Sample 2\", \"Sample 4\", \"Sample 1\", \"Sample 13\"], \"xaxis\": \"x\", \"y\": [69691.98793040754, 12214.6050930424, 14388.524702128701, 15926.490184289896, 22386.3579477926], \"yaxis\": \"y\"}, {\"alignmentgroup\": \"True\", \"hovertemplate\": \"Function=GO:0009252; P:peptidoglycan biosynthetic process; IEA:UniProtKB-UniRule.<br>Sample=%{x}<br>Abundance RPKs=%{y}<extra></extra>\", \"legendgroup\": \"GO:0009252; P:peptidoglycan biosynthetic process; IEA:UniProtKB-UniRule.\", \"marker\": {\"color\": \"#FF6692\"}, \"name\": \"GO:0009252; P:peptidoglycan biosynthetic process; IEA:UniProtKB-UniRule.\", \"offsetgroup\": \"GO:0009252; P:peptidoglycan biosynthetic process; IEA:UniProtKB-UniRule.\", \"orientation\": \"v\", \"showlegend\": true, \"textposition\": \"auto\", \"type\": \"bar\", \"x\": [\"Sample 101\", \"Sample 2\", \"Sample 4\", \"Sample 1\", \"Sample 13\"], \"xaxis\": \"x\", \"y\": [41520.782956049516, 10626.7572516028, 12136.154142101404, 13589.172545428293, 15734.347348768702], \"yaxis\": \"y\"}, {\"alignmentgroup\": \"True\", \"hovertemplate\": \"Function=GO:0008360; P:regulation of cell shape; IEA:UniProtKB-KW.<br>Sample=%{x}<br>Abundance RPKs=%{y}<extra></extra>\", \"legendgroup\": \"GO:0008360; P:regulation of cell shape; IEA:UniProtKB-KW.\", \"marker\": {\"color\": \"#B6E880\"}, \"name\": \"GO:0008360; P:regulation of cell shape; IEA:UniProtKB-KW.\", \"offsetgroup\": \"GO:0008360; P:regulation of cell shape; IEA:UniProtKB-KW.\", \"orientation\": \"v\", \"showlegend\": true, \"textposition\": \"auto\", \"type\": \"bar\", \"x\": [\"Sample 101\", \"Sample 2\", \"Sample 4\", \"Sample 1\", \"Sample 13\"], \"xaxis\": \"x\", \"y\": [54395.758177077114, 12060.4968295944, 14034.216610916403, 15523.958053635597, 19245.2244066198], \"yaxis\": \"y\"}, {\"alignmentgroup\": \"True\", \"hovertemplate\": \"Function=GO:0042274; P:ribosomal small subunit biogenesis; IEA:UniProtKB-UniRule.<br>Sample=%{x}<br>Abundance RPKs=%{y}<extra></extra>\", \"legendgroup\": \"GO:0042274; P:ribosomal small subunit biogenesis; IEA:UniProtKB-UniRule.\", \"marker\": {\"color\": \"#FF97FF\"}, \"name\": \"GO:0042274; P:ribosomal small subunit biogenesis; IEA:UniProtKB-UniRule.\", \"offsetgroup\": \"GO:0042274; P:ribosomal small subunit biogenesis; IEA:UniProtKB-UniRule.\", \"orientation\": \"v\", \"showlegend\": true, \"textposition\": \"auto\", \"type\": \"bar\", \"x\": [\"Sample 101\"], \"xaxis\": \"x\", \"y\": [11597.610885727898], \"yaxis\": \"y\"}, {\"alignmentgroup\": \"True\", \"hovertemplate\": \"Function=GO:0000287; F:magnesium ion binding; IEA:InterPro.<br>Sample=%{x}<br>Abundance RPKs=%{y}<extra></extra>\", \"legendgroup\": \"GO:0000287; F:magnesium ion binding; IEA:InterPro.\", \"marker\": {\"color\": \"#FECB52\"}, \"name\": \"GO:0000287; F:magnesium ion binding; IEA:InterPro.\", \"offsetgroup\": \"GO:0000287; F:magnesium ion binding; IEA:InterPro.\", \"orientation\": \"v\", \"showlegend\": true, \"textposition\": \"auto\", \"type\": \"bar\", \"x\": [\"Sample 101\"], \"xaxis\": \"x\", \"y\": [25931.958875661203], \"yaxis\": \"y\"}, {\"alignmentgroup\": \"True\", \"hovertemplate\": \"Function=GO:0003723; F:RNA binding; IEA:InterPro.<br>Sample=%{x}<br>Abundance RPKs=%{y}<extra></extra>\", \"legendgroup\": \"GO:0003723; F:RNA binding; IEA:InterPro.\", \"marker\": {\"color\": \"#636efa\"}, \"name\": \"GO:0003723; F:RNA binding; IEA:InterPro.\", \"offsetgroup\": \"GO:0003723; F:RNA binding; IEA:InterPro.\", \"orientation\": \"v\", \"showlegend\": true, \"textposition\": \"auto\", \"type\": \"bar\", \"x\": [\"Sample 101\"], \"xaxis\": \"x\", \"y\": [20621.3090058804], \"yaxis\": \"y\"}, {\"alignmentgroup\": \"True\", \"hovertemplate\": \"Function=GO:0006633; P:fatty acid biosynthetic process; IEA:UniProtKB-UniRule.<br>Sample=%{x}<br>Abundance RPKs=%{y}<extra></extra>\", \"legendgroup\": \"GO:0006633; P:fatty acid biosynthetic process; IEA:UniProtKB-UniRule.\", \"marker\": {\"color\": \"#EF553B\"}, \"name\": \"GO:0006633; P:fatty acid biosynthetic process; IEA:UniProtKB-UniRule.\", \"offsetgroup\": \"GO:0006633; P:fatty acid biosynthetic process; IEA:UniProtKB-UniRule.\", \"orientation\": \"v\", \"showlegend\": true, \"textposition\": \"auto\", \"type\": \"bar\", \"x\": [\"Sample 101\"], \"xaxis\": \"x\", \"y\": [23214.007363969602], \"yaxis\": \"y\"}, {\"alignmentgroup\": \"True\", \"hovertemplate\": \"Function=GO:0005524; F:ATP binding; IEA:InterPro.<br>Sample=%{x}<br>Abundance RPKs=%{y}<extra></extra>\", \"legendgroup\": \"GO:0005524; F:ATP binding; IEA:InterPro.\", \"marker\": {\"color\": \"#00cc96\"}, \"name\": \"GO:0005524; F:ATP binding; IEA:InterPro.\", \"offsetgroup\": \"GO:0005524; F:ATP binding; IEA:InterPro.\", \"orientation\": \"v\", \"showlegend\": true, \"textposition\": \"auto\", \"type\": \"bar\", \"x\": [\"Sample 101\"], \"xaxis\": \"x\", \"y\": [10856.7391825416], \"yaxis\": \"y\"}, {\"alignmentgroup\": \"True\", \"hovertemplate\": \"Function=GO:0019843; F:rRNA binding; IEA:UniProtKB-KW.<br>Sample=%{x}<br>Abundance RPKs=%{y}<extra></extra>\", \"legendgroup\": \"GO:0019843; F:rRNA binding; IEA:UniProtKB-KW.\", \"marker\": {\"color\": \"#ab63fa\"}, \"name\": \"GO:0019843; F:rRNA binding; IEA:UniProtKB-KW.\", \"offsetgroup\": \"GO:0019843; F:rRNA binding; IEA:UniProtKB-KW.\", \"orientation\": \"v\", \"showlegend\": true, \"textposition\": \"auto\", \"type\": \"bar\", \"x\": [\"Sample 101\"], \"xaxis\": \"x\", \"y\": [11714.0132201199], \"yaxis\": \"y\"}, {\"alignmentgroup\": \"True\", \"hovertemplate\": \"Function=GO:0016021; C:integral component of membrane; IEA:UniProtKB-KW.<br>Sample=%{x}<br>Abundance RPKs=%{y}<extra></extra>\", \"legendgroup\": \"GO:0016021; C:integral component of membrane; IEA:UniProtKB-KW.\", \"marker\": {\"color\": \"#FFA15A\"}, \"name\": \"GO:0016021; C:integral component of membrane; IEA:UniProtKB-KW.\", \"offsetgroup\": \"GO:0016021; C:integral component of membrane; IEA:UniProtKB-KW.\", \"orientation\": \"v\", \"showlegend\": true, \"textposition\": \"auto\", \"type\": \"bar\", \"x\": [\"Sample 101\", \"Sample 14\", \"Sample 2\", \"Sample 4\", \"Sample 1\", \"Sample 13\"], \"xaxis\": \"x\", \"y\": [256605.38347323466, 10917.295318609495, 14013.305663371795, 18603.0604997382, 20356.122369875702, 67733.35484026482], \"yaxis\": \"y\"}, {\"alignmentgroup\": \"True\", \"hovertemplate\": \"Function=GO:0005506; F:iron ion binding; IEA:InterPro.<br>Sample=%{x}<br>Abundance RPKs=%{y}<extra></extra>\", \"legendgroup\": \"GO:0005506; F:iron ion binding; IEA:InterPro.\", \"marker\": {\"color\": \"#19d3f3\"}, \"name\": \"GO:0005506; F:iron ion binding; IEA:InterPro.\", \"offsetgroup\": \"GO:0005506; F:iron ion binding; IEA:InterPro.\", \"orientation\": \"v\", \"showlegend\": true, \"textposition\": \"auto\", \"type\": \"bar\", \"x\": [\"Sample 101\"], \"xaxis\": \"x\", \"y\": [12667.0639447979], \"yaxis\": \"y\"}, {\"alignmentgroup\": \"True\", \"hovertemplate\": \"Function=GO:0006189; P:'de novo' IMP biosynthetic process; IEA:UniProtKB-UniRule.<br>Sample=%{x}<br>Abundance RPKs=%{y}<extra></extra>\", \"legendgroup\": \"GO:0006189; P:'de novo' IMP biosynthetic process; IEA:UniProtKB-UniRule.\", \"marker\": {\"color\": \"#FF6692\"}, \"name\": \"GO:0006189; P:'de novo' IMP biosynthetic process; IEA:UniProtKB-UniRule.\", \"offsetgroup\": \"GO:0006189; P:'de novo' IMP biosynthetic process; IEA:UniProtKB-UniRule.\", \"orientation\": \"v\", \"showlegend\": true, \"textposition\": \"auto\", \"type\": \"bar\", \"x\": [\"Sample 101\"], \"xaxis\": \"x\", \"y\": [15670.758052206098], \"yaxis\": \"y\"}, {\"alignmentgroup\": \"True\", \"hovertemplate\": \"Function=GO:0009073; P:aromatic amino acid family biosynthetic process; IEA:UniProtKB-UniRule.<br>Sample=%{x}<br>Abundance RPKs=%{y}<extra></extra>\", \"legendgroup\": \"GO:0009073; P:aromatic amino acid family biosynthetic process; IEA:UniProtKB-UniRule.\", \"marker\": {\"color\": \"#B6E880\"}, \"name\": \"GO:0009073; P:aromatic amino acid family biosynthetic process; IEA:UniProtKB-UniRule.\", \"offsetgroup\": \"GO:0009073; P:aromatic amino acid family biosynthetic process; IEA:UniProtKB-UniRule.\", \"orientation\": \"v\", \"showlegend\": true, \"textposition\": \"auto\", \"type\": \"bar\", \"x\": [\"Sample 101\"], \"xaxis\": \"x\", \"y\": [18719.86102833669], \"yaxis\": \"y\"}, {\"alignmentgroup\": \"True\", \"hovertemplate\": \"Function=GO:0009423; P:chorismate biosynthetic process; IEA:UniProtKB-UniPathway.<br>Sample=%{x}<br>Abundance RPKs=%{y}<extra></extra>\", \"legendgroup\": \"GO:0009423; P:chorismate biosynthetic process; IEA:UniProtKB-UniPathway.\", \"marker\": {\"color\": \"#FF97FF\"}, \"name\": \"GO:0009423; P:chorismate biosynthetic process; IEA:UniProtKB-UniPathway.\", \"offsetgroup\": \"GO:0009423; P:chorismate biosynthetic process; IEA:UniProtKB-UniPathway.\", \"orientation\": \"v\", \"showlegend\": true, \"textposition\": \"auto\", \"type\": \"bar\", \"x\": [\"Sample 101\"], \"xaxis\": \"x\", \"y\": [18995.16625668459], \"yaxis\": \"y\"}, {\"alignmentgroup\": \"True\", \"hovertemplate\": \"Function=GO:0004222; F:metalloendopeptidase activity; IEA:InterPro.<br>Sample=%{x}<br>Abundance RPKs=%{y}<extra></extra>\", \"legendgroup\": \"GO:0004222; F:metalloendopeptidase activity; IEA:InterPro.\", \"marker\": {\"color\": \"#FECB52\"}, \"name\": \"GO:0004222; F:metalloendopeptidase activity; IEA:InterPro.\", \"offsetgroup\": \"GO:0004222; F:metalloendopeptidase activity; IEA:InterPro.\", \"orientation\": \"v\", \"showlegend\": true, \"textposition\": \"auto\", \"type\": \"bar\", \"x\": [\"Sample 101\"], \"xaxis\": \"x\", \"y\": [11463.964824665103], \"yaxis\": \"y\"}, {\"alignmentgroup\": \"True\", \"hovertemplate\": \"Function=GO:0006364; P:rRNA processing; IEA:UniProtKB-UniRule.<br>Sample=%{x}<br>Abundance RPKs=%{y}<extra></extra>\", \"legendgroup\": \"GO:0006364; P:rRNA processing; IEA:UniProtKB-UniRule.\", \"marker\": {\"color\": \"#636efa\"}, \"name\": \"GO:0006364; P:rRNA processing; IEA:UniProtKB-UniRule.\", \"offsetgroup\": \"GO:0006364; P:rRNA processing; IEA:UniProtKB-UniRule.\", \"orientation\": \"v\", \"showlegend\": true, \"textposition\": \"auto\", \"type\": \"bar\", \"x\": [\"Sample 101\"], \"xaxis\": \"x\", \"y\": [11050.171264344102], \"yaxis\": \"y\"}, {\"alignmentgroup\": \"True\", \"hovertemplate\": \"Function=GO:0016597; F:amino acid binding; IEA:InterPro.<br>Sample=%{x}<br>Abundance RPKs=%{y}<extra></extra>\", \"legendgroup\": \"GO:0016597; F:amino acid binding; IEA:InterPro.\", \"marker\": {\"color\": \"#EF553B\"}, \"name\": \"GO:0016597; F:amino acid binding; IEA:InterPro.\", \"offsetgroup\": \"GO:0016597; F:amino acid binding; IEA:InterPro.\", \"orientation\": \"v\", \"showlegend\": true, \"textposition\": \"auto\", \"type\": \"bar\", \"x\": [\"Sample 101\"], \"xaxis\": \"x\", \"y\": [10587.448525762802], \"yaxis\": \"y\"}, {\"alignmentgroup\": \"True\", \"hovertemplate\": \"Function=GO:0006207; P:'de novo' pyrimidine nucleobase biosynthetic process; IEA:InterPro.<br>Sample=%{x}<br>Abundance RPKs=%{y}<extra></extra>\", \"legendgroup\": \"GO:0006207; P:'de novo' pyrimidine nucleobase biosynthetic process; IEA:InterPro.\", \"marker\": {\"color\": \"#00cc96\"}, \"name\": \"GO:0006207; P:'de novo' pyrimidine nucleobase biosynthetic process; IEA:InterPro.\", \"offsetgroup\": \"GO:0006207; P:'de novo' pyrimidine nucleobase biosynthetic process; IEA:InterPro.\", \"orientation\": \"v\", \"showlegend\": true, \"textposition\": \"auto\", \"type\": \"bar\", \"x\": [\"Sample 101\"], \"xaxis\": \"x\", \"y\": [13938.904883267896], \"yaxis\": \"y\"}, {\"alignmentgroup\": \"True\", \"hovertemplate\": \"Function=GO:0044205; P:'de novo' UMP biosynthetic process; IEA:UniProtKB-UniPathway.<br>Sample=%{x}<br>Abundance RPKs=%{y}<extra></extra>\", \"legendgroup\": \"GO:0044205; P:'de novo' UMP biosynthetic process; IEA:UniProtKB-UniPathway.\", \"marker\": {\"color\": \"#ab63fa\"}, \"name\": \"GO:0044205; P:'de novo' UMP biosynthetic process; IEA:UniProtKB-UniPathway.\", \"offsetgroup\": \"GO:0044205; P:'de novo' UMP biosynthetic process; IEA:UniProtKB-UniPathway.\", \"orientation\": \"v\", \"showlegend\": true, \"textposition\": \"auto\", \"type\": \"bar\", \"x\": [\"Sample 101\"], \"xaxis\": \"x\", \"y\": [20270.02367426699], \"yaxis\": \"y\"}, {\"alignmentgroup\": \"True\", \"hovertemplate\": \"Function=GO:0000105; P:histidine biosynthetic process; IEA:UniProtKB-UniRule.<br>Sample=%{x}<br>Abundance RPKs=%{y}<extra></extra>\", \"legendgroup\": \"GO:0000105; P:histidine biosynthetic process; IEA:UniProtKB-UniRule.\", \"marker\": {\"color\": \"#FFA15A\"}, \"name\": \"GO:0000105; P:histidine biosynthetic process; IEA:UniProtKB-UniRule.\", \"offsetgroup\": \"GO:0000105; P:histidine biosynthetic process; IEA:UniProtKB-UniRule.\", \"orientation\": \"v\", \"showlegend\": true, \"textposition\": \"auto\", \"type\": \"bar\", \"x\": [\"Sample 101\", \"Sample 14\", \"Sample 4\", \"Sample 1\", \"Sample 13\"], \"xaxis\": \"x\", \"y\": [17803.231651112797, 11479.653691241505, 12171.311443280603, 10061.873766276602, 10776.705289085901], \"yaxis\": \"y\"}, {\"alignmentgroup\": \"True\", \"hovertemplate\": \"Function=GO:0005887; C:integral component of plasma membrane; IEA:UniProtKB-UniRule.<br>Sample=%{x}<br>Abundance RPKs=%{y}<extra></extra>\", \"legendgroup\": \"GO:0005887; C:integral component of plasma membrane; IEA:UniProtKB-UniRule.\", \"marker\": {\"color\": \"#19d3f3\"}, \"name\": \"GO:0005887; C:integral component of plasma membrane; IEA:UniProtKB-UniRule.\", \"offsetgroup\": \"GO:0005887; C:integral component of plasma membrane; IEA:UniProtKB-UniRule.\", \"orientation\": \"v\", \"showlegend\": true, \"textposition\": \"auto\", \"type\": \"bar\", \"x\": [\"Sample 101\", \"Sample 13\"], \"xaxis\": \"x\", \"y\": [41521.18965147211, 12984.524049278803], \"yaxis\": \"y\"}, {\"alignmentgroup\": \"True\", \"hovertemplate\": \"Function=GO:0003677; F:DNA binding; IEA:UniProtKB-KW.<br>Sample=%{x}<br>Abundance RPKs=%{y}<extra></extra>\", \"legendgroup\": \"GO:0003677; F:DNA binding; IEA:UniProtKB-KW.\", \"marker\": {\"color\": \"#FF6692\"}, \"name\": \"GO:0003677; F:DNA binding; IEA:UniProtKB-KW.\", \"offsetgroup\": \"GO:0003677; F:DNA binding; IEA:UniProtKB-KW.\", \"orientation\": \"v\", \"showlegend\": true, \"textposition\": \"auto\", \"type\": \"bar\", \"x\": [\"Sample 101\", \"Sample 13\"], \"xaxis\": \"x\", \"y\": [84257.3131684741, 16199.495385048598], \"yaxis\": \"y\"}, {\"alignmentgroup\": \"True\", \"hovertemplate\": \"Function=GO:0003677; F:DNA binding; IEA:InterPro.<br>Sample=%{x}<br>Abundance RPKs=%{y}<extra></extra>\", \"legendgroup\": \"GO:0003677; F:DNA binding; IEA:InterPro.\", \"marker\": {\"color\": \"#B6E880\"}, \"name\": \"GO:0003677; F:DNA binding; IEA:InterPro.\", \"offsetgroup\": \"GO:0003677; F:DNA binding; IEA:InterPro.\", \"orientation\": \"v\", \"showlegend\": true, \"textposition\": \"auto\", \"type\": \"bar\", \"x\": [\"Sample 101\"], \"xaxis\": \"x\", \"y\": [10937.624297867296], \"yaxis\": \"y\"}, {\"alignmentgroup\": \"True\", \"hovertemplate\": \"Function=GO:0006094; P:gluconeogenesis; IEA:UniProtKB-UniRule.<br>Sample=%{x}<br>Abundance RPKs=%{y}<extra></extra>\", \"legendgroup\": \"GO:0006094; P:gluconeogenesis; IEA:UniProtKB-UniRule.\", \"marker\": {\"color\": \"#FF97FF\"}, \"name\": \"GO:0006094; P:gluconeogenesis; IEA:UniProtKB-UniRule.\", \"offsetgroup\": \"GO:0006094; P:gluconeogenesis; IEA:UniProtKB-UniRule.\", \"orientation\": \"v\", \"showlegend\": true, \"textposition\": \"auto\", \"type\": \"bar\", \"x\": [\"Sample 101\", \"Sample 4\"], \"xaxis\": \"x\", \"y\": [16877.3603710893, 10774.461104253201], \"yaxis\": \"y\"}, {\"alignmentgroup\": \"True\", \"hovertemplate\": \"Function=GO:0007049; P:cell cycle; IEA:UniProtKB-KW.<br>Sample=%{x}<br>Abundance RPKs=%{y}<extra></extra>\", \"legendgroup\": \"GO:0007049; P:cell cycle; IEA:UniProtKB-KW.\", \"marker\": {\"color\": \"#FECB52\"}, \"name\": \"GO:0007049; P:cell cycle; IEA:UniProtKB-KW.\", \"offsetgroup\": \"GO:0007049; P:cell cycle; IEA:UniProtKB-KW.\", \"orientation\": \"v\", \"showlegend\": true, \"textposition\": \"auto\", \"type\": \"bar\", \"x\": [\"Sample 101\", \"Sample 2\", \"Sample 4\", \"Sample 1\", \"Sample 13\"], \"xaxis\": \"x\", \"y\": [45721.9190008626, 10936.118624750103, 10774.351417012402, 12662.8755516549, 15089.952209317598], \"yaxis\": \"y\"}, {\"alignmentgroup\": \"True\", \"hovertemplate\": \"Function=GO:0005506; F:iron ion binding; IEA:UniProtKB-UniRule.<br>Sample=%{x}<br>Abundance RPKs=%{y}<extra></extra>\", \"legendgroup\": \"GO:0005506; F:iron ion binding; IEA:UniProtKB-UniRule.\", \"marker\": {\"color\": \"#636efa\"}, \"name\": \"GO:0005506; F:iron ion binding; IEA:UniProtKB-UniRule.\", \"offsetgroup\": \"GO:0005506; F:iron ion binding; IEA:UniProtKB-UniRule.\", \"orientation\": \"v\", \"showlegend\": true, \"textposition\": \"auto\", \"type\": \"bar\", \"x\": [\"Sample 101\"], \"xaxis\": \"x\", \"y\": [27552.261780897104], \"yaxis\": \"y\"}, {\"alignmentgroup\": \"True\", \"hovertemplate\": \"Function=GO:0050661; F:NADP binding; IEA:InterPro.<br>Sample=%{x}<br>Abundance RPKs=%{y}<extra></extra>\", \"legendgroup\": \"GO:0050661; F:NADP binding; IEA:InterPro.\", \"marker\": {\"color\": \"#EF553B\"}, \"name\": \"GO:0050661; F:NADP binding; IEA:InterPro.\", \"offsetgroup\": \"GO:0050661; F:NADP binding; IEA:InterPro.\", \"orientation\": \"v\", \"showlegend\": true, \"textposition\": \"auto\", \"type\": \"bar\", \"x\": [\"Sample 101\"], \"xaxis\": \"x\", \"y\": [15933.9817459581], \"yaxis\": \"y\"}, {\"alignmentgroup\": \"True\", \"hovertemplate\": \"Function=GO:0003723; F:RNA binding; IEA:UniProtKB-KW.<br>Sample=%{x}<br>Abundance RPKs=%{y}<extra></extra>\", \"legendgroup\": \"GO:0003723; F:RNA binding; IEA:UniProtKB-KW.\", \"marker\": {\"color\": \"#00cc96\"}, \"name\": \"GO:0003723; F:RNA binding; IEA:UniProtKB-KW.\", \"offsetgroup\": \"GO:0003723; F:RNA binding; IEA:UniProtKB-KW.\", \"orientation\": \"v\", \"showlegend\": true, \"textposition\": \"auto\", \"type\": \"bar\", \"x\": [\"Sample 101\"], \"xaxis\": \"x\", \"y\": [20209.6363600556], \"yaxis\": \"y\"}, {\"alignmentgroup\": \"True\", \"hovertemplate\": \"Function=GO:0006526; P:arginine biosynthetic process; IEA:UniProtKB-UniRule.<br>Sample=%{x}<br>Abundance RPKs=%{y}<extra></extra>\", \"legendgroup\": \"GO:0006526; P:arginine biosynthetic process; IEA:UniProtKB-UniRule.\", \"marker\": {\"color\": \"#ab63fa\"}, \"name\": \"GO:0006526; P:arginine biosynthetic process; IEA:UniProtKB-UniRule.\", \"offsetgroup\": \"GO:0006526; P:arginine biosynthetic process; IEA:UniProtKB-UniRule.\", \"orientation\": \"v\", \"showlegend\": true, \"textposition\": \"auto\", \"type\": \"bar\", \"x\": [\"Sample 101\"], \"xaxis\": \"x\", \"y\": [17570.9870590875], \"yaxis\": \"y\"}, {\"alignmentgroup\": \"True\", \"hovertemplate\": \"Function=GO:0003700; F:DNA-binding transcription factor activity; IEA:UniProtKB-UniRule.<br>Sample=%{x}<br>Abundance RPKs=%{y}<extra></extra>\", \"legendgroup\": \"GO:0003700; F:DNA-binding transcription factor activity; IEA:UniProtKB-UniRule.\", \"marker\": {\"color\": \"#FFA15A\"}, \"name\": \"GO:0003700; F:DNA-binding transcription factor activity; IEA:UniProtKB-UniRule.\", \"offsetgroup\": \"GO:0003700; F:DNA-binding transcription factor activity; IEA:UniProtKB-UniRule.\", \"orientation\": \"v\", \"showlegend\": true, \"textposition\": \"auto\", \"type\": \"bar\", \"x\": [\"Sample 101\"], \"xaxis\": \"x\", \"y\": [25878.42579259491], \"yaxis\": \"y\"}, {\"alignmentgroup\": \"True\", \"hovertemplate\": \"Function=GO:0051301; P:cell division; IEA:UniProtKB-KW.<br>Sample=%{x}<br>Abundance RPKs=%{y}<extra></extra>\", \"legendgroup\": \"GO:0051301; P:cell division; IEA:UniProtKB-KW.\", \"marker\": {\"color\": \"#19d3f3\"}, \"name\": \"GO:0051301; P:cell division; IEA:UniProtKB-KW.\", \"offsetgroup\": \"GO:0051301; P:cell division; IEA:UniProtKB-KW.\", \"orientation\": \"v\", \"showlegend\": true, \"textposition\": \"auto\", \"type\": \"bar\", \"x\": [\"Sample 101\", \"Sample 2\", \"Sample 4\", \"Sample 1\", \"Sample 13\"], \"xaxis\": \"x\", \"y\": [42315.04497425561, 10411.567725349903, 10259.522473688901, 12345.694879093704, 14421.761875736898], \"yaxis\": \"y\"}, {\"alignmentgroup\": \"True\", \"hovertemplate\": \"Function=GO:0008033; P:tRNA processing; IEA:UniProtKB-UniRule.<br>Sample=%{x}<br>Abundance RPKs=%{y}<extra></extra>\", \"legendgroup\": \"GO:0008033; P:tRNA processing; IEA:UniProtKB-UniRule.\", \"marker\": {\"color\": \"#FF6692\"}, \"name\": \"GO:0008033; P:tRNA processing; IEA:UniProtKB-UniRule.\", \"offsetgroup\": \"GO:0008033; P:tRNA processing; IEA:UniProtKB-UniRule.\", \"orientation\": \"v\", \"showlegend\": true, \"textposition\": \"auto\", \"type\": \"bar\", \"x\": [\"Sample 101\"], \"xaxis\": \"x\", \"y\": [11362.7018400215], \"yaxis\": \"y\"}, {\"alignmentgroup\": \"True\", \"hovertemplate\": \"Function=GO:0006400; P:tRNA modification; IEA:UniProtKB-UniRule.<br>Sample=%{x}<br>Abundance RPKs=%{y}<extra></extra>\", \"legendgroup\": \"GO:0006400; P:tRNA modification; IEA:UniProtKB-UniRule.\", \"marker\": {\"color\": \"#B6E880\"}, \"name\": \"GO:0006400; P:tRNA modification; IEA:UniProtKB-UniRule.\", \"offsetgroup\": \"GO:0006400; P:tRNA modification; IEA:UniProtKB-UniRule.\", \"orientation\": \"v\", \"showlegend\": true, \"textposition\": \"auto\", \"type\": \"bar\", \"x\": [\"Sample 101\"], \"xaxis\": \"x\", \"y\": [12979.440451207402], \"yaxis\": \"y\"}, {\"alignmentgroup\": \"True\", \"hovertemplate\": \"Function=GO:0005975; P:carbohydrate metabolic process; IEA:InterPro.<br>Sample=%{x}<br>Abundance RPKs=%{y}<extra></extra>\", \"legendgroup\": \"GO:0005975; P:carbohydrate metabolic process; IEA:InterPro.\", \"marker\": {\"color\": \"#FF97FF\"}, \"name\": \"GO:0005975; P:carbohydrate metabolic process; IEA:InterPro.\", \"offsetgroup\": \"GO:0005975; P:carbohydrate metabolic process; IEA:InterPro.\", \"orientation\": \"v\", \"showlegend\": true, \"textposition\": \"auto\", \"type\": \"bar\", \"x\": [\"Sample 101\"], \"xaxis\": \"x\", \"y\": [25108.095091587198], \"yaxis\": \"y\"}, {\"alignmentgroup\": \"True\", \"hovertemplate\": \"Function=GO:0030170; F:pyridoxal phosphate binding; IEA:InterPro.<br>Sample=%{x}<br>Abundance RPKs=%{y}<extra></extra>\", \"legendgroup\": \"GO:0030170; F:pyridoxal phosphate binding; IEA:InterPro.\", \"marker\": {\"color\": \"#FECB52\"}, \"name\": \"GO:0030170; F:pyridoxal phosphate binding; IEA:InterPro.\", \"offsetgroup\": \"GO:0030170; F:pyridoxal phosphate binding; IEA:InterPro.\", \"orientation\": \"v\", \"showlegend\": true, \"textposition\": \"auto\", \"type\": \"bar\", \"x\": [\"Sample 101\"], \"xaxis\": \"x\", \"y\": [14647.1149863721], \"yaxis\": \"y\"}, {\"alignmentgroup\": \"True\", \"hovertemplate\": \"Function=GO:0009229; P:thiamine diphosphate biosynthetic process; IEA:UniProtKB-UniPathway.<br>Sample=%{x}<br>Abundance RPKs=%{y}<extra></extra>\", \"legendgroup\": \"GO:0009229; P:thiamine diphosphate biosynthetic process; IEA:UniProtKB-UniPathway.\", \"marker\": {\"color\": \"#636efa\"}, \"name\": \"GO:0009229; P:thiamine diphosphate biosynthetic process; IEA:UniProtKB-UniPathway.\", \"offsetgroup\": \"GO:0009229; P:thiamine diphosphate biosynthetic process; IEA:UniProtKB-UniPathway.\", \"orientation\": \"v\", \"showlegend\": true, \"textposition\": \"auto\", \"type\": \"bar\", \"x\": [\"Sample 101\"], \"xaxis\": \"x\", \"y\": [10922.053483444406], \"yaxis\": \"y\"}, {\"alignmentgroup\": \"True\", \"hovertemplate\": \"Function=GO:0000166; F:nucleotide binding; IEA:UniProtKB-KW.<br>Sample=%{x}<br>Abundance RPKs=%{y}<extra></extra>\", \"legendgroup\": \"GO:0000166; F:nucleotide binding; IEA:UniProtKB-KW.\", \"marker\": {\"color\": \"#EF553B\"}, \"name\": \"GO:0000166; F:nucleotide binding; IEA:UniProtKB-KW.\", \"offsetgroup\": \"GO:0000166; F:nucleotide binding; IEA:UniProtKB-KW.\", \"orientation\": \"v\", \"showlegend\": true, \"textposition\": \"auto\", \"type\": \"bar\", \"x\": [\"Sample 101\"], \"xaxis\": \"x\", \"y\": [21271.85613044359], \"yaxis\": \"y\"}, {\"alignmentgroup\": \"True\", \"hovertemplate\": \"Function=GO:0016114; P:terpenoid biosynthetic process; IEA:UniProtKB-UniRule.<br>Sample=%{x}<br>Abundance RPKs=%{y}<extra></extra>\", \"legendgroup\": \"GO:0016114; P:terpenoid biosynthetic process; IEA:UniProtKB-UniRule.\", \"marker\": {\"color\": \"#00cc96\"}, \"name\": \"GO:0016114; P:terpenoid biosynthetic process; IEA:UniProtKB-UniRule.\", \"offsetgroup\": \"GO:0016114; P:terpenoid biosynthetic process; IEA:UniProtKB-UniRule.\", \"orientation\": \"v\", \"showlegend\": true, \"textposition\": \"auto\", \"type\": \"bar\", \"x\": [\"Sample 101\", \"Sample 1\"], \"xaxis\": \"x\", \"y\": [17272.129200336098, 10567.9538950538], \"yaxis\": \"y\"}, {\"alignmentgroup\": \"True\", \"hovertemplate\": \"Function=GO:0016887; F:ATPase activity; IEA:InterPro.<br>Sample=%{x}<br>Abundance RPKs=%{y}<extra></extra>\", \"legendgroup\": \"GO:0016887; F:ATPase activity; IEA:InterPro.\", \"marker\": {\"color\": \"#ab63fa\"}, \"name\": \"GO:0016887; F:ATPase activity; IEA:InterPro.\", \"offsetgroup\": \"GO:0016887; F:ATPase activity; IEA:InterPro.\", \"orientation\": \"v\", \"showlegend\": true, \"textposition\": \"auto\", \"type\": \"bar\", \"x\": [\"Sample 101\", \"Sample 13\"], \"xaxis\": \"x\", \"y\": [46461.86390268811, 15058.101963353103], \"yaxis\": \"y\"}, {\"alignmentgroup\": \"True\", \"hovertemplate\": \"Function=GO:0010181; F:FMN binding; IEA:InterPro.<br>Sample=%{x}<br>Abundance RPKs=%{y}<extra></extra>\", \"legendgroup\": \"GO:0010181; F:FMN binding; IEA:InterPro.\", \"marker\": {\"color\": \"#FFA15A\"}, \"name\": \"GO:0010181; F:FMN binding; IEA:InterPro.\", \"offsetgroup\": \"GO:0010181; F:FMN binding; IEA:InterPro.\", \"orientation\": \"v\", \"showlegend\": true, \"textposition\": \"auto\", \"type\": \"bar\", \"x\": [\"Sample 101\"], \"xaxis\": \"x\", \"y\": [11449.708333043802], \"yaxis\": \"y\"}, {\"alignmentgroup\": \"True\", \"hovertemplate\": \"Function=GO:0019740; P:nitrogen utilization; IEA:UniProtKB-UniRule.<br>Sample=%{x}<br>Abundance RPKs=%{y}<extra></extra>\", \"legendgroup\": \"GO:0019740; P:nitrogen utilization; IEA:UniProtKB-UniRule.\", \"marker\": {\"color\": \"#19d3f3\"}, \"name\": \"GO:0019740; P:nitrogen utilization; IEA:UniProtKB-UniRule.\", \"offsetgroup\": \"GO:0019740; P:nitrogen utilization; IEA:UniProtKB-UniRule.\", \"orientation\": \"v\", \"showlegend\": true, \"textposition\": \"auto\", \"type\": \"bar\", \"x\": [\"Sample 101\"], \"xaxis\": \"x\", \"y\": [10156.605097236801], \"yaxis\": \"y\"}, {\"alignmentgroup\": \"True\", \"hovertemplate\": \"Function=GO:0006212; P:uracil catabolic process; IEA:UniProtKB-UniRule.<br>Sample=%{x}<br>Abundance RPKs=%{y}<extra></extra>\", \"legendgroup\": \"GO:0006212; P:uracil catabolic process; IEA:UniProtKB-UniRule.\", \"marker\": {\"color\": \"#FF6692\"}, \"name\": \"GO:0006212; P:uracil catabolic process; IEA:UniProtKB-UniRule.\", \"offsetgroup\": \"GO:0006212; P:uracil catabolic process; IEA:UniProtKB-UniRule.\", \"orientation\": \"v\", \"showlegend\": true, \"textposition\": \"auto\", \"type\": \"bar\", \"x\": [\"Sample 101\"], \"xaxis\": \"x\", \"y\": [10156.605097236801], \"yaxis\": \"y\"}, {\"alignmentgroup\": \"True\", \"hovertemplate\": \"Function=GO:0008033; P:tRNA processing; IEA:UniProtKB-KW.<br>Sample=%{x}<br>Abundance RPKs=%{y}<extra></extra>\", \"legendgroup\": \"GO:0008033; P:tRNA processing; IEA:UniProtKB-KW.\", \"marker\": {\"color\": \"#B6E880\"}, \"name\": \"GO:0008033; P:tRNA processing; IEA:UniProtKB-KW.\", \"offsetgroup\": \"GO:0008033; P:tRNA processing; IEA:UniProtKB-KW.\", \"orientation\": \"v\", \"showlegend\": true, \"textposition\": \"auto\", \"type\": \"bar\", \"x\": [\"Sample 101\"], \"xaxis\": \"x\", \"y\": [12027.6415153354], \"yaxis\": \"y\"}, {\"alignmentgroup\": \"True\", \"hovertemplate\": \"Function=GO:0071949; F:FAD binding; IEA:InterPro.<br>Sample=%{x}<br>Abundance RPKs=%{y}<extra></extra>\", \"legendgroup\": \"GO:0071949; F:FAD binding; IEA:InterPro.\", \"marker\": {\"color\": \"#FF97FF\"}, \"name\": \"GO:0071949; F:FAD binding; IEA:InterPro.\", \"offsetgroup\": \"GO:0071949; F:FAD binding; IEA:InterPro.\", \"orientation\": \"v\", \"showlegend\": true, \"textposition\": \"auto\", \"type\": \"bar\", \"x\": [\"Sample 101\"], \"xaxis\": \"x\", \"y\": [11857.347252366799], \"yaxis\": \"y\"}, {\"alignmentgroup\": \"True\", \"hovertemplate\": \"Function=GO:0008616; P:queuosine biosynthetic process; IEA:UniProtKB-UniRule.<br>Sample=%{x}<br>Abundance RPKs=%{y}<extra></extra>\", \"legendgroup\": \"GO:0008616; P:queuosine biosynthetic process; IEA:UniProtKB-UniRule.\", \"marker\": {\"color\": \"#FECB52\"}, \"name\": \"GO:0008616; P:queuosine biosynthetic process; IEA:UniProtKB-UniRule.\", \"offsetgroup\": \"GO:0008616; P:queuosine biosynthetic process; IEA:UniProtKB-UniRule.\", \"orientation\": \"v\", \"showlegend\": true, \"textposition\": \"auto\", \"type\": \"bar\", \"x\": [\"Sample 101\"], \"xaxis\": \"x\", \"y\": [11194.5844387984], \"yaxis\": \"y\"}, {\"alignmentgroup\": \"True\", \"hovertemplate\": \"Function=GO:0050662; F:coenzyme binding; IEA:InterPro.<br>Sample=%{x}<br>Abundance RPKs=%{y}<extra></extra>\", \"legendgroup\": \"GO:0050662; F:coenzyme binding; IEA:InterPro.\", \"marker\": {\"color\": \"#636efa\"}, \"name\": \"GO:0050662; F:coenzyme binding; IEA:InterPro.\", \"offsetgroup\": \"GO:0050662; F:coenzyme binding; IEA:InterPro.\", \"orientation\": \"v\", \"showlegend\": true, \"textposition\": \"auto\", \"type\": \"bar\", \"x\": [\"Sample 101\"], \"xaxis\": \"x\", \"y\": [10166.780189802], \"yaxis\": \"y\"}, {\"alignmentgroup\": \"True\", \"hovertemplate\": \"Function=GO:0006865; P:amino acid transport; IEA:UniProtKB-KW.<br>Sample=%{x}<br>Abundance RPKs=%{y}<extra></extra>\", \"legendgroup\": \"GO:0006865; P:amino acid transport; IEA:UniProtKB-KW.\", \"marker\": {\"color\": \"#EF553B\"}, \"name\": \"GO:0006865; P:amino acid transport; IEA:UniProtKB-KW.\", \"offsetgroup\": \"GO:0006865; P:amino acid transport; IEA:UniProtKB-KW.\", \"orientation\": \"v\", \"showlegend\": true, \"textposition\": \"auto\", \"type\": \"bar\", \"x\": [\"Sample 101\"], \"xaxis\": \"x\", \"y\": [14692.770436316201], \"yaxis\": \"y\"}, {\"alignmentgroup\": \"True\", \"hovertemplate\": \"Function=GO:0016301; F:kinase activity; IEA:UniProtKB-KW.<br>Sample=%{x}<br>Abundance RPKs=%{y}<extra></extra>\", \"legendgroup\": \"GO:0016301; F:kinase activity; IEA:UniProtKB-KW.\", \"marker\": {\"color\": \"#00cc96\"}, \"name\": \"GO:0016301; F:kinase activity; IEA:UniProtKB-KW.\", \"offsetgroup\": \"GO:0016301; F:kinase activity; IEA:UniProtKB-KW.\", \"orientation\": \"v\", \"showlegend\": true, \"textposition\": \"auto\", \"type\": \"bar\", \"x\": [\"Sample 101\"], \"xaxis\": \"x\", \"y\": [16741.9117873213], \"yaxis\": \"y\"}, {\"alignmentgroup\": \"True\", \"hovertemplate\": \"Function=GO:0030170; F:pyridoxal phosphate binding; IEA:UniProtKB-UniRule.<br>Sample=%{x}<br>Abundance RPKs=%{y}<extra></extra>\", \"legendgroup\": \"GO:0030170; F:pyridoxal phosphate binding; IEA:UniProtKB-UniRule.\", \"marker\": {\"color\": \"#ab63fa\"}, \"name\": \"GO:0030170; F:pyridoxal phosphate binding; IEA:UniProtKB-UniRule.\", \"offsetgroup\": \"GO:0030170; F:pyridoxal phosphate binding; IEA:UniProtKB-UniRule.\", \"orientation\": \"v\", \"showlegend\": true, \"textposition\": \"auto\", \"type\": \"bar\", \"x\": [\"Sample 101\"], \"xaxis\": \"x\", \"y\": [15482.4872258719], \"yaxis\": \"y\"}, {\"alignmentgroup\": \"True\", \"hovertemplate\": \"Function=GO:0005975; P:carbohydrate metabolic process; IEA:UniProtKB-KW.<br>Sample=%{x}<br>Abundance RPKs=%{y}<extra></extra>\", \"legendgroup\": \"GO:0005975; P:carbohydrate metabolic process; IEA:UniProtKB-KW.\", \"marker\": {\"color\": \"#FFA15A\"}, \"name\": \"GO:0005975; P:carbohydrate metabolic process; IEA:UniProtKB-KW.\", \"offsetgroup\": \"GO:0005975; P:carbohydrate metabolic process; IEA:UniProtKB-KW.\", \"orientation\": \"v\", \"showlegend\": true, \"textposition\": \"auto\", \"type\": \"bar\", \"x\": [\"Sample 101\"], \"xaxis\": \"x\", \"y\": [14658.2175023928], \"yaxis\": \"y\"}, {\"alignmentgroup\": \"True\", \"hovertemplate\": \"Function=GO:0051287; F:NAD binding; IEA:InterPro.<br>Sample=%{x}<br>Abundance RPKs=%{y}<extra></extra>\", \"legendgroup\": \"GO:0051287; F:NAD binding; IEA:InterPro.\", \"marker\": {\"color\": \"#19d3f3\"}, \"name\": \"GO:0051287; F:NAD binding; IEA:InterPro.\", \"offsetgroup\": \"GO:0051287; F:NAD binding; IEA:InterPro.\", \"orientation\": \"v\", \"showlegend\": true, \"textposition\": \"auto\", \"type\": \"bar\", \"x\": [\"Sample 101\", \"Sample 13\"], \"xaxis\": \"x\", \"y\": [31648.196666341304, 12703.866052869304], \"yaxis\": \"y\"}, {\"alignmentgroup\": \"True\", \"hovertemplate\": \"Function=GO:0005975; P:carbohydrate metabolic process; IEA:UniProtKB-UniRule.<br>Sample=%{x}<br>Abundance RPKs=%{y}<extra></extra>\", \"legendgroup\": \"GO:0005975; P:carbohydrate metabolic process; IEA:UniProtKB-UniRule.\", \"marker\": {\"color\": \"#FF6692\"}, \"name\": \"GO:0005975; P:carbohydrate metabolic process; IEA:UniProtKB-UniRule.\", \"offsetgroup\": \"GO:0005975; P:carbohydrate metabolic process; IEA:UniProtKB-UniRule.\", \"orientation\": \"v\", \"showlegend\": true, \"textposition\": \"auto\", \"type\": \"bar\", \"x\": [\"Sample 101\"], \"xaxis\": \"x\", \"y\": [14535.470870680296], \"yaxis\": \"y\"}, {\"alignmentgroup\": \"True\", \"hovertemplate\": \"Function=GO:0019262; P:N-acetylneuraminate catabolic process; IEA:UniProtKB-UniPathway.<br>Sample=%{x}<br>Abundance RPKs=%{y}<extra></extra>\", \"legendgroup\": \"GO:0019262; P:N-acetylneuraminate catabolic process; IEA:UniProtKB-UniPathway.\", \"marker\": {\"color\": \"#B6E880\"}, \"name\": \"GO:0019262; P:N-acetylneuraminate catabolic process; IEA:UniProtKB-UniPathway.\", \"offsetgroup\": \"GO:0019262; P:N-acetylneuraminate catabolic process; IEA:UniProtKB-UniPathway.\", \"orientation\": \"v\", \"showlegend\": true, \"textposition\": \"auto\", \"type\": \"bar\", \"x\": [\"Sample 101\"], \"xaxis\": \"x\", \"y\": [13197.7088827464], \"yaxis\": \"y\"}, {\"alignmentgroup\": \"True\", \"hovertemplate\": \"Function=GO:0035999; P:tetrahydrofolate interconversion; IEA:UniProtKB-UniPathway.<br>Sample=%{x}<br>Abundance RPKs=%{y}<extra></extra>\", \"legendgroup\": \"GO:0035999; P:tetrahydrofolate interconversion; IEA:UniProtKB-UniPathway.\", \"marker\": {\"color\": \"#FF97FF\"}, \"name\": \"GO:0035999; P:tetrahydrofolate interconversion; IEA:UniProtKB-UniPathway.\", \"offsetgroup\": \"GO:0035999; P:tetrahydrofolate interconversion; IEA:UniProtKB-UniPathway.\", \"orientation\": \"v\", \"showlegend\": true, \"textposition\": \"auto\", \"type\": \"bar\", \"x\": [\"Sample 101\"], \"xaxis\": \"x\", \"y\": [10896.660594245199], \"yaxis\": \"y\"}, {\"alignmentgroup\": \"True\", \"hovertemplate\": \"Function=GO:0030145; F:manganese ion binding; IEA:UniProtKB-UniRule.<br>Sample=%{x}<br>Abundance RPKs=%{y}<extra></extra>\", \"legendgroup\": \"GO:0030145; F:manganese ion binding; IEA:UniProtKB-UniRule.\", \"marker\": {\"color\": \"#FECB52\"}, \"name\": \"GO:0030145; F:manganese ion binding; IEA:UniProtKB-UniRule.\", \"offsetgroup\": \"GO:0030145; F:manganese ion binding; IEA:UniProtKB-UniRule.\", \"orientation\": \"v\", \"showlegend\": true, \"textposition\": \"auto\", \"type\": \"bar\", \"x\": [\"Sample 101\", \"Sample 4\"], \"xaxis\": \"x\", \"y\": [30300.890131453198, 10138.702608921298], \"yaxis\": \"y\"}, {\"alignmentgroup\": \"True\", \"hovertemplate\": \"Function=GO:0006541; P:glutamine metabolic process; IEA:UniProtKB-KW.<br>Sample=%{x}<br>Abundance RPKs=%{y}<extra></extra>\", \"legendgroup\": \"GO:0006541; P:glutamine metabolic process; IEA:UniProtKB-KW.\", \"marker\": {\"color\": \"#636efa\"}, \"name\": \"GO:0006541; P:glutamine metabolic process; IEA:UniProtKB-KW.\", \"offsetgroup\": \"GO:0006541; P:glutamine metabolic process; IEA:UniProtKB-KW.\", \"orientation\": \"v\", \"showlegend\": true, \"textposition\": \"auto\", \"type\": \"bar\", \"x\": [\"Sample 101\"], \"xaxis\": \"x\", \"y\": [13565.170029627894], \"yaxis\": \"y\"}, {\"alignmentgroup\": \"True\", \"hovertemplate\": \"Function=GO:0000103; P:sulfate assimilation; IEA:UniProtKB-UniRule.<br>Sample=%{x}<br>Abundance RPKs=%{y}<extra></extra>\", \"legendgroup\": \"GO:0000103; P:sulfate assimilation; IEA:UniProtKB-UniRule.\", \"marker\": {\"color\": \"#EF553B\"}, \"name\": \"GO:0000103; P:sulfate assimilation; IEA:UniProtKB-UniRule.\", \"offsetgroup\": \"GO:0000103; P:sulfate assimilation; IEA:UniProtKB-UniRule.\", \"orientation\": \"v\", \"showlegend\": true, \"textposition\": \"auto\", \"type\": \"bar\", \"x\": [\"Sample 101\"], \"xaxis\": \"x\", \"y\": [11278.268040656998], \"yaxis\": \"y\"}, {\"alignmentgroup\": \"True\", \"hovertemplate\": \"Function=GO:0009245; P:lipid A biosynthetic process; IEA:UniProtKB-UniRule.<br>Sample=%{x}<br>Abundance RPKs=%{y}<extra></extra>\", \"legendgroup\": \"GO:0009245; P:lipid A biosynthetic process; IEA:UniProtKB-UniRule.\", \"marker\": {\"color\": \"#00cc96\"}, \"name\": \"GO:0009245; P:lipid A biosynthetic process; IEA:UniProtKB-UniRule.\", \"offsetgroup\": \"GO:0009245; P:lipid A biosynthetic process; IEA:UniProtKB-UniRule.\", \"orientation\": \"v\", \"showlegend\": true, \"textposition\": \"auto\", \"type\": \"bar\", \"x\": [\"Sample 101\"], \"xaxis\": \"x\", \"y\": [24838.634473012004], \"yaxis\": \"y\"}, {\"alignmentgroup\": \"True\", \"hovertemplate\": \"Function=GO:0009117; P:nucleotide metabolic process; IEA:UniProtKB-KW.<br>Sample=%{x}<br>Abundance RPKs=%{y}<extra></extra>\", \"legendgroup\": \"GO:0009117; P:nucleotide metabolic process; IEA:UniProtKB-KW.\", \"marker\": {\"color\": \"#ab63fa\"}, \"name\": \"GO:0009117; P:nucleotide metabolic process; IEA:UniProtKB-KW.\", \"offsetgroup\": \"GO:0009117; P:nucleotide metabolic process; IEA:UniProtKB-KW.\", \"orientation\": \"v\", \"showlegend\": true, \"textposition\": \"auto\", \"type\": \"bar\", \"x\": [\"Sample 101\"], \"xaxis\": \"x\", \"y\": [11379.198726387298], \"yaxis\": \"y\"}, {\"alignmentgroup\": \"True\", \"hovertemplate\": \"Function=GO:0006813; P:potassium ion transport; IEA:InterPro.<br>Sample=%{x}<br>Abundance RPKs=%{y}<extra></extra>\", \"legendgroup\": \"GO:0006813; P:potassium ion transport; IEA:InterPro.\", \"marker\": {\"color\": \"#FFA15A\"}, \"name\": \"GO:0006813; P:potassium ion transport; IEA:InterPro.\", \"offsetgroup\": \"GO:0006813; P:potassium ion transport; IEA:InterPro.\", \"orientation\": \"v\", \"showlegend\": true, \"textposition\": \"auto\", \"type\": \"bar\", \"x\": [\"Sample 101\"], \"xaxis\": \"x\", \"y\": [10126.2805517894], \"yaxis\": \"y\"}, {\"alignmentgroup\": \"True\", \"hovertemplate\": \"Function=GO:0006281; P:DNA repair; IEA:UniProtKB-KW.<br>Sample=%{x}<br>Abundance RPKs=%{y}<extra></extra>\", \"legendgroup\": \"GO:0006281; P:DNA repair; IEA:UniProtKB-KW.\", \"marker\": {\"color\": \"#19d3f3\"}, \"name\": \"GO:0006281; P:DNA repair; IEA:UniProtKB-KW.\", \"offsetgroup\": \"GO:0006281; P:DNA repair; IEA:UniProtKB-KW.\", \"orientation\": \"v\", \"showlegend\": true, \"textposition\": \"auto\", \"type\": \"bar\", \"x\": [\"Sample 101\"], \"xaxis\": \"x\", \"y\": [14507.130440841598], \"yaxis\": \"y\"}, {\"alignmentgroup\": \"True\", \"hovertemplate\": \"Function=GO:0042597; C:periplasmic space; IEA:UniProtKB-SubCell.<br>Sample=%{x}<br>Abundance RPKs=%{y}<extra></extra>\", \"legendgroup\": \"GO:0042597; C:periplasmic space; IEA:UniProtKB-SubCell.\", \"marker\": {\"color\": \"#FF6692\"}, \"name\": \"GO:0042597; C:periplasmic space; IEA:UniProtKB-SubCell.\", \"offsetgroup\": \"GO:0042597; C:periplasmic space; IEA:UniProtKB-SubCell.\", \"orientation\": \"v\", \"showlegend\": true, \"textposition\": \"auto\", \"type\": \"bar\", \"x\": [\"Sample 101\"], \"xaxis\": \"x\", \"y\": [34859.9539868415], \"yaxis\": \"y\"}, {\"alignmentgroup\": \"True\", \"hovertemplate\": \"Function=GO:0006099; P:tricarboxylic acid cycle; IEA:UniProtKB-UniRule.<br>Sample=%{x}<br>Abundance RPKs=%{y}<extra></extra>\", \"legendgroup\": \"GO:0006099; P:tricarboxylic acid cycle; IEA:UniProtKB-UniRule.\", \"marker\": {\"color\": \"#B6E880\"}, \"name\": \"GO:0006099; P:tricarboxylic acid cycle; IEA:UniProtKB-UniRule.\", \"offsetgroup\": \"GO:0006099; P:tricarboxylic acid cycle; IEA:UniProtKB-UniRule.\", \"orientation\": \"v\", \"showlegend\": true, \"textposition\": \"auto\", \"type\": \"bar\", \"x\": [\"Sample 101\"], \"xaxis\": \"x\", \"y\": [11680.9873846819], \"yaxis\": \"y\"}, {\"alignmentgroup\": \"True\", \"hovertemplate\": \"Function=GO:0032259; P:methylation; IEA:UniProtKB-KW.<br>Sample=%{x}<br>Abundance RPKs=%{y}<extra></extra>\", \"legendgroup\": \"GO:0032259; P:methylation; IEA:UniProtKB-KW.\", \"marker\": {\"color\": \"#FF97FF\"}, \"name\": \"GO:0032259; P:methylation; IEA:UniProtKB-KW.\", \"offsetgroup\": \"GO:0032259; P:methylation; IEA:UniProtKB-KW.\", \"orientation\": \"v\", \"showlegend\": true, \"textposition\": \"auto\", \"type\": \"bar\", \"x\": [\"Sample 101\"], \"xaxis\": \"x\", \"y\": [16108.297949422802], \"yaxis\": \"y\"}, {\"alignmentgroup\": \"True\", \"hovertemplate\": \"Function=GO:0005737; C:cytoplasm; IEA:UniProtKB-UniRule.<br>Sample=%{x}<br>Abundance RPKs=%{y}<extra></extra>\", \"legendgroup\": \"GO:0005737; C:cytoplasm; IEA:UniProtKB-UniRule.\", \"marker\": {\"color\": \"#FECB52\"}, \"name\": \"GO:0005737; C:cytoplasm; IEA:UniProtKB-UniRule.\", \"offsetgroup\": \"GO:0005737; C:cytoplasm; IEA:UniProtKB-UniRule.\", \"orientation\": \"v\", \"showlegend\": true, \"textposition\": \"auto\", \"type\": \"bar\", \"x\": [\"Sample 101\"], \"xaxis\": \"x\", \"y\": [13454.859794338301], \"yaxis\": \"y\"}, {\"alignmentgroup\": \"True\", \"hovertemplate\": \"Function=GO:0008137; F:NADH dehydrogenase (ubiquinone) activity; IEA:InterPro.<br>Sample=%{x}<br>Abundance RPKs=%{y}<extra></extra>\", \"legendgroup\": \"GO:0008137; F:NADH dehydrogenase (ubiquinone) activity; IEA:InterPro.\", \"marker\": {\"color\": \"#636efa\"}, \"name\": \"GO:0008137; F:NADH dehydrogenase (ubiquinone) activity; IEA:InterPro.\", \"offsetgroup\": \"GO:0008137; F:NADH dehydrogenase (ubiquinone) activity; IEA:InterPro.\", \"orientation\": \"v\", \"showlegend\": true, \"textposition\": \"auto\", \"type\": \"bar\", \"x\": [\"Sample 101\"], \"xaxis\": \"x\", \"y\": [12602.5058065726], \"yaxis\": \"y\"}, {\"alignmentgroup\": \"True\", \"hovertemplate\": \"Function=GO:0048038; F:quinone binding; IEA:UniProtKB-KW.<br>Sample=%{x}<br>Abundance RPKs=%{y}<extra></extra>\", \"legendgroup\": \"GO:0048038; F:quinone binding; IEA:UniProtKB-KW.\", \"marker\": {\"color\": \"#EF553B\"}, \"name\": \"GO:0048038; F:quinone binding; IEA:UniProtKB-KW.\", \"offsetgroup\": \"GO:0048038; F:quinone binding; IEA:UniProtKB-KW.\", \"orientation\": \"v\", \"showlegend\": true, \"textposition\": \"auto\", \"type\": \"bar\", \"x\": [\"Sample 101\"], \"xaxis\": \"x\", \"y\": [16809.228682186196], \"yaxis\": \"y\"}, {\"alignmentgroup\": \"True\", \"hovertemplate\": \"Function=GO:0009279; C:cell outer membrane; IEA:UniProtKB-SubCell.<br>Sample=%{x}<br>Abundance RPKs=%{y}<extra></extra>\", \"legendgroup\": \"GO:0009279; C:cell outer membrane; IEA:UniProtKB-SubCell.\", \"marker\": {\"color\": \"#00cc96\"}, \"name\": \"GO:0009279; C:cell outer membrane; IEA:UniProtKB-SubCell.\", \"offsetgroup\": \"GO:0009279; C:cell outer membrane; IEA:UniProtKB-SubCell.\", \"orientation\": \"v\", \"showlegend\": true, \"textposition\": \"auto\", \"type\": \"bar\", \"x\": [\"Sample 101\"], \"xaxis\": \"x\", \"y\": [23557.5440744103], \"yaxis\": \"y\"}, {\"alignmentgroup\": \"True\", \"hovertemplate\": \"Function=GO:0003824; F:catalytic activity; IEA:InterPro.<br>Sample=%{x}<br>Abundance RPKs=%{y}<extra></extra>\", \"legendgroup\": \"GO:0003824; F:catalytic activity; IEA:InterPro.\", \"marker\": {\"color\": \"#ab63fa\"}, \"name\": \"GO:0003824; F:catalytic activity; IEA:InterPro.\", \"offsetgroup\": \"GO:0003824; F:catalytic activity; IEA:InterPro.\", \"orientation\": \"v\", \"showlegend\": true, \"textposition\": \"auto\", \"type\": \"bar\", \"x\": [\"Sample 101\"], \"xaxis\": \"x\", \"y\": [13609.509207731498], \"yaxis\": \"y\"}, {\"alignmentgroup\": \"True\", \"hovertemplate\": \"Function=GO:0015031; P:protein transport; IEA:UniProtKB-KW.<br>Sample=%{x}<br>Abundance RPKs=%{y}<extra></extra>\", \"legendgroup\": \"GO:0015031; P:protein transport; IEA:UniProtKB-KW.\", \"marker\": {\"color\": \"#FFA15A\"}, \"name\": \"GO:0015031; P:protein transport; IEA:UniProtKB-KW.\", \"offsetgroup\": \"GO:0015031; P:protein transport; IEA:UniProtKB-KW.\", \"orientation\": \"v\", \"showlegend\": true, \"textposition\": \"auto\", \"type\": \"bar\", \"x\": [\"Sample 101\"], \"xaxis\": \"x\", \"y\": [10051.2296318359], \"yaxis\": \"y\"}, {\"alignmentgroup\": \"True\", \"hovertemplate\": \"Function=GO:0005623; C:cell; IEA:GOC.<br>Sample=%{x}<br>Abundance RPKs=%{y}<extra></extra>\", \"legendgroup\": \"GO:0005623; C:cell; IEA:GOC.\", \"marker\": {\"color\": \"#19d3f3\"}, \"name\": \"GO:0005623; C:cell; IEA:GOC.\", \"offsetgroup\": \"GO:0005623; C:cell; IEA:GOC.\", \"orientation\": \"v\", \"showlegend\": true, \"textposition\": \"auto\", \"type\": \"bar\", \"x\": [\"Sample 101\"], \"xaxis\": \"x\", \"y\": [13584.392115982799], \"yaxis\": \"y\"}, {\"alignmentgroup\": \"True\", \"hovertemplate\": \"Function=GO:0019380; P:3-phenylpropionate catabolic process; IEA:UniProtKB-UniPathway.<br>Sample=%{x}<br>Abundance RPKs=%{y}<extra></extra>\", \"legendgroup\": \"GO:0019380; P:3-phenylpropionate catabolic process; IEA:UniProtKB-UniPathway.\", \"marker\": {\"color\": \"#FF6692\"}, \"name\": \"GO:0019380; P:3-phenylpropionate catabolic process; IEA:UniProtKB-UniPathway.\", \"offsetgroup\": \"GO:0019380; P:3-phenylpropionate catabolic process; IEA:UniProtKB-UniPathway.\", \"orientation\": \"v\", \"showlegend\": true, \"textposition\": \"auto\", \"type\": \"bar\", \"x\": [\"Sample 101\"], \"xaxis\": \"x\", \"y\": [13615.256545745298], \"yaxis\": \"y\"}, {\"alignmentgroup\": \"True\", \"hovertemplate\": \"Function=GO:0022857; F:transmembrane transporter activity; IEA:UniProtKB-UniRule.<br>Sample=%{x}<br>Abundance RPKs=%{y}<extra></extra>\", \"legendgroup\": \"GO:0022857; F:transmembrane transporter activity; IEA:UniProtKB-UniRule.\", \"marker\": {\"color\": \"#B6E880\"}, \"name\": \"GO:0022857; F:transmembrane transporter activity; IEA:UniProtKB-UniRule.\", \"offsetgroup\": \"GO:0022857; F:transmembrane transporter activity; IEA:UniProtKB-UniRule.\", \"orientation\": \"v\", \"showlegend\": true, \"textposition\": \"auto\", \"type\": \"bar\", \"x\": [\"Sample 101\"], \"xaxis\": \"x\", \"y\": [17020.364948022703], \"yaxis\": \"y\"}, {\"alignmentgroup\": \"True\", \"hovertemplate\": \"Function=GO:0050660; F:flavin adenine dinucleotide binding; IEA:InterPro.<br>Sample=%{x}<br>Abundance RPKs=%{y}<extra></extra>\", \"legendgroup\": \"GO:0050660; F:flavin adenine dinucleotide binding; IEA:InterPro.\", \"marker\": {\"color\": \"#FF97FF\"}, \"name\": \"GO:0050660; F:flavin adenine dinucleotide binding; IEA:InterPro.\", \"offsetgroup\": \"GO:0050660; F:flavin adenine dinucleotide binding; IEA:InterPro.\", \"orientation\": \"v\", \"showlegend\": true, \"textposition\": \"auto\", \"type\": \"bar\", \"x\": [\"Sample 101\"], \"xaxis\": \"x\", \"y\": [13183.807884695998], \"yaxis\": \"y\"}, {\"alignmentgroup\": \"True\", \"hovertemplate\": \"Function=GO:0009103; P:lipopolysaccharide biosynthetic process; IEA:UniProtKB-UniPathway.<br>Sample=%{x}<br>Abundance RPKs=%{y}<extra></extra>\", \"legendgroup\": \"GO:0009103; P:lipopolysaccharide biosynthetic process; IEA:UniProtKB-UniPathway.\", \"marker\": {\"color\": \"#FECB52\"}, \"name\": \"GO:0009103; P:lipopolysaccharide biosynthetic process; IEA:UniProtKB-UniPathway.\", \"offsetgroup\": \"GO:0009103; P:lipopolysaccharide biosynthetic process; IEA:UniProtKB-UniPathway.\", \"orientation\": \"v\", \"showlegend\": true, \"textposition\": \"auto\", \"type\": \"bar\", \"x\": [\"Sample 101\"], \"xaxis\": \"x\", \"y\": [19604.3945646191], \"yaxis\": \"y\"}, {\"alignmentgroup\": \"True\", \"hovertemplate\": \"Function=GO:0046677; P:response to antibiotic; IEA:UniProtKB-KW.<br>Sample=%{x}<br>Abundance RPKs=%{y}<extra></extra>\", \"legendgroup\": \"GO:0046677; P:response to antibiotic; IEA:UniProtKB-KW.\", \"marker\": {\"color\": \"#636efa\"}, \"name\": \"GO:0046677; P:response to antibiotic; IEA:UniProtKB-KW.\", \"offsetgroup\": \"GO:0046677; P:response to antibiotic; IEA:UniProtKB-KW.\", \"orientation\": \"v\", \"showlegend\": true, \"textposition\": \"auto\", \"type\": \"bar\", \"x\": [\"Sample 101\", \"Sample 4\", \"Sample 99\", \"Sample 13\"], \"xaxis\": \"x\", \"y\": [19974.001117902404, 12117.9351377103, 12270.0978360899, 12745.137032460001], \"yaxis\": \"y\"}, {\"alignmentgroup\": \"True\", \"hovertemplate\": \"Function=GO:0009055; F:electron transfer activity; IEA:InterPro.<br>Sample=%{x}<br>Abundance RPKs=%{y}<extra></extra>\", \"legendgroup\": \"GO:0009055; F:electron transfer activity; IEA:InterPro.\", \"marker\": {\"color\": \"#EF553B\"}, \"name\": \"GO:0009055; F:electron transfer activity; IEA:InterPro.\", \"offsetgroup\": \"GO:0009055; F:electron transfer activity; IEA:InterPro.\", \"orientation\": \"v\", \"showlegend\": true, \"textposition\": \"auto\", \"type\": \"bar\", \"x\": [\"Sample 101\"], \"xaxis\": \"x\", \"y\": [22890.823406162202], \"yaxis\": \"y\"}, {\"alignmentgroup\": \"True\", \"hovertemplate\": \"Function=GO:0009246; P:enterobacterial common antigen biosynthetic process; IEA:UniProtKB-UniRule.<br>Sample=%{x}<br>Abundance RPKs=%{y}<extra></extra>\", \"legendgroup\": \"GO:0009246; P:enterobacterial common antigen biosynthetic process; IEA:UniProtKB-UniRule.\", \"marker\": {\"color\": \"#00cc96\"}, \"name\": \"GO:0009246; P:enterobacterial common antigen biosynthetic process; IEA:UniProtKB-UniRule.\", \"offsetgroup\": \"GO:0009246; P:enterobacterial common antigen biosynthetic process; IEA:UniProtKB-UniRule.\", \"orientation\": \"v\", \"showlegend\": true, \"textposition\": \"auto\", \"type\": \"bar\", \"x\": [\"Sample 101\"], \"xaxis\": \"x\", \"y\": [13688.5802746406], \"yaxis\": \"y\"}, {\"alignmentgroup\": \"True\", \"hovertemplate\": \"Function=GO:0006310; P:DNA recombination; IEA:UniProtKB-KW.<br>Sample=%{x}<br>Abundance RPKs=%{y}<extra></extra>\", \"legendgroup\": \"GO:0006310; P:DNA recombination; IEA:UniProtKB-KW.\", \"marker\": {\"color\": \"#ab63fa\"}, \"name\": \"GO:0006310; P:DNA recombination; IEA:UniProtKB-KW.\", \"offsetgroup\": \"GO:0006310; P:DNA recombination; IEA:UniProtKB-KW.\", \"orientation\": \"v\", \"showlegend\": true, \"textposition\": \"auto\", \"type\": \"bar\", \"x\": [\"Sample 101\"], \"xaxis\": \"x\", \"y\": [12379.0846447586], \"yaxis\": \"y\"}, {\"alignmentgroup\": \"True\", \"hovertemplate\": \"Function=GO:0055085; P:transmembrane transport; IEA:InterPro.<br>Sample=%{x}<br>Abundance RPKs=%{y}<extra></extra>\", \"legendgroup\": \"GO:0055085; P:transmembrane transport; IEA:InterPro.\", \"marker\": {\"color\": \"#FFA15A\"}, \"name\": \"GO:0055085; P:transmembrane transport; IEA:InterPro.\", \"offsetgroup\": \"GO:0055085; P:transmembrane transport; IEA:InterPro.\", \"orientation\": \"v\", \"showlegend\": true, \"textposition\": \"auto\", \"type\": \"bar\", \"x\": [\"Sample 101\"], \"xaxis\": \"x\", \"y\": [22937.627933535], \"yaxis\": \"y\"}, {\"alignmentgroup\": \"True\", \"hovertemplate\": \"Function=GO:0030288; C:outer membrane-bounded periplasmic space; IEA:InterPro.<br>Sample=%{x}<br>Abundance RPKs=%{y}<extra></extra>\", \"legendgroup\": \"GO:0030288; C:outer membrane-bounded periplasmic space; IEA:InterPro.\", \"marker\": {\"color\": \"#19d3f3\"}, \"name\": \"GO:0030288; C:outer membrane-bounded periplasmic space; IEA:InterPro.\", \"offsetgroup\": \"GO:0030288; C:outer membrane-bounded periplasmic space; IEA:InterPro.\", \"orientation\": \"v\", \"showlegend\": true, \"textposition\": \"auto\", \"type\": \"bar\", \"x\": [\"Sample 101\"], \"xaxis\": \"x\", \"y\": [10538.4986267222], \"yaxis\": \"y\"}, {\"alignmentgroup\": \"True\", \"hovertemplate\": \"Function=GO:0097367; F:carbohydrate derivative binding; IEA:InterPro.<br>Sample=%{x}<br>Abundance RPKs=%{y}<extra></extra>\", \"legendgroup\": \"GO:0097367; F:carbohydrate derivative binding; IEA:InterPro.\", \"marker\": {\"color\": \"#FF6692\"}, \"name\": \"GO:0097367; F:carbohydrate derivative binding; IEA:InterPro.\", \"offsetgroup\": \"GO:0097367; F:carbohydrate derivative binding; IEA:InterPro.\", \"orientation\": \"v\", \"showlegend\": true, \"textposition\": \"auto\", \"type\": \"bar\", \"x\": [\"Sample 101\"], \"xaxis\": \"x\", \"y\": [11954.047318436002], \"yaxis\": \"y\"}, {\"alignmentgroup\": \"True\", \"hovertemplate\": \"Function=GO:0016491; F:oxidoreductase activity; IEA:UniProtKB-KW.<br>Sample=%{x}<br>Abundance RPKs=%{y}<extra></extra>\", \"legendgroup\": \"GO:0016491; F:oxidoreductase activity; IEA:UniProtKB-KW.\", \"marker\": {\"color\": \"#B6E880\"}, \"name\": \"GO:0016491; F:oxidoreductase activity; IEA:UniProtKB-KW.\", \"offsetgroup\": \"GO:0016491; F:oxidoreductase activity; IEA:UniProtKB-KW.\", \"orientation\": \"v\", \"showlegend\": true, \"textposition\": \"auto\", \"type\": \"bar\", \"x\": [\"Sample 101\"], \"xaxis\": \"x\", \"y\": [15984.177022010499], \"yaxis\": \"y\"}, {\"alignmentgroup\": \"True\", \"hovertemplate\": \"Function=GO:0003700; F:DNA-binding transcription factor activity; IEA:InterPro.<br>Sample=%{x}<br>Abundance RPKs=%{y}<extra></extra>\", \"legendgroup\": \"GO:0003700; F:DNA-binding transcription factor activity; IEA:InterPro.\", \"marker\": {\"color\": \"#FF97FF\"}, \"name\": \"GO:0003700; F:DNA-binding transcription factor activity; IEA:InterPro.\", \"offsetgroup\": \"GO:0003700; F:DNA-binding transcription factor activity; IEA:InterPro.\", \"orientation\": \"v\", \"showlegend\": true, \"textposition\": \"auto\", \"type\": \"bar\", \"x\": [\"Sample 101\"], \"xaxis\": \"x\", \"y\": [13703.7650453439], \"yaxis\": \"y\"}, {\"alignmentgroup\": \"True\", \"hovertemplate\": \"Function=GO:0005886; C:plasma membrane; IDA:EcoCyc.<br>Sample=%{x}<br>Abundance RPKs=%{y}<extra></extra>\", \"legendgroup\": \"GO:0005886; C:plasma membrane; IDA:EcoCyc.\", \"marker\": {\"color\": \"#FECB52\"}, \"name\": \"GO:0005886; C:plasma membrane; IDA:EcoCyc.\", \"offsetgroup\": \"GO:0005886; C:plasma membrane; IDA:EcoCyc.\", \"orientation\": \"v\", \"showlegend\": true, \"textposition\": \"auto\", \"type\": \"bar\", \"x\": [\"Sample 101\", \"Sample 13\"], \"xaxis\": \"x\", \"y\": [95671.14708177683, 17348.181281170902], \"yaxis\": \"y\"}, {\"alignmentgroup\": \"True\", \"hovertemplate\": \"Function=GO:0042802; F:identical protein binding; IPI:IntAct.<br>Sample=%{x}<br>Abundance RPKs=%{y}<extra></extra>\", \"legendgroup\": \"GO:0042802; F:identical protein binding; IPI:IntAct.\", \"marker\": {\"color\": \"#636efa\"}, \"name\": \"GO:0042802; F:identical protein binding; IPI:IntAct.\", \"offsetgroup\": \"GO:0042802; F:identical protein binding; IPI:IntAct.\", \"orientation\": \"v\", \"showlegend\": true, \"textposition\": \"auto\", \"type\": \"bar\", \"x\": [\"Sample 101\"], \"xaxis\": \"x\", \"y\": [18573.4360795032], \"yaxis\": \"y\"}, {\"alignmentgroup\": \"True\", \"hovertemplate\": \"Function=GO:0005829; C:cytosol; IDA:EcoCyc.<br>Sample=%{x}<br>Abundance RPKs=%{y}<extra></extra>\", \"legendgroup\": \"GO:0005829; C:cytosol; IDA:EcoCyc.\", \"marker\": {\"color\": \"#EF553B\"}, \"name\": \"GO:0005829; C:cytosol; IDA:EcoCyc.\", \"offsetgroup\": \"GO:0005829; C:cytosol; IDA:EcoCyc.\", \"orientation\": \"v\", \"showlegend\": true, \"textposition\": \"auto\", \"type\": \"bar\", \"x\": [\"Sample 101\", \"Sample 13\"], \"xaxis\": \"x\", \"y\": [52552.8614377077, 10060.1892735772], \"yaxis\": \"y\"}, {\"alignmentgroup\": \"True\", \"hovertemplate\": \"Function=GO:0030288; C:outer membrane-bounded periplasmic space; IDA:EcoCyc.<br>Sample=%{x}<br>Abundance RPKs=%{y}<extra></extra>\", \"legendgroup\": \"GO:0030288; C:outer membrane-bounded periplasmic space; IDA:EcoCyc.\", \"marker\": {\"color\": \"#00cc96\"}, \"name\": \"GO:0030288; C:outer membrane-bounded periplasmic space; IDA:EcoCyc.\", \"offsetgroup\": \"GO:0030288; C:outer membrane-bounded periplasmic space; IDA:EcoCyc.\", \"orientation\": \"v\", \"showlegend\": true, \"textposition\": \"auto\", \"type\": \"bar\", \"x\": [\"Sample 101\"], \"xaxis\": \"x\", \"y\": [11128.7168667989], \"yaxis\": \"y\"}, {\"alignmentgroup\": \"True\", \"hovertemplate\": \"Function=GO:0009279; C:cell outer membrane; IDA:EcoCyc.<br>Sample=%{x}<br>Abundance RPKs=%{y}<extra></extra>\", \"legendgroup\": \"GO:0009279; C:cell outer membrane; IDA:EcoCyc.\", \"marker\": {\"color\": \"#ab63fa\"}, \"name\": \"GO:0009279; C:cell outer membrane; IDA:EcoCyc.\", \"offsetgroup\": \"GO:0009279; C:cell outer membrane; IDA:EcoCyc.\", \"orientation\": \"v\", \"showlegend\": true, \"textposition\": \"auto\", \"type\": \"bar\", \"x\": [\"Sample 101\"], \"xaxis\": \"x\", \"y\": [12869.237636930202], \"yaxis\": \"y\"}, {\"alignmentgroup\": \"True\", \"hovertemplate\": \"Function=GO:0006974; P:cellular response to DNA damage stimulus; IEP:EcoliWiki.<br>Sample=%{x}<br>Abundance RPKs=%{y}<extra></extra>\", \"legendgroup\": \"GO:0006974; P:cellular response to DNA damage stimulus; IEP:EcoliWiki.\", \"marker\": {\"color\": \"#FFA15A\"}, \"name\": \"GO:0006974; P:cellular response to DNA damage stimulus; IEP:EcoliWiki.\", \"offsetgroup\": \"GO:0006974; P:cellular response to DNA damage stimulus; IEP:EcoliWiki.\", \"orientation\": \"v\", \"showlegend\": true, \"textposition\": \"auto\", \"type\": \"bar\", \"x\": [\"Sample 101\"], \"xaxis\": \"x\", \"y\": [19807.9718592474], \"yaxis\": \"y\"}, {\"alignmentgroup\": \"True\", \"hovertemplate\": \"Function=GO:0005737; C:cytoplasm; IBA:GO_Central.<br>Sample=%{x}<br>Abundance RPKs=%{y}<extra></extra>\", \"legendgroup\": \"GO:0005737; C:cytoplasm; IBA:GO_Central.\", \"marker\": {\"color\": \"#19d3f3\"}, \"name\": \"GO:0005737; C:cytoplasm; IBA:GO_Central.\", \"offsetgroup\": \"GO:0005737; C:cytoplasm; IBA:GO_Central.\", \"orientation\": \"v\", \"showlegend\": true, \"textposition\": \"auto\", \"type\": \"bar\", \"x\": [\"Sample 101\"], \"xaxis\": \"x\", \"y\": [19082.215222354702], \"yaxis\": \"y\"}, {\"alignmentgroup\": \"True\", \"hovertemplate\": \"Function=GO:0005887; C:integral component of plasma membrane; IDA:EcoCyc.<br>Sample=%{x}<br>Abundance RPKs=%{y}<extra></extra>\", \"legendgroup\": \"GO:0005887; C:integral component of plasma membrane; IDA:EcoCyc.\", \"marker\": {\"color\": \"#FF6692\"}, \"name\": \"GO:0005887; C:integral component of plasma membrane; IDA:EcoCyc.\", \"offsetgroup\": \"GO:0005887; C:integral component of plasma membrane; IDA:EcoCyc.\", \"orientation\": \"v\", \"showlegend\": true, \"textposition\": \"auto\", \"type\": \"bar\", \"x\": [\"Sample 101\"], \"xaxis\": \"x\", \"y\": [11577.6149102193], \"yaxis\": \"y\"}, {\"alignmentgroup\": \"True\", \"hovertemplate\": \"Function=GO:0006979; P:response to oxidative stress; IMP:EcoCyc.<br>Sample=%{x}<br>Abundance RPKs=%{y}<extra></extra>\", \"legendgroup\": \"GO:0006979; P:response to oxidative stress; IMP:EcoCyc.\", \"marker\": {\"color\": \"#B6E880\"}, \"name\": \"GO:0006979; P:response to oxidative stress; IMP:EcoCyc.\", \"offsetgroup\": \"GO:0006979; P:response to oxidative stress; IMP:EcoCyc.\", \"orientation\": \"v\", \"showlegend\": true, \"textposition\": \"auto\", \"type\": \"bar\", \"x\": [\"Sample 101\"], \"xaxis\": \"x\", \"y\": [14806.6779552349], \"yaxis\": \"y\"}, {\"alignmentgroup\": \"True\", \"hovertemplate\": \"Function=GO:0005829; C:cytosol; IBA:GO_Central.<br>Sample=%{x}<br>Abundance RPKs=%{y}<extra></extra>\", \"legendgroup\": \"GO:0005829; C:cytosol; IBA:GO_Central.\", \"marker\": {\"color\": \"#FF97FF\"}, \"name\": \"GO:0005829; C:cytosol; IBA:GO_Central.\", \"offsetgroup\": \"GO:0005829; C:cytosol; IBA:GO_Central.\", \"orientation\": \"v\", \"showlegend\": true, \"textposition\": \"auto\", \"type\": \"bar\", \"x\": [\"Sample 101\", \"Sample 16\", \"Sample 4\"], \"xaxis\": \"x\", \"y\": [22589.2685930436, 15656.10838241, 14702.899474971204], \"yaxis\": \"y\"}, {\"alignmentgroup\": \"True\", \"hovertemplate\": \"Function=GO:0005887; C:integral component of plasma membrane; IBA:GO_Central.<br>Sample=%{x}<br>Abundance RPKs=%{y}<extra></extra>\", \"legendgroup\": \"GO:0005887; C:integral component of plasma membrane; IBA:GO_Central.\", \"marker\": {\"color\": \"#FECB52\"}, \"name\": \"GO:0005887; C:integral component of plasma membrane; IBA:GO_Central.\", \"offsetgroup\": \"GO:0005887; C:integral component of plasma membrane; IBA:GO_Central.\", \"orientation\": \"v\", \"showlegend\": true, \"textposition\": \"auto\", \"type\": \"bar\", \"x\": [\"Sample 101\"], \"xaxis\": \"x\", \"y\": [10684.2031462634], \"yaxis\": \"y\"}, {\"alignmentgroup\": \"True\", \"hovertemplate\": \"Function=GO:0005887; C:integral component of plasma membrane; ISM:EcoCyc.<br>Sample=%{x}<br>Abundance RPKs=%{y}<extra></extra>\", \"legendgroup\": \"GO:0005887; C:integral component of plasma membrane; ISM:EcoCyc.\", \"marker\": {\"color\": \"#636efa\"}, \"name\": \"GO:0005887; C:integral component of plasma membrane; ISM:EcoCyc.\", \"offsetgroup\": \"GO:0005887; C:integral component of plasma membrane; ISM:EcoCyc.\", \"orientation\": \"v\", \"showlegend\": true, \"textposition\": \"auto\", \"type\": \"bar\", \"x\": [\"Sample 101\"], \"xaxis\": \"x\", \"y\": [13403.576232263598], \"yaxis\": \"y\"}, {\"alignmentgroup\": \"True\", \"hovertemplate\": \"Function=GO:0043709; P:cell adhesion involved in single-species biofilm formation; IMP:EcoCyc.<br>Sample=%{x}<br>Abundance RPKs=%{y}<extra></extra>\", \"legendgroup\": \"GO:0043709; P:cell adhesion involved in single-species biofilm formation; IMP:EcoCyc.\", \"marker\": {\"color\": \"#EF553B\"}, \"name\": \"GO:0043709; P:cell adhesion involved in single-species biofilm formation; IMP:EcoCyc.\", \"offsetgroup\": \"GO:0043709; P:cell adhesion involved in single-species biofilm formation; IMP:EcoCyc.\", \"orientation\": \"v\", \"showlegend\": true, \"textposition\": \"auto\", \"type\": \"bar\", \"x\": [\"Sample 101\"], \"xaxis\": \"x\", \"y\": [10512.8155909289], \"yaxis\": \"y\"}, {\"alignmentgroup\": \"True\", \"hovertemplate\": \"Function=GO:0043711; P:pilus organization; IBA:GO_Central.<br>Sample=%{x}<br>Abundance RPKs=%{y}<extra></extra>\", \"legendgroup\": \"GO:0043711; P:pilus organization; IBA:GO_Central.\", \"marker\": {\"color\": \"#00cc96\"}, \"name\": \"GO:0043711; P:pilus organization; IBA:GO_Central.\", \"offsetgroup\": \"GO:0043711; P:pilus organization; IBA:GO_Central.\", \"orientation\": \"v\", \"showlegend\": true, \"textposition\": \"auto\", \"type\": \"bar\", \"x\": [\"Sample 101\"], \"xaxis\": \"x\", \"y\": [12931.280586489098], \"yaxis\": \"y\"}, {\"alignmentgroup\": \"True\", \"hovertemplate\": \"Function=GO:0006412; P:translation; IEA:UniProtKB-KW.<br>Sample=%{x}<br>Abundance RPKs=%{y}<extra></extra>\", \"legendgroup\": \"GO:0006412; P:translation; IEA:UniProtKB-KW.\", \"marker\": {\"color\": \"#ab63fa\"}, \"name\": \"GO:0006412; P:translation; IEA:UniProtKB-KW.\", \"offsetgroup\": \"GO:0006412; P:translation; IEA:UniProtKB-KW.\", \"orientation\": \"v\", \"showlegend\": true, \"textposition\": \"auto\", \"type\": \"bar\", \"x\": [\"Sample 99\"], \"xaxis\": \"x\", \"y\": [10527.7994447454], \"yaxis\": \"y\"}],\n",
       "                        {\"barmode\": \"relative\", \"legend\": {\"title\": {\"text\": \"Function\"}, \"tracegroupgap\": 0}, \"margin\": {\"t\": 60}, \"showlegend\": false, \"template\": {\"data\": {\"bar\": [{\"error_x\": {\"color\": \"#2a3f5f\"}, \"error_y\": {\"color\": \"#2a3f5f\"}, \"marker\": {\"line\": {\"color\": \"#E5ECF6\", \"width\": 0.5}}, \"type\": \"bar\"}], \"barpolar\": [{\"marker\": {\"line\": {\"color\": \"#E5ECF6\", \"width\": 0.5}}, \"type\": \"barpolar\"}], \"carpet\": [{\"aaxis\": {\"endlinecolor\": \"#2a3f5f\", \"gridcolor\": \"white\", \"linecolor\": \"white\", \"minorgridcolor\": \"white\", \"startlinecolor\": \"#2a3f5f\"}, \"baxis\": {\"endlinecolor\": \"#2a3f5f\", \"gridcolor\": \"white\", \"linecolor\": \"white\", \"minorgridcolor\": \"white\", \"startlinecolor\": \"#2a3f5f\"}, \"type\": \"carpet\"}], \"choropleth\": [{\"colorbar\": {\"outlinewidth\": 0, \"ticks\": \"\"}, \"type\": \"choropleth\"}], \"contour\": [{\"colorbar\": {\"outlinewidth\": 0, \"ticks\": \"\"}, \"colorscale\": [[0.0, \"#0d0887\"], [0.1111111111111111, \"#46039f\"], [0.2222222222222222, \"#7201a8\"], [0.3333333333333333, \"#9c179e\"], [0.4444444444444444, \"#bd3786\"], [0.5555555555555556, \"#d8576b\"], [0.6666666666666666, \"#ed7953\"], [0.7777777777777778, \"#fb9f3a\"], [0.8888888888888888, \"#fdca26\"], [1.0, \"#f0f921\"]], \"type\": \"contour\"}], \"contourcarpet\": [{\"colorbar\": {\"outlinewidth\": 0, \"ticks\": \"\"}, \"type\": \"contourcarpet\"}], \"heatmap\": [{\"colorbar\": {\"outlinewidth\": 0, \"ticks\": \"\"}, \"colorscale\": [[0.0, \"#0d0887\"], [0.1111111111111111, \"#46039f\"], [0.2222222222222222, \"#7201a8\"], [0.3333333333333333, \"#9c179e\"], [0.4444444444444444, \"#bd3786\"], [0.5555555555555556, \"#d8576b\"], [0.6666666666666666, \"#ed7953\"], [0.7777777777777778, \"#fb9f3a\"], [0.8888888888888888, \"#fdca26\"], [1.0, \"#f0f921\"]], \"type\": \"heatmap\"}], \"heatmapgl\": [{\"colorbar\": {\"outlinewidth\": 0, \"ticks\": \"\"}, \"colorscale\": [[0.0, \"#0d0887\"], [0.1111111111111111, \"#46039f\"], [0.2222222222222222, \"#7201a8\"], [0.3333333333333333, \"#9c179e\"], [0.4444444444444444, \"#bd3786\"], [0.5555555555555556, \"#d8576b\"], [0.6666666666666666, \"#ed7953\"], [0.7777777777777778, \"#fb9f3a\"], [0.8888888888888888, \"#fdca26\"], [1.0, \"#f0f921\"]], \"type\": \"heatmapgl\"}], \"histogram\": [{\"marker\": {\"colorbar\": {\"outlinewidth\": 0, \"ticks\": \"\"}}, \"type\": \"histogram\"}], \"histogram2d\": [{\"colorbar\": {\"outlinewidth\": 0, \"ticks\": \"\"}, \"colorscale\": [[0.0, \"#0d0887\"], [0.1111111111111111, \"#46039f\"], [0.2222222222222222, \"#7201a8\"], [0.3333333333333333, \"#9c179e\"], [0.4444444444444444, \"#bd3786\"], [0.5555555555555556, \"#d8576b\"], [0.6666666666666666, \"#ed7953\"], [0.7777777777777778, \"#fb9f3a\"], [0.8888888888888888, \"#fdca26\"], [1.0, \"#f0f921\"]], \"type\": \"histogram2d\"}], \"histogram2dcontour\": [{\"colorbar\": {\"outlinewidth\": 0, \"ticks\": \"\"}, \"colorscale\": [[0.0, \"#0d0887\"], [0.1111111111111111, \"#46039f\"], [0.2222222222222222, \"#7201a8\"], [0.3333333333333333, \"#9c179e\"], [0.4444444444444444, \"#bd3786\"], [0.5555555555555556, \"#d8576b\"], [0.6666666666666666, \"#ed7953\"], [0.7777777777777778, \"#fb9f3a\"], [0.8888888888888888, \"#fdca26\"], [1.0, \"#f0f921\"]], \"type\": \"histogram2dcontour\"}], \"mesh3d\": [{\"colorbar\": {\"outlinewidth\": 0, \"ticks\": \"\"}, \"type\": \"mesh3d\"}], \"parcoords\": [{\"line\": {\"colorbar\": {\"outlinewidth\": 0, \"ticks\": \"\"}}, \"type\": \"parcoords\"}], \"pie\": [{\"automargin\": true, \"type\": \"pie\"}], \"scatter\": [{\"marker\": {\"colorbar\": {\"outlinewidth\": 0, \"ticks\": \"\"}}, \"type\": \"scatter\"}], \"scatter3d\": [{\"line\": {\"colorbar\": {\"outlinewidth\": 0, \"ticks\": \"\"}}, \"marker\": {\"colorbar\": {\"outlinewidth\": 0, \"ticks\": \"\"}}, \"type\": \"scatter3d\"}], \"scattercarpet\": [{\"marker\": {\"colorbar\": {\"outlinewidth\": 0, \"ticks\": \"\"}}, \"type\": \"scattercarpet\"}], \"scattergeo\": [{\"marker\": {\"colorbar\": {\"outlinewidth\": 0, \"ticks\": \"\"}}, \"type\": \"scattergeo\"}], \"scattergl\": [{\"marker\": {\"colorbar\": {\"outlinewidth\": 0, \"ticks\": \"\"}}, \"type\": \"scattergl\"}], \"scattermapbox\": [{\"marker\": {\"colorbar\": {\"outlinewidth\": 0, \"ticks\": \"\"}}, \"type\": \"scattermapbox\"}], \"scatterpolar\": [{\"marker\": {\"colorbar\": {\"outlinewidth\": 0, \"ticks\": \"\"}}, \"type\": \"scatterpolar\"}], \"scatterpolargl\": [{\"marker\": {\"colorbar\": {\"outlinewidth\": 0, \"ticks\": \"\"}}, \"type\": \"scatterpolargl\"}], \"scatterternary\": [{\"marker\": {\"colorbar\": {\"outlinewidth\": 0, \"ticks\": \"\"}}, \"type\": \"scatterternary\"}], \"surface\": [{\"colorbar\": {\"outlinewidth\": 0, \"ticks\": \"\"}, \"colorscale\": [[0.0, \"#0d0887\"], [0.1111111111111111, \"#46039f\"], [0.2222222222222222, \"#7201a8\"], [0.3333333333333333, \"#9c179e\"], [0.4444444444444444, \"#bd3786\"], [0.5555555555555556, \"#d8576b\"], [0.6666666666666666, \"#ed7953\"], [0.7777777777777778, \"#fb9f3a\"], [0.8888888888888888, \"#fdca26\"], [1.0, \"#f0f921\"]], \"type\": \"surface\"}], \"table\": [{\"cells\": {\"fill\": {\"color\": \"#EBF0F8\"}, \"line\": {\"color\": \"white\"}}, \"header\": {\"fill\": {\"color\": \"#C8D4E3\"}, \"line\": {\"color\": \"white\"}}, \"type\": \"table\"}]}, \"layout\": {\"annotationdefaults\": {\"arrowcolor\": \"#2a3f5f\", \"arrowhead\": 0, \"arrowwidth\": 1}, \"coloraxis\": {\"colorbar\": {\"outlinewidth\": 0, \"ticks\": \"\"}}, \"colorscale\": {\"diverging\": [[0, \"#8e0152\"], [0.1, \"#c51b7d\"], [0.2, \"#de77ae\"], [0.3, \"#f1b6da\"], [0.4, \"#fde0ef\"], [0.5, \"#f7f7f7\"], [0.6, \"#e6f5d0\"], [0.7, \"#b8e186\"], [0.8, \"#7fbc41\"], [0.9, \"#4d9221\"], [1, \"#276419\"]], \"sequential\": [[0.0, \"#0d0887\"], [0.1111111111111111, \"#46039f\"], [0.2222222222222222, \"#7201a8\"], [0.3333333333333333, \"#9c179e\"], [0.4444444444444444, \"#bd3786\"], [0.5555555555555556, \"#d8576b\"], [0.6666666666666666, \"#ed7953\"], [0.7777777777777778, \"#fb9f3a\"], [0.8888888888888888, \"#fdca26\"], [1.0, \"#f0f921\"]], \"sequentialminus\": [[0.0, \"#0d0887\"], [0.1111111111111111, \"#46039f\"], [0.2222222222222222, \"#7201a8\"], [0.3333333333333333, \"#9c179e\"], [0.4444444444444444, \"#bd3786\"], [0.5555555555555556, \"#d8576b\"], [0.6666666666666666, \"#ed7953\"], [0.7777777777777778, \"#fb9f3a\"], [0.8888888888888888, \"#fdca26\"], [1.0, \"#f0f921\"]]}, \"colorway\": [\"#636efa\", \"#EF553B\", \"#00cc96\", \"#ab63fa\", \"#FFA15A\", \"#19d3f3\", \"#FF6692\", \"#B6E880\", \"#FF97FF\", \"#FECB52\"], \"font\": {\"color\": \"#2a3f5f\"}, \"geo\": {\"bgcolor\": \"white\", \"lakecolor\": \"white\", \"landcolor\": \"#E5ECF6\", \"showlakes\": true, \"showland\": true, \"subunitcolor\": \"white\"}, \"hoverlabel\": {\"align\": \"left\"}, \"hovermode\": \"closest\", \"mapbox\": {\"style\": \"light\"}, \"paper_bgcolor\": \"white\", \"plot_bgcolor\": \"#E5ECF6\", \"polar\": {\"angularaxis\": {\"gridcolor\": \"white\", \"linecolor\": \"white\", \"ticks\": \"\"}, \"bgcolor\": \"#E5ECF6\", \"radialaxis\": {\"gridcolor\": \"white\", \"linecolor\": \"white\", \"ticks\": \"\"}}, \"scene\": {\"xaxis\": {\"backgroundcolor\": \"#E5ECF6\", \"gridcolor\": \"white\", \"gridwidth\": 2, \"linecolor\": \"white\", \"showbackground\": true, \"ticks\": \"\", \"zerolinecolor\": \"white\"}, \"yaxis\": {\"backgroundcolor\": \"#E5ECF6\", \"gridcolor\": \"white\", \"gridwidth\": 2, \"linecolor\": \"white\", \"showbackground\": true, \"ticks\": \"\", \"zerolinecolor\": \"white\"}, \"zaxis\": {\"backgroundcolor\": \"#E5ECF6\", \"gridcolor\": \"white\", \"gridwidth\": 2, \"linecolor\": \"white\", \"showbackground\": true, \"ticks\": \"\", \"zerolinecolor\": \"white\"}}, \"shapedefaults\": {\"line\": {\"color\": \"#2a3f5f\"}}, \"ternary\": {\"aaxis\": {\"gridcolor\": \"white\", \"linecolor\": \"white\", \"ticks\": \"\"}, \"baxis\": {\"gridcolor\": \"white\", \"linecolor\": \"white\", \"ticks\": \"\"}, \"bgcolor\": \"#E5ECF6\", \"caxis\": {\"gridcolor\": \"white\", \"linecolor\": \"white\", \"ticks\": \"\"}}, \"title\": {\"x\": 0.05}, \"xaxis\": {\"automargin\": true, \"gridcolor\": \"white\", \"linecolor\": \"white\", \"ticks\": \"\", \"title\": {\"standoff\": 15}, \"zerolinecolor\": \"white\", \"zerolinewidth\": 2}, \"yaxis\": {\"automargin\": true, \"gridcolor\": \"white\", \"linecolor\": \"white\", \"ticks\": \"\", \"title\": {\"standoff\": 15}, \"zerolinecolor\": \"white\", \"zerolinewidth\": 2}}}, \"xaxis\": {\"anchor\": \"y\", \"domain\": [0.0, 1.0], \"title\": {\"text\": \"Sample\"}}, \"yaxis\": {\"anchor\": \"x\", \"domain\": [0.0, 1.0], \"title\": {\"text\": \"Abundance RPKs\"}}},\n",
       "                        {\"responsive\": true}\n",
       "                    ).then(function(){\n",
       "                            \n",
       "var gd = document.getElementById('b99393f9-27a5-4322-9485-ef9117219f33');\n",
       "var x = new MutationObserver(function (mutations, observer) {{\n",
       "        var display = window.getComputedStyle(gd).display;\n",
       "        if (!display || display === 'none') {{\n",
       "            console.log([gd, 'removed!']);\n",
       "            Plotly.purge(gd);\n",
       "            observer.disconnect();\n",
       "        }}\n",
       "}});\n",
       "\n",
       "// Listen for the removal of the full notebook cells\n",
       "var notebookContainer = gd.closest('#notebook-container');\n",
       "if (notebookContainer) {{\n",
       "    x.observe(notebookContainer, {childList: true});\n",
       "}}\n",
       "\n",
       "// Listen for the clearing of the current output cell\n",
       "var outputEl = gd.closest('.output');\n",
       "if (outputEl) {{\n",
       "    x.observe(outputEl, {childList: true});\n",
       "}}\n",
       "\n",
       "                        })\n",
       "                };\n",
       "                });\n",
       "            </script>\n",
       "        </div>"
      ]
     },
     "metadata": {},
     "output_type": "display_data"
    }
   ],
   "source": [
    "fig = px.bar(df, x=\"Sample\", y=\"Abundance RPKs\", color='Function')\n",
    "fig.update_layout(showlegend=False)\n",
    "fig.write_html(\"humann2.html\")\n",
    "fig.show()\n"
   ]
  },
  {
   "cell_type": "code",
   "execution_count": null,
   "metadata": {},
   "outputs": [],
   "source": []
  }
 ],
 "metadata": {
  "kernelspec": {
   "display_name": "Python 3",
   "language": "python",
   "name": "python3"
  },
  "language_info": {
   "codemirror_mode": {
    "name": "ipython",
    "version": 3
   },
   "file_extension": ".py",
   "mimetype": "text/x-python",
   "name": "python",
   "nbconvert_exporter": "python",
   "pygments_lexer": "ipython3",
   "version": "3.7.6"
  }
 },
 "nbformat": 4,
 "nbformat_minor": 4
}
