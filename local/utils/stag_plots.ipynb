{
 "cells": [
  {
   "cell_type": "code",
   "execution_count": 19,
   "metadata": {},
   "outputs": [],
   "source": [
    "import plotly.express as px\n",
    "import pandas as pd\n"
   ]
  },
  {
   "cell_type": "code",
   "execution_count": 20,
   "metadata": {},
   "outputs": [],
   "source": [
    "# data as stacked bar charts\n",
    "data = {\n",
    "    \"Organism\": [],\n",
    "    \"Read Count\": [],\n",
    "    \"Sample\": []\n",
    "}\n",
    "samples = []\n",
    "min_reads = 0\n",
    "total_others = []\n",
    "\n",
    "with open('kraken2.csv', 'r') as f:\n",
    "    raw_data = f.read().split(\"\\n\")\n",
    "    \n",
    "    samples = [\"Sample \"+x for x in raw_data[0].split(\",\") if x != \"\"]\n",
    "    for s in samples:\n",
    "        total_others.append(0)\n",
    "    \n",
    "    for r in raw_data[1:]:\n",
    "        do_add = False\n",
    "        tmp_new = [0 for s in samples]\n",
    "        \n",
    "        tmp_r = r.split(\",\")\n",
    "        if len(tmp_r) > 1:\n",
    "            org = \"|\".join([x for x in tmp_r[:-len(samples)] if x != \"-\"])\n",
    "\n",
    "            for i in range(1, len(samples)):\n",
    "                tmp_new[i] = tmp_r[-i]\n",
    "                \n",
    "                if tmp_new[i] != \"NaN\" and int(tmp_new[i]) >= min_reads:\n",
    "                    do_add = True\n",
    "                \n",
    "            if do_add:\n",
    "                for i in range(1, len(samples)):\n",
    "                    data[\"Organism\"].append(org)\n",
    "                    data[\"Read Count\"].append(tmp_new[i])\n",
    "                    data[\"Sample\"].append(samples[i])\n",
    "            else:\n",
    "                for i in range(1, len(samples)):\n",
    "                    if tmp_new[i] != \"NaN\":\n",
    "                        total_others[i] += int(tmp_new[i])\n",
    "    \n",
    "for i in range(1, len(samples)):\n",
    "    data[\"Organism\"].append(\"other\")\n",
    "    data[\"Read Count\"].append(total_others[i])\n",
    "    data[\"Sample\"].append(samples[i])\n",
    "    \n",
    "df = pd.DataFrame.from_dict(data)\n",
    "df[\"Read Count\"] = df[\"Read Count\"].astype(float)\n"
   ]
  },
  {
   "cell_type": "code",
   "execution_count": 21,
   "metadata": {},
   "outputs": [
    {
     "data": {
      "application/vnd.plotly.v1+json": {
       "config": {
        "plotlyServerURL": "https://plot.ly"
       },
       "data": [
        {
         "alignmentgroup": "True",
         "hovertemplate": "Organism=Abditibacteriota<br>Sample=%{x}<br>Read Count=%{y}<extra></extra>",
         "legendgroup": "Abditibacteriota",
         "marker": {
          "color": "#636efa"
         },
         "name": "Abditibacteriota",
         "offsetgroup": "Abditibacteriota",
         "orientation": "v",
         "showlegend": true,
         "textposition": "auto",
         "type": "bar",
         "x": [
          "Sample 14",
          "Sample 3",
          "Sample 1",
          "Sample 100",
          "Sample 15",
          "Sample 16",
          "Sample 99",
          "Sample 13",
          "Sample 97",
          "Sample 98",
          "Sample 2",
          "Sample 101",
          "Sample 103",
          "Sample 4"
         ],
         "xaxis": "x",
         "y": [
          null,
          null,
          null,
          4,
          null,
          null,
          null,
          null,
          null,
          null,
          1,
          null,
          null,
          null
         ],
         "yaxis": "y"
        },
        {
         "alignmentgroup": "True",
         "hovertemplate": "Organism=Acidithiobacillia<br>Sample=%{x}<br>Read Count=%{y}<extra></extra>",
         "legendgroup": "Acidithiobacillia",
         "marker": {
          "color": "#EF553B"
         },
         "name": "Acidithiobacillia",
         "offsetgroup": "Acidithiobacillia",
         "orientation": "v",
         "showlegend": true,
         "textposition": "auto",
         "type": "bar",
         "x": [
          "Sample 14",
          "Sample 3",
          "Sample 1",
          "Sample 100",
          "Sample 15",
          "Sample 16",
          "Sample 99",
          "Sample 13",
          "Sample 97",
          "Sample 98",
          "Sample 2",
          "Sample 101",
          "Sample 103",
          "Sample 4"
         ],
         "xaxis": "x",
         "y": [
          7,
          1,
          2,
          7,
          4,
          6,
          27,
          2,
          2,
          1,
          6,
          2,
          1,
          6
         ],
         "yaxis": "y"
        },
        {
         "alignmentgroup": "True",
         "hovertemplate": "Organism=Acidobacteriia<br>Sample=%{x}<br>Read Count=%{y}<extra></extra>",
         "legendgroup": "Acidobacteriia",
         "marker": {
          "color": "#00cc96"
         },
         "name": "Acidobacteriia",
         "offsetgroup": "Acidobacteriia",
         "orientation": "v",
         "showlegend": true,
         "textposition": "auto",
         "type": "bar",
         "x": [
          "Sample 14",
          "Sample 3",
          "Sample 1",
          "Sample 100",
          "Sample 15",
          "Sample 16",
          "Sample 99",
          "Sample 13",
          "Sample 97",
          "Sample 98",
          "Sample 2",
          "Sample 101",
          "Sample 103",
          "Sample 4"
         ],
         "xaxis": "x",
         "y": [
          74,
          10,
          27,
          109,
          373,
          35,
          98,
          63,
          21,
          31,
          103,
          44,
          48,
          61
         ],
         "yaxis": "y"
        },
        {
         "alignmentgroup": "True",
         "hovertemplate": "Organism=Actinobacteria<br>Sample=%{x}<br>Read Count=%{y}<extra></extra>",
         "legendgroup": "Actinobacteria",
         "marker": {
          "color": "#ab63fa"
         },
         "name": "Actinobacteria",
         "offsetgroup": "Actinobacteria",
         "orientation": "v",
         "showlegend": true,
         "textposition": "auto",
         "type": "bar",
         "x": [
          "Sample 14",
          "Sample 3",
          "Sample 1",
          "Sample 100",
          "Sample 15",
          "Sample 16",
          "Sample 99",
          "Sample 13",
          "Sample 97",
          "Sample 98",
          "Sample 2",
          "Sample 101",
          "Sample 103",
          "Sample 4"
         ],
         "xaxis": "x",
         "y": [
          1180256,
          843781,
          832599,
          1532819,
          655485,
          391601,
          474958,
          665926,
          280366,
          565876,
          902937,
          1375509,
          310433,
          1910993
         ],
         "yaxis": "y"
        },
        {
         "alignmentgroup": "True",
         "hovertemplate": "Organism=Alphaproteobacteria<br>Sample=%{x}<br>Read Count=%{y}<extra></extra>",
         "legendgroup": "Alphaproteobacteria",
         "marker": {
          "color": "#FFA15A"
         },
         "name": "Alphaproteobacteria",
         "offsetgroup": "Alphaproteobacteria",
         "orientation": "v",
         "showlegend": true,
         "textposition": "auto",
         "type": "bar",
         "x": [
          "Sample 14",
          "Sample 3",
          "Sample 1",
          "Sample 100",
          "Sample 15",
          "Sample 16",
          "Sample 99",
          "Sample 13",
          "Sample 97",
          "Sample 98",
          "Sample 2",
          "Sample 101",
          "Sample 103",
          "Sample 4"
         ],
         "xaxis": "x",
         "y": [
          18274,
          2872,
          29762,
          28451,
          3951,
          6513,
          15345,
          9904,
          15194,
          8314,
          10531,
          9499,
          4159,
          12198
         ],
         "yaxis": "y"
        },
        {
         "alignmentgroup": "True",
         "hovertemplate": "Organism=Aquificae<br>Sample=%{x}<br>Read Count=%{y}<extra></extra>",
         "legendgroup": "Aquificae",
         "marker": {
          "color": "#19d3f3"
         },
         "name": "Aquificae",
         "offsetgroup": "Aquificae",
         "orientation": "v",
         "showlegend": true,
         "textposition": "auto",
         "type": "bar",
         "x": [
          "Sample 14",
          "Sample 3",
          "Sample 1",
          "Sample 100",
          "Sample 15",
          "Sample 16",
          "Sample 99",
          "Sample 13",
          "Sample 97",
          "Sample 98",
          "Sample 2",
          "Sample 101",
          "Sample 103",
          "Sample 4"
         ],
         "xaxis": "x",
         "y": [
          52,
          14,
          null,
          28,
          5,
          9,
          25,
          11,
          10,
          5,
          24,
          4,
          5,
          8
         ],
         "yaxis": "y"
        },
        {
         "alignmentgroup": "True",
         "hovertemplate": "Organism=Archaeoglobi<br>Sample=%{x}<br>Read Count=%{y}<extra></extra>",
         "legendgroup": "Archaeoglobi",
         "marker": {
          "color": "#FF6692"
         },
         "name": "Archaeoglobi",
         "offsetgroup": "Archaeoglobi",
         "orientation": "v",
         "showlegend": true,
         "textposition": "auto",
         "type": "bar",
         "x": [
          "Sample 14",
          "Sample 3",
          "Sample 1",
          "Sample 100",
          "Sample 15",
          "Sample 16",
          "Sample 99",
          "Sample 13",
          "Sample 97",
          "Sample 98",
          "Sample 2",
          "Sample 101",
          "Sample 103",
          "Sample 4"
         ],
         "xaxis": "x",
         "y": [
          2,
          null,
          null,
          1,
          null,
          null,
          1,
          1,
          1,
          null,
          3,
          1,
          null,
          null
         ],
         "yaxis": "y"
        },
        {
         "alignmentgroup": "True",
         "hovertemplate": "Organism=Armatimonadetes<br>Sample=%{x}<br>Read Count=%{y}<extra></extra>",
         "legendgroup": "Armatimonadetes",
         "marker": {
          "color": "#B6E880"
         },
         "name": "Armatimonadetes",
         "offsetgroup": "Armatimonadetes",
         "orientation": "v",
         "showlegend": true,
         "textposition": "auto",
         "type": "bar",
         "x": [
          "Sample 14",
          "Sample 3",
          "Sample 1",
          "Sample 100",
          "Sample 15",
          "Sample 16",
          "Sample 99",
          "Sample 13",
          "Sample 97",
          "Sample 98",
          "Sample 2",
          "Sample 101",
          "Sample 103",
          "Sample 4"
         ],
         "xaxis": "x",
         "y": [
          8,
          2,
          1,
          5,
          1,
          3,
          29,
          5,
          1,
          4,
          9,
          8,
          4,
          5
         ],
         "yaxis": "y"
        },
        {
         "alignmentgroup": "True",
         "hovertemplate": "Organism=Bacteria candidate phyla<br>Sample=%{x}<br>Read Count=%{y}<extra></extra>",
         "legendgroup": "Bacteria candidate phyla",
         "marker": {
          "color": "#FF97FF"
         },
         "name": "Bacteria candidate phyla",
         "offsetgroup": "Bacteria candidate phyla",
         "orientation": "v",
         "showlegend": true,
         "textposition": "auto",
         "type": "bar",
         "x": [
          "Sample 14",
          "Sample 3",
          "Sample 1",
          "Sample 100",
          "Sample 15",
          "Sample 16",
          "Sample 99",
          "Sample 13",
          "Sample 97",
          "Sample 98",
          "Sample 2",
          "Sample 101",
          "Sample 103",
          "Sample 4"
         ],
         "xaxis": "x",
         "y": [
          120,
          466,
          234,
          103,
          129,
          588,
          719,
          186,
          248,
          1626,
          250,
          58,
          280,
          266
         ],
         "yaxis": "y"
        },
        {
         "alignmentgroup": "True",
         "hovertemplate": "Organism=Bacteroidetes/Chlorobi group<br>Sample=%{x}<br>Read Count=%{y}<extra></extra>",
         "legendgroup": "Bacteroidetes/Chlorobi group",
         "marker": {
          "color": "#FECB52"
         },
         "name": "Bacteroidetes/Chlorobi group",
         "offsetgroup": "Bacteroidetes/Chlorobi group",
         "orientation": "v",
         "showlegend": true,
         "textposition": "auto",
         "type": "bar",
         "x": [
          "Sample 14",
          "Sample 3",
          "Sample 1",
          "Sample 100",
          "Sample 15",
          "Sample 16",
          "Sample 99",
          "Sample 13",
          "Sample 97",
          "Sample 98",
          "Sample 2",
          "Sample 101",
          "Sample 103",
          "Sample 4"
         ],
         "xaxis": "x",
         "y": [
          8841956,
          6097872,
          5003848,
          5716337,
          8069905,
          6872728,
          5678763,
          4267982,
          14900558,
          5558076,
          4050773,
          5731425,
          11588708,
          7262065
         ],
         "yaxis": "y"
        },
        {
         "alignmentgroup": "True",
         "hovertemplate": "Organism=Betaproteobacteria<br>Sample=%{x}<br>Read Count=%{y}<extra></extra>",
         "legendgroup": "Betaproteobacteria",
         "marker": {
          "color": "#636efa"
         },
         "name": "Betaproteobacteria",
         "offsetgroup": "Betaproteobacteria",
         "orientation": "v",
         "showlegend": true,
         "textposition": "auto",
         "type": "bar",
         "x": [
          "Sample 14",
          "Sample 3",
          "Sample 1",
          "Sample 100",
          "Sample 15",
          "Sample 16",
          "Sample 99",
          "Sample 13",
          "Sample 97",
          "Sample 98",
          "Sample 2",
          "Sample 101",
          "Sample 103",
          "Sample 4"
         ],
         "xaxis": "x",
         "y": [
          47429,
          293587,
          35943,
          101177,
          145232,
          283232,
          49235,
          238605,
          89173,
          374736,
          47099,
          82176,
          67439,
          476244
         ],
         "yaxis": "y"
        },
        {
         "alignmentgroup": "True",
         "hovertemplate": "Organism=Blastocatellia<br>Sample=%{x}<br>Read Count=%{y}<extra></extra>",
         "legendgroup": "Blastocatellia",
         "marker": {
          "color": "#EF553B"
         },
         "name": "Blastocatellia",
         "offsetgroup": "Blastocatellia",
         "orientation": "v",
         "showlegend": true,
         "textposition": "auto",
         "type": "bar",
         "x": [
          "Sample 14",
          "Sample 3",
          "Sample 1",
          "Sample 100",
          "Sample 15",
          "Sample 16",
          "Sample 99",
          "Sample 13",
          "Sample 97",
          "Sample 98",
          "Sample 2",
          "Sample 101",
          "Sample 103",
          "Sample 4"
         ],
         "xaxis": "x",
         "y": [
          2,
          null,
          null,
          null,
          1,
          1,
          3,
          2,
          null,
          3,
          1,
          2,
          null,
          2
         ],
         "yaxis": "y"
        },
        {
         "alignmentgroup": "True",
         "hovertemplate": "Organism=Calditrichae<br>Sample=%{x}<br>Read Count=%{y}<extra></extra>",
         "legendgroup": "Calditrichae",
         "marker": {
          "color": "#00cc96"
         },
         "name": "Calditrichae",
         "offsetgroup": "Calditrichae",
         "orientation": "v",
         "showlegend": true,
         "textposition": "auto",
         "type": "bar",
         "x": [
          "Sample 14",
          "Sample 3",
          "Sample 1",
          "Sample 100",
          "Sample 15",
          "Sample 16",
          "Sample 99",
          "Sample 13",
          "Sample 97",
          "Sample 98",
          "Sample 2",
          "Sample 101",
          "Sample 103",
          "Sample 4"
         ],
         "xaxis": "x",
         "y": [
          null,
          null,
          null,
          null,
          null,
          null,
          null,
          2,
          null,
          1,
          1,
          1,
          null,
          2
         ],
         "yaxis": "y"
        },
        {
         "alignmentgroup": "True",
         "hovertemplate": "Organism=Candidatus Bathyarchaeota<br>Sample=%{x}<br>Read Count=%{y}<extra></extra>",
         "legendgroup": "Candidatus Bathyarchaeota",
         "marker": {
          "color": "#ab63fa"
         },
         "name": "Candidatus Bathyarchaeota",
         "offsetgroup": "Candidatus Bathyarchaeota",
         "orientation": "v",
         "showlegend": true,
         "textposition": "auto",
         "type": "bar",
         "x": [
          "Sample 14",
          "Sample 3",
          "Sample 1",
          "Sample 100",
          "Sample 15",
          "Sample 16",
          "Sample 99",
          "Sample 13",
          "Sample 97",
          "Sample 98",
          "Sample 2",
          "Sample 101",
          "Sample 103",
          "Sample 4"
         ],
         "xaxis": "x",
         "y": [
          null,
          null,
          null,
          null,
          null,
          null,
          null,
          1,
          null,
          null,
          null,
          null,
          null,
          null
         ],
         "yaxis": "y"
        },
        {
         "alignmentgroup": "True",
         "hovertemplate": "Organism=Candidatus Cloacimonetes<br>Sample=%{x}<br>Read Count=%{y}<extra></extra>",
         "legendgroup": "Candidatus Cloacimonetes",
         "marker": {
          "color": "#FFA15A"
         },
         "name": "Candidatus Cloacimonetes",
         "offsetgroup": "Candidatus Cloacimonetes",
         "orientation": "v",
         "showlegend": true,
         "textposition": "auto",
         "type": "bar",
         "x": [
          "Sample 14",
          "Sample 3",
          "Sample 1",
          "Sample 100",
          "Sample 15",
          "Sample 16",
          "Sample 99",
          "Sample 13",
          "Sample 97",
          "Sample 98",
          "Sample 2",
          "Sample 101",
          "Sample 103",
          "Sample 4"
         ],
         "xaxis": "x",
         "y": [
          2,
          null,
          null,
          2,
          1,
          1,
          1,
          null,
          null,
          2,
          2,
          null,
          2,
          2
         ],
         "yaxis": "y"
        },
        {
         "alignmentgroup": "True",
         "hovertemplate": "Organism=Candidatus Cryosericota<br>Sample=%{x}<br>Read Count=%{y}<extra></extra>",
         "legendgroup": "Candidatus Cryosericota",
         "marker": {
          "color": "#19d3f3"
         },
         "name": "Candidatus Cryosericota",
         "offsetgroup": "Candidatus Cryosericota",
         "orientation": "v",
         "showlegend": true,
         "textposition": "auto",
         "type": "bar",
         "x": [
          "Sample 14",
          "Sample 3",
          "Sample 1",
          "Sample 100",
          "Sample 15",
          "Sample 16",
          "Sample 99",
          "Sample 13",
          "Sample 97",
          "Sample 98",
          "Sample 2",
          "Sample 101",
          "Sample 103",
          "Sample 4"
         ],
         "xaxis": "x",
         "y": [
          4,
          null,
          null,
          null,
          null,
          2,
          3,
          3,
          2,
          3,
          3,
          1,
          null,
          1
         ],
         "yaxis": "y"
        },
        {
         "alignmentgroup": "True",
         "hovertemplate": "Organism=Candidatus Korarchaeota<br>Sample=%{x}<br>Read Count=%{y}<extra></extra>",
         "legendgroup": "Candidatus Korarchaeota",
         "marker": {
          "color": "#FF6692"
         },
         "name": "Candidatus Korarchaeota",
         "offsetgroup": "Candidatus Korarchaeota",
         "orientation": "v",
         "showlegend": true,
         "textposition": "auto",
         "type": "bar",
         "x": [
          "Sample 14",
          "Sample 3",
          "Sample 1",
          "Sample 100",
          "Sample 15",
          "Sample 16",
          "Sample 99",
          "Sample 13",
          "Sample 97",
          "Sample 98",
          "Sample 2",
          "Sample 101",
          "Sample 103",
          "Sample 4"
         ],
         "xaxis": "x",
         "y": [
          1,
          null,
          null,
          null,
          null,
          null,
          1,
          null,
          null,
          null,
          null,
          null,
          null,
          null
         ],
         "yaxis": "y"
        },
        {
         "alignmentgroup": "True",
         "hovertemplate": "Organism=Candidatus Kryptonia<br>Sample=%{x}<br>Read Count=%{y}<extra></extra>",
         "legendgroup": "Candidatus Kryptonia",
         "marker": {
          "color": "#B6E880"
         },
         "name": "Candidatus Kryptonia",
         "offsetgroup": "Candidatus Kryptonia",
         "orientation": "v",
         "showlegend": true,
         "textposition": "auto",
         "type": "bar",
         "x": [
          "Sample 14",
          "Sample 3",
          "Sample 1",
          "Sample 100",
          "Sample 15",
          "Sample 16",
          "Sample 99",
          "Sample 13",
          "Sample 97",
          "Sample 98",
          "Sample 2",
          "Sample 101",
          "Sample 103",
          "Sample 4"
         ],
         "xaxis": "x",
         "y": [
          6,
          null,
          null,
          4,
          1,
          1,
          1,
          1,
          null,
          null,
          2,
          2,
          2,
          1
         ],
         "yaxis": "y"
        },
        {
         "alignmentgroup": "True",
         "hovertemplate": "Organism=Candidatus Lokiarchaeota<br>Sample=%{x}<br>Read Count=%{y}<extra></extra>",
         "legendgroup": "Candidatus Lokiarchaeota",
         "marker": {
          "color": "#FF97FF"
         },
         "name": "Candidatus Lokiarchaeota",
         "offsetgroup": "Candidatus Lokiarchaeota",
         "orientation": "v",
         "showlegend": true,
         "textposition": "auto",
         "type": "bar",
         "x": [
          "Sample 14",
          "Sample 3",
          "Sample 1",
          "Sample 100",
          "Sample 15",
          "Sample 16",
          "Sample 99",
          "Sample 13",
          "Sample 97",
          "Sample 98",
          "Sample 2",
          "Sample 101",
          "Sample 103",
          "Sample 4"
         ],
         "xaxis": "x",
         "y": [
          1,
          null,
          null,
          null,
          null,
          null,
          2,
          null,
          null,
          null,
          1,
          1,
          null,
          1
         ],
         "yaxis": "y"
        },
        {
         "alignmentgroup": "True",
         "hovertemplate": "Organism=Candidatus Marinimicrobia<br>Sample=%{x}<br>Read Count=%{y}<extra></extra>",
         "legendgroup": "Candidatus Marinimicrobia",
         "marker": {
          "color": "#FECB52"
         },
         "name": "Candidatus Marinimicrobia",
         "offsetgroup": "Candidatus Marinimicrobia",
         "orientation": "v",
         "showlegend": true,
         "textposition": "auto",
         "type": "bar",
         "x": [
          "Sample 14",
          "Sample 3",
          "Sample 1",
          "Sample 100",
          "Sample 15",
          "Sample 16",
          "Sample 99",
          "Sample 13",
          "Sample 97",
          "Sample 98",
          "Sample 2",
          "Sample 101",
          "Sample 103",
          "Sample 4"
         ],
         "xaxis": "x",
         "y": [
          4,
          1,
          1,
          4,
          1,
          3,
          4,
          2,
          5,
          null,
          16,
          17,
          4,
          2
         ],
         "yaxis": "y"
        },
        {
         "alignmentgroup": "True",
         "hovertemplate": "Organism=Candidatus Methanoliparia<br>Sample=%{x}<br>Read Count=%{y}<extra></extra>",
         "legendgroup": "Candidatus Methanoliparia",
         "marker": {
          "color": "#636efa"
         },
         "name": "Candidatus Methanoliparia",
         "offsetgroup": "Candidatus Methanoliparia",
         "orientation": "v",
         "showlegend": true,
         "textposition": "auto",
         "type": "bar",
         "x": [
          "Sample 14",
          "Sample 3",
          "Sample 1",
          "Sample 100",
          "Sample 15",
          "Sample 16",
          "Sample 99",
          "Sample 13",
          "Sample 97",
          "Sample 98",
          "Sample 2",
          "Sample 101",
          "Sample 103",
          "Sample 4"
         ],
         "xaxis": "x",
         "y": [
          null,
          null,
          null,
          null,
          8,
          null,
          null,
          null,
          null,
          null,
          1,
          null,
          1,
          null
         ],
         "yaxis": "y"
        },
        {
         "alignmentgroup": "True",
         "hovertemplate": "Organism=Candidatus Tectomicrobia<br>Sample=%{x}<br>Read Count=%{y}<extra></extra>",
         "legendgroup": "Candidatus Tectomicrobia",
         "marker": {
          "color": "#EF553B"
         },
         "name": "Candidatus Tectomicrobia",
         "offsetgroup": "Candidatus Tectomicrobia",
         "orientation": "v",
         "showlegend": true,
         "textposition": "auto",
         "type": "bar",
         "x": [
          "Sample 14",
          "Sample 3",
          "Sample 1",
          "Sample 100",
          "Sample 15",
          "Sample 16",
          "Sample 99",
          "Sample 13",
          "Sample 97",
          "Sample 98",
          "Sample 2",
          "Sample 101",
          "Sample 103",
          "Sample 4"
         ],
         "xaxis": "x",
         "y": [
          1,
          null,
          null,
          null,
          null,
          1,
          2,
          null,
          10,
          2,
          1,
          2,
          1,
          4
         ],
         "yaxis": "y"
        },
        {
         "alignmentgroup": "True",
         "hovertemplate": "Organism=Chlamydiae<br>Sample=%{x}<br>Read Count=%{y}<extra></extra>",
         "legendgroup": "Chlamydiae",
         "marker": {
          "color": "#00cc96"
         },
         "name": "Chlamydiae",
         "offsetgroup": "Chlamydiae",
         "orientation": "v",
         "showlegend": true,
         "textposition": "auto",
         "type": "bar",
         "x": [
          "Sample 14",
          "Sample 3",
          "Sample 1",
          "Sample 100",
          "Sample 15",
          "Sample 16",
          "Sample 99",
          "Sample 13",
          "Sample 97",
          "Sample 98",
          "Sample 2",
          "Sample 101",
          "Sample 103",
          "Sample 4"
         ],
         "xaxis": "x",
         "y": [
          14,
          4,
          15,
          16,
          3,
          10,
          16,
          23,
          3,
          8,
          13,
          86,
          7,
          14
         ],
         "yaxis": "y"
        },
        {
         "alignmentgroup": "True",
         "hovertemplate": "Organism=Chloroflexi<br>Sample=%{x}<br>Read Count=%{y}<extra></extra>",
         "legendgroup": "Chloroflexi",
         "marker": {
          "color": "#ab63fa"
         },
         "name": "Chloroflexi",
         "offsetgroup": "Chloroflexi",
         "orientation": "v",
         "showlegend": true,
         "textposition": "auto",
         "type": "bar",
         "x": [
          "Sample 14",
          "Sample 3",
          "Sample 1",
          "Sample 100",
          "Sample 15",
          "Sample 16",
          "Sample 99",
          "Sample 13",
          "Sample 97",
          "Sample 98",
          "Sample 2",
          "Sample 101",
          "Sample 103",
          "Sample 4"
         ],
         "xaxis": "x",
         "y": [
          152,
          10,
          38,
          169,
          161,
          146,
          319,
          146,
          31,
          97,
          132,
          176,
          39,
          189
         ],
         "yaxis": "y"
        },
        {
         "alignmentgroup": "True",
         "hovertemplate": "Organism=Chrysiogenetes<br>Sample=%{x}<br>Read Count=%{y}<extra></extra>",
         "legendgroup": "Chrysiogenetes",
         "marker": {
          "color": "#FFA15A"
         },
         "name": "Chrysiogenetes",
         "offsetgroup": "Chrysiogenetes",
         "orientation": "v",
         "showlegend": true,
         "textposition": "auto",
         "type": "bar",
         "x": [
          "Sample 14",
          "Sample 3",
          "Sample 1",
          "Sample 100",
          "Sample 15",
          "Sample 16",
          "Sample 99",
          "Sample 13",
          "Sample 97",
          "Sample 98",
          "Sample 2",
          "Sample 101",
          "Sample 103",
          "Sample 4"
         ],
         "xaxis": "x",
         "y": [
          3,
          null,
          null,
          1,
          null,
          1,
          5,
          3,
          null,
          null,
          1,
          null,
          1,
          null
         ],
         "yaxis": "y"
        },
        {
         "alignmentgroup": "True",
         "hovertemplate": "Organism=Coprothermobacteria<br>Sample=%{x}<br>Read Count=%{y}<extra></extra>",
         "legendgroup": "Coprothermobacteria",
         "marker": {
          "color": "#19d3f3"
         },
         "name": "Coprothermobacteria",
         "offsetgroup": "Coprothermobacteria",
         "orientation": "v",
         "showlegend": true,
         "textposition": "auto",
         "type": "bar",
         "x": [
          "Sample 14",
          "Sample 3",
          "Sample 1",
          "Sample 100",
          "Sample 15",
          "Sample 16",
          "Sample 99",
          "Sample 13",
          "Sample 97",
          "Sample 98",
          "Sample 2",
          "Sample 101",
          "Sample 103",
          "Sample 4"
         ],
         "xaxis": "x",
         "y": [
          1,
          null,
          1,
          1,
          null,
          1,
          null,
          1,
          null,
          1,
          1,
          null,
          1,
          1
         ],
         "yaxis": "y"
        },
        {
         "alignmentgroup": "True",
         "hovertemplate": "Organism=Crenarchaeota<br>Sample=%{x}<br>Read Count=%{y}<extra></extra>",
         "legendgroup": "Crenarchaeota",
         "marker": {
          "color": "#FF6692"
         },
         "name": "Crenarchaeota",
         "offsetgroup": "Crenarchaeota",
         "orientation": "v",
         "showlegend": true,
         "textposition": "auto",
         "type": "bar",
         "x": [
          "Sample 14",
          "Sample 3",
          "Sample 1",
          "Sample 100",
          "Sample 15",
          "Sample 16",
          "Sample 99",
          "Sample 13",
          "Sample 97",
          "Sample 98",
          "Sample 2",
          "Sample 101",
          "Sample 103",
          "Sample 4"
         ],
         "xaxis": "x",
         "y": [
          3,
          2,
          1,
          7,
          3,
          3,
          19,
          3,
          3,
          4,
          7,
          5,
          2,
          5
         ],
         "yaxis": "y"
        },
        {
         "alignmentgroup": "True",
         "hovertemplate": "Organism=Cyanobacteria/Melainabacteria group<br>Sample=%{x}<br>Read Count=%{y}<extra></extra>",
         "legendgroup": "Cyanobacteria/Melainabacteria group",
         "marker": {
          "color": "#B6E880"
         },
         "name": "Cyanobacteria/Melainabacteria group",
         "offsetgroup": "Cyanobacteria/Melainabacteria group",
         "orientation": "v",
         "showlegend": true,
         "textposition": "auto",
         "type": "bar",
         "x": [
          "Sample 14",
          "Sample 3",
          "Sample 1",
          "Sample 100",
          "Sample 15",
          "Sample 16",
          "Sample 99",
          "Sample 13",
          "Sample 97",
          "Sample 98",
          "Sample 2",
          "Sample 101",
          "Sample 103",
          "Sample 4"
         ],
         "xaxis": "x",
         "y": [
          2153,
          372,
          253,
          186139,
          30902,
          94930,
          1887,
          307792,
          519,
          12716,
          1785,
          509,
          244,
          963
         ],
         "yaxis": "y"
        },
        {
         "alignmentgroup": "True",
         "hovertemplate": "Organism=Deferribacteres<br>Sample=%{x}<br>Read Count=%{y}<extra></extra>",
         "legendgroup": "Deferribacteres",
         "marker": {
          "color": "#FF97FF"
         },
         "name": "Deferribacteres",
         "offsetgroup": "Deferribacteres",
         "orientation": "v",
         "showlegend": true,
         "textposition": "auto",
         "type": "bar",
         "x": [
          "Sample 14",
          "Sample 3",
          "Sample 1",
          "Sample 100",
          "Sample 15",
          "Sample 16",
          "Sample 99",
          "Sample 13",
          "Sample 97",
          "Sample 98",
          "Sample 2",
          "Sample 101",
          "Sample 103",
          "Sample 4"
         ],
         "xaxis": "x",
         "y": [
          9,
          1,
          5,
          22,
          9,
          5,
          6,
          7,
          1,
          3,
          20,
          11,
          6,
          8
         ],
         "yaxis": "y"
        },
        {
         "alignmentgroup": "True",
         "hovertemplate": "Organism=Deinococcus-Thermus<br>Sample=%{x}<br>Read Count=%{y}<extra></extra>",
         "legendgroup": "Deinococcus-Thermus",
         "marker": {
          "color": "#FECB52"
         },
         "name": "Deinococcus-Thermus",
         "offsetgroup": "Deinococcus-Thermus",
         "orientation": "v",
         "showlegend": true,
         "textposition": "auto",
         "type": "bar",
         "x": [
          "Sample 14",
          "Sample 3",
          "Sample 1",
          "Sample 100",
          "Sample 15",
          "Sample 16",
          "Sample 99",
          "Sample 13",
          "Sample 97",
          "Sample 98",
          "Sample 2",
          "Sample 101",
          "Sample 103",
          "Sample 4"
         ],
         "xaxis": "x",
         "y": [
          206,
          20,
          21,
          260,
          60,
          101,
          222,
          156,
          107,
          116,
          190,
          176,
          42,
          156
         ],
         "yaxis": "y"
        },
        {
         "alignmentgroup": "True",
         "hovertemplate": "Organism=Diaforarchaea group<br>Sample=%{x}<br>Read Count=%{y}<extra></extra>",
         "legendgroup": "Diaforarchaea group",
         "marker": {
          "color": "#636efa"
         },
         "name": "Diaforarchaea group",
         "offsetgroup": "Diaforarchaea group",
         "orientation": "v",
         "showlegend": true,
         "textposition": "auto",
         "type": "bar",
         "x": [
          "Sample 14",
          "Sample 3",
          "Sample 1",
          "Sample 100",
          "Sample 15",
          "Sample 16",
          "Sample 99",
          "Sample 13",
          "Sample 97",
          "Sample 98",
          "Sample 2",
          "Sample 101",
          "Sample 103",
          "Sample 4"
         ],
         "xaxis": "x",
         "y": [
          42,
          2,
          null,
          19,
          6,
          3352,
          7,
          9,
          7,
          6,
          615,
          4,
          9,
          24
         ],
         "yaxis": "y"
        },
        {
         "alignmentgroup": "True",
         "hovertemplate": "Organism=Dictyoglomia<br>Sample=%{x}<br>Read Count=%{y}<extra></extra>",
         "legendgroup": "Dictyoglomia",
         "marker": {
          "color": "#EF553B"
         },
         "name": "Dictyoglomia",
         "offsetgroup": "Dictyoglomia",
         "orientation": "v",
         "showlegend": true,
         "textposition": "auto",
         "type": "bar",
         "x": [
          "Sample 14",
          "Sample 3",
          "Sample 1",
          "Sample 100",
          "Sample 15",
          "Sample 16",
          "Sample 99",
          "Sample 13",
          "Sample 97",
          "Sample 98",
          "Sample 2",
          "Sample 101",
          "Sample 103",
          "Sample 4"
         ],
         "xaxis": "x",
         "y": [
          4,
          2,
          1,
          2,
          2,
          null,
          18,
          1,
          null,
          null,
          5,
          2,
          1,
          1
         ],
         "yaxis": "y"
        },
        {
         "alignmentgroup": "True",
         "hovertemplate": "Organism=Elusimicrobia<br>Sample=%{x}<br>Read Count=%{y}<extra></extra>",
         "legendgroup": "Elusimicrobia",
         "marker": {
          "color": "#00cc96"
         },
         "name": "Elusimicrobia",
         "offsetgroup": "Elusimicrobia",
         "orientation": "v",
         "showlegend": true,
         "textposition": "auto",
         "type": "bar",
         "x": [
          "Sample 14",
          "Sample 3",
          "Sample 1",
          "Sample 100",
          "Sample 15",
          "Sample 16",
          "Sample 99",
          "Sample 13",
          "Sample 97",
          "Sample 98",
          "Sample 2",
          "Sample 101",
          "Sample 103",
          "Sample 4"
         ],
         "xaxis": "x",
         "y": [
          null,
          null,
          2,
          4,
          1,
          1,
          2,
          2,
          3,
          null,
          null,
          null,
          1,
          1
         ],
         "yaxis": "y"
        },
        {
         "alignmentgroup": "True",
         "hovertemplate": "Organism=Endomicrobia<br>Sample=%{x}<br>Read Count=%{y}<extra></extra>",
         "legendgroup": "Endomicrobia",
         "marker": {
          "color": "#ab63fa"
         },
         "name": "Endomicrobia",
         "offsetgroup": "Endomicrobia",
         "orientation": "v",
         "showlegend": true,
         "textposition": "auto",
         "type": "bar",
         "x": [
          "Sample 14",
          "Sample 3",
          "Sample 1",
          "Sample 100",
          "Sample 15",
          "Sample 16",
          "Sample 99",
          "Sample 13",
          "Sample 97",
          "Sample 98",
          "Sample 2",
          "Sample 101",
          "Sample 103",
          "Sample 4"
         ],
         "xaxis": "x",
         "y": [
          null,
          19,
          null,
          null,
          null,
          1,
          1,
          null,
          null,
          null,
          2,
          null,
          null,
          null
         ],
         "yaxis": "y"
        },
        {
         "alignmentgroup": "True",
         "hovertemplate": "Organism=Fibrobacteres<br>Sample=%{x}<br>Read Count=%{y}<extra></extra>",
         "legendgroup": "Fibrobacteres",
         "marker": {
          "color": "#FFA15A"
         },
         "name": "Fibrobacteres",
         "offsetgroup": "Fibrobacteres",
         "orientation": "v",
         "showlegend": true,
         "textposition": "auto",
         "type": "bar",
         "x": [
          "Sample 14",
          "Sample 3",
          "Sample 1",
          "Sample 100",
          "Sample 15",
          "Sample 16",
          "Sample 99",
          "Sample 13",
          "Sample 97",
          "Sample 98",
          "Sample 2",
          "Sample 101",
          "Sample 103",
          "Sample 4"
         ],
         "xaxis": "x",
         "y": [
          92,
          71,
          27,
          255,
          65,
          70,
          303,
          243,
          59,
          146,
          628,
          40,
          378,
          441
         ],
         "yaxis": "y"
        },
        {
         "alignmentgroup": "True",
         "hovertemplate": "Organism=Firmicutes<br>Sample=%{x}<br>Read Count=%{y}<extra></extra>",
         "legendgroup": "Firmicutes",
         "marker": {
          "color": "#19d3f3"
         },
         "name": "Firmicutes",
         "offsetgroup": "Firmicutes",
         "orientation": "v",
         "showlegend": true,
         "textposition": "auto",
         "type": "bar",
         "x": [
          "Sample 14",
          "Sample 3",
          "Sample 1",
          "Sample 100",
          "Sample 15",
          "Sample 16",
          "Sample 99",
          "Sample 13",
          "Sample 97",
          "Sample 98",
          "Sample 2",
          "Sample 101",
          "Sample 103",
          "Sample 4"
         ],
         "xaxis": "x",
         "y": [
          6867804,
          14243183,
          12078778,
          11636241,
          12875164,
          13202267,
          13367130,
          12804797,
          6829187,
          8175759,
          8102453,
          13219152,
          6395226,
          7254489
         ],
         "yaxis": "y"
        },
        {
         "alignmentgroup": "True",
         "hovertemplate": "Organism=Fungi<br>Sample=%{x}<br>Read Count=%{y}<extra></extra>",
         "legendgroup": "Fungi",
         "marker": {
          "color": "#FF6692"
         },
         "name": "Fungi",
         "offsetgroup": "Fungi",
         "orientation": "v",
         "showlegend": true,
         "textposition": "auto",
         "type": "bar",
         "x": [
          "Sample 14",
          "Sample 3",
          "Sample 1",
          "Sample 100",
          "Sample 15",
          "Sample 16",
          "Sample 99",
          "Sample 13",
          "Sample 97",
          "Sample 98",
          "Sample 2",
          "Sample 101",
          "Sample 103",
          "Sample 4"
         ],
         "xaxis": "x",
         "y": [
          1148,
          191,
          835,
          1450,
          498,
          2499,
          1074,
          1693,
          886,
          4473,
          1903,
          934,
          735,
          4093
         ],
         "yaxis": "y"
        },
        {
         "alignmentgroup": "True",
         "hovertemplate": "Organism=Fusobacteriia<br>Sample=%{x}<br>Read Count=%{y}<extra></extra>",
         "legendgroup": "Fusobacteriia",
         "marker": {
          "color": "#B6E880"
         },
         "name": "Fusobacteriia",
         "offsetgroup": "Fusobacteriia",
         "orientation": "v",
         "showlegend": true,
         "textposition": "auto",
         "type": "bar",
         "x": [
          "Sample 14",
          "Sample 3",
          "Sample 1",
          "Sample 100",
          "Sample 15",
          "Sample 16",
          "Sample 99",
          "Sample 13",
          "Sample 97",
          "Sample 98",
          "Sample 2",
          "Sample 101",
          "Sample 103",
          "Sample 4"
         ],
         "xaxis": "x",
         "y": [
          877,
          572,
          435,
          843,
          940,
          471,
          638,
          1156,
          121,
          206,
          357,
          513,
          483,
          838
         ],
         "yaxis": "y"
        },
        {
         "alignmentgroup": "True",
         "hovertemplate": "Organism=Gammaproteobacteria<br>Sample=%{x}<br>Read Count=%{y}<extra></extra>",
         "legendgroup": "Gammaproteobacteria",
         "marker": {
          "color": "#FF97FF"
         },
         "name": "Gammaproteobacteria",
         "offsetgroup": "Gammaproteobacteria",
         "orientation": "v",
         "showlegend": true,
         "textposition": "auto",
         "type": "bar",
         "x": [
          "Sample 14",
          "Sample 3",
          "Sample 1",
          "Sample 100",
          "Sample 15",
          "Sample 16",
          "Sample 99",
          "Sample 13",
          "Sample 97",
          "Sample 98",
          "Sample 2",
          "Sample 101",
          "Sample 103",
          "Sample 4"
         ],
         "xaxis": "x",
         "y": [
          20959,
          18229,
          1611056,
          23177,
          22067,
          120090,
          1077186,
          42890,
          41192,
          71215,
          28393,
          46519,
          28925,
          96458
         ],
         "yaxis": "y"
        },
        {
         "alignmentgroup": "True",
         "hovertemplate": "Organism=Gemmatimonadetes<br>Sample=%{x}<br>Read Count=%{y}<extra></extra>",
         "legendgroup": "Gemmatimonadetes",
         "marker": {
          "color": "#FECB52"
         },
         "name": "Gemmatimonadetes",
         "offsetgroup": "Gemmatimonadetes",
         "orientation": "v",
         "showlegend": true,
         "textposition": "auto",
         "type": "bar",
         "x": [
          "Sample 14",
          "Sample 3",
          "Sample 1",
          "Sample 100",
          "Sample 15",
          "Sample 16",
          "Sample 99",
          "Sample 13",
          "Sample 97",
          "Sample 98",
          "Sample 2",
          "Sample 101",
          "Sample 103",
          "Sample 4"
         ],
         "xaxis": "x",
         "y": [
          7,
          null,
          2,
          6,
          2,
          4,
          8,
          7,
          2,
          1,
          3,
          4,
          3,
          null
         ],
         "yaxis": "y"
        },
        {
         "alignmentgroup": "True",
         "hovertemplate": "Organism=Haloplasmatales<br>Sample=%{x}<br>Read Count=%{y}<extra></extra>",
         "legendgroup": "Haloplasmatales",
         "marker": {
          "color": "#636efa"
         },
         "name": "Haloplasmatales",
         "offsetgroup": "Haloplasmatales",
         "orientation": "v",
         "showlegend": true,
         "textposition": "auto",
         "type": "bar",
         "x": [
          "Sample 14",
          "Sample 3",
          "Sample 1",
          "Sample 100",
          "Sample 15",
          "Sample 16",
          "Sample 99",
          "Sample 13",
          "Sample 97",
          "Sample 98",
          "Sample 2",
          "Sample 101",
          "Sample 103",
          "Sample 4"
         ],
         "xaxis": "x",
         "y": [
          38,
          1,
          null,
          5,
          2,
          9,
          3,
          3,
          null,
          1,
          8,
          12,
          1,
          3
         ],
         "yaxis": "y"
        },
        {
         "alignmentgroup": "True",
         "hovertemplate": "Organism=Holophagae<br>Sample=%{x}<br>Read Count=%{y}<extra></extra>",
         "legendgroup": "Holophagae",
         "marker": {
          "color": "#EF553B"
         },
         "name": "Holophagae",
         "offsetgroup": "Holophagae",
         "orientation": "v",
         "showlegend": true,
         "textposition": "auto",
         "type": "bar",
         "x": [
          "Sample 14",
          "Sample 3",
          "Sample 1",
          "Sample 100",
          "Sample 15",
          "Sample 16",
          "Sample 99",
          "Sample 13",
          "Sample 97",
          "Sample 98",
          "Sample 2",
          "Sample 101",
          "Sample 103",
          "Sample 4"
         ],
         "xaxis": "x",
         "y": [
          11,
          2,
          1,
          5,
          1,
          6,
          20,
          21,
          1,
          8,
          7,
          4,
          3,
          9
         ],
         "yaxis": "y"
        },
        {
         "alignmentgroup": "True",
         "hovertemplate": "Organism=Hydrogenophilalia<br>Sample=%{x}<br>Read Count=%{y}<extra></extra>",
         "legendgroup": "Hydrogenophilalia",
         "marker": {
          "color": "#00cc96"
         },
         "name": "Hydrogenophilalia",
         "offsetgroup": "Hydrogenophilalia",
         "orientation": "v",
         "showlegend": true,
         "textposition": "auto",
         "type": "bar",
         "x": [
          "Sample 14",
          "Sample 3",
          "Sample 1",
          "Sample 100",
          "Sample 15",
          "Sample 16",
          "Sample 99",
          "Sample 13",
          "Sample 97",
          "Sample 98",
          "Sample 2",
          "Sample 101",
          "Sample 103",
          "Sample 4"
         ],
         "xaxis": "x",
         "y": [
          6,
          null,
          3,
          13,
          3,
          8,
          10,
          8,
          1,
          11,
          6,
          3,
          null,
          4
         ],
         "yaxis": "y"
        },
        {
         "alignmentgroup": "True",
         "hovertemplate": "Organism=Isachenkonia<br>Sample=%{x}<br>Read Count=%{y}<extra></extra>",
         "legendgroup": "Isachenkonia",
         "marker": {
          "color": "#ab63fa"
         },
         "name": "Isachenkonia",
         "offsetgroup": "Isachenkonia",
         "orientation": "v",
         "showlegend": true,
         "textposition": "auto",
         "type": "bar",
         "x": [
          "Sample 14",
          "Sample 3",
          "Sample 1",
          "Sample 100",
          "Sample 15",
          "Sample 16",
          "Sample 99",
          "Sample 13",
          "Sample 97",
          "Sample 98",
          "Sample 2",
          "Sample 101",
          "Sample 103",
          "Sample 4"
         ],
         "xaxis": "x",
         "y": [
          4,
          null,
          null,
          1,
          null,
          null,
          4,
          8,
          2,
          null,
          2,
          null,
          null,
          null
         ],
         "yaxis": "y"
        },
        {
         "alignmentgroup": "True",
         "hovertemplate": "Organism=Kiritimatiellaeota<br>Sample=%{x}<br>Read Count=%{y}<extra></extra>",
         "legendgroup": "Kiritimatiellaeota",
         "marker": {
          "color": "#FFA15A"
         },
         "name": "Kiritimatiellaeota",
         "offsetgroup": "Kiritimatiellaeota",
         "orientation": "v",
         "showlegend": true,
         "textposition": "auto",
         "type": "bar",
         "x": [
          "Sample 14",
          "Sample 3",
          "Sample 1",
          "Sample 100",
          "Sample 15",
          "Sample 16",
          "Sample 99",
          "Sample 13",
          "Sample 97",
          "Sample 98",
          "Sample 2",
          "Sample 101",
          "Sample 103",
          "Sample 4"
         ],
         "xaxis": "x",
         "y": [
          13,
          5,
          1,
          16,
          1,
          11,
          16,
          21,
          11,
          14,
          17,
          9,
          2,
          20
         ],
         "yaxis": "y"
        },
        {
         "alignmentgroup": "True",
         "hovertemplate": "Organism=Lentisphaerae<br>Sample=%{x}<br>Read Count=%{y}<extra></extra>",
         "legendgroup": "Lentisphaerae",
         "marker": {
          "color": "#19d3f3"
         },
         "name": "Lentisphaerae",
         "offsetgroup": "Lentisphaerae",
         "orientation": "v",
         "showlegend": true,
         "textposition": "auto",
         "type": "bar",
         "x": [
          "Sample 14",
          "Sample 3",
          "Sample 1",
          "Sample 100",
          "Sample 15",
          "Sample 16",
          "Sample 99",
          "Sample 13",
          "Sample 97",
          "Sample 98",
          "Sample 2",
          "Sample 101",
          "Sample 103",
          "Sample 4"
         ],
         "xaxis": "x",
         "y": [
          59572,
          941,
          63,
          18234,
          1980,
          40065,
          14293,
          9857,
          37071,
          100404,
          1746,
          23612,
          6384,
          55987
         ],
         "yaxis": "y"
        },
        {
         "alignmentgroup": "True",
         "hovertemplate": "Organism=Methanomada group<br>Sample=%{x}<br>Read Count=%{y}<extra></extra>",
         "legendgroup": "Methanomada group",
         "marker": {
          "color": "#FF6692"
         },
         "name": "Methanomada group",
         "offsetgroup": "Methanomada group",
         "orientation": "v",
         "showlegend": true,
         "textposition": "auto",
         "type": "bar",
         "x": [
          "Sample 14",
          "Sample 3",
          "Sample 1",
          "Sample 100",
          "Sample 15",
          "Sample 16",
          "Sample 99",
          "Sample 13",
          "Sample 97",
          "Sample 98",
          "Sample 2",
          "Sample 101",
          "Sample 103",
          "Sample 4"
         ],
         "xaxis": "x",
         "y": [
          411401,
          110,
          2778,
          89558,
          187,
          122103,
          158461,
          34709,
          143,
          96,
          142032,
          216,
          65579,
          4056
         ],
         "yaxis": "y"
        },
        {
         "alignmentgroup": "True",
         "hovertemplate": "Organism=Methanonatronarchaeia<br>Sample=%{x}<br>Read Count=%{y}<extra></extra>",
         "legendgroup": "Methanonatronarchaeia",
         "marker": {
          "color": "#B6E880"
         },
         "name": "Methanonatronarchaeia",
         "offsetgroup": "Methanonatronarchaeia",
         "orientation": "v",
         "showlegend": true,
         "textposition": "auto",
         "type": "bar",
         "x": [
          "Sample 14",
          "Sample 3",
          "Sample 1",
          "Sample 100",
          "Sample 15",
          "Sample 16",
          "Sample 99",
          "Sample 13",
          "Sample 97",
          "Sample 98",
          "Sample 2",
          "Sample 101",
          "Sample 103",
          "Sample 4"
         ],
         "xaxis": "x",
         "y": [
          10,
          1,
          null,
          null,
          null,
          1,
          null,
          null,
          null,
          null,
          null,
          null,
          1,
          null
         ],
         "yaxis": "y"
        },
        {
         "alignmentgroup": "True",
         "hovertemplate": "Organism=Methanopyri<br>Sample=%{x}<br>Read Count=%{y}<extra></extra>",
         "legendgroup": "Methanopyri",
         "marker": {
          "color": "#FF97FF"
         },
         "name": "Methanopyri",
         "offsetgroup": "Methanopyri",
         "orientation": "v",
         "showlegend": true,
         "textposition": "auto",
         "type": "bar",
         "x": [
          "Sample 14",
          "Sample 3",
          "Sample 1",
          "Sample 100",
          "Sample 15",
          "Sample 16",
          "Sample 99",
          "Sample 13",
          "Sample 97",
          "Sample 98",
          "Sample 2",
          "Sample 101",
          "Sample 103",
          "Sample 4"
         ],
         "xaxis": "x",
         "y": [
          2,
          null,
          null,
          1,
          null,
          4,
          null,
          1,
          2,
          1,
          1,
          1,
          null,
          3
         ],
         "yaxis": "y"
        },
        {
         "alignmentgroup": "True",
         "hovertemplate": "Organism=Natronospirillum<br>Sample=%{x}<br>Read Count=%{y}<extra></extra>",
         "legendgroup": "Natronospirillum",
         "marker": {
          "color": "#FECB52"
         },
         "name": "Natronospirillum",
         "offsetgroup": "Natronospirillum",
         "orientation": "v",
         "showlegend": true,
         "textposition": "auto",
         "type": "bar",
         "x": [
          "Sample 14",
          "Sample 3",
          "Sample 1",
          "Sample 100",
          "Sample 15",
          "Sample 16",
          "Sample 99",
          "Sample 13",
          "Sample 97",
          "Sample 98",
          "Sample 2",
          "Sample 101",
          "Sample 103",
          "Sample 4"
         ],
         "xaxis": "x",
         "y": [
          null,
          null,
          null,
          1,
          null,
          null,
          3,
          1,
          null,
          null,
          1,
          null,
          null,
          null
         ],
         "yaxis": "y"
        },
        {
         "alignmentgroup": "True",
         "hovertemplate": "Organism=Nitrospinae<br>Sample=%{x}<br>Read Count=%{y}<extra></extra>",
         "legendgroup": "Nitrospinae",
         "marker": {
          "color": "#636efa"
         },
         "name": "Nitrospinae",
         "offsetgroup": "Nitrospinae",
         "orientation": "v",
         "showlegend": true,
         "textposition": "auto",
         "type": "bar",
         "x": [
          "Sample 14",
          "Sample 3",
          "Sample 1",
          "Sample 100",
          "Sample 15",
          "Sample 16",
          "Sample 99",
          "Sample 13",
          "Sample 97",
          "Sample 98",
          "Sample 2",
          "Sample 101",
          "Sample 103",
          "Sample 4"
         ],
         "xaxis": "x",
         "y": [
          null,
          null,
          null,
          null,
          1,
          1,
          6,
          1,
          1,
          2,
          1,
          1,
          2,
          null
         ],
         "yaxis": "y"
        },
        {
         "alignmentgroup": "True",
         "hovertemplate": "Organism=Nitrospira<br>Sample=%{x}<br>Read Count=%{y}<extra></extra>",
         "legendgroup": "Nitrospira",
         "marker": {
          "color": "#EF553B"
         },
         "name": "Nitrospira",
         "offsetgroup": "Nitrospira",
         "orientation": "v",
         "showlegend": true,
         "textposition": "auto",
         "type": "bar",
         "x": [
          "Sample 14",
          "Sample 3",
          "Sample 1",
          "Sample 100",
          "Sample 15",
          "Sample 16",
          "Sample 99",
          "Sample 13",
          "Sample 97",
          "Sample 98",
          "Sample 2",
          "Sample 101",
          "Sample 103",
          "Sample 4"
         ],
         "xaxis": "x",
         "y": [
          8,
          null,
          null,
          24,
          7,
          9,
          11,
          16,
          4,
          6,
          16,
          4,
          4,
          22
         ],
         "yaxis": "y"
        },
        {
         "alignmentgroup": "True",
         "hovertemplate": "Organism=Oligoflexia<br>Sample=%{x}<br>Read Count=%{y}<extra></extra>",
         "legendgroup": "Oligoflexia",
         "marker": {
          "color": "#00cc96"
         },
         "name": "Oligoflexia",
         "offsetgroup": "Oligoflexia",
         "orientation": "v",
         "showlegend": true,
         "textposition": "auto",
         "type": "bar",
         "x": [
          "Sample 14",
          "Sample 3",
          "Sample 1",
          "Sample 100",
          "Sample 15",
          "Sample 16",
          "Sample 99",
          "Sample 13",
          "Sample 97",
          "Sample 98",
          "Sample 2",
          "Sample 101",
          "Sample 103",
          "Sample 4"
         ],
         "xaxis": "x",
         "y": [
          27,
          1,
          2,
          29,
          5,
          13,
          23,
          15,
          10,
          5,
          29,
          10,
          5,
          19
         ],
         "yaxis": "y"
        },
        {
         "alignmentgroup": "True",
         "hovertemplate": "Organism=Planctomycetes<br>Sample=%{x}<br>Read Count=%{y}<extra></extra>",
         "legendgroup": "Planctomycetes",
         "marker": {
          "color": "#ab63fa"
         },
         "name": "Planctomycetes",
         "offsetgroup": "Planctomycetes",
         "orientation": "v",
         "showlegend": true,
         "textposition": "auto",
         "type": "bar",
         "x": [
          "Sample 14",
          "Sample 3",
          "Sample 1",
          "Sample 100",
          "Sample 15",
          "Sample 16",
          "Sample 99",
          "Sample 13",
          "Sample 97",
          "Sample 98",
          "Sample 2",
          "Sample 101",
          "Sample 103",
          "Sample 4"
         ],
         "xaxis": "x",
         "y": [
          175,
          6,
          60,
          265,
          108,
          94,
          215,
          169,
          86,
          101,
          194,
          101,
          59,
          157
         ],
         "yaxis": "y"
        },
        {
         "alignmentgroup": "True",
         "hovertemplate": "Organism=Spirochaetia<br>Sample=%{x}<br>Read Count=%{y}<extra></extra>",
         "legendgroup": "Spirochaetia",
         "marker": {
          "color": "#FFA15A"
         },
         "name": "Spirochaetia",
         "offsetgroup": "Spirochaetia",
         "orientation": "v",
         "showlegend": true,
         "textposition": "auto",
         "type": "bar",
         "x": [
          "Sample 14",
          "Sample 3",
          "Sample 1",
          "Sample 100",
          "Sample 15",
          "Sample 16",
          "Sample 99",
          "Sample 13",
          "Sample 97",
          "Sample 98",
          "Sample 2",
          "Sample 101",
          "Sample 103",
          "Sample 4"
         ],
         "xaxis": "x",
         "y": [
          370,
          125,
          58,
          557,
          194,
          309,
          402,
          377,
          110,
          219,
          408,
          315,
          106,
          431
         ],
         "yaxis": "y"
        },
        {
         "alignmentgroup": "True",
         "hovertemplate": "Organism=Stenosarchaea group<br>Sample=%{x}<br>Read Count=%{y}<extra></extra>",
         "legendgroup": "Stenosarchaea group",
         "marker": {
          "color": "#19d3f3"
         },
         "name": "Stenosarchaea group",
         "offsetgroup": "Stenosarchaea group",
         "orientation": "v",
         "showlegend": true,
         "textposition": "auto",
         "type": "bar",
         "x": [
          "Sample 14",
          "Sample 3",
          "Sample 1",
          "Sample 100",
          "Sample 15",
          "Sample 16",
          "Sample 99",
          "Sample 13",
          "Sample 97",
          "Sample 98",
          "Sample 2",
          "Sample 101",
          "Sample 103",
          "Sample 4"
         ],
         "xaxis": "x",
         "y": [
          135,
          15,
          29,
          210,
          56,
          139,
          267,
          130,
          78,
          105,
          152,
          183,
          58,
          124
         ],
         "yaxis": "y"
        },
        {
         "alignmentgroup": "True",
         "hovertemplate": "Organism=Synergistia<br>Sample=%{x}<br>Read Count=%{y}<extra></extra>",
         "legendgroup": "Synergistia",
         "marker": {
          "color": "#FF6692"
         },
         "name": "Synergistia",
         "offsetgroup": "Synergistia",
         "orientation": "v",
         "showlegend": true,
         "textposition": "auto",
         "type": "bar",
         "x": [
          "Sample 14",
          "Sample 3",
          "Sample 1",
          "Sample 100",
          "Sample 15",
          "Sample 16",
          "Sample 99",
          "Sample 13",
          "Sample 97",
          "Sample 98",
          "Sample 2",
          "Sample 101",
          "Sample 103",
          "Sample 4"
         ],
         "xaxis": "x",
         "y": [
          349,
          30,
          83,
          317,
          163,
          287,
          7564,
          275,
          2907,
          210,
          273,
          411,
          99,
          3686
         ],
         "yaxis": "y"
        },
        {
         "alignmentgroup": "True",
         "hovertemplate": "Organism=Tenericutes<br>Sample=%{x}<br>Read Count=%{y}<extra></extra>",
         "legendgroup": "Tenericutes",
         "marker": {
          "color": "#B6E880"
         },
         "name": "Tenericutes",
         "offsetgroup": "Tenericutes",
         "orientation": "v",
         "showlegend": true,
         "textposition": "auto",
         "type": "bar",
         "x": [
          "Sample 14",
          "Sample 3",
          "Sample 1",
          "Sample 100",
          "Sample 15",
          "Sample 16",
          "Sample 99",
          "Sample 13",
          "Sample 97",
          "Sample 98",
          "Sample 2",
          "Sample 101",
          "Sample 103",
          "Sample 4"
         ],
         "xaxis": "x",
         "y": [
          1986,
          169,
          110,
          1615,
          1223,
          1133,
          1605,
          424,
          161,
          263,
          629,
          2375,
          150,
          1472
         ],
         "yaxis": "y"
        },
        {
         "alignmentgroup": "True",
         "hovertemplate": "Organism=Thaumarchaeota<br>Sample=%{x}<br>Read Count=%{y}<extra></extra>",
         "legendgroup": "Thaumarchaeota",
         "marker": {
          "color": "#FF97FF"
         },
         "name": "Thaumarchaeota",
         "offsetgroup": "Thaumarchaeota",
         "orientation": "v",
         "showlegend": true,
         "textposition": "auto",
         "type": "bar",
         "x": [
          "Sample 14",
          "Sample 3",
          "Sample 1",
          "Sample 100",
          "Sample 15",
          "Sample 16",
          "Sample 99",
          "Sample 13",
          "Sample 97",
          "Sample 98",
          "Sample 2",
          "Sample 101",
          "Sample 103",
          "Sample 4"
         ],
         "xaxis": "x",
         "y": [
          3,
          4,
          3,
          7,
          null,
          4,
          5,
          2,
          null,
          7,
          9,
          4,
          null,
          6
         ],
         "yaxis": "y"
        },
        {
         "alignmentgroup": "True",
         "hovertemplate": "Organism=Thermoanaerobaculia<br>Sample=%{x}<br>Read Count=%{y}<extra></extra>",
         "legendgroup": "Thermoanaerobaculia",
         "marker": {
          "color": "#FECB52"
         },
         "name": "Thermoanaerobaculia",
         "offsetgroup": "Thermoanaerobaculia",
         "orientation": "v",
         "showlegend": true,
         "textposition": "auto",
         "type": "bar",
         "x": [
          "Sample 14",
          "Sample 3",
          "Sample 1",
          "Sample 100",
          "Sample 15",
          "Sample 16",
          "Sample 99",
          "Sample 13",
          "Sample 97",
          "Sample 98",
          "Sample 2",
          "Sample 101",
          "Sample 103",
          "Sample 4"
         ],
         "xaxis": "x",
         "y": [
          2,
          null,
          null,
          null,
          null,
          1,
          1,
          2,
          null,
          1,
          null,
          1,
          1,
          null
         ],
         "yaxis": "y"
        },
        {
         "alignmentgroup": "True",
         "hovertemplate": "Organism=Thermococci<br>Sample=%{x}<br>Read Count=%{y}<extra></extra>",
         "legendgroup": "Thermococci",
         "marker": {
          "color": "#636efa"
         },
         "name": "Thermococci",
         "offsetgroup": "Thermococci",
         "orientation": "v",
         "showlegend": true,
         "textposition": "auto",
         "type": "bar",
         "x": [
          "Sample 14",
          "Sample 3",
          "Sample 1",
          "Sample 100",
          "Sample 15",
          "Sample 16",
          "Sample 99",
          "Sample 13",
          "Sample 97",
          "Sample 98",
          "Sample 2",
          "Sample 101",
          "Sample 103",
          "Sample 4"
         ],
         "xaxis": "x",
         "y": [
          10,
          4,
          1,
          11,
          5,
          10,
          12,
          57,
          7,
          4,
          7,
          3,
          9,
          3
         ],
         "yaxis": "y"
        },
        {
         "alignmentgroup": "True",
         "hovertemplate": "Organism=Thermodesulfobacteria<br>Sample=%{x}<br>Read Count=%{y}<extra></extra>",
         "legendgroup": "Thermodesulfobacteria",
         "marker": {
          "color": "#EF553B"
         },
         "name": "Thermodesulfobacteria",
         "offsetgroup": "Thermodesulfobacteria",
         "orientation": "v",
         "showlegend": true,
         "textposition": "auto",
         "type": "bar",
         "x": [
          "Sample 14",
          "Sample 3",
          "Sample 1",
          "Sample 100",
          "Sample 15",
          "Sample 16",
          "Sample 99",
          "Sample 13",
          "Sample 97",
          "Sample 98",
          "Sample 2",
          "Sample 101",
          "Sample 103",
          "Sample 4"
         ],
         "xaxis": "x",
         "y": [
          7,
          1,
          1,
          16,
          2,
          3,
          5,
          4,
          2,
          3,
          15,
          4,
          1,
          2
         ],
         "yaxis": "y"
        },
        {
         "alignmentgroup": "True",
         "hovertemplate": "Organism=Thermotogae<br>Sample=%{x}<br>Read Count=%{y}<extra></extra>",
         "legendgroup": "Thermotogae",
         "marker": {
          "color": "#00cc96"
         },
         "name": "Thermotogae",
         "offsetgroup": "Thermotogae",
         "orientation": "v",
         "showlegend": true,
         "textposition": "auto",
         "type": "bar",
         "x": [
          "Sample 14",
          "Sample 3",
          "Sample 1",
          "Sample 100",
          "Sample 15",
          "Sample 16",
          "Sample 99",
          "Sample 13",
          "Sample 97",
          "Sample 98",
          "Sample 2",
          "Sample 101",
          "Sample 103",
          "Sample 4"
         ],
         "xaxis": "x",
         "y": [
          146,
          5,
          6,
          78,
          26,
          39,
          64,
          47,
          9,
          18,
          67,
          30,
          16,
          41
         ],
         "yaxis": "y"
        },
        {
         "alignmentgroup": "True",
         "hovertemplate": "Organism=Vampirococcus<br>Sample=%{x}<br>Read Count=%{y}<extra></extra>",
         "legendgroup": "Vampirococcus",
         "marker": {
          "color": "#ab63fa"
         },
         "name": "Vampirococcus",
         "offsetgroup": "Vampirococcus",
         "orientation": "v",
         "showlegend": true,
         "textposition": "auto",
         "type": "bar",
         "x": [
          "Sample 14",
          "Sample 3",
          "Sample 1",
          "Sample 100",
          "Sample 15",
          "Sample 16",
          "Sample 99",
          "Sample 13",
          "Sample 97",
          "Sample 98",
          "Sample 2",
          "Sample 101",
          "Sample 103",
          "Sample 4"
         ],
         "xaxis": "x",
         "y": [
          null,
          null,
          null,
          1,
          1,
          null,
          null,
          null,
          1,
          null,
          1,
          2,
          null,
          null
         ],
         "yaxis": "y"
        },
        {
         "alignmentgroup": "True",
         "hovertemplate": "Organism=Verrucomicrobia<br>Sample=%{x}<br>Read Count=%{y}<extra></extra>",
         "legendgroup": "Verrucomicrobia",
         "marker": {
          "color": "#FFA15A"
         },
         "name": "Verrucomicrobia",
         "offsetgroup": "Verrucomicrobia",
         "orientation": "v",
         "showlegend": true,
         "textposition": "auto",
         "type": "bar",
         "x": [
          "Sample 14",
          "Sample 3",
          "Sample 1",
          "Sample 100",
          "Sample 15",
          "Sample 16",
          "Sample 99",
          "Sample 13",
          "Sample 97",
          "Sample 98",
          "Sample 2",
          "Sample 101",
          "Sample 103",
          "Sample 4"
         ],
         "xaxis": "x",
         "y": [
          205940,
          24359,
          758,
          97672,
          123576,
          30221,
          227037,
          430463,
          84610,
          600418,
          748,
          263554,
          467,
          235829
         ],
         "yaxis": "y"
        },
        {
         "alignmentgroup": "True",
         "hovertemplate": "Organism=Vicinamibacteria<br>Sample=%{x}<br>Read Count=%{y}<extra></extra>",
         "legendgroup": "Vicinamibacteria",
         "marker": {
          "color": "#19d3f3"
         },
         "name": "Vicinamibacteria",
         "offsetgroup": "Vicinamibacteria",
         "orientation": "v",
         "showlegend": true,
         "textposition": "auto",
         "type": "bar",
         "x": [
          "Sample 14",
          "Sample 3",
          "Sample 1",
          "Sample 100",
          "Sample 15",
          "Sample 16",
          "Sample 99",
          "Sample 13",
          "Sample 97",
          "Sample 98",
          "Sample 2",
          "Sample 101",
          "Sample 103",
          "Sample 4"
         ],
         "xaxis": "x",
         "y": [
          4,
          null,
          1,
          null,
          null,
          null,
          null,
          2,
          null,
          null,
          null,
          2,
          null,
          null
         ],
         "yaxis": "y"
        },
        {
         "alignmentgroup": "True",
         "hovertemplate": "Organism=Zetaproteobacteria<br>Sample=%{x}<br>Read Count=%{y}<extra></extra>",
         "legendgroup": "Zetaproteobacteria",
         "marker": {
          "color": "#FF6692"
         },
         "name": "Zetaproteobacteria",
         "offsetgroup": "Zetaproteobacteria",
         "orientation": "v",
         "showlegend": true,
         "textposition": "auto",
         "type": "bar",
         "x": [
          "Sample 14",
          "Sample 3",
          "Sample 1",
          "Sample 100",
          "Sample 15",
          "Sample 16",
          "Sample 99",
          "Sample 13",
          "Sample 97",
          "Sample 98",
          "Sample 2",
          "Sample 101",
          "Sample 103",
          "Sample 4"
         ],
         "xaxis": "x",
         "y": [
          14,
          2,
          null,
          2,
          1,
          1,
          3,
          4,
          4,
          1,
          3,
          null,
          2,
          null
         ],
         "yaxis": "y"
        },
        {
         "alignmentgroup": "True",
         "hovertemplate": "Organism=candidate division Zixibacteria<br>Sample=%{x}<br>Read Count=%{y}<extra></extra>",
         "legendgroup": "candidate division Zixibacteria",
         "marker": {
          "color": "#B6E880"
         },
         "name": "candidate division Zixibacteria",
         "offsetgroup": "candidate division Zixibacteria",
         "orientation": "v",
         "showlegend": true,
         "textposition": "auto",
         "type": "bar",
         "x": [
          "Sample 14",
          "Sample 3",
          "Sample 1",
          "Sample 100",
          "Sample 15",
          "Sample 16",
          "Sample 99",
          "Sample 13",
          "Sample 97",
          "Sample 98",
          "Sample 2",
          "Sample 101",
          "Sample 103",
          "Sample 4"
         ],
         "xaxis": "x",
         "y": [
          null,
          null,
          null,
          1,
          null,
          null,
          2,
          null,
          null,
          null,
          null,
          null,
          null,
          null
         ],
         "yaxis": "y"
        },
        {
         "alignmentgroup": "True",
         "hovertemplate": "Organism=delta/epsilon subdivisions<br>Sample=%{x}<br>Read Count=%{y}<extra></extra>",
         "legendgroup": "delta/epsilon subdivisions",
         "marker": {
          "color": "#FF97FF"
         },
         "name": "delta/epsilon subdivisions",
         "offsetgroup": "delta/epsilon subdivisions",
         "orientation": "v",
         "showlegend": true,
         "textposition": "auto",
         "type": "bar",
         "x": [
          "Sample 14",
          "Sample 3",
          "Sample 1",
          "Sample 100",
          "Sample 15",
          "Sample 16",
          "Sample 99",
          "Sample 13",
          "Sample 97",
          "Sample 98",
          "Sample 2",
          "Sample 101",
          "Sample 103",
          "Sample 4"
         ],
         "xaxis": "x",
         "y": [
          134665,
          38333,
          14169,
          65773,
          41488,
          122619,
          169800,
          48812,
          152470,
          114366,
          8356,
          51004,
          5082,
          100008
         ],
         "yaxis": "y"
        },
        {
         "alignmentgroup": "True",
         "hovertemplate": "Organism=unclassified Acidobacteria<br>Sample=%{x}<br>Read Count=%{y}<extra></extra>",
         "legendgroup": "unclassified Acidobacteria",
         "marker": {
          "color": "#FECB52"
         },
         "name": "unclassified Acidobacteria",
         "offsetgroup": "unclassified Acidobacteria",
         "orientation": "v",
         "showlegend": true,
         "textposition": "auto",
         "type": "bar",
         "x": [
          "Sample 14",
          "Sample 3",
          "Sample 1",
          "Sample 100",
          "Sample 15",
          "Sample 16",
          "Sample 99",
          "Sample 13",
          "Sample 97",
          "Sample 98",
          "Sample 2",
          "Sample 101",
          "Sample 103",
          "Sample 4"
         ],
         "xaxis": "x",
         "y": [
          null,
          null,
          null,
          2,
          null,
          1,
          2,
          null,
          null,
          null,
          2,
          null,
          3,
          null
         ],
         "yaxis": "y"
        },
        {
         "alignmentgroup": "True",
         "hovertemplate": "Organism=unclassified Bacteria (miscellaneous)<br>Sample=%{x}<br>Read Count=%{y}<extra></extra>",
         "legendgroup": "unclassified Bacteria (miscellaneous)",
         "marker": {
          "color": "#636efa"
         },
         "name": "unclassified Bacteria (miscellaneous)",
         "offsetgroup": "unclassified Bacteria (miscellaneous)",
         "orientation": "v",
         "showlegend": true,
         "textposition": "auto",
         "type": "bar",
         "x": [
          "Sample 14",
          "Sample 3",
          "Sample 1",
          "Sample 100",
          "Sample 15",
          "Sample 16",
          "Sample 99",
          "Sample 13",
          "Sample 97",
          "Sample 98",
          "Sample 2",
          "Sample 101",
          "Sample 103",
          "Sample 4"
         ],
         "xaxis": "x",
         "y": [
          1537,
          1262,
          705,
          5942,
          1191,
          999,
          4739,
          1745,
          835,
          978,
          789,
          3553,
          522,
          1679
         ],
         "yaxis": "y"
        },
        {
         "alignmentgroup": "True",
         "hovertemplate": "Organism=unclassified Nitrospirae<br>Sample=%{x}<br>Read Count=%{y}<extra></extra>",
         "legendgroup": "unclassified Nitrospirae",
         "marker": {
          "color": "#EF553B"
         },
         "name": "unclassified Nitrospirae",
         "offsetgroup": "unclassified Nitrospirae",
         "orientation": "v",
         "showlegend": true,
         "textposition": "auto",
         "type": "bar",
         "x": [
          "Sample 14",
          "Sample 3",
          "Sample 1",
          "Sample 100",
          "Sample 15",
          "Sample 16",
          "Sample 99",
          "Sample 13",
          "Sample 97",
          "Sample 98",
          "Sample 2",
          "Sample 101",
          "Sample 103",
          "Sample 4"
         ],
         "xaxis": "x",
         "y": [
          null,
          null,
          null,
          1,
          null,
          null,
          2,
          1,
          1,
          null,
          null,
          null,
          null,
          null
         ],
         "yaxis": "y"
        },
        {
         "alignmentgroup": "True",
         "hovertemplate": "Organism=unclassified Proteobacteria<br>Sample=%{x}<br>Read Count=%{y}<extra></extra>",
         "legendgroup": "unclassified Proteobacteria",
         "marker": {
          "color": "#00cc96"
         },
         "name": "unclassified Proteobacteria",
         "offsetgroup": "unclassified Proteobacteria",
         "orientation": "v",
         "showlegend": true,
         "textposition": "auto",
         "type": "bar",
         "x": [
          "Sample 14",
          "Sample 3",
          "Sample 1",
          "Sample 100",
          "Sample 15",
          "Sample 16",
          "Sample 99",
          "Sample 13",
          "Sample 97",
          "Sample 98",
          "Sample 2",
          "Sample 101",
          "Sample 103",
          "Sample 4"
         ],
         "xaxis": "x",
         "y": [
          1,
          null,
          1,
          null,
          null,
          null,
          1,
          null,
          null,
          null,
          null,
          1,
          null,
          null
         ],
         "yaxis": "y"
        },
        {
         "alignmentgroup": "True",
         "hovertemplate": "Organism=unclassified Terrabacteria group<br>Sample=%{x}<br>Read Count=%{y}<extra></extra>",
         "legendgroup": "unclassified Terrabacteria group",
         "marker": {
          "color": "#ab63fa"
         },
         "name": "unclassified Terrabacteria group",
         "offsetgroup": "unclassified Terrabacteria group",
         "orientation": "v",
         "showlegend": true,
         "textposition": "auto",
         "type": "bar",
         "x": [
          "Sample 14",
          "Sample 3",
          "Sample 1",
          "Sample 100",
          "Sample 15",
          "Sample 16",
          "Sample 99",
          "Sample 13",
          "Sample 97",
          "Sample 98",
          "Sample 2",
          "Sample 101",
          "Sample 103",
          "Sample 4"
         ],
         "xaxis": "x",
         "y": [
          1,
          null,
          null,
          null,
          null,
          2,
          3,
          null,
          null,
          null,
          4,
          null,
          null,
          2
         ],
         "yaxis": "y"
        },
        {
         "alignmentgroup": "True",
         "hovertemplate": "Organism=uncultured bacterium<br>Sample=%{x}<br>Read Count=%{y}<extra></extra>",
         "legendgroup": "uncultured bacterium",
         "marker": {
          "color": "#FFA15A"
         },
         "name": "uncultured bacterium",
         "offsetgroup": "uncultured bacterium",
         "orientation": "v",
         "showlegend": true,
         "textposition": "auto",
         "type": "bar",
         "x": [
          "Sample 14",
          "Sample 3",
          "Sample 1",
          "Sample 100",
          "Sample 15",
          "Sample 16",
          "Sample 99",
          "Sample 13",
          "Sample 97",
          "Sample 98",
          "Sample 2",
          "Sample 101",
          "Sample 103",
          "Sample 4"
         ],
         "xaxis": "x",
         "y": [
          2,
          1,
          1,
          null,
          1,
          1,
          1,
          2,
          1,
          4,
          2,
          3,
          null,
          null
         ],
         "yaxis": "y"
        },
        {
         "alignmentgroup": "True",
         "hovertemplate": "Organism=uncultured bacterium IN-02<br>Sample=%{x}<br>Read Count=%{y}<extra></extra>",
         "legendgroup": "uncultured bacterium IN-02",
         "marker": {
          "color": "#19d3f3"
         },
         "name": "uncultured bacterium IN-02",
         "offsetgroup": "uncultured bacterium IN-02",
         "orientation": "v",
         "showlegend": true,
         "textposition": "auto",
         "type": "bar",
         "x": [
          "Sample 14",
          "Sample 3",
          "Sample 1",
          "Sample 100",
          "Sample 15",
          "Sample 16",
          "Sample 99",
          "Sample 13",
          "Sample 97",
          "Sample 98",
          "Sample 2",
          "Sample 101",
          "Sample 103",
          "Sample 4"
         ],
         "xaxis": "x",
         "y": [
          null,
          null,
          null,
          null,
          null,
          null,
          null,
          1,
          null,
          null,
          null,
          null,
          null,
          null
         ],
         "yaxis": "y"
        },
        {
         "alignmentgroup": "True",
         "hovertemplate": "Organism=other<br>Sample=%{x}<br>Read Count=%{y}<extra></extra>",
         "legendgroup": "other",
         "marker": {
          "color": "#FF6692"
         },
         "name": "other",
         "offsetgroup": "other",
         "orientation": "v",
         "showlegend": true,
         "textposition": "auto",
         "type": "bar",
         "x": [
          "Sample 14",
          "Sample 3",
          "Sample 1",
          "Sample 100",
          "Sample 15",
          "Sample 16",
          "Sample 99",
          "Sample 13",
          "Sample 97",
          "Sample 98",
          "Sample 2",
          "Sample 101",
          "Sample 103",
          "Sample 4"
         ],
         "xaxis": "x",
         "y": [
          0,
          0,
          0,
          0,
          0,
          0,
          0,
          0,
          0,
          0,
          0,
          0,
          0,
          0
         ],
         "yaxis": "y"
        }
       ],
       "layout": {
        "barmode": "relative",
        "legend": {
         "title": {
          "text": "Organism"
         },
         "tracegroupgap": 0
        },
        "margin": {
         "t": 60
        },
        "showlegend": false,
        "template": {
         "data": {
          "bar": [
           {
            "error_x": {
             "color": "#2a3f5f"
            },
            "error_y": {
             "color": "#2a3f5f"
            },
            "marker": {
             "line": {
              "color": "#E5ECF6",
              "width": 0.5
             }
            },
            "type": "bar"
           }
          ],
          "barpolar": [
           {
            "marker": {
             "line": {
              "color": "#E5ECF6",
              "width": 0.5
             }
            },
            "type": "barpolar"
           }
          ],
          "carpet": [
           {
            "aaxis": {
             "endlinecolor": "#2a3f5f",
             "gridcolor": "white",
             "linecolor": "white",
             "minorgridcolor": "white",
             "startlinecolor": "#2a3f5f"
            },
            "baxis": {
             "endlinecolor": "#2a3f5f",
             "gridcolor": "white",
             "linecolor": "white",
             "minorgridcolor": "white",
             "startlinecolor": "#2a3f5f"
            },
            "type": "carpet"
           }
          ],
          "choropleth": [
           {
            "colorbar": {
             "outlinewidth": 0,
             "ticks": ""
            },
            "type": "choropleth"
           }
          ],
          "contour": [
           {
            "colorbar": {
             "outlinewidth": 0,
             "ticks": ""
            },
            "colorscale": [
             [
              0,
              "#0d0887"
             ],
             [
              0.1111111111111111,
              "#46039f"
             ],
             [
              0.2222222222222222,
              "#7201a8"
             ],
             [
              0.3333333333333333,
              "#9c179e"
             ],
             [
              0.4444444444444444,
              "#bd3786"
             ],
             [
              0.5555555555555556,
              "#d8576b"
             ],
             [
              0.6666666666666666,
              "#ed7953"
             ],
             [
              0.7777777777777778,
              "#fb9f3a"
             ],
             [
              0.8888888888888888,
              "#fdca26"
             ],
             [
              1,
              "#f0f921"
             ]
            ],
            "type": "contour"
           }
          ],
          "contourcarpet": [
           {
            "colorbar": {
             "outlinewidth": 0,
             "ticks": ""
            },
            "type": "contourcarpet"
           }
          ],
          "heatmap": [
           {
            "colorbar": {
             "outlinewidth": 0,
             "ticks": ""
            },
            "colorscale": [
             [
              0,
              "#0d0887"
             ],
             [
              0.1111111111111111,
              "#46039f"
             ],
             [
              0.2222222222222222,
              "#7201a8"
             ],
             [
              0.3333333333333333,
              "#9c179e"
             ],
             [
              0.4444444444444444,
              "#bd3786"
             ],
             [
              0.5555555555555556,
              "#d8576b"
             ],
             [
              0.6666666666666666,
              "#ed7953"
             ],
             [
              0.7777777777777778,
              "#fb9f3a"
             ],
             [
              0.8888888888888888,
              "#fdca26"
             ],
             [
              1,
              "#f0f921"
             ]
            ],
            "type": "heatmap"
           }
          ],
          "heatmapgl": [
           {
            "colorbar": {
             "outlinewidth": 0,
             "ticks": ""
            },
            "colorscale": [
             [
              0,
              "#0d0887"
             ],
             [
              0.1111111111111111,
              "#46039f"
             ],
             [
              0.2222222222222222,
              "#7201a8"
             ],
             [
              0.3333333333333333,
              "#9c179e"
             ],
             [
              0.4444444444444444,
              "#bd3786"
             ],
             [
              0.5555555555555556,
              "#d8576b"
             ],
             [
              0.6666666666666666,
              "#ed7953"
             ],
             [
              0.7777777777777778,
              "#fb9f3a"
             ],
             [
              0.8888888888888888,
              "#fdca26"
             ],
             [
              1,
              "#f0f921"
             ]
            ],
            "type": "heatmapgl"
           }
          ],
          "histogram": [
           {
            "marker": {
             "colorbar": {
              "outlinewidth": 0,
              "ticks": ""
             }
            },
            "type": "histogram"
           }
          ],
          "histogram2d": [
           {
            "colorbar": {
             "outlinewidth": 0,
             "ticks": ""
            },
            "colorscale": [
             [
              0,
              "#0d0887"
             ],
             [
              0.1111111111111111,
              "#46039f"
             ],
             [
              0.2222222222222222,
              "#7201a8"
             ],
             [
              0.3333333333333333,
              "#9c179e"
             ],
             [
              0.4444444444444444,
              "#bd3786"
             ],
             [
              0.5555555555555556,
              "#d8576b"
             ],
             [
              0.6666666666666666,
              "#ed7953"
             ],
             [
              0.7777777777777778,
              "#fb9f3a"
             ],
             [
              0.8888888888888888,
              "#fdca26"
             ],
             [
              1,
              "#f0f921"
             ]
            ],
            "type": "histogram2d"
           }
          ],
          "histogram2dcontour": [
           {
            "colorbar": {
             "outlinewidth": 0,
             "ticks": ""
            },
            "colorscale": [
             [
              0,
              "#0d0887"
             ],
             [
              0.1111111111111111,
              "#46039f"
             ],
             [
              0.2222222222222222,
              "#7201a8"
             ],
             [
              0.3333333333333333,
              "#9c179e"
             ],
             [
              0.4444444444444444,
              "#bd3786"
             ],
             [
              0.5555555555555556,
              "#d8576b"
             ],
             [
              0.6666666666666666,
              "#ed7953"
             ],
             [
              0.7777777777777778,
              "#fb9f3a"
             ],
             [
              0.8888888888888888,
              "#fdca26"
             ],
             [
              1,
              "#f0f921"
             ]
            ],
            "type": "histogram2dcontour"
           }
          ],
          "mesh3d": [
           {
            "colorbar": {
             "outlinewidth": 0,
             "ticks": ""
            },
            "type": "mesh3d"
           }
          ],
          "parcoords": [
           {
            "line": {
             "colorbar": {
              "outlinewidth": 0,
              "ticks": ""
             }
            },
            "type": "parcoords"
           }
          ],
          "pie": [
           {
            "automargin": true,
            "type": "pie"
           }
          ],
          "scatter": [
           {
            "marker": {
             "colorbar": {
              "outlinewidth": 0,
              "ticks": ""
             }
            },
            "type": "scatter"
           }
          ],
          "scatter3d": [
           {
            "line": {
             "colorbar": {
              "outlinewidth": 0,
              "ticks": ""
             }
            },
            "marker": {
             "colorbar": {
              "outlinewidth": 0,
              "ticks": ""
             }
            },
            "type": "scatter3d"
           }
          ],
          "scattercarpet": [
           {
            "marker": {
             "colorbar": {
              "outlinewidth": 0,
              "ticks": ""
             }
            },
            "type": "scattercarpet"
           }
          ],
          "scattergeo": [
           {
            "marker": {
             "colorbar": {
              "outlinewidth": 0,
              "ticks": ""
             }
            },
            "type": "scattergeo"
           }
          ],
          "scattergl": [
           {
            "marker": {
             "colorbar": {
              "outlinewidth": 0,
              "ticks": ""
             }
            },
            "type": "scattergl"
           }
          ],
          "scattermapbox": [
           {
            "marker": {
             "colorbar": {
              "outlinewidth": 0,
              "ticks": ""
             }
            },
            "type": "scattermapbox"
           }
          ],
          "scatterpolar": [
           {
            "marker": {
             "colorbar": {
              "outlinewidth": 0,
              "ticks": ""
             }
            },
            "type": "scatterpolar"
           }
          ],
          "scatterpolargl": [
           {
            "marker": {
             "colorbar": {
              "outlinewidth": 0,
              "ticks": ""
             }
            },
            "type": "scatterpolargl"
           }
          ],
          "scatterternary": [
           {
            "marker": {
             "colorbar": {
              "outlinewidth": 0,
              "ticks": ""
             }
            },
            "type": "scatterternary"
           }
          ],
          "surface": [
           {
            "colorbar": {
             "outlinewidth": 0,
             "ticks": ""
            },
            "colorscale": [
             [
              0,
              "#0d0887"
             ],
             [
              0.1111111111111111,
              "#46039f"
             ],
             [
              0.2222222222222222,
              "#7201a8"
             ],
             [
              0.3333333333333333,
              "#9c179e"
             ],
             [
              0.4444444444444444,
              "#bd3786"
             ],
             [
              0.5555555555555556,
              "#d8576b"
             ],
             [
              0.6666666666666666,
              "#ed7953"
             ],
             [
              0.7777777777777778,
              "#fb9f3a"
             ],
             [
              0.8888888888888888,
              "#fdca26"
             ],
             [
              1,
              "#f0f921"
             ]
            ],
            "type": "surface"
           }
          ],
          "table": [
           {
            "cells": {
             "fill": {
              "color": "#EBF0F8"
             },
             "line": {
              "color": "white"
             }
            },
            "header": {
             "fill": {
              "color": "#C8D4E3"
             },
             "line": {
              "color": "white"
             }
            },
            "type": "table"
           }
          ]
         },
         "layout": {
          "annotationdefaults": {
           "arrowcolor": "#2a3f5f",
           "arrowhead": 0,
           "arrowwidth": 1
          },
          "coloraxis": {
           "colorbar": {
            "outlinewidth": 0,
            "ticks": ""
           }
          },
          "colorscale": {
           "diverging": [
            [
             0,
             "#8e0152"
            ],
            [
             0.1,
             "#c51b7d"
            ],
            [
             0.2,
             "#de77ae"
            ],
            [
             0.3,
             "#f1b6da"
            ],
            [
             0.4,
             "#fde0ef"
            ],
            [
             0.5,
             "#f7f7f7"
            ],
            [
             0.6,
             "#e6f5d0"
            ],
            [
             0.7,
             "#b8e186"
            ],
            [
             0.8,
             "#7fbc41"
            ],
            [
             0.9,
             "#4d9221"
            ],
            [
             1,
             "#276419"
            ]
           ],
           "sequential": [
            [
             0,
             "#0d0887"
            ],
            [
             0.1111111111111111,
             "#46039f"
            ],
            [
             0.2222222222222222,
             "#7201a8"
            ],
            [
             0.3333333333333333,
             "#9c179e"
            ],
            [
             0.4444444444444444,
             "#bd3786"
            ],
            [
             0.5555555555555556,
             "#d8576b"
            ],
            [
             0.6666666666666666,
             "#ed7953"
            ],
            [
             0.7777777777777778,
             "#fb9f3a"
            ],
            [
             0.8888888888888888,
             "#fdca26"
            ],
            [
             1,
             "#f0f921"
            ]
           ],
           "sequentialminus": [
            [
             0,
             "#0d0887"
            ],
            [
             0.1111111111111111,
             "#46039f"
            ],
            [
             0.2222222222222222,
             "#7201a8"
            ],
            [
             0.3333333333333333,
             "#9c179e"
            ],
            [
             0.4444444444444444,
             "#bd3786"
            ],
            [
             0.5555555555555556,
             "#d8576b"
            ],
            [
             0.6666666666666666,
             "#ed7953"
            ],
            [
             0.7777777777777778,
             "#fb9f3a"
            ],
            [
             0.8888888888888888,
             "#fdca26"
            ],
            [
             1,
             "#f0f921"
            ]
           ]
          },
          "colorway": [
           "#636efa",
           "#EF553B",
           "#00cc96",
           "#ab63fa",
           "#FFA15A",
           "#19d3f3",
           "#FF6692",
           "#B6E880",
           "#FF97FF",
           "#FECB52"
          ],
          "font": {
           "color": "#2a3f5f"
          },
          "geo": {
           "bgcolor": "white",
           "lakecolor": "white",
           "landcolor": "#E5ECF6",
           "showlakes": true,
           "showland": true,
           "subunitcolor": "white"
          },
          "hoverlabel": {
           "align": "left"
          },
          "hovermode": "closest",
          "mapbox": {
           "style": "light"
          },
          "paper_bgcolor": "white",
          "plot_bgcolor": "#E5ECF6",
          "polar": {
           "angularaxis": {
            "gridcolor": "white",
            "linecolor": "white",
            "ticks": ""
           },
           "bgcolor": "#E5ECF6",
           "radialaxis": {
            "gridcolor": "white",
            "linecolor": "white",
            "ticks": ""
           }
          },
          "scene": {
           "xaxis": {
            "backgroundcolor": "#E5ECF6",
            "gridcolor": "white",
            "gridwidth": 2,
            "linecolor": "white",
            "showbackground": true,
            "ticks": "",
            "zerolinecolor": "white"
           },
           "yaxis": {
            "backgroundcolor": "#E5ECF6",
            "gridcolor": "white",
            "gridwidth": 2,
            "linecolor": "white",
            "showbackground": true,
            "ticks": "",
            "zerolinecolor": "white"
           },
           "zaxis": {
            "backgroundcolor": "#E5ECF6",
            "gridcolor": "white",
            "gridwidth": 2,
            "linecolor": "white",
            "showbackground": true,
            "ticks": "",
            "zerolinecolor": "white"
           }
          },
          "shapedefaults": {
           "line": {
            "color": "#2a3f5f"
           }
          },
          "ternary": {
           "aaxis": {
            "gridcolor": "white",
            "linecolor": "white",
            "ticks": ""
           },
           "baxis": {
            "gridcolor": "white",
            "linecolor": "white",
            "ticks": ""
           },
           "bgcolor": "#E5ECF6",
           "caxis": {
            "gridcolor": "white",
            "linecolor": "white",
            "ticks": ""
           }
          },
          "title": {
           "x": 0.05
          },
          "xaxis": {
           "automargin": true,
           "gridcolor": "white",
           "linecolor": "white",
           "ticks": "",
           "title": {
            "standoff": 15
           },
           "zerolinecolor": "white",
           "zerolinewidth": 2
          },
          "yaxis": {
           "automargin": true,
           "gridcolor": "white",
           "linecolor": "white",
           "ticks": "",
           "title": {
            "standoff": 15
           },
           "zerolinecolor": "white",
           "zerolinewidth": 2
          }
         }
        },
        "xaxis": {
         "anchor": "y",
         "domain": [
          0,
          1
         ],
         "title": {
          "text": "Sample"
         }
        },
        "yaxis": {
         "anchor": "x",
         "domain": [
          0,
          1
         ],
         "title": {
          "text": "Read Count"
         }
        }
       }
      },
      "text/html": [
       "<div>\n",
       "        \n",
       "        \n",
       "            <div id=\"627da433-bf11-4984-87fa-2c0e1bf7805e\" class=\"plotly-graph-div\" style=\"height:525px; width:100%;\"></div>\n",
       "            <script type=\"text/javascript\">\n",
       "                require([\"plotly\"], function(Plotly) {\n",
       "                    window.PLOTLYENV=window.PLOTLYENV || {};\n",
       "                    \n",
       "                if (document.getElementById(\"627da433-bf11-4984-87fa-2c0e1bf7805e\")) {\n",
       "                    Plotly.newPlot(\n",
       "                        '627da433-bf11-4984-87fa-2c0e1bf7805e',\n",
       "                        [{\"alignmentgroup\": \"True\", \"hovertemplate\": \"Organism=Abditibacteriota<br>Sample=%{x}<br>Read Count=%{y}<extra></extra>\", \"legendgroup\": \"Abditibacteriota\", \"marker\": {\"color\": \"#636efa\"}, \"name\": \"Abditibacteriota\", \"offsetgroup\": \"Abditibacteriota\", \"orientation\": \"v\", \"showlegend\": true, \"textposition\": \"auto\", \"type\": \"bar\", \"x\": [\"Sample 14\", \"Sample 3\", \"Sample 1\", \"Sample 100\", \"Sample 15\", \"Sample 16\", \"Sample 99\", \"Sample 13\", \"Sample 97\", \"Sample 98\", \"Sample 2\", \"Sample 101\", \"Sample 103\", \"Sample 4\"], \"xaxis\": \"x\", \"y\": [null, null, null, 4.0, null, null, null, null, null, null, 1.0, null, null, null], \"yaxis\": \"y\"}, {\"alignmentgroup\": \"True\", \"hovertemplate\": \"Organism=Acidithiobacillia<br>Sample=%{x}<br>Read Count=%{y}<extra></extra>\", \"legendgroup\": \"Acidithiobacillia\", \"marker\": {\"color\": \"#EF553B\"}, \"name\": \"Acidithiobacillia\", \"offsetgroup\": \"Acidithiobacillia\", \"orientation\": \"v\", \"showlegend\": true, \"textposition\": \"auto\", \"type\": \"bar\", \"x\": [\"Sample 14\", \"Sample 3\", \"Sample 1\", \"Sample 100\", \"Sample 15\", \"Sample 16\", \"Sample 99\", \"Sample 13\", \"Sample 97\", \"Sample 98\", \"Sample 2\", \"Sample 101\", \"Sample 103\", \"Sample 4\"], \"xaxis\": \"x\", \"y\": [7.0, 1.0, 2.0, 7.0, 4.0, 6.0, 27.0, 2.0, 2.0, 1.0, 6.0, 2.0, 1.0, 6.0], \"yaxis\": \"y\"}, {\"alignmentgroup\": \"True\", \"hovertemplate\": \"Organism=Acidobacteriia<br>Sample=%{x}<br>Read Count=%{y}<extra></extra>\", \"legendgroup\": \"Acidobacteriia\", \"marker\": {\"color\": \"#00cc96\"}, \"name\": \"Acidobacteriia\", \"offsetgroup\": \"Acidobacteriia\", \"orientation\": \"v\", \"showlegend\": true, \"textposition\": \"auto\", \"type\": \"bar\", \"x\": [\"Sample 14\", \"Sample 3\", \"Sample 1\", \"Sample 100\", \"Sample 15\", \"Sample 16\", \"Sample 99\", \"Sample 13\", \"Sample 97\", \"Sample 98\", \"Sample 2\", \"Sample 101\", \"Sample 103\", \"Sample 4\"], \"xaxis\": \"x\", \"y\": [74.0, 10.0, 27.0, 109.0, 373.0, 35.0, 98.0, 63.0, 21.0, 31.0, 103.0, 44.0, 48.0, 61.0], \"yaxis\": \"y\"}, {\"alignmentgroup\": \"True\", \"hovertemplate\": \"Organism=Actinobacteria<br>Sample=%{x}<br>Read Count=%{y}<extra></extra>\", \"legendgroup\": \"Actinobacteria\", \"marker\": {\"color\": \"#ab63fa\"}, \"name\": \"Actinobacteria\", \"offsetgroup\": \"Actinobacteria\", \"orientation\": \"v\", \"showlegend\": true, \"textposition\": \"auto\", \"type\": \"bar\", \"x\": [\"Sample 14\", \"Sample 3\", \"Sample 1\", \"Sample 100\", \"Sample 15\", \"Sample 16\", \"Sample 99\", \"Sample 13\", \"Sample 97\", \"Sample 98\", \"Sample 2\", \"Sample 101\", \"Sample 103\", \"Sample 4\"], \"xaxis\": \"x\", \"y\": [1180256.0, 843781.0, 832599.0, 1532819.0, 655485.0, 391601.0, 474958.0, 665926.0, 280366.0, 565876.0, 902937.0, 1375509.0, 310433.0, 1910993.0], \"yaxis\": \"y\"}, {\"alignmentgroup\": \"True\", \"hovertemplate\": \"Organism=Alphaproteobacteria<br>Sample=%{x}<br>Read Count=%{y}<extra></extra>\", \"legendgroup\": \"Alphaproteobacteria\", \"marker\": {\"color\": \"#FFA15A\"}, \"name\": \"Alphaproteobacteria\", \"offsetgroup\": \"Alphaproteobacteria\", \"orientation\": \"v\", \"showlegend\": true, \"textposition\": \"auto\", \"type\": \"bar\", \"x\": [\"Sample 14\", \"Sample 3\", \"Sample 1\", \"Sample 100\", \"Sample 15\", \"Sample 16\", \"Sample 99\", \"Sample 13\", \"Sample 97\", \"Sample 98\", \"Sample 2\", \"Sample 101\", \"Sample 103\", \"Sample 4\"], \"xaxis\": \"x\", \"y\": [18274.0, 2872.0, 29762.0, 28451.0, 3951.0, 6513.0, 15345.0, 9904.0, 15194.0, 8314.0, 10531.0, 9499.0, 4159.0, 12198.0], \"yaxis\": \"y\"}, {\"alignmentgroup\": \"True\", \"hovertemplate\": \"Organism=Aquificae<br>Sample=%{x}<br>Read Count=%{y}<extra></extra>\", \"legendgroup\": \"Aquificae\", \"marker\": {\"color\": \"#19d3f3\"}, \"name\": \"Aquificae\", \"offsetgroup\": \"Aquificae\", \"orientation\": \"v\", \"showlegend\": true, \"textposition\": \"auto\", \"type\": \"bar\", \"x\": [\"Sample 14\", \"Sample 3\", \"Sample 1\", \"Sample 100\", \"Sample 15\", \"Sample 16\", \"Sample 99\", \"Sample 13\", \"Sample 97\", \"Sample 98\", \"Sample 2\", \"Sample 101\", \"Sample 103\", \"Sample 4\"], \"xaxis\": \"x\", \"y\": [52.0, 14.0, null, 28.0, 5.0, 9.0, 25.0, 11.0, 10.0, 5.0, 24.0, 4.0, 5.0, 8.0], \"yaxis\": \"y\"}, {\"alignmentgroup\": \"True\", \"hovertemplate\": \"Organism=Archaeoglobi<br>Sample=%{x}<br>Read Count=%{y}<extra></extra>\", \"legendgroup\": \"Archaeoglobi\", \"marker\": {\"color\": \"#FF6692\"}, \"name\": \"Archaeoglobi\", \"offsetgroup\": \"Archaeoglobi\", \"orientation\": \"v\", \"showlegend\": true, \"textposition\": \"auto\", \"type\": \"bar\", \"x\": [\"Sample 14\", \"Sample 3\", \"Sample 1\", \"Sample 100\", \"Sample 15\", \"Sample 16\", \"Sample 99\", \"Sample 13\", \"Sample 97\", \"Sample 98\", \"Sample 2\", \"Sample 101\", \"Sample 103\", \"Sample 4\"], \"xaxis\": \"x\", \"y\": [2.0, null, null, 1.0, null, null, 1.0, 1.0, 1.0, null, 3.0, 1.0, null, null], \"yaxis\": \"y\"}, {\"alignmentgroup\": \"True\", \"hovertemplate\": \"Organism=Armatimonadetes<br>Sample=%{x}<br>Read Count=%{y}<extra></extra>\", \"legendgroup\": \"Armatimonadetes\", \"marker\": {\"color\": \"#B6E880\"}, \"name\": \"Armatimonadetes\", \"offsetgroup\": \"Armatimonadetes\", \"orientation\": \"v\", \"showlegend\": true, \"textposition\": \"auto\", \"type\": \"bar\", \"x\": [\"Sample 14\", \"Sample 3\", \"Sample 1\", \"Sample 100\", \"Sample 15\", \"Sample 16\", \"Sample 99\", \"Sample 13\", \"Sample 97\", \"Sample 98\", \"Sample 2\", \"Sample 101\", \"Sample 103\", \"Sample 4\"], \"xaxis\": \"x\", \"y\": [8.0, 2.0, 1.0, 5.0, 1.0, 3.0, 29.0, 5.0, 1.0, 4.0, 9.0, 8.0, 4.0, 5.0], \"yaxis\": \"y\"}, {\"alignmentgroup\": \"True\", \"hovertemplate\": \"Organism=Bacteria candidate phyla<br>Sample=%{x}<br>Read Count=%{y}<extra></extra>\", \"legendgroup\": \"Bacteria candidate phyla\", \"marker\": {\"color\": \"#FF97FF\"}, \"name\": \"Bacteria candidate phyla\", \"offsetgroup\": \"Bacteria candidate phyla\", \"orientation\": \"v\", \"showlegend\": true, \"textposition\": \"auto\", \"type\": \"bar\", \"x\": [\"Sample 14\", \"Sample 3\", \"Sample 1\", \"Sample 100\", \"Sample 15\", \"Sample 16\", \"Sample 99\", \"Sample 13\", \"Sample 97\", \"Sample 98\", \"Sample 2\", \"Sample 101\", \"Sample 103\", \"Sample 4\"], \"xaxis\": \"x\", \"y\": [120.0, 466.0, 234.0, 103.0, 129.0, 588.0, 719.0, 186.0, 248.0, 1626.0, 250.0, 58.0, 280.0, 266.0], \"yaxis\": \"y\"}, {\"alignmentgroup\": \"True\", \"hovertemplate\": \"Organism=Bacteroidetes/Chlorobi group<br>Sample=%{x}<br>Read Count=%{y}<extra></extra>\", \"legendgroup\": \"Bacteroidetes/Chlorobi group\", \"marker\": {\"color\": \"#FECB52\"}, \"name\": \"Bacteroidetes/Chlorobi group\", \"offsetgroup\": \"Bacteroidetes/Chlorobi group\", \"orientation\": \"v\", \"showlegend\": true, \"textposition\": \"auto\", \"type\": \"bar\", \"x\": [\"Sample 14\", \"Sample 3\", \"Sample 1\", \"Sample 100\", \"Sample 15\", \"Sample 16\", \"Sample 99\", \"Sample 13\", \"Sample 97\", \"Sample 98\", \"Sample 2\", \"Sample 101\", \"Sample 103\", \"Sample 4\"], \"xaxis\": \"x\", \"y\": [8841956.0, 6097872.0, 5003848.0, 5716337.0, 8069905.0, 6872728.0, 5678763.0, 4267982.0, 14900558.0, 5558076.0, 4050773.0, 5731425.0, 11588708.0, 7262065.0], \"yaxis\": \"y\"}, {\"alignmentgroup\": \"True\", \"hovertemplate\": \"Organism=Betaproteobacteria<br>Sample=%{x}<br>Read Count=%{y}<extra></extra>\", \"legendgroup\": \"Betaproteobacteria\", \"marker\": {\"color\": \"#636efa\"}, \"name\": \"Betaproteobacteria\", \"offsetgroup\": \"Betaproteobacteria\", \"orientation\": \"v\", \"showlegend\": true, \"textposition\": \"auto\", \"type\": \"bar\", \"x\": [\"Sample 14\", \"Sample 3\", \"Sample 1\", \"Sample 100\", \"Sample 15\", \"Sample 16\", \"Sample 99\", \"Sample 13\", \"Sample 97\", \"Sample 98\", \"Sample 2\", \"Sample 101\", \"Sample 103\", \"Sample 4\"], \"xaxis\": \"x\", \"y\": [47429.0, 293587.0, 35943.0, 101177.0, 145232.0, 283232.0, 49235.0, 238605.0, 89173.0, 374736.0, 47099.0, 82176.0, 67439.0, 476244.0], \"yaxis\": \"y\"}, {\"alignmentgroup\": \"True\", \"hovertemplate\": \"Organism=Blastocatellia<br>Sample=%{x}<br>Read Count=%{y}<extra></extra>\", \"legendgroup\": \"Blastocatellia\", \"marker\": {\"color\": \"#EF553B\"}, \"name\": \"Blastocatellia\", \"offsetgroup\": \"Blastocatellia\", \"orientation\": \"v\", \"showlegend\": true, \"textposition\": \"auto\", \"type\": \"bar\", \"x\": [\"Sample 14\", \"Sample 3\", \"Sample 1\", \"Sample 100\", \"Sample 15\", \"Sample 16\", \"Sample 99\", \"Sample 13\", \"Sample 97\", \"Sample 98\", \"Sample 2\", \"Sample 101\", \"Sample 103\", \"Sample 4\"], \"xaxis\": \"x\", \"y\": [2.0, null, null, null, 1.0, 1.0, 3.0, 2.0, null, 3.0, 1.0, 2.0, null, 2.0], \"yaxis\": \"y\"}, {\"alignmentgroup\": \"True\", \"hovertemplate\": \"Organism=Calditrichae<br>Sample=%{x}<br>Read Count=%{y}<extra></extra>\", \"legendgroup\": \"Calditrichae\", \"marker\": {\"color\": \"#00cc96\"}, \"name\": \"Calditrichae\", \"offsetgroup\": \"Calditrichae\", \"orientation\": \"v\", \"showlegend\": true, \"textposition\": \"auto\", \"type\": \"bar\", \"x\": [\"Sample 14\", \"Sample 3\", \"Sample 1\", \"Sample 100\", \"Sample 15\", \"Sample 16\", \"Sample 99\", \"Sample 13\", \"Sample 97\", \"Sample 98\", \"Sample 2\", \"Sample 101\", \"Sample 103\", \"Sample 4\"], \"xaxis\": \"x\", \"y\": [null, null, null, null, null, null, null, 2.0, null, 1.0, 1.0, 1.0, null, 2.0], \"yaxis\": \"y\"}, {\"alignmentgroup\": \"True\", \"hovertemplate\": \"Organism=Candidatus Bathyarchaeota<br>Sample=%{x}<br>Read Count=%{y}<extra></extra>\", \"legendgroup\": \"Candidatus Bathyarchaeota\", \"marker\": {\"color\": \"#ab63fa\"}, \"name\": \"Candidatus Bathyarchaeota\", \"offsetgroup\": \"Candidatus Bathyarchaeota\", \"orientation\": \"v\", \"showlegend\": true, \"textposition\": \"auto\", \"type\": \"bar\", \"x\": [\"Sample 14\", \"Sample 3\", \"Sample 1\", \"Sample 100\", \"Sample 15\", \"Sample 16\", \"Sample 99\", \"Sample 13\", \"Sample 97\", \"Sample 98\", \"Sample 2\", \"Sample 101\", \"Sample 103\", \"Sample 4\"], \"xaxis\": \"x\", \"y\": [null, null, null, null, null, null, null, 1.0, null, null, null, null, null, null], \"yaxis\": \"y\"}, {\"alignmentgroup\": \"True\", \"hovertemplate\": \"Organism=Candidatus Cloacimonetes<br>Sample=%{x}<br>Read Count=%{y}<extra></extra>\", \"legendgroup\": \"Candidatus Cloacimonetes\", \"marker\": {\"color\": \"#FFA15A\"}, \"name\": \"Candidatus Cloacimonetes\", \"offsetgroup\": \"Candidatus Cloacimonetes\", \"orientation\": \"v\", \"showlegend\": true, \"textposition\": \"auto\", \"type\": \"bar\", \"x\": [\"Sample 14\", \"Sample 3\", \"Sample 1\", \"Sample 100\", \"Sample 15\", \"Sample 16\", \"Sample 99\", \"Sample 13\", \"Sample 97\", \"Sample 98\", \"Sample 2\", \"Sample 101\", \"Sample 103\", \"Sample 4\"], \"xaxis\": \"x\", \"y\": [2.0, null, null, 2.0, 1.0, 1.0, 1.0, null, null, 2.0, 2.0, null, 2.0, 2.0], \"yaxis\": \"y\"}, {\"alignmentgroup\": \"True\", \"hovertemplate\": \"Organism=Candidatus Cryosericota<br>Sample=%{x}<br>Read Count=%{y}<extra></extra>\", \"legendgroup\": \"Candidatus Cryosericota\", \"marker\": {\"color\": \"#19d3f3\"}, \"name\": \"Candidatus Cryosericota\", \"offsetgroup\": \"Candidatus Cryosericota\", \"orientation\": \"v\", \"showlegend\": true, \"textposition\": \"auto\", \"type\": \"bar\", \"x\": [\"Sample 14\", \"Sample 3\", \"Sample 1\", \"Sample 100\", \"Sample 15\", \"Sample 16\", \"Sample 99\", \"Sample 13\", \"Sample 97\", \"Sample 98\", \"Sample 2\", \"Sample 101\", \"Sample 103\", \"Sample 4\"], \"xaxis\": \"x\", \"y\": [4.0, null, null, null, null, 2.0, 3.0, 3.0, 2.0, 3.0, 3.0, 1.0, null, 1.0], \"yaxis\": \"y\"}, {\"alignmentgroup\": \"True\", \"hovertemplate\": \"Organism=Candidatus Korarchaeota<br>Sample=%{x}<br>Read Count=%{y}<extra></extra>\", \"legendgroup\": \"Candidatus Korarchaeota\", \"marker\": {\"color\": \"#FF6692\"}, \"name\": \"Candidatus Korarchaeota\", \"offsetgroup\": \"Candidatus Korarchaeota\", \"orientation\": \"v\", \"showlegend\": true, \"textposition\": \"auto\", \"type\": \"bar\", \"x\": [\"Sample 14\", \"Sample 3\", \"Sample 1\", \"Sample 100\", \"Sample 15\", \"Sample 16\", \"Sample 99\", \"Sample 13\", \"Sample 97\", \"Sample 98\", \"Sample 2\", \"Sample 101\", \"Sample 103\", \"Sample 4\"], \"xaxis\": \"x\", \"y\": [1.0, null, null, null, null, null, 1.0, null, null, null, null, null, null, null], \"yaxis\": \"y\"}, {\"alignmentgroup\": \"True\", \"hovertemplate\": \"Organism=Candidatus Kryptonia<br>Sample=%{x}<br>Read Count=%{y}<extra></extra>\", \"legendgroup\": \"Candidatus Kryptonia\", \"marker\": {\"color\": \"#B6E880\"}, \"name\": \"Candidatus Kryptonia\", \"offsetgroup\": \"Candidatus Kryptonia\", \"orientation\": \"v\", \"showlegend\": true, \"textposition\": \"auto\", \"type\": \"bar\", \"x\": [\"Sample 14\", \"Sample 3\", \"Sample 1\", \"Sample 100\", \"Sample 15\", \"Sample 16\", \"Sample 99\", \"Sample 13\", \"Sample 97\", \"Sample 98\", \"Sample 2\", \"Sample 101\", \"Sample 103\", \"Sample 4\"], \"xaxis\": \"x\", \"y\": [6.0, null, null, 4.0, 1.0, 1.0, 1.0, 1.0, null, null, 2.0, 2.0, 2.0, 1.0], \"yaxis\": \"y\"}, {\"alignmentgroup\": \"True\", \"hovertemplate\": \"Organism=Candidatus Lokiarchaeota<br>Sample=%{x}<br>Read Count=%{y}<extra></extra>\", \"legendgroup\": \"Candidatus Lokiarchaeota\", \"marker\": {\"color\": \"#FF97FF\"}, \"name\": \"Candidatus Lokiarchaeota\", \"offsetgroup\": \"Candidatus Lokiarchaeota\", \"orientation\": \"v\", \"showlegend\": true, \"textposition\": \"auto\", \"type\": \"bar\", \"x\": [\"Sample 14\", \"Sample 3\", \"Sample 1\", \"Sample 100\", \"Sample 15\", \"Sample 16\", \"Sample 99\", \"Sample 13\", \"Sample 97\", \"Sample 98\", \"Sample 2\", \"Sample 101\", \"Sample 103\", \"Sample 4\"], \"xaxis\": \"x\", \"y\": [1.0, null, null, null, null, null, 2.0, null, null, null, 1.0, 1.0, null, 1.0], \"yaxis\": \"y\"}, {\"alignmentgroup\": \"True\", \"hovertemplate\": \"Organism=Candidatus Marinimicrobia<br>Sample=%{x}<br>Read Count=%{y}<extra></extra>\", \"legendgroup\": \"Candidatus Marinimicrobia\", \"marker\": {\"color\": \"#FECB52\"}, \"name\": \"Candidatus Marinimicrobia\", \"offsetgroup\": \"Candidatus Marinimicrobia\", \"orientation\": \"v\", \"showlegend\": true, \"textposition\": \"auto\", \"type\": \"bar\", \"x\": [\"Sample 14\", \"Sample 3\", \"Sample 1\", \"Sample 100\", \"Sample 15\", \"Sample 16\", \"Sample 99\", \"Sample 13\", \"Sample 97\", \"Sample 98\", \"Sample 2\", \"Sample 101\", \"Sample 103\", \"Sample 4\"], \"xaxis\": \"x\", \"y\": [4.0, 1.0, 1.0, 4.0, 1.0, 3.0, 4.0, 2.0, 5.0, null, 16.0, 17.0, 4.0, 2.0], \"yaxis\": \"y\"}, {\"alignmentgroup\": \"True\", \"hovertemplate\": \"Organism=Candidatus Methanoliparia<br>Sample=%{x}<br>Read Count=%{y}<extra></extra>\", \"legendgroup\": \"Candidatus Methanoliparia\", \"marker\": {\"color\": \"#636efa\"}, \"name\": \"Candidatus Methanoliparia\", \"offsetgroup\": \"Candidatus Methanoliparia\", \"orientation\": \"v\", \"showlegend\": true, \"textposition\": \"auto\", \"type\": \"bar\", \"x\": [\"Sample 14\", \"Sample 3\", \"Sample 1\", \"Sample 100\", \"Sample 15\", \"Sample 16\", \"Sample 99\", \"Sample 13\", \"Sample 97\", \"Sample 98\", \"Sample 2\", \"Sample 101\", \"Sample 103\", \"Sample 4\"], \"xaxis\": \"x\", \"y\": [null, null, null, null, 8.0, null, null, null, null, null, 1.0, null, 1.0, null], \"yaxis\": \"y\"}, {\"alignmentgroup\": \"True\", \"hovertemplate\": \"Organism=Candidatus Tectomicrobia<br>Sample=%{x}<br>Read Count=%{y}<extra></extra>\", \"legendgroup\": \"Candidatus Tectomicrobia\", \"marker\": {\"color\": \"#EF553B\"}, \"name\": \"Candidatus Tectomicrobia\", \"offsetgroup\": \"Candidatus Tectomicrobia\", \"orientation\": \"v\", \"showlegend\": true, \"textposition\": \"auto\", \"type\": \"bar\", \"x\": [\"Sample 14\", \"Sample 3\", \"Sample 1\", \"Sample 100\", \"Sample 15\", \"Sample 16\", \"Sample 99\", \"Sample 13\", \"Sample 97\", \"Sample 98\", \"Sample 2\", \"Sample 101\", \"Sample 103\", \"Sample 4\"], \"xaxis\": \"x\", \"y\": [1.0, null, null, null, null, 1.0, 2.0, null, 10.0, 2.0, 1.0, 2.0, 1.0, 4.0], \"yaxis\": \"y\"}, {\"alignmentgroup\": \"True\", \"hovertemplate\": \"Organism=Chlamydiae<br>Sample=%{x}<br>Read Count=%{y}<extra></extra>\", \"legendgroup\": \"Chlamydiae\", \"marker\": {\"color\": \"#00cc96\"}, \"name\": \"Chlamydiae\", \"offsetgroup\": \"Chlamydiae\", \"orientation\": \"v\", \"showlegend\": true, \"textposition\": \"auto\", \"type\": \"bar\", \"x\": [\"Sample 14\", \"Sample 3\", \"Sample 1\", \"Sample 100\", \"Sample 15\", \"Sample 16\", \"Sample 99\", \"Sample 13\", \"Sample 97\", \"Sample 98\", \"Sample 2\", \"Sample 101\", \"Sample 103\", \"Sample 4\"], \"xaxis\": \"x\", \"y\": [14.0, 4.0, 15.0, 16.0, 3.0, 10.0, 16.0, 23.0, 3.0, 8.0, 13.0, 86.0, 7.0, 14.0], \"yaxis\": \"y\"}, {\"alignmentgroup\": \"True\", \"hovertemplate\": \"Organism=Chloroflexi<br>Sample=%{x}<br>Read Count=%{y}<extra></extra>\", \"legendgroup\": \"Chloroflexi\", \"marker\": {\"color\": \"#ab63fa\"}, \"name\": \"Chloroflexi\", \"offsetgroup\": \"Chloroflexi\", \"orientation\": \"v\", \"showlegend\": true, \"textposition\": \"auto\", \"type\": \"bar\", \"x\": [\"Sample 14\", \"Sample 3\", \"Sample 1\", \"Sample 100\", \"Sample 15\", \"Sample 16\", \"Sample 99\", \"Sample 13\", \"Sample 97\", \"Sample 98\", \"Sample 2\", \"Sample 101\", \"Sample 103\", \"Sample 4\"], \"xaxis\": \"x\", \"y\": [152.0, 10.0, 38.0, 169.0, 161.0, 146.0, 319.0, 146.0, 31.0, 97.0, 132.0, 176.0, 39.0, 189.0], \"yaxis\": \"y\"}, {\"alignmentgroup\": \"True\", \"hovertemplate\": \"Organism=Chrysiogenetes<br>Sample=%{x}<br>Read Count=%{y}<extra></extra>\", \"legendgroup\": \"Chrysiogenetes\", \"marker\": {\"color\": \"#FFA15A\"}, \"name\": \"Chrysiogenetes\", \"offsetgroup\": \"Chrysiogenetes\", \"orientation\": \"v\", \"showlegend\": true, \"textposition\": \"auto\", \"type\": \"bar\", \"x\": [\"Sample 14\", \"Sample 3\", \"Sample 1\", \"Sample 100\", \"Sample 15\", \"Sample 16\", \"Sample 99\", \"Sample 13\", \"Sample 97\", \"Sample 98\", \"Sample 2\", \"Sample 101\", \"Sample 103\", \"Sample 4\"], \"xaxis\": \"x\", \"y\": [3.0, null, null, 1.0, null, 1.0, 5.0, 3.0, null, null, 1.0, null, 1.0, null], \"yaxis\": \"y\"}, {\"alignmentgroup\": \"True\", \"hovertemplate\": \"Organism=Coprothermobacteria<br>Sample=%{x}<br>Read Count=%{y}<extra></extra>\", \"legendgroup\": \"Coprothermobacteria\", \"marker\": {\"color\": \"#19d3f3\"}, \"name\": \"Coprothermobacteria\", \"offsetgroup\": \"Coprothermobacteria\", \"orientation\": \"v\", \"showlegend\": true, \"textposition\": \"auto\", \"type\": \"bar\", \"x\": [\"Sample 14\", \"Sample 3\", \"Sample 1\", \"Sample 100\", \"Sample 15\", \"Sample 16\", \"Sample 99\", \"Sample 13\", \"Sample 97\", \"Sample 98\", \"Sample 2\", \"Sample 101\", \"Sample 103\", \"Sample 4\"], \"xaxis\": \"x\", \"y\": [1.0, null, 1.0, 1.0, null, 1.0, null, 1.0, null, 1.0, 1.0, null, 1.0, 1.0], \"yaxis\": \"y\"}, {\"alignmentgroup\": \"True\", \"hovertemplate\": \"Organism=Crenarchaeota<br>Sample=%{x}<br>Read Count=%{y}<extra></extra>\", \"legendgroup\": \"Crenarchaeota\", \"marker\": {\"color\": \"#FF6692\"}, \"name\": \"Crenarchaeota\", \"offsetgroup\": \"Crenarchaeota\", \"orientation\": \"v\", \"showlegend\": true, \"textposition\": \"auto\", \"type\": \"bar\", \"x\": [\"Sample 14\", \"Sample 3\", \"Sample 1\", \"Sample 100\", \"Sample 15\", \"Sample 16\", \"Sample 99\", \"Sample 13\", \"Sample 97\", \"Sample 98\", \"Sample 2\", \"Sample 101\", \"Sample 103\", \"Sample 4\"], \"xaxis\": \"x\", \"y\": [3.0, 2.0, 1.0, 7.0, 3.0, 3.0, 19.0, 3.0, 3.0, 4.0, 7.0, 5.0, 2.0, 5.0], \"yaxis\": \"y\"}, {\"alignmentgroup\": \"True\", \"hovertemplate\": \"Organism=Cyanobacteria/Melainabacteria group<br>Sample=%{x}<br>Read Count=%{y}<extra></extra>\", \"legendgroup\": \"Cyanobacteria/Melainabacteria group\", \"marker\": {\"color\": \"#B6E880\"}, \"name\": \"Cyanobacteria/Melainabacteria group\", \"offsetgroup\": \"Cyanobacteria/Melainabacteria group\", \"orientation\": \"v\", \"showlegend\": true, \"textposition\": \"auto\", \"type\": \"bar\", \"x\": [\"Sample 14\", \"Sample 3\", \"Sample 1\", \"Sample 100\", \"Sample 15\", \"Sample 16\", \"Sample 99\", \"Sample 13\", \"Sample 97\", \"Sample 98\", \"Sample 2\", \"Sample 101\", \"Sample 103\", \"Sample 4\"], \"xaxis\": \"x\", \"y\": [2153.0, 372.0, 253.0, 186139.0, 30902.0, 94930.0, 1887.0, 307792.0, 519.0, 12716.0, 1785.0, 509.0, 244.0, 963.0], \"yaxis\": \"y\"}, {\"alignmentgroup\": \"True\", \"hovertemplate\": \"Organism=Deferribacteres<br>Sample=%{x}<br>Read Count=%{y}<extra></extra>\", \"legendgroup\": \"Deferribacteres\", \"marker\": {\"color\": \"#FF97FF\"}, \"name\": \"Deferribacteres\", \"offsetgroup\": \"Deferribacteres\", \"orientation\": \"v\", \"showlegend\": true, \"textposition\": \"auto\", \"type\": \"bar\", \"x\": [\"Sample 14\", \"Sample 3\", \"Sample 1\", \"Sample 100\", \"Sample 15\", \"Sample 16\", \"Sample 99\", \"Sample 13\", \"Sample 97\", \"Sample 98\", \"Sample 2\", \"Sample 101\", \"Sample 103\", \"Sample 4\"], \"xaxis\": \"x\", \"y\": [9.0, 1.0, 5.0, 22.0, 9.0, 5.0, 6.0, 7.0, 1.0, 3.0, 20.0, 11.0, 6.0, 8.0], \"yaxis\": \"y\"}, {\"alignmentgroup\": \"True\", \"hovertemplate\": \"Organism=Deinococcus-Thermus<br>Sample=%{x}<br>Read Count=%{y}<extra></extra>\", \"legendgroup\": \"Deinococcus-Thermus\", \"marker\": {\"color\": \"#FECB52\"}, \"name\": \"Deinococcus-Thermus\", \"offsetgroup\": \"Deinococcus-Thermus\", \"orientation\": \"v\", \"showlegend\": true, \"textposition\": \"auto\", \"type\": \"bar\", \"x\": [\"Sample 14\", \"Sample 3\", \"Sample 1\", \"Sample 100\", \"Sample 15\", \"Sample 16\", \"Sample 99\", \"Sample 13\", \"Sample 97\", \"Sample 98\", \"Sample 2\", \"Sample 101\", \"Sample 103\", \"Sample 4\"], \"xaxis\": \"x\", \"y\": [206.0, 20.0, 21.0, 260.0, 60.0, 101.0, 222.0, 156.0, 107.0, 116.0, 190.0, 176.0, 42.0, 156.0], \"yaxis\": \"y\"}, {\"alignmentgroup\": \"True\", \"hovertemplate\": \"Organism=Diaforarchaea group<br>Sample=%{x}<br>Read Count=%{y}<extra></extra>\", \"legendgroup\": \"Diaforarchaea group\", \"marker\": {\"color\": \"#636efa\"}, \"name\": \"Diaforarchaea group\", \"offsetgroup\": \"Diaforarchaea group\", \"orientation\": \"v\", \"showlegend\": true, \"textposition\": \"auto\", \"type\": \"bar\", \"x\": [\"Sample 14\", \"Sample 3\", \"Sample 1\", \"Sample 100\", \"Sample 15\", \"Sample 16\", \"Sample 99\", \"Sample 13\", \"Sample 97\", \"Sample 98\", \"Sample 2\", \"Sample 101\", \"Sample 103\", \"Sample 4\"], \"xaxis\": \"x\", \"y\": [42.0, 2.0, null, 19.0, 6.0, 3352.0, 7.0, 9.0, 7.0, 6.0, 615.0, 4.0, 9.0, 24.0], \"yaxis\": \"y\"}, {\"alignmentgroup\": \"True\", \"hovertemplate\": \"Organism=Dictyoglomia<br>Sample=%{x}<br>Read Count=%{y}<extra></extra>\", \"legendgroup\": \"Dictyoglomia\", \"marker\": {\"color\": \"#EF553B\"}, \"name\": \"Dictyoglomia\", \"offsetgroup\": \"Dictyoglomia\", \"orientation\": \"v\", \"showlegend\": true, \"textposition\": \"auto\", \"type\": \"bar\", \"x\": [\"Sample 14\", \"Sample 3\", \"Sample 1\", \"Sample 100\", \"Sample 15\", \"Sample 16\", \"Sample 99\", \"Sample 13\", \"Sample 97\", \"Sample 98\", \"Sample 2\", \"Sample 101\", \"Sample 103\", \"Sample 4\"], \"xaxis\": \"x\", \"y\": [4.0, 2.0, 1.0, 2.0, 2.0, null, 18.0, 1.0, null, null, 5.0, 2.0, 1.0, 1.0], \"yaxis\": \"y\"}, {\"alignmentgroup\": \"True\", \"hovertemplate\": \"Organism=Elusimicrobia<br>Sample=%{x}<br>Read Count=%{y}<extra></extra>\", \"legendgroup\": \"Elusimicrobia\", \"marker\": {\"color\": \"#00cc96\"}, \"name\": \"Elusimicrobia\", \"offsetgroup\": \"Elusimicrobia\", \"orientation\": \"v\", \"showlegend\": true, \"textposition\": \"auto\", \"type\": \"bar\", \"x\": [\"Sample 14\", \"Sample 3\", \"Sample 1\", \"Sample 100\", \"Sample 15\", \"Sample 16\", \"Sample 99\", \"Sample 13\", \"Sample 97\", \"Sample 98\", \"Sample 2\", \"Sample 101\", \"Sample 103\", \"Sample 4\"], \"xaxis\": \"x\", \"y\": [null, null, 2.0, 4.0, 1.0, 1.0, 2.0, 2.0, 3.0, null, null, null, 1.0, 1.0], \"yaxis\": \"y\"}, {\"alignmentgroup\": \"True\", \"hovertemplate\": \"Organism=Endomicrobia<br>Sample=%{x}<br>Read Count=%{y}<extra></extra>\", \"legendgroup\": \"Endomicrobia\", \"marker\": {\"color\": \"#ab63fa\"}, \"name\": \"Endomicrobia\", \"offsetgroup\": \"Endomicrobia\", \"orientation\": \"v\", \"showlegend\": true, \"textposition\": \"auto\", \"type\": \"bar\", \"x\": [\"Sample 14\", \"Sample 3\", \"Sample 1\", \"Sample 100\", \"Sample 15\", \"Sample 16\", \"Sample 99\", \"Sample 13\", \"Sample 97\", \"Sample 98\", \"Sample 2\", \"Sample 101\", \"Sample 103\", \"Sample 4\"], \"xaxis\": \"x\", \"y\": [null, 19.0, null, null, null, 1.0, 1.0, null, null, null, 2.0, null, null, null], \"yaxis\": \"y\"}, {\"alignmentgroup\": \"True\", \"hovertemplate\": \"Organism=Fibrobacteres<br>Sample=%{x}<br>Read Count=%{y}<extra></extra>\", \"legendgroup\": \"Fibrobacteres\", \"marker\": {\"color\": \"#FFA15A\"}, \"name\": \"Fibrobacteres\", \"offsetgroup\": \"Fibrobacteres\", \"orientation\": \"v\", \"showlegend\": true, \"textposition\": \"auto\", \"type\": \"bar\", \"x\": [\"Sample 14\", \"Sample 3\", \"Sample 1\", \"Sample 100\", \"Sample 15\", \"Sample 16\", \"Sample 99\", \"Sample 13\", \"Sample 97\", \"Sample 98\", \"Sample 2\", \"Sample 101\", \"Sample 103\", \"Sample 4\"], \"xaxis\": \"x\", \"y\": [92.0, 71.0, 27.0, 255.0, 65.0, 70.0, 303.0, 243.0, 59.0, 146.0, 628.0, 40.0, 378.0, 441.0], \"yaxis\": \"y\"}, {\"alignmentgroup\": \"True\", \"hovertemplate\": \"Organism=Firmicutes<br>Sample=%{x}<br>Read Count=%{y}<extra></extra>\", \"legendgroup\": \"Firmicutes\", \"marker\": {\"color\": \"#19d3f3\"}, \"name\": \"Firmicutes\", \"offsetgroup\": \"Firmicutes\", \"orientation\": \"v\", \"showlegend\": true, \"textposition\": \"auto\", \"type\": \"bar\", \"x\": [\"Sample 14\", \"Sample 3\", \"Sample 1\", \"Sample 100\", \"Sample 15\", \"Sample 16\", \"Sample 99\", \"Sample 13\", \"Sample 97\", \"Sample 98\", \"Sample 2\", \"Sample 101\", \"Sample 103\", \"Sample 4\"], \"xaxis\": \"x\", \"y\": [6867804.0, 14243183.0, 12078778.0, 11636241.0, 12875164.0, 13202267.0, 13367130.0, 12804797.0, 6829187.0, 8175759.0, 8102453.0, 13219152.0, 6395226.0, 7254489.0], \"yaxis\": \"y\"}, {\"alignmentgroup\": \"True\", \"hovertemplate\": \"Organism=Fungi<br>Sample=%{x}<br>Read Count=%{y}<extra></extra>\", \"legendgroup\": \"Fungi\", \"marker\": {\"color\": \"#FF6692\"}, \"name\": \"Fungi\", \"offsetgroup\": \"Fungi\", \"orientation\": \"v\", \"showlegend\": true, \"textposition\": \"auto\", \"type\": \"bar\", \"x\": [\"Sample 14\", \"Sample 3\", \"Sample 1\", \"Sample 100\", \"Sample 15\", \"Sample 16\", \"Sample 99\", \"Sample 13\", \"Sample 97\", \"Sample 98\", \"Sample 2\", \"Sample 101\", \"Sample 103\", \"Sample 4\"], \"xaxis\": \"x\", \"y\": [1148.0, 191.0, 835.0, 1450.0, 498.0, 2499.0, 1074.0, 1693.0, 886.0, 4473.0, 1903.0, 934.0, 735.0, 4093.0], \"yaxis\": \"y\"}, {\"alignmentgroup\": \"True\", \"hovertemplate\": \"Organism=Fusobacteriia<br>Sample=%{x}<br>Read Count=%{y}<extra></extra>\", \"legendgroup\": \"Fusobacteriia\", \"marker\": {\"color\": \"#B6E880\"}, \"name\": \"Fusobacteriia\", \"offsetgroup\": \"Fusobacteriia\", \"orientation\": \"v\", \"showlegend\": true, \"textposition\": \"auto\", \"type\": \"bar\", \"x\": [\"Sample 14\", \"Sample 3\", \"Sample 1\", \"Sample 100\", \"Sample 15\", \"Sample 16\", \"Sample 99\", \"Sample 13\", \"Sample 97\", \"Sample 98\", \"Sample 2\", \"Sample 101\", \"Sample 103\", \"Sample 4\"], \"xaxis\": \"x\", \"y\": [877.0, 572.0, 435.0, 843.0, 940.0, 471.0, 638.0, 1156.0, 121.0, 206.0, 357.0, 513.0, 483.0, 838.0], \"yaxis\": \"y\"}, {\"alignmentgroup\": \"True\", \"hovertemplate\": \"Organism=Gammaproteobacteria<br>Sample=%{x}<br>Read Count=%{y}<extra></extra>\", \"legendgroup\": \"Gammaproteobacteria\", \"marker\": {\"color\": \"#FF97FF\"}, \"name\": \"Gammaproteobacteria\", \"offsetgroup\": \"Gammaproteobacteria\", \"orientation\": \"v\", \"showlegend\": true, \"textposition\": \"auto\", \"type\": \"bar\", \"x\": [\"Sample 14\", \"Sample 3\", \"Sample 1\", \"Sample 100\", \"Sample 15\", \"Sample 16\", \"Sample 99\", \"Sample 13\", \"Sample 97\", \"Sample 98\", \"Sample 2\", \"Sample 101\", \"Sample 103\", \"Sample 4\"], \"xaxis\": \"x\", \"y\": [20959.0, 18229.0, 1611056.0, 23177.0, 22067.0, 120090.0, 1077186.0, 42890.0, 41192.0, 71215.0, 28393.0, 46519.0, 28925.0, 96458.0], \"yaxis\": \"y\"}, {\"alignmentgroup\": \"True\", \"hovertemplate\": \"Organism=Gemmatimonadetes<br>Sample=%{x}<br>Read Count=%{y}<extra></extra>\", \"legendgroup\": \"Gemmatimonadetes\", \"marker\": {\"color\": \"#FECB52\"}, \"name\": \"Gemmatimonadetes\", \"offsetgroup\": \"Gemmatimonadetes\", \"orientation\": \"v\", \"showlegend\": true, \"textposition\": \"auto\", \"type\": \"bar\", \"x\": [\"Sample 14\", \"Sample 3\", \"Sample 1\", \"Sample 100\", \"Sample 15\", \"Sample 16\", \"Sample 99\", \"Sample 13\", \"Sample 97\", \"Sample 98\", \"Sample 2\", \"Sample 101\", \"Sample 103\", \"Sample 4\"], \"xaxis\": \"x\", \"y\": [7.0, null, 2.0, 6.0, 2.0, 4.0, 8.0, 7.0, 2.0, 1.0, 3.0, 4.0, 3.0, null], \"yaxis\": \"y\"}, {\"alignmentgroup\": \"True\", \"hovertemplate\": \"Organism=Haloplasmatales<br>Sample=%{x}<br>Read Count=%{y}<extra></extra>\", \"legendgroup\": \"Haloplasmatales\", \"marker\": {\"color\": \"#636efa\"}, \"name\": \"Haloplasmatales\", \"offsetgroup\": \"Haloplasmatales\", \"orientation\": \"v\", \"showlegend\": true, \"textposition\": \"auto\", \"type\": \"bar\", \"x\": [\"Sample 14\", \"Sample 3\", \"Sample 1\", \"Sample 100\", \"Sample 15\", \"Sample 16\", \"Sample 99\", \"Sample 13\", \"Sample 97\", \"Sample 98\", \"Sample 2\", \"Sample 101\", \"Sample 103\", \"Sample 4\"], \"xaxis\": \"x\", \"y\": [38.0, 1.0, null, 5.0, 2.0, 9.0, 3.0, 3.0, null, 1.0, 8.0, 12.0, 1.0, 3.0], \"yaxis\": \"y\"}, {\"alignmentgroup\": \"True\", \"hovertemplate\": \"Organism=Holophagae<br>Sample=%{x}<br>Read Count=%{y}<extra></extra>\", \"legendgroup\": \"Holophagae\", \"marker\": {\"color\": \"#EF553B\"}, \"name\": \"Holophagae\", \"offsetgroup\": \"Holophagae\", \"orientation\": \"v\", \"showlegend\": true, \"textposition\": \"auto\", \"type\": \"bar\", \"x\": [\"Sample 14\", \"Sample 3\", \"Sample 1\", \"Sample 100\", \"Sample 15\", \"Sample 16\", \"Sample 99\", \"Sample 13\", \"Sample 97\", \"Sample 98\", \"Sample 2\", \"Sample 101\", \"Sample 103\", \"Sample 4\"], \"xaxis\": \"x\", \"y\": [11.0, 2.0, 1.0, 5.0, 1.0, 6.0, 20.0, 21.0, 1.0, 8.0, 7.0, 4.0, 3.0, 9.0], \"yaxis\": \"y\"}, {\"alignmentgroup\": \"True\", \"hovertemplate\": \"Organism=Hydrogenophilalia<br>Sample=%{x}<br>Read Count=%{y}<extra></extra>\", \"legendgroup\": \"Hydrogenophilalia\", \"marker\": {\"color\": \"#00cc96\"}, \"name\": \"Hydrogenophilalia\", \"offsetgroup\": \"Hydrogenophilalia\", \"orientation\": \"v\", \"showlegend\": true, \"textposition\": \"auto\", \"type\": \"bar\", \"x\": [\"Sample 14\", \"Sample 3\", \"Sample 1\", \"Sample 100\", \"Sample 15\", \"Sample 16\", \"Sample 99\", \"Sample 13\", \"Sample 97\", \"Sample 98\", \"Sample 2\", \"Sample 101\", \"Sample 103\", \"Sample 4\"], \"xaxis\": \"x\", \"y\": [6.0, null, 3.0, 13.0, 3.0, 8.0, 10.0, 8.0, 1.0, 11.0, 6.0, 3.0, null, 4.0], \"yaxis\": \"y\"}, {\"alignmentgroup\": \"True\", \"hovertemplate\": \"Organism=Isachenkonia<br>Sample=%{x}<br>Read Count=%{y}<extra></extra>\", \"legendgroup\": \"Isachenkonia\", \"marker\": {\"color\": \"#ab63fa\"}, \"name\": \"Isachenkonia\", \"offsetgroup\": \"Isachenkonia\", \"orientation\": \"v\", \"showlegend\": true, \"textposition\": \"auto\", \"type\": \"bar\", \"x\": [\"Sample 14\", \"Sample 3\", \"Sample 1\", \"Sample 100\", \"Sample 15\", \"Sample 16\", \"Sample 99\", \"Sample 13\", \"Sample 97\", \"Sample 98\", \"Sample 2\", \"Sample 101\", \"Sample 103\", \"Sample 4\"], \"xaxis\": \"x\", \"y\": [4.0, null, null, 1.0, null, null, 4.0, 8.0, 2.0, null, 2.0, null, null, null], \"yaxis\": \"y\"}, {\"alignmentgroup\": \"True\", \"hovertemplate\": \"Organism=Kiritimatiellaeota<br>Sample=%{x}<br>Read Count=%{y}<extra></extra>\", \"legendgroup\": \"Kiritimatiellaeota\", \"marker\": {\"color\": \"#FFA15A\"}, \"name\": \"Kiritimatiellaeota\", \"offsetgroup\": \"Kiritimatiellaeota\", \"orientation\": \"v\", \"showlegend\": true, \"textposition\": \"auto\", \"type\": \"bar\", \"x\": [\"Sample 14\", \"Sample 3\", \"Sample 1\", \"Sample 100\", \"Sample 15\", \"Sample 16\", \"Sample 99\", \"Sample 13\", \"Sample 97\", \"Sample 98\", \"Sample 2\", \"Sample 101\", \"Sample 103\", \"Sample 4\"], \"xaxis\": \"x\", \"y\": [13.0, 5.0, 1.0, 16.0, 1.0, 11.0, 16.0, 21.0, 11.0, 14.0, 17.0, 9.0, 2.0, 20.0], \"yaxis\": \"y\"}, {\"alignmentgroup\": \"True\", \"hovertemplate\": \"Organism=Lentisphaerae<br>Sample=%{x}<br>Read Count=%{y}<extra></extra>\", \"legendgroup\": \"Lentisphaerae\", \"marker\": {\"color\": \"#19d3f3\"}, \"name\": \"Lentisphaerae\", \"offsetgroup\": \"Lentisphaerae\", \"orientation\": \"v\", \"showlegend\": true, \"textposition\": \"auto\", \"type\": \"bar\", \"x\": [\"Sample 14\", \"Sample 3\", \"Sample 1\", \"Sample 100\", \"Sample 15\", \"Sample 16\", \"Sample 99\", \"Sample 13\", \"Sample 97\", \"Sample 98\", \"Sample 2\", \"Sample 101\", \"Sample 103\", \"Sample 4\"], \"xaxis\": \"x\", \"y\": [59572.0, 941.0, 63.0, 18234.0, 1980.0, 40065.0, 14293.0, 9857.0, 37071.0, 100404.0, 1746.0, 23612.0, 6384.0, 55987.0], \"yaxis\": \"y\"}, {\"alignmentgroup\": \"True\", \"hovertemplate\": \"Organism=Methanomada group<br>Sample=%{x}<br>Read Count=%{y}<extra></extra>\", \"legendgroup\": \"Methanomada group\", \"marker\": {\"color\": \"#FF6692\"}, \"name\": \"Methanomada group\", \"offsetgroup\": \"Methanomada group\", \"orientation\": \"v\", \"showlegend\": true, \"textposition\": \"auto\", \"type\": \"bar\", \"x\": [\"Sample 14\", \"Sample 3\", \"Sample 1\", \"Sample 100\", \"Sample 15\", \"Sample 16\", \"Sample 99\", \"Sample 13\", \"Sample 97\", \"Sample 98\", \"Sample 2\", \"Sample 101\", \"Sample 103\", \"Sample 4\"], \"xaxis\": \"x\", \"y\": [411401.0, 110.0, 2778.0, 89558.0, 187.0, 122103.0, 158461.0, 34709.0, 143.0, 96.0, 142032.0, 216.0, 65579.0, 4056.0], \"yaxis\": \"y\"}, {\"alignmentgroup\": \"True\", \"hovertemplate\": \"Organism=Methanonatronarchaeia<br>Sample=%{x}<br>Read Count=%{y}<extra></extra>\", \"legendgroup\": \"Methanonatronarchaeia\", \"marker\": {\"color\": \"#B6E880\"}, \"name\": \"Methanonatronarchaeia\", \"offsetgroup\": \"Methanonatronarchaeia\", \"orientation\": \"v\", \"showlegend\": true, \"textposition\": \"auto\", \"type\": \"bar\", \"x\": [\"Sample 14\", \"Sample 3\", \"Sample 1\", \"Sample 100\", \"Sample 15\", \"Sample 16\", \"Sample 99\", \"Sample 13\", \"Sample 97\", \"Sample 98\", \"Sample 2\", \"Sample 101\", \"Sample 103\", \"Sample 4\"], \"xaxis\": \"x\", \"y\": [10.0, 1.0, null, null, null, 1.0, null, null, null, null, null, null, 1.0, null], \"yaxis\": \"y\"}, {\"alignmentgroup\": \"True\", \"hovertemplate\": \"Organism=Methanopyri<br>Sample=%{x}<br>Read Count=%{y}<extra></extra>\", \"legendgroup\": \"Methanopyri\", \"marker\": {\"color\": \"#FF97FF\"}, \"name\": \"Methanopyri\", \"offsetgroup\": \"Methanopyri\", \"orientation\": \"v\", \"showlegend\": true, \"textposition\": \"auto\", \"type\": \"bar\", \"x\": [\"Sample 14\", \"Sample 3\", \"Sample 1\", \"Sample 100\", \"Sample 15\", \"Sample 16\", \"Sample 99\", \"Sample 13\", \"Sample 97\", \"Sample 98\", \"Sample 2\", \"Sample 101\", \"Sample 103\", \"Sample 4\"], \"xaxis\": \"x\", \"y\": [2.0, null, null, 1.0, null, 4.0, null, 1.0, 2.0, 1.0, 1.0, 1.0, null, 3.0], \"yaxis\": \"y\"}, {\"alignmentgroup\": \"True\", \"hovertemplate\": \"Organism=Natronospirillum<br>Sample=%{x}<br>Read Count=%{y}<extra></extra>\", \"legendgroup\": \"Natronospirillum\", \"marker\": {\"color\": \"#FECB52\"}, \"name\": \"Natronospirillum\", \"offsetgroup\": \"Natronospirillum\", \"orientation\": \"v\", \"showlegend\": true, \"textposition\": \"auto\", \"type\": \"bar\", \"x\": [\"Sample 14\", \"Sample 3\", \"Sample 1\", \"Sample 100\", \"Sample 15\", \"Sample 16\", \"Sample 99\", \"Sample 13\", \"Sample 97\", \"Sample 98\", \"Sample 2\", \"Sample 101\", \"Sample 103\", \"Sample 4\"], \"xaxis\": \"x\", \"y\": [null, null, null, 1.0, null, null, 3.0, 1.0, null, null, 1.0, null, null, null], \"yaxis\": \"y\"}, {\"alignmentgroup\": \"True\", \"hovertemplate\": \"Organism=Nitrospinae<br>Sample=%{x}<br>Read Count=%{y}<extra></extra>\", \"legendgroup\": \"Nitrospinae\", \"marker\": {\"color\": \"#636efa\"}, \"name\": \"Nitrospinae\", \"offsetgroup\": \"Nitrospinae\", \"orientation\": \"v\", \"showlegend\": true, \"textposition\": \"auto\", \"type\": \"bar\", \"x\": [\"Sample 14\", \"Sample 3\", \"Sample 1\", \"Sample 100\", \"Sample 15\", \"Sample 16\", \"Sample 99\", \"Sample 13\", \"Sample 97\", \"Sample 98\", \"Sample 2\", \"Sample 101\", \"Sample 103\", \"Sample 4\"], \"xaxis\": \"x\", \"y\": [null, null, null, null, 1.0, 1.0, 6.0, 1.0, 1.0, 2.0, 1.0, 1.0, 2.0, null], \"yaxis\": \"y\"}, {\"alignmentgroup\": \"True\", \"hovertemplate\": \"Organism=Nitrospira<br>Sample=%{x}<br>Read Count=%{y}<extra></extra>\", \"legendgroup\": \"Nitrospira\", \"marker\": {\"color\": \"#EF553B\"}, \"name\": \"Nitrospira\", \"offsetgroup\": \"Nitrospira\", \"orientation\": \"v\", \"showlegend\": true, \"textposition\": \"auto\", \"type\": \"bar\", \"x\": [\"Sample 14\", \"Sample 3\", \"Sample 1\", \"Sample 100\", \"Sample 15\", \"Sample 16\", \"Sample 99\", \"Sample 13\", \"Sample 97\", \"Sample 98\", \"Sample 2\", \"Sample 101\", \"Sample 103\", \"Sample 4\"], \"xaxis\": \"x\", \"y\": [8.0, null, null, 24.0, 7.0, 9.0, 11.0, 16.0, 4.0, 6.0, 16.0, 4.0, 4.0, 22.0], \"yaxis\": \"y\"}, {\"alignmentgroup\": \"True\", \"hovertemplate\": \"Organism=Oligoflexia<br>Sample=%{x}<br>Read Count=%{y}<extra></extra>\", \"legendgroup\": \"Oligoflexia\", \"marker\": {\"color\": \"#00cc96\"}, \"name\": \"Oligoflexia\", \"offsetgroup\": \"Oligoflexia\", \"orientation\": \"v\", \"showlegend\": true, \"textposition\": \"auto\", \"type\": \"bar\", \"x\": [\"Sample 14\", \"Sample 3\", \"Sample 1\", \"Sample 100\", \"Sample 15\", \"Sample 16\", \"Sample 99\", \"Sample 13\", \"Sample 97\", \"Sample 98\", \"Sample 2\", \"Sample 101\", \"Sample 103\", \"Sample 4\"], \"xaxis\": \"x\", \"y\": [27.0, 1.0, 2.0, 29.0, 5.0, 13.0, 23.0, 15.0, 10.0, 5.0, 29.0, 10.0, 5.0, 19.0], \"yaxis\": \"y\"}, {\"alignmentgroup\": \"True\", \"hovertemplate\": \"Organism=Planctomycetes<br>Sample=%{x}<br>Read Count=%{y}<extra></extra>\", \"legendgroup\": \"Planctomycetes\", \"marker\": {\"color\": \"#ab63fa\"}, \"name\": \"Planctomycetes\", \"offsetgroup\": \"Planctomycetes\", \"orientation\": \"v\", \"showlegend\": true, \"textposition\": \"auto\", \"type\": \"bar\", \"x\": [\"Sample 14\", \"Sample 3\", \"Sample 1\", \"Sample 100\", \"Sample 15\", \"Sample 16\", \"Sample 99\", \"Sample 13\", \"Sample 97\", \"Sample 98\", \"Sample 2\", \"Sample 101\", \"Sample 103\", \"Sample 4\"], \"xaxis\": \"x\", \"y\": [175.0, 6.0, 60.0, 265.0, 108.0, 94.0, 215.0, 169.0, 86.0, 101.0, 194.0, 101.0, 59.0, 157.0], \"yaxis\": \"y\"}, {\"alignmentgroup\": \"True\", \"hovertemplate\": \"Organism=Spirochaetia<br>Sample=%{x}<br>Read Count=%{y}<extra></extra>\", \"legendgroup\": \"Spirochaetia\", \"marker\": {\"color\": \"#FFA15A\"}, \"name\": \"Spirochaetia\", \"offsetgroup\": \"Spirochaetia\", \"orientation\": \"v\", \"showlegend\": true, \"textposition\": \"auto\", \"type\": \"bar\", \"x\": [\"Sample 14\", \"Sample 3\", \"Sample 1\", \"Sample 100\", \"Sample 15\", \"Sample 16\", \"Sample 99\", \"Sample 13\", \"Sample 97\", \"Sample 98\", \"Sample 2\", \"Sample 101\", \"Sample 103\", \"Sample 4\"], \"xaxis\": \"x\", \"y\": [370.0, 125.0, 58.0, 557.0, 194.0, 309.0, 402.0, 377.0, 110.0, 219.0, 408.0, 315.0, 106.0, 431.0], \"yaxis\": \"y\"}, {\"alignmentgroup\": \"True\", \"hovertemplate\": \"Organism=Stenosarchaea group<br>Sample=%{x}<br>Read Count=%{y}<extra></extra>\", \"legendgroup\": \"Stenosarchaea group\", \"marker\": {\"color\": \"#19d3f3\"}, \"name\": \"Stenosarchaea group\", \"offsetgroup\": \"Stenosarchaea group\", \"orientation\": \"v\", \"showlegend\": true, \"textposition\": \"auto\", \"type\": \"bar\", \"x\": [\"Sample 14\", \"Sample 3\", \"Sample 1\", \"Sample 100\", \"Sample 15\", \"Sample 16\", \"Sample 99\", \"Sample 13\", \"Sample 97\", \"Sample 98\", \"Sample 2\", \"Sample 101\", \"Sample 103\", \"Sample 4\"], \"xaxis\": \"x\", \"y\": [135.0, 15.0, 29.0, 210.0, 56.0, 139.0, 267.0, 130.0, 78.0, 105.0, 152.0, 183.0, 58.0, 124.0], \"yaxis\": \"y\"}, {\"alignmentgroup\": \"True\", \"hovertemplate\": \"Organism=Synergistia<br>Sample=%{x}<br>Read Count=%{y}<extra></extra>\", \"legendgroup\": \"Synergistia\", \"marker\": {\"color\": \"#FF6692\"}, \"name\": \"Synergistia\", \"offsetgroup\": \"Synergistia\", \"orientation\": \"v\", \"showlegend\": true, \"textposition\": \"auto\", \"type\": \"bar\", \"x\": [\"Sample 14\", \"Sample 3\", \"Sample 1\", \"Sample 100\", \"Sample 15\", \"Sample 16\", \"Sample 99\", \"Sample 13\", \"Sample 97\", \"Sample 98\", \"Sample 2\", \"Sample 101\", \"Sample 103\", \"Sample 4\"], \"xaxis\": \"x\", \"y\": [349.0, 30.0, 83.0, 317.0, 163.0, 287.0, 7564.0, 275.0, 2907.0, 210.0, 273.0, 411.0, 99.0, 3686.0], \"yaxis\": \"y\"}, {\"alignmentgroup\": \"True\", \"hovertemplate\": \"Organism=Tenericutes<br>Sample=%{x}<br>Read Count=%{y}<extra></extra>\", \"legendgroup\": \"Tenericutes\", \"marker\": {\"color\": \"#B6E880\"}, \"name\": \"Tenericutes\", \"offsetgroup\": \"Tenericutes\", \"orientation\": \"v\", \"showlegend\": true, \"textposition\": \"auto\", \"type\": \"bar\", \"x\": [\"Sample 14\", \"Sample 3\", \"Sample 1\", \"Sample 100\", \"Sample 15\", \"Sample 16\", \"Sample 99\", \"Sample 13\", \"Sample 97\", \"Sample 98\", \"Sample 2\", \"Sample 101\", \"Sample 103\", \"Sample 4\"], \"xaxis\": \"x\", \"y\": [1986.0, 169.0, 110.0, 1615.0, 1223.0, 1133.0, 1605.0, 424.0, 161.0, 263.0, 629.0, 2375.0, 150.0, 1472.0], \"yaxis\": \"y\"}, {\"alignmentgroup\": \"True\", \"hovertemplate\": \"Organism=Thaumarchaeota<br>Sample=%{x}<br>Read Count=%{y}<extra></extra>\", \"legendgroup\": \"Thaumarchaeota\", \"marker\": {\"color\": \"#FF97FF\"}, \"name\": \"Thaumarchaeota\", \"offsetgroup\": \"Thaumarchaeota\", \"orientation\": \"v\", \"showlegend\": true, \"textposition\": \"auto\", \"type\": \"bar\", \"x\": [\"Sample 14\", \"Sample 3\", \"Sample 1\", \"Sample 100\", \"Sample 15\", \"Sample 16\", \"Sample 99\", \"Sample 13\", \"Sample 97\", \"Sample 98\", \"Sample 2\", \"Sample 101\", \"Sample 103\", \"Sample 4\"], \"xaxis\": \"x\", \"y\": [3.0, 4.0, 3.0, 7.0, null, 4.0, 5.0, 2.0, null, 7.0, 9.0, 4.0, null, 6.0], \"yaxis\": \"y\"}, {\"alignmentgroup\": \"True\", \"hovertemplate\": \"Organism=Thermoanaerobaculia<br>Sample=%{x}<br>Read Count=%{y}<extra></extra>\", \"legendgroup\": \"Thermoanaerobaculia\", \"marker\": {\"color\": \"#FECB52\"}, \"name\": \"Thermoanaerobaculia\", \"offsetgroup\": \"Thermoanaerobaculia\", \"orientation\": \"v\", \"showlegend\": true, \"textposition\": \"auto\", \"type\": \"bar\", \"x\": [\"Sample 14\", \"Sample 3\", \"Sample 1\", \"Sample 100\", \"Sample 15\", \"Sample 16\", \"Sample 99\", \"Sample 13\", \"Sample 97\", \"Sample 98\", \"Sample 2\", \"Sample 101\", \"Sample 103\", \"Sample 4\"], \"xaxis\": \"x\", \"y\": [2.0, null, null, null, null, 1.0, 1.0, 2.0, null, 1.0, null, 1.0, 1.0, null], \"yaxis\": \"y\"}, {\"alignmentgroup\": \"True\", \"hovertemplate\": \"Organism=Thermococci<br>Sample=%{x}<br>Read Count=%{y}<extra></extra>\", \"legendgroup\": \"Thermococci\", \"marker\": {\"color\": \"#636efa\"}, \"name\": \"Thermococci\", \"offsetgroup\": \"Thermococci\", \"orientation\": \"v\", \"showlegend\": true, \"textposition\": \"auto\", \"type\": \"bar\", \"x\": [\"Sample 14\", \"Sample 3\", \"Sample 1\", \"Sample 100\", \"Sample 15\", \"Sample 16\", \"Sample 99\", \"Sample 13\", \"Sample 97\", \"Sample 98\", \"Sample 2\", \"Sample 101\", \"Sample 103\", \"Sample 4\"], \"xaxis\": \"x\", \"y\": [10.0, 4.0, 1.0, 11.0, 5.0, 10.0, 12.0, 57.0, 7.0, 4.0, 7.0, 3.0, 9.0, 3.0], \"yaxis\": \"y\"}, {\"alignmentgroup\": \"True\", \"hovertemplate\": \"Organism=Thermodesulfobacteria<br>Sample=%{x}<br>Read Count=%{y}<extra></extra>\", \"legendgroup\": \"Thermodesulfobacteria\", \"marker\": {\"color\": \"#EF553B\"}, \"name\": \"Thermodesulfobacteria\", \"offsetgroup\": \"Thermodesulfobacteria\", \"orientation\": \"v\", \"showlegend\": true, \"textposition\": \"auto\", \"type\": \"bar\", \"x\": [\"Sample 14\", \"Sample 3\", \"Sample 1\", \"Sample 100\", \"Sample 15\", \"Sample 16\", \"Sample 99\", \"Sample 13\", \"Sample 97\", \"Sample 98\", \"Sample 2\", \"Sample 101\", \"Sample 103\", \"Sample 4\"], \"xaxis\": \"x\", \"y\": [7.0, 1.0, 1.0, 16.0, 2.0, 3.0, 5.0, 4.0, 2.0, 3.0, 15.0, 4.0, 1.0, 2.0], \"yaxis\": \"y\"}, {\"alignmentgroup\": \"True\", \"hovertemplate\": \"Organism=Thermotogae<br>Sample=%{x}<br>Read Count=%{y}<extra></extra>\", \"legendgroup\": \"Thermotogae\", \"marker\": {\"color\": \"#00cc96\"}, \"name\": \"Thermotogae\", \"offsetgroup\": \"Thermotogae\", \"orientation\": \"v\", \"showlegend\": true, \"textposition\": \"auto\", \"type\": \"bar\", \"x\": [\"Sample 14\", \"Sample 3\", \"Sample 1\", \"Sample 100\", \"Sample 15\", \"Sample 16\", \"Sample 99\", \"Sample 13\", \"Sample 97\", \"Sample 98\", \"Sample 2\", \"Sample 101\", \"Sample 103\", \"Sample 4\"], \"xaxis\": \"x\", \"y\": [146.0, 5.0, 6.0, 78.0, 26.0, 39.0, 64.0, 47.0, 9.0, 18.0, 67.0, 30.0, 16.0, 41.0], \"yaxis\": \"y\"}, {\"alignmentgroup\": \"True\", \"hovertemplate\": \"Organism=Vampirococcus<br>Sample=%{x}<br>Read Count=%{y}<extra></extra>\", \"legendgroup\": \"Vampirococcus\", \"marker\": {\"color\": \"#ab63fa\"}, \"name\": \"Vampirococcus\", \"offsetgroup\": \"Vampirococcus\", \"orientation\": \"v\", \"showlegend\": true, \"textposition\": \"auto\", \"type\": \"bar\", \"x\": [\"Sample 14\", \"Sample 3\", \"Sample 1\", \"Sample 100\", \"Sample 15\", \"Sample 16\", \"Sample 99\", \"Sample 13\", \"Sample 97\", \"Sample 98\", \"Sample 2\", \"Sample 101\", \"Sample 103\", \"Sample 4\"], \"xaxis\": \"x\", \"y\": [null, null, null, 1.0, 1.0, null, null, null, 1.0, null, 1.0, 2.0, null, null], \"yaxis\": \"y\"}, {\"alignmentgroup\": \"True\", \"hovertemplate\": \"Organism=Verrucomicrobia<br>Sample=%{x}<br>Read Count=%{y}<extra></extra>\", \"legendgroup\": \"Verrucomicrobia\", \"marker\": {\"color\": \"#FFA15A\"}, \"name\": \"Verrucomicrobia\", \"offsetgroup\": \"Verrucomicrobia\", \"orientation\": \"v\", \"showlegend\": true, \"textposition\": \"auto\", \"type\": \"bar\", \"x\": [\"Sample 14\", \"Sample 3\", \"Sample 1\", \"Sample 100\", \"Sample 15\", \"Sample 16\", \"Sample 99\", \"Sample 13\", \"Sample 97\", \"Sample 98\", \"Sample 2\", \"Sample 101\", \"Sample 103\", \"Sample 4\"], \"xaxis\": \"x\", \"y\": [205940.0, 24359.0, 758.0, 97672.0, 123576.0, 30221.0, 227037.0, 430463.0, 84610.0, 600418.0, 748.0, 263554.0, 467.0, 235829.0], \"yaxis\": \"y\"}, {\"alignmentgroup\": \"True\", \"hovertemplate\": \"Organism=Vicinamibacteria<br>Sample=%{x}<br>Read Count=%{y}<extra></extra>\", \"legendgroup\": \"Vicinamibacteria\", \"marker\": {\"color\": \"#19d3f3\"}, \"name\": \"Vicinamibacteria\", \"offsetgroup\": \"Vicinamibacteria\", \"orientation\": \"v\", \"showlegend\": true, \"textposition\": \"auto\", \"type\": \"bar\", \"x\": [\"Sample 14\", \"Sample 3\", \"Sample 1\", \"Sample 100\", \"Sample 15\", \"Sample 16\", \"Sample 99\", \"Sample 13\", \"Sample 97\", \"Sample 98\", \"Sample 2\", \"Sample 101\", \"Sample 103\", \"Sample 4\"], \"xaxis\": \"x\", \"y\": [4.0, null, 1.0, null, null, null, null, 2.0, null, null, null, 2.0, null, null], \"yaxis\": \"y\"}, {\"alignmentgroup\": \"True\", \"hovertemplate\": \"Organism=Zetaproteobacteria<br>Sample=%{x}<br>Read Count=%{y}<extra></extra>\", \"legendgroup\": \"Zetaproteobacteria\", \"marker\": {\"color\": \"#FF6692\"}, \"name\": \"Zetaproteobacteria\", \"offsetgroup\": \"Zetaproteobacteria\", \"orientation\": \"v\", \"showlegend\": true, \"textposition\": \"auto\", \"type\": \"bar\", \"x\": [\"Sample 14\", \"Sample 3\", \"Sample 1\", \"Sample 100\", \"Sample 15\", \"Sample 16\", \"Sample 99\", \"Sample 13\", \"Sample 97\", \"Sample 98\", \"Sample 2\", \"Sample 101\", \"Sample 103\", \"Sample 4\"], \"xaxis\": \"x\", \"y\": [14.0, 2.0, null, 2.0, 1.0, 1.0, 3.0, 4.0, 4.0, 1.0, 3.0, null, 2.0, null], \"yaxis\": \"y\"}, {\"alignmentgroup\": \"True\", \"hovertemplate\": \"Organism=candidate division Zixibacteria<br>Sample=%{x}<br>Read Count=%{y}<extra></extra>\", \"legendgroup\": \"candidate division Zixibacteria\", \"marker\": {\"color\": \"#B6E880\"}, \"name\": \"candidate division Zixibacteria\", \"offsetgroup\": \"candidate division Zixibacteria\", \"orientation\": \"v\", \"showlegend\": true, \"textposition\": \"auto\", \"type\": \"bar\", \"x\": [\"Sample 14\", \"Sample 3\", \"Sample 1\", \"Sample 100\", \"Sample 15\", \"Sample 16\", \"Sample 99\", \"Sample 13\", \"Sample 97\", \"Sample 98\", \"Sample 2\", \"Sample 101\", \"Sample 103\", \"Sample 4\"], \"xaxis\": \"x\", \"y\": [null, null, null, 1.0, null, null, 2.0, null, null, null, null, null, null, null], \"yaxis\": \"y\"}, {\"alignmentgroup\": \"True\", \"hovertemplate\": \"Organism=delta/epsilon subdivisions<br>Sample=%{x}<br>Read Count=%{y}<extra></extra>\", \"legendgroup\": \"delta/epsilon subdivisions\", \"marker\": {\"color\": \"#FF97FF\"}, \"name\": \"delta/epsilon subdivisions\", \"offsetgroup\": \"delta/epsilon subdivisions\", \"orientation\": \"v\", \"showlegend\": true, \"textposition\": \"auto\", \"type\": \"bar\", \"x\": [\"Sample 14\", \"Sample 3\", \"Sample 1\", \"Sample 100\", \"Sample 15\", \"Sample 16\", \"Sample 99\", \"Sample 13\", \"Sample 97\", \"Sample 98\", \"Sample 2\", \"Sample 101\", \"Sample 103\", \"Sample 4\"], \"xaxis\": \"x\", \"y\": [134665.0, 38333.0, 14169.0, 65773.0, 41488.0, 122619.0, 169800.0, 48812.0, 152470.0, 114366.0, 8356.0, 51004.0, 5082.0, 100008.0], \"yaxis\": \"y\"}, {\"alignmentgroup\": \"True\", \"hovertemplate\": \"Organism=unclassified Acidobacteria<br>Sample=%{x}<br>Read Count=%{y}<extra></extra>\", \"legendgroup\": \"unclassified Acidobacteria\", \"marker\": {\"color\": \"#FECB52\"}, \"name\": \"unclassified Acidobacteria\", \"offsetgroup\": \"unclassified Acidobacteria\", \"orientation\": \"v\", \"showlegend\": true, \"textposition\": \"auto\", \"type\": \"bar\", \"x\": [\"Sample 14\", \"Sample 3\", \"Sample 1\", \"Sample 100\", \"Sample 15\", \"Sample 16\", \"Sample 99\", \"Sample 13\", \"Sample 97\", \"Sample 98\", \"Sample 2\", \"Sample 101\", \"Sample 103\", \"Sample 4\"], \"xaxis\": \"x\", \"y\": [null, null, null, 2.0, null, 1.0, 2.0, null, null, null, 2.0, null, 3.0, null], \"yaxis\": \"y\"}, {\"alignmentgroup\": \"True\", \"hovertemplate\": \"Organism=unclassified Bacteria (miscellaneous)<br>Sample=%{x}<br>Read Count=%{y}<extra></extra>\", \"legendgroup\": \"unclassified Bacteria (miscellaneous)\", \"marker\": {\"color\": \"#636efa\"}, \"name\": \"unclassified Bacteria (miscellaneous)\", \"offsetgroup\": \"unclassified Bacteria (miscellaneous)\", \"orientation\": \"v\", \"showlegend\": true, \"textposition\": \"auto\", \"type\": \"bar\", \"x\": [\"Sample 14\", \"Sample 3\", \"Sample 1\", \"Sample 100\", \"Sample 15\", \"Sample 16\", \"Sample 99\", \"Sample 13\", \"Sample 97\", \"Sample 98\", \"Sample 2\", \"Sample 101\", \"Sample 103\", \"Sample 4\"], \"xaxis\": \"x\", \"y\": [1537.0, 1262.0, 705.0, 5942.0, 1191.0, 999.0, 4739.0, 1745.0, 835.0, 978.0, 789.0, 3553.0, 522.0, 1679.0], \"yaxis\": \"y\"}, {\"alignmentgroup\": \"True\", \"hovertemplate\": \"Organism=unclassified Nitrospirae<br>Sample=%{x}<br>Read Count=%{y}<extra></extra>\", \"legendgroup\": \"unclassified Nitrospirae\", \"marker\": {\"color\": \"#EF553B\"}, \"name\": \"unclassified Nitrospirae\", \"offsetgroup\": \"unclassified Nitrospirae\", \"orientation\": \"v\", \"showlegend\": true, \"textposition\": \"auto\", \"type\": \"bar\", \"x\": [\"Sample 14\", \"Sample 3\", \"Sample 1\", \"Sample 100\", \"Sample 15\", \"Sample 16\", \"Sample 99\", \"Sample 13\", \"Sample 97\", \"Sample 98\", \"Sample 2\", \"Sample 101\", \"Sample 103\", \"Sample 4\"], \"xaxis\": \"x\", \"y\": [null, null, null, 1.0, null, null, 2.0, 1.0, 1.0, null, null, null, null, null], \"yaxis\": \"y\"}, {\"alignmentgroup\": \"True\", \"hovertemplate\": \"Organism=unclassified Proteobacteria<br>Sample=%{x}<br>Read Count=%{y}<extra></extra>\", \"legendgroup\": \"unclassified Proteobacteria\", \"marker\": {\"color\": \"#00cc96\"}, \"name\": \"unclassified Proteobacteria\", \"offsetgroup\": \"unclassified Proteobacteria\", \"orientation\": \"v\", \"showlegend\": true, \"textposition\": \"auto\", \"type\": \"bar\", \"x\": [\"Sample 14\", \"Sample 3\", \"Sample 1\", \"Sample 100\", \"Sample 15\", \"Sample 16\", \"Sample 99\", \"Sample 13\", \"Sample 97\", \"Sample 98\", \"Sample 2\", \"Sample 101\", \"Sample 103\", \"Sample 4\"], \"xaxis\": \"x\", \"y\": [1.0, null, 1.0, null, null, null, 1.0, null, null, null, null, 1.0, null, null], \"yaxis\": \"y\"}, {\"alignmentgroup\": \"True\", \"hovertemplate\": \"Organism=unclassified Terrabacteria group<br>Sample=%{x}<br>Read Count=%{y}<extra></extra>\", \"legendgroup\": \"unclassified Terrabacteria group\", \"marker\": {\"color\": \"#ab63fa\"}, \"name\": \"unclassified Terrabacteria group\", \"offsetgroup\": \"unclassified Terrabacteria group\", \"orientation\": \"v\", \"showlegend\": true, \"textposition\": \"auto\", \"type\": \"bar\", \"x\": [\"Sample 14\", \"Sample 3\", \"Sample 1\", \"Sample 100\", \"Sample 15\", \"Sample 16\", \"Sample 99\", \"Sample 13\", \"Sample 97\", \"Sample 98\", \"Sample 2\", \"Sample 101\", \"Sample 103\", \"Sample 4\"], \"xaxis\": \"x\", \"y\": [1.0, null, null, null, null, 2.0, 3.0, null, null, null, 4.0, null, null, 2.0], \"yaxis\": \"y\"}, {\"alignmentgroup\": \"True\", \"hovertemplate\": \"Organism=uncultured bacterium<br>Sample=%{x}<br>Read Count=%{y}<extra></extra>\", \"legendgroup\": \"uncultured bacterium\", \"marker\": {\"color\": \"#FFA15A\"}, \"name\": \"uncultured bacterium\", \"offsetgroup\": \"uncultured bacterium\", \"orientation\": \"v\", \"showlegend\": true, \"textposition\": \"auto\", \"type\": \"bar\", \"x\": [\"Sample 14\", \"Sample 3\", \"Sample 1\", \"Sample 100\", \"Sample 15\", \"Sample 16\", \"Sample 99\", \"Sample 13\", \"Sample 97\", \"Sample 98\", \"Sample 2\", \"Sample 101\", \"Sample 103\", \"Sample 4\"], \"xaxis\": \"x\", \"y\": [2.0, 1.0, 1.0, null, 1.0, 1.0, 1.0, 2.0, 1.0, 4.0, 2.0, 3.0, null, null], \"yaxis\": \"y\"}, {\"alignmentgroup\": \"True\", \"hovertemplate\": \"Organism=uncultured bacterium IN-02<br>Sample=%{x}<br>Read Count=%{y}<extra></extra>\", \"legendgroup\": \"uncultured bacterium IN-02\", \"marker\": {\"color\": \"#19d3f3\"}, \"name\": \"uncultured bacterium IN-02\", \"offsetgroup\": \"uncultured bacterium IN-02\", \"orientation\": \"v\", \"showlegend\": true, \"textposition\": \"auto\", \"type\": \"bar\", \"x\": [\"Sample 14\", \"Sample 3\", \"Sample 1\", \"Sample 100\", \"Sample 15\", \"Sample 16\", \"Sample 99\", \"Sample 13\", \"Sample 97\", \"Sample 98\", \"Sample 2\", \"Sample 101\", \"Sample 103\", \"Sample 4\"], \"xaxis\": \"x\", \"y\": [null, null, null, null, null, null, null, 1.0, null, null, null, null, null, null], \"yaxis\": \"y\"}, {\"alignmentgroup\": \"True\", \"hovertemplate\": \"Organism=other<br>Sample=%{x}<br>Read Count=%{y}<extra></extra>\", \"legendgroup\": \"other\", \"marker\": {\"color\": \"#FF6692\"}, \"name\": \"other\", \"offsetgroup\": \"other\", \"orientation\": \"v\", \"showlegend\": true, \"textposition\": \"auto\", \"type\": \"bar\", \"x\": [\"Sample 14\", \"Sample 3\", \"Sample 1\", \"Sample 100\", \"Sample 15\", \"Sample 16\", \"Sample 99\", \"Sample 13\", \"Sample 97\", \"Sample 98\", \"Sample 2\", \"Sample 101\", \"Sample 103\", \"Sample 4\"], \"xaxis\": \"x\", \"y\": [0.0, 0.0, 0.0, 0.0, 0.0, 0.0, 0.0, 0.0, 0.0, 0.0, 0.0, 0.0, 0.0, 0.0], \"yaxis\": \"y\"}],\n",
       "                        {\"barmode\": \"relative\", \"legend\": {\"title\": {\"text\": \"Organism\"}, \"tracegroupgap\": 0}, \"margin\": {\"t\": 60}, \"showlegend\": false, \"template\": {\"data\": {\"bar\": [{\"error_x\": {\"color\": \"#2a3f5f\"}, \"error_y\": {\"color\": \"#2a3f5f\"}, \"marker\": {\"line\": {\"color\": \"#E5ECF6\", \"width\": 0.5}}, \"type\": \"bar\"}], \"barpolar\": [{\"marker\": {\"line\": {\"color\": \"#E5ECF6\", \"width\": 0.5}}, \"type\": \"barpolar\"}], \"carpet\": [{\"aaxis\": {\"endlinecolor\": \"#2a3f5f\", \"gridcolor\": \"white\", \"linecolor\": \"white\", \"minorgridcolor\": \"white\", \"startlinecolor\": \"#2a3f5f\"}, \"baxis\": {\"endlinecolor\": \"#2a3f5f\", \"gridcolor\": \"white\", \"linecolor\": \"white\", \"minorgridcolor\": \"white\", \"startlinecolor\": \"#2a3f5f\"}, \"type\": \"carpet\"}], \"choropleth\": [{\"colorbar\": {\"outlinewidth\": 0, \"ticks\": \"\"}, \"type\": \"choropleth\"}], \"contour\": [{\"colorbar\": {\"outlinewidth\": 0, \"ticks\": \"\"}, \"colorscale\": [[0.0, \"#0d0887\"], [0.1111111111111111, \"#46039f\"], [0.2222222222222222, \"#7201a8\"], [0.3333333333333333, \"#9c179e\"], [0.4444444444444444, \"#bd3786\"], [0.5555555555555556, \"#d8576b\"], [0.6666666666666666, \"#ed7953\"], [0.7777777777777778, \"#fb9f3a\"], [0.8888888888888888, \"#fdca26\"], [1.0, \"#f0f921\"]], \"type\": \"contour\"}], \"contourcarpet\": [{\"colorbar\": {\"outlinewidth\": 0, \"ticks\": \"\"}, \"type\": \"contourcarpet\"}], \"heatmap\": [{\"colorbar\": {\"outlinewidth\": 0, \"ticks\": \"\"}, \"colorscale\": [[0.0, \"#0d0887\"], [0.1111111111111111, \"#46039f\"], [0.2222222222222222, \"#7201a8\"], [0.3333333333333333, \"#9c179e\"], [0.4444444444444444, \"#bd3786\"], [0.5555555555555556, \"#d8576b\"], [0.6666666666666666, \"#ed7953\"], [0.7777777777777778, \"#fb9f3a\"], [0.8888888888888888, \"#fdca26\"], [1.0, \"#f0f921\"]], \"type\": \"heatmap\"}], \"heatmapgl\": [{\"colorbar\": {\"outlinewidth\": 0, \"ticks\": \"\"}, \"colorscale\": [[0.0, \"#0d0887\"], [0.1111111111111111, \"#46039f\"], [0.2222222222222222, \"#7201a8\"], [0.3333333333333333, \"#9c179e\"], [0.4444444444444444, \"#bd3786\"], [0.5555555555555556, \"#d8576b\"], [0.6666666666666666, \"#ed7953\"], [0.7777777777777778, \"#fb9f3a\"], [0.8888888888888888, \"#fdca26\"], [1.0, \"#f0f921\"]], \"type\": \"heatmapgl\"}], \"histogram\": [{\"marker\": {\"colorbar\": {\"outlinewidth\": 0, \"ticks\": \"\"}}, \"type\": \"histogram\"}], \"histogram2d\": [{\"colorbar\": {\"outlinewidth\": 0, \"ticks\": \"\"}, \"colorscale\": [[0.0, \"#0d0887\"], [0.1111111111111111, \"#46039f\"], [0.2222222222222222, \"#7201a8\"], [0.3333333333333333, \"#9c179e\"], [0.4444444444444444, \"#bd3786\"], [0.5555555555555556, \"#d8576b\"], [0.6666666666666666, \"#ed7953\"], [0.7777777777777778, \"#fb9f3a\"], [0.8888888888888888, \"#fdca26\"], [1.0, \"#f0f921\"]], \"type\": \"histogram2d\"}], \"histogram2dcontour\": [{\"colorbar\": {\"outlinewidth\": 0, \"ticks\": \"\"}, \"colorscale\": [[0.0, \"#0d0887\"], [0.1111111111111111, \"#46039f\"], [0.2222222222222222, \"#7201a8\"], [0.3333333333333333, \"#9c179e\"], [0.4444444444444444, \"#bd3786\"], [0.5555555555555556, \"#d8576b\"], [0.6666666666666666, \"#ed7953\"], [0.7777777777777778, \"#fb9f3a\"], [0.8888888888888888, \"#fdca26\"], [1.0, \"#f0f921\"]], \"type\": \"histogram2dcontour\"}], \"mesh3d\": [{\"colorbar\": {\"outlinewidth\": 0, \"ticks\": \"\"}, \"type\": \"mesh3d\"}], \"parcoords\": [{\"line\": {\"colorbar\": {\"outlinewidth\": 0, \"ticks\": \"\"}}, \"type\": \"parcoords\"}], \"pie\": [{\"automargin\": true, \"type\": \"pie\"}], \"scatter\": [{\"marker\": {\"colorbar\": {\"outlinewidth\": 0, \"ticks\": \"\"}}, \"type\": \"scatter\"}], \"scatter3d\": [{\"line\": {\"colorbar\": {\"outlinewidth\": 0, \"ticks\": \"\"}}, \"marker\": {\"colorbar\": {\"outlinewidth\": 0, \"ticks\": \"\"}}, \"type\": \"scatter3d\"}], \"scattercarpet\": [{\"marker\": {\"colorbar\": {\"outlinewidth\": 0, \"ticks\": \"\"}}, \"type\": \"scattercarpet\"}], \"scattergeo\": [{\"marker\": {\"colorbar\": {\"outlinewidth\": 0, \"ticks\": \"\"}}, \"type\": \"scattergeo\"}], \"scattergl\": [{\"marker\": {\"colorbar\": {\"outlinewidth\": 0, \"ticks\": \"\"}}, \"type\": \"scattergl\"}], \"scattermapbox\": [{\"marker\": {\"colorbar\": {\"outlinewidth\": 0, \"ticks\": \"\"}}, \"type\": \"scattermapbox\"}], \"scatterpolar\": [{\"marker\": {\"colorbar\": {\"outlinewidth\": 0, \"ticks\": \"\"}}, \"type\": \"scatterpolar\"}], \"scatterpolargl\": [{\"marker\": {\"colorbar\": {\"outlinewidth\": 0, \"ticks\": \"\"}}, \"type\": \"scatterpolargl\"}], \"scatterternary\": [{\"marker\": {\"colorbar\": {\"outlinewidth\": 0, \"ticks\": \"\"}}, \"type\": \"scatterternary\"}], \"surface\": [{\"colorbar\": {\"outlinewidth\": 0, \"ticks\": \"\"}, \"colorscale\": [[0.0, \"#0d0887\"], [0.1111111111111111, \"#46039f\"], [0.2222222222222222, \"#7201a8\"], [0.3333333333333333, \"#9c179e\"], [0.4444444444444444, \"#bd3786\"], [0.5555555555555556, \"#d8576b\"], [0.6666666666666666, \"#ed7953\"], [0.7777777777777778, \"#fb9f3a\"], [0.8888888888888888, \"#fdca26\"], [1.0, \"#f0f921\"]], \"type\": \"surface\"}], \"table\": [{\"cells\": {\"fill\": {\"color\": \"#EBF0F8\"}, \"line\": {\"color\": \"white\"}}, \"header\": {\"fill\": {\"color\": \"#C8D4E3\"}, \"line\": {\"color\": \"white\"}}, \"type\": \"table\"}]}, \"layout\": {\"annotationdefaults\": {\"arrowcolor\": \"#2a3f5f\", \"arrowhead\": 0, \"arrowwidth\": 1}, \"coloraxis\": {\"colorbar\": {\"outlinewidth\": 0, \"ticks\": \"\"}}, \"colorscale\": {\"diverging\": [[0, \"#8e0152\"], [0.1, \"#c51b7d\"], [0.2, \"#de77ae\"], [0.3, \"#f1b6da\"], [0.4, \"#fde0ef\"], [0.5, \"#f7f7f7\"], [0.6, \"#e6f5d0\"], [0.7, \"#b8e186\"], [0.8, \"#7fbc41\"], [0.9, \"#4d9221\"], [1, \"#276419\"]], \"sequential\": [[0.0, \"#0d0887\"], [0.1111111111111111, \"#46039f\"], [0.2222222222222222, \"#7201a8\"], [0.3333333333333333, \"#9c179e\"], [0.4444444444444444, \"#bd3786\"], [0.5555555555555556, \"#d8576b\"], [0.6666666666666666, \"#ed7953\"], [0.7777777777777778, \"#fb9f3a\"], [0.8888888888888888, \"#fdca26\"], [1.0, \"#f0f921\"]], \"sequentialminus\": [[0.0, \"#0d0887\"], [0.1111111111111111, \"#46039f\"], [0.2222222222222222, \"#7201a8\"], [0.3333333333333333, \"#9c179e\"], [0.4444444444444444, \"#bd3786\"], [0.5555555555555556, \"#d8576b\"], [0.6666666666666666, \"#ed7953\"], [0.7777777777777778, \"#fb9f3a\"], [0.8888888888888888, \"#fdca26\"], [1.0, \"#f0f921\"]]}, \"colorway\": [\"#636efa\", \"#EF553B\", \"#00cc96\", \"#ab63fa\", \"#FFA15A\", \"#19d3f3\", \"#FF6692\", \"#B6E880\", \"#FF97FF\", \"#FECB52\"], \"font\": {\"color\": \"#2a3f5f\"}, \"geo\": {\"bgcolor\": \"white\", \"lakecolor\": \"white\", \"landcolor\": \"#E5ECF6\", \"showlakes\": true, \"showland\": true, \"subunitcolor\": \"white\"}, \"hoverlabel\": {\"align\": \"left\"}, \"hovermode\": \"closest\", \"mapbox\": {\"style\": \"light\"}, \"paper_bgcolor\": \"white\", \"plot_bgcolor\": \"#E5ECF6\", \"polar\": {\"angularaxis\": {\"gridcolor\": \"white\", \"linecolor\": \"white\", \"ticks\": \"\"}, \"bgcolor\": \"#E5ECF6\", \"radialaxis\": {\"gridcolor\": \"white\", \"linecolor\": \"white\", \"ticks\": \"\"}}, \"scene\": {\"xaxis\": {\"backgroundcolor\": \"#E5ECF6\", \"gridcolor\": \"white\", \"gridwidth\": 2, \"linecolor\": \"white\", \"showbackground\": true, \"ticks\": \"\", \"zerolinecolor\": \"white\"}, \"yaxis\": {\"backgroundcolor\": \"#E5ECF6\", \"gridcolor\": \"white\", \"gridwidth\": 2, \"linecolor\": \"white\", \"showbackground\": true, \"ticks\": \"\", \"zerolinecolor\": \"white\"}, \"zaxis\": {\"backgroundcolor\": \"#E5ECF6\", \"gridcolor\": \"white\", \"gridwidth\": 2, \"linecolor\": \"white\", \"showbackground\": true, \"ticks\": \"\", \"zerolinecolor\": \"white\"}}, \"shapedefaults\": {\"line\": {\"color\": \"#2a3f5f\"}}, \"ternary\": {\"aaxis\": {\"gridcolor\": \"white\", \"linecolor\": \"white\", \"ticks\": \"\"}, \"baxis\": {\"gridcolor\": \"white\", \"linecolor\": \"white\", \"ticks\": \"\"}, \"bgcolor\": \"#E5ECF6\", \"caxis\": {\"gridcolor\": \"white\", \"linecolor\": \"white\", \"ticks\": \"\"}}, \"title\": {\"x\": 0.05}, \"xaxis\": {\"automargin\": true, \"gridcolor\": \"white\", \"linecolor\": \"white\", \"ticks\": \"\", \"title\": {\"standoff\": 15}, \"zerolinecolor\": \"white\", \"zerolinewidth\": 2}, \"yaxis\": {\"automargin\": true, \"gridcolor\": \"white\", \"linecolor\": \"white\", \"ticks\": \"\", \"title\": {\"standoff\": 15}, \"zerolinecolor\": \"white\", \"zerolinewidth\": 2}}}, \"xaxis\": {\"anchor\": \"y\", \"domain\": [0.0, 1.0], \"title\": {\"text\": \"Sample\"}}, \"yaxis\": {\"anchor\": \"x\", \"domain\": [0.0, 1.0], \"title\": {\"text\": \"Read Count\"}}},\n",
       "                        {\"responsive\": true}\n",
       "                    ).then(function(){\n",
       "                            \n",
       "var gd = document.getElementById('627da433-bf11-4984-87fa-2c0e1bf7805e');\n",
       "var x = new MutationObserver(function (mutations, observer) {{\n",
       "        var display = window.getComputedStyle(gd).display;\n",
       "        if (!display || display === 'none') {{\n",
       "            console.log([gd, 'removed!']);\n",
       "            Plotly.purge(gd);\n",
       "            observer.disconnect();\n",
       "        }}\n",
       "}});\n",
       "\n",
       "// Listen for the removal of the full notebook cells\n",
       "var notebookContainer = gd.closest('#notebook-container');\n",
       "if (notebookContainer) {{\n",
       "    x.observe(notebookContainer, {childList: true});\n",
       "}}\n",
       "\n",
       "// Listen for the clearing of the current output cell\n",
       "var outputEl = gd.closest('.output');\n",
       "if (outputEl) {{\n",
       "    x.observe(outputEl, {childList: true});\n",
       "}}\n",
       "\n",
       "                        })\n",
       "                };\n",
       "                });\n",
       "            </script>\n",
       "        </div>"
      ]
     },
     "metadata": {},
     "output_type": "display_data"
    }
   ],
   "source": [
    "fig = px.bar(df, x=\"Sample\", y=\"Read Count\", color='Organism')\n",
    "fig.update_layout(showlegend=False)\n",
    "fig.write_html(\"kraken2.html\")\n",
    "fig.show()\n"
   ]
  },
  {
   "cell_type": "code",
   "execution_count": null,
   "metadata": {},
   "outputs": [],
   "source": [
    "\n"
   ]
  },
  {
   "cell_type": "code",
   "execution_count": null,
   "metadata": {},
   "outputs": [],
   "source": []
  }
 ],
 "metadata": {
  "kernelspec": {
   "display_name": "Python 3",
   "language": "python",
   "name": "python3"
  },
  "language_info": {
   "codemirror_mode": {
    "name": "ipython",
    "version": 3
   },
   "file_extension": ".py",
   "mimetype": "text/x-python",
   "name": "python",
   "nbconvert_exporter": "python",
   "pygments_lexer": "ipython3",
   "version": "3.7.6"
  }
 },
 "nbformat": 4,
 "nbformat_minor": 4
}
